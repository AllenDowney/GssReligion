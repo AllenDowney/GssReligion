{
 "metadata": {
  "name": "",
  "signature": "sha256:66eb66379e5a22f1b468e32e4ae4f5a54e4be04442d4a5329cef61c24e6f51f1"
 },
 "nbformat": 3,
 "nbformat_minor": 0,
 "worksheets": [
  {
   "cells": [
    {
     "cell_type": "code",
     "collapsed": false,
     "input": [
      "import pandas\n",
      "import numpy as np\n",
      "\n",
      "ages = np.arange(10, 15)\n",
      "zeros = np.zeros_like(ages)\n",
      "observed = pandas.Series(zeros, index=ages, dtype='int')\n",
      "\n",
      "observed"
     ],
     "language": "python",
     "metadata": {},
     "outputs": [
      {
       "metadata": {},
       "output_type": "pyout",
       "prompt_number": 11,
       "text": [
        "10    0\n",
        "11    0\n",
        "12    0\n",
        "13    0\n",
        "14    0\n",
        "dtype: int64"
       ]
      }
     ],
     "prompt_number": 11
    },
    {
     "cell_type": "code",
     "collapsed": false,
     "input": [
      "observed[10] = 1\n",
      "observed"
     ],
     "language": "python",
     "metadata": {},
     "outputs": [
      {
       "metadata": {},
       "output_type": "pyout",
       "prompt_number": 12,
       "text": [
        "10    1\n",
        "11    0\n",
        "12    0\n",
        "13    0\n",
        "14    0\n",
        "dtype: int64"
       ]
      }
     ],
     "prompt_number": 12
    },
    {
     "cell_type": "code",
     "collapsed": false,
     "input": [
      "observed.loc[11] = 1\n",
      "observed"
     ],
     "language": "python",
     "metadata": {},
     "outputs": [
      {
       "metadata": {},
       "output_type": "pyout",
       "prompt_number": 13,
       "text": [
        "10    1\n",
        "11    1\n",
        "12    0\n",
        "13    0\n",
        "14    0\n",
        "dtype: int64"
       ]
      }
     ],
     "prompt_number": 13
    },
    {
     "cell_type": "code",
     "collapsed": false,
     "input": [
      "observed[12:13] = 1\n",
      "observed"
     ],
     "language": "python",
     "metadata": {},
     "outputs": [
      {
       "metadata": {},
       "output_type": "pyout",
       "prompt_number": 15,
       "text": [
        "10    1\n",
        "11    1\n",
        "12    0\n",
        "13    0\n",
        "14    0\n",
        "dtype: int64"
       ]
      }
     ],
     "prompt_number": 15
    },
    {
     "cell_type": "code",
     "collapsed": false,
     "input": [
      "observed.loc[12:13] = 1\n",
      "observed"
     ],
     "language": "python",
     "metadata": {},
     "outputs": [
      {
       "metadata": {},
       "output_type": "pyout",
       "prompt_number": 16,
       "text": [
        "10    1\n",
        "11    1\n",
        "12    1\n",
        "13    1\n",
        "14    0\n",
        "dtype: int64"
       ]
      }
     ],
     "prompt_number": 16
    },
    {
     "cell_type": "code",
     "collapsed": false,
     "input": [
      "observed.loc[[12,13]] = 2\n",
      "observed"
     ],
     "language": "python",
     "metadata": {},
     "outputs": [
      {
       "metadata": {},
       "output_type": "pyout",
       "prompt_number": 19,
       "text": [
        "10    1\n",
        "11    1\n",
        "12    2\n",
        "13    2\n",
        "14    0\n",
        "dtype: int64"
       ]
      }
     ],
     "prompt_number": 19
    },
    {
     "cell_type": "code",
     "collapsed": false,
     "input": [],
     "language": "python",
     "metadata": {},
     "outputs": []
    }
   ],
   "metadata": {}
  }
 ]
}