{
 "cells": [
  {
   "cell_type": "code",
   "execution_count": 1,
   "metadata": {
    "collapsed": true
   },
   "outputs": [],
   "source": [
    "import pandas as pd"
   ]
  },
  {
   "cell_type": "code",
   "execution_count": 2,
   "metadata": {
    "collapsed": false
   },
   "outputs": [],
   "source": [
    "df = pd.read_stata('Add Health, Public Use In-Home Data, Wave IV.DTA')"
   ]
  },
  {
   "cell_type": "code",
   "execution_count": 3,
   "metadata": {
    "collapsed": false
   },
   "outputs": [
    {
     "data": {
      "text/plain": [
       "(5114, 920)"
      ]
     },
     "execution_count": 3,
     "metadata": {},
     "output_type": "execute_result"
    }
   ],
   "source": [
    "df.shape"
   ]
  },
  {
   "cell_type": "code",
   "execution_count": 4,
   "metadata": {
    "collapsed": false
   },
   "outputs": [
    {
     "data": {
      "text/plain": [
       "Index([u'aid', u'IMONTH4', u'IDAY4', u'IYEAR4', u'BIO_SEX4', u'VERSION4',\n",
       "       u'BREAK_Q', u'PRYEAR4', u'PRETEST4', u'PRISON4',\n",
       "       ...\n",
       "       u'H4EO5C', u'H4EO5D', u'H4EO5E', u'H4EO5F', u'H4EO5G', u'H4EO5H',\n",
       "       u'H4EO5I', u'H4EO5J', u'H4EO6', u'H4EO7'],\n",
       "      dtype='object', length=920)"
      ]
     },
     "execution_count": 4,
     "metadata": {},
     "output_type": "execute_result"
    }
   ],
   "source": [
    "df.columns"
   ]
  },
  {
   "cell_type": "code",
   "execution_count": 5,
   "metadata": {
    "collapsed": false
   },
   "outputs": [
    {
     "data": {
      "text/plain": [
       "Female    2761\n",
       "Male      2353\n",
       "Name: sex, dtype: int64"
      ]
     },
     "execution_count": 5,
     "metadata": {},
     "output_type": "execute_result"
    }
   ],
   "source": [
    "df['sex'] = df.BIO_SEX4\n",
    "df.sex.value_counts()"
   ]
  },
  {
   "cell_type": "code",
   "execution_count": 6,
   "metadata": {
    "collapsed": false
   },
   "outputs": [
    {
     "data": {
      "text/plain": [
       "1979    914\n",
       "1978    887\n",
       "1980    884\n",
       "1977    875\n",
       "1981    724\n",
       "1982    464\n",
       "1976    307\n",
       "1975     45\n",
       "1983      7\n",
       "1974      7\n",
       "Name: yob, dtype: int64"
      ]
     },
     "execution_count": 6,
     "metadata": {},
     "output_type": "execute_result"
    }
   ],
   "source": [
    "df['yob'] = df.H4OD1Y\n",
    "df.yob.value_counts()"
   ]
  },
  {
   "cell_type": "code",
   "execution_count": 7,
   "metadata": {
    "collapsed": false
   },
   "outputs": [
    {
     "data": {
      "text/plain": [
       "White                               3671\n",
       "Black or African American           1240\n",
       "Asian or Pacific Islander            157\n",
       "American Indian or Alaska Native      41\n",
       "Name: race, dtype: int64"
      ]
     },
     "execution_count": 7,
     "metadata": {},
     "output_type": "execute_result"
    }
   ],
   "source": [
    "df['race'] = df.H4IR4\n",
    "df.race.value_counts()"
   ]
  },
  {
   "cell_type": "code",
   "execution_count": 8,
   "metadata": {
    "collapsed": false
   },
   "outputs": [
    {
     "data": {
      "text/plain": [
       "Three to five friends    2319\n",
       "One or two friends       1121\n",
       "Six to nine friends       861\n",
       "10 or more friends        620\n",
       "None                      145\n",
       "Not asked on pretest       46\n",
       "Don't know                  1\n",
       "Refused                     1\n",
       "Name: friends, dtype: int64"
      ]
     },
     "execution_count": 8,
     "metadata": {},
     "output_type": "execute_result"
    }
   ],
   "source": [
    "df['friends'] = df.H4WS4\n",
    "df.friends.value_counts()"
   ]
  },
  {
   "cell_type": "code",
   "execution_count": 9,
   "metadata": {
    "collapsed": false
   },
   "outputs": [
    {
     "data": {
      "text/plain": [
       "Protestant (such as Assemblies of God, Baptist, Lutheran, Methodist, Presbyterian, etc.)    1675\n",
       "Other Christian                                                                             1128\n",
       "None/atheist/agnostic                                                                        962\n",
       "Catholic                                                                                     925\n",
       "Other                                                                                        330\n",
       "Jewish                                                                                        34\n",
       "Buddhist                                                                                      24\n",
       "Muslim                                                                                        14\n",
       "Refused                                                                                       11\n",
       "Don't know                                                                                     7\n",
       "Hindu                                                                                          4\n",
       "Name: religion, dtype: int64"
      ]
     },
     "execution_count": 9,
     "metadata": {},
     "output_type": "execute_result"
    }
   ],
   "source": [
    "df['religion'] = df.H4RE1\n",
    "df.religion.value_counts()"
   ]
  },
  {
   "cell_type": "code",
   "execution_count": 10,
   "metadata": {
    "collapsed": false
   },
   "outputs": [
    {
     "data": {
      "text/plain": [
       "False    4152\n",
       "True      962\n",
       "Name: NONE, dtype: int64"
      ]
     },
     "execution_count": 10,
     "metadata": {},
     "output_type": "execute_result"
    }
   ],
   "source": [
    "df['NONE'] = df.religion == 'None/atheist/agnostic'\n",
    "df.NONE.value_counts()"
   ]
  },
  {
   "cell_type": "code",
   "execution_count": 11,
   "metadata": {
    "collapsed": false
   },
   "outputs": [
    {
     "data": {
      "text/plain": [
       "A few times                   1626\n",
       "Never                         1509\n",
       "Two or three times a month     649\n",
       "Once a week                    575\n",
       "Once a month                   404\n",
       "More than once a week          349\n",
       "Don't know                       2\n",
       "Name: attend, dtype: int64"
      ]
     },
     "execution_count": 11,
     "metadata": {},
     "output_type": "execute_result"
    }
   ],
   "source": [
    "df['attend'] = df.H4RE7\n",
    "df.attend.value_counts()"
   ]
  },
  {
   "cell_type": "code",
   "execution_count": 12,
   "metadata": {
    "collapsed": false
   },
   "outputs": [
    {
     "data": {
      "text/plain": [
       "False    3605\n",
       "True     1509\n",
       "Name: NOATTEND, dtype: int64"
      ]
     },
     "execution_count": 12,
     "metadata": {},
     "output_type": "execute_result"
    }
   ],
   "source": [
    "df['NOATTEND'] = df.attend == 'Never'\n",
    "df.NOATTEND.value_counts()"
   ]
  },
  {
   "cell_type": "code",
   "execution_count": 13,
   "metadata": {
    "collapsed": false
   },
   "outputs": [
    {
     "data": {
      "text/plain": [
       "Very important                       2255\n",
       "Somewhat important                   1438\n",
       "Not important                         764\n",
       "More important than anything else     642\n",
       "Refused                                 9\n",
       "Don't know                              6\n",
       "Name: relimp, dtype: int64"
      ]
     },
     "execution_count": 13,
     "metadata": {},
     "output_type": "execute_result"
    }
   ],
   "source": [
    "df['relimp'] = df.H4RE9\n",
    "df.relimp.value_counts()"
   ]
  },
  {
   "cell_type": "code",
   "execution_count": null,
   "metadata": {
    "collapsed": true
   },
   "outputs": [],
   "source": []
  },
  {
   "cell_type": "code",
   "execution_count": 14,
   "metadata": {
    "collapsed": false
   },
   "outputs": [
    {
     "data": {
      "text/plain": [
       "Very often    1359\n",
       "Never         1066\n",
       "Often         1020\n",
       "Sometimes      994\n",
       "Seldom         660\n",
       "Refused         12\n",
       "Don't know       3\n",
       "Name: relturn, dtype: int64"
      ]
     },
     "execution_count": 14,
     "metadata": {},
     "output_type": "execute_result"
    }
   ],
   "source": [
    "df['relturn'] = df.H4RE11\n",
    "df.relturn.value_counts()"
   ]
  },
  {
   "cell_type": "code",
   "execution_count": null,
   "metadata": {
    "collapsed": true
   },
   "outputs": [],
   "source": []
  },
  {
   "cell_type": "code",
   "execution_count": 15,
   "metadata": {
    "collapsed": false
   },
   "outputs": [
    {
     "data": {
      "text/plain": [
       "Legitimate skip    4223\n",
       "Yes                 721\n",
       "No                  160\n",
       "Don't know           10\n",
       "Name: opioid, dtype: int64"
      ]
     },
     "execution_count": 15,
     "metadata": {},
     "output_type": "execute_result"
    }
   ],
   "source": [
    "df['opioid'] = df.H4TO64D\n",
    "df.opioid.value_counts()"
   ]
  },
  {
   "cell_type": "code",
   "execution_count": 16,
   "metadata": {
    "collapsed": false
   },
   "outputs": [
    {
     "data": {
      "text/plain": [
       "0    4393\n",
       "1     721\n",
       "Name: OPIOID, dtype: int64"
      ]
     },
     "execution_count": 16,
     "metadata": {},
     "output_type": "execute_result"
    }
   ],
   "source": [
    "df['OPIOID'] = (df.opioid == 'Yes').astype(int)\n",
    "df.OPIOID.value_counts()"
   ]
  },
  {
   "cell_type": "code",
   "execution_count": 17,
   "metadata": {
    "collapsed": false
   },
   "outputs": [
    {
     "data": {
      "text/plain": [
       "Yes           2778\n",
       "No            2300\n",
       "Refused         26\n",
       "Don't know      10\n",
       "Name: everpot, dtype: int64"
      ]
     },
     "execution_count": 17,
     "metadata": {},
     "output_type": "execute_result"
    }
   ],
   "source": [
    "df['everpot'] = df.H4TO65B\n",
    "df.everpot.value_counts()"
   ]
  },
  {
   "cell_type": "code",
   "execution_count": 18,
   "metadata": {
    "collapsed": false
   },
   "outputs": [
    {
     "data": {
      "text/plain": [
       "No            4629\n",
       "Yes            459\n",
       "Refused         19\n",
       "Don't know       7\n",
       "Name: evermeth, dtype: int64"
      ]
     },
     "execution_count": 18,
     "metadata": {},
     "output_type": "execute_result"
    }
   ],
   "source": [
    "df['evermeth'] = df.H4TO65D\n",
    "df.evermeth.value_counts()"
   ]
  },
  {
   "cell_type": "code",
   "execution_count": 19,
   "metadata": {
    "collapsed": true
   },
   "outputs": [],
   "source": [
    "import statsmodels.formula.api as smf\n"
   ]
  },
  {
   "cell_type": "code",
   "execution_count": 20,
   "metadata": {
    "collapsed": false
   },
   "outputs": [
    {
     "name": "stdout",
     "output_type": "stream",
     "text": [
      "Optimization terminated successfully.\n",
      "         Current function value: 0.384921\n",
      "         Iterations 8\n"
     ]
    },
    {
     "data": {
      "text/html": [
       "<table class=\"simpletable\">\n",
       "<caption>Logit Regression Results</caption>\n",
       "<tr>\n",
       "  <th>Dep. Variable:</th>      <td>OPIOID</td>      <th>  No. Observations:  </th>  <td>  5109</td>  \n",
       "</tr>\n",
       "<tr>\n",
       "  <th>Model:</th>               <td>Logit</td>      <th>  Df Residuals:      </th>  <td>  5102</td>  \n",
       "</tr>\n",
       "<tr>\n",
       "  <th>Method:</th>               <td>MLE</td>       <th>  Df Model:          </th>  <td>     6</td>  \n",
       "</tr>\n",
       "<tr>\n",
       "  <th>Date:</th>          <td>Sun, 29 Oct 2017</td> <th>  Pseudo R-squ.:     </th>  <td>0.05424</td> \n",
       "</tr>\n",
       "<tr>\n",
       "  <th>Time:</th>              <td>16:26:45</td>     <th>  Log-Likelihood:    </th> <td> -1966.6</td> \n",
       "</tr>\n",
       "<tr>\n",
       "  <th>converged:</th>           <td>True</td>       <th>  LL-Null:           </th> <td> -2079.4</td> \n",
       "</tr>\n",
       "<tr>\n",
       "  <th> </th>                      <td> </td>        <th>  LLR p-value:       </th> <td>6.727e-46</td>\n",
       "</tr>\n",
       "</table>\n",
       "<table class=\"simpletable\">\n",
       "<tr>\n",
       "                       <td></td>                          <th>coef</th>     <th>std err</th>      <th>z</th>      <th>P>|z|</th>  <th>[0.025</th>    <th>0.975]</th>  \n",
       "</tr>\n",
       "<tr>\n",
       "  <th>Intercept</th>                                   <td> -177.9935</td> <td>   46.146</td> <td>   -3.857</td> <td> 0.000</td> <td> -268.438</td> <td>  -87.548</td>\n",
       "</tr>\n",
       "<tr>\n",
       "  <th>NONE[T.True]</th>                                <td>    0.6083</td> <td>    0.092</td> <td>    6.594</td> <td> 0.000</td> <td>    0.427</td> <td>    0.789</td>\n",
       "</tr>\n",
       "<tr>\n",
       "  <th>sex[T.Female]</th>                               <td>   -0.4567</td> <td>    0.083</td> <td>   -5.508</td> <td> 0.000</td> <td>   -0.619</td> <td>   -0.294</td>\n",
       "</tr>\n",
       "<tr>\n",
       "  <th>C(race)[T.Black or African American]</th>        <td>   -1.2267</td> <td>    0.135</td> <td>   -9.086</td> <td> 0.000</td> <td>   -1.491</td> <td>   -0.962</td>\n",
       "</tr>\n",
       "<tr>\n",
       "  <th>C(race)[T.American Indian or Alaska Native]</th> <td>   -0.6886</td> <td>    0.533</td> <td>   -1.292</td> <td> 0.196</td> <td>   -1.733</td> <td>    0.356</td>\n",
       "</tr>\n",
       "<tr>\n",
       "  <th>C(race)[T.Asian or Pacific Islander]</th>        <td>   -0.6940</td> <td>    0.277</td> <td>   -2.505</td> <td> 0.012</td> <td>   -1.237</td> <td>   -0.151</td>\n",
       "</tr>\n",
       "<tr>\n",
       "  <th>yob</th>                                         <td>    0.0892</td> <td>    0.023</td> <td>    3.825</td> <td> 0.000</td> <td>    0.043</td> <td>    0.135</td>\n",
       "</tr>\n",
       "</table>"
      ],
      "text/plain": [
       "<class 'statsmodels.iolib.summary.Summary'>\n",
       "\"\"\"\n",
       "                           Logit Regression Results                           \n",
       "==============================================================================\n",
       "Dep. Variable:                 OPIOID   No. Observations:                 5109\n",
       "Model:                          Logit   Df Residuals:                     5102\n",
       "Method:                           MLE   Df Model:                            6\n",
       "Date:                Sun, 29 Oct 2017   Pseudo R-squ.:                 0.05424\n",
       "Time:                        16:26:45   Log-Likelihood:                -1966.6\n",
       "converged:                       True   LL-Null:                       -2079.4\n",
       "                                        LLR p-value:                 6.727e-46\n",
       "===============================================================================================================\n",
       "                                                  coef    std err          z      P>|z|      [0.025      0.975]\n",
       "---------------------------------------------------------------------------------------------------------------\n",
       "Intercept                                    -177.9935     46.146     -3.857      0.000    -268.438     -87.548\n",
       "NONE[T.True]                                    0.6083      0.092      6.594      0.000       0.427       0.789\n",
       "sex[T.Female]                                  -0.4567      0.083     -5.508      0.000      -0.619      -0.294\n",
       "C(race)[T.Black or African American]           -1.2267      0.135     -9.086      0.000      -1.491      -0.962\n",
       "C(race)[T.American Indian or Alaska Native]    -0.6886      0.533     -1.292      0.196      -1.733       0.356\n",
       "C(race)[T.Asian or Pacific Islander]           -0.6940      0.277     -2.505      0.012      -1.237      -0.151\n",
       "yob                                             0.0892      0.023      3.825      0.000       0.043       0.135\n",
       "===============================================================================================================\n",
       "\"\"\""
      ]
     },
     "execution_count": 20,
     "metadata": {},
     "output_type": "execute_result"
    }
   ],
   "source": [
    "formula = 'OPIOID ~ NONE + sex + yob + C(race)'\n",
    "model1 = smf.logit(formula=formula, data=df).fit()\n",
    "model1.summary()"
   ]
  },
  {
   "cell_type": "code",
   "execution_count": 21,
   "metadata": {
    "collapsed": false
   },
   "outputs": [
    {
     "data": {
      "text/plain": [
       "0    0.195919\n",
       "dtype: float64"
      ]
     },
     "execution_count": 21,
     "metadata": {},
     "output_type": "execute_result"
    }
   ],
   "source": [
    "new = pd.DataFrame(dict(NONE=False, sex='Male', race='White', yob=1980), index=[0])\n",
    "model1.predict(new)"
   ]
  },
  {
   "cell_type": "code",
   "execution_count": 22,
   "metadata": {
    "collapsed": false
   },
   "outputs": [
    {
     "data": {
      "text/plain": [
       "0    0.309228\n",
       "dtype: float64"
      ]
     },
     "execution_count": 22,
     "metadata": {},
     "output_type": "execute_result"
    }
   ],
   "source": [
    "new = pd.DataFrame(dict(NONE=True, sex='Male', race='White', yob=1980), index=[0])\n",
    "model1.predict(new)"
   ]
  },
  {
   "cell_type": "code",
   "execution_count": 23,
   "metadata": {
    "collapsed": false
   },
   "outputs": [
    {
     "name": "stdout",
     "output_type": "stream",
     "text": [
      "Optimization terminated successfully.\n",
      "         Current function value: 0.382800\n",
      "         Iterations 8\n"
     ]
    },
    {
     "data": {
      "text/html": [
       "<table class=\"simpletable\">\n",
       "<caption>Logit Regression Results</caption>\n",
       "<tr>\n",
       "  <th>Dep. Variable:</th>      <td>OPIOID</td>      <th>  No. Observations:  </th>  <td>  5109</td>  \n",
       "</tr>\n",
       "<tr>\n",
       "  <th>Model:</th>               <td>Logit</td>      <th>  Df Residuals:      </th>  <td>  5102</td>  \n",
       "</tr>\n",
       "<tr>\n",
       "  <th>Method:</th>               <td>MLE</td>       <th>  Df Model:          </th>  <td>     6</td>  \n",
       "</tr>\n",
       "<tr>\n",
       "  <th>Date:</th>          <td>Sun, 29 Oct 2017</td> <th>  Pseudo R-squ.:     </th>  <td>0.05945</td> \n",
       "</tr>\n",
       "<tr>\n",
       "  <th>Time:</th>              <td>16:26:45</td>     <th>  Log-Likelihood:    </th> <td> -1955.7</td> \n",
       "</tr>\n",
       "<tr>\n",
       "  <th>converged:</th>           <td>True</td>       <th>  LL-Null:           </th> <td> -2079.4</td> \n",
       "</tr>\n",
       "<tr>\n",
       "  <th> </th>                      <td> </td>        <th>  LLR p-value:       </th> <td>1.585e-50</td>\n",
       "</tr>\n",
       "</table>\n",
       "<table class=\"simpletable\">\n",
       "<tr>\n",
       "                       <td></td>                          <th>coef</th>     <th>std err</th>      <th>z</th>      <th>P>|z|</th>  <th>[0.025</th>    <th>0.975]</th>  \n",
       "</tr>\n",
       "<tr>\n",
       "  <th>Intercept</th>                                   <td> -179.2643</td> <td>   46.179</td> <td>   -3.882</td> <td> 0.000</td> <td> -269.773</td> <td>  -88.756</td>\n",
       "</tr>\n",
       "<tr>\n",
       "  <th>NOATTEND[T.True]</th>                            <td>    0.6747</td> <td>    0.084</td> <td>    8.022</td> <td> 0.000</td> <td>    0.510</td> <td>    0.840</td>\n",
       "</tr>\n",
       "<tr>\n",
       "  <th>sex[T.Female]</th>                               <td>   -0.4359</td> <td>    0.083</td> <td>   -5.240</td> <td> 0.000</td> <td>   -0.599</td> <td>   -0.273</td>\n",
       "</tr>\n",
       "<tr>\n",
       "  <th>C(race)[T.Black or African American]</th>        <td>   -1.1845</td> <td>    0.135</td> <td>   -8.745</td> <td> 0.000</td> <td>   -1.450</td> <td>   -0.919</td>\n",
       "</tr>\n",
       "<tr>\n",
       "  <th>C(race)[T.American Indian or Alaska Native]</th> <td>   -0.6151</td> <td>    0.532</td> <td>   -1.157</td> <td> 0.247</td> <td>   -1.657</td> <td>    0.427</td>\n",
       "</tr>\n",
       "<tr>\n",
       "  <th>C(race)[T.Asian or Pacific Islander]</th>        <td>   -0.6677</td> <td>    0.277</td> <td>   -2.407</td> <td> 0.016</td> <td>   -1.211</td> <td>   -0.124</td>\n",
       "</tr>\n",
       "<tr>\n",
       "  <th>yob</th>                                         <td>    0.0898</td> <td>    0.023</td> <td>    3.847</td> <td> 0.000</td> <td>    0.044</td> <td>    0.135</td>\n",
       "</tr>\n",
       "</table>"
      ],
      "text/plain": [
       "<class 'statsmodels.iolib.summary.Summary'>\n",
       "\"\"\"\n",
       "                           Logit Regression Results                           \n",
       "==============================================================================\n",
       "Dep. Variable:                 OPIOID   No. Observations:                 5109\n",
       "Model:                          Logit   Df Residuals:                     5102\n",
       "Method:                           MLE   Df Model:                            6\n",
       "Date:                Sun, 29 Oct 2017   Pseudo R-squ.:                 0.05945\n",
       "Time:                        16:26:45   Log-Likelihood:                -1955.7\n",
       "converged:                       True   LL-Null:                       -2079.4\n",
       "                                        LLR p-value:                 1.585e-50\n",
       "===============================================================================================================\n",
       "                                                  coef    std err          z      P>|z|      [0.025      0.975]\n",
       "---------------------------------------------------------------------------------------------------------------\n",
       "Intercept                                    -179.2643     46.179     -3.882      0.000    -269.773     -88.756\n",
       "NOATTEND[T.True]                                0.6747      0.084      8.022      0.000       0.510       0.840\n",
       "sex[T.Female]                                  -0.4359      0.083     -5.240      0.000      -0.599      -0.273\n",
       "C(race)[T.Black or African American]           -1.1845      0.135     -8.745      0.000      -1.450      -0.919\n",
       "C(race)[T.American Indian or Alaska Native]    -0.6151      0.532     -1.157      0.247      -1.657       0.427\n",
       "C(race)[T.Asian or Pacific Islander]           -0.6677      0.277     -2.407      0.016      -1.211      -0.124\n",
       "yob                                             0.0898      0.023      3.847      0.000       0.044       0.135\n",
       "===============================================================================================================\n",
       "\"\"\""
      ]
     },
     "execution_count": 23,
     "metadata": {},
     "output_type": "execute_result"
    }
   ],
   "source": [
    "formula = 'OPIOID ~ NOATTEND + sex + yob + C(race)'\n",
    "model2 = smf.logit(formula=formula, data=df).fit()\n",
    "model2.summary()"
   ]
  },
  {
   "cell_type": "code",
   "execution_count": 24,
   "metadata": {
    "collapsed": false
   },
   "outputs": [
    {
     "data": {
      "text/plain": [
       "0    0.177728\n",
       "dtype: float64"
      ]
     },
     "execution_count": 24,
     "metadata": {},
     "output_type": "execute_result"
    }
   ],
   "source": [
    "new = pd.DataFrame(dict(NOATTEND=False, sex='Male', race='White', yob=1980), index=[0])\n",
    "model2.predict(new)"
   ]
  },
  {
   "cell_type": "code",
   "execution_count": 25,
   "metadata": {
    "collapsed": false
   },
   "outputs": [
    {
     "data": {
      "text/plain": [
       "0    0.297949\n",
       "dtype: float64"
      ]
     },
     "execution_count": 25,
     "metadata": {},
     "output_type": "execute_result"
    }
   ],
   "source": [
    "new = pd.DataFrame(dict(NOATTEND=True, sex='Male', race='White', yob=1980), index=[0])\n",
    "model2.predict(new)"
   ]
  },
  {
   "cell_type": "code",
   "execution_count": null,
   "metadata": {
    "collapsed": true
   },
   "outputs": [],
   "source": []
  }
 ],
 "metadata": {
  "kernelspec": {
   "display_name": "Python 2",
   "language": "python",
   "name": "python2"
  },
  "language_info": {
   "codemirror_mode": {
    "name": "ipython",
    "version": 2
   },
   "file_extension": ".py",
   "mimetype": "text/x-python",
   "name": "python",
   "nbconvert_exporter": "python",
   "pygments_lexer": "ipython2",
   "version": "2.7.13"
  }
 },
 "nbformat": 4,
 "nbformat_minor": 0
}
