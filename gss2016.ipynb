{
 "cells": [
  {
   "cell_type": "code",
   "execution_count": 38,
   "metadata": {
    "collapsed": false
   },
   "outputs": [],
   "source": [
    "from __future__ import print_function, division\n",
    "\n",
    "%matplotlib inline\n",
    "\n",
    "import pandas as pd\n",
    "import numpy as np\n",
    "\n",
    "import thinkstats2\n",
    "import thinkplot\n",
    "\n",
    "import statsmodels.formula.api as smf\n",
    "import matplotlib.pyplot as plt\n",
    "\n",
    "import seaborn as sns"
   ]
  },
  {
   "cell_type": "code",
   "execution_count": 3,
   "metadata": {
    "collapsed": false
   },
   "outputs": [
    {
     "name": "stdout",
     "output_type": "stream",
     "text": [
      "(24350, 38)\n"
     ]
    },
    {
     "data": {
      "text/html": [
       "<div>\n",
       "<table border=\"1\" class=\"dataframe\">\n",
       "  <thead>\n",
       "    <tr style=\"text-align: right;\">\n",
       "      <th></th>\n",
       "      <th>year</th>\n",
       "      <th>compuse</th>\n",
       "      <th>webmob</th>\n",
       "      <th>emailmin</th>\n",
       "      <th>emailhr</th>\n",
       "      <th>usewww</th>\n",
       "      <th>wwwhr</th>\n",
       "      <th>wwwmin</th>\n",
       "      <th>intrhome</th>\n",
       "      <th>parelkid</th>\n",
       "      <th>...</th>\n",
       "      <th>srcbelt</th>\n",
       "      <th>relig</th>\n",
       "      <th>denom</th>\n",
       "      <th>fund</th>\n",
       "      <th>relig16</th>\n",
       "      <th>denom16</th>\n",
       "      <th>fund16</th>\n",
       "      <th>sprel</th>\n",
       "      <th>bible</th>\n",
       "      <th>relactiv1</th>\n",
       "    </tr>\n",
       "  </thead>\n",
       "  <tbody>\n",
       "    <tr>\n",
       "      <th>0</th>\n",
       "      <td>2000</td>\n",
       "      <td>1</td>\n",
       "      <td>0</td>\n",
       "      <td>0</td>\n",
       "      <td>2</td>\n",
       "      <td>1</td>\n",
       "      <td>5</td>\n",
       "      <td>0</td>\n",
       "      <td>0</td>\n",
       "      <td>0</td>\n",
       "      <td>...</td>\n",
       "      <td>3</td>\n",
       "      <td>1</td>\n",
       "      <td>14</td>\n",
       "      <td>1</td>\n",
       "      <td>1</td>\n",
       "      <td>14</td>\n",
       "      <td>1</td>\n",
       "      <td>0</td>\n",
       "      <td>2</td>\n",
       "      <td>0</td>\n",
       "    </tr>\n",
       "    <tr>\n",
       "      <th>1</th>\n",
       "      <td>2000</td>\n",
       "      <td>1</td>\n",
       "      <td>0</td>\n",
       "      <td>0</td>\n",
       "      <td>0</td>\n",
       "      <td>2</td>\n",
       "      <td>-1</td>\n",
       "      <td>-1</td>\n",
       "      <td>0</td>\n",
       "      <td>0</td>\n",
       "      <td>...</td>\n",
       "      <td>3</td>\n",
       "      <td>1</td>\n",
       "      <td>18</td>\n",
       "      <td>1</td>\n",
       "      <td>2</td>\n",
       "      <td>0</td>\n",
       "      <td>2</td>\n",
       "      <td>0</td>\n",
       "      <td>0</td>\n",
       "      <td>0</td>\n",
       "    </tr>\n",
       "    <tr>\n",
       "      <th>2</th>\n",
       "      <td>2000</td>\n",
       "      <td>2</td>\n",
       "      <td>0</td>\n",
       "      <td>-1</td>\n",
       "      <td>-1</td>\n",
       "      <td>0</td>\n",
       "      <td>-1</td>\n",
       "      <td>-1</td>\n",
       "      <td>0</td>\n",
       "      <td>0</td>\n",
       "      <td>...</td>\n",
       "      <td>3</td>\n",
       "      <td>1</td>\n",
       "      <td>70</td>\n",
       "      <td>2</td>\n",
       "      <td>4</td>\n",
       "      <td>0</td>\n",
       "      <td>3</td>\n",
       "      <td>0</td>\n",
       "      <td>9</td>\n",
       "      <td>0</td>\n",
       "    </tr>\n",
       "    <tr>\n",
       "      <th>3</th>\n",
       "      <td>2000</td>\n",
       "      <td>1</td>\n",
       "      <td>0</td>\n",
       "      <td>0</td>\n",
       "      <td>3</td>\n",
       "      <td>1</td>\n",
       "      <td>2</td>\n",
       "      <td>0</td>\n",
       "      <td>0</td>\n",
       "      <td>0</td>\n",
       "      <td>...</td>\n",
       "      <td>3</td>\n",
       "      <td>10</td>\n",
       "      <td>0</td>\n",
       "      <td>9</td>\n",
       "      <td>1</td>\n",
       "      <td>14</td>\n",
       "      <td>1</td>\n",
       "      <td>0</td>\n",
       "      <td>2</td>\n",
       "      <td>0</td>\n",
       "    </tr>\n",
       "    <tr>\n",
       "      <th>4</th>\n",
       "      <td>2000</td>\n",
       "      <td>1</td>\n",
       "      <td>0</td>\n",
       "      <td>0</td>\n",
       "      <td>15</td>\n",
       "      <td>1</td>\n",
       "      <td>1</td>\n",
       "      <td>0</td>\n",
       "      <td>0</td>\n",
       "      <td>0</td>\n",
       "      <td>...</td>\n",
       "      <td>3</td>\n",
       "      <td>4</td>\n",
       "      <td>0</td>\n",
       "      <td>3</td>\n",
       "      <td>4</td>\n",
       "      <td>0</td>\n",
       "      <td>3</td>\n",
       "      <td>0</td>\n",
       "      <td>3</td>\n",
       "      <td>0</td>\n",
       "    </tr>\n",
       "  </tbody>\n",
       "</table>\n",
       "<p>5 rows × 38 columns</p>\n",
       "</div>"
      ],
      "text/plain": [
       "   year  compuse  webmob  emailmin  emailhr  usewww  wwwhr  wwwmin  intrhome  \\\n",
       "0  2000        1       0         0        2       1      5       0         0   \n",
       "1  2000        1       0         0        0       2     -1      -1         0   \n",
       "2  2000        2       0        -1       -1       0     -1      -1         0   \n",
       "3  2000        1       0         0        3       1      2       0         0   \n",
       "4  2000        1       0         0       15       1      1       0         0   \n",
       "\n",
       "   parelkid    ...      srcbelt  relig  denom  fund  relig16  denom16  fund16  \\\n",
       "0         0    ...            3      1     14     1        1       14       1   \n",
       "1         0    ...            3      1     18     1        2        0       2   \n",
       "2         0    ...            3      1     70     2        4        0       3   \n",
       "3         0    ...            3     10      0     9        1       14       1   \n",
       "4         0    ...            3      4      0     3        4        0       3   \n",
       "\n",
       "   sprel  bible  relactiv1  \n",
       "0      0      2          0  \n",
       "1      0      0          0  \n",
       "2      0      9          0  \n",
       "3      0      2          0  \n",
       "4      0      3          0  \n",
       "\n",
       "[5 rows x 38 columns]"
      ]
     },
     "execution_count": 3,
     "metadata": {},
     "output_type": "execute_result"
    }
   ],
   "source": [
    "dct = thinkstats2.ReadStataDct('gss_2000_2016/GSS.dct')\n",
    "df = dct.ReadFixedWidth('gss_2000_2016/GSS.dat')\n",
    "print(df.shape)\n",
    "df.head()"
   ]
  },
  {
   "cell_type": "code",
   "execution_count": 3,
   "metadata": {
    "collapsed": false,
    "scrolled": true
   },
   "outputs": [
    {
     "name": "stdout",
     "output_type": "stream",
     "text": [
      "year  god  compuse  webmob  emailmin  emailhr  usewww  wwwhr  wwwmin  intrhome  parelkid  hispanic  sei  cohort  ballot  wtssall  conclerg  bible  sprel  id_  age  educ  sex  race  res16  income  rincome  srcbelt  relig  denom  fund  relig16  denom16  fund16  sei10  "
     ]
    }
   ],
   "source": [
    "for colname in df.columns:\n",
    "    print(colname, end='  ')"
   ]
  },
  {
   "cell_type": "code",
   "execution_count": 4,
   "metadata": {
    "collapsed": false
   },
   "outputs": [],
   "source": [
    "def values(df, varname):\n",
    "    \"\"\"Values and counts in index order.\n",
    "    \n",
    "    df: DataFrame\n",
    "    varname: strign column name\n",
    "    \n",
    "    returns: Series that maps from value to frequency\n",
    "    \"\"\"\n",
    "    return df[varname].value_counts().sort_index()"
   ]
  },
  {
   "cell_type": "code",
   "execution_count": 5,
   "metadata": {
    "collapsed": false
   },
   "outputs": [
    {
     "data": {
      "text/plain": [
       "2000    2817\n",
       "2002    2765\n",
       "2004    2812\n",
       "2006    4510\n",
       "2008    2023\n",
       "2010    2044\n",
       "2012    1974\n",
       "2014    2538\n",
       "2016    2867\n",
       "Name: year, dtype: int64"
      ]
     },
     "execution_count": 5,
     "metadata": {},
     "output_type": "execute_result"
    }
   ],
   "source": [
    "values(df, 'year')"
   ]
  },
  {
   "cell_type": "code",
   "execution_count": 6,
   "metadata": {
    "collapsed": false
   },
   "outputs": [
    {
     "data": {
      "text/plain": [
       "-1    2023\n",
       "Name: wwwhr, dtype: int64"
      ]
     },
     "execution_count": 6,
     "metadata": {},
     "output_type": "execute_result"
    }
   ],
   "source": [
    "cycle = df[df.year==2008]\n",
    "values(cycle, 'wwwhr')"
   ]
  },
  {
   "cell_type": "code",
   "execution_count": 7,
   "metadata": {
    "collapsed": false
   },
   "outputs": [
    {
     "data": {
      "text/plain": [
       "-1      12726\n",
       " 0       1202\n",
       " 1       1517\n",
       " 2       1304\n",
       " 3        819\n",
       " 4        593\n",
       " 5        913\n",
       " 6        358\n",
       " 7        449\n",
       " 8        294\n",
       " 9         37\n",
       " 10       946\n",
       " 11        13\n",
       " 12       201\n",
       " 13        18\n",
       " 14       231\n",
       " 15       420\n",
       " 16        35\n",
       " 17        11\n",
       " 18        22\n",
       " 19         1\n",
       " 20       559\n",
       " 21        78\n",
       " 22         7\n",
       " 23         7\n",
       " 24        43\n",
       " 25       173\n",
       " 26         2\n",
       " 27         5\n",
       " 28        45\n",
       "        ...  \n",
       " 49         2\n",
       " 50        79\n",
       " 55         4\n",
       " 56         3\n",
       " 60        48\n",
       " 63         2\n",
       " 64         1\n",
       " 65         6\n",
       " 66         1\n",
       " 70        24\n",
       " 72         6\n",
       " 75         6\n",
       " 80        20\n",
       " 84         5\n",
       " 85         1\n",
       " 86         1\n",
       " 90         4\n",
       " 91         2\n",
       " 98         1\n",
       " 100       11\n",
       " 112        2\n",
       " 120        5\n",
       " 122        1\n",
       " 130        1\n",
       " 132        1\n",
       " 140        1\n",
       " 168        2\n",
       " 184        1\n",
       " 998       54\n",
       " 999      451\n",
       "Name: wwwhr, dtype: int64"
      ]
     },
     "execution_count": 7,
     "metadata": {},
     "output_type": "execute_result"
    }
   ],
   "source": [
    "values(df, 'wwwhr')"
   ]
  },
  {
   "cell_type": "code",
   "execution_count": 8,
   "metadata": {
    "collapsed": false
   },
   "outputs": [
    {
     "data": {
      "text/plain": [
       "(11624, 35)"
      ]
     },
     "execution_count": 8,
     "metadata": {},
     "output_type": "execute_result"
    }
   ],
   "source": [
    "asked = df[df.wwwhr != -1].copy()\n",
    "asked.shape"
   ]
  },
  {
   "cell_type": "code",
   "execution_count": 9,
   "metadata": {
    "collapsed": false
   },
   "outputs": [
    {
     "data": {
      "text/plain": [
       "2000    1054\n",
       "2002    1649\n",
       "2004    1834\n",
       "2006    2005\n",
       "2010    1056\n",
       "2012    1021\n",
       "2014    1412\n",
       "2016    1593\n",
       "Name: year, dtype: int64"
      ]
     },
     "execution_count": 9,
     "metadata": {},
     "output_type": "execute_result"
    }
   ],
   "source": [
    "values(asked, 'year')"
   ]
  },
  {
   "cell_type": "code",
   "execution_count": 10,
   "metadata": {
    "collapsed": false
   },
   "outputs": [],
   "source": [
    "def fill_missing(df, varname, badvals=[98, 99]):\n",
    "    \"\"\"Fill missing data with random values.\n",
    "    \n",
    "    df: DataFrame\n",
    "    varname: string column name\n",
    "    badvals: list of values to be replaced\n",
    "    \"\"\"\n",
    "    df[varname].replace(badvals, np.nan, inplace=True)\n",
    "    null = df[varname].isnull()\n",
    "    fill = np.random.choice(df[varname].dropna(), sum(null), replace=True)\n",
    "    df.loc[null, varname] = fill\n",
    "    return sum(null)"
   ]
  },
  {
   "cell_type": "code",
   "execution_count": 11,
   "metadata": {
    "collapsed": false
   },
   "outputs": [
    {
     "data": {
      "text/plain": [
       "1.0     5513\n",
       "2.0     2745\n",
       "3.0      231\n",
       "4.0     2244\n",
       "5.0      144\n",
       "6.0       99\n",
       "7.0       53\n",
       "8.0       22\n",
       "9.0       63\n",
       "10.0      48\n",
       "11.0     380\n",
       "12.0      13\n",
       "13.0      69\n",
       "Name: relig, dtype: int64"
      ]
     },
     "execution_count": 11,
     "metadata": {},
     "output_type": "execute_result"
    }
   ],
   "source": [
    "fill_missing(asked, 'relig')\n",
    "values(asked, 'relig')"
   ]
  },
  {
   "cell_type": "code",
   "execution_count": 12,
   "metadata": {
    "collapsed": false
   },
   "outputs": [
    {
     "data": {
      "text/plain": [
       "0    2234\n",
       "1    9390\n",
       "Name: has_relig, dtype: int64"
      ]
     },
     "execution_count": 12,
     "metadata": {},
     "output_type": "execute_result"
    }
   ],
   "source": [
    "asked['has_relig'] = (df.relig != 4).astype(int)\n",
    "values(asked, 'has_relig')"
   ]
  },
  {
   "cell_type": "code",
   "execution_count": 13,
   "metadata": {
    "collapsed": false
   },
   "outputs": [
    {
     "data": {
      "text/plain": [
       "505"
      ]
     },
     "execution_count": 13,
     "metadata": {},
     "output_type": "execute_result"
    }
   ],
   "source": [
    "fill_missing(asked, 'wwwhr', [998, 999])"
   ]
  },
  {
   "cell_type": "code",
   "execution_count": 14,
   "metadata": {
    "collapsed": false
   },
   "outputs": [
    {
     "data": {
      "image/png": "[encoded data removed]",
      "text/plain": [
       "<matplotlib.figure.Figure at 0x7fed40643750>"
      ]
     },
     "metadata": {},
     "output_type": "display_data"
    }
   ],
   "source": [
    "cdf = thinkstats2.Cdf(asked.wwwhr)\n",
    "thinkplot.Cdf(cdf)\n",
    "thinkplot.Config(xlabel='wwwhr')"
   ]
  },
  {
   "cell_type": "code",
   "execution_count": 15,
   "metadata": {
    "collapsed": false
   },
   "outputs": [
    {
     "data": {
      "text/plain": [
       "count    11624.000000\n",
       "mean         9.102632\n",
       "std         12.973578\n",
       "min          0.000000\n",
       "25%          2.000000\n",
       "50%          5.000000\n",
       "75%         10.000000\n",
       "max        184.000000\n",
       "Name: wwwhr, dtype: float64"
      ]
     },
     "execution_count": 15,
     "metadata": {},
     "output_type": "execute_result"
    }
   ],
   "source": [
    "asked.wwwhr.describe()"
   ]
  },
  {
   "cell_type": "code",
   "execution_count": 16,
   "metadata": {
    "collapsed": false
   },
   "outputs": [
    {
     "name": "stdout",
     "output_type": "stream",
     "text": [
      "Optimization terminated successfully.\n",
      "         Current function value: 0.484813\n",
      "         Iterations 5\n"
     ]
    },
    {
     "data": {
      "text/html": [
       "<table class=\"simpletable\">\n",
       "<caption>Logit Regression Results</caption>\n",
       "<tr>\n",
       "  <th>Dep. Variable:</th>     <td>has_relig</td>    <th>  No. Observations:  </th>  <td> 11624</td>  \n",
       "</tr>\n",
       "<tr>\n",
       "  <th>Model:</th>               <td>Logit</td>      <th>  Df Residuals:      </th>  <td> 11622</td>  \n",
       "</tr>\n",
       "<tr>\n",
       "  <th>Method:</th>               <td>MLE</td>       <th>  Df Model:          </th>  <td>     1</td>  \n",
       "</tr>\n",
       "<tr>\n",
       "  <th>Date:</th>          <td>Thu, 13 Apr 2017</td> <th>  Pseudo R-squ.:     </th> <td>0.009333</td> \n",
       "</tr>\n",
       "<tr>\n",
       "  <th>Time:</th>              <td>16:10:21</td>     <th>  Log-Likelihood:    </th> <td> -5635.5</td> \n",
       "</tr>\n",
       "<tr>\n",
       "  <th>converged:</th>           <td>True</td>       <th>  LL-Null:           </th> <td> -5688.6</td> \n",
       "</tr>\n",
       "<tr>\n",
       "  <th> </th>                      <td> </td>        <th>  LLR p-value:       </th> <td>6.722e-25</td>\n",
       "</tr>\n",
       "</table>\n",
       "<table class=\"simpletable\">\n",
       "<tr>\n",
       "      <td></td>         <th>coef</th>     <th>std err</th>      <th>z</th>      <th>P>|z|</th>  <th>[0.025</th>    <th>0.975]</th>  \n",
       "</tr>\n",
       "<tr>\n",
       "  <th>Intercept</th> <td>    1.6024</td> <td>    0.029</td> <td>   55.056</td> <td> 0.000</td> <td>    1.545</td> <td>    1.659</td>\n",
       "</tr>\n",
       "<tr>\n",
       "  <th>wwwhr</th>     <td>   -0.0168</td> <td>    0.002</td> <td>  -10.514</td> <td> 0.000</td> <td>   -0.020</td> <td>   -0.014</td>\n",
       "</tr>\n",
       "</table>"
      ],
      "text/plain": [
       "<class 'statsmodels.iolib.summary.Summary'>\n",
       "\"\"\"\n",
       "                           Logit Regression Results                           \n",
       "==============================================================================\n",
       "Dep. Variable:              has_relig   No. Observations:                11624\n",
       "Model:                          Logit   Df Residuals:                    11622\n",
       "Method:                           MLE   Df Model:                            1\n",
       "Date:                Thu, 13 Apr 2017   Pseudo R-squ.:                0.009333\n",
       "Time:                        16:10:21   Log-Likelihood:                -5635.5\n",
       "converged:                       True   LL-Null:                       -5688.6\n",
       "                                        LLR p-value:                 6.722e-25\n",
       "==============================================================================\n",
       "                 coef    std err          z      P>|z|      [0.025      0.975]\n",
       "------------------------------------------------------------------------------\n",
       "Intercept      1.6024      0.029     55.056      0.000       1.545       1.659\n",
       "wwwhr         -0.0168      0.002    -10.514      0.000      -0.020      -0.014\n",
       "==============================================================================\n",
       "\"\"\""
      ]
     },
     "execution_count": 16,
     "metadata": {},
     "output_type": "execute_result"
    }
   ],
   "source": [
    "results = smf.logit('has_relig ~ wwwhr', data=asked).fit()\n",
    "results.summary()"
   ]
  },
  {
   "cell_type": "code",
   "execution_count": 17,
   "metadata": {
    "collapsed": true
   },
   "outputs": [],
   "source": [
    "asked['www50'] = asked.wwwhr >= 5\n",
    "asked['www75'] = asked.wwwhr >= 10"
   ]
  },
  {
   "cell_type": "code",
   "execution_count": 18,
   "metadata": {
    "collapsed": false
   },
   "outputs": [
    {
     "name": "stdout",
     "output_type": "stream",
     "text": [
      "Optimization terminated successfully.\n",
      "         Current function value: 0.485126\n",
      "         Iterations 6\n"
     ]
    },
    {
     "data": {
      "text/html": [
       "<table class=\"simpletable\">\n",
       "<caption>Logit Regression Results</caption>\n",
       "<tr>\n",
       "  <th>Dep. Variable:</th>     <td>has_relig</td>    <th>  No. Observations:  </th>  <td> 11624</td>  \n",
       "</tr>\n",
       "<tr>\n",
       "  <th>Model:</th>               <td>Logit</td>      <th>  Df Residuals:      </th>  <td> 11622</td>  \n",
       "</tr>\n",
       "<tr>\n",
       "  <th>Method:</th>               <td>MLE</td>       <th>  Df Model:          </th>  <td>     1</td>  \n",
       "</tr>\n",
       "<tr>\n",
       "  <th>Date:</th>          <td>Thu, 13 Apr 2017</td> <th>  Pseudo R-squ.:     </th> <td>0.008694</td> \n",
       "</tr>\n",
       "<tr>\n",
       "  <th>Time:</th>              <td>16:10:21</td>     <th>  Log-Likelihood:    </th> <td> -5639.1</td> \n",
       "</tr>\n",
       "<tr>\n",
       "  <th>converged:</th>           <td>True</td>       <th>  LL-Null:           </th> <td> -5688.6</td> \n",
       "</tr>\n",
       "<tr>\n",
       "  <th> </th>                      <td> </td>        <th>  LLR p-value:       </th> <td>2.640e-23</td>\n",
       "</tr>\n",
       "</table>\n",
       "<table class=\"simpletable\">\n",
       "<tr>\n",
       "        <td></td>           <th>coef</th>     <th>std err</th>      <th>z</th>      <th>P>|z|</th>  <th>[0.025</th>    <th>0.975]</th>  \n",
       "</tr>\n",
       "<tr>\n",
       "  <th>Intercept</th>     <td>    1.6949</td> <td>    0.037</td> <td>   46.241</td> <td> 0.000</td> <td>    1.623</td> <td>    1.767</td>\n",
       "</tr>\n",
       "<tr>\n",
       "  <th>www50[T.True]</th> <td>   -0.4729</td> <td>    0.048</td> <td>   -9.860</td> <td> 0.000</td> <td>   -0.567</td> <td>   -0.379</td>\n",
       "</tr>\n",
       "</table>"
      ],
      "text/plain": [
       "<class 'statsmodels.iolib.summary.Summary'>\n",
       "\"\"\"\n",
       "                           Logit Regression Results                           \n",
       "==============================================================================\n",
       "Dep. Variable:              has_relig   No. Observations:                11624\n",
       "Model:                          Logit   Df Residuals:                    11622\n",
       "Method:                           MLE   Df Model:                            1\n",
       "Date:                Thu, 13 Apr 2017   Pseudo R-squ.:                0.008694\n",
       "Time:                        16:10:21   Log-Likelihood:                -5639.1\n",
       "converged:                       True   LL-Null:                       -5688.6\n",
       "                                        LLR p-value:                 2.640e-23\n",
       "=================================================================================\n",
       "                    coef    std err          z      P>|z|      [0.025      0.975]\n",
       "---------------------------------------------------------------------------------\n",
       "Intercept         1.6949      0.037     46.241      0.000       1.623       1.767\n",
       "www50[T.True]    -0.4729      0.048     -9.860      0.000      -0.567      -0.379\n",
       "=================================================================================\n",
       "\"\"\""
      ]
     },
     "execution_count": 18,
     "metadata": {},
     "output_type": "execute_result"
    }
   ],
   "source": [
    "results = smf.logit('has_relig ~ www50', data=asked).fit()\n",
    "results.summary()"
   ]
  },
  {
   "cell_type": "code",
   "execution_count": 19,
   "metadata": {
    "collapsed": false
   },
   "outputs": [
    {
     "name": "stdout",
     "output_type": "stream",
     "text": [
      "Optimization terminated successfully.\n",
      "         Current function value: 0.484782\n",
      "         Iterations 6\n"
     ]
    },
    {
     "data": {
      "text/html": [
       "<table class=\"simpletable\">\n",
       "<caption>Logit Regression Results</caption>\n",
       "<tr>\n",
       "  <th>Dep. Variable:</th>     <td>has_relig</td>    <th>  No. Observations:  </th>  <td> 11624</td>  \n",
       "</tr>\n",
       "<tr>\n",
       "  <th>Model:</th>               <td>Logit</td>      <th>  Df Residuals:      </th>  <td> 11621</td>  \n",
       "</tr>\n",
       "<tr>\n",
       "  <th>Method:</th>               <td>MLE</td>       <th>  Df Model:          </th>  <td>     2</td>  \n",
       "</tr>\n",
       "<tr>\n",
       "  <th>Date:</th>          <td>Thu, 13 Apr 2017</td> <th>  Pseudo R-squ.:     </th> <td>0.009398</td> \n",
       "</tr>\n",
       "<tr>\n",
       "  <th>Time:</th>              <td>16:10:22</td>     <th>  Log-Likelihood:    </th> <td> -5635.1</td> \n",
       "</tr>\n",
       "<tr>\n",
       "  <th>converged:</th>           <td>True</td>       <th>  LL-Null:           </th> <td> -5688.6</td> \n",
       "</tr>\n",
       "<tr>\n",
       "  <th> </th>                      <td> </td>        <th>  LLR p-value:       </th> <td>6.049e-24</td>\n",
       "</tr>\n",
       "</table>\n",
       "<table class=\"simpletable\">\n",
       "<tr>\n",
       "        <td></td>           <th>coef</th>     <th>std err</th>      <th>z</th>      <th>P>|z|</th>  <th>[0.025</th>    <th>0.975]</th>  \n",
       "</tr>\n",
       "<tr>\n",
       "  <th>Intercept</th>     <td>    1.6949</td> <td>    0.037</td> <td>   46.241</td> <td> 0.000</td> <td>    1.623</td> <td>    1.767</td>\n",
       "</tr>\n",
       "<tr>\n",
       "  <th>www50[T.True]</th> <td>   -0.3529</td> <td>    0.065</td> <td>   -5.456</td> <td> 0.000</td> <td>   -0.480</td> <td>   -0.226</td>\n",
       "</tr>\n",
       "<tr>\n",
       "  <th>www75[T.True]</th> <td>   -0.1843</td> <td>    0.065</td> <td>   -2.814</td> <td> 0.005</td> <td>   -0.313</td> <td>   -0.056</td>\n",
       "</tr>\n",
       "</table>"
      ],
      "text/plain": [
       "<class 'statsmodels.iolib.summary.Summary'>\n",
       "\"\"\"\n",
       "                           Logit Regression Results                           \n",
       "==============================================================================\n",
       "Dep. Variable:              has_relig   No. Observations:                11624\n",
       "Model:                          Logit   Df Residuals:                    11621\n",
       "Method:                           MLE   Df Model:                            2\n",
       "Date:                Thu, 13 Apr 2017   Pseudo R-squ.:                0.009398\n",
       "Time:                        16:10:22   Log-Likelihood:                -5635.1\n",
       "converged:                       True   LL-Null:                       -5688.6\n",
       "                                        LLR p-value:                 6.049e-24\n",
       "=================================================================================\n",
       "                    coef    std err          z      P>|z|      [0.025      0.975]\n",
       "---------------------------------------------------------------------------------\n",
       "Intercept         1.6949      0.037     46.241      0.000       1.623       1.767\n",
       "www50[T.True]    -0.3529      0.065     -5.456      0.000      -0.480      -0.226\n",
       "www75[T.True]    -0.1843      0.065     -2.814      0.005      -0.313      -0.056\n",
       "=================================================================================\n",
       "\"\"\""
      ]
     },
     "execution_count": 19,
     "metadata": {},
     "output_type": "execute_result"
    }
   ],
   "source": [
    "results = smf.logit('has_relig ~ www50 + www75', data=asked).fit()\n",
    "results.summary()"
   ]
  },
  {
   "cell_type": "code",
   "execution_count": 20,
   "metadata": {
    "collapsed": false
   },
   "outputs": [
    {
     "data": {
      "text/plain": [
       "1    5271\n",
       "2    6353\n",
       "Name: sex, dtype: int64"
      ]
     },
     "execution_count": 20,
     "metadata": {},
     "output_type": "execute_result"
    }
   ],
   "source": [
    "values(asked, 'sex')"
   ]
  },
  {
   "cell_type": "code",
   "execution_count": 21,
   "metadata": {
    "collapsed": false
   },
   "outputs": [
    {
     "name": "stdout",
     "output_type": "stream",
     "text": [
      "Optimization terminated successfully.\n",
      "         Current function value: 0.481200\n",
      "         Iterations 6\n"
     ]
    },
    {
     "data": {
      "text/html": [
       "<table class=\"simpletable\">\n",
       "<caption>Logit Regression Results</caption>\n",
       "<tr>\n",
       "  <th>Dep. Variable:</th>     <td>has_relig</td>    <th>  No. Observations:  </th>  <td> 11624</td>  \n",
       "</tr>\n",
       "<tr>\n",
       "  <th>Model:</th>               <td>Logit</td>      <th>  Df Residuals:      </th>  <td> 11620</td>  \n",
       "</tr>\n",
       "<tr>\n",
       "  <th>Method:</th>               <td>MLE</td>       <th>  Df Model:          </th>  <td>     3</td>  \n",
       "</tr>\n",
       "<tr>\n",
       "  <th>Date:</th>          <td>Thu, 13 Apr 2017</td> <th>  Pseudo R-squ.:     </th>  <td>0.01672</td> \n",
       "</tr>\n",
       "<tr>\n",
       "  <th>Time:</th>              <td>16:10:22</td>     <th>  Log-Likelihood:    </th> <td> -5593.5</td> \n",
       "</tr>\n",
       "<tr>\n",
       "  <th>converged:</th>           <td>True</td>       <th>  LL-Null:           </th> <td> -5688.6</td> \n",
       "</tr>\n",
       "<tr>\n",
       "  <th> </th>                      <td> </td>        <th>  LLR p-value:       </th> <td>5.548e-41</td>\n",
       "</tr>\n",
       "</table>\n",
       "<table class=\"simpletable\">\n",
       "<tr>\n",
       "        <td></td>           <th>coef</th>     <th>std err</th>      <th>z</th>      <th>P>|z|</th>  <th>[0.025</th>    <th>0.975]</th>  \n",
       "</tr>\n",
       "<tr>\n",
       "  <th>Intercept</th>     <td>    1.4583</td> <td>    0.044</td> <td>   33.118</td> <td> 0.000</td> <td>    1.372</td> <td>    1.545</td>\n",
       "</tr>\n",
       "<tr>\n",
       "  <th>www50[T.True]</th> <td>   -0.3318</td> <td>    0.065</td> <td>   -5.109</td> <td> 0.000</td> <td>   -0.459</td> <td>   -0.205</td>\n",
       "</tr>\n",
       "<tr>\n",
       "  <th>www75[T.True]</th> <td>   -0.1746</td> <td>    0.066</td> <td>   -2.657</td> <td> 0.008</td> <td>   -0.303</td> <td>   -0.046</td>\n",
       "</tr>\n",
       "<tr>\n",
       "  <th>C(sex)[T.2]</th>   <td>    0.4334</td> <td>    0.048</td> <td>    9.105</td> <td> 0.000</td> <td>    0.340</td> <td>    0.527</td>\n",
       "</tr>\n",
       "</table>"
      ],
      "text/plain": [
       "<class 'statsmodels.iolib.summary.Summary'>\n",
       "\"\"\"\n",
       "                           Logit Regression Results                           \n",
       "==============================================================================\n",
       "Dep. Variable:              has_relig   No. Observations:                11624\n",
       "Model:                          Logit   Df Residuals:                    11620\n",
       "Method:                           MLE   Df Model:                            3\n",
       "Date:                Thu, 13 Apr 2017   Pseudo R-squ.:                 0.01672\n",
       "Time:                        16:10:22   Log-Likelihood:                -5593.5\n",
       "converged:                       True   LL-Null:                       -5688.6\n",
       "                                        LLR p-value:                 5.548e-41\n",
       "=================================================================================\n",
       "                    coef    std err          z      P>|z|      [0.025      0.975]\n",
       "---------------------------------------------------------------------------------\n",
       "Intercept         1.4583      0.044     33.118      0.000       1.372       1.545\n",
       "www50[T.True]    -0.3318      0.065     -5.109      0.000      -0.459      -0.205\n",
       "www75[T.True]    -0.1746      0.066     -2.657      0.008      -0.303      -0.046\n",
       "C(sex)[T.2]       0.4334      0.048      9.105      0.000       0.340       0.527\n",
       "=================================================================================\n",
       "\"\"\""
      ]
     },
     "execution_count": 21,
     "metadata": {},
     "output_type": "execute_result"
    }
   ],
   "source": [
    "results = smf.logit('has_relig ~ www50 + www75 + C(sex)', data=asked).fit()\n",
    "results.summary()"
   ]
  },
  {
   "cell_type": "code",
   "execution_count": 22,
   "metadata": {
    "collapsed": false
   },
   "outputs": [
    {
     "data": {
      "text/plain": [
       "0.0       14\n",
       "1.0        3\n",
       "2.0       26\n",
       "3.0        8\n",
       "4.0       10\n",
       "5.0       14\n",
       "6.0       62\n",
       "7.0       17\n",
       "8.0       90\n",
       "9.0      125\n",
       "10.0     213\n",
       "11.0     376\n",
       "12.0    2664\n",
       "13.0    1117\n",
       "14.0    1770\n",
       "15.0     755\n",
       "16.0    2337\n",
       "17.0     554\n",
       "18.0     721\n",
       "19.0     270\n",
       "20.0     478\n",
       "Name: educ, dtype: int64"
      ]
     },
     "execution_count": 22,
     "metadata": {},
     "output_type": "execute_result"
    }
   ],
   "source": [
    "fill_missing(asked, 'educ')\n",
    "values(asked, 'educ')"
   ]
  },
  {
   "cell_type": "code",
   "execution_count": 23,
   "metadata": {
    "collapsed": false
   },
   "outputs": [],
   "source": [
    "asked['educ_from_12'] = asked.educ - 12"
   ]
  },
  {
   "cell_type": "code",
   "execution_count": 24,
   "metadata": {
    "collapsed": false
   },
   "outputs": [
    {
     "name": "stdout",
     "output_type": "stream",
     "text": [
      "Optimization terminated successfully.\n",
      "         Current function value: 0.480852\n",
      "         Iterations 6\n"
     ]
    },
    {
     "data": {
      "text/html": [
       "<table class=\"simpletable\">\n",
       "<caption>Logit Regression Results</caption>\n",
       "<tr>\n",
       "  <th>Dep. Variable:</th>     <td>has_relig</td>    <th>  No. Observations:  </th>  <td> 11624</td>  \n",
       "</tr>\n",
       "<tr>\n",
       "  <th>Model:</th>               <td>Logit</td>      <th>  Df Residuals:      </th>  <td> 11619</td>  \n",
       "</tr>\n",
       "<tr>\n",
       "  <th>Method:</th>               <td>MLE</td>       <th>  Df Model:          </th>  <td>     4</td>  \n",
       "</tr>\n",
       "<tr>\n",
       "  <th>Date:</th>          <td>Thu, 13 Apr 2017</td> <th>  Pseudo R-squ.:     </th>  <td>0.01743</td> \n",
       "</tr>\n",
       "<tr>\n",
       "  <th>Time:</th>              <td>16:10:22</td>     <th>  Log-Likelihood:    </th> <td> -5589.4</td> \n",
       "</tr>\n",
       "<tr>\n",
       "  <th>converged:</th>           <td>True</td>       <th>  LL-Null:           </th> <td> -5688.6</td> \n",
       "</tr>\n",
       "<tr>\n",
       "  <th> </th>                      <td> </td>        <th>  LLR p-value:       </th> <td>8.841e-42</td>\n",
       "</tr>\n",
       "</table>\n",
       "<table class=\"simpletable\">\n",
       "<tr>\n",
       "        <td></td>           <th>coef</th>     <th>std err</th>      <th>z</th>      <th>P>|z|</th>  <th>[0.025</th>    <th>0.975]</th>  \n",
       "</tr>\n",
       "<tr>\n",
       "  <th>Intercept</th>     <td>    1.5108</td> <td>    0.048</td> <td>   31.462</td> <td> 0.000</td> <td>    1.417</td> <td>    1.605</td>\n",
       "</tr>\n",
       "<tr>\n",
       "  <th>www50[T.True]</th> <td>   -0.3227</td> <td>    0.065</td> <td>   -4.961</td> <td> 0.000</td> <td>   -0.450</td> <td>   -0.195</td>\n",
       "</tr>\n",
       "<tr>\n",
       "  <th>www75[T.True]</th> <td>   -0.1695</td> <td>    0.066</td> <td>   -2.576</td> <td> 0.010</td> <td>   -0.298</td> <td>   -0.041</td>\n",
       "</tr>\n",
       "<tr>\n",
       "  <th>C(sex)[T.2]</th>   <td>    0.4302</td> <td>    0.048</td> <td>    9.030</td> <td> 0.000</td> <td>    0.337</td> <td>    0.524</td>\n",
       "</tr>\n",
       "<tr>\n",
       "  <th>educ_from_12</th>  <td>   -0.0246</td> <td>    0.009</td> <td>   -2.834</td> <td> 0.005</td> <td>   -0.042</td> <td>   -0.008</td>\n",
       "</tr>\n",
       "</table>"
      ],
      "text/plain": [
       "<class 'statsmodels.iolib.summary.Summary'>\n",
       "\"\"\"\n",
       "                           Logit Regression Results                           \n",
       "==============================================================================\n",
       "Dep. Variable:              has_relig   No. Observations:                11624\n",
       "Model:                          Logit   Df Residuals:                    11619\n",
       "Method:                           MLE   Df Model:                            4\n",
       "Date:                Thu, 13 Apr 2017   Pseudo R-squ.:                 0.01743\n",
       "Time:                        16:10:22   Log-Likelihood:                -5589.4\n",
       "converged:                       True   LL-Null:                       -5688.6\n",
       "                                        LLR p-value:                 8.841e-42\n",
       "=================================================================================\n",
       "                    coef    std err          z      P>|z|      [0.025      0.975]\n",
       "---------------------------------------------------------------------------------\n",
       "Intercept         1.5108      0.048     31.462      0.000       1.417       1.605\n",
       "www50[T.True]    -0.3227      0.065     -4.961      0.000      -0.450      -0.195\n",
       "www75[T.True]    -0.1695      0.066     -2.576      0.010      -0.298      -0.041\n",
       "C(sex)[T.2]       0.4302      0.048      9.030      0.000       0.337       0.524\n",
       "educ_from_12     -0.0246      0.009     -2.834      0.005      -0.042      -0.008\n",
       "=================================================================================\n",
       "\"\"\""
      ]
     },
     "execution_count": 24,
     "metadata": {},
     "output_type": "execute_result"
    }
   ],
   "source": [
    "formula = 'has_relig ~ www50 + www75 + C(sex) + educ_from_12'\n",
    "results = smf.logit(formula, data=asked).fit()\n",
    "results.summary()"
   ]
  },
  {
   "cell_type": "code",
   "execution_count": 25,
   "metadata": {
    "collapsed": false
   },
   "outputs": [
    {
     "data": {
      "text/plain": [
       "1.0     6082\n",
       "2.0     3788\n",
       "3.0      248\n",
       "4.0      930\n",
       "5.0       54\n",
       "6.0       69\n",
       "7.0       59\n",
       "8.0        6\n",
       "9.0       76\n",
       "10.0      56\n",
       "11.0     232\n",
       "12.0       7\n",
       "13.0      17\n",
       "Name: relig16, dtype: int64"
      ]
     },
     "execution_count": 25,
     "metadata": {},
     "output_type": "execute_result"
    }
   ],
   "source": [
    "fill_missing(asked, 'relig16')\n",
    "values(asked, 'relig16')"
   ]
  },
  {
   "cell_type": "code",
   "execution_count": 26,
   "metadata": {
    "collapsed": true
   },
   "outputs": [],
   "source": [
    "asked['raised'] = asked.relig16 != 4"
   ]
  },
  {
   "cell_type": "code",
   "execution_count": 27,
   "metadata": {
    "collapsed": false
   },
   "outputs": [
    {
     "name": "stdout",
     "output_type": "stream",
     "text": [
      "Optimization terminated successfully.\n",
      "         Current function value: 0.443464\n",
      "         Iterations 6\n"
     ]
    },
    {
     "data": {
      "text/html": [
       "<table class=\"simpletable\">\n",
       "<caption>Logit Regression Results</caption>\n",
       "<tr>\n",
       "  <th>Dep. Variable:</th>     <td>has_relig</td>    <th>  No. Observations:  </th>   <td> 11624</td>  \n",
       "</tr>\n",
       "<tr>\n",
       "  <th>Model:</th>               <td>Logit</td>      <th>  Df Residuals:      </th>   <td> 11618</td>  \n",
       "</tr>\n",
       "<tr>\n",
       "  <th>Method:</th>               <td>MLE</td>       <th>  Df Model:          </th>   <td>     5</td>  \n",
       "</tr>\n",
       "<tr>\n",
       "  <th>Date:</th>          <td>Thu, 13 Apr 2017</td> <th>  Pseudo R-squ.:     </th>   <td>0.09383</td> \n",
       "</tr>\n",
       "<tr>\n",
       "  <th>Time:</th>              <td>16:10:23</td>     <th>  Log-Likelihood:    </th>  <td> -5154.8</td> \n",
       "</tr>\n",
       "<tr>\n",
       "  <th>converged:</th>           <td>True</td>       <th>  LL-Null:           </th>  <td> -5688.6</td> \n",
       "</tr>\n",
       "<tr>\n",
       "  <th> </th>                      <td> </td>        <th>  LLR p-value:       </th> <td>1.473e-228</td>\n",
       "</tr>\n",
       "</table>\n",
       "<table class=\"simpletable\">\n",
       "<tr>\n",
       "         <td></td>           <th>coef</th>     <th>std err</th>      <th>z</th>      <th>P>|z|</th>  <th>[0.025</th>    <th>0.975]</th>  \n",
       "</tr>\n",
       "<tr>\n",
       "  <th>Intercept</th>      <td>   -0.3816</td> <td>    0.081</td> <td>   -4.734</td> <td> 0.000</td> <td>   -0.540</td> <td>   -0.224</td>\n",
       "</tr>\n",
       "<tr>\n",
       "  <th>www50[T.True]</th>  <td>   -0.3219</td> <td>    0.068</td> <td>   -4.705</td> <td> 0.000</td> <td>   -0.456</td> <td>   -0.188</td>\n",
       "</tr>\n",
       "<tr>\n",
       "  <th>www75[T.True]</th>  <td>   -0.1542</td> <td>    0.069</td> <td>   -2.221</td> <td> 0.026</td> <td>   -0.290</td> <td>   -0.018</td>\n",
       "</tr>\n",
       "<tr>\n",
       "  <th>C(sex)[T.2]</th>    <td>    0.4412</td> <td>    0.050</td> <td>    8.786</td> <td> 0.000</td> <td>    0.343</td> <td>    0.540</td>\n",
       "</tr>\n",
       "<tr>\n",
       "  <th>raised[T.True]</th> <td>    2.1554</td> <td>    0.074</td> <td>   29.285</td> <td> 0.000</td> <td>    2.011</td> <td>    2.300</td>\n",
       "</tr>\n",
       "<tr>\n",
       "  <th>educ_from_12</th>   <td>   -0.0327</td> <td>    0.009</td> <td>   -3.575</td> <td> 0.000</td> <td>   -0.051</td> <td>   -0.015</td>\n",
       "</tr>\n",
       "</table>"
      ],
      "text/plain": [
       "<class 'statsmodels.iolib.summary.Summary'>\n",
       "\"\"\"\n",
       "                           Logit Regression Results                           \n",
       "==============================================================================\n",
       "Dep. Variable:              has_relig   No. Observations:                11624\n",
       "Model:                          Logit   Df Residuals:                    11618\n",
       "Method:                           MLE   Df Model:                            5\n",
       "Date:                Thu, 13 Apr 2017   Pseudo R-squ.:                 0.09383\n",
       "Time:                        16:10:23   Log-Likelihood:                -5154.8\n",
       "converged:                       True   LL-Null:                       -5688.6\n",
       "                                        LLR p-value:                1.473e-228\n",
       "==================================================================================\n",
       "                     coef    std err          z      P>|z|      [0.025      0.975]\n",
       "----------------------------------------------------------------------------------\n",
       "Intercept         -0.3816      0.081     -4.734      0.000      -0.540      -0.224\n",
       "www50[T.True]     -0.3219      0.068     -4.705      0.000      -0.456      -0.188\n",
       "www75[T.True]     -0.1542      0.069     -2.221      0.026      -0.290      -0.018\n",
       "C(sex)[T.2]        0.4412      0.050      8.786      0.000       0.343       0.540\n",
       "raised[T.True]     2.1554      0.074     29.285      0.000       2.011       2.300\n",
       "educ_from_12      -0.0327      0.009     -3.575      0.000      -0.051      -0.015\n",
       "==================================================================================\n",
       "\"\"\""
      ]
     },
     "execution_count": 27,
     "metadata": {},
     "output_type": "execute_result"
    }
   ],
   "source": [
    "formula = 'has_relig ~ www50 + www75 + C(sex) + educ_from_12 + raised'\n",
    "results = smf.logit(formula, data=asked).fit()\n",
    "results.summary()"
   ]
  },
  {
   "cell_type": "code",
   "execution_count": 28,
   "metadata": {
    "collapsed": false
   },
   "outputs": [
    {
     "data": {
      "text/plain": [
       "1.0      122\n",
       "2.0      120\n",
       "3.0       69\n",
       "4.0       51\n",
       "5.0       62\n",
       "6.0       77\n",
       "7.0       60\n",
       "8.0      144\n",
       "9.0      506\n",
       "10.0     501\n",
       "11.0     652\n",
       "12.0    8435\n",
       "13.0     825\n",
       "Name: income, dtype: int64"
      ]
     },
     "execution_count": 28,
     "metadata": {},
     "output_type": "execute_result"
    }
   ],
   "source": [
    "fill_missing(asked, 'income')\n",
    "values(asked, 'income')"
   ]
  },
  {
   "cell_type": "code",
   "execution_count": 29,
   "metadata": {
    "collapsed": false
   },
   "outputs": [
    {
     "data": {
      "text/plain": [
       "0.79662766689607711"
      ]
     },
     "execution_count": 29,
     "metadata": {},
     "output_type": "execute_result"
    }
   ],
   "source": [
    "np.sum(asked['income'] >= 12) / len(asked)"
   ]
  },
  {
   "cell_type": "code",
   "execution_count": 30,
   "metadata": {
    "collapsed": false
   },
   "outputs": [],
   "source": [
    "asked['top75_income'] = asked['income'] >= 12"
   ]
  },
  {
   "cell_type": "code",
   "execution_count": 31,
   "metadata": {
    "collapsed": false
   },
   "outputs": [
    {
     "name": "stdout",
     "output_type": "stream",
     "text": [
      "Optimization terminated successfully.\n",
      "         Current function value: 0.441935\n",
      "         Iterations 6\n"
     ]
    },
    {
     "data": {
      "text/html": [
       "<table class=\"simpletable\">\n",
       "<caption>Logit Regression Results</caption>\n",
       "<tr>\n",
       "  <th>Dep. Variable:</th>     <td>has_relig</td>    <th>  No. Observations:  </th>   <td> 11624</td>  \n",
       "</tr>\n",
       "<tr>\n",
       "  <th>Model:</th>               <td>Logit</td>      <th>  Df Residuals:      </th>   <td> 11617</td>  \n",
       "</tr>\n",
       "<tr>\n",
       "  <th>Method:</th>               <td>MLE</td>       <th>  Df Model:          </th>   <td>     6</td>  \n",
       "</tr>\n",
       "<tr>\n",
       "  <th>Date:</th>          <td>Thu, 13 Apr 2017</td> <th>  Pseudo R-squ.:     </th>   <td>0.09695</td> \n",
       "</tr>\n",
       "<tr>\n",
       "  <th>Time:</th>              <td>16:10:23</td>     <th>  Log-Likelihood:    </th>  <td> -5137.1</td> \n",
       "</tr>\n",
       "<tr>\n",
       "  <th>converged:</th>           <td>True</td>       <th>  LL-Null:           </th>  <td> -5688.6</td> \n",
       "</tr>\n",
       "<tr>\n",
       "  <th> </th>                      <td> </td>        <th>  LLR p-value:       </th> <td>4.654e-235</td>\n",
       "</tr>\n",
       "</table>\n",
       "<table class=\"simpletable\">\n",
       "<tr>\n",
       "            <td></td>              <th>coef</th>     <th>std err</th>      <th>z</th>      <th>P>|z|</th>  <th>[0.025</th>    <th>0.975]</th>  \n",
       "</tr>\n",
       "<tr>\n",
       "  <th>Intercept</th>            <td>   -0.6553</td> <td>    0.093</td> <td>   -7.058</td> <td> 0.000</td> <td>   -0.837</td> <td>   -0.473</td>\n",
       "</tr>\n",
       "<tr>\n",
       "  <th>www50[T.True]</th>        <td>   -0.3169</td> <td>    0.069</td> <td>   -4.624</td> <td> 0.000</td> <td>   -0.451</td> <td>   -0.183</td>\n",
       "</tr>\n",
       "<tr>\n",
       "  <th>www75[T.True]</th>        <td>   -0.1504</td> <td>    0.070</td> <td>   -2.161</td> <td> 0.031</td> <td>   -0.287</td> <td>   -0.014</td>\n",
       "</tr>\n",
       "<tr>\n",
       "  <th>C(sex)[T.2]</th>          <td>    0.4635</td> <td>    0.050</td> <td>    9.182</td> <td> 0.000</td> <td>    0.365</td> <td>    0.562</td>\n",
       "</tr>\n",
       "<tr>\n",
       "  <th>raised[T.True]</th>       <td>    2.1503</td> <td>    0.074</td> <td>   29.128</td> <td> 0.000</td> <td>    2.006</td> <td>    2.295</td>\n",
       "</tr>\n",
       "<tr>\n",
       "  <th>top75_income[T.True]</th> <td>    0.3714</td> <td>    0.061</td> <td>    6.046</td> <td> 0.000</td> <td>    0.251</td> <td>    0.492</td>\n",
       "</tr>\n",
       "<tr>\n",
       "  <th>educ_from_12</th>         <td>   -0.0447</td> <td>    0.009</td> <td>   -4.755</td> <td> 0.000</td> <td>   -0.063</td> <td>   -0.026</td>\n",
       "</tr>\n",
       "</table>"
      ],
      "text/plain": [
       "<class 'statsmodels.iolib.summary.Summary'>\n",
       "\"\"\"\n",
       "                           Logit Regression Results                           \n",
       "==============================================================================\n",
       "Dep. Variable:              has_relig   No. Observations:                11624\n",
       "Model:                          Logit   Df Residuals:                    11617\n",
       "Method:                           MLE   Df Model:                            6\n",
       "Date:                Thu, 13 Apr 2017   Pseudo R-squ.:                 0.09695\n",
       "Time:                        16:10:23   Log-Likelihood:                -5137.1\n",
       "converged:                       True   LL-Null:                       -5688.6\n",
       "                                        LLR p-value:                4.654e-235\n",
       "========================================================================================\n",
       "                           coef    std err          z      P>|z|      [0.025      0.975]\n",
       "----------------------------------------------------------------------------------------\n",
       "Intercept               -0.6553      0.093     -7.058      0.000      -0.837      -0.473\n",
       "www50[T.True]           -0.3169      0.069     -4.624      0.000      -0.451      -0.183\n",
       "www75[T.True]           -0.1504      0.070     -2.161      0.031      -0.287      -0.014\n",
       "C(sex)[T.2]              0.4635      0.050      9.182      0.000       0.365       0.562\n",
       "raised[T.True]           2.1503      0.074     29.128      0.000       2.006       2.295\n",
       "top75_income[T.True]     0.3714      0.061      6.046      0.000       0.251       0.492\n",
       "educ_from_12            -0.0447      0.009     -4.755      0.000      -0.063      -0.026\n",
       "========================================================================================\n",
       "\"\"\""
      ]
     },
     "execution_count": 31,
     "metadata": {},
     "output_type": "execute_result"
    }
   ],
   "source": [
    "formula = 'has_relig ~ www50 + www75 + C(sex) + educ_from_12 + raised + top75_income'\n",
    "results = smf.logit(formula, data=asked).fit()\n",
    "results.summary()"
   ]
  },
  {
   "cell_type": "code",
   "execution_count": 32,
   "metadata": {
    "collapsed": false
   },
   "outputs": [
    {
     "data": {
      "image/png": "[encoded data removed]",
      "text/plain": [
       "<matplotlib.figure.Figure at 0x7fed0da26690>"
      ]
     },
     "metadata": {},
     "output_type": "display_data"
    }
   ],
   "source": [
    "fill_missing(asked, 'age')\n",
    "cdf = thinkstats2.Cdf(asked.age)\n",
    "thinkplot.Cdf(cdf)\n",
    "thinkplot.Config(xlabel='Age')"
   ]
  },
  {
   "cell_type": "code",
   "execution_count": 33,
   "metadata": {
    "collapsed": false
   },
   "outputs": [
    {
     "data": {
      "text/plain": [
       "39"
      ]
     },
     "execution_count": 33,
     "metadata": {},
     "output_type": "execute_result"
    }
   ],
   "source": [
    "fill_missing(asked, 'cohort', [9999])"
   ]
  },
  {
   "cell_type": "code",
   "execution_count": 34,
   "metadata": {
    "collapsed": false
   },
   "outputs": [],
   "source": [
    "asked['born_from_1960'] = asked.cohort - 1960"
   ]
  },
  {
   "cell_type": "code",
   "execution_count": 35,
   "metadata": {
    "collapsed": false
   },
   "outputs": [
    {
     "data": {
      "image/png": "[encoded data removed]",
      "text/plain": [
       "<matplotlib.figure.Figure at 0x7fed0da050d0>"
      ]
     },
     "metadata": {},
     "output_type": "display_data"
    }
   ],
   "source": [
    "cdf = thinkstats2.Cdf(asked.born_from_1960)\n",
    "thinkplot.Cdf(cdf)\n",
    "thinkplot.Config(xlabel='Birth cohort from 1960')"
   ]
  },
  {
   "cell_type": "code",
   "execution_count": 36,
   "metadata": {
    "collapsed": false
   },
   "outputs": [
    {
     "name": "stdout",
     "output_type": "stream",
     "text": [
      "Optimization terminated successfully.\n",
      "         Current function value: 0.435746\n",
      "         Iterations 6\n"
     ]
    },
    {
     "data": {
      "text/html": [
       "<table class=\"simpletable\">\n",
       "<caption>Logit Regression Results</caption>\n",
       "<tr>\n",
       "  <th>Dep. Variable:</th>     <td>has_relig</td>    <th>  No. Observations:  </th>   <td> 11624</td>  \n",
       "</tr>\n",
       "<tr>\n",
       "  <th>Model:</th>               <td>Logit</td>      <th>  Df Residuals:      </th>   <td> 11616</td>  \n",
       "</tr>\n",
       "<tr>\n",
       "  <th>Method:</th>               <td>MLE</td>       <th>  Df Model:          </th>   <td>     7</td>  \n",
       "</tr>\n",
       "<tr>\n",
       "  <th>Date:</th>          <td>Thu, 13 Apr 2017</td> <th>  Pseudo R-squ.:     </th>   <td>0.1096</td>  \n",
       "</tr>\n",
       "<tr>\n",
       "  <th>Time:</th>              <td>16:10:24</td>     <th>  Log-Likelihood:    </th>  <td> -5065.1</td> \n",
       "</tr>\n",
       "<tr>\n",
       "  <th>converged:</th>           <td>True</td>       <th>  LL-Null:           </th>  <td> -5688.6</td> \n",
       "</tr>\n",
       "<tr>\n",
       "  <th> </th>                      <td> </td>        <th>  LLR p-value:       </th> <td>5.063e-265</td>\n",
       "</tr>\n",
       "</table>\n",
       "<table class=\"simpletable\">\n",
       "<tr>\n",
       "            <td></td>              <th>coef</th>     <th>std err</th>      <th>z</th>      <th>P>|z|</th>  <th>[0.025</th>    <th>0.975]</th>  \n",
       "</tr>\n",
       "<tr>\n",
       "  <th>Intercept</th>            <td>   -0.4173</td> <td>    0.096</td> <td>   -4.362</td> <td> 0.000</td> <td>   -0.605</td> <td>   -0.230</td>\n",
       "</tr>\n",
       "<tr>\n",
       "  <th>www50[T.True]</th>        <td>   -0.2397</td> <td>    0.069</td> <td>   -3.458</td> <td> 0.001</td> <td>   -0.376</td> <td>   -0.104</td>\n",
       "</tr>\n",
       "<tr>\n",
       "  <th>www75[T.True]</th>        <td>   -0.0947</td> <td>    0.070</td> <td>   -1.348</td> <td> 0.178</td> <td>   -0.232</td> <td>    0.043</td>\n",
       "</tr>\n",
       "<tr>\n",
       "  <th>C(sex)[T.2]</th>          <td>    0.4780</td> <td>    0.051</td> <td>    9.407</td> <td> 0.000</td> <td>    0.378</td> <td>    0.578</td>\n",
       "</tr>\n",
       "<tr>\n",
       "  <th>raised[T.True]</th>       <td>    2.0827</td> <td>    0.075</td> <td>   27.954</td> <td> 0.000</td> <td>    1.937</td> <td>    2.229</td>\n",
       "</tr>\n",
       "<tr>\n",
       "  <th>top75_income[T.True]</th> <td>    0.2611</td> <td>    0.063</td> <td>    4.173</td> <td> 0.000</td> <td>    0.138</td> <td>    0.384</td>\n",
       "</tr>\n",
       "<tr>\n",
       "  <th>educ_from_12</th>         <td>   -0.0593</td> <td>    0.010</td> <td>   -6.125</td> <td> 0.000</td> <td>   -0.078</td> <td>   -0.040</td>\n",
       "</tr>\n",
       "<tr>\n",
       "  <th>born_from_1960</th>       <td>   -0.0207</td> <td>    0.002</td> <td>  -11.752</td> <td> 0.000</td> <td>   -0.024</td> <td>   -0.017</td>\n",
       "</tr>\n",
       "</table>"
      ],
      "text/plain": [
       "<class 'statsmodels.iolib.summary.Summary'>\n",
       "\"\"\"\n",
       "                           Logit Regression Results                           \n",
       "==============================================================================\n",
       "Dep. Variable:              has_relig   No. Observations:                11624\n",
       "Model:                          Logit   Df Residuals:                    11616\n",
       "Method:                           MLE   Df Model:                            7\n",
       "Date:                Thu, 13 Apr 2017   Pseudo R-squ.:                  0.1096\n",
       "Time:                        16:10:24   Log-Likelihood:                -5065.1\n",
       "converged:                       True   LL-Null:                       -5688.6\n",
       "                                        LLR p-value:                5.063e-265\n",
       "========================================================================================\n",
       "                           coef    std err          z      P>|z|      [0.025      0.975]\n",
       "----------------------------------------------------------------------------------------\n",
       "Intercept               -0.4173      0.096     -4.362      0.000      -0.605      -0.230\n",
       "www50[T.True]           -0.2397      0.069     -3.458      0.001      -0.376      -0.104\n",
       "www75[T.True]           -0.0947      0.070     -1.348      0.178      -0.232       0.043\n",
       "C(sex)[T.2]              0.4780      0.051      9.407      0.000       0.378       0.578\n",
       "raised[T.True]           2.0827      0.075     27.954      0.000       1.937       2.229\n",
       "top75_income[T.True]     0.2611      0.063      4.173      0.000       0.138       0.384\n",
       "educ_from_12            -0.0593      0.010     -6.125      0.000      -0.078      -0.040\n",
       "born_from_1960          -0.0207      0.002    -11.752      0.000      -0.024      -0.017\n",
       "========================================================================================\n",
       "\"\"\""
      ]
     },
     "execution_count": 36,
     "metadata": {},
     "output_type": "execute_result"
    }
   ],
   "source": [
    "formula = ('has_relig ~ www50 + www75 + C(sex) + educ_from_12 + raised + '\n",
    "    'top75_income + born_from_1960')\n",
    "results = smf.logit(formula, data=asked).fit()\n",
    "results.summary()"
   ]
  },
  {
   "cell_type": "code",
   "execution_count": 37,
   "metadata": {
    "collapsed": true
   },
   "outputs": [],
   "source": [
    "asked['older'] = asked.age > 70"
   ]
  },
  {
   "cell_type": "code",
   "execution_count": 38,
   "metadata": {
    "collapsed": false
   },
   "outputs": [
    {
     "name": "stdout",
     "output_type": "stream",
     "text": [
      "Optimization terminated successfully.\n",
      "         Current function value: 0.435039\n",
      "         Iterations 6\n"
     ]
    },
    {
     "data": {
      "text/html": [
       "<table class=\"simpletable\">\n",
       "<caption>Logit Regression Results</caption>\n",
       "<tr>\n",
       "  <th>Dep. Variable:</th>     <td>has_relig</td>    <th>  No. Observations:  </th>   <td> 11624</td>  \n",
       "</tr>\n",
       "<tr>\n",
       "  <th>Model:</th>               <td>Logit</td>      <th>  Df Residuals:      </th>   <td> 11615</td>  \n",
       "</tr>\n",
       "<tr>\n",
       "  <th>Method:</th>               <td>MLE</td>       <th>  Df Model:          </th>   <td>     8</td>  \n",
       "</tr>\n",
       "<tr>\n",
       "  <th>Date:</th>          <td>Thu, 13 Apr 2017</td> <th>  Pseudo R-squ.:     </th>   <td>0.1110</td>  \n",
       "</tr>\n",
       "<tr>\n",
       "  <th>Time:</th>              <td>16:10:24</td>     <th>  Log-Likelihood:    </th>  <td> -5056.9</td> \n",
       "</tr>\n",
       "<tr>\n",
       "  <th>converged:</th>           <td>True</td>       <th>  LL-Null:           </th>  <td> -5688.6</td> \n",
       "</tr>\n",
       "<tr>\n",
       "  <th> </th>                      <td> </td>        <th>  LLR p-value:       </th> <td>1.968e-267</td>\n",
       "</tr>\n",
       "</table>\n",
       "<table class=\"simpletable\">\n",
       "<tr>\n",
       "            <td></td>              <th>coef</th>     <th>std err</th>      <th>z</th>      <th>P>|z|</th>  <th>[0.025</th>    <th>0.975]</th>  \n",
       "</tr>\n",
       "<tr>\n",
       "  <th>Intercept</th>            <td>    0.4725</td> <td>    0.239</td> <td>    1.977</td> <td> 0.048</td> <td>    0.004</td> <td>    0.941</td>\n",
       "</tr>\n",
       "<tr>\n",
       "  <th>www50[T.True]</th>        <td>   -0.2202</td> <td>    0.070</td> <td>   -3.166</td> <td> 0.002</td> <td>   -0.357</td> <td>   -0.084</td>\n",
       "</tr>\n",
       "<tr>\n",
       "  <th>www75[T.True]</th>        <td>   -0.0738</td> <td>    0.070</td> <td>   -1.047</td> <td> 0.295</td> <td>   -0.212</td> <td>    0.064</td>\n",
       "</tr>\n",
       "<tr>\n",
       "  <th>C(sex)[T.2]</th>          <td>    0.4847</td> <td>    0.051</td> <td>    9.524</td> <td> 0.000</td> <td>    0.385</td> <td>    0.584</td>\n",
       "</tr>\n",
       "<tr>\n",
       "  <th>raised[T.True]</th>       <td>    2.0875</td> <td>    0.075</td> <td>   27.971</td> <td> 0.000</td> <td>    1.941</td> <td>    2.234</td>\n",
       "</tr>\n",
       "<tr>\n",
       "  <th>top75_income[T.True]</th> <td>    0.2696</td> <td>    0.063</td> <td>    4.304</td> <td> 0.000</td> <td>    0.147</td> <td>    0.392</td>\n",
       "</tr>\n",
       "<tr>\n",
       "  <th>educ_from_12</th>         <td>   -0.0606</td> <td>    0.010</td> <td>   -6.261</td> <td> 0.000</td> <td>   -0.080</td> <td>   -0.042</td>\n",
       "</tr>\n",
       "<tr>\n",
       "  <th>born_from_1960</th>       <td>   -0.0384</td> <td>    0.005</td> <td>   -8.146</td> <td> 0.000</td> <td>   -0.048</td> <td>   -0.029</td>\n",
       "</tr>\n",
       "<tr>\n",
       "  <th>age</th>                  <td>   -0.0193</td> <td>    0.005</td> <td>   -4.059</td> <td> 0.000</td> <td>   -0.029</td> <td>   -0.010</td>\n",
       "</tr>\n",
       "</table>"
      ],
      "text/plain": [
       "<class 'statsmodels.iolib.summary.Summary'>\n",
       "\"\"\"\n",
       "                           Logit Regression Results                           \n",
       "==============================================================================\n",
       "Dep. Variable:              has_relig   No. Observations:                11624\n",
       "Model:                          Logit   Df Residuals:                    11615\n",
       "Method:                           MLE   Df Model:                            8\n",
       "Date:                Thu, 13 Apr 2017   Pseudo R-squ.:                  0.1110\n",
       "Time:                        16:10:24   Log-Likelihood:                -5056.9\n",
       "converged:                       True   LL-Null:                       -5688.6\n",
       "                                        LLR p-value:                1.968e-267\n",
       "========================================================================================\n",
       "                           coef    std err          z      P>|z|      [0.025      0.975]\n",
       "----------------------------------------------------------------------------------------\n",
       "Intercept                0.4725      0.239      1.977      0.048       0.004       0.941\n",
       "www50[T.True]           -0.2202      0.070     -3.166      0.002      -0.357      -0.084\n",
       "www75[T.True]           -0.0738      0.070     -1.047      0.295      -0.212       0.064\n",
       "C(sex)[T.2]              0.4847      0.051      9.524      0.000       0.385       0.584\n",
       "raised[T.True]           2.0875      0.075     27.971      0.000       1.941       2.234\n",
       "top75_income[T.True]     0.2696      0.063      4.304      0.000       0.147       0.392\n",
       "educ_from_12            -0.0606      0.010     -6.261      0.000      -0.080      -0.042\n",
       "born_from_1960          -0.0384      0.005     -8.146      0.000      -0.048      -0.029\n",
       "age                     -0.0193      0.005     -4.059      0.000      -0.029      -0.010\n",
       "========================================================================================\n",
       "\"\"\""
      ]
     },
     "execution_count": 38,
     "metadata": {},
     "output_type": "execute_result"
    }
   ],
   "source": [
    "formula = ('has_relig ~ www50 + www75 + C(sex) + educ_from_12 + raised + '\n",
    "    'top75_income + born_from_1960 + age')\n",
    "results = smf.logit(formula, data=asked).fit()\n",
    "results.summary()"
   ]
  },
  {
   "cell_type": "code",
   "execution_count": 39,
   "metadata": {
    "collapsed": false
   },
   "outputs": [
    {
     "data": {
      "text/plain": [
       "1     972\n",
       "2    1547\n",
       "3    1595\n",
       "4    2049\n",
       "5    4380\n",
       "6    1081\n",
       "Name: srcbelt, dtype: int64"
      ]
     },
     "execution_count": 39,
     "metadata": {},
     "output_type": "execute_result"
    }
   ],
   "source": [
    "values(asked, 'srcbelt')"
   ]
  },
  {
   "cell_type": "code",
   "execution_count": 40,
   "metadata": {
    "collapsed": true
   },
   "outputs": [],
   "source": [
    "asked['urban'] = asked.srcbelt <= 2\n",
    "asked['rural'] = asked.srcbelt >= 5"
   ]
  },
  {
   "cell_type": "code",
   "execution_count": 41,
   "metadata": {
    "collapsed": false
   },
   "outputs": [
    {
     "name": "stdout",
     "output_type": "stream",
     "text": [
      "Optimization terminated successfully.\n",
      "         Current function value: 0.434109\n",
      "         Iterations 6\n"
     ]
    },
    {
     "data": {
      "text/html": [
       "<table class=\"simpletable\">\n",
       "<caption>Logit Regression Results</caption>\n",
       "<tr>\n",
       "  <th>Dep. Variable:</th>     <td>has_relig</td>    <th>  No. Observations:  </th>   <td> 11624</td>  \n",
       "</tr>\n",
       "<tr>\n",
       "  <th>Model:</th>               <td>Logit</td>      <th>  Df Residuals:      </th>   <td> 11614</td>  \n",
       "</tr>\n",
       "<tr>\n",
       "  <th>Method:</th>               <td>MLE</td>       <th>  Df Model:          </th>   <td>     9</td>  \n",
       "</tr>\n",
       "<tr>\n",
       "  <th>Date:</th>          <td>Thu, 13 Apr 2017</td> <th>  Pseudo R-squ.:     </th>   <td>0.1129</td>  \n",
       "</tr>\n",
       "<tr>\n",
       "  <th>Time:</th>              <td>16:10:24</td>     <th>  Log-Likelihood:    </th>  <td> -5046.1</td> \n",
       "</tr>\n",
       "<tr>\n",
       "  <th>converged:</th>           <td>True</td>       <th>  LL-Null:           </th>  <td> -5688.6</td> \n",
       "</tr>\n",
       "<tr>\n",
       "  <th> </th>                      <td> </td>        <th>  LLR p-value:       </th> <td>5.462e-271</td>\n",
       "</tr>\n",
       "</table>\n",
       "<table class=\"simpletable\">\n",
       "<tr>\n",
       "            <td></td>              <th>coef</th>     <th>std err</th>      <th>z</th>      <th>P>|z|</th>  <th>[0.025</th>    <th>0.975]</th>  \n",
       "</tr>\n",
       "<tr>\n",
       "  <th>Intercept</th>            <td>    0.5152</td> <td>    0.239</td> <td>    2.154</td> <td> 0.031</td> <td>    0.046</td> <td>    0.984</td>\n",
       "</tr>\n",
       "<tr>\n",
       "  <th>www50[T.True]</th>        <td>   -0.2200</td> <td>    0.070</td> <td>   -3.160</td> <td> 0.002</td> <td>   -0.356</td> <td>   -0.084</td>\n",
       "</tr>\n",
       "<tr>\n",
       "  <th>www75[T.True]</th>        <td>   -0.0639</td> <td>    0.071</td> <td>   -0.905</td> <td> 0.366</td> <td>   -0.202</td> <td>    0.075</td>\n",
       "</tr>\n",
       "<tr>\n",
       "  <th>C(sex)[T.2]</th>          <td>    0.4864</td> <td>    0.051</td> <td>    9.550</td> <td> 0.000</td> <td>    0.387</td> <td>    0.586</td>\n",
       "</tr>\n",
       "<tr>\n",
       "  <th>raised[T.True]</th>       <td>    2.0964</td> <td>    0.075</td> <td>   28.040</td> <td> 0.000</td> <td>    1.950</td> <td>    2.243</td>\n",
       "</tr>\n",
       "<tr>\n",
       "  <th>top75_income[T.True]</th> <td>    0.2526</td> <td>    0.063</td> <td>    4.022</td> <td> 0.000</td> <td>    0.129</td> <td>    0.376</td>\n",
       "</tr>\n",
       "<tr>\n",
       "  <th>urban[T.True]</th>        <td>   -0.2753</td> <td>    0.059</td> <td>   -4.700</td> <td> 0.000</td> <td>   -0.390</td> <td>   -0.160</td>\n",
       "</tr>\n",
       "<tr>\n",
       "  <th>educ_from_12</th>         <td>   -0.0579</td> <td>    0.010</td> <td>   -5.976</td> <td> 0.000</td> <td>   -0.077</td> <td>   -0.039</td>\n",
       "</tr>\n",
       "<tr>\n",
       "  <th>born_from_1960</th>       <td>   -0.0376</td> <td>    0.005</td> <td>   -7.971</td> <td> 0.000</td> <td>   -0.047</td> <td>   -0.028</td>\n",
       "</tr>\n",
       "<tr>\n",
       "  <th>age</th>                  <td>   -0.0190</td> <td>    0.005</td> <td>   -4.002</td> <td> 0.000</td> <td>   -0.028</td> <td>   -0.010</td>\n",
       "</tr>\n",
       "</table>"
      ],
      "text/plain": [
       "<class 'statsmodels.iolib.summary.Summary'>\n",
       "\"\"\"\n",
       "                           Logit Regression Results                           \n",
       "==============================================================================\n",
       "Dep. Variable:              has_relig   No. Observations:                11624\n",
       "Model:                          Logit   Df Residuals:                    11614\n",
       "Method:                           MLE   Df Model:                            9\n",
       "Date:                Thu, 13 Apr 2017   Pseudo R-squ.:                  0.1129\n",
       "Time:                        16:10:24   Log-Likelihood:                -5046.1\n",
       "converged:                       True   LL-Null:                       -5688.6\n",
       "                                        LLR p-value:                5.462e-271\n",
       "========================================================================================\n",
       "                           coef    std err          z      P>|z|      [0.025      0.975]\n",
       "----------------------------------------------------------------------------------------\n",
       "Intercept                0.5152      0.239      2.154      0.031       0.046       0.984\n",
       "www50[T.True]           -0.2200      0.070     -3.160      0.002      -0.356      -0.084\n",
       "www75[T.True]           -0.0639      0.071     -0.905      0.366      -0.202       0.075\n",
       "C(sex)[T.2]              0.4864      0.051      9.550      0.000       0.387       0.586\n",
       "raised[T.True]           2.0964      0.075     28.040      0.000       1.950       2.243\n",
       "top75_income[T.True]     0.2526      0.063      4.022      0.000       0.129       0.376\n",
       "urban[T.True]           -0.2753      0.059     -4.700      0.000      -0.390      -0.160\n",
       "educ_from_12            -0.0579      0.010     -5.976      0.000      -0.077      -0.039\n",
       "born_from_1960          -0.0376      0.005     -7.971      0.000      -0.047      -0.028\n",
       "age                     -0.0190      0.005     -4.002      0.000      -0.028      -0.010\n",
       "========================================================================================\n",
       "\"\"\""
      ]
     },
     "execution_count": 41,
     "metadata": {},
     "output_type": "execute_result"
    }
   ],
   "source": [
    "formula = ('has_relig ~ www50 + www75 + C(sex) + educ_from_12 + raised + '\n",
    "    'top75_income + born_from_1960 + age + urban')\n",
    "results = smf.logit(formula, data=asked).fit()\n",
    "results.summary()"
   ]
  },
  {
   "cell_type": "code",
   "execution_count": 42,
   "metadata": {
    "collapsed": false
   },
   "outputs": [
    {
     "data": {
      "text/plain": [
       "1.0    1201\n",
       "2.0     799\n",
       "3.0    3793\n",
       "4.0    2097\n",
       "5.0    1884\n",
       "6.0    1850\n",
       "Name: res16, dtype: int64"
      ]
     },
     "execution_count": 42,
     "metadata": {},
     "output_type": "execute_result"
    }
   ],
   "source": [
    "fill_missing(asked, 'res16', [8, 9, 0])\n",
    "values(asked, 'res16')"
   ]
  },
  {
   "cell_type": "code",
   "execution_count": 43,
   "metadata": {
    "collapsed": true
   },
   "outputs": [],
   "source": [
    "asked['farm'] = asked.res16 == 1\n",
    "asked['country'] = asked.res16 == 2\n",
    "asked['city'] = asked.res16 == 6"
   ]
  },
  {
   "cell_type": "code",
   "execution_count": 44,
   "metadata": {
    "collapsed": false
   },
   "outputs": [
    {
     "name": "stdout",
     "output_type": "stream",
     "text": [
      "Optimization terminated successfully.\n",
      "         Current function value: 0.433765\n",
      "         Iterations 6\n"
     ]
    },
    {
     "data": {
      "text/html": [
       "<table class=\"simpletable\">\n",
       "<caption>Logit Regression Results</caption>\n",
       "<tr>\n",
       "  <th>Dep. Variable:</th>     <td>has_relig</td>    <th>  No. Observations:  </th>   <td> 11624</td>  \n",
       "</tr>\n",
       "<tr>\n",
       "  <th>Model:</th>               <td>Logit</td>      <th>  Df Residuals:      </th>   <td> 11613</td>  \n",
       "</tr>\n",
       "<tr>\n",
       "  <th>Method:</th>               <td>MLE</td>       <th>  Df Model:          </th>   <td>    10</td>  \n",
       "</tr>\n",
       "<tr>\n",
       "  <th>Date:</th>          <td>Thu, 13 Apr 2017</td> <th>  Pseudo R-squ.:     </th>   <td>0.1136</td>  \n",
       "</tr>\n",
       "<tr>\n",
       "  <th>Time:</th>              <td>16:10:25</td>     <th>  Log-Likelihood:    </th>  <td> -5042.1</td> \n",
       "</tr>\n",
       "<tr>\n",
       "  <th>converged:</th>           <td>True</td>       <th>  LL-Null:           </th>  <td> -5688.6</td> \n",
       "</tr>\n",
       "<tr>\n",
       "  <th> </th>                      <td> </td>        <th>  LLR p-value:       </th> <td>1.264e-271</td>\n",
       "</tr>\n",
       "</table>\n",
       "<table class=\"simpletable\">\n",
       "<tr>\n",
       "            <td></td>              <th>coef</th>     <th>std err</th>      <th>z</th>      <th>P>|z|</th>  <th>[0.025</th>    <th>0.975]</th>  \n",
       "</tr>\n",
       "<tr>\n",
       "  <th>Intercept</th>            <td>    0.4930</td> <td>    0.239</td> <td>    2.059</td> <td> 0.039</td> <td>    0.024</td> <td>    0.962</td>\n",
       "</tr>\n",
       "<tr>\n",
       "  <th>www50[T.True]</th>        <td>   -0.2153</td> <td>    0.070</td> <td>   -3.090</td> <td> 0.002</td> <td>   -0.352</td> <td>   -0.079</td>\n",
       "</tr>\n",
       "<tr>\n",
       "  <th>www75[T.True]</th>        <td>   -0.0623</td> <td>    0.071</td> <td>   -0.883</td> <td> 0.377</td> <td>   -0.201</td> <td>    0.076</td>\n",
       "</tr>\n",
       "<tr>\n",
       "  <th>C(sex)[T.2]</th>          <td>    0.4903</td> <td>    0.051</td> <td>    9.618</td> <td> 0.000</td> <td>    0.390</td> <td>    0.590</td>\n",
       "</tr>\n",
       "<tr>\n",
       "  <th>raised[T.True]</th>       <td>    2.0968</td> <td>    0.075</td> <td>   28.031</td> <td> 0.000</td> <td>    1.950</td> <td>    2.243</td>\n",
       "</tr>\n",
       "<tr>\n",
       "  <th>top75_income[T.True]</th> <td>    0.2535</td> <td>    0.063</td> <td>    4.037</td> <td> 0.000</td> <td>    0.130</td> <td>    0.377</td>\n",
       "</tr>\n",
       "<tr>\n",
       "  <th>urban[T.True]</th>        <td>   -0.2676</td> <td>    0.059</td> <td>   -4.565</td> <td> 0.000</td> <td>   -0.383</td> <td>   -0.153</td>\n",
       "</tr>\n",
       "<tr>\n",
       "  <th>country[T.True]</th>      <td>    0.3169</td> <td>    0.115</td> <td>    2.747</td> <td> 0.006</td> <td>    0.091</td> <td>    0.543</td>\n",
       "</tr>\n",
       "<tr>\n",
       "  <th>educ_from_12</th>         <td>   -0.0573</td> <td>    0.010</td> <td>   -5.909</td> <td> 0.000</td> <td>   -0.076</td> <td>   -0.038</td>\n",
       "</tr>\n",
       "<tr>\n",
       "  <th>born_from_1960</th>       <td>   -0.0373</td> <td>    0.005</td> <td>   -7.909</td> <td> 0.000</td> <td>   -0.047</td> <td>   -0.028</td>\n",
       "</tr>\n",
       "<tr>\n",
       "  <th>age</th>                  <td>   -0.0192</td> <td>    0.005</td> <td>   -4.036</td> <td> 0.000</td> <td>   -0.029</td> <td>   -0.010</td>\n",
       "</tr>\n",
       "</table>"
      ],
      "text/plain": [
       "<class 'statsmodels.iolib.summary.Summary'>\n",
       "\"\"\"\n",
       "                           Logit Regression Results                           \n",
       "==============================================================================\n",
       "Dep. Variable:              has_relig   No. Observations:                11624\n",
       "Model:                          Logit   Df Residuals:                    11613\n",
       "Method:                           MLE   Df Model:                           10\n",
       "Date:                Thu, 13 Apr 2017   Pseudo R-squ.:                  0.1136\n",
       "Time:                        16:10:25   Log-Likelihood:                -5042.1\n",
       "converged:                       True   LL-Null:                       -5688.6\n",
       "                                        LLR p-value:                1.264e-271\n",
       "========================================================================================\n",
       "                           coef    std err          z      P>|z|      [0.025      0.975]\n",
       "----------------------------------------------------------------------------------------\n",
       "Intercept                0.4930      0.239      2.059      0.039       0.024       0.962\n",
       "www50[T.True]           -0.2153      0.070     -3.090      0.002      -0.352      -0.079\n",
       "www75[T.True]           -0.0623      0.071     -0.883      0.377      -0.201       0.076\n",
       "C(sex)[T.2]              0.4903      0.051      9.618      0.000       0.390       0.590\n",
       "raised[T.True]           2.0968      0.075     28.031      0.000       1.950       2.243\n",
       "top75_income[T.True]     0.2535      0.063      4.037      0.000       0.130       0.377\n",
       "urban[T.True]           -0.2676      0.059     -4.565      0.000      -0.383      -0.153\n",
       "country[T.True]          0.3169      0.115      2.747      0.006       0.091       0.543\n",
       "educ_from_12            -0.0573      0.010     -5.909      0.000      -0.076      -0.038\n",
       "born_from_1960          -0.0373      0.005     -7.909      0.000      -0.047      -0.028\n",
       "age                     -0.0192      0.005     -4.036      0.000      -0.029      -0.010\n",
       "========================================================================================\n",
       "\"\"\""
      ]
     },
     "execution_count": 44,
     "metadata": {},
     "output_type": "execute_result"
    }
   ],
   "source": [
    "formula = ('has_relig ~ www50 + www75 + C(sex) + educ_from_12 + raised + '\n",
    "           'top75_income + born_from_1960 + age + urban + country')\n",
    "results = smf.logit(formula, data=asked).fit()\n",
    "results.summary()"
   ]
  },
  {
   "cell_type": "code",
   "execution_count": 45,
   "metadata": {
    "collapsed": false
   },
   "outputs": [
    {
     "data": {
      "text/plain": [
       "1.0     10362\n",
       "2.0       743\n",
       "3.0       146\n",
       "4.0        52\n",
       "5.0        41\n",
       "6.0        22\n",
       "7.0         6\n",
       "8.0         9\n",
       "9.0         2\n",
       "10.0        7\n",
       "11.0       17\n",
       "15.0       28\n",
       "20.0       21\n",
       "21.0       13\n",
       "22.0       24\n",
       "23.0        9\n",
       "24.0        9\n",
       "25.0        3\n",
       "30.0       68\n",
       "31.0        1\n",
       "35.0        3\n",
       "40.0        4\n",
       "41.0       11\n",
       "45.0        3\n",
       "46.0        4\n",
       "47.0       10\n",
       "50.0        6\n",
       "Name: hispanic, dtype: int64"
      ]
     },
     "execution_count": 45,
     "metadata": {},
     "output_type": "execute_result"
    }
   ],
   "source": [
    "fill_missing(asked, 'hispanic')\n",
    "values(asked, 'hispanic')"
   ]
  },
  {
   "cell_type": "code",
   "execution_count": 46,
   "metadata": {
    "collapsed": true
   },
   "outputs": [],
   "source": [
    "asked['hisp'] = asked.hispanic != 1"
   ]
  },
  {
   "cell_type": "code",
   "execution_count": 47,
   "metadata": {
    "collapsed": false
   },
   "outputs": [
    {
     "name": "stdout",
     "output_type": "stream",
     "text": [
      "Optimization terminated successfully.\n",
      "         Current function value: 0.432973\n",
      "         Iterations 6\n"
     ]
    },
    {
     "data": {
      "text/html": [
       "<table class=\"simpletable\">\n",
       "<caption>Logit Regression Results</caption>\n",
       "<tr>\n",
       "  <th>Dep. Variable:</th>     <td>has_relig</td>    <th>  No. Observations:  </th>   <td> 11624</td>  \n",
       "</tr>\n",
       "<tr>\n",
       "  <th>Model:</th>               <td>Logit</td>      <th>  Df Residuals:      </th>   <td> 11612</td>  \n",
       "</tr>\n",
       "<tr>\n",
       "  <th>Method:</th>               <td>MLE</td>       <th>  Df Model:          </th>   <td>    11</td>  \n",
       "</tr>\n",
       "<tr>\n",
       "  <th>Date:</th>          <td>Thu, 13 Apr 2017</td> <th>  Pseudo R-squ.:     </th>   <td>0.1153</td>  \n",
       "</tr>\n",
       "<tr>\n",
       "  <th>Time:</th>              <td>16:10:25</td>     <th>  Log-Likelihood:    </th>  <td> -5032.9</td> \n",
       "</tr>\n",
       "<tr>\n",
       "  <th>converged:</th>           <td>True</td>       <th>  LL-Null:           </th>  <td> -5688.6</td> \n",
       "</tr>\n",
       "<tr>\n",
       "  <th> </th>                      <td> </td>        <th>  LLR p-value:       </th> <td>1.575e-274</td>\n",
       "</tr>\n",
       "</table>\n",
       "<table class=\"simpletable\">\n",
       "<tr>\n",
       "            <td></td>              <th>coef</th>     <th>std err</th>      <th>z</th>      <th>P>|z|</th>  <th>[0.025</th>    <th>0.975]</th>  \n",
       "</tr>\n",
       "<tr>\n",
       "  <th>Intercept</th>            <td>    0.4908</td> <td>    0.240</td> <td>    2.048</td> <td> 0.041</td> <td>    0.021</td> <td>    0.960</td>\n",
       "</tr>\n",
       "<tr>\n",
       "  <th>www50[T.True]</th>        <td>   -0.2158</td> <td>    0.070</td> <td>   -3.095</td> <td> 0.002</td> <td>   -0.353</td> <td>   -0.079</td>\n",
       "</tr>\n",
       "<tr>\n",
       "  <th>www75[T.True]</th>        <td>   -0.0595</td> <td>    0.071</td> <td>   -0.842</td> <td> 0.400</td> <td>   -0.198</td> <td>    0.079</td>\n",
       "</tr>\n",
       "<tr>\n",
       "  <th>C(sex)[T.2]</th>          <td>    0.4943</td> <td>    0.051</td> <td>    9.685</td> <td> 0.000</td> <td>    0.394</td> <td>    0.594</td>\n",
       "</tr>\n",
       "<tr>\n",
       "  <th>raised[T.True]</th>       <td>    2.0747</td> <td>    0.075</td> <td>   27.659</td> <td> 0.000</td> <td>    1.928</td> <td>    2.222</td>\n",
       "</tr>\n",
       "<tr>\n",
       "  <th>top75_income[T.True]</th> <td>    0.2579</td> <td>    0.063</td> <td>    4.100</td> <td> 0.000</td> <td>    0.135</td> <td>    0.381</td>\n",
       "</tr>\n",
       "<tr>\n",
       "  <th>urban[T.True]</th>        <td>   -0.2986</td> <td>    0.059</td> <td>   -5.051</td> <td> 0.000</td> <td>   -0.414</td> <td>   -0.183</td>\n",
       "</tr>\n",
       "<tr>\n",
       "  <th>country[T.True]</th>      <td>    0.3287</td> <td>    0.115</td> <td>    2.850</td> <td> 0.004</td> <td>    0.103</td> <td>    0.555</td>\n",
       "</tr>\n",
       "<tr>\n",
       "  <th>hisp[T.True]</th>         <td>    0.3702</td> <td>    0.089</td> <td>    4.179</td> <td> 0.000</td> <td>    0.197</td> <td>    0.544</td>\n",
       "</tr>\n",
       "<tr>\n",
       "  <th>educ_from_12</th>         <td>   -0.0504</td> <td>    0.010</td> <td>   -5.096</td> <td> 0.000</td> <td>   -0.070</td> <td>   -0.031</td>\n",
       "</tr>\n",
       "<tr>\n",
       "  <th>born_from_1960</th>       <td>   -0.0387</td> <td>    0.005</td> <td>   -8.182</td> <td> 0.000</td> <td>   -0.048</td> <td>   -0.029</td>\n",
       "</tr>\n",
       "<tr>\n",
       "  <th>age</th>                  <td>   -0.0198</td> <td>    0.005</td> <td>   -4.149</td> <td> 0.000</td> <td>   -0.029</td> <td>   -0.010</td>\n",
       "</tr>\n",
       "</table>"
      ],
      "text/plain": [
       "<class 'statsmodels.iolib.summary.Summary'>\n",
       "\"\"\"\n",
       "                           Logit Regression Results                           \n",
       "==============================================================================\n",
       "Dep. Variable:              has_relig   No. Observations:                11624\n",
       "Model:                          Logit   Df Residuals:                    11612\n",
       "Method:                           MLE   Df Model:                           11\n",
       "Date:                Thu, 13 Apr 2017   Pseudo R-squ.:                  0.1153\n",
       "Time:                        16:10:25   Log-Likelihood:                -5032.9\n",
       "converged:                       True   LL-Null:                       -5688.6\n",
       "                                        LLR p-value:                1.575e-274\n",
       "========================================================================================\n",
       "                           coef    std err          z      P>|z|      [0.025      0.975]\n",
       "----------------------------------------------------------------------------------------\n",
       "Intercept                0.4908      0.240      2.048      0.041       0.021       0.960\n",
       "www50[T.True]           -0.2158      0.070     -3.095      0.002      -0.353      -0.079\n",
       "www75[T.True]           -0.0595      0.071     -0.842      0.400      -0.198       0.079\n",
       "C(sex)[T.2]              0.4943      0.051      9.685      0.000       0.394       0.594\n",
       "raised[T.True]           2.0747      0.075     27.659      0.000       1.928       2.222\n",
       "top75_income[T.True]     0.2579      0.063      4.100      0.000       0.135       0.381\n",
       "urban[T.True]           -0.2986      0.059     -5.051      0.000      -0.414      -0.183\n",
       "country[T.True]          0.3287      0.115      2.850      0.004       0.103       0.555\n",
       "hisp[T.True]             0.3702      0.089      4.179      0.000       0.197       0.544\n",
       "educ_from_12            -0.0504      0.010     -5.096      0.000      -0.070      -0.031\n",
       "born_from_1960          -0.0387      0.005     -8.182      0.000      -0.048      -0.029\n",
       "age                     -0.0198      0.005     -4.149      0.000      -0.029      -0.010\n",
       "========================================================================================\n",
       "\"\"\""
      ]
     },
     "execution_count": 47,
     "metadata": {},
     "output_type": "execute_result"
    }
   ],
   "source": [
    "formula = ('has_relig ~ www50 + www75 + C(sex) + educ_from_12 + raised + '\n",
    "           'top75_income + born_from_1960 + age + urban + country + hisp')\n",
    "results = smf.logit(formula, data=asked).fit()\n",
    "results.summary()"
   ]
  },
  {
   "cell_type": "code",
   "execution_count": 48,
   "metadata": {
    "collapsed": false
   },
   "outputs": [
    {
     "data": {
      "text/plain": [
       "1    9082\n",
       "2    1462\n",
       "3    1080\n",
       "Name: race, dtype: int64"
      ]
     },
     "execution_count": 48,
     "metadata": {},
     "output_type": "execute_result"
    }
   ],
   "source": [
    "#fill_missing(asked, 'race')\n",
    "values(asked, 'race')"
   ]
  },
  {
   "cell_type": "code",
   "execution_count": 49,
   "metadata": {
    "collapsed": false
   },
   "outputs": [
    {
     "name": "stdout",
     "output_type": "stream",
     "text": [
      "Optimization terminated successfully.\n",
      "         Current function value: 0.430805\n",
      "         Iterations 6\n"
     ]
    },
    {
     "data": {
      "text/html": [
       "<table class=\"simpletable\">\n",
       "<caption>Logit Regression Results</caption>\n",
       "<tr>\n",
       "  <th>Dep. Variable:</th>     <td>has_relig</td>    <th>  No. Observations:  </th>   <td> 11624</td>  \n",
       "</tr>\n",
       "<tr>\n",
       "  <th>Model:</th>               <td>Logit</td>      <th>  Df Residuals:      </th>   <td> 11610</td>  \n",
       "</tr>\n",
       "<tr>\n",
       "  <th>Method:</th>               <td>MLE</td>       <th>  Df Model:          </th>   <td>    13</td>  \n",
       "</tr>\n",
       "<tr>\n",
       "  <th>Date:</th>          <td>Thu, 13 Apr 2017</td> <th>  Pseudo R-squ.:     </th>   <td>0.1197</td>  \n",
       "</tr>\n",
       "<tr>\n",
       "  <th>Time:</th>              <td>16:10:26</td>     <th>  Log-Likelihood:    </th>  <td> -5007.7</td> \n",
       "</tr>\n",
       "<tr>\n",
       "  <th>converged:</th>           <td>True</td>       <th>  LL-Null:           </th>  <td> -5688.6</td> \n",
       "</tr>\n",
       "<tr>\n",
       "  <th> </th>                      <td> </td>        <th>  LLR p-value:       </th> <td>2.635e-283</td>\n",
       "</tr>\n",
       "</table>\n",
       "<table class=\"simpletable\">\n",
       "<tr>\n",
       "            <td></td>              <th>coef</th>     <th>std err</th>      <th>z</th>      <th>P>|z|</th>  <th>[0.025</th>    <th>0.975]</th>  \n",
       "</tr>\n",
       "<tr>\n",
       "  <th>Intercept</th>            <td>    0.4761</td> <td>    0.240</td> <td>    1.980</td> <td> 0.048</td> <td>    0.005</td> <td>    0.947</td>\n",
       "</tr>\n",
       "<tr>\n",
       "  <th>www50[T.True]</th>        <td>   -0.2181</td> <td>    0.070</td> <td>   -3.118</td> <td> 0.002</td> <td>   -0.355</td> <td>   -0.081</td>\n",
       "</tr>\n",
       "<tr>\n",
       "  <th>www75[T.True]</th>        <td>   -0.0597</td> <td>    0.071</td> <td>   -0.843</td> <td> 0.399</td> <td>   -0.199</td> <td>    0.079</td>\n",
       "</tr>\n",
       "<tr>\n",
       "  <th>C(sex)[T.2]</th>          <td>    0.4781</td> <td>    0.051</td> <td>    9.333</td> <td> 0.000</td> <td>    0.378</td> <td>    0.578</td>\n",
       "</tr>\n",
       "<tr>\n",
       "  <th>raised[T.True]</th>       <td>    2.0468</td> <td>    0.075</td> <td>   27.157</td> <td> 0.000</td> <td>    1.899</td> <td>    2.195</td>\n",
       "</tr>\n",
       "<tr>\n",
       "  <th>top75_income[T.True]</th> <td>    0.2994</td> <td>    0.063</td> <td>    4.725</td> <td> 0.000</td> <td>    0.175</td> <td>    0.424</td>\n",
       "</tr>\n",
       "<tr>\n",
       "  <th>urban[T.True]</th>        <td>   -0.3688</td> <td>    0.060</td> <td>   -6.130</td> <td> 0.000</td> <td>   -0.487</td> <td>   -0.251</td>\n",
       "</tr>\n",
       "<tr>\n",
       "  <th>country[T.True]</th>      <td>    0.3647</td> <td>    0.115</td> <td>    3.160</td> <td> 0.002</td> <td>    0.138</td> <td>    0.591</td>\n",
       "</tr>\n",
       "<tr>\n",
       "  <th>hisp[T.True]</th>         <td>    0.3673</td> <td>    0.096</td> <td>    3.818</td> <td> 0.000</td> <td>    0.179</td> <td>    0.556</td>\n",
       "</tr>\n",
       "<tr>\n",
       "  <th>C(race)[T.2]</th>         <td>    0.5710</td> <td>    0.086</td> <td>    6.612</td> <td> 0.000</td> <td>    0.402</td> <td>    0.740</td>\n",
       "</tr>\n",
       "<tr>\n",
       "  <th>C(race)[T.3]</th>         <td>    0.2378</td> <td>    0.098</td> <td>    2.432</td> <td> 0.015</td> <td>    0.046</td> <td>    0.429</td>\n",
       "</tr>\n",
       "<tr>\n",
       "  <th>educ_from_12</th>         <td>   -0.0458</td> <td>    0.010</td> <td>   -4.612</td> <td> 0.000</td> <td>   -0.065</td> <td>   -0.026</td>\n",
       "</tr>\n",
       "<tr>\n",
       "  <th>born_from_1960</th>       <td>   -0.0412</td> <td>    0.005</td> <td>   -8.646</td> <td> 0.000</td> <td>   -0.051</td> <td>   -0.032</td>\n",
       "</tr>\n",
       "<tr>\n",
       "  <th>age</th>                  <td>   -0.0210</td> <td>    0.005</td> <td>   -4.392</td> <td> 0.000</td> <td>   -0.030</td> <td>   -0.012</td>\n",
       "</tr>\n",
       "</table>"
      ],
      "text/plain": [
       "<class 'statsmodels.iolib.summary.Summary'>\n",
       "\"\"\"\n",
       "                           Logit Regression Results                           \n",
       "==============================================================================\n",
       "Dep. Variable:              has_relig   No. Observations:                11624\n",
       "Model:                          Logit   Df Residuals:                    11610\n",
       "Method:                           MLE   Df Model:                           13\n",
       "Date:                Thu, 13 Apr 2017   Pseudo R-squ.:                  0.1197\n",
       "Time:                        16:10:26   Log-Likelihood:                -5007.7\n",
       "converged:                       True   LL-Null:                       -5688.6\n",
       "                                        LLR p-value:                2.635e-283\n",
       "========================================================================================\n",
       "                           coef    std err          z      P>|z|      [0.025      0.975]\n",
       "----------------------------------------------------------------------------------------\n",
       "Intercept                0.4761      0.240      1.980      0.048       0.005       0.947\n",
       "www50[T.True]           -0.2181      0.070     -3.118      0.002      -0.355      -0.081\n",
       "www75[T.True]           -0.0597      0.071     -0.843      0.399      -0.199       0.079\n",
       "C(sex)[T.2]              0.4781      0.051      9.333      0.000       0.378       0.578\n",
       "raised[T.True]           2.0468      0.075     27.157      0.000       1.899       2.195\n",
       "top75_income[T.True]     0.2994      0.063      4.725      0.000       0.175       0.424\n",
       "urban[T.True]           -0.3688      0.060     -6.130      0.000      -0.487      -0.251\n",
       "country[T.True]          0.3647      0.115      3.160      0.002       0.138       0.591\n",
       "hisp[T.True]             0.3673      0.096      3.818      0.000       0.179       0.556\n",
       "C(race)[T.2]             0.5710      0.086      6.612      0.000       0.402       0.740\n",
       "C(race)[T.3]             0.2378      0.098      2.432      0.015       0.046       0.429\n",
       "educ_from_12            -0.0458      0.010     -4.612      0.000      -0.065      -0.026\n",
       "born_from_1960          -0.0412      0.005     -8.646      0.000      -0.051      -0.032\n",
       "age                     -0.0210      0.005     -4.392      0.000      -0.030      -0.012\n",
       "========================================================================================\n",
       "\"\"\""
      ]
     },
     "execution_count": 49,
     "metadata": {},
     "output_type": "execute_result"
    }
   ],
   "source": [
    "formula = ('has_relig ~ www50 + www75 + C(sex) + educ_from_12 + raised + '\n",
    "           'top75_income + born_from_1960 + age + urban + country + hisp + C(race)')\n",
    "results = smf.logit(formula, data=asked).fit()\n",
    "results.summary()"
   ]
  },
  {
   "cell_type": "markdown",
   "metadata": {},
   "source": [
    "## Other dependent vars"
   ]
  },
  {
   "cell_type": "code",
   "execution_count": 50,
   "metadata": {
    "collapsed": false
   },
   "outputs": [
    {
     "data": {
      "text/plain": [
       "0.0    4012\n",
       "1.0     269\n",
       "2.0     478\n",
       "3.0     935\n",
       "4.0     280\n",
       "5.0    1301\n",
       "6.0    4349\n",
       "Name: god, dtype: int64"
      ]
     },
     "execution_count": 50,
     "metadata": {},
     "output_type": "execute_result"
    }
   ],
   "source": [
    "fill_missing(asked, 'god', [8, 9])\n",
    "values(asked, 'god')"
   ]
  },
  {
   "cell_type": "code",
   "execution_count": 51,
   "metadata": {
    "collapsed": false
   },
   "outputs": [
    {
     "data": {
      "text/plain": [
       "1.0    3259\n",
       "2.0    5725\n",
       "3.0    2415\n",
       "4.0     225\n",
       "Name: bible, dtype: int64"
      ]
     },
     "execution_count": 51,
     "metadata": {},
     "output_type": "execute_result"
    }
   ],
   "source": [
    "fill_missing(asked, 'bible', [8, 9, 0])\n",
    "values(asked, 'bible')"
   ]
  },
  {
   "cell_type": "code",
   "execution_count": 52,
   "metadata": {
    "collapsed": false
   },
   "outputs": [
    {
     "data": {
      "text/plain": [
       "1.0    2254\n",
       "2.0    6521\n",
       "3.0    2849\n",
       "Name: conclerg, dtype: int64"
      ]
     },
     "execution_count": 52,
     "metadata": {},
     "output_type": "execute_result"
    }
   ],
   "source": [
    "fill_missing(asked, 'conclerg', [8, 9, 0])\n",
    "values(asked, 'conclerg')"
   ]
  },
  {
   "cell_type": "code",
   "execution_count": null,
   "metadata": {
    "collapsed": true
   },
   "outputs": [],
   "source": []
  },
  {
   "cell_type": "code",
   "execution_count": null,
   "metadata": {
    "collapsed": true
   },
   "outputs": [],
   "source": []
  },
  {
   "cell_type": "code",
   "execution_count": null,
   "metadata": {
    "collapsed": true
   },
   "outputs": [],
   "source": []
  },
  {
   "cell_type": "code",
   "execution_count": null,
   "metadata": {
    "collapsed": true
   },
   "outputs": [],
   "source": []
  },
  {
   "cell_type": "code",
   "execution_count": null,
   "metadata": {
    "collapsed": true
   },
   "outputs": [],
   "source": []
  },
  {
   "cell_type": "code",
   "execution_count": null,
   "metadata": {
    "collapsed": true
   },
   "outputs": [],
   "source": []
  },
  {
   "cell_type": "code",
   "execution_count": null,
   "metadata": {
    "collapsed": true
   },
   "outputs": [],
   "source": []
  },
  {
   "cell_type": "markdown",
   "metadata": {},
   "source": [
    "## Machine learning approaches"
   ]
  },
  {
   "cell_type": "code",
   "execution_count": 53,
   "metadata": {
    "collapsed": false
   },
   "outputs": [
    {
     "name": "stdout",
     "output_type": "stream",
     "text": [
      "Optimization terminated successfully.\n",
      "         Current function value: 0.443678\n",
      "         Iterations 6\n"
     ]
    },
    {
     "data": {
      "text/html": [
       "<table class=\"simpletable\">\n",
       "<caption>Logit Regression Results</caption>\n",
       "<tr>\n",
       "  <th>Dep. Variable:</th>     <td>has_relig</td>    <th>  No. Observations:  </th>   <td> 11624</td>  \n",
       "</tr>\n",
       "<tr>\n",
       "  <th>Model:</th>               <td>Logit</td>      <th>  Df Residuals:      </th>   <td> 11619</td>  \n",
       "</tr>\n",
       "<tr>\n",
       "  <th>Method:</th>               <td>MLE</td>       <th>  Df Model:          </th>   <td>     4</td>  \n",
       "</tr>\n",
       "<tr>\n",
       "  <th>Date:</th>          <td>Thu, 13 Apr 2017</td> <th>  Pseudo R-squ.:     </th>   <td>0.09339</td> \n",
       "</tr>\n",
       "<tr>\n",
       "  <th>Time:</th>              <td>16:10:26</td>     <th>  Log-Likelihood:    </th>  <td> -5157.3</td> \n",
       "</tr>\n",
       "<tr>\n",
       "  <th>converged:</th>           <td>True</td>       <th>  LL-Null:           </th>  <td> -5688.6</td> \n",
       "</tr>\n",
       "<tr>\n",
       "  <th> </th>                      <td> </td>        <th>  LLR p-value:       </th> <td>1.015e-228</td>\n",
       "</tr>\n",
       "</table>\n",
       "<table class=\"simpletable\">\n",
       "<tr>\n",
       "         <td></td>           <th>coef</th>     <th>std err</th>      <th>z</th>      <th>P>|z|</th>  <th>[0.025</th>    <th>0.975]</th>  \n",
       "</tr>\n",
       "<tr>\n",
       "  <th>Intercept</th>      <td>   -0.8252</td> <td>    0.109</td> <td>   -7.554</td> <td> 0.000</td> <td>   -1.039</td> <td>   -0.611</td>\n",
       "</tr>\n",
       "<tr>\n",
       "  <th>www50[T.True]</th>  <td>   -0.4218</td> <td>    0.051</td> <td>   -8.277</td> <td> 0.000</td> <td>   -0.522</td> <td>   -0.322</td>\n",
       "</tr>\n",
       "<tr>\n",
       "  <th>raised[T.True]</th> <td>    2.1565</td> <td>    0.074</td> <td>   29.314</td> <td> 0.000</td> <td>    2.012</td> <td>    2.301</td>\n",
       "</tr>\n",
       "<tr>\n",
       "  <th>sex</th>            <td>    0.4430</td> <td>    0.050</td> <td>    8.826</td> <td> 0.000</td> <td>    0.345</td> <td>    0.541</td>\n",
       "</tr>\n",
       "<tr>\n",
       "  <th>educ_from_12</th>   <td>   -0.0333</td> <td>    0.009</td> <td>   -3.645</td> <td> 0.000</td> <td>   -0.051</td> <td>   -0.015</td>\n",
       "</tr>\n",
       "</table>"
      ],
      "text/plain": [
       "<class 'statsmodels.iolib.summary.Summary'>\n",
       "\"\"\"\n",
       "                           Logit Regression Results                           \n",
       "==============================================================================\n",
       "Dep. Variable:              has_relig   No. Observations:                11624\n",
       "Model:                          Logit   Df Residuals:                    11619\n",
       "Method:                           MLE   Df Model:                            4\n",
       "Date:                Thu, 13 Apr 2017   Pseudo R-squ.:                 0.09339\n",
       "Time:                        16:10:26   Log-Likelihood:                -5157.3\n",
       "converged:                       True   LL-Null:                       -5688.6\n",
       "                                        LLR p-value:                1.015e-228\n",
       "==================================================================================\n",
       "                     coef    std err          z      P>|z|      [0.025      0.975]\n",
       "----------------------------------------------------------------------------------\n",
       "Intercept         -0.8252      0.109     -7.554      0.000      -1.039      -0.611\n",
       "www50[T.True]     -0.4218      0.051     -8.277      0.000      -0.522      -0.322\n",
       "raised[T.True]     2.1565      0.074     29.314      0.000       2.012       2.301\n",
       "sex                0.4430      0.050      8.826      0.000       0.345       0.541\n",
       "educ_from_12      -0.0333      0.009     -3.645      0.000      -0.051      -0.015\n",
       "==================================================================================\n",
       "\"\"\""
      ]
     },
     "execution_count": 53,
     "metadata": {},
     "output_type": "execute_result"
    }
   ],
   "source": [
    "formula = ('has_relig ~ www50 + sex + educ_from_12 + raised')\n",
    "results = smf.logit(formula, data=asked).fit()\n",
    "results.summary()"
   ]
  },
  {
   "cell_type": "code",
   "execution_count": 54,
   "metadata": {
    "collapsed": false
   },
   "outputs": [
    {
     "data": {
      "text/plain": [
       "(11624,)"
      ]
     },
     "execution_count": 54,
     "metadata": {},
     "output_type": "execute_result"
    }
   ],
   "source": [
    "y = asked.has_relig\n",
    "y.shape"
   ]
  },
  {
   "cell_type": "code",
   "execution_count": 55,
   "metadata": {
    "collapsed": false
   },
   "outputs": [
    {
     "data": {
      "text/plain": [
       "(11624, 4)"
      ]
     },
     "execution_count": 55,
     "metadata": {},
     "output_type": "execute_result"
    }
   ],
   "source": [
    "X = asked[['www50', 'sex', 'educ_from_12', 'raised']]\n",
    "X.shape"
   ]
  },
  {
   "cell_type": "code",
   "execution_count": 56,
   "metadata": {
    "collapsed": false
   },
   "outputs": [
    {
     "data": {
      "text/plain": [
       "LogisticRegression(C=100000.0, class_weight=None, dual=False,\n",
       "          fit_intercept=True, intercept_scaling=1, max_iter=100,\n",
       "          multi_class='ovr', n_jobs=1, penalty='l2', random_state=None,\n",
       "          solver='liblinear', tol=0.0001, verbose=0, warm_start=False)"
      ]
     },
     "execution_count": 56,
     "metadata": {},
     "output_type": "execute_result"
    }
   ],
   "source": [
    "from sklearn import linear_model\n",
    "\n",
    "logreg = linear_model.LogisticRegression(C=1e5)\n",
    "logreg.fit(X, y)"
   ]
  },
  {
   "cell_type": "code",
   "execution_count": 57,
   "metadata": {
    "collapsed": false
   },
   "outputs": [
    {
     "data": {
      "text/plain": [
       "array([[-0.42184048,  0.4430151 , -0.03328632,  2.15645844]])"
      ]
     },
     "execution_count": 57,
     "metadata": {},
     "output_type": "execute_result"
    }
   ],
   "source": [
    "logreg.coef_"
   ]
  },
  {
   "cell_type": "code",
   "execution_count": 58,
   "metadata": {
    "collapsed": false
   },
   "outputs": [
    {
     "data": {
      "text/plain": [
       "array([-0.82515675])"
      ]
     },
     "execution_count": 58,
     "metadata": {},
     "output_type": "execute_result"
    }
   ],
   "source": [
    "logreg.intercept_"
   ]
  },
  {
   "cell_type": "code",
   "execution_count": 59,
   "metadata": {
    "collapsed": true
   },
   "outputs": [],
   "source": [
    "yfit = logreg.predict(X)"
   ]
  },
  {
   "cell_type": "code",
   "execution_count": 60,
   "metadata": {
    "collapsed": false
   },
   "outputs": [
    {
     "data": {
      "text/plain": [
       "0.82596352374397797"
      ]
     },
     "execution_count": 60,
     "metadata": {},
     "output_type": "execute_result"
    }
   ],
   "source": [
    "from sklearn.metrics import accuracy_score\n",
    "accuracy_score(y, yfit)"
   ]
  },
  {
   "cell_type": "code",
   "execution_count": 61,
   "metadata": {
    "collapsed": false
   },
   "outputs": [
    {
     "data": {
      "text/plain": [
       "0.8078114246386786"
      ]
     },
     "execution_count": 61,
     "metadata": {},
     "output_type": "execute_result"
    }
   ],
   "source": [
    "np.mean(y)"
   ]
  },
  {
   "cell_type": "code",
   "execution_count": 62,
   "metadata": {
    "collapsed": false
   },
   "outputs": [
    {
     "name": "stderr",
     "output_type": "stream",
     "text": [
      "/home/downey/anaconda2/lib/python2.7/site-packages/sklearn/cross_validation.py:44: DeprecationWarning: This module was deprecated in version 0.18 in favor of the model_selection module into which all the refactored classes and functions are moved. Also note that the interface of the new CV iterators are different from that of this module. This module will be removed in 0.20.\n",
      "  \"This module will be removed in 0.20.\", DeprecationWarning)\n"
     ]
    }
   ],
   "source": [
    "from sklearn.cross_validation import train_test_split\n",
    "Xtrain, Xtest, ytrain, ytest = train_test_split(X, y)"
   ]
  },
  {
   "cell_type": "code",
   "execution_count": 63,
   "metadata": {
    "collapsed": false
   },
   "outputs": [
    {
     "data": {
      "text/plain": [
       "0.81968341362697872"
      ]
     },
     "execution_count": 63,
     "metadata": {},
     "output_type": "execute_result"
    }
   ],
   "source": [
    "logreg.fit(Xtrain, ytrain)\n",
    "yfit = logreg.predict(Xtest)\n",
    "accuracy_score(ytest, yfit)"
   ]
  },
  {
   "cell_type": "code",
   "execution_count": 64,
   "metadata": {
    "collapsed": false
   },
   "outputs": [
    {
     "data": {
      "text/plain": [
       "0.82338226167280082"
      ]
     },
     "execution_count": 64,
     "metadata": {},
     "output_type": "execute_result"
    }
   ],
   "source": [
    "from sklearn.model_selection import cross_val_score\n",
    "scores = cross_val_score(logreg, X, y)\n",
    "scores.mean()"
   ]
  },
  {
   "cell_type": "markdown",
   "metadata": {},
   "source": [
    "http://scikit-learn.org/stable/modules/ensemble.html"
   ]
  },
  {
   "cell_type": "code",
   "execution_count": 65,
   "metadata": {
    "collapsed": false
   },
   "outputs": [
    {
     "data": {
      "text/plain": [
       "0.81271499547576631"
      ]
     },
     "execution_count": 65,
     "metadata": {},
     "output_type": "execute_result"
    }
   ],
   "source": [
    "from sklearn.ensemble import BaggingClassifier\n",
    "from sklearn.neighbors import KNeighborsClassifier\n",
    "bagging = BaggingClassifier(KNeighborsClassifier(), max_samples=0.5, max_features=0.5)\n",
    "scores = cross_val_score(bagging, X, y)\n",
    "scores.mean()"
   ]
  },
  {
   "cell_type": "code",
   "execution_count": 66,
   "metadata": {
    "collapsed": false
   },
   "outputs": [
    {
     "data": {
      "text/plain": [
       "0.82321015204756287"
      ]
     },
     "execution_count": 66,
     "metadata": {},
     "output_type": "execute_result"
    }
   ],
   "source": [
    "from sklearn.ensemble import RandomForestClassifier\n",
    "clf = RandomForestClassifier(n_estimators=10)\n",
    "scores = cross_val_score(clf, X, y)\n",
    "scores.mean()"
   ]
  },
  {
   "cell_type": "code",
   "execution_count": 67,
   "metadata": {
    "collapsed": false
   },
   "outputs": [
    {
     "data": {
      "text/plain": [
       "0.82234993699379932"
      ]
     },
     "execution_count": 67,
     "metadata": {},
     "output_type": "execute_result"
    }
   ],
   "source": [
    "from sklearn.ensemble import ExtraTreesClassifier\n",
    "clf = ExtraTreesClassifier(n_estimators=10, max_depth=None, min_samples_split=2)\n",
    "scores = cross_val_score(clf, X, y)\n",
    "scores.mean()"
   ]
  },
  {
   "cell_type": "code",
   "execution_count": 68,
   "metadata": {
    "collapsed": false
   },
   "outputs": [
    {
     "data": {
      "text/plain": [
       "0.82234993699379932"
      ]
     },
     "execution_count": 68,
     "metadata": {},
     "output_type": "execute_result"
    }
   ],
   "source": [
    "from sklearn.tree import DecisionTreeClassifier\n",
    "clf = DecisionTreeClassifier(max_depth=None, min_samples_split=2)\n",
    "scores = cross_val_score(clf, X, y)\n",
    "scores.mean()"
   ]
  },
  {
   "cell_type": "code",
   "execution_count": null,
   "metadata": {
    "collapsed": true
   },
   "outputs": [],
   "source": []
  }
 ],
 "metadata": {
  "kernelspec": {
   "display_name": "Python 2",
   "language": "python",
   "name": "python2"
  },
  "language_info": {
   "codemirror_mode": {
    "name": "ipython",
    "version": 2
   },
   "file_extension": ".py",
   "mimetype": "text/x-python",
   "name": "python",
   "nbconvert_exporter": "python",
   "pygments_lexer": "ipython2",
   "version": "2.7.11"
  }
 },
 "nbformat": 4,
 "nbformat_minor": 0
}
