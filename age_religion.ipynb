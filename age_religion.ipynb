{
 "cells": [
  {
   "cell_type": "markdown",
   "metadata": {},
   "source": [
    "# Generational changes in religious affiliation\n",
    "\n",
    "Allen Downey\n",
    "\n",
    "[MIT License](https://en.wikipedia.org/wiki/MIT_License)"
   ]
  },
  {
   "cell_type": "code",
   "execution_count": 1,
   "metadata": {
    "collapsed": false
   },
   "outputs": [],
   "source": [
    "from __future__ import print_function, division\n",
    "\n",
    "%matplotlib inline\n",
    "\n",
    "import pandas as pd\n",
    "import numpy as np\n",
    "\n",
    "import thinkstats2\n",
    "import thinkplot\n",
    "import utils\n",
    "\n",
    "import statsmodels.formula.api as smf\n",
    "import matplotlib.pyplot as plt\n",
    "\n",
    "import seaborn as sns\n",
    "sns.set(style='whitegrid', font_scale=1.5)\n",
    "\n",
    "from scipy.special import expit"
   ]
  },
  {
   "cell_type": "markdown",
   "metadata": {},
   "source": [
    "Reading data from the [General Social Survey](https://gssdataexplorer.norc.org/projects/29853)"
   ]
  },
  {
   "cell_type": "code",
   "execution_count": 2,
   "metadata": {
    "collapsed": false
   },
   "outputs": [],
   "source": [
    "# !wget https://gssdataexplorer.norc.org/extracts/21438/download"
   ]
  },
  {
   "cell_type": "code",
   "execution_count": 3,
   "metadata": {
    "collapsed": false
   },
   "outputs": [
    {
     "name": "stdout",
     "output_type": "stream",
     "text": [
      "(62466, 11)\n"
     ]
    },
    {
     "data": {
      "text/html": [
       "<div>\n",
       "<table border=\"1\" class=\"dataframe\">\n",
       "  <thead>\n",
       "    <tr style=\"text-align: right;\">\n",
       "      <th></th>\n",
       "      <th>year</th>\n",
       "      <th>conclerg</th>\n",
       "      <th>bible</th>\n",
       "      <th>cohort</th>\n",
       "      <th>age</th>\n",
       "      <th>wtssall</th>\n",
       "      <th>ballot</th>\n",
       "      <th>relig</th>\n",
       "      <th>educ</th>\n",
       "      <th>id_</th>\n",
       "      <th>god</th>\n",
       "    </tr>\n",
       "  </thead>\n",
       "  <tbody>\n",
       "    <tr>\n",
       "      <th>0</th>\n",
       "      <td>1972</td>\n",
       "      <td>0</td>\n",
       "      <td>0</td>\n",
       "      <td>1949</td>\n",
       "      <td>23</td>\n",
       "      <td>0.4446</td>\n",
       "      <td>0</td>\n",
       "      <td>3</td>\n",
       "      <td>16</td>\n",
       "      <td>1</td>\n",
       "      <td>0</td>\n",
       "    </tr>\n",
       "    <tr>\n",
       "      <th>1</th>\n",
       "      <td>1972</td>\n",
       "      <td>0</td>\n",
       "      <td>0</td>\n",
       "      <td>1902</td>\n",
       "      <td>70</td>\n",
       "      <td>0.8893</td>\n",
       "      <td>0</td>\n",
       "      <td>2</td>\n",
       "      <td>10</td>\n",
       "      <td>2</td>\n",
       "      <td>0</td>\n",
       "    </tr>\n",
       "    <tr>\n",
       "      <th>2</th>\n",
       "      <td>1972</td>\n",
       "      <td>0</td>\n",
       "      <td>0</td>\n",
       "      <td>1924</td>\n",
       "      <td>48</td>\n",
       "      <td>0.8893</td>\n",
       "      <td>0</td>\n",
       "      <td>1</td>\n",
       "      <td>12</td>\n",
       "      <td>3</td>\n",
       "      <td>0</td>\n",
       "    </tr>\n",
       "    <tr>\n",
       "      <th>3</th>\n",
       "      <td>1972</td>\n",
       "      <td>0</td>\n",
       "      <td>0</td>\n",
       "      <td>1945</td>\n",
       "      <td>27</td>\n",
       "      <td>0.8893</td>\n",
       "      <td>0</td>\n",
       "      <td>5</td>\n",
       "      <td>17</td>\n",
       "      <td>4</td>\n",
       "      <td>0</td>\n",
       "    </tr>\n",
       "    <tr>\n",
       "      <th>4</th>\n",
       "      <td>1972</td>\n",
       "      <td>0</td>\n",
       "      <td>0</td>\n",
       "      <td>1911</td>\n",
       "      <td>61</td>\n",
       "      <td>0.8893</td>\n",
       "      <td>0</td>\n",
       "      <td>1</td>\n",
       "      <td>12</td>\n",
       "      <td>5</td>\n",
       "      <td>0</td>\n",
       "    </tr>\n",
       "  </tbody>\n",
       "</table>\n",
       "</div>"
      ],
      "text/plain": [
       "   year  conclerg  bible  cohort  age  wtssall  ballot  relig  educ  id_  god\n",
       "0  1972         0      0    1949   23   0.4446       0      3    16    1    0\n",
       "1  1972         0      0    1902   70   0.8893       0      2    10    2    0\n",
       "2  1972         0      0    1924   48   0.8893       0      1    12    3    0\n",
       "3  1972         0      0    1945   27   0.8893       0      5    17    4    0\n",
       "4  1972         0      0    1911   61   0.8893       0      1    12    5    0"
      ]
     },
     "execution_count": 3,
     "metadata": {},
     "output_type": "execute_result"
    }
   ],
   "source": [
    "gss = utils.ReadGss('gss_religion_data')\n",
    "print(gss.shape)\n",
    "gss.head()"
   ]
  },
  {
   "cell_type": "markdown",
   "metadata": {},
   "source": [
    "Cleaning variables"
   ]
  },
  {
   "cell_type": "code",
   "execution_count": 4,
   "metadata": {
    "collapsed": false
   },
   "outputs": [
    {
     "data": {
      "text/plain": [
       "40129"
      ]
     },
     "execution_count": 4,
     "metadata": {},
     "output_type": "execute_result"
    }
   ],
   "source": [
    "gss.god.replace([8, 9, 0], np.nan, inplace=True)\n",
    "sum(gss.god.isnull())"
   ]
  },
  {
   "cell_type": "code",
   "execution_count": 5,
   "metadata": {
    "collapsed": false
   },
   "outputs": [
    {
     "data": {
      "text/plain": [
       "1.0      673\n",
       "2.0     1110\n",
       "3.0     2286\n",
       "4.0      900\n",
       "5.0     3662\n",
       "6.0    13706\n",
       "Name: god, dtype: int64"
      ]
     },
     "execution_count": 5,
     "metadata": {},
     "output_type": "execute_result"
    }
   ],
   "source": [
    "utils.values(gss, 'god')"
   ]
  },
  {
   "cell_type": "code",
   "execution_count": 6,
   "metadata": {
    "collapsed": true
   },
   "outputs": [],
   "source": [
    "gss['atheist'] = (gss.god.isin([1]))\n",
    "gss['agnostic'] = (gss.god.isin([2]))\n",
    "gss['believe'] = (gss.god.isin([5, 6]))"
   ]
  },
  {
   "cell_type": "code",
   "execution_count": 7,
   "metadata": {
    "collapsed": false
   },
   "outputs": [
    {
     "data": {
      "text/plain": [
       "221"
      ]
     },
     "execution_count": 7,
     "metadata": {},
     "output_type": "execute_result"
    }
   ],
   "source": [
    "gss.age.replace([98, 99], np.nan, inplace=True)\n",
    "sum(gss.age.isnull())"
   ]
  },
  {
   "cell_type": "code",
   "execution_count": 8,
   "metadata": {
    "collapsed": false
   },
   "outputs": [
    {
     "data": {
      "text/plain": [
       "221"
      ]
     },
     "execution_count": 8,
     "metadata": {},
     "output_type": "execute_result"
    }
   ],
   "source": [
    "gss.cohort.replace([9999], np.nan, inplace=True)\n",
    "sum(gss.cohort.isnull())"
   ]
  },
  {
   "cell_type": "code",
   "execution_count": 9,
   "metadata": {
    "collapsed": false
   },
   "outputs": [
    {
     "data": {
      "text/plain": [
       "269"
      ]
     },
     "execution_count": 9,
     "metadata": {},
     "output_type": "execute_result"
    }
   ],
   "source": [
    "gss.relig.replace([98, 99], np.nan, inplace=True)\n",
    "sum(gss.relig.isnull())"
   ]
  },
  {
   "cell_type": "code",
   "execution_count": 10,
   "metadata": {
    "collapsed": false
   },
   "outputs": [
    {
     "data": {
      "text/plain": [
       "(61995, 14)"
      ]
     },
     "execution_count": 10,
     "metadata": {},
     "output_type": "execute_result"
    }
   ],
   "source": [
    "gss.dropna(subset=['age', 'cohort', 'relig'], inplace=True)\n",
    "gss.shape"
   ]
  },
  {
   "cell_type": "markdown",
   "metadata": {},
   "source": [
    "We drop 471 records due to missing data."
   ]
  },
  {
   "cell_type": "code",
   "execution_count": 11,
   "metadata": {
    "collapsed": false
   },
   "outputs": [
    {
     "data": {
      "text/plain": [
       "471"
      ]
     },
     "execution_count": 11,
     "metadata": {},
     "output_type": "execute_result"
    }
   ],
   "source": [
    "62466 - 61995"
   ]
  },
  {
   "cell_type": "markdown",
   "metadata": {},
   "source": [
    "Here's the distribution of ages."
   ]
  },
  {
   "cell_type": "code",
   "execution_count": 12,
   "metadata": {
    "collapsed": false
   },
   "outputs": [
    {
     "data": {
      "image/png": "[encoded data removed]",
      "text/plain": [
       "<matplotlib.figure.Figure at 0x7f923403cc10>"
      ]
     },
     "metadata": {},
     "output_type": "display_data"
    }
   ],
   "source": [
    "thinkplot.Cdf(thinkstats2.Cdf(gss.age))\n",
    "thinkplot.Config(xlabel='Age', ylabel='CDF')"
   ]
  },
  {
   "cell_type": "markdown",
   "metadata": {},
   "source": [
    "Group people into 5-year age groups."
   ]
  },
  {
   "cell_type": "code",
   "execution_count": 13,
   "metadata": {
    "collapsed": false
   },
   "outputs": [],
   "source": [
    "gss['age_group'] = utils.RoundIntoBins(gss, 'age', 5)"
   ]
  },
  {
   "cell_type": "markdown",
   "metadata": {},
   "source": [
    "Here's the distribution of birth year."
   ]
  },
  {
   "cell_type": "code",
   "execution_count": 14,
   "metadata": {
    "collapsed": false
   },
   "outputs": [
    {
     "data": {
      "image/png": "[encoded data removed]",
      "text/plain": [
       "<matplotlib.figure.Figure at 0x7f9233b6a050>"
      ]
     },
     "metadata": {},
     "output_type": "display_data"
    }
   ],
   "source": [
    "thinkplot.Cdf(thinkstats2.Cdf(gss.cohort))\n",
    "thinkplot.Config(xlabel='Year of birth', ylabel='CDF')"
   ]
  },
  {
   "cell_type": "markdown",
   "metadata": {},
   "source": [
    "Group people into 5- and 10-year bins by birth year."
   ]
  },
  {
   "cell_type": "code",
   "execution_count": 15,
   "metadata": {
    "collapsed": false
   },
   "outputs": [],
   "source": [
    "gss['cohort5'] = utils.RoundIntoBins(gss, 'cohort', 5) + 2.5"
   ]
  },
  {
   "cell_type": "code",
   "execution_count": 16,
   "metadata": {
    "collapsed": false
   },
   "outputs": [],
   "source": [
    "gss['cohort10'] = utils.RoundIntoBins(gss, 'cohort', 10)"
   ]
  },
  {
   "cell_type": "markdown",
   "metadata": {},
   "source": [
    "Here's the distribution of religion codes."
   ]
  },
  {
   "cell_type": "code",
   "execution_count": 17,
   "metadata": {
    "collapsed": false
   },
   "outputs": [
    {
     "data": {
      "text/plain": [
       "1.0     35856\n",
       "2.0     15136\n",
       "3.0      1233\n",
       "4.0      7231\n",
       "5.0      1064\n",
       "6.0       177\n",
       "7.0        88\n",
       "8.0        38\n",
       "9.0       135\n",
       "10.0      112\n",
       "11.0      760\n",
       "12.0       30\n",
       "13.0      135\n",
       "Name: relig, dtype: int64"
      ]
     },
     "execution_count": 17,
     "metadata": {},
     "output_type": "execute_result"
    }
   ],
   "source": [
    "utils.values(gss, 'relig')"
   ]
  },
  {
   "cell_type": "markdown",
   "metadata": {},
   "source": [
    "Coding one-hots for 4 religious categories."
   ]
  },
  {
   "cell_type": "code",
   "execution_count": 18,
   "metadata": {
    "collapsed": false
   },
   "outputs": [],
   "source": [
    "gss['none'] = (gss.relig==4).astype(int)\n",
    "gss['cath'] = (gss.relig==2).astype(int)\n",
    "\n",
    "# the second line lumps \"Orthodox-Christian\" and \"Christian\" with Protestant\n",
    "gss['prot'] = (gss.relig==1).astype(int)\n",
    "gss['prot'] = (gss.relig.isin([1,10,11])).astype(int)\n",
    "\n",
    "gss['other'] = (gss.relig.isin([3,5,6,7,8,9,10,11,12,13])).astype(int)"
   ]
  },
  {
   "cell_type": "markdown",
   "metadata": {},
   "source": [
    "Resampling (bootstrapping to be more specific) to account for sampling weights."
   ]
  },
  {
   "cell_type": "code",
   "execution_count": 19,
   "metadata": {
    "collapsed": false,
    "scrolled": true
   },
   "outputs": [
    {
     "data": {
      "text/html": [
       "<div>\n",
       "<table border=\"1\" class=\"dataframe\">\n",
       "  <thead>\n",
       "    <tr style=\"text-align: right;\">\n",
       "      <th></th>\n",
       "      <th>year</th>\n",
       "      <th>conclerg</th>\n",
       "      <th>bible</th>\n",
       "      <th>cohort</th>\n",
       "      <th>age</th>\n",
       "      <th>wtssall</th>\n",
       "      <th>ballot</th>\n",
       "      <th>relig</th>\n",
       "      <th>educ</th>\n",
       "      <th>id_</th>\n",
       "      <th>...</th>\n",
       "      <th>atheist</th>\n",
       "      <th>agnostic</th>\n",
       "      <th>believe</th>\n",
       "      <th>age_group</th>\n",
       "      <th>cohort5</th>\n",
       "      <th>cohort10</th>\n",
       "      <th>none</th>\n",
       "      <th>cath</th>\n",
       "      <th>prot</th>\n",
       "      <th>other</th>\n",
       "    </tr>\n",
       "  </thead>\n",
       "  <tbody>\n",
       "    <tr>\n",
       "      <th>0</th>\n",
       "      <td>1972</td>\n",
       "      <td>0</td>\n",
       "      <td>0</td>\n",
       "      <td>1917.0</td>\n",
       "      <td>55.0</td>\n",
       "      <td>0.8893</td>\n",
       "      <td>0</td>\n",
       "      <td>1.0</td>\n",
       "      <td>12</td>\n",
       "      <td>1176</td>\n",
       "      <td>...</td>\n",
       "      <td>False</td>\n",
       "      <td>False</td>\n",
       "      <td>False</td>\n",
       "      <td>55.0</td>\n",
       "      <td>1917.5</td>\n",
       "      <td>1910.0</td>\n",
       "      <td>0</td>\n",
       "      <td>0</td>\n",
       "      <td>1</td>\n",
       "      <td>0</td>\n",
       "    </tr>\n",
       "    <tr>\n",
       "      <th>1</th>\n",
       "      <td>1972</td>\n",
       "      <td>0</td>\n",
       "      <td>0</td>\n",
       "      <td>1905.0</td>\n",
       "      <td>67.0</td>\n",
       "      <td>0.8893</td>\n",
       "      <td>0</td>\n",
       "      <td>1.0</td>\n",
       "      <td>4</td>\n",
       "      <td>1341</td>\n",
       "      <td>...</td>\n",
       "      <td>False</td>\n",
       "      <td>False</td>\n",
       "      <td>False</td>\n",
       "      <td>65.0</td>\n",
       "      <td>1907.5</td>\n",
       "      <td>1900.0</td>\n",
       "      <td>0</td>\n",
       "      <td>0</td>\n",
       "      <td>1</td>\n",
       "      <td>0</td>\n",
       "    </tr>\n",
       "    <tr>\n",
       "      <th>2</th>\n",
       "      <td>1972</td>\n",
       "      <td>0</td>\n",
       "      <td>0</td>\n",
       "      <td>1921.0</td>\n",
       "      <td>51.0</td>\n",
       "      <td>0.8893</td>\n",
       "      <td>0</td>\n",
       "      <td>2.0</td>\n",
       "      <td>12</td>\n",
       "      <td>902</td>\n",
       "      <td>...</td>\n",
       "      <td>False</td>\n",
       "      <td>False</td>\n",
       "      <td>False</td>\n",
       "      <td>50.0</td>\n",
       "      <td>1922.5</td>\n",
       "      <td>1920.0</td>\n",
       "      <td>0</td>\n",
       "      <td>1</td>\n",
       "      <td>0</td>\n",
       "      <td>0</td>\n",
       "    </tr>\n",
       "    <tr>\n",
       "      <th>3</th>\n",
       "      <td>1972</td>\n",
       "      <td>0</td>\n",
       "      <td>0</td>\n",
       "      <td>1922.0</td>\n",
       "      <td>50.0</td>\n",
       "      <td>0.8893</td>\n",
       "      <td>0</td>\n",
       "      <td>1.0</td>\n",
       "      <td>12</td>\n",
       "      <td>1403</td>\n",
       "      <td>...</td>\n",
       "      <td>False</td>\n",
       "      <td>False</td>\n",
       "      <td>False</td>\n",
       "      <td>50.0</td>\n",
       "      <td>1922.5</td>\n",
       "      <td>1920.0</td>\n",
       "      <td>0</td>\n",
       "      <td>0</td>\n",
       "      <td>1</td>\n",
       "      <td>0</td>\n",
       "    </tr>\n",
       "    <tr>\n",
       "      <th>4</th>\n",
       "      <td>1972</td>\n",
       "      <td>0</td>\n",
       "      <td>0</td>\n",
       "      <td>1919.0</td>\n",
       "      <td>53.0</td>\n",
       "      <td>1.3339</td>\n",
       "      <td>0</td>\n",
       "      <td>5.0</td>\n",
       "      <td>8</td>\n",
       "      <td>854</td>\n",
       "      <td>...</td>\n",
       "      <td>False</td>\n",
       "      <td>False</td>\n",
       "      <td>False</td>\n",
       "      <td>50.0</td>\n",
       "      <td>1917.5</td>\n",
       "      <td>1910.0</td>\n",
       "      <td>0</td>\n",
       "      <td>0</td>\n",
       "      <td>0</td>\n",
       "      <td>1</td>\n",
       "    </tr>\n",
       "  </tbody>\n",
       "</table>\n",
       "<p>5 rows × 21 columns</p>\n",
       "</div>"
      ],
      "text/plain": [
       "   year  conclerg  bible  cohort   age  wtssall  ballot  relig  educ   id_  \\\n",
       "0  1972         0      0  1917.0  55.0   0.8893       0    1.0    12  1176   \n",
       "1  1972         0      0  1905.0  67.0   0.8893       0    1.0     4  1341   \n",
       "2  1972         0      0  1921.0  51.0   0.8893       0    2.0    12   902   \n",
       "3  1972         0      0  1922.0  50.0   0.8893       0    1.0    12  1403   \n",
       "4  1972         0      0  1919.0  53.0   1.3339       0    5.0     8   854   \n",
       "\n",
       "   ...    atheist agnostic believe age_group  cohort5  cohort10  none  cath  \\\n",
       "0  ...      False    False   False      55.0   1917.5    1910.0     0     0   \n",
       "1  ...      False    False   False      65.0   1907.5    1900.0     0     0   \n",
       "2  ...      False    False   False      50.0   1922.5    1920.0     0     1   \n",
       "3  ...      False    False   False      50.0   1922.5    1920.0     0     0   \n",
       "4  ...      False    False   False      50.0   1917.5    1910.0     0     0   \n",
       "\n",
       "   prot  other  \n",
       "0     1      0  \n",
       "1     1      0  \n",
       "2     0      0  \n",
       "3     1      0  \n",
       "4     0      1  \n",
       "\n",
       "[5 rows x 21 columns]"
      ]
     },
     "execution_count": 19,
     "metadata": {},
     "output_type": "execute_result"
    }
   ],
   "source": [
    "sample = utils.ResampleByYear(gss)\n",
    "sample.head()"
   ]
  },
  {
   "cell_type": "markdown",
   "metadata": {},
   "source": [
    "## How does religious affiliation change with age?"
   ]
  },
  {
   "cell_type": "markdown",
   "metadata": {},
   "source": [
    "Group by decade of birth and age group."
   ]
  },
  {
   "cell_type": "code",
   "execution_count": 20,
   "metadata": {
    "collapsed": true
   },
   "outputs": [],
   "source": [
    "grouped = sample.groupby(['cohort10', 'age_group'])"
   ]
  },
  {
   "cell_type": "markdown",
   "metadata": {},
   "source": [
    "Count the number of observations in each decade/age group."
   ]
  },
  {
   "cell_type": "code",
   "execution_count": 21,
   "metadata": {
    "collapsed": false
   },
   "outputs": [
    {
     "data": {
      "text/html": [
       "<div>\n",
       "<table border=\"1\" class=\"dataframe\">\n",
       "  <thead>\n",
       "    <tr style=\"text-align: right;\">\n",
       "      <th>age_group</th>\n",
       "      <th>15.0</th>\n",
       "      <th>20.0</th>\n",
       "      <th>25.0</th>\n",
       "      <th>30.0</th>\n",
       "      <th>35.0</th>\n",
       "      <th>40.0</th>\n",
       "      <th>45.0</th>\n",
       "      <th>50.0</th>\n",
       "      <th>55.0</th>\n",
       "      <th>60.0</th>\n",
       "      <th>65.0</th>\n",
       "      <th>70.0</th>\n",
       "      <th>75.0</th>\n",
       "      <th>80.0</th>\n",
       "      <th>85.0</th>\n",
       "    </tr>\n",
       "    <tr>\n",
       "      <th>cohort10</th>\n",
       "      <th></th>\n",
       "      <th></th>\n",
       "      <th></th>\n",
       "      <th></th>\n",
       "      <th></th>\n",
       "      <th></th>\n",
       "      <th></th>\n",
       "      <th></th>\n",
       "      <th></th>\n",
       "      <th></th>\n",
       "      <th></th>\n",
       "      <th></th>\n",
       "      <th></th>\n",
       "      <th></th>\n",
       "      <th></th>\n",
       "    </tr>\n",
       "  </thead>\n",
       "  <tbody>\n",
       "    <tr>\n",
       "      <th>1880.0</th>\n",
       "      <td>NaN</td>\n",
       "      <td>NaN</td>\n",
       "      <td>NaN</td>\n",
       "      <td>NaN</td>\n",
       "      <td>NaN</td>\n",
       "      <td>NaN</td>\n",
       "      <td>NaN</td>\n",
       "      <td>NaN</td>\n",
       "      <td>NaN</td>\n",
       "      <td>NaN</td>\n",
       "      <td>NaN</td>\n",
       "      <td>NaN</td>\n",
       "      <td>NaN</td>\n",
       "      <td>6.0</td>\n",
       "      <td>42.0</td>\n",
       "    </tr>\n",
       "    <tr>\n",
       "      <th>1890.0</th>\n",
       "      <td>NaN</td>\n",
       "      <td>NaN</td>\n",
       "      <td>NaN</td>\n",
       "      <td>NaN</td>\n",
       "      <td>NaN</td>\n",
       "      <td>NaN</td>\n",
       "      <td>NaN</td>\n",
       "      <td>NaN</td>\n",
       "      <td>NaN</td>\n",
       "      <td>NaN</td>\n",
       "      <td>NaN</td>\n",
       "      <td>56.0</td>\n",
       "      <td>166.0</td>\n",
       "      <td>137.0</td>\n",
       "      <td>97.0</td>\n",
       "    </tr>\n",
       "    <tr>\n",
       "      <th>1900.0</th>\n",
       "      <td>NaN</td>\n",
       "      <td>NaN</td>\n",
       "      <td>NaN</td>\n",
       "      <td>NaN</td>\n",
       "      <td>NaN</td>\n",
       "      <td>NaN</td>\n",
       "      <td>NaN</td>\n",
       "      <td>NaN</td>\n",
       "      <td>NaN</td>\n",
       "      <td>75.0</td>\n",
       "      <td>398.0</td>\n",
       "      <td>520.0</td>\n",
       "      <td>329.0</td>\n",
       "      <td>247.0</td>\n",
       "      <td>160.0</td>\n",
       "    </tr>\n",
       "    <tr>\n",
       "      <th>1910.0</th>\n",
       "      <td>NaN</td>\n",
       "      <td>NaN</td>\n",
       "      <td>NaN</td>\n",
       "      <td>NaN</td>\n",
       "      <td>NaN</td>\n",
       "      <td>NaN</td>\n",
       "      <td>NaN</td>\n",
       "      <td>88.0</td>\n",
       "      <td>607.0</td>\n",
       "      <td>737.0</td>\n",
       "      <td>686.0</td>\n",
       "      <td>600.0</td>\n",
       "      <td>431.0</td>\n",
       "      <td>247.0</td>\n",
       "      <td>174.0</td>\n",
       "    </tr>\n",
       "    <tr>\n",
       "      <th>1920.0</th>\n",
       "      <td>NaN</td>\n",
       "      <td>NaN</td>\n",
       "      <td>NaN</td>\n",
       "      <td>NaN</td>\n",
       "      <td>NaN</td>\n",
       "      <td>86.0</td>\n",
       "      <td>758.0</td>\n",
       "      <td>991.0</td>\n",
       "      <td>922.0</td>\n",
       "      <td>911.0</td>\n",
       "      <td>728.0</td>\n",
       "      <td>597.0</td>\n",
       "      <td>433.0</td>\n",
       "      <td>272.0</td>\n",
       "      <td>191.0</td>\n",
       "    </tr>\n",
       "    <tr>\n",
       "      <th>1930.0</th>\n",
       "      <td>NaN</td>\n",
       "      <td>NaN</td>\n",
       "      <td>NaN</td>\n",
       "      <td>85.0</td>\n",
       "      <td>599.0</td>\n",
       "      <td>1008.0</td>\n",
       "      <td>930.0</td>\n",
       "      <td>974.0</td>\n",
       "      <td>795.0</td>\n",
       "      <td>732.0</td>\n",
       "      <td>637.0</td>\n",
       "      <td>487.0</td>\n",
       "      <td>387.0</td>\n",
       "      <td>155.0</td>\n",
       "      <td>17.0</td>\n",
       "    </tr>\n",
       "    <tr>\n",
       "      <th>1940.0</th>\n",
       "      <td>NaN</td>\n",
       "      <td>131.0</td>\n",
       "      <td>857.0</td>\n",
       "      <td>1171.0</td>\n",
       "      <td>1220.0</td>\n",
       "      <td>1359.0</td>\n",
       "      <td>1333.0</td>\n",
       "      <td>1139.0</td>\n",
       "      <td>1052.0</td>\n",
       "      <td>933.0</td>\n",
       "      <td>668.0</td>\n",
       "      <td>291.0</td>\n",
       "      <td>39.0</td>\n",
       "      <td>NaN</td>\n",
       "      <td>NaN</td>\n",
       "    </tr>\n",
       "    <tr>\n",
       "      <th>1950.0</th>\n",
       "      <td>331.0</td>\n",
       "      <td>1436.0</td>\n",
       "      <td>1600.0</td>\n",
       "      <td>1587.0</td>\n",
       "      <td>1708.0</td>\n",
       "      <td>1602.0</td>\n",
       "      <td>1596.0</td>\n",
       "      <td>1281.0</td>\n",
       "      <td>1123.0</td>\n",
       "      <td>541.0</td>\n",
       "      <td>81.0</td>\n",
       "      <td>NaN</td>\n",
       "      <td>NaN</td>\n",
       "      <td>NaN</td>\n",
       "      <td>NaN</td>\n",
       "    </tr>\n",
       "    <tr>\n",
       "      <th>1960.0</th>\n",
       "      <td>339.0</td>\n",
       "      <td>1549.0</td>\n",
       "      <td>1561.0</td>\n",
       "      <td>1611.0</td>\n",
       "      <td>1541.0</td>\n",
       "      <td>1477.0</td>\n",
       "      <td>1052.0</td>\n",
       "      <td>734.0</td>\n",
       "      <td>102.0</td>\n",
       "      <td>NaN</td>\n",
       "      <td>NaN</td>\n",
       "      <td>NaN</td>\n",
       "      <td>NaN</td>\n",
       "      <td>NaN</td>\n",
       "      <td>NaN</td>\n",
       "    </tr>\n",
       "    <tr>\n",
       "      <th>1970.0</th>\n",
       "      <td>276.0</td>\n",
       "      <td>1426.0</td>\n",
       "      <td>1390.0</td>\n",
       "      <td>1323.0</td>\n",
       "      <td>1025.0</td>\n",
       "      <td>532.0</td>\n",
       "      <td>74.0</td>\n",
       "      <td>NaN</td>\n",
       "      <td>NaN</td>\n",
       "      <td>NaN</td>\n",
       "      <td>NaN</td>\n",
       "      <td>NaN</td>\n",
       "      <td>NaN</td>\n",
       "      <td>NaN</td>\n",
       "      <td>NaN</td>\n",
       "    </tr>\n",
       "    <tr>\n",
       "      <th>1980.0</th>\n",
       "      <td>328.0</td>\n",
       "      <td>1289.0</td>\n",
       "      <td>1094.0</td>\n",
       "      <td>717.0</td>\n",
       "      <td>108.0</td>\n",
       "      <td>NaN</td>\n",
       "      <td>NaN</td>\n",
       "      <td>NaN</td>\n",
       "      <td>NaN</td>\n",
       "      <td>NaN</td>\n",
       "      <td>NaN</td>\n",
       "      <td>NaN</td>\n",
       "      <td>NaN</td>\n",
       "      <td>NaN</td>\n",
       "      <td>NaN</td>\n",
       "    </tr>\n",
       "    <tr>\n",
       "      <th>1990.0</th>\n",
       "      <td>190.0</td>\n",
       "      <td>574.0</td>\n",
       "      <td>106.0</td>\n",
       "      <td>NaN</td>\n",
       "      <td>NaN</td>\n",
       "      <td>NaN</td>\n",
       "      <td>NaN</td>\n",
       "      <td>NaN</td>\n",
       "      <td>NaN</td>\n",
       "      <td>NaN</td>\n",
       "      <td>NaN</td>\n",
       "      <td>NaN</td>\n",
       "      <td>NaN</td>\n",
       "      <td>NaN</td>\n",
       "      <td>NaN</td>\n",
       "    </tr>\n",
       "  </tbody>\n",
       "</table>\n",
       "</div>"
      ],
      "text/plain": [
       "age_group   15.0    20.0    25.0    30.0    35.0    40.0    45.0    50.0  \\\n",
       "cohort10                                                                   \n",
       "1880.0       NaN     NaN     NaN     NaN     NaN     NaN     NaN     NaN   \n",
       "1890.0       NaN     NaN     NaN     NaN     NaN     NaN     NaN     NaN   \n",
       "1900.0       NaN     NaN     NaN     NaN     NaN     NaN     NaN     NaN   \n",
       "1910.0       NaN     NaN     NaN     NaN     NaN     NaN     NaN    88.0   \n",
       "1920.0       NaN     NaN     NaN     NaN     NaN    86.0   758.0   991.0   \n",
       "1930.0       NaN     NaN     NaN    85.0   599.0  1008.0   930.0   974.0   \n",
       "1940.0       NaN   131.0   857.0  1171.0  1220.0  1359.0  1333.0  1139.0   \n",
       "1950.0     331.0  1436.0  1600.0  1587.0  1708.0  1602.0  1596.0  1281.0   \n",
       "1960.0     339.0  1549.0  1561.0  1611.0  1541.0  1477.0  1052.0   734.0   \n",
       "1970.0     276.0  1426.0  1390.0  1323.0  1025.0   532.0    74.0     NaN   \n",
       "1980.0     328.0  1289.0  1094.0   717.0   108.0     NaN     NaN     NaN   \n",
       "1990.0     190.0   574.0   106.0     NaN     NaN     NaN     NaN     NaN   \n",
       "\n",
       "age_group    55.0   60.0   65.0   70.0   75.0   80.0   85.0  \n",
       "cohort10                                                     \n",
       "1880.0        NaN    NaN    NaN    NaN    NaN    6.0   42.0  \n",
       "1890.0        NaN    NaN    NaN   56.0  166.0  137.0   97.0  \n",
       "1900.0        NaN   75.0  398.0  520.0  329.0  247.0  160.0  \n",
       "1910.0      607.0  737.0  686.0  600.0  431.0  247.0  174.0  \n",
       "1920.0      922.0  911.0  728.0  597.0  433.0  272.0  191.0  \n",
       "1930.0      795.0  732.0  637.0  487.0  387.0  155.0   17.0  \n",
       "1940.0     1052.0  933.0  668.0  291.0   39.0    NaN    NaN  \n",
       "1950.0     1123.0  541.0   81.0    NaN    NaN    NaN    NaN  \n",
       "1960.0      102.0    NaN    NaN    NaN    NaN    NaN    NaN  \n",
       "1970.0        NaN    NaN    NaN    NaN    NaN    NaN    NaN  \n",
       "1980.0        NaN    NaN    NaN    NaN    NaN    NaN    NaN  \n",
       "1990.0        NaN    NaN    NaN    NaN    NaN    NaN    NaN  "
      ]
     },
     "execution_count": 21,
     "metadata": {},
     "output_type": "execute_result"
    }
   ],
   "source": [
    "counts = grouped.none.count().unstack()\n",
    "counts"
   ]
  },
  {
   "cell_type": "markdown",
   "metadata": {},
   "source": [
    "Compute the percentage of Nones in each group."
   ]
  },
  {
   "cell_type": "code",
   "execution_count": 22,
   "metadata": {
    "collapsed": false
   },
   "outputs": [
    {
     "data": {
      "text/html": [
       "<div>\n",
       "<table border=\"1\" class=\"dataframe\">\n",
       "  <thead>\n",
       "    <tr style=\"text-align: right;\">\n",
       "      <th>age_group</th>\n",
       "      <th>15.0</th>\n",
       "      <th>20.0</th>\n",
       "      <th>25.0</th>\n",
       "      <th>30.0</th>\n",
       "      <th>35.0</th>\n",
       "      <th>40.0</th>\n",
       "      <th>45.0</th>\n",
       "      <th>50.0</th>\n",
       "      <th>55.0</th>\n",
       "      <th>60.0</th>\n",
       "      <th>65.0</th>\n",
       "      <th>70.0</th>\n",
       "      <th>75.0</th>\n",
       "      <th>80.0</th>\n",
       "      <th>85.0</th>\n",
       "    </tr>\n",
       "    <tr>\n",
       "      <th>cohort10</th>\n",
       "      <th></th>\n",
       "      <th></th>\n",
       "      <th></th>\n",
       "      <th></th>\n",
       "      <th></th>\n",
       "      <th></th>\n",
       "      <th></th>\n",
       "      <th></th>\n",
       "      <th></th>\n",
       "      <th></th>\n",
       "      <th></th>\n",
       "      <th></th>\n",
       "      <th></th>\n",
       "      <th></th>\n",
       "      <th></th>\n",
       "    </tr>\n",
       "  </thead>\n",
       "  <tbody>\n",
       "    <tr>\n",
       "      <th>1880.0</th>\n",
       "      <td>NaN</td>\n",
       "      <td>NaN</td>\n",
       "      <td>NaN</td>\n",
       "      <td>NaN</td>\n",
       "      <td>NaN</td>\n",
       "      <td>NaN</td>\n",
       "      <td>NaN</td>\n",
       "      <td>NaN</td>\n",
       "      <td>NaN</td>\n",
       "      <td>NaN</td>\n",
       "      <td>NaN</td>\n",
       "      <td>NaN</td>\n",
       "      <td>NaN</td>\n",
       "      <td>0.166667</td>\n",
       "      <td>0.000000</td>\n",
       "    </tr>\n",
       "    <tr>\n",
       "      <th>1890.0</th>\n",
       "      <td>NaN</td>\n",
       "      <td>NaN</td>\n",
       "      <td>NaN</td>\n",
       "      <td>NaN</td>\n",
       "      <td>NaN</td>\n",
       "      <td>NaN</td>\n",
       "      <td>NaN</td>\n",
       "      <td>NaN</td>\n",
       "      <td>NaN</td>\n",
       "      <td>NaN</td>\n",
       "      <td>NaN</td>\n",
       "      <td>0.017857</td>\n",
       "      <td>0.042169</td>\n",
       "      <td>0.014599</td>\n",
       "      <td>0.020619</td>\n",
       "    </tr>\n",
       "    <tr>\n",
       "      <th>1900.0</th>\n",
       "      <td>NaN</td>\n",
       "      <td>NaN</td>\n",
       "      <td>NaN</td>\n",
       "      <td>NaN</td>\n",
       "      <td>NaN</td>\n",
       "      <td>NaN</td>\n",
       "      <td>NaN</td>\n",
       "      <td>NaN</td>\n",
       "      <td>NaN</td>\n",
       "      <td>0.000000</td>\n",
       "      <td>0.037688</td>\n",
       "      <td>0.044231</td>\n",
       "      <td>0.012158</td>\n",
       "      <td>0.032389</td>\n",
       "      <td>0.031250</td>\n",
       "    </tr>\n",
       "    <tr>\n",
       "      <th>1910.0</th>\n",
       "      <td>NaN</td>\n",
       "      <td>NaN</td>\n",
       "      <td>NaN</td>\n",
       "      <td>NaN</td>\n",
       "      <td>NaN</td>\n",
       "      <td>NaN</td>\n",
       "      <td>NaN</td>\n",
       "      <td>0.079545</td>\n",
       "      <td>0.023064</td>\n",
       "      <td>0.020353</td>\n",
       "      <td>0.037901</td>\n",
       "      <td>0.041667</td>\n",
       "      <td>0.025522</td>\n",
       "      <td>0.056680</td>\n",
       "      <td>0.057471</td>\n",
       "    </tr>\n",
       "    <tr>\n",
       "      <th>1920.0</th>\n",
       "      <td>NaN</td>\n",
       "      <td>NaN</td>\n",
       "      <td>NaN</td>\n",
       "      <td>NaN</td>\n",
       "      <td>NaN</td>\n",
       "      <td>0.046512</td>\n",
       "      <td>0.031662</td>\n",
       "      <td>0.017154</td>\n",
       "      <td>0.035792</td>\n",
       "      <td>0.028540</td>\n",
       "      <td>0.045330</td>\n",
       "      <td>0.043551</td>\n",
       "      <td>0.064665</td>\n",
       "      <td>0.044118</td>\n",
       "      <td>0.041885</td>\n",
       "    </tr>\n",
       "    <tr>\n",
       "      <th>1930.0</th>\n",
       "      <td>NaN</td>\n",
       "      <td>NaN</td>\n",
       "      <td>NaN</td>\n",
       "      <td>0.082353</td>\n",
       "      <td>0.055092</td>\n",
       "      <td>0.042659</td>\n",
       "      <td>0.047312</td>\n",
       "      <td>0.035934</td>\n",
       "      <td>0.031447</td>\n",
       "      <td>0.049180</td>\n",
       "      <td>0.075353</td>\n",
       "      <td>0.073922</td>\n",
       "      <td>0.059432</td>\n",
       "      <td>0.116129</td>\n",
       "      <td>0.058824</td>\n",
       "    </tr>\n",
       "    <tr>\n",
       "      <th>1940.0</th>\n",
       "      <td>NaN</td>\n",
       "      <td>0.221374</td>\n",
       "      <td>0.106184</td>\n",
       "      <td>0.098207</td>\n",
       "      <td>0.089344</td>\n",
       "      <td>0.068433</td>\n",
       "      <td>0.078020</td>\n",
       "      <td>0.071115</td>\n",
       "      <td>0.088403</td>\n",
       "      <td>0.109325</td>\n",
       "      <td>0.109281</td>\n",
       "      <td>0.068729</td>\n",
       "      <td>0.076923</td>\n",
       "      <td>NaN</td>\n",
       "      <td>NaN</td>\n",
       "    </tr>\n",
       "    <tr>\n",
       "      <th>1950.0</th>\n",
       "      <td>0.123867</td>\n",
       "      <td>0.120474</td>\n",
       "      <td>0.121875</td>\n",
       "      <td>0.098299</td>\n",
       "      <td>0.101874</td>\n",
       "      <td>0.140449</td>\n",
       "      <td>0.125313</td>\n",
       "      <td>0.132709</td>\n",
       "      <td>0.149599</td>\n",
       "      <td>0.166359</td>\n",
       "      <td>0.135802</td>\n",
       "      <td>NaN</td>\n",
       "      <td>NaN</td>\n",
       "      <td>NaN</td>\n",
       "      <td>NaN</td>\n",
       "    </tr>\n",
       "    <tr>\n",
       "      <th>1960.0</th>\n",
       "      <td>0.162242</td>\n",
       "      <td>0.109103</td>\n",
       "      <td>0.110826</td>\n",
       "      <td>0.139044</td>\n",
       "      <td>0.163530</td>\n",
       "      <td>0.127285</td>\n",
       "      <td>0.163498</td>\n",
       "      <td>0.155313</td>\n",
       "      <td>0.205882</td>\n",
       "      <td>NaN</td>\n",
       "      <td>NaN</td>\n",
       "      <td>NaN</td>\n",
       "      <td>NaN</td>\n",
       "      <td>NaN</td>\n",
       "      <td>NaN</td>\n",
       "    </tr>\n",
       "    <tr>\n",
       "      <th>1970.0</th>\n",
       "      <td>0.163043</td>\n",
       "      <td>0.197756</td>\n",
       "      <td>0.188489</td>\n",
       "      <td>0.217687</td>\n",
       "      <td>0.229268</td>\n",
       "      <td>0.236842</td>\n",
       "      <td>0.121622</td>\n",
       "      <td>NaN</td>\n",
       "      <td>NaN</td>\n",
       "      <td>NaN</td>\n",
       "      <td>NaN</td>\n",
       "      <td>NaN</td>\n",
       "      <td>NaN</td>\n",
       "      <td>NaN</td>\n",
       "      <td>NaN</td>\n",
       "    </tr>\n",
       "    <tr>\n",
       "      <th>1980.0</th>\n",
       "      <td>0.231707</td>\n",
       "      <td>0.253685</td>\n",
       "      <td>0.294333</td>\n",
       "      <td>0.280335</td>\n",
       "      <td>0.259259</td>\n",
       "      <td>NaN</td>\n",
       "      <td>NaN</td>\n",
       "      <td>NaN</td>\n",
       "      <td>NaN</td>\n",
       "      <td>NaN</td>\n",
       "      <td>NaN</td>\n",
       "      <td>NaN</td>\n",
       "      <td>NaN</td>\n",
       "      <td>NaN</td>\n",
       "      <td>NaN</td>\n",
       "    </tr>\n",
       "    <tr>\n",
       "      <th>1990.0</th>\n",
       "      <td>0.315789</td>\n",
       "      <td>0.290941</td>\n",
       "      <td>0.367925</td>\n",
       "      <td>NaN</td>\n",
       "      <td>NaN</td>\n",
       "      <td>NaN</td>\n",
       "      <td>NaN</td>\n",
       "      <td>NaN</td>\n",
       "      <td>NaN</td>\n",
       "      <td>NaN</td>\n",
       "      <td>NaN</td>\n",
       "      <td>NaN</td>\n",
       "      <td>NaN</td>\n",
       "      <td>NaN</td>\n",
       "      <td>NaN</td>\n",
       "    </tr>\n",
       "  </tbody>\n",
       "</table>\n",
       "</div>"
      ],
      "text/plain": [
       "age_group      15.0      20.0      25.0      30.0      35.0      40.0  \\\n",
       "cohort10                                                                \n",
       "1880.0          NaN       NaN       NaN       NaN       NaN       NaN   \n",
       "1890.0          NaN       NaN       NaN       NaN       NaN       NaN   \n",
       "1900.0          NaN       NaN       NaN       NaN       NaN       NaN   \n",
       "1910.0          NaN       NaN       NaN       NaN       NaN       NaN   \n",
       "1920.0          NaN       NaN       NaN       NaN       NaN  0.046512   \n",
       "1930.0          NaN       NaN       NaN  0.082353  0.055092  0.042659   \n",
       "1940.0          NaN  0.221374  0.106184  0.098207  0.089344  0.068433   \n",
       "1950.0     0.123867  0.120474  0.121875  0.098299  0.101874  0.140449   \n",
       "1960.0     0.162242  0.109103  0.110826  0.139044  0.163530  0.127285   \n",
       "1970.0     0.163043  0.197756  0.188489  0.217687  0.229268  0.236842   \n",
       "1980.0     0.231707  0.253685  0.294333  0.280335  0.259259       NaN   \n",
       "1990.0     0.315789  0.290941  0.367925       NaN       NaN       NaN   \n",
       "\n",
       "age_group      45.0      50.0      55.0      60.0      65.0      70.0  \\\n",
       "cohort10                                                                \n",
       "1880.0          NaN       NaN       NaN       NaN       NaN       NaN   \n",
       "1890.0          NaN       NaN       NaN       NaN       NaN  0.017857   \n",
       "1900.0          NaN       NaN       NaN  0.000000  0.037688  0.044231   \n",
       "1910.0          NaN  0.079545  0.023064  0.020353  0.037901  0.041667   \n",
       "1920.0     0.031662  0.017154  0.035792  0.028540  0.045330  0.043551   \n",
       "1930.0     0.047312  0.035934  0.031447  0.049180  0.075353  0.073922   \n",
       "1940.0     0.078020  0.071115  0.088403  0.109325  0.109281  0.068729   \n",
       "1950.0     0.125313  0.132709  0.149599  0.166359  0.135802       NaN   \n",
       "1960.0     0.163498  0.155313  0.205882       NaN       NaN       NaN   \n",
       "1970.0     0.121622       NaN       NaN       NaN       NaN       NaN   \n",
       "1980.0          NaN       NaN       NaN       NaN       NaN       NaN   \n",
       "1990.0          NaN       NaN       NaN       NaN       NaN       NaN   \n",
       "\n",
       "age_group      75.0      80.0      85.0  \n",
       "cohort10                                 \n",
       "1880.0          NaN  0.166667  0.000000  \n",
       "1890.0     0.042169  0.014599  0.020619  \n",
       "1900.0     0.012158  0.032389  0.031250  \n",
       "1910.0     0.025522  0.056680  0.057471  \n",
       "1920.0     0.064665  0.044118  0.041885  \n",
       "1930.0     0.059432  0.116129  0.058824  \n",
       "1940.0     0.076923       NaN       NaN  \n",
       "1950.0          NaN       NaN       NaN  \n",
       "1960.0          NaN       NaN       NaN  \n",
       "1970.0          NaN       NaN       NaN  \n",
       "1980.0          NaN       NaN       NaN  \n",
       "1990.0          NaN       NaN       NaN  "
      ]
     },
     "execution_count": 22,
     "metadata": {},
     "output_type": "execute_result"
    }
   ],
   "source": [
    "percent_none = grouped.none.mean().unstack()\n",
    "percent_none"
   ]
  },
  {
   "cell_type": "markdown",
   "metadata": {},
   "source": [
    "Drop cells where we have fewer than 50 observations."
   ]
  },
  {
   "cell_type": "code",
   "execution_count": 23,
   "metadata": {
    "collapsed": true
   },
   "outputs": [],
   "source": [
    "percent_none[counts < 50] = np.nan"
   ]
  },
  {
   "cell_type": "markdown",
   "metadata": {},
   "source": [
    "Select rows for people born in the 1930s through 1980s."
   ]
  },
  {
   "cell_type": "code",
   "execution_count": 24,
   "metadata": {
    "collapsed": false
   },
   "outputs": [
    {
     "data": {
      "text/html": [
       "<div>\n",
       "<table border=\"1\" class=\"dataframe\">\n",
       "  <thead>\n",
       "    <tr style=\"text-align: right;\">\n",
       "      <th>age_group</th>\n",
       "      <th>15.0</th>\n",
       "      <th>20.0</th>\n",
       "      <th>25.0</th>\n",
       "      <th>30.0</th>\n",
       "      <th>35.0</th>\n",
       "      <th>40.0</th>\n",
       "      <th>45.0</th>\n",
       "      <th>50.0</th>\n",
       "      <th>55.0</th>\n",
       "      <th>60.0</th>\n",
       "      <th>65.0</th>\n",
       "      <th>70.0</th>\n",
       "      <th>75.0</th>\n",
       "      <th>80.0</th>\n",
       "      <th>85.0</th>\n",
       "    </tr>\n",
       "    <tr>\n",
       "      <th>cohort10</th>\n",
       "      <th></th>\n",
       "      <th></th>\n",
       "      <th></th>\n",
       "      <th></th>\n",
       "      <th></th>\n",
       "      <th></th>\n",
       "      <th></th>\n",
       "      <th></th>\n",
       "      <th></th>\n",
       "      <th></th>\n",
       "      <th></th>\n",
       "      <th></th>\n",
       "      <th></th>\n",
       "      <th></th>\n",
       "      <th></th>\n",
       "    </tr>\n",
       "  </thead>\n",
       "  <tbody>\n",
       "    <tr>\n",
       "      <th>1930.0</th>\n",
       "      <td>NaN</td>\n",
       "      <td>NaN</td>\n",
       "      <td>NaN</td>\n",
       "      <td>0.082353</td>\n",
       "      <td>0.055092</td>\n",
       "      <td>0.042659</td>\n",
       "      <td>0.047312</td>\n",
       "      <td>0.035934</td>\n",
       "      <td>0.031447</td>\n",
       "      <td>0.049180</td>\n",
       "      <td>0.075353</td>\n",
       "      <td>0.073922</td>\n",
       "      <td>0.059432</td>\n",
       "      <td>0.116129</td>\n",
       "      <td>NaN</td>\n",
       "    </tr>\n",
       "    <tr>\n",
       "      <th>1940.0</th>\n",
       "      <td>NaN</td>\n",
       "      <td>0.221374</td>\n",
       "      <td>0.106184</td>\n",
       "      <td>0.098207</td>\n",
       "      <td>0.089344</td>\n",
       "      <td>0.068433</td>\n",
       "      <td>0.078020</td>\n",
       "      <td>0.071115</td>\n",
       "      <td>0.088403</td>\n",
       "      <td>0.109325</td>\n",
       "      <td>0.109281</td>\n",
       "      <td>0.068729</td>\n",
       "      <td>NaN</td>\n",
       "      <td>NaN</td>\n",
       "      <td>NaN</td>\n",
       "    </tr>\n",
       "    <tr>\n",
       "      <th>1950.0</th>\n",
       "      <td>0.123867</td>\n",
       "      <td>0.120474</td>\n",
       "      <td>0.121875</td>\n",
       "      <td>0.098299</td>\n",
       "      <td>0.101874</td>\n",
       "      <td>0.140449</td>\n",
       "      <td>0.125313</td>\n",
       "      <td>0.132709</td>\n",
       "      <td>0.149599</td>\n",
       "      <td>0.166359</td>\n",
       "      <td>0.135802</td>\n",
       "      <td>NaN</td>\n",
       "      <td>NaN</td>\n",
       "      <td>NaN</td>\n",
       "      <td>NaN</td>\n",
       "    </tr>\n",
       "    <tr>\n",
       "      <th>1960.0</th>\n",
       "      <td>0.162242</td>\n",
       "      <td>0.109103</td>\n",
       "      <td>0.110826</td>\n",
       "      <td>0.139044</td>\n",
       "      <td>0.163530</td>\n",
       "      <td>0.127285</td>\n",
       "      <td>0.163498</td>\n",
       "      <td>0.155313</td>\n",
       "      <td>0.205882</td>\n",
       "      <td>NaN</td>\n",
       "      <td>NaN</td>\n",
       "      <td>NaN</td>\n",
       "      <td>NaN</td>\n",
       "      <td>NaN</td>\n",
       "      <td>NaN</td>\n",
       "    </tr>\n",
       "    <tr>\n",
       "      <th>1970.0</th>\n",
       "      <td>0.163043</td>\n",
       "      <td>0.197756</td>\n",
       "      <td>0.188489</td>\n",
       "      <td>0.217687</td>\n",
       "      <td>0.229268</td>\n",
       "      <td>0.236842</td>\n",
       "      <td>0.121622</td>\n",
       "      <td>NaN</td>\n",
       "      <td>NaN</td>\n",
       "      <td>NaN</td>\n",
       "      <td>NaN</td>\n",
       "      <td>NaN</td>\n",
       "      <td>NaN</td>\n",
       "      <td>NaN</td>\n",
       "      <td>NaN</td>\n",
       "    </tr>\n",
       "    <tr>\n",
       "      <th>1980.0</th>\n",
       "      <td>0.231707</td>\n",
       "      <td>0.253685</td>\n",
       "      <td>0.294333</td>\n",
       "      <td>0.280335</td>\n",
       "      <td>0.259259</td>\n",
       "      <td>NaN</td>\n",
       "      <td>NaN</td>\n",
       "      <td>NaN</td>\n",
       "      <td>NaN</td>\n",
       "      <td>NaN</td>\n",
       "      <td>NaN</td>\n",
       "      <td>NaN</td>\n",
       "      <td>NaN</td>\n",
       "      <td>NaN</td>\n",
       "      <td>NaN</td>\n",
       "    </tr>\n",
       "  </tbody>\n",
       "</table>\n",
       "</div>"
      ],
      "text/plain": [
       "age_group      15.0      20.0      25.0      30.0      35.0      40.0  \\\n",
       "cohort10                                                                \n",
       "1930.0          NaN       NaN       NaN  0.082353  0.055092  0.042659   \n",
       "1940.0          NaN  0.221374  0.106184  0.098207  0.089344  0.068433   \n",
       "1950.0     0.123867  0.120474  0.121875  0.098299  0.101874  0.140449   \n",
       "1960.0     0.162242  0.109103  0.110826  0.139044  0.163530  0.127285   \n",
       "1970.0     0.163043  0.197756  0.188489  0.217687  0.229268  0.236842   \n",
       "1980.0     0.231707  0.253685  0.294333  0.280335  0.259259       NaN   \n",
       "\n",
       "age_group      45.0      50.0      55.0      60.0      65.0      70.0  \\\n",
       "cohort10                                                                \n",
       "1930.0     0.047312  0.035934  0.031447  0.049180  0.075353  0.073922   \n",
       "1940.0     0.078020  0.071115  0.088403  0.109325  0.109281  0.068729   \n",
       "1950.0     0.125313  0.132709  0.149599  0.166359  0.135802       NaN   \n",
       "1960.0     0.163498  0.155313  0.205882       NaN       NaN       NaN   \n",
       "1970.0     0.121622       NaN       NaN       NaN       NaN       NaN   \n",
       "1980.0          NaN       NaN       NaN       NaN       NaN       NaN   \n",
       "\n",
       "age_group      75.0      80.0  85.0  \n",
       "cohort10                             \n",
       "1930.0     0.059432  0.116129   NaN  \n",
       "1940.0          NaN       NaN   NaN  \n",
       "1950.0          NaN       NaN   NaN  \n",
       "1960.0          NaN       NaN   NaN  \n",
       "1970.0          NaN       NaN   NaN  \n",
       "1980.0          NaN       NaN   NaN  "
      ]
     },
     "execution_count": 24,
     "metadata": {},
     "output_type": "execute_result"
    }
   ],
   "source": [
    "decades = np.linspace(1930, 1980, 6, endpoint=True)\n",
    "percent_none.loc[decades]"
   ]
  },
  {
   "cell_type": "markdown",
   "metadata": {},
   "source": [
    "Choose some colors."
   ]
  },
  {
   "cell_type": "code",
   "execution_count": 25,
   "metadata": {
    "collapsed": false
   },
   "outputs": [
    {
     "data": {
      "image/png": "[encoded data removed]",
      "text/plain": [
       "<matplotlib.figure.Figure at 0x7f9233a8af90>"
      ]
     },
     "metadata": {},
     "output_type": "display_data"
    }
   ],
   "source": [
    "colors = sns.color_palette()\n",
    "sns.palplot(colors)"
   ]
  },
  {
   "cell_type": "markdown",
   "metadata": {},
   "source": [
    "For each birth cohort, plot the percentage of Nones as a function of age."
   ]
  },
  {
   "cell_type": "code",
   "execution_count": 26,
   "metadata": {
    "collapsed": false
   },
   "outputs": [
    {
     "data": {
      "image/png": "[encoded data removed]",
      "text/plain": [
       "<matplotlib.figure.Figure at 0x7f9233bab6d0>"
      ]
     },
     "metadata": {},
     "output_type": "display_data"
    }
   ],
   "source": [
    "options = dict(alpha=1)\n",
    "\n",
    "thinkplot.preplot(6)\n",
    "thinkplot.plot(percent_none.loc[1980], label='80s', color=colors[0], **options)\n",
    "thinkplot.plot(percent_none.loc[1970], label='70s', color=colors[1], **options)\n",
    "thinkplot.plot(percent_none.loc[1960], label='60s', color=colors[2], **options)\n",
    "thinkplot.plot(percent_none.loc[1950], label='50s', color=colors[3], **options)\n",
    "thinkplot.plot(percent_none.loc[1940], label='40s', color=colors[4], **options)\n",
    "thinkplot.plot(percent_none.loc[1930], label='30s', color=colors[5], **options)\n",
    "\n",
    "xlabel = 'Age group'\n",
    "ylabel = 'Fraction with no affiliation'\n",
    "axis = [13, 85, 0, 0.32]\n",
    "\n",
    "thinkplot.config(xlabel=xlabel, ylabel=ylabel, axis=axis, legend=True)\n",
    "plt.gca().get_legend().set(title='Decade born');"
   ]
  },
  {
   "cell_type": "markdown",
   "metadata": {},
   "source": [
    "Same as the previous, but as a multi-plot."
   ]
  },
  {
   "cell_type": "code",
   "execution_count": 27,
   "metadata": {
    "collapsed": false
   },
   "outputs": [
    {
     "data": {
      "image/png": "[encoded data removed]",
      "text/plain": [
       "<matplotlib.figure.Figure at 0x7f9233992d50>"
      ]
     },
     "metadata": {},
     "output_type": "display_data"
    }
   ],
   "source": [
    "thinkplot.preplot(num=6, rows=2, cols=3)\n",
    "thinkplot.subplot(1)\n",
    "thinkplot.plot(percent_none.loc[1980], label='80s', color=colors[0], **options)\n",
    "thinkplot.config(ylabel=ylabel, axis=axis)\n",
    "\n",
    "thinkplot.subplot(2)\n",
    "thinkplot.plot(percent_none.loc[1970], label='70s', color=colors[1], **options)\n",
    "thinkplot.config(axis=axis)\n",
    "\n",
    "thinkplot.subplot(3)\n",
    "thinkplot.plot(percent_none.loc[1960], label='60s', color=colors[2], **options)\n",
    "thinkplot.config(axis=axis)\n",
    "\n",
    "thinkplot.subplot(4)\n",
    "thinkplot.plot(percent_none.loc[1950], label='50s')\n",
    "thinkplot.config(xlabel=xlabel, ylabel=ylabel, axis=axis, color=colors[3], **options)\n",
    "\n",
    "thinkplot.subplot(5)\n",
    "thinkplot.plot(percent_none.loc[1940], label='40s', color=colors[4], **options)\n",
    "thinkplot.config(xlabel=xlabel, axis=axis)\n",
    "\n",
    "thinkplot.subplot(6)\n",
    "thinkplot.plot(percent_none.loc[1930], label='30s', color=colors[5], **options)\n",
    "thinkplot.config(xlabel=xlabel, axis=axis)"
   ]
  },
  {
   "cell_type": "markdown",
   "metadata": {},
   "source": [
    "## Generational replacement"
   ]
  },
  {
   "cell_type": "markdown",
   "metadata": {},
   "source": [
    "Choose colors"
   ]
  },
  {
   "cell_type": "code",
   "execution_count": 28,
   "metadata": {
    "collapsed": false
   },
   "outputs": [
    {
     "data": {
      "image/png": "[encoded data removed]",
      "text/plain": [
       "<matplotlib.figure.Figure at 0x7f92339cd610>"
      ]
     },
     "metadata": {},
     "output_type": "display_data"
    }
   ],
   "source": [
    "RED, BLUE, GREEN, PURPLE, ORANGE, YELLOW = sns.color_palette('Set1')\n",
    "sns.palplot(colors)"
   ]
  },
  {
   "cell_type": "markdown",
   "metadata": {},
   "source": []
  },
  {
   "cell_type": "code",
   "execution_count": 29,
   "metadata": {
    "collapsed": false
   },
   "outputs": [],
   "source": [
    "def plot_grouped(grouped):\n",
    "    \"\"\"Plot one line for each religious group.\n",
    "    \n",
    "    grouped: GroupBy object with one-hots for each religious group\n",
    "    \"\"\"\n",
    "    percent_other = grouped.other.mean() * 100\n",
    "    percent_none = grouped.none.mean() * 100\n",
    "    percent_prot = grouped.prot.mean() * 100\n",
    "    percent_cath = grouped.cath.mean() * 100\n",
    "    \n",
    "    thinkplot.plot(percent_prot, color=ORANGE, label='Protestant')\n",
    "    thinkplot.plot(percent_cath, color=GREEN, label='Catholic')\n",
    "    thinkplot.plot(percent_none, color=RED, label='None')\n",
    "    thinkplot.plot(percent_other, color=BLUE, label='Other')"
   ]
  },
  {
   "cell_type": "markdown",
   "metadata": {},
   "source": [
    "Plot the percentage in each religious group as a function of interview year."
   ]
  },
  {
   "cell_type": "code",
   "execution_count": 30,
   "metadata": {
    "collapsed": false
   },
   "outputs": [
    {
     "data": {
      "image/png": "[encoded data removed]",
      "text/plain": [
       "<matplotlib.figure.Figure at 0x7f9233986b50>"
      ]
     },
     "metadata": {},
     "output_type": "display_data"
    }
   ],
   "source": [
    "grouped1 = sample.groupby(['year'])\n",
    "plot_grouped(grouped1)\n",
    "thinkplot.config(xlabel='Year of interview', ylabel='Percent')"
   ]
  },
  {
   "cell_type": "markdown",
   "metadata": {},
   "source": [
    "Plot the percentage in each religious group as a function of birth cohort."
   ]
  },
  {
   "cell_type": "code",
   "execution_count": 31,
   "metadata": {
    "collapsed": false
   },
   "outputs": [
    {
     "data": {
      "image/png": "[encoded data removed]",
      "text/plain": [
       "<matplotlib.figure.Figure at 0x7f9233aa9a10>"
      ]
     },
     "metadata": {},
     "output_type": "display_data"
    }
   ],
   "source": [
    "grouped2 = sample.groupby(['cohort5'])\n",
    "plot_grouped(grouped2)\n",
    "thinkplot.config(xlabel='Year of birth', ylabel='Percent')"
   ]
  },
  {
   "cell_type": "markdown",
   "metadata": {},
   "source": [
    "##  Modeling"
   ]
  },
  {
   "cell_type": "markdown",
   "metadata": {},
   "source": [
    "Before running models, center the factors we're planning to use."
   ]
  },
  {
   "cell_type": "code",
   "execution_count": 32,
   "metadata": {
    "collapsed": false
   },
   "outputs": [],
   "source": [
    "def center_factors(df):\n",
    "    \"\"\"Center factors around their means.\n",
    "    \n",
    "    df: DataFrame\n",
    "    \"\"\"\n",
    "    df['cohort66'] = df.cohort - 1966\n",
    "    df['cohort662'] = df.cohort66**2"
   ]
  },
  {
   "cell_type": "markdown",
   "metadata": {},
   "source": []
  },
  {
   "cell_type": "code",
   "execution_count": 33,
   "metadata": {
    "collapsed": false
   },
   "outputs": [
    {
     "data": {
      "text/html": [
       "<div>\n",
       "<table border=\"1\" class=\"dataframe\">\n",
       "  <thead>\n",
       "    <tr style=\"text-align: right;\">\n",
       "      <th></th>\n",
       "      <th>year</th>\n",
       "      <th>conclerg</th>\n",
       "      <th>bible</th>\n",
       "      <th>cohort</th>\n",
       "      <th>age</th>\n",
       "      <th>wtssall</th>\n",
       "      <th>ballot</th>\n",
       "      <th>relig</th>\n",
       "      <th>educ</th>\n",
       "      <th>id_</th>\n",
       "      <th>...</th>\n",
       "      <th>believe</th>\n",
       "      <th>age_group</th>\n",
       "      <th>cohort5</th>\n",
       "      <th>cohort10</th>\n",
       "      <th>none</th>\n",
       "      <th>cath</th>\n",
       "      <th>prot</th>\n",
       "      <th>other</th>\n",
       "      <th>cohort66</th>\n",
       "      <th>cohort662</th>\n",
       "    </tr>\n",
       "  </thead>\n",
       "  <tbody>\n",
       "    <tr>\n",
       "      <th>0</th>\n",
       "      <td>1972</td>\n",
       "      <td>0</td>\n",
       "      <td>0</td>\n",
       "      <td>1917.0</td>\n",
       "      <td>55.0</td>\n",
       "      <td>0.8893</td>\n",
       "      <td>0</td>\n",
       "      <td>1.0</td>\n",
       "      <td>12</td>\n",
       "      <td>1176</td>\n",
       "      <td>...</td>\n",
       "      <td>False</td>\n",
       "      <td>55.0</td>\n",
       "      <td>1917.5</td>\n",
       "      <td>1910.0</td>\n",
       "      <td>0</td>\n",
       "      <td>0</td>\n",
       "      <td>1</td>\n",
       "      <td>0</td>\n",
       "      <td>-49.0</td>\n",
       "      <td>2401.0</td>\n",
       "    </tr>\n",
       "    <tr>\n",
       "      <th>1</th>\n",
       "      <td>1972</td>\n",
       "      <td>0</td>\n",
       "      <td>0</td>\n",
       "      <td>1905.0</td>\n",
       "      <td>67.0</td>\n",
       "      <td>0.8893</td>\n",
       "      <td>0</td>\n",
       "      <td>1.0</td>\n",
       "      <td>4</td>\n",
       "      <td>1341</td>\n",
       "      <td>...</td>\n",
       "      <td>False</td>\n",
       "      <td>65.0</td>\n",
       "      <td>1907.5</td>\n",
       "      <td>1900.0</td>\n",
       "      <td>0</td>\n",
       "      <td>0</td>\n",
       "      <td>1</td>\n",
       "      <td>0</td>\n",
       "      <td>-61.0</td>\n",
       "      <td>3721.0</td>\n",
       "    </tr>\n",
       "    <tr>\n",
       "      <th>2</th>\n",
       "      <td>1972</td>\n",
       "      <td>0</td>\n",
       "      <td>0</td>\n",
       "      <td>1921.0</td>\n",
       "      <td>51.0</td>\n",
       "      <td>0.8893</td>\n",
       "      <td>0</td>\n",
       "      <td>2.0</td>\n",
       "      <td>12</td>\n",
       "      <td>902</td>\n",
       "      <td>...</td>\n",
       "      <td>False</td>\n",
       "      <td>50.0</td>\n",
       "      <td>1922.5</td>\n",
       "      <td>1920.0</td>\n",
       "      <td>0</td>\n",
       "      <td>1</td>\n",
       "      <td>0</td>\n",
       "      <td>0</td>\n",
       "      <td>-45.0</td>\n",
       "      <td>2025.0</td>\n",
       "    </tr>\n",
       "    <tr>\n",
       "      <th>3</th>\n",
       "      <td>1972</td>\n",
       "      <td>0</td>\n",
       "      <td>0</td>\n",
       "      <td>1922.0</td>\n",
       "      <td>50.0</td>\n",
       "      <td>0.8893</td>\n",
       "      <td>0</td>\n",
       "      <td>1.0</td>\n",
       "      <td>12</td>\n",
       "      <td>1403</td>\n",
       "      <td>...</td>\n",
       "      <td>False</td>\n",
       "      <td>50.0</td>\n",
       "      <td>1922.5</td>\n",
       "      <td>1920.0</td>\n",
       "      <td>0</td>\n",
       "      <td>0</td>\n",
       "      <td>1</td>\n",
       "      <td>0</td>\n",
       "      <td>-44.0</td>\n",
       "      <td>1936.0</td>\n",
       "    </tr>\n",
       "    <tr>\n",
       "      <th>4</th>\n",
       "      <td>1972</td>\n",
       "      <td>0</td>\n",
       "      <td>0</td>\n",
       "      <td>1919.0</td>\n",
       "      <td>53.0</td>\n",
       "      <td>1.3339</td>\n",
       "      <td>0</td>\n",
       "      <td>5.0</td>\n",
       "      <td>8</td>\n",
       "      <td>854</td>\n",
       "      <td>...</td>\n",
       "      <td>False</td>\n",
       "      <td>50.0</td>\n",
       "      <td>1917.5</td>\n",
       "      <td>1910.0</td>\n",
       "      <td>0</td>\n",
       "      <td>0</td>\n",
       "      <td>0</td>\n",
       "      <td>1</td>\n",
       "      <td>-47.0</td>\n",
       "      <td>2209.0</td>\n",
       "    </tr>\n",
       "  </tbody>\n",
       "</table>\n",
       "<p>5 rows × 23 columns</p>\n",
       "</div>"
      ],
      "text/plain": [
       "   year  conclerg  bible  cohort   age  wtssall  ballot  relig  educ   id_  \\\n",
       "0  1972         0      0  1917.0  55.0   0.8893       0    1.0    12  1176   \n",
       "1  1972         0      0  1905.0  67.0   0.8893       0    1.0     4  1341   \n",
       "2  1972         0      0  1921.0  51.0   0.8893       0    2.0    12   902   \n",
       "3  1972         0      0  1922.0  50.0   0.8893       0    1.0    12  1403   \n",
       "4  1972         0      0  1919.0  53.0   1.3339       0    5.0     8   854   \n",
       "\n",
       "     ...      believe age_group cohort5 cohort10  none  cath  prot  other  \\\n",
       "0    ...        False      55.0  1917.5   1910.0     0     0     1      0   \n",
       "1    ...        False      65.0  1907.5   1900.0     0     0     1      0   \n",
       "2    ...        False      50.0  1922.5   1920.0     0     1     0      0   \n",
       "3    ...        False      50.0  1922.5   1920.0     0     0     1      0   \n",
       "4    ...        False      50.0  1917.5   1910.0     0     0     0      1   \n",
       "\n",
       "   cohort66  cohort662  \n",
       "0     -49.0     2401.0  \n",
       "1     -61.0     3721.0  \n",
       "2     -45.0     2025.0  \n",
       "3     -44.0     1936.0  \n",
       "4     -47.0     2209.0  \n",
       "\n",
       "[5 rows x 23 columns]"
      ]
     },
     "execution_count": 33,
     "metadata": {},
     "output_type": "execute_result"
    }
   ],
   "source": [
    "center_factors(sample)\n",
    "sample.head()"
   ]
  },
  {
   "cell_type": "markdown",
   "metadata": {},
   "source": [
    "Run logistic regression to fit models to each religious group."
   ]
  },
  {
   "cell_type": "code",
   "execution_count": 34,
   "metadata": {
    "collapsed": false
   },
   "outputs": [
    {
     "name": "stdout",
     "output_type": "stream",
     "text": [
      "Optimization terminated successfully.\n",
      "         Current function value: 0.663488\n",
      "         Iterations 5\n"
     ]
    },
    {
     "data": {
      "text/html": [
       "<table class=\"simpletable\">\n",
       "<caption>Logit Regression Results</caption>\n",
       "<tr>\n",
       "  <th>Dep. Variable:</th>       <td>prot</td>       <th>  No. Observations:  </th>  <td> 61995</td> \n",
       "</tr>\n",
       "<tr>\n",
       "  <th>Model:</th>               <td>Logit</td>      <th>  Df Residuals:      </th>  <td> 61992</td> \n",
       "</tr>\n",
       "<tr>\n",
       "  <th>Method:</th>               <td>MLE</td>       <th>  Df Model:          </th>  <td>     2</td> \n",
       "</tr>\n",
       "<tr>\n",
       "  <th>Date:</th>          <td>Tue, 23 May 2017</td> <th>  Pseudo R-squ.:     </th>  <td>0.02220</td>\n",
       "</tr>\n",
       "<tr>\n",
       "  <th>Time:</th>              <td>17:04:06</td>     <th>  Log-Likelihood:    </th> <td> -41133.</td>\n",
       "</tr>\n",
       "<tr>\n",
       "  <th>converged:</th>           <td>True</td>       <th>  LL-Null:           </th> <td> -42067.</td>\n",
       "</tr>\n",
       "<tr>\n",
       "  <th> </th>                      <td> </td>        <th>  LLR p-value:       </th>  <td> 0.000</td> \n",
       "</tr>\n",
       "</table>\n",
       "<table class=\"simpletable\">\n",
       "<tr>\n",
       "      <td></td>         <th>coef</th>     <th>std err</th>      <th>z</th>      <th>P>|z|</th>  <th>[0.025</th>    <th>0.975]</th>  \n",
       "</tr>\n",
       "<tr>\n",
       "  <th>Intercept</th> <td>    0.0801</td> <td>    0.010</td> <td>    7.660</td> <td> 0.000</td> <td>    0.060</td> <td>    0.101</td>\n",
       "</tr>\n",
       "<tr>\n",
       "  <th>cohort66</th>  <td>   -0.0209</td> <td>    0.001</td> <td>  -29.183</td> <td> 0.000</td> <td>   -0.022</td> <td>   -0.019</td>\n",
       "</tr>\n",
       "<tr>\n",
       "  <th>cohort662</th> <td>   -0.0001</td> <td> 1.58e-05</td> <td>   -6.345</td> <td> 0.000</td> <td>   -0.000</td> <td>-6.93e-05</td>\n",
       "</tr>\n",
       "</table>"
      ],
      "text/plain": [
       "<class 'statsmodels.iolib.summary.Summary'>\n",
       "\"\"\"\n",
       "                           Logit Regression Results                           \n",
       "==============================================================================\n",
       "Dep. Variable:                   prot   No. Observations:                61995\n",
       "Model:                          Logit   Df Residuals:                    61992\n",
       "Method:                           MLE   Df Model:                            2\n",
       "Date:                Tue, 23 May 2017   Pseudo R-squ.:                 0.02220\n",
       "Time:                        17:04:06   Log-Likelihood:                -41133.\n",
       "converged:                       True   LL-Null:                       -42067.\n",
       "                                        LLR p-value:                     0.000\n",
       "==============================================================================\n",
       "                 coef    std err          z      P>|z|      [0.025      0.975]\n",
       "------------------------------------------------------------------------------\n",
       "Intercept      0.0801      0.010      7.660      0.000       0.060       0.101\n",
       "cohort66      -0.0209      0.001    -29.183      0.000      -0.022      -0.019\n",
       "cohort662     -0.0001   1.58e-05     -6.345      0.000      -0.000   -6.93e-05\n",
       "==============================================================================\n",
       "\"\"\""
      ]
     },
     "execution_count": 34,
     "metadata": {},
     "output_type": "execute_result"
    }
   ],
   "source": [
    "formula = 'prot ~ cohort66 + cohort662'\n",
    "results1 = smf.logit(formula, data=sample).fit()\n",
    "results1.summary()"
   ]
  },
  {
   "cell_type": "markdown",
   "metadata": {},
   "source": []
  },
  {
   "cell_type": "code",
   "execution_count": 35,
   "metadata": {
    "collapsed": false
   },
   "outputs": [
    {
     "name": "stdout",
     "output_type": "stream",
     "text": [
      "Optimization terminated successfully.\n",
      "         Current function value: 0.565458\n",
      "         Iterations 5\n"
     ]
    },
    {
     "data": {
      "text/html": [
       "<table class=\"simpletable\">\n",
       "<caption>Logit Regression Results</caption>\n",
       "<tr>\n",
       "  <th>Dep. Variable:</th>       <td>cath</td>       <th>  No. Observations:  </th>  <td> 61995</td>  \n",
       "</tr>\n",
       "<tr>\n",
       "  <th>Model:</th>               <td>Logit</td>      <th>  Df Residuals:      </th>  <td> 61992</td>  \n",
       "</tr>\n",
       "<tr>\n",
       "  <th>Method:</th>               <td>MLE</td>       <th>  Df Model:          </th>  <td>     2</td>  \n",
       "</tr>\n",
       "<tr>\n",
       "  <th>Date:</th>          <td>Tue, 23 May 2017</td> <th>  Pseudo R-squ.:     </th> <td>0.0007958</td>\n",
       "</tr>\n",
       "<tr>\n",
       "  <th>Time:</th>              <td>17:04:06</td>     <th>  Log-Likelihood:    </th> <td> -35056.</td> \n",
       "</tr>\n",
       "<tr>\n",
       "  <th>converged:</th>           <td>True</td>       <th>  LL-Null:           </th> <td> -35083.</td> \n",
       "</tr>\n",
       "<tr>\n",
       "  <th> </th>                      <td> </td>        <th>  LLR p-value:       </th> <td>7.487e-13</td>\n",
       "</tr>\n",
       "</table>\n",
       "<table class=\"simpletable\">\n",
       "<tr>\n",
       "      <td></td>         <th>coef</th>     <th>std err</th>      <th>z</th>      <th>P>|z|</th>  <th>[0.025</th>    <th>0.975]</th>  \n",
       "</tr>\n",
       "<tr>\n",
       "  <th>Intercept</th> <td>   -1.0300</td> <td>    0.012</td> <td>  -87.496</td> <td> 0.000</td> <td>   -1.053</td> <td>   -1.007</td>\n",
       "</tr>\n",
       "<tr>\n",
       "  <th>cohort66</th>  <td>    0.0002</td> <td>    0.001</td> <td>    0.297</td> <td> 0.767</td> <td>   -0.001</td> <td>    0.002</td>\n",
       "</tr>\n",
       "<tr>\n",
       "  <th>cohort662</th> <td>-6.871e-05</td> <td> 1.75e-05</td> <td>   -3.925</td> <td> 0.000</td> <td>   -0.000</td> <td>-3.44e-05</td>\n",
       "</tr>\n",
       "</table>"
      ],
      "text/plain": [
       "<class 'statsmodels.iolib.summary.Summary'>\n",
       "\"\"\"\n",
       "                           Logit Regression Results                           \n",
       "==============================================================================\n",
       "Dep. Variable:                   cath   No. Observations:                61995\n",
       "Model:                          Logit   Df Residuals:                    61992\n",
       "Method:                           MLE   Df Model:                            2\n",
       "Date:                Tue, 23 May 2017   Pseudo R-squ.:               0.0007958\n",
       "Time:                        17:04:06   Log-Likelihood:                -35056.\n",
       "converged:                       True   LL-Null:                       -35083.\n",
       "                                        LLR p-value:                 7.487e-13\n",
       "==============================================================================\n",
       "                 coef    std err          z      P>|z|      [0.025      0.975]\n",
       "------------------------------------------------------------------------------\n",
       "Intercept     -1.0300      0.012    -87.496      0.000      -1.053      -1.007\n",
       "cohort66       0.0002      0.001      0.297      0.767      -0.001       0.002\n",
       "cohort662  -6.871e-05   1.75e-05     -3.925      0.000      -0.000   -3.44e-05\n",
       "==============================================================================\n",
       "\"\"\""
      ]
     },
     "execution_count": 35,
     "metadata": {},
     "output_type": "execute_result"
    }
   ],
   "source": [
    "formula = 'cath ~ cohort66 + cohort662'\n",
    "results2 = smf.logit(formula, data=sample).fit()\n",
    "results2.summary()"
   ]
  },
  {
   "cell_type": "markdown",
   "metadata": {},
   "source": []
  },
  {
   "cell_type": "code",
   "execution_count": 36,
   "metadata": {
    "collapsed": false
   },
   "outputs": [
    {
     "name": "stdout",
     "output_type": "stream",
     "text": [
      "Optimization terminated successfully.\n",
      "         Current function value: 0.226027\n",
      "         Iterations 7\n"
     ]
    },
    {
     "data": {
      "text/html": [
       "<table class=\"simpletable\">\n",
       "<caption>Logit Regression Results</caption>\n",
       "<tr>\n",
       "  <th>Dep. Variable:</th>       <td>other</td>      <th>  No. Observations:  </th>   <td> 61995</td>  \n",
       "</tr>\n",
       "<tr>\n",
       "  <th>Model:</th>               <td>Logit</td>      <th>  Df Residuals:      </th>   <td> 61992</td>  \n",
       "</tr>\n",
       "<tr>\n",
       "  <th>Method:</th>               <td>MLE</td>       <th>  Df Model:          </th>   <td>     2</td>  \n",
       "</tr>\n",
       "<tr>\n",
       "  <th>Date:</th>          <td>Tue, 23 May 2017</td> <th>  Pseudo R-squ.:     </th>   <td>0.01779</td> \n",
       "</tr>\n",
       "<tr>\n",
       "  <th>Time:</th>              <td>17:04:06</td>     <th>  Log-Likelihood:    </th>  <td> -14013.</td> \n",
       "</tr>\n",
       "<tr>\n",
       "  <th>converged:</th>           <td>True</td>       <th>  LL-Null:           </th>  <td> -14266.</td> \n",
       "</tr>\n",
       "<tr>\n",
       "  <th> </th>                      <td> </td>        <th>  LLR p-value:       </th> <td>6.327e-111</td>\n",
       "</tr>\n",
       "</table>\n",
       "<table class=\"simpletable\">\n",
       "<tr>\n",
       "      <td></td>         <th>coef</th>     <th>std err</th>      <th>z</th>      <th>P>|z|</th>  <th>[0.025</th>    <th>0.975]</th>  \n",
       "</tr>\n",
       "<tr>\n",
       "  <th>Intercept</th> <td>   -2.5045</td> <td>    0.020</td> <td> -124.905</td> <td> 0.000</td> <td>   -2.544</td> <td>   -2.465</td>\n",
       "</tr>\n",
       "<tr>\n",
       "  <th>cohort66</th>  <td>    0.0213</td> <td>    0.001</td> <td>   17.133</td> <td> 0.000</td> <td>    0.019</td> <td>    0.024</td>\n",
       "</tr>\n",
       "<tr>\n",
       "  <th>cohort662</th> <td>  8.87e-05</td> <td> 3.23e-05</td> <td>    2.750</td> <td> 0.006</td> <td> 2.55e-05</td> <td>    0.000</td>\n",
       "</tr>\n",
       "</table>"
      ],
      "text/plain": [
       "<class 'statsmodels.iolib.summary.Summary'>\n",
       "\"\"\"\n",
       "                           Logit Regression Results                           \n",
       "==============================================================================\n",
       "Dep. Variable:                  other   No. Observations:                61995\n",
       "Model:                          Logit   Df Residuals:                    61992\n",
       "Method:                           MLE   Df Model:                            2\n",
       "Date:                Tue, 23 May 2017   Pseudo R-squ.:                 0.01779\n",
       "Time:                        17:04:06   Log-Likelihood:                -14013.\n",
       "converged:                       True   LL-Null:                       -14266.\n",
       "                                        LLR p-value:                6.327e-111\n",
       "==============================================================================\n",
       "                 coef    std err          z      P>|z|      [0.025      0.975]\n",
       "------------------------------------------------------------------------------\n",
       "Intercept     -2.5045      0.020   -124.905      0.000      -2.544      -2.465\n",
       "cohort66       0.0213      0.001     17.133      0.000       0.019       0.024\n",
       "cohort662    8.87e-05   3.23e-05      2.750      0.006    2.55e-05       0.000\n",
       "==============================================================================\n",
       "\"\"\""
      ]
     },
     "execution_count": 36,
     "metadata": {},
     "output_type": "execute_result"
    }
   ],
   "source": [
    "formula = 'other ~ cohort66 + cohort662'\n",
    "results3 = smf.logit(formula, data=sample).fit()\n",
    "results3.summary()"
   ]
  },
  {
   "cell_type": "markdown",
   "metadata": {},
   "source": []
  },
  {
   "cell_type": "code",
   "execution_count": 37,
   "metadata": {
    "collapsed": false
   },
   "outputs": [
    {
     "name": "stdout",
     "output_type": "stream",
     "text": [
      "Optimization terminated successfully.\n",
      "         Current function value: 0.333931\n",
      "         Iterations 7\n"
     ]
    },
    {
     "data": {
      "text/html": [
       "<table class=\"simpletable\">\n",
       "<caption>Logit Regression Results</caption>\n",
       "<tr>\n",
       "  <th>Dep. Variable:</th>       <td>none</td>       <th>  No. Observations:  </th>  <td> 61995</td> \n",
       "</tr>\n",
       "<tr>\n",
       "  <th>Model:</th>               <td>Logit</td>      <th>  Df Residuals:      </th>  <td> 61992</td> \n",
       "</tr>\n",
       "<tr>\n",
       "  <th>Method:</th>               <td>MLE</td>       <th>  Df Model:          </th>  <td>     2</td> \n",
       "</tr>\n",
       "<tr>\n",
       "  <th>Date:</th>          <td>Tue, 23 May 2017</td> <th>  Pseudo R-squ.:     </th>  <td>0.06174</td>\n",
       "</tr>\n",
       "<tr>\n",
       "  <th>Time:</th>              <td>17:04:07</td>     <th>  Log-Likelihood:    </th> <td> -20702.</td>\n",
       "</tr>\n",
       "<tr>\n",
       "  <th>converged:</th>           <td>True</td>       <th>  LL-Null:           </th> <td> -22064.</td>\n",
       "</tr>\n",
       "<tr>\n",
       "  <th> </th>                      <td> </td>        <th>  LLR p-value:       </th>  <td> 0.000</td> \n",
       "</tr>\n",
       "</table>\n",
       "<table class=\"simpletable\">\n",
       "<tr>\n",
       "      <td></td>         <th>coef</th>     <th>std err</th>      <th>z</th>      <th>P>|z|</th>  <th>[0.025</th>    <th>0.975]</th>  \n",
       "</tr>\n",
       "<tr>\n",
       "  <th>Intercept</th> <td>   -1.6581</td> <td>    0.015</td> <td> -108.653</td> <td> 0.000</td> <td>   -1.688</td> <td>   -1.628</td>\n",
       "</tr>\n",
       "<tr>\n",
       "  <th>cohort66</th>  <td>    0.0347</td> <td>    0.001</td> <td>   37.328</td> <td> 0.000</td> <td>    0.033</td> <td>    0.037</td>\n",
       "</tr>\n",
       "<tr>\n",
       "  <th>cohort662</th> <td> 1.541e-08</td> <td> 2.85e-05</td> <td>    0.001</td> <td> 1.000</td> <td>-5.59e-05</td> <td> 5.59e-05</td>\n",
       "</tr>\n",
       "</table>"
      ],
      "text/plain": [
       "<class 'statsmodels.iolib.summary.Summary'>\n",
       "\"\"\"\n",
       "                           Logit Regression Results                           \n",
       "==============================================================================\n",
       "Dep. Variable:                   none   No. Observations:                61995\n",
       "Model:                          Logit   Df Residuals:                    61992\n",
       "Method:                           MLE   Df Model:                            2\n",
       "Date:                Tue, 23 May 2017   Pseudo R-squ.:                 0.06174\n",
       "Time:                        17:04:07   Log-Likelihood:                -20702.\n",
       "converged:                       True   LL-Null:                       -22064.\n",
       "                                        LLR p-value:                     0.000\n",
       "==============================================================================\n",
       "                 coef    std err          z      P>|z|      [0.025      0.975]\n",
       "------------------------------------------------------------------------------\n",
       "Intercept     -1.6581      0.015   -108.653      0.000      -1.688      -1.628\n",
       "cohort66       0.0347      0.001     37.328      0.000       0.033       0.037\n",
       "cohort662   1.541e-08   2.85e-05      0.001      1.000   -5.59e-05    5.59e-05\n",
       "==============================================================================\n",
       "\"\"\""
      ]
     },
     "execution_count": 37,
     "metadata": {},
     "output_type": "execute_result"
    }
   ],
   "source": [
    "formula = 'none ~ cohort66 + cohort662'\n",
    "results4 = smf.logit(formula, data=sample).fit()\n",
    "results4.summary()"
   ]
  },
  {
   "cell_type": "markdown",
   "metadata": {},
   "source": [
    "Use a fitted model to make a prediction."
   ]
  },
  {
   "cell_type": "code",
   "execution_count": 38,
   "metadata": {
    "collapsed": true
   },
   "outputs": [],
   "source": [
    "def make_pred(results):\n",
    "    \"\"\"Make a prediction based on a fitted model.\n",
    "    \n",
    "    results: RegressionResults object\n",
    "    \n",
    "    returns: Series that maps datas to predicted percentages\n",
    "    \"\"\"\n",
    "    cohort = np.arange(1997, 2020)\n",
    "    df = pd.DataFrame(dict(cohort=cohort))\n",
    "    center_factors(df)\n",
    "    pred = results.predict(df) * 100\n",
    "    pred.index = cohort\n",
    "    return pred"
   ]
  },
  {
   "cell_type": "markdown",
   "metadata": {},
   "source": [
    "Plot predictions."
   ]
  },
  {
   "cell_type": "code",
   "execution_count": 39,
   "metadata": {
    "collapsed": true
   },
   "outputs": [],
   "source": [
    "def plot_predictions(series_seq):\n",
    "    \"\"\"Plot a sequence of series.\n",
    "    \n",
    "    series_seq: list of series\n",
    "    \"\"\"\n",
    "    alpha = 0.3\n",
    "    colors = ['ORANGE', 'GREEN', 'BLUE', 'RED']\n",
    "    for series, color in zip(series_seq, colors):\n",
    "        thinkplot.plot(series, color=color, alpha=alpha)"
   ]
  },
  {
   "cell_type": "markdown",
   "metadata": {},
   "source": [
    "## Generational replacement"
   ]
  },
  {
   "cell_type": "markdown",
   "metadata": {},
   "source": [
    "Predict future generations based on the models."
   ]
  },
  {
   "cell_type": "code",
   "execution_count": 40,
   "metadata": {
    "collapsed": true
   },
   "outputs": [],
   "source": [
    "COLUMNS = ['prot', 'cath', 'other', 'none']\n",
    "\n",
    "def run_models(sample, result_seq, year, verbose=False):\n",
    "    \"\"\"Simulate future samples.\n",
    "    \n",
    "    sample: DataFrame, one row per respondent\n",
    "    result_seq: list of RegressionResult objects\n",
    "    year: number\n",
    "    verbose: boolean, whether to print diagnostic info\n",
    "    \n",
    "    returns: Series that maps from religion to percentage\n",
    "    \"\"\"\n",
    "    age = thinkstats2.Resample(sample.age)\n",
    "    cohort = year - age\n",
    "    if verbose:\n",
    "        # print the fraction of people in the simulated sample\n",
    "        # who were actually observed\n",
    "        print(np.mean(cohort<1997))\n",
    "\n",
    "    df = pd.DataFrame(dict(cohort=cohort))\n",
    "    center_factors(df)\n",
    "    pred = [results.predict(df).mean() for results in result_seq]\n",
    "    return pd.Series(pred, index=COLUMNS) * 100"
   ]
  },
  {
   "cell_type": "markdown",
   "metadata": {},
   "source": []
  },
  {
   "cell_type": "code",
   "execution_count": 41,
   "metadata": {
    "collapsed": false
   },
   "outputs": [
    {
     "data": {
      "text/plain": [
       "prot     48.419490\n",
       "cath     25.910228\n",
       "other     9.054950\n",
       "none     20.252926\n",
       "dtype: float64"
      ]
     },
     "execution_count": 41,
     "metadata": {},
     "output_type": "execute_result"
    }
   ],
   "source": [
    "run_models(sample, [results1, results2, results3, results4], 2016)"
   ]
  },
  {
   "cell_type": "markdown",
   "metadata": {},
   "source": []
  },
  {
   "cell_type": "code",
   "execution_count": 42,
   "metadata": {
    "collapsed": false
   },
   "outputs": [
    {
     "data": {
      "text/plain": [
       "prot     44.634577\n",
       "cath     25.779548\n",
       "other    10.494087\n",
       "none     24.222906\n",
       "dtype: float64"
      ]
     },
     "execution_count": 42,
     "metadata": {},
     "output_type": "execute_result"
    }
   ],
   "source": [
    "run_models(sample, [results1, results2, results3, results4], 2023)"
   ]
  },
  {
   "cell_type": "markdown",
   "metadata": {},
   "source": []
  },
  {
   "cell_type": "code",
   "execution_count": 43,
   "metadata": {
    "collapsed": false
   },
   "outputs": [
    {
     "data": {
      "text/plain": [
       "prot     36.770025\n",
       "cath     25.152433\n",
       "other    14.253596\n",
       "none     33.457205\n",
       "dtype: float64"
      ]
     },
     "execution_count": 43,
     "metadata": {},
     "output_type": "execute_result"
    }
   ],
   "source": [
    "run_models(sample, [results1, results2, results3, results4], 2037)"
   ]
  },
  {
   "cell_type": "markdown",
   "metadata": {},
   "source": []
  },
  {
   "cell_type": "code",
   "execution_count": 44,
   "metadata": {
    "collapsed": false
   },
   "outputs": [
    {
     "data": {
      "text/plain": [
       "prot     27.602203\n",
       "cath     23.832103\n",
       "other    20.605832\n",
       "none     45.897556\n",
       "dtype: float64"
      ]
     },
     "execution_count": 44,
     "metadata": {},
     "output_type": "execute_result"
    }
   ],
   "source": [
    "run_models(sample, [results1, results2, results3, results4], 2053)"
   ]
  },
  {
   "cell_type": "markdown",
   "metadata": {},
   "source": []
  },
  {
   "cell_type": "code",
   "execution_count": 45,
   "metadata": {
    "collapsed": false
   },
   "outputs": [],
   "source": [
    "result_seq = [results1, results2, results3, results4]\n",
    "df = pd.DataFrame(columns=COLUMNS)\n",
    "\n",
    "for year in range(2016, 2050):\n",
    "    df.loc[year] = run_models(sample, result_seq, year)"
   ]
  },
  {
   "cell_type": "markdown",
   "metadata": {},
   "source": []
  },
  {
   "cell_type": "code",
   "execution_count": 46,
   "metadata": {
    "collapsed": false
   },
   "outputs": [
    {
     "data": {
      "text/html": [
       "<div>\n",
       "<table border=\"1\" class=\"dataframe\">\n",
       "  <thead>\n",
       "    <tr style=\"text-align: right;\">\n",
       "      <th></th>\n",
       "      <th>prot</th>\n",
       "      <th>cath</th>\n",
       "      <th>other</th>\n",
       "      <th>none</th>\n",
       "    </tr>\n",
       "  </thead>\n",
       "  <tbody>\n",
       "    <tr>\n",
       "      <th>2016</th>\n",
       "      <td>48.361950</td>\n",
       "      <td>25.909586</td>\n",
       "      <td>9.073373</td>\n",
       "      <td>20.308123</td>\n",
       "    </tr>\n",
       "    <tr>\n",
       "      <th>2017</th>\n",
       "      <td>47.888960</td>\n",
       "      <td>25.898686</td>\n",
       "      <td>9.245325</td>\n",
       "      <td>20.791790</td>\n",
       "    </tr>\n",
       "    <tr>\n",
       "      <th>2018</th>\n",
       "      <td>47.312400</td>\n",
       "      <td>25.884737</td>\n",
       "      <td>9.454899</td>\n",
       "      <td>21.381386</td>\n",
       "    </tr>\n",
       "    <tr>\n",
       "      <th>2019</th>\n",
       "      <td>46.787845</td>\n",
       "      <td>25.865895</td>\n",
       "      <td>9.653329</td>\n",
       "      <td>21.932177</td>\n",
       "    </tr>\n",
       "    <tr>\n",
       "      <th>2020</th>\n",
       "      <td>46.226315</td>\n",
       "      <td>25.848133</td>\n",
       "      <td>9.864087</td>\n",
       "      <td>22.516820</td>\n",
       "    </tr>\n",
       "    <tr>\n",
       "      <th>2021</th>\n",
       "      <td>45.693482</td>\n",
       "      <td>25.827119</td>\n",
       "      <td>10.071584</td>\n",
       "      <td>23.082844</td>\n",
       "    </tr>\n",
       "    <tr>\n",
       "      <th>2022</th>\n",
       "      <td>45.164920</td>\n",
       "      <td>25.804084</td>\n",
       "      <td>10.281414</td>\n",
       "      <td>23.650587</td>\n",
       "    </tr>\n",
       "    <tr>\n",
       "      <th>2023</th>\n",
       "      <td>44.591662</td>\n",
       "      <td>25.776532</td>\n",
       "      <td>10.513468</td>\n",
       "      <td>24.273027</td>\n",
       "    </tr>\n",
       "    <tr>\n",
       "      <th>2024</th>\n",
       "      <td>44.037053</td>\n",
       "      <td>25.749327</td>\n",
       "      <td>10.738915</td>\n",
       "      <td>24.875587</td>\n",
       "    </tr>\n",
       "    <tr>\n",
       "      <th>2025</th>\n",
       "      <td>43.473904</td>\n",
       "      <td>25.715070</td>\n",
       "      <td>10.979388</td>\n",
       "      <td>25.505551</td>\n",
       "    </tr>\n",
       "    <tr>\n",
       "      <th>2026</th>\n",
       "      <td>42.923662</td>\n",
       "      <td>25.684797</td>\n",
       "      <td>11.210217</td>\n",
       "      <td>26.112564</td>\n",
       "    </tr>\n",
       "    <tr>\n",
       "      <th>2027</th>\n",
       "      <td>42.331529</td>\n",
       "      <td>25.644452</td>\n",
       "      <td>11.472951</td>\n",
       "      <td>26.787270</td>\n",
       "    </tr>\n",
       "    <tr>\n",
       "      <th>2028</th>\n",
       "      <td>41.912442</td>\n",
       "      <td>25.613247</td>\n",
       "      <td>11.668068</td>\n",
       "      <td>27.274420</td>\n",
       "    </tr>\n",
       "    <tr>\n",
       "      <th>2029</th>\n",
       "      <td>41.274300</td>\n",
       "      <td>25.567930</td>\n",
       "      <td>11.955735</td>\n",
       "      <td>28.006212</td>\n",
       "    </tr>\n",
       "    <tr>\n",
       "      <th>2030</th>\n",
       "      <td>40.749023</td>\n",
       "      <td>25.525638</td>\n",
       "      <td>12.205013</td>\n",
       "      <td>28.623684</td>\n",
       "    </tr>\n",
       "    <tr>\n",
       "      <th>2031</th>\n",
       "      <td>40.092696</td>\n",
       "      <td>25.474849</td>\n",
       "      <td>12.513946</td>\n",
       "      <td>29.389168</td>\n",
       "    </tr>\n",
       "    <tr>\n",
       "      <th>2032</th>\n",
       "      <td>39.467607</td>\n",
       "      <td>25.423734</td>\n",
       "      <td>12.815831</td>\n",
       "      <td>30.127033</td>\n",
       "    </tr>\n",
       "    <tr>\n",
       "      <th>2033</th>\n",
       "      <td>38.976701</td>\n",
       "      <td>25.375063</td>\n",
       "      <td>13.074207</td>\n",
       "      <td>30.731406</td>\n",
       "    </tr>\n",
       "    <tr>\n",
       "      <th>2034</th>\n",
       "      <td>38.389373</td>\n",
       "      <td>25.317919</td>\n",
       "      <td>13.379319</td>\n",
       "      <td>31.450556</td>\n",
       "    </tr>\n",
       "    <tr>\n",
       "      <th>2035</th>\n",
       "      <td>37.855308</td>\n",
       "      <td>25.269048</td>\n",
       "      <td>13.651832</td>\n",
       "      <td>32.095081</td>\n",
       "    </tr>\n",
       "    <tr>\n",
       "      <th>2036</th>\n",
       "      <td>37.252145</td>\n",
       "      <td>25.206276</td>\n",
       "      <td>13.979659</td>\n",
       "      <td>32.846079</td>\n",
       "    </tr>\n",
       "    <tr>\n",
       "      <th>2037</th>\n",
       "      <td>36.725675</td>\n",
       "      <td>25.146884</td>\n",
       "      <td>14.279698</td>\n",
       "      <td>33.515106</td>\n",
       "    </tr>\n",
       "    <tr>\n",
       "      <th>2038</th>\n",
       "      <td>36.080735</td>\n",
       "      <td>25.078460</td>\n",
       "      <td>14.635475</td>\n",
       "      <td>34.321283</td>\n",
       "    </tr>\n",
       "    <tr>\n",
       "      <th>2039</th>\n",
       "      <td>35.502096</td>\n",
       "      <td>25.012059</td>\n",
       "      <td>14.969785</td>\n",
       "      <td>35.058406</td>\n",
       "    </tr>\n",
       "    <tr>\n",
       "      <th>2040</th>\n",
       "      <td>34.957532</td>\n",
       "      <td>24.945791</td>\n",
       "      <td>15.300423</td>\n",
       "      <td>35.765234</td>\n",
       "    </tr>\n",
       "    <tr>\n",
       "      <th>2041</th>\n",
       "      <td>34.421095</td>\n",
       "      <td>24.875743</td>\n",
       "      <td>15.638301</td>\n",
       "      <td>36.474341</td>\n",
       "    </tr>\n",
       "    <tr>\n",
       "      <th>2042</th>\n",
       "      <td>33.819445</td>\n",
       "      <td>24.803789</td>\n",
       "      <td>16.001137</td>\n",
       "      <td>37.248765</td>\n",
       "    </tr>\n",
       "    <tr>\n",
       "      <th>2043</th>\n",
       "      <td>33.250465</td>\n",
       "      <td>24.723519</td>\n",
       "      <td>16.382408</td>\n",
       "      <td>38.019009</td>\n",
       "    </tr>\n",
       "    <tr>\n",
       "      <th>2044</th>\n",
       "      <td>32.650115</td>\n",
       "      <td>24.644816</td>\n",
       "      <td>16.767109</td>\n",
       "      <td>38.811778</td>\n",
       "    </tr>\n",
       "    <tr>\n",
       "      <th>2045</th>\n",
       "      <td>32.113652</td>\n",
       "      <td>24.564701</td>\n",
       "      <td>17.147016</td>\n",
       "      <td>39.549466</td>\n",
       "    </tr>\n",
       "    <tr>\n",
       "      <th>2046</th>\n",
       "      <td>31.567503</td>\n",
       "      <td>24.485183</td>\n",
       "      <td>17.526303</td>\n",
       "      <td>40.293734</td>\n",
       "    </tr>\n",
       "    <tr>\n",
       "      <th>2047</th>\n",
       "      <td>30.894673</td>\n",
       "      <td>24.385397</td>\n",
       "      <td>17.999993</td>\n",
       "      <td>41.215222</td>\n",
       "    </tr>\n",
       "    <tr>\n",
       "      <th>2048</th>\n",
       "      <td>30.444903</td>\n",
       "      <td>24.314663</td>\n",
       "      <td>18.336961</td>\n",
       "      <td>41.841927</td>\n",
       "    </tr>\n",
       "    <tr>\n",
       "      <th>2049</th>\n",
       "      <td>29.859657</td>\n",
       "      <td>24.220158</td>\n",
       "      <td>18.780547</td>\n",
       "      <td>42.665112</td>\n",
       "    </tr>\n",
       "  </tbody>\n",
       "</table>\n",
       "</div>"
      ],
      "text/plain": [
       "           prot       cath      other       none\n",
       "2016  48.361950  25.909586   9.073373  20.308123\n",
       "2017  47.888960  25.898686   9.245325  20.791790\n",
       "2018  47.312400  25.884737   9.454899  21.381386\n",
       "2019  46.787845  25.865895   9.653329  21.932177\n",
       "2020  46.226315  25.848133   9.864087  22.516820\n",
       "2021  45.693482  25.827119  10.071584  23.082844\n",
       "2022  45.164920  25.804084  10.281414  23.650587\n",
       "2023  44.591662  25.776532  10.513468  24.273027\n",
       "2024  44.037053  25.749327  10.738915  24.875587\n",
       "2025  43.473904  25.715070  10.979388  25.505551\n",
       "2026  42.923662  25.684797  11.210217  26.112564\n",
       "2027  42.331529  25.644452  11.472951  26.787270\n",
       "2028  41.912442  25.613247  11.668068  27.274420\n",
       "2029  41.274300  25.567930  11.955735  28.006212\n",
       "2030  40.749023  25.525638  12.205013  28.623684\n",
       "2031  40.092696  25.474849  12.513946  29.389168\n",
       "2032  39.467607  25.423734  12.815831  30.127033\n",
       "2033  38.976701  25.375063  13.074207  30.731406\n",
       "2034  38.389373  25.317919  13.379319  31.450556\n",
       "2035  37.855308  25.269048  13.651832  32.095081\n",
       "2036  37.252145  25.206276  13.979659  32.846079\n",
       "2037  36.725675  25.146884  14.279698  33.515106\n",
       "2038  36.080735  25.078460  14.635475  34.321283\n",
       "2039  35.502096  25.012059  14.969785  35.058406\n",
       "2040  34.957532  24.945791  15.300423  35.765234\n",
       "2041  34.421095  24.875743  15.638301  36.474341\n",
       "2042  33.819445  24.803789  16.001137  37.248765\n",
       "2043  33.250465  24.723519  16.382408  38.019009\n",
       "2044  32.650115  24.644816  16.767109  38.811778\n",
       "2045  32.113652  24.564701  17.147016  39.549466\n",
       "2046  31.567503  24.485183  17.526303  40.293734\n",
       "2047  30.894673  24.385397  17.999993  41.215222\n",
       "2048  30.444903  24.314663  18.336961  41.841927\n",
       "2049  29.859657  24.220158  18.780547  42.665112"
      ]
     },
     "execution_count": 46,
     "metadata": {},
     "output_type": "execute_result"
    }
   ],
   "source": [
    "df"
   ]
  },
  {
   "cell_type": "markdown",
   "metadata": {},
   "source": []
  },
  {
   "cell_type": "code",
   "execution_count": 47,
   "metadata": {
    "collapsed": false
   },
   "outputs": [
    {
     "data": {
      "image/png": "[encoded data removed]",
      "text/plain": [
       "<matplotlib.figure.Figure at 0x7f92327dfe50>"
      ]
     },
     "metadata": {},
     "output_type": "display_data"
    }
   ],
   "source": [
    "plot_predictions([df.prot, df.cath, df.other, df.none])\n",
    "\n",
    "plot_grouped(grouped1)\n",
    "thinkplot.config(xlabel='Year of birth')"
   ]
  },
  {
   "cell_type": "markdown",
   "metadata": {},
   "source": []
  },
  {
   "cell_type": "code",
   "execution_count": 48,
   "metadata": {
    "collapsed": true
   },
   "outputs": [],
   "source": [
    "recent = sample.loc[sample.year >= 2008].copy()"
   ]
  },
  {
   "cell_type": "code",
   "execution_count": 49,
   "metadata": {
    "collapsed": false
   },
   "outputs": [],
   "source": [
    "def plot_beliefs(grouped):\n",
    "    df = pd.DataFrame(columns=['atheist', 'agnostic', 'believe'])\n",
    "    df['atheist'] = grouped.atheist.mean()\n",
    "    df['agnostic'] = grouped.agnostic.mean()\n",
    "    df['believe'] = grouped.believe.mean()\n",
    "\n",
    "    df[df == 0.0] = np.nan\n",
    "    df *= 100\n",
    "    df.plot()"
   ]
  },
  {
   "cell_type": "code",
   "execution_count": 50,
   "metadata": {
    "collapsed": false
   },
   "outputs": [
    {
     "data": {
      "image/png": "[encoded data removed]",
      "text/plain": [
       "<matplotlib.figure.Figure at 0x7f922947df90>"
      ]
     },
     "metadata": {},
     "output_type": "display_data"
    }
   ],
   "source": [
    "grouped = recent.groupby('year')\n",
    "plot_beliefs(grouped)"
   ]
  },
  {
   "cell_type": "code",
   "execution_count": 51,
   "metadata": {
    "collapsed": false
   },
   "outputs": [
    {
     "data": {
      "image/png": "[encoded data removed]",
      "text/plain": [
       "<matplotlib.figure.Figure at 0x7f9229317110>"
      ]
     },
     "metadata": {},
     "output_type": "display_data"
    }
   ],
   "source": [
    "grouped = recent.groupby('cohort5')\n",
    "plot_beliefs(grouped)"
   ]
  },
  {
   "cell_type": "code",
   "execution_count": null,
   "metadata": {
    "collapsed": true
   },
   "outputs": [],
   "source": []
  },
  {
   "cell_type": "code",
   "execution_count": null,
   "metadata": {
    "collapsed": true
   },
   "outputs": [],
   "source": []
  },
  {
   "cell_type": "code",
   "execution_count": null,
   "metadata": {
    "collapsed": true
   },
   "outputs": [],
   "source": []
  },
  {
   "cell_type": "code",
   "execution_count": null,
   "metadata": {
    "collapsed": true
   },
   "outputs": [],
   "source": []
  },
  {
   "cell_type": "markdown",
   "metadata": {},
   "source": []
  },
  {
   "cell_type": "markdown",
   "metadata": {
    "collapsed": true
   },
   "source": [
    "## Older explorations"
   ]
  },
  {
   "cell_type": "code",
   "execution_count": 52,
   "metadata": {
    "collapsed": true
   },
   "outputs": [],
   "source": [
    "def percent_relig(df):\n",
    "    \"\"\"Compute the fraction in each major religious group.\n",
    "    \n",
    "    df: DataFrame\n",
    "    \n",
    "    returns: Series that maps from group name to percent.\n",
    "    \"\"\"\n",
    "    return df[['prot', 'cath', 'other', 'none']].mean()"
   ]
  },
  {
   "cell_type": "code",
   "execution_count": 53,
   "metadata": {
    "collapsed": false
   },
   "outputs": [
    {
     "data": {
      "text/plain": [
       "prot     0.509334\n",
       "cath     0.227897\n",
       "other    0.069391\n",
       "none     0.210285\n",
       "dtype: float64"
      ]
     },
     "execution_count": 53,
     "metadata": {},
     "output_type": "execute_result"
    }
   ],
   "source": [
    "percent_relig(sample[sample.year==2016])"
   ]
  },
  {
   "cell_type": "markdown",
   "metadata": {},
   "source": []
  },
  {
   "cell_type": "code",
   "execution_count": 54,
   "metadata": {
    "collapsed": false
   },
   "outputs": [
    {
     "data": {
      "text/plain": [
       "(24146, 23)"
      ]
     },
     "execution_count": 54,
     "metadata": {},
     "output_type": "execute_result"
    }
   ],
   "source": [
    "recent = sample.loc[sample.year>=2000].copy()\n",
    "recent.shape"
   ]
  },
  {
   "cell_type": "code",
   "execution_count": 55,
   "metadata": {
    "collapsed": false
   },
   "outputs": [
    {
     "data": {
      "text/plain": [
       "prot     0.526008\n",
       "cath     0.251719\n",
       "other    0.087882\n",
       "none     0.168641\n",
       "dtype: float64"
      ]
     },
     "execution_count": 55,
     "metadata": {},
     "output_type": "execute_result"
    }
   ],
   "source": [
    "percent_relig(recent)"
   ]
  },
  {
   "cell_type": "code",
   "execution_count": 56,
   "metadata": {
    "collapsed": false
   },
   "outputs": [
    {
     "data": {
      "text/plain": [
       "2007.6164996272676"
      ]
     },
     "execution_count": 56,
     "metadata": {},
     "output_type": "execute_result"
    }
   ],
   "source": [
    "recent.year.mean()"
   ]
  },
  {
   "cell_type": "code",
   "execution_count": 57,
   "metadata": {
    "collapsed": false
   },
   "outputs": [
    {
     "data": {
      "text/plain": [
       "{'xscale': 'linear', 'yscale': 'linear'}"
      ]
     },
     "execution_count": 57,
     "metadata": {},
     "output_type": "execute_result"
    },
    {
     "data": {
      "image/png": "[encoded data removed]",
      "text/plain": [
       "<matplotlib.figure.Figure at 0x7f922927ccd0>"
      ]
     },
     "metadata": {},
     "output_type": "display_data"
    }
   ],
   "source": [
    "thinkplot.Cdf(thinkstats2.Cdf(recent.age))"
   ]
  },
  {
   "cell_type": "code",
   "execution_count": 58,
   "metadata": {
    "collapsed": false
   },
   "outputs": [
    {
     "data": {
      "image/png": "[encoded data removed]",
      "text/plain": [
       "<matplotlib.figure.Figure at 0x7f922930c950>"
      ]
     },
     "metadata": {},
     "output_type": "display_data"
    }
   ],
   "source": [
    "hist = thinkstats2.Hist(recent.age)\n",
    "thinkplot.Pdf(hist)"
   ]
  },
  {
   "cell_type": "code",
   "execution_count": 59,
   "metadata": {
    "collapsed": true
   },
   "outputs": [],
   "source": [
    "def advance(df):\n",
    "    \"\"\"Ages a cohort by 1 year.\n",
    "    \n",
    "    df: DataFrame\n",
    "    \n",
    "    returns: new DataFrame\n",
    "    \"\"\"\n",
    "    new = df.copy()\n",
    "    new.year += 1\n",
    "    new.age += 1\n",
    "    \n",
    "    return new"
   ]
  },
  {
   "cell_type": "code",
   "execution_count": 60,
   "metadata": {
    "collapsed": false
   },
   "outputs": [],
   "source": [
    "df = recent\n",
    "pr = percent_relig(recent)\n",
    "series = pd.DataFrame(columns=pr.index)\n",
    "\n",
    "for _ in range(10):\n",
    "    df = advance(df)\n",
    "    year = df.year.mean()\n",
    "    series.loc[year] = percent_relig(df)"
   ]
  },
  {
   "cell_type": "code",
   "execution_count": 61,
   "metadata": {
    "collapsed": false
   },
   "outputs": [
    {
     "data": {
      "text/html": [
       "<div>\n",
       "<table border=\"1\" class=\"dataframe\">\n",
       "  <thead>\n",
       "    <tr style=\"text-align: right;\">\n",
       "      <th></th>\n",
       "      <th>prot</th>\n",
       "      <th>cath</th>\n",
       "      <th>other</th>\n",
       "      <th>none</th>\n",
       "    </tr>\n",
       "  </thead>\n",
       "  <tbody>\n",
       "    <tr>\n",
       "      <th>2008.6165</th>\n",
       "      <td>0.526008</td>\n",
       "      <td>0.251719</td>\n",
       "      <td>0.087882</td>\n",
       "      <td>0.168641</td>\n",
       "    </tr>\n",
       "    <tr>\n",
       "      <th>2009.6165</th>\n",
       "      <td>0.526008</td>\n",
       "      <td>0.251719</td>\n",
       "      <td>0.087882</td>\n",
       "      <td>0.168641</td>\n",
       "    </tr>\n",
       "    <tr>\n",
       "      <th>2010.6165</th>\n",
       "      <td>0.526008</td>\n",
       "      <td>0.251719</td>\n",
       "      <td>0.087882</td>\n",
       "      <td>0.168641</td>\n",
       "    </tr>\n",
       "    <tr>\n",
       "      <th>2011.6165</th>\n",
       "      <td>0.526008</td>\n",
       "      <td>0.251719</td>\n",
       "      <td>0.087882</td>\n",
       "      <td>0.168641</td>\n",
       "    </tr>\n",
       "    <tr>\n",
       "      <th>2012.6165</th>\n",
       "      <td>0.526008</td>\n",
       "      <td>0.251719</td>\n",
       "      <td>0.087882</td>\n",
       "      <td>0.168641</td>\n",
       "    </tr>\n",
       "    <tr>\n",
       "      <th>2013.6165</th>\n",
       "      <td>0.526008</td>\n",
       "      <td>0.251719</td>\n",
       "      <td>0.087882</td>\n",
       "      <td>0.168641</td>\n",
       "    </tr>\n",
       "    <tr>\n",
       "      <th>2014.6165</th>\n",
       "      <td>0.526008</td>\n",
       "      <td>0.251719</td>\n",
       "      <td>0.087882</td>\n",
       "      <td>0.168641</td>\n",
       "    </tr>\n",
       "    <tr>\n",
       "      <th>2015.6165</th>\n",
       "      <td>0.526008</td>\n",
       "      <td>0.251719</td>\n",
       "      <td>0.087882</td>\n",
       "      <td>0.168641</td>\n",
       "    </tr>\n",
       "    <tr>\n",
       "      <th>2016.6165</th>\n",
       "      <td>0.526008</td>\n",
       "      <td>0.251719</td>\n",
       "      <td>0.087882</td>\n",
       "      <td>0.168641</td>\n",
       "    </tr>\n",
       "    <tr>\n",
       "      <th>2017.6165</th>\n",
       "      <td>0.526008</td>\n",
       "      <td>0.251719</td>\n",
       "      <td>0.087882</td>\n",
       "      <td>0.168641</td>\n",
       "    </tr>\n",
       "  </tbody>\n",
       "</table>\n",
       "</div>"
      ],
      "text/plain": [
       "               prot      cath     other      none\n",
       "2008.6165  0.526008  0.251719  0.087882  0.168641\n",
       "2009.6165  0.526008  0.251719  0.087882  0.168641\n",
       "2010.6165  0.526008  0.251719  0.087882  0.168641\n",
       "2011.6165  0.526008  0.251719  0.087882  0.168641\n",
       "2012.6165  0.526008  0.251719  0.087882  0.168641\n",
       "2013.6165  0.526008  0.251719  0.087882  0.168641\n",
       "2014.6165  0.526008  0.251719  0.087882  0.168641\n",
       "2015.6165  0.526008  0.251719  0.087882  0.168641\n",
       "2016.6165  0.526008  0.251719  0.087882  0.168641\n",
       "2017.6165  0.526008  0.251719  0.087882  0.168641"
      ]
     },
     "execution_count": 61,
     "metadata": {},
     "output_type": "execute_result"
    }
   ],
   "source": [
    "series"
   ]
  },
  {
   "cell_type": "code",
   "execution_count": 62,
   "metadata": {
    "collapsed": true
   },
   "outputs": [],
   "source": [
    "updated = advance(recent)"
   ]
  },
  {
   "cell_type": "code",
   "execution_count": 63,
   "metadata": {
    "collapsed": false
   },
   "outputs": [],
   "source": [
    "# https://www.cdc.gov/nchs/data/dvs/mortfinal2007_worktable23r.pdf\n",
    "\n",
    "AGES = np.array([24, 34, 44, 54, 64, 74, 84])\n",
    "RATES = np.array([79.9, 104.9, 184.4, 420.9, 877.7, 2011.3, 5011.6, 12946.5]) / 100000"
   ]
  },
  {
   "cell_type": "code",
   "execution_count": 64,
   "metadata": {
    "collapsed": true
   },
   "outputs": [],
   "source": [
    "def choose_dead(df):\n",
    "    \"\"\"Simulate deaths based on age-related rates.\n",
    "    \n",
    "    df: DataFrame\n",
    "    \n",
    "    returns: boolean array with True for dead\n",
    "    \"\"\"\n",
    "    \n",
    "    # look up the death rate for each respondent\n",
    "    indices = np.searchsorted(AGES, df.age)\n",
    "    rates = RATES[indices]\n",
    "    \n",
    "    # choose who dies\n",
    "    dead = np.random.random(len(rates)) < rates\n",
    "    return dead"
   ]
  },
  {
   "cell_type": "code",
   "execution_count": 65,
   "metadata": {
    "collapsed": false
   },
   "outputs": [
    {
     "data": {
      "text/plain": [
       "242"
      ]
     },
     "execution_count": 65,
     "metadata": {},
     "output_type": "execute_result"
    }
   ],
   "source": [
    "dead = choose_dead(updated)\n",
    "dead.sum()"
   ]
  },
  {
   "cell_type": "code",
   "execution_count": 66,
   "metadata": {
    "collapsed": false
   },
   "outputs": [
    {
     "data": {
      "image/png": "[encoded data removed]",
      "text/plain": [
       "<matplotlib.figure.Figure at 0x7f922942ce50>"
      ]
     },
     "metadata": {},
     "output_type": "display_data"
    }
   ],
   "source": [
    "pdf = thinkstats2.EstimatedPdf(recent.age)\n",
    "thinkplot.Pdf(pdf)"
   ]
  },
  {
   "cell_type": "code",
   "execution_count": 67,
   "metadata": {
    "collapsed": false
   },
   "outputs": [],
   "source": [
    "def replace(df, pdf):\n",
    "    updated = advance(df)\n",
    "    dead = choose_dead(updated)\n",
    "    updated.loc[dead, 'age'] = np.nan\n",
    "    \n",
    "    pdf2 = thinkstats2.EstimatedPdf(updated.age.dropna())\n",
    "    ages = np.arange(17, 92, 1)\n",
    "    diffs = pdf.Density(ages) - pdf2.Density(ages)\n",
    "    diffs[diffs<0] = 0\n",
    "    pmf = thinkstats2.Pmf(dict(zip(ages, diffs)))\n",
    "    thinkplot.Pdf(pmf)\n",
    "    replacement_ages = pmf.Sample(dead.sum())\n",
    "    updated.loc[dead, 'age'] = replacement_ages\n",
    "    \n",
    "    return updated"
   ]
  },
  {
   "cell_type": "code",
   "execution_count": 68,
   "metadata": {
    "collapsed": false
   },
   "outputs": [],
   "source": [
    "def replace(df, pmf):\n",
    "    updated = advance(df)\n",
    "    dead = choose_dead(updated)\n",
    "    updated.loc[dead, 'age'] = 18\n",
    "    updated['weight'] = pmf.Probs(updated.age.values)\n",
    "    sample = thinkstats2.ResampleRowsWeighted(updated, column='weight')\n",
    "    return sample"
   ]
  },
  {
   "cell_type": "code",
   "execution_count": 69,
   "metadata": {
    "collapsed": true
   },
   "outputs": [],
   "source": [
    "pmf = thinkstats2.Pmf(recent.age)"
   ]
  },
  {
   "cell_type": "code",
   "execution_count": 70,
   "metadata": {
    "collapsed": false
   },
   "outputs": [
    {
     "data": {
      "text/html": [
       "<div>\n",
       "<table border=\"1\" class=\"dataframe\">\n",
       "  <thead>\n",
       "    <tr style=\"text-align: right;\">\n",
       "      <th></th>\n",
       "      <th>year</th>\n",
       "      <th>conclerg</th>\n",
       "      <th>bible</th>\n",
       "      <th>cohort</th>\n",
       "      <th>age</th>\n",
       "      <th>wtssall</th>\n",
       "      <th>ballot</th>\n",
       "      <th>relig</th>\n",
       "      <th>educ</th>\n",
       "      <th>id_</th>\n",
       "      <th>...</th>\n",
       "      <th>age_group</th>\n",
       "      <th>cohort5</th>\n",
       "      <th>cohort10</th>\n",
       "      <th>none</th>\n",
       "      <th>cath</th>\n",
       "      <th>prot</th>\n",
       "      <th>other</th>\n",
       "      <th>cohort66</th>\n",
       "      <th>cohort662</th>\n",
       "      <th>weight</th>\n",
       "    </tr>\n",
       "  </thead>\n",
       "  <tbody>\n",
       "    <tr>\n",
       "      <th>58565</th>\n",
       "      <td>2015</td>\n",
       "      <td>0</td>\n",
       "      <td>3</td>\n",
       "      <td>1988.0</td>\n",
       "      <td>27.0</td>\n",
       "      <td>0.896003</td>\n",
       "      <td>1</td>\n",
       "      <td>4.0</td>\n",
       "      <td>12</td>\n",
       "      <td>287</td>\n",
       "      <td>...</td>\n",
       "      <td>25.0</td>\n",
       "      <td>1987.5</td>\n",
       "      <td>1980.0</td>\n",
       "      <td>1</td>\n",
       "      <td>0</td>\n",
       "      <td>0</td>\n",
       "      <td>0</td>\n",
       "      <td>22.0</td>\n",
       "      <td>484.0</td>\n",
       "      <td>0.019879</td>\n",
       "    </tr>\n",
       "    <tr>\n",
       "      <th>42830</th>\n",
       "      <td>2003</td>\n",
       "      <td>0</td>\n",
       "      <td>0</td>\n",
       "      <td>1953.0</td>\n",
       "      <td>50.0</td>\n",
       "      <td>1.115600</td>\n",
       "      <td>2</td>\n",
       "      <td>1.0</td>\n",
       "      <td>12</td>\n",
       "      <td>356</td>\n",
       "      <td>...</td>\n",
       "      <td>45.0</td>\n",
       "      <td>1952.5</td>\n",
       "      <td>1950.0</td>\n",
       "      <td>0</td>\n",
       "      <td>0</td>\n",
       "      <td>1</td>\n",
       "      <td>0</td>\n",
       "      <td>-13.0</td>\n",
       "      <td>169.0</td>\n",
       "      <td>0.019092</td>\n",
       "    </tr>\n",
       "    <tr>\n",
       "      <th>37876</th>\n",
       "      <td>2001</td>\n",
       "      <td>3</td>\n",
       "      <td>0</td>\n",
       "      <td>1982.0</td>\n",
       "      <td>19.0</td>\n",
       "      <td>1.647800</td>\n",
       "      <td>3</td>\n",
       "      <td>4.0</td>\n",
       "      <td>11</td>\n",
       "      <td>338</td>\n",
       "      <td>...</td>\n",
       "      <td>15.0</td>\n",
       "      <td>1982.5</td>\n",
       "      <td>1980.0</td>\n",
       "      <td>1</td>\n",
       "      <td>0</td>\n",
       "      <td>0</td>\n",
       "      <td>0</td>\n",
       "      <td>16.0</td>\n",
       "      <td>256.0</td>\n",
       "      <td>0.015323</td>\n",
       "    </tr>\n",
       "    <tr>\n",
       "      <th>57885</th>\n",
       "      <td>2015</td>\n",
       "      <td>0</td>\n",
       "      <td>3</td>\n",
       "      <td>1981.0</td>\n",
       "      <td>34.0</td>\n",
       "      <td>0.896003</td>\n",
       "      <td>1</td>\n",
       "      <td>5.0</td>\n",
       "      <td>12</td>\n",
       "      <td>1629</td>\n",
       "      <td>...</td>\n",
       "      <td>30.0</td>\n",
       "      <td>1982.5</td>\n",
       "      <td>1980.0</td>\n",
       "      <td>0</td>\n",
       "      <td>0</td>\n",
       "      <td>0</td>\n",
       "      <td>1</td>\n",
       "      <td>15.0</td>\n",
       "      <td>225.0</td>\n",
       "      <td>0.018430</td>\n",
       "    </tr>\n",
       "    <tr>\n",
       "      <th>39346</th>\n",
       "      <td>2001</td>\n",
       "      <td>1</td>\n",
       "      <td>1</td>\n",
       "      <td>1975.0</td>\n",
       "      <td>26.0</td>\n",
       "      <td>1.098500</td>\n",
       "      <td>3</td>\n",
       "      <td>1.0</td>\n",
       "      <td>17</td>\n",
       "      <td>2399</td>\n",
       "      <td>...</td>\n",
       "      <td>25.0</td>\n",
       "      <td>1977.5</td>\n",
       "      <td>1970.0</td>\n",
       "      <td>0</td>\n",
       "      <td>0</td>\n",
       "      <td>1</td>\n",
       "      <td>0</td>\n",
       "      <td>9.0</td>\n",
       "      <td>81.0</td>\n",
       "      <td>0.018181</td>\n",
       "    </tr>\n",
       "  </tbody>\n",
       "</table>\n",
       "<p>5 rows × 24 columns</p>\n",
       "</div>"
      ],
      "text/plain": [
       "       year  conclerg  bible  cohort   age   wtssall  ballot  relig  educ  \\\n",
       "58565  2015         0      3  1988.0  27.0  0.896003       1    4.0    12   \n",
       "42830  2003         0      0  1953.0  50.0  1.115600       2    1.0    12   \n",
       "37876  2001         3      0  1982.0  19.0  1.647800       3    4.0    11   \n",
       "57885  2015         0      3  1981.0  34.0  0.896003       1    5.0    12   \n",
       "39346  2001         1      1  1975.0  26.0  1.098500       3    1.0    17   \n",
       "\n",
       "        id_    ...     age_group cohort5 cohort10 none  cath  prot  other  \\\n",
       "58565   287    ...          25.0  1987.5   1980.0    1     0     0      0   \n",
       "42830   356    ...          45.0  1952.5   1950.0    0     0     1      0   \n",
       "37876   338    ...          15.0  1982.5   1980.0    1     0     0      0   \n",
       "57885  1629    ...          30.0  1982.5   1980.0    0     0     0      1   \n",
       "39346  2399    ...          25.0  1977.5   1970.0    0     0     1      0   \n",
       "\n",
       "       cohort66  cohort662    weight  \n",
       "58565      22.0      484.0  0.019879  \n",
       "42830     -13.0      169.0  0.019092  \n",
       "37876      16.0      256.0  0.015323  \n",
       "57885      15.0      225.0  0.018430  \n",
       "39346       9.0       81.0  0.018181  \n",
       "\n",
       "[5 rows x 24 columns]"
      ]
     },
     "execution_count": 70,
     "metadata": {},
     "output_type": "execute_result"
    }
   ],
   "source": [
    "updated = replace(recent, pmf)\n",
    "updated.head()"
   ]
  },
  {
   "cell_type": "code",
   "execution_count": 71,
   "metadata": {
    "collapsed": false
   },
   "outputs": [],
   "source": [
    "updated = replace(updated, pmf)"
   ]
  },
  {
   "cell_type": "code",
   "execution_count": 72,
   "metadata": {
    "collapsed": false
   },
   "outputs": [
    {
     "data": {
      "image/png": "[encoded data removed]",
      "text/plain": [
       "<matplotlib.figure.Figure at 0x7f922930c790>"
      ]
     },
     "metadata": {},
     "output_type": "display_data"
    }
   ],
   "source": [
    "cdf1 = thinkstats2.Cdf(recent.age)\n",
    "cdf2 = thinkstats2.Cdf(updated.age)\n",
    "thinkplot.Cdfs([cdf1, cdf2])"
   ]
  },
  {
   "cell_type": "code",
   "execution_count": 73,
   "metadata": {
    "collapsed": false
   },
   "outputs": [
    {
     "data": {
      "image/png": "[encoded data removed]",
      "text/plain": [
       "<matplotlib.figure.Figure at 0x7f92339456d0>"
      ]
     },
     "metadata": {},
     "output_type": "display_data"
    }
   ],
   "source": [
    "pdf1 = thinkstats2.EstimatedPdf(recent.age)\n",
    "pdf2 = thinkstats2.EstimatedPdf(updated.age)\n",
    "thinkplot.Pdfs([pdf1, pdf2])"
   ]
  },
  {
   "cell_type": "code",
   "execution_count": 74,
   "metadata": {
    "collapsed": false,
    "scrolled": true
   },
   "outputs": [
    {
     "data": {
      "text/plain": [
       "array([17, 18, 19, 20, 21, 22, 23, 24, 25, 26, 27, 28, 29, 30, 31, 32, 33,\n",
       "       34, 35, 36, 37, 38, 39, 40, 41, 42, 43, 44, 45, 46, 47, 48, 49, 50,\n",
       "       51, 52, 53, 54, 55, 56, 57, 58, 59, 60, 61, 62, 63, 64, 65, 66, 67,\n",
       "       68, 69, 70, 71, 72, 73, 74, 75, 76, 77, 78, 79, 80, 81, 82, 83, 84,\n",
       "       85, 86, 87, 88, 89, 90, 91])"
      ]
     },
     "execution_count": 74,
     "metadata": {},
     "output_type": "execute_result"
    }
   ],
   "source": [
    "xs = np.arange(17, 92, 1)\n",
    "xs"
   ]
  }
 ],
 "metadata": {
  "kernelspec": {
   "display_name": "Python 2",
   "language": "python",
   "name": "python2"
  },
  "language_info": {
   "codemirror_mode": {
    "name": "ipython",
    "version": 2
   },
   "file_extension": ".py",
   "mimetype": "text/x-python",
   "name": "python",
   "nbconvert_exporter": "python",
   "pygments_lexer": "ipython2",
   "version": "2.7.11"
  }
 },
 "nbformat": 4,
 "nbformat_minor": 0
}
