{
 "cells": [
  {
   "cell_type": "markdown",
   "metadata": {},
   "source": [
    "# How does religious affiliation change with age?\n",
    "\n",
    "Allen Downey\n",
    "\n",
    "[MIT License](https://en.wikipedia.org/wiki/MIT_License)"
   ]
  },
  {
   "cell_type": "code",
   "execution_count": 1,
   "metadata": {
    "collapsed": false
   },
   "outputs": [],
   "source": [
    "from __future__ import print_function, division\n",
    "\n",
    "%matplotlib inline\n",
    "\n",
    "import pandas as pd\n",
    "import numpy as np\n",
    "\n",
    "import thinkstats2\n",
    "import thinkplot\n",
    "import utils\n",
    "\n",
    "import statsmodels.formula.api as smf\n",
    "import matplotlib.pyplot as plt\n",
    "\n",
    "import seaborn as sns\n",
    "sns.set(style='white', font_scale=1.5)"
   ]
  },
  {
   "cell_type": "markdown",
   "metadata": {},
   "source": [
    "Reading data from the [General Social Survey](https://gssdataexplorer.norc.org/projects/29853)"
   ]
  },
  {
   "cell_type": "code",
   "execution_count": 2,
   "metadata": {
    "collapsed": false
   },
   "outputs": [
    {
     "name": "stdout",
     "output_type": "stream",
     "text": [
      "(62466, 11)\n"
     ]
    },
    {
     "data": {
      "text/html": [
       "<div>\n",
       "<table border=\"1\" class=\"dataframe\">\n",
       "  <thead>\n",
       "    <tr style=\"text-align: right;\">\n",
       "      <th></th>\n",
       "      <th>year</th>\n",
       "      <th>conclerg</th>\n",
       "      <th>bible</th>\n",
       "      <th>cohort</th>\n",
       "      <th>age</th>\n",
       "      <th>wtssall</th>\n",
       "      <th>ballot</th>\n",
       "      <th>relig</th>\n",
       "      <th>educ</th>\n",
       "      <th>id_</th>\n",
       "      <th>god</th>\n",
       "    </tr>\n",
       "  </thead>\n",
       "  <tbody>\n",
       "    <tr>\n",
       "      <th>0</th>\n",
       "      <td>1972</td>\n",
       "      <td>0</td>\n",
       "      <td>0</td>\n",
       "      <td>1949</td>\n",
       "      <td>23</td>\n",
       "      <td>0.4446</td>\n",
       "      <td>0</td>\n",
       "      <td>3</td>\n",
       "      <td>16</td>\n",
       "      <td>1</td>\n",
       "      <td>0</td>\n",
       "    </tr>\n",
       "    <tr>\n",
       "      <th>1</th>\n",
       "      <td>1972</td>\n",
       "      <td>0</td>\n",
       "      <td>0</td>\n",
       "      <td>1902</td>\n",
       "      <td>70</td>\n",
       "      <td>0.8893</td>\n",
       "      <td>0</td>\n",
       "      <td>2</td>\n",
       "      <td>10</td>\n",
       "      <td>2</td>\n",
       "      <td>0</td>\n",
       "    </tr>\n",
       "    <tr>\n",
       "      <th>2</th>\n",
       "      <td>1972</td>\n",
       "      <td>0</td>\n",
       "      <td>0</td>\n",
       "      <td>1924</td>\n",
       "      <td>48</td>\n",
       "      <td>0.8893</td>\n",
       "      <td>0</td>\n",
       "      <td>1</td>\n",
       "      <td>12</td>\n",
       "      <td>3</td>\n",
       "      <td>0</td>\n",
       "    </tr>\n",
       "    <tr>\n",
       "      <th>3</th>\n",
       "      <td>1972</td>\n",
       "      <td>0</td>\n",
       "      <td>0</td>\n",
       "      <td>1945</td>\n",
       "      <td>27</td>\n",
       "      <td>0.8893</td>\n",
       "      <td>0</td>\n",
       "      <td>5</td>\n",
       "      <td>17</td>\n",
       "      <td>4</td>\n",
       "      <td>0</td>\n",
       "    </tr>\n",
       "    <tr>\n",
       "      <th>4</th>\n",
       "      <td>1972</td>\n",
       "      <td>0</td>\n",
       "      <td>0</td>\n",
       "      <td>1911</td>\n",
       "      <td>61</td>\n",
       "      <td>0.8893</td>\n",
       "      <td>0</td>\n",
       "      <td>1</td>\n",
       "      <td>12</td>\n",
       "      <td>5</td>\n",
       "      <td>0</td>\n",
       "    </tr>\n",
       "  </tbody>\n",
       "</table>\n",
       "</div>"
      ],
      "text/plain": [
       "   year  conclerg  bible  cohort  age  wtssall  ballot  relig  educ  id_  god\n",
       "0  1972         0      0    1949   23   0.4446       0      3    16    1    0\n",
       "1  1972         0      0    1902   70   0.8893       0      2    10    2    0\n",
       "2  1972         0      0    1924   48   0.8893       0      1    12    3    0\n",
       "3  1972         0      0    1945   27   0.8893       0      5    17    4    0\n",
       "4  1972         0      0    1911   61   0.8893       0      1    12    5    0"
      ]
     },
     "execution_count": 2,
     "metadata": {},
     "output_type": "execute_result"
    }
   ],
   "source": [
    "gss = utils.ReadGss('gss_college_religion')\n",
    "print(gss.shape)\n",
    "gss.head()"
   ]
  },
  {
   "cell_type": "markdown",
   "metadata": {},
   "source": [
    "Resampling (bootstrapping to be more specific) to account for sampling weights."
   ]
  },
  {
   "cell_type": "code",
   "execution_count": 3,
   "metadata": {
    "collapsed": false
   },
   "outputs": [
    {
     "data": {
      "text/html": [
       "<div>\n",
       "<table border=\"1\" class=\"dataframe\">\n",
       "  <thead>\n",
       "    <tr style=\"text-align: right;\">\n",
       "      <th></th>\n",
       "      <th>year</th>\n",
       "      <th>conclerg</th>\n",
       "      <th>bible</th>\n",
       "      <th>cohort</th>\n",
       "      <th>age</th>\n",
       "      <th>wtssall</th>\n",
       "      <th>ballot</th>\n",
       "      <th>relig</th>\n",
       "      <th>educ</th>\n",
       "      <th>id_</th>\n",
       "      <th>god</th>\n",
       "    </tr>\n",
       "  </thead>\n",
       "  <tbody>\n",
       "    <tr>\n",
       "      <th>0</th>\n",
       "      <td>1972</td>\n",
       "      <td>0</td>\n",
       "      <td>0</td>\n",
       "      <td>1946</td>\n",
       "      <td>26</td>\n",
       "      <td>0.8893</td>\n",
       "      <td>0</td>\n",
       "      <td>1</td>\n",
       "      <td>16</td>\n",
       "      <td>833</td>\n",
       "      <td>0</td>\n",
       "    </tr>\n",
       "    <tr>\n",
       "      <th>1</th>\n",
       "      <td>1972</td>\n",
       "      <td>0</td>\n",
       "      <td>0</td>\n",
       "      <td>1932</td>\n",
       "      <td>40</td>\n",
       "      <td>0.8893</td>\n",
       "      <td>0</td>\n",
       "      <td>1</td>\n",
       "      <td>14</td>\n",
       "      <td>96</td>\n",
       "      <td>0</td>\n",
       "    </tr>\n",
       "    <tr>\n",
       "      <th>2</th>\n",
       "      <td>1972</td>\n",
       "      <td>0</td>\n",
       "      <td>0</td>\n",
       "      <td>1946</td>\n",
       "      <td>26</td>\n",
       "      <td>0.8893</td>\n",
       "      <td>0</td>\n",
       "      <td>2</td>\n",
       "      <td>9</td>\n",
       "      <td>1032</td>\n",
       "      <td>0</td>\n",
       "    </tr>\n",
       "    <tr>\n",
       "      <th>3</th>\n",
       "      <td>1972</td>\n",
       "      <td>0</td>\n",
       "      <td>0</td>\n",
       "      <td>1927</td>\n",
       "      <td>45</td>\n",
       "      <td>0.8893</td>\n",
       "      <td>0</td>\n",
       "      <td>1</td>\n",
       "      <td>12</td>\n",
       "      <td>105</td>\n",
       "      <td>0</td>\n",
       "    </tr>\n",
       "    <tr>\n",
       "      <th>4</th>\n",
       "      <td>1972</td>\n",
       "      <td>0</td>\n",
       "      <td>0</td>\n",
       "      <td>1898</td>\n",
       "      <td>74</td>\n",
       "      <td>0.8893</td>\n",
       "      <td>0</td>\n",
       "      <td>1</td>\n",
       "      <td>9</td>\n",
       "      <td>405</td>\n",
       "      <td>0</td>\n",
       "    </tr>\n",
       "  </tbody>\n",
       "</table>\n",
       "</div>"
      ],
      "text/plain": [
       "   year  conclerg  bible  cohort  age  wtssall  ballot  relig  educ   id_  god\n",
       "0  1972         0      0    1946   26   0.8893       0      1    16   833    0\n",
       "1  1972         0      0    1932   40   0.8893       0      1    14    96    0\n",
       "2  1972         0      0    1946   26   0.8893       0      2     9  1032    0\n",
       "3  1972         0      0    1927   45   0.8893       0      1    12   105    0\n",
       "4  1972         0      0    1898   74   0.8893       0      1     9   405    0"
      ]
     },
     "execution_count": 3,
     "metadata": {},
     "output_type": "execute_result"
    }
   ],
   "source": [
    "sample = utils.ResampleByYear(gss)\n",
    "sample.head()"
   ]
  },
  {
   "cell_type": "markdown",
   "metadata": {},
   "source": [
    "Cleaning variables"
   ]
  },
  {
   "cell_type": "code",
   "execution_count": 4,
   "metadata": {
    "collapsed": false
   },
   "outputs": [
    {
     "data": {
      "text/plain": [
       "181"
      ]
     },
     "execution_count": 4,
     "metadata": {},
     "output_type": "execute_result"
    }
   ],
   "source": [
    "sample.age.replace([98, 99], np.nan, inplace=True)\n",
    "sum(sample.age.isnull())"
   ]
  },
  {
   "cell_type": "code",
   "execution_count": 5,
   "metadata": {
    "collapsed": false
   },
   "outputs": [
    {
     "data": {
      "text/plain": [
       "181"
      ]
     },
     "execution_count": 5,
     "metadata": {},
     "output_type": "execute_result"
    }
   ],
   "source": [
    "sample.cohort.replace([9999], np.nan, inplace=True)\n",
    "sum(sample.age.isnull())"
   ]
  },
  {
   "cell_type": "code",
   "execution_count": 6,
   "metadata": {
    "collapsed": false
   },
   "outputs": [
    {
     "data": {
      "text/plain": [
       "181"
      ]
     },
     "execution_count": 6,
     "metadata": {},
     "output_type": "execute_result"
    }
   ],
   "source": [
    "sample.relig.replace([98, 99], np.nan, inplace=True)\n",
    "sum(sample.age.isnull())"
   ]
  },
  {
   "cell_type": "code",
   "execution_count": 7,
   "metadata": {
    "collapsed": false
   },
   "outputs": [
    {
     "data": {
      "text/plain": [
       "(62006, 11)"
      ]
     },
     "execution_count": 7,
     "metadata": {},
     "output_type": "execute_result"
    }
   ],
   "source": [
    "sample.dropna(subset=['age', 'cohort', 'relig'], inplace=True)\n",
    "sample.shape"
   ]
  },
  {
   "cell_type": "code",
   "execution_count": 8,
   "metadata": {
    "collapsed": false
   },
   "outputs": [
    {
     "data": {
      "text/plain": [
       "18.0     345\n",
       "19.0    1152\n",
       "20.0    1159\n",
       "21.0    1255\n",
       "22.0    1252\n",
       "23.0    1422\n",
       "24.0    1309\n",
       "25.0    1308\n",
       "26.0    1359\n",
       "27.0    1357\n",
       "28.0    1363\n",
       "29.0    1251\n",
       "30.0    1359\n",
       "31.0    1213\n",
       "32.0    1325\n",
       "33.0    1264\n",
       "34.0    1281\n",
       "35.0    1262\n",
       "36.0    1237\n",
       "37.0    1238\n",
       "38.0    1280\n",
       "39.0    1147\n",
       "40.0    1238\n",
       "41.0    1166\n",
       "42.0    1152\n",
       "43.0    1243\n",
       "44.0    1189\n",
       "45.0    1140\n",
       "46.0    1113\n",
       "47.0    1154\n",
       "        ... \n",
       "60.0     862\n",
       "61.0     750\n",
       "62.0     763\n",
       "63.0     785\n",
       "64.0     628\n",
       "65.0     711\n",
       "66.0     636\n",
       "67.0     696\n",
       "68.0     654\n",
       "69.0     521\n",
       "70.0     586\n",
       "71.0     541\n",
       "72.0     487\n",
       "73.0     500\n",
       "74.0     518\n",
       "75.0     365\n",
       "76.0     441\n",
       "77.0     374\n",
       "78.0     333\n",
       "79.0     270\n",
       "80.0     266\n",
       "81.0     238\n",
       "82.0     191\n",
       "83.0     185\n",
       "84.0     167\n",
       "85.0     148\n",
       "86.0     130\n",
       "87.0     102\n",
       "88.0      87\n",
       "89.0     225\n",
       "Name: age, dtype: int64"
      ]
     },
     "execution_count": 8,
     "metadata": {},
     "output_type": "execute_result"
    }
   ],
   "source": [
    "utils.values(sample, 'age')"
   ]
  },
  {
   "cell_type": "code",
   "execution_count": 9,
   "metadata": {
    "collapsed": false
   },
   "outputs": [
    {
     "data": {
      "text/plain": [
       "{'xscale': 'linear', 'yscale': 'linear'}"
      ]
     },
     "execution_count": 9,
     "metadata": {},
     "output_type": "execute_result"
    },
    {
     "data": {
      "image/png": "[encoded data removed]",
      "text/plain": [
       "<matplotlib.figure.Figure at 0x7fbd06ca0b10>"
      ]
     },
     "metadata": {},
     "output_type": "display_data"
    }
   ],
   "source": [
    "sample['age_group'] = utils.RoundIntoBins(sample, 'age', 5)\n",
    "thinkplot.Cdf(thinkstats2.Cdf(sample.age - sample.age_group))"
   ]
  },
  {
   "cell_type": "code",
   "execution_count": 10,
   "metadata": {
    "collapsed": false
   },
   "outputs": [
    {
     "data": {
      "text/plain": [
       "1883.0      4\n",
       "1884.0      1\n",
       "1885.0      4\n",
       "1886.0      7\n",
       "1887.0     11\n",
       "1888.0     11\n",
       "1889.0     13\n",
       "1890.0     15\n",
       "1891.0     17\n",
       "1892.0     23\n",
       "1893.0     20\n",
       "1894.0     50\n",
       "1895.0     38\n",
       "1896.0     44\n",
       "1897.0     51\n",
       "1898.0     81\n",
       "1899.0    134\n",
       "1900.0    123\n",
       "1901.0    113\n",
       "1902.0    125\n",
       "1903.0    166\n",
       "1904.0    132\n",
       "1905.0    170\n",
       "1906.0    175\n",
       "1907.0    218\n",
       "1908.0    188\n",
       "1909.0    277\n",
       "1910.0    234\n",
       "1911.0    250\n",
       "1912.0    301\n",
       "         ... \n",
       "1969.0    775\n",
       "1970.0    870\n",
       "1971.0    674\n",
       "1972.0    619\n",
       "1973.0    618\n",
       "1974.0    610\n",
       "1975.0    589\n",
       "1976.0    534\n",
       "1977.0    549\n",
       "1978.0    526\n",
       "1979.0    562\n",
       "1980.0    489\n",
       "1981.0    444\n",
       "1982.0    407\n",
       "1983.0    361\n",
       "1984.0    349\n",
       "1985.0    361\n",
       "1986.0    282\n",
       "1987.0    286\n",
       "1988.0    201\n",
       "1989.0    228\n",
       "1990.0    163\n",
       "1991.0    184\n",
       "1992.0    116\n",
       "1993.0    115\n",
       "1994.0    124\n",
       "1995.0     90\n",
       "1996.0     52\n",
       "1997.0     39\n",
       "1998.0      9\n",
       "Name: cohort, dtype: int64"
      ]
     },
     "execution_count": 10,
     "metadata": {},
     "output_type": "execute_result"
    }
   ],
   "source": [
    "utils.values(sample, 'cohort')"
   ]
  },
  {
   "cell_type": "code",
   "execution_count": 11,
   "metadata": {
    "collapsed": false
   },
   "outputs": [
    {
     "data": {
      "text/plain": [
       "{'xscale': 'linear', 'yscale': 'linear'}"
      ]
     },
     "execution_count": 11,
     "metadata": {},
     "output_type": "execute_result"
    },
    {
     "data": {
      "image/png": "[encoded data removed]",
      "text/plain": [
       "<matplotlib.figure.Figure at 0x7fbd053b0a10>"
      ]
     },
     "metadata": {},
     "output_type": "display_data"
    }
   ],
   "source": [
    "sample['decade'] = utils.RoundIntoBins(sample, 'cohort', 10)\n",
    "thinkplot.Cdf(thinkstats2.Cdf(sample.cohort - sample.decade))"
   ]
  },
  {
   "cell_type": "markdown",
   "metadata": {},
   "source": [
    "Religion code 4 represents people who report no religious affiliation."
   ]
  },
  {
   "cell_type": "code",
   "execution_count": 12,
   "metadata": {
    "collapsed": false
   },
   "outputs": [
    {
     "data": {
      "text/plain": [
       "1.0     35207\n",
       "2.0     15796\n",
       "3.0      1195\n",
       "4.0      7205\n",
       "5.0      1109\n",
       "6.0       183\n",
       "7.0       110\n",
       "8.0        35\n",
       "9.0       166\n",
       "10.0      123\n",
       "11.0      751\n",
       "12.0       33\n",
       "13.0       93\n",
       "Name: relig, dtype: int64"
      ]
     },
     "execution_count": 12,
     "metadata": {},
     "output_type": "execute_result"
    }
   ],
   "source": [
    "utils.values(sample, 'relig')"
   ]
  },
  {
   "cell_type": "code",
   "execution_count": 13,
   "metadata": {
    "collapsed": false
   },
   "outputs": [
    {
     "data": {
      "text/plain": [
       "0.11619843240976679"
      ]
     },
     "execution_count": 13,
     "metadata": {},
     "output_type": "execute_result"
    }
   ],
   "source": [
    "sample['none'] = sample.relig ==4\n",
    "sample.none.mean()"
   ]
  },
  {
   "cell_type": "markdown",
   "metadata": {},
   "source": [
    "Group by year and college status."
   ]
  },
  {
   "cell_type": "code",
   "execution_count": 14,
   "metadata": {
    "collapsed": true
   },
   "outputs": [],
   "source": [
    "grouped = sample.groupby(['decade', 'age_group'])"
   ]
  },
  {
   "cell_type": "markdown",
   "metadata": {},
   "source": [
    "Count the number of observations in each decade/age group."
   ]
  },
  {
   "cell_type": "code",
   "execution_count": 15,
   "metadata": {
    "collapsed": false
   },
   "outputs": [
    {
     "data": {
      "text/html": [
       "<div>\n",
       "<table border=\"1\" class=\"dataframe\">\n",
       "  <thead>\n",
       "    <tr style=\"text-align: right;\">\n",
       "      <th>age_group</th>\n",
       "      <th>15.0</th>\n",
       "      <th>20.0</th>\n",
       "      <th>25.0</th>\n",
       "      <th>30.0</th>\n",
       "      <th>35.0</th>\n",
       "      <th>40.0</th>\n",
       "      <th>45.0</th>\n",
       "      <th>50.0</th>\n",
       "      <th>55.0</th>\n",
       "      <th>60.0</th>\n",
       "      <th>65.0</th>\n",
       "      <th>70.0</th>\n",
       "      <th>75.0</th>\n",
       "      <th>80.0</th>\n",
       "      <th>85.0</th>\n",
       "    </tr>\n",
       "    <tr>\n",
       "      <th>decade</th>\n",
       "      <th></th>\n",
       "      <th></th>\n",
       "      <th></th>\n",
       "      <th></th>\n",
       "      <th></th>\n",
       "      <th></th>\n",
       "      <th></th>\n",
       "      <th></th>\n",
       "      <th></th>\n",
       "      <th></th>\n",
       "      <th></th>\n",
       "      <th></th>\n",
       "      <th></th>\n",
       "      <th></th>\n",
       "      <th></th>\n",
       "    </tr>\n",
       "  </thead>\n",
       "  <tbody>\n",
       "    <tr>\n",
       "      <th>1880.0</th>\n",
       "      <td>NaN</td>\n",
       "      <td>NaN</td>\n",
       "      <td>NaN</td>\n",
       "      <td>NaN</td>\n",
       "      <td>NaN</td>\n",
       "      <td>NaN</td>\n",
       "      <td>NaN</td>\n",
       "      <td>NaN</td>\n",
       "      <td>NaN</td>\n",
       "      <td>NaN</td>\n",
       "      <td>NaN</td>\n",
       "      <td>NaN</td>\n",
       "      <td>NaN</td>\n",
       "      <td>4.0</td>\n",
       "      <td>47.0</td>\n",
       "    </tr>\n",
       "    <tr>\n",
       "      <th>1890.0</th>\n",
       "      <td>NaN</td>\n",
       "      <td>NaN</td>\n",
       "      <td>NaN</td>\n",
       "      <td>NaN</td>\n",
       "      <td>NaN</td>\n",
       "      <td>NaN</td>\n",
       "      <td>NaN</td>\n",
       "      <td>NaN</td>\n",
       "      <td>NaN</td>\n",
       "      <td>NaN</td>\n",
       "      <td>NaN</td>\n",
       "      <td>56.0</td>\n",
       "      <td>201.0</td>\n",
       "      <td>117.0</td>\n",
       "      <td>99.0</td>\n",
       "    </tr>\n",
       "    <tr>\n",
       "      <th>1900.0</th>\n",
       "      <td>NaN</td>\n",
       "      <td>NaN</td>\n",
       "      <td>NaN</td>\n",
       "      <td>NaN</td>\n",
       "      <td>NaN</td>\n",
       "      <td>NaN</td>\n",
       "      <td>NaN</td>\n",
       "      <td>NaN</td>\n",
       "      <td>NaN</td>\n",
       "      <td>57.0</td>\n",
       "      <td>374.0</td>\n",
       "      <td>508.0</td>\n",
       "      <td>344.0</td>\n",
       "      <td>238.0</td>\n",
       "      <td>166.0</td>\n",
       "    </tr>\n",
       "    <tr>\n",
       "      <th>1910.0</th>\n",
       "      <td>NaN</td>\n",
       "      <td>NaN</td>\n",
       "      <td>NaN</td>\n",
       "      <td>NaN</td>\n",
       "      <td>NaN</td>\n",
       "      <td>NaN</td>\n",
       "      <td>NaN</td>\n",
       "      <td>79.0</td>\n",
       "      <td>617.0</td>\n",
       "      <td>712.0</td>\n",
       "      <td>655.0</td>\n",
       "      <td>662.0</td>\n",
       "      <td>405.0</td>\n",
       "      <td>254.0</td>\n",
       "      <td>194.0</td>\n",
       "    </tr>\n",
       "    <tr>\n",
       "      <th>1920.0</th>\n",
       "      <td>NaN</td>\n",
       "      <td>NaN</td>\n",
       "      <td>NaN</td>\n",
       "      <td>NaN</td>\n",
       "      <td>NaN</td>\n",
       "      <td>85.0</td>\n",
       "      <td>768.0</td>\n",
       "      <td>1021.0</td>\n",
       "      <td>998.0</td>\n",
       "      <td>824.0</td>\n",
       "      <td>763.0</td>\n",
       "      <td>600.0</td>\n",
       "      <td>404.0</td>\n",
       "      <td>287.0</td>\n",
       "      <td>170.0</td>\n",
       "    </tr>\n",
       "    <tr>\n",
       "      <th>1930.0</th>\n",
       "      <td>NaN</td>\n",
       "      <td>NaN</td>\n",
       "      <td>NaN</td>\n",
       "      <td>80.0</td>\n",
       "      <td>623.0</td>\n",
       "      <td>948.0</td>\n",
       "      <td>934.0</td>\n",
       "      <td>935.0</td>\n",
       "      <td>825.0</td>\n",
       "      <td>746.0</td>\n",
       "      <td>630.0</td>\n",
       "      <td>491.0</td>\n",
       "      <td>389.0</td>\n",
       "      <td>147.0</td>\n",
       "      <td>16.0</td>\n",
       "    </tr>\n",
       "    <tr>\n",
       "      <th>1940.0</th>\n",
       "      <td>NaN</td>\n",
       "      <td>109.0</td>\n",
       "      <td>825.0</td>\n",
       "      <td>1234.0</td>\n",
       "      <td>1178.0</td>\n",
       "      <td>1309.0</td>\n",
       "      <td>1366.0</td>\n",
       "      <td>1186.0</td>\n",
       "      <td>1051.0</td>\n",
       "      <td>855.0</td>\n",
       "      <td>710.0</td>\n",
       "      <td>315.0</td>\n",
       "      <td>40.0</td>\n",
       "      <td>NaN</td>\n",
       "      <td>NaN</td>\n",
       "    </tr>\n",
       "    <tr>\n",
       "      <th>1950.0</th>\n",
       "      <td>328.0</td>\n",
       "      <td>1515.0</td>\n",
       "      <td>1587.0</td>\n",
       "      <td>1558.0</td>\n",
       "      <td>1693.0</td>\n",
       "      <td>1642.0</td>\n",
       "      <td>1604.0</td>\n",
       "      <td>1346.0</td>\n",
       "      <td>1106.0</td>\n",
       "      <td>594.0</td>\n",
       "      <td>86.0</td>\n",
       "      <td>NaN</td>\n",
       "      <td>NaN</td>\n",
       "      <td>NaN</td>\n",
       "      <td>NaN</td>\n",
       "    </tr>\n",
       "    <tr>\n",
       "      <th>1960.0</th>\n",
       "      <td>340.0</td>\n",
       "      <td>1574.0</td>\n",
       "      <td>1579.0</td>\n",
       "      <td>1612.0</td>\n",
       "      <td>1495.0</td>\n",
       "      <td>1434.0</td>\n",
       "      <td>1024.0</td>\n",
       "      <td>689.0</td>\n",
       "      <td>98.0</td>\n",
       "      <td>NaN</td>\n",
       "      <td>NaN</td>\n",
       "      <td>NaN</td>\n",
       "      <td>NaN</td>\n",
       "      <td>NaN</td>\n",
       "      <td>NaN</td>\n",
       "    </tr>\n",
       "    <tr>\n",
       "      <th>1970.0</th>\n",
       "      <td>283.0</td>\n",
       "      <td>1422.0</td>\n",
       "      <td>1451.0</td>\n",
       "      <td>1290.0</td>\n",
       "      <td>1062.0</td>\n",
       "      <td>570.0</td>\n",
       "      <td>73.0</td>\n",
       "      <td>NaN</td>\n",
       "      <td>NaN</td>\n",
       "      <td>NaN</td>\n",
       "      <td>NaN</td>\n",
       "      <td>NaN</td>\n",
       "      <td>NaN</td>\n",
       "      <td>NaN</td>\n",
       "      <td>NaN</td>\n",
       "    </tr>\n",
       "    <tr>\n",
       "      <th>1980.0</th>\n",
       "      <td>330.0</td>\n",
       "      <td>1201.0</td>\n",
       "      <td>1096.0</td>\n",
       "      <td>668.0</td>\n",
       "      <td>113.0</td>\n",
       "      <td>NaN</td>\n",
       "      <td>NaN</td>\n",
       "      <td>NaN</td>\n",
       "      <td>NaN</td>\n",
       "      <td>NaN</td>\n",
       "      <td>NaN</td>\n",
       "      <td>NaN</td>\n",
       "      <td>NaN</td>\n",
       "      <td>NaN</td>\n",
       "      <td>NaN</td>\n",
       "    </tr>\n",
       "    <tr>\n",
       "      <th>1990.0</th>\n",
       "      <td>216.0</td>\n",
       "      <td>576.0</td>\n",
       "      <td>100.0</td>\n",
       "      <td>NaN</td>\n",
       "      <td>NaN</td>\n",
       "      <td>NaN</td>\n",
       "      <td>NaN</td>\n",
       "      <td>NaN</td>\n",
       "      <td>NaN</td>\n",
       "      <td>NaN</td>\n",
       "      <td>NaN</td>\n",
       "      <td>NaN</td>\n",
       "      <td>NaN</td>\n",
       "      <td>NaN</td>\n",
       "      <td>NaN</td>\n",
       "    </tr>\n",
       "  </tbody>\n",
       "</table>\n",
       "</div>"
      ],
      "text/plain": [
       "age_group   15.0    20.0    25.0    30.0    35.0    40.0    45.0    50.0  \\\n",
       "decade                                                                     \n",
       "1880.0       NaN     NaN     NaN     NaN     NaN     NaN     NaN     NaN   \n",
       "1890.0       NaN     NaN     NaN     NaN     NaN     NaN     NaN     NaN   \n",
       "1900.0       NaN     NaN     NaN     NaN     NaN     NaN     NaN     NaN   \n",
       "1910.0       NaN     NaN     NaN     NaN     NaN     NaN     NaN    79.0   \n",
       "1920.0       NaN     NaN     NaN     NaN     NaN    85.0   768.0  1021.0   \n",
       "1930.0       NaN     NaN     NaN    80.0   623.0   948.0   934.0   935.0   \n",
       "1940.0       NaN   109.0   825.0  1234.0  1178.0  1309.0  1366.0  1186.0   \n",
       "1950.0     328.0  1515.0  1587.0  1558.0  1693.0  1642.0  1604.0  1346.0   \n",
       "1960.0     340.0  1574.0  1579.0  1612.0  1495.0  1434.0  1024.0   689.0   \n",
       "1970.0     283.0  1422.0  1451.0  1290.0  1062.0   570.0    73.0     NaN   \n",
       "1980.0     330.0  1201.0  1096.0   668.0   113.0     NaN     NaN     NaN   \n",
       "1990.0     216.0   576.0   100.0     NaN     NaN     NaN     NaN     NaN   \n",
       "\n",
       "age_group    55.0   60.0   65.0   70.0   75.0   80.0   85.0  \n",
       "decade                                                       \n",
       "1880.0        NaN    NaN    NaN    NaN    NaN    4.0   47.0  \n",
       "1890.0        NaN    NaN    NaN   56.0  201.0  117.0   99.0  \n",
       "1900.0        NaN   57.0  374.0  508.0  344.0  238.0  166.0  \n",
       "1910.0      617.0  712.0  655.0  662.0  405.0  254.0  194.0  \n",
       "1920.0      998.0  824.0  763.0  600.0  404.0  287.0  170.0  \n",
       "1930.0      825.0  746.0  630.0  491.0  389.0  147.0   16.0  \n",
       "1940.0     1051.0  855.0  710.0  315.0   40.0    NaN    NaN  \n",
       "1950.0     1106.0  594.0   86.0    NaN    NaN    NaN    NaN  \n",
       "1960.0       98.0    NaN    NaN    NaN    NaN    NaN    NaN  \n",
       "1970.0        NaN    NaN    NaN    NaN    NaN    NaN    NaN  \n",
       "1980.0        NaN    NaN    NaN    NaN    NaN    NaN    NaN  \n",
       "1990.0        NaN    NaN    NaN    NaN    NaN    NaN    NaN  "
      ]
     },
     "execution_count": 15,
     "metadata": {},
     "output_type": "execute_result"
    }
   ],
   "source": [
    "counts = grouped.none.count().unstack()\n",
    "counts"
   ]
  },
  {
   "cell_type": "code",
   "execution_count": 16,
   "metadata": {
    "collapsed": false
   },
   "outputs": [
    {
     "data": {
      "text/html": [
       "<div>\n",
       "<table border=\"1\" class=\"dataframe\">\n",
       "  <thead>\n",
       "    <tr style=\"text-align: right;\">\n",
       "      <th>age_group</th>\n",
       "      <th>15.0</th>\n",
       "      <th>20.0</th>\n",
       "      <th>25.0</th>\n",
       "      <th>30.0</th>\n",
       "      <th>35.0</th>\n",
       "      <th>40.0</th>\n",
       "      <th>45.0</th>\n",
       "      <th>50.0</th>\n",
       "      <th>55.0</th>\n",
       "      <th>60.0</th>\n",
       "      <th>65.0</th>\n",
       "      <th>70.0</th>\n",
       "      <th>75.0</th>\n",
       "      <th>80.0</th>\n",
       "      <th>85.0</th>\n",
       "    </tr>\n",
       "    <tr>\n",
       "      <th>decade</th>\n",
       "      <th></th>\n",
       "      <th></th>\n",
       "      <th></th>\n",
       "      <th></th>\n",
       "      <th></th>\n",
       "      <th></th>\n",
       "      <th></th>\n",
       "      <th></th>\n",
       "      <th></th>\n",
       "      <th></th>\n",
       "      <th></th>\n",
       "      <th></th>\n",
       "      <th></th>\n",
       "      <th></th>\n",
       "      <th></th>\n",
       "    </tr>\n",
       "  </thead>\n",
       "  <tbody>\n",
       "    <tr>\n",
       "      <th>1880.0</th>\n",
       "      <td>NaN</td>\n",
       "      <td>NaN</td>\n",
       "      <td>NaN</td>\n",
       "      <td>NaN</td>\n",
       "      <td>NaN</td>\n",
       "      <td>NaN</td>\n",
       "      <td>NaN</td>\n",
       "      <td>NaN</td>\n",
       "      <td>NaN</td>\n",
       "      <td>NaN</td>\n",
       "      <td>NaN</td>\n",
       "      <td>NaN</td>\n",
       "      <td>NaN</td>\n",
       "      <td>0.250000</td>\n",
       "      <td>0.000000</td>\n",
       "    </tr>\n",
       "    <tr>\n",
       "      <th>1890.0</th>\n",
       "      <td>NaN</td>\n",
       "      <td>NaN</td>\n",
       "      <td>NaN</td>\n",
       "      <td>NaN</td>\n",
       "      <td>NaN</td>\n",
       "      <td>NaN</td>\n",
       "      <td>NaN</td>\n",
       "      <td>NaN</td>\n",
       "      <td>NaN</td>\n",
       "      <td>NaN</td>\n",
       "      <td>NaN</td>\n",
       "      <td>0.035714</td>\n",
       "      <td>0.044776</td>\n",
       "      <td>0.008547</td>\n",
       "      <td>0.000000</td>\n",
       "    </tr>\n",
       "    <tr>\n",
       "      <th>1900.0</th>\n",
       "      <td>NaN</td>\n",
       "      <td>NaN</td>\n",
       "      <td>NaN</td>\n",
       "      <td>NaN</td>\n",
       "      <td>NaN</td>\n",
       "      <td>NaN</td>\n",
       "      <td>NaN</td>\n",
       "      <td>NaN</td>\n",
       "      <td>NaN</td>\n",
       "      <td>0.000000</td>\n",
       "      <td>0.024064</td>\n",
       "      <td>0.045276</td>\n",
       "      <td>0.029070</td>\n",
       "      <td>0.016807</td>\n",
       "      <td>0.018072</td>\n",
       "    </tr>\n",
       "    <tr>\n",
       "      <th>1910.0</th>\n",
       "      <td>NaN</td>\n",
       "      <td>NaN</td>\n",
       "      <td>NaN</td>\n",
       "      <td>NaN</td>\n",
       "      <td>NaN</td>\n",
       "      <td>NaN</td>\n",
       "      <td>NaN</td>\n",
       "      <td>0.063291</td>\n",
       "      <td>0.029173</td>\n",
       "      <td>0.042135</td>\n",
       "      <td>0.038168</td>\n",
       "      <td>0.054381</td>\n",
       "      <td>0.041975</td>\n",
       "      <td>0.039370</td>\n",
       "      <td>0.051546</td>\n",
       "    </tr>\n",
       "    <tr>\n",
       "      <th>1920.0</th>\n",
       "      <td>NaN</td>\n",
       "      <td>NaN</td>\n",
       "      <td>NaN</td>\n",
       "      <td>NaN</td>\n",
       "      <td>NaN</td>\n",
       "      <td>0.035294</td>\n",
       "      <td>0.042969</td>\n",
       "      <td>0.029383</td>\n",
       "      <td>0.035070</td>\n",
       "      <td>0.033981</td>\n",
       "      <td>0.040629</td>\n",
       "      <td>0.030000</td>\n",
       "      <td>0.086634</td>\n",
       "      <td>0.066202</td>\n",
       "      <td>0.058824</td>\n",
       "    </tr>\n",
       "    <tr>\n",
       "      <th>1930.0</th>\n",
       "      <td>NaN</td>\n",
       "      <td>NaN</td>\n",
       "      <td>NaN</td>\n",
       "      <td>0.075000</td>\n",
       "      <td>0.054575</td>\n",
       "      <td>0.053797</td>\n",
       "      <td>0.061028</td>\n",
       "      <td>0.031016</td>\n",
       "      <td>0.048485</td>\n",
       "      <td>0.042895</td>\n",
       "      <td>0.065079</td>\n",
       "      <td>0.065173</td>\n",
       "      <td>0.059126</td>\n",
       "      <td>0.074830</td>\n",
       "      <td>0.187500</td>\n",
       "    </tr>\n",
       "    <tr>\n",
       "      <th>1940.0</th>\n",
       "      <td>NaN</td>\n",
       "      <td>0.165138</td>\n",
       "      <td>0.104242</td>\n",
       "      <td>0.079417</td>\n",
       "      <td>0.078947</td>\n",
       "      <td>0.075630</td>\n",
       "      <td>0.081259</td>\n",
       "      <td>0.084317</td>\n",
       "      <td>0.094196</td>\n",
       "      <td>0.098246</td>\n",
       "      <td>0.123944</td>\n",
       "      <td>0.123810</td>\n",
       "      <td>0.150000</td>\n",
       "      <td>NaN</td>\n",
       "      <td>NaN</td>\n",
       "    </tr>\n",
       "    <tr>\n",
       "      <th>1950.0</th>\n",
       "      <td>0.143293</td>\n",
       "      <td>0.114191</td>\n",
       "      <td>0.112791</td>\n",
       "      <td>0.080231</td>\n",
       "      <td>0.102185</td>\n",
       "      <td>0.125457</td>\n",
       "      <td>0.135287</td>\n",
       "      <td>0.121842</td>\n",
       "      <td>0.162749</td>\n",
       "      <td>0.183502</td>\n",
       "      <td>0.127907</td>\n",
       "      <td>NaN</td>\n",
       "      <td>NaN</td>\n",
       "      <td>NaN</td>\n",
       "      <td>NaN</td>\n",
       "    </tr>\n",
       "    <tr>\n",
       "      <th>1960.0</th>\n",
       "      <td>0.150000</td>\n",
       "      <td>0.109911</td>\n",
       "      <td>0.127929</td>\n",
       "      <td>0.151365</td>\n",
       "      <td>0.141137</td>\n",
       "      <td>0.135983</td>\n",
       "      <td>0.166016</td>\n",
       "      <td>0.200290</td>\n",
       "      <td>0.091837</td>\n",
       "      <td>NaN</td>\n",
       "      <td>NaN</td>\n",
       "      <td>NaN</td>\n",
       "      <td>NaN</td>\n",
       "      <td>NaN</td>\n",
       "      <td>NaN</td>\n",
       "    </tr>\n",
       "    <tr>\n",
       "      <th>1970.0</th>\n",
       "      <td>0.134276</td>\n",
       "      <td>0.176512</td>\n",
       "      <td>0.203997</td>\n",
       "      <td>0.210078</td>\n",
       "      <td>0.217514</td>\n",
       "      <td>0.294737</td>\n",
       "      <td>0.082192</td>\n",
       "      <td>NaN</td>\n",
       "      <td>NaN</td>\n",
       "      <td>NaN</td>\n",
       "      <td>NaN</td>\n",
       "      <td>NaN</td>\n",
       "      <td>NaN</td>\n",
       "      <td>NaN</td>\n",
       "      <td>NaN</td>\n",
       "    </tr>\n",
       "    <tr>\n",
       "      <th>1980.0</th>\n",
       "      <td>0.206061</td>\n",
       "      <td>0.292256</td>\n",
       "      <td>0.272810</td>\n",
       "      <td>0.306886</td>\n",
       "      <td>0.283186</td>\n",
       "      <td>NaN</td>\n",
       "      <td>NaN</td>\n",
       "      <td>NaN</td>\n",
       "      <td>NaN</td>\n",
       "      <td>NaN</td>\n",
       "      <td>NaN</td>\n",
       "      <td>NaN</td>\n",
       "      <td>NaN</td>\n",
       "      <td>NaN</td>\n",
       "      <td>NaN</td>\n",
       "    </tr>\n",
       "    <tr>\n",
       "      <th>1990.0</th>\n",
       "      <td>0.231481</td>\n",
       "      <td>0.326389</td>\n",
       "      <td>0.390000</td>\n",
       "      <td>NaN</td>\n",
       "      <td>NaN</td>\n",
       "      <td>NaN</td>\n",
       "      <td>NaN</td>\n",
       "      <td>NaN</td>\n",
       "      <td>NaN</td>\n",
       "      <td>NaN</td>\n",
       "      <td>NaN</td>\n",
       "      <td>NaN</td>\n",
       "      <td>NaN</td>\n",
       "      <td>NaN</td>\n",
       "      <td>NaN</td>\n",
       "    </tr>\n",
       "  </tbody>\n",
       "</table>\n",
       "</div>"
      ],
      "text/plain": [
       "age_group      15.0      20.0      25.0      30.0      35.0      40.0  \\\n",
       "decade                                                                  \n",
       "1880.0          NaN       NaN       NaN       NaN       NaN       NaN   \n",
       "1890.0          NaN       NaN       NaN       NaN       NaN       NaN   \n",
       "1900.0          NaN       NaN       NaN       NaN       NaN       NaN   \n",
       "1910.0          NaN       NaN       NaN       NaN       NaN       NaN   \n",
       "1920.0          NaN       NaN       NaN       NaN       NaN  0.035294   \n",
       "1930.0          NaN       NaN       NaN  0.075000  0.054575  0.053797   \n",
       "1940.0          NaN  0.165138  0.104242  0.079417  0.078947  0.075630   \n",
       "1950.0     0.143293  0.114191  0.112791  0.080231  0.102185  0.125457   \n",
       "1960.0     0.150000  0.109911  0.127929  0.151365  0.141137  0.135983   \n",
       "1970.0     0.134276  0.176512  0.203997  0.210078  0.217514  0.294737   \n",
       "1980.0     0.206061  0.292256  0.272810  0.306886  0.283186       NaN   \n",
       "1990.0     0.231481  0.326389  0.390000       NaN       NaN       NaN   \n",
       "\n",
       "age_group      45.0      50.0      55.0      60.0      65.0      70.0  \\\n",
       "decade                                                                  \n",
       "1880.0          NaN       NaN       NaN       NaN       NaN       NaN   \n",
       "1890.0          NaN       NaN       NaN       NaN       NaN  0.035714   \n",
       "1900.0          NaN       NaN       NaN  0.000000  0.024064  0.045276   \n",
       "1910.0          NaN  0.063291  0.029173  0.042135  0.038168  0.054381   \n",
       "1920.0     0.042969  0.029383  0.035070  0.033981  0.040629  0.030000   \n",
       "1930.0     0.061028  0.031016  0.048485  0.042895  0.065079  0.065173   \n",
       "1940.0     0.081259  0.084317  0.094196  0.098246  0.123944  0.123810   \n",
       "1950.0     0.135287  0.121842  0.162749  0.183502  0.127907       NaN   \n",
       "1960.0     0.166016  0.200290  0.091837       NaN       NaN       NaN   \n",
       "1970.0     0.082192       NaN       NaN       NaN       NaN       NaN   \n",
       "1980.0          NaN       NaN       NaN       NaN       NaN       NaN   \n",
       "1990.0          NaN       NaN       NaN       NaN       NaN       NaN   \n",
       "\n",
       "age_group      75.0      80.0      85.0  \n",
       "decade                                   \n",
       "1880.0          NaN  0.250000  0.000000  \n",
       "1890.0     0.044776  0.008547  0.000000  \n",
       "1900.0     0.029070  0.016807  0.018072  \n",
       "1910.0     0.041975  0.039370  0.051546  \n",
       "1920.0     0.086634  0.066202  0.058824  \n",
       "1930.0     0.059126  0.074830  0.187500  \n",
       "1940.0     0.150000       NaN       NaN  \n",
       "1950.0          NaN       NaN       NaN  \n",
       "1960.0          NaN       NaN       NaN  \n",
       "1970.0          NaN       NaN       NaN  \n",
       "1980.0          NaN       NaN       NaN  \n",
       "1990.0          NaN       NaN       NaN  "
      ]
     },
     "execution_count": 16,
     "metadata": {},
     "output_type": "execute_result"
    }
   ],
   "source": [
    "percent_none = grouped.none.mean().unstack()\n",
    "percent_none"
   ]
  },
  {
   "cell_type": "markdown",
   "metadata": {},
   "source": [
    "Drop cells where we have fewer than 50 observations."
   ]
  },
  {
   "cell_type": "code",
   "execution_count": 17,
   "metadata": {
    "collapsed": true
   },
   "outputs": [],
   "source": [
    "percent_none[counts < 50] = np.nan"
   ]
  },
  {
   "cell_type": "code",
   "execution_count": 18,
   "metadata": {
    "collapsed": false
   },
   "outputs": [
    {
     "data": {
      "text/html": [
       "<div>\n",
       "<table border=\"1\" class=\"dataframe\">\n",
       "  <thead>\n",
       "    <tr style=\"text-align: right;\">\n",
       "      <th>age_group</th>\n",
       "      <th>15.0</th>\n",
       "      <th>20.0</th>\n",
       "      <th>25.0</th>\n",
       "      <th>30.0</th>\n",
       "      <th>35.0</th>\n",
       "      <th>40.0</th>\n",
       "      <th>45.0</th>\n",
       "      <th>50.0</th>\n",
       "      <th>55.0</th>\n",
       "      <th>60.0</th>\n",
       "      <th>65.0</th>\n",
       "      <th>70.0</th>\n",
       "      <th>75.0</th>\n",
       "      <th>80.0</th>\n",
       "      <th>85.0</th>\n",
       "    </tr>\n",
       "    <tr>\n",
       "      <th>decade</th>\n",
       "      <th></th>\n",
       "      <th></th>\n",
       "      <th></th>\n",
       "      <th></th>\n",
       "      <th></th>\n",
       "      <th></th>\n",
       "      <th></th>\n",
       "      <th></th>\n",
       "      <th></th>\n",
       "      <th></th>\n",
       "      <th></th>\n",
       "      <th></th>\n",
       "      <th></th>\n",
       "      <th></th>\n",
       "      <th></th>\n",
       "    </tr>\n",
       "  </thead>\n",
       "  <tbody>\n",
       "    <tr>\n",
       "      <th>1930.0</th>\n",
       "      <td>NaN</td>\n",
       "      <td>NaN</td>\n",
       "      <td>NaN</td>\n",
       "      <td>0.075000</td>\n",
       "      <td>0.054575</td>\n",
       "      <td>0.053797</td>\n",
       "      <td>0.061028</td>\n",
       "      <td>0.031016</td>\n",
       "      <td>0.048485</td>\n",
       "      <td>0.042895</td>\n",
       "      <td>0.065079</td>\n",
       "      <td>0.065173</td>\n",
       "      <td>0.059126</td>\n",
       "      <td>0.07483</td>\n",
       "      <td>NaN</td>\n",
       "    </tr>\n",
       "    <tr>\n",
       "      <th>1940.0</th>\n",
       "      <td>NaN</td>\n",
       "      <td>0.165138</td>\n",
       "      <td>0.104242</td>\n",
       "      <td>0.079417</td>\n",
       "      <td>0.078947</td>\n",
       "      <td>0.075630</td>\n",
       "      <td>0.081259</td>\n",
       "      <td>0.084317</td>\n",
       "      <td>0.094196</td>\n",
       "      <td>0.098246</td>\n",
       "      <td>0.123944</td>\n",
       "      <td>0.123810</td>\n",
       "      <td>NaN</td>\n",
       "      <td>NaN</td>\n",
       "      <td>NaN</td>\n",
       "    </tr>\n",
       "    <tr>\n",
       "      <th>1950.0</th>\n",
       "      <td>0.143293</td>\n",
       "      <td>0.114191</td>\n",
       "      <td>0.112791</td>\n",
       "      <td>0.080231</td>\n",
       "      <td>0.102185</td>\n",
       "      <td>0.125457</td>\n",
       "      <td>0.135287</td>\n",
       "      <td>0.121842</td>\n",
       "      <td>0.162749</td>\n",
       "      <td>0.183502</td>\n",
       "      <td>0.127907</td>\n",
       "      <td>NaN</td>\n",
       "      <td>NaN</td>\n",
       "      <td>NaN</td>\n",
       "      <td>NaN</td>\n",
       "    </tr>\n",
       "    <tr>\n",
       "      <th>1960.0</th>\n",
       "      <td>0.150000</td>\n",
       "      <td>0.109911</td>\n",
       "      <td>0.127929</td>\n",
       "      <td>0.151365</td>\n",
       "      <td>0.141137</td>\n",
       "      <td>0.135983</td>\n",
       "      <td>0.166016</td>\n",
       "      <td>0.200290</td>\n",
       "      <td>0.091837</td>\n",
       "      <td>NaN</td>\n",
       "      <td>NaN</td>\n",
       "      <td>NaN</td>\n",
       "      <td>NaN</td>\n",
       "      <td>NaN</td>\n",
       "      <td>NaN</td>\n",
       "    </tr>\n",
       "    <tr>\n",
       "      <th>1970.0</th>\n",
       "      <td>0.134276</td>\n",
       "      <td>0.176512</td>\n",
       "      <td>0.203997</td>\n",
       "      <td>0.210078</td>\n",
       "      <td>0.217514</td>\n",
       "      <td>0.294737</td>\n",
       "      <td>0.082192</td>\n",
       "      <td>NaN</td>\n",
       "      <td>NaN</td>\n",
       "      <td>NaN</td>\n",
       "      <td>NaN</td>\n",
       "      <td>NaN</td>\n",
       "      <td>NaN</td>\n",
       "      <td>NaN</td>\n",
       "      <td>NaN</td>\n",
       "    </tr>\n",
       "    <tr>\n",
       "      <th>1980.0</th>\n",
       "      <td>0.206061</td>\n",
       "      <td>0.292256</td>\n",
       "      <td>0.272810</td>\n",
       "      <td>0.306886</td>\n",
       "      <td>0.283186</td>\n",
       "      <td>NaN</td>\n",
       "      <td>NaN</td>\n",
       "      <td>NaN</td>\n",
       "      <td>NaN</td>\n",
       "      <td>NaN</td>\n",
       "      <td>NaN</td>\n",
       "      <td>NaN</td>\n",
       "      <td>NaN</td>\n",
       "      <td>NaN</td>\n",
       "      <td>NaN</td>\n",
       "    </tr>\n",
       "  </tbody>\n",
       "</table>\n",
       "</div>"
      ],
      "text/plain": [
       "age_group      15.0      20.0      25.0      30.0      35.0      40.0  \\\n",
       "decade                                                                  \n",
       "1930.0          NaN       NaN       NaN  0.075000  0.054575  0.053797   \n",
       "1940.0          NaN  0.165138  0.104242  0.079417  0.078947  0.075630   \n",
       "1950.0     0.143293  0.114191  0.112791  0.080231  0.102185  0.125457   \n",
       "1960.0     0.150000  0.109911  0.127929  0.151365  0.141137  0.135983   \n",
       "1970.0     0.134276  0.176512  0.203997  0.210078  0.217514  0.294737   \n",
       "1980.0     0.206061  0.292256  0.272810  0.306886  0.283186       NaN   \n",
       "\n",
       "age_group      45.0      50.0      55.0      60.0      65.0      70.0  \\\n",
       "decade                                                                  \n",
       "1930.0     0.061028  0.031016  0.048485  0.042895  0.065079  0.065173   \n",
       "1940.0     0.081259  0.084317  0.094196  0.098246  0.123944  0.123810   \n",
       "1950.0     0.135287  0.121842  0.162749  0.183502  0.127907       NaN   \n",
       "1960.0     0.166016  0.200290  0.091837       NaN       NaN       NaN   \n",
       "1970.0     0.082192       NaN       NaN       NaN       NaN       NaN   \n",
       "1980.0          NaN       NaN       NaN       NaN       NaN       NaN   \n",
       "\n",
       "age_group      75.0     80.0  85.0  \n",
       "decade                              \n",
       "1930.0     0.059126  0.07483   NaN  \n",
       "1940.0          NaN      NaN   NaN  \n",
       "1950.0          NaN      NaN   NaN  \n",
       "1960.0          NaN      NaN   NaN  \n",
       "1970.0          NaN      NaN   NaN  \n",
       "1980.0          NaN      NaN   NaN  "
      ]
     },
     "execution_count": 18,
     "metadata": {},
     "output_type": "execute_result"
    }
   ],
   "source": [
    "decades = np.linspace(1930, 1980, 6, endpoint=True)\n",
    "percent_none.loc[decades]"
   ]
  },
  {
   "cell_type": "code",
   "execution_count": 19,
   "metadata": {
    "collapsed": false
   },
   "outputs": [
    {
     "data": {
      "image/png": "[encoded data removed]",
      "text/plain": [
       "<matplotlib.figure.Figure at 0x7fbd0667c250>"
      ]
     },
     "metadata": {},
     "output_type": "display_data"
    }
   ],
   "source": [
    "colors = sns.color_palette()\n",
    "sns.palplot(colors)"
   ]
  },
  {
   "cell_type": "code",
   "execution_count": 20,
   "metadata": {
    "collapsed": false
   },
   "outputs": [
    {
     "data": {
      "image/png": "[encoded data removed]",
      "text/plain": [
       "<matplotlib.figure.Figure at 0x7fbd06810f50>"
      ]
     },
     "metadata": {},
     "output_type": "display_data"
    }
   ],
   "source": [
    "options = dict(alpha=1)\n",
    "\n",
    "thinkplot.preplot(6)\n",
    "thinkplot.plot(percent_none.loc[1980], label='80s', color=colors[0], **options)\n",
    "thinkplot.plot(percent_none.loc[1970], label='70s', color=colors[1], **options)\n",
    "thinkplot.plot(percent_none.loc[1960], label='60s', color=colors[2], **options)\n",
    "thinkplot.plot(percent_none.loc[1950], label='50s', color=colors[3], **options)\n",
    "thinkplot.plot(percent_none.loc[1940], label='40s', color=colors[4], **options)\n",
    "thinkplot.plot(percent_none.loc[1930], label='30s', color=colors[5], **options)\n",
    "\n",
    "xlabel = 'Age group'\n",
    "ylabel = 'Fraction with no affiliation'\n",
    "axis = [13, 85, 0, 0.32]\n",
    "\n",
    "thinkplot.config(xlabel=xlabel, ylabel=ylabel, axis=axis, legend=True)\n",
    "plt.gca().get_legend().set(title='Decade born');"
   ]
  },
  {
   "cell_type": "code",
   "execution_count": 21,
   "metadata": {
    "collapsed": false
   },
   "outputs": [
    {
     "data": {
      "image/png": "[encoded data removed]",
      "text/plain": [
       "<matplotlib.figure.Figure at 0x7fbd065e3f90>"
      ]
     },
     "metadata": {},
     "output_type": "display_data"
    }
   ],
   "source": [
    "thinkplot.preplot(num=6, rows=2, cols=3)\n",
    "thinkplot.subplot(1)\n",
    "thinkplot.plot(percent_none.loc[1980], label='80s', color=colors[0], **options)\n",
    "thinkplot.config(ylabel=ylabel, axis=axis)\n",
    "\n",
    "thinkplot.subplot(2)\n",
    "thinkplot.plot(percent_none.loc[1970], label='70s', color=colors[1], **options)\n",
    "thinkplot.config(axis=axis)\n",
    "\n",
    "thinkplot.subplot(3)\n",
    "thinkplot.plot(percent_none.loc[1960], label='60s', color=colors[2], **options)\n",
    "thinkplot.config(axis=axis)\n",
    "\n",
    "thinkplot.subplot(4)\n",
    "thinkplot.plot(percent_none.loc[1950], label='50s')\n",
    "thinkplot.config(xlabel=xlabel, ylabel=ylabel, axis=axis, color=colors[3], **options)\n",
    "\n",
    "thinkplot.subplot(5)\n",
    "thinkplot.plot(percent_none.loc[1940], label='40s', color=colors[4], **options)\n",
    "thinkplot.config(xlabel=xlabel, axis=axis)\n",
    "\n",
    "thinkplot.subplot(6)\n",
    "thinkplot.plot(percent_none.loc[1930], label='30s', color=colors[5], **options)\n",
    "thinkplot.config(xlabel=xlabel, axis=axis)"
   ]
  },
  {
   "cell_type": "code",
   "execution_count": 22,
   "metadata": {
    "collapsed": true
   },
   "outputs": [],
   "source": [
    "sample['age_group10'] = utils.RoundIntoBins(sample, 'age', 10)"
   ]
  },
  {
   "cell_type": "code",
   "execution_count": 23,
   "metadata": {
    "collapsed": true
   },
   "outputs": [],
   "source": [
    "sample['year4'] = utils.RoundIntoBins(sample, 'year', 4, low=2)"
   ]
  },
  {
   "cell_type": "code",
   "execution_count": 24,
   "metadata": {
    "collapsed": true
   },
   "outputs": [],
   "source": [
    "grouped = sample.groupby(['age_group10', 'year4'])"
   ]
  },
  {
   "cell_type": "code",
   "execution_count": 25,
   "metadata": {
    "collapsed": false
   },
   "outputs": [
    {
     "data": {
      "text/html": [
       "<div>\n",
       "<table border=\"1\" class=\"dataframe\">\n",
       "  <thead>\n",
       "    <tr style=\"text-align: right;\">\n",
       "      <th>year4</th>\n",
       "      <th>1970</th>\n",
       "      <th>1974</th>\n",
       "      <th>1978</th>\n",
       "      <th>1982</th>\n",
       "      <th>1986</th>\n",
       "      <th>1990</th>\n",
       "      <th>1994</th>\n",
       "      <th>1998</th>\n",
       "      <th>2002</th>\n",
       "      <th>2006</th>\n",
       "      <th>2010</th>\n",
       "      <th>2014</th>\n",
       "    </tr>\n",
       "    <tr>\n",
       "      <th>age_group10</th>\n",
       "      <th></th>\n",
       "      <th></th>\n",
       "      <th></th>\n",
       "      <th></th>\n",
       "      <th></th>\n",
       "      <th></th>\n",
       "      <th></th>\n",
       "      <th></th>\n",
       "      <th></th>\n",
       "      <th></th>\n",
       "      <th></th>\n",
       "      <th></th>\n",
       "    </tr>\n",
       "  </thead>\n",
       "  <tbody>\n",
       "    <tr>\n",
       "      <th>10.0</th>\n",
       "      <td>93</td>\n",
       "      <td>204</td>\n",
       "      <td>77</td>\n",
       "      <td>160</td>\n",
       "      <td>185</td>\n",
       "      <td>73</td>\n",
       "      <td>115</td>\n",
       "      <td>122</td>\n",
       "      <td>116</td>\n",
       "      <td>146</td>\n",
       "      <td>104</td>\n",
       "      <td>102</td>\n",
       "    </tr>\n",
       "    <tr>\n",
       "      <th>20.0</th>\n",
       "      <td>714</td>\n",
       "      <td>1429</td>\n",
       "      <td>756</td>\n",
       "      <td>1620</td>\n",
       "      <td>1418</td>\n",
       "      <td>964</td>\n",
       "      <td>1164</td>\n",
       "      <td>1051</td>\n",
       "      <td>1073</td>\n",
       "      <td>1182</td>\n",
       "      <td>730</td>\n",
       "      <td>934</td>\n",
       "    </tr>\n",
       "    <tr>\n",
       "      <th>30.0</th>\n",
       "      <td>511</td>\n",
       "      <td>1104</td>\n",
       "      <td>637</td>\n",
       "      <td>1332</td>\n",
       "      <td>1365</td>\n",
       "      <td>1055</td>\n",
       "      <td>1351</td>\n",
       "      <td>1247</td>\n",
       "      <td>1082</td>\n",
       "      <td>1210</td>\n",
       "      <td>721</td>\n",
       "      <td>991</td>\n",
       "    </tr>\n",
       "    <tr>\n",
       "      <th>40.0</th>\n",
       "      <td>624</td>\n",
       "      <td>990</td>\n",
       "      <td>444</td>\n",
       "      <td>1002</td>\n",
       "      <td>1157</td>\n",
       "      <td>891</td>\n",
       "      <td>1255</td>\n",
       "      <td>1282</td>\n",
       "      <td>1168</td>\n",
       "      <td>1381</td>\n",
       "      <td>716</td>\n",
       "      <td>847</td>\n",
       "    </tr>\n",
       "    <tr>\n",
       "      <th>50.0</th>\n",
       "      <td>556</td>\n",
       "      <td>1027</td>\n",
       "      <td>474</td>\n",
       "      <td>1006</td>\n",
       "      <td>753</td>\n",
       "      <td>527</td>\n",
       "      <td>865</td>\n",
       "      <td>806</td>\n",
       "      <td>940</td>\n",
       "      <td>1193</td>\n",
       "      <td>747</td>\n",
       "      <td>1057</td>\n",
       "    </tr>\n",
       "    <tr>\n",
       "      <th>60.0</th>\n",
       "      <td>338</td>\n",
       "      <td>673</td>\n",
       "      <td>334</td>\n",
       "      <td>709</td>\n",
       "      <td>721</td>\n",
       "      <td>474</td>\n",
       "      <td>607</td>\n",
       "      <td>490</td>\n",
       "      <td>580</td>\n",
       "      <td>713</td>\n",
       "      <td>556</td>\n",
       "      <td>811</td>\n",
       "    </tr>\n",
       "    <tr>\n",
       "      <th>70.0</th>\n",
       "      <td>221</td>\n",
       "      <td>431</td>\n",
       "      <td>203</td>\n",
       "      <td>435</td>\n",
       "      <td>497</td>\n",
       "      <td>365</td>\n",
       "      <td>364</td>\n",
       "      <td>410</td>\n",
       "      <td>372</td>\n",
       "      <td>410</td>\n",
       "      <td>287</td>\n",
       "      <td>420</td>\n",
       "    </tr>\n",
       "    <tr>\n",
       "      <th>80.0</th>\n",
       "      <td>30</td>\n",
       "      <td>109</td>\n",
       "      <td>59</td>\n",
       "      <td>155</td>\n",
       "      <td>174</td>\n",
       "      <td>128</td>\n",
       "      <td>152</td>\n",
       "      <td>184</td>\n",
       "      <td>188</td>\n",
       "      <td>232</td>\n",
       "      <td>131</td>\n",
       "      <td>197</td>\n",
       "    </tr>\n",
       "  </tbody>\n",
       "</table>\n",
       "</div>"
      ],
      "text/plain": [
       "year4        1970  1974  1978  1982  1986  1990  1994  1998  2002  2006  2010  \\\n",
       "age_group10                                                                     \n",
       "10.0           93   204    77   160   185    73   115   122   116   146   104   \n",
       "20.0          714  1429   756  1620  1418   964  1164  1051  1073  1182   730   \n",
       "30.0          511  1104   637  1332  1365  1055  1351  1247  1082  1210   721   \n",
       "40.0          624   990   444  1002  1157   891  1255  1282  1168  1381   716   \n",
       "50.0          556  1027   474  1006   753   527   865   806   940  1193   747   \n",
       "60.0          338   673   334   709   721   474   607   490   580   713   556   \n",
       "70.0          221   431   203   435   497   365   364   410   372   410   287   \n",
       "80.0           30   109    59   155   174   128   152   184   188   232   131   \n",
       "\n",
       "year4        2014  \n",
       "age_group10        \n",
       "10.0          102  \n",
       "20.0          934  \n",
       "30.0          991  \n",
       "40.0          847  \n",
       "50.0         1057  \n",
       "60.0          811  \n",
       "70.0          420  \n",
       "80.0          197  "
      ]
     },
     "execution_count": 25,
     "metadata": {},
     "output_type": "execute_result"
    }
   ],
   "source": [
    "counts = grouped.none.count().unstack()\n",
    "counts"
   ]
  },
  {
   "cell_type": "code",
   "execution_count": null,
   "metadata": {
    "collapsed": true
   },
   "outputs": [],
   "source": []
  },
  {
   "cell_type": "code",
   "execution_count": 26,
   "metadata": {
    "collapsed": false
   },
   "outputs": [
    {
     "data": {
      "text/html": [
       "<div>\n",
       "<table border=\"1\" class=\"dataframe\">\n",
       "  <thead>\n",
       "    <tr style=\"text-align: right;\">\n",
       "      <th>year4</th>\n",
       "      <th>1970</th>\n",
       "      <th>1974</th>\n",
       "      <th>1978</th>\n",
       "      <th>1982</th>\n",
       "      <th>1986</th>\n",
       "      <th>1990</th>\n",
       "      <th>1994</th>\n",
       "      <th>1998</th>\n",
       "      <th>2002</th>\n",
       "      <th>2006</th>\n",
       "      <th>2010</th>\n",
       "      <th>2014</th>\n",
       "    </tr>\n",
       "    <tr>\n",
       "      <th>age_group10</th>\n",
       "      <th></th>\n",
       "      <th></th>\n",
       "      <th></th>\n",
       "      <th></th>\n",
       "      <th></th>\n",
       "      <th></th>\n",
       "      <th></th>\n",
       "      <th></th>\n",
       "      <th></th>\n",
       "      <th></th>\n",
       "      <th></th>\n",
       "      <th></th>\n",
       "    </tr>\n",
       "  </thead>\n",
       "  <tbody>\n",
       "    <tr>\n",
       "      <th>10.0</th>\n",
       "      <td>11.827957</td>\n",
       "      <td>16.176471</td>\n",
       "      <td>10.389610</td>\n",
       "      <td>15.625000</td>\n",
       "      <td>13.513514</td>\n",
       "      <td>9.589041</td>\n",
       "      <td>19.130435</td>\n",
       "      <td>19.672131</td>\n",
       "      <td>18.103448</td>\n",
       "      <td>19.178082</td>\n",
       "      <td>24.038462</td>\n",
       "      <td>24.509804</td>\n",
       "    </tr>\n",
       "    <tr>\n",
       "      <th>20.0</th>\n",
       "      <td>12.324930</td>\n",
       "      <td>11.196641</td>\n",
       "      <td>11.111111</td>\n",
       "      <td>11.358025</td>\n",
       "      <td>9.943583</td>\n",
       "      <td>9.336100</td>\n",
       "      <td>17.353952</td>\n",
       "      <td>23.882017</td>\n",
       "      <td>24.044734</td>\n",
       "      <td>24.873096</td>\n",
       "      <td>28.630137</td>\n",
       "      <td>31.477516</td>\n",
       "    </tr>\n",
       "    <tr>\n",
       "      <th>30.0</th>\n",
       "      <td>4.696673</td>\n",
       "      <td>7.789855</td>\n",
       "      <td>8.948195</td>\n",
       "      <td>6.531532</td>\n",
       "      <td>9.597070</td>\n",
       "      <td>10.710900</td>\n",
       "      <td>11.547002</td>\n",
       "      <td>14.915798</td>\n",
       "      <td>16.173752</td>\n",
       "      <td>19.834711</td>\n",
       "      <td>22.607490</td>\n",
       "      <td>30.776993</td>\n",
       "    </tr>\n",
       "    <tr>\n",
       "      <th>40.0</th>\n",
       "      <td>2.724359</td>\n",
       "      <td>6.565657</td>\n",
       "      <td>6.531532</td>\n",
       "      <td>4.890220</td>\n",
       "      <td>7.000864</td>\n",
       "      <td>7.744108</td>\n",
       "      <td>11.394422</td>\n",
       "      <td>14.118565</td>\n",
       "      <td>13.356164</td>\n",
       "      <td>14.844316</td>\n",
       "      <td>18.575419</td>\n",
       "      <td>22.195986</td>\n",
       "    </tr>\n",
       "    <tr>\n",
       "      <th>50.0</th>\n",
       "      <td>4.496403</td>\n",
       "      <td>2.434275</td>\n",
       "      <td>2.320675</td>\n",
       "      <td>3.081511</td>\n",
       "      <td>4.116866</td>\n",
       "      <td>4.554080</td>\n",
       "      <td>7.052023</td>\n",
       "      <td>9.553350</td>\n",
       "      <td>10.531915</td>\n",
       "      <td>11.986588</td>\n",
       "      <td>17.536814</td>\n",
       "      <td>17.880795</td>\n",
       "    </tr>\n",
       "    <tr>\n",
       "      <th>60.0</th>\n",
       "      <td>2.662722</td>\n",
       "      <td>3.120357</td>\n",
       "      <td>3.892216</td>\n",
       "      <td>3.808181</td>\n",
       "      <td>3.467406</td>\n",
       "      <td>3.586498</td>\n",
       "      <td>4.777595</td>\n",
       "      <td>5.306122</td>\n",
       "      <td>7.068966</td>\n",
       "      <td>9.256662</td>\n",
       "      <td>13.848921</td>\n",
       "      <td>16.892725</td>\n",
       "    </tr>\n",
       "    <tr>\n",
       "      <th>70.0</th>\n",
       "      <td>2.714932</td>\n",
       "      <td>5.336427</td>\n",
       "      <td>2.955665</td>\n",
       "      <td>3.218391</td>\n",
       "      <td>3.420523</td>\n",
       "      <td>7.397260</td>\n",
       "      <td>4.670330</td>\n",
       "      <td>4.390244</td>\n",
       "      <td>6.451613</td>\n",
       "      <td>8.292683</td>\n",
       "      <td>6.968641</td>\n",
       "      <td>10.476190</td>\n",
       "    </tr>\n",
       "    <tr>\n",
       "      <th>80.0</th>\n",
       "      <td>NaN</td>\n",
       "      <td>0.000000</td>\n",
       "      <td>0.000000</td>\n",
       "      <td>1.935484</td>\n",
       "      <td>1.724138</td>\n",
       "      <td>2.343750</td>\n",
       "      <td>5.921053</td>\n",
       "      <td>2.717391</td>\n",
       "      <td>6.382979</td>\n",
       "      <td>4.310345</td>\n",
       "      <td>6.106870</td>\n",
       "      <td>8.629442</td>\n",
       "    </tr>\n",
       "  </tbody>\n",
       "</table>\n",
       "</div>"
      ],
      "text/plain": [
       "year4             1970       1974       1978       1982       1986       1990  \\\n",
       "age_group10                                                                     \n",
       "10.0         11.827957  16.176471  10.389610  15.625000  13.513514   9.589041   \n",
       "20.0         12.324930  11.196641  11.111111  11.358025   9.943583   9.336100   \n",
       "30.0          4.696673   7.789855   8.948195   6.531532   9.597070  10.710900   \n",
       "40.0          2.724359   6.565657   6.531532   4.890220   7.000864   7.744108   \n",
       "50.0          4.496403   2.434275   2.320675   3.081511   4.116866   4.554080   \n",
       "60.0          2.662722   3.120357   3.892216   3.808181   3.467406   3.586498   \n",
       "70.0          2.714932   5.336427   2.955665   3.218391   3.420523   7.397260   \n",
       "80.0               NaN   0.000000   0.000000   1.935484   1.724138   2.343750   \n",
       "\n",
       "year4             1994       1998       2002       2006       2010       2014  \n",
       "age_group10                                                                    \n",
       "10.0         19.130435  19.672131  18.103448  19.178082  24.038462  24.509804  \n",
       "20.0         17.353952  23.882017  24.044734  24.873096  28.630137  31.477516  \n",
       "30.0         11.547002  14.915798  16.173752  19.834711  22.607490  30.776993  \n",
       "40.0         11.394422  14.118565  13.356164  14.844316  18.575419  22.195986  \n",
       "50.0          7.052023   9.553350  10.531915  11.986588  17.536814  17.880795  \n",
       "60.0          4.777595   5.306122   7.068966   9.256662  13.848921  16.892725  \n",
       "70.0          4.670330   4.390244   6.451613   8.292683   6.968641  10.476190  \n",
       "80.0          5.921053   2.717391   6.382979   4.310345   6.106870   8.629442  "
      ]
     },
     "execution_count": 26,
     "metadata": {},
     "output_type": "execute_result"
    }
   ],
   "source": [
    "percent_none = grouped.none.mean().unstack()\n",
    "percent_none[counts < 50] = np.nan\n",
    "percent_none*=100\n",
    "percent_none"
   ]
  },
  {
   "cell_type": "code",
   "execution_count": 27,
   "metadata": {
    "collapsed": false
   },
   "outputs": [
    {
     "data": {
      "image/png": "[encoded data removed]",
      "text/plain": [
       "<matplotlib.figure.Figure at 0x7fbd065df690>"
      ]
     },
     "metadata": {},
     "output_type": "display_data"
    }
   ],
   "source": [
    "sns.set(style='whitegrid', font_scale=1.5)\n",
    "\n",
    "rows = percent_none.loc[20:65]\n",
    "for age_group, row in rows.iterrows():\n",
    "    thinkplot.plot(row)"
   ]
  },
  {
   "cell_type": "code",
   "execution_count": 28,
   "metadata": {
    "collapsed": false
   },
   "outputs": [
    {
     "data": {
      "text/plain": [
       "year4\n",
       "1970     2.662722\n",
       "1974     3.120357\n",
       "1978     3.892216\n",
       "1982     3.808181\n",
       "1986     3.467406\n",
       "1990     3.586498\n",
       "1994     4.777595\n",
       "1998     5.306122\n",
       "2002     7.068966\n",
       "2006     9.256662\n",
       "2010    13.848921\n",
       "2014    16.892725\n",
       "Name: 60.0, dtype: float64"
      ]
     },
     "execution_count": 28,
     "metadata": {},
     "output_type": "execute_result"
    }
   ],
   "source": [
    "row"
   ]
  },
  {
   "cell_type": "code",
   "execution_count": 29,
   "metadata": {
    "collapsed": false
   },
   "outputs": [],
   "source": [
    "def FitRow(row, formula='y ~ time + time2'):\n",
    "    \"\"\"Fits a model to a Series.\n",
    "    \n",
    "    row: Series\n",
    "    formula: Patsy string\n",
    "    \n",
    "    returns: RegressionResults\n",
    "    \"\"\"\n",
    "\n",
    "    time = row.index\n",
    "    time -= min(time)\n",
    "    time2 = time**2\n",
    "    \n",
    "    df = pd.DataFrame(dict(time=time, time2=time2, y=row))\n",
    "    results = smf.ols(formula, data=df).fit()\n",
    "    return results"
   ]
  },
  {
   "cell_type": "code",
   "execution_count": 30,
   "metadata": {
    "collapsed": false
   },
   "outputs": [
    {
     "data": {
      "image/png": "[encoded data removed]",
      "text/plain": [
       "<matplotlib.figure.Figure at 0x7fbd06619190>"
      ]
     },
     "metadata": {},
     "output_type": "display_data"
    }
   ],
   "source": [
    "for age_group, row in rows.iterrows():\n",
    "    results = FitRow(row)\n",
    "    thinkplot.plot(results.fittedvalues, color='gray')\n",
    "    thinkplot.plot(row)"
   ]
  },
  {
   "cell_type": "code",
   "execution_count": 31,
   "metadata": {
    "collapsed": false
   },
   "outputs": [
    {
     "data": {
      "image/png": "[encoded data removed]",
      "text/plain": [
       "<matplotlib.figure.Figure at 0x7fbd056642d0>"
      ]
     },
     "metadata": {},
     "output_type": "display_data"
    }
   ],
   "source": [
    "for age_group, row in rows.iterrows():\n",
    "    results = FitRow(row)\n",
    "    ys = results.fittedvalues\n",
    "    thinkplot.plot(ys)"
   ]
  },
  {
   "cell_type": "code",
   "execution_count": 32,
   "metadata": {
    "collapsed": false
   },
   "outputs": [
    {
     "data": {
      "image/png": "[encoded data removed]",
      "text/plain": [
       "<matplotlib.figure.Figure at 0x7fbd05659710>"
      ]
     },
     "metadata": {},
     "output_type": "display_data"
    }
   ],
   "source": [
    "shift = 0\n",
    "for age_group, row in rows.iterrows():\n",
    "    results = FitRow(row)\n",
    "    ys = results.fittedvalues\n",
    "    ys.index -= shift\n",
    "    shift += 10\n",
    "    thinkplot.plot(ys)"
   ]
  },
  {
   "cell_type": "code",
   "execution_count": 33,
   "metadata": {
    "collapsed": false
   },
   "outputs": [
    {
     "data": {
      "text/html": [
       "<div>\n",
       "<table border=\"1\" class=\"dataframe\">\n",
       "  <thead>\n",
       "    <tr style=\"text-align: right;\">\n",
       "      <th></th>\n",
       "      <th>noneall</th>\n",
       "      <th>fatherall</th>\n",
       "      <th>motherall</th>\n",
       "      <th>attendedall</th>\n",
       "      <th>nonemen</th>\n",
       "      <th>fathermen</th>\n",
       "      <th>mothermen</th>\n",
       "      <th>attendedmen</th>\n",
       "      <th>nonewomen</th>\n",
       "      <th>fatherwomen</th>\n",
       "      <th>motherwomen</th>\n",
       "      <th>attendedwomen</th>\n",
       "      <th>bornagain</th>\n",
       "      <th>evangelical</th>\n",
       "    </tr>\n",
       "    <tr>\n",
       "      <th>year</th>\n",
       "      <th></th>\n",
       "      <th></th>\n",
       "      <th></th>\n",
       "      <th></th>\n",
       "      <th></th>\n",
       "      <th></th>\n",
       "      <th></th>\n",
       "      <th></th>\n",
       "      <th></th>\n",
       "      <th></th>\n",
       "      <th></th>\n",
       "      <th></th>\n",
       "      <th></th>\n",
       "      <th></th>\n",
       "    </tr>\n",
       "  </thead>\n",
       "  <tbody>\n",
       "    <tr>\n",
       "      <th>2012</th>\n",
       "      <td>23.8</td>\n",
       "      <td>16.8</td>\n",
       "      <td>11.8</td>\n",
       "      <td>73.2</td>\n",
       "      <td>26.3</td>\n",
       "      <td>16.4</td>\n",
       "      <td>11.9</td>\n",
       "      <td>70.7</td>\n",
       "      <td>21.7</td>\n",
       "      <td>17.1</td>\n",
       "      <td>11.7</td>\n",
       "      <td>75.4</td>\n",
       "      <td>20.2</td>\n",
       "      <td>8.5</td>\n",
       "    </tr>\n",
       "    <tr>\n",
       "      <th>2013</th>\n",
       "      <td>24.6</td>\n",
       "      <td>17.1</td>\n",
       "      <td>12.1</td>\n",
       "      <td>72.7</td>\n",
       "      <td>26.9</td>\n",
       "      <td>16.2</td>\n",
       "      <td>12.0</td>\n",
       "      <td>70.3</td>\n",
       "      <td>22.6</td>\n",
       "      <td>17.9</td>\n",
       "      <td>12.1</td>\n",
       "      <td>74.8</td>\n",
       "      <td>NaN</td>\n",
       "      <td>NaN</td>\n",
       "    </tr>\n",
       "    <tr>\n",
       "      <th>2014</th>\n",
       "      <td>27.5</td>\n",
       "      <td>19.0</td>\n",
       "      <td>13.8</td>\n",
       "      <td>70.7</td>\n",
       "      <td>30.0</td>\n",
       "      <td>18.4</td>\n",
       "      <td>13.7</td>\n",
       "      <td>68.3</td>\n",
       "      <td>25.4</td>\n",
       "      <td>19.5</td>\n",
       "      <td>13.9</td>\n",
       "      <td>72.7</td>\n",
       "      <td>NaN</td>\n",
       "      <td>NaN</td>\n",
       "    </tr>\n",
       "    <tr>\n",
       "      <th>2015</th>\n",
       "      <td>29.6</td>\n",
       "      <td>16.6</td>\n",
       "      <td>16.4</td>\n",
       "      <td>69.5</td>\n",
       "      <td>31.8</td>\n",
       "      <td>NaN</td>\n",
       "      <td>NaN</td>\n",
       "      <td>67.8</td>\n",
       "      <td>27.7</td>\n",
       "      <td>NaN</td>\n",
       "      <td>NaN</td>\n",
       "      <td>70.8</td>\n",
       "      <td>NaN</td>\n",
       "      <td>NaN</td>\n",
       "    </tr>\n",
       "    <tr>\n",
       "      <th>2016</th>\n",
       "      <td>30.9</td>\n",
       "      <td>NaN</td>\n",
       "      <td>NaN</td>\n",
       "      <td>68.9</td>\n",
       "      <td>33.1</td>\n",
       "      <td>NaN</td>\n",
       "      <td>NaN</td>\n",
       "      <td>67.1</td>\n",
       "      <td>29.1</td>\n",
       "      <td>NaN</td>\n",
       "      <td>NaN</td>\n",
       "      <td>70.4</td>\n",
       "      <td>NaN</td>\n",
       "      <td>NaN</td>\n",
       "    </tr>\n",
       "  </tbody>\n",
       "</table>\n",
       "</div>"
      ],
      "text/plain": [
       "      noneall  fatherall  motherall  attendedall  nonemen  fathermen  \\\n",
       "year                                                                   \n",
       "2012     23.8       16.8       11.8         73.2     26.3       16.4   \n",
       "2013     24.6       17.1       12.1         72.7     26.9       16.2   \n",
       "2014     27.5       19.0       13.8         70.7     30.0       18.4   \n",
       "2015     29.6       16.6       16.4         69.5     31.8        NaN   \n",
       "2016     30.9        NaN        NaN         68.9     33.1        NaN   \n",
       "\n",
       "      mothermen  attendedmen  nonewomen  fatherwomen  motherwomen  \\\n",
       "year                                                                \n",
       "2012       11.9         70.7       21.7         17.1         11.7   \n",
       "2013       12.0         70.3       22.6         17.9         12.1   \n",
       "2014       13.7         68.3       25.4         19.5         13.9   \n",
       "2015        NaN         67.8       27.7          NaN          NaN   \n",
       "2016        NaN         67.1       29.1          NaN          NaN   \n",
       "\n",
       "      attendedwomen  bornagain  evangelical  \n",
       "year                                         \n",
       "2012           75.4       20.2          8.5  \n",
       "2013           74.8        NaN          NaN  \n",
       "2014           72.7        NaN          NaN  \n",
       "2015           70.8        NaN          NaN  \n",
       "2016           70.4        NaN          NaN  "
      ]
     },
     "execution_count": 33,
     "metadata": {},
     "output_type": "execute_result"
    }
   ],
   "source": [
    "heri = pd.read_csv('heri17.csv', skiprows=2, index_col='year')\n",
    "heri[heri.columns] /= 10\n",
    "heri.tail()"
   ]
  },
  {
   "cell_type": "code",
   "execution_count": 34,
   "metadata": {
    "collapsed": true
   },
   "outputs": [],
   "source": [
    "heri['time'] = heri.index - 1966\n",
    "heri['time2'] = heri.time**2"
   ]
  },
  {
   "cell_type": "code",
   "execution_count": 35,
   "metadata": {
    "collapsed": false
   },
   "outputs": [
    {
     "name": "stdout",
     "output_type": "stream",
     "text": [
      "20.0\n",
      "30.0\n",
      "40.0\n",
      "50.0\n",
      "60.0\n"
     ]
    },
    {
     "name": "stderr",
     "output_type": "stream",
     "text": [
      "thinkplot.py:118: UserWarning: Ran out of colors.  Starting over.\n",
      "  warnings.warn('Ran out of colors.  Starting over.')\n"
     ]
    },
    {
     "data": {
      "image/png": "[encoded data removed]",
      "text/plain": [
       "<matplotlib.figure.Figure at 0x7fbd054e5250>"
      ]
     },
     "metadata": {},
     "output_type": "display_data"
    }
   ],
   "source": [
    "thinkplot.plot(heri.noneall)\n",
    "\n",
    "for age_group, row in rows.iterrows():\n",
    "    print(age_group)\n",
    "    #results = FitRow(row)\n",
    "    #thinkplot.plot(results.fittedvalues, color='gray')\n",
    "    thinkplot.plot(row)"
   ]
  },
  {
   "cell_type": "code",
   "execution_count": 36,
   "metadata": {
    "collapsed": true
   },
   "outputs": [],
   "source": [
    "sample['none'] = (sample.relig==4)\n",
    "sample['cath'] = (sample.relig==2)\n",
    "sample['prot'] = (sample.relig==1)"
   ]
  },
  {
   "cell_type": "code",
   "execution_count": 37,
   "metadata": {
    "collapsed": true
   },
   "outputs": [],
   "source": [
    "grouped = sample.groupby(['year'])"
   ]
  },
  {
   "cell_type": "code",
   "execution_count": 38,
   "metadata": {
    "collapsed": false
   },
   "outputs": [],
   "source": [
    "percent_none = grouped.none.mean() * 100\n",
    "percent_prot = grouped.prot.mean() * 100\n",
    "percent_cath = grouped.cath.mean() * 100"
   ]
  },
  {
   "cell_type": "code",
   "execution_count": 43,
   "metadata": {
    "collapsed": false
   },
   "outputs": [
    {
     "data": {
      "image/png": "[encoded data removed]",
      "text/plain": [
       "<matplotlib.figure.Figure at 0x7fbd0553f550>"
      ]
     },
     "metadata": {},
     "output_type": "display_data"
    }
   ],
   "source": [
    "RED, BLUE, GREEN, PURPLE, ORANGE, YELLOW = sns.color_palette('Set1')\n",
    "sns.palplot(colors)"
   ]
  },
  {
   "cell_type": "code",
   "execution_count": 44,
   "metadata": {
    "collapsed": false
   },
   "outputs": [
    {
     "data": {
      "image/png": "[encoded data removed]",
      "text/plain": [
       "<matplotlib.figure.Figure at 0x7fbd05486d50>"
      ]
     },
     "metadata": {},
     "output_type": "display_data"
    }
   ],
   "source": [
    "thinkplot.plot(percent_prot, color=ORANGE, label='Protestant')\n",
    "thinkplot.plot(percent_cath, color=GREEN, label='Catholic')\n",
    "thinkplot.plot(percent_none, color=RED, label='None')"
   ]
  },
  {
   "cell_type": "code",
   "execution_count": 45,
   "metadata": {
    "collapsed": true
   },
   "outputs": [],
   "source": [
    "def percent_relig(df):\n",
    "    return df[['prot', 'cath', 'none']].mean()"
   ]
  },
  {
   "cell_type": "code",
   "execution_count": 46,
   "metadata": {
    "collapsed": false
   },
   "outputs": [
    {
     "data": {
      "text/plain": [
       "prot    0.456851\n",
       "cath    0.234237\n",
       "none    0.227897\n",
       "dtype: float64"
      ]
     },
     "execution_count": 46,
     "metadata": {},
     "output_type": "execute_result"
    }
   ],
   "source": [
    "percent_relig(sample[sample.year==2016])"
   ]
  },
  {
   "cell_type": "code",
   "execution_count": 47,
   "metadata": {
    "collapsed": false
   },
   "outputs": [
    {
     "data": {
      "text/plain": [
       "(9351, 5)"
      ]
     },
     "execution_count": 47,
     "metadata": {},
     "output_type": "execute_result"
    }
   ],
   "source": [
    "columns = ['age', 'year', 'prot', 'cath', 'none']\n",
    "recent = sample.loc[sample.year>=2010, columns].copy()\n",
    "recent.shape"
   ]
  },
  {
   "cell_type": "code",
   "execution_count": 48,
   "metadata": {
    "collapsed": false
   },
   "outputs": [
    {
     "data": {
      "text/plain": [
       "prot    0.446155\n",
       "cath    0.245107\n",
       "none    0.210138\n",
       "dtype: float64"
      ]
     },
     "execution_count": 48,
     "metadata": {},
     "output_type": "execute_result"
    }
   ],
   "source": [
    "percent_relig(recent)"
   ]
  },
  {
   "cell_type": "code",
   "execution_count": 49,
   "metadata": {
    "collapsed": false
   },
   "outputs": [
    {
     "data": {
      "text/plain": [
       "2013.318789434285"
      ]
     },
     "execution_count": 49,
     "metadata": {},
     "output_type": "execute_result"
    }
   ],
   "source": [
    "recent.year.mean()"
   ]
  },
  {
   "cell_type": "code",
   "execution_count": 50,
   "metadata": {
    "collapsed": false
   },
   "outputs": [
    {
     "data": {
      "text/plain": [
       "{'xscale': 'linear', 'yscale': 'linear'}"
      ]
     },
     "execution_count": 50,
     "metadata": {},
     "output_type": "execute_result"
    },
    {
     "data": {
      "image/png": "[encoded data removed]",
      "text/plain": [
       "<matplotlib.figure.Figure at 0x7fbd067bbcd0>"
      ]
     },
     "metadata": {},
     "output_type": "display_data"
    }
   ],
   "source": [
    "thinkplot.Cdf(thinkstats2.Cdf(recent.age))"
   ]
  },
  {
   "cell_type": "code",
   "execution_count": 51,
   "metadata": {
    "collapsed": true
   },
   "outputs": [],
   "source": [
    "def advance(df):\n",
    "    new = df.copy()\n",
    "    new.year += 1\n",
    "    new.age += 1\n",
    "    \n",
    "    \n",
    "    return new"
   ]
  },
  {
   "cell_type": "code",
   "execution_count": 52,
   "metadata": {
    "collapsed": false
   },
   "outputs": [],
   "source": [
    "df = recent\n",
    "pr = percent_relig(recent)\n",
    "series = pd.DataFrame(columns=pr.index)\n",
    "\n",
    "for _ in range(10):\n",
    "    df = advance(df)\n",
    "    year = df.year.mean()\n",
    "    series.loc[year] = percent_relig(df)"
   ]
  },
  {
   "cell_type": "code",
   "execution_count": 53,
   "metadata": {
    "collapsed": false
   },
   "outputs": [
    {
     "data": {
      "text/html": [
       "<div>\n",
       "<table border=\"1\" class=\"dataframe\">\n",
       "  <thead>\n",
       "    <tr style=\"text-align: right;\">\n",
       "      <th></th>\n",
       "      <th>prot</th>\n",
       "      <th>cath</th>\n",
       "      <th>none</th>\n",
       "    </tr>\n",
       "  </thead>\n",
       "  <tbody>\n",
       "    <tr>\n",
       "      <th>2014.318789</th>\n",
       "      <td>0.446155</td>\n",
       "      <td>0.245107</td>\n",
       "      <td>0.210138</td>\n",
       "    </tr>\n",
       "    <tr>\n",
       "      <th>2015.318789</th>\n",
       "      <td>0.446155</td>\n",
       "      <td>0.245107</td>\n",
       "      <td>0.210138</td>\n",
       "    </tr>\n",
       "    <tr>\n",
       "      <th>2016.318789</th>\n",
       "      <td>0.446155</td>\n",
       "      <td>0.245107</td>\n",
       "      <td>0.210138</td>\n",
       "    </tr>\n",
       "    <tr>\n",
       "      <th>2017.318789</th>\n",
       "      <td>0.446155</td>\n",
       "      <td>0.245107</td>\n",
       "      <td>0.210138</td>\n",
       "    </tr>\n",
       "    <tr>\n",
       "      <th>2018.318789</th>\n",
       "      <td>0.446155</td>\n",
       "      <td>0.245107</td>\n",
       "      <td>0.210138</td>\n",
       "    </tr>\n",
       "    <tr>\n",
       "      <th>2019.318789</th>\n",
       "      <td>0.446155</td>\n",
       "      <td>0.245107</td>\n",
       "      <td>0.210138</td>\n",
       "    </tr>\n",
       "    <tr>\n",
       "      <th>2020.318789</th>\n",
       "      <td>0.446155</td>\n",
       "      <td>0.245107</td>\n",
       "      <td>0.210138</td>\n",
       "    </tr>\n",
       "    <tr>\n",
       "      <th>2021.318789</th>\n",
       "      <td>0.446155</td>\n",
       "      <td>0.245107</td>\n",
       "      <td>0.210138</td>\n",
       "    </tr>\n",
       "    <tr>\n",
       "      <th>2022.318789</th>\n",
       "      <td>0.446155</td>\n",
       "      <td>0.245107</td>\n",
       "      <td>0.210138</td>\n",
       "    </tr>\n",
       "    <tr>\n",
       "      <th>2023.318789</th>\n",
       "      <td>0.446155</td>\n",
       "      <td>0.245107</td>\n",
       "      <td>0.210138</td>\n",
       "    </tr>\n",
       "  </tbody>\n",
       "</table>\n",
       "</div>"
      ],
      "text/plain": [
       "                 prot      cath      none\n",
       "2014.318789  0.446155  0.245107  0.210138\n",
       "2015.318789  0.446155  0.245107  0.210138\n",
       "2016.318789  0.446155  0.245107  0.210138\n",
       "2017.318789  0.446155  0.245107  0.210138\n",
       "2018.318789  0.446155  0.245107  0.210138\n",
       "2019.318789  0.446155  0.245107  0.210138\n",
       "2020.318789  0.446155  0.245107  0.210138\n",
       "2021.318789  0.446155  0.245107  0.210138\n",
       "2022.318789  0.446155  0.245107  0.210138\n",
       "2023.318789  0.446155  0.245107  0.210138"
      ]
     },
     "execution_count": 53,
     "metadata": {},
     "output_type": "execute_result"
    }
   ],
   "source": [
    "series"
   ]
  },
  {
   "cell_type": "code",
   "execution_count": 54,
   "metadata": {
    "collapsed": false
   },
   "outputs": [],
   "source": [
    "# https://www.cdc.gov/nchs/data/dvs/mortfinal2007_worktable23r.pdf\n",
    "\n",
    "ts = np.array([24, 34, 44, 54, 64, 74, 84])\n",
    "rs = np.array([79.9, 104.9, 184.4, 420.9, 877.7, 2011.3, 5011.6, 12946.5]) / 100000"
   ]
  },
  {
   "cell_type": "code",
   "execution_count": 55,
   "metadata": {
    "collapsed": false
   },
   "outputs": [
    {
     "data": {
      "text/plain": [
       "0.009717219869532669"
      ]
     },
     "execution_count": 55,
     "metadata": {},
     "output_type": "execute_result"
    }
   ],
   "source": [
    "indices = np.searchsorted(ts, recent.age)\n",
    "rates = rs[indices]\n",
    "rates.mean()"
   ]
  },
  {
   "cell_type": "code",
   "execution_count": 56,
   "metadata": {
    "collapsed": false
   },
   "outputs": [
    {
     "data": {
      "text/plain": [
       "array([False, False, False, ..., False, False, False], dtype=bool)"
      ]
     },
     "execution_count": 56,
     "metadata": {},
     "output_type": "execute_result"
    }
   ],
   "source": [
    "dead = np.random.random(len(rates)) < rates\n",
    "dead"
   ]
  },
  {
   "cell_type": "code",
   "execution_count": 57,
   "metadata": {
    "collapsed": false
   },
   "outputs": [
    {
     "data": {
      "text/plain": [
       "109"
      ]
     },
     "execution_count": 57,
     "metadata": {},
     "output_type": "execute_result"
    }
   ],
   "source": [
    "sum(dead)"
   ]
  },
  {
   "cell_type": "code",
   "execution_count": 58,
   "metadata": {
    "collapsed": true
   },
   "outputs": [],
   "source": [
    "def choose_dead(df):\n",
    "    # compute death rates in each age group\n",
    "    # data from 2007\n",
    "    # https://www.cdc.gov/nchs/data/dvs/mortfinal2007_worktable23r.pdf\n",
    "    ts = np.array([24, 34, 44, 54, 64, 74, 84])\n",
    "    rs = np.array([79.9, 104.9, 184.4, 420.9, 877.7, 2011.3, 5011.6, 12946.5]) / 100000\n",
    "    \n",
    "    # look up the death rate for each respondent\n",
    "    indices = np.searchsorted(ts, df.age)\n",
    "    rates = rs[indices]\n",
    "    \n",
    "    # choose who dies\n",
    "    dead = np.random.random(len(rates)) < rates\n",
    "    return dead"
   ]
  },
  {
   "cell_type": "code",
   "execution_count": 59,
   "metadata": {
    "collapsed": false
   },
   "outputs": [
    {
     "data": {
      "text/plain": [
       "95"
      ]
     },
     "execution_count": 59,
     "metadata": {},
     "output_type": "execute_result"
    }
   ],
   "source": [
    "choose_dead(recent).sum()"
   ]
  },
  {
   "cell_type": "code",
   "execution_count": 64,
   "metadata": {
    "collapsed": false
   },
   "outputs": [],
   "source": [
    "dead_age = recent[dead].age"
   ]
  },
  {
   "cell_type": "code",
   "execution_count": 68,
   "metadata": {
    "collapsed": false
   },
   "outputs": [
    {
     "data": {
      "text/plain": [
       "46.962356967169285"
      ]
     },
     "execution_count": 68,
     "metadata": {},
     "output_type": "execute_result"
    }
   ],
   "source": [
    "mean_age = recent.age.mean()\n",
    "mean_age"
   ]
  },
  {
   "cell_type": "code",
   "execution_count": 70,
   "metadata": {
    "collapsed": false
   },
   "outputs": [
    {
     "data": {
      "text/plain": [
       "53098    30.924714\n",
       "53148    43.924714\n",
       "53221    43.924714\n",
       "53263    26.924714\n",
       "53338     4.924714\n",
       "53407    19.924714\n",
       "53557    35.924714\n",
       "53591     5.924714\n",
       "53633    25.924714\n",
       "53789    17.924714\n",
       "53881    21.924714\n",
       "53904     4.924714\n",
       "53936    23.924714\n",
       "54022    25.924714\n",
       "54049    30.924714\n",
       "54116     4.924714\n",
       "54404    26.924714\n",
       "54411     4.924714\n",
       "54455    49.924714\n",
       "54667    37.924714\n",
       "54769     8.924714\n",
       "54970     8.924714\n",
       "55002     8.924714\n",
       "55008     4.924714\n",
       "55035    29.924714\n",
       "55046    30.924714\n",
       "55096    12.924714\n",
       "55196    25.924714\n",
       "55329    32.924714\n",
       "55511    31.924714\n",
       "           ...    \n",
       "60034    13.924714\n",
       "60113    47.924714\n",
       "60126    10.924714\n",
       "60166     4.924714\n",
       "60257     4.924714\n",
       "60316    26.924714\n",
       "60349    25.924714\n",
       "60451    25.924714\n",
       "60634    28.924714\n",
       "60711    16.924714\n",
       "60770    15.924714\n",
       "60782    28.924714\n",
       "61035    27.924714\n",
       "61081     7.924714\n",
       "61311    16.924714\n",
       "61431    62.924714\n",
       "61473    15.924714\n",
       "61519    13.924714\n",
       "61556    12.924714\n",
       "61634    25.924714\n",
       "61668    10.924714\n",
       "61927    37.924714\n",
       "61955    36.924714\n",
       "61993    25.924714\n",
       "62003    32.924714\n",
       "62152    13.924714\n",
       "62153    18.924714\n",
       "62169    21.924714\n",
       "62204    12.924714\n",
       "62353    31.924714\n",
       "Name: age, dtype: float64"
      ]
     },
     "execution_count": 70,
     "metadata": {},
     "output_type": "execute_result"
    }
   ],
   "source": [
    "new_age = 2*mean_age - dead_age\n",
    "new_age"
   ]
  },
  {
   "cell_type": "code",
   "execution_count": 71,
   "metadata": {
    "collapsed": true
   },
   "outputs": [],
   "source": [
    "updated = recent.copy()\n",
    "updated.loc[dead, 'age'] = new_age"
   ]
  },
  {
   "cell_type": "code",
   "execution_count": 72,
   "metadata": {
    "collapsed": false
   },
   "outputs": [
    {
     "data": {
      "text/plain": [
       "46.393839569975825"
      ]
     },
     "execution_count": 72,
     "metadata": {},
     "output_type": "execute_result"
    }
   ],
   "source": [
    "updated.age.mean()"
   ]
  },
  {
   "cell_type": "code",
   "execution_count": null,
   "metadata": {
    "collapsed": true
   },
   "outputs": [],
   "source": []
  }
 ],
 "metadata": {
  "kernelspec": {
   "display_name": "Python 2",
   "language": "python",
   "name": "python2"
  },
  "language_info": {
   "codemirror_mode": {
    "name": "ipython",
    "version": 2
   },
   "file_extension": ".py",
   "mimetype": "text/x-python",
   "name": "python",
   "nbconvert_exporter": "python",
   "pygments_lexer": "ipython2",
   "version": "2.7.11"
  }
 },
 "nbformat": 4,
 "nbformat_minor": 0
}
