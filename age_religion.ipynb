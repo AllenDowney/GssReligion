{
 "cells": [
  {
   "cell_type": "markdown",
   "metadata": {},
   "source": [
    "# Generational changes in religious attitudes\n",
    "\n",
    "Allen Downey\n",
    "\n",
    "[MIT License](https://en.wikipedia.org/wiki/MIT_License)"
   ]
  },
  {
   "cell_type": "code",
   "execution_count": 1,
   "metadata": {
    "collapsed": false
   },
   "outputs": [],
   "source": [
    "from __future__ import print_function, division\n",
    "\n",
    "%matplotlib inline\n",
    "\n",
    "import pandas as pd\n",
    "import numpy as np\n",
    "\n",
    "import thinkstats2\n",
    "import thinkplot\n",
    "import utils\n",
    "\n",
    "import statsmodels.formula.api as smf\n",
    "import matplotlib.pyplot as plt\n",
    "\n",
    "import seaborn as sns\n",
    "sns.set(style='whitegrid', font_scale=1.5)\n",
    "\n",
    "from scipy.special import expit"
   ]
  },
  {
   "cell_type": "markdown",
   "metadata": {},
   "source": [
    "Reading data from the [General Social Survey](https://gssdataexplorer.norc.org/projects/29853)"
   ]
  },
  {
   "cell_type": "code",
   "execution_count": 2,
   "metadata": {
    "collapsed": false
   },
   "outputs": [],
   "source": [
    "# !wget https://gssdataexplorer.norc.org/extracts/21438/download"
   ]
  },
  {
   "cell_type": "code",
   "execution_count": 3,
   "metadata": {
    "collapsed": false
   },
   "outputs": [
    {
     "name": "stdout",
     "output_type": "stream",
     "text": [
      "(62466, 11)\n"
     ]
    },
    {
     "data": {
      "text/html": [
       "<div>\n",
       "<style>\n",
       "    .dataframe thead tr:only-child th {\n",
       "        text-align: right;\n",
       "    }\n",
       "\n",
       "    .dataframe thead th {\n",
       "        text-align: left;\n",
       "    }\n",
       "\n",
       "    .dataframe tbody tr th {\n",
       "        vertical-align: top;\n",
       "    }\n",
       "</style>\n",
       "<table border=\"1\" class=\"dataframe\">\n",
       "  <thead>\n",
       "    <tr style=\"text-align: right;\">\n",
       "      <th></th>\n",
       "      <th>year</th>\n",
       "      <th>conclerg</th>\n",
       "      <th>bible</th>\n",
       "      <th>cohort</th>\n",
       "      <th>age</th>\n",
       "      <th>wtssall</th>\n",
       "      <th>ballot</th>\n",
       "      <th>relig</th>\n",
       "      <th>educ</th>\n",
       "      <th>id_</th>\n",
       "      <th>god</th>\n",
       "    </tr>\n",
       "  </thead>\n",
       "  <tbody>\n",
       "    <tr>\n",
       "      <th>0</th>\n",
       "      <td>1972</td>\n",
       "      <td>0</td>\n",
       "      <td>0</td>\n",
       "      <td>1949</td>\n",
       "      <td>23</td>\n",
       "      <td>0.4446</td>\n",
       "      <td>0</td>\n",
       "      <td>3</td>\n",
       "      <td>16</td>\n",
       "      <td>1</td>\n",
       "      <td>0</td>\n",
       "    </tr>\n",
       "    <tr>\n",
       "      <th>1</th>\n",
       "      <td>1972</td>\n",
       "      <td>0</td>\n",
       "      <td>0</td>\n",
       "      <td>1902</td>\n",
       "      <td>70</td>\n",
       "      <td>0.8893</td>\n",
       "      <td>0</td>\n",
       "      <td>2</td>\n",
       "      <td>10</td>\n",
       "      <td>2</td>\n",
       "      <td>0</td>\n",
       "    </tr>\n",
       "    <tr>\n",
       "      <th>2</th>\n",
       "      <td>1972</td>\n",
       "      <td>0</td>\n",
       "      <td>0</td>\n",
       "      <td>1924</td>\n",
       "      <td>48</td>\n",
       "      <td>0.8893</td>\n",
       "      <td>0</td>\n",
       "      <td>1</td>\n",
       "      <td>12</td>\n",
       "      <td>3</td>\n",
       "      <td>0</td>\n",
       "    </tr>\n",
       "    <tr>\n",
       "      <th>3</th>\n",
       "      <td>1972</td>\n",
       "      <td>0</td>\n",
       "      <td>0</td>\n",
       "      <td>1945</td>\n",
       "      <td>27</td>\n",
       "      <td>0.8893</td>\n",
       "      <td>0</td>\n",
       "      <td>5</td>\n",
       "      <td>17</td>\n",
       "      <td>4</td>\n",
       "      <td>0</td>\n",
       "    </tr>\n",
       "    <tr>\n",
       "      <th>4</th>\n",
       "      <td>1972</td>\n",
       "      <td>0</td>\n",
       "      <td>0</td>\n",
       "      <td>1911</td>\n",
       "      <td>61</td>\n",
       "      <td>0.8893</td>\n",
       "      <td>0</td>\n",
       "      <td>1</td>\n",
       "      <td>12</td>\n",
       "      <td>5</td>\n",
       "      <td>0</td>\n",
       "    </tr>\n",
       "  </tbody>\n",
       "</table>\n",
       "</div>"
      ],
      "text/plain": [
       "   year  conclerg  bible  cohort  age  wtssall  ballot  relig  educ  id_  god\n",
       "0  1972         0      0    1949   23   0.4446       0      3    16    1    0\n",
       "1  1972         0      0    1902   70   0.8893       0      2    10    2    0\n",
       "2  1972         0      0    1924   48   0.8893       0      1    12    3    0\n",
       "3  1972         0      0    1945   27   0.8893       0      5    17    4    0\n",
       "4  1972         0      0    1911   61   0.8893       0      1    12    5    0"
      ]
     },
     "execution_count": 3,
     "metadata": {},
     "output_type": "execute_result"
    }
   ],
   "source": [
    "gss = utils.ReadGss('gss_religion_data')\n",
    "print(gss.shape)\n",
    "gss.head()"
   ]
  },
  {
   "cell_type": "markdown",
   "metadata": {},
   "source": [
    "Cleaning variables"
   ]
  },
  {
   "cell_type": "code",
   "execution_count": 4,
   "metadata": {
    "collapsed": true
   },
   "outputs": [],
   "source": [
    "# TODO: find out what code 4 is\n",
    "\n",
    "gss.bible.replace([4, 8, 9, 0], np.nan, inplace=True)"
   ]
  },
  {
   "cell_type": "code",
   "execution_count": 5,
   "metadata": {
    "collapsed": false
   },
   "outputs": [
    {
     "data": {
      "text/plain": [
       "1.0    11185\n",
       "2.0    15926\n",
       "3.0     5929\n",
       "Name: bible, dtype: int64"
      ]
     },
     "execution_count": 5,
     "metadata": {},
     "output_type": "execute_result"
    }
   ],
   "source": [
    "utils.values(gss, 'bible')"
   ]
  },
  {
   "cell_type": "code",
   "execution_count": 6,
   "metadata": {
    "collapsed": true
   },
   "outputs": [],
   "source": [
    "gss.conclerg.replace([8, 9, 0], np.nan, inplace=True)"
   ]
  },
  {
   "cell_type": "code",
   "execution_count": 7,
   "metadata": {
    "collapsed": false
   },
   "outputs": [
    {
     "data": {
      "text/plain": [
       "1.0    11366\n",
       "2.0    20886\n",
       "3.0     8660\n",
       "Name: conclerg, dtype: int64"
      ]
     },
     "execution_count": 7,
     "metadata": {},
     "output_type": "execute_result"
    }
   ],
   "source": [
    "utils.values(gss, 'conclerg')"
   ]
  },
  {
   "cell_type": "code",
   "execution_count": 8,
   "metadata": {
    "collapsed": false
   },
   "outputs": [
    {
     "data": {
      "text/plain": [
       "40129"
      ]
     },
     "execution_count": 8,
     "metadata": {},
     "output_type": "execute_result"
    }
   ],
   "source": [
    "gss.god.replace([8, 9, 0], np.nan, inplace=True)\n",
    "sum(gss.god.isnull())"
   ]
  },
  {
   "cell_type": "code",
   "execution_count": 9,
   "metadata": {
    "collapsed": false,
    "scrolled": true
   },
   "outputs": [
    {
     "data": {
      "text/plain": [
       "1.0      673\n",
       "2.0     1110\n",
       "3.0     2286\n",
       "4.0      900\n",
       "5.0     3662\n",
       "6.0    13706\n",
       "Name: god, dtype: int64"
      ]
     },
     "execution_count": 9,
     "metadata": {},
     "output_type": "execute_result"
    }
   ],
   "source": [
    "utils.values(gss, 'god')"
   ]
  },
  {
   "cell_type": "code",
   "execution_count": 10,
   "metadata": {
    "collapsed": false
   },
   "outputs": [
    {
     "data": {
      "text/plain": [
       "221"
      ]
     },
     "execution_count": 10,
     "metadata": {},
     "output_type": "execute_result"
    }
   ],
   "source": [
    "gss.age.replace([98, 99], np.nan, inplace=True)\n",
    "sum(gss.age.isnull())"
   ]
  },
  {
   "cell_type": "code",
   "execution_count": 11,
   "metadata": {
    "collapsed": false
   },
   "outputs": [
    {
     "data": {
      "text/plain": [
       "221"
      ]
     },
     "execution_count": 11,
     "metadata": {},
     "output_type": "execute_result"
    }
   ],
   "source": [
    "gss.cohort.replace([9999], np.nan, inplace=True)\n",
    "sum(gss.cohort.isnull())"
   ]
  },
  {
   "cell_type": "code",
   "execution_count": 12,
   "metadata": {
    "collapsed": false
   },
   "outputs": [
    {
     "data": {
      "text/plain": [
       "269"
      ]
     },
     "execution_count": 12,
     "metadata": {},
     "output_type": "execute_result"
    }
   ],
   "source": [
    "gss.relig.replace([98, 99], np.nan, inplace=True)\n",
    "sum(gss.relig.isnull())"
   ]
  },
  {
   "cell_type": "code",
   "execution_count": 13,
   "metadata": {
    "collapsed": false
   },
   "outputs": [
    {
     "data": {
      "text/plain": [
       "(61995, 11)"
      ]
     },
     "execution_count": 13,
     "metadata": {},
     "output_type": "execute_result"
    }
   ],
   "source": [
    "gss.dropna(subset=['age', 'cohort', 'relig'], inplace=True)\n",
    "gss.shape"
   ]
  },
  {
   "cell_type": "markdown",
   "metadata": {},
   "source": [
    "We drop 471 records due to missing data."
   ]
  },
  {
   "cell_type": "code",
   "execution_count": 14,
   "metadata": {
    "collapsed": false
   },
   "outputs": [
    {
     "data": {
      "text/plain": [
       "471"
      ]
     },
     "execution_count": 14,
     "metadata": {},
     "output_type": "execute_result"
    }
   ],
   "source": [
    "62466 - 61995"
   ]
  },
  {
   "cell_type": "markdown",
   "metadata": {},
   "source": [
    "Here's the distribution of ages."
   ]
  },
  {
   "cell_type": "code",
   "execution_count": 15,
   "metadata": {
    "collapsed": false
   },
   "outputs": [
    {
     "data": {
      "image/png": "[encoded data removed]",
      "text/plain": [
       "<matplotlib.figure.Figure at 0x7fd3085394d0>"
      ]
     },
     "metadata": {},
     "output_type": "display_data"
    }
   ],
   "source": [
    "thinkplot.Cdf(thinkstats2.Cdf(gss.age))\n",
    "thinkplot.Config(xlabel='Age', ylabel='CDF')"
   ]
  },
  {
   "cell_type": "markdown",
   "metadata": {},
   "source": [
    "Group people into 5-year age groups."
   ]
  },
  {
   "cell_type": "code",
   "execution_count": 16,
   "metadata": {
    "collapsed": false
   },
   "outputs": [],
   "source": [
    "gss['age_group'] = utils.RoundIntoBins(gss, 'age', 5) + 2.5"
   ]
  },
  {
   "cell_type": "markdown",
   "metadata": {},
   "source": [
    "Here's the distribution of birth year."
   ]
  },
  {
   "cell_type": "code",
   "execution_count": 17,
   "metadata": {
    "collapsed": false
   },
   "outputs": [
    {
     "data": {
      "image/png": "[encoded data removed]",
      "text/plain": [
       "<matplotlib.figure.Figure at 0x7fd2d7031350>"
      ]
     },
     "metadata": {},
     "output_type": "display_data"
    }
   ],
   "source": [
    "thinkplot.Cdf(thinkstats2.Cdf(gss.cohort))\n",
    "thinkplot.Config(xlabel='Year of birth', ylabel='CDF')"
   ]
  },
  {
   "cell_type": "markdown",
   "metadata": {},
   "source": [
    "Group people into 5- and 10-year bins by birth year."
   ]
  },
  {
   "cell_type": "code",
   "execution_count": 18,
   "metadata": {
    "collapsed": false
   },
   "outputs": [],
   "source": [
    "gss['cohort5'] = utils.RoundIntoBins(gss, 'cohort', 5) + 2.5"
   ]
  },
  {
   "cell_type": "code",
   "execution_count": 19,
   "metadata": {
    "collapsed": false
   },
   "outputs": [],
   "source": [
    "gss['cohort10'] = utils.RoundIntoBins(gss, 'cohort', 10)"
   ]
  },
  {
   "cell_type": "markdown",
   "metadata": {},
   "source": [
    "Here's the distribution of religion codes."
   ]
  },
  {
   "cell_type": "code",
   "execution_count": 20,
   "metadata": {
    "collapsed": false
   },
   "outputs": [
    {
     "data": {
      "text/plain": [
       "1.0     35856\n",
       "2.0     15136\n",
       "3.0      1233\n",
       "4.0      7231\n",
       "5.0      1064\n",
       "6.0       177\n",
       "7.0        88\n",
       "8.0        38\n",
       "9.0       135\n",
       "10.0      112\n",
       "11.0      760\n",
       "12.0       30\n",
       "13.0      135\n",
       "Name: relig, dtype: int64"
      ]
     },
     "execution_count": 20,
     "metadata": {},
     "output_type": "execute_result"
    }
   ],
   "source": [
    "utils.values(gss, 'relig')"
   ]
  },
  {
   "cell_type": "code",
   "execution_count": null,
   "metadata": {
    "collapsed": true
   },
   "outputs": [],
   "source": []
  },
  {
   "cell_type": "raw",
   "metadata": {},
   "source": []
  },
  {
   "cell_type": "markdown",
   "metadata": {},
   "source": [
    "Resampling (bootstrapping to be more specific) to account for sampling weights."
   ]
  },
  {
   "cell_type": "code",
   "execution_count": 21,
   "metadata": {
    "collapsed": false,
    "scrolled": true
   },
   "outputs": [
    {
     "data": {
      "text/html": [
       "<div>\n",
       "<style>\n",
       "    .dataframe thead tr:only-child th {\n",
       "        text-align: right;\n",
       "    }\n",
       "\n",
       "    .dataframe thead th {\n",
       "        text-align: left;\n",
       "    }\n",
       "\n",
       "    .dataframe tbody tr th {\n",
       "        vertical-align: top;\n",
       "    }\n",
       "</style>\n",
       "<table border=\"1\" class=\"dataframe\">\n",
       "  <thead>\n",
       "    <tr style=\"text-align: right;\">\n",
       "      <th></th>\n",
       "      <th>year</th>\n",
       "      <th>conclerg</th>\n",
       "      <th>bible</th>\n",
       "      <th>cohort</th>\n",
       "      <th>age</th>\n",
       "      <th>wtssall</th>\n",
       "      <th>ballot</th>\n",
       "      <th>relig</th>\n",
       "      <th>educ</th>\n",
       "      <th>id_</th>\n",
       "      <th>god</th>\n",
       "      <th>age_group</th>\n",
       "      <th>cohort5</th>\n",
       "      <th>cohort10</th>\n",
       "    </tr>\n",
       "  </thead>\n",
       "  <tbody>\n",
       "    <tr>\n",
       "      <th>0</th>\n",
       "      <td>1972</td>\n",
       "      <td>NaN</td>\n",
       "      <td>NaN</td>\n",
       "      <td>1927.0</td>\n",
       "      <td>45.0</td>\n",
       "      <td>0.8893</td>\n",
       "      <td>0</td>\n",
       "      <td>2.0</td>\n",
       "      <td>12</td>\n",
       "      <td>1497</td>\n",
       "      <td>NaN</td>\n",
       "      <td>47.5</td>\n",
       "      <td>1927.5</td>\n",
       "      <td>1920.0</td>\n",
       "    </tr>\n",
       "    <tr>\n",
       "      <th>1</th>\n",
       "      <td>1972</td>\n",
       "      <td>NaN</td>\n",
       "      <td>NaN</td>\n",
       "      <td>1954.0</td>\n",
       "      <td>18.0</td>\n",
       "      <td>0.8893</td>\n",
       "      <td>0</td>\n",
       "      <td>2.0</td>\n",
       "      <td>12</td>\n",
       "      <td>420</td>\n",
       "      <td>NaN</td>\n",
       "      <td>17.5</td>\n",
       "      <td>1952.5</td>\n",
       "      <td>1950.0</td>\n",
       "    </tr>\n",
       "    <tr>\n",
       "      <th>2</th>\n",
       "      <td>1972</td>\n",
       "      <td>NaN</td>\n",
       "      <td>NaN</td>\n",
       "      <td>1899.0</td>\n",
       "      <td>73.0</td>\n",
       "      <td>0.8893</td>\n",
       "      <td>0</td>\n",
       "      <td>2.0</td>\n",
       "      <td>12</td>\n",
       "      <td>804</td>\n",
       "      <td>NaN</td>\n",
       "      <td>72.5</td>\n",
       "      <td>1897.5</td>\n",
       "      <td>1890.0</td>\n",
       "    </tr>\n",
       "    <tr>\n",
       "      <th>3</th>\n",
       "      <td>1972</td>\n",
       "      <td>NaN</td>\n",
       "      <td>NaN</td>\n",
       "      <td>1917.0</td>\n",
       "      <td>55.0</td>\n",
       "      <td>1.3339</td>\n",
       "      <td>0</td>\n",
       "      <td>1.0</td>\n",
       "      <td>5</td>\n",
       "      <td>1605</td>\n",
       "      <td>NaN</td>\n",
       "      <td>57.5</td>\n",
       "      <td>1917.5</td>\n",
       "      <td>1910.0</td>\n",
       "    </tr>\n",
       "    <tr>\n",
       "      <th>4</th>\n",
       "      <td>1972</td>\n",
       "      <td>NaN</td>\n",
       "      <td>NaN</td>\n",
       "      <td>1908.0</td>\n",
       "      <td>64.0</td>\n",
       "      <td>0.8893</td>\n",
       "      <td>0</td>\n",
       "      <td>2.0</td>\n",
       "      <td>11</td>\n",
       "      <td>230</td>\n",
       "      <td>NaN</td>\n",
       "      <td>62.5</td>\n",
       "      <td>1907.5</td>\n",
       "      <td>1900.0</td>\n",
       "    </tr>\n",
       "  </tbody>\n",
       "</table>\n",
       "</div>"
      ],
      "text/plain": [
       "   year  conclerg  bible  cohort   age  wtssall  ballot  relig  educ   id_  \\\n",
       "0  1972       NaN    NaN  1927.0  45.0   0.8893       0    2.0    12  1497   \n",
       "1  1972       NaN    NaN  1954.0  18.0   0.8893       0    2.0    12   420   \n",
       "2  1972       NaN    NaN  1899.0  73.0   0.8893       0    2.0    12   804   \n",
       "3  1972       NaN    NaN  1917.0  55.0   1.3339       0    1.0     5  1605   \n",
       "4  1972       NaN    NaN  1908.0  64.0   0.8893       0    2.0    11   230   \n",
       "\n",
       "   god  age_group  cohort5  cohort10  \n",
       "0  NaN       47.5   1927.5    1920.0  \n",
       "1  NaN       17.5   1952.5    1950.0  \n",
       "2  NaN       72.5   1897.5    1890.0  \n",
       "3  NaN       57.5   1917.5    1910.0  \n",
       "4  NaN       62.5   1907.5    1900.0  "
      ]
     },
     "execution_count": 21,
     "metadata": {},
     "output_type": "execute_result"
    }
   ],
   "source": [
    "sample = utils.ResampleByYear(gss)\n",
    "sample.head()"
   ]
  },
  {
   "cell_type": "markdown",
   "metadata": {},
   "source": [
    "## How does religious affiliation change with age?"
   ]
  },
  {
   "cell_type": "code",
   "execution_count": 22,
   "metadata": {
    "collapsed": false
   },
   "outputs": [],
   "source": [
    "varnames = ['prot', 'cath', 'none', 'other']\n",
    "\n",
    "def create_relig_vars(df):\n",
    "    \"\"\"Creates columns for religious categories.\n",
    "    \n",
    "    df: DataFrame\n",
    "    \"\"\"\n",
    "    # the second line lumps \"Orthodox-Christian\" and \"Christian\" with Protestant\n",
    "    #df['prot'] = (df.relig==1)\n",
    "    df['prot'] = (df.relig.isin([1,10,11]))\n",
    "\n",
    "    df['cath'] = (df.relig==2)\n",
    "    df['none'] = (df.relig==4)\n",
    "    df['other'] = (df.relig.isin([3,5,6,7,8,9,12,13]))\n",
    "    \n",
    "    df['relig4'] = df.relig.copy()\n",
    "    df.relig4.replace([10, 11], 1, inplace=True)\n",
    "    df.relig4.replace([5,6,7,8,9,12,13], 3, inplace=True)\n",
    "\n",
    "    df.loc[df.relig.isnull(), varnames + ['relig4']] = np.nan\n",
    "    \n",
    "create_relig_vars(sample)"
   ]
  },
  {
   "cell_type": "code",
   "execution_count": null,
   "metadata": {
    "collapsed": false
   },
   "outputs": [],
   "source": []
  },
  {
   "cell_type": "markdown",
   "metadata": {},
   "source": [
    "Group by decade of birth and age group."
   ]
  },
  {
   "cell_type": "code",
   "execution_count": 23,
   "metadata": {
    "collapsed": true
   },
   "outputs": [],
   "source": [
    "grouped = sample.groupby(['cohort10', 'age_group'])"
   ]
  },
  {
   "cell_type": "markdown",
   "metadata": {},
   "source": [
    "Count the number of observations in each decade/age group."
   ]
  },
  {
   "cell_type": "code",
   "execution_count": 24,
   "metadata": {
    "collapsed": false
   },
   "outputs": [
    {
     "data": {
      "text/html": [
       "<div>\n",
       "<style>\n",
       "    .dataframe thead tr:only-child th {\n",
       "        text-align: right;\n",
       "    }\n",
       "\n",
       "    .dataframe thead th {\n",
       "        text-align: left;\n",
       "    }\n",
       "\n",
       "    .dataframe tbody tr th {\n",
       "        vertical-align: top;\n",
       "    }\n",
       "</style>\n",
       "<table border=\"1\" class=\"dataframe\">\n",
       "  <thead>\n",
       "    <tr style=\"text-align: right;\">\n",
       "      <th>age_group</th>\n",
       "      <th>17.5</th>\n",
       "      <th>22.5</th>\n",
       "      <th>27.5</th>\n",
       "      <th>32.5</th>\n",
       "      <th>37.5</th>\n",
       "      <th>42.5</th>\n",
       "      <th>47.5</th>\n",
       "      <th>52.5</th>\n",
       "      <th>57.5</th>\n",
       "      <th>62.5</th>\n",
       "      <th>67.5</th>\n",
       "      <th>72.5</th>\n",
       "      <th>77.5</th>\n",
       "      <th>82.5</th>\n",
       "      <th>87.5</th>\n",
       "    </tr>\n",
       "    <tr>\n",
       "      <th>cohort10</th>\n",
       "      <th></th>\n",
       "      <th></th>\n",
       "      <th></th>\n",
       "      <th></th>\n",
       "      <th></th>\n",
       "      <th></th>\n",
       "      <th></th>\n",
       "      <th></th>\n",
       "      <th></th>\n",
       "      <th></th>\n",
       "      <th></th>\n",
       "      <th></th>\n",
       "      <th></th>\n",
       "      <th></th>\n",
       "      <th></th>\n",
       "    </tr>\n",
       "  </thead>\n",
       "  <tbody>\n",
       "    <tr>\n",
       "      <th>1880.0</th>\n",
       "      <td>NaN</td>\n",
       "      <td>NaN</td>\n",
       "      <td>NaN</td>\n",
       "      <td>NaN</td>\n",
       "      <td>NaN</td>\n",
       "      <td>NaN</td>\n",
       "      <td>NaN</td>\n",
       "      <td>NaN</td>\n",
       "      <td>NaN</td>\n",
       "      <td>NaN</td>\n",
       "      <td>NaN</td>\n",
       "      <td>NaN</td>\n",
       "      <td>NaN</td>\n",
       "      <td>5.0</td>\n",
       "      <td>33.0</td>\n",
       "    </tr>\n",
       "    <tr>\n",
       "      <th>1890.0</th>\n",
       "      <td>NaN</td>\n",
       "      <td>NaN</td>\n",
       "      <td>NaN</td>\n",
       "      <td>NaN</td>\n",
       "      <td>NaN</td>\n",
       "      <td>NaN</td>\n",
       "      <td>NaN</td>\n",
       "      <td>NaN</td>\n",
       "      <td>NaN</td>\n",
       "      <td>NaN</td>\n",
       "      <td>NaN</td>\n",
       "      <td>37.0</td>\n",
       "      <td>183.0</td>\n",
       "      <td>122.0</td>\n",
       "      <td>112.0</td>\n",
       "    </tr>\n",
       "    <tr>\n",
       "      <th>1900.0</th>\n",
       "      <td>NaN</td>\n",
       "      <td>NaN</td>\n",
       "      <td>NaN</td>\n",
       "      <td>NaN</td>\n",
       "      <td>NaN</td>\n",
       "      <td>NaN</td>\n",
       "      <td>NaN</td>\n",
       "      <td>NaN</td>\n",
       "      <td>NaN</td>\n",
       "      <td>75.0</td>\n",
       "      <td>418.0</td>\n",
       "      <td>481.0</td>\n",
       "      <td>304.0</td>\n",
       "      <td>257.0</td>\n",
       "      <td>161.0</td>\n",
       "    </tr>\n",
       "    <tr>\n",
       "      <th>1910.0</th>\n",
       "      <td>NaN</td>\n",
       "      <td>NaN</td>\n",
       "      <td>NaN</td>\n",
       "      <td>NaN</td>\n",
       "      <td>NaN</td>\n",
       "      <td>NaN</td>\n",
       "      <td>NaN</td>\n",
       "      <td>99.0</td>\n",
       "      <td>638.0</td>\n",
       "      <td>729.0</td>\n",
       "      <td>724.0</td>\n",
       "      <td>614.0</td>\n",
       "      <td>460.0</td>\n",
       "      <td>252.0</td>\n",
       "      <td>163.0</td>\n",
       "    </tr>\n",
       "    <tr>\n",
       "      <th>1920.0</th>\n",
       "      <td>NaN</td>\n",
       "      <td>NaN</td>\n",
       "      <td>NaN</td>\n",
       "      <td>NaN</td>\n",
       "      <td>NaN</td>\n",
       "      <td>74.0</td>\n",
       "      <td>718.0</td>\n",
       "      <td>999.0</td>\n",
       "      <td>943.0</td>\n",
       "      <td>897.0</td>\n",
       "      <td>777.0</td>\n",
       "      <td>553.0</td>\n",
       "      <td>385.0</td>\n",
       "      <td>280.0</td>\n",
       "      <td>167.0</td>\n",
       "    </tr>\n",
       "    <tr>\n",
       "      <th>1930.0</th>\n",
       "      <td>NaN</td>\n",
       "      <td>NaN</td>\n",
       "      <td>NaN</td>\n",
       "      <td>86.0</td>\n",
       "      <td>633.0</td>\n",
       "      <td>1033.0</td>\n",
       "      <td>930.0</td>\n",
       "      <td>957.0</td>\n",
       "      <td>838.0</td>\n",
       "      <td>727.0</td>\n",
       "      <td>663.0</td>\n",
       "      <td>486.0</td>\n",
       "      <td>382.0</td>\n",
       "      <td>180.0</td>\n",
       "      <td>17.0</td>\n",
       "    </tr>\n",
       "    <tr>\n",
       "      <th>1940.0</th>\n",
       "      <td>NaN</td>\n",
       "      <td>118.0</td>\n",
       "      <td>818.0</td>\n",
       "      <td>1092.0</td>\n",
       "      <td>1188.0</td>\n",
       "      <td>1292.0</td>\n",
       "      <td>1335.0</td>\n",
       "      <td>1247.0</td>\n",
       "      <td>1071.0</td>\n",
       "      <td>886.0</td>\n",
       "      <td>668.0</td>\n",
       "      <td>307.0</td>\n",
       "      <td>31.0</td>\n",
       "      <td>NaN</td>\n",
       "      <td>NaN</td>\n",
       "    </tr>\n",
       "    <tr>\n",
       "      <th>1950.0</th>\n",
       "      <td>344.0</td>\n",
       "      <td>1567.0</td>\n",
       "      <td>1572.0</td>\n",
       "      <td>1642.0</td>\n",
       "      <td>1619.0</td>\n",
       "      <td>1640.0</td>\n",
       "      <td>1589.0</td>\n",
       "      <td>1303.0</td>\n",
       "      <td>1071.0</td>\n",
       "      <td>570.0</td>\n",
       "      <td>69.0</td>\n",
       "      <td>NaN</td>\n",
       "      <td>NaN</td>\n",
       "      <td>NaN</td>\n",
       "      <td>NaN</td>\n",
       "    </tr>\n",
       "    <tr>\n",
       "      <th>1960.0</th>\n",
       "      <td>310.0</td>\n",
       "      <td>1604.0</td>\n",
       "      <td>1537.0</td>\n",
       "      <td>1666.0</td>\n",
       "      <td>1524.0</td>\n",
       "      <td>1452.0</td>\n",
       "      <td>1063.0</td>\n",
       "      <td>694.0</td>\n",
       "      <td>108.0</td>\n",
       "      <td>NaN</td>\n",
       "      <td>NaN</td>\n",
       "      <td>NaN</td>\n",
       "      <td>NaN</td>\n",
       "      <td>NaN</td>\n",
       "      <td>NaN</td>\n",
       "    </tr>\n",
       "    <tr>\n",
       "      <th>1970.0</th>\n",
       "      <td>284.0</td>\n",
       "      <td>1367.0</td>\n",
       "      <td>1443.0</td>\n",
       "      <td>1260.0</td>\n",
       "      <td>1088.0</td>\n",
       "      <td>610.0</td>\n",
       "      <td>63.0</td>\n",
       "      <td>NaN</td>\n",
       "      <td>NaN</td>\n",
       "      <td>NaN</td>\n",
       "      <td>NaN</td>\n",
       "      <td>NaN</td>\n",
       "      <td>NaN</td>\n",
       "      <td>NaN</td>\n",
       "      <td>NaN</td>\n",
       "    </tr>\n",
       "    <tr>\n",
       "      <th>1980.0</th>\n",
       "      <td>331.0</td>\n",
       "      <td>1192.0</td>\n",
       "      <td>1090.0</td>\n",
       "      <td>672.0</td>\n",
       "      <td>117.0</td>\n",
       "      <td>NaN</td>\n",
       "      <td>NaN</td>\n",
       "      <td>NaN</td>\n",
       "      <td>NaN</td>\n",
       "      <td>NaN</td>\n",
       "      <td>NaN</td>\n",
       "      <td>NaN</td>\n",
       "      <td>NaN</td>\n",
       "      <td>NaN</td>\n",
       "      <td>NaN</td>\n",
       "    </tr>\n",
       "    <tr>\n",
       "      <th>1990.0</th>\n",
       "      <td>249.0</td>\n",
       "      <td>531.0</td>\n",
       "      <td>109.0</td>\n",
       "      <td>NaN</td>\n",
       "      <td>NaN</td>\n",
       "      <td>NaN</td>\n",
       "      <td>NaN</td>\n",
       "      <td>NaN</td>\n",
       "      <td>NaN</td>\n",
       "      <td>NaN</td>\n",
       "      <td>NaN</td>\n",
       "      <td>NaN</td>\n",
       "      <td>NaN</td>\n",
       "      <td>NaN</td>\n",
       "      <td>NaN</td>\n",
       "    </tr>\n",
       "  </tbody>\n",
       "</table>\n",
       "</div>"
      ],
      "text/plain": [
       "age_group   17.5    22.5    27.5    32.5    37.5    42.5    47.5    52.5  \\\n",
       "cohort10                                                                   \n",
       "1880.0       NaN     NaN     NaN     NaN     NaN     NaN     NaN     NaN   \n",
       "1890.0       NaN     NaN     NaN     NaN     NaN     NaN     NaN     NaN   \n",
       "1900.0       NaN     NaN     NaN     NaN     NaN     NaN     NaN     NaN   \n",
       "1910.0       NaN     NaN     NaN     NaN     NaN     NaN     NaN    99.0   \n",
       "1920.0       NaN     NaN     NaN     NaN     NaN    74.0   718.0   999.0   \n",
       "1930.0       NaN     NaN     NaN    86.0   633.0  1033.0   930.0   957.0   \n",
       "1940.0       NaN   118.0   818.0  1092.0  1188.0  1292.0  1335.0  1247.0   \n",
       "1950.0     344.0  1567.0  1572.0  1642.0  1619.0  1640.0  1589.0  1303.0   \n",
       "1960.0     310.0  1604.0  1537.0  1666.0  1524.0  1452.0  1063.0   694.0   \n",
       "1970.0     284.0  1367.0  1443.0  1260.0  1088.0   610.0    63.0     NaN   \n",
       "1980.0     331.0  1192.0  1090.0   672.0   117.0     NaN     NaN     NaN   \n",
       "1990.0     249.0   531.0   109.0     NaN     NaN     NaN     NaN     NaN   \n",
       "\n",
       "age_group    57.5   62.5   67.5   72.5   77.5   82.5   87.5  \n",
       "cohort10                                                     \n",
       "1880.0        NaN    NaN    NaN    NaN    NaN    5.0   33.0  \n",
       "1890.0        NaN    NaN    NaN   37.0  183.0  122.0  112.0  \n",
       "1900.0        NaN   75.0  418.0  481.0  304.0  257.0  161.0  \n",
       "1910.0      638.0  729.0  724.0  614.0  460.0  252.0  163.0  \n",
       "1920.0      943.0  897.0  777.0  553.0  385.0  280.0  167.0  \n",
       "1930.0      838.0  727.0  663.0  486.0  382.0  180.0   17.0  \n",
       "1940.0     1071.0  886.0  668.0  307.0   31.0    NaN    NaN  \n",
       "1950.0     1071.0  570.0   69.0    NaN    NaN    NaN    NaN  \n",
       "1960.0      108.0    NaN    NaN    NaN    NaN    NaN    NaN  \n",
       "1970.0        NaN    NaN    NaN    NaN    NaN    NaN    NaN  \n",
       "1980.0        NaN    NaN    NaN    NaN    NaN    NaN    NaN  \n",
       "1990.0        NaN    NaN    NaN    NaN    NaN    NaN    NaN  "
      ]
     },
     "execution_count": 24,
     "metadata": {},
     "output_type": "execute_result"
    }
   ],
   "source": [
    "counts = grouped.none.count().unstack()\n",
    "counts"
   ]
  },
  {
   "cell_type": "markdown",
   "metadata": {},
   "source": [
    "Compute the percentage of Nones in each group."
   ]
  },
  {
   "cell_type": "code",
   "execution_count": 25,
   "metadata": {
    "collapsed": false
   },
   "outputs": [
    {
     "data": {
      "text/html": [
       "<div>\n",
       "<style>\n",
       "    .dataframe thead tr:only-child th {\n",
       "        text-align: right;\n",
       "    }\n",
       "\n",
       "    .dataframe thead th {\n",
       "        text-align: left;\n",
       "    }\n",
       "\n",
       "    .dataframe tbody tr th {\n",
       "        vertical-align: top;\n",
       "    }\n",
       "</style>\n",
       "<table border=\"1\" class=\"dataframe\">\n",
       "  <thead>\n",
       "    <tr style=\"text-align: right;\">\n",
       "      <th>age_group</th>\n",
       "      <th>17.5</th>\n",
       "      <th>22.5</th>\n",
       "      <th>27.5</th>\n",
       "      <th>32.5</th>\n",
       "      <th>37.5</th>\n",
       "      <th>42.5</th>\n",
       "      <th>47.5</th>\n",
       "      <th>52.5</th>\n",
       "      <th>57.5</th>\n",
       "      <th>62.5</th>\n",
       "      <th>67.5</th>\n",
       "      <th>72.5</th>\n",
       "      <th>77.5</th>\n",
       "      <th>82.5</th>\n",
       "      <th>87.5</th>\n",
       "    </tr>\n",
       "    <tr>\n",
       "      <th>cohort10</th>\n",
       "      <th></th>\n",
       "      <th></th>\n",
       "      <th></th>\n",
       "      <th></th>\n",
       "      <th></th>\n",
       "      <th></th>\n",
       "      <th></th>\n",
       "      <th></th>\n",
       "      <th></th>\n",
       "      <th></th>\n",
       "      <th></th>\n",
       "      <th></th>\n",
       "      <th></th>\n",
       "      <th></th>\n",
       "      <th></th>\n",
       "    </tr>\n",
       "  </thead>\n",
       "  <tbody>\n",
       "    <tr>\n",
       "      <th>1880.0</th>\n",
       "      <td>NaN</td>\n",
       "      <td>NaN</td>\n",
       "      <td>NaN</td>\n",
       "      <td>NaN</td>\n",
       "      <td>NaN</td>\n",
       "      <td>NaN</td>\n",
       "      <td>NaN</td>\n",
       "      <td>NaN</td>\n",
       "      <td>NaN</td>\n",
       "      <td>NaN</td>\n",
       "      <td>NaN</td>\n",
       "      <td>NaN</td>\n",
       "      <td>NaN</td>\n",
       "      <td>0.400000</td>\n",
       "      <td>0.000000</td>\n",
       "    </tr>\n",
       "    <tr>\n",
       "      <th>1890.0</th>\n",
       "      <td>NaN</td>\n",
       "      <td>NaN</td>\n",
       "      <td>NaN</td>\n",
       "      <td>NaN</td>\n",
       "      <td>NaN</td>\n",
       "      <td>NaN</td>\n",
       "      <td>NaN</td>\n",
       "      <td>NaN</td>\n",
       "      <td>NaN</td>\n",
       "      <td>NaN</td>\n",
       "      <td>NaN</td>\n",
       "      <td>0.000000</td>\n",
       "      <td>0.038251</td>\n",
       "      <td>0.024590</td>\n",
       "      <td>0.035714</td>\n",
       "    </tr>\n",
       "    <tr>\n",
       "      <th>1900.0</th>\n",
       "      <td>NaN</td>\n",
       "      <td>NaN</td>\n",
       "      <td>NaN</td>\n",
       "      <td>NaN</td>\n",
       "      <td>NaN</td>\n",
       "      <td>NaN</td>\n",
       "      <td>NaN</td>\n",
       "      <td>NaN</td>\n",
       "      <td>NaN</td>\n",
       "      <td>0.013333</td>\n",
       "      <td>0.028708</td>\n",
       "      <td>0.035343</td>\n",
       "      <td>0.032895</td>\n",
       "      <td>0.031128</td>\n",
       "      <td>0.049689</td>\n",
       "    </tr>\n",
       "    <tr>\n",
       "      <th>1910.0</th>\n",
       "      <td>NaN</td>\n",
       "      <td>NaN</td>\n",
       "      <td>NaN</td>\n",
       "      <td>NaN</td>\n",
       "      <td>NaN</td>\n",
       "      <td>NaN</td>\n",
       "      <td>NaN</td>\n",
       "      <td>0.010101</td>\n",
       "      <td>0.028213</td>\n",
       "      <td>0.031550</td>\n",
       "      <td>0.044199</td>\n",
       "      <td>0.055375</td>\n",
       "      <td>0.021739</td>\n",
       "      <td>0.059524</td>\n",
       "      <td>0.049080</td>\n",
       "    </tr>\n",
       "    <tr>\n",
       "      <th>1920.0</th>\n",
       "      <td>NaN</td>\n",
       "      <td>NaN</td>\n",
       "      <td>NaN</td>\n",
       "      <td>NaN</td>\n",
       "      <td>NaN</td>\n",
       "      <td>0.054054</td>\n",
       "      <td>0.040390</td>\n",
       "      <td>0.027027</td>\n",
       "      <td>0.046660</td>\n",
       "      <td>0.027871</td>\n",
       "      <td>0.036036</td>\n",
       "      <td>0.043400</td>\n",
       "      <td>0.059740</td>\n",
       "      <td>0.089286</td>\n",
       "      <td>0.071856</td>\n",
       "    </tr>\n",
       "    <tr>\n",
       "      <th>1930.0</th>\n",
       "      <td>NaN</td>\n",
       "      <td>NaN</td>\n",
       "      <td>NaN</td>\n",
       "      <td>0.069767</td>\n",
       "      <td>0.066351</td>\n",
       "      <td>0.045499</td>\n",
       "      <td>0.052688</td>\n",
       "      <td>0.033438</td>\n",
       "      <td>0.039379</td>\n",
       "      <td>0.037139</td>\n",
       "      <td>0.069382</td>\n",
       "      <td>0.084362</td>\n",
       "      <td>0.065445</td>\n",
       "      <td>0.094444</td>\n",
       "      <td>0.235294</td>\n",
       "    </tr>\n",
       "    <tr>\n",
       "      <th>1940.0</th>\n",
       "      <td>NaN</td>\n",
       "      <td>0.144068</td>\n",
       "      <td>0.094132</td>\n",
       "      <td>0.082418</td>\n",
       "      <td>0.088384</td>\n",
       "      <td>0.071207</td>\n",
       "      <td>0.072659</td>\n",
       "      <td>0.083400</td>\n",
       "      <td>0.098039</td>\n",
       "      <td>0.104966</td>\n",
       "      <td>0.122754</td>\n",
       "      <td>0.097720</td>\n",
       "      <td>0.225806</td>\n",
       "      <td>NaN</td>\n",
       "      <td>NaN</td>\n",
       "    </tr>\n",
       "    <tr>\n",
       "      <th>1950.0</th>\n",
       "      <td>0.139535</td>\n",
       "      <td>0.114231</td>\n",
       "      <td>0.127226</td>\n",
       "      <td>0.082217</td>\n",
       "      <td>0.089561</td>\n",
       "      <td>0.123780</td>\n",
       "      <td>0.120831</td>\n",
       "      <td>0.132003</td>\n",
       "      <td>0.143791</td>\n",
       "      <td>0.161404</td>\n",
       "      <td>0.101449</td>\n",
       "      <td>NaN</td>\n",
       "      <td>NaN</td>\n",
       "      <td>NaN</td>\n",
       "      <td>NaN</td>\n",
       "    </tr>\n",
       "    <tr>\n",
       "      <th>1960.0</th>\n",
       "      <td>0.116129</td>\n",
       "      <td>0.111596</td>\n",
       "      <td>0.112557</td>\n",
       "      <td>0.142857</td>\n",
       "      <td>0.172572</td>\n",
       "      <td>0.137052</td>\n",
       "      <td>0.170273</td>\n",
       "      <td>0.162824</td>\n",
       "      <td>0.166667</td>\n",
       "      <td>NaN</td>\n",
       "      <td>NaN</td>\n",
       "      <td>NaN</td>\n",
       "      <td>NaN</td>\n",
       "      <td>NaN</td>\n",
       "      <td>NaN</td>\n",
       "    </tr>\n",
       "    <tr>\n",
       "      <th>1970.0</th>\n",
       "      <td>0.151408</td>\n",
       "      <td>0.204097</td>\n",
       "      <td>0.182259</td>\n",
       "      <td>0.203175</td>\n",
       "      <td>0.223346</td>\n",
       "      <td>0.221311</td>\n",
       "      <td>0.222222</td>\n",
       "      <td>NaN</td>\n",
       "      <td>NaN</td>\n",
       "      <td>NaN</td>\n",
       "      <td>NaN</td>\n",
       "      <td>NaN</td>\n",
       "      <td>NaN</td>\n",
       "      <td>NaN</td>\n",
       "      <td>NaN</td>\n",
       "    </tr>\n",
       "    <tr>\n",
       "      <th>1980.0</th>\n",
       "      <td>0.175227</td>\n",
       "      <td>0.289430</td>\n",
       "      <td>0.293578</td>\n",
       "      <td>0.272321</td>\n",
       "      <td>0.316239</td>\n",
       "      <td>NaN</td>\n",
       "      <td>NaN</td>\n",
       "      <td>NaN</td>\n",
       "      <td>NaN</td>\n",
       "      <td>NaN</td>\n",
       "      <td>NaN</td>\n",
       "      <td>NaN</td>\n",
       "      <td>NaN</td>\n",
       "      <td>NaN</td>\n",
       "      <td>NaN</td>\n",
       "    </tr>\n",
       "    <tr>\n",
       "      <th>1990.0</th>\n",
       "      <td>0.301205</td>\n",
       "      <td>0.338983</td>\n",
       "      <td>0.385321</td>\n",
       "      <td>NaN</td>\n",
       "      <td>NaN</td>\n",
       "      <td>NaN</td>\n",
       "      <td>NaN</td>\n",
       "      <td>NaN</td>\n",
       "      <td>NaN</td>\n",
       "      <td>NaN</td>\n",
       "      <td>NaN</td>\n",
       "      <td>NaN</td>\n",
       "      <td>NaN</td>\n",
       "      <td>NaN</td>\n",
       "      <td>NaN</td>\n",
       "    </tr>\n",
       "  </tbody>\n",
       "</table>\n",
       "</div>"
      ],
      "text/plain": [
       "age_group      17.5      22.5      27.5      32.5      37.5      42.5  \\\n",
       "cohort10                                                                \n",
       "1880.0          NaN       NaN       NaN       NaN       NaN       NaN   \n",
       "1890.0          NaN       NaN       NaN       NaN       NaN       NaN   \n",
       "1900.0          NaN       NaN       NaN       NaN       NaN       NaN   \n",
       "1910.0          NaN       NaN       NaN       NaN       NaN       NaN   \n",
       "1920.0          NaN       NaN       NaN       NaN       NaN  0.054054   \n",
       "1930.0          NaN       NaN       NaN  0.069767  0.066351  0.045499   \n",
       "1940.0          NaN  0.144068  0.094132  0.082418  0.088384  0.071207   \n",
       "1950.0     0.139535  0.114231  0.127226  0.082217  0.089561  0.123780   \n",
       "1960.0     0.116129  0.111596  0.112557  0.142857  0.172572  0.137052   \n",
       "1970.0     0.151408  0.204097  0.182259  0.203175  0.223346  0.221311   \n",
       "1980.0     0.175227  0.289430  0.293578  0.272321  0.316239       NaN   \n",
       "1990.0     0.301205  0.338983  0.385321       NaN       NaN       NaN   \n",
       "\n",
       "age_group      47.5      52.5      57.5      62.5      67.5      72.5  \\\n",
       "cohort10                                                                \n",
       "1880.0          NaN       NaN       NaN       NaN       NaN       NaN   \n",
       "1890.0          NaN       NaN       NaN       NaN       NaN  0.000000   \n",
       "1900.0          NaN       NaN       NaN  0.013333  0.028708  0.035343   \n",
       "1910.0          NaN  0.010101  0.028213  0.031550  0.044199  0.055375   \n",
       "1920.0     0.040390  0.027027  0.046660  0.027871  0.036036  0.043400   \n",
       "1930.0     0.052688  0.033438  0.039379  0.037139  0.069382  0.084362   \n",
       "1940.0     0.072659  0.083400  0.098039  0.104966  0.122754  0.097720   \n",
       "1950.0     0.120831  0.132003  0.143791  0.161404  0.101449       NaN   \n",
       "1960.0     0.170273  0.162824  0.166667       NaN       NaN       NaN   \n",
       "1970.0     0.222222       NaN       NaN       NaN       NaN       NaN   \n",
       "1980.0          NaN       NaN       NaN       NaN       NaN       NaN   \n",
       "1990.0          NaN       NaN       NaN       NaN       NaN       NaN   \n",
       "\n",
       "age_group      77.5      82.5      87.5  \n",
       "cohort10                                 \n",
       "1880.0          NaN  0.400000  0.000000  \n",
       "1890.0     0.038251  0.024590  0.035714  \n",
       "1900.0     0.032895  0.031128  0.049689  \n",
       "1910.0     0.021739  0.059524  0.049080  \n",
       "1920.0     0.059740  0.089286  0.071856  \n",
       "1930.0     0.065445  0.094444  0.235294  \n",
       "1940.0     0.225806       NaN       NaN  \n",
       "1950.0          NaN       NaN       NaN  \n",
       "1960.0          NaN       NaN       NaN  \n",
       "1970.0          NaN       NaN       NaN  \n",
       "1980.0          NaN       NaN       NaN  \n",
       "1990.0          NaN       NaN       NaN  "
      ]
     },
     "execution_count": 25,
     "metadata": {},
     "output_type": "execute_result"
    }
   ],
   "source": [
    "percent_none = grouped.none.mean().unstack()\n",
    "percent_none"
   ]
  },
  {
   "cell_type": "markdown",
   "metadata": {},
   "source": [
    "Drop cells where we have fewer than 50 observations."
   ]
  },
  {
   "cell_type": "code",
   "execution_count": 26,
   "metadata": {
    "collapsed": true
   },
   "outputs": [],
   "source": [
    "percent_none[counts < 50] = np.nan"
   ]
  },
  {
   "cell_type": "markdown",
   "metadata": {},
   "source": [
    "Select rows for people born in the 1930s through 1980s."
   ]
  },
  {
   "cell_type": "code",
   "execution_count": 27,
   "metadata": {
    "collapsed": false
   },
   "outputs": [
    {
     "data": {
      "text/html": [
       "<div>\n",
       "<style>\n",
       "    .dataframe thead tr:only-child th {\n",
       "        text-align: right;\n",
       "    }\n",
       "\n",
       "    .dataframe thead th {\n",
       "        text-align: left;\n",
       "    }\n",
       "\n",
       "    .dataframe tbody tr th {\n",
       "        vertical-align: top;\n",
       "    }\n",
       "</style>\n",
       "<table border=\"1\" class=\"dataframe\">\n",
       "  <thead>\n",
       "    <tr style=\"text-align: right;\">\n",
       "      <th>age_group</th>\n",
       "      <th>17.5</th>\n",
       "      <th>22.5</th>\n",
       "      <th>27.5</th>\n",
       "      <th>32.5</th>\n",
       "      <th>37.5</th>\n",
       "      <th>42.5</th>\n",
       "      <th>47.5</th>\n",
       "      <th>52.5</th>\n",
       "      <th>57.5</th>\n",
       "      <th>62.5</th>\n",
       "      <th>67.5</th>\n",
       "      <th>72.5</th>\n",
       "      <th>77.5</th>\n",
       "      <th>82.5</th>\n",
       "      <th>87.5</th>\n",
       "    </tr>\n",
       "    <tr>\n",
       "      <th>cohort10</th>\n",
       "      <th></th>\n",
       "      <th></th>\n",
       "      <th></th>\n",
       "      <th></th>\n",
       "      <th></th>\n",
       "      <th></th>\n",
       "      <th></th>\n",
       "      <th></th>\n",
       "      <th></th>\n",
       "      <th></th>\n",
       "      <th></th>\n",
       "      <th></th>\n",
       "      <th></th>\n",
       "      <th></th>\n",
       "      <th></th>\n",
       "    </tr>\n",
       "  </thead>\n",
       "  <tbody>\n",
       "    <tr>\n",
       "      <th>1930.0</th>\n",
       "      <td>NaN</td>\n",
       "      <td>NaN</td>\n",
       "      <td>NaN</td>\n",
       "      <td>0.069767</td>\n",
       "      <td>0.066351</td>\n",
       "      <td>0.045499</td>\n",
       "      <td>0.052688</td>\n",
       "      <td>0.033438</td>\n",
       "      <td>0.039379</td>\n",
       "      <td>0.037139</td>\n",
       "      <td>0.069382</td>\n",
       "      <td>0.084362</td>\n",
       "      <td>0.065445</td>\n",
       "      <td>0.094444</td>\n",
       "      <td>NaN</td>\n",
       "    </tr>\n",
       "    <tr>\n",
       "      <th>1940.0</th>\n",
       "      <td>NaN</td>\n",
       "      <td>0.144068</td>\n",
       "      <td>0.094132</td>\n",
       "      <td>0.082418</td>\n",
       "      <td>0.088384</td>\n",
       "      <td>0.071207</td>\n",
       "      <td>0.072659</td>\n",
       "      <td>0.083400</td>\n",
       "      <td>0.098039</td>\n",
       "      <td>0.104966</td>\n",
       "      <td>0.122754</td>\n",
       "      <td>0.097720</td>\n",
       "      <td>NaN</td>\n",
       "      <td>NaN</td>\n",
       "      <td>NaN</td>\n",
       "    </tr>\n",
       "    <tr>\n",
       "      <th>1950.0</th>\n",
       "      <td>0.139535</td>\n",
       "      <td>0.114231</td>\n",
       "      <td>0.127226</td>\n",
       "      <td>0.082217</td>\n",
       "      <td>0.089561</td>\n",
       "      <td>0.123780</td>\n",
       "      <td>0.120831</td>\n",
       "      <td>0.132003</td>\n",
       "      <td>0.143791</td>\n",
       "      <td>0.161404</td>\n",
       "      <td>0.101449</td>\n",
       "      <td>NaN</td>\n",
       "      <td>NaN</td>\n",
       "      <td>NaN</td>\n",
       "      <td>NaN</td>\n",
       "    </tr>\n",
       "    <tr>\n",
       "      <th>1960.0</th>\n",
       "      <td>0.116129</td>\n",
       "      <td>0.111596</td>\n",
       "      <td>0.112557</td>\n",
       "      <td>0.142857</td>\n",
       "      <td>0.172572</td>\n",
       "      <td>0.137052</td>\n",
       "      <td>0.170273</td>\n",
       "      <td>0.162824</td>\n",
       "      <td>0.166667</td>\n",
       "      <td>NaN</td>\n",
       "      <td>NaN</td>\n",
       "      <td>NaN</td>\n",
       "      <td>NaN</td>\n",
       "      <td>NaN</td>\n",
       "      <td>NaN</td>\n",
       "    </tr>\n",
       "    <tr>\n",
       "      <th>1970.0</th>\n",
       "      <td>0.151408</td>\n",
       "      <td>0.204097</td>\n",
       "      <td>0.182259</td>\n",
       "      <td>0.203175</td>\n",
       "      <td>0.223346</td>\n",
       "      <td>0.221311</td>\n",
       "      <td>0.222222</td>\n",
       "      <td>NaN</td>\n",
       "      <td>NaN</td>\n",
       "      <td>NaN</td>\n",
       "      <td>NaN</td>\n",
       "      <td>NaN</td>\n",
       "      <td>NaN</td>\n",
       "      <td>NaN</td>\n",
       "      <td>NaN</td>\n",
       "    </tr>\n",
       "    <tr>\n",
       "      <th>1980.0</th>\n",
       "      <td>0.175227</td>\n",
       "      <td>0.289430</td>\n",
       "      <td>0.293578</td>\n",
       "      <td>0.272321</td>\n",
       "      <td>0.316239</td>\n",
       "      <td>NaN</td>\n",
       "      <td>NaN</td>\n",
       "      <td>NaN</td>\n",
       "      <td>NaN</td>\n",
       "      <td>NaN</td>\n",
       "      <td>NaN</td>\n",
       "      <td>NaN</td>\n",
       "      <td>NaN</td>\n",
       "      <td>NaN</td>\n",
       "      <td>NaN</td>\n",
       "    </tr>\n",
       "  </tbody>\n",
       "</table>\n",
       "</div>"
      ],
      "text/plain": [
       "age_group      17.5      22.5      27.5      32.5      37.5      42.5  \\\n",
       "cohort10                                                                \n",
       "1930.0          NaN       NaN       NaN  0.069767  0.066351  0.045499   \n",
       "1940.0          NaN  0.144068  0.094132  0.082418  0.088384  0.071207   \n",
       "1950.0     0.139535  0.114231  0.127226  0.082217  0.089561  0.123780   \n",
       "1960.0     0.116129  0.111596  0.112557  0.142857  0.172572  0.137052   \n",
       "1970.0     0.151408  0.204097  0.182259  0.203175  0.223346  0.221311   \n",
       "1980.0     0.175227  0.289430  0.293578  0.272321  0.316239       NaN   \n",
       "\n",
       "age_group      47.5      52.5      57.5      62.5      67.5      72.5  \\\n",
       "cohort10                                                                \n",
       "1930.0     0.052688  0.033438  0.039379  0.037139  0.069382  0.084362   \n",
       "1940.0     0.072659  0.083400  0.098039  0.104966  0.122754  0.097720   \n",
       "1950.0     0.120831  0.132003  0.143791  0.161404  0.101449       NaN   \n",
       "1960.0     0.170273  0.162824  0.166667       NaN       NaN       NaN   \n",
       "1970.0     0.222222       NaN       NaN       NaN       NaN       NaN   \n",
       "1980.0          NaN       NaN       NaN       NaN       NaN       NaN   \n",
       "\n",
       "age_group      77.5      82.5  87.5  \n",
       "cohort10                             \n",
       "1930.0     0.065445  0.094444   NaN  \n",
       "1940.0          NaN       NaN   NaN  \n",
       "1950.0          NaN       NaN   NaN  \n",
       "1960.0          NaN       NaN   NaN  \n",
       "1970.0          NaN       NaN   NaN  \n",
       "1980.0          NaN       NaN   NaN  "
      ]
     },
     "execution_count": 27,
     "metadata": {},
     "output_type": "execute_result"
    }
   ],
   "source": [
    "decades = np.linspace(1930, 1980, 6, endpoint=True)\n",
    "percent_none.loc[decades]"
   ]
  },
  {
   "cell_type": "markdown",
   "metadata": {},
   "source": [
    "Choose some colors."
   ]
  },
  {
   "cell_type": "code",
   "execution_count": 28,
   "metadata": {
    "collapsed": false
   },
   "outputs": [
    {
     "data": {
      "image/png": "[encoded data removed]",
      "text/plain": [
       "<matplotlib.figure.Figure at 0x7fd2d6fe4f50>"
      ]
     },
     "metadata": {},
     "output_type": "display_data"
    }
   ],
   "source": [
    "colors = sns.color_palette()\n",
    "sns.palplot(colors)"
   ]
  },
  {
   "cell_type": "markdown",
   "metadata": {},
   "source": [
    "For each birth cohort, plot the percentage of Nones as a function of age."
   ]
  },
  {
   "cell_type": "code",
   "execution_count": 29,
   "metadata": {
    "collapsed": false
   },
   "outputs": [
    {
     "data": {
      "image/png": "[encoded data removed]",
      "text/plain": [
       "<matplotlib.figure.Figure at 0x7fd2d5c3d3d0>"
      ]
     },
     "metadata": {},
     "output_type": "display_data"
    }
   ],
   "source": [
    "options = dict(alpha=1)\n",
    "\n",
    "thinkplot.preplot(6)\n",
    "thinkplot.plot(percent_none.loc[1980], label='80s', color=colors[0], **options)\n",
    "thinkplot.plot(percent_none.loc[1970], label='70s', color=colors[1], **options)\n",
    "thinkplot.plot(percent_none.loc[1960], label='60s', color=colors[2], **options)\n",
    "thinkplot.plot(percent_none.loc[1950], label='50s', color=colors[3], **options)\n",
    "thinkplot.plot(percent_none.loc[1940], label='40s', color=colors[4], **options)\n",
    "thinkplot.plot(percent_none.loc[1930], label='30s', color=colors[5], **options)\n",
    "\n",
    "xlabel = 'Age group'\n",
    "ylabel = 'Fraction with no affiliation'\n",
    "axis = [13, 85, 0, 0.32]\n",
    "\n",
    "thinkplot.config(xlabel=xlabel, ylabel=ylabel, axis=axis, legend=True)\n",
    "plt.gca().get_legend().set(title='Decade born');"
   ]
  },
  {
   "cell_type": "markdown",
   "metadata": {},
   "source": [
    "Same as the previous, but as a multi-plot."
   ]
  },
  {
   "cell_type": "code",
   "execution_count": 30,
   "metadata": {
    "collapsed": false
   },
   "outputs": [
    {
     "data": {
      "image/png": "[encoded data removed]",
      "text/plain": [
       "<matplotlib.figure.Figure at 0x7fd2d6de6b50>"
      ]
     },
     "metadata": {},
     "output_type": "display_data"
    }
   ],
   "source": [
    "thinkplot.preplot(num=6, rows=2, cols=3)\n",
    "thinkplot.subplot(1)\n",
    "thinkplot.plot(percent_none.loc[1980], label='80s', color=colors[0], **options)\n",
    "thinkplot.config(ylabel=ylabel, axis=axis)\n",
    "\n",
    "thinkplot.subplot(2)\n",
    "thinkplot.plot(percent_none.loc[1970], label='70s', color=colors[1], **options)\n",
    "thinkplot.config(axis=axis)\n",
    "\n",
    "thinkplot.subplot(3)\n",
    "thinkplot.plot(percent_none.loc[1960], label='60s', color=colors[2], **options)\n",
    "thinkplot.config(axis=axis)\n",
    "\n",
    "thinkplot.subplot(4)\n",
    "thinkplot.plot(percent_none.loc[1950], label='50s')\n",
    "thinkplot.config(xlabel=xlabel, ylabel=ylabel, axis=axis, color=colors[3], **options)\n",
    "\n",
    "thinkplot.subplot(5)\n",
    "thinkplot.plot(percent_none.loc[1940], label='40s', color=colors[4], **options)\n",
    "thinkplot.config(xlabel=xlabel, axis=axis)\n",
    "\n",
    "thinkplot.subplot(6)\n",
    "thinkplot.plot(percent_none.loc[1930], label='30s', color=colors[5], **options)\n",
    "thinkplot.config(xlabel=xlabel, axis=axis)"
   ]
  },
  {
   "cell_type": "code",
   "execution_count": null,
   "metadata": {
    "collapsed": true
   },
   "outputs": [],
   "source": []
  },
  {
   "cell_type": "code",
   "execution_count": 31,
   "metadata": {
    "collapsed": false
   },
   "outputs": [],
   "source": [
    "def center_factors(df):\n",
    "    \"\"\"Center factors around their means.\n",
    "    \n",
    "    df: DataFrame\n",
    "    \"\"\"\n",
    "    df['cohort66'] = df.cohort - 1966\n",
    "    df['cohort662'] = df.cohort66**2 / 1966\n",
    "    df['age47'] = df.age - 47\n",
    "    df['age472'] = df.age47**2 / 47"
   ]
  },
  {
   "cell_type": "code",
   "execution_count": 32,
   "metadata": {
    "collapsed": true
   },
   "outputs": [],
   "source": [
    "center_factors(sample)"
   ]
  },
  {
   "cell_type": "code",
   "execution_count": 33,
   "metadata": {
    "collapsed": false
   },
   "outputs": [
    {
     "name": "stdout",
     "output_type": "stream",
     "text": [
      "Optimization terminated successfully.\n",
      "         Current function value: 0.665699\n",
      "         Iterations 5\n"
     ]
    },
    {
     "data": {
      "text/html": [
       "<table class=\"simpletable\">\n",
       "<caption>Logit Regression Results</caption>\n",
       "<tr>\n",
       "  <th>Dep. Variable:</th>       <td>prot</td>       <th>  No. Observations:  </th>  <td> 61995</td> \n",
       "</tr>\n",
       "<tr>\n",
       "  <th>Model:</th>               <td>Logit</td>      <th>  Df Residuals:      </th>  <td> 61990</td> \n",
       "</tr>\n",
       "<tr>\n",
       "  <th>Method:</th>               <td>MLE</td>       <th>  Df Model:          </th>  <td>     4</td> \n",
       "</tr>\n",
       "<tr>\n",
       "  <th>Date:</th>          <td>Sun, 28 May 2017</td> <th>  Pseudo R-squ.:     </th>  <td>0.02068</td>\n",
       "</tr>\n",
       "<tr>\n",
       "  <th>Time:</th>              <td>20:36:57</td>     <th>  Log-Likelihood:    </th> <td> -41270.</td>\n",
       "</tr>\n",
       "<tr>\n",
       "  <th>converged:</th>           <td>True</td>       <th>  LL-Null:           </th> <td> -42141.</td>\n",
       "</tr>\n",
       "<tr>\n",
       "  <th> </th>                      <td> </td>        <th>  LLR p-value:       </th>  <td> 0.000</td> \n",
       "</tr>\n",
       "</table>\n",
       "<table class=\"simpletable\">\n",
       "<tr>\n",
       "      <td></td>         <th>coef</th>     <th>std err</th>      <th>z</th>      <th>P>|z|</th>  <th>[0.025</th>    <th>0.975]</th>  \n",
       "</tr>\n",
       "<tr>\n",
       "  <th>Intercept</th> <td>    0.1000</td> <td>    0.016</td> <td>    6.066</td> <td> 0.000</td> <td>    0.068</td> <td>    0.132</td>\n",
       "</tr>\n",
       "<tr>\n",
       "  <th>cohort66</th>  <td>   -0.0195</td> <td>    0.001</td> <td>  -22.079</td> <td> 0.000</td> <td>   -0.021</td> <td>   -0.018</td>\n",
       "</tr>\n",
       "<tr>\n",
       "  <th>cohort662</th> <td>   -0.1999</td> <td>    0.036</td> <td>   -5.526</td> <td> 0.000</td> <td>   -0.271</td> <td>   -0.129</td>\n",
       "</tr>\n",
       "<tr>\n",
       "  <th>age47</th>     <td>    0.0013</td> <td>    0.001</td> <td>    1.649</td> <td> 0.099</td> <td>   -0.000</td> <td>    0.003</td>\n",
       "</tr>\n",
       "<tr>\n",
       "  <th>age472</th>    <td>   -0.0016</td> <td>    0.001</td> <td>   -1.098</td> <td> 0.272</td> <td>   -0.005</td> <td>    0.001</td>\n",
       "</tr>\n",
       "</table>"
      ],
      "text/plain": [
       "<class 'statsmodels.iolib.summary.Summary'>\n",
       "\"\"\"\n",
       "                           Logit Regression Results                           \n",
       "==============================================================================\n",
       "Dep. Variable:                   prot   No. Observations:                61995\n",
       "Model:                          Logit   Df Residuals:                    61990\n",
       "Method:                           MLE   Df Model:                            4\n",
       "Date:                Sun, 28 May 2017   Pseudo R-squ.:                 0.02068\n",
       "Time:                        20:36:57   Log-Likelihood:                -41270.\n",
       "converged:                       True   LL-Null:                       -42141.\n",
       "                                        LLR p-value:                     0.000\n",
       "==============================================================================\n",
       "                 coef    std err          z      P>|z|      [0.025      0.975]\n",
       "------------------------------------------------------------------------------\n",
       "Intercept      0.1000      0.016      6.066      0.000       0.068       0.132\n",
       "cohort66      -0.0195      0.001    -22.079      0.000      -0.021      -0.018\n",
       "cohort662     -0.1999      0.036     -5.526      0.000      -0.271      -0.129\n",
       "age47          0.0013      0.001      1.649      0.099      -0.000       0.003\n",
       "age472        -0.0016      0.001     -1.098      0.272      -0.005       0.001\n",
       "==============================================================================\n",
       "\"\"\""
      ]
     },
     "execution_count": 33,
     "metadata": {},
     "output_type": "execute_result"
    }
   ],
   "source": [
    "formula = 'prot ~ cohort66 + cohort662 + age47 + age472'\n",
    "results = smf.logit(formula, data=sample).fit()\n",
    "results.summary()"
   ]
  },
  {
   "cell_type": "code",
   "execution_count": 34,
   "metadata": {
    "collapsed": false
   },
   "outputs": [
    {
     "name": "stdout",
     "output_type": "stream",
     "text": [
      "Optimization terminated successfully.\n",
      "         Current function value: 0.568178\n",
      "         Iterations 5\n"
     ]
    },
    {
     "data": {
      "text/html": [
       "<table class=\"simpletable\">\n",
       "<caption>Logit Regression Results</caption>\n",
       "<tr>\n",
       "  <th>Dep. Variable:</th>       <td>cath</td>       <th>  No. Observations:  </th>  <td> 61995</td>  \n",
       "</tr>\n",
       "<tr>\n",
       "  <th>Model:</th>               <td>Logit</td>      <th>  Df Residuals:      </th>  <td> 61990</td>  \n",
       "</tr>\n",
       "<tr>\n",
       "  <th>Method:</th>               <td>MLE</td>       <th>  Df Model:          </th>  <td>     4</td>  \n",
       "</tr>\n",
       "<tr>\n",
       "  <th>Date:</th>          <td>Sun, 28 May 2017</td> <th>  Pseudo R-squ.:     </th> <td>0.002092</td> \n",
       "</tr>\n",
       "<tr>\n",
       "  <th>Time:</th>              <td>20:36:57</td>     <th>  Log-Likelihood:    </th> <td> -35224.</td> \n",
       "</tr>\n",
       "<tr>\n",
       "  <th>converged:</th>           <td>True</td>       <th>  LL-Null:           </th> <td> -35298.</td> \n",
       "</tr>\n",
       "<tr>\n",
       "  <th> </th>                      <td> </td>        <th>  LLR p-value:       </th> <td>6.320e-31</td>\n",
       "</tr>\n",
       "</table>\n",
       "<table class=\"simpletable\">\n",
       "<tr>\n",
       "      <td></td>         <th>coef</th>     <th>std err</th>      <th>z</th>      <th>P>|z|</th>  <th>[0.025</th>    <th>0.975]</th>  \n",
       "</tr>\n",
       "<tr>\n",
       "  <th>Intercept</th> <td>   -1.1417</td> <td>    0.019</td> <td>  -60.849</td> <td> 0.000</td> <td>   -1.178</td> <td>   -1.105</td>\n",
       "</tr>\n",
       "<tr>\n",
       "  <th>cohort66</th>  <td>   -0.0053</td> <td>    0.001</td> <td>   -5.409</td> <td> 0.000</td> <td>   -0.007</td> <td>   -0.003</td>\n",
       "</tr>\n",
       "<tr>\n",
       "  <th>cohort662</th> <td>   -0.1330</td> <td>    0.040</td> <td>   -3.316</td> <td> 0.001</td> <td>   -0.212</td> <td>   -0.054</td>\n",
       "</tr>\n",
       "<tr>\n",
       "  <th>age47</th>     <td>   -0.0084</td> <td>    0.001</td> <td>   -9.613</td> <td> 0.000</td> <td>   -0.010</td> <td>   -0.007</td>\n",
       "</tr>\n",
       "<tr>\n",
       "  <th>age472</th>    <td>    0.0022</td> <td>    0.002</td> <td>    1.346</td> <td> 0.178</td> <td>   -0.001</td> <td>    0.005</td>\n",
       "</tr>\n",
       "</table>"
      ],
      "text/plain": [
       "<class 'statsmodels.iolib.summary.Summary'>\n",
       "\"\"\"\n",
       "                           Logit Regression Results                           \n",
       "==============================================================================\n",
       "Dep. Variable:                   cath   No. Observations:                61995\n",
       "Model:                          Logit   Df Residuals:                    61990\n",
       "Method:                           MLE   Df Model:                            4\n",
       "Date:                Sun, 28 May 2017   Pseudo R-squ.:                0.002092\n",
       "Time:                        20:36:57   Log-Likelihood:                -35224.\n",
       "converged:                       True   LL-Null:                       -35298.\n",
       "                                        LLR p-value:                 6.320e-31\n",
       "==============================================================================\n",
       "                 coef    std err          z      P>|z|      [0.025      0.975]\n",
       "------------------------------------------------------------------------------\n",
       "Intercept     -1.1417      0.019    -60.849      0.000      -1.178      -1.105\n",
       "cohort66      -0.0053      0.001     -5.409      0.000      -0.007      -0.003\n",
       "cohort662     -0.1330      0.040     -3.316      0.001      -0.212      -0.054\n",
       "age47         -0.0084      0.001     -9.613      0.000      -0.010      -0.007\n",
       "age472         0.0022      0.002      1.346      0.178      -0.001       0.005\n",
       "==============================================================================\n",
       "\"\"\""
      ]
     },
     "execution_count": 34,
     "metadata": {},
     "output_type": "execute_result"
    }
   ],
   "source": [
    "formula = 'cath ~ cohort66 + cohort662 + age47 + age472'\n",
    "results = smf.logit(formula, data=sample).fit()\n",
    "results.summary()"
   ]
  },
  {
   "cell_type": "code",
   "execution_count": 35,
   "metadata": {
    "collapsed": false
   },
   "outputs": [
    {
     "name": "stdout",
     "output_type": "stream",
     "text": [
      "Optimization terminated successfully.\n",
      "         Current function value: 0.334176\n",
      "         Iterations 7\n"
     ]
    },
    {
     "data": {
      "text/html": [
       "<table class=\"simpletable\">\n",
       "<caption>Logit Regression Results</caption>\n",
       "<tr>\n",
       "  <th>Dep. Variable:</th>       <td>none</td>       <th>  No. Observations:  </th>  <td> 61995</td> \n",
       "</tr>\n",
       "<tr>\n",
       "  <th>Model:</th>               <td>Logit</td>      <th>  Df Residuals:      </th>  <td> 61990</td> \n",
       "</tr>\n",
       "<tr>\n",
       "  <th>Method:</th>               <td>MLE</td>       <th>  Df Model:          </th>  <td>     4</td> \n",
       "</tr>\n",
       "<tr>\n",
       "  <th>Date:</th>          <td>Sun, 28 May 2017</td> <th>  Pseudo R-squ.:     </th>  <td>0.06288</td>\n",
       "</tr>\n",
       "<tr>\n",
       "  <th>Time:</th>              <td>20:36:58</td>     <th>  Log-Likelihood:    </th> <td> -20717.</td>\n",
       "</tr>\n",
       "<tr>\n",
       "  <th>converged:</th>           <td>True</td>       <th>  LL-Null:           </th> <td> -22107.</td>\n",
       "</tr>\n",
       "<tr>\n",
       "  <th> </th>                      <td> </td>        <th>  LLR p-value:       </th>  <td> 0.000</td> \n",
       "</tr>\n",
       "</table>\n",
       "<table class=\"simpletable\">\n",
       "<tr>\n",
       "      <td></td>         <th>coef</th>     <th>std err</th>      <th>z</th>      <th>P>|z|</th>  <th>[0.025</th>    <th>0.975]</th>  \n",
       "</tr>\n",
       "<tr>\n",
       "  <th>Intercept</th> <td>   -1.5425</td> <td>    0.024</td> <td>  -64.633</td> <td> 0.000</td> <td>   -1.589</td> <td>   -1.496</td>\n",
       "</tr>\n",
       "<tr>\n",
       "  <th>cohort66</th>  <td>    0.0422</td> <td>    0.001</td> <td>   34.749</td> <td> 0.000</td> <td>    0.040</td> <td>    0.045</td>\n",
       "</tr>\n",
       "<tr>\n",
       "  <th>cohort662</th> <td>   -0.0076</td> <td>    0.064</td> <td>   -0.118</td> <td> 0.906</td> <td>   -0.134</td> <td>    0.118</td>\n",
       "</tr>\n",
       "<tr>\n",
       "  <th>age47</th>     <td>    0.0136</td> <td>    0.001</td> <td>   10.326</td> <td> 0.000</td> <td>    0.011</td> <td>    0.016</td>\n",
       "</tr>\n",
       "<tr>\n",
       "  <th>age472</th>    <td>    0.0083</td> <td>    0.003</td> <td>    3.240</td> <td> 0.001</td> <td>    0.003</td> <td>    0.013</td>\n",
       "</tr>\n",
       "</table>"
      ],
      "text/plain": [
       "<class 'statsmodels.iolib.summary.Summary'>\n",
       "\"\"\"\n",
       "                           Logit Regression Results                           \n",
       "==============================================================================\n",
       "Dep. Variable:                   none   No. Observations:                61995\n",
       "Model:                          Logit   Df Residuals:                    61990\n",
       "Method:                           MLE   Df Model:                            4\n",
       "Date:                Sun, 28 May 2017   Pseudo R-squ.:                 0.06288\n",
       "Time:                        20:36:58   Log-Likelihood:                -20717.\n",
       "converged:                       True   LL-Null:                       -22107.\n",
       "                                        LLR p-value:                     0.000\n",
       "==============================================================================\n",
       "                 coef    std err          z      P>|z|      [0.025      0.975]\n",
       "------------------------------------------------------------------------------\n",
       "Intercept     -1.5425      0.024    -64.633      0.000      -1.589      -1.496\n",
       "cohort66       0.0422      0.001     34.749      0.000       0.040       0.045\n",
       "cohort662     -0.0076      0.064     -0.118      0.906      -0.134       0.118\n",
       "age47          0.0136      0.001     10.326      0.000       0.011       0.016\n",
       "age472         0.0083      0.003      3.240      0.001       0.003       0.013\n",
       "==============================================================================\n",
       "\"\"\""
      ]
     },
     "execution_count": 35,
     "metadata": {},
     "output_type": "execute_result"
    }
   ],
   "source": [
    "formula = 'none ~ cohort66 + cohort662 + age47 + age472'\n",
    "results = smf.logit(formula, data=sample).fit()\n",
    "results.summary()"
   ]
  },
  {
   "cell_type": "code",
   "execution_count": 36,
   "metadata": {
    "collapsed": false
   },
   "outputs": [
    {
     "name": "stdout",
     "output_type": "stream",
     "text": [
      "Optimization terminated successfully.\n",
      "         Current function value: 0.188894\n",
      "         Iterations 7\n"
     ]
    },
    {
     "data": {
      "text/html": [
       "<table class=\"simpletable\">\n",
       "<caption>Logit Regression Results</caption>\n",
       "<tr>\n",
       "  <th>Dep. Variable:</th>       <td>other</td>      <th>  No. Observations:  </th>  <td> 61995</td>  \n",
       "</tr>\n",
       "<tr>\n",
       "  <th>Model:</th>               <td>Logit</td>      <th>  Df Residuals:      </th>  <td> 61990</td>  \n",
       "</tr>\n",
       "<tr>\n",
       "  <th>Method:</th>               <td>MLE</td>       <th>  Df Model:          </th>  <td>     4</td>  \n",
       "</tr>\n",
       "<tr>\n",
       "  <th>Date:</th>          <td>Sun, 28 May 2017</td> <th>  Pseudo R-squ.:     </th> <td>0.003195</td> \n",
       "</tr>\n",
       "<tr>\n",
       "  <th>Time:</th>              <td>20:36:58</td>     <th>  Log-Likelihood:    </th> <td> -11710.</td> \n",
       "</tr>\n",
       "<tr>\n",
       "  <th>converged:</th>           <td>True</td>       <th>  LL-Null:           </th> <td> -11748.</td> \n",
       "</tr>\n",
       "<tr>\n",
       "  <th> </th>                      <td> </td>        <th>  LLR p-value:       </th> <td>1.918e-15</td>\n",
       "</tr>\n",
       "</table>\n",
       "<table class=\"simpletable\">\n",
       "<tr>\n",
       "      <td></td>         <th>coef</th>     <th>std err</th>      <th>z</th>      <th>P>|z|</th>  <th>[0.025</th>    <th>0.975]</th>  \n",
       "</tr>\n",
       "<tr>\n",
       "  <th>Intercept</th> <td>   -2.8279</td> <td>    0.037</td> <td>  -76.756</td> <td> 0.000</td> <td>   -2.900</td> <td>   -2.756</td>\n",
       "</tr>\n",
       "<tr>\n",
       "  <th>cohort66</th>  <td>    0.0084</td> <td>    0.002</td> <td>    4.255</td> <td> 0.000</td> <td>    0.005</td> <td>    0.012</td>\n",
       "</tr>\n",
       "<tr>\n",
       "  <th>cohort662</th> <td>   -0.1073</td> <td>    0.085</td> <td>   -1.265</td> <td> 0.206</td> <td>   -0.273</td> <td>    0.059</td>\n",
       "</tr>\n",
       "<tr>\n",
       "  <th>age47</th>     <td>    0.0041</td> <td>    0.002</td> <td>    2.252</td> <td> 0.024</td> <td>    0.001</td> <td>    0.008</td>\n",
       "</tr>\n",
       "<tr>\n",
       "  <th>age472</th>    <td>   -0.0013</td> <td>    0.003</td> <td>   -0.386</td> <td> 0.699</td> <td>   -0.008</td> <td>    0.005</td>\n",
       "</tr>\n",
       "</table>"
      ],
      "text/plain": [
       "<class 'statsmodels.iolib.summary.Summary'>\n",
       "\"\"\"\n",
       "                           Logit Regression Results                           \n",
       "==============================================================================\n",
       "Dep. Variable:                  other   No. Observations:                61995\n",
       "Model:                          Logit   Df Residuals:                    61990\n",
       "Method:                           MLE   Df Model:                            4\n",
       "Date:                Sun, 28 May 2017   Pseudo R-squ.:                0.003195\n",
       "Time:                        20:36:58   Log-Likelihood:                -11710.\n",
       "converged:                       True   LL-Null:                       -11748.\n",
       "                                        LLR p-value:                 1.918e-15\n",
       "==============================================================================\n",
       "                 coef    std err          z      P>|z|      [0.025      0.975]\n",
       "------------------------------------------------------------------------------\n",
       "Intercept     -2.8279      0.037    -76.756      0.000      -2.900      -2.756\n",
       "cohort66       0.0084      0.002      4.255      0.000       0.005       0.012\n",
       "cohort662     -0.1073      0.085     -1.265      0.206      -0.273       0.059\n",
       "age47          0.0041      0.002      2.252      0.024       0.001       0.008\n",
       "age472        -0.0013      0.003     -0.386      0.699      -0.008       0.005\n",
       "==============================================================================\n",
       "\"\"\""
      ]
     },
     "execution_count": 36,
     "metadata": {},
     "output_type": "execute_result"
    }
   ],
   "source": [
    "formula = 'other ~ cohort66 + cohort662 + age47 + age472'\n",
    "results = smf.logit(formula, data=sample).fit()\n",
    "results.summary()"
   ]
  },
  {
   "cell_type": "markdown",
   "metadata": {},
   "source": [
    "## Generational replacement"
   ]
  },
  {
   "cell_type": "markdown",
   "metadata": {},
   "source": [
    "Choose colors"
   ]
  },
  {
   "cell_type": "code",
   "execution_count": 37,
   "metadata": {
    "collapsed": false
   },
   "outputs": [
    {
     "data": {
      "image/png": "[encoded data removed]",
      "text/plain": [
       "<matplotlib.figure.Figure at 0x7fd2d6041bd0>"
      ]
     },
     "metadata": {},
     "output_type": "display_data"
    }
   ],
   "source": [
    "RED, BLUE, GREEN, PURPLE, ORANGE, YELLOW = sns.color_palette('Set1')\n",
    "sns.palplot(sns.color_palette('Set1'))"
   ]
  },
  {
   "cell_type": "markdown",
   "metadata": {},
   "source": []
  },
  {
   "cell_type": "code",
   "execution_count": 38,
   "metadata": {
    "collapsed": false
   },
   "outputs": [],
   "source": [
    "def make_series_seq(grouped, varnames):\n",
    "    \"\"\"Compute the percentage in each category.\n",
    "    \n",
    "    grouped: GroupBy object with one-hots for each category\n",
    "    varnames: list of string column names\n",
    "    \n",
    "    returns: list of Series\n",
    "    \"\"\"\n",
    "    return [grouped[var].mean() * 100 for var in varnames]\n",
    "\n",
    "def plot_series_seq(series_seq, colors, labels):\n",
    "    \"\"\"Plots Series objects.\n",
    "    \n",
    "    series_seq: list of Series\n",
    "    colors: list of string colors\n",
    "    labels: list of string labels\n",
    "    \"\"\"\n",
    "    for series, color, label in zip(series_seq, colors, labels):\n",
    "        thinkplot.plot(series, color=color, label=label)"
   ]
  },
  {
   "cell_type": "code",
   "execution_count": null,
   "metadata": {
    "collapsed": true
   },
   "outputs": [],
   "source": []
  },
  {
   "cell_type": "code",
   "execution_count": 39,
   "metadata": {
    "collapsed": true
   },
   "outputs": [],
   "source": [
    "colors = [ORANGE, GREEN, RED, BLUE]\n",
    "    \n",
    "def plot_relig(grouped):\n",
    "    \"\"\"Plot one line for each religious group.\n",
    "    \n",
    "    grouped: GroupBy object with one-hots for each religious group\n",
    "    \"\"\"\n",
    "    labels = ['Protestant', 'Catholic', 'None', 'Other']\n",
    "    series_seq = make_series_seq(grouped, varnames)\n",
    "    plot_series_seq(series_seq, colors, labels)"
   ]
  },
  {
   "cell_type": "markdown",
   "metadata": {},
   "source": [
    "Plot the percentage in each religious group as a function of interview year."
   ]
  },
  {
   "cell_type": "code",
   "execution_count": 40,
   "metadata": {
    "collapsed": false
   },
   "outputs": [
    {
     "data": {
      "text/plain": [
       "year\n",
       "1972    1603\n",
       "1973    1496\n",
       "1974    1477\n",
       "1975    1483\n",
       "1976    1491\n",
       "1977    1516\n",
       "1978    1522\n",
       "1980    1456\n",
       "1982    1837\n",
       "1983    1588\n",
       "1984    1456\n",
       "1985    1522\n",
       "1986    1460\n",
       "1987    1802\n",
       "1988    1476\n",
       "1989    1530\n",
       "1990    1367\n",
       "1991    1513\n",
       "1993    1592\n",
       "1994    2976\n",
       "1996    2894\n",
       "1998    2792\n",
       "2000    2805\n",
       "2002    2735\n",
       "2004    2792\n",
       "2006    4468\n",
       "2008    2004\n",
       "2010    2028\n",
       "2012    1962\n",
       "2014    2513\n",
       "2016    2839\n",
       "Name: none, dtype: int64"
      ]
     },
     "execution_count": 40,
     "metadata": {},
     "output_type": "execute_result"
    }
   ],
   "source": [
    "grouped_year = sample.groupby(['year'])\n",
    "grouped_year.none.count()"
   ]
  },
  {
   "cell_type": "code",
   "execution_count": 41,
   "metadata": {
    "collapsed": false
   },
   "outputs": [
    {
     "data": {
      "image/png": "[encoded data removed]",
      "text/plain": [
       "<matplotlib.figure.Figure at 0x7fd2d6e45ad0>"
      ]
     },
     "metadata": {},
     "output_type": "display_data"
    }
   ],
   "source": [
    "plot_relig(grouped_year)\n",
    "thinkplot.config(xlabel='Year of interview', ylabel='Percent')"
   ]
  },
  {
   "cell_type": "code",
   "execution_count": 42,
   "metadata": {
    "collapsed": false
   },
   "outputs": [
    {
     "data": {
      "text/plain": [
       "age_group\n",
       "17.5    1518\n",
       "22.5    6379\n",
       "27.5    6569\n",
       "32.5    6418\n",
       "37.5    6169\n",
       "42.5    6101\n",
       "47.5    5698\n",
       "52.5    5299\n",
       "57.5    4669\n",
       "62.5    3884\n",
       "67.5    3319\n",
       "72.5    2478\n",
       "77.5    1745\n",
       "82.5    1096\n",
       "87.5     653\n",
       "Name: none, dtype: int64"
      ]
     },
     "execution_count": 42,
     "metadata": {},
     "output_type": "execute_result"
    }
   ],
   "source": [
    "grouped_age = sample.groupby(['age_group'])\n",
    "grouped_age.none.count()"
   ]
  },
  {
   "cell_type": "code",
   "execution_count": 43,
   "metadata": {
    "collapsed": false
   },
   "outputs": [
    {
     "data": {
      "image/png": "[encoded data removed]",
      "text/plain": [
       "<matplotlib.figure.Figure at 0x7fd2d5f9fe90>"
      ]
     },
     "metadata": {},
     "output_type": "display_data"
    }
   ],
   "source": [
    "plot_relig(grouped_age)\n",
    "thinkplot.config(xlabel='Age', ylabel='Percent')"
   ]
  },
  {
   "cell_type": "markdown",
   "metadata": {},
   "source": [
    "Plot the percentage in each religious group as a function of birth cohort."
   ]
  },
  {
   "cell_type": "code",
   "execution_count": 44,
   "metadata": {
    "collapsed": false
   },
   "outputs": [
    {
     "data": {
      "text/plain": [
       "cohort5\n",
       "1882.5       1\n",
       "1887.5      37\n",
       "1892.5     128\n",
       "1897.5     326\n",
       "1902.5     612\n",
       "1907.5    1084\n",
       "1912.5    1491\n",
       "1917.5    2188\n",
       "1922.5    2699\n",
       "1927.5    3094\n",
       "1932.5    3162\n",
       "1937.5    3770\n",
       "1942.5    4410\n",
       "1947.5    5643\n",
       "1952.5    6420\n",
       "1957.5    6566\n",
       "1962.5    5576\n",
       "1967.5    4382\n",
       "1972.5    3395\n",
       "1977.5    2720\n",
       "1982.5    2088\n",
       "1987.5    1314\n",
       "1992.5     671\n",
       "1997.5     218\n",
       "Name: relig, dtype: int64"
      ]
     },
     "execution_count": 44,
     "metadata": {},
     "output_type": "execute_result"
    }
   ],
   "source": [
    "grouped_cohort = sample.groupby(['cohort5'])\n",
    "grouped_cohort.relig.count()"
   ]
  },
  {
   "cell_type": "code",
   "execution_count": 45,
   "metadata": {
    "collapsed": false
   },
   "outputs": [
    {
     "data": {
      "image/png": "[encoded data removed]",
      "text/plain": [
       "<matplotlib.figure.Figure at 0x7fd2d5dc65d0>"
      ]
     },
     "metadata": {},
     "output_type": "display_data"
    }
   ],
   "source": [
    "plot_relig(grouped_cohort)\n",
    "thinkplot.config(xlabel='Year of birth', ylabel='Percent')"
   ]
  },
  {
   "cell_type": "markdown",
   "metadata": {},
   "source": [
    "Before running models, center the factors we're planning to use."
   ]
  },
  {
   "cell_type": "code",
   "execution_count": 46,
   "metadata": {
    "collapsed": false
   },
   "outputs": [],
   "source": [
    "def center_factors(df):\n",
    "    \"\"\"Center factors around their means.\n",
    "    \n",
    "    Add centered factors for the model.\n",
    "    \n",
    "    df: DataFrame\n",
    "    cohort: Series\n",
    "    age: Series\n",
    "    \"\"\"\n",
    "    df['c'] = df.cohort - 1966\n",
    "    df['c2'] = df.c**2\n",
    "    df['a'] = df.age - 47\n",
    "    df['a2'] = df.a**2\n",
    "    df['ac'] = df.a * df.c"
   ]
  },
  {
   "cell_type": "markdown",
   "metadata": {},
   "source": []
  },
  {
   "cell_type": "code",
   "execution_count": 47,
   "metadata": {
    "collapsed": false
   },
   "outputs": [
    {
     "data": {
      "text/html": [
       "<div>\n",
       "<style>\n",
       "    .dataframe thead tr:only-child th {\n",
       "        text-align: right;\n",
       "    }\n",
       "\n",
       "    .dataframe thead th {\n",
       "        text-align: left;\n",
       "    }\n",
       "\n",
       "    .dataframe tbody tr th {\n",
       "        vertical-align: top;\n",
       "    }\n",
       "</style>\n",
       "<table border=\"1\" class=\"dataframe\">\n",
       "  <thead>\n",
       "    <tr style=\"text-align: right;\">\n",
       "      <th></th>\n",
       "      <th>year</th>\n",
       "      <th>conclerg</th>\n",
       "      <th>bible</th>\n",
       "      <th>cohort</th>\n",
       "      <th>age</th>\n",
       "      <th>wtssall</th>\n",
       "      <th>ballot</th>\n",
       "      <th>relig</th>\n",
       "      <th>educ</th>\n",
       "      <th>id_</th>\n",
       "      <th>...</th>\n",
       "      <th>relig4</th>\n",
       "      <th>cohort66</th>\n",
       "      <th>cohort662</th>\n",
       "      <th>age47</th>\n",
       "      <th>age472</th>\n",
       "      <th>c</th>\n",
       "      <th>c2</th>\n",
       "      <th>a</th>\n",
       "      <th>a2</th>\n",
       "      <th>ac</th>\n",
       "    </tr>\n",
       "  </thead>\n",
       "  <tbody>\n",
       "    <tr>\n",
       "      <th>0</th>\n",
       "      <td>1972</td>\n",
       "      <td>NaN</td>\n",
       "      <td>NaN</td>\n",
       "      <td>1927.0</td>\n",
       "      <td>45.0</td>\n",
       "      <td>0.8893</td>\n",
       "      <td>0</td>\n",
       "      <td>2.0</td>\n",
       "      <td>12</td>\n",
       "      <td>1497</td>\n",
       "      <td>...</td>\n",
       "      <td>2.0</td>\n",
       "      <td>-39.0</td>\n",
       "      <td>0.773652</td>\n",
       "      <td>-2.0</td>\n",
       "      <td>0.085106</td>\n",
       "      <td>-39.0</td>\n",
       "      <td>1521.0</td>\n",
       "      <td>-2.0</td>\n",
       "      <td>4.0</td>\n",
       "      <td>78.0</td>\n",
       "    </tr>\n",
       "    <tr>\n",
       "      <th>1</th>\n",
       "      <td>1972</td>\n",
       "      <td>NaN</td>\n",
       "      <td>NaN</td>\n",
       "      <td>1954.0</td>\n",
       "      <td>18.0</td>\n",
       "      <td>0.8893</td>\n",
       "      <td>0</td>\n",
       "      <td>2.0</td>\n",
       "      <td>12</td>\n",
       "      <td>420</td>\n",
       "      <td>...</td>\n",
       "      <td>2.0</td>\n",
       "      <td>-12.0</td>\n",
       "      <td>0.073245</td>\n",
       "      <td>-29.0</td>\n",
       "      <td>17.893617</td>\n",
       "      <td>-12.0</td>\n",
       "      <td>144.0</td>\n",
       "      <td>-29.0</td>\n",
       "      <td>841.0</td>\n",
       "      <td>348.0</td>\n",
       "    </tr>\n",
       "    <tr>\n",
       "      <th>2</th>\n",
       "      <td>1972</td>\n",
       "      <td>NaN</td>\n",
       "      <td>NaN</td>\n",
       "      <td>1899.0</td>\n",
       "      <td>73.0</td>\n",
       "      <td>0.8893</td>\n",
       "      <td>0</td>\n",
       "      <td>2.0</td>\n",
       "      <td>12</td>\n",
       "      <td>804</td>\n",
       "      <td>...</td>\n",
       "      <td>2.0</td>\n",
       "      <td>-67.0</td>\n",
       "      <td>2.283316</td>\n",
       "      <td>26.0</td>\n",
       "      <td>14.382979</td>\n",
       "      <td>-67.0</td>\n",
       "      <td>4489.0</td>\n",
       "      <td>26.0</td>\n",
       "      <td>676.0</td>\n",
       "      <td>-1742.0</td>\n",
       "    </tr>\n",
       "    <tr>\n",
       "      <th>3</th>\n",
       "      <td>1972</td>\n",
       "      <td>NaN</td>\n",
       "      <td>NaN</td>\n",
       "      <td>1917.0</td>\n",
       "      <td>55.0</td>\n",
       "      <td>1.3339</td>\n",
       "      <td>0</td>\n",
       "      <td>1.0</td>\n",
       "      <td>5</td>\n",
       "      <td>1605</td>\n",
       "      <td>...</td>\n",
       "      <td>1.0</td>\n",
       "      <td>-49.0</td>\n",
       "      <td>1.221261</td>\n",
       "      <td>8.0</td>\n",
       "      <td>1.361702</td>\n",
       "      <td>-49.0</td>\n",
       "      <td>2401.0</td>\n",
       "      <td>8.0</td>\n",
       "      <td>64.0</td>\n",
       "      <td>-392.0</td>\n",
       "    </tr>\n",
       "    <tr>\n",
       "      <th>4</th>\n",
       "      <td>1972</td>\n",
       "      <td>NaN</td>\n",
       "      <td>NaN</td>\n",
       "      <td>1908.0</td>\n",
       "      <td>64.0</td>\n",
       "      <td>0.8893</td>\n",
       "      <td>0</td>\n",
       "      <td>2.0</td>\n",
       "      <td>11</td>\n",
       "      <td>230</td>\n",
       "      <td>...</td>\n",
       "      <td>2.0</td>\n",
       "      <td>-58.0</td>\n",
       "      <td>1.711089</td>\n",
       "      <td>17.0</td>\n",
       "      <td>6.148936</td>\n",
       "      <td>-58.0</td>\n",
       "      <td>3364.0</td>\n",
       "      <td>17.0</td>\n",
       "      <td>289.0</td>\n",
       "      <td>-986.0</td>\n",
       "    </tr>\n",
       "  </tbody>\n",
       "</table>\n",
       "<p>5 rows × 28 columns</p>\n",
       "</div>"
      ],
      "text/plain": [
       "   year  conclerg  bible  cohort   age  wtssall  ballot  relig  educ   id_  \\\n",
       "0  1972       NaN    NaN  1927.0  45.0   0.8893       0    2.0    12  1497   \n",
       "1  1972       NaN    NaN  1954.0  18.0   0.8893       0    2.0    12   420   \n",
       "2  1972       NaN    NaN  1899.0  73.0   0.8893       0    2.0    12   804   \n",
       "3  1972       NaN    NaN  1917.0  55.0   1.3339       0    1.0     5  1605   \n",
       "4  1972       NaN    NaN  1908.0  64.0   0.8893       0    2.0    11   230   \n",
       "\n",
       "    ...    relig4  cohort66  cohort662  age47     age472     c      c2     a  \\\n",
       "0   ...       2.0     -39.0   0.773652   -2.0   0.085106 -39.0  1521.0  -2.0   \n",
       "1   ...       2.0     -12.0   0.073245  -29.0  17.893617 -12.0   144.0 -29.0   \n",
       "2   ...       2.0     -67.0   2.283316   26.0  14.382979 -67.0  4489.0  26.0   \n",
       "3   ...       1.0     -49.0   1.221261    8.0   1.361702 -49.0  2401.0   8.0   \n",
       "4   ...       2.0     -58.0   1.711089   17.0   6.148936 -58.0  3364.0  17.0   \n",
       "\n",
       "      a2      ac  \n",
       "0    4.0    78.0  \n",
       "1  841.0   348.0  \n",
       "2  676.0 -1742.0  \n",
       "3   64.0  -392.0  \n",
       "4  289.0  -986.0  \n",
       "\n",
       "[5 rows x 28 columns]"
      ]
     },
     "execution_count": 47,
     "metadata": {},
     "output_type": "execute_result"
    }
   ],
   "source": [
    "center_factors(sample)\n",
    "sample.head()"
   ]
  },
  {
   "cell_type": "markdown",
   "metadata": {},
   "source": [
    "Run logistic regression to fit models to each religious group."
   ]
  },
  {
   "cell_type": "code",
   "execution_count": 48,
   "metadata": {
    "collapsed": false
   },
   "outputs": [],
   "source": [
    "def make_model(df, var):\n",
    "    \"\"\"Fit a logistic regression model.\n",
    "    \n",
    "    df: DataFrame\n",
    "    var: string name of dependent variable\n",
    "    \"\"\"\n",
    "    formula = var + ' ~ c + c2 + a + a2 + ac'\n",
    "    return smf.logit(formula, data=df).fit()"
   ]
  },
  {
   "cell_type": "code",
   "execution_count": 49,
   "metadata": {
    "collapsed": false
   },
   "outputs": [
    {
     "name": "stdout",
     "output_type": "stream",
     "text": [
      "Optimization terminated successfully.\n",
      "         Current function value: 0.665541\n",
      "         Iterations 4\n"
     ]
    },
    {
     "data": {
      "text/html": [
       "<table class=\"simpletable\">\n",
       "<caption>Logit Regression Results</caption>\n",
       "<tr>\n",
       "  <th>Dep. Variable:</th>       <td>prot</td>       <th>  No. Observations:  </th>  <td> 61995</td> \n",
       "</tr>\n",
       "<tr>\n",
       "  <th>Model:</th>               <td>Logit</td>      <th>  Df Residuals:      </th>  <td> 61989</td> \n",
       "</tr>\n",
       "<tr>\n",
       "  <th>Method:</th>               <td>MLE</td>       <th>  Df Model:          </th>  <td>     5</td> \n",
       "</tr>\n",
       "<tr>\n",
       "  <th>Date:</th>          <td>Sun, 28 May 2017</td> <th>  Pseudo R-squ.:     </th>  <td>0.02091</td>\n",
       "</tr>\n",
       "<tr>\n",
       "  <th>Time:</th>              <td>20:37:01</td>     <th>  Log-Likelihood:    </th> <td> -41260.</td>\n",
       "</tr>\n",
       "<tr>\n",
       "  <th>converged:</th>           <td>True</td>       <th>  LL-Null:           </th> <td> -42141.</td>\n",
       "</tr>\n",
       "<tr>\n",
       "  <th> </th>                      <td> </td>        <th>  LLR p-value:       </th>  <td> 0.000</td> \n",
       "</tr>\n",
       "</table>\n",
       "<table class=\"simpletable\">\n",
       "<tr>\n",
       "      <td></td>         <th>coef</th>     <th>std err</th>      <th>z</th>      <th>P>|z|</th>  <th>[0.025</th>    <th>0.975]</th>  \n",
       "</tr>\n",
       "<tr>\n",
       "  <th>Intercept</th> <td>    0.0550</td> <td>    0.019</td> <td>    2.838</td> <td> 0.005</td> <td>    0.017</td> <td>    0.093</td>\n",
       "</tr>\n",
       "<tr>\n",
       "  <th>c</th>         <td>   -0.0280</td> <td>    0.002</td> <td>  -13.260</td> <td> 0.000</td> <td>   -0.032</td> <td>   -0.024</td>\n",
       "</tr>\n",
       "<tr>\n",
       "  <th>c2</th>        <td>   -0.0003</td> <td> 5.31e-05</td> <td>   -6.069</td> <td> 0.000</td> <td>   -0.000</td> <td>   -0.000</td>\n",
       "</tr>\n",
       "<tr>\n",
       "  <th>a</th>         <td>   -0.0080</td> <td>    0.002</td> <td>   -3.570</td> <td> 0.000</td> <td>   -0.012</td> <td>   -0.004</td>\n",
       "</tr>\n",
       "<tr>\n",
       "  <th>a2</th>        <td>   -0.0003</td> <td> 6.66e-05</td> <td>   -4.428</td> <td> 0.000</td> <td>   -0.000</td> <td>   -0.000</td>\n",
       "</tr>\n",
       "<tr>\n",
       "  <th>ac</th>        <td>   -0.0005</td> <td>    0.000</td> <td>   -4.430</td> <td> 0.000</td> <td>   -0.001</td> <td>   -0.000</td>\n",
       "</tr>\n",
       "</table>"
      ],
      "text/plain": [
       "<class 'statsmodels.iolib.summary.Summary'>\n",
       "\"\"\"\n",
       "                           Logit Regression Results                           \n",
       "==============================================================================\n",
       "Dep. Variable:                   prot   No. Observations:                61995\n",
       "Model:                          Logit   Df Residuals:                    61989\n",
       "Method:                           MLE   Df Model:                            5\n",
       "Date:                Sun, 28 May 2017   Pseudo R-squ.:                 0.02091\n",
       "Time:                        20:37:01   Log-Likelihood:                -41260.\n",
       "converged:                       True   LL-Null:                       -42141.\n",
       "                                        LLR p-value:                     0.000\n",
       "==============================================================================\n",
       "                 coef    std err          z      P>|z|      [0.025      0.975]\n",
       "------------------------------------------------------------------------------\n",
       "Intercept      0.0550      0.019      2.838      0.005       0.017       0.093\n",
       "c             -0.0280      0.002    -13.260      0.000      -0.032      -0.024\n",
       "c2            -0.0003   5.31e-05     -6.069      0.000      -0.000      -0.000\n",
       "a             -0.0080      0.002     -3.570      0.000      -0.012      -0.004\n",
       "a2            -0.0003   6.66e-05     -4.428      0.000      -0.000      -0.000\n",
       "ac            -0.0005      0.000     -4.430      0.000      -0.001      -0.000\n",
       "==============================================================================\n",
       "\"\"\""
      ]
     },
     "execution_count": 49,
     "metadata": {},
     "output_type": "execute_result"
    }
   ],
   "source": [
    "make_model(sample, 'prot').summary()"
   ]
  },
  {
   "cell_type": "code",
   "execution_count": 50,
   "metadata": {
    "collapsed": false
   },
   "outputs": [
    {
     "name": "stdout",
     "output_type": "stream",
     "text": [
      "Optimization terminated successfully.\n",
      "         Current function value: 0.568176\n",
      "         Iterations 5\n"
     ]
    },
    {
     "data": {
      "text/html": [
       "<table class=\"simpletable\">\n",
       "<caption>Logit Regression Results</caption>\n",
       "<tr>\n",
       "  <th>Dep. Variable:</th>       <td>cath</td>       <th>  No. Observations:  </th>  <td> 61995</td>  \n",
       "</tr>\n",
       "<tr>\n",
       "  <th>Model:</th>               <td>Logit</td>      <th>  Df Residuals:      </th>  <td> 61989</td>  \n",
       "</tr>\n",
       "<tr>\n",
       "  <th>Method:</th>               <td>MLE</td>       <th>  Df Model:          </th>  <td>     5</td>  \n",
       "</tr>\n",
       "<tr>\n",
       "  <th>Date:</th>          <td>Sun, 28 May 2017</td> <th>  Pseudo R-squ.:     </th> <td>0.002095</td> \n",
       "</tr>\n",
       "<tr>\n",
       "  <th>Time:</th>              <td>20:37:02</td>     <th>  Log-Likelihood:    </th> <td> -35224.</td> \n",
       "</tr>\n",
       "<tr>\n",
       "  <th>converged:</th>           <td>True</td>       <th>  LL-Null:           </th> <td> -35298.</td> \n",
       "</tr>\n",
       "<tr>\n",
       "  <th> </th>                      <td> </td>        <th>  LLR p-value:       </th> <td>3.750e-30</td>\n",
       "</tr>\n",
       "</table>\n",
       "<table class=\"simpletable\">\n",
       "<tr>\n",
       "      <td></td>         <th>coef</th>     <th>std err</th>      <th>z</th>      <th>P>|z|</th>  <th>[0.025</th>    <th>0.975]</th>  \n",
       "</tr>\n",
       "<tr>\n",
       "  <th>Intercept</th> <td>   -1.1469</td> <td>    0.022</td> <td>  -51.496</td> <td> 0.000</td> <td>   -1.191</td> <td>   -1.103</td>\n",
       "</tr>\n",
       "<tr>\n",
       "  <th>c</th>         <td>   -0.0063</td> <td>    0.002</td> <td>   -2.629</td> <td> 0.009</td> <td>   -0.011</td> <td>   -0.002</td>\n",
       "</tr>\n",
       "<tr>\n",
       "  <th>c2</th>        <td>-9.184e-05</td> <td> 5.93e-05</td> <td>   -1.549</td> <td> 0.121</td> <td>   -0.000</td> <td> 2.43e-05</td>\n",
       "</tr>\n",
       "<tr>\n",
       "  <th>a</th>         <td>   -0.0095</td> <td>    0.003</td> <td>   -3.733</td> <td> 0.000</td> <td>   -0.014</td> <td>   -0.004</td>\n",
       "</tr>\n",
       "<tr>\n",
       "  <th>a2</th>        <td> 1.843e-05</td> <td> 7.47e-05</td> <td>    0.247</td> <td> 0.805</td> <td>   -0.000</td> <td>    0.000</td>\n",
       "</tr>\n",
       "<tr>\n",
       "  <th>ac</th>        <td>-5.334e-05</td> <td>    0.000</td> <td>   -0.434</td> <td> 0.664</td> <td>   -0.000</td> <td>    0.000</td>\n",
       "</tr>\n",
       "</table>"
      ],
      "text/plain": [
       "<class 'statsmodels.iolib.summary.Summary'>\n",
       "\"\"\"\n",
       "                           Logit Regression Results                           \n",
       "==============================================================================\n",
       "Dep. Variable:                   cath   No. Observations:                61995\n",
       "Model:                          Logit   Df Residuals:                    61989\n",
       "Method:                           MLE   Df Model:                            5\n",
       "Date:                Sun, 28 May 2017   Pseudo R-squ.:                0.002095\n",
       "Time:                        20:37:02   Log-Likelihood:                -35224.\n",
       "converged:                       True   LL-Null:                       -35298.\n",
       "                                        LLR p-value:                 3.750e-30\n",
       "==============================================================================\n",
       "                 coef    std err          z      P>|z|      [0.025      0.975]\n",
       "------------------------------------------------------------------------------\n",
       "Intercept     -1.1469      0.022    -51.496      0.000      -1.191      -1.103\n",
       "c             -0.0063      0.002     -2.629      0.009      -0.011      -0.002\n",
       "c2         -9.184e-05   5.93e-05     -1.549      0.121      -0.000    2.43e-05\n",
       "a             -0.0095      0.003     -3.733      0.000      -0.014      -0.004\n",
       "a2          1.843e-05   7.47e-05      0.247      0.805      -0.000       0.000\n",
       "ac         -5.334e-05      0.000     -0.434      0.664      -0.000       0.000\n",
       "==============================================================================\n",
       "\"\"\""
      ]
     },
     "execution_count": 50,
     "metadata": {},
     "output_type": "execute_result"
    }
   ],
   "source": [
    "make_model(sample, 'cath').summary()"
   ]
  },
  {
   "cell_type": "markdown",
   "metadata": {},
   "source": []
  },
  {
   "cell_type": "code",
   "execution_count": 51,
   "metadata": {
    "collapsed": false
   },
   "outputs": [
    {
     "name": "stdout",
     "output_type": "stream",
     "text": [
      "Optimization terminated successfully.\n",
      "         Current function value: 0.333886\n",
      "         Iterations 7\n"
     ]
    },
    {
     "data": {
      "text/html": [
       "<table class=\"simpletable\">\n",
       "<caption>Logit Regression Results</caption>\n",
       "<tr>\n",
       "  <th>Dep. Variable:</th>       <td>none</td>       <th>  No. Observations:  </th>  <td> 61995</td> \n",
       "</tr>\n",
       "<tr>\n",
       "  <th>Model:</th>               <td>Logit</td>      <th>  Df Residuals:      </th>  <td> 61989</td> \n",
       "</tr>\n",
       "<tr>\n",
       "  <th>Method:</th>               <td>MLE</td>       <th>  Df Model:          </th>  <td>     5</td> \n",
       "</tr>\n",
       "<tr>\n",
       "  <th>Date:</th>          <td>Sun, 28 May 2017</td> <th>  Pseudo R-squ.:     </th>  <td>0.06369</td>\n",
       "</tr>\n",
       "<tr>\n",
       "  <th>Time:</th>              <td>20:37:02</td>     <th>  Log-Likelihood:    </th> <td> -20699.</td>\n",
       "</tr>\n",
       "<tr>\n",
       "  <th>converged:</th>           <td>True</td>       <th>  LL-Null:           </th> <td> -22107.</td>\n",
       "</tr>\n",
       "<tr>\n",
       "  <th> </th>                      <td> </td>        <th>  LLR p-value:       </th>  <td> 0.000</td> \n",
       "</tr>\n",
       "</table>\n",
       "<table class=\"simpletable\">\n",
       "<tr>\n",
       "      <td></td>         <th>coef</th>     <th>std err</th>      <th>z</th>      <th>P>|z|</th>  <th>[0.025</th>    <th>0.975]</th>  \n",
       "</tr>\n",
       "<tr>\n",
       "  <th>Intercept</th> <td>   -1.4684</td> <td>    0.027</td> <td>  -55.239</td> <td> 0.000</td> <td>   -1.521</td> <td>   -1.416</td>\n",
       "</tr>\n",
       "<tr>\n",
       "  <th>c</th>         <td>    0.0592</td> <td>    0.003</td> <td>   19.263</td> <td> 0.000</td> <td>    0.053</td> <td>    0.065</td>\n",
       "</tr>\n",
       "<tr>\n",
       "  <th>c2</th>        <td>    0.0005</td> <td> 8.51e-05</td> <td>    5.543</td> <td> 0.000</td> <td>    0.000</td> <td>    0.001</td>\n",
       "</tr>\n",
       "<tr>\n",
       "  <th>a</th>         <td>    0.0319</td> <td>    0.003</td> <td>    9.690</td> <td> 0.000</td> <td>    0.025</td> <td>    0.038</td>\n",
       "</tr>\n",
       "<tr>\n",
       "  <th>a2</th>        <td>    0.0007</td> <td>    0.000</td> <td>    6.899</td> <td> 0.000</td> <td>    0.001</td> <td>    0.001</td>\n",
       "</tr>\n",
       "<tr>\n",
       "  <th>ac</th>        <td>    0.0011</td> <td>    0.000</td> <td>    6.049</td> <td> 0.000</td> <td>    0.001</td> <td>    0.001</td>\n",
       "</tr>\n",
       "</table>"
      ],
      "text/plain": [
       "<class 'statsmodels.iolib.summary.Summary'>\n",
       "\"\"\"\n",
       "                           Logit Regression Results                           \n",
       "==============================================================================\n",
       "Dep. Variable:                   none   No. Observations:                61995\n",
       "Model:                          Logit   Df Residuals:                    61989\n",
       "Method:                           MLE   Df Model:                            5\n",
       "Date:                Sun, 28 May 2017   Pseudo R-squ.:                 0.06369\n",
       "Time:                        20:37:02   Log-Likelihood:                -20699.\n",
       "converged:                       True   LL-Null:                       -22107.\n",
       "                                        LLR p-value:                     0.000\n",
       "==============================================================================\n",
       "                 coef    std err          z      P>|z|      [0.025      0.975]\n",
       "------------------------------------------------------------------------------\n",
       "Intercept     -1.4684      0.027    -55.239      0.000      -1.521      -1.416\n",
       "c              0.0592      0.003     19.263      0.000       0.053       0.065\n",
       "c2             0.0005   8.51e-05      5.543      0.000       0.000       0.001\n",
       "a              0.0319      0.003      9.690      0.000       0.025       0.038\n",
       "a2             0.0007      0.000      6.899      0.000       0.001       0.001\n",
       "ac             0.0011      0.000      6.049      0.000       0.001       0.001\n",
       "==============================================================================\n",
       "\"\"\""
      ]
     },
     "execution_count": 51,
     "metadata": {},
     "output_type": "execute_result"
    }
   ],
   "source": [
    "make_model(sample, 'none').summary()"
   ]
  },
  {
   "cell_type": "markdown",
   "metadata": {},
   "source": []
  },
  {
   "cell_type": "code",
   "execution_count": 52,
   "metadata": {
    "collapsed": false
   },
   "outputs": [
    {
     "name": "stdout",
     "output_type": "stream",
     "text": [
      "Optimization terminated successfully.\n",
      "         Current function value: 0.188870\n",
      "         Iterations 7\n"
     ]
    },
    {
     "data": {
      "text/html": [
       "<table class=\"simpletable\">\n",
       "<caption>Logit Regression Results</caption>\n",
       "<tr>\n",
       "  <th>Dep. Variable:</th>       <td>other</td>      <th>  No. Observations:  </th>  <td> 61995</td>  \n",
       "</tr>\n",
       "<tr>\n",
       "  <th>Model:</th>               <td>Logit</td>      <th>  Df Residuals:      </th>  <td> 61989</td>  \n",
       "</tr>\n",
       "<tr>\n",
       "  <th>Method:</th>               <td>MLE</td>       <th>  Df Model:          </th>  <td>     5</td>  \n",
       "</tr>\n",
       "<tr>\n",
       "  <th>Date:</th>          <td>Sun, 28 May 2017</td> <th>  Pseudo R-squ.:     </th> <td>0.003325</td> \n",
       "</tr>\n",
       "<tr>\n",
       "  <th>Time:</th>              <td>20:37:02</td>     <th>  Log-Likelihood:    </th> <td> -11709.</td> \n",
       "</tr>\n",
       "<tr>\n",
       "  <th>converged:</th>           <td>True</td>       <th>  LL-Null:           </th> <td> -11748.</td> \n",
       "</tr>\n",
       "<tr>\n",
       "  <th> </th>                      <td> </td>        <th>  LLR p-value:       </th> <td>2.068e-15</td>\n",
       "</tr>\n",
       "</table>\n",
       "<table class=\"simpletable\">\n",
       "<tr>\n",
       "      <td></td>         <th>coef</th>     <th>std err</th>      <th>z</th>      <th>P>|z|</th>  <th>[0.025</th>    <th>0.975]</th>  \n",
       "</tr>\n",
       "<tr>\n",
       "  <th>Intercept</th> <td>   -2.8668</td> <td>    0.043</td> <td>  -65.989</td> <td> 0.000</td> <td>   -2.952</td> <td>   -2.782</td>\n",
       "</tr>\n",
       "<tr>\n",
       "  <th>c</th>         <td>    0.0008</td> <td>    0.005</td> <td>    0.159</td> <td> 0.874</td> <td>   -0.009</td> <td>    0.010</td>\n",
       "</tr>\n",
       "<tr>\n",
       "  <th>c2</th>        <td>   -0.0003</td> <td>    0.000</td> <td>   -2.070</td> <td> 0.038</td> <td>   -0.000</td> <td>-1.36e-05</td>\n",
       "</tr>\n",
       "<tr>\n",
       "  <th>a</th>         <td>   -0.0042</td> <td>    0.005</td> <td>   -0.823</td> <td> 0.410</td> <td>   -0.014</td> <td>    0.006</td>\n",
       "</tr>\n",
       "<tr>\n",
       "  <th>a2</th>        <td>   -0.0003</td> <td>    0.000</td> <td>   -1.710</td> <td> 0.087</td> <td>   -0.001</td> <td> 3.94e-05</td>\n",
       "</tr>\n",
       "<tr>\n",
       "  <th>ac</th>        <td>   -0.0004</td> <td>    0.000</td> <td>   -1.738</td> <td> 0.082</td> <td>   -0.001</td> <td>  5.7e-05</td>\n",
       "</tr>\n",
       "</table>"
      ],
      "text/plain": [
       "<class 'statsmodels.iolib.summary.Summary'>\n",
       "\"\"\"\n",
       "                           Logit Regression Results                           \n",
       "==============================================================================\n",
       "Dep. Variable:                  other   No. Observations:                61995\n",
       "Model:                          Logit   Df Residuals:                    61989\n",
       "Method:                           MLE   Df Model:                            5\n",
       "Date:                Sun, 28 May 2017   Pseudo R-squ.:                0.003325\n",
       "Time:                        20:37:02   Log-Likelihood:                -11709.\n",
       "converged:                       True   LL-Null:                       -11748.\n",
       "                                        LLR p-value:                 2.068e-15\n",
       "==============================================================================\n",
       "                 coef    std err          z      P>|z|      [0.025      0.975]\n",
       "------------------------------------------------------------------------------\n",
       "Intercept     -2.8668      0.043    -65.989      0.000      -2.952      -2.782\n",
       "c              0.0008      0.005      0.159      0.874      -0.009       0.010\n",
       "c2            -0.0003      0.000     -2.070      0.038      -0.000   -1.36e-05\n",
       "a             -0.0042      0.005     -0.823      0.410      -0.014       0.006\n",
       "a2            -0.0003      0.000     -1.710      0.087      -0.001    3.94e-05\n",
       "ac            -0.0004      0.000     -1.738      0.082      -0.001     5.7e-05\n",
       "==============================================================================\n",
       "\"\"\""
      ]
     },
     "execution_count": 52,
     "metadata": {},
     "output_type": "execute_result"
    }
   ],
   "source": [
    "make_model(sample, 'other').summary()"
   ]
  },
  {
   "cell_type": "markdown",
   "metadata": {},
   "source": []
  },
  {
   "cell_type": "code",
   "execution_count": 53,
   "metadata": {
    "collapsed": false
   },
   "outputs": [
    {
     "name": "stdout",
     "output_type": "stream",
     "text": [
      "Optimization terminated successfully.\n",
      "         Current function value: 1.028973\n",
      "         Iterations 6\n"
     ]
    },
    {
     "data": {
      "text/html": [
       "<table class=\"simpletable\">\n",
       "<caption>MNLogit Regression Results</caption>\n",
       "<tr>\n",
       "  <th>Dep. Variable:</th>      <td>relig4</td>      <th>  No. Observations:  </th>  <td> 61995</td> \n",
       "</tr>\n",
       "<tr>\n",
       "  <th>Model:</th>              <td>MNLogit</td>     <th>  Df Residuals:      </th>  <td> 61977</td> \n",
       "</tr>\n",
       "<tr>\n",
       "  <th>Method:</th>               <td>MLE</td>       <th>  Df Model:          </th>  <td>    15</td> \n",
       "</tr>\n",
       "<tr>\n",
       "  <th>Date:</th>          <td>Sun, 28 May 2017</td> <th>  Pseudo R-squ.:     </th>  <td>0.02599</td>\n",
       "</tr>\n",
       "<tr>\n",
       "  <th>Time:</th>              <td>20:37:04</td>     <th>  Log-Likelihood:    </th> <td> -63791.</td>\n",
       "</tr>\n",
       "<tr>\n",
       "  <th>converged:</th>           <td>True</td>       <th>  LL-Null:           </th> <td> -65493.</td>\n",
       "</tr>\n",
       "<tr>\n",
       "  <th> </th>                      <td> </td>        <th>  LLR p-value:       </th>  <td> 0.000</td> \n",
       "</tr>\n",
       "</table>\n",
       "<table class=\"simpletable\">\n",
       "<tr>\n",
       "  <th>relig4=2</th>     <th>coef</th>     <th>std err</th>      <th>z</th>      <th>P>|z|</th>  <th>[0.025</th>    <th>0.975]</th>  \n",
       "</tr>\n",
       "<tr>\n",
       "  <th>Intercept</th> <td>   -0.7486</td> <td>    0.023</td> <td>  -31.900</td> <td> 0.000</td> <td>   -0.795</td> <td>   -0.703</td>\n",
       "</tr>\n",
       "<tr>\n",
       "  <th>c</th>         <td>    0.0087</td> <td>    0.003</td> <td>    3.475</td> <td> 0.001</td> <td>    0.004</td> <td>    0.014</td>\n",
       "</tr>\n",
       "<tr>\n",
       "  <th>c2</th>        <td>    0.0001</td> <td> 6.18e-05</td> <td>    1.693</td> <td> 0.090</td> <td>-1.65e-05</td> <td>    0.000</td>\n",
       "</tr>\n",
       "<tr>\n",
       "  <th>a</th>         <td>   -0.0035</td> <td>    0.003</td> <td>   -1.309</td> <td> 0.191</td> <td>   -0.009</td> <td>    0.002</td>\n",
       "</tr>\n",
       "<tr>\n",
       "  <th>a2</th>        <td>    0.0001</td> <td> 7.72e-05</td> <td>    1.747</td> <td> 0.081</td> <td>-1.65e-05</td> <td>    0.000</td>\n",
       "</tr>\n",
       "<tr>\n",
       "  <th>ac</th>        <td>    0.0002</td> <td>    0.000</td> <td>    1.337</td> <td> 0.181</td> <td>-7.94e-05</td> <td>    0.000</td>\n",
       "</tr>\n",
       "<tr>\n",
       "  <th>relig4=3</th>     <th>coef</th>     <th>std err</th>      <th>z</th>      <th>P>|z|</th>  <th>[0.025</th>    <th>0.975]</th>  \n",
       "</tr>\n",
       "<tr>\n",
       "  <th>Intercept</th> <td>   -2.2488</td> <td>    0.044</td> <td>  -50.738</td> <td> 0.000</td> <td>   -2.336</td> <td>   -2.162</td>\n",
       "</tr>\n",
       "<tr>\n",
       "  <th>c</th>         <td>    0.0142</td> <td>    0.005</td> <td>    2.907</td> <td> 0.004</td> <td>    0.005</td> <td>    0.024</td>\n",
       "</tr>\n",
       "<tr>\n",
       "  <th>c2</th>        <td>-6.656e-05</td> <td>    0.000</td> <td>   -0.528</td> <td> 0.597</td> <td>   -0.000</td> <td>    0.000</td>\n",
       "</tr>\n",
       "<tr>\n",
       "  <th>a</th>         <td>   -0.0003</td> <td>    0.005</td> <td>   -0.057</td> <td> 0.954</td> <td>   -0.011</td> <td>    0.010</td>\n",
       "</tr>\n",
       "<tr>\n",
       "  <th>a2</th>        <td>   -0.0001</td> <td>    0.000</td> <td>   -0.786</td> <td> 0.432</td> <td>   -0.000</td> <td>    0.000</td>\n",
       "</tr>\n",
       "<tr>\n",
       "  <th>ac</th>        <td>   -0.0002</td> <td>    0.000</td> <td>   -0.793</td> <td> 0.428</td> <td>   -0.001</td> <td>    0.000</td>\n",
       "</tr>\n",
       "<tr>\n",
       "  <th>relig4=4</th>     <th>coef</th>     <th>std err</th>      <th>z</th>      <th>P>|z|</th>  <th>[0.025</th>    <th>0.975]</th>  \n",
       "</tr>\n",
       "<tr>\n",
       "  <th>Intercept</th> <td>   -1.0109</td> <td>    0.028</td> <td>  -36.375</td> <td> 0.000</td> <td>   -1.065</td> <td>   -0.956</td>\n",
       "</tr>\n",
       "<tr>\n",
       "  <th>c</th>         <td>    0.0629</td> <td>    0.003</td> <td>   19.656</td> <td> 0.000</td> <td>    0.057</td> <td>    0.069</td>\n",
       "</tr>\n",
       "<tr>\n",
       "  <th>c2</th>        <td>    0.0005</td> <td> 8.79e-05</td> <td>    5.800</td> <td> 0.000</td> <td>    0.000</td> <td>    0.001</td>\n",
       "</tr>\n",
       "<tr>\n",
       "  <th>a</th>         <td>    0.0309</td> <td>    0.003</td> <td>    9.057</td> <td> 0.000</td> <td>    0.024</td> <td>    0.038</td>\n",
       "</tr>\n",
       "<tr>\n",
       "  <th>a2</th>        <td>    0.0008</td> <td>    0.000</td> <td>    7.066</td> <td> 0.000</td> <td>    0.001</td> <td>    0.001</td>\n",
       "</tr>\n",
       "<tr>\n",
       "  <th>ac</th>        <td>    0.0011</td> <td>    0.000</td> <td>    6.090</td> <td> 0.000</td> <td>    0.001</td> <td>    0.001</td>\n",
       "</tr>\n",
       "</table>"
      ],
      "text/plain": [
       "<class 'statsmodels.iolib.summary.Summary'>\n",
       "\"\"\"\n",
       "                          MNLogit Regression Results                          \n",
       "==============================================================================\n",
       "Dep. Variable:                 relig4   No. Observations:                61995\n",
       "Model:                        MNLogit   Df Residuals:                    61977\n",
       "Method:                           MLE   Df Model:                           15\n",
       "Date:                Sun, 28 May 2017   Pseudo R-squ.:                 0.02599\n",
       "Time:                        20:37:04   Log-Likelihood:                -63791.\n",
       "converged:                       True   LL-Null:                       -65493.\n",
       "                                        LLR p-value:                     0.000\n",
       "==============================================================================\n",
       "  relig4=2       coef    std err          z      P>|z|      [0.025      0.975]\n",
       "------------------------------------------------------------------------------\n",
       "Intercept     -0.7486      0.023    -31.900      0.000      -0.795      -0.703\n",
       "c              0.0087      0.003      3.475      0.001       0.004       0.014\n",
       "c2             0.0001   6.18e-05      1.693      0.090   -1.65e-05       0.000\n",
       "a             -0.0035      0.003     -1.309      0.191      -0.009       0.002\n",
       "a2             0.0001   7.72e-05      1.747      0.081   -1.65e-05       0.000\n",
       "ac             0.0002      0.000      1.337      0.181   -7.94e-05       0.000\n",
       "------------------------------------------------------------------------------\n",
       "  relig4=3       coef    std err          z      P>|z|      [0.025      0.975]\n",
       "------------------------------------------------------------------------------\n",
       "Intercept     -2.2488      0.044    -50.738      0.000      -2.336      -2.162\n",
       "c              0.0142      0.005      2.907      0.004       0.005       0.024\n",
       "c2         -6.656e-05      0.000     -0.528      0.597      -0.000       0.000\n",
       "a             -0.0003      0.005     -0.057      0.954      -0.011       0.010\n",
       "a2            -0.0001      0.000     -0.786      0.432      -0.000       0.000\n",
       "ac            -0.0002      0.000     -0.793      0.428      -0.001       0.000\n",
       "------------------------------------------------------------------------------\n",
       "  relig4=4       coef    std err          z      P>|z|      [0.025      0.975]\n",
       "------------------------------------------------------------------------------\n",
       "Intercept     -1.0109      0.028    -36.375      0.000      -1.065      -0.956\n",
       "c              0.0629      0.003     19.656      0.000       0.057       0.069\n",
       "c2             0.0005   8.79e-05      5.800      0.000       0.000       0.001\n",
       "a              0.0309      0.003      9.057      0.000       0.024       0.038\n",
       "a2             0.0008      0.000      7.066      0.000       0.001       0.001\n",
       "ac             0.0011      0.000      6.090      0.000       0.001       0.001\n",
       "==============================================================================\n",
       "\"\"\""
      ]
     },
     "execution_count": 53,
     "metadata": {},
     "output_type": "execute_result"
    }
   ],
   "source": [
    "formula = 'relig4 ~ c + c2 + a + a2 + ac'\n",
    "model = smf.mnlogit(formula, data=sample).fit()\n",
    "model.summary()"
   ]
  },
  {
   "cell_type": "markdown",
   "metadata": {},
   "source": [
    "## Predict population"
   ]
  },
  {
   "cell_type": "markdown",
   "metadata": {},
   "source": [
    "Predict future generations based on the models."
   ]
  },
  {
   "cell_type": "code",
   "execution_count": 54,
   "metadata": {
    "collapsed": true
   },
   "outputs": [],
   "source": [
    "def predict_population(df, model_seq, year):\n",
    "    \"\"\"Make a prediction based on a fitted model.\n",
    "    \n",
    "    ???\n",
    "    \n",
    "    returns: Series that maps year of birth to predicted percentages\n",
    "    \"\"\"\n",
    "    # TODO: consider resampling age and using\n",
    "    # binomial rather than mean\n",
    "    # age = thinkstats2.Resample(sample.age)\n",
    "    age = df.loc[df.year>=2016, 'age']\n",
    "    cohort = year - age\n",
    "    df = pd.DataFrame(dict(cohort=cohort, age=age))\n",
    "    center_factors(df)\n",
    "    \n",
    "    pred = [results.predict(df).mean()\n",
    "            for results in model_seq]\n",
    "    return pd.Series(pred, index=varnames) * 100"
   ]
  },
  {
   "cell_type": "markdown",
   "metadata": {},
   "source": []
  },
  {
   "cell_type": "code",
   "execution_count": 55,
   "metadata": {
    "collapsed": false
   },
   "outputs": [
    {
     "name": "stdout",
     "output_type": "stream",
     "text": [
      "Optimization terminated successfully.\n",
      "         Current function value: 0.665541\n",
      "         Iterations 4\n",
      "Optimization terminated successfully.\n",
      "         Current function value: 0.568176\n",
      "         Iterations 5\n",
      "Optimization terminated successfully.\n",
      "         Current function value: 0.333886\n",
      "         Iterations 7\n",
      "Optimization terminated successfully.\n",
      "         Current function value: 0.188870\n",
      "         Iterations 7\n"
     ]
    }
   ],
   "source": [
    "model_seq = [make_model(sample, var) for var in varnames ]"
   ]
  },
  {
   "cell_type": "code",
   "execution_count": 56,
   "metadata": {
    "collapsed": false
   },
   "outputs": [
    {
     "name": "stdout",
     "output_type": "stream",
     "text": [
      "100.590792296\n"
     ]
    },
    {
     "data": {
      "text/plain": [
       "prot     48.722255\n",
       "cath     23.604243\n",
       "none     23.005081\n",
       "other     5.259213\n",
       "dtype: float64"
      ]
     },
     "execution_count": 56,
     "metadata": {},
     "output_type": "execute_result"
    }
   ],
   "source": [
    "pred = predict_population(sample, model_seq, 2016)\n",
    "print(sum(pred))\n",
    "pred"
   ]
  },
  {
   "cell_type": "markdown",
   "metadata": {},
   "source": []
  },
  {
   "cell_type": "code",
   "execution_count": 57,
   "metadata": {
    "collapsed": false
   },
   "outputs": [
    {
     "name": "stdout",
     "output_type": "stream",
     "text": [
      "104.337186233\n"
     ]
    },
    {
     "data": {
      "text/plain": [
       "prot     40.858724\n",
       "cath     22.251189\n",
       "none     36.133119\n",
       "other     5.094154\n",
       "dtype: float64"
      ]
     },
     "execution_count": 57,
     "metadata": {},
     "output_type": "execute_result"
    }
   ],
   "source": [
    "pred = predict_population(sample, model_seq, 2026)\n",
    "print(sum(pred))\n",
    "pred"
   ]
  },
  {
   "cell_type": "markdown",
   "metadata": {},
   "source": []
  },
  {
   "cell_type": "code",
   "execution_count": 58,
   "metadata": {
    "collapsed": false
   },
   "outputs": [
    {
     "name": "stdout",
     "output_type": "stream",
     "text": [
      "111.464406176\n"
     ]
    },
    {
     "data": {
      "text/plain": [
       "prot     32.117387\n",
       "cath     20.655942\n",
       "none     53.991599\n",
       "other     4.699478\n",
       "dtype: float64"
      ]
     },
     "execution_count": 58,
     "metadata": {},
     "output_type": "execute_result"
    }
   ],
   "source": [
    "pred = predict_population(sample, model_seq, 2036)\n",
    "print(sum(pred))\n",
    "pred"
   ]
  },
  {
   "cell_type": "markdown",
   "metadata": {},
   "source": []
  },
  {
   "cell_type": "code",
   "execution_count": 59,
   "metadata": {
    "collapsed": false
   },
   "outputs": [],
   "source": [
    "def predict_by_year(sample, model_seq, years):\n",
    "    \"\"\"Make predictions by year.\n",
    "    \n",
    "    sample: DataFrame\n",
    "    model_seq: list of fitted models\n",
    "    years: list of years to generate predictions for\n",
    "    \"\"\"\n",
    "    df = pd.DataFrame(columns=varnames)\n",
    "    for year in years:\n",
    "        df.loc[year] = predict_population(sample, model_seq, year)\n",
    "    return df"
   ]
  },
  {
   "cell_type": "markdown",
   "metadata": {},
   "source": []
  },
  {
   "cell_type": "code",
   "execution_count": 60,
   "metadata": {
    "collapsed": false
   },
   "outputs": [],
   "source": [
    "years = np.arange(1972, 2040)\n",
    "df = predict_by_year(sample, model_seq, years)"
   ]
  },
  {
   "cell_type": "markdown",
   "metadata": {},
   "source": []
  },
  {
   "cell_type": "code",
   "execution_count": 61,
   "metadata": {
    "collapsed": true
   },
   "outputs": [],
   "source": [
    "def plot_predictions(series_seq):\n",
    "    \"\"\"Plot a sequence of series.\n",
    "    \n",
    "    series_seq: list of series\n",
    "    \"\"\"\n",
    "    alpha = 0.3\n",
    "    for series, color in zip(series_seq, colors):\n",
    "        thinkplot.plot(series, color=color, alpha=alpha)"
   ]
  },
  {
   "cell_type": "code",
   "execution_count": 62,
   "metadata": {
    "collapsed": false
   },
   "outputs": [
    {
     "data": {
      "image/png": "[encoded data removed]",
      "text/plain": [
       "<matplotlib.figure.Figure at 0x7fd2d5cfa5d0>"
      ]
     },
     "metadata": {},
     "output_type": "display_data"
    }
   ],
   "source": [
    "series_seq = [df[var] for var in varnames]\n",
    "\n",
    "plot_predictions(series_seq)\n",
    "plot_relig(grouped_year)\n",
    "thinkplot.config(xlabel='Year of interview', loc='upper right')"
   ]
  },
  {
   "cell_type": "code",
   "execution_count": 63,
   "metadata": {
    "collapsed": false
   },
   "outputs": [
    {
     "data": {
      "text/plain": [
       "array([ 0.58164368,  0.25650456,  0.04697153,  0.11488023])"
      ]
     },
     "execution_count": 63,
     "metadata": {},
     "output_type": "execute_result"
    }
   ],
   "source": [
    "from sklearn.linear_model import LogisticRegression\n",
    "from sklearn.model_selection import train_test_split\n",
    "\n",
    "# solvers are newton-cg, sag, and lbfgs\n",
    "\n",
    "model = LogisticRegression(multi_class='multinomial', solver='newton-cg')\n",
    "y = sample.relig4\n",
    "X = sample[['c', 'a']].values\n",
    "model.fit(X, y)\n",
    "model.predict_proba(X).mean(axis=0)"
   ]
  },
  {
   "cell_type": "code",
   "execution_count": 64,
   "metadata": {
    "collapsed": false
   },
   "outputs": [
    {
     "data": {
      "text/plain": [
       "array([ 0.58137416,  0.2537615 ,  0.04777354,  0.1170908 ])"
      ]
     },
     "execution_count": 64,
     "metadata": {},
     "output_type": "execute_result"
    }
   ],
   "source": [
    "y = sample.relig4\n",
    "X = sample[['c', 'a', 'c2', 'a2', 'ac']].values\n",
    "\n",
    "X_train, X_test, y_train, y_test = train_test_split(X, y, test_size=0.6, random_state=42)\n",
    "\n",
    "model = LogisticRegression(multi_class='multinomial', solver='newton-cg')\n",
    "model.fit(X_train, y_train)\n",
    "pop_pred = model.predict_proba(X_test).mean(axis=0)\n",
    "pop_pred"
   ]
  },
  {
   "cell_type": "code",
   "execution_count": 65,
   "metadata": {
    "collapsed": false
   },
   "outputs": [
    {
     "data": {
      "text/plain": [
       "array([ 0.58149851,  0.2583004 ,  0.04642848,  0.11377262])"
      ]
     },
     "execution_count": 65,
     "metadata": {},
     "output_type": "execute_result"
    }
   ],
   "source": [
    "pmf = thinkstats2.Pmf(y_test)\n",
    "pop_actual = np.array(pmf.Probs([1, 2, 3, 4]))\n",
    "pop_actual"
   ]
  },
  {
   "cell_type": "code",
   "execution_count": 66,
   "metadata": {
    "collapsed": true
   },
   "outputs": [],
   "source": [
    "from sklearn.metrics import mutual_info_score\n",
    "\n",
    "def kl_divergence(p, q):\n",
    "    return sum(p * np.log(p/q))"
   ]
  },
  {
   "cell_type": "code",
   "execution_count": 67,
   "metadata": {
    "collapsed": false
   },
   "outputs": [
    {
     "data": {
      "text/plain": [
       "0.00010694805762149128"
      ]
     },
     "execution_count": 67,
     "metadata": {},
     "output_type": "execute_result"
    }
   ],
   "source": [
    "kl_divergence(pop_actual, pop_pred)"
   ]
  },
  {
   "cell_type": "markdown",
   "metadata": {},
   "source": [
    "## Fit a multinomial model"
   ]
  },
  {
   "cell_type": "code",
   "execution_count": 68,
   "metadata": {
    "collapsed": true
   },
   "outputs": [],
   "source": [
    "def get_factors(df):\n",
    "    #return df[['c', 'c2', 'a', 'a2', 'ac']].values\n",
    "    return df[['c', 'a']].values\n",
    "\n",
    "def make_multi_model(df, y):\n",
    "    \"\"\"Fit a logistic regression model.\n",
    "    \n",
    "    df: DataFrame\n",
    "    var: string name of dependent variable\n",
    "    \"\"\"\n",
    "    model = LogisticRegression(multi_class='multinomial', solver='newton-cg')\n",
    "    X = get_factors(df)\n",
    "    model.fit(X, y)\n",
    "    return model"
   ]
  },
  {
   "cell_type": "code",
   "execution_count": 69,
   "metadata": {
    "collapsed": true
   },
   "outputs": [],
   "source": [
    "def predict_multi_model(age, model, year):\n",
    "    \"\"\"Make a prediction based on a fitted model.\n",
    "    \n",
    "    ???\n",
    "    \n",
    "    returns: Series that maps year of birth to predicted percentages\n",
    "    \"\"\"\n",
    "    # TODO: consider resampling age and using\n",
    "    # binomial rather than mean\n",
    "    # age = thinkstats2.Resample(sample.age)\n",
    "    cohort = year - age\n",
    "    df = pd.DataFrame(dict(cohort=cohort, age=age))\n",
    "    center_factors(df)\n",
    "    X = get_factors(df)\n",
    "    pred = model.predict_proba(X).mean(axis=0)\n",
    "    index = ['prot', 'cath', 'other', 'none']\n",
    "    return pd.Series(pred, index=index) * 100"
   ]
  },
  {
   "cell_type": "code",
   "execution_count": 70,
   "metadata": {
    "collapsed": false
   },
   "outputs": [],
   "source": [
    "train_year = 2016\n",
    "train = sample[sample.year <= train_year]"
   ]
  },
  {
   "cell_type": "code",
   "execution_count": 71,
   "metadata": {
    "collapsed": false
   },
   "outputs": [],
   "source": [
    "model = make_multi_model(train, train.relig4)"
   ]
  },
  {
   "cell_type": "code",
   "execution_count": 72,
   "metadata": {
    "collapsed": false
   },
   "outputs": [
    {
     "data": {
      "text/plain": [
       "prot     50.110763\n",
       "cath     23.404970\n",
       "other     5.506665\n",
       "none     20.977602\n",
       "dtype: float64"
      ]
     },
     "execution_count": 72,
     "metadata": {},
     "output_type": "execute_result"
    }
   ],
   "source": [
    "age = sample.loc[sample.year==train_year, 'age']\n",
    "predict_multi_model(age, model, 2016)"
   ]
  },
  {
   "cell_type": "code",
   "execution_count": 73,
   "metadata": {
    "collapsed": false
   },
   "outputs": [
    {
     "data": {
      "text/plain": [
       "prot     44.369237\n",
       "cath     21.551860\n",
       "other     5.714221\n",
       "none     28.364682\n",
       "dtype: float64"
      ]
     },
     "execution_count": 73,
     "metadata": {},
     "output_type": "execute_result"
    }
   ],
   "source": [
    "predict_multi_model(age, model, 2026)"
   ]
  },
  {
   "cell_type": "code",
   "execution_count": 74,
   "metadata": {
    "collapsed": true
   },
   "outputs": [],
   "source": [
    "def predict_by_year_multi(age, model, years):\n",
    "    \"\"\"Make predictions by year.\n",
    "    \n",
    "    age: Series of ages\n",
    "    model_seq: list of fitted models\n",
    "    years: list of years to generate predictions for\n",
    "    \"\"\"\n",
    "    pred = pd.DataFrame(columns=varnames)\n",
    "    for year in years:\n",
    "        pred.loc[year] = predict_multi_model(age, model, year)\n",
    "    return pred"
   ]
  },
  {
   "cell_type": "code",
   "execution_count": 75,
   "metadata": {
    "collapsed": false
   },
   "outputs": [],
   "source": [
    "years = np.arange(1972, 2040)\n",
    "pred = predict_by_year_multi(age, model, years)"
   ]
  },
  {
   "cell_type": "code",
   "execution_count": 76,
   "metadata": {
    "collapsed": false
   },
   "outputs": [
    {
     "data": {
      "image/png": "[encoded data removed]",
      "text/plain": [
       "<matplotlib.figure.Figure at 0x7fd2d22e4610>"
      ]
     },
     "metadata": {},
     "output_type": "display_data"
    }
   ],
   "source": [
    "series_seq = [pred[var] for var in varnames]\n",
    "\n",
    "plot_predictions(series_seq)\n",
    "plot_relig(grouped_year)\n",
    "thinkplot.config(xlabel='Year of interview', loc='upper right')"
   ]
  },
  {
   "cell_type": "code",
   "execution_count": null,
   "metadata": {
    "collapsed": true
   },
   "outputs": [],
   "source": []
  },
  {
   "cell_type": "code",
   "execution_count": 77,
   "metadata": {
    "collapsed": false
   },
   "outputs": [
    {
     "ename": "SyntaxError",
     "evalue": "invalid syntax (<ipython-input-77-f9ef205a8f26>, line 1)",
     "output_type": "error",
     "traceback": [
      "\u001b[1;36m  File \u001b[1;32m\"<ipython-input-77-f9ef205a8f26>\"\u001b[1;36m, line \u001b[1;32m1\u001b[0m\n\u001b[1;33m    stop here\u001b[0m\n\u001b[1;37m            ^\u001b[0m\n\u001b[1;31mSyntaxError\u001b[0m\u001b[1;31m:\u001b[0m invalid syntax\n"
     ]
    }
   ],
   "source": [
    "stop here"
   ]
  },
  {
   "cell_type": "markdown",
   "metadata": {},
   "source": [
    "## Belief in God"
   ]
  },
  {
   "cell_type": "code",
   "execution_count": null,
   "metadata": {
    "collapsed": true
   },
   "outputs": [],
   "source": [
    "varnames = ['strongbelief', 'belief', 'nobelief']\n",
    "\n",
    "def create_belief_vars(df):\n",
    "    \"\"\"Creates columns for belief categories.\n",
    "    \n",
    "    df: DataFrame\n",
    "    \"\"\"\n",
    "    df['nobelief'] = (df.god.isin([1, 2]))\n",
    "    df['belief'] = (df.god.isin([3, 4, 5]))\n",
    "    df['strongbelief'] = (df.god.isin([6]))\n",
    "\n",
    "    df.loc[df.god.isnull(), varnames] = np.nan\n",
    "    \n",
    "create_belief_vars(sample)"
   ]
  },
  {
   "cell_type": "code",
   "execution_count": null,
   "metadata": {
    "collapsed": false
   },
   "outputs": [],
   "source": [
    "RED, PINK, _, _, LTBLUE, DKBLUE = sns.color_palette('RdBu', 6)\n",
    "colors = [BLUE, PURPLE, RED]"
   ]
  },
  {
   "cell_type": "code",
   "execution_count": null,
   "metadata": {
    "collapsed": false
   },
   "outputs": [],
   "source": [
    "def plot_beliefs(grouped):\n",
    "    \"\"\"Plot belief categories.\n",
    "    \n",
    "    grouped: GroupBy object\n",
    "    \"\"\"\n",
    "    labels = ['Strong belief', 'Belief', 'No belief']\n",
    "    series_seq = make_series_seq(grouped, varnames)\n",
    "    plot_series_seq(series_seq, colors, labels)"
   ]
  },
  {
   "cell_type": "code",
   "execution_count": null,
   "metadata": {
    "collapsed": false
   },
   "outputs": [],
   "source": [
    "plot_beliefs(grouped_year)\n",
    "thinkplot.config(xlabel='Year', ylabel='Percent', loc='upper left')"
   ]
  },
  {
   "cell_type": "code",
   "execution_count": null,
   "metadata": {
    "collapsed": false
   },
   "outputs": [],
   "source": [
    "plot_beliefs(grouped_cohort)\n",
    "thinkplot.config(xlabel='Year of birth', ylabel='Percent', loc='center left')"
   ]
  },
  {
   "cell_type": "code",
   "execution_count": null,
   "metadata": {
    "collapsed": false
   },
   "outputs": [],
   "source": [
    "make_model(sample, 'strongbelief').summary()"
   ]
  },
  {
   "cell_type": "code",
   "execution_count": null,
   "metadata": {
    "collapsed": false
   },
   "outputs": [],
   "source": [
    "make_model(sample, 'belief').summary()"
   ]
  },
  {
   "cell_type": "code",
   "execution_count": null,
   "metadata": {
    "collapsed": false
   },
   "outputs": [],
   "source": [
    "make_model(sample, 'nobelief').summary()"
   ]
  },
  {
   "cell_type": "code",
   "execution_count": null,
   "metadata": {
    "collapsed": false
   },
   "outputs": [],
   "source": [
    "model_seq = [make_model(sample, var) for var in varnames]\n",
    "series_seq = [predict_cohort(results) for results in model_seq]"
   ]
  },
  {
   "cell_type": "code",
   "execution_count": null,
   "metadata": {
    "collapsed": false
   },
   "outputs": [],
   "source": [
    "plot_beliefs(grouped_cohort)\n",
    "plot_predictions(series_seq)\n",
    "\n",
    "thinkplot.config(xlabel='Year of birth', ylabel='Percent', loc='center left')"
   ]
  },
  {
   "cell_type": "code",
   "execution_count": null,
   "metadata": {
    "collapsed": false
   },
   "outputs": [],
   "source": [
    "predict_population(sample, model_seq, 2016)"
   ]
  },
  {
   "cell_type": "code",
   "execution_count": null,
   "metadata": {
    "collapsed": false
   },
   "outputs": [],
   "source": [
    "years = np.arange(1991, 2040)\n",
    "df = predict_by_year(sample, model_seq, years)\n",
    "df"
   ]
  },
  {
   "cell_type": "code",
   "execution_count": null,
   "metadata": {
    "collapsed": false
   },
   "outputs": [],
   "source": [
    "series_seq = [df[var] for var in varnames]\n",
    "\n",
    "plot_predictions(series_seq)\n",
    "\n",
    "plot_beliefs(grouped_year)\n",
    "thinkplot.config(xlabel='Year of interview', loc='upper right')"
   ]
  },
  {
   "cell_type": "code",
   "execution_count": null,
   "metadata": {
    "collapsed": true
   },
   "outputs": [],
   "source": []
  },
  {
   "cell_type": "code",
   "execution_count": null,
   "metadata": {
    "collapsed": true
   },
   "outputs": [],
   "source": []
  },
  {
   "cell_type": "markdown",
   "metadata": {},
   "source": [
    "## Confidence in people running organized religion\n",
    "\n",
    "As far as the people running this institution [organized religion] are concerned, would you say you have a great deal of confidence, only some confidence, or hardly any confidence at all in them?\n",
    "\n",
    "1. A great deal\n",
    "2. Only some\n",
    "3. Hardly any\n",
    "\n"
   ]
  },
  {
   "cell_type": "code",
   "execution_count": null,
   "metadata": {
    "collapsed": false,
    "scrolled": true
   },
   "outputs": [],
   "source": [
    "sum(sample.conclerg.isnull())"
   ]
  },
  {
   "cell_type": "code",
   "execution_count": null,
   "metadata": {
    "collapsed": true
   },
   "outputs": [],
   "source": [
    "varnames = ['confident', 'someconf', 'noconf']\n",
    "\n",
    "def create_conf_vars(df):\n",
    "    \"\"\"Creates columns for confidence in religion categories.\n",
    "    \n",
    "    df: DataFrame\n",
    "    \"\"\"\n",
    "    df['confident'] = (df.conclerg == 1)\n",
    "    df['someconf'] = (df.conclerg == 2)\n",
    "    df['noconf'] = (df.conclerg == 3)\n",
    "\n",
    "    df.loc[df.conclerg.isnull(), varnames] = np.nan\n",
    "    \n",
    "    \n",
    "create_conf_vars(sample)\n"
   ]
  },
  {
   "cell_type": "code",
   "execution_count": null,
   "metadata": {
    "collapsed": false
   },
   "outputs": [],
   "source": [
    "def plot_conf(grouped):\n",
    "    \"\"\"Plot confidence in religion categories.\n",
    "    \n",
    "    grouped: GroupBy object\n",
    "    \"\"\"\n",
    "    labels = ['Great deal', 'Only some', 'Hardly any']\n",
    "    series_seq = make_series_seq(grouped, varnames)\n",
    "    plot_series_seq(series_seq, colors, labels)"
   ]
  },
  {
   "cell_type": "code",
   "execution_count": null,
   "metadata": {
    "collapsed": false
   },
   "outputs": [],
   "source": [
    "plot_conf(grouped_year)\n",
    "thinkplot.config(xlabel='Year of interview', ylabel='Percent', loc='center right')"
   ]
  },
  {
   "cell_type": "code",
   "execution_count": null,
   "metadata": {
    "collapsed": false
   },
   "outputs": [],
   "source": [
    "plot_conf(grouped_cohort)\n",
    "thinkplot.config(xlabel='Year of birth', ylabel='Percent', loc='upper right')"
   ]
  },
  {
   "cell_type": "code",
   "execution_count": null,
   "metadata": {
    "collapsed": false
   },
   "outputs": [],
   "source": [
    "make_model(sample, 'confident').summary()"
   ]
  },
  {
   "cell_type": "code",
   "execution_count": null,
   "metadata": {
    "collapsed": false
   },
   "outputs": [],
   "source": [
    "make_model(sample, 'someconf').summary()"
   ]
  },
  {
   "cell_type": "code",
   "execution_count": null,
   "metadata": {
    "collapsed": false
   },
   "outputs": [],
   "source": [
    "make_model(sample, 'noconf').summary()"
   ]
  },
  {
   "cell_type": "code",
   "execution_count": null,
   "metadata": {
    "collapsed": false
   },
   "outputs": [],
   "source": [
    "model_seq = [make_model(sample, var) for var in varnames]\n",
    "series_seq = [predict_cohort(results) for results in model_seq]\n"
   ]
  },
  {
   "cell_type": "code",
   "execution_count": null,
   "metadata": {
    "collapsed": false
   },
   "outputs": [],
   "source": [
    "plot_conf(grouped_cohort)\n",
    "plot_predictions(series_seq)\n",
    "thinkplot.config(xlabel='Year of birth', ylabel='Percent', loc='upper right')"
   ]
  },
  {
   "cell_type": "code",
   "execution_count": null,
   "metadata": {
    "collapsed": false
   },
   "outputs": [],
   "source": [
    "predict_population(sample, model_seq, 2016)"
   ]
  },
  {
   "cell_type": "code",
   "execution_count": null,
   "metadata": {
    "collapsed": false
   },
   "outputs": [],
   "source": [
    "years = np.arange(1973, 2040)\n",
    "df = predict_by_year(sample, model_seq, years)"
   ]
  },
  {
   "cell_type": "code",
   "execution_count": null,
   "metadata": {
    "collapsed": false,
    "scrolled": true
   },
   "outputs": [],
   "source": [
    "series_seq = [df[var] for var in varnames]\n",
    "\n",
    "plot_predictions(series_seq)\n",
    "\n",
    "plot_conf(grouped_year)\n",
    "thinkplot.config(xlabel='Year of interview', loc='upper right')"
   ]
  },
  {
   "cell_type": "code",
   "execution_count": null,
   "metadata": {
    "collapsed": true
   },
   "outputs": [],
   "source": []
  },
  {
   "cell_type": "code",
   "execution_count": null,
   "metadata": {
    "collapsed": true
   },
   "outputs": [],
   "source": []
  },
  {
   "cell_type": "markdown",
   "metadata": {},
   "source": [
    "## Bible\n",
    "\n",
    "Which one of these statements comes closest to describing your feelings about the Bible? \n",
    "\n",
    "1. The Bible is the actual word of God and is to be taken literally, word for word\n",
    "\n",
    "2. The Bible is the inspired word of God but not everything should be taken literally, word for word\n",
    "\n",
    "3. The Bible is an ancient book of fables, legends, history and moral precepts recorded by man"
   ]
  },
  {
   "cell_type": "code",
   "execution_count": null,
   "metadata": {
    "collapsed": false,
    "scrolled": true
   },
   "outputs": [],
   "source": [
    "sum(sample.bible.isnull())"
   ]
  },
  {
   "cell_type": "code",
   "execution_count": null,
   "metadata": {
    "collapsed": true
   },
   "outputs": [],
   "source": [
    "varnames = ['word', 'inspired', 'legends']\n",
    "\n",
    "def create_bible_vars(df):\n",
    "    \"\"\"Creates columns for bible interpretation categories.\n",
    "    \n",
    "    df: DataFrame\n",
    "    \"\"\"\n",
    "    df['word'] = (df.bible == 1)\n",
    "    df['inspired'] = (df.bible == 2)\n",
    "    df['legends'] = (df.bible == 3)\n",
    "\n",
    "    df.loc[df.bible.isnull(), varnames] = np.nan\n",
    "    \n",
    "create_bible_vars(sample)"
   ]
  },
  {
   "cell_type": "code",
   "execution_count": null,
   "metadata": {
    "collapsed": false
   },
   "outputs": [],
   "source": [
    "def plot_bible(grouped):\n",
    "    \"\"\"Plot bible interpretation categories.\n",
    "    \n",
    "    grouped: GroupBy object\n",
    "    \"\"\"\n",
    "    labels = ['Literal', 'Inspired', 'Legends']\n",
    "    series_seq = make_series_seq(grouped, varnames)\n",
    "    plot_series_seq(series_seq, colors, labels)"
   ]
  },
  {
   "cell_type": "code",
   "execution_count": null,
   "metadata": {
    "collapsed": false
   },
   "outputs": [],
   "source": [
    "plot_bible(grouped_year)\n",
    "thinkplot.config(xlabel='Year of interview', ylabel='Percent', loc='center right')"
   ]
  },
  {
   "cell_type": "code",
   "execution_count": null,
   "metadata": {
    "collapsed": false
   },
   "outputs": [],
   "source": [
    "plot_conf(grouped_cohort)\n",
    "thinkplot.config(xlabel='Year of birth', ylabel='Percent', loc='upper right')"
   ]
  },
  {
   "cell_type": "code",
   "execution_count": null,
   "metadata": {
    "collapsed": false
   },
   "outputs": [],
   "source": [
    "make_model(sample, 'word').summary()"
   ]
  },
  {
   "cell_type": "code",
   "execution_count": null,
   "metadata": {
    "collapsed": false
   },
   "outputs": [],
   "source": [
    "make_model(sample, 'inspired').summary()"
   ]
  },
  {
   "cell_type": "code",
   "execution_count": null,
   "metadata": {
    "collapsed": false
   },
   "outputs": [],
   "source": [
    "make_model(sample, 'legends').summary()"
   ]
  },
  {
   "cell_type": "code",
   "execution_count": null,
   "metadata": {
    "collapsed": false
   },
   "outputs": [],
   "source": [
    "model_seq = [make_model(sample, var) for var in varnames]\n",
    "series_seq = [predict_cohort(results) for results in model_seq]"
   ]
  },
  {
   "cell_type": "code",
   "execution_count": null,
   "metadata": {
    "collapsed": false
   },
   "outputs": [],
   "source": [
    "plot_bible(grouped_cohort)\n",
    "plot_predictions(series_seq)\n",
    "thinkplot.config(xlabel='Year of birth', ylabel='Percent', loc='upper right')"
   ]
  },
  {
   "cell_type": "code",
   "execution_count": null,
   "metadata": {
    "collapsed": false
   },
   "outputs": [],
   "source": [
    "predict_population(sample, model_seq, 2016)"
   ]
  },
  {
   "cell_type": "code",
   "execution_count": null,
   "metadata": {
    "collapsed": false
   },
   "outputs": [],
   "source": [
    "years = np.arange(2017, 2040)\n",
    "df = predict_by_year(sample, model_seq, years)"
   ]
  },
  {
   "cell_type": "code",
   "execution_count": null,
   "metadata": {
    "collapsed": false,
    "scrolled": true
   },
   "outputs": [],
   "source": [
    "series_seq = [df[var] for var in varnames]\n",
    "\n",
    "plot_predictions(series_seq)\n",
    "\n",
    "plot_bible(grouped_year)\n",
    "thinkplot.config(xlabel='Year of interview', loc='upper right')"
   ]
  }
 ],
 "metadata": {
  "kernelspec": {
   "display_name": "Python 2",
   "language": "python",
   "name": "python2"
  },
  "language_info": {
   "codemirror_mode": {
    "name": "ipython",
    "version": 2
   },
   "file_extension": ".py",
   "mimetype": "text/x-python",
   "name": "python",
   "nbconvert_exporter": "python",
   "pygments_lexer": "ipython2",
   "version": "2.7.13"
  }
 },
 "nbformat": 4,
 "nbformat_minor": 0
}
