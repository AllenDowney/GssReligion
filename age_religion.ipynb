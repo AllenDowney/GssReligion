{
 "cells": [
  {
   "cell_type": "markdown",
   "metadata": {},
   "source": [
    "# Generational changes in religious attitudes\n",
    "\n",
    "Allen Downey\n",
    "\n",
    "[MIT License](https://en.wikipedia.org/wiki/MIT_License)"
   ]
  },
  {
   "cell_type": "code",
   "execution_count": 1,
   "metadata": {
    "collapsed": false
   },
   "outputs": [],
   "source": [
    "from __future__ import print_function, division\n",
    "\n",
    "%matplotlib inline\n",
    "\n",
    "import pandas as pd\n",
    "import numpy as np\n",
    "\n",
    "import thinkstats2\n",
    "import thinkplot\n",
    "import utils\n",
    "\n",
    "import statsmodels.formula.api as smf\n",
    "import matplotlib.pyplot as plt\n",
    "\n",
    "import seaborn as sns\n",
    "sns.set(style='whitegrid', font_scale=1.5)\n",
    "\n",
    "from scipy.special import expit"
   ]
  },
  {
   "cell_type": "markdown",
   "metadata": {},
   "source": [
    "Reading data from the [General Social Survey](https://gssdataexplorer.norc.org/projects/29853)"
   ]
  },
  {
   "cell_type": "code",
   "execution_count": 2,
   "metadata": {
    "collapsed": false
   },
   "outputs": [],
   "source": [
    "# !wget https://gssdataexplorer.norc.org/extracts/21438/download"
   ]
  },
  {
   "cell_type": "code",
   "execution_count": 3,
   "metadata": {
    "collapsed": false
   },
   "outputs": [
    {
     "name": "stdout",
     "output_type": "stream",
     "text": [
      "(62466, 11)\n"
     ]
    },
    {
     "data": {
      "text/html": [
       "<div>\n",
       "<table border=\"1\" class=\"dataframe\">\n",
       "  <thead>\n",
       "    <tr style=\"text-align: right;\">\n",
       "      <th></th>\n",
       "      <th>year</th>\n",
       "      <th>conclerg</th>\n",
       "      <th>bible</th>\n",
       "      <th>cohort</th>\n",
       "      <th>age</th>\n",
       "      <th>wtssall</th>\n",
       "      <th>ballot</th>\n",
       "      <th>relig</th>\n",
       "      <th>educ</th>\n",
       "      <th>id_</th>\n",
       "      <th>god</th>\n",
       "    </tr>\n",
       "  </thead>\n",
       "  <tbody>\n",
       "    <tr>\n",
       "      <th>0</th>\n",
       "      <td>1972</td>\n",
       "      <td>0</td>\n",
       "      <td>0</td>\n",
       "      <td>1949</td>\n",
       "      <td>23</td>\n",
       "      <td>0.4446</td>\n",
       "      <td>0</td>\n",
       "      <td>3</td>\n",
       "      <td>16</td>\n",
       "      <td>1</td>\n",
       "      <td>0</td>\n",
       "    </tr>\n",
       "    <tr>\n",
       "      <th>1</th>\n",
       "      <td>1972</td>\n",
       "      <td>0</td>\n",
       "      <td>0</td>\n",
       "      <td>1902</td>\n",
       "      <td>70</td>\n",
       "      <td>0.8893</td>\n",
       "      <td>0</td>\n",
       "      <td>2</td>\n",
       "      <td>10</td>\n",
       "      <td>2</td>\n",
       "      <td>0</td>\n",
       "    </tr>\n",
       "    <tr>\n",
       "      <th>2</th>\n",
       "      <td>1972</td>\n",
       "      <td>0</td>\n",
       "      <td>0</td>\n",
       "      <td>1924</td>\n",
       "      <td>48</td>\n",
       "      <td>0.8893</td>\n",
       "      <td>0</td>\n",
       "      <td>1</td>\n",
       "      <td>12</td>\n",
       "      <td>3</td>\n",
       "      <td>0</td>\n",
       "    </tr>\n",
       "    <tr>\n",
       "      <th>3</th>\n",
       "      <td>1972</td>\n",
       "      <td>0</td>\n",
       "      <td>0</td>\n",
       "      <td>1945</td>\n",
       "      <td>27</td>\n",
       "      <td>0.8893</td>\n",
       "      <td>0</td>\n",
       "      <td>5</td>\n",
       "      <td>17</td>\n",
       "      <td>4</td>\n",
       "      <td>0</td>\n",
       "    </tr>\n",
       "    <tr>\n",
       "      <th>4</th>\n",
       "      <td>1972</td>\n",
       "      <td>0</td>\n",
       "      <td>0</td>\n",
       "      <td>1911</td>\n",
       "      <td>61</td>\n",
       "      <td>0.8893</td>\n",
       "      <td>0</td>\n",
       "      <td>1</td>\n",
       "      <td>12</td>\n",
       "      <td>5</td>\n",
       "      <td>0</td>\n",
       "    </tr>\n",
       "  </tbody>\n",
       "</table>\n",
       "</div>"
      ],
      "text/plain": [
       "   year  conclerg  bible  cohort  age  wtssall  ballot  relig  educ  id_  god\n",
       "0  1972         0      0    1949   23   0.4446       0      3    16    1    0\n",
       "1  1972         0      0    1902   70   0.8893       0      2    10    2    0\n",
       "2  1972         0      0    1924   48   0.8893       0      1    12    3    0\n",
       "3  1972         0      0    1945   27   0.8893       0      5    17    4    0\n",
       "4  1972         0      0    1911   61   0.8893       0      1    12    5    0"
      ]
     },
     "execution_count": 3,
     "metadata": {},
     "output_type": "execute_result"
    }
   ],
   "source": [
    "gss = utils.ReadGss('gss_religion_data')\n",
    "print(gss.shape)\n",
    "gss.head()"
   ]
  },
  {
   "cell_type": "markdown",
   "metadata": {},
   "source": [
    "Cleaning variables"
   ]
  },
  {
   "cell_type": "code",
   "execution_count": 4,
   "metadata": {
    "collapsed": true
   },
   "outputs": [],
   "source": [
    "# TODO: find out what code 4 is\n",
    "\n",
    "gss.bible.replace([4, 8, 9, 0], np.nan, inplace=True)"
   ]
  },
  {
   "cell_type": "code",
   "execution_count": 5,
   "metadata": {
    "collapsed": false
   },
   "outputs": [
    {
     "data": {
      "text/plain": [
       "1.0    11185\n",
       "2.0    15926\n",
       "3.0     5929\n",
       "Name: bible, dtype: int64"
      ]
     },
     "execution_count": 5,
     "metadata": {},
     "output_type": "execute_result"
    }
   ],
   "source": [
    "utils.values(gss, 'bible')"
   ]
  },
  {
   "cell_type": "code",
   "execution_count": 6,
   "metadata": {
    "collapsed": true
   },
   "outputs": [],
   "source": [
    "gss.conclerg.replace([8, 9, 0], np.nan, inplace=True)"
   ]
  },
  {
   "cell_type": "code",
   "execution_count": 7,
   "metadata": {
    "collapsed": false
   },
   "outputs": [
    {
     "data": {
      "text/plain": [
       "1.0    11366\n",
       "2.0    20886\n",
       "3.0     8660\n",
       "Name: conclerg, dtype: int64"
      ]
     },
     "execution_count": 7,
     "metadata": {},
     "output_type": "execute_result"
    }
   ],
   "source": [
    "utils.values(gss, 'conclerg')"
   ]
  },
  {
   "cell_type": "code",
   "execution_count": 8,
   "metadata": {
    "collapsed": false
   },
   "outputs": [
    {
     "data": {
      "text/plain": [
       "40129"
      ]
     },
     "execution_count": 8,
     "metadata": {},
     "output_type": "execute_result"
    }
   ],
   "source": [
    "gss.god.replace([8, 9, 0], np.nan, inplace=True)\n",
    "sum(gss.god.isnull())"
   ]
  },
  {
   "cell_type": "code",
   "execution_count": 9,
   "metadata": {
    "collapsed": false,
    "scrolled": true
   },
   "outputs": [
    {
     "data": {
      "text/plain": [
       "1.0      673\n",
       "2.0     1110\n",
       "3.0     2286\n",
       "4.0      900\n",
       "5.0     3662\n",
       "6.0    13706\n",
       "Name: god, dtype: int64"
      ]
     },
     "execution_count": 9,
     "metadata": {},
     "output_type": "execute_result"
    }
   ],
   "source": [
    "utils.values(gss, 'god')"
   ]
  },
  {
   "cell_type": "code",
   "execution_count": 10,
   "metadata": {
    "collapsed": false
   },
   "outputs": [
    {
     "data": {
      "text/plain": [
       "221"
      ]
     },
     "execution_count": 10,
     "metadata": {},
     "output_type": "execute_result"
    }
   ],
   "source": [
    "gss.age.replace([98, 99], np.nan, inplace=True)\n",
    "sum(gss.age.isnull())"
   ]
  },
  {
   "cell_type": "code",
   "execution_count": 11,
   "metadata": {
    "collapsed": false
   },
   "outputs": [
    {
     "data": {
      "text/plain": [
       "221"
      ]
     },
     "execution_count": 11,
     "metadata": {},
     "output_type": "execute_result"
    }
   ],
   "source": [
    "gss.cohort.replace([9999], np.nan, inplace=True)\n",
    "sum(gss.cohort.isnull())"
   ]
  },
  {
   "cell_type": "code",
   "execution_count": 12,
   "metadata": {
    "collapsed": false
   },
   "outputs": [
    {
     "data": {
      "text/plain": [
       "269"
      ]
     },
     "execution_count": 12,
     "metadata": {},
     "output_type": "execute_result"
    }
   ],
   "source": [
    "gss.relig.replace([98, 99], np.nan, inplace=True)\n",
    "sum(gss.relig.isnull())"
   ]
  },
  {
   "cell_type": "code",
   "execution_count": 13,
   "metadata": {
    "collapsed": false
   },
   "outputs": [
    {
     "data": {
      "text/plain": [
       "(61995, 11)"
      ]
     },
     "execution_count": 13,
     "metadata": {},
     "output_type": "execute_result"
    }
   ],
   "source": [
    "gss.dropna(subset=['age', 'cohort', 'relig'], inplace=True)\n",
    "gss.shape"
   ]
  },
  {
   "cell_type": "markdown",
   "metadata": {},
   "source": [
    "We drop 471 records due to missing data."
   ]
  },
  {
   "cell_type": "code",
   "execution_count": 14,
   "metadata": {
    "collapsed": false
   },
   "outputs": [
    {
     "data": {
      "text/plain": [
       "471"
      ]
     },
     "execution_count": 14,
     "metadata": {},
     "output_type": "execute_result"
    }
   ],
   "source": [
    "62466 - 61995"
   ]
  },
  {
   "cell_type": "markdown",
   "metadata": {},
   "source": [
    "Here's the distribution of ages."
   ]
  },
  {
   "cell_type": "code",
   "execution_count": 15,
   "metadata": {
    "collapsed": false
   },
   "outputs": [
    {
     "data": {
      "image/png": "[encoded data removed]",
      "text/plain": [
       "<matplotlib.figure.Figure at 0x7f5bec5af950>"
      ]
     },
     "metadata": {},
     "output_type": "display_data"
    }
   ],
   "source": [
    "thinkplot.Cdf(thinkstats2.Cdf(gss.age))\n",
    "thinkplot.Config(xlabel='Age', ylabel='CDF')"
   ]
  },
  {
   "cell_type": "markdown",
   "metadata": {},
   "source": [
    "Group people into 5-year age groups."
   ]
  },
  {
   "cell_type": "code",
   "execution_count": 16,
   "metadata": {
    "collapsed": false
   },
   "outputs": [],
   "source": [
    "gss['age_group'] = utils.RoundIntoBins(gss, 'age', 5) + 2.5"
   ]
  },
  {
   "cell_type": "markdown",
   "metadata": {},
   "source": [
    "Here's the distribution of birth year."
   ]
  },
  {
   "cell_type": "code",
   "execution_count": 17,
   "metadata": {
    "collapsed": false
   },
   "outputs": [
    {
     "data": {
      "image/png": "[encoded data removed]",
      "text/plain": [
       "<matplotlib.figure.Figure at 0x7f5bec5af410>"
      ]
     },
     "metadata": {},
     "output_type": "display_data"
    }
   ],
   "source": [
    "thinkplot.Cdf(thinkstats2.Cdf(gss.cohort))\n",
    "thinkplot.Config(xlabel='Year of birth', ylabel='CDF')"
   ]
  },
  {
   "cell_type": "markdown",
   "metadata": {},
   "source": [
    "Group people into 5- and 10-year bins by birth year."
   ]
  },
  {
   "cell_type": "code",
   "execution_count": 18,
   "metadata": {
    "collapsed": false
   },
   "outputs": [],
   "source": [
    "gss['cohort5'] = utils.RoundIntoBins(gss, 'cohort', 5) + 2.5"
   ]
  },
  {
   "cell_type": "code",
   "execution_count": 19,
   "metadata": {
    "collapsed": false
   },
   "outputs": [],
   "source": [
    "gss['cohort10'] = utils.RoundIntoBins(gss, 'cohort', 10)"
   ]
  },
  {
   "cell_type": "markdown",
   "metadata": {},
   "source": [
    "Here's the distribution of religion codes."
   ]
  },
  {
   "cell_type": "code",
   "execution_count": 20,
   "metadata": {
    "collapsed": false
   },
   "outputs": [
    {
     "data": {
      "text/plain": [
       "1.0     35856\n",
       "2.0     15136\n",
       "3.0      1233\n",
       "4.0      7231\n",
       "5.0      1064\n",
       "6.0       177\n",
       "7.0        88\n",
       "8.0        38\n",
       "9.0       135\n",
       "10.0      112\n",
       "11.0      760\n",
       "12.0       30\n",
       "13.0      135\n",
       "Name: relig, dtype: int64"
      ]
     },
     "execution_count": 20,
     "metadata": {},
     "output_type": "execute_result"
    }
   ],
   "source": [
    "utils.values(gss, 'relig')"
   ]
  },
  {
   "cell_type": "code",
   "execution_count": null,
   "metadata": {
    "collapsed": true
   },
   "outputs": [],
   "source": []
  },
  {
   "cell_type": "raw",
   "metadata": {},
   "source": []
  },
  {
   "cell_type": "markdown",
   "metadata": {},
   "source": [
    "Resampling (bootstrapping to be more specific) to account for sampling weights."
   ]
  },
  {
   "cell_type": "code",
   "execution_count": 21,
   "metadata": {
    "collapsed": false,
    "scrolled": true
   },
   "outputs": [
    {
     "data": {
      "text/html": [
       "<div>\n",
       "<table border=\"1\" class=\"dataframe\">\n",
       "  <thead>\n",
       "    <tr style=\"text-align: right;\">\n",
       "      <th></th>\n",
       "      <th>year</th>\n",
       "      <th>conclerg</th>\n",
       "      <th>bible</th>\n",
       "      <th>cohort</th>\n",
       "      <th>age</th>\n",
       "      <th>wtssall</th>\n",
       "      <th>ballot</th>\n",
       "      <th>relig</th>\n",
       "      <th>educ</th>\n",
       "      <th>id_</th>\n",
       "      <th>god</th>\n",
       "      <th>age_group</th>\n",
       "      <th>cohort5</th>\n",
       "      <th>cohort10</th>\n",
       "    </tr>\n",
       "  </thead>\n",
       "  <tbody>\n",
       "    <tr>\n",
       "      <th>0</th>\n",
       "      <td>1972</td>\n",
       "      <td>NaN</td>\n",
       "      <td>NaN</td>\n",
       "      <td>1932.0</td>\n",
       "      <td>40.0</td>\n",
       "      <td>0.8893</td>\n",
       "      <td>0</td>\n",
       "      <td>1.0</td>\n",
       "      <td>9</td>\n",
       "      <td>49</td>\n",
       "      <td>NaN</td>\n",
       "      <td>42.5</td>\n",
       "      <td>1932.5</td>\n",
       "      <td>1930.0</td>\n",
       "    </tr>\n",
       "    <tr>\n",
       "      <th>1</th>\n",
       "      <td>1972</td>\n",
       "      <td>NaN</td>\n",
       "      <td>NaN</td>\n",
       "      <td>1949.0</td>\n",
       "      <td>23.0</td>\n",
       "      <td>0.8893</td>\n",
       "      <td>0</td>\n",
       "      <td>1.0</td>\n",
       "      <td>12</td>\n",
       "      <td>884</td>\n",
       "      <td>NaN</td>\n",
       "      <td>22.5</td>\n",
       "      <td>1947.5</td>\n",
       "      <td>1940.0</td>\n",
       "    </tr>\n",
       "    <tr>\n",
       "      <th>2</th>\n",
       "      <td>1972</td>\n",
       "      <td>NaN</td>\n",
       "      <td>NaN</td>\n",
       "      <td>1951.0</td>\n",
       "      <td>21.0</td>\n",
       "      <td>1.3339</td>\n",
       "      <td>0</td>\n",
       "      <td>2.0</td>\n",
       "      <td>12</td>\n",
       "      <td>740</td>\n",
       "      <td>NaN</td>\n",
       "      <td>22.5</td>\n",
       "      <td>1952.5</td>\n",
       "      <td>1950.0</td>\n",
       "    </tr>\n",
       "    <tr>\n",
       "      <th>3</th>\n",
       "      <td>1972</td>\n",
       "      <td>NaN</td>\n",
       "      <td>NaN</td>\n",
       "      <td>1916.0</td>\n",
       "      <td>56.0</td>\n",
       "      <td>1.3339</td>\n",
       "      <td>0</td>\n",
       "      <td>1.0</td>\n",
       "      <td>6</td>\n",
       "      <td>12</td>\n",
       "      <td>NaN</td>\n",
       "      <td>57.5</td>\n",
       "      <td>1917.5</td>\n",
       "      <td>1910.0</td>\n",
       "    </tr>\n",
       "    <tr>\n",
       "      <th>4</th>\n",
       "      <td>1972</td>\n",
       "      <td>NaN</td>\n",
       "      <td>NaN</td>\n",
       "      <td>1898.0</td>\n",
       "      <td>74.0</td>\n",
       "      <td>0.8893</td>\n",
       "      <td>0</td>\n",
       "      <td>1.0</td>\n",
       "      <td>12</td>\n",
       "      <td>1090</td>\n",
       "      <td>NaN</td>\n",
       "      <td>72.5</td>\n",
       "      <td>1897.5</td>\n",
       "      <td>1890.0</td>\n",
       "    </tr>\n",
       "  </tbody>\n",
       "</table>\n",
       "</div>"
      ],
      "text/plain": [
       "   year  conclerg  bible  cohort   age  wtssall  ballot  relig  educ   id_  \\\n",
       "0  1972       NaN    NaN  1932.0  40.0   0.8893       0    1.0     9    49   \n",
       "1  1972       NaN    NaN  1949.0  23.0   0.8893       0    1.0    12   884   \n",
       "2  1972       NaN    NaN  1951.0  21.0   1.3339       0    2.0    12   740   \n",
       "3  1972       NaN    NaN  1916.0  56.0   1.3339       0    1.0     6    12   \n",
       "4  1972       NaN    NaN  1898.0  74.0   0.8893       0    1.0    12  1090   \n",
       "\n",
       "   god  age_group  cohort5  cohort10  \n",
       "0  NaN       42.5   1932.5    1930.0  \n",
       "1  NaN       22.5   1947.5    1940.0  \n",
       "2  NaN       22.5   1952.5    1950.0  \n",
       "3  NaN       57.5   1917.5    1910.0  \n",
       "4  NaN       72.5   1897.5    1890.0  "
      ]
     },
     "execution_count": 21,
     "metadata": {},
     "output_type": "execute_result"
    }
   ],
   "source": [
    "sample = utils.ResampleByYear(gss)\n",
    "sample.head()"
   ]
  },
  {
   "cell_type": "markdown",
   "metadata": {},
   "source": [
    "## How does religious affiliation change with age?"
   ]
  },
  {
   "cell_type": "code",
   "execution_count": 22,
   "metadata": {
    "collapsed": false
   },
   "outputs": [],
   "source": [
    "varnames = ['prot', 'cath', 'none', 'other']\n",
    "\n",
    "def create_relig_vars(df):\n",
    "    \"\"\"Creates columns for religious categories.\n",
    "    \n",
    "    df: DataFrame\n",
    "    \"\"\"\n",
    "    # the second line lumps \"Orthodox-Christian\" and \"Christian\" with Protestant\n",
    "    #df['prot'] = (df.relig==1)\n",
    "    df['prot'] = (df.relig.isin([1,10,11]))\n",
    "\n",
    "    df['cath'] = (df.relig==2)\n",
    "    df['none'] = (df.relig==4)\n",
    "    df['other'] = (df.relig.isin([3,5,6,7,8,9,12,13]))\n",
    "    \n",
    "    df['relig4'] = df.relig.copy()\n",
    "    df.relig4.replace([10, 11], 1, inplace=True)\n",
    "    df.relig4.replace([5,6,7,8,9,12,13], 3, inplace=True)\n",
    "\n",
    "    df.loc[df.relig.isnull(), varnames + ['relig4']] = np.nan\n",
    "    \n",
    "create_relig_vars(sample)"
   ]
  },
  {
   "cell_type": "code",
   "execution_count": null,
   "metadata": {
    "collapsed": false
   },
   "outputs": [],
   "source": []
  },
  {
   "cell_type": "markdown",
   "metadata": {},
   "source": [
    "Group by decade of birth and age group."
   ]
  },
  {
   "cell_type": "code",
   "execution_count": 23,
   "metadata": {
    "collapsed": true
   },
   "outputs": [],
   "source": [
    "grouped = sample.groupby(['cohort10', 'age_group'])"
   ]
  },
  {
   "cell_type": "markdown",
   "metadata": {},
   "source": [
    "Count the number of observations in each decade/age group."
   ]
  },
  {
   "cell_type": "code",
   "execution_count": 24,
   "metadata": {
    "collapsed": false
   },
   "outputs": [
    {
     "data": {
      "text/html": [
       "<div>\n",
       "<table border=\"1\" class=\"dataframe\">\n",
       "  <thead>\n",
       "    <tr style=\"text-align: right;\">\n",
       "      <th>age_group</th>\n",
       "      <th>17.5</th>\n",
       "      <th>22.5</th>\n",
       "      <th>27.5</th>\n",
       "      <th>32.5</th>\n",
       "      <th>37.5</th>\n",
       "      <th>42.5</th>\n",
       "      <th>47.5</th>\n",
       "      <th>52.5</th>\n",
       "      <th>57.5</th>\n",
       "      <th>62.5</th>\n",
       "      <th>67.5</th>\n",
       "      <th>72.5</th>\n",
       "      <th>77.5</th>\n",
       "      <th>82.5</th>\n",
       "      <th>87.5</th>\n",
       "    </tr>\n",
       "    <tr>\n",
       "      <th>cohort10</th>\n",
       "      <th></th>\n",
       "      <th></th>\n",
       "      <th></th>\n",
       "      <th></th>\n",
       "      <th></th>\n",
       "      <th></th>\n",
       "      <th></th>\n",
       "      <th></th>\n",
       "      <th></th>\n",
       "      <th></th>\n",
       "      <th></th>\n",
       "      <th></th>\n",
       "      <th></th>\n",
       "      <th></th>\n",
       "      <th></th>\n",
       "    </tr>\n",
       "  </thead>\n",
       "  <tbody>\n",
       "    <tr>\n",
       "      <th>1880.0</th>\n",
       "      <td>NaN</td>\n",
       "      <td>NaN</td>\n",
       "      <td>NaN</td>\n",
       "      <td>NaN</td>\n",
       "      <td>NaN</td>\n",
       "      <td>NaN</td>\n",
       "      <td>NaN</td>\n",
       "      <td>NaN</td>\n",
       "      <td>NaN</td>\n",
       "      <td>NaN</td>\n",
       "      <td>NaN</td>\n",
       "      <td>NaN</td>\n",
       "      <td>NaN</td>\n",
       "      <td>9.0</td>\n",
       "      <td>38.0</td>\n",
       "    </tr>\n",
       "    <tr>\n",
       "      <th>1890.0</th>\n",
       "      <td>NaN</td>\n",
       "      <td>NaN</td>\n",
       "      <td>NaN</td>\n",
       "      <td>NaN</td>\n",
       "      <td>NaN</td>\n",
       "      <td>NaN</td>\n",
       "      <td>NaN</td>\n",
       "      <td>NaN</td>\n",
       "      <td>NaN</td>\n",
       "      <td>NaN</td>\n",
       "      <td>NaN</td>\n",
       "      <td>50.0</td>\n",
       "      <td>191.0</td>\n",
       "      <td>134.0</td>\n",
       "      <td>96.0</td>\n",
       "    </tr>\n",
       "    <tr>\n",
       "      <th>1900.0</th>\n",
       "      <td>NaN</td>\n",
       "      <td>NaN</td>\n",
       "      <td>NaN</td>\n",
       "      <td>NaN</td>\n",
       "      <td>NaN</td>\n",
       "      <td>NaN</td>\n",
       "      <td>NaN</td>\n",
       "      <td>NaN</td>\n",
       "      <td>NaN</td>\n",
       "      <td>78.0</td>\n",
       "      <td>423.0</td>\n",
       "      <td>494.0</td>\n",
       "      <td>331.0</td>\n",
       "      <td>238.0</td>\n",
       "      <td>156.0</td>\n",
       "    </tr>\n",
       "    <tr>\n",
       "      <th>1910.0</th>\n",
       "      <td>NaN</td>\n",
       "      <td>NaN</td>\n",
       "      <td>NaN</td>\n",
       "      <td>NaN</td>\n",
       "      <td>NaN</td>\n",
       "      <td>NaN</td>\n",
       "      <td>NaN</td>\n",
       "      <td>87.0</td>\n",
       "      <td>582.0</td>\n",
       "      <td>741.0</td>\n",
       "      <td>677.0</td>\n",
       "      <td>646.0</td>\n",
       "      <td>424.0</td>\n",
       "      <td>227.0</td>\n",
       "      <td>172.0</td>\n",
       "    </tr>\n",
       "    <tr>\n",
       "      <th>1920.0</th>\n",
       "      <td>NaN</td>\n",
       "      <td>NaN</td>\n",
       "      <td>NaN</td>\n",
       "      <td>NaN</td>\n",
       "      <td>NaN</td>\n",
       "      <td>88.0</td>\n",
       "      <td>709.0</td>\n",
       "      <td>1005.0</td>\n",
       "      <td>967.0</td>\n",
       "      <td>900.0</td>\n",
       "      <td>724.0</td>\n",
       "      <td>582.0</td>\n",
       "      <td>371.0</td>\n",
       "      <td>274.0</td>\n",
       "      <td>158.0</td>\n",
       "    </tr>\n",
       "    <tr>\n",
       "      <th>1930.0</th>\n",
       "      <td>NaN</td>\n",
       "      <td>NaN</td>\n",
       "      <td>NaN</td>\n",
       "      <td>81.0</td>\n",
       "      <td>609.0</td>\n",
       "      <td>981.0</td>\n",
       "      <td>967.0</td>\n",
       "      <td>963.0</td>\n",
       "      <td>801.0</td>\n",
       "      <td>698.0</td>\n",
       "      <td>664.0</td>\n",
       "      <td>503.0</td>\n",
       "      <td>373.0</td>\n",
       "      <td>171.0</td>\n",
       "      <td>12.0</td>\n",
       "    </tr>\n",
       "    <tr>\n",
       "      <th>1940.0</th>\n",
       "      <td>NaN</td>\n",
       "      <td>123.0</td>\n",
       "      <td>862.0</td>\n",
       "      <td>1100.0</td>\n",
       "      <td>1144.0</td>\n",
       "      <td>1306.0</td>\n",
       "      <td>1405.0</td>\n",
       "      <td>1184.0</td>\n",
       "      <td>1075.0</td>\n",
       "      <td>948.0</td>\n",
       "      <td>648.0</td>\n",
       "      <td>339.0</td>\n",
       "      <td>35.0</td>\n",
       "      <td>NaN</td>\n",
       "      <td>NaN</td>\n",
       "    </tr>\n",
       "    <tr>\n",
       "      <th>1950.0</th>\n",
       "      <td>357.0</td>\n",
       "      <td>1511.0</td>\n",
       "      <td>1602.0</td>\n",
       "      <td>1613.0</td>\n",
       "      <td>1610.0</td>\n",
       "      <td>1680.0</td>\n",
       "      <td>1592.0</td>\n",
       "      <td>1305.0</td>\n",
       "      <td>1097.0</td>\n",
       "      <td>539.0</td>\n",
       "      <td>75.0</td>\n",
       "      <td>NaN</td>\n",
       "      <td>NaN</td>\n",
       "      <td>NaN</td>\n",
       "      <td>NaN</td>\n",
       "    </tr>\n",
       "    <tr>\n",
       "      <th>1960.0</th>\n",
       "      <td>302.0</td>\n",
       "      <td>1593.0</td>\n",
       "      <td>1595.0</td>\n",
       "      <td>1620.0</td>\n",
       "      <td>1578.0</td>\n",
       "      <td>1489.0</td>\n",
       "      <td>1068.0</td>\n",
       "      <td>713.0</td>\n",
       "      <td>75.0</td>\n",
       "      <td>NaN</td>\n",
       "      <td>NaN</td>\n",
       "      <td>NaN</td>\n",
       "      <td>NaN</td>\n",
       "      <td>NaN</td>\n",
       "      <td>NaN</td>\n",
       "    </tr>\n",
       "    <tr>\n",
       "      <th>1970.0</th>\n",
       "      <td>302.0</td>\n",
       "      <td>1366.0</td>\n",
       "      <td>1511.0</td>\n",
       "      <td>1296.0</td>\n",
       "      <td>1075.0</td>\n",
       "      <td>609.0</td>\n",
       "      <td>85.0</td>\n",
       "      <td>NaN</td>\n",
       "      <td>NaN</td>\n",
       "      <td>NaN</td>\n",
       "      <td>NaN</td>\n",
       "      <td>NaN</td>\n",
       "      <td>NaN</td>\n",
       "      <td>NaN</td>\n",
       "      <td>NaN</td>\n",
       "    </tr>\n",
       "    <tr>\n",
       "      <th>1980.0</th>\n",
       "      <td>311.0</td>\n",
       "      <td>1134.0</td>\n",
       "      <td>1070.0</td>\n",
       "      <td>686.0</td>\n",
       "      <td>111.0</td>\n",
       "      <td>NaN</td>\n",
       "      <td>NaN</td>\n",
       "      <td>NaN</td>\n",
       "      <td>NaN</td>\n",
       "      <td>NaN</td>\n",
       "      <td>NaN</td>\n",
       "      <td>NaN</td>\n",
       "      <td>NaN</td>\n",
       "      <td>NaN</td>\n",
       "      <td>NaN</td>\n",
       "    </tr>\n",
       "    <tr>\n",
       "      <th>1990.0</th>\n",
       "      <td>227.0</td>\n",
       "      <td>534.0</td>\n",
       "      <td>100.0</td>\n",
       "      <td>NaN</td>\n",
       "      <td>NaN</td>\n",
       "      <td>NaN</td>\n",
       "      <td>NaN</td>\n",
       "      <td>NaN</td>\n",
       "      <td>NaN</td>\n",
       "      <td>NaN</td>\n",
       "      <td>NaN</td>\n",
       "      <td>NaN</td>\n",
       "      <td>NaN</td>\n",
       "      <td>NaN</td>\n",
       "      <td>NaN</td>\n",
       "    </tr>\n",
       "  </tbody>\n",
       "</table>\n",
       "</div>"
      ],
      "text/plain": [
       "age_group   17.5    22.5    27.5    32.5    37.5    42.5    47.5    52.5  \\\n",
       "cohort10                                                                   \n",
       "1880.0       NaN     NaN     NaN     NaN     NaN     NaN     NaN     NaN   \n",
       "1890.0       NaN     NaN     NaN     NaN     NaN     NaN     NaN     NaN   \n",
       "1900.0       NaN     NaN     NaN     NaN     NaN     NaN     NaN     NaN   \n",
       "1910.0       NaN     NaN     NaN     NaN     NaN     NaN     NaN    87.0   \n",
       "1920.0       NaN     NaN     NaN     NaN     NaN    88.0   709.0  1005.0   \n",
       "1930.0       NaN     NaN     NaN    81.0   609.0   981.0   967.0   963.0   \n",
       "1940.0       NaN   123.0   862.0  1100.0  1144.0  1306.0  1405.0  1184.0   \n",
       "1950.0     357.0  1511.0  1602.0  1613.0  1610.0  1680.0  1592.0  1305.0   \n",
       "1960.0     302.0  1593.0  1595.0  1620.0  1578.0  1489.0  1068.0   713.0   \n",
       "1970.0     302.0  1366.0  1511.0  1296.0  1075.0   609.0    85.0     NaN   \n",
       "1980.0     311.0  1134.0  1070.0   686.0   111.0     NaN     NaN     NaN   \n",
       "1990.0     227.0   534.0   100.0     NaN     NaN     NaN     NaN     NaN   \n",
       "\n",
       "age_group    57.5   62.5   67.5   72.5   77.5   82.5   87.5  \n",
       "cohort10                                                     \n",
       "1880.0        NaN    NaN    NaN    NaN    NaN    9.0   38.0  \n",
       "1890.0        NaN    NaN    NaN   50.0  191.0  134.0   96.0  \n",
       "1900.0        NaN   78.0  423.0  494.0  331.0  238.0  156.0  \n",
       "1910.0      582.0  741.0  677.0  646.0  424.0  227.0  172.0  \n",
       "1920.0      967.0  900.0  724.0  582.0  371.0  274.0  158.0  \n",
       "1930.0      801.0  698.0  664.0  503.0  373.0  171.0   12.0  \n",
       "1940.0     1075.0  948.0  648.0  339.0   35.0    NaN    NaN  \n",
       "1950.0     1097.0  539.0   75.0    NaN    NaN    NaN    NaN  \n",
       "1960.0       75.0    NaN    NaN    NaN    NaN    NaN    NaN  \n",
       "1970.0        NaN    NaN    NaN    NaN    NaN    NaN    NaN  \n",
       "1980.0        NaN    NaN    NaN    NaN    NaN    NaN    NaN  \n",
       "1990.0        NaN    NaN    NaN    NaN    NaN    NaN    NaN  "
      ]
     },
     "execution_count": 24,
     "metadata": {},
     "output_type": "execute_result"
    }
   ],
   "source": [
    "counts = grouped.none.count().unstack()\n",
    "counts"
   ]
  },
  {
   "cell_type": "markdown",
   "metadata": {},
   "source": [
    "Compute the percentage of Nones in each group."
   ]
  },
  {
   "cell_type": "code",
   "execution_count": 25,
   "metadata": {
    "collapsed": false
   },
   "outputs": [
    {
     "data": {
      "text/html": [
       "<div>\n",
       "<table border=\"1\" class=\"dataframe\">\n",
       "  <thead>\n",
       "    <tr style=\"text-align: right;\">\n",
       "      <th>age_group</th>\n",
       "      <th>17.5</th>\n",
       "      <th>22.5</th>\n",
       "      <th>27.5</th>\n",
       "      <th>32.5</th>\n",
       "      <th>37.5</th>\n",
       "      <th>42.5</th>\n",
       "      <th>47.5</th>\n",
       "      <th>52.5</th>\n",
       "      <th>57.5</th>\n",
       "      <th>62.5</th>\n",
       "      <th>67.5</th>\n",
       "      <th>72.5</th>\n",
       "      <th>77.5</th>\n",
       "      <th>82.5</th>\n",
       "      <th>87.5</th>\n",
       "    </tr>\n",
       "    <tr>\n",
       "      <th>cohort10</th>\n",
       "      <th></th>\n",
       "      <th></th>\n",
       "      <th></th>\n",
       "      <th></th>\n",
       "      <th></th>\n",
       "      <th></th>\n",
       "      <th></th>\n",
       "      <th></th>\n",
       "      <th></th>\n",
       "      <th></th>\n",
       "      <th></th>\n",
       "      <th></th>\n",
       "      <th></th>\n",
       "      <th></th>\n",
       "      <th></th>\n",
       "    </tr>\n",
       "  </thead>\n",
       "  <tbody>\n",
       "    <tr>\n",
       "      <th>1880.0</th>\n",
       "      <td>NaN</td>\n",
       "      <td>NaN</td>\n",
       "      <td>NaN</td>\n",
       "      <td>NaN</td>\n",
       "      <td>NaN</td>\n",
       "      <td>NaN</td>\n",
       "      <td>NaN</td>\n",
       "      <td>NaN</td>\n",
       "      <td>NaN</td>\n",
       "      <td>NaN</td>\n",
       "      <td>NaN</td>\n",
       "      <td>NaN</td>\n",
       "      <td>NaN</td>\n",
       "      <td>0.222222</td>\n",
       "      <td>0.000000</td>\n",
       "    </tr>\n",
       "    <tr>\n",
       "      <th>1890.0</th>\n",
       "      <td>NaN</td>\n",
       "      <td>NaN</td>\n",
       "      <td>NaN</td>\n",
       "      <td>NaN</td>\n",
       "      <td>NaN</td>\n",
       "      <td>NaN</td>\n",
       "      <td>NaN</td>\n",
       "      <td>NaN</td>\n",
       "      <td>NaN</td>\n",
       "      <td>NaN</td>\n",
       "      <td>NaN</td>\n",
       "      <td>0.000000</td>\n",
       "      <td>0.047120</td>\n",
       "      <td>0.007463</td>\n",
       "      <td>0.020833</td>\n",
       "    </tr>\n",
       "    <tr>\n",
       "      <th>1900.0</th>\n",
       "      <td>NaN</td>\n",
       "      <td>NaN</td>\n",
       "      <td>NaN</td>\n",
       "      <td>NaN</td>\n",
       "      <td>NaN</td>\n",
       "      <td>NaN</td>\n",
       "      <td>NaN</td>\n",
       "      <td>NaN</td>\n",
       "      <td>NaN</td>\n",
       "      <td>0.000000</td>\n",
       "      <td>0.052009</td>\n",
       "      <td>0.036437</td>\n",
       "      <td>0.015106</td>\n",
       "      <td>0.033613</td>\n",
       "      <td>0.032051</td>\n",
       "    </tr>\n",
       "    <tr>\n",
       "      <th>1910.0</th>\n",
       "      <td>NaN</td>\n",
       "      <td>NaN</td>\n",
       "      <td>NaN</td>\n",
       "      <td>NaN</td>\n",
       "      <td>NaN</td>\n",
       "      <td>NaN</td>\n",
       "      <td>NaN</td>\n",
       "      <td>0.080460</td>\n",
       "      <td>0.027491</td>\n",
       "      <td>0.045884</td>\n",
       "      <td>0.026588</td>\n",
       "      <td>0.026316</td>\n",
       "      <td>0.033019</td>\n",
       "      <td>0.039648</td>\n",
       "      <td>0.075581</td>\n",
       "    </tr>\n",
       "    <tr>\n",
       "      <th>1920.0</th>\n",
       "      <td>NaN</td>\n",
       "      <td>NaN</td>\n",
       "      <td>NaN</td>\n",
       "      <td>NaN</td>\n",
       "      <td>NaN</td>\n",
       "      <td>0.034091</td>\n",
       "      <td>0.040903</td>\n",
       "      <td>0.019900</td>\n",
       "      <td>0.034126</td>\n",
       "      <td>0.024444</td>\n",
       "      <td>0.046961</td>\n",
       "      <td>0.039519</td>\n",
       "      <td>0.061995</td>\n",
       "      <td>0.058394</td>\n",
       "      <td>0.088608</td>\n",
       "    </tr>\n",
       "    <tr>\n",
       "      <th>1930.0</th>\n",
       "      <td>NaN</td>\n",
       "      <td>NaN</td>\n",
       "      <td>NaN</td>\n",
       "      <td>0.061728</td>\n",
       "      <td>0.055829</td>\n",
       "      <td>0.040775</td>\n",
       "      <td>0.044467</td>\n",
       "      <td>0.046729</td>\n",
       "      <td>0.036205</td>\n",
       "      <td>0.041547</td>\n",
       "      <td>0.073795</td>\n",
       "      <td>0.075547</td>\n",
       "      <td>0.061662</td>\n",
       "      <td>0.093567</td>\n",
       "      <td>0.333333</td>\n",
       "    </tr>\n",
       "    <tr>\n",
       "      <th>1940.0</th>\n",
       "      <td>NaN</td>\n",
       "      <td>0.211382</td>\n",
       "      <td>0.093968</td>\n",
       "      <td>0.085455</td>\n",
       "      <td>0.096154</td>\n",
       "      <td>0.067381</td>\n",
       "      <td>0.081139</td>\n",
       "      <td>0.082770</td>\n",
       "      <td>0.097674</td>\n",
       "      <td>0.094937</td>\n",
       "      <td>0.128086</td>\n",
       "      <td>0.064897</td>\n",
       "      <td>0.028571</td>\n",
       "      <td>NaN</td>\n",
       "      <td>NaN</td>\n",
       "    </tr>\n",
       "    <tr>\n",
       "      <th>1950.0</th>\n",
       "      <td>0.109244</td>\n",
       "      <td>0.114494</td>\n",
       "      <td>0.134831</td>\n",
       "      <td>0.096094</td>\n",
       "      <td>0.105590</td>\n",
       "      <td>0.119048</td>\n",
       "      <td>0.144472</td>\n",
       "      <td>0.132567</td>\n",
       "      <td>0.134913</td>\n",
       "      <td>0.159555</td>\n",
       "      <td>0.066667</td>\n",
       "      <td>NaN</td>\n",
       "      <td>NaN</td>\n",
       "      <td>NaN</td>\n",
       "      <td>NaN</td>\n",
       "    </tr>\n",
       "    <tr>\n",
       "      <th>1960.0</th>\n",
       "      <td>0.129139</td>\n",
       "      <td>0.132454</td>\n",
       "      <td>0.120376</td>\n",
       "      <td>0.141358</td>\n",
       "      <td>0.155260</td>\n",
       "      <td>0.134318</td>\n",
       "      <td>0.190075</td>\n",
       "      <td>0.208976</td>\n",
       "      <td>0.173333</td>\n",
       "      <td>NaN</td>\n",
       "      <td>NaN</td>\n",
       "      <td>NaN</td>\n",
       "      <td>NaN</td>\n",
       "      <td>NaN</td>\n",
       "      <td>NaN</td>\n",
       "    </tr>\n",
       "    <tr>\n",
       "      <th>1970.0</th>\n",
       "      <td>0.139073</td>\n",
       "      <td>0.189605</td>\n",
       "      <td>0.199206</td>\n",
       "      <td>0.224537</td>\n",
       "      <td>0.224186</td>\n",
       "      <td>0.249589</td>\n",
       "      <td>0.141176</td>\n",
       "      <td>NaN</td>\n",
       "      <td>NaN</td>\n",
       "      <td>NaN</td>\n",
       "      <td>NaN</td>\n",
       "      <td>NaN</td>\n",
       "      <td>NaN</td>\n",
       "      <td>NaN</td>\n",
       "      <td>NaN</td>\n",
       "    </tr>\n",
       "    <tr>\n",
       "      <th>1980.0</th>\n",
       "      <td>0.228296</td>\n",
       "      <td>0.283069</td>\n",
       "      <td>0.286916</td>\n",
       "      <td>0.314869</td>\n",
       "      <td>0.315315</td>\n",
       "      <td>NaN</td>\n",
       "      <td>NaN</td>\n",
       "      <td>NaN</td>\n",
       "      <td>NaN</td>\n",
       "      <td>NaN</td>\n",
       "      <td>NaN</td>\n",
       "      <td>NaN</td>\n",
       "      <td>NaN</td>\n",
       "      <td>NaN</td>\n",
       "      <td>NaN</td>\n",
       "    </tr>\n",
       "    <tr>\n",
       "      <th>1990.0</th>\n",
       "      <td>0.308370</td>\n",
       "      <td>0.342697</td>\n",
       "      <td>0.380000</td>\n",
       "      <td>NaN</td>\n",
       "      <td>NaN</td>\n",
       "      <td>NaN</td>\n",
       "      <td>NaN</td>\n",
       "      <td>NaN</td>\n",
       "      <td>NaN</td>\n",
       "      <td>NaN</td>\n",
       "      <td>NaN</td>\n",
       "      <td>NaN</td>\n",
       "      <td>NaN</td>\n",
       "      <td>NaN</td>\n",
       "      <td>NaN</td>\n",
       "    </tr>\n",
       "  </tbody>\n",
       "</table>\n",
       "</div>"
      ],
      "text/plain": [
       "age_group      17.5      22.5      27.5      32.5      37.5      42.5  \\\n",
       "cohort10                                                                \n",
       "1880.0          NaN       NaN       NaN       NaN       NaN       NaN   \n",
       "1890.0          NaN       NaN       NaN       NaN       NaN       NaN   \n",
       "1900.0          NaN       NaN       NaN       NaN       NaN       NaN   \n",
       "1910.0          NaN       NaN       NaN       NaN       NaN       NaN   \n",
       "1920.0          NaN       NaN       NaN       NaN       NaN  0.034091   \n",
       "1930.0          NaN       NaN       NaN  0.061728  0.055829  0.040775   \n",
       "1940.0          NaN  0.211382  0.093968  0.085455  0.096154  0.067381   \n",
       "1950.0     0.109244  0.114494  0.134831  0.096094  0.105590  0.119048   \n",
       "1960.0     0.129139  0.132454  0.120376  0.141358  0.155260  0.134318   \n",
       "1970.0     0.139073  0.189605  0.199206  0.224537  0.224186  0.249589   \n",
       "1980.0     0.228296  0.283069  0.286916  0.314869  0.315315       NaN   \n",
       "1990.0     0.308370  0.342697  0.380000       NaN       NaN       NaN   \n",
       "\n",
       "age_group      47.5      52.5      57.5      62.5      67.5      72.5  \\\n",
       "cohort10                                                                \n",
       "1880.0          NaN       NaN       NaN       NaN       NaN       NaN   \n",
       "1890.0          NaN       NaN       NaN       NaN       NaN  0.000000   \n",
       "1900.0          NaN       NaN       NaN  0.000000  0.052009  0.036437   \n",
       "1910.0          NaN  0.080460  0.027491  0.045884  0.026588  0.026316   \n",
       "1920.0     0.040903  0.019900  0.034126  0.024444  0.046961  0.039519   \n",
       "1930.0     0.044467  0.046729  0.036205  0.041547  0.073795  0.075547   \n",
       "1940.0     0.081139  0.082770  0.097674  0.094937  0.128086  0.064897   \n",
       "1950.0     0.144472  0.132567  0.134913  0.159555  0.066667       NaN   \n",
       "1960.0     0.190075  0.208976  0.173333       NaN       NaN       NaN   \n",
       "1970.0     0.141176       NaN       NaN       NaN       NaN       NaN   \n",
       "1980.0          NaN       NaN       NaN       NaN       NaN       NaN   \n",
       "1990.0          NaN       NaN       NaN       NaN       NaN       NaN   \n",
       "\n",
       "age_group      77.5      82.5      87.5  \n",
       "cohort10                                 \n",
       "1880.0          NaN  0.222222  0.000000  \n",
       "1890.0     0.047120  0.007463  0.020833  \n",
       "1900.0     0.015106  0.033613  0.032051  \n",
       "1910.0     0.033019  0.039648  0.075581  \n",
       "1920.0     0.061995  0.058394  0.088608  \n",
       "1930.0     0.061662  0.093567  0.333333  \n",
       "1940.0     0.028571       NaN       NaN  \n",
       "1950.0          NaN       NaN       NaN  \n",
       "1960.0          NaN       NaN       NaN  \n",
       "1970.0          NaN       NaN       NaN  \n",
       "1980.0          NaN       NaN       NaN  \n",
       "1990.0          NaN       NaN       NaN  "
      ]
     },
     "execution_count": 25,
     "metadata": {},
     "output_type": "execute_result"
    }
   ],
   "source": [
    "percent_none = grouped.none.mean().unstack()\n",
    "percent_none"
   ]
  },
  {
   "cell_type": "markdown",
   "metadata": {},
   "source": [
    "Drop cells where we have fewer than 50 observations."
   ]
  },
  {
   "cell_type": "code",
   "execution_count": 26,
   "metadata": {
    "collapsed": true
   },
   "outputs": [],
   "source": [
    "percent_none[counts < 50] = np.nan"
   ]
  },
  {
   "cell_type": "markdown",
   "metadata": {},
   "source": [
    "Select rows for people born in the 1930s through 1980s."
   ]
  },
  {
   "cell_type": "code",
   "execution_count": 27,
   "metadata": {
    "collapsed": false
   },
   "outputs": [
    {
     "data": {
      "text/html": [
       "<div>\n",
       "<table border=\"1\" class=\"dataframe\">\n",
       "  <thead>\n",
       "    <tr style=\"text-align: right;\">\n",
       "      <th>age_group</th>\n",
       "      <th>17.5</th>\n",
       "      <th>22.5</th>\n",
       "      <th>27.5</th>\n",
       "      <th>32.5</th>\n",
       "      <th>37.5</th>\n",
       "      <th>42.5</th>\n",
       "      <th>47.5</th>\n",
       "      <th>52.5</th>\n",
       "      <th>57.5</th>\n",
       "      <th>62.5</th>\n",
       "      <th>67.5</th>\n",
       "      <th>72.5</th>\n",
       "      <th>77.5</th>\n",
       "      <th>82.5</th>\n",
       "      <th>87.5</th>\n",
       "    </tr>\n",
       "    <tr>\n",
       "      <th>cohort10</th>\n",
       "      <th></th>\n",
       "      <th></th>\n",
       "      <th></th>\n",
       "      <th></th>\n",
       "      <th></th>\n",
       "      <th></th>\n",
       "      <th></th>\n",
       "      <th></th>\n",
       "      <th></th>\n",
       "      <th></th>\n",
       "      <th></th>\n",
       "      <th></th>\n",
       "      <th></th>\n",
       "      <th></th>\n",
       "      <th></th>\n",
       "    </tr>\n",
       "  </thead>\n",
       "  <tbody>\n",
       "    <tr>\n",
       "      <th>1930.0</th>\n",
       "      <td>NaN</td>\n",
       "      <td>NaN</td>\n",
       "      <td>NaN</td>\n",
       "      <td>0.061728</td>\n",
       "      <td>0.055829</td>\n",
       "      <td>0.040775</td>\n",
       "      <td>0.044467</td>\n",
       "      <td>0.046729</td>\n",
       "      <td>0.036205</td>\n",
       "      <td>0.041547</td>\n",
       "      <td>0.073795</td>\n",
       "      <td>0.075547</td>\n",
       "      <td>0.061662</td>\n",
       "      <td>0.093567</td>\n",
       "      <td>NaN</td>\n",
       "    </tr>\n",
       "    <tr>\n",
       "      <th>1940.0</th>\n",
       "      <td>NaN</td>\n",
       "      <td>0.211382</td>\n",
       "      <td>0.093968</td>\n",
       "      <td>0.085455</td>\n",
       "      <td>0.096154</td>\n",
       "      <td>0.067381</td>\n",
       "      <td>0.081139</td>\n",
       "      <td>0.082770</td>\n",
       "      <td>0.097674</td>\n",
       "      <td>0.094937</td>\n",
       "      <td>0.128086</td>\n",
       "      <td>0.064897</td>\n",
       "      <td>NaN</td>\n",
       "      <td>NaN</td>\n",
       "      <td>NaN</td>\n",
       "    </tr>\n",
       "    <tr>\n",
       "      <th>1950.0</th>\n",
       "      <td>0.109244</td>\n",
       "      <td>0.114494</td>\n",
       "      <td>0.134831</td>\n",
       "      <td>0.096094</td>\n",
       "      <td>0.105590</td>\n",
       "      <td>0.119048</td>\n",
       "      <td>0.144472</td>\n",
       "      <td>0.132567</td>\n",
       "      <td>0.134913</td>\n",
       "      <td>0.159555</td>\n",
       "      <td>0.066667</td>\n",
       "      <td>NaN</td>\n",
       "      <td>NaN</td>\n",
       "      <td>NaN</td>\n",
       "      <td>NaN</td>\n",
       "    </tr>\n",
       "    <tr>\n",
       "      <th>1960.0</th>\n",
       "      <td>0.129139</td>\n",
       "      <td>0.132454</td>\n",
       "      <td>0.120376</td>\n",
       "      <td>0.141358</td>\n",
       "      <td>0.155260</td>\n",
       "      <td>0.134318</td>\n",
       "      <td>0.190075</td>\n",
       "      <td>0.208976</td>\n",
       "      <td>0.173333</td>\n",
       "      <td>NaN</td>\n",
       "      <td>NaN</td>\n",
       "      <td>NaN</td>\n",
       "      <td>NaN</td>\n",
       "      <td>NaN</td>\n",
       "      <td>NaN</td>\n",
       "    </tr>\n",
       "    <tr>\n",
       "      <th>1970.0</th>\n",
       "      <td>0.139073</td>\n",
       "      <td>0.189605</td>\n",
       "      <td>0.199206</td>\n",
       "      <td>0.224537</td>\n",
       "      <td>0.224186</td>\n",
       "      <td>0.249589</td>\n",
       "      <td>0.141176</td>\n",
       "      <td>NaN</td>\n",
       "      <td>NaN</td>\n",
       "      <td>NaN</td>\n",
       "      <td>NaN</td>\n",
       "      <td>NaN</td>\n",
       "      <td>NaN</td>\n",
       "      <td>NaN</td>\n",
       "      <td>NaN</td>\n",
       "    </tr>\n",
       "    <tr>\n",
       "      <th>1980.0</th>\n",
       "      <td>0.228296</td>\n",
       "      <td>0.283069</td>\n",
       "      <td>0.286916</td>\n",
       "      <td>0.314869</td>\n",
       "      <td>0.315315</td>\n",
       "      <td>NaN</td>\n",
       "      <td>NaN</td>\n",
       "      <td>NaN</td>\n",
       "      <td>NaN</td>\n",
       "      <td>NaN</td>\n",
       "      <td>NaN</td>\n",
       "      <td>NaN</td>\n",
       "      <td>NaN</td>\n",
       "      <td>NaN</td>\n",
       "      <td>NaN</td>\n",
       "    </tr>\n",
       "  </tbody>\n",
       "</table>\n",
       "</div>"
      ],
      "text/plain": [
       "age_group      17.5      22.5      27.5      32.5      37.5      42.5  \\\n",
       "cohort10                                                                \n",
       "1930.0          NaN       NaN       NaN  0.061728  0.055829  0.040775   \n",
       "1940.0          NaN  0.211382  0.093968  0.085455  0.096154  0.067381   \n",
       "1950.0     0.109244  0.114494  0.134831  0.096094  0.105590  0.119048   \n",
       "1960.0     0.129139  0.132454  0.120376  0.141358  0.155260  0.134318   \n",
       "1970.0     0.139073  0.189605  0.199206  0.224537  0.224186  0.249589   \n",
       "1980.0     0.228296  0.283069  0.286916  0.314869  0.315315       NaN   \n",
       "\n",
       "age_group      47.5      52.5      57.5      62.5      67.5      72.5  \\\n",
       "cohort10                                                                \n",
       "1930.0     0.044467  0.046729  0.036205  0.041547  0.073795  0.075547   \n",
       "1940.0     0.081139  0.082770  0.097674  0.094937  0.128086  0.064897   \n",
       "1950.0     0.144472  0.132567  0.134913  0.159555  0.066667       NaN   \n",
       "1960.0     0.190075  0.208976  0.173333       NaN       NaN       NaN   \n",
       "1970.0     0.141176       NaN       NaN       NaN       NaN       NaN   \n",
       "1980.0          NaN       NaN       NaN       NaN       NaN       NaN   \n",
       "\n",
       "age_group      77.5      82.5  87.5  \n",
       "cohort10                             \n",
       "1930.0     0.061662  0.093567   NaN  \n",
       "1940.0          NaN       NaN   NaN  \n",
       "1950.0          NaN       NaN   NaN  \n",
       "1960.0          NaN       NaN   NaN  \n",
       "1970.0          NaN       NaN   NaN  \n",
       "1980.0          NaN       NaN   NaN  "
      ]
     },
     "execution_count": 27,
     "metadata": {},
     "output_type": "execute_result"
    }
   ],
   "source": [
    "decades = np.linspace(1930, 1980, 6, endpoint=True)\n",
    "percent_none.loc[decades]"
   ]
  },
  {
   "cell_type": "markdown",
   "metadata": {},
   "source": [
    "Choose some colors."
   ]
  },
  {
   "cell_type": "code",
   "execution_count": 28,
   "metadata": {
    "collapsed": false
   },
   "outputs": [
    {
     "data": {
      "image/png": "[encoded data removed]",
      "text/plain": [
       "<matplotlib.figure.Figure at 0x7f5bb7971ad0>"
      ]
     },
     "metadata": {},
     "output_type": "display_data"
    }
   ],
   "source": [
    "colors = sns.color_palette()\n",
    "sns.palplot(colors)"
   ]
  },
  {
   "cell_type": "markdown",
   "metadata": {},
   "source": [
    "For each birth cohort, plot the percentage of Nones as a function of age."
   ]
  },
  {
   "cell_type": "code",
   "execution_count": 29,
   "metadata": {
    "collapsed": false
   },
   "outputs": [
    {
     "data": {
      "image/png": "[encoded data removed]",
      "text/plain": [
       "<matplotlib.figure.Figure at 0x7f5bb79b4710>"
      ]
     },
     "metadata": {},
     "output_type": "display_data"
    }
   ],
   "source": [
    "options = dict(alpha=1)\n",
    "\n",
    "thinkplot.preplot(6)\n",
    "thinkplot.plot(percent_none.loc[1980], label='80s', color=colors[0], **options)\n",
    "thinkplot.plot(percent_none.loc[1970], label='70s', color=colors[1], **options)\n",
    "thinkplot.plot(percent_none.loc[1960], label='60s', color=colors[2], **options)\n",
    "thinkplot.plot(percent_none.loc[1950], label='50s', color=colors[3], **options)\n",
    "thinkplot.plot(percent_none.loc[1940], label='40s', color=colors[4], **options)\n",
    "thinkplot.plot(percent_none.loc[1930], label='30s', color=colors[5], **options)\n",
    "\n",
    "xlabel = 'Age group'\n",
    "ylabel = 'Fraction with no affiliation'\n",
    "axis = [13, 85, 0, 0.32]\n",
    "\n",
    "thinkplot.config(xlabel=xlabel, ylabel=ylabel, axis=axis, legend=True)\n",
    "plt.gca().get_legend().set(title='Decade born');"
   ]
  },
  {
   "cell_type": "markdown",
   "metadata": {},
   "source": [
    "Same as the previous, but as a multi-plot."
   ]
  },
  {
   "cell_type": "code",
   "execution_count": 30,
   "metadata": {
    "collapsed": false
   },
   "outputs": [
    {
     "data": {
      "image/png": "[encoded data removed]",
      "text/plain": [
       "<matplotlib.figure.Figure at 0x7f5bb7005b90>"
      ]
     },
     "metadata": {},
     "output_type": "display_data"
    }
   ],
   "source": [
    "thinkplot.preplot(num=6, rows=2, cols=3)\n",
    "thinkplot.subplot(1)\n",
    "thinkplot.plot(percent_none.loc[1980], label='80s', color=colors[0], **options)\n",
    "thinkplot.config(ylabel=ylabel, axis=axis)\n",
    "\n",
    "thinkplot.subplot(2)\n",
    "thinkplot.plot(percent_none.loc[1970], label='70s', color=colors[1], **options)\n",
    "thinkplot.config(axis=axis)\n",
    "\n",
    "thinkplot.subplot(3)\n",
    "thinkplot.plot(percent_none.loc[1960], label='60s', color=colors[2], **options)\n",
    "thinkplot.config(axis=axis)\n",
    "\n",
    "thinkplot.subplot(4)\n",
    "thinkplot.plot(percent_none.loc[1950], label='50s')\n",
    "thinkplot.config(xlabel=xlabel, ylabel=ylabel, axis=axis, color=colors[3], **options)\n",
    "\n",
    "thinkplot.subplot(5)\n",
    "thinkplot.plot(percent_none.loc[1940], label='40s', color=colors[4], **options)\n",
    "thinkplot.config(xlabel=xlabel, axis=axis)\n",
    "\n",
    "thinkplot.subplot(6)\n",
    "thinkplot.plot(percent_none.loc[1930], label='30s', color=colors[5], **options)\n",
    "thinkplot.config(xlabel=xlabel, axis=axis)"
   ]
  },
  {
   "cell_type": "code",
   "execution_count": null,
   "metadata": {
    "collapsed": true
   },
   "outputs": [],
   "source": []
  },
  {
   "cell_type": "code",
   "execution_count": 31,
   "metadata": {
    "collapsed": false
   },
   "outputs": [],
   "source": [
    "def center_factors(df):\n",
    "    \"\"\"Center factors around their means.\n",
    "    \n",
    "    df: DataFrame\n",
    "    \"\"\"\n",
    "    df['cohort66'] = df.cohort - 1966\n",
    "    df['cohort662'] = df.cohort66**2 / 1966\n",
    "    df['age47'] = df.age - 47\n",
    "    df['age472'] = df.age47**2 / 47"
   ]
  },
  {
   "cell_type": "code",
   "execution_count": 32,
   "metadata": {
    "collapsed": true
   },
   "outputs": [],
   "source": [
    "center_factors(sample)"
   ]
  },
  {
   "cell_type": "code",
   "execution_count": 33,
   "metadata": {
    "collapsed": false
   },
   "outputs": [
    {
     "name": "stdout",
     "output_type": "stream",
     "text": [
      "Optimization terminated successfully.\n",
      "         Current function value: 0.665331\n",
      "         Iterations 5\n"
     ]
    },
    {
     "data": {
      "text/html": [
       "<table class=\"simpletable\">\n",
       "<caption>Logit Regression Results</caption>\n",
       "<tr>\n",
       "  <th>Dep. Variable:</th>       <td>prot</td>       <th>  No. Observations:  </th>  <td> 61995</td> \n",
       "</tr>\n",
       "<tr>\n",
       "  <th>Model:</th>               <td>Logit</td>      <th>  Df Residuals:      </th>  <td> 61990</td> \n",
       "</tr>\n",
       "<tr>\n",
       "  <th>Method:</th>               <td>MLE</td>       <th>  Df Model:          </th>  <td>     4</td> \n",
       "</tr>\n",
       "<tr>\n",
       "  <th>Date:</th>          <td>Fri, 26 May 2017</td> <th>  Pseudo R-squ.:     </th>  <td>0.02135</td>\n",
       "</tr>\n",
       "<tr>\n",
       "  <th>Time:</th>              <td>15:59:12</td>     <th>  Log-Likelihood:    </th> <td> -41247.</td>\n",
       "</tr>\n",
       "<tr>\n",
       "  <th>converged:</th>           <td>True</td>       <th>  LL-Null:           </th> <td> -42147.</td>\n",
       "</tr>\n",
       "<tr>\n",
       "  <th> </th>                      <td> </td>        <th>  LLR p-value:       </th>  <td> 0.000</td> \n",
       "</tr>\n",
       "</table>\n",
       "<table class=\"simpletable\">\n",
       "<tr>\n",
       "      <td></td>         <th>coef</th>     <th>std err</th>      <th>z</th>      <th>P>|z|</th>  <th>[0.025</th>    <th>0.975]</th>  \n",
       "</tr>\n",
       "<tr>\n",
       "  <th>Intercept</th> <td>    0.0599</td> <td>    0.016</td> <td>    3.644</td> <td> 0.000</td> <td>    0.028</td> <td>    0.092</td>\n",
       "</tr>\n",
       "<tr>\n",
       "  <th>cohort66</th>  <td>   -0.0201</td> <td>    0.001</td> <td>  -22.757</td> <td> 0.000</td> <td>   -0.022</td> <td>   -0.018</td>\n",
       "</tr>\n",
       "<tr>\n",
       "  <th>cohort662</th> <td>   -0.1284</td> <td>    0.036</td> <td>   -3.542</td> <td> 0.000</td> <td>   -0.200</td> <td>   -0.057</td>\n",
       "</tr>\n",
       "<tr>\n",
       "  <th>age47</th>     <td>   -0.0011</td> <td>    0.001</td> <td>   -1.386</td> <td> 0.166</td> <td>   -0.003</td> <td>    0.000</td>\n",
       "</tr>\n",
       "<tr>\n",
       "  <th>age472</th>    <td>   -0.0018</td> <td>    0.001</td> <td>   -1.219</td> <td> 0.223</td> <td>   -0.005</td> <td>    0.001</td>\n",
       "</tr>\n",
       "</table>"
      ],
      "text/plain": [
       "<class 'statsmodels.iolib.summary.Summary'>\n",
       "\"\"\"\n",
       "                           Logit Regression Results                           \n",
       "==============================================================================\n",
       "Dep. Variable:                   prot   No. Observations:                61995\n",
       "Model:                          Logit   Df Residuals:                    61990\n",
       "Method:                           MLE   Df Model:                            4\n",
       "Date:                Fri, 26 May 2017   Pseudo R-squ.:                 0.02135\n",
       "Time:                        15:59:12   Log-Likelihood:                -41247.\n",
       "converged:                       True   LL-Null:                       -42147.\n",
       "                                        LLR p-value:                     0.000\n",
       "==============================================================================\n",
       "                 coef    std err          z      P>|z|      [0.025      0.975]\n",
       "------------------------------------------------------------------------------\n",
       "Intercept      0.0599      0.016      3.644      0.000       0.028       0.092\n",
       "cohort66      -0.0201      0.001    -22.757      0.000      -0.022      -0.018\n",
       "cohort662     -0.1284      0.036     -3.542      0.000      -0.200      -0.057\n",
       "age47         -0.0011      0.001     -1.386      0.166      -0.003       0.000\n",
       "age472        -0.0018      0.001     -1.219      0.223      -0.005       0.001\n",
       "==============================================================================\n",
       "\"\"\""
      ]
     },
     "execution_count": 33,
     "metadata": {},
     "output_type": "execute_result"
    }
   ],
   "source": [
    "formula = 'prot ~ cohort66 + cohort662 + age47 + age472'\n",
    "results = smf.logit(formula, data=sample).fit()\n",
    "results.summary()"
   ]
  },
  {
   "cell_type": "code",
   "execution_count": 34,
   "metadata": {
    "collapsed": false
   },
   "outputs": [
    {
     "name": "stdout",
     "output_type": "stream",
     "text": [
      "Optimization terminated successfully.\n",
      "         Current function value: 0.567198\n",
      "         Iterations 5\n"
     ]
    },
    {
     "data": {
      "text/html": [
       "<table class=\"simpletable\">\n",
       "<caption>Logit Regression Results</caption>\n",
       "<tr>\n",
       "  <th>Dep. Variable:</th>       <td>cath</td>       <th>  No. Observations:  </th>  <td> 61995</td>  \n",
       "</tr>\n",
       "<tr>\n",
       "  <th>Model:</th>               <td>Logit</td>      <th>  Df Residuals:      </th>  <td> 61990</td>  \n",
       "</tr>\n",
       "<tr>\n",
       "  <th>Method:</th>               <td>MLE</td>       <th>  Df Model:          </th>  <td>     4</td>  \n",
       "</tr>\n",
       "<tr>\n",
       "  <th>Date:</th>          <td>Fri, 26 May 2017</td> <th>  Pseudo R-squ.:     </th> <td>0.001790</td> \n",
       "</tr>\n",
       "<tr>\n",
       "  <th>Time:</th>              <td>15:59:13</td>     <th>  Log-Likelihood:    </th> <td> -35163.</td> \n",
       "</tr>\n",
       "<tr>\n",
       "  <th>converged:</th>           <td>True</td>       <th>  LL-Null:           </th> <td> -35227.</td> \n",
       "</tr>\n",
       "<tr>\n",
       "  <th> </th>                      <td> </td>        <th>  LLR p-value:       </th> <td>2.606e-26</td>\n",
       "</tr>\n",
       "</table>\n",
       "<table class=\"simpletable\">\n",
       "<tr>\n",
       "      <td></td>         <th>coef</th>     <th>std err</th>      <th>z</th>      <th>P>|z|</th>  <th>[0.025</th>    <th>0.975]</th>  \n",
       "</tr>\n",
       "<tr>\n",
       "  <th>Intercept</th> <td>   -1.1255</td> <td>    0.019</td> <td>  -60.197</td> <td> 0.000</td> <td>   -1.162</td> <td>   -1.089</td>\n",
       "</tr>\n",
       "<tr>\n",
       "  <th>cohort66</th>  <td>   -0.0062</td> <td>    0.001</td> <td>   -6.250</td> <td> 0.000</td> <td>   -0.008</td> <td>   -0.004</td>\n",
       "</tr>\n",
       "<tr>\n",
       "  <th>cohort662</th> <td>   -0.2548</td> <td>    0.040</td> <td>   -6.309</td> <td> 0.000</td> <td>   -0.334</td> <td>   -0.176</td>\n",
       "</tr>\n",
       "<tr>\n",
       "  <th>age47</th>     <td>   -0.0059</td> <td>    0.001</td> <td>   -6.727</td> <td> 0.000</td> <td>   -0.008</td> <td>   -0.004</td>\n",
       "</tr>\n",
       "<tr>\n",
       "  <th>age472</th>    <td>    0.0043</td> <td>    0.002</td> <td>    2.645</td> <td> 0.008</td> <td>    0.001</td> <td>    0.008</td>\n",
       "</tr>\n",
       "</table>"
      ],
      "text/plain": [
       "<class 'statsmodels.iolib.summary.Summary'>\n",
       "\"\"\"\n",
       "                           Logit Regression Results                           \n",
       "==============================================================================\n",
       "Dep. Variable:                   cath   No. Observations:                61995\n",
       "Model:                          Logit   Df Residuals:                    61990\n",
       "Method:                           MLE   Df Model:                            4\n",
       "Date:                Fri, 26 May 2017   Pseudo R-squ.:                0.001790\n",
       "Time:                        15:59:13   Log-Likelihood:                -35163.\n",
       "converged:                       True   LL-Null:                       -35227.\n",
       "                                        LLR p-value:                 2.606e-26\n",
       "==============================================================================\n",
       "                 coef    std err          z      P>|z|      [0.025      0.975]\n",
       "------------------------------------------------------------------------------\n",
       "Intercept     -1.1255      0.019    -60.197      0.000      -1.162      -1.089\n",
       "cohort66      -0.0062      0.001     -6.250      0.000      -0.008      -0.004\n",
       "cohort662     -0.2548      0.040     -6.309      0.000      -0.334      -0.176\n",
       "age47         -0.0059      0.001     -6.727      0.000      -0.008      -0.004\n",
       "age472         0.0043      0.002      2.645      0.008       0.001       0.008\n",
       "==============================================================================\n",
       "\"\"\""
      ]
     },
     "execution_count": 34,
     "metadata": {},
     "output_type": "execute_result"
    }
   ],
   "source": [
    "formula = 'cath ~ cohort66 + cohort662 + age47 + age472'\n",
    "results = smf.logit(formula, data=sample).fit()\n",
    "results.summary()"
   ]
  },
  {
   "cell_type": "code",
   "execution_count": 35,
   "metadata": {
    "collapsed": false
   },
   "outputs": [
    {
     "name": "stdout",
     "output_type": "stream",
     "text": [
      "Optimization terminated successfully.\n",
      "         Current function value: 0.338141\n",
      "         Iterations 7\n"
     ]
    },
    {
     "data": {
      "text/html": [
       "<table class=\"simpletable\">\n",
       "<caption>Logit Regression Results</caption>\n",
       "<tr>\n",
       "  <th>Dep. Variable:</th>       <td>none</td>       <th>  No. Observations:  </th>  <td> 61995</td> \n",
       "</tr>\n",
       "<tr>\n",
       "  <th>Model:</th>               <td>Logit</td>      <th>  Df Residuals:      </th>  <td> 61990</td> \n",
       "</tr>\n",
       "<tr>\n",
       "  <th>Method:</th>               <td>MLE</td>       <th>  Df Model:          </th>  <td>     4</td> \n",
       "</tr>\n",
       "<tr>\n",
       "  <th>Date:</th>          <td>Fri, 26 May 2017</td> <th>  Pseudo R-squ.:     </th>  <td>0.06691</td>\n",
       "</tr>\n",
       "<tr>\n",
       "  <th>Time:</th>              <td>15:59:13</td>     <th>  Log-Likelihood:    </th> <td> -20963.</td>\n",
       "</tr>\n",
       "<tr>\n",
       "  <th>converged:</th>           <td>True</td>       <th>  LL-Null:           </th> <td> -22466.</td>\n",
       "</tr>\n",
       "<tr>\n",
       "  <th> </th>                      <td> </td>        <th>  LLR p-value:       </th>  <td> 0.000</td> \n",
       "</tr>\n",
       "</table>\n",
       "<table class=\"simpletable\">\n",
       "<tr>\n",
       "      <td></td>         <th>coef</th>     <th>std err</th>      <th>z</th>      <th>P>|z|</th>  <th>[0.025</th>    <th>0.975]</th>  \n",
       "</tr>\n",
       "<tr>\n",
       "  <th>Intercept</th> <td>   -1.4803</td> <td>    0.024</td> <td>  -62.820</td> <td> 0.000</td> <td>   -1.526</td> <td>   -1.434</td>\n",
       "</tr>\n",
       "<tr>\n",
       "  <th>cohort66</th>  <td>    0.0431</td> <td>    0.001</td> <td>   35.833</td> <td> 0.000</td> <td>    0.041</td> <td>    0.045</td>\n",
       "</tr>\n",
       "<tr>\n",
       "  <th>cohort662</th> <td>   -0.0145</td> <td>    0.065</td> <td>   -0.223</td> <td> 0.823</td> <td>   -0.142</td> <td>    0.113</td>\n",
       "</tr>\n",
       "<tr>\n",
       "  <th>age47</th>     <td>    0.0126</td> <td>    0.001</td> <td>    9.457</td> <td> 0.000</td> <td>    0.010</td> <td>    0.015</td>\n",
       "</tr>\n",
       "<tr>\n",
       "  <th>age472</th>    <td>    0.0029</td> <td>    0.003</td> <td>    1.125</td> <td> 0.261</td> <td>   -0.002</td> <td>    0.008</td>\n",
       "</tr>\n",
       "</table>"
      ],
      "text/plain": [
       "<class 'statsmodels.iolib.summary.Summary'>\n",
       "\"\"\"\n",
       "                           Logit Regression Results                           \n",
       "==============================================================================\n",
       "Dep. Variable:                   none   No. Observations:                61995\n",
       "Model:                          Logit   Df Residuals:                    61990\n",
       "Method:                           MLE   Df Model:                            4\n",
       "Date:                Fri, 26 May 2017   Pseudo R-squ.:                 0.06691\n",
       "Time:                        15:59:13   Log-Likelihood:                -20963.\n",
       "converged:                       True   LL-Null:                       -22466.\n",
       "                                        LLR p-value:                     0.000\n",
       "==============================================================================\n",
       "                 coef    std err          z      P>|z|      [0.025      0.975]\n",
       "------------------------------------------------------------------------------\n",
       "Intercept     -1.4803      0.024    -62.820      0.000      -1.526      -1.434\n",
       "cohort66       0.0431      0.001     35.833      0.000       0.041       0.045\n",
       "cohort662     -0.0145      0.065     -0.223      0.823      -0.142       0.113\n",
       "age47          0.0126      0.001      9.457      0.000       0.010       0.015\n",
       "age472         0.0029      0.003      1.125      0.261      -0.002       0.008\n",
       "==============================================================================\n",
       "\"\"\""
      ]
     },
     "execution_count": 35,
     "metadata": {},
     "output_type": "execute_result"
    }
   ],
   "source": [
    "formula = 'none ~ cohort66 + cohort662 + age47 + age472'\n",
    "results = smf.logit(formula, data=sample).fit()\n",
    "results.summary()"
   ]
  },
  {
   "cell_type": "code",
   "execution_count": 36,
   "metadata": {
    "collapsed": false
   },
   "outputs": [
    {
     "name": "stdout",
     "output_type": "stream",
     "text": [
      "Optimization terminated successfully.\n",
      "         Current function value: 0.184385\n",
      "         Iterations 7\n"
     ]
    },
    {
     "data": {
      "text/html": [
       "<table class=\"simpletable\">\n",
       "<caption>Logit Regression Results</caption>\n",
       "<tr>\n",
       "  <th>Dep. Variable:</th>       <td>other</td>      <th>  No. Observations:  </th>  <td> 61995</td>  \n",
       "</tr>\n",
       "<tr>\n",
       "  <th>Model:</th>               <td>Logit</td>      <th>  Df Residuals:      </th>  <td> 61990</td>  \n",
       "</tr>\n",
       "<tr>\n",
       "  <th>Method:</th>               <td>MLE</td>       <th>  Df Model:          </th>  <td>     4</td>  \n",
       "</tr>\n",
       "<tr>\n",
       "  <th>Date:</th>          <td>Fri, 26 May 2017</td> <th>  Pseudo R-squ.:     </th> <td>0.003099</td> \n",
       "</tr>\n",
       "<tr>\n",
       "  <th>Time:</th>              <td>15:59:13</td>     <th>  Log-Likelihood:    </th> <td> -11431.</td> \n",
       "</tr>\n",
       "<tr>\n",
       "  <th>converged:</th>           <td>True</td>       <th>  LL-Null:           </th> <td> -11467.</td> \n",
       "</tr>\n",
       "<tr>\n",
       "  <th> </th>                      <td> </td>        <th>  LLR p-value:       </th> <td>1.343e-14</td>\n",
       "</tr>\n",
       "</table>\n",
       "<table class=\"simpletable\">\n",
       "<tr>\n",
       "      <td></td>         <th>coef</th>     <th>std err</th>      <th>z</th>      <th>P>|z|</th>  <th>[0.025</th>    <th>0.975]</th>  \n",
       "</tr>\n",
       "<tr>\n",
       "  <th>Intercept</th> <td>   -2.8487</td> <td>    0.037</td> <td>  -76.634</td> <td> 0.000</td> <td>   -2.922</td> <td>   -2.776</td>\n",
       "</tr>\n",
       "<tr>\n",
       "  <th>cohort66</th>  <td>    0.0097</td> <td>    0.002</td> <td>    4.840</td> <td> 0.000</td> <td>    0.006</td> <td>    0.014</td>\n",
       "</tr>\n",
       "<tr>\n",
       "  <th>cohort662</th> <td>   -0.0953</td> <td>    0.085</td> <td>   -1.119</td> <td> 0.263</td> <td>   -0.262</td> <td>    0.072</td>\n",
       "</tr>\n",
       "<tr>\n",
       "  <th>age47</th>     <td>    0.0066</td> <td>    0.002</td> <td>    3.606</td> <td> 0.000</td> <td>    0.003</td> <td>    0.010</td>\n",
       "</tr>\n",
       "<tr>\n",
       "  <th>age472</th>    <td>    0.0004</td> <td>    0.003</td> <td>    0.114</td> <td> 0.910</td> <td>   -0.006</td> <td>    0.007</td>\n",
       "</tr>\n",
       "</table>"
      ],
      "text/plain": [
       "<class 'statsmodels.iolib.summary.Summary'>\n",
       "\"\"\"\n",
       "                           Logit Regression Results                           \n",
       "==============================================================================\n",
       "Dep. Variable:                  other   No. Observations:                61995\n",
       "Model:                          Logit   Df Residuals:                    61990\n",
       "Method:                           MLE   Df Model:                            4\n",
       "Date:                Fri, 26 May 2017   Pseudo R-squ.:                0.003099\n",
       "Time:                        15:59:13   Log-Likelihood:                -11431.\n",
       "converged:                       True   LL-Null:                       -11467.\n",
       "                                        LLR p-value:                 1.343e-14\n",
       "==============================================================================\n",
       "                 coef    std err          z      P>|z|      [0.025      0.975]\n",
       "------------------------------------------------------------------------------\n",
       "Intercept     -2.8487      0.037    -76.634      0.000      -2.922      -2.776\n",
       "cohort66       0.0097      0.002      4.840      0.000       0.006       0.014\n",
       "cohort662     -0.0953      0.085     -1.119      0.263      -0.262       0.072\n",
       "age47          0.0066      0.002      3.606      0.000       0.003       0.010\n",
       "age472         0.0004      0.003      0.114      0.910      -0.006       0.007\n",
       "==============================================================================\n",
       "\"\"\""
      ]
     },
     "execution_count": 36,
     "metadata": {},
     "output_type": "execute_result"
    }
   ],
   "source": [
    "formula = 'other ~ cohort66 + cohort662 + age47 + age472'\n",
    "results = smf.logit(formula, data=sample).fit()\n",
    "results.summary()"
   ]
  },
  {
   "cell_type": "markdown",
   "metadata": {},
   "source": [
    "## Generational replacement"
   ]
  },
  {
   "cell_type": "markdown",
   "metadata": {},
   "source": [
    "Choose colors"
   ]
  },
  {
   "cell_type": "code",
   "execution_count": 37,
   "metadata": {
    "collapsed": false
   },
   "outputs": [
    {
     "data": {
      "image/png": "[encoded data removed]",
      "text/plain": [
       "<matplotlib.figure.Figure at 0x7f5bb78719d0>"
      ]
     },
     "metadata": {},
     "output_type": "display_data"
    }
   ],
   "source": [
    "RED, BLUE, GREEN, PURPLE, ORANGE, YELLOW = sns.color_palette('Set1')\n",
    "sns.palplot(sns.color_palette('Set1'))"
   ]
  },
  {
   "cell_type": "markdown",
   "metadata": {},
   "source": []
  },
  {
   "cell_type": "code",
   "execution_count": 38,
   "metadata": {
    "collapsed": false
   },
   "outputs": [],
   "source": [
    "def make_series_seq(grouped, varnames):\n",
    "    \"\"\"Compute the percentage in each category.\n",
    "    \n",
    "    grouped: GroupBy object with one-hots for each category\n",
    "    varnames: list of string column names\n",
    "    \n",
    "    returns: list of Series\n",
    "    \"\"\"\n",
    "    return [grouped[var].mean() * 100 for var in varnames]\n",
    "\n",
    "def plot_series_seq(series_seq, colors, labels):\n",
    "    \"\"\"Plots Series objects.\n",
    "    \n",
    "    series_seq: list of Series\n",
    "    colors: list of string colors\n",
    "    labels: list of string labels\n",
    "    \"\"\"\n",
    "    for series, color, label in zip(series_seq, colors, labels):\n",
    "        thinkplot.plot(series, color=color, label=label)"
   ]
  },
  {
   "cell_type": "code",
   "execution_count": null,
   "metadata": {
    "collapsed": true
   },
   "outputs": [],
   "source": []
  },
  {
   "cell_type": "code",
   "execution_count": 39,
   "metadata": {
    "collapsed": true
   },
   "outputs": [],
   "source": [
    "colors = [ORANGE, GREEN, RED, BLUE]\n",
    "    \n",
    "def plot_relig(grouped):\n",
    "    \"\"\"Plot one line for each religious group.\n",
    "    \n",
    "    grouped: GroupBy object with one-hots for each religious group\n",
    "    \"\"\"\n",
    "    labels = ['Protestant', 'Catholic', 'None', 'Other']\n",
    "    series_seq = make_series_seq(grouped, varnames)\n",
    "    plot_series_seq(series_seq, colors, labels)"
   ]
  },
  {
   "cell_type": "markdown",
   "metadata": {},
   "source": [
    "Plot the percentage in each religious group as a function of interview year."
   ]
  },
  {
   "cell_type": "code",
   "execution_count": 40,
   "metadata": {
    "collapsed": false
   },
   "outputs": [
    {
     "data": {
      "text/plain": [
       "year\n",
       "1972    1603\n",
       "1973    1496\n",
       "1974    1477\n",
       "1975    1483\n",
       "1976    1491\n",
       "1977    1516\n",
       "1978    1522\n",
       "1980    1456\n",
       "1982    1837\n",
       "1983    1588\n",
       "1984    1456\n",
       "1985    1522\n",
       "1986    1460\n",
       "1987    1802\n",
       "1988    1476\n",
       "1989    1530\n",
       "1990    1367\n",
       "1991    1513\n",
       "1993    1592\n",
       "1994    2976\n",
       "1996    2894\n",
       "1998    2792\n",
       "2000    2805\n",
       "2002    2735\n",
       "2004    2792\n",
       "2006    4468\n",
       "2008    2004\n",
       "2010    2028\n",
       "2012    1962\n",
       "2014    2513\n",
       "2016    2839\n",
       "Name: none, dtype: int64"
      ]
     },
     "execution_count": 40,
     "metadata": {},
     "output_type": "execute_result"
    }
   ],
   "source": [
    "grouped_year = sample.groupby(['year'])\n",
    "grouped_year.none.count()"
   ]
  },
  {
   "cell_type": "code",
   "execution_count": 41,
   "metadata": {
    "collapsed": false
   },
   "outputs": [
    {
     "data": {
      "image/png": "[encoded data removed]",
      "text/plain": [
       "<matplotlib.figure.Figure at 0x7f5bb0eca3d0>"
      ]
     },
     "metadata": {},
     "output_type": "display_data"
    }
   ],
   "source": [
    "plot_relig(grouped_year)\n",
    "thinkplot.config(xlabel='Year of interview', ylabel='Percent')"
   ]
  },
  {
   "cell_type": "code",
   "execution_count": 42,
   "metadata": {
    "collapsed": false
   },
   "outputs": [
    {
     "data": {
      "text/plain": [
       "age_group\n",
       "17.5    1499\n",
       "22.5    6261\n",
       "27.5    6740\n",
       "32.5    6396\n",
       "37.5    6127\n",
       "42.5    6153\n",
       "47.5    5826\n",
       "52.5    5257\n",
       "57.5    4597\n",
       "62.5    3904\n",
       "67.5    3211\n",
       "72.5    2614\n",
       "77.5    1725\n",
       "82.5    1053\n",
       "87.5     632\n",
       "Name: none, dtype: int64"
      ]
     },
     "execution_count": 42,
     "metadata": {},
     "output_type": "execute_result"
    }
   ],
   "source": [
    "grouped_age = sample.groupby(['age_group'])\n",
    "grouped_age.none.count()"
   ]
  },
  {
   "cell_type": "code",
   "execution_count": 43,
   "metadata": {
    "collapsed": false
   },
   "outputs": [
    {
     "data": {
      "image/png": "[encoded data removed]",
      "text/plain": [
       "<matplotlib.figure.Figure at 0x7f5bb0d77bd0>"
      ]
     },
     "metadata": {},
     "output_type": "display_data"
    }
   ],
   "source": [
    "plot_relig(grouped_age)\n",
    "thinkplot.config(xlabel='Age', ylabel='Percent')"
   ]
  },
  {
   "cell_type": "markdown",
   "metadata": {},
   "source": [
    "Plot the percentage in each religious group as a function of birth cohort."
   ]
  },
  {
   "cell_type": "code",
   "execution_count": 44,
   "metadata": {
    "collapsed": false
   },
   "outputs": [
    {
     "data": {
      "text/plain": [
       "cohort5\n",
       "1882.5       6\n",
       "1887.5      41\n",
       "1892.5     121\n",
       "1897.5     350\n",
       "1902.5     654\n",
       "1907.5    1066\n",
       "1912.5    1451\n",
       "1917.5    2105\n",
       "1922.5    2757\n",
       "1927.5    3021\n",
       "1932.5    3155\n",
       "1937.5    3668\n",
       "1942.5    4516\n",
       "1947.5    5653\n",
       "1952.5    6444\n",
       "1957.5    6537\n",
       "1962.5    5704\n",
       "1967.5    4329\n",
       "1972.5    3476\n",
       "1977.5    2768\n",
       "1982.5    1995\n",
       "1987.5    1317\n",
       "1992.5     675\n",
       "1997.5     186\n",
       "Name: relig, dtype: int64"
      ]
     },
     "execution_count": 44,
     "metadata": {},
     "output_type": "execute_result"
    }
   ],
   "source": [
    "grouped_cohort = sample.groupby(['cohort5'])\n",
    "grouped_cohort.relig.count()"
   ]
  },
  {
   "cell_type": "code",
   "execution_count": 45,
   "metadata": {
    "collapsed": false
   },
   "outputs": [
    {
     "data": {
      "image/png": "[encoded data removed]",
      "text/plain": [
       "<matplotlib.figure.Figure at 0x7f5bb77830d0>"
      ]
     },
     "metadata": {},
     "output_type": "display_data"
    }
   ],
   "source": [
    "plot_relig(grouped_cohort)\n",
    "thinkplot.config(xlabel='Year of birth', ylabel='Percent')"
   ]
  },
  {
   "cell_type": "markdown",
   "metadata": {},
   "source": [
    "Before running models, center the factors we're planning to use."
   ]
  },
  {
   "cell_type": "code",
   "execution_count": 46,
   "metadata": {
    "collapsed": false
   },
   "outputs": [],
   "source": [
    "def center_factors(df):\n",
    "    \"\"\"Center factors around their means.\n",
    "    \n",
    "    Add centered factors for the model.\n",
    "    \n",
    "    df: DataFrame\n",
    "    cohort: Series\n",
    "    age: Series\n",
    "    \"\"\"\n",
    "    df['c'] = df.cohort - 1966\n",
    "    df['c2'] = df.c**2\n",
    "    df['a'] = df.age - 47\n",
    "    df['a2'] = df.a**2\n",
    "    df['ac'] = df.a * df.c"
   ]
  },
  {
   "cell_type": "markdown",
   "metadata": {},
   "source": []
  },
  {
   "cell_type": "code",
   "execution_count": 47,
   "metadata": {
    "collapsed": false
   },
   "outputs": [
    {
     "data": {
      "text/html": [
       "<div>\n",
       "<table border=\"1\" class=\"dataframe\">\n",
       "  <thead>\n",
       "    <tr style=\"text-align: right;\">\n",
       "      <th></th>\n",
       "      <th>year</th>\n",
       "      <th>conclerg</th>\n",
       "      <th>bible</th>\n",
       "      <th>cohort</th>\n",
       "      <th>age</th>\n",
       "      <th>wtssall</th>\n",
       "      <th>ballot</th>\n",
       "      <th>relig</th>\n",
       "      <th>educ</th>\n",
       "      <th>id_</th>\n",
       "      <th>...</th>\n",
       "      <th>relig4</th>\n",
       "      <th>cohort66</th>\n",
       "      <th>cohort662</th>\n",
       "      <th>age47</th>\n",
       "      <th>age472</th>\n",
       "      <th>c</th>\n",
       "      <th>c2</th>\n",
       "      <th>a</th>\n",
       "      <th>a2</th>\n",
       "      <th>ac</th>\n",
       "    </tr>\n",
       "  </thead>\n",
       "  <tbody>\n",
       "    <tr>\n",
       "      <th>0</th>\n",
       "      <td>1972</td>\n",
       "      <td>NaN</td>\n",
       "      <td>NaN</td>\n",
       "      <td>1932.0</td>\n",
       "      <td>40.0</td>\n",
       "      <td>0.8893</td>\n",
       "      <td>0</td>\n",
       "      <td>1.0</td>\n",
       "      <td>9</td>\n",
       "      <td>49</td>\n",
       "      <td>...</td>\n",
       "      <td>1.0</td>\n",
       "      <td>-34.0</td>\n",
       "      <td>0.587996</td>\n",
       "      <td>-7.0</td>\n",
       "      <td>1.042553</td>\n",
       "      <td>-34.0</td>\n",
       "      <td>1156.0</td>\n",
       "      <td>-7.0</td>\n",
       "      <td>49.0</td>\n",
       "      <td>238.0</td>\n",
       "    </tr>\n",
       "    <tr>\n",
       "      <th>1</th>\n",
       "      <td>1972</td>\n",
       "      <td>NaN</td>\n",
       "      <td>NaN</td>\n",
       "      <td>1949.0</td>\n",
       "      <td>23.0</td>\n",
       "      <td>0.8893</td>\n",
       "      <td>0</td>\n",
       "      <td>1.0</td>\n",
       "      <td>12</td>\n",
       "      <td>884</td>\n",
       "      <td>...</td>\n",
       "      <td>1.0</td>\n",
       "      <td>-17.0</td>\n",
       "      <td>0.146999</td>\n",
       "      <td>-24.0</td>\n",
       "      <td>12.255319</td>\n",
       "      <td>-17.0</td>\n",
       "      <td>289.0</td>\n",
       "      <td>-24.0</td>\n",
       "      <td>576.0</td>\n",
       "      <td>408.0</td>\n",
       "    </tr>\n",
       "    <tr>\n",
       "      <th>2</th>\n",
       "      <td>1972</td>\n",
       "      <td>NaN</td>\n",
       "      <td>NaN</td>\n",
       "      <td>1951.0</td>\n",
       "      <td>21.0</td>\n",
       "      <td>1.3339</td>\n",
       "      <td>0</td>\n",
       "      <td>2.0</td>\n",
       "      <td>12</td>\n",
       "      <td>740</td>\n",
       "      <td>...</td>\n",
       "      <td>2.0</td>\n",
       "      <td>-15.0</td>\n",
       "      <td>0.114446</td>\n",
       "      <td>-26.0</td>\n",
       "      <td>14.382979</td>\n",
       "      <td>-15.0</td>\n",
       "      <td>225.0</td>\n",
       "      <td>-26.0</td>\n",
       "      <td>676.0</td>\n",
       "      <td>390.0</td>\n",
       "    </tr>\n",
       "    <tr>\n",
       "      <th>3</th>\n",
       "      <td>1972</td>\n",
       "      <td>NaN</td>\n",
       "      <td>NaN</td>\n",
       "      <td>1916.0</td>\n",
       "      <td>56.0</td>\n",
       "      <td>1.3339</td>\n",
       "      <td>0</td>\n",
       "      <td>1.0</td>\n",
       "      <td>6</td>\n",
       "      <td>12</td>\n",
       "      <td>...</td>\n",
       "      <td>1.0</td>\n",
       "      <td>-50.0</td>\n",
       "      <td>1.271617</td>\n",
       "      <td>9.0</td>\n",
       "      <td>1.723404</td>\n",
       "      <td>-50.0</td>\n",
       "      <td>2500.0</td>\n",
       "      <td>9.0</td>\n",
       "      <td>81.0</td>\n",
       "      <td>-450.0</td>\n",
       "    </tr>\n",
       "    <tr>\n",
       "      <th>4</th>\n",
       "      <td>1972</td>\n",
       "      <td>NaN</td>\n",
       "      <td>NaN</td>\n",
       "      <td>1898.0</td>\n",
       "      <td>74.0</td>\n",
       "      <td>0.8893</td>\n",
       "      <td>0</td>\n",
       "      <td>1.0</td>\n",
       "      <td>12</td>\n",
       "      <td>1090</td>\n",
       "      <td>...</td>\n",
       "      <td>1.0</td>\n",
       "      <td>-68.0</td>\n",
       "      <td>2.351984</td>\n",
       "      <td>27.0</td>\n",
       "      <td>15.510638</td>\n",
       "      <td>-68.0</td>\n",
       "      <td>4624.0</td>\n",
       "      <td>27.0</td>\n",
       "      <td>729.0</td>\n",
       "      <td>-1836.0</td>\n",
       "    </tr>\n",
       "  </tbody>\n",
       "</table>\n",
       "<p>5 rows × 28 columns</p>\n",
       "</div>"
      ],
      "text/plain": [
       "   year  conclerg  bible  cohort   age  wtssall  ballot  relig  educ   id_  \\\n",
       "0  1972       NaN    NaN  1932.0  40.0   0.8893       0    1.0     9    49   \n",
       "1  1972       NaN    NaN  1949.0  23.0   0.8893       0    1.0    12   884   \n",
       "2  1972       NaN    NaN  1951.0  21.0   1.3339       0    2.0    12   740   \n",
       "3  1972       NaN    NaN  1916.0  56.0   1.3339       0    1.0     6    12   \n",
       "4  1972       NaN    NaN  1898.0  74.0   0.8893       0    1.0    12  1090   \n",
       "\n",
       "    ...    relig4  cohort66  cohort662  age47     age472     c      c2     a  \\\n",
       "0   ...       1.0     -34.0   0.587996   -7.0   1.042553 -34.0  1156.0  -7.0   \n",
       "1   ...       1.0     -17.0   0.146999  -24.0  12.255319 -17.0   289.0 -24.0   \n",
       "2   ...       2.0     -15.0   0.114446  -26.0  14.382979 -15.0   225.0 -26.0   \n",
       "3   ...       1.0     -50.0   1.271617    9.0   1.723404 -50.0  2500.0   9.0   \n",
       "4   ...       1.0     -68.0   2.351984   27.0  15.510638 -68.0  4624.0  27.0   \n",
       "\n",
       "      a2      ac  \n",
       "0   49.0   238.0  \n",
       "1  576.0   408.0  \n",
       "2  676.0   390.0  \n",
       "3   81.0  -450.0  \n",
       "4  729.0 -1836.0  \n",
       "\n",
       "[5 rows x 28 columns]"
      ]
     },
     "execution_count": 47,
     "metadata": {},
     "output_type": "execute_result"
    }
   ],
   "source": [
    "center_factors(sample)\n",
    "sample.head()"
   ]
  },
  {
   "cell_type": "markdown",
   "metadata": {},
   "source": [
    "Run logistic regression to fit models to each religious group."
   ]
  },
  {
   "cell_type": "code",
   "execution_count": 48,
   "metadata": {
    "collapsed": false
   },
   "outputs": [],
   "source": [
    "def make_model(df, var):\n",
    "    \"\"\"Fit a logistic regression model.\n",
    "    \n",
    "    df: DataFrame\n",
    "    var: string name of dependent variable\n",
    "    \"\"\"\n",
    "    formula = var + ' ~ c + c2 + a + a2 + ac'\n",
    "    return smf.logit(formula, data=df).fit()"
   ]
  },
  {
   "cell_type": "code",
   "execution_count": 49,
   "metadata": {
    "collapsed": false
   },
   "outputs": [
    {
     "name": "stdout",
     "output_type": "stream",
     "text": [
      "Optimization terminated successfully.\n",
      "         Current function value: 0.664911\n",
      "         Iterations 5\n"
     ]
    },
    {
     "data": {
      "text/html": [
       "<table class=\"simpletable\">\n",
       "<caption>Logit Regression Results</caption>\n",
       "<tr>\n",
       "  <th>Dep. Variable:</th>       <td>prot</td>       <th>  No. Observations:  </th>  <td> 61995</td> \n",
       "</tr>\n",
       "<tr>\n",
       "  <th>Model:</th>               <td>Logit</td>      <th>  Df Residuals:      </th>  <td> 61989</td> \n",
       "</tr>\n",
       "<tr>\n",
       "  <th>Method:</th>               <td>MLE</td>       <th>  Df Model:          </th>  <td>     5</td> \n",
       "</tr>\n",
       "<tr>\n",
       "  <th>Date:</th>          <td>Fri, 26 May 2017</td> <th>  Pseudo R-squ.:     </th>  <td>0.02197</td>\n",
       "</tr>\n",
       "<tr>\n",
       "  <th>Time:</th>              <td>15:59:15</td>     <th>  Log-Likelihood:    </th> <td> -41221.</td>\n",
       "</tr>\n",
       "<tr>\n",
       "  <th>converged:</th>           <td>True</td>       <th>  LL-Null:           </th> <td> -42147.</td>\n",
       "</tr>\n",
       "<tr>\n",
       "  <th> </th>                      <td> </td>        <th>  LLR p-value:       </th>  <td> 0.000</td> \n",
       "</tr>\n",
       "</table>\n",
       "<table class=\"simpletable\">\n",
       "<tr>\n",
       "      <td></td>         <th>coef</th>     <th>std err</th>      <th>z</th>      <th>P>|z|</th>  <th>[0.025</th>    <th>0.975]</th>  \n",
       "</tr>\n",
       "<tr>\n",
       "  <th>Intercept</th> <td>   -0.0136</td> <td>    0.019</td> <td>   -0.702</td> <td> 0.483</td> <td>   -0.052</td> <td>    0.024</td>\n",
       "</tr>\n",
       "<tr>\n",
       "  <th>c</th>         <td>   -0.0339</td> <td>    0.002</td> <td>  -16.072</td> <td> 0.000</td> <td>   -0.038</td> <td>   -0.030</td>\n",
       "</tr>\n",
       "<tr>\n",
       "  <th>c2</th>        <td>   -0.0004</td> <td> 5.31e-05</td> <td>   -7.994</td> <td> 0.000</td> <td>   -0.001</td> <td>   -0.000</td>\n",
       "</tr>\n",
       "<tr>\n",
       "  <th>a</th>         <td>   -0.0161</td> <td>    0.002</td> <td>   -7.244</td> <td> 0.000</td> <td>   -0.020</td> <td>   -0.012</td>\n",
       "</tr>\n",
       "<tr>\n",
       "  <th>a2</th>        <td>   -0.0005</td> <td> 6.65e-05</td> <td>   -6.939</td> <td> 0.000</td> <td>   -0.001</td> <td>   -0.000</td>\n",
       "</tr>\n",
       "<tr>\n",
       "  <th>ac</th>        <td>   -0.0008</td> <td>    0.000</td> <td>   -7.216</td> <td> 0.000</td> <td>   -0.001</td> <td>   -0.001</td>\n",
       "</tr>\n",
       "</table>"
      ],
      "text/plain": [
       "<class 'statsmodels.iolib.summary.Summary'>\n",
       "\"\"\"\n",
       "                           Logit Regression Results                           \n",
       "==============================================================================\n",
       "Dep. Variable:                   prot   No. Observations:                61995\n",
       "Model:                          Logit   Df Residuals:                    61989\n",
       "Method:                           MLE   Df Model:                            5\n",
       "Date:                Fri, 26 May 2017   Pseudo R-squ.:                 0.02197\n",
       "Time:                        15:59:15   Log-Likelihood:                -41221.\n",
       "converged:                       True   LL-Null:                       -42147.\n",
       "                                        LLR p-value:                     0.000\n",
       "==============================================================================\n",
       "                 coef    std err          z      P>|z|      [0.025      0.975]\n",
       "------------------------------------------------------------------------------\n",
       "Intercept     -0.0136      0.019     -0.702      0.483      -0.052       0.024\n",
       "c             -0.0339      0.002    -16.072      0.000      -0.038      -0.030\n",
       "c2            -0.0004   5.31e-05     -7.994      0.000      -0.001      -0.000\n",
       "a             -0.0161      0.002     -7.244      0.000      -0.020      -0.012\n",
       "a2            -0.0005   6.65e-05     -6.939      0.000      -0.001      -0.000\n",
       "ac            -0.0008      0.000     -7.216      0.000      -0.001      -0.001\n",
       "==============================================================================\n",
       "\"\"\""
      ]
     },
     "execution_count": 49,
     "metadata": {},
     "output_type": "execute_result"
    }
   ],
   "source": [
    "make_model(sample, 'prot').summary()"
   ]
  },
  {
   "cell_type": "code",
   "execution_count": 50,
   "metadata": {
    "collapsed": false
   },
   "outputs": [
    {
     "name": "stdout",
     "output_type": "stream",
     "text": [
      "Optimization terminated successfully.\n",
      "         Current function value: 0.567122\n",
      "         Iterations 5\n"
     ]
    },
    {
     "data": {
      "text/html": [
       "<table class=\"simpletable\">\n",
       "<caption>Logit Regression Results</caption>\n",
       "<tr>\n",
       "  <th>Dep. Variable:</th>       <td>cath</td>       <th>  No. Observations:  </th>  <td> 61995</td>  \n",
       "</tr>\n",
       "<tr>\n",
       "  <th>Model:</th>               <td>Logit</td>      <th>  Df Residuals:      </th>  <td> 61989</td>  \n",
       "</tr>\n",
       "<tr>\n",
       "  <th>Method:</th>               <td>MLE</td>       <th>  Df Model:          </th>  <td>     5</td>  \n",
       "</tr>\n",
       "<tr>\n",
       "  <th>Date:</th>          <td>Fri, 26 May 2017</td> <th>  Pseudo R-squ.:     </th> <td>0.001924</td> \n",
       "</tr>\n",
       "<tr>\n",
       "  <th>Time:</th>              <td>15:59:15</td>     <th>  Log-Likelihood:    </th> <td> -35159.</td> \n",
       "</tr>\n",
       "<tr>\n",
       "  <th>converged:</th>           <td>True</td>       <th>  LL-Null:           </th> <td> -35227.</td> \n",
       "</tr>\n",
       "<tr>\n",
       "  <th> </th>                      <td> </td>        <th>  LLR p-value:       </th> <td>1.562e-27</td>\n",
       "</tr>\n",
       "</table>\n",
       "<table class=\"simpletable\">\n",
       "<tr>\n",
       "      <td></td>         <th>coef</th>     <th>std err</th>      <th>z</th>      <th>P>|z|</th>  <th>[0.025</th>    <th>0.975]</th>  \n",
       "</tr>\n",
       "<tr>\n",
       "  <th>Intercept</th> <td>   -1.0892</td> <td>    0.022</td> <td>  -49.488</td> <td> 0.000</td> <td>   -1.132</td> <td>   -1.046</td>\n",
       "</tr>\n",
       "<tr>\n",
       "  <th>c</th>         <td>    0.0004</td> <td>    0.002</td> <td>    0.178</td> <td> 0.859</td> <td>   -0.004</td> <td>    0.005</td>\n",
       "</tr>\n",
       "<tr>\n",
       "  <th>c2</th>        <td> 4.111e-05</td> <td> 5.92e-05</td> <td>    0.695</td> <td> 0.487</td> <td>-7.48e-05</td> <td>    0.000</td>\n",
       "</tr>\n",
       "<tr>\n",
       "  <th>a</th>         <td>    0.0014</td> <td>    0.003</td> <td>    0.543</td> <td> 0.587</td> <td>   -0.004</td> <td>    0.006</td>\n",
       "</tr>\n",
       "<tr>\n",
       "  <th>a2</th>        <td>    0.0003</td> <td> 7.38e-05</td> <td>    3.967</td> <td> 0.000</td> <td>    0.000</td> <td>    0.000</td>\n",
       "</tr>\n",
       "<tr>\n",
       "  <th>ac</th>        <td>    0.0004</td> <td>    0.000</td> <td>    3.077</td> <td> 0.002</td> <td>    0.000</td> <td>    0.001</td>\n",
       "</tr>\n",
       "</table>"
      ],
      "text/plain": [
       "<class 'statsmodels.iolib.summary.Summary'>\n",
       "\"\"\"\n",
       "                           Logit Regression Results                           \n",
       "==============================================================================\n",
       "Dep. Variable:                   cath   No. Observations:                61995\n",
       "Model:                          Logit   Df Residuals:                    61989\n",
       "Method:                           MLE   Df Model:                            5\n",
       "Date:                Fri, 26 May 2017   Pseudo R-squ.:                0.001924\n",
       "Time:                        15:59:15   Log-Likelihood:                -35159.\n",
       "converged:                       True   LL-Null:                       -35227.\n",
       "                                        LLR p-value:                 1.562e-27\n",
       "==============================================================================\n",
       "                 coef    std err          z      P>|z|      [0.025      0.975]\n",
       "------------------------------------------------------------------------------\n",
       "Intercept     -1.0892      0.022    -49.488      0.000      -1.132      -1.046\n",
       "c              0.0004      0.002      0.178      0.859      -0.004       0.005\n",
       "c2          4.111e-05   5.92e-05      0.695      0.487   -7.48e-05       0.000\n",
       "a              0.0014      0.003      0.543      0.587      -0.004       0.006\n",
       "a2             0.0003   7.38e-05      3.967      0.000       0.000       0.000\n",
       "ac             0.0004      0.000      3.077      0.002       0.000       0.001\n",
       "==============================================================================\n",
       "\"\"\""
      ]
     },
     "execution_count": 50,
     "metadata": {},
     "output_type": "execute_result"
    }
   ],
   "source": [
    "make_model(sample, 'cath').summary()"
   ]
  },
  {
   "cell_type": "markdown",
   "metadata": {},
   "source": []
  },
  {
   "cell_type": "code",
   "execution_count": 51,
   "metadata": {
    "collapsed": false
   },
   "outputs": [
    {
     "name": "stdout",
     "output_type": "stream",
     "text": [
      "Optimization terminated successfully.\n",
      "         Current function value: 0.337808\n",
      "         Iterations 7\n"
     ]
    },
    {
     "data": {
      "text/html": [
       "<table class=\"simpletable\">\n",
       "<caption>Logit Regression Results</caption>\n",
       "<tr>\n",
       "  <th>Dep. Variable:</th>       <td>none</td>       <th>  No. Observations:  </th>  <td> 61995</td> \n",
       "</tr>\n",
       "<tr>\n",
       "  <th>Model:</th>               <td>Logit</td>      <th>  Df Residuals:      </th>  <td> 61989</td> \n",
       "</tr>\n",
       "<tr>\n",
       "  <th>Method:</th>               <td>MLE</td>       <th>  Df Model:          </th>  <td>     5</td> \n",
       "</tr>\n",
       "<tr>\n",
       "  <th>Date:</th>          <td>Fri, 26 May 2017</td> <th>  Pseudo R-squ.:     </th>  <td>0.06783</td>\n",
       "</tr>\n",
       "<tr>\n",
       "  <th>Time:</th>              <td>15:59:15</td>     <th>  Log-Likelihood:    </th> <td> -20942.</td>\n",
       "</tr>\n",
       "<tr>\n",
       "  <th>converged:</th>           <td>True</td>       <th>  LL-Null:           </th> <td> -22466.</td>\n",
       "</tr>\n",
       "<tr>\n",
       "  <th> </th>                      <td> </td>        <th>  LLR p-value:       </th>  <td> 0.000</td> \n",
       "</tr>\n",
       "</table>\n",
       "<table class=\"simpletable\">\n",
       "<tr>\n",
       "      <td></td>         <th>coef</th>     <th>std err</th>      <th>z</th>      <th>P>|z|</th>  <th>[0.025</th>    <th>0.975]</th>  \n",
       "</tr>\n",
       "<tr>\n",
       "  <th>Intercept</th> <td>   -1.4005</td> <td>    0.026</td> <td>  -53.189</td> <td> 0.000</td> <td>   -1.452</td> <td>   -1.349</td>\n",
       "</tr>\n",
       "<tr>\n",
       "  <th>c</th>         <td>    0.0612</td> <td>    0.003</td> <td>   20.096</td> <td> 0.000</td> <td>    0.055</td> <td>    0.067</td>\n",
       "</tr>\n",
       "<tr>\n",
       "  <th>c2</th>        <td>    0.0005</td> <td> 8.44e-05</td> <td>    5.884</td> <td> 0.000</td> <td>    0.000</td> <td>    0.001</td>\n",
       "</tr>\n",
       "<tr>\n",
       "  <th>a</th>         <td>    0.0321</td> <td>    0.003</td> <td>    9.788</td> <td> 0.000</td> <td>    0.026</td> <td>    0.038</td>\n",
       "</tr>\n",
       "<tr>\n",
       "  <th>a2</th>        <td>    0.0007</td> <td>    0.000</td> <td>    6.185</td> <td> 0.000</td> <td>    0.000</td> <td>    0.001</td>\n",
       "</tr>\n",
       "<tr>\n",
       "  <th>ac</th>        <td>    0.0011</td> <td>    0.000</td> <td>    6.491</td> <td> 0.000</td> <td>    0.001</td> <td>    0.001</td>\n",
       "</tr>\n",
       "</table>"
      ],
      "text/plain": [
       "<class 'statsmodels.iolib.summary.Summary'>\n",
       "\"\"\"\n",
       "                           Logit Regression Results                           \n",
       "==============================================================================\n",
       "Dep. Variable:                   none   No. Observations:                61995\n",
       "Model:                          Logit   Df Residuals:                    61989\n",
       "Method:                           MLE   Df Model:                            5\n",
       "Date:                Fri, 26 May 2017   Pseudo R-squ.:                 0.06783\n",
       "Time:                        15:59:15   Log-Likelihood:                -20942.\n",
       "converged:                       True   LL-Null:                       -22466.\n",
       "                                        LLR p-value:                     0.000\n",
       "==============================================================================\n",
       "                 coef    std err          z      P>|z|      [0.025      0.975]\n",
       "------------------------------------------------------------------------------\n",
       "Intercept     -1.4005      0.026    -53.189      0.000      -1.452      -1.349\n",
       "c              0.0612      0.003     20.096      0.000       0.055       0.067\n",
       "c2             0.0005   8.44e-05      5.884      0.000       0.000       0.001\n",
       "a              0.0321      0.003      9.788      0.000       0.026       0.038\n",
       "a2             0.0007      0.000      6.185      0.000       0.000       0.001\n",
       "ac             0.0011      0.000      6.491      0.000       0.001       0.001\n",
       "==============================================================================\n",
       "\"\"\""
      ]
     },
     "execution_count": 51,
     "metadata": {},
     "output_type": "execute_result"
    }
   ],
   "source": [
    "make_model(sample, 'none').summary()"
   ]
  },
  {
   "cell_type": "markdown",
   "metadata": {},
   "source": []
  },
  {
   "cell_type": "code",
   "execution_count": 52,
   "metadata": {
    "collapsed": false
   },
   "outputs": [
    {
     "name": "stdout",
     "output_type": "stream",
     "text": [
      "Optimization terminated successfully.\n",
      "         Current function value: 0.184306\n",
      "         Iterations 7\n"
     ]
    },
    {
     "data": {
      "text/html": [
       "<table class=\"simpletable\">\n",
       "<caption>Logit Regression Results</caption>\n",
       "<tr>\n",
       "  <th>Dep. Variable:</th>       <td>other</td>      <th>  No. Observations:  </th>  <td> 61995</td>  \n",
       "</tr>\n",
       "<tr>\n",
       "  <th>Model:</th>               <td>Logit</td>      <th>  Df Residuals:      </th>  <td> 61989</td>  \n",
       "</tr>\n",
       "<tr>\n",
       "  <th>Method:</th>               <td>MLE</td>       <th>  Df Model:          </th>  <td>     5</td>  \n",
       "</tr>\n",
       "<tr>\n",
       "  <th>Date:</th>          <td>Fri, 26 May 2017</td> <th>  Pseudo R-squ.:     </th> <td>0.003531</td> \n",
       "</tr>\n",
       "<tr>\n",
       "  <th>Time:</th>              <td>15:59:16</td>     <th>  Log-Likelihood:    </th> <td> -11426.</td> \n",
       "</tr>\n",
       "<tr>\n",
       "  <th>converged:</th>           <td>True</td>       <th>  LL-Null:           </th> <td> -11467.</td> \n",
       "</tr>\n",
       "<tr>\n",
       "  <th> </th>                      <td> </td>        <th>  LLR p-value:       </th> <td>5.228e-16</td>\n",
       "</tr>\n",
       "</table>\n",
       "<table class=\"simpletable\">\n",
       "<tr>\n",
       "      <td></td>         <th>coef</th>     <th>std err</th>      <th>z</th>      <th>P>|z|</th>  <th>[0.025</th>    <th>0.975]</th>  \n",
       "</tr>\n",
       "<tr>\n",
       "  <th>Intercept</th> <td>   -2.9194</td> <td>    0.044</td> <td>  -66.114</td> <td> 0.000</td> <td>   -3.006</td> <td>   -2.833</td>\n",
       "</tr>\n",
       "<tr>\n",
       "  <th>c</th>         <td>   -0.0042</td> <td>    0.005</td> <td>   -0.860</td> <td> 0.390</td> <td>   -0.014</td> <td>    0.005</td>\n",
       "</tr>\n",
       "<tr>\n",
       "  <th>c2</th>        <td>   -0.0004</td> <td>    0.000</td> <td>   -3.314</td> <td> 0.001</td> <td>   -0.001</td> <td>   -0.000</td>\n",
       "</tr>\n",
       "<tr>\n",
       "  <th>a</th>         <td>   -0.0086</td> <td>    0.005</td> <td>   -1.643</td> <td> 0.100</td> <td>   -0.019</td> <td>    0.002</td>\n",
       "</tr>\n",
       "<tr>\n",
       "  <th>a2</th>        <td>   -0.0004</td> <td>    0.000</td> <td>   -2.696</td> <td> 0.007</td> <td>   -0.001</td> <td>   -0.000</td>\n",
       "</tr>\n",
       "<tr>\n",
       "  <th>ac</th>        <td>   -0.0008</td> <td>    0.000</td> <td>   -3.120</td> <td> 0.002</td> <td>   -0.001</td> <td>   -0.000</td>\n",
       "</tr>\n",
       "</table>"
      ],
      "text/plain": [
       "<class 'statsmodels.iolib.summary.Summary'>\n",
       "\"\"\"\n",
       "                           Logit Regression Results                           \n",
       "==============================================================================\n",
       "Dep. Variable:                  other   No. Observations:                61995\n",
       "Model:                          Logit   Df Residuals:                    61989\n",
       "Method:                           MLE   Df Model:                            5\n",
       "Date:                Fri, 26 May 2017   Pseudo R-squ.:                0.003531\n",
       "Time:                        15:59:16   Log-Likelihood:                -11426.\n",
       "converged:                       True   LL-Null:                       -11467.\n",
       "                                        LLR p-value:                 5.228e-16\n",
       "==============================================================================\n",
       "                 coef    std err          z      P>|z|      [0.025      0.975]\n",
       "------------------------------------------------------------------------------\n",
       "Intercept     -2.9194      0.044    -66.114      0.000      -3.006      -2.833\n",
       "c             -0.0042      0.005     -0.860      0.390      -0.014       0.005\n",
       "c2            -0.0004      0.000     -3.314      0.001      -0.001      -0.000\n",
       "a             -0.0086      0.005     -1.643      0.100      -0.019       0.002\n",
       "a2            -0.0004      0.000     -2.696      0.007      -0.001      -0.000\n",
       "ac            -0.0008      0.000     -3.120      0.002      -0.001      -0.000\n",
       "==============================================================================\n",
       "\"\"\""
      ]
     },
     "execution_count": 52,
     "metadata": {},
     "output_type": "execute_result"
    }
   ],
   "source": [
    "make_model(sample, 'other').summary()"
   ]
  },
  {
   "cell_type": "markdown",
   "metadata": {},
   "source": []
  },
  {
   "cell_type": "code",
   "execution_count": 56,
   "metadata": {
    "collapsed": false
   },
   "outputs": [
    {
     "name": "stdout",
     "output_type": "stream",
     "text": [
      "Optimization terminated successfully.\n",
      "         Current function value: 1.027101\n",
      "         Iterations 6\n"
     ]
    },
    {
     "data": {
      "text/html": [
       "<table class=\"simpletable\">\n",
       "<caption>MNLogit Regression Results</caption>\n",
       "<tr>\n",
       "  <th>Dep. Variable:</th>      <td>relig4</td>      <th>  No. Observations:  </th>  <td> 61995</td> \n",
       "</tr>\n",
       "<tr>\n",
       "  <th>Model:</th>              <td>MNLogit</td>     <th>  Df Residuals:      </th>  <td> 61977</td> \n",
       "</tr>\n",
       "<tr>\n",
       "  <th>Method:</th>               <td>MLE</td>       <th>  Df Model:          </th>  <td>    15</td> \n",
       "</tr>\n",
       "<tr>\n",
       "  <th>Date:</th>          <td>Fri, 26 May 2017</td> <th>  Pseudo R-squ.:     </th>  <td>0.02768</td>\n",
       "</tr>\n",
       "<tr>\n",
       "  <th>Time:</th>              <td>16:00:39</td>     <th>  Log-Likelihood:    </th> <td> -63675.</td>\n",
       "</tr>\n",
       "<tr>\n",
       "  <th>converged:</th>           <td>True</td>       <th>  LL-Null:           </th> <td> -65488.</td>\n",
       "</tr>\n",
       "<tr>\n",
       "  <th> </th>                      <td> </td>        <th>  LLR p-value:       </th>  <td> 0.000</td> \n",
       "</tr>\n",
       "</table>\n",
       "<table class=\"simpletable\">\n",
       "<tr>\n",
       "  <th>relig4=2</th>     <th>coef</th>     <th>std err</th>      <th>z</th>      <th>P>|z|</th>  <th>[0.025</th>    <th>0.975]</th>  \n",
       "</tr>\n",
       "<tr>\n",
       "  <th>Intercept</th> <td>   -0.6744</td> <td>    0.023</td> <td>  -28.953</td> <td> 0.000</td> <td>   -0.720</td> <td>   -0.629</td>\n",
       "</tr>\n",
       "<tr>\n",
       "  <th>c</th>         <td>    0.0164</td> <td>    0.002</td> <td>    6.564</td> <td> 0.000</td> <td>    0.012</td> <td>    0.021</td>\n",
       "</tr>\n",
       "<tr>\n",
       "  <th>c2</th>        <td>    0.0003</td> <td> 6.18e-05</td> <td>    4.096</td> <td> 0.000</td> <td>    0.000</td> <td>    0.000</td>\n",
       "</tr>\n",
       "<tr>\n",
       "  <th>a</th>         <td>    0.0083</td> <td>    0.003</td> <td>    3.159</td> <td> 0.002</td> <td>    0.003</td> <td>    0.013</td>\n",
       "</tr>\n",
       "<tr>\n",
       "  <th>a2</th>        <td>    0.0004</td> <td> 7.64e-05</td> <td>    5.369</td> <td> 0.000</td> <td>    0.000</td> <td>    0.001</td>\n",
       "</tr>\n",
       "<tr>\n",
       "  <th>ac</th>        <td>    0.0006</td> <td>    0.000</td> <td>    4.942</td> <td> 0.000</td> <td>    0.000</td> <td>    0.001</td>\n",
       "</tr>\n",
       "<tr>\n",
       "  <th>relig4=3</th>     <th>coef</th>     <th>std err</th>      <th>z</th>      <th>P>|z|</th>  <th>[0.025</th>    <th>0.975]</th>  \n",
       "</tr>\n",
       "<tr>\n",
       "  <th>Intercept</th> <td>   -2.2676</td> <td>    0.045</td> <td>  -50.275</td> <td> 0.000</td> <td>   -2.356</td> <td>   -2.179</td>\n",
       "</tr>\n",
       "<tr>\n",
       "  <th>c</th>         <td>    0.0122</td> <td>    0.005</td> <td>    2.445</td> <td> 0.014</td> <td>    0.002</td> <td>    0.022</td>\n",
       "</tr>\n",
       "<tr>\n",
       "  <th>c2</th>        <td>   -0.0002</td> <td>    0.000</td> <td>   -1.344</td> <td> 0.179</td> <td>   -0.000</td> <td> 7.96e-05</td>\n",
       "</tr>\n",
       "<tr>\n",
       "  <th>a</th>         <td>   -0.0008</td> <td>    0.005</td> <td>   -0.155</td> <td> 0.877</td> <td>   -0.011</td> <td>    0.010</td>\n",
       "</tr>\n",
       "<tr>\n",
       "  <th>a2</th>        <td>   -0.0002</td> <td>    0.000</td> <td>   -1.318</td> <td> 0.188</td> <td>   -0.001</td> <td>    0.000</td>\n",
       "</tr>\n",
       "<tr>\n",
       "  <th>ac</th>        <td>   -0.0004</td> <td>    0.000</td> <td>   -1.608</td> <td> 0.108</td> <td>   -0.001</td> <td> 9.45e-05</td>\n",
       "</tr>\n",
       "<tr>\n",
       "  <th>relig4=4</th>     <th>coef</th>     <th>std err</th>      <th>z</th>      <th>P>|z|</th>  <th>[0.025</th>    <th>0.975]</th>  \n",
       "</tr>\n",
       "<tr>\n",
       "  <th>Intercept</th> <td>   -0.9223</td> <td>    0.028</td> <td>  -33.388</td> <td> 0.000</td> <td>   -0.976</td> <td>   -0.868</td>\n",
       "</tr>\n",
       "<tr>\n",
       "  <th>c</th>         <td>    0.0672</td> <td>    0.003</td> <td>   21.129</td> <td> 0.000</td> <td>    0.061</td> <td>    0.073</td>\n",
       "</tr>\n",
       "<tr>\n",
       "  <th>c2</th>        <td>    0.0006</td> <td> 8.72e-05</td> <td>    6.621</td> <td> 0.000</td> <td>    0.000</td> <td>    0.001</td>\n",
       "</tr>\n",
       "<tr>\n",
       "  <th>a</th>         <td>    0.0346</td> <td>    0.003</td> <td>   10.163</td> <td> 0.000</td> <td>    0.028</td> <td>    0.041</td>\n",
       "</tr>\n",
       "<tr>\n",
       "  <th>a2</th>        <td>    0.0008</td> <td>    0.000</td> <td>    7.054</td> <td> 0.000</td> <td>    0.001</td> <td>    0.001</td>\n",
       "</tr>\n",
       "<tr>\n",
       "  <th>ac</th>        <td>    0.0013</td> <td>    0.000</td> <td>    7.244</td> <td> 0.000</td> <td>    0.001</td> <td>    0.002</td>\n",
       "</tr>\n",
       "</table>"
      ],
      "text/plain": [
       "<class 'statsmodels.iolib.summary.Summary'>\n",
       "\"\"\"\n",
       "                          MNLogit Regression Results                          \n",
       "==============================================================================\n",
       "Dep. Variable:                 relig4   No. Observations:                61995\n",
       "Model:                        MNLogit   Df Residuals:                    61977\n",
       "Method:                           MLE   Df Model:                           15\n",
       "Date:                Fri, 26 May 2017   Pseudo R-squ.:                 0.02768\n",
       "Time:                        16:00:39   Log-Likelihood:                -63675.\n",
       "converged:                       True   LL-Null:                       -65488.\n",
       "                                        LLR p-value:                     0.000\n",
       "==============================================================================\n",
       "  relig4=2       coef    std err          z      P>|z|      [0.025      0.975]\n",
       "------------------------------------------------------------------------------\n",
       "Intercept     -0.6744      0.023    -28.953      0.000      -0.720      -0.629\n",
       "c              0.0164      0.002      6.564      0.000       0.012       0.021\n",
       "c2             0.0003   6.18e-05      4.096      0.000       0.000       0.000\n",
       "a              0.0083      0.003      3.159      0.002       0.003       0.013\n",
       "a2             0.0004   7.64e-05      5.369      0.000       0.000       0.001\n",
       "ac             0.0006      0.000      4.942      0.000       0.000       0.001\n",
       "------------------------------------------------------------------------------\n",
       "  relig4=3       coef    std err          z      P>|z|      [0.025      0.975]\n",
       "------------------------------------------------------------------------------\n",
       "Intercept     -2.2676      0.045    -50.275      0.000      -2.356      -2.179\n",
       "c              0.0122      0.005      2.445      0.014       0.002       0.022\n",
       "c2            -0.0002      0.000     -1.344      0.179      -0.000    7.96e-05\n",
       "a             -0.0008      0.005     -0.155      0.877      -0.011       0.010\n",
       "a2            -0.0002      0.000     -1.318      0.188      -0.001       0.000\n",
       "ac            -0.0004      0.000     -1.608      0.108      -0.001    9.45e-05\n",
       "------------------------------------------------------------------------------\n",
       "  relig4=4       coef    std err          z      P>|z|      [0.025      0.975]\n",
       "------------------------------------------------------------------------------\n",
       "Intercept     -0.9223      0.028    -33.388      0.000      -0.976      -0.868\n",
       "c              0.0672      0.003     21.129      0.000       0.061       0.073\n",
       "c2             0.0006   8.72e-05      6.621      0.000       0.000       0.001\n",
       "a              0.0346      0.003     10.163      0.000       0.028       0.041\n",
       "a2             0.0008      0.000      7.054      0.000       0.001       0.001\n",
       "ac             0.0013      0.000      7.244      0.000       0.001       0.002\n",
       "==============================================================================\n",
       "\"\"\""
      ]
     },
     "execution_count": 56,
     "metadata": {},
     "output_type": "execute_result"
    }
   ],
   "source": [
    "formula = 'relig4 ~ c + c2 + a + a2 + ac'\n",
    "model = smf.mnlogit(formula, data=sample).fit()\n",
    "model.summary()"
   ]
  },
  {
   "cell_type": "markdown",
   "metadata": {},
   "source": [
    "## Predict population"
   ]
  },
  {
   "cell_type": "markdown",
   "metadata": {},
   "source": [
    "Predict future generations based on the models."
   ]
  },
  {
   "cell_type": "code",
   "execution_count": 76,
   "metadata": {
    "collapsed": true
   },
   "outputs": [],
   "source": [
    "def predict_population(df, model_seq, year):\n",
    "    \"\"\"Make a prediction based on a fitted model.\n",
    "    \n",
    "    ???\n",
    "    \n",
    "    returns: Series that maps year of birth to predicted percentages\n",
    "    \"\"\"\n",
    "    # TODO: consider resampling age and using\n",
    "    # binomial rather than mean\n",
    "    # age = thinkstats2.Resample(sample.age)\n",
    "    age = df.loc[df.year>=2016, 'age']\n",
    "    cohort = year - age\n",
    "    df = pd.DataFrame(dict(cohort=cohort, age=age))\n",
    "    center_factors(df)\n",
    "    \n",
    "    pred = [results.predict(df).mean()\n",
    "            for results in model_seq]\n",
    "    return pd.Series(pred, index=varnames) * 100"
   ]
  },
  {
   "cell_type": "markdown",
   "metadata": {},
   "source": []
  },
  {
   "cell_type": "code",
   "execution_count": 77,
   "metadata": {
    "collapsed": false
   },
   "outputs": [
    {
     "name": "stdout",
     "output_type": "stream",
     "text": [
      "100.585250277\n"
     ]
    },
    {
     "data": {
      "text/plain": [
       "prot     46.633757\n",
       "cath     24.993361\n",
       "none     23.959394\n",
       "other     4.998739\n",
       "dtype: float64"
      ]
     },
     "execution_count": 77,
     "metadata": {},
     "output_type": "execute_result"
    }
   ],
   "source": [
    "pred = predict_population(sample, model_seq, 2016)\n",
    "print(sum(pred))\n",
    "pred"
   ]
  },
  {
   "cell_type": "markdown",
   "metadata": {},
   "source": []
  },
  {
   "cell_type": "code",
   "execution_count": 78,
   "metadata": {
    "collapsed": false
   },
   "outputs": [
    {
     "name": "stdout",
     "output_type": "stream",
     "text": [
      "104.568406156\n"
     ]
    },
    {
     "data": {
      "text/plain": [
       "prot     37.003959\n",
       "cath     25.251555\n",
       "none     37.809420\n",
       "other     4.503472\n",
       "dtype: float64"
      ]
     },
     "execution_count": 78,
     "metadata": {},
     "output_type": "execute_result"
    }
   ],
   "source": [
    "pred = predict_population(sample, model_seq, 2026)\n",
    "print(sum(pred))\n",
    "pred"
   ]
  },
  {
   "cell_type": "markdown",
   "metadata": {},
   "source": []
  },
  {
   "cell_type": "code",
   "execution_count": 79,
   "metadata": {
    "collapsed": false
   },
   "outputs": [
    {
     "name": "stdout",
     "output_type": "stream",
     "text": [
      "112.421716173\n"
     ]
    },
    {
     "data": {
      "text/plain": [
       "prot     26.653828\n",
       "cath     25.691135\n",
       "none     56.336675\n",
       "other     3.740078\n",
       "dtype: float64"
      ]
     },
     "execution_count": 79,
     "metadata": {},
     "output_type": "execute_result"
    }
   ],
   "source": [
    "pred = predict_population(sample, model_seq, 2036)\n",
    "print(sum(pred))\n",
    "pred"
   ]
  },
  {
   "cell_type": "markdown",
   "metadata": {},
   "source": []
  },
  {
   "cell_type": "code",
   "execution_count": 80,
   "metadata": {
    "collapsed": false
   },
   "outputs": [],
   "source": [
    "def predict_by_year(sample, model_seq, years):\n",
    "    \"\"\"Make predictions by year.\n",
    "    \n",
    "    sample: DataFrame\n",
    "    model_seq: list of fitted models\n",
    "    years: list of years to generate predictions for\n",
    "    \"\"\"\n",
    "    df = pd.DataFrame(columns=varnames)\n",
    "    for year in years:\n",
    "        df.loc[year] = predict_population(sample, model_seq, year)\n",
    "    return df"
   ]
  },
  {
   "cell_type": "markdown",
   "metadata": {},
   "source": []
  },
  {
   "cell_type": "code",
   "execution_count": 81,
   "metadata": {
    "collapsed": false
   },
   "outputs": [],
   "source": [
    "years = np.arange(1972, 2040)\n",
    "df = predict_by_year(sample, model_seq, years)"
   ]
  },
  {
   "cell_type": "markdown",
   "metadata": {},
   "source": []
  },
  {
   "cell_type": "code",
   "execution_count": 82,
   "metadata": {
    "collapsed": true
   },
   "outputs": [],
   "source": [
    "def plot_predictions(series_seq):\n",
    "    \"\"\"Plot a sequence of series.\n",
    "    \n",
    "    series_seq: list of series\n",
    "    \"\"\"\n",
    "    alpha = 0.3\n",
    "    for series, color in zip(series_seq, colors):\n",
    "        thinkplot.plot(series, color=color, alpha=alpha)"
   ]
  },
  {
   "cell_type": "code",
   "execution_count": 83,
   "metadata": {
    "collapsed": false
   },
   "outputs": [
    {
     "data": {
      "image/png": "[encoded data removed]",
      "text/plain": [
       "<matplotlib.figure.Figure at 0x7f5bb08b00d0>"
      ]
     },
     "metadata": {},
     "output_type": "display_data"
    }
   ],
   "source": [
    "series_seq = [df[var] for var in varnames]\n",
    "\n",
    "plot_predictions(series_seq)\n",
    "plot_relig(grouped_year)\n",
    "thinkplot.config(xlabel='Year of interview', loc='upper right')"
   ]
  },
  {
   "cell_type": "code",
   "execution_count": 84,
   "metadata": {
    "collapsed": false
   },
   "outputs": [
    {
     "data": {
      "text/plain": [
       "array([ 0.58137285,  0.25542097,  0.04547095,  0.11773523])"
      ]
     },
     "execution_count": 84,
     "metadata": {},
     "output_type": "execute_result"
    }
   ],
   "source": [
    "from sklearn.linear_model import LogisticRegression\n",
    "\n",
    "model = LogisticRegression(multi_class='multinomial', solver='sag')\n",
    "y = sample.relig4\n",
    "X = sample[['c', 'a']].values\n",
    "model.fit(X, y)\n",
    "model.predict_proba(X).mean(axis=0)"
   ]
  },
  {
   "cell_type": "code",
   "execution_count": 85,
   "metadata": {
    "collapsed": true
   },
   "outputs": [],
   "source": [
    "def get_factors(df):\n",
    "    return df[['c', 'c2', 'a', 'a2', 'ac']].values\n",
    "\n",
    "def make_multi_model(df, y):\n",
    "    \"\"\"Fit a logistic regression model.\n",
    "    \n",
    "    df: DataFrame\n",
    "    var: string name of dependent variable\n",
    "    \"\"\"\n",
    "    model = LogisticRegression(multi_class='multinomial', solver='sag')\n",
    "    X = get_factors(df)\n",
    "    model.fit(X, y)\n",
    "    return model"
   ]
  },
  {
   "cell_type": "code",
   "execution_count": 86,
   "metadata": {
    "collapsed": false
   },
   "outputs": [],
   "source": [
    "model = make_multi_model(sample, sample.relig4)\n",
    "\n",
    "# looks like it might not be converging"
   ]
  },
  {
   "cell_type": "code",
   "execution_count": 92,
   "metadata": {
    "collapsed": true
   },
   "outputs": [],
   "source": [
    "def predict_multi_model(df, model, year):\n",
    "    \"\"\"Make a prediction based on a fitted model.\n",
    "    \n",
    "    ???\n",
    "    \n",
    "    returns: Series that maps year of birth to predicted percentages\n",
    "    \"\"\"\n",
    "    # TODO: consider resampling age and using\n",
    "    # binomial rather than mean\n",
    "    # age = thinkstats2.Resample(sample.age)\n",
    "    age = df.loc[df.year>=2016, 'age']\n",
    "    cohort = year - age\n",
    "    df = pd.DataFrame(dict(cohort=cohort, age=age))\n",
    "    center_factors(df)\n",
    "    X = get_factors(df)\n",
    "    pred = model.predict_proba(X).mean(axis=0)\n",
    "    index = ['prot', 'cath', 'other', 'none']\n",
    "    return pd.Series(pred, index=index) * 100"
   ]
  },
  {
   "cell_type": "code",
   "execution_count": 93,
   "metadata": {
    "collapsed": false
   },
   "outputs": [
    {
     "data": {
      "text/plain": [
       "prot     26.358313\n",
       "cath     27.782689\n",
       "other    18.407514\n",
       "none     27.451483\n",
       "dtype: float64"
      ]
     },
     "execution_count": 93,
     "metadata": {},
     "output_type": "execute_result"
    }
   ],
   "source": [
    "predict_multi_model(sample, model, 2016)\n",
    "\n",
    "# not producing reasonable predictions"
   ]
  },
  {
   "cell_type": "markdown",
   "metadata": {},
   "source": [
    "## Belief in God"
   ]
  },
  {
   "cell_type": "code",
   "execution_count": null,
   "metadata": {
    "collapsed": true
   },
   "outputs": [],
   "source": [
    "varnames = ['strongbelief', 'belief', 'nobelief']\n",
    "\n",
    "def create_belief_vars(df):\n",
    "    \"\"\"Creates columns for belief categories.\n",
    "    \n",
    "    df: DataFrame\n",
    "    \"\"\"\n",
    "    df['nobelief'] = (df.god.isin([1, 2]))\n",
    "    df['belief'] = (df.god.isin([3, 4, 5]))\n",
    "    df['strongbelief'] = (df.god.isin([6]))\n",
    "\n",
    "    df.loc[df.god.isnull(), varnames] = np.nan\n",
    "    \n",
    "create_belief_vars(sample)"
   ]
  },
  {
   "cell_type": "code",
   "execution_count": null,
   "metadata": {
    "collapsed": false
   },
   "outputs": [],
   "source": [
    "RED, PINK, _, _, LTBLUE, DKBLUE = sns.color_palette('RdBu', 6)\n",
    "colors = [BLUE, PURPLE, RED]"
   ]
  },
  {
   "cell_type": "code",
   "execution_count": null,
   "metadata": {
    "collapsed": false
   },
   "outputs": [],
   "source": [
    "def plot_beliefs(grouped):\n",
    "    \"\"\"Plot belief categories.\n",
    "    \n",
    "    grouped: GroupBy object\n",
    "    \"\"\"\n",
    "    labels = ['Strong belief', 'Belief', 'No belief']\n",
    "    series_seq = make_series_seq(grouped, varnames)\n",
    "    plot_series_seq(series_seq, colors, labels)"
   ]
  },
  {
   "cell_type": "code",
   "execution_count": null,
   "metadata": {
    "collapsed": false
   },
   "outputs": [],
   "source": [
    "plot_beliefs(grouped_year)\n",
    "thinkplot.config(xlabel='Year', ylabel='Percent', loc='upper left')"
   ]
  },
  {
   "cell_type": "code",
   "execution_count": null,
   "metadata": {
    "collapsed": false
   },
   "outputs": [],
   "source": [
    "plot_beliefs(grouped_cohort)\n",
    "thinkplot.config(xlabel='Year of birth', ylabel='Percent', loc='center left')"
   ]
  },
  {
   "cell_type": "code",
   "execution_count": null,
   "metadata": {
    "collapsed": false
   },
   "outputs": [],
   "source": [
    "make_model(sample, 'strongbelief').summary()"
   ]
  },
  {
   "cell_type": "code",
   "execution_count": null,
   "metadata": {
    "collapsed": false
   },
   "outputs": [],
   "source": [
    "make_model(sample, 'belief').summary()"
   ]
  },
  {
   "cell_type": "code",
   "execution_count": null,
   "metadata": {
    "collapsed": false
   },
   "outputs": [],
   "source": [
    "make_model(sample, 'nobelief').summary()"
   ]
  },
  {
   "cell_type": "code",
   "execution_count": null,
   "metadata": {
    "collapsed": false
   },
   "outputs": [],
   "source": [
    "model_seq = [make_model(sample, var) for var in varnames]\n",
    "series_seq = [predict_cohort(results) for results in model_seq]"
   ]
  },
  {
   "cell_type": "code",
   "execution_count": null,
   "metadata": {
    "collapsed": false
   },
   "outputs": [],
   "source": [
    "plot_beliefs(grouped_cohort)\n",
    "plot_predictions(series_seq)\n",
    "\n",
    "thinkplot.config(xlabel='Year of birth', ylabel='Percent', loc='center left')"
   ]
  },
  {
   "cell_type": "code",
   "execution_count": null,
   "metadata": {
    "collapsed": false
   },
   "outputs": [],
   "source": [
    "predict_population(sample, model_seq, 2016)"
   ]
  },
  {
   "cell_type": "code",
   "execution_count": null,
   "metadata": {
    "collapsed": false
   },
   "outputs": [],
   "source": [
    "years = np.arange(1991, 2040)\n",
    "df = predict_by_year(sample, model_seq, years)\n",
    "df"
   ]
  },
  {
   "cell_type": "code",
   "execution_count": null,
   "metadata": {
    "collapsed": false
   },
   "outputs": [],
   "source": [
    "series_seq = [df[var] for var in varnames]\n",
    "\n",
    "plot_predictions(series_seq)\n",
    "\n",
    "plot_beliefs(grouped_year)\n",
    "thinkplot.config(xlabel='Year of interview', loc='upper right')"
   ]
  },
  {
   "cell_type": "code",
   "execution_count": null,
   "metadata": {
    "collapsed": true
   },
   "outputs": [],
   "source": []
  },
  {
   "cell_type": "code",
   "execution_count": null,
   "metadata": {
    "collapsed": true
   },
   "outputs": [],
   "source": []
  },
  {
   "cell_type": "markdown",
   "metadata": {},
   "source": [
    "## Confidence in people running organized religion\n",
    "\n",
    "As far as the people running this institution [organized religion] are concerned, would you say you have a great deal of confidence, only some confidence, or hardly any confidence at all in them?\n",
    "\n",
    "1. A great deal\n",
    "2. Only some\n",
    "3. Hardly any\n",
    "\n"
   ]
  },
  {
   "cell_type": "code",
   "execution_count": null,
   "metadata": {
    "collapsed": false,
    "scrolled": true
   },
   "outputs": [],
   "source": [
    "sum(sample.conclerg.isnull())"
   ]
  },
  {
   "cell_type": "code",
   "execution_count": null,
   "metadata": {
    "collapsed": true
   },
   "outputs": [],
   "source": [
    "varnames = ['confident', 'someconf', 'noconf']\n",
    "\n",
    "def create_conf_vars(df):\n",
    "    \"\"\"Creates columns for confidence in religion categories.\n",
    "    \n",
    "    df: DataFrame\n",
    "    \"\"\"\n",
    "    df['confident'] = (df.conclerg == 1)\n",
    "    df['someconf'] = (df.conclerg == 2)\n",
    "    df['noconf'] = (df.conclerg == 3)\n",
    "\n",
    "    df.loc[df.conclerg.isnull(), varnames] = np.nan\n",
    "    \n",
    "    \n",
    "create_conf_vars(sample)\n"
   ]
  },
  {
   "cell_type": "code",
   "execution_count": null,
   "metadata": {
    "collapsed": false
   },
   "outputs": [],
   "source": [
    "def plot_conf(grouped):\n",
    "    \"\"\"Plot confidence in religion categories.\n",
    "    \n",
    "    grouped: GroupBy object\n",
    "    \"\"\"\n",
    "    labels = ['Great deal', 'Only some', 'Hardly any']\n",
    "    series_seq = make_series_seq(grouped, varnames)\n",
    "    plot_series_seq(series_seq, colors, labels)"
   ]
  },
  {
   "cell_type": "code",
   "execution_count": null,
   "metadata": {
    "collapsed": false
   },
   "outputs": [],
   "source": [
    "plot_conf(grouped_year)\n",
    "thinkplot.config(xlabel='Year of interview', ylabel='Percent', loc='center right')"
   ]
  },
  {
   "cell_type": "code",
   "execution_count": null,
   "metadata": {
    "collapsed": false
   },
   "outputs": [],
   "source": [
    "plot_conf(grouped_cohort)\n",
    "thinkplot.config(xlabel='Year of birth', ylabel='Percent', loc='upper right')"
   ]
  },
  {
   "cell_type": "code",
   "execution_count": null,
   "metadata": {
    "collapsed": false
   },
   "outputs": [],
   "source": [
    "make_model(sample, 'confident').summary()"
   ]
  },
  {
   "cell_type": "code",
   "execution_count": null,
   "metadata": {
    "collapsed": false
   },
   "outputs": [],
   "source": [
    "make_model(sample, 'someconf').summary()"
   ]
  },
  {
   "cell_type": "code",
   "execution_count": null,
   "metadata": {
    "collapsed": false
   },
   "outputs": [],
   "source": [
    "make_model(sample, 'noconf').summary()"
   ]
  },
  {
   "cell_type": "code",
   "execution_count": null,
   "metadata": {
    "collapsed": false
   },
   "outputs": [],
   "source": [
    "model_seq = [make_model(sample, var) for var in varnames]\n",
    "series_seq = [predict_cohort(results) for results in model_seq]\n"
   ]
  },
  {
   "cell_type": "code",
   "execution_count": null,
   "metadata": {
    "collapsed": false
   },
   "outputs": [],
   "source": [
    "plot_conf(grouped_cohort)\n",
    "plot_predictions(series_seq)\n",
    "thinkplot.config(xlabel='Year of birth', ylabel='Percent', loc='upper right')"
   ]
  },
  {
   "cell_type": "code",
   "execution_count": null,
   "metadata": {
    "collapsed": false
   },
   "outputs": [],
   "source": [
    "predict_population(sample, model_seq, 2016)"
   ]
  },
  {
   "cell_type": "code",
   "execution_count": null,
   "metadata": {
    "collapsed": false
   },
   "outputs": [],
   "source": [
    "years = np.arange(1973, 2040)\n",
    "df = predict_by_year(sample, model_seq, years)"
   ]
  },
  {
   "cell_type": "code",
   "execution_count": null,
   "metadata": {
    "collapsed": false,
    "scrolled": true
   },
   "outputs": [],
   "source": [
    "series_seq = [df[var] for var in varnames]\n",
    "\n",
    "plot_predictions(series_seq)\n",
    "\n",
    "plot_conf(grouped_year)\n",
    "thinkplot.config(xlabel='Year of interview', loc='upper right')"
   ]
  },
  {
   "cell_type": "code",
   "execution_count": null,
   "metadata": {
    "collapsed": true
   },
   "outputs": [],
   "source": []
  },
  {
   "cell_type": "code",
   "execution_count": null,
   "metadata": {
    "collapsed": true
   },
   "outputs": [],
   "source": []
  },
  {
   "cell_type": "markdown",
   "metadata": {},
   "source": [
    "## Bible\n",
    "\n",
    "Which one of these statements comes closest to describing your feelings about the Bible? \n",
    "\n",
    "1. The Bible is the actual word of God and is to be taken literally, word for word\n",
    "\n",
    "2. The Bible is the inspired word of God but not everything should be taken literally, word for word\n",
    "\n",
    "3. The Bible is an ancient book of fables, legends, history and moral precepts recorded by man"
   ]
  },
  {
   "cell_type": "code",
   "execution_count": null,
   "metadata": {
    "collapsed": false,
    "scrolled": true
   },
   "outputs": [],
   "source": [
    "sum(sample.bible.isnull())"
   ]
  },
  {
   "cell_type": "code",
   "execution_count": null,
   "metadata": {
    "collapsed": true
   },
   "outputs": [],
   "source": [
    "varnames = ['word', 'inspired', 'legends']\n",
    "\n",
    "def create_bible_vars(df):\n",
    "    \"\"\"Creates columns for bible interpretation categories.\n",
    "    \n",
    "    df: DataFrame\n",
    "    \"\"\"\n",
    "    df['word'] = (df.bible == 1)\n",
    "    df['inspired'] = (df.bible == 2)\n",
    "    df['legends'] = (df.bible == 3)\n",
    "\n",
    "    df.loc[df.bible.isnull(), varnames] = np.nan\n",
    "    \n",
    "create_bible_vars(sample)"
   ]
  },
  {
   "cell_type": "code",
   "execution_count": null,
   "metadata": {
    "collapsed": false
   },
   "outputs": [],
   "source": [
    "def plot_bible(grouped):\n",
    "    \"\"\"Plot bible interpretation categories.\n",
    "    \n",
    "    grouped: GroupBy object\n",
    "    \"\"\"\n",
    "    labels = ['Literal', 'Inspired', 'Legends']\n",
    "    series_seq = make_series_seq(grouped, varnames)\n",
    "    plot_series_seq(series_seq, colors, labels)"
   ]
  },
  {
   "cell_type": "code",
   "execution_count": null,
   "metadata": {
    "collapsed": false
   },
   "outputs": [],
   "source": [
    "plot_bible(grouped_year)\n",
    "thinkplot.config(xlabel='Year of interview', ylabel='Percent', loc='center right')"
   ]
  },
  {
   "cell_type": "code",
   "execution_count": null,
   "metadata": {
    "collapsed": false
   },
   "outputs": [],
   "source": [
    "plot_conf(grouped_cohort)\n",
    "thinkplot.config(xlabel='Year of birth', ylabel='Percent', loc='upper right')"
   ]
  },
  {
   "cell_type": "code",
   "execution_count": null,
   "metadata": {
    "collapsed": false
   },
   "outputs": [],
   "source": [
    "make_model(sample, 'word').summary()"
   ]
  },
  {
   "cell_type": "code",
   "execution_count": null,
   "metadata": {
    "collapsed": false
   },
   "outputs": [],
   "source": [
    "make_model(sample, 'inspired').summary()"
   ]
  },
  {
   "cell_type": "code",
   "execution_count": null,
   "metadata": {
    "collapsed": false
   },
   "outputs": [],
   "source": [
    "make_model(sample, 'legends').summary()"
   ]
  },
  {
   "cell_type": "code",
   "execution_count": null,
   "metadata": {
    "collapsed": false
   },
   "outputs": [],
   "source": [
    "model_seq = [make_model(sample, var) for var in varnames]\n",
    "series_seq = [predict_cohort(results) for results in model_seq]"
   ]
  },
  {
   "cell_type": "code",
   "execution_count": null,
   "metadata": {
    "collapsed": false
   },
   "outputs": [],
   "source": [
    "plot_bible(grouped_cohort)\n",
    "plot_predictions(series_seq)\n",
    "thinkplot.config(xlabel='Year of birth', ylabel='Percent', loc='upper right')"
   ]
  },
  {
   "cell_type": "code",
   "execution_count": null,
   "metadata": {
    "collapsed": false
   },
   "outputs": [],
   "source": [
    "predict_population(sample, model_seq, 2016)"
   ]
  },
  {
   "cell_type": "code",
   "execution_count": null,
   "metadata": {
    "collapsed": false
   },
   "outputs": [],
   "source": [
    "years = np.arange(2017, 2040)\n",
    "df = predict_by_year(sample, model_seq, years)"
   ]
  },
  {
   "cell_type": "code",
   "execution_count": null,
   "metadata": {
    "collapsed": false,
    "scrolled": true
   },
   "outputs": [],
   "source": [
    "series_seq = [df[var] for var in varnames]\n",
    "\n",
    "plot_predictions(series_seq)\n",
    "\n",
    "plot_bible(grouped_year)\n",
    "thinkplot.config(xlabel='Year of interview', loc='upper right')"
   ]
  }
 ],
 "metadata": {
  "kernelspec": {
   "display_name": "Python 2",
   "language": "python",
   "name": "python2"
  },
  "language_info": {
   "codemirror_mode": {
    "name": "ipython",
    "version": 2
   },
   "file_extension": ".py",
   "mimetype": "text/x-python",
   "name": "python",
   "nbconvert_exporter": "python",
   "pygments_lexer": "ipython2",
   "version": "2.7.11"
  }
 },
 "nbformat": 4,
 "nbformat_minor": 0
}
