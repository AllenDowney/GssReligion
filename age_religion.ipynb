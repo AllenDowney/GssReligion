{
 "cells": [
  {
   "cell_type": "markdown",
   "metadata": {},
   "source": [
    "# Generational changes in religious attitudes\n",
    "\n",
    "Allen Downey\n",
    "\n",
    "[MIT License](https://en.wikipedia.org/wiki/MIT_License)"
   ]
  },
  {
   "cell_type": "code",
   "execution_count": 64,
   "metadata": {
    "collapsed": false
   },
   "outputs": [],
   "source": [
    "from __future__ import print_function, division\n",
    "\n",
    "%matplotlib inline\n",
    "\n",
    "import pandas as pd\n",
    "import numpy as np\n",
    "\n",
    "import thinkstats2\n",
    "import thinkplot\n",
    "import utils\n",
    "\n",
    "import statsmodels.formula.api as smf\n",
    "import matplotlib.pyplot as plt\n",
    "\n",
    "import seaborn as sns\n",
    "sns.set(style='whitegrid', font_scale=1.5)\n",
    "\n",
    "from statsmodels.discrete.discrete_model import MNLogit"
   ]
  },
  {
   "cell_type": "markdown",
   "metadata": {},
   "source": [
    "Reading data from the [General Social Survey](https://gssdataexplorer.norc.org/projects/29853)"
   ]
  },
  {
   "cell_type": "code",
   "execution_count": 65,
   "metadata": {
    "collapsed": false
   },
   "outputs": [],
   "source": [
    "# !wget https://gssdataexplorer.norc.org/extracts/21438/download"
   ]
  },
  {
   "cell_type": "code",
   "execution_count": 66,
   "metadata": {
    "collapsed": false
   },
   "outputs": [
    {
     "name": "stdout",
     "output_type": "stream",
     "text": [
      "(62466, 11)\n"
     ]
    },
    {
     "data": {
      "text/html": [
       "<div>\n",
       "<table border=\"1\" class=\"dataframe\">\n",
       "  <thead>\n",
       "    <tr style=\"text-align: right;\">\n",
       "      <th></th>\n",
       "      <th>year</th>\n",
       "      <th>conclerg</th>\n",
       "      <th>bible</th>\n",
       "      <th>cohort</th>\n",
       "      <th>age</th>\n",
       "      <th>wtssall</th>\n",
       "      <th>ballot</th>\n",
       "      <th>relig</th>\n",
       "      <th>educ</th>\n",
       "      <th>id_</th>\n",
       "      <th>god</th>\n",
       "    </tr>\n",
       "  </thead>\n",
       "  <tbody>\n",
       "    <tr>\n",
       "      <th>0</th>\n",
       "      <td>1972</td>\n",
       "      <td>0</td>\n",
       "      <td>0</td>\n",
       "      <td>1949</td>\n",
       "      <td>23</td>\n",
       "      <td>0.4446</td>\n",
       "      <td>0</td>\n",
       "      <td>3</td>\n",
       "      <td>16</td>\n",
       "      <td>1</td>\n",
       "      <td>0</td>\n",
       "    </tr>\n",
       "    <tr>\n",
       "      <th>1</th>\n",
       "      <td>1972</td>\n",
       "      <td>0</td>\n",
       "      <td>0</td>\n",
       "      <td>1902</td>\n",
       "      <td>70</td>\n",
       "      <td>0.8893</td>\n",
       "      <td>0</td>\n",
       "      <td>2</td>\n",
       "      <td>10</td>\n",
       "      <td>2</td>\n",
       "      <td>0</td>\n",
       "    </tr>\n",
       "    <tr>\n",
       "      <th>2</th>\n",
       "      <td>1972</td>\n",
       "      <td>0</td>\n",
       "      <td>0</td>\n",
       "      <td>1924</td>\n",
       "      <td>48</td>\n",
       "      <td>0.8893</td>\n",
       "      <td>0</td>\n",
       "      <td>1</td>\n",
       "      <td>12</td>\n",
       "      <td>3</td>\n",
       "      <td>0</td>\n",
       "    </tr>\n",
       "    <tr>\n",
       "      <th>3</th>\n",
       "      <td>1972</td>\n",
       "      <td>0</td>\n",
       "      <td>0</td>\n",
       "      <td>1945</td>\n",
       "      <td>27</td>\n",
       "      <td>0.8893</td>\n",
       "      <td>0</td>\n",
       "      <td>5</td>\n",
       "      <td>17</td>\n",
       "      <td>4</td>\n",
       "      <td>0</td>\n",
       "    </tr>\n",
       "    <tr>\n",
       "      <th>4</th>\n",
       "      <td>1972</td>\n",
       "      <td>0</td>\n",
       "      <td>0</td>\n",
       "      <td>1911</td>\n",
       "      <td>61</td>\n",
       "      <td>0.8893</td>\n",
       "      <td>0</td>\n",
       "      <td>1</td>\n",
       "      <td>12</td>\n",
       "      <td>5</td>\n",
       "      <td>0</td>\n",
       "    </tr>\n",
       "  </tbody>\n",
       "</table>\n",
       "</div>"
      ],
      "text/plain": [
       "   year  conclerg  bible  cohort  age  wtssall  ballot  relig  educ  id_  god\n",
       "0  1972         0      0    1949   23   0.4446       0      3    16    1    0\n",
       "1  1972         0      0    1902   70   0.8893       0      2    10    2    0\n",
       "2  1972         0      0    1924   48   0.8893       0      1    12    3    0\n",
       "3  1972         0      0    1945   27   0.8893       0      5    17    4    0\n",
       "4  1972         0      0    1911   61   0.8893       0      1    12    5    0"
      ]
     },
     "execution_count": 66,
     "metadata": {},
     "output_type": "execute_result"
    }
   ],
   "source": [
    "gss = utils.ReadGss('gss_religion_data')\n",
    "print(gss.shape)\n",
    "gss.head()"
   ]
  },
  {
   "cell_type": "markdown",
   "metadata": {},
   "source": [
    "Cleaning variables"
   ]
  },
  {
   "cell_type": "code",
   "execution_count": 67,
   "metadata": {
    "collapsed": true
   },
   "outputs": [],
   "source": [
    "# TODO: find out what code 4 is\n",
    "\n",
    "gss.bible.replace([4, 8, 9, 0], np.nan, inplace=True)"
   ]
  },
  {
   "cell_type": "code",
   "execution_count": 68,
   "metadata": {
    "collapsed": false
   },
   "outputs": [
    {
     "data": {
      "text/plain": [
       "1.0    11185\n",
       "2.0    15926\n",
       "3.0     5929\n",
       "Name: bible, dtype: int64"
      ]
     },
     "execution_count": 68,
     "metadata": {},
     "output_type": "execute_result"
    }
   ],
   "source": [
    "utils.values(gss, 'bible')"
   ]
  },
  {
   "cell_type": "code",
   "execution_count": 69,
   "metadata": {
    "collapsed": true
   },
   "outputs": [],
   "source": [
    "gss.conclerg.replace([8, 9, 0], np.nan, inplace=True)"
   ]
  },
  {
   "cell_type": "code",
   "execution_count": 70,
   "metadata": {
    "collapsed": false
   },
   "outputs": [
    {
     "data": {
      "text/plain": [
       "1.0    11366\n",
       "2.0    20886\n",
       "3.0     8660\n",
       "Name: conclerg, dtype: int64"
      ]
     },
     "execution_count": 70,
     "metadata": {},
     "output_type": "execute_result"
    }
   ],
   "source": [
    "utils.values(gss, 'conclerg')"
   ]
  },
  {
   "cell_type": "code",
   "execution_count": 71,
   "metadata": {
    "collapsed": false
   },
   "outputs": [
    {
     "data": {
      "text/plain": [
       "40129"
      ]
     },
     "execution_count": 71,
     "metadata": {},
     "output_type": "execute_result"
    }
   ],
   "source": [
    "gss.god.replace([8, 9, 0], np.nan, inplace=True)\n",
    "sum(gss.god.isnull())"
   ]
  },
  {
   "cell_type": "code",
   "execution_count": 72,
   "metadata": {
    "collapsed": false,
    "scrolled": true
   },
   "outputs": [
    {
     "data": {
      "text/plain": [
       "1.0      673\n",
       "2.0     1110\n",
       "3.0     2286\n",
       "4.0      900\n",
       "5.0     3662\n",
       "6.0    13706\n",
       "Name: god, dtype: int64"
      ]
     },
     "execution_count": 72,
     "metadata": {},
     "output_type": "execute_result"
    }
   ],
   "source": [
    "utils.values(gss, 'god')"
   ]
  },
  {
   "cell_type": "code",
   "execution_count": 73,
   "metadata": {
    "collapsed": false
   },
   "outputs": [
    {
     "data": {
      "text/plain": [
       "221"
      ]
     },
     "execution_count": 73,
     "metadata": {},
     "output_type": "execute_result"
    }
   ],
   "source": [
    "gss.age.replace([98, 99], np.nan, inplace=True)\n",
    "sum(gss.age.isnull())"
   ]
  },
  {
   "cell_type": "code",
   "execution_count": 74,
   "metadata": {
    "collapsed": false
   },
   "outputs": [
    {
     "data": {
      "text/plain": [
       "221"
      ]
     },
     "execution_count": 74,
     "metadata": {},
     "output_type": "execute_result"
    }
   ],
   "source": [
    "gss.cohort.replace([9999], np.nan, inplace=True)\n",
    "sum(gss.cohort.isnull())"
   ]
  },
  {
   "cell_type": "code",
   "execution_count": 75,
   "metadata": {
    "collapsed": false
   },
   "outputs": [
    {
     "data": {
      "text/plain": [
       "269"
      ]
     },
     "execution_count": 75,
     "metadata": {},
     "output_type": "execute_result"
    }
   ],
   "source": [
    "gss.relig.replace([98, 99], np.nan, inplace=True)\n",
    "sum(gss.relig.isnull())"
   ]
  },
  {
   "cell_type": "code",
   "execution_count": 76,
   "metadata": {
    "collapsed": false
   },
   "outputs": [
    {
     "data": {
      "text/plain": [
       "(61995, 11)"
      ]
     },
     "execution_count": 76,
     "metadata": {},
     "output_type": "execute_result"
    }
   ],
   "source": [
    "gss.dropna(subset=['age', 'cohort', 'relig'], inplace=True)\n",
    "gss.shape"
   ]
  },
  {
   "cell_type": "markdown",
   "metadata": {},
   "source": [
    "We drop 471 records due to missing data."
   ]
  },
  {
   "cell_type": "code",
   "execution_count": 77,
   "metadata": {
    "collapsed": false
   },
   "outputs": [
    {
     "data": {
      "text/plain": [
       "471"
      ]
     },
     "execution_count": 77,
     "metadata": {},
     "output_type": "execute_result"
    }
   ],
   "source": [
    "62466 - 61995"
   ]
  },
  {
   "cell_type": "markdown",
   "metadata": {},
   "source": [
    "Here's the distribution of ages."
   ]
  },
  {
   "cell_type": "code",
   "execution_count": 78,
   "metadata": {
    "collapsed": false
   },
   "outputs": [
    {
     "data": {
      "image/png": "[encoded data removed]",
      "text/plain": [
       "<matplotlib.figure.Figure at 0x7fc9b5262610>"
      ]
     },
     "metadata": {},
     "output_type": "display_data"
    }
   ],
   "source": [
    "thinkplot.Cdf(thinkstats2.Cdf(gss.age))\n",
    "thinkplot.Config(xlabel='Age', ylabel='CDF')"
   ]
  },
  {
   "cell_type": "markdown",
   "metadata": {},
   "source": [
    "Group people into 5-year age groups."
   ]
  },
  {
   "cell_type": "code",
   "execution_count": 79,
   "metadata": {
    "collapsed": false
   },
   "outputs": [],
   "source": [
    "gss['age_group'] = utils.RoundIntoBins(gss, 'age', 5) + 2.5"
   ]
  },
  {
   "cell_type": "markdown",
   "metadata": {},
   "source": [
    "Here's the distribution of birth year."
   ]
  },
  {
   "cell_type": "code",
   "execution_count": 80,
   "metadata": {
    "collapsed": false
   },
   "outputs": [
    {
     "data": {
      "image/png": "[encoded data removed]",
      "text/plain": [
       "<matplotlib.figure.Figure at 0x7fc9b52e6210>"
      ]
     },
     "metadata": {},
     "output_type": "display_data"
    }
   ],
   "source": [
    "thinkplot.Cdf(thinkstats2.Cdf(gss.cohort))\n",
    "thinkplot.Config(xlabel='Year of birth', ylabel='CDF')"
   ]
  },
  {
   "cell_type": "markdown",
   "metadata": {},
   "source": [
    "Group people into 5- and 10-year bins by birth year."
   ]
  },
  {
   "cell_type": "code",
   "execution_count": 81,
   "metadata": {
    "collapsed": false
   },
   "outputs": [],
   "source": [
    "gss['cohort5'] = utils.RoundIntoBins(gss, 'cohort', 5, low=4) + 2.5"
   ]
  },
  {
   "cell_type": "code",
   "execution_count": 82,
   "metadata": {
    "collapsed": false
   },
   "outputs": [
    {
     "data": {
      "text/plain": [
       "cohort5\n",
       "1881.5       2\n",
       "1886.5      37\n",
       "1891.5     140\n",
       "1896.5     365\n",
       "1901.5     726\n",
       "1906.5    1113\n",
       "1911.5    1648\n",
       "1916.5    2281\n",
       "1921.5    2798\n",
       "1926.5    3131\n",
       "1931.5    3074\n",
       "1936.5    3632\n",
       "1941.5    4343\n",
       "1946.5    5616\n",
       "1951.5    6349\n",
       "1956.5    6465\n",
       "1961.5    5556\n",
       "1966.5    4413\n",
       "1971.5    3483\n",
       "1976.5    2631\n",
       "1981.5    2044\n",
       "1986.5    1280\n",
       "1991.5     658\n",
       "1996.5     210\n",
       "Name: relig, dtype: int64"
      ]
     },
     "execution_count": 82,
     "metadata": {},
     "output_type": "execute_result"
    }
   ],
   "source": [
    "grouped_cohort = gss.groupby(['cohort5'])\n",
    "counts = grouped_cohort.relig.count()\n",
    "counts"
   ]
  },
  {
   "cell_type": "code",
   "execution_count": 83,
   "metadata": {
    "collapsed": false
   },
   "outputs": [],
   "source": [
    "gss['cohort10'] = utils.RoundIntoBins(gss, 'cohort', 10)"
   ]
  },
  {
   "cell_type": "markdown",
   "metadata": {},
   "source": [
    "Here's the distribution of religion codes."
   ]
  },
  {
   "cell_type": "code",
   "execution_count": 84,
   "metadata": {
    "collapsed": false
   },
   "outputs": [
    {
     "data": {
      "text/plain": [
       "1.0     35856\n",
       "2.0     15136\n",
       "3.0      1233\n",
       "4.0      7231\n",
       "5.0      1064\n",
       "6.0       177\n",
       "7.0        88\n",
       "8.0        38\n",
       "9.0       135\n",
       "10.0      112\n",
       "11.0      760\n",
       "12.0       30\n",
       "13.0      135\n",
       "Name: relig, dtype: int64"
      ]
     },
     "execution_count": 84,
     "metadata": {},
     "output_type": "execute_result"
    }
   ],
   "source": [
    "utils.values(gss, 'relig')"
   ]
  },
  {
   "cell_type": "code",
   "execution_count": 85,
   "metadata": {
    "collapsed": false
   },
   "outputs": [
    {
     "data": {
      "text/plain": [
       "1972    1603\n",
       "1973    1496\n",
       "1974    1477\n",
       "1975    1483\n",
       "1976    1491\n",
       "1977    1516\n",
       "1978    1522\n",
       "1980    1456\n",
       "1982    1837\n",
       "1983    1588\n",
       "1984    1456\n",
       "1985    1522\n",
       "1986    1460\n",
       "1987    1802\n",
       "1988    1476\n",
       "1989    1530\n",
       "1990    1367\n",
       "1991    1513\n",
       "1993    1592\n",
       "1994    2976\n",
       "1996    2894\n",
       "1998    2792\n",
       "2000    2805\n",
       "2002    2735\n",
       "2004    2792\n",
       "2006    4468\n",
       "2008    2004\n",
       "2010    2028\n",
       "2012    1962\n",
       "2014    2513\n",
       "2016    2839\n",
       "Name: year, dtype: int64"
      ]
     },
     "execution_count": 85,
     "metadata": {},
     "output_type": "execute_result"
    }
   ],
   "source": [
    "utils.values(gss, 'year')"
   ]
  },
  {
   "cell_type": "code",
   "execution_count": 86,
   "metadata": {
    "collapsed": false
   },
   "outputs": [
    {
     "data": {
      "text/plain": [
       "0"
      ]
     },
     "execution_count": 86,
     "metadata": {},
     "output_type": "execute_result"
    }
   ],
   "source": [
    "sum(gss.relig.isnull())"
   ]
  },
  {
   "cell_type": "code",
   "execution_count": 87,
   "metadata": {
    "collapsed": false
   },
   "outputs": [],
   "source": [
    "\n",
    "def create_relig_vars(df):\n",
    "    \"\"\"Creates columns for religious categories.\n",
    "    \n",
    "    df: DataFrame\n",
    "    \"\"\"\n",
    "    # lumping \"Orthodox-Christian\" and \"Christian\" with Protestant\n",
    "    df['prot'] = (df.relig.isin([1,10,11]))\n",
    "    df['cath'] = (df.relig==2)\n",
    "    df['none'] = (df.relig==4)\n",
    "    df['other'] = (df.relig.isin([3,5,6,7,8,9,12,13]))\n",
    "    \n",
    "    df['relig4'] = df.relig.copy()\n",
    "    df.relig4.replace([10, 11], 1, inplace=True)\n",
    "    df.relig4.replace([5,6,7,8,9,12,13], 3, inplace=True)\n",
    "\n",
    "    varnames = ['prot', 'cath', 'none', 'other']\n",
    "    df.loc[df.relig.isnull(), varnames + ['relig4']] = np.nan\n",
    "    \n",
    "create_relig_vars(gss)"
   ]
  },
  {
   "cell_type": "code",
   "execution_count": 88,
   "metadata": {
    "collapsed": false
   },
   "outputs": [
    {
     "data": {
      "text/plain": [
       "1.0    36728\n",
       "2.0    15136\n",
       "3.0     2900\n",
       "4.0     7231\n",
       "Name: relig4, dtype: int64"
      ]
     },
     "execution_count": 88,
     "metadata": {},
     "output_type": "execute_result"
    }
   ],
   "source": [
    "utils.values(gss, 'relig4')"
   ]
  },
  {
   "cell_type": "code",
   "execution_count": 89,
   "metadata": {
    "collapsed": false
   },
   "outputs": [
    {
     "data": {
      "text/plain": [
       "39773"
      ]
     },
     "execution_count": 89,
     "metadata": {},
     "output_type": "execute_result"
    }
   ],
   "source": [
    "sum(gss.god.isnull())"
   ]
  },
  {
   "cell_type": "code",
   "execution_count": 90,
   "metadata": {
    "collapsed": true
   },
   "outputs": [],
   "source": [
    "def create_belief_vars(df):\n",
    "    \"\"\"Creates columns for belief categories.\n",
    "    \n",
    "    df: DataFrame\n",
    "    \"\"\"\n",
    "    df['nobelief'] = (df.god.isin([1, 2]))\n",
    "    df['belief'] = (df.god.isin([3, 4, 5]))\n",
    "    df['strongbelief'] = (df.god.isin([6]))\n",
    "    \n",
    "    df['belief3'] = df.god.copy()\n",
    "    df.belief3.replace([1, 2], 1, inplace=True)\n",
    "    df.belief3.replace([3, 4, 5], 2, inplace=True)\n",
    "    df.belief3.replace([6], 3, inplace=True)\n",
    "\n",
    "    varnames = ['strongbelief', 'belief', 'nobelief', 'belief3']\n",
    "    df.loc[df.god.isnull(), varnames] = np.nan\n",
    "    \n",
    "create_belief_vars(gss)"
   ]
  },
  {
   "cell_type": "code",
   "execution_count": 91,
   "metadata": {
    "collapsed": false,
    "scrolled": true
   },
   "outputs": [
    {
     "data": {
      "text/plain": [
       "1.0     1778\n",
       "2.0     6819\n",
       "3.0    13625\n",
       "Name: belief3, dtype: int64"
      ]
     },
     "execution_count": 91,
     "metadata": {},
     "output_type": "execute_result"
    }
   ],
   "source": [
    "utils.values(gss, 'belief3')"
   ]
  },
  {
   "cell_type": "code",
   "execution_count": 92,
   "metadata": {
    "collapsed": false,
    "scrolled": true
   },
   "outputs": [
    {
     "data": {
      "text/plain": [
       "21354"
      ]
     },
     "execution_count": 92,
     "metadata": {},
     "output_type": "execute_result"
    }
   ],
   "source": [
    "sum(gss.conclerg.isnull())"
   ]
  },
  {
   "cell_type": "code",
   "execution_count": 93,
   "metadata": {
    "collapsed": true
   },
   "outputs": [],
   "source": [
    "def create_conf_vars(df):\n",
    "    \"\"\"Creates columns for confidence in religion categories.\n",
    "    \n",
    "    df: DataFrame\n",
    "    \"\"\"\n",
    "    df['confident'] = (df.conclerg == 1)\n",
    "    df['someconf'] = (df.conclerg == 2)\n",
    "    df['noconf'] = (df.conclerg == 3)\n",
    "\n",
    "    varnames = ['confident', 'someconf', 'noconf']\n",
    "    df.loc[df.conclerg.isnull(), varnames] = np.nan\n",
    "    \n",
    "create_conf_vars(gss)"
   ]
  },
  {
   "cell_type": "code",
   "execution_count": 94,
   "metadata": {
    "collapsed": false,
    "scrolled": true
   },
   "outputs": [
    {
     "data": {
      "text/plain": [
       "1.0    11308\n",
       "2.0    20740\n",
       "3.0     8593\n",
       "Name: conclerg, dtype: int64"
      ]
     },
     "execution_count": 94,
     "metadata": {},
     "output_type": "execute_result"
    }
   ],
   "source": [
    "utils.values(gss, 'conclerg')"
   ]
  },
  {
   "cell_type": "code",
   "execution_count": 95,
   "metadata": {
    "collapsed": false,
    "scrolled": true
   },
   "outputs": [
    {
     "data": {
      "text/plain": [
       "29138"
      ]
     },
     "execution_count": 95,
     "metadata": {},
     "output_type": "execute_result"
    }
   ],
   "source": [
    "sum(gss.bible.isnull())"
   ]
  },
  {
   "cell_type": "code",
   "execution_count": 96,
   "metadata": {
    "collapsed": true
   },
   "outputs": [],
   "source": [
    "def create_bible_vars(df):\n",
    "    \"\"\"Creates columns for bible interpretation categories.\n",
    "    \n",
    "    df: DataFrame\n",
    "    \"\"\"\n",
    "    df['word'] = (df.bible == 1)\n",
    "    df['inspired'] = (df.bible == 2)\n",
    "    df['legends'] = (df.bible == 3)\n",
    "\n",
    "    varnames = ['word', 'inspired', 'legends']\n",
    "    df.loc[df.bible.isnull(), varnames] = np.nan\n",
    "    \n",
    "create_bible_vars(gss)"
   ]
  },
  {
   "cell_type": "code",
   "execution_count": 97,
   "metadata": {
    "collapsed": false,
    "scrolled": true
   },
   "outputs": [
    {
     "data": {
      "text/plain": [
       "1.0    11123\n",
       "2.0    15843\n",
       "3.0     5891\n",
       "Name: bible, dtype: int64"
      ]
     },
     "execution_count": 97,
     "metadata": {},
     "output_type": "execute_result"
    }
   ],
   "source": [
    "utils.values(gss, 'bible')"
   ]
  },
  {
   "cell_type": "markdown",
   "metadata": {},
   "source": [
    "Resampling (bootstrapping to be more specific) to account for sampling weights."
   ]
  },
  {
   "cell_type": "code",
   "execution_count": 98,
   "metadata": {
    "collapsed": false,
    "scrolled": true
   },
   "outputs": [
    {
     "data": {
      "text/html": [
       "<div>\n",
       "<table border=\"1\" class=\"dataframe\">\n",
       "  <thead>\n",
       "    <tr style=\"text-align: right;\">\n",
       "      <th></th>\n",
       "      <th>year</th>\n",
       "      <th>conclerg</th>\n",
       "      <th>bible</th>\n",
       "      <th>cohort</th>\n",
       "      <th>age</th>\n",
       "      <th>wtssall</th>\n",
       "      <th>ballot</th>\n",
       "      <th>relig</th>\n",
       "      <th>educ</th>\n",
       "      <th>id_</th>\n",
       "      <th>...</th>\n",
       "      <th>nobelief</th>\n",
       "      <th>belief</th>\n",
       "      <th>strongbelief</th>\n",
       "      <th>belief3</th>\n",
       "      <th>confident</th>\n",
       "      <th>someconf</th>\n",
       "      <th>noconf</th>\n",
       "      <th>word</th>\n",
       "      <th>inspired</th>\n",
       "      <th>legends</th>\n",
       "    </tr>\n",
       "  </thead>\n",
       "  <tbody>\n",
       "    <tr>\n",
       "      <th>0</th>\n",
       "      <td>1972</td>\n",
       "      <td>NaN</td>\n",
       "      <td>NaN</td>\n",
       "      <td>1930.0</td>\n",
       "      <td>42.0</td>\n",
       "      <td>0.8893</td>\n",
       "      <td>0</td>\n",
       "      <td>1.0</td>\n",
       "      <td>12</td>\n",
       "      <td>27</td>\n",
       "      <td>...</td>\n",
       "      <td>NaN</td>\n",
       "      <td>NaN</td>\n",
       "      <td>NaN</td>\n",
       "      <td>NaN</td>\n",
       "      <td>NaN</td>\n",
       "      <td>NaN</td>\n",
       "      <td>NaN</td>\n",
       "      <td>NaN</td>\n",
       "      <td>NaN</td>\n",
       "      <td>NaN</td>\n",
       "    </tr>\n",
       "    <tr>\n",
       "      <th>1</th>\n",
       "      <td>1972</td>\n",
       "      <td>NaN</td>\n",
       "      <td>NaN</td>\n",
       "      <td>1920.0</td>\n",
       "      <td>52.0</td>\n",
       "      <td>1.7786</td>\n",
       "      <td>0</td>\n",
       "      <td>2.0</td>\n",
       "      <td>8</td>\n",
       "      <td>819</td>\n",
       "      <td>...</td>\n",
       "      <td>NaN</td>\n",
       "      <td>NaN</td>\n",
       "      <td>NaN</td>\n",
       "      <td>NaN</td>\n",
       "      <td>NaN</td>\n",
       "      <td>NaN</td>\n",
       "      <td>NaN</td>\n",
       "      <td>NaN</td>\n",
       "      <td>NaN</td>\n",
       "      <td>NaN</td>\n",
       "    </tr>\n",
       "    <tr>\n",
       "      <th>2</th>\n",
       "      <td>1972</td>\n",
       "      <td>NaN</td>\n",
       "      <td>NaN</td>\n",
       "      <td>1929.0</td>\n",
       "      <td>43.0</td>\n",
       "      <td>1.3339</td>\n",
       "      <td>0</td>\n",
       "      <td>2.0</td>\n",
       "      <td>11</td>\n",
       "      <td>1053</td>\n",
       "      <td>...</td>\n",
       "      <td>NaN</td>\n",
       "      <td>NaN</td>\n",
       "      <td>NaN</td>\n",
       "      <td>NaN</td>\n",
       "      <td>NaN</td>\n",
       "      <td>NaN</td>\n",
       "      <td>NaN</td>\n",
       "      <td>NaN</td>\n",
       "      <td>NaN</td>\n",
       "      <td>NaN</td>\n",
       "    </tr>\n",
       "    <tr>\n",
       "      <th>3</th>\n",
       "      <td>1972</td>\n",
       "      <td>NaN</td>\n",
       "      <td>NaN</td>\n",
       "      <td>1932.0</td>\n",
       "      <td>40.0</td>\n",
       "      <td>1.3339</td>\n",
       "      <td>0</td>\n",
       "      <td>5.0</td>\n",
       "      <td>12</td>\n",
       "      <td>326</td>\n",
       "      <td>...</td>\n",
       "      <td>NaN</td>\n",
       "      <td>NaN</td>\n",
       "      <td>NaN</td>\n",
       "      <td>NaN</td>\n",
       "      <td>NaN</td>\n",
       "      <td>NaN</td>\n",
       "      <td>NaN</td>\n",
       "      <td>NaN</td>\n",
       "      <td>NaN</td>\n",
       "      <td>NaN</td>\n",
       "    </tr>\n",
       "    <tr>\n",
       "      <th>4</th>\n",
       "      <td>1972</td>\n",
       "      <td>NaN</td>\n",
       "      <td>NaN</td>\n",
       "      <td>1940.0</td>\n",
       "      <td>32.0</td>\n",
       "      <td>0.8893</td>\n",
       "      <td>0</td>\n",
       "      <td>2.0</td>\n",
       "      <td>12</td>\n",
       "      <td>984</td>\n",
       "      <td>...</td>\n",
       "      <td>NaN</td>\n",
       "      <td>NaN</td>\n",
       "      <td>NaN</td>\n",
       "      <td>NaN</td>\n",
       "      <td>NaN</td>\n",
       "      <td>NaN</td>\n",
       "      <td>NaN</td>\n",
       "      <td>NaN</td>\n",
       "      <td>NaN</td>\n",
       "      <td>NaN</td>\n",
       "    </tr>\n",
       "  </tbody>\n",
       "</table>\n",
       "<p>5 rows × 29 columns</p>\n",
       "</div>"
      ],
      "text/plain": [
       "   year  conclerg  bible  cohort   age  wtssall  ballot  relig  educ   id_  \\\n",
       "0  1972       NaN    NaN  1930.0  42.0   0.8893       0    1.0    12    27   \n",
       "1  1972       NaN    NaN  1920.0  52.0   1.7786       0    2.0     8   819   \n",
       "2  1972       NaN    NaN  1929.0  43.0   1.3339       0    2.0    11  1053   \n",
       "3  1972       NaN    NaN  1932.0  40.0   1.3339       0    5.0    12   326   \n",
       "4  1972       NaN    NaN  1940.0  32.0   0.8893       0    2.0    12   984   \n",
       "\n",
       "    ...     nobelief  belief  strongbelief  belief3  confident  someconf  \\\n",
       "0   ...          NaN     NaN           NaN      NaN        NaN       NaN   \n",
       "1   ...          NaN     NaN           NaN      NaN        NaN       NaN   \n",
       "2   ...          NaN     NaN           NaN      NaN        NaN       NaN   \n",
       "3   ...          NaN     NaN           NaN      NaN        NaN       NaN   \n",
       "4   ...          NaN     NaN           NaN      NaN        NaN       NaN   \n",
       "\n",
       "   noconf  word  inspired  legends  \n",
       "0     NaN   NaN       NaN      NaN  \n",
       "1     NaN   NaN       NaN      NaN  \n",
       "2     NaN   NaN       NaN      NaN  \n",
       "3     NaN   NaN       NaN      NaN  \n",
       "4     NaN   NaN       NaN      NaN  \n",
       "\n",
       "[5 rows x 29 columns]"
      ]
     },
     "execution_count": 98,
     "metadata": {},
     "output_type": "execute_result"
    }
   ],
   "source": [
    "sample = utils.ResampleByYear(gss)\n",
    "sample.head()"
   ]
  },
  {
   "cell_type": "code",
   "execution_count": 99,
   "metadata": {
    "collapsed": true
   },
   "outputs": [],
   "source": [
    "def center_factors(df):\n",
    "    \"\"\"Center factors around their means.\n",
    "    \n",
    "    Add centered factors for the model.\n",
    "    \n",
    "    df: DataFrame\n",
    "    \"\"\"\n",
    "    df['ones'] = np.ones_like(df.cohort)\n",
    "    df['c'] = df.cohort - 1966\n",
    "    df['c2'] = df.c**2\n",
    "    df['a'] = df.age - 47\n",
    "    df['a2'] = df.a**2\n",
    "    df['ac'] = df.a * df.c"
   ]
  },
  {
   "cell_type": "code",
   "execution_count": 100,
   "metadata": {
    "collapsed": true
   },
   "outputs": [],
   "source": [
    "center_factors(sample)"
   ]
  },
  {
   "cell_type": "code",
   "execution_count": 101,
   "metadata": {
    "collapsed": false
   },
   "outputs": [
    {
     "name": "stdout",
     "output_type": "stream",
     "text": [
      "Optimization terminated successfully.\n",
      "         Current function value: 0.665717\n",
      "         Iterations 5\n"
     ]
    },
    {
     "data": {
      "text/html": [
       "<table class=\"simpletable\">\n",
       "<caption>Logit Regression Results</caption>\n",
       "<tr>\n",
       "  <th>Dep. Variable:</th>       <td>prot</td>       <th>  No. Observations:  </th>  <td> 61995</td> \n",
       "</tr>\n",
       "<tr>\n",
       "  <th>Model:</th>               <td>Logit</td>      <th>  Df Residuals:      </th>  <td> 61990</td> \n",
       "</tr>\n",
       "<tr>\n",
       "  <th>Method:</th>               <td>MLE</td>       <th>  Df Model:          </th>  <td>     4</td> \n",
       "</tr>\n",
       "<tr>\n",
       "  <th>Date:</th>          <td>Tue, 30 May 2017</td> <th>  Pseudo R-squ.:     </th>  <td>0.01974</td>\n",
       "</tr>\n",
       "<tr>\n",
       "  <th>Time:</th>              <td>16:55:04</td>     <th>  Log-Likelihood:    </th> <td> -41271.</td>\n",
       "</tr>\n",
       "<tr>\n",
       "  <th>converged:</th>           <td>True</td>       <th>  LL-Null:           </th> <td> -42102.</td>\n",
       "</tr>\n",
       "<tr>\n",
       "  <th> </th>                      <td> </td>        <th>  LLR p-value:       </th>  <td> 0.000</td> \n",
       "</tr>\n",
       "</table>\n",
       "<table class=\"simpletable\">\n",
       "<tr>\n",
       "      <td></td>         <th>coef</th>     <th>std err</th>      <th>z</th>      <th>P>|z|</th>  <th>[0.025</th>    <th>0.975]</th>  \n",
       "</tr>\n",
       "<tr>\n",
       "  <th>Intercept</th> <td>    0.0716</td> <td>    0.016</td> <td>    4.343</td> <td> 0.000</td> <td>    0.039</td> <td>    0.104</td>\n",
       "</tr>\n",
       "<tr>\n",
       "  <th>c</th>         <td>   -0.0196</td> <td>    0.001</td> <td>  -22.175</td> <td> 0.000</td> <td>   -0.021</td> <td>   -0.018</td>\n",
       "</tr>\n",
       "<tr>\n",
       "  <th>c2</th>        <td>-8.728e-05</td> <td> 1.85e-05</td> <td>   -4.719</td> <td> 0.000</td> <td>   -0.000</td> <td> -5.1e-05</td>\n",
       "</tr>\n",
       "<tr>\n",
       "  <th>a</th>         <td>   -0.0002</td> <td>    0.001</td> <td>   -0.286</td> <td> 0.775</td> <td>   -0.002</td> <td>    0.001</td>\n",
       "</tr>\n",
       "<tr>\n",
       "  <th>a2</th>        <td> 3.228e-05</td> <td> 3.16e-05</td> <td>    1.023</td> <td> 0.306</td> <td>-2.96e-05</td> <td> 9.41e-05</td>\n",
       "</tr>\n",
       "</table>"
      ],
      "text/plain": [
       "<class 'statsmodels.iolib.summary.Summary'>\n",
       "\"\"\"\n",
       "                           Logit Regression Results                           \n",
       "==============================================================================\n",
       "Dep. Variable:                   prot   No. Observations:                61995\n",
       "Model:                          Logit   Df Residuals:                    61990\n",
       "Method:                           MLE   Df Model:                            4\n",
       "Date:                Tue, 30 May 2017   Pseudo R-squ.:                 0.01974\n",
       "Time:                        16:55:04   Log-Likelihood:                -41271.\n",
       "converged:                       True   LL-Null:                       -42102.\n",
       "                                        LLR p-value:                     0.000\n",
       "==============================================================================\n",
       "                 coef    std err          z      P>|z|      [0.025      0.975]\n",
       "------------------------------------------------------------------------------\n",
       "Intercept      0.0716      0.016      4.343      0.000       0.039       0.104\n",
       "c             -0.0196      0.001    -22.175      0.000      -0.021      -0.018\n",
       "c2         -8.728e-05   1.85e-05     -4.719      0.000      -0.000    -5.1e-05\n",
       "a             -0.0002      0.001     -0.286      0.775      -0.002       0.001\n",
       "a2          3.228e-05   3.16e-05      1.023      0.306   -2.96e-05    9.41e-05\n",
       "==============================================================================\n",
       "\"\"\""
      ]
     },
     "execution_count": 101,
     "metadata": {},
     "output_type": "execute_result"
    }
   ],
   "source": [
    "formula = 'prot ~ c + c2 + a + a2'\n",
    "results = smf.logit(formula, data=sample).fit()\n",
    "results.summary()"
   ]
  },
  {
   "cell_type": "code",
   "execution_count": 102,
   "metadata": {
    "collapsed": false
   },
   "outputs": [
    {
     "name": "stdout",
     "output_type": "stream",
     "text": [
      "Optimization terminated successfully.\n",
      "         Current function value: 0.566227\n",
      "         Iterations 5\n"
     ]
    },
    {
     "data": {
      "text/html": [
       "<table class=\"simpletable\">\n",
       "<caption>Logit Regression Results</caption>\n",
       "<tr>\n",
       "  <th>Dep. Variable:</th>       <td>cath</td>       <th>  No. Observations:  </th>  <td> 61995</td>  \n",
       "</tr>\n",
       "<tr>\n",
       "  <th>Model:</th>               <td>Logit</td>      <th>  Df Residuals:      </th>  <td> 61990</td>  \n",
       "</tr>\n",
       "<tr>\n",
       "  <th>Method:</th>               <td>MLE</td>       <th>  Df Model:          </th>  <td>     4</td>  \n",
       "</tr>\n",
       "<tr>\n",
       "  <th>Date:</th>          <td>Tue, 30 May 2017</td> <th>  Pseudo R-squ.:     </th> <td>0.001493</td> \n",
       "</tr>\n",
       "<tr>\n",
       "  <th>Time:</th>              <td>16:55:04</td>     <th>  Log-Likelihood:    </th> <td> -35103.</td> \n",
       "</tr>\n",
       "<tr>\n",
       "  <th>converged:</th>           <td>True</td>       <th>  LL-Null:           </th> <td> -35156.</td> \n",
       "</tr>\n",
       "<tr>\n",
       "  <th> </th>                      <td> </td>        <th>  LLR p-value:       </th> <td>8.548e-22</td>\n",
       "</tr>\n",
       "</table>\n",
       "<table class=\"simpletable\">\n",
       "<tr>\n",
       "      <td></td>         <th>coef</th>     <th>std err</th>      <th>z</th>      <th>P>|z|</th>  <th>[0.025</th>    <th>0.975]</th>  \n",
       "</tr>\n",
       "<tr>\n",
       "  <th>Intercept</th> <td>   -1.1216</td> <td>    0.019</td> <td>  -59.776</td> <td> 0.000</td> <td>   -1.158</td> <td>   -1.085</td>\n",
       "</tr>\n",
       "<tr>\n",
       "  <th>c</th>         <td>   -0.0054</td> <td>    0.001</td> <td>   -5.421</td> <td> 0.000</td> <td>   -0.007</td> <td>   -0.003</td>\n",
       "</tr>\n",
       "<tr>\n",
       "  <th>c2</th>        <td>-9.223e-05</td> <td> 2.06e-05</td> <td>   -4.473</td> <td> 0.000</td> <td>   -0.000</td> <td>-5.18e-05</td>\n",
       "</tr>\n",
       "<tr>\n",
       "  <th>a</th>         <td>   -0.0062</td> <td>    0.001</td> <td>   -7.047</td> <td> 0.000</td> <td>   -0.008</td> <td>   -0.004</td>\n",
       "</tr>\n",
       "<tr>\n",
       "  <th>a2</th>        <td> 1.581e-05</td> <td> 3.51e-05</td> <td>    0.450</td> <td> 0.652</td> <td> -5.3e-05</td> <td> 8.46e-05</td>\n",
       "</tr>\n",
       "</table>"
      ],
      "text/plain": [
       "<class 'statsmodels.iolib.summary.Summary'>\n",
       "\"\"\"\n",
       "                           Logit Regression Results                           \n",
       "==============================================================================\n",
       "Dep. Variable:                   cath   No. Observations:                61995\n",
       "Model:                          Logit   Df Residuals:                    61990\n",
       "Method:                           MLE   Df Model:                            4\n",
       "Date:                Tue, 30 May 2017   Pseudo R-squ.:                0.001493\n",
       "Time:                        16:55:04   Log-Likelihood:                -35103.\n",
       "converged:                       True   LL-Null:                       -35156.\n",
       "                                        LLR p-value:                 8.548e-22\n",
       "==============================================================================\n",
       "                 coef    std err          z      P>|z|      [0.025      0.975]\n",
       "------------------------------------------------------------------------------\n",
       "Intercept     -1.1216      0.019    -59.776      0.000      -1.158      -1.085\n",
       "c             -0.0054      0.001     -5.421      0.000      -0.007      -0.003\n",
       "c2         -9.223e-05   2.06e-05     -4.473      0.000      -0.000   -5.18e-05\n",
       "a             -0.0062      0.001     -7.047      0.000      -0.008      -0.004\n",
       "a2          1.581e-05   3.51e-05      0.450      0.652    -5.3e-05    8.46e-05\n",
       "==============================================================================\n",
       "\"\"\""
      ]
     },
     "execution_count": 102,
     "metadata": {},
     "output_type": "execute_result"
    }
   ],
   "source": [
    "formula = 'cath ~ c + c2 + a + a2'\n",
    "results = smf.logit(formula, data=sample).fit()\n",
    "results.summary()"
   ]
  },
  {
   "cell_type": "code",
   "execution_count": 103,
   "metadata": {
    "collapsed": false
   },
   "outputs": [
    {
     "name": "stdout",
     "output_type": "stream",
     "text": [
      "Optimization terminated successfully.\n",
      "         Current function value: 0.334222\n",
      "         Iterations 7\n"
     ]
    },
    {
     "data": {
      "text/html": [
       "<table class=\"simpletable\">\n",
       "<caption>Logit Regression Results</caption>\n",
       "<tr>\n",
       "  <th>Dep. Variable:</th>       <td>none</td>       <th>  No. Observations:  </th>  <td> 61995</td> \n",
       "</tr>\n",
       "<tr>\n",
       "  <th>Model:</th>               <td>Logit</td>      <th>  Df Residuals:      </th>  <td> 61990</td> \n",
       "</tr>\n",
       "<tr>\n",
       "  <th>Method:</th>               <td>MLE</td>       <th>  Df Model:          </th>  <td>     4</td> \n",
       "</tr>\n",
       "<tr>\n",
       "  <th>Date:</th>          <td>Tue, 30 May 2017</td> <th>  Pseudo R-squ.:     </th>  <td>0.06301</td>\n",
       "</tr>\n",
       "<tr>\n",
       "  <th>Time:</th>              <td>16:55:04</td>     <th>  Log-Likelihood:    </th> <td> -20720.</td>\n",
       "</tr>\n",
       "<tr>\n",
       "  <th>converged:</th>           <td>True</td>       <th>  LL-Null:           </th> <td> -22113.</td>\n",
       "</tr>\n",
       "<tr>\n",
       "  <th> </th>                      <td> </td>        <th>  LLR p-value:       </th>  <td> 0.000</td> \n",
       "</tr>\n",
       "</table>\n",
       "<table class=\"simpletable\">\n",
       "<tr>\n",
       "      <td></td>         <th>coef</th>     <th>std err</th>      <th>z</th>      <th>P>|z|</th>  <th>[0.025</th>    <th>0.975]</th>  \n",
       "</tr>\n",
       "<tr>\n",
       "  <th>Intercept</th> <td>   -1.5150</td> <td>    0.024</td> <td>  -63.654</td> <td> 0.000</td> <td>   -1.562</td> <td>   -1.468</td>\n",
       "</tr>\n",
       "<tr>\n",
       "  <th>c</th>         <td>    0.0409</td> <td>    0.001</td> <td>   33.595</td> <td> 0.000</td> <td>    0.039</td> <td>    0.043</td>\n",
       "</tr>\n",
       "<tr>\n",
       "  <th>c2</th>        <td> -5.89e-05</td> <td> 3.36e-05</td> <td>   -1.751</td> <td> 0.080</td> <td>   -0.000</td> <td> 7.05e-06</td>\n",
       "</tr>\n",
       "<tr>\n",
       "  <th>a</th>         <td>    0.0127</td> <td>    0.001</td> <td>    9.608</td> <td> 0.000</td> <td>    0.010</td> <td>    0.015</td>\n",
       "</tr>\n",
       "<tr>\n",
       "  <th>a2</th>        <td>    0.0001</td> <td> 5.54e-05</td> <td>    2.013</td> <td> 0.044</td> <td> 2.92e-06</td> <td>    0.000</td>\n",
       "</tr>\n",
       "</table>"
      ],
      "text/plain": [
       "<class 'statsmodels.iolib.summary.Summary'>\n",
       "\"\"\"\n",
       "                           Logit Regression Results                           \n",
       "==============================================================================\n",
       "Dep. Variable:                   none   No. Observations:                61995\n",
       "Model:                          Logit   Df Residuals:                    61990\n",
       "Method:                           MLE   Df Model:                            4\n",
       "Date:                Tue, 30 May 2017   Pseudo R-squ.:                 0.06301\n",
       "Time:                        16:55:04   Log-Likelihood:                -20720.\n",
       "converged:                       True   LL-Null:                       -22113.\n",
       "                                        LLR p-value:                     0.000\n",
       "==============================================================================\n",
       "                 coef    std err          z      P>|z|      [0.025      0.975]\n",
       "------------------------------------------------------------------------------\n",
       "Intercept     -1.5150      0.024    -63.654      0.000      -1.562      -1.468\n",
       "c              0.0409      0.001     33.595      0.000       0.039       0.043\n",
       "c2          -5.89e-05   3.36e-05     -1.751      0.080      -0.000    7.05e-06\n",
       "a              0.0127      0.001      9.608      0.000       0.010       0.015\n",
       "a2             0.0001   5.54e-05      2.013      0.044    2.92e-06       0.000\n",
       "==============================================================================\n",
       "\"\"\""
      ]
     },
     "execution_count": 103,
     "metadata": {},
     "output_type": "execute_result"
    }
   ],
   "source": [
    "formula = 'none ~ c + c2 + a + a2'\n",
    "results = smf.logit(formula, data=sample).fit()\n",
    "results.summary()"
   ]
  },
  {
   "cell_type": "code",
   "execution_count": 104,
   "metadata": {
    "collapsed": false
   },
   "outputs": [
    {
     "name": "stdout",
     "output_type": "stream",
     "text": [
      "Optimization terminated successfully.\n",
      "         Current function value: 0.189399\n",
      "         Iterations 7\n"
     ]
    },
    {
     "data": {
      "text/html": [
       "<table class=\"simpletable\">\n",
       "<caption>Logit Regression Results</caption>\n",
       "<tr>\n",
       "  <th>Dep. Variable:</th>       <td>other</td>      <th>  No. Observations:  </th>  <td> 61995</td>  \n",
       "</tr>\n",
       "<tr>\n",
       "  <th>Model:</th>               <td>Logit</td>      <th>  Df Residuals:      </th>  <td> 61990</td>  \n",
       "</tr>\n",
       "<tr>\n",
       "  <th>Method:</th>               <td>MLE</td>       <th>  Df Model:          </th>  <td>     4</td>  \n",
       "</tr>\n",
       "<tr>\n",
       "  <th>Date:</th>          <td>Tue, 30 May 2017</td> <th>  Pseudo R-squ.:     </th> <td>0.003594</td> \n",
       "</tr>\n",
       "<tr>\n",
       "  <th>Time:</th>              <td>16:55:04</td>     <th>  Log-Likelihood:    </th> <td> -11742.</td> \n",
       "</tr>\n",
       "<tr>\n",
       "  <th>converged:</th>           <td>True</td>       <th>  LL-Null:           </th> <td> -11784.</td> \n",
       "</tr>\n",
       "<tr>\n",
       "  <th> </th>                      <td> </td>        <th>  LLR p-value:       </th> <td>1.745e-17</td>\n",
       "</tr>\n",
       "</table>\n",
       "<table class=\"simpletable\">\n",
       "<tr>\n",
       "      <td></td>         <th>coef</th>     <th>std err</th>      <th>z</th>      <th>P>|z|</th>  <th>[0.025</th>    <th>0.975]</th>  \n",
       "</tr>\n",
       "<tr>\n",
       "  <th>Intercept</th> <td>   -2.8059</td> <td>    0.037</td> <td>  -76.498</td> <td> 0.000</td> <td>   -2.878</td> <td>   -2.734</td>\n",
       "</tr>\n",
       "<tr>\n",
       "  <th>c</th>         <td>    0.0119</td> <td>    0.002</td> <td>    6.147</td> <td> 0.000</td> <td>    0.008</td> <td>    0.016</td>\n",
       "</tr>\n",
       "<tr>\n",
       "  <th>c2</th>        <td> 4.793e-05</td> <td> 4.24e-05</td> <td>    1.130</td> <td> 0.258</td> <td>-3.52e-05</td> <td>    0.000</td>\n",
       "</tr>\n",
       "<tr>\n",
       "  <th>a</th>         <td>    0.0035</td> <td>    0.002</td> <td>    1.924</td> <td> 0.054</td> <td>-6.59e-05</td> <td>    0.007</td>\n",
       "</tr>\n",
       "<tr>\n",
       "  <th>a2</th>        <td>   -0.0001</td> <td> 7.52e-05</td> <td>   -1.847</td> <td> 0.065</td> <td>   -0.000</td> <td> 8.47e-06</td>\n",
       "</tr>\n",
       "</table>"
      ],
      "text/plain": [
       "<class 'statsmodels.iolib.summary.Summary'>\n",
       "\"\"\"\n",
       "                           Logit Regression Results                           \n",
       "==============================================================================\n",
       "Dep. Variable:                  other   No. Observations:                61995\n",
       "Model:                          Logit   Df Residuals:                    61990\n",
       "Method:                           MLE   Df Model:                            4\n",
       "Date:                Tue, 30 May 2017   Pseudo R-squ.:                0.003594\n",
       "Time:                        16:55:04   Log-Likelihood:                -11742.\n",
       "converged:                       True   LL-Null:                       -11784.\n",
       "                                        LLR p-value:                 1.745e-17\n",
       "==============================================================================\n",
       "                 coef    std err          z      P>|z|      [0.025      0.975]\n",
       "------------------------------------------------------------------------------\n",
       "Intercept     -2.8059      0.037    -76.498      0.000      -2.878      -2.734\n",
       "c              0.0119      0.002      6.147      0.000       0.008       0.016\n",
       "c2          4.793e-05   4.24e-05      1.130      0.258   -3.52e-05       0.000\n",
       "a              0.0035      0.002      1.924      0.054   -6.59e-05       0.007\n",
       "a2            -0.0001   7.52e-05     -1.847      0.065      -0.000    8.47e-06\n",
       "==============================================================================\n",
       "\"\"\""
      ]
     },
     "execution_count": 104,
     "metadata": {},
     "output_type": "execute_result"
    }
   ],
   "source": [
    "formula = 'other ~ c + c2 + a + a2'\n",
    "results = smf.logit(formula, data=sample).fit()\n",
    "results.summary()"
   ]
  },
  {
   "cell_type": "markdown",
   "metadata": {},
   "source": [
    "## Generational replacement"
   ]
  },
  {
   "cell_type": "markdown",
   "metadata": {},
   "source": [
    "Choose colors"
   ]
  },
  {
   "cell_type": "code",
   "execution_count": 105,
   "metadata": {
    "collapsed": false
   },
   "outputs": [
    {
     "data": {
      "image/png": "[encoded data removed]",
      "text/plain": [
       "<matplotlib.figure.Figure at 0x7fc9b52c8650>"
      ]
     },
     "metadata": {},
     "output_type": "display_data"
    }
   ],
   "source": [
    "RED, BLUE, GREEN, PURPLE, ORANGE, YELLOW = sns.color_palette('Set1')\n",
    "sns.palplot(sns.color_palette('Set1'))"
   ]
  },
  {
   "cell_type": "markdown",
   "metadata": {},
   "source": []
  },
  {
   "cell_type": "code",
   "execution_count": 106,
   "metadata": {
    "collapsed": false
   },
   "outputs": [],
   "source": [
    "def make_series_seq(grouped, varnames):\n",
    "    \"\"\"Compute the percentage in each category.\n",
    "    \n",
    "    grouped: GroupBy object with one-hots for each category\n",
    "    varnames: list of string column names\n",
    "    \n",
    "    returns: list of Series\n",
    "    \"\"\"\n",
    "    return [grouped[var].mean() * 100 for var in varnames]\n",
    "\n",
    "def plot_series_seq(series_seq, colors, labels):\n",
    "    \"\"\"Plots Series objects.\n",
    "    \n",
    "    series_seq: list of Series\n",
    "    colors: list of string colors\n",
    "    labels: list of string labels\n",
    "    \"\"\"\n",
    "    for series, color, label in zip(series_seq, colors, labels):\n",
    "        thinkplot.plot(series, color=color, label=label)"
   ]
  },
  {
   "cell_type": "code",
   "execution_count": 107,
   "metadata": {
    "collapsed": true
   },
   "outputs": [],
   "source": [
    "def plot_relig(grouped):\n",
    "    \"\"\"Plot one line for each religious group.\n",
    "    \n",
    "    grouped: GroupBy object with one-hots for each religious group\n",
    "    \"\"\"\n",
    "    varnames = ['prot', 'cath', 'none', 'other']\n",
    "    colors = [ORANGE, GREEN, RED, BLUE]\n",
    "    labels = ['Protestant', 'Catholic', 'None', 'Other']\n",
    "    series_seq = make_series_seq(grouped, varnames)\n",
    "    plot_series_seq(series_seq, colors, labels)"
   ]
  },
  {
   "cell_type": "markdown",
   "metadata": {},
   "source": [
    "Plot the percentage in each religious group as a function of survey year."
   ]
  },
  {
   "cell_type": "code",
   "execution_count": 108,
   "metadata": {
    "collapsed": false
   },
   "outputs": [
    {
     "data": {
      "text/plain": [
       "year\n",
       "1972    1603\n",
       "1973    1496\n",
       "1974    1477\n",
       "1975    1483\n",
       "1976    1491\n",
       "1977    1516\n",
       "1978    1522\n",
       "1980    1456\n",
       "1982    1837\n",
       "1983    1588\n",
       "1984    1456\n",
       "1985    1522\n",
       "1986    1460\n",
       "1987    1802\n",
       "1988    1476\n",
       "1989    1530\n",
       "1990    1367\n",
       "1991    1513\n",
       "1993    1592\n",
       "1994    2976\n",
       "1996    2894\n",
       "1998    2792\n",
       "2000    2805\n",
       "2002    2735\n",
       "2004    2792\n",
       "2006    4468\n",
       "2008    2004\n",
       "2010    2028\n",
       "2012    1962\n",
       "2014    2513\n",
       "2016    2839\n",
       "Name: none, dtype: int64"
      ]
     },
     "execution_count": 108,
     "metadata": {},
     "output_type": "execute_result"
    }
   ],
   "source": [
    "grouped_year = sample.groupby(['year'])\n",
    "grouped_year.none.count()"
   ]
  },
  {
   "cell_type": "code",
   "execution_count": 109,
   "metadata": {
    "collapsed": false
   },
   "outputs": [
    {
     "data": {
      "image/png": "[encoded data removed]",
      "text/plain": [
       "<matplotlib.figure.Figure at 0x7fc9b6323190>"
      ]
     },
     "metadata": {},
     "output_type": "display_data"
    }
   ],
   "source": [
    "plot_relig(grouped_year)\n",
    "thinkplot.config(xlabel='Year of survey', ylabel='Percent')"
   ]
  },
  {
   "cell_type": "code",
   "execution_count": 110,
   "metadata": {
    "collapsed": false
   },
   "outputs": [
    {
     "data": {
      "text/plain": [
       "age_group\n",
       "17.5    1499\n",
       "22.5    6316\n",
       "27.5    6576\n",
       "32.5    6359\n",
       "37.5    6176\n",
       "42.5    6121\n",
       "47.5    5889\n",
       "52.5    5222\n",
       "57.5    4647\n",
       "62.5    3939\n",
       "67.5    3184\n",
       "72.5    2584\n",
       "77.5    1767\n",
       "82.5    1074\n",
       "87.5     642\n",
       "Name: none, dtype: int64"
      ]
     },
     "execution_count": 110,
     "metadata": {},
     "output_type": "execute_result"
    }
   ],
   "source": [
    "grouped_age = sample.groupby(['age_group'])\n",
    "grouped_age.none.count()"
   ]
  },
  {
   "cell_type": "code",
   "execution_count": 111,
   "metadata": {
    "collapsed": false
   },
   "outputs": [
    {
     "data": {
      "image/png": "[encoded data removed]",
      "text/plain": [
       "<matplotlib.figure.Figure at 0x7fc9ba8a2a90>"
      ]
     },
     "metadata": {},
     "output_type": "display_data"
    }
   ],
   "source": [
    "plot_relig(grouped_age)\n",
    "thinkplot.config(xlabel='Age', ylabel='Percent')"
   ]
  },
  {
   "cell_type": "markdown",
   "metadata": {},
   "source": [
    "Plot the percentage in each religious group as a function of birth cohort."
   ]
  },
  {
   "cell_type": "code",
   "execution_count": 112,
   "metadata": {
    "collapsed": false
   },
   "outputs": [
    {
     "data": {
      "text/plain": [
       "cohort5\n",
       "1881.5       1\n",
       "1886.5      33\n",
       "1891.5      90\n",
       "1896.5     250\n",
       "1901.5     613\n",
       "1906.5     910\n",
       "1911.5    1431\n",
       "1916.5    1991\n",
       "1921.5    2636\n",
       "1926.5    3027\n",
       "1931.5    3037\n",
       "1936.5    3665\n",
       "1941.5    4325\n",
       "1946.5    5653\n",
       "1951.5    6402\n",
       "1956.5    6512\n",
       "1961.5    5654\n",
       "1966.5    4604\n",
       "1971.5    3636\n",
       "1976.5    2717\n",
       "1981.5    2348\n",
       "1986.5    1360\n",
       "1991.5     774\n",
       "1996.5     326\n",
       "Name: relig, dtype: int64"
      ]
     },
     "execution_count": 112,
     "metadata": {},
     "output_type": "execute_result"
    }
   ],
   "source": [
    "grouped_cohort = sample.groupby(['cohort5'])\n",
    "counts = grouped_cohort.relig.count()\n",
    "counts"
   ]
  },
  {
   "cell_type": "code",
   "execution_count": 113,
   "metadata": {
    "collapsed": false
   },
   "outputs": [],
   "source": [
    "since_1900 = sample.loc[sample.cohort >= 1900]\n",
    "grouped_cohort = since_1900.groupby(['cohort5'])"
   ]
  },
  {
   "cell_type": "code",
   "execution_count": 114,
   "metadata": {
    "collapsed": false
   },
   "outputs": [
    {
     "data": {
      "image/png": "[encoded data removed]",
      "text/plain": [
       "<matplotlib.figure.Figure at 0x7fc9b9549690>"
      ]
     },
     "metadata": {},
     "output_type": "display_data"
    }
   ],
   "source": [
    "plot_relig(grouped_cohort)\n",
    "thinkplot.config(xlabel='Year of birth', ylabel='Percent')"
   ]
  },
  {
   "cell_type": "markdown",
   "metadata": {},
   "source": [
    "Before running models, center the factors we're planning to use."
   ]
  },
  {
   "cell_type": "code",
   "execution_count": 115,
   "metadata": {
    "collapsed": false
   },
   "outputs": [],
   "source": [
    "def center_factors(df):\n",
    "    \"\"\"Center factors around their means.\n",
    "    \n",
    "    Add centered factors for the model.\n",
    "    \n",
    "    df: DataFrame\n",
    "    \"\"\"\n",
    "    df['ones'] = np.ones_like(df.cohort)\n",
    "    df['c'] = df.cohort - 1966\n",
    "    df['c2'] = df.c**2\n",
    "    df['a'] = df.age - 47\n",
    "    df['a2'] = df.a**2\n",
    "    df['ac'] = df.a * df.c"
   ]
  },
  {
   "cell_type": "code",
   "execution_count": 116,
   "metadata": {
    "collapsed": false
   },
   "outputs": [
    {
     "data": {
      "text/html": [
       "<div>\n",
       "<table border=\"1\" class=\"dataframe\">\n",
       "  <thead>\n",
       "    <tr style=\"text-align: right;\">\n",
       "      <th></th>\n",
       "      <th>year</th>\n",
       "      <th>conclerg</th>\n",
       "      <th>bible</th>\n",
       "      <th>cohort</th>\n",
       "      <th>age</th>\n",
       "      <th>wtssall</th>\n",
       "      <th>ballot</th>\n",
       "      <th>relig</th>\n",
       "      <th>educ</th>\n",
       "      <th>id_</th>\n",
       "      <th>...</th>\n",
       "      <th>noconf</th>\n",
       "      <th>word</th>\n",
       "      <th>inspired</th>\n",
       "      <th>legends</th>\n",
       "      <th>ones</th>\n",
       "      <th>c</th>\n",
       "      <th>c2</th>\n",
       "      <th>a</th>\n",
       "      <th>a2</th>\n",
       "      <th>ac</th>\n",
       "    </tr>\n",
       "  </thead>\n",
       "  <tbody>\n",
       "    <tr>\n",
       "      <th>0</th>\n",
       "      <td>1972</td>\n",
       "      <td>NaN</td>\n",
       "      <td>NaN</td>\n",
       "      <td>1930.0</td>\n",
       "      <td>42.0</td>\n",
       "      <td>0.8893</td>\n",
       "      <td>0</td>\n",
       "      <td>1.0</td>\n",
       "      <td>12</td>\n",
       "      <td>27</td>\n",
       "      <td>...</td>\n",
       "      <td>NaN</td>\n",
       "      <td>NaN</td>\n",
       "      <td>NaN</td>\n",
       "      <td>NaN</td>\n",
       "      <td>1.0</td>\n",
       "      <td>-36.0</td>\n",
       "      <td>1296.0</td>\n",
       "      <td>-5.0</td>\n",
       "      <td>25.0</td>\n",
       "      <td>180.0</td>\n",
       "    </tr>\n",
       "    <tr>\n",
       "      <th>1</th>\n",
       "      <td>1972</td>\n",
       "      <td>NaN</td>\n",
       "      <td>NaN</td>\n",
       "      <td>1920.0</td>\n",
       "      <td>52.0</td>\n",
       "      <td>1.7786</td>\n",
       "      <td>0</td>\n",
       "      <td>2.0</td>\n",
       "      <td>8</td>\n",
       "      <td>819</td>\n",
       "      <td>...</td>\n",
       "      <td>NaN</td>\n",
       "      <td>NaN</td>\n",
       "      <td>NaN</td>\n",
       "      <td>NaN</td>\n",
       "      <td>1.0</td>\n",
       "      <td>-46.0</td>\n",
       "      <td>2116.0</td>\n",
       "      <td>5.0</td>\n",
       "      <td>25.0</td>\n",
       "      <td>-230.0</td>\n",
       "    </tr>\n",
       "    <tr>\n",
       "      <th>2</th>\n",
       "      <td>1972</td>\n",
       "      <td>NaN</td>\n",
       "      <td>NaN</td>\n",
       "      <td>1929.0</td>\n",
       "      <td>43.0</td>\n",
       "      <td>1.3339</td>\n",
       "      <td>0</td>\n",
       "      <td>2.0</td>\n",
       "      <td>11</td>\n",
       "      <td>1053</td>\n",
       "      <td>...</td>\n",
       "      <td>NaN</td>\n",
       "      <td>NaN</td>\n",
       "      <td>NaN</td>\n",
       "      <td>NaN</td>\n",
       "      <td>1.0</td>\n",
       "      <td>-37.0</td>\n",
       "      <td>1369.0</td>\n",
       "      <td>-4.0</td>\n",
       "      <td>16.0</td>\n",
       "      <td>148.0</td>\n",
       "    </tr>\n",
       "    <tr>\n",
       "      <th>3</th>\n",
       "      <td>1972</td>\n",
       "      <td>NaN</td>\n",
       "      <td>NaN</td>\n",
       "      <td>1932.0</td>\n",
       "      <td>40.0</td>\n",
       "      <td>1.3339</td>\n",
       "      <td>0</td>\n",
       "      <td>5.0</td>\n",
       "      <td>12</td>\n",
       "      <td>326</td>\n",
       "      <td>...</td>\n",
       "      <td>NaN</td>\n",
       "      <td>NaN</td>\n",
       "      <td>NaN</td>\n",
       "      <td>NaN</td>\n",
       "      <td>1.0</td>\n",
       "      <td>-34.0</td>\n",
       "      <td>1156.0</td>\n",
       "      <td>-7.0</td>\n",
       "      <td>49.0</td>\n",
       "      <td>238.0</td>\n",
       "    </tr>\n",
       "    <tr>\n",
       "      <th>4</th>\n",
       "      <td>1972</td>\n",
       "      <td>NaN</td>\n",
       "      <td>NaN</td>\n",
       "      <td>1940.0</td>\n",
       "      <td>32.0</td>\n",
       "      <td>0.8893</td>\n",
       "      <td>0</td>\n",
       "      <td>2.0</td>\n",
       "      <td>12</td>\n",
       "      <td>984</td>\n",
       "      <td>...</td>\n",
       "      <td>NaN</td>\n",
       "      <td>NaN</td>\n",
       "      <td>NaN</td>\n",
       "      <td>NaN</td>\n",
       "      <td>1.0</td>\n",
       "      <td>-26.0</td>\n",
       "      <td>676.0</td>\n",
       "      <td>-15.0</td>\n",
       "      <td>225.0</td>\n",
       "      <td>390.0</td>\n",
       "    </tr>\n",
       "  </tbody>\n",
       "</table>\n",
       "<p>5 rows × 35 columns</p>\n",
       "</div>"
      ],
      "text/plain": [
       "   year  conclerg  bible  cohort   age  wtssall  ballot  relig  educ   id_  \\\n",
       "0  1972       NaN    NaN  1930.0  42.0   0.8893       0    1.0    12    27   \n",
       "1  1972       NaN    NaN  1920.0  52.0   1.7786       0    2.0     8   819   \n",
       "2  1972       NaN    NaN  1929.0  43.0   1.3339       0    2.0    11  1053   \n",
       "3  1972       NaN    NaN  1932.0  40.0   1.3339       0    5.0    12   326   \n",
       "4  1972       NaN    NaN  1940.0  32.0   0.8893       0    2.0    12   984   \n",
       "\n",
       "   ...    noconf  word  inspired  legends  ones     c      c2     a     a2  \\\n",
       "0  ...       NaN   NaN       NaN      NaN   1.0 -36.0  1296.0  -5.0   25.0   \n",
       "1  ...       NaN   NaN       NaN      NaN   1.0 -46.0  2116.0   5.0   25.0   \n",
       "2  ...       NaN   NaN       NaN      NaN   1.0 -37.0  1369.0  -4.0   16.0   \n",
       "3  ...       NaN   NaN       NaN      NaN   1.0 -34.0  1156.0  -7.0   49.0   \n",
       "4  ...       NaN   NaN       NaN      NaN   1.0 -26.0   676.0 -15.0  225.0   \n",
       "\n",
       "      ac  \n",
       "0  180.0  \n",
       "1 -230.0  \n",
       "2  148.0  \n",
       "3  238.0  \n",
       "4  390.0  \n",
       "\n",
       "[5 rows x 35 columns]"
      ]
     },
     "execution_count": 116,
     "metadata": {},
     "output_type": "execute_result"
    }
   ],
   "source": [
    "center_factors(sample)\n",
    "sample.head()"
   ]
  },
  {
   "cell_type": "markdown",
   "metadata": {},
   "source": [
    "## Religious affiliation\n",
    "\n",
    "Run logistic regression to fit models to each religious group."
   ]
  },
  {
   "cell_type": "code",
   "execution_count": 117,
   "metadata": {
    "collapsed": false
   },
   "outputs": [],
   "source": [
    "def make_model(df, var):\n",
    "    \"\"\"Fit a logistic regression model.\n",
    "    \n",
    "    df: DataFrame\n",
    "    var: string name of dependent variable\n",
    "    \"\"\"\n",
    "    formula = var + ' ~ c + c2 + a + a2 + ac'\n",
    "    return smf.logit(formula, data=df).fit()"
   ]
  },
  {
   "cell_type": "code",
   "execution_count": 118,
   "metadata": {
    "collapsed": false
   },
   "outputs": [
    {
     "name": "stdout",
     "output_type": "stream",
     "text": [
      "Optimization terminated successfully.\n",
      "         Current function value: 0.665295\n",
      "         Iterations 5\n"
     ]
    },
    {
     "data": {
      "text/html": [
       "<table class=\"simpletable\">\n",
       "<caption>Logit Regression Results</caption>\n",
       "<tr>\n",
       "  <th>Dep. Variable:</th>       <td>prot</td>       <th>  No. Observations:  </th>  <td> 61995</td> \n",
       "</tr>\n",
       "<tr>\n",
       "  <th>Model:</th>               <td>Logit</td>      <th>  Df Residuals:      </th>  <td> 61989</td> \n",
       "</tr>\n",
       "<tr>\n",
       "  <th>Method:</th>               <td>MLE</td>       <th>  Df Model:          </th>  <td>     5</td> \n",
       "</tr>\n",
       "<tr>\n",
       "  <th>Date:</th>          <td>Tue, 30 May 2017</td> <th>  Pseudo R-squ.:     </th>  <td>0.02036</td>\n",
       "</tr>\n",
       "<tr>\n",
       "  <th>Time:</th>              <td>16:55:06</td>     <th>  Log-Likelihood:    </th> <td> -41245.</td>\n",
       "</tr>\n",
       "<tr>\n",
       "  <th>converged:</th>           <td>True</td>       <th>  LL-Null:           </th> <td> -42102.</td>\n",
       "</tr>\n",
       "<tr>\n",
       "  <th> </th>                      <td> </td>        <th>  LLR p-value:       </th>  <td> 0.000</td> \n",
       "</tr>\n",
       "</table>\n",
       "<table class=\"simpletable\">\n",
       "<tr>\n",
       "      <td></td>         <th>coef</th>     <th>std err</th>      <th>z</th>      <th>P>|z|</th>  <th>[0.025</th>    <th>0.975]</th>  \n",
       "</tr>\n",
       "<tr>\n",
       "  <th>Intercept</th> <td>   -0.0017</td> <td>    0.019</td> <td>   -0.090</td> <td> 0.928</td> <td>   -0.040</td> <td>    0.036</td>\n",
       "</tr>\n",
       "<tr>\n",
       "  <th>c</th>         <td>   -0.0335</td> <td>    0.002</td> <td>  -15.861</td> <td> 0.000</td> <td>   -0.038</td> <td>   -0.029</td>\n",
       "</tr>\n",
       "<tr>\n",
       "  <th>c2</th>        <td>   -0.0004</td> <td> 5.31e-05</td> <td>   -8.425</td> <td> 0.000</td> <td>   -0.001</td> <td>   -0.000</td>\n",
       "</tr>\n",
       "<tr>\n",
       "  <th>a</th>         <td>   -0.0153</td> <td>    0.002</td> <td>   -6.879</td> <td> 0.000</td> <td>   -0.020</td> <td>   -0.011</td>\n",
       "</tr>\n",
       "<tr>\n",
       "  <th>a2</th>        <td>   -0.0004</td> <td> 6.65e-05</td> <td>   -5.897</td> <td> 0.000</td> <td>   -0.001</td> <td>   -0.000</td>\n",
       "</tr>\n",
       "<tr>\n",
       "  <th>ac</th>        <td>   -0.0008</td> <td>    0.000</td> <td>   -7.238</td> <td> 0.000</td> <td>   -0.001</td> <td>   -0.001</td>\n",
       "</tr>\n",
       "</table>"
      ],
      "text/plain": [
       "<class 'statsmodels.iolib.summary.Summary'>\n",
       "\"\"\"\n",
       "                           Logit Regression Results                           \n",
       "==============================================================================\n",
       "Dep. Variable:                   prot   No. Observations:                61995\n",
       "Model:                          Logit   Df Residuals:                    61989\n",
       "Method:                           MLE   Df Model:                            5\n",
       "Date:                Tue, 30 May 2017   Pseudo R-squ.:                 0.02036\n",
       "Time:                        16:55:06   Log-Likelihood:                -41245.\n",
       "converged:                       True   LL-Null:                       -42102.\n",
       "                                        LLR p-value:                     0.000\n",
       "==============================================================================\n",
       "                 coef    std err          z      P>|z|      [0.025      0.975]\n",
       "------------------------------------------------------------------------------\n",
       "Intercept     -0.0017      0.019     -0.090      0.928      -0.040       0.036\n",
       "c             -0.0335      0.002    -15.861      0.000      -0.038      -0.029\n",
       "c2            -0.0004   5.31e-05     -8.425      0.000      -0.001      -0.000\n",
       "a             -0.0153      0.002     -6.879      0.000      -0.020      -0.011\n",
       "a2            -0.0004   6.65e-05     -5.897      0.000      -0.001      -0.000\n",
       "ac            -0.0008      0.000     -7.238      0.000      -0.001      -0.001\n",
       "==============================================================================\n",
       "\"\"\""
      ]
     },
     "execution_count": 118,
     "metadata": {},
     "output_type": "execute_result"
    }
   ],
   "source": [
    "make_model(sample, 'prot').summary()"
   ]
  },
  {
   "cell_type": "code",
   "execution_count": 119,
   "metadata": {
    "collapsed": false
   },
   "outputs": [
    {
     "name": "stdout",
     "output_type": "stream",
     "text": [
      "Optimization terminated successfully.\n",
      "         Current function value: 0.566180\n",
      "         Iterations 5\n"
     ]
    },
    {
     "data": {
      "text/html": [
       "<table class=\"simpletable\">\n",
       "<caption>Logit Regression Results</caption>\n",
       "<tr>\n",
       "  <th>Dep. Variable:</th>       <td>cath</td>       <th>  No. Observations:  </th>  <td> 61995</td>  \n",
       "</tr>\n",
       "<tr>\n",
       "  <th>Model:</th>               <td>Logit</td>      <th>  Df Residuals:      </th>  <td> 61989</td>  \n",
       "</tr>\n",
       "<tr>\n",
       "  <th>Method:</th>               <td>MLE</td>       <th>  Df Model:          </th>  <td>     5</td>  \n",
       "</tr>\n",
       "<tr>\n",
       "  <th>Date:</th>          <td>Tue, 30 May 2017</td> <th>  Pseudo R-squ.:     </th> <td>0.001577</td> \n",
       "</tr>\n",
       "<tr>\n",
       "  <th>Time:</th>              <td>16:55:07</td>     <th>  Log-Likelihood:    </th> <td> -35100.</td> \n",
       "</tr>\n",
       "<tr>\n",
       "  <th>converged:</th>           <td>True</td>       <th>  LL-Null:           </th> <td> -35156.</td> \n",
       "</tr>\n",
       "<tr>\n",
       "  <th> </th>                      <td> </td>        <th>  LLR p-value:       </th> <td>2.686e-22</td>\n",
       "</tr>\n",
       "</table>\n",
       "<table class=\"simpletable\">\n",
       "<tr>\n",
       "      <td></td>         <th>coef</th>     <th>std err</th>      <th>z</th>      <th>P>|z|</th>  <th>[0.025</th>    <th>0.975]</th>  \n",
       "</tr>\n",
       "<tr>\n",
       "  <th>Intercept</th> <td>   -1.0931</td> <td>    0.022</td> <td>  -49.526</td> <td> 0.000</td> <td>   -1.136</td> <td>   -1.050</td>\n",
       "</tr>\n",
       "<tr>\n",
       "  <th>c</th>         <td>   -0.0002</td> <td>    0.002</td> <td>   -0.066</td> <td> 0.947</td> <td>   -0.005</td> <td>    0.004</td>\n",
       "</tr>\n",
       "<tr>\n",
       "  <th>c2</th>        <td> 4.269e-05</td> <td> 5.92e-05</td> <td>    0.721</td> <td> 0.471</td> <td>-7.34e-05</td> <td>    0.000</td>\n",
       "</tr>\n",
       "<tr>\n",
       "  <th>a</th>         <td>   -0.0004</td> <td>    0.003</td> <td>   -0.175</td> <td> 0.861</td> <td>   -0.005</td> <td>    0.004</td>\n",
       "</tr>\n",
       "<tr>\n",
       "  <th>a2</th>        <td>    0.0002</td> <td> 7.42e-05</td> <td>    2.356</td> <td> 0.018</td> <td> 2.94e-05</td> <td>    0.000</td>\n",
       "</tr>\n",
       "<tr>\n",
       "  <th>ac</th>        <td>    0.0003</td> <td>    0.000</td> <td>    2.430</td> <td> 0.015</td> <td> 5.74e-05</td> <td>    0.001</td>\n",
       "</tr>\n",
       "</table>"
      ],
      "text/plain": [
       "<class 'statsmodels.iolib.summary.Summary'>\n",
       "\"\"\"\n",
       "                           Logit Regression Results                           \n",
       "==============================================================================\n",
       "Dep. Variable:                   cath   No. Observations:                61995\n",
       "Model:                          Logit   Df Residuals:                    61989\n",
       "Method:                           MLE   Df Model:                            5\n",
       "Date:                Tue, 30 May 2017   Pseudo R-squ.:                0.001577\n",
       "Time:                        16:55:07   Log-Likelihood:                -35100.\n",
       "converged:                       True   LL-Null:                       -35156.\n",
       "                                        LLR p-value:                 2.686e-22\n",
       "==============================================================================\n",
       "                 coef    std err          z      P>|z|      [0.025      0.975]\n",
       "------------------------------------------------------------------------------\n",
       "Intercept     -1.0931      0.022    -49.526      0.000      -1.136      -1.050\n",
       "c             -0.0002      0.002     -0.066      0.947      -0.005       0.004\n",
       "c2          4.269e-05   5.92e-05      0.721      0.471   -7.34e-05       0.000\n",
       "a             -0.0004      0.003     -0.175      0.861      -0.005       0.004\n",
       "a2             0.0002   7.42e-05      2.356      0.018    2.94e-05       0.000\n",
       "ac             0.0003      0.000      2.430      0.015    5.74e-05       0.001\n",
       "==============================================================================\n",
       "\"\"\""
      ]
     },
     "execution_count": 119,
     "metadata": {},
     "output_type": "execute_result"
    }
   ],
   "source": [
    "make_model(sample, 'cath').summary()"
   ]
  },
  {
   "cell_type": "markdown",
   "metadata": {},
   "source": []
  },
  {
   "cell_type": "code",
   "execution_count": 120,
   "metadata": {
    "collapsed": false
   },
   "outputs": [
    {
     "name": "stdout",
     "output_type": "stream",
     "text": [
      "Optimization terminated successfully.\n",
      "         Current function value: 0.333788\n",
      "         Iterations 7\n"
     ]
    },
    {
     "data": {
      "text/html": [
       "<table class=\"simpletable\">\n",
       "<caption>Logit Regression Results</caption>\n",
       "<tr>\n",
       "  <th>Dep. Variable:</th>       <td>none</td>       <th>  No. Observations:  </th>  <td> 61995</td> \n",
       "</tr>\n",
       "<tr>\n",
       "  <th>Model:</th>               <td>Logit</td>      <th>  Df Residuals:      </th>  <td> 61989</td> \n",
       "</tr>\n",
       "<tr>\n",
       "  <th>Method:</th>               <td>MLE</td>       <th>  Df Model:          </th>  <td>     5</td> \n",
       "</tr>\n",
       "<tr>\n",
       "  <th>Date:</th>          <td>Tue, 30 May 2017</td> <th>  Pseudo R-squ.:     </th>  <td>0.06423</td>\n",
       "</tr>\n",
       "<tr>\n",
       "  <th>Time:</th>              <td>16:55:07</td>     <th>  Log-Likelihood:    </th> <td> -20693.</td>\n",
       "</tr>\n",
       "<tr>\n",
       "  <th>converged:</th>           <td>True</td>       <th>  LL-Null:           </th> <td> -22113.</td>\n",
       "</tr>\n",
       "<tr>\n",
       "  <th> </th>                      <td> </td>        <th>  LLR p-value:       </th>  <td> 0.000</td> \n",
       "</tr>\n",
       "</table>\n",
       "<table class=\"simpletable\">\n",
       "<tr>\n",
       "      <td></td>         <th>coef</th>     <th>std err</th>      <th>z</th>      <th>P>|z|</th>  <th>[0.025</th>    <th>0.975]</th>  \n",
       "</tr>\n",
       "<tr>\n",
       "  <th>Intercept</th> <td>   -1.4240</td> <td>    0.027</td> <td>  -53.727</td> <td> 0.000</td> <td>   -1.476</td> <td>   -1.372</td>\n",
       "</tr>\n",
       "<tr>\n",
       "  <th>c</th>         <td>    0.0617</td> <td>    0.003</td> <td>   20.099</td> <td> 0.000</td> <td>    0.056</td> <td>    0.068</td>\n",
       "</tr>\n",
       "<tr>\n",
       "  <th>c2</th>        <td>    0.0005</td> <td> 8.49e-05</td> <td>    6.113</td> <td> 0.000</td> <td>    0.000</td> <td>    0.001</td>\n",
       "</tr>\n",
       "<tr>\n",
       "  <th>a</th>         <td>    0.0350</td> <td>    0.003</td> <td>   10.674</td> <td> 0.000</td> <td>    0.029</td> <td>    0.041</td>\n",
       "</tr>\n",
       "<tr>\n",
       "  <th>a2</th>        <td>    0.0008</td> <td>    0.000</td> <td>    7.441</td> <td> 0.000</td> <td>    0.001</td> <td>    0.001</td>\n",
       "</tr>\n",
       "<tr>\n",
       "  <th>ac</th>        <td>    0.0013</td> <td>    0.000</td> <td>    7.407</td> <td> 0.000</td> <td>    0.001</td> <td>    0.002</td>\n",
       "</tr>\n",
       "</table>"
      ],
      "text/plain": [
       "<class 'statsmodels.iolib.summary.Summary'>\n",
       "\"\"\"\n",
       "                           Logit Regression Results                           \n",
       "==============================================================================\n",
       "Dep. Variable:                   none   No. Observations:                61995\n",
       "Model:                          Logit   Df Residuals:                    61989\n",
       "Method:                           MLE   Df Model:                            5\n",
       "Date:                Tue, 30 May 2017   Pseudo R-squ.:                 0.06423\n",
       "Time:                        16:55:07   Log-Likelihood:                -20693.\n",
       "converged:                       True   LL-Null:                       -22113.\n",
       "                                        LLR p-value:                     0.000\n",
       "==============================================================================\n",
       "                 coef    std err          z      P>|z|      [0.025      0.975]\n",
       "------------------------------------------------------------------------------\n",
       "Intercept     -1.4240      0.027    -53.727      0.000      -1.476      -1.372\n",
       "c              0.0617      0.003     20.099      0.000       0.056       0.068\n",
       "c2             0.0005   8.49e-05      6.113      0.000       0.000       0.001\n",
       "a              0.0350      0.003     10.674      0.000       0.029       0.041\n",
       "a2             0.0008      0.000      7.441      0.000       0.001       0.001\n",
       "ac             0.0013      0.000      7.407      0.000       0.001       0.002\n",
       "==============================================================================\n",
       "\"\"\""
      ]
     },
     "execution_count": 120,
     "metadata": {},
     "output_type": "execute_result"
    }
   ],
   "source": [
    "make_model(sample, 'none').summary()"
   ]
  },
  {
   "cell_type": "markdown",
   "metadata": {},
   "source": []
  },
  {
   "cell_type": "code",
   "execution_count": 121,
   "metadata": {
    "collapsed": false
   },
   "outputs": [
    {
     "name": "stdout",
     "output_type": "stream",
     "text": [
      "Optimization terminated successfully.\n",
      "         Current function value: 0.189343\n",
      "         Iterations 7\n"
     ]
    },
    {
     "data": {
      "text/html": [
       "<table class=\"simpletable\">\n",
       "<caption>Logit Regression Results</caption>\n",
       "<tr>\n",
       "  <th>Dep. Variable:</th>       <td>other</td>      <th>  No. Observations:  </th>  <td> 61995</td>  \n",
       "</tr>\n",
       "<tr>\n",
       "  <th>Model:</th>               <td>Logit</td>      <th>  Df Residuals:      </th>  <td> 61989</td>  \n",
       "</tr>\n",
       "<tr>\n",
       "  <th>Method:</th>               <td>MLE</td>       <th>  Df Model:          </th>  <td>     5</td>  \n",
       "</tr>\n",
       "<tr>\n",
       "  <th>Date:</th>          <td>Tue, 30 May 2017</td> <th>  Pseudo R-squ.:     </th> <td>0.003887</td> \n",
       "</tr>\n",
       "<tr>\n",
       "  <th>Time:</th>              <td>16:55:07</td>     <th>  Log-Likelihood:    </th> <td> -11738.</td> \n",
       "</tr>\n",
       "<tr>\n",
       "  <th>converged:</th>           <td>True</td>       <th>  LL-Null:           </th> <td> -11784.</td> \n",
       "</tr>\n",
       "<tr>\n",
       "  <th> </th>                      <td> </td>        <th>  LLR p-value:       </th> <td>3.082e-18</td>\n",
       "</tr>\n",
       "</table>\n",
       "<table class=\"simpletable\">\n",
       "<tr>\n",
       "      <td></td>         <th>coef</th>     <th>std err</th>      <th>z</th>      <th>P>|z|</th>  <th>[0.025</th>    <th>0.975]</th>  \n",
       "</tr>\n",
       "<tr>\n",
       "  <th>Intercept</th> <td>   -2.8640</td> <td>    0.043</td> <td>  -65.967</td> <td> 0.000</td> <td>   -2.949</td> <td>   -2.779</td>\n",
       "</tr>\n",
       "<tr>\n",
       "  <th>c</th>         <td>    0.0005</td> <td>    0.005</td> <td>    0.110</td> <td> 0.913</td> <td>   -0.009</td> <td>    0.010</td>\n",
       "</tr>\n",
       "<tr>\n",
       "  <th>c2</th>        <td>   -0.0003</td> <td>    0.000</td> <td>   -2.062</td> <td> 0.039</td> <td>   -0.000</td> <td>-1.26e-05</td>\n",
       "</tr>\n",
       "<tr>\n",
       "  <th>a</th>         <td>   -0.0090</td> <td>    0.005</td> <td>   -1.748</td> <td> 0.081</td> <td>   -0.019</td> <td>    0.001</td>\n",
       "</tr>\n",
       "<tr>\n",
       "  <th>a2</th>        <td>   -0.0005</td> <td>    0.000</td> <td>   -3.154</td> <td> 0.002</td> <td>   -0.001</td> <td>   -0.000</td>\n",
       "</tr>\n",
       "<tr>\n",
       "  <th>ac</th>        <td>   -0.0007</td> <td>    0.000</td> <td>   -2.608</td> <td> 0.009</td> <td>   -0.001</td> <td>   -0.000</td>\n",
       "</tr>\n",
       "</table>"
      ],
      "text/plain": [
       "<class 'statsmodels.iolib.summary.Summary'>\n",
       "\"\"\"\n",
       "                           Logit Regression Results                           \n",
       "==============================================================================\n",
       "Dep. Variable:                  other   No. Observations:                61995\n",
       "Model:                          Logit   Df Residuals:                    61989\n",
       "Method:                           MLE   Df Model:                            5\n",
       "Date:                Tue, 30 May 2017   Pseudo R-squ.:                0.003887\n",
       "Time:                        16:55:07   Log-Likelihood:                -11738.\n",
       "converged:                       True   LL-Null:                       -11784.\n",
       "                                        LLR p-value:                 3.082e-18\n",
       "==============================================================================\n",
       "                 coef    std err          z      P>|z|      [0.025      0.975]\n",
       "------------------------------------------------------------------------------\n",
       "Intercept     -2.8640      0.043    -65.967      0.000      -2.949      -2.779\n",
       "c              0.0005      0.005      0.110      0.913      -0.009       0.010\n",
       "c2            -0.0003      0.000     -2.062      0.039      -0.000   -1.26e-05\n",
       "a             -0.0090      0.005     -1.748      0.081      -0.019       0.001\n",
       "a2            -0.0005      0.000     -3.154      0.002      -0.001      -0.000\n",
       "ac            -0.0007      0.000     -2.608      0.009      -0.001      -0.000\n",
       "==============================================================================\n",
       "\"\"\""
      ]
     },
     "execution_count": 121,
     "metadata": {},
     "output_type": "execute_result"
    }
   ],
   "source": [
    "make_model(sample, 'other').summary()"
   ]
  },
  {
   "cell_type": "markdown",
   "metadata": {},
   "source": []
  },
  {
   "cell_type": "code",
   "execution_count": 122,
   "metadata": {
    "collapsed": false
   },
   "outputs": [
    {
     "name": "stdout",
     "output_type": "stream",
     "text": [
      "Optimization terminated successfully.\n",
      "         Current function value: 1.028609\n",
      "         Iterations 6\n"
     ]
    },
    {
     "data": {
      "text/html": [
       "<table class=\"simpletable\">\n",
       "<caption>MNLogit Regression Results</caption>\n",
       "<tr>\n",
       "  <th>Dep. Variable:</th>      <td>relig4</td>      <th>  No. Observations:  </th>  <td> 61995</td> \n",
       "</tr>\n",
       "<tr>\n",
       "  <th>Model:</th>              <td>MNLogit</td>     <th>  Df Residuals:      </th>  <td> 61986</td> \n",
       "</tr>\n",
       "<tr>\n",
       "  <th>Method:</th>               <td>MLE</td>       <th>  Df Model:          </th>  <td>     6</td> \n",
       "</tr>\n",
       "<tr>\n",
       "  <th>Date:</th>          <td>Tue, 30 May 2017</td> <th>  Pseudo R-squ.:     </th>  <td>0.02522</td>\n",
       "</tr>\n",
       "<tr>\n",
       "  <th>Time:</th>              <td>16:55:08</td>     <th>  Log-Likelihood:    </th> <td> -63769.</td>\n",
       "</tr>\n",
       "<tr>\n",
       "  <th>converged:</th>           <td>True</td>       <th>  LL-Null:           </th> <td> -65419.</td>\n",
       "</tr>\n",
       "<tr>\n",
       "  <th> </th>                      <td> </td>        <th>  LLR p-value:       </th>  <td> 0.000</td> \n",
       "</tr>\n",
       "</table>\n",
       "<table class=\"simpletable\">\n",
       "<tr>\n",
       "  <th>relig4=2</th>     <th>coef</th>     <th>std err</th>      <th>z</th>      <th>P>|z|</th>  <th>[0.025</th>    <th>0.975]</th>  \n",
       "</tr>\n",
       "<tr>\n",
       "  <th>Intercept</th> <td>   -0.7423</td> <td>    0.017</td> <td>  -42.722</td> <td> 0.000</td> <td>   -0.776</td> <td>   -0.708</td>\n",
       "</tr>\n",
       "<tr>\n",
       "  <th>a</th>         <td>   -0.0044</td> <td>    0.001</td> <td>   -4.943</td> <td> 0.000</td> <td>   -0.006</td> <td>   -0.003</td>\n",
       "</tr>\n",
       "<tr>\n",
       "  <th>c</th>         <td>    0.0055</td> <td>    0.001</td> <td>    7.329</td> <td> 0.000</td> <td>    0.004</td> <td>    0.007</td>\n",
       "</tr>\n",
       "<tr>\n",
       "  <th>relig4=3</th>     <th>coef</th>     <th>std err</th>      <th>z</th>      <th>P>|z|</th>  <th>[0.025</th>    <th>0.975]</th>  \n",
       "</tr>\n",
       "<tr>\n",
       "  <th>Intercept</th> <td>   -2.2194</td> <td>    0.033</td> <td>  -67.665</td> <td> 0.000</td> <td>   -2.284</td> <td>   -2.155</td>\n",
       "</tr>\n",
       "<tr>\n",
       "  <th>a</th>         <td>    0.0042</td> <td>    0.002</td> <td>    2.310</td> <td> 0.021</td> <td>    0.001</td> <td>    0.008</td>\n",
       "</tr>\n",
       "<tr>\n",
       "  <th>c</th>         <td>    0.0175</td> <td>    0.002</td> <td>   11.560</td> <td> 0.000</td> <td>    0.015</td> <td>    0.020</td>\n",
       "</tr>\n",
       "<tr>\n",
       "  <th>relig4=4</th>     <th>coef</th>     <th>std err</th>      <th>z</th>      <th>P>|z|</th>  <th>[0.025</th>    <th>0.975]</th>  \n",
       "</tr>\n",
       "<tr>\n",
       "  <th>Intercept</th> <td>   -1.0404</td> <td>    0.021</td> <td>  -48.823</td> <td> 0.000</td> <td>   -1.082</td> <td>   -0.999</td>\n",
       "</tr>\n",
       "<tr>\n",
       "  <th>a</th>         <td>    0.0109</td> <td>    0.001</td> <td>    8.288</td> <td> 0.000</td> <td>    0.008</td> <td>    0.013</td>\n",
       "</tr>\n",
       "<tr>\n",
       "  <th>c</th>         <td>    0.0446</td> <td>    0.001</td> <td>   40.626</td> <td> 0.000</td> <td>    0.042</td> <td>    0.047</td>\n",
       "</tr>\n",
       "</table>"
      ],
      "text/plain": [
       "<class 'statsmodels.iolib.summary.Summary'>\n",
       "\"\"\"\n",
       "                          MNLogit Regression Results                          \n",
       "==============================================================================\n",
       "Dep. Variable:                 relig4   No. Observations:                61995\n",
       "Model:                        MNLogit   Df Residuals:                    61986\n",
       "Method:                           MLE   Df Model:                            6\n",
       "Date:                Tue, 30 May 2017   Pseudo R-squ.:                 0.02522\n",
       "Time:                        16:55:08   Log-Likelihood:                -63769.\n",
       "converged:                       True   LL-Null:                       -65419.\n",
       "                                        LLR p-value:                     0.000\n",
       "==============================================================================\n",
       "  relig4=2       coef    std err          z      P>|z|      [0.025      0.975]\n",
       "------------------------------------------------------------------------------\n",
       "Intercept     -0.7423      0.017    -42.722      0.000      -0.776      -0.708\n",
       "a             -0.0044      0.001     -4.943      0.000      -0.006      -0.003\n",
       "c              0.0055      0.001      7.329      0.000       0.004       0.007\n",
       "------------------------------------------------------------------------------\n",
       "  relig4=3       coef    std err          z      P>|z|      [0.025      0.975]\n",
       "------------------------------------------------------------------------------\n",
       "Intercept     -2.2194      0.033    -67.665      0.000      -2.284      -2.155\n",
       "a              0.0042      0.002      2.310      0.021       0.001       0.008\n",
       "c              0.0175      0.002     11.560      0.000       0.015       0.020\n",
       "------------------------------------------------------------------------------\n",
       "  relig4=4       coef    std err          z      P>|z|      [0.025      0.975]\n",
       "------------------------------------------------------------------------------\n",
       "Intercept     -1.0404      0.021    -48.823      0.000      -1.082      -0.999\n",
       "a              0.0109      0.001      8.288      0.000       0.008       0.013\n",
       "c              0.0446      0.001     40.626      0.000       0.042       0.047\n",
       "==============================================================================\n",
       "\"\"\""
      ]
     },
     "execution_count": 122,
     "metadata": {},
     "output_type": "execute_result"
    }
   ],
   "source": [
    "formula = 'relig4 ~ a + c'\n",
    "model = smf.mnlogit(formula, data=sample).fit()\n",
    "model.summary()"
   ]
  },
  {
   "cell_type": "markdown",
   "metadata": {},
   "source": [
    "## Multinomial models"
   ]
  },
  {
   "cell_type": "code",
   "execution_count": 123,
   "metadata": {
    "collapsed": true
   },
   "outputs": [],
   "source": [
    "def make_multi_model(df, var, factors):\n",
    "    \"\"\"Fit a multinomial logistic regression model.\n",
    "    \n",
    "    df: DataFrame\n",
    "    var: string name of dependent variable\n",
    "    factors: list of string names for factors\n",
    "    \n",
    "    returns: MNLogit model\n",
    "    \"\"\"\n",
    "    nonull = df.dropna(subset=factors+[var])\n",
    "    y = nonull[var].values\n",
    "    X = nonull[factors].values\n",
    "    return MNLogit(y, X, missing='drop').fit()"
   ]
  },
  {
   "cell_type": "code",
   "execution_count": 124,
   "metadata": {
    "collapsed": true
   },
   "outputs": [],
   "source": [
    "def predict_multi_model(age, model, year, factors, index):\n",
    "    \"\"\"Make a prediction based on a fitted model.\n",
    "    \n",
    "    age: Series of ages to simulate\n",
    "    model: MNLogit model\n",
    "    year: year to make a prediction for\n",
    "    factors: list of string names for factors\n",
    "    index: list of strings, index of result Series\n",
    "    \n",
    "    returns: Series that maps variable name to percentage\n",
    "    \"\"\"\n",
    "    # TODO: consider resampling age and using\n",
    "    # binomial rather than mean\n",
    "    # age = thinkstats2.Resample(sample.age)\n",
    "    cohort = year - age\n",
    "    df = pd.DataFrame(dict(cohort=cohort, age=age))\n",
    "    center_factors(df)\n",
    "    X = df[factors].values\n",
    "    pred = model.predict(X).mean(axis=0)\n",
    "    return pd.Series(pred, index=index) * 100"
   ]
  },
  {
   "cell_type": "code",
   "execution_count": 125,
   "metadata": {
    "collapsed": false
   },
   "outputs": [],
   "source": [
    "train_year = 2016\n",
    "train = sample[sample.year <= train_year]"
   ]
  },
  {
   "cell_type": "code",
   "execution_count": 126,
   "metadata": {
    "collapsed": false
   },
   "outputs": [
    {
     "name": "stdout",
     "output_type": "stream",
     "text": [
      "Optimization terminated successfully.\n",
      "         Current function value: 1.028609\n",
      "         Iterations 6\n"
     ]
    }
   ],
   "source": [
    "factors = ['ones', 'a', 'c']\n",
    "model = make_multi_model(train, 'relig4', factors)"
   ]
  },
  {
   "cell_type": "code",
   "execution_count": 127,
   "metadata": {
    "collapsed": false
   },
   "outputs": [],
   "source": [
    "age = sample.loc[sample.year==train_year, 'age']\n",
    "index = ['prot', 'cath', 'other', 'none']"
   ]
  },
  {
   "cell_type": "code",
   "execution_count": 128,
   "metadata": {
    "collapsed": false
   },
   "outputs": [
    {
     "data": {
      "text/plain": [
       "prot     65.854726\n",
       "cath     25.463243\n",
       "other     3.742342\n",
       "none      4.939689\n",
       "dtype: float64"
      ]
     },
     "execution_count": 128,
     "metadata": {},
     "output_type": "execute_result"
    }
   ],
   "source": [
    "predict_multi_model(age, model, 1976, factors, index)"
   ]
  },
  {
   "cell_type": "code",
   "execution_count": 129,
   "metadata": {
    "collapsed": false
   },
   "outputs": [
    {
     "data": {
      "text/plain": [
       "prot     49.779107\n",
       "cath     23.586123\n",
       "other     5.580839\n",
       "none     21.053930\n",
       "dtype: float64"
      ]
     },
     "execution_count": 129,
     "metadata": {},
     "output_type": "execute_result"
    }
   ],
   "source": [
    "predict_multi_model(age, model, 2016, factors, index)"
   ]
  },
  {
   "cell_type": "code",
   "execution_count": 130,
   "metadata": {
    "collapsed": false
   },
   "outputs": [
    {
     "data": {
      "text/plain": [
       "prot     43.956733\n",
       "cath     21.850001\n",
       "other     5.817891\n",
       "none     28.375375\n",
       "dtype: float64"
      ]
     },
     "execution_count": 130,
     "metadata": {},
     "output_type": "execute_result"
    }
   ],
   "source": [
    "predict_multi_model(age, model, 2026, factors, index)"
   ]
  },
  {
   "cell_type": "code",
   "execution_count": 131,
   "metadata": {
    "collapsed": false
   },
   "outputs": [
    {
     "data": {
      "text/plain": [
       "prot     37.614105\n",
       "cath     19.593557\n",
       "other     5.868586\n",
       "none     36.923752\n",
       "dtype: float64"
      ]
     },
     "execution_count": 131,
     "metadata": {},
     "output_type": "execute_result"
    }
   ],
   "source": [
    "predict_multi_model(age, model, 2036, factors, index)"
   ]
  },
  {
   "cell_type": "code",
   "execution_count": 132,
   "metadata": {
    "collapsed": true
   },
   "outputs": [],
   "source": [
    "def plot_predictions(series_seq, colors):\n",
    "    \"\"\"Plot a sequence of series.\n",
    "    \n",
    "    series_seq: list of series\n",
    "    \"\"\"\n",
    "    alpha = 0.3\n",
    "    for series, color in zip(series_seq, colors):\n",
    "        thinkplot.plot(series, color=color, alpha=alpha)"
   ]
  },
  {
   "cell_type": "code",
   "execution_count": 135,
   "metadata": {
    "collapsed": false
   },
   "outputs": [],
   "source": [
    "def make_multi_pred(df, var, varnames, train_year, years, factors, index):\n",
    "    train = df[df.year <= train_year]\n",
    "    age = df.loc[df.year==train_year, 'age']\n",
    "\n",
    "    model = make_multi_model(train, var, factors)\n",
    "    \n",
    "    pred = pd.DataFrame(columns=varnames)\n",
    "    for year in years:\n",
    "        pred.loc[year] = predict_multi_model(age, model, year, factors, index)\n",
    "    return pred\n",
    "\n",
    "def plot_multi_pred(df, pred, varnames, colors):\n",
    "    series_seq = [pred[var] for var in varnames]\n",
    "    plot_predictions(series_seq, colors)\n",
    "    thinkplot.config(xlabel='Year of survey', loc='upper right')"
   ]
  },
  {
   "cell_type": "code",
   "execution_count": 136,
   "metadata": {
    "collapsed": false
   },
   "outputs": [
    {
     "name": "stdout",
     "output_type": "stream",
     "text": [
      "Optimization terminated successfully.\n",
      "         Current function value: 1.002518\n",
      "         Iterations 6\n"
     ]
    },
    {
     "data": {
      "image/png": "[encoded data removed]",
      "text/plain": [
       "<matplotlib.figure.Figure at 0x7fc9b625db90>"
      ]
     },
     "metadata": {},
     "output_type": "display_data"
    }
   ],
   "source": [
    "var = 'relig4'\n",
    "varnames = ['prot', 'cath', 'none', 'other']\n",
    "colors = [ORANGE, GREEN, RED, BLUE]\n",
    "train_year = 2006\n",
    "years = np.arange(1972, 2017)\n",
    "factors = ['ones', 'a', 'c']\n",
    "index = ['prot', 'cath', 'other', 'none']\n",
    "\n",
    "pred = make_multi_pred(sample, var, varnames, train_year, years, factors, index)\n",
    "plot_multi_pred(sample, pred, varnames, colors)\n",
    "plot_relig(grouped_year)\n",
    "thinkplot.config(xlim=[1971, 2038])"
   ]
  },
  {
   "cell_type": "code",
   "execution_count": 137,
   "metadata": {
    "collapsed": false
   },
   "outputs": [
    {
     "name": "stdout",
     "output_type": "stream",
     "text": [
      "Optimization terminated successfully.\n",
      "         Current function value: 1.028609\n",
      "         Iterations 6\n"
     ]
    },
    {
     "data": {
      "image/png": "[encoded data removed]",
      "text/plain": [
       "<matplotlib.figure.Figure at 0x7fc9b60e9ed0>"
      ]
     },
     "metadata": {},
     "output_type": "display_data"
    }
   ],
   "source": [
    "train_year = 2016\n",
    "years = np.arange(1972, 2036)\n",
    "\n",
    "pred = make_multi_pred(sample, var, varnames, train_year, years, factors, index)\n",
    "plot_multi_pred(sample, pred, varnames, colors)\n",
    "plot_relig(grouped_year)\n",
    "\n",
    "thinkplot.config(xlim=[1971, 2038])"
   ]
  },
  {
   "cell_type": "markdown",
   "metadata": {},
   "source": [
    "## Belief in God\n",
    "\n",
    "I don''t believe in God.....................1 \n",
    "\n",
    "I don''t know whether there is a God and I don''t believe there is any way to find out..................................2\n",
    "\n",
    "I don''t believe in a personal God, but I do believe in a Higher Power of some kind........................3 \n",
    "\n",
    "I find myself believing in God some of the time, but not at others........4 \n",
    "\n",
    "While I have doubts, I feel that I do believe in God….............................5 \n",
    "\n",
    "I know God really exists and I have no doubts about it...........................6"
   ]
  },
  {
   "cell_type": "code",
   "execution_count": 138,
   "metadata": {
    "collapsed": false
   },
   "outputs": [],
   "source": [
    "RED, PINK, _, _, LTBLUE, DKBLUE = sns.color_palette('RdBu', 6)\n",
    "belief_colors = [BLUE, PURPLE, RED]"
   ]
  },
  {
   "cell_type": "code",
   "execution_count": 139,
   "metadata": {
    "collapsed": false
   },
   "outputs": [],
   "source": [
    "def plot_beliefs(grouped):\n",
    "    \"\"\"Plot belief categories.\n",
    "    \n",
    "    grouped: GroupBy object\n",
    "    \"\"\"\n",
    "    varnames = ['strongbelief', 'belief', 'nobelief']\n",
    "    colors = [BLUE, PURPLE, RED]\n",
    "    labels = ['Strong belief', 'Belief', 'No belief']\n",
    "    series_seq = make_series_seq(grouped, varnames)\n",
    "    plot_series_seq(series_seq, colors, labels)"
   ]
  },
  {
   "cell_type": "code",
   "execution_count": 140,
   "metadata": {
    "collapsed": false
   },
   "outputs": [
    {
     "data": {
      "image/png": "[encoded data removed]",
      "text/plain": [
       "<matplotlib.figure.Figure at 0x7fc9b6291c90>"
      ]
     },
     "metadata": {},
     "output_type": "display_data"
    }
   ],
   "source": [
    "plot_beliefs(grouped_year)\n",
    "thinkplot.config(xlabel='Year', ylabel='Percent', loc='upper left')"
   ]
  },
  {
   "cell_type": "code",
   "execution_count": 141,
   "metadata": {
    "collapsed": false
   },
   "outputs": [
    {
     "data": {
      "image/png": "[encoded data removed]",
      "text/plain": [
       "<matplotlib.figure.Figure at 0x7fc9b9549c10>"
      ]
     },
     "metadata": {},
     "output_type": "display_data"
    }
   ],
   "source": [
    "plot_beliefs(grouped_cohort)\n",
    "thinkplot.config(xlabel='Year of birth', ylabel='Percent', loc='upper right')"
   ]
  },
  {
   "cell_type": "code",
   "execution_count": 142,
   "metadata": {
    "collapsed": false
   },
   "outputs": [
    {
     "name": "stdout",
     "output_type": "stream",
     "text": [
      "Optimization terminated successfully.\n",
      "         Current function value: 0.657587\n",
      "         Iterations 4\n"
     ]
    },
    {
     "data": {
      "text/html": [
       "<table class=\"simpletable\">\n",
       "<caption>Logit Regression Results</caption>\n",
       "<tr>\n",
       "  <th>Dep. Variable:</th>   <td>strongbelief</td>   <th>  No. Observations:  </th>  <td> 22162</td>  \n",
       "</tr>\n",
       "<tr>\n",
       "  <th>Model:</th>               <td>Logit</td>      <th>  Df Residuals:      </th>  <td> 22156</td>  \n",
       "</tr>\n",
       "<tr>\n",
       "  <th>Method:</th>               <td>MLE</td>       <th>  Df Model:          </th>  <td>     5</td>  \n",
       "</tr>\n",
       "<tr>\n",
       "  <th>Date:</th>          <td>Tue, 30 May 2017</td> <th>  Pseudo R-squ.:     </th>  <td>0.01305</td> \n",
       "</tr>\n",
       "<tr>\n",
       "  <th>Time:</th>              <td>16:56:29</td>     <th>  Log-Likelihood:    </th> <td> -14573.</td> \n",
       "</tr>\n",
       "<tr>\n",
       "  <th>converged:</th>           <td>True</td>       <th>  LL-Null:           </th> <td> -14766.</td> \n",
       "</tr>\n",
       "<tr>\n",
       "  <th> </th>                      <td> </td>        <th>  LLR p-value:       </th> <td>4.145e-81</td>\n",
       "</tr>\n",
       "</table>\n",
       "<table class=\"simpletable\">\n",
       "<tr>\n",
       "      <td></td>         <th>coef</th>     <th>std err</th>      <th>z</th>      <th>P>|z|</th>  <th>[0.025</th>    <th>0.975]</th>  \n",
       "</tr>\n",
       "<tr>\n",
       "  <th>Intercept</th> <td>    0.4314</td> <td>    0.023</td> <td>   18.679</td> <td> 0.000</td> <td>    0.386</td> <td>    0.477</td>\n",
       "</tr>\n",
       "<tr>\n",
       "  <th>c</th>         <td>   -0.0336</td> <td>    0.005</td> <td>   -7.151</td> <td> 0.000</td> <td>   -0.043</td> <td>   -0.024</td>\n",
       "</tr>\n",
       "<tr>\n",
       "  <th>c2</th>        <td>   -0.0009</td> <td>    0.000</td> <td>   -4.293</td> <td> 0.000</td> <td>   -0.001</td> <td>   -0.001</td>\n",
       "</tr>\n",
       "<tr>\n",
       "  <th>a</th>         <td>   -0.0188</td> <td>    0.005</td> <td>   -3.934</td> <td> 0.000</td> <td>   -0.028</td> <td>   -0.009</td>\n",
       "</tr>\n",
       "<tr>\n",
       "  <th>a2</th>        <td>   -0.0011</td> <td>    0.000</td> <td>   -4.860</td> <td> 0.000</td> <td>   -0.002</td> <td>   -0.001</td>\n",
       "</tr>\n",
       "<tr>\n",
       "  <th>ac</th>        <td>   -0.0018</td> <td>    0.000</td> <td>   -4.133</td> <td> 0.000</td> <td>   -0.003</td> <td>   -0.001</td>\n",
       "</tr>\n",
       "</table>"
      ],
      "text/plain": [
       "<class 'statsmodels.iolib.summary.Summary'>\n",
       "\"\"\"\n",
       "                           Logit Regression Results                           \n",
       "==============================================================================\n",
       "Dep. Variable:           strongbelief   No. Observations:                22162\n",
       "Model:                          Logit   Df Residuals:                    22156\n",
       "Method:                           MLE   Df Model:                            5\n",
       "Date:                Tue, 30 May 2017   Pseudo R-squ.:                 0.01305\n",
       "Time:                        16:56:29   Log-Likelihood:                -14573.\n",
       "converged:                       True   LL-Null:                       -14766.\n",
       "                                        LLR p-value:                 4.145e-81\n",
       "==============================================================================\n",
       "                 coef    std err          z      P>|z|      [0.025      0.975]\n",
       "------------------------------------------------------------------------------\n",
       "Intercept      0.4314      0.023     18.679      0.000       0.386       0.477\n",
       "c             -0.0336      0.005     -7.151      0.000      -0.043      -0.024\n",
       "c2            -0.0009      0.000     -4.293      0.000      -0.001      -0.001\n",
       "a             -0.0188      0.005     -3.934      0.000      -0.028      -0.009\n",
       "a2            -0.0011      0.000     -4.860      0.000      -0.002      -0.001\n",
       "ac            -0.0018      0.000     -4.133      0.000      -0.003      -0.001\n",
       "==============================================================================\n",
       "\"\"\""
      ]
     },
     "execution_count": 142,
     "metadata": {},
     "output_type": "execute_result"
    }
   ],
   "source": [
    "make_model(sample, 'strongbelief').summary()"
   ]
  },
  {
   "cell_type": "code",
   "execution_count": 143,
   "metadata": {
    "collapsed": false
   },
   "outputs": [
    {
     "name": "stdout",
     "output_type": "stream",
     "text": [
      "Optimization terminated successfully.\n",
      "         Current function value: 0.610778\n",
      "         Iterations 5\n"
     ]
    },
    {
     "data": {
      "text/html": [
       "<table class=\"simpletable\">\n",
       "<caption>Logit Regression Results</caption>\n",
       "<tr>\n",
       "  <th>Dep. Variable:</th>      <td>belief</td>      <th>  No. Observations:  </th>  <td> 22162</td>  \n",
       "</tr>\n",
       "<tr>\n",
       "  <th>Model:</th>               <td>Logit</td>      <th>  Df Residuals:      </th>  <td> 22156</td>  \n",
       "</tr>\n",
       "<tr>\n",
       "  <th>Method:</th>               <td>MLE</td>       <th>  Df Model:          </th>  <td>     5</td>  \n",
       "</tr>\n",
       "<tr>\n",
       "  <th>Date:</th>          <td>Tue, 30 May 2017</td> <th>  Pseudo R-squ.:     </th> <td>0.006064</td> \n",
       "</tr>\n",
       "<tr>\n",
       "  <th>Time:</th>              <td>16:56:29</td>     <th>  Log-Likelihood:    </th> <td> -13536.</td> \n",
       "</tr>\n",
       "<tr>\n",
       "  <th>converged:</th>           <td>True</td>       <th>  LL-Null:           </th> <td> -13619.</td> \n",
       "</tr>\n",
       "<tr>\n",
       "  <th> </th>                      <td> </td>        <th>  LLR p-value:       </th> <td>7.789e-34</td>\n",
       "</tr>\n",
       "</table>\n",
       "<table class=\"simpletable\">\n",
       "<tr>\n",
       "      <td></td>         <th>coef</th>     <th>std err</th>      <th>z</th>      <th>P>|z|</th>  <th>[0.025</th>    <th>0.975]</th>  \n",
       "</tr>\n",
       "<tr>\n",
       "  <th>Intercept</th> <td>   -0.8013</td> <td>    0.024</td> <td>  -32.860</td> <td> 0.000</td> <td>   -0.849</td> <td>   -0.753</td>\n",
       "</tr>\n",
       "<tr>\n",
       "  <th>c</th>         <td>    0.0207</td> <td>    0.005</td> <td>    4.194</td> <td> 0.000</td> <td>    0.011</td> <td>    0.030</td>\n",
       "</tr>\n",
       "<tr>\n",
       "  <th>c2</th>        <td>    0.0006</td> <td>    0.000</td> <td>    2.673</td> <td> 0.008</td> <td>    0.000</td> <td>    0.001</td>\n",
       "</tr>\n",
       "<tr>\n",
       "  <th>a</th>         <td>    0.0106</td> <td>    0.005</td> <td>    2.114</td> <td> 0.034</td> <td>    0.001</td> <td>    0.020</td>\n",
       "</tr>\n",
       "<tr>\n",
       "  <th>a2</th>        <td>    0.0008</td> <td>    0.000</td> <td>    3.183</td> <td> 0.001</td> <td>    0.000</td> <td>    0.001</td>\n",
       "</tr>\n",
       "<tr>\n",
       "  <th>ac</th>        <td>    0.0013</td> <td>    0.000</td> <td>    2.771</td> <td> 0.006</td> <td>    0.000</td> <td>    0.002</td>\n",
       "</tr>\n",
       "</table>"
      ],
      "text/plain": [
       "<class 'statsmodels.iolib.summary.Summary'>\n",
       "\"\"\"\n",
       "                           Logit Regression Results                           \n",
       "==============================================================================\n",
       "Dep. Variable:                 belief   No. Observations:                22162\n",
       "Model:                          Logit   Df Residuals:                    22156\n",
       "Method:                           MLE   Df Model:                            5\n",
       "Date:                Tue, 30 May 2017   Pseudo R-squ.:                0.006064\n",
       "Time:                        16:56:29   Log-Likelihood:                -13536.\n",
       "converged:                       True   LL-Null:                       -13619.\n",
       "                                        LLR p-value:                 7.789e-34\n",
       "==============================================================================\n",
       "                 coef    std err          z      P>|z|      [0.025      0.975]\n",
       "------------------------------------------------------------------------------\n",
       "Intercept     -0.8013      0.024    -32.860      0.000      -0.849      -0.753\n",
       "c              0.0207      0.005      4.194      0.000       0.011       0.030\n",
       "c2             0.0006      0.000      2.673      0.008       0.000       0.001\n",
       "a              0.0106      0.005      2.114      0.034       0.001       0.020\n",
       "a2             0.0008      0.000      3.183      0.001       0.000       0.001\n",
       "ac             0.0013      0.000      2.771      0.006       0.000       0.002\n",
       "==============================================================================\n",
       "\"\"\""
      ]
     },
     "execution_count": 143,
     "metadata": {},
     "output_type": "execute_result"
    }
   ],
   "source": [
    "make_model(sample, 'belief').summary()"
   ]
  },
  {
   "cell_type": "code",
   "execution_count": 144,
   "metadata": {
    "collapsed": false
   },
   "outputs": [
    {
     "name": "stdout",
     "output_type": "stream",
     "text": [
      "Optimization terminated successfully.\n",
      "         Current function value: 0.275155\n",
      "         Iterations 7\n"
     ]
    },
    {
     "data": {
      "text/html": [
       "<table class=\"simpletable\">\n",
       "<caption>Logit Regression Results</caption>\n",
       "<tr>\n",
       "  <th>Dep. Variable:</th>     <td>nobelief</td>     <th>  No. Observations:  </th>  <td> 22162</td>  \n",
       "</tr>\n",
       "<tr>\n",
       "  <th>Model:</th>               <td>Logit</td>      <th>  Df Residuals:      </th>  <td> 22156</td>  \n",
       "</tr>\n",
       "<tr>\n",
       "  <th>Method:</th>               <td>MLE</td>       <th>  Df Model:          </th>  <td>     5</td>  \n",
       "</tr>\n",
       "<tr>\n",
       "  <th>Date:</th>          <td>Tue, 30 May 2017</td> <th>  Pseudo R-squ.:     </th>  <td>0.01531</td> \n",
       "</tr>\n",
       "<tr>\n",
       "  <th>Time:</th>              <td>16:56:30</td>     <th>  Log-Likelihood:    </th> <td> -6098.0</td> \n",
       "</tr>\n",
       "<tr>\n",
       "  <th>converged:</th>           <td>True</td>       <th>  LL-Null:           </th> <td> -6192.8</td> \n",
       "</tr>\n",
       "<tr>\n",
       "  <th> </th>                      <td> </td>        <th>  LLR p-value:       </th> <td>4.575e-39</td>\n",
       "</tr>\n",
       "</table>\n",
       "<table class=\"simpletable\">\n",
       "<tr>\n",
       "      <td></td>         <th>coef</th>     <th>std err</th>      <th>z</th>      <th>P>|z|</th>  <th>[0.025</th>    <th>0.975]</th>  \n",
       "</tr>\n",
       "<tr>\n",
       "  <th>Intercept</th> <td>   -2.4146</td> <td>    0.041</td> <td>  -59.190</td> <td> 0.000</td> <td>   -2.495</td> <td>   -2.335</td>\n",
       "</tr>\n",
       "<tr>\n",
       "  <th>c</th>         <td>    0.0442</td> <td>    0.008</td> <td>    5.388</td> <td> 0.000</td> <td>    0.028</td> <td>    0.060</td>\n",
       "</tr>\n",
       "<tr>\n",
       "  <th>c2</th>        <td>    0.0010</td> <td>    0.000</td> <td>    2.677</td> <td> 0.007</td> <td>    0.000</td> <td>    0.002</td>\n",
       "</tr>\n",
       "<tr>\n",
       "  <th>a</th>         <td>    0.0287</td> <td>    0.008</td> <td>    3.413</td> <td> 0.001</td> <td>    0.012</td> <td>    0.045</td>\n",
       "</tr>\n",
       "<tr>\n",
       "  <th>a2</th>        <td>    0.0013</td> <td>    0.000</td> <td>    3.227</td> <td> 0.001</td> <td>    0.001</td> <td>    0.002</td>\n",
       "</tr>\n",
       "<tr>\n",
       "  <th>ac</th>        <td>    0.0020</td> <td>    0.001</td> <td>    2.518</td> <td> 0.012</td> <td>    0.000</td> <td>    0.003</td>\n",
       "</tr>\n",
       "</table>"
      ],
      "text/plain": [
       "<class 'statsmodels.iolib.summary.Summary'>\n",
       "\"\"\"\n",
       "                           Logit Regression Results                           \n",
       "==============================================================================\n",
       "Dep. Variable:               nobelief   No. Observations:                22162\n",
       "Model:                          Logit   Df Residuals:                    22156\n",
       "Method:                           MLE   Df Model:                            5\n",
       "Date:                Tue, 30 May 2017   Pseudo R-squ.:                 0.01531\n",
       "Time:                        16:56:30   Log-Likelihood:                -6098.0\n",
       "converged:                       True   LL-Null:                       -6192.8\n",
       "                                        LLR p-value:                 4.575e-39\n",
       "==============================================================================\n",
       "                 coef    std err          z      P>|z|      [0.025      0.975]\n",
       "------------------------------------------------------------------------------\n",
       "Intercept     -2.4146      0.041    -59.190      0.000      -2.495      -2.335\n",
       "c              0.0442      0.008      5.388      0.000       0.028       0.060\n",
       "c2             0.0010      0.000      2.677      0.007       0.000       0.002\n",
       "a              0.0287      0.008      3.413      0.001       0.012       0.045\n",
       "a2             0.0013      0.000      3.227      0.001       0.001       0.002\n",
       "ac             0.0020      0.001      2.518      0.012       0.000       0.003\n",
       "==============================================================================\n",
       "\"\"\""
      ]
     },
     "execution_count": 144,
     "metadata": {},
     "output_type": "execute_result"
    }
   ],
   "source": [
    "make_model(sample, 'nobelief').summary()"
   ]
  },
  {
   "cell_type": "code",
   "execution_count": 145,
   "metadata": {
    "collapsed": false
   },
   "outputs": [
    {
     "name": "stdout",
     "output_type": "stream",
     "text": [
      "Optimization terminated successfully.\n",
      "         Current function value: 0.854783\n",
      "         Iterations 6\n"
     ]
    },
    {
     "data": {
      "text/html": [
       "<table class=\"simpletable\">\n",
       "<caption>MNLogit Regression Results</caption>\n",
       "<tr>\n",
       "  <th>Dep. Variable:</th>      <td>belief3</td>     <th>  No. Observations:  </th>  <td> 22162</td>  \n",
       "</tr>\n",
       "<tr>\n",
       "  <th>Model:</th>              <td>MNLogit</td>     <th>  Df Residuals:      </th>  <td> 22156</td>  \n",
       "</tr>\n",
       "<tr>\n",
       "  <th>Method:</th>               <td>MLE</td>       <th>  Df Model:          </th>  <td>     4</td>  \n",
       "</tr>\n",
       "<tr>\n",
       "  <th>Date:</th>          <td>Tue, 30 May 2017</td> <th>  Pseudo R-squ.:     </th> <td>0.009864</td> \n",
       "</tr>\n",
       "<tr>\n",
       "  <th>Time:</th>              <td>16:56:30</td>     <th>  Log-Likelihood:    </th> <td> -18944.</td> \n",
       "</tr>\n",
       "<tr>\n",
       "  <th>converged:</th>           <td>True</td>       <th>  LL-Null:           </th> <td> -19132.</td> \n",
       "</tr>\n",
       "<tr>\n",
       "  <th> </th>                      <td> </td>        <th>  LLR p-value:       </th> <td>2.059e-80</td>\n",
       "</tr>\n",
       "</table>\n",
       "<table class=\"simpletable\">\n",
       "<tr>\n",
       "  <th>belief3=2</th>    <th>coef</th>     <th>std err</th>      <th>z</th>      <th>P>|z|</th>  <th>[0.025</th>    <th>0.975]</th>  \n",
       "</tr>\n",
       "<tr>\n",
       "  <th>Intercept</th> <td>    1.2372</td> <td>    0.034</td> <td>   36.051</td> <td> 0.000</td> <td>    1.170</td> <td>    1.305</td>\n",
       "</tr>\n",
       "<tr>\n",
       "  <th>c</th>         <td>   -0.0168</td> <td>    0.003</td> <td>   -5.479</td> <td> 0.000</td> <td>   -0.023</td> <td>   -0.011</td>\n",
       "</tr>\n",
       "<tr>\n",
       "  <th>a</th>         <td>   -0.0104</td> <td>    0.003</td> <td>   -3.101</td> <td> 0.002</td> <td>   -0.017</td> <td>   -0.004</td>\n",
       "</tr>\n",
       "<tr>\n",
       "  <th>belief3=3</th>    <th>coef</th>     <th>std err</th>      <th>z</th>      <th>P>|z|</th>  <th>[0.025</th>    <th>0.975]</th>  \n",
       "</tr>\n",
       "<tr>\n",
       "  <th>Intercept</th> <td>    1.8684</td> <td>    0.033</td> <td>   57.461</td> <td> 0.000</td> <td>    1.805</td> <td>    1.932</td>\n",
       "</tr>\n",
       "<tr>\n",
       "  <th>c</th>         <td>   -0.0280</td> <td>    0.003</td> <td>   -9.599</td> <td> 0.000</td> <td>   -0.034</td> <td>   -0.022</td>\n",
       "</tr>\n",
       "<tr>\n",
       "  <th>a</th>         <td>   -0.0093</td> <td>    0.003</td> <td>   -2.934</td> <td> 0.003</td> <td>   -0.016</td> <td>   -0.003</td>\n",
       "</tr>\n",
       "</table>"
      ],
      "text/plain": [
       "<class 'statsmodels.iolib.summary.Summary'>\n",
       "\"\"\"\n",
       "                          MNLogit Regression Results                          \n",
       "==============================================================================\n",
       "Dep. Variable:                belief3   No. Observations:                22162\n",
       "Model:                        MNLogit   Df Residuals:                    22156\n",
       "Method:                           MLE   Df Model:                            4\n",
       "Date:                Tue, 30 May 2017   Pseudo R-squ.:                0.009864\n",
       "Time:                        16:56:30   Log-Likelihood:                -18944.\n",
       "converged:                       True   LL-Null:                       -19132.\n",
       "                                        LLR p-value:                 2.059e-80\n",
       "==============================================================================\n",
       " belief3=2       coef    std err          z      P>|z|      [0.025      0.975]\n",
       "------------------------------------------------------------------------------\n",
       "Intercept      1.2372      0.034     36.051      0.000       1.170       1.305\n",
       "c             -0.0168      0.003     -5.479      0.000      -0.023      -0.011\n",
       "a             -0.0104      0.003     -3.101      0.002      -0.017      -0.004\n",
       "------------------------------------------------------------------------------\n",
       " belief3=3       coef    std err          z      P>|z|      [0.025      0.975]\n",
       "------------------------------------------------------------------------------\n",
       "Intercept      1.8684      0.033     57.461      0.000       1.805       1.932\n",
       "c             -0.0280      0.003     -9.599      0.000      -0.034      -0.022\n",
       "a             -0.0093      0.003     -2.934      0.003      -0.016      -0.003\n",
       "==============================================================================\n",
       "\"\"\""
      ]
     },
     "execution_count": 145,
     "metadata": {},
     "output_type": "execute_result"
    }
   ],
   "source": [
    "formula = 'belief3 ~ c + a'\n",
    "model = smf.mnlogit(formula, data=sample).fit()\n",
    "model.summary()"
   ]
  },
  {
   "cell_type": "code",
   "execution_count": 146,
   "metadata": {
    "collapsed": false
   },
   "outputs": [
    {
     "name": "stdout",
     "output_type": "stream",
     "text": [
      "Optimization terminated successfully.\n",
      "         Current function value: 0.854783\n",
      "         Iterations 6\n"
     ]
    },
    {
     "data": {
      "image/png": "[encoded data removed]",
      "text/plain": [
       "<matplotlib.figure.Figure at 0x7fc9b51a5e10>"
      ]
     },
     "metadata": {},
     "output_type": "display_data"
    }
   ],
   "source": [
    "var = 'belief3'\n",
    "varnames = ['strongbelief', 'belief', 'nobelief']\n",
    "colors = [BLUE, PURPLE, RED]\n",
    "train_year = 2016\n",
    "years = np.arange(1991, 2036)\n",
    "factors = ['ones', 'a', 'c']\n",
    "index = ['nobelief', 'belief', 'strongbelief']\n",
    "\n",
    "pred = make_multi_pred(sample, var, varnames, train_year, years, factors, index)\n",
    "plot_multi_pred(sample, pred, varnames, colors)\n",
    "plot_beliefs(grouped_year)\n",
    "\n",
    "thinkplot.config(xlim=[1990, 2038], ylim=[0, 75])"
   ]
  },
  {
   "cell_type": "code",
   "execution_count": 147,
   "metadata": {
    "collapsed": false
   },
   "outputs": [
    {
     "name": "stdout",
     "output_type": "stream",
     "text": [
      "Optimization terminated successfully.\n",
      "         Current function value: 0.854783\n",
      "         Iterations 6\n"
     ]
    },
    {
     "data": {
      "text/html": [
       "<div>\n",
       "<table border=\"1\" class=\"dataframe\">\n",
       "  <thead>\n",
       "    <tr style=\"text-align: right;\">\n",
       "      <th></th>\n",
       "      <th>strongbelief</th>\n",
       "      <th>belief</th>\n",
       "      <th>nobelief</th>\n",
       "    </tr>\n",
       "  </thead>\n",
       "  <tbody>\n",
       "    <tr>\n",
       "      <th>1996</th>\n",
       "      <td>65.112642</td>\n",
       "      <td>28.556929</td>\n",
       "      <td>6.330430</td>\n",
       "    </tr>\n",
       "    <tr>\n",
       "      <th>2016</th>\n",
       "      <td>58.273611</td>\n",
       "      <td>31.858128</td>\n",
       "      <td>9.868261</td>\n",
       "    </tr>\n",
       "    <tr>\n",
       "      <th>2036</th>\n",
       "      <td>50.618055</td>\n",
       "      <td>34.468603</td>\n",
       "      <td>14.913341</td>\n",
       "    </tr>\n",
       "  </tbody>\n",
       "</table>\n",
       "</div>"
      ],
      "text/plain": [
       "      strongbelief     belief   nobelief\n",
       "1996     65.112642  28.556929   6.330430\n",
       "2016     58.273611  31.858128   9.868261\n",
       "2036     50.618055  34.468603  14.913341"
      ]
     },
     "execution_count": 147,
     "metadata": {},
     "output_type": "execute_result"
    }
   ],
   "source": [
    "make_multi_pred(sample, var, varnames, train_year, [1996, 2016, 2036], factors, index)"
   ]
  },
  {
   "cell_type": "markdown",
   "metadata": {},
   "source": [
    "## Confidence in people running organized religion\n",
    "\n",
    "As far as the people running this institution [organized religion] are concerned, would you say you have a great deal of confidence, only some confidence, or hardly any confidence at all in them?\n",
    "\n",
    "1. A great deal\n",
    "2. Only some\n",
    "3. Hardly any\n",
    "\n"
   ]
  },
  {
   "cell_type": "code",
   "execution_count": 148,
   "metadata": {
    "collapsed": false
   },
   "outputs": [],
   "source": [
    "def plot_conf(grouped):\n",
    "    \"\"\"Plot confidence in religion categories.\n",
    "    \n",
    "    grouped: GroupBy object\n",
    "    \"\"\"\n",
    "    varnames = ['confident', 'someconf', 'noconf']\n",
    "    colors = [BLUE, PURPLE, RED]\n",
    "    labels = ['Great deal', 'Only some', 'Hardly any']\n",
    "    series_seq = make_series_seq(grouped, varnames)\n",
    "    plot_series_seq(series_seq, colors, labels)"
   ]
  },
  {
   "cell_type": "code",
   "execution_count": 149,
   "metadata": {
    "collapsed": false
   },
   "outputs": [
    {
     "data": {
      "image/png": "[encoded data removed]",
      "text/plain": [
       "<matplotlib.figure.Figure at 0x7fc9ba856b50>"
      ]
     },
     "metadata": {},
     "output_type": "display_data"
    }
   ],
   "source": [
    "plot_conf(grouped_year)\n",
    "thinkplot.config(xlabel='Year of survey', ylabel='Percent', loc='center right')"
   ]
  },
  {
   "cell_type": "code",
   "execution_count": 150,
   "metadata": {
    "collapsed": false
   },
   "outputs": [
    {
     "data": {
      "image/png": "[encoded data removed]",
      "text/plain": [
       "<matplotlib.figure.Figure at 0x7fc9ba860f10>"
      ]
     },
     "metadata": {},
     "output_type": "display_data"
    }
   ],
   "source": [
    "plot_conf(grouped_cohort)\n",
    "thinkplot.config(xlabel='Year of birth', ylabel='Percent', loc='upper right')"
   ]
  },
  {
   "cell_type": "code",
   "execution_count": 151,
   "metadata": {
    "collapsed": false
   },
   "outputs": [
    {
     "name": "stdout",
     "output_type": "stream",
     "text": [
      "Optimization terminated successfully.\n",
      "         Current function value: 0.580900\n",
      "         Iterations 5\n"
     ]
    },
    {
     "data": {
      "text/html": [
       "<table class=\"simpletable\">\n",
       "<caption>Logit Regression Results</caption>\n",
       "<tr>\n",
       "  <th>Dep. Variable:</th>     <td>confident</td>    <th>  No. Observations:  </th>   <td> 40724</td>  \n",
       "</tr>\n",
       "<tr>\n",
       "  <th>Model:</th>               <td>Logit</td>      <th>  Df Residuals:      </th>   <td> 40718</td>  \n",
       "</tr>\n",
       "<tr>\n",
       "  <th>Method:</th>               <td>MLE</td>       <th>  Df Model:          </th>   <td>     5</td>  \n",
       "</tr>\n",
       "<tr>\n",
       "  <th>Date:</th>          <td>Tue, 30 May 2017</td> <th>  Pseudo R-squ.:     </th>   <td>0.01892</td> \n",
       "</tr>\n",
       "<tr>\n",
       "  <th>Time:</th>              <td>16:56:34</td>     <th>  Log-Likelihood:    </th>  <td> -23657.</td> \n",
       "</tr>\n",
       "<tr>\n",
       "  <th>converged:</th>           <td>True</td>       <th>  LL-Null:           </th>  <td> -24113.</td> \n",
       "</tr>\n",
       "<tr>\n",
       "  <th> </th>                      <td> </td>        <th>  LLR p-value:       </th> <td>6.071e-195</td>\n",
       "</tr>\n",
       "</table>\n",
       "<table class=\"simpletable\">\n",
       "<tr>\n",
       "      <td></td>         <th>coef</th>     <th>std err</th>      <th>z</th>      <th>P>|z|</th>  <th>[0.025</th>    <th>0.975]</th>  \n",
       "</tr>\n",
       "<tr>\n",
       "  <th>Intercept</th> <td>   -1.4555</td> <td>    0.029</td> <td>  -49.584</td> <td> 0.000</td> <td>   -1.513</td> <td>   -1.398</td>\n",
       "</tr>\n",
       "<tr>\n",
       "  <th>c</th>         <td>   -0.0129</td> <td>    0.003</td> <td>   -4.301</td> <td> 0.000</td> <td>   -0.019</td> <td>   -0.007</td>\n",
       "</tr>\n",
       "<tr>\n",
       "  <th>c2</th>        <td>    0.0002</td> <td> 7.35e-05</td> <td>    2.380</td> <td> 0.017</td> <td> 3.09e-05</td> <td>    0.000</td>\n",
       "</tr>\n",
       "<tr>\n",
       "  <th>a</th>         <td>   -0.0062</td> <td>    0.003</td> <td>   -1.972</td> <td> 0.049</td> <td>   -0.012</td> <td>-3.67e-05</td>\n",
       "</tr>\n",
       "<tr>\n",
       "  <th>a2</th>        <td>    0.0005</td> <td> 8.93e-05</td> <td>    5.842</td> <td> 0.000</td> <td>    0.000</td> <td>    0.001</td>\n",
       "</tr>\n",
       "<tr>\n",
       "  <th>ac</th>        <td>    0.0002</td> <td>    0.000</td> <td>    1.586</td> <td> 0.113</td> <td>-5.64e-05</td> <td>    0.001</td>\n",
       "</tr>\n",
       "</table>"
      ],
      "text/plain": [
       "<class 'statsmodels.iolib.summary.Summary'>\n",
       "\"\"\"\n",
       "                           Logit Regression Results                           \n",
       "==============================================================================\n",
       "Dep. Variable:              confident   No. Observations:                40724\n",
       "Model:                          Logit   Df Residuals:                    40718\n",
       "Method:                           MLE   Df Model:                            5\n",
       "Date:                Tue, 30 May 2017   Pseudo R-squ.:                 0.01892\n",
       "Time:                        16:56:34   Log-Likelihood:                -23657.\n",
       "converged:                       True   LL-Null:                       -24113.\n",
       "                                        LLR p-value:                6.071e-195\n",
       "==============================================================================\n",
       "                 coef    std err          z      P>|z|      [0.025      0.975]\n",
       "------------------------------------------------------------------------------\n",
       "Intercept     -1.4555      0.029    -49.584      0.000      -1.513      -1.398\n",
       "c             -0.0129      0.003     -4.301      0.000      -0.019      -0.007\n",
       "c2             0.0002   7.35e-05      2.380      0.017    3.09e-05       0.000\n",
       "a             -0.0062      0.003     -1.972      0.049      -0.012   -3.67e-05\n",
       "a2             0.0005   8.93e-05      5.842      0.000       0.000       0.001\n",
       "ac             0.0002      0.000      1.586      0.113   -5.64e-05       0.001\n",
       "==============================================================================\n",
       "\"\"\""
      ]
     },
     "execution_count": 151,
     "metadata": {},
     "output_type": "execute_result"
    }
   ],
   "source": [
    "make_model(sample, 'confident').summary()"
   ]
  },
  {
   "cell_type": "code",
   "execution_count": 152,
   "metadata": {
    "collapsed": false
   },
   "outputs": [
    {
     "name": "stdout",
     "output_type": "stream",
     "text": [
      "Optimization terminated successfully.\n",
      "         Current function value: 0.689656\n",
      "         Iterations 4\n"
     ]
    },
    {
     "data": {
      "text/html": [
       "<table class=\"simpletable\">\n",
       "<caption>Logit Regression Results</caption>\n",
       "<tr>\n",
       "  <th>Dep. Variable:</th>     <td>someconf</td>     <th>  No. Observations:  </th>  <td> 40724</td>  \n",
       "</tr>\n",
       "<tr>\n",
       "  <th>Model:</th>               <td>Logit</td>      <th>  Df Residuals:      </th>  <td> 40718</td>  \n",
       "</tr>\n",
       "<tr>\n",
       "  <th>Method:</th>               <td>MLE</td>       <th>  Df Model:          </th>  <td>     5</td>  \n",
       "</tr>\n",
       "<tr>\n",
       "  <th>Date:</th>          <td>Tue, 30 May 2017</td> <th>  Pseudo R-squ.:     </th> <td>0.004545</td> \n",
       "</tr>\n",
       "<tr>\n",
       "  <th>Time:</th>              <td>16:56:35</td>     <th>  Log-Likelihood:    </th> <td> -28086.</td> \n",
       "</tr>\n",
       "<tr>\n",
       "  <th>converged:</th>           <td>True</td>       <th>  LL-Null:           </th> <td> -28214.</td> \n",
       "</tr>\n",
       "<tr>\n",
       "  <th> </th>                      <td> </td>        <th>  LLR p-value:       </th> <td>2.283e-53</td>\n",
       "</tr>\n",
       "</table>\n",
       "<table class=\"simpletable\">\n",
       "<tr>\n",
       "      <td></td>         <th>coef</th>     <th>std err</th>      <th>z</th>      <th>P>|z|</th>  <th>[0.025</th>    <th>0.975]</th>  \n",
       "</tr>\n",
       "<tr>\n",
       "  <th>Intercept</th> <td>    0.2601</td> <td>    0.024</td> <td>   10.696</td> <td> 0.000</td> <td>    0.212</td> <td>    0.308</td>\n",
       "</tr>\n",
       "<tr>\n",
       "  <th>c</th>         <td>    0.0032</td> <td>    0.003</td> <td>    1.257</td> <td> 0.209</td> <td>   -0.002</td> <td>    0.008</td>\n",
       "</tr>\n",
       "<tr>\n",
       "  <th>c2</th>        <td>   -0.0001</td> <td> 6.46e-05</td> <td>   -1.739</td> <td> 0.082</td> <td>   -0.000</td> <td> 1.43e-05</td>\n",
       "</tr>\n",
       "<tr>\n",
       "  <th>a</th>         <td>    0.0024</td> <td>    0.003</td> <td>    0.870</td> <td> 0.384</td> <td>   -0.003</td> <td>    0.008</td>\n",
       "</tr>\n",
       "<tr>\n",
       "  <th>a2</th>        <td>   -0.0002</td> <td> 8.02e-05</td> <td>   -2.819</td> <td> 0.005</td> <td>   -0.000</td> <td>-6.88e-05</td>\n",
       "</tr>\n",
       "<tr>\n",
       "  <th>ac</th>        <td>-4.031e-05</td> <td>    0.000</td> <td>   -0.302</td> <td> 0.762</td> <td>   -0.000</td> <td>    0.000</td>\n",
       "</tr>\n",
       "</table>"
      ],
      "text/plain": [
       "<class 'statsmodels.iolib.summary.Summary'>\n",
       "\"\"\"\n",
       "                           Logit Regression Results                           \n",
       "==============================================================================\n",
       "Dep. Variable:               someconf   No. Observations:                40724\n",
       "Model:                          Logit   Df Residuals:                    40718\n",
       "Method:                           MLE   Df Model:                            5\n",
       "Date:                Tue, 30 May 2017   Pseudo R-squ.:                0.004545\n",
       "Time:                        16:56:35   Log-Likelihood:                -28086.\n",
       "converged:                       True   LL-Null:                       -28214.\n",
       "                                        LLR p-value:                 2.283e-53\n",
       "==============================================================================\n",
       "                 coef    std err          z      P>|z|      [0.025      0.975]\n",
       "------------------------------------------------------------------------------\n",
       "Intercept      0.2601      0.024     10.696      0.000       0.212       0.308\n",
       "c              0.0032      0.003      1.257      0.209      -0.002       0.008\n",
       "c2            -0.0001   6.46e-05     -1.739      0.082      -0.000    1.43e-05\n",
       "a              0.0024      0.003      0.870      0.384      -0.003       0.008\n",
       "a2            -0.0002   8.02e-05     -2.819      0.005      -0.000   -6.88e-05\n",
       "ac         -4.031e-05      0.000     -0.302      0.762      -0.000       0.000\n",
       "==============================================================================\n",
       "\"\"\""
      ]
     },
     "execution_count": 152,
     "metadata": {},
     "output_type": "execute_result"
    }
   ],
   "source": [
    "make_model(sample, 'someconf').summary()"
   ]
  },
  {
   "cell_type": "code",
   "execution_count": 153,
   "metadata": {
    "collapsed": false
   },
   "outputs": [
    {
     "name": "stdout",
     "output_type": "stream",
     "text": [
      "Optimization terminated successfully.\n",
      "         Current function value: 0.508129\n",
      "         Iterations 5\n"
     ]
    },
    {
     "data": {
      "text/html": [
       "<table class=\"simpletable\">\n",
       "<caption>Logit Regression Results</caption>\n",
       "<tr>\n",
       "  <th>Dep. Variable:</th>      <td>noconf</td>      <th>  No. Observations:  </th>  <td> 40724</td>  \n",
       "</tr>\n",
       "<tr>\n",
       "  <th>Model:</th>               <td>Logit</td>      <th>  Df Residuals:      </th>  <td> 40718</td>  \n",
       "</tr>\n",
       "<tr>\n",
       "  <th>Method:</th>               <td>MLE</td>       <th>  Df Model:          </th>  <td>     5</td>  \n",
       "</tr>\n",
       "<tr>\n",
       "  <th>Date:</th>          <td>Tue, 30 May 2017</td> <th>  Pseudo R-squ.:     </th> <td>0.005707</td> \n",
       "</tr>\n",
       "<tr>\n",
       "  <th>Time:</th>              <td>16:56:35</td>     <th>  Log-Likelihood:    </th> <td> -20693.</td> \n",
       "</tr>\n",
       "<tr>\n",
       "  <th>converged:</th>           <td>True</td>       <th>  LL-Null:           </th> <td> -20812.</td> \n",
       "</tr>\n",
       "<tr>\n",
       "  <th> </th>                      <td> </td>        <th>  LLR p-value:       </th> <td>2.578e-49</td>\n",
       "</tr>\n",
       "</table>\n",
       "<table class=\"simpletable\">\n",
       "<tr>\n",
       "      <td></td>         <th>coef</th>     <th>std err</th>      <th>z</th>      <th>P>|z|</th>  <th>[0.025</th>    <th>0.975]</th>  \n",
       "</tr>\n",
       "<tr>\n",
       "  <th>Intercept</th> <td>   -1.0834</td> <td>    0.029</td> <td>  -37.951</td> <td> 0.000</td> <td>   -1.139</td> <td>   -1.027</td>\n",
       "</tr>\n",
       "<tr>\n",
       "  <th>c</th>         <td>    0.0060</td> <td>    0.003</td> <td>    1.946</td> <td> 0.052</td> <td>-4.44e-05</td> <td>    0.012</td>\n",
       "</tr>\n",
       "<tr>\n",
       "  <th>c2</th>        <td>   -0.0002</td> <td> 7.94e-05</td> <td>   -2.145</td> <td> 0.032</td> <td>   -0.000</td> <td>-1.47e-05</td>\n",
       "</tr>\n",
       "<tr>\n",
       "  <th>a</th>         <td>    0.0008</td> <td>    0.003</td> <td>    0.244</td> <td> 0.807</td> <td>   -0.006</td> <td>    0.007</td>\n",
       "</tr>\n",
       "<tr>\n",
       "  <th>a2</th>        <td>   -0.0004</td> <td> 9.99e-05</td> <td>   -3.574</td> <td> 0.000</td> <td>   -0.001</td> <td>   -0.000</td>\n",
       "</tr>\n",
       "<tr>\n",
       "  <th>ac</th>        <td>   -0.0004</td> <td>    0.000</td> <td>   -2.176</td> <td> 0.030</td> <td>   -0.001</td> <td>-3.57e-05</td>\n",
       "</tr>\n",
       "</table>"
      ],
      "text/plain": [
       "<class 'statsmodels.iolib.summary.Summary'>\n",
       "\"\"\"\n",
       "                           Logit Regression Results                           \n",
       "==============================================================================\n",
       "Dep. Variable:                 noconf   No. Observations:                40724\n",
       "Model:                          Logit   Df Residuals:                    40718\n",
       "Method:                           MLE   Df Model:                            5\n",
       "Date:                Tue, 30 May 2017   Pseudo R-squ.:                0.005707\n",
       "Time:                        16:56:35   Log-Likelihood:                -20693.\n",
       "converged:                       True   LL-Null:                       -20812.\n",
       "                                        LLR p-value:                 2.578e-49\n",
       "==============================================================================\n",
       "                 coef    std err          z      P>|z|      [0.025      0.975]\n",
       "------------------------------------------------------------------------------\n",
       "Intercept     -1.0834      0.029    -37.951      0.000      -1.139      -1.027\n",
       "c              0.0060      0.003      1.946      0.052   -4.44e-05       0.012\n",
       "c2            -0.0002   7.94e-05     -2.145      0.032      -0.000   -1.47e-05\n",
       "a              0.0008      0.003      0.244      0.807      -0.006       0.007\n",
       "a2            -0.0004   9.99e-05     -3.574      0.000      -0.001      -0.000\n",
       "ac            -0.0004      0.000     -2.176      0.030      -0.001   -3.57e-05\n",
       "==============================================================================\n",
       "\"\"\""
      ]
     },
     "execution_count": 153,
     "metadata": {},
     "output_type": "execute_result"
    }
   ],
   "source": [
    "make_model(sample, 'noconf').summary()"
   ]
  },
  {
   "cell_type": "code",
   "execution_count": 154,
   "metadata": {
    "collapsed": false
   },
   "outputs": [
    {
     "name": "stdout",
     "output_type": "stream",
     "text": [
      "Optimization terminated successfully.\n",
      "         Current function value: 1.015407\n",
      "         Iterations 5\n"
     ]
    },
    {
     "data": {
      "image/png": "[encoded data removed]",
      "text/plain": [
       "<matplotlib.figure.Figure at 0x7fc9b5f69750>"
      ]
     },
     "metadata": {},
     "output_type": "display_data"
    }
   ],
   "source": [
    "var = 'conclerg'\n",
    "varnames = ['confident', 'someconf', 'noconf']\n",
    "colors = [BLUE, PURPLE, RED]\n",
    "train_year = 2016\n",
    "years = np.arange(1972, 2036)\n",
    "factors = ['ones', 'a', 'c']\n",
    "index = varnames\n",
    "\n",
    "pred = make_multi_pred(sample, var, varnames, train_year, years, factors, index)\n",
    "plot_multi_pred(sample, pred, varnames, colors)\n",
    "plot_conf(grouped_year)\n",
    "\n",
    "thinkplot.config(xlim=[1971, 2038], ylim=[0, 80])"
   ]
  },
  {
   "cell_type": "code",
   "execution_count": 155,
   "metadata": {
    "collapsed": false
   },
   "outputs": [
    {
     "name": "stdout",
     "output_type": "stream",
     "text": [
      "Optimization terminated successfully.\n",
      "         Current function value: 1.015407\n",
      "         Iterations 5\n"
     ]
    },
    {
     "data": {
      "text/html": [
       "<div>\n",
       "<table border=\"1\" class=\"dataframe\">\n",
       "  <thead>\n",
       "    <tr style=\"text-align: right;\">\n",
       "      <th></th>\n",
       "      <th>confident</th>\n",
       "      <th>someconf</th>\n",
       "      <th>noconf</th>\n",
       "    </tr>\n",
       "  </thead>\n",
       "  <tbody>\n",
       "    <tr>\n",
       "      <th>1976</th>\n",
       "      <td>35.250709</td>\n",
       "      <td>47.567067</td>\n",
       "      <td>17.182225</td>\n",
       "    </tr>\n",
       "    <tr>\n",
       "      <th>2016</th>\n",
       "      <td>19.860245</td>\n",
       "      <td>54.688661</td>\n",
       "      <td>25.451095</td>\n",
       "    </tr>\n",
       "    <tr>\n",
       "      <th>2036</th>\n",
       "      <td>14.253418</td>\n",
       "      <td>56.106384</td>\n",
       "      <td>29.640198</td>\n",
       "    </tr>\n",
       "  </tbody>\n",
       "</table>\n",
       "</div>"
      ],
      "text/plain": [
       "      confident   someconf     noconf\n",
       "1976  35.250709  47.567067  17.182225\n",
       "2016  19.860245  54.688661  25.451095\n",
       "2036  14.253418  56.106384  29.640198"
      ]
     },
     "execution_count": 155,
     "metadata": {},
     "output_type": "execute_result"
    }
   ],
   "source": [
    "make_multi_pred(sample, var, varnames, train_year, [1976, 2016, 2036], factors, index)"
   ]
  },
  {
   "cell_type": "markdown",
   "metadata": {},
   "source": [
    "## Bible\n",
    "\n",
    "Which one of these statements comes closest to describing your feelings about the Bible? \n",
    "\n",
    "1. The Bible is the actual word of God and is to be taken literally, word for word\n",
    "\n",
    "2. The Bible is the inspired word of God but not everything should be taken literally, word for word\n",
    "\n",
    "3. The Bible is an ancient book of fables, legends, history and moral precepts recorded by man"
   ]
  },
  {
   "cell_type": "code",
   "execution_count": 156,
   "metadata": {
    "collapsed": false
   },
   "outputs": [],
   "source": [
    "def plot_bible(grouped):\n",
    "    \"\"\"Plot bible interpretation categories.\n",
    "    \n",
    "    grouped: GroupBy object\n",
    "    \"\"\"\n",
    "    varnames = ['word', 'inspired', 'legends']\n",
    "    colors = [BLUE, PURPLE, RED]\n",
    "    labels = ['Literal', 'Inspired', 'Legends']\n",
    "    series_seq = make_series_seq(grouped, varnames)\n",
    "    plot_series_seq(series_seq, colors, labels)"
   ]
  },
  {
   "cell_type": "code",
   "execution_count": 157,
   "metadata": {
    "collapsed": false
   },
   "outputs": [
    {
     "data": {
      "image/png": "[encoded data removed]",
      "text/plain": [
       "<matplotlib.figure.Figure at 0x7fc9b642a810>"
      ]
     },
     "metadata": {},
     "output_type": "display_data"
    }
   ],
   "source": [
    "plot_bible(grouped_year)\n",
    "thinkplot.config(xlabel='Year of survey', ylabel='Percent', loc='center right')"
   ]
  },
  {
   "cell_type": "code",
   "execution_count": 158,
   "metadata": {
    "collapsed": false
   },
   "outputs": [
    {
     "data": {
      "image/png": "[encoded data removed]",
      "text/plain": [
       "<matplotlib.figure.Figure at 0x7fc9b5d7f610>"
      ]
     },
     "metadata": {},
     "output_type": "display_data"
    }
   ],
   "source": [
    "plot_bible(grouped_cohort)\n",
    "thinkplot.config(xlabel='Year of birth', ylabel='Percent', loc='upper right')"
   ]
  },
  {
   "cell_type": "code",
   "execution_count": 159,
   "metadata": {
    "collapsed": false
   },
   "outputs": [
    {
     "name": "stdout",
     "output_type": "stream",
     "text": [
      "Optimization terminated successfully.\n",
      "         Current function value: 0.634281\n",
      "         Iterations 5\n"
     ]
    },
    {
     "data": {
      "text/html": [
       "<table class=\"simpletable\">\n",
       "<caption>Logit Regression Results</caption>\n",
       "<tr>\n",
       "  <th>Dep. Variable:</th>       <td>word</td>       <th>  No. Observations:  </th>  <td> 32805</td>  \n",
       "</tr>\n",
       "<tr>\n",
       "  <th>Model:</th>               <td>Logit</td>      <th>  Df Residuals:      </th>  <td> 32799</td>  \n",
       "</tr>\n",
       "<tr>\n",
       "  <th>Method:</th>               <td>MLE</td>       <th>  Df Model:          </th>  <td>     5</td>  \n",
       "</tr>\n",
       "<tr>\n",
       "  <th>Date:</th>          <td>Tue, 30 May 2017</td> <th>  Pseudo R-squ.:     </th> <td>0.004791</td> \n",
       "</tr>\n",
       "<tr>\n",
       "  <th>Time:</th>              <td>16:56:38</td>     <th>  Log-Likelihood:    </th> <td> -20808.</td> \n",
       "</tr>\n",
       "<tr>\n",
       "  <th>converged:</th>           <td>True</td>       <th>  LL-Null:           </th> <td> -20908.</td> \n",
       "</tr>\n",
       "<tr>\n",
       "  <th> </th>                      <td> </td>        <th>  LLR p-value:       </th> <td>2.384e-41</td>\n",
       "</tr>\n",
       "</table>\n",
       "<table class=\"simpletable\">\n",
       "<tr>\n",
       "      <td></td>         <th>coef</th>     <th>std err</th>      <th>z</th>      <th>P>|z|</th>  <th>[0.025</th>    <th>0.975]</th>  \n",
       "</tr>\n",
       "<tr>\n",
       "  <th>Intercept</th> <td>   -0.7564</td> <td>    0.023</td> <td>  -33.208</td> <td> 0.000</td> <td>   -0.801</td> <td>   -0.712</td>\n",
       "</tr>\n",
       "<tr>\n",
       "  <th>c</th>         <td>   -0.0026</td> <td>    0.004</td> <td>   -0.702</td> <td> 0.482</td> <td>   -0.010</td> <td>    0.005</td>\n",
       "</tr>\n",
       "<tr>\n",
       "  <th>c2</th>        <td>    0.0002</td> <td>    0.000</td> <td>    1.084</td> <td> 0.278</td> <td>   -0.000</td> <td>    0.000</td>\n",
       "</tr>\n",
       "<tr>\n",
       "  <th>a</th>         <td>    0.0045</td> <td>    0.004</td> <td>    1.202</td> <td> 0.229</td> <td>   -0.003</td> <td>    0.012</td>\n",
       "</tr>\n",
       "<tr>\n",
       "  <th>a2</th>        <td> 5.453e-05</td> <td>    0.000</td> <td>    0.347</td> <td> 0.728</td> <td>   -0.000</td> <td>    0.000</td>\n",
       "</tr>\n",
       "<tr>\n",
       "  <th>ac</th>        <td>    0.0002</td> <td>    0.000</td> <td>    0.532</td> <td> 0.595</td> <td>   -0.000</td> <td>    0.001</td>\n",
       "</tr>\n",
       "</table>"
      ],
      "text/plain": [
       "<class 'statsmodels.iolib.summary.Summary'>\n",
       "\"\"\"\n",
       "                           Logit Regression Results                           \n",
       "==============================================================================\n",
       "Dep. Variable:                   word   No. Observations:                32805\n",
       "Model:                          Logit   Df Residuals:                    32799\n",
       "Method:                           MLE   Df Model:                            5\n",
       "Date:                Tue, 30 May 2017   Pseudo R-squ.:                0.004791\n",
       "Time:                        16:56:38   Log-Likelihood:                -20808.\n",
       "converged:                       True   LL-Null:                       -20908.\n",
       "                                        LLR p-value:                 2.384e-41\n",
       "==============================================================================\n",
       "                 coef    std err          z      P>|z|      [0.025      0.975]\n",
       "------------------------------------------------------------------------------\n",
       "Intercept     -0.7564      0.023    -33.208      0.000      -0.801      -0.712\n",
       "c             -0.0026      0.004     -0.702      0.482      -0.010       0.005\n",
       "c2             0.0002      0.000      1.084      0.278      -0.000       0.000\n",
       "a              0.0045      0.004      1.202      0.229      -0.003       0.012\n",
       "a2          5.453e-05      0.000      0.347      0.728      -0.000       0.000\n",
       "ac             0.0002      0.000      0.532      0.595      -0.000       0.001\n",
       "==============================================================================\n",
       "\"\"\""
      ]
     },
     "execution_count": 159,
     "metadata": {},
     "output_type": "execute_result"
    }
   ],
   "source": [
    "make_model(sample, 'word').summary()"
   ]
  },
  {
   "cell_type": "code",
   "execution_count": 160,
   "metadata": {
    "collapsed": false
   },
   "outputs": [
    {
     "name": "stdout",
     "output_type": "stream",
     "text": [
      "Optimization terminated successfully.\n",
      "         Current function value: 0.691540\n",
      "         Iterations 4\n"
     ]
    },
    {
     "data": {
      "text/html": [
       "<table class=\"simpletable\">\n",
       "<caption>Logit Regression Results</caption>\n",
       "<tr>\n",
       "  <th>Dep. Variable:</th>     <td>inspired</td>     <th>  No. Observations:  </th>  <td> 32805</td>  \n",
       "</tr>\n",
       "<tr>\n",
       "  <th>Model:</th>               <td>Logit</td>      <th>  Df Residuals:      </th>  <td> 32799</td>  \n",
       "</tr>\n",
       "<tr>\n",
       "  <th>Method:</th>               <td>MLE</td>       <th>  Df Model:          </th>  <td>     5</td>  \n",
       "</tr>\n",
       "<tr>\n",
       "  <th>Date:</th>          <td>Tue, 30 May 2017</td> <th>  Pseudo R-squ.:     </th> <td>0.001953</td> \n",
       "</tr>\n",
       "<tr>\n",
       "  <th>Time:</th>              <td>16:56:39</td>     <th>  Log-Likelihood:    </th> <td> -22686.</td> \n",
       "</tr>\n",
       "<tr>\n",
       "  <th>converged:</th>           <td>True</td>       <th>  LL-Null:           </th> <td> -22730.</td> \n",
       "</tr>\n",
       "<tr>\n",
       "  <th> </th>                      <td> </td>        <th>  LLR p-value:       </th> <td>1.206e-17</td>\n",
       "</tr>\n",
       "</table>\n",
       "<table class=\"simpletable\">\n",
       "<tr>\n",
       "      <td></td>         <th>coef</th>     <th>std err</th>      <th>z</th>      <th>P>|z|</th>  <th>[0.025</th>    <th>0.975]</th>  \n",
       "</tr>\n",
       "<tr>\n",
       "  <th>Intercept</th> <td>   -0.1540</td> <td>    0.021</td> <td>   -7.185</td> <td> 0.000</td> <td>   -0.196</td> <td>   -0.112</td>\n",
       "</tr>\n",
       "<tr>\n",
       "  <th>c</th>         <td>   -0.0208</td> <td>    0.003</td> <td>   -6.079</td> <td> 0.000</td> <td>   -0.027</td> <td>   -0.014</td>\n",
       "</tr>\n",
       "<tr>\n",
       "  <th>c2</th>        <td>   -0.0006</td> <td>    0.000</td> <td>   -4.318</td> <td> 0.000</td> <td>   -0.001</td> <td>   -0.000</td>\n",
       "</tr>\n",
       "<tr>\n",
       "  <th>a</th>         <td>   -0.0206</td> <td>    0.004</td> <td>   -5.839</td> <td> 0.000</td> <td>   -0.027</td> <td>   -0.014</td>\n",
       "</tr>\n",
       "<tr>\n",
       "  <th>a2</th>        <td>   -0.0004</td> <td>    0.000</td> <td>   -2.533</td> <td> 0.011</td> <td>   -0.001</td> <td>-8.51e-05</td>\n",
       "</tr>\n",
       "<tr>\n",
       "  <th>ac</th>        <td>   -0.0009</td> <td>    0.000</td> <td>   -3.405</td> <td> 0.001</td> <td>   -0.001</td> <td>   -0.000</td>\n",
       "</tr>\n",
       "</table>"
      ],
      "text/plain": [
       "<class 'statsmodels.iolib.summary.Summary'>\n",
       "\"\"\"\n",
       "                           Logit Regression Results                           \n",
       "==============================================================================\n",
       "Dep. Variable:               inspired   No. Observations:                32805\n",
       "Model:                          Logit   Df Residuals:                    32799\n",
       "Method:                           MLE   Df Model:                            5\n",
       "Date:                Tue, 30 May 2017   Pseudo R-squ.:                0.001953\n",
       "Time:                        16:56:39   Log-Likelihood:                -22686.\n",
       "converged:                       True   LL-Null:                       -22730.\n",
       "                                        LLR p-value:                 1.206e-17\n",
       "==============================================================================\n",
       "                 coef    std err          z      P>|z|      [0.025      0.975]\n",
       "------------------------------------------------------------------------------\n",
       "Intercept     -0.1540      0.021     -7.185      0.000      -0.196      -0.112\n",
       "c             -0.0208      0.003     -6.079      0.000      -0.027      -0.014\n",
       "c2            -0.0006      0.000     -4.318      0.000      -0.001      -0.000\n",
       "a             -0.0206      0.004     -5.839      0.000      -0.027      -0.014\n",
       "a2            -0.0004      0.000     -2.533      0.011      -0.001   -8.51e-05\n",
       "ac            -0.0009      0.000     -3.405      0.001      -0.001      -0.000\n",
       "==============================================================================\n",
       "\"\"\""
      ]
     },
     "execution_count": 160,
     "metadata": {},
     "output_type": "execute_result"
    }
   ],
   "source": [
    "make_model(sample, 'inspired').summary()"
   ]
  },
  {
   "cell_type": "code",
   "execution_count": 161,
   "metadata": {
    "collapsed": false
   },
   "outputs": [
    {
     "name": "stdout",
     "output_type": "stream",
     "text": [
      "Optimization terminated successfully.\n",
      "         Current function value: 0.461296\n",
      "         Iterations 6\n"
     ]
    },
    {
     "data": {
      "text/html": [
       "<table class=\"simpletable\">\n",
       "<caption>Logit Regression Results</caption>\n",
       "<tr>\n",
       "  <th>Dep. Variable:</th>      <td>legends</td>     <th>  No. Observations:  </th>  <td> 32805</td>  \n",
       "</tr>\n",
       "<tr>\n",
       "  <th>Model:</th>               <td>Logit</td>      <th>  Df Residuals:      </th>  <td> 32799</td>  \n",
       "</tr>\n",
       "<tr>\n",
       "  <th>Method:</th>               <td>MLE</td>       <th>  Df Model:          </th>  <td>     5</td>  \n",
       "</tr>\n",
       "<tr>\n",
       "  <th>Date:</th>          <td>Tue, 30 May 2017</td> <th>  Pseudo R-squ.:     </th>  <td>0.01098</td> \n",
       "</tr>\n",
       "<tr>\n",
       "  <th>Time:</th>              <td>16:56:39</td>     <th>  Log-Likelihood:    </th> <td> -15133.</td> \n",
       "</tr>\n",
       "<tr>\n",
       "  <th>converged:</th>           <td>True</td>       <th>  LL-Null:           </th> <td> -15301.</td> \n",
       "</tr>\n",
       "<tr>\n",
       "  <th> </th>                      <td> </td>        <th>  LLR p-value:       </th> <td>1.851e-70</td>\n",
       "</tr>\n",
       "</table>\n",
       "<table class=\"simpletable\">\n",
       "<tr>\n",
       "      <td></td>         <th>coef</th>     <th>std err</th>      <th>z</th>      <th>P>|z|</th>  <th>[0.025</th>    <th>0.975]</th>  \n",
       "</tr>\n",
       "<tr>\n",
       "  <th>Intercept</th> <td>   -1.2663</td> <td>    0.027</td> <td>  -47.615</td> <td> 0.000</td> <td>   -1.318</td> <td>   -1.214</td>\n",
       "</tr>\n",
       "<tr>\n",
       "  <th>c</th>         <td>    0.0363</td> <td>    0.004</td> <td>    8.315</td> <td> 0.000</td> <td>    0.028</td> <td>    0.045</td>\n",
       "</tr>\n",
       "<tr>\n",
       "  <th>c2</th>        <td>    0.0006</td> <td>    0.000</td> <td>    3.445</td> <td> 0.001</td> <td>    0.000</td> <td>    0.001</td>\n",
       "</tr>\n",
       "<tr>\n",
       "  <th>a</th>         <td>    0.0266</td> <td>    0.005</td> <td>    5.889</td> <td> 0.000</td> <td>    0.018</td> <td>    0.035</td>\n",
       "</tr>\n",
       "<tr>\n",
       "  <th>a2</th>        <td>    0.0005</td> <td>    0.000</td> <td>    2.662</td> <td> 0.008</td> <td>    0.000</td> <td>    0.001</td>\n",
       "</tr>\n",
       "<tr>\n",
       "  <th>ac</th>        <td>    0.0012</td> <td>    0.000</td> <td>    3.420</td> <td> 0.001</td> <td>    0.001</td> <td>    0.002</td>\n",
       "</tr>\n",
       "</table>"
      ],
      "text/plain": [
       "<class 'statsmodels.iolib.summary.Summary'>\n",
       "\"\"\"\n",
       "                           Logit Regression Results                           \n",
       "==============================================================================\n",
       "Dep. Variable:                legends   No. Observations:                32805\n",
       "Model:                          Logit   Df Residuals:                    32799\n",
       "Method:                           MLE   Df Model:                            5\n",
       "Date:                Tue, 30 May 2017   Pseudo R-squ.:                 0.01098\n",
       "Time:                        16:56:39   Log-Likelihood:                -15133.\n",
       "converged:                       True   LL-Null:                       -15301.\n",
       "                                        LLR p-value:                 1.851e-70\n",
       "==============================================================================\n",
       "                 coef    std err          z      P>|z|      [0.025      0.975]\n",
       "------------------------------------------------------------------------------\n",
       "Intercept     -1.2663      0.027    -47.615      0.000      -1.318      -1.214\n",
       "c              0.0363      0.004      8.315      0.000       0.028       0.045\n",
       "c2             0.0006      0.000      3.445      0.001       0.000       0.001\n",
       "a              0.0266      0.005      5.889      0.000       0.018       0.035\n",
       "a2             0.0005      0.000      2.662      0.008       0.000       0.001\n",
       "ac             0.0012      0.000      3.420      0.001       0.001       0.002\n",
       "==============================================================================\n",
       "\"\"\""
      ]
     },
     "execution_count": 161,
     "metadata": {},
     "output_type": "execute_result"
    }
   ],
   "source": [
    "make_model(sample, 'legends').summary()"
   ]
  },
  {
   "cell_type": "code",
   "execution_count": 162,
   "metadata": {
    "collapsed": false
   },
   "outputs": [
    {
     "name": "stdout",
     "output_type": "stream",
     "text": [
      "Optimization terminated successfully.\n",
      "         Current function value: 1.016086\n",
      "         Iterations 5\n"
     ]
    },
    {
     "data": {
      "image/png": "[encoded data removed]",
      "text/plain": [
       "<matplotlib.figure.Figure at 0x7fc9b6042550>"
      ]
     },
     "metadata": {},
     "output_type": "display_data"
    }
   ],
   "source": [
    "var = 'bible'\n",
    "varnames = ['word', 'inspired', 'legends']\n",
    "colors = [BLUE, PURPLE, RED]\n",
    "train_year = 2016\n",
    "years = np.arange(1984, 2036)\n",
    "factors = ['ones', 'a', 'c']\n",
    "index = varnames\n",
    "\n",
    "pred = make_multi_pred(sample, var, varnames, train_year, years, factors, index)\n",
    "plot_multi_pred(sample, pred, varnames, colors)\n",
    "plot_bible(grouped_year)\n",
    "\n",
    "thinkplot.config(xlim=[1983, 2038], ylim=[0, 60])"
   ]
  },
  {
   "cell_type": "code",
   "execution_count": 163,
   "metadata": {
    "collapsed": false
   },
   "outputs": [
    {
     "name": "stdout",
     "output_type": "stream",
     "text": [
      "Optimization terminated successfully.\n",
      "         Current function value: 1.016086\n",
      "         Iterations 5\n"
     ]
    },
    {
     "data": {
      "text/html": [
       "<div>\n",
       "<table border=\"1\" class=\"dataframe\">\n",
       "  <thead>\n",
       "    <tr style=\"text-align: right;\">\n",
       "      <th></th>\n",
       "      <th>word</th>\n",
       "      <th>inspired</th>\n",
       "      <th>legends</th>\n",
       "    </tr>\n",
       "  </thead>\n",
       "  <tbody>\n",
       "    <tr>\n",
       "      <th>1986</th>\n",
       "      <td>35.918045</td>\n",
       "      <td>51.209545</td>\n",
       "      <td>12.872410</td>\n",
       "    </tr>\n",
       "    <tr>\n",
       "      <th>2016</th>\n",
       "      <td>31.791786</td>\n",
       "      <td>45.936838</td>\n",
       "      <td>22.271376</td>\n",
       "    </tr>\n",
       "    <tr>\n",
       "      <th>2036</th>\n",
       "      <td>28.159222</td>\n",
       "      <td>41.031419</td>\n",
       "      <td>30.809359</td>\n",
       "    </tr>\n",
       "  </tbody>\n",
       "</table>\n",
       "</div>"
      ],
      "text/plain": [
       "           word   inspired    legends\n",
       "1986  35.918045  51.209545  12.872410\n",
       "2016  31.791786  45.936838  22.271376\n",
       "2036  28.159222  41.031419  30.809359"
      ]
     },
     "execution_count": 163,
     "metadata": {},
     "output_type": "execute_result"
    }
   ],
   "source": [
    "make_multi_pred(sample, var, varnames, train_year, [1986, 2016, 2036], factors, index)"
   ]
  },
  {
   "cell_type": "code",
   "execution_count": null,
   "metadata": {
    "collapsed": true
   },
   "outputs": [],
   "source": []
  },
  {
   "cell_type": "code",
   "execution_count": null,
   "metadata": {
    "collapsed": true
   },
   "outputs": [],
   "source": []
  }
 ],
 "metadata": {
  "kernelspec": {
   "display_name": "Python 2",
   "language": "python",
   "name": "python2"
  },
  "language_info": {
   "codemirror_mode": {
    "name": "ipython",
    "version": 2
   },
   "file_extension": ".py",
   "mimetype": "text/x-python",
   "name": "python",
   "nbconvert_exporter": "python",
   "pygments_lexer": "ipython2",
   "version": "2.7.11"
  }
 },
 "nbformat": 4,
 "nbformat_minor": 0
}
