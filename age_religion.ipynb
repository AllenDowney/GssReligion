{
 "cells": [
  {
   "cell_type": "markdown",
   "metadata": {},
   "source": [
    "# \n",
    "\n",
    "Allen Downey\n",
    "\n",
    "[MIT License](https://en.wikipedia.org/wiki/MIT_License)"
   ]
  },
  {
   "cell_type": "code",
   "execution_count": 1,
   "metadata": {
    "collapsed": false
   },
   "outputs": [],
   "source": [
    "from __future__ import print_function, division\n",
    "\n",
    "%matplotlib inline\n",
    "\n",
    "import pandas as pd\n",
    "import numpy as np\n",
    "\n",
    "import thinkstats2\n",
    "import thinkplot\n",
    "import utils\n",
    "\n",
    "import statsmodels.formula.api as smf\n",
    "import matplotlib.pyplot as plt\n",
    "\n",
    "import seaborn as sns\n",
    "sns.set(style='whitegrid', font_scale=1.5)\n",
    "\n",
    "from scipy.special import expit"
   ]
  },
  {
   "cell_type": "markdown",
   "metadata": {},
   "source": [
    "Reading data from the [General Social Survey](https://gssdataexplorer.norc.org/projects/29853)"
   ]
  },
  {
   "cell_type": "code",
   "execution_count": 2,
   "metadata": {
    "collapsed": false
   },
   "outputs": [
    {
     "name": "stdout",
     "output_type": "stream",
     "text": [
      "(62466, 11)\n"
     ]
    },
    {
     "data": {
      "text/html": [
       "<div>\n",
       "<table border=\"1\" class=\"dataframe\">\n",
       "  <thead>\n",
       "    <tr style=\"text-align: right;\">\n",
       "      <th></th>\n",
       "      <th>year</th>\n",
       "      <th>conclerg</th>\n",
       "      <th>bible</th>\n",
       "      <th>cohort</th>\n",
       "      <th>age</th>\n",
       "      <th>wtssall</th>\n",
       "      <th>ballot</th>\n",
       "      <th>relig</th>\n",
       "      <th>educ</th>\n",
       "      <th>id_</th>\n",
       "      <th>god</th>\n",
       "    </tr>\n",
       "  </thead>\n",
       "  <tbody>\n",
       "    <tr>\n",
       "      <th>0</th>\n",
       "      <td>1972</td>\n",
       "      <td>0</td>\n",
       "      <td>0</td>\n",
       "      <td>1949</td>\n",
       "      <td>23</td>\n",
       "      <td>0.4446</td>\n",
       "      <td>0</td>\n",
       "      <td>3</td>\n",
       "      <td>16</td>\n",
       "      <td>1</td>\n",
       "      <td>0</td>\n",
       "    </tr>\n",
       "    <tr>\n",
       "      <th>1</th>\n",
       "      <td>1972</td>\n",
       "      <td>0</td>\n",
       "      <td>0</td>\n",
       "      <td>1902</td>\n",
       "      <td>70</td>\n",
       "      <td>0.8893</td>\n",
       "      <td>0</td>\n",
       "      <td>2</td>\n",
       "      <td>10</td>\n",
       "      <td>2</td>\n",
       "      <td>0</td>\n",
       "    </tr>\n",
       "    <tr>\n",
       "      <th>2</th>\n",
       "      <td>1972</td>\n",
       "      <td>0</td>\n",
       "      <td>0</td>\n",
       "      <td>1924</td>\n",
       "      <td>48</td>\n",
       "      <td>0.8893</td>\n",
       "      <td>0</td>\n",
       "      <td>1</td>\n",
       "      <td>12</td>\n",
       "      <td>3</td>\n",
       "      <td>0</td>\n",
       "    </tr>\n",
       "    <tr>\n",
       "      <th>3</th>\n",
       "      <td>1972</td>\n",
       "      <td>0</td>\n",
       "      <td>0</td>\n",
       "      <td>1945</td>\n",
       "      <td>27</td>\n",
       "      <td>0.8893</td>\n",
       "      <td>0</td>\n",
       "      <td>5</td>\n",
       "      <td>17</td>\n",
       "      <td>4</td>\n",
       "      <td>0</td>\n",
       "    </tr>\n",
       "    <tr>\n",
       "      <th>4</th>\n",
       "      <td>1972</td>\n",
       "      <td>0</td>\n",
       "      <td>0</td>\n",
       "      <td>1911</td>\n",
       "      <td>61</td>\n",
       "      <td>0.8893</td>\n",
       "      <td>0</td>\n",
       "      <td>1</td>\n",
       "      <td>12</td>\n",
       "      <td>5</td>\n",
       "      <td>0</td>\n",
       "    </tr>\n",
       "  </tbody>\n",
       "</table>\n",
       "</div>"
      ],
      "text/plain": [
       "   year  conclerg  bible  cohort  age  wtssall  ballot  relig  educ  id_  god\n",
       "0  1972         0      0    1949   23   0.4446       0      3    16    1    0\n",
       "1  1972         0      0    1902   70   0.8893       0      2    10    2    0\n",
       "2  1972         0      0    1924   48   0.8893       0      1    12    3    0\n",
       "3  1972         0      0    1945   27   0.8893       0      5    17    4    0\n",
       "4  1972         0      0    1911   61   0.8893       0      1    12    5    0"
      ]
     },
     "execution_count": 2,
     "metadata": {},
     "output_type": "execute_result"
    }
   ],
   "source": [
    "gss = utils.ReadGss('gss_college_religion')\n",
    "print(gss.shape)\n",
    "gss.head()"
   ]
  },
  {
   "cell_type": "markdown",
   "metadata": {},
   "source": [
    "Cleaning variables"
   ]
  },
  {
   "cell_type": "code",
   "execution_count": 3,
   "metadata": {
    "collapsed": false
   },
   "outputs": [
    {
     "data": {
      "text/plain": [
       "221"
      ]
     },
     "execution_count": 3,
     "metadata": {},
     "output_type": "execute_result"
    }
   ],
   "source": [
    "gss.age.replace([98, 99], np.nan, inplace=True)\n",
    "sum(gss.age.isnull())"
   ]
  },
  {
   "cell_type": "code",
   "execution_count": 4,
   "metadata": {
    "collapsed": false
   },
   "outputs": [
    {
     "data": {
      "text/plain": [
       "221"
      ]
     },
     "execution_count": 4,
     "metadata": {},
     "output_type": "execute_result"
    }
   ],
   "source": [
    "gss.cohort.replace([9999], np.nan, inplace=True)\n",
    "sum(gss.cohort.isnull())"
   ]
  },
  {
   "cell_type": "code",
   "execution_count": 5,
   "metadata": {
    "collapsed": false
   },
   "outputs": [
    {
     "data": {
      "text/plain": [
       "269"
      ]
     },
     "execution_count": 5,
     "metadata": {},
     "output_type": "execute_result"
    }
   ],
   "source": [
    "gss.relig.replace([98, 99], np.nan, inplace=True)\n",
    "sum(gss.relig.isnull())"
   ]
  },
  {
   "cell_type": "code",
   "execution_count": 6,
   "metadata": {
    "collapsed": false
   },
   "outputs": [
    {
     "data": {
      "text/plain": [
       "(61995, 11)"
      ]
     },
     "execution_count": 6,
     "metadata": {},
     "output_type": "execute_result"
    }
   ],
   "source": [
    "gss.dropna(subset=['age', 'cohort', 'relig'], inplace=True)\n",
    "gss.shape"
   ]
  },
  {
   "cell_type": "code",
   "execution_count": 7,
   "metadata": {
    "collapsed": false
   },
   "outputs": [
    {
     "data": {
      "text/plain": [
       "18.0     219\n",
       "19.0     831\n",
       "20.0     870\n",
       "21.0     985\n",
       "22.0    1037\n",
       "23.0    1203\n",
       "24.0    1171\n",
       "25.0    1332\n",
       "26.0    1301\n",
       "27.0    1350\n",
       "28.0    1380\n",
       "29.0    1279\n",
       "30.0    1394\n",
       "31.0    1303\n",
       "32.0    1381\n",
       "33.0    1329\n",
       "34.0    1351\n",
       "35.0    1335\n",
       "36.0    1314\n",
       "37.0    1312\n",
       "38.0    1305\n",
       "39.0    1181\n",
       "40.0    1238\n",
       "41.0    1178\n",
       "42.0    1156\n",
       "43.0    1196\n",
       "44.0    1129\n",
       "45.0    1056\n",
       "46.0    1075\n",
       "47.0    1073\n",
       "        ... \n",
       "60.0     890\n",
       "61.0     800\n",
       "62.0     837\n",
       "63.0     798\n",
       "64.0     702\n",
       "65.0     776\n",
       "66.0     709\n",
       "67.0     771\n",
       "68.0     698\n",
       "69.0     648\n",
       "70.0     669\n",
       "71.0     588\n",
       "72.0     592\n",
       "73.0     532\n",
       "74.0     560\n",
       "75.0     478\n",
       "76.0     487\n",
       "77.0     447\n",
       "78.0     420\n",
       "79.0     365\n",
       "80.0     323\n",
       "81.0     320\n",
       "82.0     264\n",
       "83.0     253\n",
       "84.0     215\n",
       "85.0     185\n",
       "86.0     171\n",
       "87.0     143\n",
       "88.0     113\n",
       "89.0     331\n",
       "Name: age, dtype: int64"
      ]
     },
     "execution_count": 7,
     "metadata": {},
     "output_type": "execute_result"
    }
   ],
   "source": [
    "utils.values(gss, 'age')"
   ]
  },
  {
   "cell_type": "code",
   "execution_count": 8,
   "metadata": {
    "collapsed": false
   },
   "outputs": [
    {
     "data": {
      "text/plain": [
       "{'xscale': 'linear', 'yscale': 'linear'}"
      ]
     },
     "execution_count": 8,
     "metadata": {},
     "output_type": "execute_result"
    },
    {
     "data": {
      "image/png": "[encoded data removed]",
      "text/plain": [
       "<matplotlib.figure.Figure at 0x7fb938724610>"
      ]
     },
     "metadata": {},
     "output_type": "display_data"
    }
   ],
   "source": [
    "gss['age_group'] = utils.RoundIntoBins(gss, 'age', 5)\n",
    "thinkplot.Cdf(thinkstats2.Cdf(gss.age - gss.age_group))"
   ]
  },
  {
   "cell_type": "code",
   "execution_count": 9,
   "metadata": {
    "collapsed": false
   },
   "outputs": [
    {
     "data": {
      "text/plain": [
       "1883.0      2\n",
       "1884.0      3\n",
       "1885.0      7\n",
       "1886.0      4\n",
       "1887.0     13\n",
       "1888.0     10\n",
       "1889.0     21\n",
       "1890.0     27\n",
       "1891.0     27\n",
       "1892.0     31\n",
       "1893.0     34\n",
       "1894.0     61\n",
       "1895.0     55\n",
       "1896.0     73\n",
       "1897.0     72\n",
       "1898.0    104\n",
       "1899.0    123\n",
       "1900.0    130\n",
       "1901.0    137\n",
       "1902.0    163\n",
       "1903.0    173\n",
       "1904.0    182\n",
       "1905.0    217\n",
       "1906.0    207\n",
       "1907.0    261\n",
       "1908.0    246\n",
       "1909.0    330\n",
       "1910.0    285\n",
       "1911.0    318\n",
       "1912.0    345\n",
       "         ... \n",
       "1969.0    785\n",
       "1970.0    796\n",
       "1971.0    658\n",
       "1972.0    635\n",
       "1973.0    609\n",
       "1974.0    591\n",
       "1975.0    530\n",
       "1976.0    522\n",
       "1977.0    535\n",
       "1978.0    453\n",
       "1979.0    490\n",
       "1980.0    447\n",
       "1981.0    425\n",
       "1982.0    357\n",
       "1983.0    325\n",
       "1984.0    309\n",
       "1985.0    308\n",
       "1986.0    249\n",
       "1987.0    233\n",
       "1988.0    181\n",
       "1989.0    200\n",
       "1990.0    134\n",
       "1991.0    140\n",
       "1992.0     92\n",
       "1993.0     92\n",
       "1994.0     80\n",
       "1995.0     58\n",
       "1996.0     32\n",
       "1997.0     33\n",
       "1998.0      7\n",
       "Name: cohort, dtype: int64"
      ]
     },
     "execution_count": 9,
     "metadata": {},
     "output_type": "execute_result"
    }
   ],
   "source": [
    "utils.values(gss, 'cohort')"
   ]
  },
  {
   "cell_type": "code",
   "execution_count": 10,
   "metadata": {
    "collapsed": false
   },
   "outputs": [
    {
     "data": {
      "text/plain": [
       "{'xscale': 'linear', 'yscale': 'linear'}"
      ]
     },
     "execution_count": 10,
     "metadata": {},
     "output_type": "execute_result"
    },
    {
     "data": {
      "image/png": "[encoded data removed]",
      "text/plain": [
       "<matplotlib.figure.Figure at 0x7fb905fcdc50>"
      ]
     },
     "metadata": {},
     "output_type": "display_data"
    }
   ],
   "source": [
    "gss['decade'] = utils.RoundIntoBins(gss, 'cohort', 10)\n",
    "thinkplot.Cdf(thinkstats2.Cdf(gss.cohort - gss.decade))"
   ]
  },
  {
   "cell_type": "code",
   "execution_count": 11,
   "metadata": {
    "collapsed": false
   },
   "outputs": [],
   "source": [
    "gss['cohort5'] = utils.RoundIntoBins(gss, 'cohort', 5) + 2.5"
   ]
  },
  {
   "cell_type": "markdown",
   "metadata": {},
   "source": [
    "Religion code 4 represents people who report no religious affiliation."
   ]
  },
  {
   "cell_type": "code",
   "execution_count": 12,
   "metadata": {
    "collapsed": false
   },
   "outputs": [
    {
     "data": {
      "text/plain": [
       "1.0     35856\n",
       "2.0     15136\n",
       "3.0      1233\n",
       "4.0      7231\n",
       "5.0      1064\n",
       "6.0       177\n",
       "7.0        88\n",
       "8.0        38\n",
       "9.0       135\n",
       "10.0      112\n",
       "11.0      760\n",
       "12.0       30\n",
       "13.0      135\n",
       "Name: relig, dtype: int64"
      ]
     },
     "execution_count": 12,
     "metadata": {},
     "output_type": "execute_result"
    }
   ],
   "source": [
    "utils.values(gss, 'relig')"
   ]
  },
  {
   "cell_type": "code",
   "execution_count": 13,
   "metadata": {
    "collapsed": false
   },
   "outputs": [],
   "source": [
    "gss['none'] = (gss.relig==4).astype(int)\n",
    "gss['cath'] = (gss.relig==2).astype(int)\n",
    "\n",
    "# the second line lumps \"Orthodox-Christian\" and \"Christian\" with Protestant\n",
    "gss['prot'] = (gss.relig==1).astype(int)\n",
    "gss['prot'] = (gss.relig.isin([1,10,11])).astype(int)\n",
    "\n",
    "gss['other'] = (gss.relig.isin([3,5,6,7,8,9,10,11,12,13])).astype(int)"
   ]
  },
  {
   "cell_type": "code",
   "execution_count": 14,
   "metadata": {
    "collapsed": false
   },
   "outputs": [
    {
     "data": {
      "text/plain": [
       "1.0    35856\n",
       "2.0    15136\n",
       "3.0     3772\n",
       "4.0     7231\n",
       "Name: relig2, dtype: int64"
      ]
     },
     "execution_count": 14,
     "metadata": {},
     "output_type": "execute_result"
    }
   ],
   "source": [
    "gss['relig2'] = gss.relig.copy()\n",
    "gss.loc[gss.relig>4, 'relig2'] = 3\n",
    "utils.values(gss, 'relig2')"
   ]
  },
  {
   "cell_type": "markdown",
   "metadata": {},
   "source": [
    "Resampling (bootstrapping to be more specific) to account for sampling weights."
   ]
  },
  {
   "cell_type": "code",
   "execution_count": 15,
   "metadata": {
    "collapsed": false,
    "scrolled": true
   },
   "outputs": [
    {
     "data": {
      "text/html": [
       "<div>\n",
       "<table border=\"1\" class=\"dataframe\">\n",
       "  <thead>\n",
       "    <tr style=\"text-align: right;\">\n",
       "      <th></th>\n",
       "      <th>year</th>\n",
       "      <th>conclerg</th>\n",
       "      <th>bible</th>\n",
       "      <th>cohort</th>\n",
       "      <th>age</th>\n",
       "      <th>wtssall</th>\n",
       "      <th>ballot</th>\n",
       "      <th>relig</th>\n",
       "      <th>educ</th>\n",
       "      <th>id_</th>\n",
       "      <th>god</th>\n",
       "      <th>age_group</th>\n",
       "      <th>decade</th>\n",
       "      <th>cohort5</th>\n",
       "      <th>none</th>\n",
       "      <th>cath</th>\n",
       "      <th>prot</th>\n",
       "      <th>other</th>\n",
       "      <th>relig2</th>\n",
       "    </tr>\n",
       "  </thead>\n",
       "  <tbody>\n",
       "    <tr>\n",
       "      <th>0</th>\n",
       "      <td>1972</td>\n",
       "      <td>0</td>\n",
       "      <td>0</td>\n",
       "      <td>1895.0</td>\n",
       "      <td>77.0</td>\n",
       "      <td>1.3339</td>\n",
       "      <td>0</td>\n",
       "      <td>1.0</td>\n",
       "      <td>5</td>\n",
       "      <td>659</td>\n",
       "      <td>0</td>\n",
       "      <td>75.0</td>\n",
       "      <td>1890.0</td>\n",
       "      <td>1897.5</td>\n",
       "      <td>0</td>\n",
       "      <td>0</td>\n",
       "      <td>1</td>\n",
       "      <td>0</td>\n",
       "      <td>1.0</td>\n",
       "    </tr>\n",
       "    <tr>\n",
       "      <th>1</th>\n",
       "      <td>1972</td>\n",
       "      <td>0</td>\n",
       "      <td>0</td>\n",
       "      <td>1909.0</td>\n",
       "      <td>63.0</td>\n",
       "      <td>0.8893</td>\n",
       "      <td>0</td>\n",
       "      <td>1.0</td>\n",
       "      <td>8</td>\n",
       "      <td>1531</td>\n",
       "      <td>0</td>\n",
       "      <td>60.0</td>\n",
       "      <td>1900.0</td>\n",
       "      <td>1907.5</td>\n",
       "      <td>0</td>\n",
       "      <td>0</td>\n",
       "      <td>1</td>\n",
       "      <td>0</td>\n",
       "      <td>1.0</td>\n",
       "    </tr>\n",
       "    <tr>\n",
       "      <th>2</th>\n",
       "      <td>1972</td>\n",
       "      <td>0</td>\n",
       "      <td>0</td>\n",
       "      <td>1949.0</td>\n",
       "      <td>23.0</td>\n",
       "      <td>0.8893</td>\n",
       "      <td>0</td>\n",
       "      <td>1.0</td>\n",
       "      <td>16</td>\n",
       "      <td>1250</td>\n",
       "      <td>0</td>\n",
       "      <td>20.0</td>\n",
       "      <td>1940.0</td>\n",
       "      <td>1947.5</td>\n",
       "      <td>0</td>\n",
       "      <td>0</td>\n",
       "      <td>1</td>\n",
       "      <td>0</td>\n",
       "      <td>1.0</td>\n",
       "    </tr>\n",
       "    <tr>\n",
       "      <th>3</th>\n",
       "      <td>1972</td>\n",
       "      <td>0</td>\n",
       "      <td>0</td>\n",
       "      <td>1943.0</td>\n",
       "      <td>29.0</td>\n",
       "      <td>0.4446</td>\n",
       "      <td>0</td>\n",
       "      <td>1.0</td>\n",
       "      <td>13</td>\n",
       "      <td>599</td>\n",
       "      <td>0</td>\n",
       "      <td>25.0</td>\n",
       "      <td>1940.0</td>\n",
       "      <td>1942.5</td>\n",
       "      <td>0</td>\n",
       "      <td>0</td>\n",
       "      <td>1</td>\n",
       "      <td>0</td>\n",
       "      <td>1.0</td>\n",
       "    </tr>\n",
       "    <tr>\n",
       "      <th>4</th>\n",
       "      <td>1972</td>\n",
       "      <td>0</td>\n",
       "      <td>0</td>\n",
       "      <td>1907.0</td>\n",
       "      <td>65.0</td>\n",
       "      <td>1.3339</td>\n",
       "      <td>0</td>\n",
       "      <td>1.0</td>\n",
       "      <td>6</td>\n",
       "      <td>1196</td>\n",
       "      <td>0</td>\n",
       "      <td>65.0</td>\n",
       "      <td>1900.0</td>\n",
       "      <td>1907.5</td>\n",
       "      <td>0</td>\n",
       "      <td>0</td>\n",
       "      <td>1</td>\n",
       "      <td>0</td>\n",
       "      <td>1.0</td>\n",
       "    </tr>\n",
       "  </tbody>\n",
       "</table>\n",
       "</div>"
      ],
      "text/plain": [
       "   year  conclerg  bible  cohort   age  wtssall  ballot  relig  educ   id_  \\\n",
       "0  1972         0      0  1895.0  77.0   1.3339       0    1.0     5   659   \n",
       "1  1972         0      0  1909.0  63.0   0.8893       0    1.0     8  1531   \n",
       "2  1972         0      0  1949.0  23.0   0.8893       0    1.0    16  1250   \n",
       "3  1972         0      0  1943.0  29.0   0.4446       0    1.0    13   599   \n",
       "4  1972         0      0  1907.0  65.0   1.3339       0    1.0     6  1196   \n",
       "\n",
       "   god  age_group  decade  cohort5  none  cath  prot  other  relig2  \n",
       "0    0       75.0  1890.0   1897.5     0     0     1      0     1.0  \n",
       "1    0       60.0  1900.0   1907.5     0     0     1      0     1.0  \n",
       "2    0       20.0  1940.0   1947.5     0     0     1      0     1.0  \n",
       "3    0       25.0  1940.0   1942.5     0     0     1      0     1.0  \n",
       "4    0       65.0  1900.0   1907.5     0     0     1      0     1.0  "
      ]
     },
     "execution_count": 15,
     "metadata": {},
     "output_type": "execute_result"
    }
   ],
   "source": [
    "sample = utils.ResampleByYear(gss)\n",
    "sample.head()"
   ]
  },
  {
   "cell_type": "markdown",
   "metadata": {},
   "source": [
    "## How does religious affiliation change with age?"
   ]
  },
  {
   "cell_type": "markdown",
   "metadata": {},
   "source": [
    "Group by decade of birth and age group."
   ]
  },
  {
   "cell_type": "code",
   "execution_count": 16,
   "metadata": {
    "collapsed": true
   },
   "outputs": [],
   "source": [
    "grouped = sample.groupby(['decade', 'age_group'])"
   ]
  },
  {
   "cell_type": "markdown",
   "metadata": {},
   "source": [
    "Count the number of observations in each decade/age group."
   ]
  },
  {
   "cell_type": "code",
   "execution_count": 17,
   "metadata": {
    "collapsed": false
   },
   "outputs": [
    {
     "data": {
      "text/html": [
       "<div>\n",
       "<table border=\"1\" class=\"dataframe\">\n",
       "  <thead>\n",
       "    <tr style=\"text-align: right;\">\n",
       "      <th>age_group</th>\n",
       "      <th>15.0</th>\n",
       "      <th>20.0</th>\n",
       "      <th>25.0</th>\n",
       "      <th>30.0</th>\n",
       "      <th>35.0</th>\n",
       "      <th>40.0</th>\n",
       "      <th>45.0</th>\n",
       "      <th>50.0</th>\n",
       "      <th>55.0</th>\n",
       "      <th>60.0</th>\n",
       "      <th>65.0</th>\n",
       "      <th>70.0</th>\n",
       "      <th>75.0</th>\n",
       "      <th>80.0</th>\n",
       "      <th>85.0</th>\n",
       "    </tr>\n",
       "    <tr>\n",
       "      <th>decade</th>\n",
       "      <th></th>\n",
       "      <th></th>\n",
       "      <th></th>\n",
       "      <th></th>\n",
       "      <th></th>\n",
       "      <th></th>\n",
       "      <th></th>\n",
       "      <th></th>\n",
       "      <th></th>\n",
       "      <th></th>\n",
       "      <th></th>\n",
       "      <th></th>\n",
       "      <th></th>\n",
       "      <th></th>\n",
       "      <th></th>\n",
       "    </tr>\n",
       "  </thead>\n",
       "  <tbody>\n",
       "    <tr>\n",
       "      <th>1880.0</th>\n",
       "      <td>NaN</td>\n",
       "      <td>NaN</td>\n",
       "      <td>NaN</td>\n",
       "      <td>NaN</td>\n",
       "      <td>NaN</td>\n",
       "      <td>NaN</td>\n",
       "      <td>NaN</td>\n",
       "      <td>NaN</td>\n",
       "      <td>NaN</td>\n",
       "      <td>NaN</td>\n",
       "      <td>NaN</td>\n",
       "      <td>NaN</td>\n",
       "      <td>NaN</td>\n",
       "      <td>5.0</td>\n",
       "      <td>37.0</td>\n",
       "    </tr>\n",
       "    <tr>\n",
       "      <th>1890.0</th>\n",
       "      <td>NaN</td>\n",
       "      <td>NaN</td>\n",
       "      <td>NaN</td>\n",
       "      <td>NaN</td>\n",
       "      <td>NaN</td>\n",
       "      <td>NaN</td>\n",
       "      <td>NaN</td>\n",
       "      <td>NaN</td>\n",
       "      <td>NaN</td>\n",
       "      <td>NaN</td>\n",
       "      <td>NaN</td>\n",
       "      <td>48.0</td>\n",
       "      <td>182.0</td>\n",
       "      <td>149.0</td>\n",
       "      <td>109.0</td>\n",
       "    </tr>\n",
       "    <tr>\n",
       "      <th>1900.0</th>\n",
       "      <td>NaN</td>\n",
       "      <td>NaN</td>\n",
       "      <td>NaN</td>\n",
       "      <td>NaN</td>\n",
       "      <td>NaN</td>\n",
       "      <td>NaN</td>\n",
       "      <td>NaN</td>\n",
       "      <td>NaN</td>\n",
       "      <td>NaN</td>\n",
       "      <td>58.0</td>\n",
       "      <td>402.0</td>\n",
       "      <td>510.0</td>\n",
       "      <td>308.0</td>\n",
       "      <td>235.0</td>\n",
       "      <td>138.0</td>\n",
       "    </tr>\n",
       "    <tr>\n",
       "      <th>1910.0</th>\n",
       "      <td>NaN</td>\n",
       "      <td>NaN</td>\n",
       "      <td>NaN</td>\n",
       "      <td>NaN</td>\n",
       "      <td>NaN</td>\n",
       "      <td>NaN</td>\n",
       "      <td>NaN</td>\n",
       "      <td>95.0</td>\n",
       "      <td>604.0</td>\n",
       "      <td>766.0</td>\n",
       "      <td>720.0</td>\n",
       "      <td>639.0</td>\n",
       "      <td>459.0</td>\n",
       "      <td>241.0</td>\n",
       "      <td>210.0</td>\n",
       "    </tr>\n",
       "    <tr>\n",
       "      <th>1920.0</th>\n",
       "      <td>NaN</td>\n",
       "      <td>NaN</td>\n",
       "      <td>NaN</td>\n",
       "      <td>NaN</td>\n",
       "      <td>NaN</td>\n",
       "      <td>90.0</td>\n",
       "      <td>713.0</td>\n",
       "      <td>1025.0</td>\n",
       "      <td>910.0</td>\n",
       "      <td>900.0</td>\n",
       "      <td>764.0</td>\n",
       "      <td>639.0</td>\n",
       "      <td>423.0</td>\n",
       "      <td>268.0</td>\n",
       "      <td>181.0</td>\n",
       "    </tr>\n",
       "    <tr>\n",
       "      <th>1930.0</th>\n",
       "      <td>NaN</td>\n",
       "      <td>NaN</td>\n",
       "      <td>NaN</td>\n",
       "      <td>78.0</td>\n",
       "      <td>646.0</td>\n",
       "      <td>970.0</td>\n",
       "      <td>922.0</td>\n",
       "      <td>955.0</td>\n",
       "      <td>819.0</td>\n",
       "      <td>682.0</td>\n",
       "      <td>599.0</td>\n",
       "      <td>499.0</td>\n",
       "      <td>393.0</td>\n",
       "      <td>171.0</td>\n",
       "      <td>23.0</td>\n",
       "    </tr>\n",
       "    <tr>\n",
       "      <th>1940.0</th>\n",
       "      <td>NaN</td>\n",
       "      <td>125.0</td>\n",
       "      <td>854.0</td>\n",
       "      <td>1214.0</td>\n",
       "      <td>1116.0</td>\n",
       "      <td>1339.0</td>\n",
       "      <td>1279.0</td>\n",
       "      <td>1206.0</td>\n",
       "      <td>1011.0</td>\n",
       "      <td>946.0</td>\n",
       "      <td>648.0</td>\n",
       "      <td>274.0</td>\n",
       "      <td>42.0</td>\n",
       "      <td>NaN</td>\n",
       "      <td>NaN</td>\n",
       "    </tr>\n",
       "    <tr>\n",
       "      <th>1950.0</th>\n",
       "      <td>309.0</td>\n",
       "      <td>1445.0</td>\n",
       "      <td>1639.0</td>\n",
       "      <td>1686.0</td>\n",
       "      <td>1627.0</td>\n",
       "      <td>1677.0</td>\n",
       "      <td>1523.0</td>\n",
       "      <td>1336.0</td>\n",
       "      <td>1081.0</td>\n",
       "      <td>566.0</td>\n",
       "      <td>75.0</td>\n",
       "      <td>NaN</td>\n",
       "      <td>NaN</td>\n",
       "      <td>NaN</td>\n",
       "      <td>NaN</td>\n",
       "    </tr>\n",
       "    <tr>\n",
       "      <th>1960.0</th>\n",
       "      <td>331.0</td>\n",
       "      <td>1578.0</td>\n",
       "      <td>1472.0</td>\n",
       "      <td>1658.0</td>\n",
       "      <td>1541.0</td>\n",
       "      <td>1480.0</td>\n",
       "      <td>1050.0</td>\n",
       "      <td>668.0</td>\n",
       "      <td>98.0</td>\n",
       "      <td>NaN</td>\n",
       "      <td>NaN</td>\n",
       "      <td>NaN</td>\n",
       "      <td>NaN</td>\n",
       "      <td>NaN</td>\n",
       "      <td>NaN</td>\n",
       "    </tr>\n",
       "    <tr>\n",
       "      <th>1970.0</th>\n",
       "      <td>287.0</td>\n",
       "      <td>1363.0</td>\n",
       "      <td>1533.0</td>\n",
       "      <td>1338.0</td>\n",
       "      <td>1066.0</td>\n",
       "      <td>614.0</td>\n",
       "      <td>86.0</td>\n",
       "      <td>NaN</td>\n",
       "      <td>NaN</td>\n",
       "      <td>NaN</td>\n",
       "      <td>NaN</td>\n",
       "      <td>NaN</td>\n",
       "      <td>NaN</td>\n",
       "      <td>NaN</td>\n",
       "      <td>NaN</td>\n",
       "    </tr>\n",
       "    <tr>\n",
       "      <th>1980.0</th>\n",
       "      <td>333.0</td>\n",
       "      <td>1171.0</td>\n",
       "      <td>1089.0</td>\n",
       "      <td>646.0</td>\n",
       "      <td>108.0</td>\n",
       "      <td>NaN</td>\n",
       "      <td>NaN</td>\n",
       "      <td>NaN</td>\n",
       "      <td>NaN</td>\n",
       "      <td>NaN</td>\n",
       "      <td>NaN</td>\n",
       "      <td>NaN</td>\n",
       "      <td>NaN</td>\n",
       "      <td>NaN</td>\n",
       "      <td>NaN</td>\n",
       "    </tr>\n",
       "    <tr>\n",
       "      <th>1990.0</th>\n",
       "      <td>210.0</td>\n",
       "      <td>565.0</td>\n",
       "      <td>107.0</td>\n",
       "      <td>NaN</td>\n",
       "      <td>NaN</td>\n",
       "      <td>NaN</td>\n",
       "      <td>NaN</td>\n",
       "      <td>NaN</td>\n",
       "      <td>NaN</td>\n",
       "      <td>NaN</td>\n",
       "      <td>NaN</td>\n",
       "      <td>NaN</td>\n",
       "      <td>NaN</td>\n",
       "      <td>NaN</td>\n",
       "      <td>NaN</td>\n",
       "    </tr>\n",
       "  </tbody>\n",
       "</table>\n",
       "</div>"
      ],
      "text/plain": [
       "age_group   15.0    20.0    25.0    30.0    35.0    40.0    45.0    50.0  \\\n",
       "decade                                                                     \n",
       "1880.0       NaN     NaN     NaN     NaN     NaN     NaN     NaN     NaN   \n",
       "1890.0       NaN     NaN     NaN     NaN     NaN     NaN     NaN     NaN   \n",
       "1900.0       NaN     NaN     NaN     NaN     NaN     NaN     NaN     NaN   \n",
       "1910.0       NaN     NaN     NaN     NaN     NaN     NaN     NaN    95.0   \n",
       "1920.0       NaN     NaN     NaN     NaN     NaN    90.0   713.0  1025.0   \n",
       "1930.0       NaN     NaN     NaN    78.0   646.0   970.0   922.0   955.0   \n",
       "1940.0       NaN   125.0   854.0  1214.0  1116.0  1339.0  1279.0  1206.0   \n",
       "1950.0     309.0  1445.0  1639.0  1686.0  1627.0  1677.0  1523.0  1336.0   \n",
       "1960.0     331.0  1578.0  1472.0  1658.0  1541.0  1480.0  1050.0   668.0   \n",
       "1970.0     287.0  1363.0  1533.0  1338.0  1066.0   614.0    86.0     NaN   \n",
       "1980.0     333.0  1171.0  1089.0   646.0   108.0     NaN     NaN     NaN   \n",
       "1990.0     210.0   565.0   107.0     NaN     NaN     NaN     NaN     NaN   \n",
       "\n",
       "age_group    55.0   60.0   65.0   70.0   75.0   80.0   85.0  \n",
       "decade                                                       \n",
       "1880.0        NaN    NaN    NaN    NaN    NaN    5.0   37.0  \n",
       "1890.0        NaN    NaN    NaN   48.0  182.0  149.0  109.0  \n",
       "1900.0        NaN   58.0  402.0  510.0  308.0  235.0  138.0  \n",
       "1910.0      604.0  766.0  720.0  639.0  459.0  241.0  210.0  \n",
       "1920.0      910.0  900.0  764.0  639.0  423.0  268.0  181.0  \n",
       "1930.0      819.0  682.0  599.0  499.0  393.0  171.0   23.0  \n",
       "1940.0     1011.0  946.0  648.0  274.0   42.0    NaN    NaN  \n",
       "1950.0     1081.0  566.0   75.0    NaN    NaN    NaN    NaN  \n",
       "1960.0       98.0    NaN    NaN    NaN    NaN    NaN    NaN  \n",
       "1970.0        NaN    NaN    NaN    NaN    NaN    NaN    NaN  \n",
       "1980.0        NaN    NaN    NaN    NaN    NaN    NaN    NaN  \n",
       "1990.0        NaN    NaN    NaN    NaN    NaN    NaN    NaN  "
      ]
     },
     "execution_count": 17,
     "metadata": {},
     "output_type": "execute_result"
    }
   ],
   "source": [
    "counts = grouped.none.count().unstack()\n",
    "counts"
   ]
  },
  {
   "cell_type": "code",
   "execution_count": 18,
   "metadata": {
    "collapsed": false
   },
   "outputs": [
    {
     "data": {
      "text/html": [
       "<div>\n",
       "<table border=\"1\" class=\"dataframe\">\n",
       "  <thead>\n",
       "    <tr style=\"text-align: right;\">\n",
       "      <th>age_group</th>\n",
       "      <th>15.0</th>\n",
       "      <th>20.0</th>\n",
       "      <th>25.0</th>\n",
       "      <th>30.0</th>\n",
       "      <th>35.0</th>\n",
       "      <th>40.0</th>\n",
       "      <th>45.0</th>\n",
       "      <th>50.0</th>\n",
       "      <th>55.0</th>\n",
       "      <th>60.0</th>\n",
       "      <th>65.0</th>\n",
       "      <th>70.0</th>\n",
       "      <th>75.0</th>\n",
       "      <th>80.0</th>\n",
       "      <th>85.0</th>\n",
       "    </tr>\n",
       "    <tr>\n",
       "      <th>decade</th>\n",
       "      <th></th>\n",
       "      <th></th>\n",
       "      <th></th>\n",
       "      <th></th>\n",
       "      <th></th>\n",
       "      <th></th>\n",
       "      <th></th>\n",
       "      <th></th>\n",
       "      <th></th>\n",
       "      <th></th>\n",
       "      <th></th>\n",
       "      <th></th>\n",
       "      <th></th>\n",
       "      <th></th>\n",
       "      <th></th>\n",
       "    </tr>\n",
       "  </thead>\n",
       "  <tbody>\n",
       "    <tr>\n",
       "      <th>1880.0</th>\n",
       "      <td>NaN</td>\n",
       "      <td>NaN</td>\n",
       "      <td>NaN</td>\n",
       "      <td>NaN</td>\n",
       "      <td>NaN</td>\n",
       "      <td>NaN</td>\n",
       "      <td>NaN</td>\n",
       "      <td>NaN</td>\n",
       "      <td>NaN</td>\n",
       "      <td>NaN</td>\n",
       "      <td>NaN</td>\n",
       "      <td>NaN</td>\n",
       "      <td>NaN</td>\n",
       "      <td>0.600000</td>\n",
       "      <td>0.000000</td>\n",
       "    </tr>\n",
       "    <tr>\n",
       "      <th>1890.0</th>\n",
       "      <td>NaN</td>\n",
       "      <td>NaN</td>\n",
       "      <td>NaN</td>\n",
       "      <td>NaN</td>\n",
       "      <td>NaN</td>\n",
       "      <td>NaN</td>\n",
       "      <td>NaN</td>\n",
       "      <td>NaN</td>\n",
       "      <td>NaN</td>\n",
       "      <td>NaN</td>\n",
       "      <td>NaN</td>\n",
       "      <td>0.020833</td>\n",
       "      <td>0.032967</td>\n",
       "      <td>0.026846</td>\n",
       "      <td>0.018349</td>\n",
       "    </tr>\n",
       "    <tr>\n",
       "      <th>1900.0</th>\n",
       "      <td>NaN</td>\n",
       "      <td>NaN</td>\n",
       "      <td>NaN</td>\n",
       "      <td>NaN</td>\n",
       "      <td>NaN</td>\n",
       "      <td>NaN</td>\n",
       "      <td>NaN</td>\n",
       "      <td>NaN</td>\n",
       "      <td>NaN</td>\n",
       "      <td>0.017241</td>\n",
       "      <td>0.022388</td>\n",
       "      <td>0.037255</td>\n",
       "      <td>0.038961</td>\n",
       "      <td>0.046809</td>\n",
       "      <td>0.036232</td>\n",
       "    </tr>\n",
       "    <tr>\n",
       "      <th>1910.0</th>\n",
       "      <td>NaN</td>\n",
       "      <td>NaN</td>\n",
       "      <td>NaN</td>\n",
       "      <td>NaN</td>\n",
       "      <td>NaN</td>\n",
       "      <td>NaN</td>\n",
       "      <td>NaN</td>\n",
       "      <td>0.063158</td>\n",
       "      <td>0.029801</td>\n",
       "      <td>0.040470</td>\n",
       "      <td>0.030556</td>\n",
       "      <td>0.057903</td>\n",
       "      <td>0.019608</td>\n",
       "      <td>0.037344</td>\n",
       "      <td>0.057143</td>\n",
       "    </tr>\n",
       "    <tr>\n",
       "      <th>1920.0</th>\n",
       "      <td>NaN</td>\n",
       "      <td>NaN</td>\n",
       "      <td>NaN</td>\n",
       "      <td>NaN</td>\n",
       "      <td>NaN</td>\n",
       "      <td>0.000000</td>\n",
       "      <td>0.035063</td>\n",
       "      <td>0.024390</td>\n",
       "      <td>0.046154</td>\n",
       "      <td>0.024444</td>\n",
       "      <td>0.036649</td>\n",
       "      <td>0.048513</td>\n",
       "      <td>0.068558</td>\n",
       "      <td>0.059701</td>\n",
       "      <td>0.082873</td>\n",
       "    </tr>\n",
       "    <tr>\n",
       "      <th>1930.0</th>\n",
       "      <td>NaN</td>\n",
       "      <td>NaN</td>\n",
       "      <td>NaN</td>\n",
       "      <td>0.051282</td>\n",
       "      <td>0.043344</td>\n",
       "      <td>0.039175</td>\n",
       "      <td>0.058568</td>\n",
       "      <td>0.053403</td>\n",
       "      <td>0.032967</td>\n",
       "      <td>0.054252</td>\n",
       "      <td>0.061770</td>\n",
       "      <td>0.056112</td>\n",
       "      <td>0.050891</td>\n",
       "      <td>0.058480</td>\n",
       "      <td>0.000000</td>\n",
       "    </tr>\n",
       "    <tr>\n",
       "      <th>1940.0</th>\n",
       "      <td>NaN</td>\n",
       "      <td>0.136000</td>\n",
       "      <td>0.126464</td>\n",
       "      <td>0.079077</td>\n",
       "      <td>0.096774</td>\n",
       "      <td>0.065721</td>\n",
       "      <td>0.087568</td>\n",
       "      <td>0.067993</td>\n",
       "      <td>0.102868</td>\n",
       "      <td>0.117336</td>\n",
       "      <td>0.112654</td>\n",
       "      <td>0.120438</td>\n",
       "      <td>0.190476</td>\n",
       "      <td>NaN</td>\n",
       "      <td>NaN</td>\n",
       "    </tr>\n",
       "    <tr>\n",
       "      <th>1950.0</th>\n",
       "      <td>0.103560</td>\n",
       "      <td>0.118339</td>\n",
       "      <td>0.123246</td>\n",
       "      <td>0.090154</td>\n",
       "      <td>0.098341</td>\n",
       "      <td>0.124031</td>\n",
       "      <td>0.133290</td>\n",
       "      <td>0.127994</td>\n",
       "      <td>0.148936</td>\n",
       "      <td>0.144876</td>\n",
       "      <td>0.146667</td>\n",
       "      <td>NaN</td>\n",
       "      <td>NaN</td>\n",
       "      <td>NaN</td>\n",
       "      <td>NaN</td>\n",
       "    </tr>\n",
       "    <tr>\n",
       "      <th>1960.0</th>\n",
       "      <td>0.163142</td>\n",
       "      <td>0.115336</td>\n",
       "      <td>0.122283</td>\n",
       "      <td>0.135103</td>\n",
       "      <td>0.173264</td>\n",
       "      <td>0.133784</td>\n",
       "      <td>0.173333</td>\n",
       "      <td>0.175150</td>\n",
       "      <td>0.153061</td>\n",
       "      <td>NaN</td>\n",
       "      <td>NaN</td>\n",
       "      <td>NaN</td>\n",
       "      <td>NaN</td>\n",
       "      <td>NaN</td>\n",
       "      <td>NaN</td>\n",
       "    </tr>\n",
       "    <tr>\n",
       "      <th>1970.0</th>\n",
       "      <td>0.188153</td>\n",
       "      <td>0.180484</td>\n",
       "      <td>0.189824</td>\n",
       "      <td>0.229447</td>\n",
       "      <td>0.179174</td>\n",
       "      <td>0.223127</td>\n",
       "      <td>0.151163</td>\n",
       "      <td>NaN</td>\n",
       "      <td>NaN</td>\n",
       "      <td>NaN</td>\n",
       "      <td>NaN</td>\n",
       "      <td>NaN</td>\n",
       "      <td>NaN</td>\n",
       "      <td>NaN</td>\n",
       "      <td>NaN</td>\n",
       "    </tr>\n",
       "    <tr>\n",
       "      <th>1980.0</th>\n",
       "      <td>0.249249</td>\n",
       "      <td>0.271563</td>\n",
       "      <td>0.285583</td>\n",
       "      <td>0.264706</td>\n",
       "      <td>0.231481</td>\n",
       "      <td>NaN</td>\n",
       "      <td>NaN</td>\n",
       "      <td>NaN</td>\n",
       "      <td>NaN</td>\n",
       "      <td>NaN</td>\n",
       "      <td>NaN</td>\n",
       "      <td>NaN</td>\n",
       "      <td>NaN</td>\n",
       "      <td>NaN</td>\n",
       "      <td>NaN</td>\n",
       "    </tr>\n",
       "    <tr>\n",
       "      <th>1990.0</th>\n",
       "      <td>0.314286</td>\n",
       "      <td>0.318584</td>\n",
       "      <td>0.327103</td>\n",
       "      <td>NaN</td>\n",
       "      <td>NaN</td>\n",
       "      <td>NaN</td>\n",
       "      <td>NaN</td>\n",
       "      <td>NaN</td>\n",
       "      <td>NaN</td>\n",
       "      <td>NaN</td>\n",
       "      <td>NaN</td>\n",
       "      <td>NaN</td>\n",
       "      <td>NaN</td>\n",
       "      <td>NaN</td>\n",
       "      <td>NaN</td>\n",
       "    </tr>\n",
       "  </tbody>\n",
       "</table>\n",
       "</div>"
      ],
      "text/plain": [
       "age_group      15.0      20.0      25.0      30.0      35.0      40.0  \\\n",
       "decade                                                                  \n",
       "1880.0          NaN       NaN       NaN       NaN       NaN       NaN   \n",
       "1890.0          NaN       NaN       NaN       NaN       NaN       NaN   \n",
       "1900.0          NaN       NaN       NaN       NaN       NaN       NaN   \n",
       "1910.0          NaN       NaN       NaN       NaN       NaN       NaN   \n",
       "1920.0          NaN       NaN       NaN       NaN       NaN  0.000000   \n",
       "1930.0          NaN       NaN       NaN  0.051282  0.043344  0.039175   \n",
       "1940.0          NaN  0.136000  0.126464  0.079077  0.096774  0.065721   \n",
       "1950.0     0.103560  0.118339  0.123246  0.090154  0.098341  0.124031   \n",
       "1960.0     0.163142  0.115336  0.122283  0.135103  0.173264  0.133784   \n",
       "1970.0     0.188153  0.180484  0.189824  0.229447  0.179174  0.223127   \n",
       "1980.0     0.249249  0.271563  0.285583  0.264706  0.231481       NaN   \n",
       "1990.0     0.314286  0.318584  0.327103       NaN       NaN       NaN   \n",
       "\n",
       "age_group      45.0      50.0      55.0      60.0      65.0      70.0  \\\n",
       "decade                                                                  \n",
       "1880.0          NaN       NaN       NaN       NaN       NaN       NaN   \n",
       "1890.0          NaN       NaN       NaN       NaN       NaN  0.020833   \n",
       "1900.0          NaN       NaN       NaN  0.017241  0.022388  0.037255   \n",
       "1910.0          NaN  0.063158  0.029801  0.040470  0.030556  0.057903   \n",
       "1920.0     0.035063  0.024390  0.046154  0.024444  0.036649  0.048513   \n",
       "1930.0     0.058568  0.053403  0.032967  0.054252  0.061770  0.056112   \n",
       "1940.0     0.087568  0.067993  0.102868  0.117336  0.112654  0.120438   \n",
       "1950.0     0.133290  0.127994  0.148936  0.144876  0.146667       NaN   \n",
       "1960.0     0.173333  0.175150  0.153061       NaN       NaN       NaN   \n",
       "1970.0     0.151163       NaN       NaN       NaN       NaN       NaN   \n",
       "1980.0          NaN       NaN       NaN       NaN       NaN       NaN   \n",
       "1990.0          NaN       NaN       NaN       NaN       NaN       NaN   \n",
       "\n",
       "age_group      75.0      80.0      85.0  \n",
       "decade                                   \n",
       "1880.0          NaN  0.600000  0.000000  \n",
       "1890.0     0.032967  0.026846  0.018349  \n",
       "1900.0     0.038961  0.046809  0.036232  \n",
       "1910.0     0.019608  0.037344  0.057143  \n",
       "1920.0     0.068558  0.059701  0.082873  \n",
       "1930.0     0.050891  0.058480  0.000000  \n",
       "1940.0     0.190476       NaN       NaN  \n",
       "1950.0          NaN       NaN       NaN  \n",
       "1960.0          NaN       NaN       NaN  \n",
       "1970.0          NaN       NaN       NaN  \n",
       "1980.0          NaN       NaN       NaN  \n",
       "1990.0          NaN       NaN       NaN  "
      ]
     },
     "execution_count": 18,
     "metadata": {},
     "output_type": "execute_result"
    }
   ],
   "source": [
    "percent_none = grouped.none.mean().unstack()\n",
    "percent_none"
   ]
  },
  {
   "cell_type": "markdown",
   "metadata": {},
   "source": [
    "Drop cells where we have fewer than 50 observations."
   ]
  },
  {
   "cell_type": "code",
   "execution_count": 19,
   "metadata": {
    "collapsed": true
   },
   "outputs": [],
   "source": [
    "percent_none[counts < 50] = np.nan"
   ]
  },
  {
   "cell_type": "code",
   "execution_count": 20,
   "metadata": {
    "collapsed": false
   },
   "outputs": [
    {
     "data": {
      "text/html": [
       "<div>\n",
       "<table border=\"1\" class=\"dataframe\">\n",
       "  <thead>\n",
       "    <tr style=\"text-align: right;\">\n",
       "      <th>age_group</th>\n",
       "      <th>15.0</th>\n",
       "      <th>20.0</th>\n",
       "      <th>25.0</th>\n",
       "      <th>30.0</th>\n",
       "      <th>35.0</th>\n",
       "      <th>40.0</th>\n",
       "      <th>45.0</th>\n",
       "      <th>50.0</th>\n",
       "      <th>55.0</th>\n",
       "      <th>60.0</th>\n",
       "      <th>65.0</th>\n",
       "      <th>70.0</th>\n",
       "      <th>75.0</th>\n",
       "      <th>80.0</th>\n",
       "      <th>85.0</th>\n",
       "    </tr>\n",
       "    <tr>\n",
       "      <th>decade</th>\n",
       "      <th></th>\n",
       "      <th></th>\n",
       "      <th></th>\n",
       "      <th></th>\n",
       "      <th></th>\n",
       "      <th></th>\n",
       "      <th></th>\n",
       "      <th></th>\n",
       "      <th></th>\n",
       "      <th></th>\n",
       "      <th></th>\n",
       "      <th></th>\n",
       "      <th></th>\n",
       "      <th></th>\n",
       "      <th></th>\n",
       "    </tr>\n",
       "  </thead>\n",
       "  <tbody>\n",
       "    <tr>\n",
       "      <th>1930.0</th>\n",
       "      <td>NaN</td>\n",
       "      <td>NaN</td>\n",
       "      <td>NaN</td>\n",
       "      <td>0.051282</td>\n",
       "      <td>0.043344</td>\n",
       "      <td>0.039175</td>\n",
       "      <td>0.058568</td>\n",
       "      <td>0.053403</td>\n",
       "      <td>0.032967</td>\n",
       "      <td>0.054252</td>\n",
       "      <td>0.061770</td>\n",
       "      <td>0.056112</td>\n",
       "      <td>0.050891</td>\n",
       "      <td>0.05848</td>\n",
       "      <td>NaN</td>\n",
       "    </tr>\n",
       "    <tr>\n",
       "      <th>1940.0</th>\n",
       "      <td>NaN</td>\n",
       "      <td>0.136000</td>\n",
       "      <td>0.126464</td>\n",
       "      <td>0.079077</td>\n",
       "      <td>0.096774</td>\n",
       "      <td>0.065721</td>\n",
       "      <td>0.087568</td>\n",
       "      <td>0.067993</td>\n",
       "      <td>0.102868</td>\n",
       "      <td>0.117336</td>\n",
       "      <td>0.112654</td>\n",
       "      <td>0.120438</td>\n",
       "      <td>NaN</td>\n",
       "      <td>NaN</td>\n",
       "      <td>NaN</td>\n",
       "    </tr>\n",
       "    <tr>\n",
       "      <th>1950.0</th>\n",
       "      <td>0.103560</td>\n",
       "      <td>0.118339</td>\n",
       "      <td>0.123246</td>\n",
       "      <td>0.090154</td>\n",
       "      <td>0.098341</td>\n",
       "      <td>0.124031</td>\n",
       "      <td>0.133290</td>\n",
       "      <td>0.127994</td>\n",
       "      <td>0.148936</td>\n",
       "      <td>0.144876</td>\n",
       "      <td>0.146667</td>\n",
       "      <td>NaN</td>\n",
       "      <td>NaN</td>\n",
       "      <td>NaN</td>\n",
       "      <td>NaN</td>\n",
       "    </tr>\n",
       "    <tr>\n",
       "      <th>1960.0</th>\n",
       "      <td>0.163142</td>\n",
       "      <td>0.115336</td>\n",
       "      <td>0.122283</td>\n",
       "      <td>0.135103</td>\n",
       "      <td>0.173264</td>\n",
       "      <td>0.133784</td>\n",
       "      <td>0.173333</td>\n",
       "      <td>0.175150</td>\n",
       "      <td>0.153061</td>\n",
       "      <td>NaN</td>\n",
       "      <td>NaN</td>\n",
       "      <td>NaN</td>\n",
       "      <td>NaN</td>\n",
       "      <td>NaN</td>\n",
       "      <td>NaN</td>\n",
       "    </tr>\n",
       "    <tr>\n",
       "      <th>1970.0</th>\n",
       "      <td>0.188153</td>\n",
       "      <td>0.180484</td>\n",
       "      <td>0.189824</td>\n",
       "      <td>0.229447</td>\n",
       "      <td>0.179174</td>\n",
       "      <td>0.223127</td>\n",
       "      <td>0.151163</td>\n",
       "      <td>NaN</td>\n",
       "      <td>NaN</td>\n",
       "      <td>NaN</td>\n",
       "      <td>NaN</td>\n",
       "      <td>NaN</td>\n",
       "      <td>NaN</td>\n",
       "      <td>NaN</td>\n",
       "      <td>NaN</td>\n",
       "    </tr>\n",
       "    <tr>\n",
       "      <th>1980.0</th>\n",
       "      <td>0.249249</td>\n",
       "      <td>0.271563</td>\n",
       "      <td>0.285583</td>\n",
       "      <td>0.264706</td>\n",
       "      <td>0.231481</td>\n",
       "      <td>NaN</td>\n",
       "      <td>NaN</td>\n",
       "      <td>NaN</td>\n",
       "      <td>NaN</td>\n",
       "      <td>NaN</td>\n",
       "      <td>NaN</td>\n",
       "      <td>NaN</td>\n",
       "      <td>NaN</td>\n",
       "      <td>NaN</td>\n",
       "      <td>NaN</td>\n",
       "    </tr>\n",
       "  </tbody>\n",
       "</table>\n",
       "</div>"
      ],
      "text/plain": [
       "age_group      15.0      20.0      25.0      30.0      35.0      40.0  \\\n",
       "decade                                                                  \n",
       "1930.0          NaN       NaN       NaN  0.051282  0.043344  0.039175   \n",
       "1940.0          NaN  0.136000  0.126464  0.079077  0.096774  0.065721   \n",
       "1950.0     0.103560  0.118339  0.123246  0.090154  0.098341  0.124031   \n",
       "1960.0     0.163142  0.115336  0.122283  0.135103  0.173264  0.133784   \n",
       "1970.0     0.188153  0.180484  0.189824  0.229447  0.179174  0.223127   \n",
       "1980.0     0.249249  0.271563  0.285583  0.264706  0.231481       NaN   \n",
       "\n",
       "age_group      45.0      50.0      55.0      60.0      65.0      70.0  \\\n",
       "decade                                                                  \n",
       "1930.0     0.058568  0.053403  0.032967  0.054252  0.061770  0.056112   \n",
       "1940.0     0.087568  0.067993  0.102868  0.117336  0.112654  0.120438   \n",
       "1950.0     0.133290  0.127994  0.148936  0.144876  0.146667       NaN   \n",
       "1960.0     0.173333  0.175150  0.153061       NaN       NaN       NaN   \n",
       "1970.0     0.151163       NaN       NaN       NaN       NaN       NaN   \n",
       "1980.0          NaN       NaN       NaN       NaN       NaN       NaN   \n",
       "\n",
       "age_group      75.0     80.0  85.0  \n",
       "decade                              \n",
       "1930.0     0.050891  0.05848   NaN  \n",
       "1940.0          NaN      NaN   NaN  \n",
       "1950.0          NaN      NaN   NaN  \n",
       "1960.0          NaN      NaN   NaN  \n",
       "1970.0          NaN      NaN   NaN  \n",
       "1980.0          NaN      NaN   NaN  "
      ]
     },
     "execution_count": 20,
     "metadata": {},
     "output_type": "execute_result"
    }
   ],
   "source": [
    "decades = np.linspace(1930, 1980, 6, endpoint=True)\n",
    "percent_none.loc[decades]"
   ]
  },
  {
   "cell_type": "code",
   "execution_count": 21,
   "metadata": {
    "collapsed": false
   },
   "outputs": [
    {
     "data": {
      "image/png": "[encoded data removed]",
      "text/plain": [
       "<matplotlib.figure.Figure at 0x7fb905967cd0>"
      ]
     },
     "metadata": {},
     "output_type": "display_data"
    }
   ],
   "source": [
    "colors = sns.color_palette()\n",
    "sns.palplot(colors)"
   ]
  },
  {
   "cell_type": "code",
   "execution_count": 22,
   "metadata": {
    "collapsed": false
   },
   "outputs": [
    {
     "data": {
      "image/png": "[encoded data removed]",
      "text/plain": [
       "<matplotlib.figure.Figure at 0x7fb905b3b410>"
      ]
     },
     "metadata": {},
     "output_type": "display_data"
    }
   ],
   "source": [
    "options = dict(alpha=1)\n",
    "\n",
    "thinkplot.preplot(6)\n",
    "thinkplot.plot(percent_none.loc[1980], label='80s', color=colors[0], **options)\n",
    "thinkplot.plot(percent_none.loc[1970], label='70s', color=colors[1], **options)\n",
    "thinkplot.plot(percent_none.loc[1960], label='60s', color=colors[2], **options)\n",
    "thinkplot.plot(percent_none.loc[1950], label='50s', color=colors[3], **options)\n",
    "thinkplot.plot(percent_none.loc[1940], label='40s', color=colors[4], **options)\n",
    "thinkplot.plot(percent_none.loc[1930], label='30s', color=colors[5], **options)\n",
    "\n",
    "xlabel = 'Age group'\n",
    "ylabel = 'Fraction with no affiliation'\n",
    "axis = [13, 85, 0, 0.32]\n",
    "\n",
    "thinkplot.config(xlabel=xlabel, ylabel=ylabel, axis=axis, legend=True)\n",
    "plt.gca().get_legend().set(title='Decade born');"
   ]
  },
  {
   "cell_type": "code",
   "execution_count": 23,
   "metadata": {
    "collapsed": false
   },
   "outputs": [
    {
     "data": {
      "image/png": "[encoded data removed]",
      "text/plain": [
       "<matplotlib.figure.Figure at 0x7fb90591b590>"
      ]
     },
     "metadata": {},
     "output_type": "display_data"
    }
   ],
   "source": [
    "thinkplot.preplot(num=6, rows=2, cols=3)\n",
    "thinkplot.subplot(1)\n",
    "thinkplot.plot(percent_none.loc[1980], label='80s', color=colors[0], **options)\n",
    "thinkplot.config(ylabel=ylabel, axis=axis)\n",
    "\n",
    "thinkplot.subplot(2)\n",
    "thinkplot.plot(percent_none.loc[1970], label='70s', color=colors[1], **options)\n",
    "thinkplot.config(axis=axis)\n",
    "\n",
    "thinkplot.subplot(3)\n",
    "thinkplot.plot(percent_none.loc[1960], label='60s', color=colors[2], **options)\n",
    "thinkplot.config(axis=axis)\n",
    "\n",
    "thinkplot.subplot(4)\n",
    "thinkplot.plot(percent_none.loc[1950], label='50s')\n",
    "thinkplot.config(xlabel=xlabel, ylabel=ylabel, axis=axis, color=colors[3], **options)\n",
    "\n",
    "thinkplot.subplot(5)\n",
    "thinkplot.plot(percent_none.loc[1940], label='40s', color=colors[4], **options)\n",
    "thinkplot.config(xlabel=xlabel, axis=axis)\n",
    "\n",
    "thinkplot.subplot(6)\n",
    "thinkplot.plot(percent_none.loc[1930], label='30s', color=colors[5], **options)\n",
    "thinkplot.config(xlabel=xlabel, axis=axis)"
   ]
  },
  {
   "cell_type": "markdown",
   "metadata": {},
   "source": []
  },
  {
   "cell_type": "code",
   "execution_count": 24,
   "metadata": {
    "collapsed": true
   },
   "outputs": [],
   "source": [
    "sample['age_group10'] = utils.RoundIntoBins(sample, 'age', 10)"
   ]
  },
  {
   "cell_type": "code",
   "execution_count": 25,
   "metadata": {
    "collapsed": true
   },
   "outputs": [],
   "source": [
    "sample['year4'] = utils.RoundIntoBins(sample, 'year', 4, low=2)"
   ]
  },
  {
   "cell_type": "code",
   "execution_count": 26,
   "metadata": {
    "collapsed": true
   },
   "outputs": [],
   "source": [
    "grouped = sample.groupby(['age_group10', 'year4'])"
   ]
  },
  {
   "cell_type": "code",
   "execution_count": 27,
   "metadata": {
    "collapsed": false
   },
   "outputs": [
    {
     "data": {
      "text/html": [
       "<div>\n",
       "<table border=\"1\" class=\"dataframe\">\n",
       "  <thead>\n",
       "    <tr style=\"text-align: right;\">\n",
       "      <th>year4</th>\n",
       "      <th>1970</th>\n",
       "      <th>1974</th>\n",
       "      <th>1978</th>\n",
       "      <th>1982</th>\n",
       "      <th>1986</th>\n",
       "      <th>1990</th>\n",
       "      <th>1994</th>\n",
       "      <th>1998</th>\n",
       "      <th>2002</th>\n",
       "      <th>2006</th>\n",
       "      <th>2010</th>\n",
       "      <th>2014</th>\n",
       "    </tr>\n",
       "    <tr>\n",
       "      <th>age_group10</th>\n",
       "      <th></th>\n",
       "      <th></th>\n",
       "      <th></th>\n",
       "      <th></th>\n",
       "      <th></th>\n",
       "      <th></th>\n",
       "      <th></th>\n",
       "      <th></th>\n",
       "      <th></th>\n",
       "      <th></th>\n",
       "      <th></th>\n",
       "      <th></th>\n",
       "    </tr>\n",
       "  </thead>\n",
       "  <tbody>\n",
       "    <tr>\n",
       "      <th>10.0</th>\n",
       "      <td>86</td>\n",
       "      <td>192</td>\n",
       "      <td>76</td>\n",
       "      <td>184</td>\n",
       "      <td>153</td>\n",
       "      <td>70</td>\n",
       "      <td>116</td>\n",
       "      <td>127</td>\n",
       "      <td>122</td>\n",
       "      <td>150</td>\n",
       "      <td>76</td>\n",
       "      <td>118</td>\n",
       "    </tr>\n",
       "    <tr>\n",
       "      <th>20.0</th>\n",
       "      <td>718</td>\n",
       "      <td>1454</td>\n",
       "      <td>759</td>\n",
       "      <td>1602</td>\n",
       "      <td>1426</td>\n",
       "      <td>911</td>\n",
       "      <td>1103</td>\n",
       "      <td>1082</td>\n",
       "      <td>1115</td>\n",
       "      <td>1152</td>\n",
       "      <td>675</td>\n",
       "      <td>944</td>\n",
       "    </tr>\n",
       "    <tr>\n",
       "      <th>30.0</th>\n",
       "      <td>510</td>\n",
       "      <td>1104</td>\n",
       "      <td>611</td>\n",
       "      <td>1367</td>\n",
       "      <td>1347</td>\n",
       "      <td>1042</td>\n",
       "      <td>1432</td>\n",
       "      <td>1273</td>\n",
       "      <td>1104</td>\n",
       "      <td>1219</td>\n",
       "      <td>749</td>\n",
       "      <td>966</td>\n",
       "    </tr>\n",
       "    <tr>\n",
       "      <th>40.0</th>\n",
       "      <td>613</td>\n",
       "      <td>972</td>\n",
       "      <td>474</td>\n",
       "      <td>972</td>\n",
       "      <td>1119</td>\n",
       "      <td>944</td>\n",
       "      <td>1239</td>\n",
       "      <td>1181</td>\n",
       "      <td>1174</td>\n",
       "      <td>1396</td>\n",
       "      <td>754</td>\n",
       "      <td>905</td>\n",
       "    </tr>\n",
       "    <tr>\n",
       "      <th>50.0</th>\n",
       "      <td>568</td>\n",
       "      <td>989</td>\n",
       "      <td>431</td>\n",
       "      <td>951</td>\n",
       "      <td>783</td>\n",
       "      <td>542</td>\n",
       "      <td>855</td>\n",
       "      <td>814</td>\n",
       "      <td>905</td>\n",
       "      <td>1168</td>\n",
       "      <td>759</td>\n",
       "      <td>1043</td>\n",
       "    </tr>\n",
       "    <tr>\n",
       "      <th>60.0</th>\n",
       "      <td>357</td>\n",
       "      <td>738</td>\n",
       "      <td>371</td>\n",
       "      <td>748</td>\n",
       "      <td>765</td>\n",
       "      <td>474</td>\n",
       "      <td>548</td>\n",
       "      <td>526</td>\n",
       "      <td>570</td>\n",
       "      <td>714</td>\n",
       "      <td>555</td>\n",
       "      <td>760</td>\n",
       "    </tr>\n",
       "    <tr>\n",
       "      <th>70.0</th>\n",
       "      <td>205</td>\n",
       "      <td>396</td>\n",
       "      <td>203</td>\n",
       "      <td>423</td>\n",
       "      <td>506</td>\n",
       "      <td>371</td>\n",
       "      <td>434</td>\n",
       "      <td>412</td>\n",
       "      <td>354</td>\n",
       "      <td>460</td>\n",
       "      <td>262</td>\n",
       "      <td>390</td>\n",
       "    </tr>\n",
       "    <tr>\n",
       "      <th>80.0</th>\n",
       "      <td>42</td>\n",
       "      <td>122</td>\n",
       "      <td>53</td>\n",
       "      <td>156</td>\n",
       "      <td>169</td>\n",
       "      <td>118</td>\n",
       "      <td>143</td>\n",
       "      <td>182</td>\n",
       "      <td>183</td>\n",
       "      <td>213</td>\n",
       "      <td>160</td>\n",
       "      <td>226</td>\n",
       "    </tr>\n",
       "  </tbody>\n",
       "</table>\n",
       "</div>"
      ],
      "text/plain": [
       "year4        1970  1974  1978  1982  1986  1990  1994  1998  2002  2006  2010  \\\n",
       "age_group10                                                                     \n",
       "10.0           86   192    76   184   153    70   116   127   122   150    76   \n",
       "20.0          718  1454   759  1602  1426   911  1103  1082  1115  1152   675   \n",
       "30.0          510  1104   611  1367  1347  1042  1432  1273  1104  1219   749   \n",
       "40.0          613   972   474   972  1119   944  1239  1181  1174  1396   754   \n",
       "50.0          568   989   431   951   783   542   855   814   905  1168   759   \n",
       "60.0          357   738   371   748   765   474   548   526   570   714   555   \n",
       "70.0          205   396   203   423   506   371   434   412   354   460   262   \n",
       "80.0           42   122    53   156   169   118   143   182   183   213   160   \n",
       "\n",
       "year4        2014  \n",
       "age_group10        \n",
       "10.0          118  \n",
       "20.0          944  \n",
       "30.0          966  \n",
       "40.0          905  \n",
       "50.0         1043  \n",
       "60.0          760  \n",
       "70.0          390  \n",
       "80.0          226  "
      ]
     },
     "execution_count": 27,
     "metadata": {},
     "output_type": "execute_result"
    }
   ],
   "source": [
    "counts = grouped.none.count().unstack()\n",
    "counts"
   ]
  },
  {
   "cell_type": "markdown",
   "metadata": {
    "collapsed": true
   },
   "source": [
    "## Changes within age groups"
   ]
  },
  {
   "cell_type": "code",
   "execution_count": 28,
   "metadata": {
    "collapsed": false
   },
   "outputs": [
    {
     "data": {
      "text/html": [
       "<div>\n",
       "<table border=\"1\" class=\"dataframe\">\n",
       "  <thead>\n",
       "    <tr style=\"text-align: right;\">\n",
       "      <th>year4</th>\n",
       "      <th>1970</th>\n",
       "      <th>1974</th>\n",
       "      <th>1978</th>\n",
       "      <th>1982</th>\n",
       "      <th>1986</th>\n",
       "      <th>1990</th>\n",
       "      <th>1994</th>\n",
       "      <th>1998</th>\n",
       "      <th>2002</th>\n",
       "      <th>2006</th>\n",
       "      <th>2010</th>\n",
       "      <th>2014</th>\n",
       "    </tr>\n",
       "    <tr>\n",
       "      <th>age_group10</th>\n",
       "      <th></th>\n",
       "      <th></th>\n",
       "      <th></th>\n",
       "      <th></th>\n",
       "      <th></th>\n",
       "      <th></th>\n",
       "      <th></th>\n",
       "      <th></th>\n",
       "      <th></th>\n",
       "      <th></th>\n",
       "      <th></th>\n",
       "      <th></th>\n",
       "    </tr>\n",
       "  </thead>\n",
       "  <tbody>\n",
       "    <tr>\n",
       "      <th>10.0</th>\n",
       "      <td>8.139535</td>\n",
       "      <td>10.937500</td>\n",
       "      <td>11.842105</td>\n",
       "      <td>13.043478</td>\n",
       "      <td>21.568627</td>\n",
       "      <td>12.857143</td>\n",
       "      <td>24.137931</td>\n",
       "      <td>22.047244</td>\n",
       "      <td>22.131148</td>\n",
       "      <td>26.000000</td>\n",
       "      <td>23.684211</td>\n",
       "      <td>38.983051</td>\n",
       "    </tr>\n",
       "    <tr>\n",
       "      <th>20.0</th>\n",
       "      <td>13.370474</td>\n",
       "      <td>12.585970</td>\n",
       "      <td>12.121212</td>\n",
       "      <td>11.985019</td>\n",
       "      <td>10.799439</td>\n",
       "      <td>9.220637</td>\n",
       "      <td>15.775159</td>\n",
       "      <td>21.811460</td>\n",
       "      <td>22.331839</td>\n",
       "      <td>24.479167</td>\n",
       "      <td>30.814815</td>\n",
       "      <td>30.826271</td>\n",
       "    </tr>\n",
       "    <tr>\n",
       "      <th>30.0</th>\n",
       "      <td>4.901961</td>\n",
       "      <td>6.884058</td>\n",
       "      <td>9.492635</td>\n",
       "      <td>8.705194</td>\n",
       "      <td>9.725316</td>\n",
       "      <td>9.500960</td>\n",
       "      <td>11.103352</td>\n",
       "      <td>17.674784</td>\n",
       "      <td>16.757246</td>\n",
       "      <td>19.196062</td>\n",
       "      <td>20.560748</td>\n",
       "      <td>27.743271</td>\n",
       "    </tr>\n",
       "    <tr>\n",
       "      <th>40.0</th>\n",
       "      <td>2.283850</td>\n",
       "      <td>4.835391</td>\n",
       "      <td>5.063291</td>\n",
       "      <td>5.246914</td>\n",
       "      <td>5.630027</td>\n",
       "      <td>8.262712</td>\n",
       "      <td>12.510089</td>\n",
       "      <td>14.648603</td>\n",
       "      <td>11.754685</td>\n",
       "      <td>14.326648</td>\n",
       "      <td>18.832891</td>\n",
       "      <td>19.116022</td>\n",
       "    </tr>\n",
       "    <tr>\n",
       "      <th>50.0</th>\n",
       "      <td>4.577465</td>\n",
       "      <td>2.022245</td>\n",
       "      <td>3.016241</td>\n",
       "      <td>4.416404</td>\n",
       "      <td>4.853129</td>\n",
       "      <td>4.797048</td>\n",
       "      <td>4.444444</td>\n",
       "      <td>9.213759</td>\n",
       "      <td>9.944751</td>\n",
       "      <td>13.955479</td>\n",
       "      <td>14.756258</td>\n",
       "      <td>16.874401</td>\n",
       "    </tr>\n",
       "    <tr>\n",
       "      <th>60.0</th>\n",
       "      <td>1.680672</td>\n",
       "      <td>3.387534</td>\n",
       "      <td>4.851752</td>\n",
       "      <td>2.540107</td>\n",
       "      <td>2.745098</td>\n",
       "      <td>3.586498</td>\n",
       "      <td>4.744526</td>\n",
       "      <td>5.323194</td>\n",
       "      <td>7.894737</td>\n",
       "      <td>11.204482</td>\n",
       "      <td>13.873874</td>\n",
       "      <td>13.421053</td>\n",
       "    </tr>\n",
       "    <tr>\n",
       "      <th>70.0</th>\n",
       "      <td>2.439024</td>\n",
       "      <td>4.040404</td>\n",
       "      <td>2.955665</td>\n",
       "      <td>2.600473</td>\n",
       "      <td>4.545455</td>\n",
       "      <td>5.660377</td>\n",
       "      <td>3.456221</td>\n",
       "      <td>6.553398</td>\n",
       "      <td>6.497175</td>\n",
       "      <td>7.173913</td>\n",
       "      <td>5.725191</td>\n",
       "      <td>9.743590</td>\n",
       "    </tr>\n",
       "    <tr>\n",
       "      <th>80.0</th>\n",
       "      <td>NaN</td>\n",
       "      <td>2.459016</td>\n",
       "      <td>0.000000</td>\n",
       "      <td>2.564103</td>\n",
       "      <td>5.325444</td>\n",
       "      <td>3.389831</td>\n",
       "      <td>2.097902</td>\n",
       "      <td>4.395604</td>\n",
       "      <td>7.103825</td>\n",
       "      <td>6.572770</td>\n",
       "      <td>7.500000</td>\n",
       "      <td>5.752212</td>\n",
       "    </tr>\n",
       "  </tbody>\n",
       "</table>\n",
       "</div>"
      ],
      "text/plain": [
       "year4             1970       1974       1978       1982       1986       1990  \\\n",
       "age_group10                                                                     \n",
       "10.0          8.139535  10.937500  11.842105  13.043478  21.568627  12.857143   \n",
       "20.0         13.370474  12.585970  12.121212  11.985019  10.799439   9.220637   \n",
       "30.0          4.901961   6.884058   9.492635   8.705194   9.725316   9.500960   \n",
       "40.0          2.283850   4.835391   5.063291   5.246914   5.630027   8.262712   \n",
       "50.0          4.577465   2.022245   3.016241   4.416404   4.853129   4.797048   \n",
       "60.0          1.680672   3.387534   4.851752   2.540107   2.745098   3.586498   \n",
       "70.0          2.439024   4.040404   2.955665   2.600473   4.545455   5.660377   \n",
       "80.0               NaN   2.459016   0.000000   2.564103   5.325444   3.389831   \n",
       "\n",
       "year4             1994       1998       2002       2006       2010       2014  \n",
       "age_group10                                                                    \n",
       "10.0         24.137931  22.047244  22.131148  26.000000  23.684211  38.983051  \n",
       "20.0         15.775159  21.811460  22.331839  24.479167  30.814815  30.826271  \n",
       "30.0         11.103352  17.674784  16.757246  19.196062  20.560748  27.743271  \n",
       "40.0         12.510089  14.648603  11.754685  14.326648  18.832891  19.116022  \n",
       "50.0          4.444444   9.213759   9.944751  13.955479  14.756258  16.874401  \n",
       "60.0          4.744526   5.323194   7.894737  11.204482  13.873874  13.421053  \n",
       "70.0          3.456221   6.553398   6.497175   7.173913   5.725191   9.743590  \n",
       "80.0          2.097902   4.395604   7.103825   6.572770   7.500000   5.752212  "
      ]
     },
     "execution_count": 28,
     "metadata": {},
     "output_type": "execute_result"
    }
   ],
   "source": [
    "percent_none = grouped.none.mean().unstack()\n",
    "percent_none[counts < 50] = np.nan\n",
    "percent_none*=100\n",
    "percent_none"
   ]
  },
  {
   "cell_type": "code",
   "execution_count": 29,
   "metadata": {
    "collapsed": false
   },
   "outputs": [
    {
     "data": {
      "image/png": "[encoded data removed]",
      "text/plain": [
       "<matplotlib.figure.Figure at 0x7fb9059679d0>"
      ]
     },
     "metadata": {},
     "output_type": "display_data"
    }
   ],
   "source": [
    "rows = percent_none.loc[20:65]\n",
    "for age_group, row in rows.iterrows():\n",
    "    thinkplot.plot(row)"
   ]
  },
  {
   "cell_type": "code",
   "execution_count": 30,
   "metadata": {
    "collapsed": false
   },
   "outputs": [
    {
     "data": {
      "text/plain": [
       "year4\n",
       "1970     1.680672\n",
       "1974     3.387534\n",
       "1978     4.851752\n",
       "1982     2.540107\n",
       "1986     2.745098\n",
       "1990     3.586498\n",
       "1994     4.744526\n",
       "1998     5.323194\n",
       "2002     7.894737\n",
       "2006    11.204482\n",
       "2010    13.873874\n",
       "2014    13.421053\n",
       "Name: 60.0, dtype: float64"
      ]
     },
     "execution_count": 30,
     "metadata": {},
     "output_type": "execute_result"
    }
   ],
   "source": [
    "row"
   ]
  },
  {
   "cell_type": "code",
   "execution_count": 31,
   "metadata": {
    "collapsed": false
   },
   "outputs": [],
   "source": [
    "def FitRow(row, formula='y ~ time + time2'):\n",
    "    \"\"\"Fits a model to a Series.\n",
    "    \n",
    "    row: Series\n",
    "    formula: Patsy string\n",
    "    \n",
    "    returns: RegressionResults\n",
    "    \"\"\"\n",
    "\n",
    "    time = row.index\n",
    "    time -= min(time)\n",
    "    time2 = time**2\n",
    "    \n",
    "    df = pd.DataFrame(dict(time=time, time2=time2, y=row))\n",
    "    results = smf.ols(formula, data=df).fit()\n",
    "    return results"
   ]
  },
  {
   "cell_type": "code",
   "execution_count": 32,
   "metadata": {
    "collapsed": false
   },
   "outputs": [
    {
     "data": {
      "image/png": "[encoded data removed]",
      "text/plain": [
       "<matplotlib.figure.Figure at 0x7fb9058dc450>"
      ]
     },
     "metadata": {},
     "output_type": "display_data"
    }
   ],
   "source": [
    "for age_group, row in rows.iterrows():\n",
    "    results = FitRow(row)\n",
    "    thinkplot.plot(results.fittedvalues, color='gray')\n",
    "    thinkplot.plot(row)"
   ]
  },
  {
   "cell_type": "code",
   "execution_count": 33,
   "metadata": {
    "collapsed": false
   },
   "outputs": [
    {
     "data": {
      "image/png": "[encoded data removed]",
      "text/plain": [
       "<matplotlib.figure.Figure at 0x7fb9049817d0>"
      ]
     },
     "metadata": {},
     "output_type": "display_data"
    }
   ],
   "source": [
    "for age_group, row in rows.iterrows():\n",
    "    results = FitRow(row)\n",
    "    ys = results.fittedvalues\n",
    "    thinkplot.plot(ys)"
   ]
  },
  {
   "cell_type": "code",
   "execution_count": 34,
   "metadata": {
    "collapsed": false
   },
   "outputs": [
    {
     "data": {
      "image/png": "[encoded data removed]",
      "text/plain": [
       "<matplotlib.figure.Figure at 0x7fb9049793d0>"
      ]
     },
     "metadata": {},
     "output_type": "display_data"
    }
   ],
   "source": [
    "shift = 0\n",
    "for age_group, row in rows.iterrows():\n",
    "    results = FitRow(row)\n",
    "    ys = results.fittedvalues\n",
    "    ys.index -= shift\n",
    "    shift += 10\n",
    "    thinkplot.plot(ys)"
   ]
  },
  {
   "cell_type": "code",
   "execution_count": 35,
   "metadata": {
    "collapsed": false
   },
   "outputs": [
    {
     "data": {
      "text/html": [
       "<div>\n",
       "<table border=\"1\" class=\"dataframe\">\n",
       "  <thead>\n",
       "    <tr style=\"text-align: right;\">\n",
       "      <th></th>\n",
       "      <th>noneall</th>\n",
       "      <th>fatherall</th>\n",
       "      <th>motherall</th>\n",
       "      <th>attendedall</th>\n",
       "      <th>nonemen</th>\n",
       "      <th>fathermen</th>\n",
       "      <th>mothermen</th>\n",
       "      <th>attendedmen</th>\n",
       "      <th>nonewomen</th>\n",
       "      <th>fatherwomen</th>\n",
       "      <th>motherwomen</th>\n",
       "      <th>attendedwomen</th>\n",
       "      <th>bornagain</th>\n",
       "      <th>evangelical</th>\n",
       "    </tr>\n",
       "    <tr>\n",
       "      <th>year</th>\n",
       "      <th></th>\n",
       "      <th></th>\n",
       "      <th></th>\n",
       "      <th></th>\n",
       "      <th></th>\n",
       "      <th></th>\n",
       "      <th></th>\n",
       "      <th></th>\n",
       "      <th></th>\n",
       "      <th></th>\n",
       "      <th></th>\n",
       "      <th></th>\n",
       "      <th></th>\n",
       "      <th></th>\n",
       "    </tr>\n",
       "  </thead>\n",
       "  <tbody>\n",
       "    <tr>\n",
       "      <th>2012</th>\n",
       "      <td>23.8</td>\n",
       "      <td>16.8</td>\n",
       "      <td>11.8</td>\n",
       "      <td>73.2</td>\n",
       "      <td>26.3</td>\n",
       "      <td>16.4</td>\n",
       "      <td>11.9</td>\n",
       "      <td>70.7</td>\n",
       "      <td>21.7</td>\n",
       "      <td>17.1</td>\n",
       "      <td>11.7</td>\n",
       "      <td>75.4</td>\n",
       "      <td>20.2</td>\n",
       "      <td>8.5</td>\n",
       "    </tr>\n",
       "    <tr>\n",
       "      <th>2013</th>\n",
       "      <td>24.6</td>\n",
       "      <td>17.1</td>\n",
       "      <td>12.1</td>\n",
       "      <td>72.7</td>\n",
       "      <td>26.9</td>\n",
       "      <td>16.2</td>\n",
       "      <td>12.0</td>\n",
       "      <td>70.3</td>\n",
       "      <td>22.6</td>\n",
       "      <td>17.9</td>\n",
       "      <td>12.1</td>\n",
       "      <td>74.8</td>\n",
       "      <td>NaN</td>\n",
       "      <td>NaN</td>\n",
       "    </tr>\n",
       "    <tr>\n",
       "      <th>2014</th>\n",
       "      <td>27.5</td>\n",
       "      <td>19.0</td>\n",
       "      <td>13.8</td>\n",
       "      <td>70.7</td>\n",
       "      <td>30.0</td>\n",
       "      <td>18.4</td>\n",
       "      <td>13.7</td>\n",
       "      <td>68.3</td>\n",
       "      <td>25.4</td>\n",
       "      <td>19.5</td>\n",
       "      <td>13.9</td>\n",
       "      <td>72.7</td>\n",
       "      <td>NaN</td>\n",
       "      <td>NaN</td>\n",
       "    </tr>\n",
       "    <tr>\n",
       "      <th>2015</th>\n",
       "      <td>29.6</td>\n",
       "      <td>16.6</td>\n",
       "      <td>16.4</td>\n",
       "      <td>69.5</td>\n",
       "      <td>31.8</td>\n",
       "      <td>NaN</td>\n",
       "      <td>NaN</td>\n",
       "      <td>67.8</td>\n",
       "      <td>27.7</td>\n",
       "      <td>NaN</td>\n",
       "      <td>NaN</td>\n",
       "      <td>70.8</td>\n",
       "      <td>NaN</td>\n",
       "      <td>NaN</td>\n",
       "    </tr>\n",
       "    <tr>\n",
       "      <th>2016</th>\n",
       "      <td>30.9</td>\n",
       "      <td>NaN</td>\n",
       "      <td>NaN</td>\n",
       "      <td>68.9</td>\n",
       "      <td>33.1</td>\n",
       "      <td>NaN</td>\n",
       "      <td>NaN</td>\n",
       "      <td>67.1</td>\n",
       "      <td>29.1</td>\n",
       "      <td>NaN</td>\n",
       "      <td>NaN</td>\n",
       "      <td>70.4</td>\n",
       "      <td>NaN</td>\n",
       "      <td>NaN</td>\n",
       "    </tr>\n",
       "  </tbody>\n",
       "</table>\n",
       "</div>"
      ],
      "text/plain": [
       "      noneall  fatherall  motherall  attendedall  nonemen  fathermen  \\\n",
       "year                                                                   \n",
       "2012     23.8       16.8       11.8         73.2     26.3       16.4   \n",
       "2013     24.6       17.1       12.1         72.7     26.9       16.2   \n",
       "2014     27.5       19.0       13.8         70.7     30.0       18.4   \n",
       "2015     29.6       16.6       16.4         69.5     31.8        NaN   \n",
       "2016     30.9        NaN        NaN         68.9     33.1        NaN   \n",
       "\n",
       "      mothermen  attendedmen  nonewomen  fatherwomen  motherwomen  \\\n",
       "year                                                                \n",
       "2012       11.9         70.7       21.7         17.1         11.7   \n",
       "2013       12.0         70.3       22.6         17.9         12.1   \n",
       "2014       13.7         68.3       25.4         19.5         13.9   \n",
       "2015        NaN         67.8       27.7          NaN          NaN   \n",
       "2016        NaN         67.1       29.1          NaN          NaN   \n",
       "\n",
       "      attendedwomen  bornagain  evangelical  \n",
       "year                                         \n",
       "2012           75.4       20.2          8.5  \n",
       "2013           74.8        NaN          NaN  \n",
       "2014           72.7        NaN          NaN  \n",
       "2015           70.8        NaN          NaN  \n",
       "2016           70.4        NaN          NaN  "
      ]
     },
     "execution_count": 35,
     "metadata": {},
     "output_type": "execute_result"
    }
   ],
   "source": [
    "heri = pd.read_csv('heri17.csv', skiprows=2, index_col='year')\n",
    "heri[heri.columns] /= 10\n",
    "heri.tail()"
   ]
  },
  {
   "cell_type": "code",
   "execution_count": 36,
   "metadata": {
    "collapsed": true
   },
   "outputs": [],
   "source": [
    "heri['time'] = heri.index - 1966\n",
    "heri['time2'] = heri.time**2"
   ]
  },
  {
   "cell_type": "code",
   "execution_count": 37,
   "metadata": {
    "collapsed": false
   },
   "outputs": [
    {
     "name": "stdout",
     "output_type": "stream",
     "text": [
      "20.0\n",
      "30.0\n",
      "40.0\n",
      "50.0\n",
      "60.0\n"
     ]
    },
    {
     "name": "stderr",
     "output_type": "stream",
     "text": [
      "thinkplot.py:118: UserWarning: Ran out of colors.  Starting over.\n",
      "  warnings.warn('Ran out of colors.  Starting over.')\n"
     ]
    },
    {
     "data": {
      "image/png": "[encoded data removed]",
      "text/plain": [
       "<matplotlib.figure.Figure at 0x7fb9059cec50>"
      ]
     },
     "metadata": {},
     "output_type": "display_data"
    }
   ],
   "source": [
    "thinkplot.plot(heri.noneall)\n",
    "\n",
    "for age_group, row in rows.iterrows():\n",
    "    print(age_group)\n",
    "    #results = FitRow(row)\n",
    "    #thinkplot.plot(results.fittedvalues, color='gray')\n",
    "    thinkplot.plot(row)"
   ]
  },
  {
   "cell_type": "markdown",
   "metadata": {},
   "source": [
    "## Generational replacement"
   ]
  },
  {
   "cell_type": "code",
   "execution_count": 38,
   "metadata": {
    "collapsed": false
   },
   "outputs": [
    {
     "data": {
      "image/png": "[encoded data removed]",
      "text/plain": [
       "<matplotlib.figure.Figure at 0x7fb904675cd0>"
      ]
     },
     "metadata": {},
     "output_type": "display_data"
    }
   ],
   "source": [
    "RED, BLUE, GREEN, PURPLE, ORANGE, YELLOW = sns.color_palette('Set1')\n",
    "sns.palplot(colors)"
   ]
  },
  {
   "cell_type": "code",
   "execution_count": 39,
   "metadata": {
    "collapsed": false
   },
   "outputs": [],
   "source": [
    "def plot_grouped(grouped):\n",
    "    percent_other = grouped.other.mean() * 100\n",
    "    percent_none = grouped.none.mean() * 100\n",
    "    percent_prot = grouped.prot.mean() * 100\n",
    "    percent_cath = grouped.cath.mean() * 100\n",
    "    \n",
    "    thinkplot.plot(percent_prot, color=ORANGE, label='Protestant')\n",
    "    thinkplot.plot(percent_cath, color=GREEN, label='Catholic')\n",
    "    thinkplot.plot(percent_none, color=RED, label='None')\n",
    "    thinkplot.plot(percent_other, color=BLUE, label='Other')"
   ]
  },
  {
   "cell_type": "code",
   "execution_count": 40,
   "metadata": {
    "collapsed": false
   },
   "outputs": [
    {
     "data": {
      "image/png": "[encoded data removed]",
      "text/plain": [
       "<matplotlib.figure.Figure at 0x7fb9045d0410>"
      ]
     },
     "metadata": {},
     "output_type": "display_data"
    }
   ],
   "source": [
    "grouped1 = sample.groupby(['year'])\n",
    "plot_grouped(grouped1)\n",
    "thinkplot.config(xlabel='Age', ylabel='Percent')"
   ]
  },
  {
   "cell_type": "code",
   "execution_count": 41,
   "metadata": {
    "collapsed": false
   },
   "outputs": [
    {
     "data": {
      "image/png": "[encoded data removed]",
      "text/plain": [
       "<matplotlib.figure.Figure at 0x7fb9045d9390>"
      ]
     },
     "metadata": {},
     "output_type": "display_data"
    }
   ],
   "source": [
    "grouped2 = sample.groupby(['cohort5'])\n",
    "plot_grouped(grouped2)\n",
    "thinkplot.config(xlabel='Year of birth', ylabel='Percent')"
   ]
  },
  {
   "cell_type": "code",
   "execution_count": 42,
   "metadata": {
    "collapsed": true
   },
   "outputs": [],
   "source": [
    "def percent_relig(df):\n",
    "    \"\"\"Compute the fraction in each major religious group.\n",
    "    \n",
    "    df: DataFrame\n",
    "    \n",
    "    returns: Series that maps from group name to percent.\n",
    "    \"\"\"\n",
    "    return df[['prot', 'cath', 'none']].mean()"
   ]
  },
  {
   "cell_type": "code",
   "execution_count": 43,
   "metadata": {
    "collapsed": false
   },
   "outputs": [
    {
     "data": {
      "text/plain": [
       "prot    0.489257\n",
       "cath    0.233181\n",
       "none    0.224023\n",
       "dtype: float64"
      ]
     },
     "execution_count": 43,
     "metadata": {},
     "output_type": "execute_result"
    }
   ],
   "source": [
    "percent_relig(sample[sample.year==2016])"
   ]
  },
  {
   "cell_type": "markdown",
   "metadata": {},
   "source": [
    "To simulate generation replacement, start with a cohort from the last few cycles."
   ]
  },
  {
   "cell_type": "code",
   "execution_count": 44,
   "metadata": {
    "collapsed": false
   },
   "outputs": [
    {
     "data": {
      "text/plain": [
       "(24146, 21)"
      ]
     },
     "execution_count": 44,
     "metadata": {},
     "output_type": "execute_result"
    }
   ],
   "source": [
    "recent = sample.loc[sample.year>=2000].copy()\n",
    "recent.shape"
   ]
  },
  {
   "cell_type": "code",
   "execution_count": 45,
   "metadata": {
    "collapsed": false
   },
   "outputs": [
    {
     "data": {
      "text/plain": [
       "prot    0.524435\n",
       "cath    0.256026\n",
       "none    0.168185\n",
       "dtype: float64"
      ]
     },
     "execution_count": 45,
     "metadata": {},
     "output_type": "execute_result"
    }
   ],
   "source": [
    "percent_relig(recent)"
   ]
  },
  {
   "cell_type": "code",
   "execution_count": 46,
   "metadata": {
    "collapsed": false
   },
   "outputs": [
    {
     "data": {
      "text/plain": [
       "2007.6164996272676"
      ]
     },
     "execution_count": 46,
     "metadata": {},
     "output_type": "execute_result"
    }
   ],
   "source": [
    "recent.year.mean()"
   ]
  },
  {
   "cell_type": "code",
   "execution_count": 47,
   "metadata": {
    "collapsed": false
   },
   "outputs": [
    {
     "data": {
      "text/plain": [
       "{'xscale': 'linear', 'yscale': 'linear'}"
      ]
     },
     "execution_count": 47,
     "metadata": {},
     "output_type": "execute_result"
    },
    {
     "data": {
      "image/png": "[encoded data removed]",
      "text/plain": [
       "<matplotlib.figure.Figure at 0x7fb9045d9210>"
      ]
     },
     "metadata": {},
     "output_type": "display_data"
    }
   ],
   "source": [
    "thinkplot.Cdf(thinkstats2.Cdf(recent.age))"
   ]
  },
  {
   "cell_type": "code",
   "execution_count": 48,
   "metadata": {
    "collapsed": false
   },
   "outputs": [
    {
     "data": {
      "image/png": "[encoded data removed]",
      "text/plain": [
       "<matplotlib.figure.Figure at 0x7fb9045aed10>"
      ]
     },
     "metadata": {},
     "output_type": "display_data"
    }
   ],
   "source": [
    "hist = thinkstats2.Hist(recent.age)\n",
    "thinkplot.Pdf(hist)"
   ]
  },
  {
   "cell_type": "code",
   "execution_count": 49,
   "metadata": {
    "collapsed": true
   },
   "outputs": [],
   "source": [
    "def advance(df):\n",
    "    \"\"\"Ages a cohort by 1 year.\n",
    "    \n",
    "    df: DataFrame\n",
    "    \n",
    "    returns: new DataFrame\n",
    "    \"\"\"\n",
    "    new = df.copy()\n",
    "    new.year += 1\n",
    "    new.age += 1\n",
    "    \n",
    "    return new"
   ]
  },
  {
   "cell_type": "code",
   "execution_count": 50,
   "metadata": {
    "collapsed": false
   },
   "outputs": [],
   "source": [
    "df = recent\n",
    "pr = percent_relig(recent)\n",
    "series = pd.DataFrame(columns=pr.index)\n",
    "\n",
    "for _ in range(10):\n",
    "    df = advance(df)\n",
    "    year = df.year.mean()\n",
    "    series.loc[year] = percent_relig(df)"
   ]
  },
  {
   "cell_type": "code",
   "execution_count": 51,
   "metadata": {
    "collapsed": false
   },
   "outputs": [
    {
     "data": {
      "text/html": [
       "<div>\n",
       "<table border=\"1\" class=\"dataframe\">\n",
       "  <thead>\n",
       "    <tr style=\"text-align: right;\">\n",
       "      <th></th>\n",
       "      <th>prot</th>\n",
       "      <th>cath</th>\n",
       "      <th>none</th>\n",
       "    </tr>\n",
       "  </thead>\n",
       "  <tbody>\n",
       "    <tr>\n",
       "      <th>2008.6165</th>\n",
       "      <td>0.524435</td>\n",
       "      <td>0.256026</td>\n",
       "      <td>0.168185</td>\n",
       "    </tr>\n",
       "    <tr>\n",
       "      <th>2009.6165</th>\n",
       "      <td>0.524435</td>\n",
       "      <td>0.256026</td>\n",
       "      <td>0.168185</td>\n",
       "    </tr>\n",
       "    <tr>\n",
       "      <th>2010.6165</th>\n",
       "      <td>0.524435</td>\n",
       "      <td>0.256026</td>\n",
       "      <td>0.168185</td>\n",
       "    </tr>\n",
       "    <tr>\n",
       "      <th>2011.6165</th>\n",
       "      <td>0.524435</td>\n",
       "      <td>0.256026</td>\n",
       "      <td>0.168185</td>\n",
       "    </tr>\n",
       "    <tr>\n",
       "      <th>2012.6165</th>\n",
       "      <td>0.524435</td>\n",
       "      <td>0.256026</td>\n",
       "      <td>0.168185</td>\n",
       "    </tr>\n",
       "    <tr>\n",
       "      <th>2013.6165</th>\n",
       "      <td>0.524435</td>\n",
       "      <td>0.256026</td>\n",
       "      <td>0.168185</td>\n",
       "    </tr>\n",
       "    <tr>\n",
       "      <th>2014.6165</th>\n",
       "      <td>0.524435</td>\n",
       "      <td>0.256026</td>\n",
       "      <td>0.168185</td>\n",
       "    </tr>\n",
       "    <tr>\n",
       "      <th>2015.6165</th>\n",
       "      <td>0.524435</td>\n",
       "      <td>0.256026</td>\n",
       "      <td>0.168185</td>\n",
       "    </tr>\n",
       "    <tr>\n",
       "      <th>2016.6165</th>\n",
       "      <td>0.524435</td>\n",
       "      <td>0.256026</td>\n",
       "      <td>0.168185</td>\n",
       "    </tr>\n",
       "    <tr>\n",
       "      <th>2017.6165</th>\n",
       "      <td>0.524435</td>\n",
       "      <td>0.256026</td>\n",
       "      <td>0.168185</td>\n",
       "    </tr>\n",
       "  </tbody>\n",
       "</table>\n",
       "</div>"
      ],
      "text/plain": [
       "               prot      cath      none\n",
       "2008.6165  0.524435  0.256026  0.168185\n",
       "2009.6165  0.524435  0.256026  0.168185\n",
       "2010.6165  0.524435  0.256026  0.168185\n",
       "2011.6165  0.524435  0.256026  0.168185\n",
       "2012.6165  0.524435  0.256026  0.168185\n",
       "2013.6165  0.524435  0.256026  0.168185\n",
       "2014.6165  0.524435  0.256026  0.168185\n",
       "2015.6165  0.524435  0.256026  0.168185\n",
       "2016.6165  0.524435  0.256026  0.168185\n",
       "2017.6165  0.524435  0.256026  0.168185"
      ]
     },
     "execution_count": 51,
     "metadata": {},
     "output_type": "execute_result"
    }
   ],
   "source": [
    "series"
   ]
  },
  {
   "cell_type": "code",
   "execution_count": 52,
   "metadata": {
    "collapsed": true
   },
   "outputs": [],
   "source": [
    "updated = advance(recent)"
   ]
  },
  {
   "cell_type": "code",
   "execution_count": 53,
   "metadata": {
    "collapsed": false
   },
   "outputs": [],
   "source": [
    "# https://www.cdc.gov/nchs/data/dvs/mortfinal2007_worktable23r.pdf\n",
    "\n",
    "AGES = np.array([24, 34, 44, 54, 64, 74, 84])\n",
    "RATES = np.array([79.9, 104.9, 184.4, 420.9, 877.7, 2011.3, 5011.6, 12946.5]) / 100000"
   ]
  },
  {
   "cell_type": "code",
   "execution_count": 54,
   "metadata": {
    "collapsed": true
   },
   "outputs": [],
   "source": [
    "def choose_dead(df):\n",
    "    \"\"\"Simulate deaths based on age-related rates.\n",
    "    \n",
    "    df: DataFrame\n",
    "    \n",
    "    returns: boolean array with True for dead\n",
    "    \"\"\"\n",
    "    \n",
    "    # look up the death rate for each respondent\n",
    "    indices = np.searchsorted(AGES, df.age)\n",
    "    rates = RATES[indices]\n",
    "    \n",
    "    # choose who dies\n",
    "    dead = np.random.random(len(rates)) < rates\n",
    "    return dead"
   ]
  },
  {
   "cell_type": "code",
   "execution_count": 55,
   "metadata": {
    "collapsed": false
   },
   "outputs": [
    {
     "data": {
      "text/plain": [
       "231"
      ]
     },
     "execution_count": 55,
     "metadata": {},
     "output_type": "execute_result"
    }
   ],
   "source": [
    "dead = choose_dead(updated)\n",
    "dead.sum()"
   ]
  },
  {
   "cell_type": "code",
   "execution_count": 56,
   "metadata": {
    "collapsed": false
   },
   "outputs": [
    {
     "data": {
      "image/png": "[encoded data removed]",
      "text/plain": [
       "<matplotlib.figure.Figure at 0x7fb9048f8610>"
      ]
     },
     "metadata": {},
     "output_type": "display_data"
    }
   ],
   "source": [
    "pdf = thinkstats2.EstimatedPdf(recent.age)\n",
    "thinkplot.Pdf(pdf)"
   ]
  },
  {
   "cell_type": "code",
   "execution_count": 57,
   "metadata": {
    "collapsed": false
   },
   "outputs": [],
   "source": [
    "def replace(df, pdf):\n",
    "    updated = advance(df)\n",
    "    dead = choose_dead(updated)\n",
    "    updated.loc[dead, 'age'] = np.nan\n",
    "    \n",
    "    pdf2 = thinkstats2.EstimatedPdf(updated.age.dropna())\n",
    "    ages = np.arange(17, 92, 1)\n",
    "    diffs = pdf.Density(ages) - pdf2.Density(ages)\n",
    "    diffs[diffs<0] = 0\n",
    "    pmf = thinkstats2.Pmf(dict(zip(ages, diffs)))\n",
    "    thinkplot.Pdf(pmf)\n",
    "    replacement_ages = pmf.Sample(dead.sum())\n",
    "    updated.loc[dead, 'age'] = replacement_ages\n",
    "    \n",
    "    return updated"
   ]
  },
  {
   "cell_type": "code",
   "execution_count": 58,
   "metadata": {
    "collapsed": false
   },
   "outputs": [],
   "source": [
    "def replace(df, pmf):\n",
    "    updated = advance(df)\n",
    "    dead = choose_dead(updated)\n",
    "    updated.loc[dead, 'age'] = 18\n",
    "    updated['weight'] = pmf.Probs(updated.age.values)\n",
    "    sample = thinkstats2.ResampleRowsWeighted(updated, column='weight')\n",
    "    return sample"
   ]
  },
  {
   "cell_type": "code",
   "execution_count": 59,
   "metadata": {
    "collapsed": true
   },
   "outputs": [],
   "source": [
    "pmf = thinkstats2.Pmf(recent.age)"
   ]
  },
  {
   "cell_type": "code",
   "execution_count": 60,
   "metadata": {
    "collapsed": false
   },
   "outputs": [
    {
     "data": {
      "text/html": [
       "<div>\n",
       "<table border=\"1\" class=\"dataframe\">\n",
       "  <thead>\n",
       "    <tr style=\"text-align: right;\">\n",
       "      <th></th>\n",
       "      <th>year</th>\n",
       "      <th>conclerg</th>\n",
       "      <th>bible</th>\n",
       "      <th>cohort</th>\n",
       "      <th>age</th>\n",
       "      <th>wtssall</th>\n",
       "      <th>ballot</th>\n",
       "      <th>relig</th>\n",
       "      <th>educ</th>\n",
       "      <th>id_</th>\n",
       "      <th>...</th>\n",
       "      <th>decade</th>\n",
       "      <th>cohort5</th>\n",
       "      <th>none</th>\n",
       "      <th>cath</th>\n",
       "      <th>prot</th>\n",
       "      <th>other</th>\n",
       "      <th>relig2</th>\n",
       "      <th>age_group10</th>\n",
       "      <th>year4</th>\n",
       "      <th>weight</th>\n",
       "    </tr>\n",
       "  </thead>\n",
       "  <tbody>\n",
       "    <tr>\n",
       "      <th>41830</th>\n",
       "      <td>2003</td>\n",
       "      <td>0</td>\n",
       "      <td>0</td>\n",
       "      <td>1977.0</td>\n",
       "      <td>26.0</td>\n",
       "      <td>1.115600</td>\n",
       "      <td>1</td>\n",
       "      <td>1.0</td>\n",
       "      <td>13</td>\n",
       "      <td>2071</td>\n",
       "      <td>...</td>\n",
       "      <td>1970.0</td>\n",
       "      <td>1977.5</td>\n",
       "      <td>0</td>\n",
       "      <td>0</td>\n",
       "      <td>1</td>\n",
       "      <td>0</td>\n",
       "      <td>1.0</td>\n",
       "      <td>20.0</td>\n",
       "      <td>2002</td>\n",
       "      <td>0.018968</td>\n",
       "    </tr>\n",
       "    <tr>\n",
       "      <th>42856</th>\n",
       "      <td>2003</td>\n",
       "      <td>0</td>\n",
       "      <td>0</td>\n",
       "      <td>1981.0</td>\n",
       "      <td>22.0</td>\n",
       "      <td>1.115600</td>\n",
       "      <td>3</td>\n",
       "      <td>11.0</td>\n",
       "      <td>12</td>\n",
       "      <td>50</td>\n",
       "      <td>...</td>\n",
       "      <td>1980.0</td>\n",
       "      <td>1982.5</td>\n",
       "      <td>0</td>\n",
       "      <td>0</td>\n",
       "      <td>1</td>\n",
       "      <td>1</td>\n",
       "      <td>3.0</td>\n",
       "      <td>20.0</td>\n",
       "      <td>2002</td>\n",
       "      <td>0.017767</td>\n",
       "    </tr>\n",
       "    <tr>\n",
       "      <th>52676</th>\n",
       "      <td>2011</td>\n",
       "      <td>1</td>\n",
       "      <td>2</td>\n",
       "      <td>1972.0</td>\n",
       "      <td>39.0</td>\n",
       "      <td>0.926255</td>\n",
       "      <td>3</td>\n",
       "      <td>1.0</td>\n",
       "      <td>16</td>\n",
       "      <td>1746</td>\n",
       "      <td>...</td>\n",
       "      <td>1970.0</td>\n",
       "      <td>1972.5</td>\n",
       "      <td>0</td>\n",
       "      <td>0</td>\n",
       "      <td>1</td>\n",
       "      <td>0</td>\n",
       "      <td>1.0</td>\n",
       "      <td>30.0</td>\n",
       "      <td>2010</td>\n",
       "      <td>0.017726</td>\n",
       "    </tr>\n",
       "    <tr>\n",
       "      <th>59142</th>\n",
       "      <td>2015</td>\n",
       "      <td>3</td>\n",
       "      <td>2</td>\n",
       "      <td>1983.0</td>\n",
       "      <td>32.0</td>\n",
       "      <td>1.792007</td>\n",
       "      <td>2</td>\n",
       "      <td>1.0</td>\n",
       "      <td>14</td>\n",
       "      <td>945</td>\n",
       "      <td>...</td>\n",
       "      <td>1980.0</td>\n",
       "      <td>1982.5</td>\n",
       "      <td>0</td>\n",
       "      <td>0</td>\n",
       "      <td>1</td>\n",
       "      <td>0</td>\n",
       "      <td>1.0</td>\n",
       "      <td>30.0</td>\n",
       "      <td>2014</td>\n",
       "      <td>0.020459</td>\n",
       "    </tr>\n",
       "    <tr>\n",
       "      <th>38283</th>\n",
       "      <td>2001</td>\n",
       "      <td>2</td>\n",
       "      <td>2</td>\n",
       "      <td>1946.0</td>\n",
       "      <td>55.0</td>\n",
       "      <td>1.647800</td>\n",
       "      <td>2</td>\n",
       "      <td>2.0</td>\n",
       "      <td>14</td>\n",
       "      <td>2670</td>\n",
       "      <td>...</td>\n",
       "      <td>1940.0</td>\n",
       "      <td>1947.5</td>\n",
       "      <td>0</td>\n",
       "      <td>1</td>\n",
       "      <td>0</td>\n",
       "      <td>0</td>\n",
       "      <td>2.0</td>\n",
       "      <td>50.0</td>\n",
       "      <td>1998</td>\n",
       "      <td>0.018098</td>\n",
       "    </tr>\n",
       "  </tbody>\n",
       "</table>\n",
       "<p>5 rows × 22 columns</p>\n",
       "</div>"
      ],
      "text/plain": [
       "       year  conclerg  bible  cohort   age   wtssall  ballot  relig  educ  \\\n",
       "41830  2003         0      0  1977.0  26.0  1.115600       1    1.0    13   \n",
       "42856  2003         0      0  1981.0  22.0  1.115600       3   11.0    12   \n",
       "52676  2011         1      2  1972.0  39.0  0.926255       3    1.0    16   \n",
       "59142  2015         3      2  1983.0  32.0  1.792007       2    1.0    14   \n",
       "38283  2001         2      2  1946.0  55.0  1.647800       2    2.0    14   \n",
       "\n",
       "        id_    ...     decade  cohort5  none  cath  prot  other  relig2  \\\n",
       "41830  2071    ...     1970.0   1977.5     0     0     1      0     1.0   \n",
       "42856    50    ...     1980.0   1982.5     0     0     1      1     3.0   \n",
       "52676  1746    ...     1970.0   1972.5     0     0     1      0     1.0   \n",
       "59142   945    ...     1980.0   1982.5     0     0     1      0     1.0   \n",
       "38283  2670    ...     1940.0   1947.5     0     1     0      0     2.0   \n",
       "\n",
       "       age_group10  year4    weight  \n",
       "41830         20.0   2002  0.018968  \n",
       "42856         20.0   2002  0.017767  \n",
       "52676         30.0   2010  0.017726  \n",
       "59142         30.0   2014  0.020459  \n",
       "38283         50.0   1998  0.018098  \n",
       "\n",
       "[5 rows x 22 columns]"
      ]
     },
     "execution_count": 60,
     "metadata": {},
     "output_type": "execute_result"
    }
   ],
   "source": [
    "updated = replace(recent, pmf)\n",
    "updated.head()"
   ]
  },
  {
   "cell_type": "code",
   "execution_count": 61,
   "metadata": {
    "collapsed": false
   },
   "outputs": [],
   "source": [
    "updated = replace(updated, pmf)"
   ]
  },
  {
   "cell_type": "code",
   "execution_count": 62,
   "metadata": {
    "collapsed": false
   },
   "outputs": [
    {
     "data": {
      "image/png": "[encoded data removed]",
      "text/plain": [
       "<matplotlib.figure.Figure at 0x7fb905793a10>"
      ]
     },
     "metadata": {},
     "output_type": "display_data"
    }
   ],
   "source": [
    "cdf1 = thinkstats2.Cdf(recent.age)\n",
    "cdf2 = thinkstats2.Cdf(updated.age)\n",
    "thinkplot.Cdfs([cdf1, cdf2])"
   ]
  },
  {
   "cell_type": "code",
   "execution_count": 63,
   "metadata": {
    "collapsed": false
   },
   "outputs": [
    {
     "data": {
      "image/png": "[encoded data removed]",
      "text/plain": [
       "<matplotlib.figure.Figure at 0x7fb905846890>"
      ]
     },
     "metadata": {},
     "output_type": "display_data"
    }
   ],
   "source": [
    "pdf1 = thinkstats2.EstimatedPdf(recent.age)\n",
    "pdf2 = thinkstats2.EstimatedPdf(updated.age)\n",
    "thinkplot.Pdfs([pdf1, pdf2])"
   ]
  },
  {
   "cell_type": "code",
   "execution_count": 64,
   "metadata": {
    "collapsed": false
   },
   "outputs": [
    {
     "data": {
      "text/plain": [
       "array([17, 18, 19, 20, 21, 22, 23, 24, 25, 26, 27, 28, 29, 30, 31, 32, 33,\n",
       "       34, 35, 36, 37, 38, 39, 40, 41, 42, 43, 44, 45, 46, 47, 48, 49, 50,\n",
       "       51, 52, 53, 54, 55, 56, 57, 58, 59, 60, 61, 62, 63, 64, 65, 66, 67,\n",
       "       68, 69, 70, 71, 72, 73, 74, 75, 76, 77, 78, 79, 80, 81, 82, 83, 84,\n",
       "       85, 86, 87, 88, 89, 90, 91])"
      ]
     },
     "execution_count": 64,
     "metadata": {},
     "output_type": "execute_result"
    }
   ],
   "source": [
    "xs = np.arange(17, 92, 1)\n",
    "xs"
   ]
  },
  {
   "cell_type": "markdown",
   "metadata": {},
   "source": [
    "##  Modeling"
   ]
  },
  {
   "cell_type": "code",
   "execution_count": 65,
   "metadata": {
    "collapsed": false
   },
   "outputs": [],
   "source": [
    "def center_factors(df):\n",
    "    df['cohort66'] = df.cohort - 1966\n",
    "    df['cohort662'] = df.cohort66**2"
   ]
  },
  {
   "cell_type": "code",
   "execution_count": 66,
   "metadata": {
    "collapsed": false
   },
   "outputs": [
    {
     "data": {
      "text/html": [
       "<div>\n",
       "<table border=\"1\" class=\"dataframe\">\n",
       "  <thead>\n",
       "    <tr style=\"text-align: right;\">\n",
       "      <th></th>\n",
       "      <th>year</th>\n",
       "      <th>conclerg</th>\n",
       "      <th>bible</th>\n",
       "      <th>cohort</th>\n",
       "      <th>age</th>\n",
       "      <th>wtssall</th>\n",
       "      <th>ballot</th>\n",
       "      <th>relig</th>\n",
       "      <th>educ</th>\n",
       "      <th>id_</th>\n",
       "      <th>...</th>\n",
       "      <th>cohort5</th>\n",
       "      <th>none</th>\n",
       "      <th>cath</th>\n",
       "      <th>prot</th>\n",
       "      <th>other</th>\n",
       "      <th>relig2</th>\n",
       "      <th>age_group10</th>\n",
       "      <th>year4</th>\n",
       "      <th>cohort66</th>\n",
       "      <th>cohort662</th>\n",
       "    </tr>\n",
       "  </thead>\n",
       "  <tbody>\n",
       "    <tr>\n",
       "      <th>0</th>\n",
       "      <td>1972</td>\n",
       "      <td>0</td>\n",
       "      <td>0</td>\n",
       "      <td>1895.0</td>\n",
       "      <td>77.0</td>\n",
       "      <td>1.3339</td>\n",
       "      <td>0</td>\n",
       "      <td>1.0</td>\n",
       "      <td>5</td>\n",
       "      <td>659</td>\n",
       "      <td>...</td>\n",
       "      <td>1897.5</td>\n",
       "      <td>0</td>\n",
       "      <td>0</td>\n",
       "      <td>1</td>\n",
       "      <td>0</td>\n",
       "      <td>1.0</td>\n",
       "      <td>70.0</td>\n",
       "      <td>1970</td>\n",
       "      <td>-71.0</td>\n",
       "      <td>5041.0</td>\n",
       "    </tr>\n",
       "    <tr>\n",
       "      <th>1</th>\n",
       "      <td>1972</td>\n",
       "      <td>0</td>\n",
       "      <td>0</td>\n",
       "      <td>1909.0</td>\n",
       "      <td>63.0</td>\n",
       "      <td>0.8893</td>\n",
       "      <td>0</td>\n",
       "      <td>1.0</td>\n",
       "      <td>8</td>\n",
       "      <td>1531</td>\n",
       "      <td>...</td>\n",
       "      <td>1907.5</td>\n",
       "      <td>0</td>\n",
       "      <td>0</td>\n",
       "      <td>1</td>\n",
       "      <td>0</td>\n",
       "      <td>1.0</td>\n",
       "      <td>60.0</td>\n",
       "      <td>1970</td>\n",
       "      <td>-57.0</td>\n",
       "      <td>3249.0</td>\n",
       "    </tr>\n",
       "    <tr>\n",
       "      <th>2</th>\n",
       "      <td>1972</td>\n",
       "      <td>0</td>\n",
       "      <td>0</td>\n",
       "      <td>1949.0</td>\n",
       "      <td>23.0</td>\n",
       "      <td>0.8893</td>\n",
       "      <td>0</td>\n",
       "      <td>1.0</td>\n",
       "      <td>16</td>\n",
       "      <td>1250</td>\n",
       "      <td>...</td>\n",
       "      <td>1947.5</td>\n",
       "      <td>0</td>\n",
       "      <td>0</td>\n",
       "      <td>1</td>\n",
       "      <td>0</td>\n",
       "      <td>1.0</td>\n",
       "      <td>20.0</td>\n",
       "      <td>1970</td>\n",
       "      <td>-17.0</td>\n",
       "      <td>289.0</td>\n",
       "    </tr>\n",
       "    <tr>\n",
       "      <th>3</th>\n",
       "      <td>1972</td>\n",
       "      <td>0</td>\n",
       "      <td>0</td>\n",
       "      <td>1943.0</td>\n",
       "      <td>29.0</td>\n",
       "      <td>0.4446</td>\n",
       "      <td>0</td>\n",
       "      <td>1.0</td>\n",
       "      <td>13</td>\n",
       "      <td>599</td>\n",
       "      <td>...</td>\n",
       "      <td>1942.5</td>\n",
       "      <td>0</td>\n",
       "      <td>0</td>\n",
       "      <td>1</td>\n",
       "      <td>0</td>\n",
       "      <td>1.0</td>\n",
       "      <td>20.0</td>\n",
       "      <td>1970</td>\n",
       "      <td>-23.0</td>\n",
       "      <td>529.0</td>\n",
       "    </tr>\n",
       "    <tr>\n",
       "      <th>4</th>\n",
       "      <td>1972</td>\n",
       "      <td>0</td>\n",
       "      <td>0</td>\n",
       "      <td>1907.0</td>\n",
       "      <td>65.0</td>\n",
       "      <td>1.3339</td>\n",
       "      <td>0</td>\n",
       "      <td>1.0</td>\n",
       "      <td>6</td>\n",
       "      <td>1196</td>\n",
       "      <td>...</td>\n",
       "      <td>1907.5</td>\n",
       "      <td>0</td>\n",
       "      <td>0</td>\n",
       "      <td>1</td>\n",
       "      <td>0</td>\n",
       "      <td>1.0</td>\n",
       "      <td>60.0</td>\n",
       "      <td>1970</td>\n",
       "      <td>-59.0</td>\n",
       "      <td>3481.0</td>\n",
       "    </tr>\n",
       "  </tbody>\n",
       "</table>\n",
       "<p>5 rows × 23 columns</p>\n",
       "</div>"
      ],
      "text/plain": [
       "   year  conclerg  bible  cohort   age  wtssall  ballot  relig  educ   id_  \\\n",
       "0  1972         0      0  1895.0  77.0   1.3339       0    1.0     5   659   \n",
       "1  1972         0      0  1909.0  63.0   0.8893       0    1.0     8  1531   \n",
       "2  1972         0      0  1949.0  23.0   0.8893       0    1.0    16  1250   \n",
       "3  1972         0      0  1943.0  29.0   0.4446       0    1.0    13   599   \n",
       "4  1972         0      0  1907.0  65.0   1.3339       0    1.0     6  1196   \n",
       "\n",
       "     ...      cohort5  none  cath  prot  other  relig2  age_group10  year4  \\\n",
       "0    ...       1897.5     0     0     1      0     1.0         70.0   1970   \n",
       "1    ...       1907.5     0     0     1      0     1.0         60.0   1970   \n",
       "2    ...       1947.5     0     0     1      0     1.0         20.0   1970   \n",
       "3    ...       1942.5     0     0     1      0     1.0         20.0   1970   \n",
       "4    ...       1907.5     0     0     1      0     1.0         60.0   1970   \n",
       "\n",
       "   cohort66  cohort662  \n",
       "0     -71.0     5041.0  \n",
       "1     -57.0     3249.0  \n",
       "2     -17.0      289.0  \n",
       "3     -23.0      529.0  \n",
       "4     -59.0     3481.0  \n",
       "\n",
       "[5 rows x 23 columns]"
      ]
     },
     "execution_count": 66,
     "metadata": {},
     "output_type": "execute_result"
    }
   ],
   "source": [
    "center_factors(sample)\n",
    "sample.head()"
   ]
  },
  {
   "cell_type": "code",
   "execution_count": 67,
   "metadata": {
    "collapsed": false
   },
   "outputs": [
    {
     "name": "stdout",
     "output_type": "stream",
     "text": [
      "Optimization terminated successfully.\n",
      "         Current function value: 0.664818\n",
      "         Iterations 4\n"
     ]
    },
    {
     "data": {
      "text/html": [
       "<table class=\"simpletable\">\n",
       "<caption>Logit Regression Results</caption>\n",
       "<tr>\n",
       "  <th>Dep. Variable:</th>       <td>prot</td>       <th>  No. Observations:  </th>  <td> 61995</td> \n",
       "</tr>\n",
       "<tr>\n",
       "  <th>Model:</th>               <td>Logit</td>      <th>  Df Residuals:      </th>  <td> 61992</td> \n",
       "</tr>\n",
       "<tr>\n",
       "  <th>Method:</th>               <td>MLE</td>       <th>  Df Model:          </th>  <td>     2</td> \n",
       "</tr>\n",
       "<tr>\n",
       "  <th>Date:</th>          <td>Mon, 22 May 2017</td> <th>  Pseudo R-squ.:     </th>  <td>0.02195</td>\n",
       "</tr>\n",
       "<tr>\n",
       "  <th>Time:</th>              <td>15:44:40</td>     <th>  Log-Likelihood:    </th> <td> -41215.</td>\n",
       "</tr>\n",
       "<tr>\n",
       "  <th>converged:</th>           <td>True</td>       <th>  LL-Null:           </th> <td> -42140.</td>\n",
       "</tr>\n",
       "<tr>\n",
       "  <th> </th>                      <td> </td>        <th>  LLR p-value:       </th>  <td> 0.000</td> \n",
       "</tr>\n",
       "</table>\n",
       "<table class=\"simpletable\">\n",
       "<tr>\n",
       "      <td></td>         <th>coef</th>     <th>std err</th>      <th>z</th>      <th>P>|z|</th>  <th>[0.025</th>    <th>0.975]</th>  \n",
       "</tr>\n",
       "<tr>\n",
       "  <th>Intercept</th> <td>    0.0646</td> <td>    0.010</td> <td>    6.177</td> <td> 0.000</td> <td>    0.044</td> <td>    0.085</td>\n",
       "</tr>\n",
       "<tr>\n",
       "  <th>cohort66</th>  <td>   -0.0207</td> <td>    0.001</td> <td>  -28.725</td> <td> 0.000</td> <td>   -0.022</td> <td>   -0.019</td>\n",
       "</tr>\n",
       "<tr>\n",
       "  <th>cohort662</th> <td>-9.718e-05</td> <td> 1.59e-05</td> <td>   -6.118</td> <td> 0.000</td> <td>   -0.000</td> <td> -6.6e-05</td>\n",
       "</tr>\n",
       "</table>"
      ],
      "text/plain": [
       "<class 'statsmodels.iolib.summary.Summary'>\n",
       "\"\"\"\n",
       "                           Logit Regression Results                           \n",
       "==============================================================================\n",
       "Dep. Variable:                   prot   No. Observations:                61995\n",
       "Model:                          Logit   Df Residuals:                    61992\n",
       "Method:                           MLE   Df Model:                            2\n",
       "Date:                Mon, 22 May 2017   Pseudo R-squ.:                 0.02195\n",
       "Time:                        15:44:40   Log-Likelihood:                -41215.\n",
       "converged:                       True   LL-Null:                       -42140.\n",
       "                                        LLR p-value:                     0.000\n",
       "==============================================================================\n",
       "                 coef    std err          z      P>|z|      [0.025      0.975]\n",
       "------------------------------------------------------------------------------\n",
       "Intercept      0.0646      0.010      6.177      0.000       0.044       0.085\n",
       "cohort66      -0.0207      0.001    -28.725      0.000      -0.022      -0.019\n",
       "cohort662  -9.718e-05   1.59e-05     -6.118      0.000      -0.000    -6.6e-05\n",
       "==============================================================================\n",
       "\"\"\""
      ]
     },
     "execution_count": 67,
     "metadata": {},
     "output_type": "execute_result"
    }
   ],
   "source": [
    "formula = 'prot ~ cohort66 + cohort662'\n",
    "results1 = smf.logit(formula, data=sample).fit()\n",
    "results1.summary()"
   ]
  },
  {
   "cell_type": "code",
   "execution_count": 68,
   "metadata": {
    "collapsed": false
   },
   "outputs": [
    {
     "name": "stdout",
     "output_type": "stream",
     "text": [
      "Optimization terminated successfully.\n",
      "         Current function value: 0.569679\n",
      "         Iterations 5\n"
     ]
    },
    {
     "data": {
      "text/html": [
       "<table class=\"simpletable\">\n",
       "<caption>Logit Regression Results</caption>\n",
       "<tr>\n",
       "  <th>Dep. Variable:</th>       <td>cath</td>       <th>  No. Observations:  </th>  <td> 61995</td>  \n",
       "</tr>\n",
       "<tr>\n",
       "  <th>Model:</th>               <td>Logit</td>      <th>  Df Residuals:      </th>  <td> 61992</td>  \n",
       "</tr>\n",
       "<tr>\n",
       "  <th>Method:</th>               <td>MLE</td>       <th>  Df Model:          </th>  <td>     2</td>  \n",
       "</tr>\n",
       "<tr>\n",
       "  <th>Date:</th>          <td>Mon, 22 May 2017</td> <th>  Pseudo R-squ.:     </th> <td>0.0009282</td>\n",
       "</tr>\n",
       "<tr>\n",
       "  <th>Time:</th>              <td>15:44:40</td>     <th>  Log-Likelihood:    </th> <td> -35317.</td> \n",
       "</tr>\n",
       "<tr>\n",
       "  <th>converged:</th>           <td>True</td>       <th>  LL-Null:           </th> <td> -35350.</td> \n",
       "</tr>\n",
       "<tr>\n",
       "  <th> </th>                      <td> </td>        <th>  LLR p-value:       </th> <td>5.631e-15</td>\n",
       "</tr>\n",
       "</table>\n",
       "<table class=\"simpletable\">\n",
       "<tr>\n",
       "      <td></td>         <th>coef</th>     <th>std err</th>      <th>z</th>      <th>P>|z|</th>  <th>[0.025</th>    <th>0.975]</th>  \n",
       "</tr>\n",
       "<tr>\n",
       "  <th>Intercept</th> <td>   -1.0062</td> <td>    0.012</td> <td>  -85.782</td> <td> 0.000</td> <td>   -1.029</td> <td>   -0.983</td>\n",
       "</tr>\n",
       "<tr>\n",
       "  <th>cohort66</th>  <td>   -0.0001</td> <td>    0.001</td> <td>   -0.169</td> <td> 0.866</td> <td>   -0.002</td> <td>    0.001</td>\n",
       "</tr>\n",
       "<tr>\n",
       "  <th>cohort662</th> <td>-8.128e-05</td> <td> 1.76e-05</td> <td>   -4.625</td> <td> 0.000</td> <td>   -0.000</td> <td>-4.68e-05</td>\n",
       "</tr>\n",
       "</table>"
      ],
      "text/plain": [
       "<class 'statsmodels.iolib.summary.Summary'>\n",
       "\"\"\"\n",
       "                           Logit Regression Results                           \n",
       "==============================================================================\n",
       "Dep. Variable:                   cath   No. Observations:                61995\n",
       "Model:                          Logit   Df Residuals:                    61992\n",
       "Method:                           MLE   Df Model:                            2\n",
       "Date:                Mon, 22 May 2017   Pseudo R-squ.:               0.0009282\n",
       "Time:                        15:44:40   Log-Likelihood:                -35317.\n",
       "converged:                       True   LL-Null:                       -35350.\n",
       "                                        LLR p-value:                 5.631e-15\n",
       "==============================================================================\n",
       "                 coef    std err          z      P>|z|      [0.025      0.975]\n",
       "------------------------------------------------------------------------------\n",
       "Intercept     -1.0062      0.012    -85.782      0.000      -1.029      -0.983\n",
       "cohort66      -0.0001      0.001     -0.169      0.866      -0.002       0.001\n",
       "cohort662  -8.128e-05   1.76e-05     -4.625      0.000      -0.000   -4.68e-05\n",
       "==============================================================================\n",
       "\"\"\""
      ]
     },
     "execution_count": 68,
     "metadata": {},
     "output_type": "execute_result"
    }
   ],
   "source": [
    "formula = 'cath ~ cohort66 + cohort662'\n",
    "results2 = smf.logit(formula, data=sample).fit()\n",
    "results2.summary()"
   ]
  },
  {
   "cell_type": "code",
   "execution_count": 69,
   "metadata": {
    "collapsed": false
   },
   "outputs": [
    {
     "name": "stdout",
     "output_type": "stream",
     "text": [
      "Optimization terminated successfully.\n",
      "         Current function value: 0.224504\n",
      "         Iterations 7\n"
     ]
    },
    {
     "data": {
      "text/html": [
       "<table class=\"simpletable\">\n",
       "<caption>Logit Regression Results</caption>\n",
       "<tr>\n",
       "  <th>Dep. Variable:</th>       <td>other</td>      <th>  No. Observations:  </th>   <td> 61995</td>  \n",
       "</tr>\n",
       "<tr>\n",
       "  <th>Model:</th>               <td>Logit</td>      <th>  Df Residuals:      </th>   <td> 61992</td>  \n",
       "</tr>\n",
       "<tr>\n",
       "  <th>Method:</th>               <td>MLE</td>       <th>  Df Model:          </th>   <td>     2</td>  \n",
       "</tr>\n",
       "<tr>\n",
       "  <th>Date:</th>          <td>Mon, 22 May 2017</td> <th>  Pseudo R-squ.:     </th>   <td>0.01781</td> \n",
       "</tr>\n",
       "<tr>\n",
       "  <th>Time:</th>              <td>15:44:41</td>     <th>  Log-Likelihood:    </th>  <td> -13918.</td> \n",
       "</tr>\n",
       "<tr>\n",
       "  <th>converged:</th>           <td>True</td>       <th>  LL-Null:           </th>  <td> -14171.</td> \n",
       "</tr>\n",
       "<tr>\n",
       "  <th> </th>                      <td> </td>        <th>  LLR p-value:       </th> <td>2.351e-110</td>\n",
       "</tr>\n",
       "</table>\n",
       "<table class=\"simpletable\">\n",
       "<tr>\n",
       "      <td></td>         <th>coef</th>     <th>std err</th>      <th>z</th>      <th>P>|z|</th>  <th>[0.025</th>    <th>0.975]</th>  \n",
       "</tr>\n",
       "<tr>\n",
       "  <th>Intercept</th> <td>   -2.5043</td> <td>    0.020</td> <td> -124.391</td> <td> 0.000</td> <td>   -2.544</td> <td>   -2.465</td>\n",
       "</tr>\n",
       "<tr>\n",
       "  <th>cohort66</th>  <td>    0.0205</td> <td>    0.001</td> <td>   16.221</td> <td> 0.000</td> <td>    0.018</td> <td>    0.023</td>\n",
       "</tr>\n",
       "<tr>\n",
       "  <th>cohort662</th> <td> 5.549e-05</td> <td>  3.3e-05</td> <td>    1.682</td> <td> 0.093</td> <td>-9.19e-06</td> <td>    0.000</td>\n",
       "</tr>\n",
       "</table>"
      ],
      "text/plain": [
       "<class 'statsmodels.iolib.summary.Summary'>\n",
       "\"\"\"\n",
       "                           Logit Regression Results                           \n",
       "==============================================================================\n",
       "Dep. Variable:                  other   No. Observations:                61995\n",
       "Model:                          Logit   Df Residuals:                    61992\n",
       "Method:                           MLE   Df Model:                            2\n",
       "Date:                Mon, 22 May 2017   Pseudo R-squ.:                 0.01781\n",
       "Time:                        15:44:41   Log-Likelihood:                -13918.\n",
       "converged:                       True   LL-Null:                       -14171.\n",
       "                                        LLR p-value:                2.351e-110\n",
       "==============================================================================\n",
       "                 coef    std err          z      P>|z|      [0.025      0.975]\n",
       "------------------------------------------------------------------------------\n",
       "Intercept     -2.5043      0.020   -124.391      0.000      -2.544      -2.465\n",
       "cohort66       0.0205      0.001     16.221      0.000       0.018       0.023\n",
       "cohort662   5.549e-05    3.3e-05      1.682      0.093   -9.19e-06       0.000\n",
       "==============================================================================\n",
       "\"\"\""
      ]
     },
     "execution_count": 69,
     "metadata": {},
     "output_type": "execute_result"
    }
   ],
   "source": [
    "formula = 'other ~ cohort66 + cohort662'\n",
    "results3 = smf.logit(formula, data=sample).fit()\n",
    "results3.summary()"
   ]
  },
  {
   "cell_type": "code",
   "execution_count": 70,
   "metadata": {
    "collapsed": false
   },
   "outputs": [
    {
     "name": "stdout",
     "output_type": "stream",
     "text": [
      "Optimization terminated successfully.\n",
      "         Current function value: 0.335500\n",
      "         Iterations 7\n"
     ]
    },
    {
     "data": {
      "text/html": [
       "<table class=\"simpletable\">\n",
       "<caption>Logit Regression Results</caption>\n",
       "<tr>\n",
       "  <th>Dep. Variable:</th>       <td>none</td>       <th>  No. Observations:  </th>  <td> 61995</td> \n",
       "</tr>\n",
       "<tr>\n",
       "  <th>Model:</th>               <td>Logit</td>      <th>  Df Residuals:      </th>  <td> 61992</td> \n",
       "</tr>\n",
       "<tr>\n",
       "  <th>Method:</th>               <td>MLE</td>       <th>  Df Model:          </th>  <td>     2</td> \n",
       "</tr>\n",
       "<tr>\n",
       "  <th>Date:</th>          <td>Mon, 22 May 2017</td> <th>  Pseudo R-squ.:     </th>  <td>0.05934</td>\n",
       "</tr>\n",
       "<tr>\n",
       "  <th>Time:</th>              <td>15:44:41</td>     <th>  Log-Likelihood:    </th> <td> -20799.</td>\n",
       "</tr>\n",
       "<tr>\n",
       "  <th>converged:</th>           <td>True</td>       <th>  LL-Null:           </th> <td> -22111.</td>\n",
       "</tr>\n",
       "<tr>\n",
       "  <th> </th>                      <td> </td>        <th>  LLR p-value:       </th>  <td> 0.000</td> \n",
       "</tr>\n",
       "</table>\n",
       "<table class=\"simpletable\">\n",
       "<tr>\n",
       "      <td></td>         <th>coef</th>     <th>std err</th>      <th>z</th>      <th>P>|z|</th>  <th>[0.025</th>    <th>0.975]</th>  \n",
       "</tr>\n",
       "<tr>\n",
       "  <th>Intercept</th> <td>   -1.6694</td> <td>    0.015</td> <td> -109.864</td> <td> 0.000</td> <td>   -1.699</td> <td>   -1.640</td>\n",
       "</tr>\n",
       "<tr>\n",
       "  <th>cohort66</th>  <td>    0.0351</td> <td>    0.001</td> <td>   37.663</td> <td> 0.000</td> <td>    0.033</td> <td>    0.037</td>\n",
       "</tr>\n",
       "<tr>\n",
       "  <th>cohort662</th> <td> 5.351e-05</td> <td> 2.77e-05</td> <td>    1.932</td> <td> 0.053</td> <td>-7.79e-07</td> <td>    0.000</td>\n",
       "</tr>\n",
       "</table>"
      ],
      "text/plain": [
       "<class 'statsmodels.iolib.summary.Summary'>\n",
       "\"\"\"\n",
       "                           Logit Regression Results                           \n",
       "==============================================================================\n",
       "Dep. Variable:                   none   No. Observations:                61995\n",
       "Model:                          Logit   Df Residuals:                    61992\n",
       "Method:                           MLE   Df Model:                            2\n",
       "Date:                Mon, 22 May 2017   Pseudo R-squ.:                 0.05934\n",
       "Time:                        15:44:41   Log-Likelihood:                -20799.\n",
       "converged:                       True   LL-Null:                       -22111.\n",
       "                                        LLR p-value:                     0.000\n",
       "==============================================================================\n",
       "                 coef    std err          z      P>|z|      [0.025      0.975]\n",
       "------------------------------------------------------------------------------\n",
       "Intercept     -1.6694      0.015   -109.864      0.000      -1.699      -1.640\n",
       "cohort66       0.0351      0.001     37.663      0.000       0.033       0.037\n",
       "cohort662   5.351e-05   2.77e-05      1.932      0.053   -7.79e-07       0.000\n",
       "==============================================================================\n",
       "\"\"\""
      ]
     },
     "execution_count": 70,
     "metadata": {},
     "output_type": "execute_result"
    }
   ],
   "source": [
    "formula = 'none ~ cohort66 + cohort662'\n",
    "results4 = smf.logit(formula, data=sample).fit()\n",
    "results4.summary()"
   ]
  },
  {
   "cell_type": "code",
   "execution_count": 71,
   "metadata": {
    "collapsed": false
   },
   "outputs": [
    {
     "data": {
      "image/png": "[encoded data removed]",
      "text/plain": [
       "<matplotlib.figure.Figure at 0x7fb905a20590>"
      ]
     },
     "metadata": {},
     "output_type": "display_data"
    }
   ],
   "source": [
    "plot_grouped(grouped2)\n",
    "thinkplot.config(xlabel='Year of birth', ylabel='Percent')"
   ]
  },
  {
   "cell_type": "code",
   "execution_count": 72,
   "metadata": {
    "collapsed": false
   },
   "outputs": [
    {
     "data": {
      "image/png": "[encoded data removed]",
      "text/plain": [
       "<matplotlib.figure.Figure at 0x7fb9047bab10>"
      ]
     },
     "metadata": {},
     "output_type": "display_data"
    }
   ],
   "source": [
    "def make_pred(results):\n",
    "    cohort = np.arange(1997, 2020)\n",
    "    df = pd.DataFrame(dict(cohort=cohort))\n",
    "    center_factors(df)\n",
    "    pred = results.predict(df) * 100\n",
    "    pred.index = cohort\n",
    "    return pred\n",
    "\n",
    "\n",
    "alpha = 0.3\n",
    "series1 = make_pred(results1)\n",
    "thinkplot.plot(series1, color=ORANGE, alpha=alpha)\n",
    "\n",
    "series2 = make_pred(results2)\n",
    "thinkplot.plot(series2, color=GREEN, alpha=alpha)\n",
    "\n",
    "series3 = make_pred(results3)\n",
    "thinkplot.plot(series3, color=BLUE, alpha=alpha)\n",
    "\n",
    "series4 = make_pred(results4)\n",
    "thinkplot.plot(series4, color=RED, alpha=alpha)\n",
    "\n",
    "plot_grouped(grouped2)\n",
    "thinkplot.config(xlabel='Year of birth', xlim=[1880, 2025])"
   ]
  },
  {
   "cell_type": "markdown",
   "metadata": {},
   "source": [
    "## Generational replacement"
   ]
  },
  {
   "cell_type": "code",
   "execution_count": 84,
   "metadata": {
    "collapsed": true
   },
   "outputs": [],
   "source": [
    "COLUMNS = ['prot', 'cath', 'other', 'none']\n",
    "\n",
    "def run_models(sample, result_seq, year):\n",
    "    age = thinkstats2.Resample(sample.age)\n",
    "    cohort = year - age\n",
    "    print(np.mean(cohort<1997))\n",
    "    df = pd.DataFrame(dict(cohort=cohort))\n",
    "    center_factors(df)\n",
    "    pred = [results.predict(df).mean() for results in result_seq]\n",
    "    return pd.Series(pred, index=COLUMNS)"
   ]
  },
  {
   "cell_type": "code",
   "execution_count": 79,
   "metadata": {
    "collapsed": false
   },
   "outputs": [
    {
     "name": "stdout",
     "output_type": "stream",
     "text": [
      "0.976385192354\n"
     ]
    },
    {
     "data": {
      "text/plain": [
       "prot     0.481570\n",
       "cath     0.262554\n",
       "other    0.088754\n",
       "none     0.203656\n",
       "dtype: float64"
      ]
     },
     "execution_count": 79,
     "metadata": {},
     "output_type": "execute_result"
    }
   ],
   "source": [
    "run_models(sample, [results1, results2, results3, results4], 2016)"
   ]
  },
  {
   "cell_type": "code",
   "execution_count": 80,
   "metadata": {
    "collapsed": false
   },
   "outputs": [
    {
     "name": "stdout",
     "output_type": "stream",
     "text": [
      "0.828937817566\n"
     ]
    },
    {
     "data": {
      "text/plain": [
       "prot     0.443500\n",
       "cath     0.260424\n",
       "other    0.102069\n",
       "none     0.246477\n",
       "dtype: float64"
      ]
     },
     "execution_count": 80,
     "metadata": {},
     "output_type": "execute_result"
    }
   ],
   "source": [
    "run_models(sample, [results1, results2, results3, results4], 2023)"
   ]
  },
  {
   "cell_type": "code",
   "execution_count": 81,
   "metadata": {
    "collapsed": false
   },
   "outputs": [
    {
     "name": "stdout",
     "output_type": "stream",
     "text": [
      "0.545124606823\n"
     ]
    },
    {
     "data": {
      "text/plain": [
       "prot     0.365414\n",
       "cath     0.251862\n",
       "other    0.135202\n",
       "none     0.347944\n",
       "dtype: float64"
      ]
     },
     "execution_count": 81,
     "metadata": {},
     "output_type": "execute_result"
    }
   ],
   "source": [
    "run_models(sample, [results1, results2, results3, results4], 2037)"
   ]
  },
  {
   "cell_type": "code",
   "execution_count": 82,
   "metadata": {
    "collapsed": false
   },
   "outputs": [
    {
     "name": "stdout",
     "output_type": "stream",
     "text": [
      "0.256569078151\n"
     ]
    },
    {
     "data": {
      "text/plain": [
       "prot     0.275910\n",
       "cath     0.235330\n",
       "other    0.187625\n",
       "none     0.485947\n",
       "dtype: float64"
      ]
     },
     "execution_count": 82,
     "metadata": {},
     "output_type": "execute_result"
    }
   ],
   "source": [
    "run_models(sample, [results1, results2, results3, results4], 2053)"
   ]
  },
  {
   "cell_type": "code",
   "execution_count": 89,
   "metadata": {
    "collapsed": false
   },
   "outputs": [
    {
     "name": "stdout",
     "output_type": "stream",
     "text": [
      "0.977030405678\n",
      "0.958077264296\n",
      "0.937575610936\n",
      "0.919703201871\n",
      "0.896394870554\n",
      "0.873038148238\n",
      "0.85290749254\n",
      "0.834051133156\n",
      "0.807597386886\n",
      "0.788079683845\n",
      "0.768094201145\n",
      "0.7489152351\n",
      "0.725848858779\n",
      "0.702669570127\n",
      "0.68087749012\n",
      "0.664214856037\n",
      "0.639003145415\n",
      "0.618453101057\n",
      "0.59932252601\n",
      "0.581740462941\n",
      "0.562626018227\n",
      "0.541592063876\n",
      "0.524719735463\n",
      "0.503153480119\n",
      "0.484861682394\n",
      "0.462021130736\n",
      "0.449487861924\n",
      "0.427615130252\n",
      "0.407129607226\n",
      "0.391886442455\n",
      "0.372771997742\n",
      "0.358803129285\n",
      "0.340301637229\n",
      "0.322364706831\n"
     ]
    }
   ],
   "source": [
    "result_seq = [results1, results2, results3, results4]\n",
    "df = pd.DataFrame(columns=COLUMNS)\n",
    "\n",
    "for year in range(2016, 2050):\n",
    "    df.loc[year] = run_models(sample, result_seq, year)"
   ]
  },
  {
   "cell_type": "code",
   "execution_count": 90,
   "metadata": {
    "collapsed": false
   },
   "outputs": [
    {
     "data": {
      "text/html": [
       "<div>\n",
       "<table border=\"1\" class=\"dataframe\">\n",
       "  <thead>\n",
       "    <tr style=\"text-align: right;\">\n",
       "      <th></th>\n",
       "      <th>prot</th>\n",
       "      <th>cath</th>\n",
       "      <th>other</th>\n",
       "      <th>none</th>\n",
       "    </tr>\n",
       "  </thead>\n",
       "  <tbody>\n",
       "    <tr>\n",
       "      <th>2016</th>\n",
       "      <td>0.481226</td>\n",
       "      <td>0.262590</td>\n",
       "      <td>0.088834</td>\n",
       "      <td>0.203897</td>\n",
       "    </tr>\n",
       "    <tr>\n",
       "      <th>2017</th>\n",
       "      <td>0.475024</td>\n",
       "      <td>0.262342</td>\n",
       "      <td>0.090886</td>\n",
       "      <td>0.210548</td>\n",
       "    </tr>\n",
       "    <tr>\n",
       "      <th>2018</th>\n",
       "      <td>0.470783</td>\n",
       "      <td>0.262069</td>\n",
       "      <td>0.092389</td>\n",
       "      <td>0.215414</td>\n",
       "    </tr>\n",
       "    <tr>\n",
       "      <th>2019</th>\n",
       "      <td>0.465819</td>\n",
       "      <td>0.261865</td>\n",
       "      <td>0.094061</td>\n",
       "      <td>0.220792</td>\n",
       "    </tr>\n",
       "    <tr>\n",
       "      <th>2020</th>\n",
       "      <td>0.460926</td>\n",
       "      <td>0.261591</td>\n",
       "      <td>0.095780</td>\n",
       "      <td>0.226313</td>\n",
       "    </tr>\n",
       "    <tr>\n",
       "      <th>2021</th>\n",
       "      <td>0.454283</td>\n",
       "      <td>0.261162</td>\n",
       "      <td>0.098139</td>\n",
       "      <td>0.233918</td>\n",
       "    </tr>\n",
       "    <tr>\n",
       "      <th>2022</th>\n",
       "      <td>0.449319</td>\n",
       "      <td>0.260843</td>\n",
       "      <td>0.099930</td>\n",
       "      <td>0.239647</td>\n",
       "    </tr>\n",
       "    <tr>\n",
       "      <th>2023</th>\n",
       "      <td>0.443620</td>\n",
       "      <td>0.260447</td>\n",
       "      <td>0.101991</td>\n",
       "      <td>0.246256</td>\n",
       "    </tr>\n",
       "    <tr>\n",
       "      <th>2024</th>\n",
       "      <td>0.437979</td>\n",
       "      <td>0.259984</td>\n",
       "      <td>0.104141</td>\n",
       "      <td>0.253082</td>\n",
       "    </tr>\n",
       "    <tr>\n",
       "      <th>2025</th>\n",
       "      <td>0.432611</td>\n",
       "      <td>0.259552</td>\n",
       "      <td>0.106175</td>\n",
       "      <td>0.259528</td>\n",
       "    </tr>\n",
       "    <tr>\n",
       "      <th>2026</th>\n",
       "      <td>0.427153</td>\n",
       "      <td>0.259066</td>\n",
       "      <td>0.108291</td>\n",
       "      <td>0.266226</td>\n",
       "    </tr>\n",
       "    <tr>\n",
       "      <th>2027</th>\n",
       "      <td>0.422631</td>\n",
       "      <td>0.258643</td>\n",
       "      <td>0.110105</td>\n",
       "      <td>0.271887</td>\n",
       "    </tr>\n",
       "    <tr>\n",
       "      <th>2028</th>\n",
       "      <td>0.416310</td>\n",
       "      <td>0.258033</td>\n",
       "      <td>0.112637</td>\n",
       "      <td>0.279816</td>\n",
       "    </tr>\n",
       "    <tr>\n",
       "      <th>2029</th>\n",
       "      <td>0.410235</td>\n",
       "      <td>0.257446</td>\n",
       "      <td>0.115071</td>\n",
       "      <td>0.287423</td>\n",
       "    </tr>\n",
       "    <tr>\n",
       "      <th>2030</th>\n",
       "      <td>0.404835</td>\n",
       "      <td>0.256852</td>\n",
       "      <td>0.117358</td>\n",
       "      <td>0.294465</td>\n",
       "    </tr>\n",
       "    <tr>\n",
       "      <th>2031</th>\n",
       "      <td>0.399781</td>\n",
       "      <td>0.256300</td>\n",
       "      <td>0.119492</td>\n",
       "      <td>0.301011</td>\n",
       "    </tr>\n",
       "    <tr>\n",
       "      <th>2032</th>\n",
       "      <td>0.393596</td>\n",
       "      <td>0.255581</td>\n",
       "      <td>0.122167</td>\n",
       "      <td>0.309188</td>\n",
       "    </tr>\n",
       "    <tr>\n",
       "      <th>2033</th>\n",
       "      <td>0.387800</td>\n",
       "      <td>0.254876</td>\n",
       "      <td>0.124735</td>\n",
       "      <td>0.316954</td>\n",
       "    </tr>\n",
       "    <tr>\n",
       "      <th>2034</th>\n",
       "      <td>0.382357</td>\n",
       "      <td>0.254179</td>\n",
       "      <td>0.127200</td>\n",
       "      <td>0.324366</td>\n",
       "    </tr>\n",
       "    <tr>\n",
       "      <th>2035</th>\n",
       "      <td>0.376617</td>\n",
       "      <td>0.253456</td>\n",
       "      <td>0.129803</td>\n",
       "      <td>0.332134</td>\n",
       "    </tr>\n",
       "    <tr>\n",
       "      <th>2036</th>\n",
       "      <td>0.370880</td>\n",
       "      <td>0.252637</td>\n",
       "      <td>0.132556</td>\n",
       "      <td>0.340239</td>\n",
       "    </tr>\n",
       "    <tr>\n",
       "      <th>2037</th>\n",
       "      <td>0.365122</td>\n",
       "      <td>0.251823</td>\n",
       "      <td>0.135329</td>\n",
       "      <td>0.348347</td>\n",
       "    </tr>\n",
       "    <tr>\n",
       "      <th>2038</th>\n",
       "      <td>0.359437</td>\n",
       "      <td>0.251021</td>\n",
       "      <td>0.138075</td>\n",
       "      <td>0.356316</td>\n",
       "    </tr>\n",
       "    <tr>\n",
       "      <th>2039</th>\n",
       "      <td>0.353639</td>\n",
       "      <td>0.250149</td>\n",
       "      <td>0.140966</td>\n",
       "      <td>0.364650</td>\n",
       "    </tr>\n",
       "    <tr>\n",
       "      <th>2040</th>\n",
       "      <td>0.348892</td>\n",
       "      <td>0.249350</td>\n",
       "      <td>0.143511</td>\n",
       "      <td>0.371772</td>\n",
       "    </tr>\n",
       "    <tr>\n",
       "      <th>2041</th>\n",
       "      <td>0.342744</td>\n",
       "      <td>0.248397</td>\n",
       "      <td>0.146664</td>\n",
       "      <td>0.380685</td>\n",
       "    </tr>\n",
       "    <tr>\n",
       "      <th>2042</th>\n",
       "      <td>0.337747</td>\n",
       "      <td>0.247513</td>\n",
       "      <td>0.149466</td>\n",
       "      <td>0.388316</td>\n",
       "    </tr>\n",
       "    <tr>\n",
       "      <th>2043</th>\n",
       "      <td>0.331216</td>\n",
       "      <td>0.246445</td>\n",
       "      <td>0.152927</td>\n",
       "      <td>0.397964</td>\n",
       "    </tr>\n",
       "    <tr>\n",
       "      <th>2044</th>\n",
       "      <td>0.325429</td>\n",
       "      <td>0.245399</td>\n",
       "      <td>0.156213</td>\n",
       "      <td>0.406856</td>\n",
       "    </tr>\n",
       "    <tr>\n",
       "      <th>2045</th>\n",
       "      <td>0.320101</td>\n",
       "      <td>0.244419</td>\n",
       "      <td>0.159326</td>\n",
       "      <td>0.415070</td>\n",
       "    </tr>\n",
       "    <tr>\n",
       "      <th>2046</th>\n",
       "      <td>0.314520</td>\n",
       "      <td>0.243377</td>\n",
       "      <td>0.162594</td>\n",
       "      <td>0.423731</td>\n",
       "    </tr>\n",
       "    <tr>\n",
       "      <th>2047</th>\n",
       "      <td>0.309187</td>\n",
       "      <td>0.242354</td>\n",
       "      <td>0.165820</td>\n",
       "      <td>0.432076</td>\n",
       "    </tr>\n",
       "    <tr>\n",
       "      <th>2048</th>\n",
       "      <td>0.303454</td>\n",
       "      <td>0.241202</td>\n",
       "      <td>0.169396</td>\n",
       "      <td>0.441217</td>\n",
       "    </tr>\n",
       "    <tr>\n",
       "      <th>2049</th>\n",
       "      <td>0.297985</td>\n",
       "      <td>0.240164</td>\n",
       "      <td>0.172670</td>\n",
       "      <td>0.449710</td>\n",
       "    </tr>\n",
       "  </tbody>\n",
       "</table>\n",
       "</div>"
      ],
      "text/plain": [
       "          prot      cath     other      none\n",
       "2016  0.481226  0.262590  0.088834  0.203897\n",
       "2017  0.475024  0.262342  0.090886  0.210548\n",
       "2018  0.470783  0.262069  0.092389  0.215414\n",
       "2019  0.465819  0.261865  0.094061  0.220792\n",
       "2020  0.460926  0.261591  0.095780  0.226313\n",
       "2021  0.454283  0.261162  0.098139  0.233918\n",
       "2022  0.449319  0.260843  0.099930  0.239647\n",
       "2023  0.443620  0.260447  0.101991  0.246256\n",
       "2024  0.437979  0.259984  0.104141  0.253082\n",
       "2025  0.432611  0.259552  0.106175  0.259528\n",
       "2026  0.427153  0.259066  0.108291  0.266226\n",
       "2027  0.422631  0.258643  0.110105  0.271887\n",
       "2028  0.416310  0.258033  0.112637  0.279816\n",
       "2029  0.410235  0.257446  0.115071  0.287423\n",
       "2030  0.404835  0.256852  0.117358  0.294465\n",
       "2031  0.399781  0.256300  0.119492  0.301011\n",
       "2032  0.393596  0.255581  0.122167  0.309188\n",
       "2033  0.387800  0.254876  0.124735  0.316954\n",
       "2034  0.382357  0.254179  0.127200  0.324366\n",
       "2035  0.376617  0.253456  0.129803  0.332134\n",
       "2036  0.370880  0.252637  0.132556  0.340239\n",
       "2037  0.365122  0.251823  0.135329  0.348347\n",
       "2038  0.359437  0.251021  0.138075  0.356316\n",
       "2039  0.353639  0.250149  0.140966  0.364650\n",
       "2040  0.348892  0.249350  0.143511  0.371772\n",
       "2041  0.342744  0.248397  0.146664  0.380685\n",
       "2042  0.337747  0.247513  0.149466  0.388316\n",
       "2043  0.331216  0.246445  0.152927  0.397964\n",
       "2044  0.325429  0.245399  0.156213  0.406856\n",
       "2045  0.320101  0.244419  0.159326  0.415070\n",
       "2046  0.314520  0.243377  0.162594  0.423731\n",
       "2047  0.309187  0.242354  0.165820  0.432076\n",
       "2048  0.303454  0.241202  0.169396  0.441217\n",
       "2049  0.297985  0.240164  0.172670  0.449710"
      ]
     },
     "execution_count": 90,
     "metadata": {},
     "output_type": "execute_result"
    }
   ],
   "source": [
    "df"
   ]
  },
  {
   "cell_type": "code",
   "execution_count": 91,
   "metadata": {
    "collapsed": false
   },
   "outputs": [
    {
     "data": {
      "text/plain": [
       "<matplotlib.axes._subplots.AxesSubplot at 0x7fb904688810>"
      ]
     },
     "execution_count": 91,
     "metadata": {},
     "output_type": "execute_result"
    },
    {
     "data": {
      "image/png": "[encoded data removed]",
      "text/plain": [
       "<matplotlib.figure.Figure at 0x7fb9045e9290>"
      ]
     },
     "metadata": {},
     "output_type": "display_data"
    }
   ],
   "source": [
    "df.plot()"
   ]
  },
  {
   "cell_type": "code",
   "execution_count": null,
   "metadata": {
    "collapsed": true
   },
   "outputs": [],
   "source": []
  }
 ],
 "metadata": {
  "kernelspec": {
   "display_name": "Python 2",
   "language": "python",
   "name": "python2"
  },
  "language_info": {
   "codemirror_mode": {
    "name": "ipython",
    "version": 2
   },
   "file_extension": ".py",
   "mimetype": "text/x-python",
   "name": "python",
   "nbconvert_exporter": "python",
   "pygments_lexer": "ipython2",
   "version": "2.7.11"
  }
 },
 "nbformat": 4,
 "nbformat_minor": 0
}
