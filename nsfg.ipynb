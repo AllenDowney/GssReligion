{
 "metadata": {
  "name": "",
  "signature": "sha256:ae2fc62879292c16be7e6f6ed8593be3aa8b875935e8f673e6199c151fdfd58e"
 },
 "nbformat": 3,
 "nbformat_minor": 0,
 "worksheets": [
  {
   "cells": [
    {
     "cell_type": "code",
     "collapsed": false,
     "input": [
      "from __future__ import print_function, division\n",
      "\n",
      "import numpy as np\n",
      "import nsfg\n",
      "import pandas\n",
      "\n",
      "import thinkstats2"
     ],
     "language": "python",
     "metadata": {},
     "outputs": [],
     "prompt_number": 1
    },
    {
     "cell_type": "code",
     "collapsed": false,
     "input": [
      "male2002 = nsfg.ReadMale2002()"
     ],
     "language": "python",
     "metadata": {},
     "outputs": [],
     "prompt_number": 2
    },
    {
     "cell_type": "code",
     "collapsed": false,
     "input": [
      "chdobs = [name for name in male2002.columns if name.startswith('cmchdob')]"
     ],
     "language": "python",
     "metadata": {},
     "outputs": [],
     "prompt_number": 3
    },
    {
     "cell_type": "code",
     "collapsed": false,
     "input": [
      "male2002.religion.value_counts().sort_index()"
     ],
     "language": "python",
     "metadata": {},
     "outputs": [
      {
       "metadata": {},
       "output_type": "pyout",
       "prompt_number": 4,
       "text": [
        "1     976\n",
        "2    1474\n",
        "3    2024\n",
        "4     454\n",
        "dtype: int64"
       ]
      }
     ],
     "prompt_number": 4
    },
    {
     "cell_type": "code",
     "collapsed": false,
     "input": [
      "male2010 = nsfg.ReadMale2010()"
     ],
     "language": "python",
     "metadata": {},
     "outputs": [],
     "prompt_number": 5
    },
    {
     "cell_type": "code",
     "collapsed": false,
     "input": [
      "male2010.religion.value_counts().sort_index()"
     ],
     "language": "python",
     "metadata": {},
     "outputs": [
      {
       "metadata": {},
       "output_type": "pyout",
       "prompt_number": 6,
       "text": [
        "1    2548\n",
        "2    2734\n",
        "3    4261\n",
        "4     860\n",
        "dtype: int64"
       ]
      }
     ],
     "prompt_number": 6
    },
    {
     "cell_type": "code",
     "collapsed": false,
     "input": [
      "def process_male(male):\n",
      "    chdob_cols = [col for col in male.columns if col.startswith('cmchdob')]\n",
      "    chdob = male[chdob_cols]\n",
      "    chdob.replace([9998, 9999], np.nan, inplace=True)\n",
      "\n",
      "    male['age_at_births'] = pandas.Series(dtype='object')\n",
      "\n",
      "    for i, row in male.iterrows():\n",
      "        dobs = np.sort(chdob.loc[i].dropna().unique())\n",
      "        male.age_at_births[i] = (dobs - row.cmbirth).astype(int) // 12    "
     ],
     "language": "python",
     "metadata": {},
     "outputs": [],
     "prompt_number": 7
    },
    {
     "cell_type": "code",
     "collapsed": false,
     "input": [
      "process_male(male2002)"
     ],
     "language": "python",
     "metadata": {},
     "outputs": [
      {
       "output_type": "stream",
       "stream": "stderr",
       "text": [
        "-c:4: SettingWithCopyWarning: A value is trying to be set on a copy of a slice from a DataFrame\n"
       ]
      }
     ],
     "prompt_number": 8
    },
    {
     "cell_type": "code",
     "collapsed": false,
     "input": [
      "process_male(male2010)"
     ],
     "language": "python",
     "metadata": {},
     "outputs": [],
     "prompt_number": 9
    },
    {
     "cell_type": "code",
     "collapsed": false,
     "input": [
      "male2002.age_at_births[9]"
     ],
     "language": "python",
     "metadata": {},
     "outputs": [
      {
       "metadata": {},
       "output_type": "pyout",
       "prompt_number": 10,
       "text": [
        "array([18, 18, 19, 25, 28])"
       ]
      }
     ],
     "prompt_number": 10
    },
    {
     "cell_type": "code",
     "collapsed": false,
     "input": [
      "male2010.age_at_births[8]"
     ],
     "language": "python",
     "metadata": {},
     "outputs": [
      {
       "metadata": {},
       "output_type": "pyout",
       "prompt_number": 11,
       "text": [
        "array([34, 42])"
       ]
      }
     ],
     "prompt_number": 11
    },
    {
     "cell_type": "code",
     "collapsed": false,
     "input": [
      "resp = nsfg.ReadFemResp2002()"
     ],
     "language": "python",
     "metadata": {},
     "outputs": [],
     "prompt_number": 12
    },
    {
     "cell_type": "code",
     "collapsed": false,
     "input": [
      "reload(nsfg)\n",
      "preg = nsfg.ReadFemPreg2002()\n",
      "sum(preg.cmintfin.isnull())"
     ],
     "language": "python",
     "metadata": {},
     "outputs": [
      {
       "metadata": {},
       "output_type": "pyout",
       "prompt_number": 95,
       "text": [
        "539"
       ]
      }
     ],
     "prompt_number": 95
    },
    {
     "cell_type": "code",
     "collapsed": false,
     "input": [
      "preg.loc[preg.outcome==1, 'age_at_birth'] = (preg.cmintfin - preg.cmbirth) // 12\n",
      "sum(preg.age_at_birth < 0)"
     ],
     "language": "python",
     "metadata": {},
     "outputs": [
      {
       "metadata": {},
       "output_type": "pyout",
       "prompt_number": 99,
       "text": [
        "0"
       ]
      }
     ],
     "prompt_number": 99
    },
    {
     "cell_type": "code",
     "collapsed": false,
     "input": [
      "preg.loc[preg.outcome==1, 'age_at_birth'] = (preg.cmintfin - preg.cmbirth) // 12"
     ],
     "language": "python",
     "metadata": {},
     "outputs": [],
     "prompt_number": 13
    },
    {
     "cell_type": "code",
     "collapsed": false,
     "input": [
      "grouped = preg[['caseid', 'age_at_birth']].groupby('caseid')"
     ],
     "language": "python",
     "metadata": {},
     "outputs": [],
     "prompt_number": 14
    },
    {
     "cell_type": "code",
     "collapsed": false,
     "input": [
      "grouped.get_group(1)"
     ],
     "language": "python",
     "metadata": {},
     "outputs": [
      {
       "html": [
        "<div style=\"max-height:1000px;max-width:1500px;overflow:auto;\">\n",
        "<table border=\"1\" class=\"dataframe\">\n",
        "  <thead>\n",
        "    <tr style=\"text-align: right;\">\n",
        "      <th></th>\n",
        "      <th>caseid</th>\n",
        "      <th>age_at_birth</th>\n",
        "    </tr>\n",
        "  </thead>\n",
        "  <tbody>\n",
        "    <tr>\n",
        "      <th>0</th>\n",
        "      <td> 1</td>\n",
        "      <td> 33</td>\n",
        "    </tr>\n",
        "    <tr>\n",
        "      <th>1</th>\n",
        "      <td> 1</td>\n",
        "      <td> 39</td>\n",
        "    </tr>\n",
        "  </tbody>\n",
        "</table>\n",
        "</div>"
       ],
       "metadata": {},
       "output_type": "pyout",
       "prompt_number": 15,
       "text": [
        "   caseid  age_at_birth\n",
        "0       1            33\n",
        "1       1            39"
       ]
      }
     ],
     "prompt_number": 15
    },
    {
     "cell_type": "code",
     "collapsed": false,
     "input": [
      "applied = grouped.apply(lambda x: x.age_at_birth.values)"
     ],
     "language": "python",
     "metadata": {},
     "outputs": [],
     "prompt_number": 16
    },
    {
     "cell_type": "code",
     "collapsed": false,
     "input": [
      "applied[1]"
     ],
     "language": "python",
     "metadata": {},
     "outputs": [
      {
       "metadata": {},
       "output_type": "pyout",
       "prompt_number": 17,
       "text": [
        "array([ 33.,  39.])"
       ]
      }
     ],
     "prompt_number": 17
    },
    {
     "cell_type": "code",
     "collapsed": false,
     "input": [
      "resp['age_at_births'] = applied"
     ],
     "language": "python",
     "metadata": {},
     "outputs": [],
     "prompt_number": 18
    },
    {
     "cell_type": "code",
     "collapsed": false,
     "input": [
      "resp.age_at_births[1]"
     ],
     "language": "python",
     "metadata": {},
     "outputs": [
      {
       "metadata": {},
       "output_type": "pyout",
       "prompt_number": 19,
       "text": [
        "array([ 33.,  39.])"
       ]
      }
     ],
     "prompt_number": 19
    },
    {
     "cell_type": "code",
     "collapsed": false,
     "input": [
      "def process_female(resp, preg):\n",
      "    live = preg[preg.outcome==1]\n",
      "    live['age_at_birth'] = (preg.cmintfin - preg.cmbirth) // 12\n",
      "    grouped = live[['caseid', 'age_at_birth']].groupby('caseid')\n",
      "    applied = grouped.apply(lambda x: x.age_at_birth.values.astype(int))\n",
      "    resp['age_at_births'] = applied\n",
      "    resp.age_at_births.fillna([])"
     ],
     "language": "python",
     "metadata": {},
     "outputs": [],
     "prompt_number": 106
    },
    {
     "cell_type": "code",
     "collapsed": false,
     "input": [
      "process_female(resp, preg)\n",
      "resp.age_at_births"
     ],
     "language": "python",
     "metadata": {},
     "outputs": [
      {
       "ename": "TypeError",
       "evalue": "\"value\" parameter must be a scalar or dict, but you passed a \"list\"",
       "output_type": "pyerr",
       "traceback": [
        "\u001b[1;31m---------------------------------------------------------------------------\u001b[0m\n\u001b[1;31mTypeError\u001b[0m                                 Traceback (most recent call last)",
        "\u001b[1;32m<ipython-input-107-d39ea8d45248>\u001b[0m in \u001b[0;36m<module>\u001b[1;34m()\u001b[0m\n\u001b[1;32m----> 1\u001b[1;33m \u001b[0mprocess_female\u001b[0m\u001b[1;33m(\u001b[0m\u001b[0mresp\u001b[0m\u001b[1;33m,\u001b[0m \u001b[0mpreg\u001b[0m\u001b[1;33m)\u001b[0m\u001b[1;33m\u001b[0m\u001b[0m\n\u001b[0m\u001b[0;32m      2\u001b[0m \u001b[0mresp\u001b[0m\u001b[1;33m.\u001b[0m\u001b[0mage_at_births\u001b[0m\u001b[1;33m\u001b[0m\u001b[0m\n",
        "\u001b[1;32m<ipython-input-106-114f5fcbb8e5>\u001b[0m in \u001b[0;36mprocess_female\u001b[1;34m(resp, preg)\u001b[0m\n\u001b[0;32m      5\u001b[0m     \u001b[0mapplied\u001b[0m \u001b[1;33m=\u001b[0m \u001b[0mgrouped\u001b[0m\u001b[1;33m.\u001b[0m\u001b[0mapply\u001b[0m\u001b[1;33m(\u001b[0m\u001b[1;32mlambda\u001b[0m \u001b[0mx\u001b[0m\u001b[1;33m:\u001b[0m \u001b[0mx\u001b[0m\u001b[1;33m.\u001b[0m\u001b[0mage_at_birth\u001b[0m\u001b[1;33m.\u001b[0m\u001b[0mvalues\u001b[0m\u001b[1;33m.\u001b[0m\u001b[0mastype\u001b[0m\u001b[1;33m(\u001b[0m\u001b[0mint\u001b[0m\u001b[1;33m)\u001b[0m\u001b[1;33m)\u001b[0m\u001b[1;33m\u001b[0m\u001b[0m\n\u001b[0;32m      6\u001b[0m     \u001b[0mresp\u001b[0m\u001b[1;33m[\u001b[0m\u001b[1;34m'age_at_births'\u001b[0m\u001b[1;33m]\u001b[0m \u001b[1;33m=\u001b[0m \u001b[0mapplied\u001b[0m\u001b[1;33m\u001b[0m\u001b[0m\n\u001b[1;32m----> 7\u001b[1;33m     \u001b[0mresp\u001b[0m\u001b[1;33m.\u001b[0m\u001b[0mage_at_births\u001b[0m\u001b[1;33m.\u001b[0m\u001b[0mfillna\u001b[0m\u001b[1;33m(\u001b[0m\u001b[1;33m[\u001b[0m\u001b[1;33m]\u001b[0m\u001b[1;33m)\u001b[0m\u001b[1;33m\u001b[0m\u001b[0m\n\u001b[0m",
        "\u001b[1;32m/home/downey/anaconda/lib/python2.7/site-packages/pandas/core/generic.pyc\u001b[0m in \u001b[0;36mfillna\u001b[1;34m(self, value, method, axis, inplace, limit, downcast)\u001b[0m\n\u001b[0;32m   2143\u001b[0m         \u001b[1;32mif\u001b[0m \u001b[0misinstance\u001b[0m\u001b[1;33m(\u001b[0m\u001b[0mvalue\u001b[0m\u001b[1;33m,\u001b[0m \u001b[1;33m(\u001b[0m\u001b[0mlist\u001b[0m\u001b[1;33m,\u001b[0m \u001b[0mtuple\u001b[0m\u001b[1;33m)\u001b[0m\u001b[1;33m)\u001b[0m\u001b[1;33m:\u001b[0m\u001b[1;33m\u001b[0m\u001b[0m\n\u001b[0;32m   2144\u001b[0m             raise TypeError('\"value\" parameter must be a scalar or dict, but '\n\u001b[1;32m-> 2145\u001b[1;33m                             'you passed a \"{0}\"'.format(type(value).__name__))\n\u001b[0m\u001b[0;32m   2146\u001b[0m         \u001b[0mself\u001b[0m\u001b[1;33m.\u001b[0m\u001b[0m_consolidate_inplace\u001b[0m\u001b[1;33m(\u001b[0m\u001b[1;33m)\u001b[0m\u001b[1;33m\u001b[0m\u001b[0m\n\u001b[0;32m   2147\u001b[0m \u001b[1;33m\u001b[0m\u001b[0m\n",
        "\u001b[1;31mTypeError\u001b[0m: \"value\" parameter must be a scalar or dict, but you passed a \"list\""
       ]
      }
     ],
     "prompt_number": 107
    },
    {
     "cell_type": "code",
     "collapsed": false,
     "input": [
      "def procreation_curve(resp):\n",
      "\n",
      "    ages = np.concatenate(resp.age_at_births)\n",
      "    low, high = min(ages), max(ages)\n",
      "    high = max(high, max(resp.age)-1)\n",
      "\n",
      "    ages = range(low, high+1)\n",
      "    df = pandas.DataFrame(data=np.zeros((len(ages), 2)), columns=['observed', 'begat'], index=ages)\n",
      "\n",
      "    for i, row in resp.iterrows():\n",
      "        df.observed.loc[low:row.age-1] += 1\n",
      "        df.begat.loc[row.age_at_births] += 1\n",
      "        \n",
      "    df['prob'] = df.begat / df.observed\n",
      "    df['lodb'] = np.log10(df.prob) * 10\n",
      "    df['proc'] = np.cumsum(df.prob)\n",
      "    \n",
      "    return df"
     ],
     "language": "python",
     "metadata": {},
     "outputs": [],
     "prompt_number": 63
    },
    {
     "cell_type": "code",
     "collapsed": false,
     "input": [
      "df = procreation_curve(male2002)\n",
      "df"
     ],
     "language": "python",
     "metadata": {},
     "outputs": [
      {
       "html": [
        "<div style=\"max-height:1000px;max-width:1500px;overflow:auto;\">\n",
        "<table border=\"1\" class=\"dataframe\">\n",
        "  <thead>\n",
        "    <tr style=\"text-align: right;\">\n",
        "      <th></th>\n",
        "      <th>observed</th>\n",
        "      <th>begat</th>\n",
        "      <th>prob</th>\n",
        "      <th>lodb</th>\n",
        "      <th>proc</th>\n",
        "    </tr>\n",
        "  </thead>\n",
        "  <tbody>\n",
        "    <tr>\n",
        "      <th>12</th>\n",
        "      <td> 4928</td>\n",
        "      <td>   2</td>\n",
        "      <td> 0.000406</td>\n",
        "      <td>-33.916407</td>\n",
        "      <td> 0.000406</td>\n",
        "    </tr>\n",
        "    <tr>\n",
        "      <th>13</th>\n",
        "      <td> 4928</td>\n",
        "      <td>   3</td>\n",
        "      <td> 0.000609</td>\n",
        "      <td>-32.155494</td>\n",
        "      <td> 0.001015</td>\n",
        "    </tr>\n",
        "    <tr>\n",
        "      <th>14</th>\n",
        "      <td> 4928</td>\n",
        "      <td>   4</td>\n",
        "      <td> 0.000812</td>\n",
        "      <td>-30.906107</td>\n",
        "      <td> 0.001826</td>\n",
        "    </tr>\n",
        "    <tr>\n",
        "      <th>15</th>\n",
        "      <td> 4734</td>\n",
        "      <td>  13</td>\n",
        "      <td> 0.002746</td>\n",
        "      <td>-25.612849</td>\n",
        "      <td> 0.004572</td>\n",
        "    </tr>\n",
        "    <tr>\n",
        "      <th>16</th>\n",
        "      <td> 4499</td>\n",
        "      <td>  20</td>\n",
        "      <td> 0.004445</td>\n",
        "      <td>-23.520860</td>\n",
        "      <td> 0.009018</td>\n",
        "    </tr>\n",
        "    <tr>\n",
        "      <th>17</th>\n",
        "      <td> 4307</td>\n",
        "      <td>  64</td>\n",
        "      <td> 0.014860</td>\n",
        "      <td>-18.279949</td>\n",
        "      <td> 0.023877</td>\n",
        "    </tr>\n",
        "    <tr>\n",
        "      <th>18</th>\n",
        "      <td> 4036</td>\n",
        "      <td> 108</td>\n",
        "      <td> 0.026759</td>\n",
        "      <td>-15.725274</td>\n",
        "      <td> 0.050637</td>\n",
        "    </tr>\n",
        "    <tr>\n",
        "      <th>19</th>\n",
        "      <td> 3812</td>\n",
        "      <td> 136</td>\n",
        "      <td> 0.035677</td>\n",
        "      <td>-14.476140</td>\n",
        "      <td> 0.086313</td>\n",
        "    </tr>\n",
        "    <tr>\n",
        "      <th>20</th>\n",
        "      <td> 3621</td>\n",
        "      <td> 168</td>\n",
        "      <td> 0.046396</td>\n",
        "      <td>-13.335192</td>\n",
        "      <td> 0.132709</td>\n",
        "    </tr>\n",
        "    <tr>\n",
        "      <th>21</th>\n",
        "      <td> 3439</td>\n",
        "      <td> 186</td>\n",
        "      <td> 0.054085</td>\n",
        "      <td>-12.669192</td>\n",
        "      <td> 0.186795</td>\n",
        "    </tr>\n",
        "    <tr>\n",
        "      <th>22</th>\n",
        "      <td> 3249</td>\n",
        "      <td> 217</td>\n",
        "      <td> 0.066790</td>\n",
        "      <td>-11.752900</td>\n",
        "      <td> 0.253585</td>\n",
        "    </tr>\n",
        "    <tr>\n",
        "      <th>23</th>\n",
        "      <td> 3079</td>\n",
        "      <td> 233</td>\n",
        "      <td> 0.075674</td>\n",
        "      <td>-11.210538</td>\n",
        "      <td> 0.329259</td>\n",
        "    </tr>\n",
        "    <tr>\n",
        "      <th>24</th>\n",
        "      <td> 2875</td>\n",
        "      <td> 221</td>\n",
        "      <td> 0.076870</td>\n",
        "      <td>-11.142456</td>\n",
        "      <td> 0.406128</td>\n",
        "    </tr>\n",
        "    <tr>\n",
        "      <th>25</th>\n",
        "      <td> 2753</td>\n",
        "      <td> 210</td>\n",
        "      <td> 0.076280</td>\n",
        "      <td>-11.175869</td>\n",
        "      <td> 0.482409</td>\n",
        "    </tr>\n",
        "    <tr>\n",
        "      <th>26</th>\n",
        "      <td> 2606</td>\n",
        "      <td> 197</td>\n",
        "      <td> 0.075595</td>\n",
        "      <td>-11.215082</td>\n",
        "      <td> 0.558003</td>\n",
        "    </tr>\n",
        "    <tr>\n",
        "      <th>27</th>\n",
        "      <td> 2461</td>\n",
        "      <td> 218</td>\n",
        "      <td> 0.088582</td>\n",
        "      <td>-10.526551</td>\n",
        "      <td> 0.646585</td>\n",
        "    </tr>\n",
        "    <tr>\n",
        "      <th>28</th>\n",
        "      <td> 2309</td>\n",
        "      <td> 219</td>\n",
        "      <td> 0.094846</td>\n",
        "      <td>-10.229798</td>\n",
        "      <td> 0.741431</td>\n",
        "    </tr>\n",
        "    <tr>\n",
        "      <th>29</th>\n",
        "      <td> 2167</td>\n",
        "      <td> 167</td>\n",
        "      <td> 0.077065</td>\n",
        "      <td>-11.131424</td>\n",
        "      <td> 0.818497</td>\n",
        "    </tr>\n",
        "    <tr>\n",
        "      <th>30</th>\n",
        "      <td> 2033</td>\n",
        "      <td> 163</td>\n",
        "      <td> 0.080177</td>\n",
        "      <td>-10.959498</td>\n",
        "      <td> 0.898674</td>\n",
        "    </tr>\n",
        "    <tr>\n",
        "      <th>31</th>\n",
        "      <td> 1894</td>\n",
        "      <td> 156</td>\n",
        "      <td> 0.082365</td>\n",
        "      <td>-10.842554</td>\n",
        "      <td> 0.981039</td>\n",
        "    </tr>\n",
        "    <tr>\n",
        "      <th>32</th>\n",
        "      <td> 1747</td>\n",
        "      <td> 120</td>\n",
        "      <td> 0.068689</td>\n",
        "      <td>-11.631117</td>\n",
        "      <td> 1.049728</td>\n",
        "    </tr>\n",
        "    <tr>\n",
        "      <th>33</th>\n",
        "      <td> 1592</td>\n",
        "      <td> 120</td>\n",
        "      <td> 0.075377</td>\n",
        "      <td>-11.227618</td>\n",
        "      <td> 1.125105</td>\n",
        "    </tr>\n",
        "    <tr>\n",
        "      <th>34</th>\n",
        "      <td> 1445</td>\n",
        "      <td>  82</td>\n",
        "      <td> 0.056747</td>\n",
        "      <td>-12.460540</td>\n",
        "      <td> 1.181852</td>\n",
        "    </tr>\n",
        "    <tr>\n",
        "      <th>35</th>\n",
        "      <td> 1298</td>\n",
        "      <td>  81</td>\n",
        "      <td> 0.062404</td>\n",
        "      <td>-12.047897</td>\n",
        "      <td> 1.244256</td>\n",
        "    </tr>\n",
        "    <tr>\n",
        "      <th>36</th>\n",
        "      <td> 1150</td>\n",
        "      <td>  54</td>\n",
        "      <td> 0.046957</td>\n",
        "      <td>-13.283041</td>\n",
        "      <td> 1.291213</td>\n",
        "    </tr>\n",
        "    <tr>\n",
        "      <th>37</th>\n",
        "      <td> 1003</td>\n",
        "      <td>  51</td>\n",
        "      <td> 0.050847</td>\n",
        "      <td>-12.937308</td>\n",
        "      <td> 1.342060</td>\n",
        "    </tr>\n",
        "    <tr>\n",
        "      <th>38</th>\n",
        "      <td>  848</td>\n",
        "      <td>  36</td>\n",
        "      <td> 0.042453</td>\n",
        "      <td>-13.720934</td>\n",
        "      <td> 1.384513</td>\n",
        "    </tr>\n",
        "    <tr>\n",
        "      <th>39</th>\n",
        "      <td>  696</td>\n",
        "      <td>  21</td>\n",
        "      <td> 0.030172</td>\n",
        "      <td>-15.203899</td>\n",
        "      <td> 1.414685</td>\n",
        "    </tr>\n",
        "    <tr>\n",
        "      <th>40</th>\n",
        "      <td>  561</td>\n",
        "      <td>  20</td>\n",
        "      <td> 0.035651</td>\n",
        "      <td>-14.479329</td>\n",
        "      <td> 1.450336</td>\n",
        "    </tr>\n",
        "    <tr>\n",
        "      <th>41</th>\n",
        "      <td>  407</td>\n",
        "      <td>  11</td>\n",
        "      <td> 0.027027</td>\n",
        "      <td>-15.682017</td>\n",
        "      <td> 1.477363</td>\n",
        "    </tr>\n",
        "    <tr>\n",
        "      <th>42</th>\n",
        "      <td>  284</td>\n",
        "      <td>   6</td>\n",
        "      <td> 0.021127</td>\n",
        "      <td>-16.751671</td>\n",
        "      <td> 1.498490</td>\n",
        "    </tr>\n",
        "    <tr>\n",
        "      <th>43</th>\n",
        "      <td>  142</td>\n",
        "      <td>   1</td>\n",
        "      <td> 0.007042</td>\n",
        "      <td>-21.522883</td>\n",
        "      <td> 1.505532</td>\n",
        "    </tr>\n",
        "    <tr>\n",
        "      <th>44</th>\n",
        "      <td>   10</td>\n",
        "      <td>   0</td>\n",
        "      <td> 0.000000</td>\n",
        "      <td>      -inf</td>\n",
        "      <td> 1.505532</td>\n",
        "    </tr>\n",
        "  </tbody>\n",
        "</table>\n",
        "</div>"
       ],
       "metadata": {},
       "output_type": "pyout",
       "prompt_number": 64,
       "text": [
        "    observed  begat      prob       lodb      proc\n",
        "12      4928      2  0.000406 -33.916407  0.000406\n",
        "13      4928      3  0.000609 -32.155494  0.001015\n",
        "14      4928      4  0.000812 -30.906107  0.001826\n",
        "15      4734     13  0.002746 -25.612849  0.004572\n",
        "16      4499     20  0.004445 -23.520860  0.009018\n",
        "17      4307     64  0.014860 -18.279949  0.023877\n",
        "18      4036    108  0.026759 -15.725274  0.050637\n",
        "19      3812    136  0.035677 -14.476140  0.086313\n",
        "20      3621    168  0.046396 -13.335192  0.132709\n",
        "21      3439    186  0.054085 -12.669192  0.186795\n",
        "22      3249    217  0.066790 -11.752900  0.253585\n",
        "23      3079    233  0.075674 -11.210538  0.329259\n",
        "24      2875    221  0.076870 -11.142456  0.406128\n",
        "25      2753    210  0.076280 -11.175869  0.482409\n",
        "26      2606    197  0.075595 -11.215082  0.558003\n",
        "27      2461    218  0.088582 -10.526551  0.646585\n",
        "28      2309    219  0.094846 -10.229798  0.741431\n",
        "29      2167    167  0.077065 -11.131424  0.818497\n",
        "30      2033    163  0.080177 -10.959498  0.898674\n",
        "31      1894    156  0.082365 -10.842554  0.981039\n",
        "32      1747    120  0.068689 -11.631117  1.049728\n",
        "33      1592    120  0.075377 -11.227618  1.125105\n",
        "34      1445     82  0.056747 -12.460540  1.181852\n",
        "35      1298     81  0.062404 -12.047897  1.244256\n",
        "36      1150     54  0.046957 -13.283041  1.291213\n",
        "37      1003     51  0.050847 -12.937308  1.342060\n",
        "38       848     36  0.042453 -13.720934  1.384513\n",
        "39       696     21  0.030172 -15.203899  1.414685\n",
        "40       561     20  0.035651 -14.479329  1.450336\n",
        "41       407     11  0.027027 -15.682017  1.477363\n",
        "42       284      6  0.021127 -16.751671  1.498490\n",
        "43       142      1  0.007042 -21.522883  1.505532\n",
        "44        10      0  0.000000       -inf  1.505532"
       ]
      }
     ],
     "prompt_number": 64
    },
    {
     "cell_type": "code",
     "collapsed": false,
     "input": [
      "df = procreation_curve(resp)\n",
      "df"
     ],
     "language": "python",
     "metadata": {},
     "outputs": [
      {
       "ename": "ValueError",
       "evalue": "zero-dimensional arrays cannot be concatenated",
       "output_type": "pyerr",
       "traceback": [
        "\u001b[1;31m---------------------------------------------------------------------------\u001b[0m\n\u001b[1;31mValueError\u001b[0m                                Traceback (most recent call last)",
        "\u001b[1;32m<ipython-input-103-ae1dba532c89>\u001b[0m in \u001b[0;36m<module>\u001b[1;34m()\u001b[0m\n\u001b[1;32m----> 1\u001b[1;33m \u001b[0mdf\u001b[0m \u001b[1;33m=\u001b[0m \u001b[0mprocreation_curve\u001b[0m\u001b[1;33m(\u001b[0m\u001b[0mresp\u001b[0m\u001b[1;33m)\u001b[0m\u001b[1;33m\u001b[0m\u001b[0m\n\u001b[0m\u001b[0;32m      2\u001b[0m \u001b[0mdf\u001b[0m\u001b[1;33m\u001b[0m\u001b[0m\n",
        "\u001b[1;32m<ipython-input-63-d73bc470c23a>\u001b[0m in \u001b[0;36mprocreation_curve\u001b[1;34m(resp)\u001b[0m\n\u001b[0;32m      1\u001b[0m \u001b[1;32mdef\u001b[0m \u001b[0mprocreation_curve\u001b[0m\u001b[1;33m(\u001b[0m\u001b[0mresp\u001b[0m\u001b[1;33m)\u001b[0m\u001b[1;33m:\u001b[0m\u001b[1;33m\u001b[0m\u001b[0m\n\u001b[0;32m      2\u001b[0m \u001b[1;33m\u001b[0m\u001b[0m\n\u001b[1;32m----> 3\u001b[1;33m     \u001b[0mages\u001b[0m \u001b[1;33m=\u001b[0m \u001b[0mnp\u001b[0m\u001b[1;33m.\u001b[0m\u001b[0mconcatenate\u001b[0m\u001b[1;33m(\u001b[0m\u001b[0mresp\u001b[0m\u001b[1;33m.\u001b[0m\u001b[0mage_at_births\u001b[0m\u001b[1;33m)\u001b[0m\u001b[1;33m\u001b[0m\u001b[0m\n\u001b[0m\u001b[0;32m      4\u001b[0m     \u001b[0mlow\u001b[0m\u001b[1;33m,\u001b[0m \u001b[0mhigh\u001b[0m \u001b[1;33m=\u001b[0m \u001b[0mmin\u001b[0m\u001b[1;33m(\u001b[0m\u001b[0mages\u001b[0m\u001b[1;33m)\u001b[0m\u001b[1;33m,\u001b[0m \u001b[0mmax\u001b[0m\u001b[1;33m(\u001b[0m\u001b[0mages\u001b[0m\u001b[1;33m)\u001b[0m\u001b[1;33m\u001b[0m\u001b[0m\n\u001b[0;32m      5\u001b[0m     \u001b[0mhigh\u001b[0m \u001b[1;33m=\u001b[0m \u001b[0mmax\u001b[0m\u001b[1;33m(\u001b[0m\u001b[0mhigh\u001b[0m\u001b[1;33m,\u001b[0m \u001b[0mmax\u001b[0m\u001b[1;33m(\u001b[0m\u001b[0mresp\u001b[0m\u001b[1;33m.\u001b[0m\u001b[0mage\u001b[0m\u001b[1;33m)\u001b[0m\u001b[1;33m-\u001b[0m\u001b[1;36m1\u001b[0m\u001b[1;33m)\u001b[0m\u001b[1;33m\u001b[0m\u001b[0m\n",
        "\u001b[1;31mValueError\u001b[0m: zero-dimensional arrays cannot be concatenated"
       ]
      }
     ],
     "prompt_number": 103
    },
    {
     "cell_type": "code",
     "collapsed": false,
     "input": [
      "observed"
     ],
     "language": "python",
     "metadata": {},
     "outputs": [
      {
       "metadata": {},
       "output_type": "pyout",
       "prompt_number": 48,
       "text": [
        "12    4928\n",
        "13    4928\n",
        "14    4928\n",
        "15    4734\n",
        "16    4499\n",
        "17    4307\n",
        "18    4036\n",
        "19    3812\n",
        "20    3621\n",
        "21    3439\n",
        "22    3249\n",
        "23    3079\n",
        "24    2875\n",
        "25    2753\n",
        "26    2606\n",
        "27    2461\n",
        "28    2309\n",
        "29    2167\n",
        "30    2033\n",
        "31    1894\n",
        "32    1747\n",
        "33    1592\n",
        "34    1445\n",
        "35    1298\n",
        "36    1150\n",
        "37    1003\n",
        "38     848\n",
        "39     696\n",
        "40     561\n",
        "41     407\n",
        "42     284\n",
        "43     142\n",
        "44      10\n",
        "45       0\n",
        "dtype: int64"
       ]
      }
     ],
     "prompt_number": 48
    },
    {
     "cell_type": "code",
     "collapsed": false,
     "input": [],
     "language": "python",
     "metadata": {},
     "outputs": []
    }
   ],
   "metadata": {}
  }
 ]
}