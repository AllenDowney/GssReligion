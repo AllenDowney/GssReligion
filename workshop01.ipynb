{
 "cells": [
  {
   "cell_type": "code",
   "execution_count": 1,
   "metadata": {
    "collapsed": true
   },
   "outputs": [],
   "source": [
    "from __future__ import print_function, division\n",
    "\n",
    "%matplotlib inline\n",
    "\n",
    "import pandas as pd\n",
    "import numpy as np\n",
    "\n",
    "import thinkstats2\n",
    "import thinkplot\n",
    "\n",
    "import statsmodels.formula.api as smf\n"
   ]
  },
  {
   "cell_type": "markdown",
   "metadata": {},
   "source": [
    "## Data\n",
    "\n",
    "Data Source: General Social Survey\n",
    "\n",
    "[Link to my project on GSS DataExplorer](https://gssdataexplorer.norc.org/projects/28298)\n",
    "    \n",
    "[Direct link to download data](https://gssdataexplorer.norc.org/extracts/20141/download)\n",
    "\n",
    "The download is a gzipped tar file, which you can extract with\n",
    "\n",
    "```\n",
    "   tar -xzf gss_2000_2016.tar.gz\n",
    "```"
   ]
  },
  {
   "cell_type": "code",
   "execution_count": 2,
   "metadata": {
    "collapsed": false
   },
   "outputs": [
    {
     "name": "stdout",
     "output_type": "stream",
     "text": [
      "(24350, 38)\n"
     ]
    },
    {
     "data": {
      "text/html": [
       "<div>\n",
       "<table border=\"1\" class=\"dataframe\">\n",
       "  <thead>\n",
       "    <tr style=\"text-align: right;\">\n",
       "      <th></th>\n",
       "      <th>year</th>\n",
       "      <th>compuse</th>\n",
       "      <th>webmob</th>\n",
       "      <th>emailmin</th>\n",
       "      <th>emailhr</th>\n",
       "      <th>usewww</th>\n",
       "      <th>wwwhr</th>\n",
       "      <th>wwwmin</th>\n",
       "      <th>intrhome</th>\n",
       "      <th>parelkid</th>\n",
       "      <th>...</th>\n",
       "      <th>srcbelt</th>\n",
       "      <th>relig</th>\n",
       "      <th>denom</th>\n",
       "      <th>fund</th>\n",
       "      <th>relig16</th>\n",
       "      <th>denom16</th>\n",
       "      <th>fund16</th>\n",
       "      <th>sprel</th>\n",
       "      <th>bible</th>\n",
       "      <th>relactiv1</th>\n",
       "    </tr>\n",
       "  </thead>\n",
       "  <tbody>\n",
       "    <tr>\n",
       "      <th>0</th>\n",
       "      <td>2000</td>\n",
       "      <td>1</td>\n",
       "      <td>0</td>\n",
       "      <td>0</td>\n",
       "      <td>2</td>\n",
       "      <td>1</td>\n",
       "      <td>5</td>\n",
       "      <td>0</td>\n",
       "      <td>0</td>\n",
       "      <td>0</td>\n",
       "      <td>...</td>\n",
       "      <td>3</td>\n",
       "      <td>1</td>\n",
       "      <td>14</td>\n",
       "      <td>1</td>\n",
       "      <td>1</td>\n",
       "      <td>14</td>\n",
       "      <td>1</td>\n",
       "      <td>0</td>\n",
       "      <td>2</td>\n",
       "      <td>0</td>\n",
       "    </tr>\n",
       "    <tr>\n",
       "      <th>1</th>\n",
       "      <td>2000</td>\n",
       "      <td>1</td>\n",
       "      <td>0</td>\n",
       "      <td>0</td>\n",
       "      <td>0</td>\n",
       "      <td>2</td>\n",
       "      <td>-1</td>\n",
       "      <td>-1</td>\n",
       "      <td>0</td>\n",
       "      <td>0</td>\n",
       "      <td>...</td>\n",
       "      <td>3</td>\n",
       "      <td>1</td>\n",
       "      <td>18</td>\n",
       "      <td>1</td>\n",
       "      <td>2</td>\n",
       "      <td>0</td>\n",
       "      <td>2</td>\n",
       "      <td>0</td>\n",
       "      <td>0</td>\n",
       "      <td>0</td>\n",
       "    </tr>\n",
       "    <tr>\n",
       "      <th>2</th>\n",
       "      <td>2000</td>\n",
       "      <td>2</td>\n",
       "      <td>0</td>\n",
       "      <td>-1</td>\n",
       "      <td>-1</td>\n",
       "      <td>0</td>\n",
       "      <td>-1</td>\n",
       "      <td>-1</td>\n",
       "      <td>0</td>\n",
       "      <td>0</td>\n",
       "      <td>...</td>\n",
       "      <td>3</td>\n",
       "      <td>1</td>\n",
       "      <td>70</td>\n",
       "      <td>2</td>\n",
       "      <td>4</td>\n",
       "      <td>0</td>\n",
       "      <td>3</td>\n",
       "      <td>0</td>\n",
       "      <td>9</td>\n",
       "      <td>0</td>\n",
       "    </tr>\n",
       "    <tr>\n",
       "      <th>3</th>\n",
       "      <td>2000</td>\n",
       "      <td>1</td>\n",
       "      <td>0</td>\n",
       "      <td>0</td>\n",
       "      <td>3</td>\n",
       "      <td>1</td>\n",
       "      <td>2</td>\n",
       "      <td>0</td>\n",
       "      <td>0</td>\n",
       "      <td>0</td>\n",
       "      <td>...</td>\n",
       "      <td>3</td>\n",
       "      <td>10</td>\n",
       "      <td>0</td>\n",
       "      <td>9</td>\n",
       "      <td>1</td>\n",
       "      <td>14</td>\n",
       "      <td>1</td>\n",
       "      <td>0</td>\n",
       "      <td>2</td>\n",
       "      <td>0</td>\n",
       "    </tr>\n",
       "    <tr>\n",
       "      <th>4</th>\n",
       "      <td>2000</td>\n",
       "      <td>1</td>\n",
       "      <td>0</td>\n",
       "      <td>0</td>\n",
       "      <td>15</td>\n",
       "      <td>1</td>\n",
       "      <td>1</td>\n",
       "      <td>0</td>\n",
       "      <td>0</td>\n",
       "      <td>0</td>\n",
       "      <td>...</td>\n",
       "      <td>3</td>\n",
       "      <td>4</td>\n",
       "      <td>0</td>\n",
       "      <td>3</td>\n",
       "      <td>4</td>\n",
       "      <td>0</td>\n",
       "      <td>3</td>\n",
       "      <td>0</td>\n",
       "      <td>3</td>\n",
       "      <td>0</td>\n",
       "    </tr>\n",
       "  </tbody>\n",
       "</table>\n",
       "<p>5 rows × 38 columns</p>\n",
       "</div>"
      ],
      "text/plain": [
       "   year  compuse  webmob  emailmin  emailhr  usewww  wwwhr  wwwmin  intrhome  \\\n",
       "0  2000        1       0         0        2       1      5       0         0   \n",
       "1  2000        1       0         0        0       2     -1      -1         0   \n",
       "2  2000        2       0        -1       -1       0     -1      -1         0   \n",
       "3  2000        1       0         0        3       1      2       0         0   \n",
       "4  2000        1       0         0       15       1      1       0         0   \n",
       "\n",
       "   parelkid    ...      srcbelt  relig  denom  fund  relig16  denom16  fund16  \\\n",
       "0         0    ...            3      1     14     1        1       14       1   \n",
       "1         0    ...            3      1     18     1        2        0       2   \n",
       "2         0    ...            3      1     70     2        4        0       3   \n",
       "3         0    ...            3     10      0     9        1       14       1   \n",
       "4         0    ...            3      4      0     3        4        0       3   \n",
       "\n",
       "   sprel  bible  relactiv1  \n",
       "0      0      2          0  \n",
       "1      0      0          0  \n",
       "2      0      9          0  \n",
       "3      0      2          0  \n",
       "4      0      3          0  \n",
       "\n",
       "[5 rows x 38 columns]"
      ]
     },
     "execution_count": 2,
     "metadata": {},
     "output_type": "execute_result"
    }
   ],
   "source": [
    "dct = thinkstats2.ReadStataDct('GSS.dct')\n",
    "df = dct.ReadFixedWidth('GSS.dat')\n",
    "print(df.shape)\n",
    "df.head()"
   ]
  },
  {
   "cell_type": "code",
   "execution_count": 3,
   "metadata": {
    "collapsed": false,
    "scrolled": true
   },
   "outputs": [
    {
     "name": "stdout",
     "output_type": "stream",
     "text": [
      "year  compuse  webmob  emailmin  emailhr  usewww  wwwhr  wwwmin  intrhome  parelkid  hispanic  sei  cohort  ballot  wtssall  sei10  tvhours  relactiv  god  conclerg  id_  age  educ  sex  race  res16  income  rincome  srcbelt  relig  denom  fund  relig16  denom16  fund16  sprel  bible  relactiv1  "
     ]
    }
   ],
   "source": [
    "for colname in df.columns:\n",
    "    print(colname, end='  ')"
   ]
  },
  {
   "cell_type": "markdown",
   "metadata": {},
   "source": [
    "## Cleaning and validation"
   ]
  },
  {
   "cell_type": "code",
   "execution_count": 4,
   "metadata": {
    "collapsed": true
   },
   "outputs": [],
   "source": [
    "def countnan(series):\n",
    "    return np.sum(np.isnan(series))"
   ]
  },
  {
   "cell_type": "code",
   "execution_count": 5,
   "metadata": {
    "collapsed": false
   },
   "outputs": [],
   "source": [
    "def values(df, varname):\n",
    "    \"\"\"Values and counts in index order.\n",
    "    \n",
    "    df: DataFrame\n",
    "    varname: strign column name\n",
    "    \n",
    "    returns: Series that maps from value to frequency\n",
    "    \"\"\"\n",
    "    return df[varname].value_counts().sort_index()"
   ]
  },
  {
   "cell_type": "code",
   "execution_count": 6,
   "metadata": {
    "collapsed": false
   },
   "outputs": [
    {
     "data": {
      "text/plain": [
       "2000    2817\n",
       "2002    2765\n",
       "2004    2812\n",
       "2006    4510\n",
       "2008    2023\n",
       "2010    2044\n",
       "2012    1974\n",
       "2014    2538\n",
       "2016    2867\n",
       "Name: year, dtype: int64"
      ]
     },
     "execution_count": 6,
     "metadata": {},
     "output_type": "execute_result"
    }
   ],
   "source": [
    "values(df, 'year')"
   ]
  },
  {
   "cell_type": "code",
   "execution_count": 7,
   "metadata": {
    "collapsed": false
   },
   "outputs": [
    {
     "data": {
      "text/plain": [
       "0"
      ]
     },
     "execution_count": 7,
     "metadata": {},
     "output_type": "execute_result"
    }
   ],
   "source": [
    "countnan(df.wtssall)"
   ]
  },
  {
   "cell_type": "code",
   "execution_count": 8,
   "metadata": {
    "collapsed": false
   },
   "outputs": [],
   "source": [
    "resampled = thinkstats2.ResampleRowsWeighted(df, 'wtssall')"
   ]
  },
  {
   "cell_type": "code",
   "execution_count": 9,
   "metadata": {
    "collapsed": false
   },
   "outputs": [
    {
     "data": {
      "text/plain": [
       "(24350, 38)"
      ]
     },
     "execution_count": 9,
     "metadata": {},
     "output_type": "execute_result"
    }
   ],
   "source": [
    "resampled.shape"
   ]
  },
  {
   "cell_type": "code",
   "execution_count": 10,
   "metadata": {
    "collapsed": false
   },
   "outputs": [
    {
     "data": {
      "text/plain": [
       "-1    2023\n",
       "Name: wwwhr, dtype: int64"
      ]
     },
     "execution_count": 10,
     "metadata": {},
     "output_type": "execute_result"
    }
   ],
   "source": [
    "cycle = df[df.year==2008]\n",
    "values(cycle, 'wwwhr')"
   ]
  },
  {
   "cell_type": "code",
   "execution_count": 11,
   "metadata": {
    "collapsed": false
   },
   "outputs": [
    {
     "data": {
      "text/plain": [
       "-1      12726\n",
       " 0       1202\n",
       " 1       1517\n",
       " 2       1304\n",
       " 3        819\n",
       " 4        593\n",
       " 5        913\n",
       " 6        358\n",
       " 7        449\n",
       " 8        294\n",
       " 9         37\n",
       " 10       946\n",
       " 11        13\n",
       " 12       201\n",
       " 13        18\n",
       " 14       231\n",
       " 15       420\n",
       " 16        35\n",
       " 17        11\n",
       " 18        22\n",
       " 19         1\n",
       " 20       559\n",
       " 21        78\n",
       " 22         7\n",
       " 23         7\n",
       " 24        43\n",
       " 25       173\n",
       " 26         2\n",
       " 27         5\n",
       " 28        45\n",
       "        ...  \n",
       " 49         2\n",
       " 50        79\n",
       " 55         4\n",
       " 56         3\n",
       " 60        48\n",
       " 63         2\n",
       " 64         1\n",
       " 65         6\n",
       " 66         1\n",
       " 70        24\n",
       " 72         6\n",
       " 75         6\n",
       " 80        20\n",
       " 84         5\n",
       " 85         1\n",
       " 86         1\n",
       " 90         4\n",
       " 91         2\n",
       " 98         1\n",
       " 100       11\n",
       " 112        2\n",
       " 120        5\n",
       " 122        1\n",
       " 130        1\n",
       " 132        1\n",
       " 140        1\n",
       " 168        2\n",
       " 184        1\n",
       " 998       54\n",
       " 999      451\n",
       "Name: wwwhr, dtype: int64"
      ]
     },
     "execution_count": 11,
     "metadata": {},
     "output_type": "execute_result"
    }
   ],
   "source": [
    "values(df, 'wwwhr')"
   ]
  },
  {
   "cell_type": "code",
   "execution_count": 12,
   "metadata": {
    "collapsed": false
   },
   "outputs": [
    {
     "data": {
      "text/plain": [
       "(12074, 38)"
      ]
     },
     "execution_count": 12,
     "metadata": {},
     "output_type": "execute_result"
    }
   ],
   "source": [
    "asked = resampled[resampled.wwwhr != -1].copy()\n",
    "asked.shape"
   ]
  },
  {
   "cell_type": "code",
   "execution_count": 13,
   "metadata": {
    "collapsed": false
   },
   "outputs": [
    {
     "data": {
      "text/plain": [
       "2000    1153\n",
       "2002    1712\n",
       "2004    1884\n",
       "2006    2152\n",
       "2010    1046\n",
       "2012    1051\n",
       "2014    1453\n",
       "2016    1623\n",
       "Name: year, dtype: int64"
      ]
     },
     "execution_count": 13,
     "metadata": {},
     "output_type": "execute_result"
    }
   ],
   "source": [
    "values(asked, 'year')"
   ]
  },
  {
   "cell_type": "code",
   "execution_count": 14,
   "metadata": {
    "collapsed": false
   },
   "outputs": [],
   "source": [
    "def fill_missing(df, varname, badvals=[98, 99]):\n",
    "    \"\"\"Fill missing data with random values.\n",
    "    \n",
    "    df: DataFrame\n",
    "    varname: string column name\n",
    "    badvals: list of values to be replaced\n",
    "    \"\"\"\n",
    "    df[varname].replace(badvals, np.nan, inplace=True)\n",
    "    null = df[varname].isnull()\n",
    "    fill = np.random.choice(df[varname].dropna(), sum(null), replace=True)\n",
    "    df.loc[null, varname] = fill\n",
    "    return sum(null)"
   ]
  },
  {
   "cell_type": "code",
   "execution_count": 15,
   "metadata": {
    "collapsed": false
   },
   "outputs": [
    {
     "data": {
      "text/plain": [
       "1.0     5599\n",
       "2.0     2953\n",
       "3.0      232\n",
       "4.0     2324\n",
       "5.0      148\n",
       "6.0      124\n",
       "7.0       72\n",
       "8.0       30\n",
       "9.0       68\n",
       "10.0      45\n",
       "11.0     413\n",
       "12.0      11\n",
       "13.0      55\n",
       "Name: relig, dtype: int64"
      ]
     },
     "execution_count": 15,
     "metadata": {},
     "output_type": "execute_result"
    }
   ],
   "source": [
    "fill_missing(asked, 'relig')\n",
    "values(asked, 'relig')"
   ]
  },
  {
   "cell_type": "code",
   "execution_count": 16,
   "metadata": {
    "collapsed": false
   },
   "outputs": [
    {
     "data": {
      "text/plain": [
       "0    2312\n",
       "1    9762\n",
       "Name: has_relig, dtype: int64"
      ]
     },
     "execution_count": 16,
     "metadata": {},
     "output_type": "execute_result"
    }
   ],
   "source": [
    "asked['has_relig'] = (df.relig != 4).astype(int)\n",
    "values(asked, 'has_relig')"
   ]
  },
  {
   "cell_type": "code",
   "execution_count": 17,
   "metadata": {
    "collapsed": false
   },
   "outputs": [
    {
     "data": {
      "text/plain": [
       "528"
      ]
     },
     "execution_count": 17,
     "metadata": {},
     "output_type": "execute_result"
    }
   ],
   "source": [
    "fill_missing(asked, 'wwwhr', [998, 999])"
   ]
  },
  {
   "cell_type": "code",
   "execution_count": 18,
   "metadata": {
    "collapsed": false
   },
   "outputs": [
    {
     "data": {
      "image/png": "[encoded data removed]",
      "text/plain": [
       "<matplotlib.figure.Figure at 0x7f6fab7e6dd0>"
      ]
     },
     "metadata": {},
     "output_type": "display_data"
    }
   ],
   "source": [
    "cdf = thinkstats2.Cdf(asked.wwwhr)\n",
    "thinkplot.Cdf(cdf)\n",
    "thinkplot.Config(xlabel='wwwhr')"
   ]
  },
  {
   "cell_type": "code",
   "execution_count": 19,
   "metadata": {
    "collapsed": false
   },
   "outputs": [
    {
     "data": {
      "text/plain": [
       "count    12074.000000\n",
       "mean         9.222627\n",
       "std         13.235644\n",
       "min          0.000000\n",
       "25%          2.000000\n",
       "50%          5.000000\n",
       "75%         10.000000\n",
       "max        184.000000\n",
       "Name: wwwhr, dtype: float64"
      ]
     },
     "execution_count": 19,
     "metadata": {},
     "output_type": "execute_result"
    }
   ],
   "source": [
    "asked.wwwhr.describe()"
   ]
  },
  {
   "cell_type": "markdown",
   "metadata": {},
   "source": [
    "## Basic model"
   ]
  },
  {
   "cell_type": "code",
   "execution_count": 20,
   "metadata": {
    "collapsed": false
   },
   "outputs": [
    {
     "name": "stdout",
     "output_type": "stream",
     "text": [
      "Optimization terminated successfully.\n",
      "         Current function value: 0.485204\n",
      "         Iterations 5\n"
     ]
    },
    {
     "data": {
      "text/html": [
       "<table class=\"simpletable\">\n",
       "<caption>Logit Regression Results</caption>\n",
       "<tr>\n",
       "  <th>Dep. Variable:</th>     <td>has_relig</td>    <th>  No. Observations:  </th>  <td> 12074</td>  \n",
       "</tr>\n",
       "<tr>\n",
       "  <th>Model:</th>               <td>Logit</td>      <th>  Df Residuals:      </th>  <td> 12072</td>  \n",
       "</tr>\n",
       "<tr>\n",
       "  <th>Method:</th>               <td>MLE</td>       <th>  Df Model:          </th>  <td>     1</td>  \n",
       "</tr>\n",
       "<tr>\n",
       "  <th>Date:</th>          <td>Mon, 17 Apr 2017</td> <th>  Pseudo R-squ.:     </th> <td>0.006484</td> \n",
       "</tr>\n",
       "<tr>\n",
       "  <th>Time:</th>              <td>14:23:35</td>     <th>  Log-Likelihood:    </th> <td> -5858.3</td> \n",
       "</tr>\n",
       "<tr>\n",
       "  <th>converged:</th>           <td>True</td>       <th>  LL-Null:           </th> <td> -5896.6</td> \n",
       "</tr>\n",
       "<tr>\n",
       "  <th> </th>                      <td> </td>        <th>  LLR p-value:       </th> <td>2.236e-18</td>\n",
       "</tr>\n",
       "</table>\n",
       "<table class=\"simpletable\">\n",
       "<tr>\n",
       "      <td></td>         <th>coef</th>     <th>std err</th>      <th>z</th>      <th>P>|z|</th>  <th>[0.025</th>    <th>0.975]</th>  \n",
       "</tr>\n",
       "<tr>\n",
       "  <th>Intercept</th> <td>    1.5784</td> <td>    0.028</td> <td>   55.565</td> <td> 0.000</td> <td>    1.523</td> <td>    1.634</td>\n",
       "</tr>\n",
       "<tr>\n",
       "  <th>wwwhr</th>     <td>   -0.0139</td> <td>    0.002</td> <td>   -8.984</td> <td> 0.000</td> <td>   -0.017</td> <td>   -0.011</td>\n",
       "</tr>\n",
       "</table>"
      ],
      "text/plain": [
       "<class 'statsmodels.iolib.summary.Summary'>\n",
       "\"\"\"\n",
       "                           Logit Regression Results                           \n",
       "==============================================================================\n",
       "Dep. Variable:              has_relig   No. Observations:                12074\n",
       "Model:                          Logit   Df Residuals:                    12072\n",
       "Method:                           MLE   Df Model:                            1\n",
       "Date:                Mon, 17 Apr 2017   Pseudo R-squ.:                0.006484\n",
       "Time:                        14:23:35   Log-Likelihood:                -5858.3\n",
       "converged:                       True   LL-Null:                       -5896.6\n",
       "                                        LLR p-value:                 2.236e-18\n",
       "==============================================================================\n",
       "                 coef    std err          z      P>|z|      [0.025      0.975]\n",
       "------------------------------------------------------------------------------\n",
       "Intercept      1.5784      0.028     55.565      0.000       1.523       1.634\n",
       "wwwhr         -0.0139      0.002     -8.984      0.000      -0.017      -0.011\n",
       "==============================================================================\n",
       "\"\"\""
      ]
     },
     "execution_count": 20,
     "metadata": {},
     "output_type": "execute_result"
    }
   ],
   "source": [
    "results = smf.logit('has_relig ~ wwwhr', data=asked).fit()\n",
    "results.summary()"
   ]
  },
  {
   "cell_type": "markdown",
   "metadata": {},
   "source": [
    "## Additional variables"
   ]
  },
  {
   "cell_type": "code",
   "execution_count": 21,
   "metadata": {
    "collapsed": true
   },
   "outputs": [],
   "source": [
    "asked['www50'] = asked.wwwhr >= 5\n",
    "asked['www75'] = asked.wwwhr >= 10"
   ]
  },
  {
   "cell_type": "code",
   "execution_count": 22,
   "metadata": {
    "collapsed": false
   },
   "outputs": [
    {
     "data": {
      "text/html": [
       "<div>\n",
       "<table border=\"1\" class=\"dataframe\">\n",
       "  <thead>\n",
       "    <tr style=\"text-align: right;\">\n",
       "      <th></th>\n",
       "      <th>wwwhr</th>\n",
       "      <th>www50</th>\n",
       "      <th>www75</th>\n",
       "    </tr>\n",
       "    <tr>\n",
       "      <th>year</th>\n",
       "      <th></th>\n",
       "      <th></th>\n",
       "      <th></th>\n",
       "    </tr>\n",
       "  </thead>\n",
       "  <tbody>\n",
       "    <tr>\n",
       "      <th>2000</th>\n",
       "      <td>5.603643</td>\n",
       "      <td>0.379011</td>\n",
       "      <td>0.203816</td>\n",
       "    </tr>\n",
       "    <tr>\n",
       "      <th>2002</th>\n",
       "      <td>5.892523</td>\n",
       "      <td>0.386682</td>\n",
       "      <td>0.212033</td>\n",
       "    </tr>\n",
       "    <tr>\n",
       "      <th>2004</th>\n",
       "      <td>7.721338</td>\n",
       "      <td>0.468153</td>\n",
       "      <td>0.273885</td>\n",
       "    </tr>\n",
       "    <tr>\n",
       "      <th>2006</th>\n",
       "      <td>9.205390</td>\n",
       "      <td>0.499535</td>\n",
       "      <td>0.323885</td>\n",
       "    </tr>\n",
       "    <tr>\n",
       "      <th>2010</th>\n",
       "      <td>9.679732</td>\n",
       "      <td>0.558317</td>\n",
       "      <td>0.362333</td>\n",
       "    </tr>\n",
       "    <tr>\n",
       "      <th>2012</th>\n",
       "      <td>10.881066</td>\n",
       "      <td>0.571836</td>\n",
       "      <td>0.372978</td>\n",
       "    </tr>\n",
       "    <tr>\n",
       "      <th>2014</th>\n",
       "      <td>11.924983</td>\n",
       "      <td>0.587061</td>\n",
       "      <td>0.415003</td>\n",
       "    </tr>\n",
       "    <tr>\n",
       "      <th>2016</th>\n",
       "      <td>13.284042</td>\n",
       "      <td>0.635860</td>\n",
       "      <td>0.455330</td>\n",
       "    </tr>\n",
       "  </tbody>\n",
       "</table>\n",
       "</div>"
      ],
      "text/plain": [
       "          wwwhr     www50     www75\n",
       "year                               \n",
       "2000   5.603643  0.379011  0.203816\n",
       "2002   5.892523  0.386682  0.212033\n",
       "2004   7.721338  0.468153  0.273885\n",
       "2006   9.205390  0.499535  0.323885\n",
       "2010   9.679732  0.558317  0.362333\n",
       "2012  10.881066  0.571836  0.372978\n",
       "2014  11.924983  0.587061  0.415003\n",
       "2016  13.284042  0.635860  0.455330"
      ]
     },
     "execution_count": 22,
     "metadata": {},
     "output_type": "execute_result"
    }
   ],
   "source": [
    "asked.groupby('year')[['wwwhr', 'www50', 'www75']].mean()"
   ]
  },
  {
   "cell_type": "code",
   "execution_count": 23,
   "metadata": {
    "collapsed": false
   },
   "outputs": [
    {
     "data": {
      "text/plain": [
       "1.0     6091\n",
       "2.0     4111\n",
       "3.0      260\n",
       "4.0      960\n",
       "5.0       64\n",
       "6.0       81\n",
       "7.0       73\n",
       "8.0       12\n",
       "9.0      101\n",
       "10.0      49\n",
       "11.0     258\n",
       "12.0       5\n",
       "13.0       9\n",
       "Name: relig16, dtype: int64"
      ]
     },
     "execution_count": 23,
     "metadata": {},
     "output_type": "execute_result"
    }
   ],
   "source": [
    "fill_missing(asked, 'relig16')\n",
    "values(asked, 'relig16')"
   ]
  },
  {
   "cell_type": "code",
   "execution_count": 24,
   "metadata": {
    "collapsed": false
   },
   "outputs": [
    {
     "data": {
      "text/plain": [
       "False      960\n",
       "True     11114\n",
       "Name: raised, dtype: int64"
      ]
     },
     "execution_count": 24,
     "metadata": {},
     "output_type": "execute_result"
    }
   ],
   "source": [
    "asked['raised'] = asked.relig16 != 4\n",
    "values(asked, 'raised')"
   ]
  },
  {
   "cell_type": "code",
   "execution_count": 25,
   "metadata": {
    "collapsed": false
   },
   "outputs": [
    {
     "data": {
      "text/plain": [
       "1    5668\n",
       "2    6406\n",
       "Name: sex, dtype: int64"
      ]
     },
     "execution_count": 25,
     "metadata": {},
     "output_type": "execute_result"
    }
   ],
   "source": [
    "values(asked, 'sex')"
   ]
  },
  {
   "cell_type": "code",
   "execution_count": 26,
   "metadata": {
    "collapsed": false
   },
   "outputs": [
    {
     "data": {
      "text/plain": [
       "1    9378\n",
       "2    1403\n",
       "3    1293\n",
       "Name: race, dtype: int64"
      ]
     },
     "execution_count": 26,
     "metadata": {},
     "output_type": "execute_result"
    }
   ],
   "source": [
    "values(asked, 'race')"
   ]
  },
  {
   "cell_type": "code",
   "execution_count": 27,
   "metadata": {
    "collapsed": false
   },
   "outputs": [
    {
     "data": {
      "text/plain": [
       "1.0     10640\n",
       "2.0       833\n",
       "3.0       139\n",
       "4.0        68\n",
       "5.0        53\n",
       "6.0        26\n",
       "7.0         6\n",
       "8.0        15\n",
       "9.0         3\n",
       "10.0        9\n",
       "11.0       25\n",
       "15.0       32\n",
       "20.0       24\n",
       "21.0       17\n",
       "22.0       25\n",
       "23.0        5\n",
       "24.0        9\n",
       "25.0        4\n",
       "30.0       75\n",
       "31.0        1\n",
       "35.0        4\n",
       "40.0        1\n",
       "41.0       16\n",
       "45.0        2\n",
       "46.0        6\n",
       "47.0       23\n",
       "50.0       13\n",
       "Name: hispanic, dtype: int64"
      ]
     },
     "execution_count": 27,
     "metadata": {},
     "output_type": "execute_result"
    }
   ],
   "source": [
    "fill_missing(asked, 'hispanic')\n",
    "values(asked, 'hispanic')"
   ]
  },
  {
   "cell_type": "code",
   "execution_count": 28,
   "metadata": {
    "collapsed": false
   },
   "outputs": [
    {
     "data": {
      "text/plain": [
       "0.0       14\n",
       "1.0        9\n",
       "2.0       42\n",
       "3.0       10\n",
       "4.0       14\n",
       "5.0       18\n",
       "6.0       72\n",
       "7.0       14\n",
       "8.0       95\n",
       "9.0      130\n",
       "10.0     229\n",
       "11.0     394\n",
       "12.0    2762\n",
       "13.0    1251\n",
       "14.0    1825\n",
       "15.0     791\n",
       "16.0    2388\n",
       "17.0     566\n",
       "18.0     737\n",
       "19.0     276\n",
       "20.0     437\n",
       "Name: educ, dtype: int64"
      ]
     },
     "execution_count": 28,
     "metadata": {},
     "output_type": "execute_result"
    }
   ],
   "source": [
    "fill_missing(asked, 'educ')\n",
    "values(asked, 'educ')"
   ]
  },
  {
   "cell_type": "code",
   "execution_count": 29,
   "metadata": {
    "collapsed": false
   },
   "outputs": [
    {
     "data": {
      "text/plain": [
       "1.0      111\n",
       "2.0      122\n",
       "3.0       76\n",
       "4.0       52\n",
       "5.0       62\n",
       "6.0       61\n",
       "7.0       50\n",
       "8.0      110\n",
       "9.0      421\n",
       "10.0     460\n",
       "11.0     611\n",
       "12.0    9060\n",
       "13.0     878\n",
       "Name: income, dtype: int64"
      ]
     },
     "execution_count": 29,
     "metadata": {},
     "output_type": "execute_result"
    }
   ],
   "source": [
    "fill_missing(asked, 'income')\n",
    "values(asked, 'income')"
   ]
  },
  {
   "cell_type": "code",
   "execution_count": 30,
   "metadata": {
    "collapsed": false
   },
   "outputs": [
    {
     "data": {
      "image/png": "[encoded data removed]",
      "text/plain": [
       "<matplotlib.figure.Figure at 0x7f6fab4f5c50>"
      ]
     },
     "metadata": {},
     "output_type": "display_data"
    }
   ],
   "source": [
    "fill_missing(asked, 'age')\n",
    "cdf = thinkstats2.Cdf(asked.age)\n",
    "thinkplot.Cdf(cdf)\n",
    "thinkplot.Config(xlabel='Age')"
   ]
  },
  {
   "cell_type": "code",
   "execution_count": 31,
   "metadata": {
    "collapsed": false
   },
   "outputs": [
    {
     "data": {
      "image/png": "[encoded data removed]",
      "text/plain": [
       "<matplotlib.figure.Figure at 0x7f6fab555f10>"
      ]
     },
     "metadata": {},
     "output_type": "display_data"
    }
   ],
   "source": [
    "fill_missing(asked, 'cohort', [9999])\n",
    "cdf = thinkstats2.Cdf(asked.cohort)\n",
    "thinkplot.Cdf(cdf)\n",
    "thinkplot.Config(xlabel='Birth cohort')"
   ]
  },
  {
   "cell_type": "code",
   "execution_count": 32,
   "metadata": {
    "collapsed": false
   },
   "outputs": [
    {
     "data": {
      "text/plain": [
       "2000    1153\n",
       "2002    1712\n",
       "2004    1884\n",
       "2006    2152\n",
       "2010    1046\n",
       "2012    1051\n",
       "2014    1453\n",
       "2016    1623\n",
       "Name: year, dtype: int64"
      ]
     },
     "execution_count": 32,
     "metadata": {},
     "output_type": "execute_result"
    }
   ],
   "source": [
    "values(asked, 'year')"
   ]
  },
  {
   "cell_type": "code",
   "execution_count": 33,
   "metadata": {
    "collapsed": false
   },
   "outputs": [
    {
     "data": {
      "text/plain": [
       "1     980\n",
       "2    1513\n",
       "3    1775\n",
       "4    2186\n",
       "5    4568\n",
       "6    1052\n",
       "Name: srcbelt, dtype: int64"
      ]
     },
     "execution_count": 33,
     "metadata": {},
     "output_type": "execute_result"
    }
   ],
   "source": [
    "values(asked, 'srcbelt')"
   ]
  },
  {
   "cell_type": "code",
   "execution_count": 34,
   "metadata": {
    "collapsed": true
   },
   "outputs": [],
   "source": [
    "asked['urban'] = asked.srcbelt <= 2\n",
    "asked['rural'] = asked.srcbelt >= 5"
   ]
  },
  {
   "cell_type": "code",
   "execution_count": 35,
   "metadata": {
    "collapsed": false
   },
   "outputs": [
    {
     "data": {
      "text/plain": [
       "1.0    1249\n",
       "2.0     841\n",
       "3.0    3886\n",
       "4.0    2170\n",
       "5.0    2027\n",
       "6.0    1901\n",
       "Name: res16, dtype: int64"
      ]
     },
     "execution_count": 35,
     "metadata": {},
     "output_type": "execute_result"
    }
   ],
   "source": [
    "fill_missing(asked, 'res16', [8, 9, 0])\n",
    "values(asked, 'res16')"
   ]
  },
  {
   "cell_type": "code",
   "execution_count": 36,
   "metadata": {
    "collapsed": true
   },
   "outputs": [],
   "source": [
    "asked['farm'] = asked.res16 == 1\n",
    "asked['country'] = asked.res16 == 2\n",
    "asked['city'] = asked.res16 == 6"
   ]
  },
  {
   "cell_type": "code",
   "execution_count": 37,
   "metadata": {
    "collapsed": false
   },
   "outputs": [
    {
     "data": {
      "text/plain": [
       "406"
      ]
     },
     "execution_count": 37,
     "metadata": {},
     "output_type": "execute_result"
    }
   ],
   "source": [
    "fill_missing(asked, 'sei10', [0.0])"
   ]
  },
  {
   "cell_type": "code",
   "execution_count": 38,
   "metadata": {
    "collapsed": false
   },
   "outputs": [
    {
     "data": {
      "text/plain": [
       "9.0       1\n",
       "10.6     22\n",
       "12.4     10\n",
       "12.6     89\n",
       "13.2     20\n",
       "13.3     29\n",
       "13.6    140\n",
       "14.0     83\n",
       "14.4      9\n",
       "14.6     14\n",
       "14.8     17\n",
       "15.8      7\n",
       "17.0     12\n",
       "17.1     22\n",
       "17.5     22\n",
       "18.6     84\n",
       "18.8     10\n",
       "19.2      5\n",
       "19.6    202\n",
       "19.7     19\n",
       "20.0      8\n",
       "20.1     66\n",
       "20.3      2\n",
       "20.5     18\n",
       "20.7    130\n",
       "20.8     43\n",
       "20.9     32\n",
       "21.0      8\n",
       "21.1      2\n",
       "21.3      3\n",
       "       ... \n",
       "85.0      6\n",
       "85.2     41\n",
       "85.5     10\n",
       "85.8      9\n",
       "86.0      2\n",
       "86.1      8\n",
       "86.5     40\n",
       "86.6     15\n",
       "86.7     21\n",
       "86.8     11\n",
       "86.9      1\n",
       "87.3     16\n",
       "87.6     13\n",
       "87.9     90\n",
       "88.0      7\n",
       "88.3      9\n",
       "88.6      4\n",
       "88.7     34\n",
       "89.1     11\n",
       "89.3     12\n",
       "89.4      2\n",
       "89.9      1\n",
       "91.1     78\n",
       "91.6      2\n",
       "91.9      3\n",
       "92.0      9\n",
       "92.1     12\n",
       "92.2      4\n",
       "92.8     65\n",
       "99.9    106\n",
       "Name: sei10, dtype: int64"
      ]
     },
     "execution_count": 38,
     "metadata": {},
     "output_type": "execute_result"
    }
   ],
   "source": [
    "values(asked, 'sei10')"
   ]
  },
  {
   "cell_type": "code",
   "execution_count": 39,
   "metadata": {
    "collapsed": false
   },
   "outputs": [
    {
     "name": "stdout",
     "output_type": "stream",
     "text": [
      "2000 0\n",
      "2002 0\n",
      "2004 0\n",
      "2006 0\n",
      "2010 0\n",
      "2012 0\n",
      "2014 0\n",
      "2016 0\n"
     ]
    }
   ],
   "source": [
    "for name, group in asked.groupby('year'):\n",
    "    print(name, countnan(group.sei10))"
   ]
  },
  {
   "cell_type": "code",
   "execution_count": 40,
   "metadata": {
    "collapsed": false
   },
   "outputs": [
    {
     "data": {
      "text/plain": [
       "29"
      ]
     },
     "execution_count": 40,
     "metadata": {},
     "output_type": "execute_result"
    }
   ],
   "source": [
    "fill_missing(asked, 'relactiv')"
   ]
  },
  {
   "cell_type": "code",
   "execution_count": 41,
   "metadata": {
    "collapsed": false
   },
   "outputs": [
    {
     "data": {
      "text/plain": [
       "0.0     4758\n",
       "1.0     3173\n",
       "2.0      617\n",
       "3.0      988\n",
       "4.0      776\n",
       "5.0      480\n",
       "6.0      486\n",
       "7.0      185\n",
       "8.0      516\n",
       "9.0       64\n",
       "10.0      31\n",
       "Name: relactiv, dtype: int64"
      ]
     },
     "execution_count": 41,
     "metadata": {},
     "output_type": "execute_result"
    }
   ],
   "source": [
    "values(asked, 'relactiv')"
   ]
  },
  {
   "cell_type": "markdown",
   "metadata": {},
   "source": [
    "Note: If we're going to use `tvhours`, we should limit to people who were asked both `tvhours` and `wwwhr`"
   ]
  },
  {
   "cell_type": "code",
   "execution_count": 42,
   "metadata": {
    "collapsed": false
   },
   "outputs": [
    {
     "data": {
      "text/plain": [
       "41"
      ]
     },
     "execution_count": 42,
     "metadata": {},
     "output_type": "execute_result"
    }
   ],
   "source": [
    "fill_missing(asked, 'tvhours')"
   ]
  },
  {
   "cell_type": "code",
   "execution_count": 43,
   "metadata": {
    "collapsed": false
   },
   "outputs": [
    {
     "data": {
      "text/plain": [
       "-1.0     3414\n",
       " 0.0      623\n",
       " 1.0     2130\n",
       " 2.0     2528\n",
       " 3.0     1417\n",
       " 4.0      895\n",
       " 5.0      472\n",
       " 6.0      264\n",
       " 7.0       56\n",
       " 8.0      105\n",
       " 9.0       16\n",
       " 10.0      52\n",
       " 11.0       8\n",
       " 12.0      46\n",
       " 13.0       5\n",
       " 14.0      13\n",
       " 15.0      11\n",
       " 16.0       4\n",
       " 18.0       2\n",
       " 20.0      10\n",
       " 24.0       3\n",
       "Name: tvhours, dtype: int64"
      ]
     },
     "execution_count": 43,
     "metadata": {},
     "output_type": "execute_result"
    }
   ],
   "source": [
    "values(asked, 'tvhours')"
   ]
  },
  {
   "cell_type": "markdown",
   "metadata": {},
   "source": [
    "## Other dependent vars"
   ]
  },
  {
   "cell_type": "code",
   "execution_count": 44,
   "metadata": {
    "collapsed": false
   },
   "outputs": [
    {
     "data": {
      "text/plain": [
       "0.0    4187\n",
       "1.0     280\n",
       "2.0     437\n",
       "3.0     959\n",
       "4.0     313\n",
       "5.0    1376\n",
       "6.0    4522\n",
       "Name: god, dtype: int64"
      ]
     },
     "execution_count": 44,
     "metadata": {},
     "output_type": "execute_result"
    }
   ],
   "source": [
    "fill_missing(asked, 'god', [8, 9])\n",
    "values(asked, 'god')"
   ]
  },
  {
   "cell_type": "code",
   "execution_count": 45,
   "metadata": {
    "collapsed": false
   },
   "outputs": [
    {
     "data": {
      "text/plain": [
       "1.0    3557\n",
       "2.0    5840\n",
       "3.0    2489\n",
       "4.0     188\n",
       "Name: bible, dtype: int64"
      ]
     },
     "execution_count": 45,
     "metadata": {},
     "output_type": "execute_result"
    }
   ],
   "source": [
    "fill_missing(asked, 'bible', [8, 9, 0])\n",
    "values(asked, 'bible')"
   ]
  },
  {
   "cell_type": "code",
   "execution_count": 46,
   "metadata": {
    "collapsed": false
   },
   "outputs": [
    {
     "data": {
      "text/plain": [
       "1.0    2278\n",
       "2.0    6957\n",
       "3.0    2839\n",
       "Name: conclerg, dtype: int64"
      ]
     },
     "execution_count": 46,
     "metadata": {},
     "output_type": "execute_result"
    }
   ],
   "source": [
    "fill_missing(asked, 'conclerg', [8, 9, 0])\n",
    "values(asked, 'conclerg')"
   ]
  },
  {
   "cell_type": "markdown",
   "metadata": {},
   "source": [
    "## Other classifiers"
   ]
  },
  {
   "cell_type": "code",
   "execution_count": 47,
   "metadata": {
    "collapsed": false
   },
   "outputs": [
    {
     "name": "stdout",
     "output_type": "stream",
     "text": [
      "Optimization terminated successfully.\n",
      "         Current function value: 0.442230\n",
      "         Iterations 6\n"
     ]
    },
    {
     "data": {
      "text/html": [
       "<table class=\"simpletable\">\n",
       "<caption>Logit Regression Results</caption>\n",
       "<tr>\n",
       "  <th>Dep. Variable:</th>     <td>has_relig</td>    <th>  No. Observations:  </th>   <td> 12074</td>  \n",
       "</tr>\n",
       "<tr>\n",
       "  <th>Model:</th>               <td>Logit</td>      <th>  Df Residuals:      </th>   <td> 12069</td>  \n",
       "</tr>\n",
       "<tr>\n",
       "  <th>Method:</th>               <td>MLE</td>       <th>  Df Model:          </th>   <td>     4</td>  \n",
       "</tr>\n",
       "<tr>\n",
       "  <th>Date:</th>          <td>Mon, 17 Apr 2017</td> <th>  Pseudo R-squ.:     </th>   <td>0.09448</td> \n",
       "</tr>\n",
       "<tr>\n",
       "  <th>Time:</th>              <td>14:23:39</td>     <th>  Log-Likelihood:    </th>  <td> -5339.5</td> \n",
       "</tr>\n",
       "<tr>\n",
       "  <th>converged:</th>           <td>True</td>       <th>  LL-Null:           </th>  <td> -5896.6</td> \n",
       "</tr>\n",
       "<tr>\n",
       "  <th> </th>                      <td> </td>        <th>  LLR p-value:       </th> <td>6.341e-240</td>\n",
       "</tr>\n",
       "</table>\n",
       "<table class=\"simpletable\">\n",
       "<tr>\n",
       "         <td></td>           <th>coef</th>     <th>std err</th>      <th>z</th>      <th>P>|z|</th>  <th>[0.025</th>    <th>0.975]</th>  \n",
       "</tr>\n",
       "<tr>\n",
       "  <th>Intercept</th>      <td>   -0.4655</td> <td>    0.164</td> <td>   -2.841</td> <td> 0.004</td> <td>   -0.787</td> <td>   -0.144</td>\n",
       "</tr>\n",
       "<tr>\n",
       "  <th>www50[T.True]</th>  <td>   -0.4468</td> <td>    0.050</td> <td>   -8.927</td> <td> 0.000</td> <td>   -0.545</td> <td>   -0.349</td>\n",
       "</tr>\n",
       "<tr>\n",
       "  <th>raised[T.True]</th> <td>    2.2078</td> <td>    0.072</td> <td>   30.462</td> <td> 0.000</td> <td>    2.066</td> <td>    2.350</td>\n",
       "</tr>\n",
       "<tr>\n",
       "  <th>sex</th>            <td>    0.3330</td> <td>    0.049</td> <td>    6.745</td> <td> 0.000</td> <td>    0.236</td> <td>    0.430</td>\n",
       "</tr>\n",
       "<tr>\n",
       "  <th>educ</th>           <td>   -0.0209</td> <td>    0.009</td> <td>   -2.354</td> <td> 0.019</td> <td>   -0.038</td> <td>   -0.003</td>\n",
       "</tr>\n",
       "</table>"
      ],
      "text/plain": [
       "<class 'statsmodels.iolib.summary.Summary'>\n",
       "\"\"\"\n",
       "                           Logit Regression Results                           \n",
       "==============================================================================\n",
       "Dep. Variable:              has_relig   No. Observations:                12074\n",
       "Model:                          Logit   Df Residuals:                    12069\n",
       "Method:                           MLE   Df Model:                            4\n",
       "Date:                Mon, 17 Apr 2017   Pseudo R-squ.:                 0.09448\n",
       "Time:                        14:23:39   Log-Likelihood:                -5339.5\n",
       "converged:                       True   LL-Null:                       -5896.6\n",
       "                                        LLR p-value:                6.341e-240\n",
       "==================================================================================\n",
       "                     coef    std err          z      P>|z|      [0.025      0.975]\n",
       "----------------------------------------------------------------------------------\n",
       "Intercept         -0.4655      0.164     -2.841      0.004      -0.787      -0.144\n",
       "www50[T.True]     -0.4468      0.050     -8.927      0.000      -0.545      -0.349\n",
       "raised[T.True]     2.2078      0.072     30.462      0.000       2.066       2.350\n",
       "sex                0.3330      0.049      6.745      0.000       0.236       0.430\n",
       "educ              -0.0209      0.009     -2.354      0.019      -0.038      -0.003\n",
       "==================================================================================\n",
       "\"\"\""
      ]
     },
     "execution_count": 47,
     "metadata": {},
     "output_type": "execute_result"
    }
   ],
   "source": [
    "formula = ('has_relig ~ www50 + sex + educ + raised')\n",
    "results = smf.logit(formula, data=asked).fit()\n",
    "results.summary()"
   ]
  },
  {
   "cell_type": "code",
   "execution_count": 48,
   "metadata": {
    "collapsed": false
   },
   "outputs": [
    {
     "data": {
      "text/plain": [
       "(12074,)"
      ]
     },
     "execution_count": 48,
     "metadata": {},
     "output_type": "execute_result"
    }
   ],
   "source": [
    "y = asked.has_relig\n",
    "y.shape"
   ]
  },
  {
   "cell_type": "code",
   "execution_count": 49,
   "metadata": {
    "collapsed": false
   },
   "outputs": [
    {
     "data": {
      "text/plain": [
       "(12074, 4)"
      ]
     },
     "execution_count": 49,
     "metadata": {},
     "output_type": "execute_result"
    }
   ],
   "source": [
    "X = asked[['www50', 'sex', 'educ', 'raised']]\n",
    "X.shape"
   ]
  },
  {
   "cell_type": "code",
   "execution_count": 50,
   "metadata": {
    "collapsed": false
   },
   "outputs": [
    {
     "data": {
      "text/plain": [
       "LogisticRegression(C=100000.0, class_weight=None, dual=False,\n",
       "          fit_intercept=True, intercept_scaling=1, max_iter=100,\n",
       "          multi_class='ovr', n_jobs=1, penalty='l2', random_state=None,\n",
       "          solver='liblinear', tol=0.0001, verbose=0, warm_start=False)"
      ]
     },
     "execution_count": 50,
     "metadata": {},
     "output_type": "execute_result"
    }
   ],
   "source": [
    "from sklearn import linear_model\n",
    "\n",
    "logreg = linear_model.LogisticRegression(C=1e5)\n",
    "logreg.fit(X, y)"
   ]
  },
  {
   "cell_type": "code",
   "execution_count": 51,
   "metadata": {
    "collapsed": false
   },
   "outputs": [
    {
     "data": {
      "text/plain": [
       "array([[-0.44680306,  0.33303308, -0.02087852,  2.20780052]])"
      ]
     },
     "execution_count": 51,
     "metadata": {},
     "output_type": "execute_result"
    }
   ],
   "source": [
    "logreg.coef_"
   ]
  },
  {
   "cell_type": "code",
   "execution_count": 52,
   "metadata": {
    "collapsed": false
   },
   "outputs": [
    {
     "data": {
      "text/plain": [
       "array([-0.46549478])"
      ]
     },
     "execution_count": 52,
     "metadata": {},
     "output_type": "execute_result"
    }
   ],
   "source": [
    "logreg.intercept_"
   ]
  },
  {
   "cell_type": "code",
   "execution_count": 53,
   "metadata": {
    "collapsed": true
   },
   "outputs": [],
   "source": [
    "yfit = logreg.predict(X)"
   ]
  },
  {
   "cell_type": "code",
   "execution_count": 54,
   "metadata": {
    "collapsed": false
   },
   "outputs": [
    {
     "data": {
      "text/plain": [
       "0.82839158522444922"
      ]
     },
     "execution_count": 54,
     "metadata": {},
     "output_type": "execute_result"
    }
   ],
   "source": [
    "from sklearn.metrics import accuracy_score\n",
    "accuracy_score(y, yfit)"
   ]
  },
  {
   "cell_type": "code",
   "execution_count": 55,
   "metadata": {
    "collapsed": false
   },
   "outputs": [
    {
     "data": {
      "text/plain": [
       "0.8085141626635747"
      ]
     },
     "execution_count": 55,
     "metadata": {},
     "output_type": "execute_result"
    }
   ],
   "source": [
    "np.mean(y)"
   ]
  },
  {
   "cell_type": "code",
   "execution_count": 56,
   "metadata": {
    "collapsed": false
   },
   "outputs": [],
   "source": [
    "from sklearn.model_selection import train_test_split\n",
    "Xtrain, Xtest, ytrain, ytest = train_test_split(X, y)"
   ]
  },
  {
   "cell_type": "code",
   "execution_count": 57,
   "metadata": {
    "collapsed": false
   },
   "outputs": [
    {
     "data": {
      "text/plain": [
       "0.8214640609473336"
      ]
     },
     "execution_count": 57,
     "metadata": {},
     "output_type": "execute_result"
    }
   ],
   "source": [
    "logreg.fit(Xtrain, ytrain)\n",
    "yfit = logreg.predict(Xtest)\n",
    "accuracy_score(ytest, yfit)"
   ]
  },
  {
   "cell_type": "code",
   "execution_count": 58,
   "metadata": {
    "collapsed": false
   },
   "outputs": [
    {
     "data": {
      "text/plain": [
       "0.82772909129076477"
      ]
     },
     "execution_count": 58,
     "metadata": {},
     "output_type": "execute_result"
    }
   ],
   "source": [
    "from sklearn.model_selection import cross_val_score\n",
    "scores = cross_val_score(logreg, X, y)\n",
    "scores.mean()"
   ]
  },
  {
   "cell_type": "markdown",
   "metadata": {},
   "source": [
    "http://scikit-learn.org/stable/modules/ensemble.html"
   ]
  },
  {
   "cell_type": "code",
   "execution_count": 59,
   "metadata": {
    "collapsed": false
   },
   "outputs": [
    {
     "data": {
      "text/plain": [
       "0.81298622344607308"
      ]
     },
     "execution_count": 59,
     "metadata": {},
     "output_type": "execute_result"
    }
   ],
   "source": [
    "from sklearn.ensemble import BaggingClassifier\n",
    "from sklearn.neighbors import KNeighborsClassifier\n",
    "bagging = BaggingClassifier(KNeighborsClassifier(), max_samples=0.5, max_features=0.5)\n",
    "scores = cross_val_score(bagging, X, y)\n",
    "scores.mean()"
   ]
  },
  {
   "cell_type": "code",
   "execution_count": 60,
   "metadata": {
    "collapsed": false
   },
   "outputs": [
    {
     "data": {
      "text/plain": [
       "0.8289713067351584"
      ]
     },
     "execution_count": 60,
     "metadata": {},
     "output_type": "execute_result"
    }
   ],
   "source": [
    "from sklearn.ensemble import RandomForestClassifier\n",
    "clf = RandomForestClassifier(n_estimators=10)\n",
    "scores = cross_val_score(clf, X, y)\n",
    "scores.mean()"
   ]
  },
  {
   "cell_type": "code",
   "execution_count": 61,
   "metadata": {
    "collapsed": false
   },
   "outputs": [
    {
     "data": {
      "text/plain": [
       "0.8289713067351584"
      ]
     },
     "execution_count": 61,
     "metadata": {},
     "output_type": "execute_result"
    }
   ],
   "source": [
    "from sklearn.ensemble import ExtraTreesClassifier\n",
    "clf = ExtraTreesClassifier(n_estimators=10, max_depth=None, min_samples_split=2)\n",
    "scores = cross_val_score(clf, X, y)\n",
    "scores.mean()"
   ]
  },
  {
   "cell_type": "code",
   "execution_count": 62,
   "metadata": {
    "collapsed": false
   },
   "outputs": [
    {
     "data": {
      "text/plain": [
       "0.82905412247014798"
      ]
     },
     "execution_count": 62,
     "metadata": {},
     "output_type": "execute_result"
    }
   ],
   "source": [
    "from sklearn.tree import DecisionTreeClassifier\n",
    "clf = DecisionTreeClassifier(max_depth=None, min_samples_split=2)\n",
    "scores = cross_val_score(clf, X, y)\n",
    "scores.mean()"
   ]
  },
  {
   "cell_type": "markdown",
   "metadata": {
    "collapsed": true
   },
   "source": [
    "Note: We don't really care about guessing who is affiliated or not.  What other accuracy metrics should we consider?"
   ]
  },
  {
   "cell_type": "markdown",
   "metadata": {
    "collapsed": true
   },
   "source": [
    "## Feature Selection Using Random Forest\n",
    "\n",
    "[Following this example](https://chrisalbon.com/machine-learning/feature_selection_using_random_forest.html)"
   ]
  },
  {
   "cell_type": "code",
   "execution_count": 63,
   "metadata": {
    "collapsed": true
   },
   "outputs": [],
   "source": [
    "import numpy as np\n",
    "from sklearn.ensemble import RandomForestClassifier\n",
    "from sklearn import datasets\n",
    "from sklearn.model_selection import train_test_split\n",
    "from sklearn.feature_selection import SelectFromModel\n",
    "from sklearn.metrics import accuracy_score"
   ]
  },
  {
   "cell_type": "code",
   "execution_count": 64,
   "metadata": {
    "collapsed": false
   },
   "outputs": [
    {
     "data": {
      "text/plain": [
       "(12074,)"
      ]
     },
     "execution_count": 64,
     "metadata": {},
     "output_type": "execute_result"
    }
   ],
   "source": [
    "y = asked.has_relig\n",
    "y.shape"
   ]
  },
  {
   "cell_type": "code",
   "execution_count": 65,
   "metadata": {
    "collapsed": false
   },
   "outputs": [
    {
     "data": {
      "text/plain": [
       "[u'compuse',\n",
       " u'webmob',\n",
       " u'emailmin',\n",
       " u'emailhr',\n",
       " u'usewww',\n",
       " u'wwwhr',\n",
       " u'wwwmin',\n",
       " u'intrhome',\n",
       " u'parelkid',\n",
       " u'hispanic',\n",
       " u'cohort',\n",
       " u'ballot',\n",
       " u'sei10',\n",
       " u'tvhours',\n",
       " u'age',\n",
       " u'educ',\n",
       " u'sex',\n",
       " u'race',\n",
       " u'res16',\n",
       " u'income',\n",
       " u'rincome',\n",
       " u'srcbelt',\n",
       " u'relig16',\n",
       " u'denom16',\n",
       " u'fund16',\n",
       " 'www50',\n",
       " 'www75',\n",
       " 'raised',\n",
       " 'urban',\n",
       " 'rural',\n",
       " 'farm',\n",
       " 'country',\n",
       " 'city']"
      ]
     },
     "execution_count": 65,
     "metadata": {},
     "output_type": "execute_result"
    }
   ],
   "source": [
    "cols = list(asked.columns)\n",
    "cols.remove('relig')\n",
    "cols.remove('denom')\n",
    "cols.remove('fund')\n",
    "cols.remove('sprel')\n",
    "cols.remove('has_relig')\n",
    "cols.remove('god')\n",
    "cols.remove('bible')\n",
    "cols.remove('conclerg')\n",
    "cols.remove('id_')\n",
    "cols.remove('year')\n",
    "cols.remove('wtssall')\n",
    "cols.remove('sei')\n",
    "cols.remove('relactiv')\n",
    "cols.remove('relactiv1')\n",
    "cols"
   ]
  },
  {
   "cell_type": "code",
   "execution_count": 66,
   "metadata": {
    "collapsed": false
   },
   "outputs": [
    {
     "data": {
      "text/plain": [
       "(12074, 33)"
      ]
     },
     "execution_count": 66,
     "metadata": {},
     "output_type": "execute_result"
    }
   ],
   "source": [
    "X = asked[cols]\n",
    "X.shape"
   ]
  },
  {
   "cell_type": "code",
   "execution_count": 67,
   "metadata": {
    "collapsed": false
   },
   "outputs": [],
   "source": [
    "X_train, X_test, y_train, y_test = train_test_split(X, y, test_size=0.4, random_state=0)"
   ]
  },
  {
   "cell_type": "code",
   "execution_count": 68,
   "metadata": {
    "collapsed": true
   },
   "outputs": [],
   "source": [
    "clf = RandomForestClassifier(n_estimators=10000, random_state=0, n_jobs=-1)"
   ]
  },
  {
   "cell_type": "code",
   "execution_count": 69,
   "metadata": {
    "collapsed": false
   },
   "outputs": [
    {
     "data": {
      "text/plain": [
       "RandomForestClassifier(bootstrap=True, class_weight=None, criterion='gini',\n",
       "            max_depth=None, max_features='auto', max_leaf_nodes=None,\n",
       "            min_impurity_split=1e-07, min_samples_leaf=1,\n",
       "            min_samples_split=2, min_weight_fraction_leaf=0.0,\n",
       "            n_estimators=10000, n_jobs=-1, oob_score=False, random_state=0,\n",
       "            verbose=0, warm_start=False)"
      ]
     },
     "execution_count": 69,
     "metadata": {},
     "output_type": "execute_result"
    }
   ],
   "source": [
    "clf.fit(X_train, y_train)"
   ]
  },
  {
   "cell_type": "code",
   "execution_count": 70,
   "metadata": {
    "collapsed": false,
    "scrolled": true
   },
   "outputs": [
    {
     "name": "stdout",
     "output_type": "stream",
     "text": [
      "(0.0, u'parelkid')\n",
      "(0.0029067330380193423, u'webmob')\n",
      "(0.0051201776778140879, 'country')\n",
      "(0.0070071169291810748, 'farm')\n",
      "(0.0091197045270093677, 'www50')\n",
      "(0.009167919256894896, 'www75')\n",
      "(0.0091691324343430459, 'city')\n",
      "(0.0095969893625741758, 'urban')\n",
      "(0.011058181088292622, u'compuse')\n",
      "(0.011714267543789644, 'rural')\n",
      "(0.012085676240071307, u'usewww')\n",
      "(0.014730656891025967, u'race')\n",
      "(0.01534696091882181, u'intrhome')\n",
      "(0.015790668027344693, u'hispanic')\n",
      "(0.016305553998937045, u'sex')\n",
      "(0.018412775279022228, u'wwwmin')\n",
      "(0.023528504800513102, u'ballot')\n",
      "(0.02632634938944816, u'emailmin')\n",
      "(0.027010377187131167, u'income')\n",
      "(0.031300789451890916, u'fund16')\n",
      "(0.036110673567019642, u'srcbelt')\n",
      "(0.037573816019885908, u'denom16')\n",
      "(0.03791881178732763, u'res16')\n",
      "(0.040682846449169356, u'rincome')\n",
      "(0.044886227042674115, u'relig16')\n",
      "(0.046056676889680355, u'tvhours')\n",
      "(0.048210651598457187, 'raised')\n",
      "(0.051247783115001597, u'emailhr')\n",
      "(0.055735213947322268, u'educ')\n",
      "(0.061196265975715744, u'wwwhr')\n",
      "(0.082746273279011018, u'age')\n",
      "(0.089940625355936263, u'sei10')\n",
      "(0.091995600930674021, u'cohort')\n"
     ]
    }
   ],
   "source": [
    "for feature in sorted(zip(clf.feature_importances_, cols)):\n",
    "    print(feature)"
   ]
  },
  {
   "cell_type": "code",
   "execution_count": 76,
   "metadata": {
    "collapsed": false
   },
   "outputs": [],
   "source": [
    "sfm = SelectFromModel(clf, threshold=0.027)"
   ]
  },
  {
   "cell_type": "code",
   "execution_count": 77,
   "metadata": {
    "collapsed": false
   },
   "outputs": [
    {
     "data": {
      "text/plain": [
       "SelectFromModel(estimator=RandomForestClassifier(bootstrap=True, class_weight=None, criterion='gini',\n",
       "            max_depth=None, max_features='auto', max_leaf_nodes=None,\n",
       "            min_impurity_split=1e-07, min_samples_leaf=1,\n",
       "            min_samples_split=2, min_weight_fraction_leaf=0.0,\n",
       "            n_estimators=10000, n_jobs=-1, oob_score=False, random_state=0,\n",
       "            verbose=0, warm_start=False),\n",
       "        prefit=False, threshold=0.027)"
      ]
     },
     "execution_count": 77,
     "metadata": {},
     "output_type": "execute_result"
    }
   ],
   "source": [
    "sfm.fit(X_train, y_train)"
   ]
  },
  {
   "cell_type": "code",
   "execution_count": 78,
   "metadata": {
    "collapsed": false
   },
   "outputs": [],
   "source": [
    "X_important_train = sfm.transform(X_train)\n",
    "X_important_test = sfm.transform(X_test)"
   ]
  },
  {
   "cell_type": "code",
   "execution_count": 79,
   "metadata": {
    "collapsed": false
   },
   "outputs": [
    {
     "data": {
      "text/plain": [
       "RandomForestClassifier(bootstrap=True, class_weight=None, criterion='gini',\n",
       "            max_depth=None, max_features='auto', max_leaf_nodes=None,\n",
       "            min_impurity_split=1e-07, min_samples_leaf=1,\n",
       "            min_samples_split=2, min_weight_fraction_leaf=0.0,\n",
       "            n_estimators=10000, n_jobs=-1, oob_score=False, random_state=0,\n",
       "            verbose=0, warm_start=False)"
      ]
     },
     "execution_count": 79,
     "metadata": {},
     "output_type": "execute_result"
    }
   ],
   "source": [
    "clf_important = RandomForestClassifier(n_estimators=10000, random_state=0, n_jobs=-1)\n",
    "clf_important.fit(X_important_train, y_train)\n"
   ]
  },
  {
   "cell_type": "code",
   "execution_count": 80,
   "metadata": {
    "collapsed": false
   },
   "outputs": [
    {
     "data": {
      "text/plain": [
       "0.90434782608695652"
      ]
     },
     "execution_count": 80,
     "metadata": {},
     "output_type": "execute_result"
    }
   ],
   "source": [
    "y_pred = clf.predict(X_test)\n",
    "accuracy_score(y_test, y_pred)\n",
    "\n"
   ]
  },
  {
   "cell_type": "code",
   "execution_count": 81,
   "metadata": {
    "collapsed": false
   },
   "outputs": [
    {
     "data": {
      "text/plain": [
       "0.9024844720496894"
      ]
     },
     "execution_count": 81,
     "metadata": {},
     "output_type": "execute_result"
    }
   ],
   "source": [
    "y_important_pred = clf_important.predict(X_important_test)\n",
    "accuracy_score(y_test, y_important_pred)\n"
   ]
  },
  {
   "cell_type": "markdown",
   "metadata": {},
   "source": [
    "## Ridge and Lasso regression"
   ]
  },
  {
   "cell_type": "code",
   "execution_count": 83,
   "metadata": {
    "collapsed": true
   },
   "outputs": [],
   "source": [
    "from sklearn.linear_model import Lasso\n"
   ]
  },
  {
   "cell_type": "code",
   "execution_count": 84,
   "metadata": {
    "collapsed": true
   },
   "outputs": [],
   "source": [
    "lassoreg = Lasso(alpha=1, normalize=True, max_iter=1e5)\n"
   ]
  },
  {
   "cell_type": "code",
   "execution_count": 85,
   "metadata": {
    "collapsed": false
   },
   "outputs": [
    {
     "data": {
      "text/plain": [
       "Lasso(alpha=1, copy_X=True, fit_intercept=True, max_iter=100000.0,\n",
       "   normalize=True, positive=False, precompute=False, random_state=None,\n",
       "   selection='cyclic', tol=0.0001, warm_start=False)"
      ]
     },
     "execution_count": 85,
     "metadata": {},
     "output_type": "execute_result"
    }
   ],
   "source": [
    "predictors = ['has_relig']\n",
    "lassoreg.fit(asked[predictors], asked['wwwhr'])"
   ]
  },
  {
   "cell_type": "code",
   "execution_count": 87,
   "metadata": {
    "collapsed": false
   },
   "outputs": [
    {
     "ename": "ValueError",
     "evalue": "Can't handle mix of multiclass and continuous",
     "output_type": "error",
     "traceback": [
      "\u001b[1;31m---------------------------------------------------------------------------\u001b[0m",
      "\u001b[1;31mValueError\u001b[0m                                Traceback (most recent call last)",
      "\u001b[1;32m<ipython-input-87-7660958a3022>\u001b[0m in \u001b[0;36m<module>\u001b[1;34m()\u001b[0m\n\u001b[0;32m      1\u001b[0m \u001b[0my_pred\u001b[0m \u001b[1;33m=\u001b[0m \u001b[0mlassoreg\u001b[0m\u001b[1;33m.\u001b[0m\u001b[0mpredict\u001b[0m\u001b[1;33m(\u001b[0m\u001b[0masked\u001b[0m\u001b[1;33m[\u001b[0m\u001b[0mpredictors\u001b[0m\u001b[1;33m]\u001b[0m\u001b[1;33m)\u001b[0m\u001b[1;33m\u001b[0m\u001b[0m\n\u001b[1;32m----> 2\u001b[1;33m \u001b[0maccuracy_score\u001b[0m\u001b[1;33m(\u001b[0m\u001b[0masked\u001b[0m\u001b[1;33m[\u001b[0m\u001b[1;34m'wwwhr'\u001b[0m\u001b[1;33m]\u001b[0m\u001b[1;33m,\u001b[0m \u001b[0my_pred\u001b[0m\u001b[1;33m)\u001b[0m\u001b[1;33m\u001b[0m\u001b[0m\n\u001b[0m",
      "\u001b[1;32m/home/downey/anaconda2/lib/python2.7/site-packages/sklearn/metrics/classification.pyc\u001b[0m in \u001b[0;36maccuracy_score\u001b[1;34m(y_true, y_pred, normalize, sample_weight)\u001b[0m\n\u001b[0;32m    170\u001b[0m \u001b[1;33m\u001b[0m\u001b[0m\n\u001b[0;32m    171\u001b[0m     \u001b[1;31m# Compute accuracy for each possible representation\u001b[0m\u001b[1;33m\u001b[0m\u001b[1;33m\u001b[0m\u001b[0m\n\u001b[1;32m--> 172\u001b[1;33m     \u001b[0my_type\u001b[0m\u001b[1;33m,\u001b[0m \u001b[0my_true\u001b[0m\u001b[1;33m,\u001b[0m \u001b[0my_pred\u001b[0m \u001b[1;33m=\u001b[0m \u001b[0m_check_targets\u001b[0m\u001b[1;33m(\u001b[0m\u001b[0my_true\u001b[0m\u001b[1;33m,\u001b[0m \u001b[0my_pred\u001b[0m\u001b[1;33m)\u001b[0m\u001b[1;33m\u001b[0m\u001b[0m\n\u001b[0m\u001b[0;32m    173\u001b[0m     \u001b[1;32mif\u001b[0m \u001b[0my_type\u001b[0m\u001b[1;33m.\u001b[0m\u001b[0mstartswith\u001b[0m\u001b[1;33m(\u001b[0m\u001b[1;34m'multilabel'\u001b[0m\u001b[1;33m)\u001b[0m\u001b[1;33m:\u001b[0m\u001b[1;33m\u001b[0m\u001b[0m\n\u001b[0;32m    174\u001b[0m         \u001b[0mdiffering_labels\u001b[0m \u001b[1;33m=\u001b[0m \u001b[0mcount_nonzero\u001b[0m\u001b[1;33m(\u001b[0m\u001b[0my_true\u001b[0m \u001b[1;33m-\u001b[0m \u001b[0my_pred\u001b[0m\u001b[1;33m,\u001b[0m \u001b[0maxis\u001b[0m\u001b[1;33m=\u001b[0m\u001b[1;36m1\u001b[0m\u001b[1;33m)\u001b[0m\u001b[1;33m\u001b[0m\u001b[0m\n",
      "\u001b[1;32m/home/downey/anaconda2/lib/python2.7/site-packages/sklearn/metrics/classification.pyc\u001b[0m in \u001b[0;36m_check_targets\u001b[1;34m(y_true, y_pred)\u001b[0m\n\u001b[0;32m     80\u001b[0m     \u001b[1;32mif\u001b[0m \u001b[0mlen\u001b[0m\u001b[1;33m(\u001b[0m\u001b[0my_type\u001b[0m\u001b[1;33m)\u001b[0m \u001b[1;33m>\u001b[0m \u001b[1;36m1\u001b[0m\u001b[1;33m:\u001b[0m\u001b[1;33m\u001b[0m\u001b[0m\n\u001b[0;32m     81\u001b[0m         raise ValueError(\"Can't handle mix of {0} and {1}\"\n\u001b[1;32m---> 82\u001b[1;33m                          \"\".format(type_true, type_pred))\n\u001b[0m\u001b[0;32m     83\u001b[0m \u001b[1;33m\u001b[0m\u001b[0m\n\u001b[0;32m     84\u001b[0m     \u001b[1;31m# We can't have more than one value on y_type => The set is no more needed\u001b[0m\u001b[1;33m\u001b[0m\u001b[1;33m\u001b[0m\u001b[0m\n",
      "\u001b[1;31mValueError\u001b[0m: Can't handle mix of multiclass and continuous"
     ]
    }
   ],
   "source": [
    "y_pred = lassoreg.predict(asked[predictors])\n"
   ]
  },
  {
   "cell_type": "code",
   "execution_count": 88,
   "metadata": {
    "collapsed": true
   },
   "outputs": [],
   "source": [
    "rss = sum((y_pred-asked['wwwhr'])**2)"
   ]
  },
  {
   "cell_type": "code",
   "execution_count": 89,
   "metadata": {
    "collapsed": false
   },
   "outputs": [
    {
     "data": {
      "text/plain": [
       "9.2226271326817955"
      ]
     },
     "execution_count": 89,
     "metadata": {},
     "output_type": "execute_result"
    }
   ],
   "source": [
    "lassoreg.intercept_"
   ]
  },
  {
   "cell_type": "code",
   "execution_count": 90,
   "metadata": {
    "collapsed": false
   },
   "outputs": [
    {
     "data": {
      "text/plain": [
       "array([-0.])"
      ]
     },
     "execution_count": 90,
     "metadata": {},
     "output_type": "execute_result"
    }
   ],
   "source": [
    "lassoreg.coef_"
   ]
  },
  {
   "cell_type": "code",
   "execution_count": 100,
   "metadata": {
    "collapsed": false,
    "scrolled": true
   },
   "outputs": [
    {
     "name": "stdout",
     "output_type": "stream",
     "text": [
      "year  compuse  webmob  emailmin  emailhr  usewww  wwwhr  wwwmin  intrhome  parelkid  hispanic  sei  cohort  ballot  wtssall  sei10  tvhours  relactiv  god  conclerg  id_  age  educ  sex  race  res16  income  rincome  srcbelt  relig  denom  fund  relig16  denom16  fund16  sprel  bible  relactiv1  "
     ]
    }
   ],
   "source": [
    "for colname in df.columns:\n",
    "    print(colname, end='  ')"
   ]
  },
  {
   "cell_type": "code",
   "execution_count": 109,
   "metadata": {
    "collapsed": false
   },
   "outputs": [
    {
     "name": "stdout",
     "output_type": "stream",
     "text": [
      "Optimization terminated successfully.\n",
      "         Current function value: 0.431695\n",
      "         Iterations 7\n"
     ]
    },
    {
     "data": {
      "text/html": [
       "<table class=\"simpletable\">\n",
       "<caption>Logit Regression Results</caption>\n",
       "<tr>\n",
       "  <th>Dep. Variable:</th>     <td>has_relig</td>    <th>  No. Observations:  </th>   <td> 12074</td>  \n",
       "</tr>\n",
       "<tr>\n",
       "  <th>Model:</th>               <td>Logit</td>      <th>  Df Residuals:      </th>   <td> 12063</td>  \n",
       "</tr>\n",
       "<tr>\n",
       "  <th>Method:</th>               <td>MLE</td>       <th>  Df Model:          </th>   <td>    10</td>  \n",
       "</tr>\n",
       "<tr>\n",
       "  <th>Date:</th>          <td>Mon, 17 Apr 2017</td> <th>  Pseudo R-squ.:     </th>   <td>0.1160</td>  \n",
       "</tr>\n",
       "<tr>\n",
       "  <th>Time:</th>              <td>15:30:21</td>     <th>  Log-Likelihood:    </th>  <td> -5212.3</td> \n",
       "</tr>\n",
       "<tr>\n",
       "  <th>converged:</th>           <td>True</td>       <th>  LL-Null:           </th>  <td> -5896.6</td> \n",
       "</tr>\n",
       "<tr>\n",
       "  <th> </th>                      <td> </td>        <th>  LLR p-value:       </th> <td>6.014e-288</td>\n",
       "</tr>\n",
       "</table>\n",
       "<table class=\"simpletable\">\n",
       "<tr>\n",
       "         <td></td>           <th>coef</th>     <th>std err</th>      <th>z</th>      <th>P>|z|</th>  <th>[0.025</th>    <th>0.975]</th>  \n",
       "</tr>\n",
       "<tr>\n",
       "  <th>Intercept</th>      <td>   90.1090</td> <td>    9.585</td> <td>    9.401</td> <td> 0.000</td> <td>   71.323</td> <td>  108.895</td>\n",
       "</tr>\n",
       "<tr>\n",
       "  <th>C(sex)[T.2]</th>    <td>    0.3587</td> <td>    0.050</td> <td>    7.167</td> <td> 0.000</td> <td>    0.261</td> <td>    0.457</td>\n",
       "</tr>\n",
       "<tr>\n",
       "  <th>C(race)[T.2]</th>   <td>    0.3660</td> <td>    0.085</td> <td>    4.328</td> <td> 0.000</td> <td>    0.200</td> <td>    0.532</td>\n",
       "</tr>\n",
       "<tr>\n",
       "  <th>C(race)[T.3]</th>   <td>    0.3187</td> <td>    0.084</td> <td>    3.808</td> <td> 0.000</td> <td>    0.155</td> <td>    0.483</td>\n",
       "</tr>\n",
       "<tr>\n",
       "  <th>raised[T.True]</th> <td>    2.1240</td> <td>    0.074</td> <td>   28.742</td> <td> 0.000</td> <td>    1.979</td> <td>    2.269</td>\n",
       "</tr>\n",
       "<tr>\n",
       "  <th>cohort</th>         <td>   -0.0258</td> <td>    0.002</td> <td>  -14.269</td> <td> 0.000</td> <td>   -0.029</td> <td>   -0.022</td>\n",
       "</tr>\n",
       "<tr>\n",
       "  <th>year</th>           <td>   -0.0196</td> <td>    0.005</td> <td>   -4.044</td> <td> 0.000</td> <td>   -0.029</td> <td>   -0.010</td>\n",
       "</tr>\n",
       "<tr>\n",
       "  <th>hispanic</th>       <td>   -0.0088</td> <td>    0.005</td> <td>   -1.716</td> <td> 0.086</td> <td>   -0.019</td> <td>    0.001</td>\n",
       "</tr>\n",
       "<tr>\n",
       "  <th>sei10</th>          <td>   -0.0028</td> <td>    0.001</td> <td>   -2.208</td> <td> 0.027</td> <td>   -0.005</td> <td>   -0.000</td>\n",
       "</tr>\n",
       "<tr>\n",
       "  <th>educ</th>           <td>   -0.0324</td> <td>    0.011</td> <td>   -3.087</td> <td> 0.002</td> <td>   -0.053</td> <td>   -0.012</td>\n",
       "</tr>\n",
       "<tr>\n",
       "  <th>wwwhr</th>          <td>   -0.0055</td> <td>    0.002</td> <td>   -3.146</td> <td> 0.002</td> <td>   -0.009</td> <td>   -0.002</td>\n",
       "</tr>\n",
       "</table>"
      ],
      "text/plain": [
       "<class 'statsmodels.iolib.summary.Summary'>\n",
       "\"\"\"\n",
       "                           Logit Regression Results                           \n",
       "==============================================================================\n",
       "Dep. Variable:              has_relig   No. Observations:                12074\n",
       "Model:                          Logit   Df Residuals:                    12063\n",
       "Method:                           MLE   Df Model:                           10\n",
       "Date:                Mon, 17 Apr 2017   Pseudo R-squ.:                  0.1160\n",
       "Time:                        15:30:21   Log-Likelihood:                -5212.3\n",
       "converged:                       True   LL-Null:                       -5896.6\n",
       "                                        LLR p-value:                6.014e-288\n",
       "==================================================================================\n",
       "                     coef    std err          z      P>|z|      [0.025      0.975]\n",
       "----------------------------------------------------------------------------------\n",
       "Intercept         90.1090      9.585      9.401      0.000      71.323     108.895\n",
       "C(sex)[T.2]        0.3587      0.050      7.167      0.000       0.261       0.457\n",
       "C(race)[T.2]       0.3660      0.085      4.328      0.000       0.200       0.532\n",
       "C(race)[T.3]       0.3187      0.084      3.808      0.000       0.155       0.483\n",
       "raised[T.True]     2.1240      0.074     28.742      0.000       1.979       2.269\n",
       "cohort            -0.0258      0.002    -14.269      0.000      -0.029      -0.022\n",
       "year              -0.0196      0.005     -4.044      0.000      -0.029      -0.010\n",
       "hispanic          -0.0088      0.005     -1.716      0.086      -0.019       0.001\n",
       "sei10             -0.0028      0.001     -2.208      0.027      -0.005      -0.000\n",
       "educ              -0.0324      0.011     -3.087      0.002      -0.053      -0.012\n",
       "wwwhr             -0.0055      0.002     -3.146      0.002      -0.009      -0.002\n",
       "==================================================================================\n",
       "\"\"\""
      ]
     },
     "execution_count": 109,
     "metadata": {},
     "output_type": "execute_result"
    }
   ],
   "source": [
    "formula = ('has_relig ~ cohort + year + C(sex) + C(race) + hispanic + sei10 +'\n",
    "    'raised + educ + wwwhr')\n",
    "results = smf.logit(formula, data=asked).fit()\n",
    "results.summary()"
   ]
  },
  {
   "cell_type": "code",
   "execution_count": 108,
   "metadata": {
    "collapsed": false
   },
   "outputs": [
    {
     "data": {
      "text/html": [
       "<table class=\"simpletable\">\n",
       "<caption>OLS Regression Results</caption>\n",
       "<tr>\n",
       "  <th>Dep. Variable:</th>          <td>wwwhr</td>      <th>  R-squared:         </th> <td>   0.072</td> \n",
       "</tr>\n",
       "<tr>\n",
       "  <th>Model:</th>                   <td>OLS</td>       <th>  Adj. R-squared:    </th> <td>   0.071</td> \n",
       "</tr>\n",
       "<tr>\n",
       "  <th>Method:</th>             <td>Least Squares</td>  <th>  F-statistic:       </th> <td>   93.44</td> \n",
       "</tr>\n",
       "<tr>\n",
       "  <th>Date:</th>             <td>Mon, 17 Apr 2017</td> <th>  Prob (F-statistic):</th> <td>5.65e-187</td>\n",
       "</tr>\n",
       "<tr>\n",
       "  <th>Time:</th>                 <td>15:29:54</td>     <th>  Log-Likelihood:    </th> <td> -47867.</td> \n",
       "</tr>\n",
       "<tr>\n",
       "  <th>No. Observations:</th>      <td> 12074</td>      <th>  AIC:               </th> <td>9.576e+04</td>\n",
       "</tr>\n",
       "<tr>\n",
       "  <th>Df Residuals:</th>          <td> 12063</td>      <th>  BIC:               </th> <td>9.584e+04</td>\n",
       "</tr>\n",
       "<tr>\n",
       "  <th>Df Model:</th>              <td>    10</td>      <th>                     </th>     <td> </td>    \n",
       "</tr>\n",
       "<tr>\n",
       "  <th>Covariance Type:</th>      <td>nonrobust</td>    <th>                     </th>     <td> </td>    \n",
       "</tr>\n",
       "</table>\n",
       "<table class=\"simpletable\">\n",
       "<tr>\n",
       "         <td></td>           <th>coef</th>     <th>std err</th>      <th>t</th>      <th>P>|t|</th>  <th>[0.025</th>    <th>0.975]</th>  \n",
       "</tr>\n",
       "<tr>\n",
       "  <th>Intercept</th>      <td>-1011.1674</td> <td>   44.141</td> <td>  -22.908</td> <td> 0.000</td> <td>-1097.691</td> <td> -924.644</td>\n",
       "</tr>\n",
       "<tr>\n",
       "  <th>C(sex)[T.2]</th>    <td>   -1.2193</td> <td>    0.234</td> <td>   -5.215</td> <td> 0.000</td> <td>   -1.678</td> <td>   -0.761</td>\n",
       "</tr>\n",
       "<tr>\n",
       "  <th>C(race)[T.2]</th>   <td>    1.0913</td> <td>    0.370</td> <td>    2.949</td> <td> 0.003</td> <td>    0.366</td> <td>    1.817</td>\n",
       "</tr>\n",
       "<tr>\n",
       "  <th>C(race)[T.3]</th>   <td>    1.9466</td> <td>    0.386</td> <td>    5.039</td> <td> 0.000</td> <td>    1.189</td> <td>    2.704</td>\n",
       "</tr>\n",
       "<tr>\n",
       "  <th>raised[T.True]</th> <td>   -1.5111</td> <td>    0.455</td> <td>   -3.324</td> <td> 0.001</td> <td>   -2.402</td> <td>   -0.620</td>\n",
       "</tr>\n",
       "<tr>\n",
       "  <th>cohort</th>         <td>    0.1199</td> <td>    0.008</td> <td>   15.015</td> <td> 0.000</td> <td>    0.104</td> <td>    0.136</td>\n",
       "</tr>\n",
       "<tr>\n",
       "  <th>year</th>           <td>    0.3894</td> <td>    0.022</td> <td>   17.507</td> <td> 0.000</td> <td>    0.346</td> <td>    0.433</td>\n",
       "</tr>\n",
       "<tr>\n",
       "  <th>hispanic</th>       <td>    0.0311</td> <td>    0.027</td> <td>    1.164</td> <td> 0.245</td> <td>   -0.021</td> <td>    0.083</td>\n",
       "</tr>\n",
       "<tr>\n",
       "  <th>sei10</th>          <td>    0.0394</td> <td>    0.006</td> <td>    6.552</td> <td> 0.000</td> <td>    0.028</td> <td>    0.051</td>\n",
       "</tr>\n",
       "<tr>\n",
       "  <th>educ</th>           <td>    0.2440</td> <td>    0.048</td> <td>    5.133</td> <td> 0.000</td> <td>    0.151</td> <td>    0.337</td>\n",
       "</tr>\n",
       "<tr>\n",
       "  <th>has_relig</th>      <td>   -1.1527</td> <td>    0.317</td> <td>   -3.638</td> <td> 0.000</td> <td>   -1.774</td> <td>   -0.532</td>\n",
       "</tr>\n",
       "</table>\n",
       "<table class=\"simpletable\">\n",
       "<tr>\n",
       "  <th>Omnibus:</th>       <td>8662.617</td> <th>  Durbin-Watson:     </th>  <td>   2.014</td> \n",
       "</tr>\n",
       "<tr>\n",
       "  <th>Prob(Omnibus):</th>  <td> 0.000</td>  <th>  Jarque-Bera (JB):  </th> <td>178352.240</td>\n",
       "</tr>\n",
       "<tr>\n",
       "  <th>Skew:</th>           <td> 3.246</td>  <th>  Prob(JB):          </th>  <td>    0.00</td> \n",
       "</tr>\n",
       "<tr>\n",
       "  <th>Kurtosis:</th>       <td>20.674</td>  <th>  Cond. No.          </th>  <td>1.07e+06</td> \n",
       "</tr>\n",
       "</table>"
      ],
      "text/plain": [
       "<class 'statsmodels.iolib.summary.Summary'>\n",
       "\"\"\"\n",
       "                            OLS Regression Results                            \n",
       "==============================================================================\n",
       "Dep. Variable:                  wwwhr   R-squared:                       0.072\n",
       "Model:                            OLS   Adj. R-squared:                  0.071\n",
       "Method:                 Least Squares   F-statistic:                     93.44\n",
       "Date:                Mon, 17 Apr 2017   Prob (F-statistic):          5.65e-187\n",
       "Time:                        15:29:54   Log-Likelihood:                -47867.\n",
       "No. Observations:               12074   AIC:                         9.576e+04\n",
       "Df Residuals:                   12063   BIC:                         9.584e+04\n",
       "Df Model:                          10                                         \n",
       "Covariance Type:            nonrobust                                         \n",
       "==================================================================================\n",
       "                     coef    std err          t      P>|t|      [0.025      0.975]\n",
       "----------------------------------------------------------------------------------\n",
       "Intercept      -1011.1674     44.141    -22.908      0.000   -1097.691    -924.644\n",
       "C(sex)[T.2]       -1.2193      0.234     -5.215      0.000      -1.678      -0.761\n",
       "C(race)[T.2]       1.0913      0.370      2.949      0.003       0.366       1.817\n",
       "C(race)[T.3]       1.9466      0.386      5.039      0.000       1.189       2.704\n",
       "raised[T.True]    -1.5111      0.455     -3.324      0.001      -2.402      -0.620\n",
       "cohort             0.1199      0.008     15.015      0.000       0.104       0.136\n",
       "year               0.3894      0.022     17.507      0.000       0.346       0.433\n",
       "hispanic           0.0311      0.027      1.164      0.245      -0.021       0.083\n",
       "sei10              0.0394      0.006      6.552      0.000       0.028       0.051\n",
       "educ               0.2440      0.048      5.133      0.000       0.151       0.337\n",
       "has_relig         -1.1527      0.317     -3.638      0.000      -1.774      -0.532\n",
       "==============================================================================\n",
       "Omnibus:                     8662.617   Durbin-Watson:                   2.014\n",
       "Prob(Omnibus):                  0.000   Jarque-Bera (JB):           178352.240\n",
       "Skew:                           3.246   Prob(JB):                         0.00\n",
       "Kurtosis:                      20.674   Cond. No.                     1.07e+06\n",
       "==============================================================================\n",
       "\n",
       "Warnings:\n",
       "[1] Standard Errors assume that the covariance matrix of the errors is correctly specified.\n",
       "[2] The condition number is large, 1.07e+06. This might indicate that there are\n",
       "strong multicollinearity or other numerical problems.\n",
       "\"\"\""
      ]
     },
     "execution_count": 108,
     "metadata": {},
     "output_type": "execute_result"
    }
   ],
   "source": [
    "formula = ('wwwhr ~ cohort + year + C(sex) + C(race) + hispanic + sei10 +'\n",
    "    'raised + educ + has_relig')\n",
    "results = smf.ols(formula, data=asked).fit()\n",
    "results.summary()"
   ]
  },
  {
   "cell_type": "code",
   "execution_count": null,
   "metadata": {
    "collapsed": true
   },
   "outputs": [],
   "source": []
  }
 ],
 "metadata": {
  "kernelspec": {
   "display_name": "Python 2",
   "language": "python",
   "name": "python2"
  },
  "language_info": {
   "codemirror_mode": {
    "name": "ipython",
    "version": 2
   },
   "file_extension": ".py",
   "mimetype": "text/x-python",
   "name": "python",
   "nbconvert_exporter": "python",
   "pygments_lexer": "ipython2",
   "version": "2.7.11"
  }
 },
 "nbformat": 4,
 "nbformat_minor": 0
}
