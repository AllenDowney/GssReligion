{
 "cells": [
  {
   "cell_type": "code",
   "execution_count": 1,
   "metadata": {
    "collapsed": true
   },
   "outputs": [],
   "source": [
    "from __future__ import print_function, division\n",
    "\n",
    "%matplotlib inline\n",
    "\n",
    "import pandas as pd\n",
    "import numpy as np\n",
    "\n",
    "import thinkstats2\n",
    "import thinkplot\n",
    "\n",
    "import statsmodels.formula.api as smf\n"
   ]
  },
  {
   "cell_type": "markdown",
   "metadata": {},
   "source": [
    "## Data\n",
    "\n",
    "Data Source: General Social Survey\n",
    "\n",
    "[Link to my project on GSS DataExplorer](https://gssdataexplorer.norc.org/projects/28298)\n",
    "    \n",
    "[Direct link to download data](https://gssdataexplorer.norc.org/extracts/20141/download)\n",
    "\n",
    "The download is a gzipped tar file, which you can extract with\n",
    "\n",
    "```\n",
    "   tar -xzf gss_2000_2016.tar.gz\n",
    "```"
   ]
  },
  {
   "cell_type": "code",
   "execution_count": 2,
   "metadata": {
    "collapsed": false
   },
   "outputs": [
    {
     "name": "stdout",
     "output_type": "stream",
     "text": [
      "(24350, 35)\n"
     ]
    },
    {
     "data": {
      "text/html": [
       "<div>\n",
       "<table border=\"1\" class=\"dataframe\">\n",
       "  <thead>\n",
       "    <tr style=\"text-align: right;\">\n",
       "      <th></th>\n",
       "      <th>year</th>\n",
       "      <th>god</th>\n",
       "      <th>compuse</th>\n",
       "      <th>webmob</th>\n",
       "      <th>emailmin</th>\n",
       "      <th>emailhr</th>\n",
       "      <th>usewww</th>\n",
       "      <th>wwwhr</th>\n",
       "      <th>wwwmin</th>\n",
       "      <th>intrhome</th>\n",
       "      <th>...</th>\n",
       "      <th>income</th>\n",
       "      <th>rincome</th>\n",
       "      <th>srcbelt</th>\n",
       "      <th>relig</th>\n",
       "      <th>denom</th>\n",
       "      <th>fund</th>\n",
       "      <th>relig16</th>\n",
       "      <th>denom16</th>\n",
       "      <th>fund16</th>\n",
       "      <th>sei10</th>\n",
       "    </tr>\n",
       "  </thead>\n",
       "  <tbody>\n",
       "    <tr>\n",
       "      <th>0</th>\n",
       "      <td>2000</td>\n",
       "      <td>5</td>\n",
       "      <td>1</td>\n",
       "      <td>0</td>\n",
       "      <td>0</td>\n",
       "      <td>2</td>\n",
       "      <td>1</td>\n",
       "      <td>5</td>\n",
       "      <td>0</td>\n",
       "      <td>0</td>\n",
       "      <td>...</td>\n",
       "      <td>99</td>\n",
       "      <td>8</td>\n",
       "      <td>3</td>\n",
       "      <td>1</td>\n",
       "      <td>14</td>\n",
       "      <td>1</td>\n",
       "      <td>1</td>\n",
       "      <td>14</td>\n",
       "      <td>1</td>\n",
       "      <td>57.3</td>\n",
       "    </tr>\n",
       "    <tr>\n",
       "      <th>1</th>\n",
       "      <td>2000</td>\n",
       "      <td>6</td>\n",
       "      <td>1</td>\n",
       "      <td>0</td>\n",
       "      <td>0</td>\n",
       "      <td>0</td>\n",
       "      <td>2</td>\n",
       "      <td>-1</td>\n",
       "      <td>-1</td>\n",
       "      <td>0</td>\n",
       "      <td>...</td>\n",
       "      <td>8</td>\n",
       "      <td>8</td>\n",
       "      <td>3</td>\n",
       "      <td>1</td>\n",
       "      <td>18</td>\n",
       "      <td>1</td>\n",
       "      <td>2</td>\n",
       "      <td>0</td>\n",
       "      <td>2</td>\n",
       "      <td>38.8</td>\n",
       "    </tr>\n",
       "    <tr>\n",
       "      <th>2</th>\n",
       "      <td>2000</td>\n",
       "      <td>6</td>\n",
       "      <td>2</td>\n",
       "      <td>0</td>\n",
       "      <td>-1</td>\n",
       "      <td>-1</td>\n",
       "      <td>0</td>\n",
       "      <td>-1</td>\n",
       "      <td>-1</td>\n",
       "      <td>0</td>\n",
       "      <td>...</td>\n",
       "      <td>10</td>\n",
       "      <td>0</td>\n",
       "      <td>3</td>\n",
       "      <td>1</td>\n",
       "      <td>70</td>\n",
       "      <td>2</td>\n",
       "      <td>4</td>\n",
       "      <td>0</td>\n",
       "      <td>3</td>\n",
       "      <td>0.0</td>\n",
       "    </tr>\n",
       "    <tr>\n",
       "      <th>3</th>\n",
       "      <td>2000</td>\n",
       "      <td>0</td>\n",
       "      <td>1</td>\n",
       "      <td>0</td>\n",
       "      <td>0</td>\n",
       "      <td>3</td>\n",
       "      <td>1</td>\n",
       "      <td>2</td>\n",
       "      <td>0</td>\n",
       "      <td>0</td>\n",
       "      <td>...</td>\n",
       "      <td>12</td>\n",
       "      <td>0</td>\n",
       "      <td>3</td>\n",
       "      <td>10</td>\n",
       "      <td>0</td>\n",
       "      <td>9</td>\n",
       "      <td>1</td>\n",
       "      <td>14</td>\n",
       "      <td>1</td>\n",
       "      <td>89.9</td>\n",
       "    </tr>\n",
       "    <tr>\n",
       "      <th>4</th>\n",
       "      <td>2000</td>\n",
       "      <td>0</td>\n",
       "      <td>1</td>\n",
       "      <td>0</td>\n",
       "      <td>0</td>\n",
       "      <td>15</td>\n",
       "      <td>1</td>\n",
       "      <td>1</td>\n",
       "      <td>0</td>\n",
       "      <td>0</td>\n",
       "      <td>...</td>\n",
       "      <td>12</td>\n",
       "      <td>0</td>\n",
       "      <td>3</td>\n",
       "      <td>4</td>\n",
       "      <td>0</td>\n",
       "      <td>3</td>\n",
       "      <td>4</td>\n",
       "      <td>0</td>\n",
       "      <td>3</td>\n",
       "      <td>66.4</td>\n",
       "    </tr>\n",
       "  </tbody>\n",
       "</table>\n",
       "<p>5 rows × 35 columns</p>\n",
       "</div>"
      ],
      "text/plain": [
       "   year  god  compuse  webmob  emailmin  emailhr  usewww  wwwhr  wwwmin  \\\n",
       "0  2000    5        1       0         0        2       1      5       0   \n",
       "1  2000    6        1       0         0        0       2     -1      -1   \n",
       "2  2000    6        2       0        -1       -1       0     -1      -1   \n",
       "3  2000    0        1       0         0        3       1      2       0   \n",
       "4  2000    0        1       0         0       15       1      1       0   \n",
       "\n",
       "   intrhome  ...    income  rincome  srcbelt  relig  denom  fund  relig16  \\\n",
       "0         0  ...        99        8        3      1     14     1        1   \n",
       "1         0  ...         8        8        3      1     18     1        2   \n",
       "2         0  ...        10        0        3      1     70     2        4   \n",
       "3         0  ...        12        0        3     10      0     9        1   \n",
       "4         0  ...        12        0        3      4      0     3        4   \n",
       "\n",
       "   denom16  fund16  sei10  \n",
       "0       14       1   57.3  \n",
       "1        0       2   38.8  \n",
       "2        0       3    0.0  \n",
       "3       14       1   89.9  \n",
       "4        0       3   66.4  \n",
       "\n",
       "[5 rows x 35 columns]"
      ]
     },
     "execution_count": 2,
     "metadata": {},
     "output_type": "execute_result"
    }
   ],
   "source": [
    "dct = thinkstats2.ReadStataDct('GSS.dct')\n",
    "df = dct.ReadFixedWidth('GSS.dat')\n",
    "print(df.shape)\n",
    "df.head()"
   ]
  },
  {
   "cell_type": "code",
   "execution_count": 3,
   "metadata": {
    "collapsed": false,
    "scrolled": true
   },
   "outputs": [
    {
     "name": "stdout",
     "output_type": "stream",
     "text": [
      "year  god  compuse  webmob  emailmin  emailhr  usewww  wwwhr  wwwmin  intrhome  parelkid  hispanic  sei  cohort  ballot  wtssall  conclerg  bible  sprel  id_  age  educ  sex  race  res16  income  rincome  srcbelt  relig  denom  fund  relig16  denom16  fund16  sei10  "
     ]
    }
   ],
   "source": [
    "for colname in df.columns:\n",
    "    print(colname, end='  ')"
   ]
  },
  {
   "cell_type": "markdown",
   "metadata": {},
   "source": [
    "## Cleaning and validation"
   ]
  },
  {
   "cell_type": "code",
   "execution_count": 4,
   "metadata": {
    "collapsed": false
   },
   "outputs": [],
   "source": [
    "def values(df, varname):\n",
    "    \"\"\"Values and counts in index order.\n",
    "    \n",
    "    df: DataFrame\n",
    "    varname: strign column name\n",
    "    \n",
    "    returns: Series that maps from value to frequency\n",
    "    \"\"\"\n",
    "    return df[varname].value_counts().sort_index()"
   ]
  },
  {
   "cell_type": "code",
   "execution_count": 5,
   "metadata": {
    "collapsed": false
   },
   "outputs": [
    {
     "data": {
      "text/plain": [
       "2000    2817\n",
       "2002    2765\n",
       "2004    2812\n",
       "2006    4510\n",
       "2008    2023\n",
       "2010    2044\n",
       "2012    1974\n",
       "2014    2538\n",
       "2016    2867\n",
       "Name: year, dtype: int64"
      ]
     },
     "execution_count": 5,
     "metadata": {},
     "output_type": "execute_result"
    }
   ],
   "source": [
    "values(df, 'year')"
   ]
  },
  {
   "cell_type": "code",
   "execution_count": 6,
   "metadata": {
    "collapsed": false
   },
   "outputs": [
    {
     "data": {
      "text/plain": [
       "-1    2023\n",
       "Name: wwwhr, dtype: int64"
      ]
     },
     "execution_count": 6,
     "metadata": {},
     "output_type": "execute_result"
    }
   ],
   "source": [
    "cycle = df[df.year==2008]\n",
    "values(cycle, 'wwwhr')"
   ]
  },
  {
   "cell_type": "code",
   "execution_count": 7,
   "metadata": {
    "collapsed": false
   },
   "outputs": [
    {
     "data": {
      "text/plain": [
       "-1      12726\n",
       " 0       1202\n",
       " 1       1517\n",
       " 2       1304\n",
       " 3        819\n",
       " 4        593\n",
       " 5        913\n",
       " 6        358\n",
       " 7        449\n",
       " 8        294\n",
       " 9         37\n",
       " 10       946\n",
       " 11        13\n",
       " 12       201\n",
       " 13        18\n",
       " 14       231\n",
       " 15       420\n",
       " 16        35\n",
       " 17        11\n",
       " 18        22\n",
       " 19         1\n",
       " 20       559\n",
       " 21        78\n",
       " 22         7\n",
       " 23         7\n",
       " 24        43\n",
       " 25       173\n",
       " 26         2\n",
       " 27         5\n",
       " 28        45\n",
       "        ...  \n",
       " 49         2\n",
       " 50        79\n",
       " 55         4\n",
       " 56         3\n",
       " 60        48\n",
       " 63         2\n",
       " 64         1\n",
       " 65         6\n",
       " 66         1\n",
       " 70        24\n",
       " 72         6\n",
       " 75         6\n",
       " 80        20\n",
       " 84         5\n",
       " 85         1\n",
       " 86         1\n",
       " 90         4\n",
       " 91         2\n",
       " 98         1\n",
       " 100       11\n",
       " 112        2\n",
       " 120        5\n",
       " 122        1\n",
       " 130        1\n",
       " 132        1\n",
       " 140        1\n",
       " 168        2\n",
       " 184        1\n",
       " 998       54\n",
       " 999      451\n",
       "Name: wwwhr, dtype: int64"
      ]
     },
     "execution_count": 7,
     "metadata": {},
     "output_type": "execute_result"
    }
   ],
   "source": [
    "values(df, 'wwwhr')"
   ]
  },
  {
   "cell_type": "code",
   "execution_count": 8,
   "metadata": {
    "collapsed": false
   },
   "outputs": [
    {
     "data": {
      "text/plain": [
       "(11624, 35)"
      ]
     },
     "execution_count": 8,
     "metadata": {},
     "output_type": "execute_result"
    }
   ],
   "source": [
    "asked = df[df.wwwhr != -1].copy()\n",
    "asked.shape"
   ]
  },
  {
   "cell_type": "code",
   "execution_count": 9,
   "metadata": {
    "collapsed": false
   },
   "outputs": [
    {
     "data": {
      "text/plain": [
       "2000    1054\n",
       "2002    1649\n",
       "2004    1834\n",
       "2006    2005\n",
       "2010    1056\n",
       "2012    1021\n",
       "2014    1412\n",
       "2016    1593\n",
       "Name: year, dtype: int64"
      ]
     },
     "execution_count": 9,
     "metadata": {},
     "output_type": "execute_result"
    }
   ],
   "source": [
    "values(asked, 'year')"
   ]
  },
  {
   "cell_type": "code",
   "execution_count": 10,
   "metadata": {
    "collapsed": false
   },
   "outputs": [],
   "source": [
    "def fill_missing(df, varname, badvals=[98, 99]):\n",
    "    \"\"\"Fill missing data with random values.\n",
    "    \n",
    "    df: DataFrame\n",
    "    varname: string column name\n",
    "    badvals: list of values to be replaced\n",
    "    \"\"\"\n",
    "    df[varname].replace(badvals, np.nan, inplace=True)\n",
    "    null = df[varname].isnull()\n",
    "    fill = np.random.choice(df[varname].dropna(), sum(null), replace=True)\n",
    "    df.loc[null, varname] = fill\n",
    "    return sum(null)"
   ]
  },
  {
   "cell_type": "code",
   "execution_count": 11,
   "metadata": {
    "collapsed": false
   },
   "outputs": [
    {
     "data": {
      "text/plain": [
       "1.0     5512\n",
       "2.0     2746\n",
       "3.0      231\n",
       "4.0     2242\n",
       "5.0      144\n",
       "6.0       99\n",
       "7.0       54\n",
       "8.0       22\n",
       "9.0       63\n",
       "10.0      48\n",
       "11.0     381\n",
       "12.0      13\n",
       "13.0      69\n",
       "Name: relig, dtype: int64"
      ]
     },
     "execution_count": 11,
     "metadata": {},
     "output_type": "execute_result"
    }
   ],
   "source": [
    "fill_missing(asked, 'relig')\n",
    "values(asked, 'relig')"
   ]
  },
  {
   "cell_type": "code",
   "execution_count": 12,
   "metadata": {
    "collapsed": false
   },
   "outputs": [
    {
     "data": {
      "text/plain": [
       "0    2234\n",
       "1    9390\n",
       "Name: has_relig, dtype: int64"
      ]
     },
     "execution_count": 12,
     "metadata": {},
     "output_type": "execute_result"
    }
   ],
   "source": [
    "asked['has_relig'] = (df.relig != 4).astype(int)\n",
    "values(asked, 'has_relig')"
   ]
  },
  {
   "cell_type": "code",
   "execution_count": 13,
   "metadata": {
    "collapsed": false
   },
   "outputs": [
    {
     "data": {
      "text/plain": [
       "505"
      ]
     },
     "execution_count": 13,
     "metadata": {},
     "output_type": "execute_result"
    }
   ],
   "source": [
    "fill_missing(asked, 'wwwhr', [998, 999])"
   ]
  },
  {
   "cell_type": "code",
   "execution_count": 14,
   "metadata": {
    "collapsed": false
   },
   "outputs": [
    {
     "data": {
      "image/png": "[encoded data removed]",
      "text/plain": [
       "<matplotlib.figure.Figure at 0x7efe3b33b390>"
      ]
     },
     "metadata": {},
     "output_type": "display_data"
    }
   ],
   "source": [
    "cdf = thinkstats2.Cdf(asked.wwwhr)\n",
    "thinkplot.Cdf(cdf)\n",
    "thinkplot.Config(xlabel='wwwhr')"
   ]
  },
  {
   "cell_type": "code",
   "execution_count": 15,
   "metadata": {
    "collapsed": false
   },
   "outputs": [
    {
     "data": {
      "text/plain": [
       "count    11624.000000\n",
       "mean         9.113730\n",
       "std         13.044981\n",
       "min          0.000000\n",
       "25%          2.000000\n",
       "50%          5.000000\n",
       "75%         10.000000\n",
       "max        184.000000\n",
       "Name: wwwhr, dtype: float64"
      ]
     },
     "execution_count": 15,
     "metadata": {},
     "output_type": "execute_result"
    }
   ],
   "source": [
    "asked.wwwhr.describe()"
   ]
  },
  {
   "cell_type": "markdown",
   "metadata": {},
   "source": [
    "## Basic model"
   ]
  },
  {
   "cell_type": "code",
   "execution_count": 16,
   "metadata": {
    "collapsed": false
   },
   "outputs": [
    {
     "name": "stdout",
     "output_type": "stream",
     "text": [
      "Optimization terminated successfully.\n",
      "         Current function value: 0.484794\n",
      "         Iterations 5\n"
     ]
    },
    {
     "data": {
      "text/html": [
       "<table class=\"simpletable\">\n",
       "<caption>Logit Regression Results</caption>\n",
       "<tr>\n",
       "  <th>Dep. Variable:</th>     <td>has_relig</td>    <th>  No. Observations:  </th>  <td> 11624</td>  \n",
       "</tr>\n",
       "<tr>\n",
       "  <th>Model:</th>               <td>Logit</td>      <th>  Df Residuals:      </th>  <td> 11622</td>  \n",
       "</tr>\n",
       "<tr>\n",
       "  <th>Method:</th>               <td>MLE</td>       <th>  Df Model:          </th>  <td>     1</td>  \n",
       "</tr>\n",
       "<tr>\n",
       "  <th>Date:</th>          <td>Thu, 13 Apr 2017</td> <th>  Pseudo R-squ.:     </th> <td>0.009372</td> \n",
       "</tr>\n",
       "<tr>\n",
       "  <th>Time:</th>              <td>16:39:03</td>     <th>  Log-Likelihood:    </th> <td> -5635.3</td> \n",
       "</tr>\n",
       "<tr>\n",
       "  <th>converged:</th>           <td>True</td>       <th>  LL-Null:           </th> <td> -5688.6</td> \n",
       "</tr>\n",
       "<tr>\n",
       "  <th> </th>                      <td> </td>        <th>  LLR p-value:       </th> <td>5.377e-25</td>\n",
       "</tr>\n",
       "</table>\n",
       "<table class=\"simpletable\">\n",
       "<tr>\n",
       "      <td></td>         <th>coef</th>     <th>std err</th>      <th>z</th>      <th>P>|z|</th>  <th>[0.025</th>    <th>0.975]</th>  \n",
       "</tr>\n",
       "<tr>\n",
       "  <th>Intercept</th> <td>    1.6020</td> <td>    0.029</td> <td>   55.133</td> <td> 0.000</td> <td>    1.545</td> <td>    1.659</td>\n",
       "</tr>\n",
       "<tr>\n",
       "  <th>wwwhr</th>     <td>   -0.0167</td> <td>    0.002</td> <td>  -10.540</td> <td> 0.000</td> <td>   -0.020</td> <td>   -0.014</td>\n",
       "</tr>\n",
       "</table>"
      ],
      "text/plain": [
       "<class 'statsmodels.iolib.summary.Summary'>\n",
       "\"\"\"\n",
       "                           Logit Regression Results                           \n",
       "==============================================================================\n",
       "Dep. Variable:              has_relig   No. Observations:                11624\n",
       "Model:                          Logit   Df Residuals:                    11622\n",
       "Method:                           MLE   Df Model:                            1\n",
       "Date:                Thu, 13 Apr 2017   Pseudo R-squ.:                0.009372\n",
       "Time:                        16:39:03   Log-Likelihood:                -5635.3\n",
       "converged:                       True   LL-Null:                       -5688.6\n",
       "                                        LLR p-value:                 5.377e-25\n",
       "==============================================================================\n",
       "                 coef    std err          z      P>|z|      [0.025      0.975]\n",
       "------------------------------------------------------------------------------\n",
       "Intercept      1.6020      0.029     55.133      0.000       1.545       1.659\n",
       "wwwhr         -0.0167      0.002    -10.540      0.000      -0.020      -0.014\n",
       "==============================================================================\n",
       "\"\"\""
      ]
     },
     "execution_count": 16,
     "metadata": {},
     "output_type": "execute_result"
    }
   ],
   "source": [
    "results = smf.logit('has_relig ~ wwwhr', data=asked).fit()\n",
    "results.summary()"
   ]
  },
  {
   "cell_type": "markdown",
   "metadata": {},
   "source": [
    "## Additional variables"
   ]
  },
  {
   "cell_type": "code",
   "execution_count": 17,
   "metadata": {
    "collapsed": true
   },
   "outputs": [],
   "source": [
    "asked['www50'] = asked.wwwhr >= 5\n",
    "asked['www75'] = asked.wwwhr >= 10"
   ]
  },
  {
   "cell_type": "code",
   "execution_count": 18,
   "metadata": {
    "collapsed": false
   },
   "outputs": [
    {
     "data": {
      "text/plain": [
       "1.0     6079\n",
       "2.0     3787\n",
       "3.0      248\n",
       "4.0      931\n",
       "5.0       54\n",
       "6.0       70\n",
       "7.0       60\n",
       "8.0        6\n",
       "9.0       76\n",
       "10.0      57\n",
       "11.0     232\n",
       "12.0       7\n",
       "13.0      17\n",
       "Name: relig16, dtype: int64"
      ]
     },
     "execution_count": 18,
     "metadata": {},
     "output_type": "execute_result"
    }
   ],
   "source": [
    "fill_missing(asked, 'relig16')\n",
    "values(asked, 'relig16')"
   ]
  },
  {
   "cell_type": "code",
   "execution_count": 19,
   "metadata": {
    "collapsed": false
   },
   "outputs": [
    {
     "data": {
      "text/plain": [
       "False      931\n",
       "True     10693\n",
       "Name: raised, dtype: int64"
      ]
     },
     "execution_count": 19,
     "metadata": {},
     "output_type": "execute_result"
    }
   ],
   "source": [
    "asked['raised'] = asked.relig16 != 4\n",
    "values(asked, 'raised')"
   ]
  },
  {
   "cell_type": "code",
   "execution_count": 20,
   "metadata": {
    "collapsed": false
   },
   "outputs": [
    {
     "data": {
      "text/plain": [
       "1    5271\n",
       "2    6353\n",
       "Name: sex, dtype: int64"
      ]
     },
     "execution_count": 20,
     "metadata": {},
     "output_type": "execute_result"
    }
   ],
   "source": [
    "values(asked, 'sex')"
   ]
  },
  {
   "cell_type": "code",
   "execution_count": 21,
   "metadata": {
    "collapsed": false
   },
   "outputs": [
    {
     "data": {
      "text/plain": [
       "1    9082\n",
       "2    1462\n",
       "3    1080\n",
       "Name: race, dtype: int64"
      ]
     },
     "execution_count": 21,
     "metadata": {},
     "output_type": "execute_result"
    }
   ],
   "source": [
    "values(asked, 'race')"
   ]
  },
  {
   "cell_type": "code",
   "execution_count": 22,
   "metadata": {
    "collapsed": false
   },
   "outputs": [
    {
     "data": {
      "text/plain": [
       "1.0     10361\n",
       "2.0       744\n",
       "3.0       147\n",
       "4.0        52\n",
       "5.0        41\n",
       "6.0        22\n",
       "7.0         6\n",
       "8.0         9\n",
       "9.0         2\n",
       "10.0        7\n",
       "11.0       17\n",
       "15.0       28\n",
       "20.0       20\n",
       "21.0       13\n",
       "22.0       24\n",
       "23.0        9\n",
       "24.0        9\n",
       "25.0        3\n",
       "30.0       68\n",
       "31.0        1\n",
       "35.0        3\n",
       "40.0        4\n",
       "41.0       11\n",
       "45.0        3\n",
       "46.0        4\n",
       "47.0       10\n",
       "50.0        6\n",
       "Name: hispanic, dtype: int64"
      ]
     },
     "execution_count": 22,
     "metadata": {},
     "output_type": "execute_result"
    }
   ],
   "source": [
    "fill_missing(asked, 'hispanic')\n",
    "values(asked, 'hispanic')"
   ]
  },
  {
   "cell_type": "code",
   "execution_count": 23,
   "metadata": {
    "collapsed": false
   },
   "outputs": [
    {
     "data": {
      "text/plain": [
       "0.0       14\n",
       "1.0        3\n",
       "2.0       26\n",
       "3.0        8\n",
       "4.0       10\n",
       "5.0       14\n",
       "6.0       62\n",
       "7.0       17\n",
       "8.0       90\n",
       "9.0      125\n",
       "10.0     212\n",
       "11.0     376\n",
       "12.0    2663\n",
       "13.0    1120\n",
       "14.0    1770\n",
       "15.0     750\n",
       "16.0    2336\n",
       "17.0     556\n",
       "18.0     722\n",
       "19.0     271\n",
       "20.0     479\n",
       "Name: educ, dtype: int64"
      ]
     },
     "execution_count": 23,
     "metadata": {},
     "output_type": "execute_result"
    }
   ],
   "source": [
    "fill_missing(asked, 'educ')\n",
    "values(asked, 'educ')"
   ]
  },
  {
   "cell_type": "code",
   "execution_count": 24,
   "metadata": {
    "collapsed": false
   },
   "outputs": [
    {
     "data": {
      "text/plain": [
       "1.0      124\n",
       "2.0      119\n",
       "3.0       67\n",
       "4.0       50\n",
       "5.0       66\n",
       "6.0       77\n",
       "7.0       61\n",
       "8.0      142\n",
       "9.0      497\n",
       "10.0     505\n",
       "11.0     649\n",
       "12.0    8442\n",
       "13.0     825\n",
       "Name: income, dtype: int64"
      ]
     },
     "execution_count": 24,
     "metadata": {},
     "output_type": "execute_result"
    }
   ],
   "source": [
    "fill_missing(asked, 'income')\n",
    "values(asked, 'income')"
   ]
  },
  {
   "cell_type": "code",
   "execution_count": 25,
   "metadata": {
    "collapsed": false
   },
   "outputs": [
    {
     "data": {
      "image/png": "[encoded data removed]",
      "text/plain": [
       "<matplotlib.figure.Figure at 0x7efe3b33b890>"
      ]
     },
     "metadata": {},
     "output_type": "display_data"
    }
   ],
   "source": [
    "fill_missing(asked, 'age')\n",
    "cdf = thinkstats2.Cdf(asked.age)\n",
    "thinkplot.Cdf(cdf)\n",
    "thinkplot.Config(xlabel='Age')"
   ]
  },
  {
   "cell_type": "code",
   "execution_count": 26,
   "metadata": {
    "collapsed": false
   },
   "outputs": [
    {
     "data": {
      "image/png": "[encoded data removed]",
      "text/plain": [
       "<matplotlib.figure.Figure at 0x7efe3af7dad0>"
      ]
     },
     "metadata": {},
     "output_type": "display_data"
    }
   ],
   "source": [
    "fill_missing(asked, 'cohort', [9999])\n",
    "cdf = thinkstats2.Cdf(asked.cohort)\n",
    "thinkplot.Cdf(cdf)\n",
    "thinkplot.Config(xlabel='Birth cohort')"
   ]
  },
  {
   "cell_type": "code",
   "execution_count": 27,
   "metadata": {
    "collapsed": false
   },
   "outputs": [
    {
     "data": {
      "text/plain": [
       "2000    1054\n",
       "2002    1649\n",
       "2004    1834\n",
       "2006    2005\n",
       "2010    1056\n",
       "2012    1021\n",
       "2014    1412\n",
       "2016    1593\n",
       "Name: year, dtype: int64"
      ]
     },
     "execution_count": 27,
     "metadata": {},
     "output_type": "execute_result"
    }
   ],
   "source": [
    "values(asked, 'year')"
   ]
  },
  {
   "cell_type": "code",
   "execution_count": 28,
   "metadata": {
    "collapsed": false
   },
   "outputs": [
    {
     "data": {
      "text/plain": [
       "1     972\n",
       "2    1547\n",
       "3    1595\n",
       "4    2049\n",
       "5    4380\n",
       "6    1081\n",
       "Name: srcbelt, dtype: int64"
      ]
     },
     "execution_count": 28,
     "metadata": {},
     "output_type": "execute_result"
    }
   ],
   "source": [
    "values(asked, 'srcbelt')"
   ]
  },
  {
   "cell_type": "code",
   "execution_count": 29,
   "metadata": {
    "collapsed": true
   },
   "outputs": [],
   "source": [
    "asked['urban'] = asked.srcbelt <= 2\n",
    "asked['rural'] = asked.srcbelt >= 5"
   ]
  },
  {
   "cell_type": "code",
   "execution_count": 30,
   "metadata": {
    "collapsed": false
   },
   "outputs": [
    {
     "data": {
      "text/plain": [
       "1.0    1202\n",
       "2.0     800\n",
       "3.0    3792\n",
       "4.0    2098\n",
       "5.0    1883\n",
       "6.0    1849\n",
       "Name: res16, dtype: int64"
      ]
     },
     "execution_count": 30,
     "metadata": {},
     "output_type": "execute_result"
    }
   ],
   "source": [
    "fill_missing(asked, 'res16', [8, 9, 0])\n",
    "values(asked, 'res16')"
   ]
  },
  {
   "cell_type": "code",
   "execution_count": 31,
   "metadata": {
    "collapsed": true
   },
   "outputs": [],
   "source": [
    "asked['farm'] = asked.res16 == 1\n",
    "asked['country'] = asked.res16 == 2\n",
    "asked['city'] = asked.res16 == 6"
   ]
  },
  {
   "cell_type": "markdown",
   "metadata": {},
   "source": [
    "## Other dependent vars"
   ]
  },
  {
   "cell_type": "code",
   "execution_count": 32,
   "metadata": {
    "collapsed": false
   },
   "outputs": [
    {
     "data": {
      "text/plain": [
       "0.0    4006\n",
       "1.0     269\n",
       "2.0     476\n",
       "3.0     934\n",
       "4.0     280\n",
       "5.0    1298\n",
       "6.0    4361\n",
       "Name: god, dtype: int64"
      ]
     },
     "execution_count": 32,
     "metadata": {},
     "output_type": "execute_result"
    }
   ],
   "source": [
    "fill_missing(asked, 'god', [8, 9])\n",
    "values(asked, 'god')"
   ]
  },
  {
   "cell_type": "code",
   "execution_count": 33,
   "metadata": {
    "collapsed": false
   },
   "outputs": [
    {
     "data": {
      "text/plain": [
       "1.0    3240\n",
       "2.0    5718\n",
       "3.0    2446\n",
       "4.0     220\n",
       "Name: bible, dtype: int64"
      ]
     },
     "execution_count": 33,
     "metadata": {},
     "output_type": "execute_result"
    }
   ],
   "source": [
    "fill_missing(asked, 'bible', [8, 9, 0])\n",
    "values(asked, 'bible')"
   ]
  },
  {
   "cell_type": "code",
   "execution_count": 34,
   "metadata": {
    "collapsed": false
   },
   "outputs": [
    {
     "data": {
      "text/plain": [
       "1.0    2274\n",
       "2.0    6488\n",
       "3.0    2862\n",
       "Name: conclerg, dtype: int64"
      ]
     },
     "execution_count": 34,
     "metadata": {},
     "output_type": "execute_result"
    }
   ],
   "source": [
    "fill_missing(asked, 'conclerg', [8, 9, 0])\n",
    "values(asked, 'conclerg')"
   ]
  },
  {
   "cell_type": "markdown",
   "metadata": {},
   "source": [
    "## Other classifiers"
   ]
  },
  {
   "cell_type": "code",
   "execution_count": 35,
   "metadata": {
    "collapsed": false
   },
   "outputs": [
    {
     "name": "stdout",
     "output_type": "stream",
     "text": [
      "Optimization terminated successfully.\n",
      "         Current function value: 0.443303\n",
      "         Iterations 6\n"
     ]
    },
    {
     "data": {
      "text/html": [
       "<table class=\"simpletable\">\n",
       "<caption>Logit Regression Results</caption>\n",
       "<tr>\n",
       "  <th>Dep. Variable:</th>     <td>has_relig</td>    <th>  No. Observations:  </th>   <td> 11624</td>  \n",
       "</tr>\n",
       "<tr>\n",
       "  <th>Model:</th>               <td>Logit</td>      <th>  Df Residuals:      </th>   <td> 11619</td>  \n",
       "</tr>\n",
       "<tr>\n",
       "  <th>Method:</th>               <td>MLE</td>       <th>  Df Model:          </th>   <td>     4</td>  \n",
       "</tr>\n",
       "<tr>\n",
       "  <th>Date:</th>          <td>Thu, 13 Apr 2017</td> <th>  Pseudo R-squ.:     </th>   <td>0.09416</td> \n",
       "</tr>\n",
       "<tr>\n",
       "  <th>Time:</th>              <td>16:39:05</td>     <th>  Log-Likelihood:    </th>  <td> -5152.9</td> \n",
       "</tr>\n",
       "<tr>\n",
       "  <th>converged:</th>           <td>True</td>       <th>  LL-Null:           </th>  <td> -5688.6</td> \n",
       "</tr>\n",
       "<tr>\n",
       "  <th> </th>                      <td> </td>        <th>  LLR p-value:       </th> <td>1.304e-230</td>\n",
       "</tr>\n",
       "</table>\n",
       "<table class=\"simpletable\">\n",
       "<tr>\n",
       "         <td></td>           <th>coef</th>     <th>std err</th>      <th>z</th>      <th>P>|z|</th>  <th>[0.025</th>    <th>0.975]</th>  \n",
       "</tr>\n",
       "<tr>\n",
       "  <th>Intercept</th>      <td>   -0.4055</td> <td>    0.167</td> <td>   -2.431</td> <td> 0.015</td> <td>   -0.732</td> <td>   -0.079</td>\n",
       "</tr>\n",
       "<tr>\n",
       "  <th>www50[T.True]</th>  <td>   -0.4381</td> <td>    0.051</td> <td>   -8.591</td> <td> 0.000</td> <td>   -0.538</td> <td>   -0.338</td>\n",
       "</tr>\n",
       "<tr>\n",
       "  <th>raised[T.True]</th> <td>    2.1607</td> <td>    0.074</td> <td>   29.360</td> <td> 0.000</td> <td>    2.016</td> <td>    2.305</td>\n",
       "</tr>\n",
       "<tr>\n",
       "  <th>sex</th>            <td>    0.4418</td> <td>    0.050</td> <td>    8.797</td> <td> 0.000</td> <td>    0.343</td> <td>    0.540</td>\n",
       "</tr>\n",
       "<tr>\n",
       "  <th>educ</th>           <td>   -0.0341</td> <td>    0.009</td> <td>   -3.743</td> <td> 0.000</td> <td>   -0.052</td> <td>   -0.016</td>\n",
       "</tr>\n",
       "</table>"
      ],
      "text/plain": [
       "<class 'statsmodels.iolib.summary.Summary'>\n",
       "\"\"\"\n",
       "                           Logit Regression Results                           \n",
       "==============================================================================\n",
       "Dep. Variable:              has_relig   No. Observations:                11624\n",
       "Model:                          Logit   Df Residuals:                    11619\n",
       "Method:                           MLE   Df Model:                            4\n",
       "Date:                Thu, 13 Apr 2017   Pseudo R-squ.:                 0.09416\n",
       "Time:                        16:39:05   Log-Likelihood:                -5152.9\n",
       "converged:                       True   LL-Null:                       -5688.6\n",
       "                                        LLR p-value:                1.304e-230\n",
       "==================================================================================\n",
       "                     coef    std err          z      P>|z|      [0.025      0.975]\n",
       "----------------------------------------------------------------------------------\n",
       "Intercept         -0.4055      0.167     -2.431      0.015      -0.732      -0.079\n",
       "www50[T.True]     -0.4381      0.051     -8.591      0.000      -0.538      -0.338\n",
       "raised[T.True]     2.1607      0.074     29.360      0.000       2.016       2.305\n",
       "sex                0.4418      0.050      8.797      0.000       0.343       0.540\n",
       "educ              -0.0341      0.009     -3.743      0.000      -0.052      -0.016\n",
       "==================================================================================\n",
       "\"\"\""
      ]
     },
     "execution_count": 35,
     "metadata": {},
     "output_type": "execute_result"
    }
   ],
   "source": [
    "formula = ('has_relig ~ www50 + sex + educ + raised')\n",
    "results = smf.logit(formula, data=asked).fit()\n",
    "results.summary()"
   ]
  },
  {
   "cell_type": "code",
   "execution_count": 36,
   "metadata": {
    "collapsed": false
   },
   "outputs": [
    {
     "data": {
      "text/plain": [
       "(11624,)"
      ]
     },
     "execution_count": 36,
     "metadata": {},
     "output_type": "execute_result"
    }
   ],
   "source": [
    "y = asked.has_relig\n",
    "y.shape"
   ]
  },
  {
   "cell_type": "code",
   "execution_count": 37,
   "metadata": {
    "collapsed": false
   },
   "outputs": [
    {
     "data": {
      "text/plain": [
       "(11624, 4)"
      ]
     },
     "execution_count": 37,
     "metadata": {},
     "output_type": "execute_result"
    }
   ],
   "source": [
    "X = asked[['www50', 'sex', 'educ', 'raised']]\n",
    "X.shape"
   ]
  },
  {
   "cell_type": "code",
   "execution_count": 38,
   "metadata": {
    "collapsed": false
   },
   "outputs": [
    {
     "data": {
      "text/plain": [
       "LogisticRegression(C=100000.0, class_weight=None, dual=False,\n",
       "          fit_intercept=True, intercept_scaling=1, max_iter=100,\n",
       "          multi_class='ovr', n_jobs=1, penalty='l2', random_state=None,\n",
       "          solver='liblinear', tol=0.0001, verbose=0, warm_start=False)"
      ]
     },
     "execution_count": 38,
     "metadata": {},
     "output_type": "execute_result"
    }
   ],
   "source": [
    "from sklearn import linear_model\n",
    "\n",
    "logreg = linear_model.LogisticRegression(C=1e5)\n",
    "logreg.fit(X, y)"
   ]
  },
  {
   "cell_type": "code",
   "execution_count": 39,
   "metadata": {
    "collapsed": false
   },
   "outputs": [
    {
     "data": {
      "text/plain": [
       "array([[-0.43809028,  0.44182493, -0.03413558,  2.16071839]])"
      ]
     },
     "execution_count": 39,
     "metadata": {},
     "output_type": "execute_result"
    }
   ],
   "source": [
    "logreg.coef_"
   ]
  },
  {
   "cell_type": "code",
   "execution_count": 40,
   "metadata": {
    "collapsed": false
   },
   "outputs": [
    {
     "data": {
      "text/plain": [
       "array([-0.40553838])"
      ]
     },
     "execution_count": 40,
     "metadata": {},
     "output_type": "execute_result"
    }
   ],
   "source": [
    "logreg.intercept_"
   ]
  },
  {
   "cell_type": "code",
   "execution_count": 41,
   "metadata": {
    "collapsed": true
   },
   "outputs": [],
   "source": [
    "yfit = logreg.predict(X)"
   ]
  },
  {
   "cell_type": "code",
   "execution_count": 42,
   "metadata": {
    "collapsed": false
   },
   "outputs": [
    {
     "data": {
      "text/plain": [
       "0.82510323468685476"
      ]
     },
     "execution_count": 42,
     "metadata": {},
     "output_type": "execute_result"
    }
   ],
   "source": [
    "from sklearn.metrics import accuracy_score\n",
    "accuracy_score(y, yfit)"
   ]
  },
  {
   "cell_type": "code",
   "execution_count": 43,
   "metadata": {
    "collapsed": false
   },
   "outputs": [
    {
     "data": {
      "text/plain": [
       "0.8078114246386786"
      ]
     },
     "execution_count": 43,
     "metadata": {},
     "output_type": "execute_result"
    }
   ],
   "source": [
    "np.mean(y)"
   ]
  },
  {
   "cell_type": "code",
   "execution_count": 44,
   "metadata": {
    "collapsed": false
   },
   "outputs": [],
   "source": [
    "from sklearn.model_selection import train_test_split\n",
    "Xtrain, Xtest, ytrain, ytest = train_test_split(X, y)"
   ]
  },
  {
   "cell_type": "code",
   "execution_count": 45,
   "metadata": {
    "collapsed": false
   },
   "outputs": [
    {
     "data": {
      "text/plain": [
       "0.8289745354439092"
      ]
     },
     "execution_count": 45,
     "metadata": {},
     "output_type": "execute_result"
    }
   ],
   "source": [
    "logreg.fit(Xtrain, ytrain)\n",
    "yfit = logreg.predict(Xtest)\n",
    "accuracy_score(ytest, yfit)"
   ]
  },
  {
   "cell_type": "code",
   "execution_count": 46,
   "metadata": {
    "collapsed": false
   },
   "outputs": [
    {
     "data": {
      "text/plain": [
       "0.82321019645721949"
      ]
     },
     "execution_count": 46,
     "metadata": {},
     "output_type": "execute_result"
    }
   ],
   "source": [
    "from sklearn.model_selection import cross_val_score\n",
    "scores = cross_val_score(logreg, X, y)\n",
    "scores.mean()"
   ]
  },
  {
   "cell_type": "markdown",
   "metadata": {},
   "source": [
    "http://scikit-learn.org/stable/modules/ensemble.html"
   ]
  },
  {
   "cell_type": "code",
   "execution_count": 47,
   "metadata": {
    "collapsed": false
   },
   "outputs": [
    {
     "data": {
      "text/plain": [
       "0.81108107537984131"
      ]
     },
     "execution_count": 47,
     "metadata": {},
     "output_type": "execute_result"
    }
   ],
   "source": [
    "from sklearn.ensemble import BaggingClassifier\n",
    "from sklearn.neighbors import KNeighborsClassifier\n",
    "bagging = BaggingClassifier(KNeighborsClassifier(), max_samples=0.5, max_features=0.5)\n",
    "scores = cross_val_score(bagging, X, y)\n",
    "scores.mean()"
   ]
  },
  {
   "cell_type": "code",
   "execution_count": 48,
   "metadata": {
    "collapsed": false
   },
   "outputs": [
    {
     "data": {
      "text/plain": [
       "0.82329630678190979"
      ]
     },
     "execution_count": 48,
     "metadata": {},
     "output_type": "execute_result"
    }
   ],
   "source": [
    "from sklearn.ensemble import RandomForestClassifier\n",
    "clf = RandomForestClassifier(n_estimators=10)\n",
    "scores = cross_val_score(clf, X, y)\n",
    "scores.mean()"
   ]
  },
  {
   "cell_type": "code",
   "execution_count": 49,
   "metadata": {
    "collapsed": false
   },
   "outputs": [
    {
     "data": {
      "text/plain": [
       "0.8216618981797591"
      ]
     },
     "execution_count": 49,
     "metadata": {},
     "output_type": "execute_result"
    }
   ],
   "source": [
    "from sklearn.ensemble import ExtraTreesClassifier\n",
    "clf = ExtraTreesClassifier(n_estimators=10, max_depth=None, min_samples_split=2)\n",
    "scores = cross_val_score(clf, X, y)\n",
    "scores.mean()"
   ]
  },
  {
   "cell_type": "code",
   "execution_count": 50,
   "metadata": {
    "collapsed": false
   },
   "outputs": [
    {
     "data": {
      "text/plain": [
       "0.82183396339534032"
      ]
     },
     "execution_count": 50,
     "metadata": {},
     "output_type": "execute_result"
    }
   ],
   "source": [
    "from sklearn.tree import DecisionTreeClassifier\n",
    "clf = DecisionTreeClassifier(max_depth=None, min_samples_split=2)\n",
    "scores = cross_val_score(clf, X, y)\n",
    "scores.mean()"
   ]
  },
  {
   "cell_type": "markdown",
   "metadata": {
    "collapsed": true
   },
   "source": [
    "Note: We don't really care about guessing who is affiliated or not.  What other accuracy metrics should we consider?"
   ]
  },
  {
   "cell_type": "code",
   "execution_count": null,
   "metadata": {
    "collapsed": true
   },
   "outputs": [],
   "source": []
  },
  {
   "cell_type": "code",
   "execution_count": null,
   "metadata": {
    "collapsed": true
   },
   "outputs": [],
   "source": []
  }
 ],
 "metadata": {
  "kernelspec": {
   "display_name": "Python 2",
   "language": "python",
   "name": "python2"
  },
  "language_info": {
   "codemirror_mode": {
    "name": "ipython",
    "version": 2
   },
   "file_extension": ".py",
   "mimetype": "text/x-python",
   "name": "python",
   "nbconvert_exporter": "python",
   "pygments_lexer": "ipython2",
   "version": "2.7.11"
  }
 },
 "nbformat": 4,
 "nbformat_minor": 0
}
