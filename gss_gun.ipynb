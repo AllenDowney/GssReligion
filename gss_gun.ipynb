{
 "cells": [
  {
   "cell_type": "markdown",
   "metadata": {},
   "source": [
    "# A generational model of gun ownership and gun control\n",
    "\n",
    "Allen Downey\n",
    "\n",
    "[MIT License](https://en.wikipedia.org/wiki/MIT_License)"
   ]
  },
  {
   "cell_type": "code",
   "execution_count": 1,
   "metadata": {},
   "outputs": [],
   "source": [
    "from __future__ import print_function, division\n",
    "\n",
    "%matplotlib inline\n",
    "\n",
    "import pandas as pd\n",
    "import numpy as np\n",
    "\n",
    "import thinkstats2\n",
    "import thinkplot\n",
    "import utils\n",
    "\n",
    "import statsmodels.formula.api as smf\n",
    "import matplotlib.pyplot as plt\n",
    "\n",
    "import matplotlib\n",
    "matplotlib.rc('figure', figsize=(4, 3))\n",
    "\n",
    "import seaborn as sns\n",
    "sns.set(style='white', font_scale=1.5, context='talk')\n",
    "RED, BLUE, GREEN, PURPLE, ORANGE, YELLOW = sns.color_palette('Set1')\n",
    "\n",
    "from collections import Counter\n",
    "from statsmodels.discrete.discrete_model import MNLogit\n",
    "from statsmodels.discrete.discrete_model import Logit"
   ]
  },
  {
   "cell_type": "markdown",
   "metadata": {},
   "source": [
    "## Loading and validation\n",
    "\n",
    "Reading data from the [General Social Survey](https://gssdataexplorer.norc.org/projects/29853)\n",
    "\n",
    "You can get my selected subset of variables from https://gssdataexplorer.norc.org/projects/41723#"
   ]
  },
  {
   "cell_type": "code",
   "execution_count": 2,
   "metadata": {
    "collapsed": true
   },
   "outputs": [],
   "source": [
    "def make_boolean(df, varname, values, newvar):\n",
    "    df[newvar] = df[varname].isin(values)\n",
    "    df.loc[gss[varname].isnull(), newvar] = np.nan"
   ]
  },
  {
   "cell_type": "code",
   "execution_count": 3,
   "metadata": {},
   "outputs": [
    {
     "name": "stdout",
     "output_type": "stream",
     "text": [
      "(62466, 24)\n"
     ]
    },
    {
     "data": {
      "text/html": [
       "<div>\n",
       "<style>\n",
       "    .dataframe thead tr:only-child th {\n",
       "        text-align: right;\n",
       "    }\n",
       "\n",
       "    .dataframe thead th {\n",
       "        text-align: left;\n",
       "    }\n",
       "\n",
       "    .dataframe tbody tr th {\n",
       "        vertical-align: top;\n",
       "    }\n",
       "</style>\n",
       "<table border=\"1\" class=\"dataframe\">\n",
       "  <thead>\n",
       "    <tr style=\"text-align: right;\">\n",
       "      <th></th>\n",
       "      <th>year</th>\n",
       "      <th>conrinc</th>\n",
       "      <th>cohort</th>\n",
       "      <th>ballot</th>\n",
       "      <th>wtssall</th>\n",
       "      <th>income</th>\n",
       "      <th>finrela</th>\n",
       "      <th>realinc</th>\n",
       "      <th>sex</th>\n",
       "      <th>homosex</th>\n",
       "      <th>...</th>\n",
       "      <th>age</th>\n",
       "      <th>race</th>\n",
       "      <th>srcbelt</th>\n",
       "      <th>polviews</th>\n",
       "      <th>natcrime</th>\n",
       "      <th>gunlaw</th>\n",
       "      <th>gun</th>\n",
       "      <th>gunage</th>\n",
       "      <th>gunnum</th>\n",
       "      <th>educ</th>\n",
       "    </tr>\n",
       "  </thead>\n",
       "  <tbody>\n",
       "    <tr>\n",
       "      <th>0</th>\n",
       "      <td>1972</td>\n",
       "      <td>0.0</td>\n",
       "      <td>1949</td>\n",
       "      <td>0</td>\n",
       "      <td>0.4446</td>\n",
       "      <td>0</td>\n",
       "      <td>3</td>\n",
       "      <td>18951.0</td>\n",
       "      <td>2</td>\n",
       "      <td>0</td>\n",
       "      <td>...</td>\n",
       "      <td>23</td>\n",
       "      <td>1</td>\n",
       "      <td>3</td>\n",
       "      <td>0</td>\n",
       "      <td>0</td>\n",
       "      <td>1</td>\n",
       "      <td>0</td>\n",
       "      <td>0</td>\n",
       "      <td>0</td>\n",
       "      <td>16</td>\n",
       "    </tr>\n",
       "    <tr>\n",
       "      <th>1</th>\n",
       "      <td>1972</td>\n",
       "      <td>0.0</td>\n",
       "      <td>1902</td>\n",
       "      <td>0</td>\n",
       "      <td>0.8893</td>\n",
       "      <td>0</td>\n",
       "      <td>4</td>\n",
       "      <td>24366.0</td>\n",
       "      <td>1</td>\n",
       "      <td>0</td>\n",
       "      <td>...</td>\n",
       "      <td>70</td>\n",
       "      <td>1</td>\n",
       "      <td>3</td>\n",
       "      <td>0</td>\n",
       "      <td>0</td>\n",
       "      <td>1</td>\n",
       "      <td>0</td>\n",
       "      <td>0</td>\n",
       "      <td>0</td>\n",
       "      <td>10</td>\n",
       "    </tr>\n",
       "    <tr>\n",
       "      <th>2</th>\n",
       "      <td>1972</td>\n",
       "      <td>0.0</td>\n",
       "      <td>1924</td>\n",
       "      <td>0</td>\n",
       "      <td>0.8893</td>\n",
       "      <td>0</td>\n",
       "      <td>3</td>\n",
       "      <td>24366.0</td>\n",
       "      <td>2</td>\n",
       "      <td>0</td>\n",
       "      <td>...</td>\n",
       "      <td>48</td>\n",
       "      <td>1</td>\n",
       "      <td>3</td>\n",
       "      <td>0</td>\n",
       "      <td>0</td>\n",
       "      <td>1</td>\n",
       "      <td>0</td>\n",
       "      <td>0</td>\n",
       "      <td>0</td>\n",
       "      <td>12</td>\n",
       "    </tr>\n",
       "    <tr>\n",
       "      <th>3</th>\n",
       "      <td>1972</td>\n",
       "      <td>0.0</td>\n",
       "      <td>1945</td>\n",
       "      <td>0</td>\n",
       "      <td>0.8893</td>\n",
       "      <td>0</td>\n",
       "      <td>3</td>\n",
       "      <td>30458.0</td>\n",
       "      <td>2</td>\n",
       "      <td>0</td>\n",
       "      <td>...</td>\n",
       "      <td>27</td>\n",
       "      <td>1</td>\n",
       "      <td>3</td>\n",
       "      <td>0</td>\n",
       "      <td>0</td>\n",
       "      <td>1</td>\n",
       "      <td>0</td>\n",
       "      <td>0</td>\n",
       "      <td>0</td>\n",
       "      <td>17</td>\n",
       "    </tr>\n",
       "    <tr>\n",
       "      <th>4</th>\n",
       "      <td>1972</td>\n",
       "      <td>0.0</td>\n",
       "      <td>1911</td>\n",
       "      <td>0</td>\n",
       "      <td>0.8893</td>\n",
       "      <td>0</td>\n",
       "      <td>4</td>\n",
       "      <td>50763.0</td>\n",
       "      <td>2</td>\n",
       "      <td>0</td>\n",
       "      <td>...</td>\n",
       "      <td>61</td>\n",
       "      <td>1</td>\n",
       "      <td>3</td>\n",
       "      <td>0</td>\n",
       "      <td>0</td>\n",
       "      <td>1</td>\n",
       "      <td>0</td>\n",
       "      <td>0</td>\n",
       "      <td>0</td>\n",
       "      <td>12</td>\n",
       "    </tr>\n",
       "  </tbody>\n",
       "</table>\n",
       "<p>5 rows × 24 columns</p>\n",
       "</div>"
      ],
      "text/plain": [
       "   year  conrinc  cohort  ballot  wtssall  income  finrela  realinc  sex  \\\n",
       "0  1972      0.0    1949       0   0.4446       0        3  18951.0    2   \n",
       "1  1972      0.0    1902       0   0.8893       0        4  24366.0    1   \n",
       "2  1972      0.0    1924       0   0.8893       0        3  24366.0    2   \n",
       "3  1972      0.0    1945       0   0.8893       0        3  30458.0    2   \n",
       "4  1972      0.0    1911       0   0.8893       0        4  50763.0    2   \n",
       "\n",
       "   homosex  ...   age  race  srcbelt  polviews  natcrime  gunlaw  gun  gunage  \\\n",
       "0        0  ...    23     1        3         0         0       1    0       0   \n",
       "1        0  ...    70     1        3         0         0       1    0       0   \n",
       "2        0  ...    48     1        3         0         0       1    0       0   \n",
       "3        0  ...    27     1        3         0         0       1    0       0   \n",
       "4        0  ...    61     1        3         0         0       1    0       0   \n",
       "\n",
       "   gunnum  educ  \n",
       "0       0    16  \n",
       "1       0    10  \n",
       "2       0    12  \n",
       "3       0    17  \n",
       "4       0    12  \n",
       "\n",
       "[5 rows x 24 columns]"
      ]
     },
     "execution_count": 3,
     "metadata": {},
     "output_type": "execute_result"
    }
   ],
   "source": [
    "gss = utils.ReadGss('gss_gun')\n",
    "print(gss.shape)\n",
    "gss.head()"
   ]
  },
  {
   "cell_type": "markdown",
   "metadata": {},
   "source": [
    "### Variable `gunlaw`\n",
    "\n",
    "Would you favor or oppose a law which would require a person to obtain a police permit before he or she could buy a gun?\n",
    "\n",
    "https://gssdataexplorer.norc.org/projects/41723/variables/272/vshow"
   ]
  },
  {
   "cell_type": "code",
   "execution_count": 4,
   "metadata": {},
   "outputs": [
    {
     "data": {
      "text/plain": [
       "40472"
      ]
     },
     "execution_count": 4,
     "metadata": {},
     "output_type": "execute_result"
    }
   ],
   "source": [
    "gss.gunlaw.replace([8, 9, 0], np.nan, inplace=True)\n",
    "sum(~gss.gunlaw.isnull())"
   ]
  },
  {
   "cell_type": "code",
   "execution_count": 5,
   "metadata": {},
   "outputs": [
    {
     "data": {
      "text/plain": [
       "1.0    30936\n",
       "2.0     9536\n",
       "Name: gunlaw, dtype: int64"
      ]
     },
     "execution_count": 5,
     "metadata": {},
     "output_type": "execute_result"
    }
   ],
   "source": [
    "utils.values(gss, 'gunlaw')"
   ]
  },
  {
   "cell_type": "code",
   "execution_count": 6,
   "metadata": {},
   "outputs": [
    {
     "data": {
      "text/plain": [
       "0.0     9536\n",
       "1.0    30936\n",
       "Name: favor, dtype: int64"
      ]
     },
     "execution_count": 6,
     "metadata": {},
     "output_type": "execute_result"
    }
   ],
   "source": [
    "make_boolean(gss, 'gunlaw', [1.0], 'favor')\n",
    "utils.values(gss, 'favor')"
   ]
  },
  {
   "cell_type": "markdown",
   "metadata": {},
   "source": [
    "### Variable `owngun`\n",
    "\n",
    "Do you happen to have in your home (IF HOUSE: or garage) any guns or revolvers?\n",
    "\n",
    "https://gssdataexplorer.norc.org/projects/41723/variables/679/vshow"
   ]
  },
  {
   "cell_type": "code",
   "execution_count": 7,
   "metadata": {},
   "outputs": [
    {
     "data": {
      "text/plain": [
       "37640"
      ]
     },
     "execution_count": 7,
     "metadata": {},
     "output_type": "execute_result"
    }
   ],
   "source": [
    "gss.owngun.replace([3, 8, 9, 0], np.nan, inplace=True)\n",
    "sum(~gss.owngun.isnull())"
   ]
  },
  {
   "cell_type": "code",
   "execution_count": 8,
   "metadata": {
    "scrolled": false
   },
   "outputs": [
    {
     "data": {
      "text/plain": [
       "1.0    15122\n",
       "2.0    22518\n",
       "Name: owngun, dtype: int64"
      ]
     },
     "execution_count": 8,
     "metadata": {},
     "output_type": "execute_result"
    }
   ],
   "source": [
    "utils.values(gss, 'owngun')"
   ]
  },
  {
   "cell_type": "code",
   "execution_count": 9,
   "metadata": {},
   "outputs": [
    {
     "data": {
      "text/plain": [
       "0.0    22518\n",
       "1.0    15122\n",
       "Name: gunhome, dtype: int64"
      ]
     },
     "execution_count": 9,
     "metadata": {},
     "output_type": "execute_result"
    }
   ],
   "source": [
    "make_boolean(gss, 'owngun', [1.0], 'gunhome')\n",
    "utils.values(gss, 'gunhome')"
   ]
  },
  {
   "cell_type": "markdown",
   "metadata": {},
   "source": [
    "### Variable `gun`\n",
    "\n",
    "Have you ever been threatened with a gun, or shot at? \n",
    "\n",
    "https://gssdataexplorer.norc.org/projects/41723/variables/661/vshow"
   ]
  },
  {
   "cell_type": "code",
   "execution_count": 10,
   "metadata": {},
   "outputs": [
    {
     "data": {
      "text/plain": [
       "19328"
      ]
     },
     "execution_count": 10,
     "metadata": {},
     "output_type": "execute_result"
    }
   ],
   "source": [
    "gss.gun.replace([8, 9, 0], np.nan, inplace=True)\n",
    "sum(~gss.gun.isnull())"
   ]
  },
  {
   "cell_type": "code",
   "execution_count": 11,
   "metadata": {
    "scrolled": false
   },
   "outputs": [
    {
     "data": {
      "text/plain": [
       "1.0     3775\n",
       "2.0    15553\n",
       "Name: gun, dtype: int64"
      ]
     },
     "execution_count": 11,
     "metadata": {},
     "output_type": "execute_result"
    }
   ],
   "source": [
    "utils.values(gss, 'gun')"
   ]
  },
  {
   "cell_type": "code",
   "execution_count": 12,
   "metadata": {},
   "outputs": [
    {
     "data": {
      "text/plain": [
       "0.0    15553\n",
       "1.0     3775\n",
       "Name: threatened, dtype: int64"
      ]
     },
     "execution_count": 12,
     "metadata": {},
     "output_type": "execute_result"
    }
   ],
   "source": [
    "make_boolean(gss, 'gun', [1.0], 'threatened')\n",
    "utils.values(gss, 'threatened')"
   ]
  },
  {
   "cell_type": "markdown",
   "metadata": {},
   "source": [
    "### Variable `natcrime`\n",
    "\n",
    "We are faced with many problems in this country, none of which can be solved easily or inexpensively. I'm going to name some of these problems, and for each one I'd like you to name some of these problems, and for each one I'd like you to tell me whether you think we're spending too much money on it, too little money, or about the right amount. First (READ ITEM A) . . . are we spending too much, too little, or about the right amount on (ITEM)? \n",
    "E. Halting the rising crime rate\n",
    "\n",
    "[Note: the wording of this question assumes that crime rates are rising!]\n",
    "\n",
    "https://gssdataexplorer.norc.org/projects/41723/variables/185/vshow"
   ]
  },
  {
   "cell_type": "code",
   "execution_count": 13,
   "metadata": {},
   "outputs": [
    {
     "data": {
      "text/plain": [
       "34402"
      ]
     },
     "execution_count": 13,
     "metadata": {},
     "output_type": "execute_result"
    }
   ],
   "source": [
    "gss.natcrime.replace([8, 9, 0], np.nan, inplace=True)\n",
    "sum(~gss.natcrime.isnull())"
   ]
  },
  {
   "cell_type": "code",
   "execution_count": 14,
   "metadata": {
    "scrolled": false
   },
   "outputs": [
    {
     "data": {
      "text/plain": [
       "1.0    23200\n",
       "2.0     9099\n",
       "3.0     2103\n",
       "Name: natcrime, dtype: int64"
      ]
     },
     "execution_count": 14,
     "metadata": {},
     "output_type": "execute_result"
    }
   ],
   "source": [
    "utils.values(gss, 'natcrime')"
   ]
  },
  {
   "cell_type": "code",
   "execution_count": 15,
   "metadata": {},
   "outputs": [
    {
     "data": {
      "text/plain": [
       "0.0    11202\n",
       "1.0    23200\n",
       "Name: spendcrime, dtype: int64"
      ]
     },
     "execution_count": 15,
     "metadata": {},
     "output_type": "execute_result"
    }
   ],
   "source": [
    "make_boolean(gss, 'natcrime', [1.0], 'spendcrime')\n",
    "utils.values(gss, 'spendcrime')"
   ]
  },
  {
   "cell_type": "markdown",
   "metadata": {},
   "source": [
    "### Variable `income`\n",
    "\n",
    "In which of these groups did your total family income, from all sources, fall last year before taxes, that is?\n",
    "\n"
   ]
  },
  {
   "cell_type": "code",
   "execution_count": 16,
   "metadata": {},
   "outputs": [
    {
     "data": {
      "text/plain": [
       "54505"
      ]
     },
     "execution_count": 16,
     "metadata": {},
     "output_type": "execute_result"
    }
   ],
   "source": [
    "varname = 'income'\n",
    "gss[varname].replace([0, 13, 98, 99], np.nan, inplace=True)\n",
    "sum(~gss[varname].isnull())"
   ]
  },
  {
   "cell_type": "code",
   "execution_count": 17,
   "metadata": {},
   "outputs": [
    {
     "data": {
      "text/plain": [
       "1.0       762\n",
       "2.0      1301\n",
       "3.0      1253\n",
       "4.0      1153\n",
       "5.0      1267\n",
       "6.0      1214\n",
       "7.0      1268\n",
       "8.0      2149\n",
       "9.0      6354\n",
       "10.0     4965\n",
       "11.0     5047\n",
       "12.0    27772\n",
       "Name: income, dtype: int64"
      ]
     },
     "execution_count": 17,
     "metadata": {},
     "output_type": "execute_result"
    }
   ],
   "source": [
    "utils.values(gss, varname)"
   ]
  },
  {
   "cell_type": "code",
   "execution_count": 18,
   "metadata": {
    "scrolled": false
   },
   "outputs": [
    {
     "data": {
      "text/plain": [
       "count    54505.000000\n",
       "mean        10.036492\n",
       "std          2.845831\n",
       "min          1.000000\n",
       "25%          9.000000\n",
       "50%         12.000000\n",
       "75%         12.000000\n",
       "max         12.000000\n",
       "Name: income, dtype: float64"
      ]
     },
     "execution_count": 18,
     "metadata": {},
     "output_type": "execute_result"
    }
   ],
   "source": [
    "gss[varname].describe()"
   ]
  },
  {
   "cell_type": "code",
   "execution_count": 19,
   "metadata": {},
   "outputs": [
    {
     "data": {
      "text/plain": [
       "0.0    26733\n",
       "1.0    27772\n",
       "Name: topincome, dtype: int64"
      ]
     },
     "execution_count": 19,
     "metadata": {},
     "output_type": "execute_result"
    }
   ],
   "source": [
    "make_boolean(gss, 'income', [12.0], 'topincome')\n",
    "utils.values(gss, 'topincome')"
   ]
  },
  {
   "cell_type": "code",
   "execution_count": 20,
   "metadata": {
    "scrolled": false
   },
   "outputs": [
    {
     "data": {
      "text/plain": [
       "0.0    44138\n",
       "1.0    10367\n",
       "Name: lowincome, dtype: int64"
      ]
     },
     "execution_count": 20,
     "metadata": {},
     "output_type": "execute_result"
    }
   ],
   "source": [
    "make_boolean(gss, 'income', [1,2,3,4,5,6,7,8], 'lowincome')\n",
    "utils.values(gss, 'lowincome')"
   ]
  },
  {
   "cell_type": "markdown",
   "metadata": {},
   "source": [
    "### Variable `educ`\n",
    "\n",
    "A. What is the highest grade in elementary school or high school that (you/your father/ your mother/your [husband/wife]) finished and got credit for? CODE EXACT GRADE. \n",
    "B. IF FINISHED 9th-12th GRADE OR DK*: Did (you/he/she) ever get a high school diploma or a GED certificate? [SEE D BELOW.] [See REMARKS] \n",
    "C. Did (you/he/she) complete one or more years of college for credit--not including schooling such as business college, technical or vocational school? IF YES: How many years did (you/he/she) complete? \n",
    "Do you (Does [he/she]) have any college degrees? (IF YES: What degree or degrees?) CODE HIGHEST DEGREE EARNED.\n",
    "\n",
    "https://gssdataexplorer.norc.org/projects/41723/variables/55/vshow\n"
   ]
  },
  {
   "cell_type": "code",
   "execution_count": 21,
   "metadata": {},
   "outputs": [
    {
     "data": {
      "text/plain": [
       "62292"
      ]
     },
     "execution_count": 21,
     "metadata": {},
     "output_type": "execute_result"
    }
   ],
   "source": [
    "varname = 'educ'\n",
    "gss[varname].replace([98,99], np.nan, inplace=True)\n",
    "sum(~gss[varname].isnull())"
   ]
  },
  {
   "cell_type": "code",
   "execution_count": 22,
   "metadata": {
    "scrolled": false
   },
   "outputs": [
    {
     "data": {
      "text/plain": [
       "0.0       161\n",
       "1.0        45\n",
       "2.0       148\n",
       "3.0       247\n",
       "4.0       314\n",
       "5.0       399\n",
       "6.0       808\n",
       "7.0       871\n",
       "8.0      2689\n",
       "9.0      2032\n",
       "10.0     2815\n",
       "11.0     3648\n",
       "12.0    19006\n",
       "13.0     5177\n",
       "14.0     6847\n",
       "15.0     2783\n",
       "16.0     7925\n",
       "17.0     1870\n",
       "18.0     2265\n",
       "19.0      875\n",
       "20.0     1367\n",
       "Name: educ, dtype: int64"
      ]
     },
     "execution_count": 22,
     "metadata": {},
     "output_type": "execute_result"
    }
   ],
   "source": [
    "utils.values(gss, varname)"
   ]
  },
  {
   "cell_type": "code",
   "execution_count": 25,
   "metadata": {},
   "outputs": [
    {
     "data": {
      "text/plain": [
       "0.0    33183\n",
       "1.0    29109\n",
       "Name: college, dtype: int64"
      ]
     },
     "execution_count": 25,
     "metadata": {},
     "output_type": "execute_result"
    }
   ],
   "source": [
    "gss['college'] = gss[varname] >= 13 \n",
    "gss.loc[gss[varname].isnull(), 'college'] = np.nan\n",
    "utils.values(gss, 'college')"
   ]
  },
  {
   "cell_type": "markdown",
   "metadata": {},
   "source": [
    "### Variable `realinc`\n",
    "\n",
    "\n"
   ]
  },
  {
   "cell_type": "code",
   "execution_count": 26,
   "metadata": {},
   "outputs": [
    {
     "data": {
      "text/plain": [
       "56141"
      ]
     },
     "execution_count": 26,
     "metadata": {},
     "output_type": "execute_result"
    }
   ],
   "source": [
    "varname = 'realinc'\n",
    "gss[varname].replace([0], np.nan, inplace=True)\n",
    "sum(~gss[varname].isnull())"
   ]
  },
  {
   "cell_type": "code",
   "execution_count": 27,
   "metadata": {
    "scrolled": false
   },
   "outputs": [
    {
     "data": {
      "text/plain": [
       "count     56141.000000\n",
       "mean      31636.199666\n",
       "std       29402.370825\n",
       "min         234.000000\n",
       "25%       12080.625000\n",
       "50%       24097.500000\n",
       "75%       39022.500000\n",
       "max      162607.000000\n",
       "Name: realinc, dtype: float64"
      ]
     },
     "execution_count": 27,
     "metadata": {},
     "output_type": "execute_result"
    }
   ],
   "source": [
    "gss[varname].describe()"
   ]
  },
  {
   "cell_type": "code",
   "execution_count": 28,
   "metadata": {},
   "outputs": [
    {
     "data": {
      "text/plain": [
       "(12080.625, 39022.5)"
      ]
     },
     "execution_count": 28,
     "metadata": {},
     "output_type": "execute_result"
    }
   ],
   "source": [
    "per25 = gss[varname].quantile(0.25)\n",
    "per75 = gss[varname].quantile(0.75)\n",
    "per25, per75"
   ]
  },
  {
   "cell_type": "code",
   "execution_count": 29,
   "metadata": {},
   "outputs": [
    {
     "data": {
      "text/plain": [
       "0.0    42062\n",
       "1.0    14079\n",
       "Name: lowinc, dtype: int64"
      ]
     },
     "execution_count": 29,
     "metadata": {},
     "output_type": "execute_result"
    }
   ],
   "source": [
    "gss['lowinc'] = gss[varname] <= per25 \n",
    "gss.loc[gss[varname].isnull(), 'lowinc'] = np.nan\n",
    "utils.values(gss, 'lowinc')"
   ]
  },
  {
   "cell_type": "code",
   "execution_count": 30,
   "metadata": {
    "scrolled": true
   },
   "outputs": [
    {
     "data": {
      "text/plain": [
       "0.0    41963\n",
       "1.0    14178\n",
       "Name: highinc, dtype: int64"
      ]
     },
     "execution_count": 30,
     "metadata": {},
     "output_type": "execute_result"
    }
   ],
   "source": [
    "gss['highinc'] = gss[varname] >= per75 \n",
    "gss.loc[gss[varname].isnull(), 'highinc'] = np.nan\n",
    "utils.values(gss, 'highinc')"
   ]
  },
  {
   "cell_type": "markdown",
   "metadata": {},
   "source": [
    "### Variable `polviews`\n",
    "\n",
    "\n",
    "A. We hear a lot of talk these days about liberals and conservatives. \n",
    "I'm going to show you a seven-point scale on which the political views that people might hold are arranged from extremely liberal--point 1--to extremely conservative--point 7. Where would you place yourself on this scale?\n",
    "\n",
    "https://gssdataexplorer.norc.org/projects/41723/variables/178/vshow"
   ]
  },
  {
   "cell_type": "code",
   "execution_count": 31,
   "metadata": {},
   "outputs": [
    {
     "data": {
      "text/plain": [
       "53081"
      ]
     },
     "execution_count": 31,
     "metadata": {},
     "output_type": "execute_result"
    }
   ],
   "source": [
    "varname = 'polviews'\n",
    "gss[varname].replace([8, 9, 0], np.nan, inplace=True)\n",
    "sum(~gss[varname].isnull())"
   ]
  },
  {
   "cell_type": "code",
   "execution_count": 32,
   "metadata": {},
   "outputs": [
    {
     "data": {
      "text/plain": [
       "1.0     1560\n",
       "2.0     6236\n",
       "3.0     6754\n",
       "4.0    20515\n",
       "5.0     8407\n",
       "6.0     7876\n",
       "7.0     1733\n",
       "Name: polviews, dtype: int64"
      ]
     },
     "execution_count": 32,
     "metadata": {},
     "output_type": "execute_result"
    }
   ],
   "source": [
    "utils.values(gss, varname)"
   ]
  },
  {
   "cell_type": "code",
   "execution_count": 33,
   "metadata": {
    "collapsed": true
   },
   "outputs": [],
   "source": [
    "def make_polviews(df):\n",
    "    make_boolean(gss, 'polviews', [1,2,3], 'liberal')\n",
    "    make_boolean(gss, 'polviews', [4], 'moderate')\n",
    "    make_boolean(gss, 'polviews', [6,7,8], 'conservative')\n",
    "\n",
    "make_polviews(gss)"
   ]
  },
  {
   "cell_type": "code",
   "execution_count": 34,
   "metadata": {},
   "outputs": [
    {
     "data": {
      "text/plain": [
       "0.0    38531\n",
       "1.0    14550\n",
       "Name: liberal, dtype: int64"
      ]
     },
     "execution_count": 34,
     "metadata": {},
     "output_type": "execute_result"
    }
   ],
   "source": [
    "utils.values(gss, 'liberal')"
   ]
  },
  {
   "cell_type": "code",
   "execution_count": 35,
   "metadata": {},
   "outputs": [
    {
     "data": {
      "text/plain": [
       "0.0    32566\n",
       "1.0    20515\n",
       "Name: moderate, dtype: int64"
      ]
     },
     "execution_count": 35,
     "metadata": {},
     "output_type": "execute_result"
    }
   ],
   "source": [
    "utils.values(gss, 'moderate')"
   ]
  },
  {
   "cell_type": "code",
   "execution_count": 36,
   "metadata": {},
   "outputs": [
    {
     "data": {
      "text/plain": [
       "0.0    43472\n",
       "1.0     9609\n",
       "Name: conservative, dtype: int64"
      ]
     },
     "execution_count": 36,
     "metadata": {},
     "output_type": "execute_result"
    }
   ],
   "source": [
    "utils.values(gss, 'conservative')"
   ]
  },
  {
   "cell_type": "markdown",
   "metadata": {},
   "source": [
    "### Age \n",
    "\n",
    "https://gssdataexplorer.norc.org/projects/29853/variables/53/vshow"
   ]
  },
  {
   "cell_type": "code",
   "execution_count": 37,
   "metadata": {},
   "outputs": [
    {
     "data": {
      "text/plain": [
       "221"
      ]
     },
     "execution_count": 37,
     "metadata": {},
     "output_type": "execute_result"
    }
   ],
   "source": [
    "gss.age.replace([98, 99], np.nan, inplace=True)\n",
    "sum(gss.age.isnull())"
   ]
  },
  {
   "cell_type": "markdown",
   "metadata": {},
   "source": [
    "### Sex \n",
    "\n",
    "https://gssdataexplorer.norc.org/projects/41723/variables/81/vshow"
   ]
  },
  {
   "cell_type": "code",
   "execution_count": 38,
   "metadata": {},
   "outputs": [
    {
     "data": {
      "text/plain": [
       "0"
      ]
     },
     "execution_count": 38,
     "metadata": {},
     "output_type": "execute_result"
    }
   ],
   "source": [
    "sum(gss.sex.isnull())"
   ]
  },
  {
   "cell_type": "code",
   "execution_count": 39,
   "metadata": {
    "scrolled": true
   },
   "outputs": [
    {
     "data": {
      "text/plain": [
       "0.0    27562\n",
       "1.0    34904\n",
       "Name: female, dtype: int64"
      ]
     },
     "execution_count": 39,
     "metadata": {},
     "output_type": "execute_result"
    }
   ],
   "source": [
    "make_boolean(gss, 'sex', [2], 'female')\n",
    "utils.values(gss, 'female')"
   ]
  },
  {
   "cell_type": "markdown",
   "metadata": {},
   "source": [
    "### Hispanic \n",
    "\n"
   ]
  },
  {
   "cell_type": "code",
   "execution_count": 40,
   "metadata": {},
   "outputs": [
    {
     "data": {
      "text/plain": [
       "38149"
      ]
     },
     "execution_count": 40,
     "metadata": {},
     "output_type": "execute_result"
    }
   ],
   "source": [
    "gss.hispanic.replace([98, 99, 0], np.nan, inplace=True)\n",
    "sum(gss.hispanic.isnull())"
   ]
  },
  {
   "cell_type": "code",
   "execution_count": 41,
   "metadata": {
    "scrolled": true
   },
   "outputs": [
    {
     "data": {
      "text/plain": [
       "0.0    22656\n",
       "1.0     1661\n",
       "Name: ishisp, dtype: int64"
      ]
     },
     "execution_count": 41,
     "metadata": {},
     "output_type": "execute_result"
    }
   ],
   "source": [
    "make_boolean(gss, 'hispanic', [2], 'ishisp')\n",
    "utils.values(gss, 'ishisp')"
   ]
  },
  {
   "cell_type": "markdown",
   "metadata": {},
   "source": [
    "### Race\n",
    "\n",
    "https://gssdataexplorer.norc.org/projects/41723/variables/82/vshow\n",
    "\n",
    "CODE WITHOUT ASKING ONLY IF THERE IS NO DOUBT IN YOUR MIND. \n",
    "What race do you consider yourself? RECORD VERBATIM AND CODE."
   ]
  },
  {
   "cell_type": "code",
   "execution_count": 42,
   "metadata": {},
   "outputs": [
    {
     "data": {
      "text/plain": [
       "0"
      ]
     },
     "execution_count": 42,
     "metadata": {},
     "output_type": "execute_result"
    }
   ],
   "source": [
    "sum(gss.race.isnull())"
   ]
  },
  {
   "cell_type": "code",
   "execution_count": 43,
   "metadata": {
    "scrolled": true
   },
   "outputs": [
    {
     "data": {
      "text/plain": [
       "1    50340\n",
       "2     8802\n",
       "3     3324\n",
       "Name: race, dtype: int64"
      ]
     },
     "execution_count": 43,
     "metadata": {},
     "output_type": "execute_result"
    }
   ],
   "source": [
    "utils.values(gss, 'race')"
   ]
  },
  {
   "cell_type": "code",
   "execution_count": 44,
   "metadata": {},
   "outputs": [
    {
     "data": {
      "text/plain": [
       "0.0    53664\n",
       "1.0     8802\n",
       "Name: black, dtype: int64"
      ]
     },
     "execution_count": 44,
     "metadata": {},
     "output_type": "execute_result"
    }
   ],
   "source": [
    "make_boolean(gss, 'race', [2], 'black')\n",
    "utils.values(gss, 'black')"
   ]
  },
  {
   "cell_type": "code",
   "execution_count": 45,
   "metadata": {},
   "outputs": [
    {
     "data": {
      "text/plain": [
       "0.0    59142\n",
       "1.0     3324\n",
       "Name: otherrace, dtype: int64"
      ]
     },
     "execution_count": 45,
     "metadata": {},
     "output_type": "execute_result"
    }
   ],
   "source": [
    "make_boolean(gss, 'race', [3], 'otherrace')\n",
    "utils.values(gss, 'otherrace')"
   ]
  },
  {
   "cell_type": "markdown",
   "metadata": {},
   "source": [
    "### srcbelt\n",
    "\n",
    "C. SRC (SURVEY RESEARCH CENTER, UNIVERSITY OF MICHIGAN) NEW BELT CODE\n",
    "\n",
    "https://gssdataexplorer.norc.org/projects/41723/variables/121/vshow"
   ]
  },
  {
   "cell_type": "code",
   "execution_count": 46,
   "metadata": {},
   "outputs": [
    {
     "data": {
      "text/plain": [
       "0"
      ]
     },
     "execution_count": 46,
     "metadata": {},
     "output_type": "execute_result"
    }
   ],
   "source": [
    "sum(gss.srcbelt.isnull())"
   ]
  },
  {
   "cell_type": "code",
   "execution_count": 47,
   "metadata": {
    "scrolled": true
   },
   "outputs": [
    {
     "data": {
      "text/plain": [
       "1     5572\n",
       "2     8670\n",
       "3     7113\n",
       "4     9348\n",
       "5    23583\n",
       "6     8180\n",
       "Name: srcbelt, dtype: int64"
      ]
     },
     "execution_count": 47,
     "metadata": {},
     "output_type": "execute_result"
    }
   ],
   "source": [
    "utils.values(gss, 'srcbelt')"
   ]
  },
  {
   "cell_type": "code",
   "execution_count": 48,
   "metadata": {},
   "outputs": [
    {
     "data": {
      "text/plain": [
       "0.0    24641\n",
       "1.0    37825\n",
       "Name: urban, dtype: int64"
      ]
     },
     "execution_count": 48,
     "metadata": {},
     "output_type": "execute_result"
    }
   ],
   "source": [
    "make_boolean(gss, 'srcbelt', [1,2,5], 'urban')\n",
    "utils.values(gss, 'urban')"
   ]
  },
  {
   "cell_type": "code",
   "execution_count": 49,
   "metadata": {},
   "outputs": [
    {
     "data": {
      "text/plain": [
       "0.0    46005\n",
       "1.0    16461\n",
       "Name: suburban, dtype: int64"
      ]
     },
     "execution_count": 49,
     "metadata": {},
     "output_type": "execute_result"
    }
   ],
   "source": [
    "make_boolean(gss, 'srcbelt', [3,4], 'suburban')\n",
    "utils.values(gss, 'suburban')"
   ]
  },
  {
   "cell_type": "code",
   "execution_count": 50,
   "metadata": {},
   "outputs": [
    {
     "data": {
      "text/plain": [
       "0.0    54286\n",
       "1.0     8180\n",
       "Name: rural, dtype: int64"
      ]
     },
     "execution_count": 50,
     "metadata": {},
     "output_type": "execute_result"
    }
   ],
   "source": [
    "make_boolean(gss, 'srcbelt', [6], 'rural')\n",
    "utils.values(gss, 'rural')"
   ]
  },
  {
   "cell_type": "markdown",
   "metadata": {},
   "source": [
    "### Year of birth \n",
    "\n",
    "https://gssdataexplorer.norc.org/projects/29853/variables/5507/vshow"
   ]
  },
  {
   "cell_type": "code",
   "execution_count": 51,
   "metadata": {},
   "outputs": [
    {
     "data": {
      "text/plain": [
       "221"
      ]
     },
     "execution_count": 51,
     "metadata": {},
     "output_type": "execute_result"
    }
   ],
   "source": [
    "gss.cohort.replace([9999], np.nan, inplace=True)\n",
    "sum(gss.cohort.isnull())"
   ]
  },
  {
   "cell_type": "markdown",
   "metadata": {},
   "source": [
    "Drop records if age or cohort is missing."
   ]
  },
  {
   "cell_type": "code",
   "execution_count": 52,
   "metadata": {},
   "outputs": [
    {
     "data": {
      "text/plain": [
       "(62244, 43)"
      ]
     },
     "execution_count": 52,
     "metadata": {},
     "output_type": "execute_result"
    }
   ],
   "source": [
    "gss.dropna(subset=['age', 'cohort'], inplace=True)\n",
    "gss.shape"
   ]
  },
  {
   "cell_type": "markdown",
   "metadata": {},
   "source": [
    "We drop 222 records due to missing data."
   ]
  },
  {
   "cell_type": "code",
   "execution_count": 53,
   "metadata": {},
   "outputs": [
    {
     "data": {
      "text/plain": [
       "222"
      ]
     },
     "execution_count": 53,
     "metadata": {},
     "output_type": "execute_result"
    }
   ],
   "source": [
    "62466 - 62244"
   ]
  },
  {
   "cell_type": "markdown",
   "metadata": {},
   "source": [
    "Here's the distribution of ages."
   ]
  },
  {
   "cell_type": "code",
   "execution_count": 54,
   "metadata": {},
   "outputs": [
    {
     "data": {
      "image/png": "[encoded data removed]",
      "text/plain": [
       "<matplotlib.figure.Figure at 0x7fefa7ef8240>"
      ]
     },
     "metadata": {},
     "output_type": "display_data"
    }
   ],
   "source": [
    "thinkplot.Cdf(thinkstats2.Cdf(gss.age))\n",
    "thinkplot.Config(xlabel='Age', ylabel='CDF')"
   ]
  },
  {
   "cell_type": "markdown",
   "metadata": {},
   "source": [
    "Group people into 5-year age groups."
   ]
  },
  {
   "cell_type": "code",
   "execution_count": 55,
   "metadata": {
    "collapsed": true
   },
   "outputs": [],
   "source": [
    "gss['age_group'] = utils.RoundIntoBins(gss, 'age', 5) + 2.5"
   ]
  },
  {
   "cell_type": "markdown",
   "metadata": {},
   "source": [
    "Here's the distribution of birth year."
   ]
  },
  {
   "cell_type": "code",
   "execution_count": 56,
   "metadata": {},
   "outputs": [
    {
     "data": {
      "image/png": "[encoded data removed]",
      "text/plain": [
       "<matplotlib.figure.Figure at 0x7fefa7eb1f60>"
      ]
     },
     "metadata": {},
     "output_type": "display_data"
    }
   ],
   "source": [
    "thinkplot.Cdf(thinkstats2.Cdf(gss.cohort))\n",
    "thinkplot.Config(xlabel='Year of birth', ylabel='CDF')"
   ]
  },
  {
   "cell_type": "markdown",
   "metadata": {},
   "source": [
    "Group people into 5- and 10-year bins by birth year."
   ]
  },
  {
   "cell_type": "code",
   "execution_count": 57,
   "metadata": {
    "collapsed": true
   },
   "outputs": [],
   "source": [
    "gss['cohort5'] = utils.RoundIntoBins(gss, 'cohort', 5, low=2) + 2.5"
   ]
  },
  {
   "cell_type": "code",
   "execution_count": 58,
   "metadata": {},
   "outputs": [
    {
     "data": {
      "text/plain": [
       "cohort5\n",
       "1884.5      15\n",
       "1889.5      85\n",
       "1894.5     216\n",
       "1899.5     443\n",
       "1904.5     722\n",
       "1909.5    1089\n",
       "1914.5    1500\n",
       "1919.5    1837\n",
       "1924.5    2145\n",
       "1929.5    2146\n",
       "1934.5    2328\n",
       "1939.5    2616\n",
       "1944.5    3336\n",
       "1949.5    4254\n",
       "1954.5    4150\n",
       "1959.5    3717\n",
       "1964.5    2935\n",
       "1969.5    2230\n",
       "1974.5    1644\n",
       "1979.5    1266\n",
       "1984.5     879\n",
       "1989.5     560\n",
       "1994.5     213\n",
       "1999.5      13\n",
       "Name: gunlaw, dtype: int64"
      ]
     },
     "execution_count": 58,
     "metadata": {},
     "output_type": "execute_result"
    }
   ],
   "source": [
    "grouped_cohort = gss.groupby(['cohort5'])\n",
    "counts = grouped_cohort.gunlaw.count()\n",
    "counts"
   ]
  },
  {
   "cell_type": "markdown",
   "metadata": {},
   "source": [
    "To avoid a final data point with a small sample size, I chose `low` to minimize the number of people in the last group, and I've lumped them in with the previous group."
   ]
  },
  {
   "cell_type": "code",
   "execution_count": 59,
   "metadata": {
    "collapsed": true
   },
   "outputs": [],
   "source": [
    "gss.loc[gss.cohort5==1999.5, 'cohort5'] = 1994.5\n",
    "gss.loc[gss.cohort5<1894, 'cohort5'] = 1894.5"
   ]
  },
  {
   "cell_type": "code",
   "execution_count": 60,
   "metadata": {},
   "outputs": [
    {
     "data": {
      "text/plain": [
       "cohort5\n",
       "1894.5     316\n",
       "1899.5     443\n",
       "1904.5     722\n",
       "1909.5    1089\n",
       "1914.5    1500\n",
       "1919.5    1837\n",
       "1924.5    2145\n",
       "1929.5    2146\n",
       "1934.5    2328\n",
       "1939.5    2616\n",
       "1944.5    3336\n",
       "1949.5    4254\n",
       "1954.5    4150\n",
       "1959.5    3717\n",
       "1964.5    2935\n",
       "1969.5    2230\n",
       "1974.5    1644\n",
       "1979.5    1266\n",
       "1984.5     879\n",
       "1989.5     560\n",
       "1994.5     226\n",
       "Name: gunlaw, dtype: int64"
      ]
     },
     "execution_count": 60,
     "metadata": {},
     "output_type": "execute_result"
    }
   ],
   "source": [
    "grouped_cohort = gss.groupby(['cohort5'])\n",
    "counts = grouped_cohort.gunlaw.count()\n",
    "counts"
   ]
  },
  {
   "cell_type": "code",
   "execution_count": 61,
   "metadata": {
    "collapsed": true
   },
   "outputs": [],
   "source": [
    "gss['cohort10'] = utils.RoundIntoBins(gss, 'cohort', 10)"
   ]
  },
  {
   "cell_type": "code",
   "execution_count": 62,
   "metadata": {},
   "outputs": [
    {
     "data": {
      "text/plain": [
       "cohort10\n",
       "1880.0      53\n",
       "1890.0     502\n",
       "1900.0    1563\n",
       "1910.0    3024\n",
       "1920.0    4212\n",
       "1930.0    4703\n",
       "1940.0    6929\n",
       "1950.0    8212\n",
       "1960.0    5721\n",
       "1970.0    3278\n",
       "1980.0    1750\n",
       "1990.0     392\n",
       "Name: gunlaw, dtype: int64"
      ]
     },
     "execution_count": 62,
     "metadata": {},
     "output_type": "execute_result"
    }
   ],
   "source": [
    "grouped_cohort = gss.groupby(['cohort10'])\n",
    "counts = grouped_cohort.gunlaw.count()\n",
    "counts"
   ]
  },
  {
   "cell_type": "markdown",
   "metadata": {},
   "source": [
    "Here's the number of respondents in each year."
   ]
  },
  {
   "cell_type": "code",
   "execution_count": 63,
   "metadata": {},
   "outputs": [
    {
     "data": {
      "text/plain": [
       "1972    1608\n",
       "1973    1500\n",
       "1974    1478\n",
       "1975    1485\n",
       "1976    1493\n",
       "1977    1523\n",
       "1978    1525\n",
       "1980    1459\n",
       "1982    1845\n",
       "1983    1592\n",
       "1984    1467\n",
       "1985    1527\n",
       "1986    1463\n",
       "1987    1807\n",
       "1988    1477\n",
       "1989    1533\n",
       "1990    1372\n",
       "1991    1514\n",
       "1993    1601\n",
       "1994    2986\n",
       "1996    2898\n",
       "1998    2827\n",
       "2000    2809\n",
       "2002    2751\n",
       "2004    2803\n",
       "2006    4492\n",
       "2008    2013\n",
       "2010    2041\n",
       "2012    1969\n",
       "2014    2529\n",
       "2016    2857\n",
       "Name: year, dtype: int64"
      ]
     },
     "execution_count": 63,
     "metadata": {},
     "output_type": "execute_result"
    }
   ],
   "source": [
    "utils.values(gss, 'year')"
   ]
  },
  {
   "cell_type": "code",
   "execution_count": 64,
   "metadata": {},
   "outputs": [
    {
     "data": {
      "text/plain": [
       "1971    3108\n",
       "1975    5979\n",
       "1979    2984\n",
       "1983    6431\n",
       "1987    6280\n",
       "1991    4487\n",
       "1995    5884\n",
       "1999    5636\n",
       "2003    5554\n",
       "2007    6505\n",
       "2011    4010\n",
       "2015    5386\n",
       "Name: year4, dtype: int64"
      ]
     },
     "execution_count": 64,
     "metadata": {},
     "output_type": "execute_result"
    }
   ],
   "source": [
    "gss['year4'] = utils.RoundIntoBins(gss, 'year', 4, low=1970) + 1\n",
    "utils.values(gss, 'year4')"
   ]
  },
  {
   "cell_type": "code",
   "execution_count": 65,
   "metadata": {},
   "outputs": [
    {
     "data": {
      "text/plain": [
       "19.5    1924\n",
       "22.5    3238\n",
       "25.5    3815\n",
       "28.5    4023\n",
       "31.5    4094\n",
       "34.5    4033\n",
       "37.5    3951\n",
       "40.5    3609\n",
       "43.5    3496\n",
       "46.5    3217\n",
       "49.5    3178\n",
       "52.5    3019\n",
       "55.5    2817\n",
       "58.5    2681\n",
       "61.5    2538\n",
       "64.5    2289\n",
       "67.5    2184\n",
       "70.5    1913\n",
       "73.5    1690\n",
       "76.5    1418\n",
       "79.5    1114\n",
       "82.5     839\n",
       "85.5     573\n",
       "88.5     591\n",
       "Name: age3, dtype: int64"
      ]
     },
     "execution_count": 65,
     "metadata": {},
     "output_type": "execute_result"
    }
   ],
   "source": [
    "gss['age3'] = utils.RoundIntoBins(gss, 'age', 3, low=0) + 1.5\n",
    "utils.values(gss, 'age3')"
   ]
  },
  {
   "cell_type": "code",
   "execution_count": 66,
   "metadata": {
    "collapsed": true
   },
   "outputs": [],
   "source": [
    "def center_factors(df):\n",
    "    \"\"\"Center factors around their means.\n",
    "    \n",
    "    Add centered factors to make the coeffients\n",
    "    of the model easier to interpret.\n",
    "    \n",
    "    df: DataFrame\n",
    "    \"\"\"\n",
    "    df['ones'] = np.ones_like(df.cohort)\n",
    "    df['c'] = df.cohort - 1966\n",
    "    df['a'] = df.age - 47\n",
    "    df['y'] = df.year - 1990\n",
    "    \n",
    "    # also add quadratic factors and interaction term\n",
    "    df['c2'] = df.c**2\n",
    "    df['a2'] = df.a**2\n",
    "    df['y2'] = df.y**2\n",
    "    df['ac'] = df.a * df.c\n",
    "    \n",
    "    df['cohort10'] = utils.RoundIntoBins(df, 'cohort', 10)\n",
    "    df['twenties'] = (df.cohort10 == 1920.0).astype(int)\n",
    "    df['thirties'] = (df.cohort10 == 1930.0).astype(int)\n",
    "    df['forties'] = (df.cohort10 == 1940.0).astype(int)\n",
    "    df['fifties'] = (df.cohort10 == 1950.0).astype(int)\n",
    "    df['sixties'] = (df.cohort10 == 1960.0).astype(int)\n",
    "    df['seventies'] = (df.cohort10 == 1970.0).astype(int)\n",
    "    df['eighties'] = (df.cohort10 == 1980.0).astype(int)\n",
    "    df['nineties'] = (df.cohort10 == 1990.0).astype(int)"
   ]
  },
  {
   "cell_type": "code",
   "execution_count": 67,
   "metadata": {
    "collapsed": true
   },
   "outputs": [],
   "source": [
    "center_factors(gss)"
   ]
  },
  {
   "cell_type": "markdown",
   "metadata": {},
   "source": [
    "Recode some variables"
   ]
  },
  {
   "cell_type": "code",
   "execution_count": null,
   "metadata": {
    "collapsed": true
   },
   "outputs": [],
   "source": [
    "\n",
    "\n"
   ]
  },
  {
   "cell_type": "code",
   "execution_count": null,
   "metadata": {
    "collapsed": true
   },
   "outputs": [],
   "source": []
  },
  {
   "cell_type": "markdown",
   "metadata": {},
   "source": [
    "## Resample\n",
    "\n",
    "Resampling (bootstrapping to be more specific) to account for sampling weights."
   ]
  },
  {
   "cell_type": "code",
   "execution_count": 68,
   "metadata": {
    "scrolled": true
   },
   "outputs": [
    {
     "data": {
      "text/html": [
       "<div>\n",
       "<style>\n",
       "    .dataframe thead tr:only-child th {\n",
       "        text-align: right;\n",
       "    }\n",
       "\n",
       "    .dataframe thead th {\n",
       "        text-align: left;\n",
       "    }\n",
       "\n",
       "    .dataframe tbody tr th {\n",
       "        vertical-align: top;\n",
       "    }\n",
       "</style>\n",
       "<table border=\"1\" class=\"dataframe\">\n",
       "  <thead>\n",
       "    <tr style=\"text-align: right;\">\n",
       "      <th></th>\n",
       "      <th>year</th>\n",
       "      <th>conrinc</th>\n",
       "      <th>cohort</th>\n",
       "      <th>ballot</th>\n",
       "      <th>wtssall</th>\n",
       "      <th>income</th>\n",
       "      <th>finrela</th>\n",
       "      <th>realinc</th>\n",
       "      <th>sex</th>\n",
       "      <th>homosex</th>\n",
       "      <th>...</th>\n",
       "      <th>y2</th>\n",
       "      <th>ac</th>\n",
       "      <th>twenties</th>\n",
       "      <th>thirties</th>\n",
       "      <th>forties</th>\n",
       "      <th>fifties</th>\n",
       "      <th>sixties</th>\n",
       "      <th>seventies</th>\n",
       "      <th>eighties</th>\n",
       "      <th>nineties</th>\n",
       "    </tr>\n",
       "  </thead>\n",
       "  <tbody>\n",
       "    <tr>\n",
       "      <th>0</th>\n",
       "      <td>1972</td>\n",
       "      <td>0.0</td>\n",
       "      <td>1925.0</td>\n",
       "      <td>0</td>\n",
       "      <td>0.8893</td>\n",
       "      <td>NaN</td>\n",
       "      <td>3</td>\n",
       "      <td>37226.0</td>\n",
       "      <td>1</td>\n",
       "      <td>0</td>\n",
       "      <td>...</td>\n",
       "      <td>324</td>\n",
       "      <td>-0.0</td>\n",
       "      <td>1</td>\n",
       "      <td>0</td>\n",
       "      <td>0</td>\n",
       "      <td>0</td>\n",
       "      <td>0</td>\n",
       "      <td>0</td>\n",
       "      <td>0</td>\n",
       "      <td>0</td>\n",
       "    </tr>\n",
       "    <tr>\n",
       "      <th>1</th>\n",
       "      <td>1972</td>\n",
       "      <td>0.0</td>\n",
       "      <td>1928.0</td>\n",
       "      <td>0</td>\n",
       "      <td>1.3339</td>\n",
       "      <td>NaN</td>\n",
       "      <td>3</td>\n",
       "      <td>30458.0</td>\n",
       "      <td>2</td>\n",
       "      <td>0</td>\n",
       "      <td>...</td>\n",
       "      <td>324</td>\n",
       "      <td>114.0</td>\n",
       "      <td>1</td>\n",
       "      <td>0</td>\n",
       "      <td>0</td>\n",
       "      <td>0</td>\n",
       "      <td>0</td>\n",
       "      <td>0</td>\n",
       "      <td>0</td>\n",
       "      <td>0</td>\n",
       "    </tr>\n",
       "    <tr>\n",
       "      <th>2</th>\n",
       "      <td>1972</td>\n",
       "      <td>0.0</td>\n",
       "      <td>1898.0</td>\n",
       "      <td>0</td>\n",
       "      <td>0.8893</td>\n",
       "      <td>NaN</td>\n",
       "      <td>3</td>\n",
       "      <td>24366.0</td>\n",
       "      <td>1</td>\n",
       "      <td>0</td>\n",
       "      <td>...</td>\n",
       "      <td>324</td>\n",
       "      <td>-1836.0</td>\n",
       "      <td>0</td>\n",
       "      <td>0</td>\n",
       "      <td>0</td>\n",
       "      <td>0</td>\n",
       "      <td>0</td>\n",
       "      <td>0</td>\n",
       "      <td>0</td>\n",
       "      <td>0</td>\n",
       "    </tr>\n",
       "    <tr>\n",
       "      <th>3</th>\n",
       "      <td>1972</td>\n",
       "      <td>0.0</td>\n",
       "      <td>1932.0</td>\n",
       "      <td>0</td>\n",
       "      <td>0.8893</td>\n",
       "      <td>NaN</td>\n",
       "      <td>3</td>\n",
       "      <td>30458.0</td>\n",
       "      <td>2</td>\n",
       "      <td>0</td>\n",
       "      <td>...</td>\n",
       "      <td>324</td>\n",
       "      <td>238.0</td>\n",
       "      <td>0</td>\n",
       "      <td>1</td>\n",
       "      <td>0</td>\n",
       "      <td>0</td>\n",
       "      <td>0</td>\n",
       "      <td>0</td>\n",
       "      <td>0</td>\n",
       "      <td>0</td>\n",
       "    </tr>\n",
       "    <tr>\n",
       "      <th>4</th>\n",
       "      <td>1972</td>\n",
       "      <td>0.0</td>\n",
       "      <td>1915.0</td>\n",
       "      <td>0</td>\n",
       "      <td>1.3339</td>\n",
       "      <td>NaN</td>\n",
       "      <td>3</td>\n",
       "      <td>74452.0</td>\n",
       "      <td>1</td>\n",
       "      <td>0</td>\n",
       "      <td>...</td>\n",
       "      <td>324</td>\n",
       "      <td>-510.0</td>\n",
       "      <td>0</td>\n",
       "      <td>0</td>\n",
       "      <td>0</td>\n",
       "      <td>0</td>\n",
       "      <td>0</td>\n",
       "      <td>0</td>\n",
       "      <td>0</td>\n",
       "      <td>0</td>\n",
       "    </tr>\n",
       "  </tbody>\n",
       "</table>\n",
       "<p>5 rows × 64 columns</p>\n",
       "</div>"
      ],
      "text/plain": [
       "   year  conrinc  cohort  ballot  wtssall  income  finrela  realinc  sex  \\\n",
       "0  1972      0.0  1925.0       0   0.8893     NaN        3  37226.0    1   \n",
       "1  1972      0.0  1928.0       0   1.3339     NaN        3  30458.0    2   \n",
       "2  1972      0.0  1898.0       0   0.8893     NaN        3  24366.0    1   \n",
       "3  1972      0.0  1932.0       0   0.8893     NaN        3  30458.0    2   \n",
       "4  1972      0.0  1915.0       0   1.3339     NaN        3  74452.0    1   \n",
       "\n",
       "   homosex    ...      y2      ac  twenties  thirties  forties  fifties  \\\n",
       "0        0    ...     324    -0.0         1         0        0        0   \n",
       "1        0    ...     324   114.0         1         0        0        0   \n",
       "2        0    ...     324 -1836.0         0         0        0        0   \n",
       "3        0    ...     324   238.0         0         1        0        0   \n",
       "4        0    ...     324  -510.0         0         0        0        0   \n",
       "\n",
       "   sixties  seventies  eighties  nineties  \n",
       "0        0          0         0         0  \n",
       "1        0          0         0         0  \n",
       "2        0          0         0         0  \n",
       "3        0          0         0         0  \n",
       "4        0          0         0         0  \n",
       "\n",
       "[5 rows x 64 columns]"
      ]
     },
     "execution_count": 68,
     "metadata": {},
     "output_type": "execute_result"
    }
   ],
   "source": [
    "sample = utils.ResampleByYear(gss)\n",
    "sample.head()"
   ]
  },
  {
   "cell_type": "code",
   "execution_count": 69,
   "metadata": {
    "collapsed": true
   },
   "outputs": [],
   "source": [
    "def fill_missing_column(df, colname):\n",
    "    \"\"\"Fills missing values of the given column.\n",
    "\n",
    "    df: DataFrame\n",
    "    colname: string\n",
    "    \"\"\"\n",
    "    null = df[df[colname].isnull()]\n",
    "\n",
    "    print(len(null), len(df))\n",
    "\n",
    "    valid = df[colname].dropna()\n",
    "    fill = valid.sample(len(null), replace=True)\n",
    "    fill.index = null.index\n",
    "\n",
    "    df[colname].fillna(fill, inplace=True)"
   ]
  },
  {
   "cell_type": "code",
   "execution_count": 70,
   "metadata": {},
   "outputs": [
    {
     "name": "stdout",
     "output_type": "stream",
     "text": [
      "0 62244\n"
     ]
    }
   ],
   "source": [
    "fill_missing_column(sample, 'y')"
   ]
  },
  {
   "cell_type": "code",
   "execution_count": 71,
   "metadata": {},
   "outputs": [
    {
     "name": "stdout",
     "output_type": "stream",
     "text": [
      "0 62244\n"
     ]
    }
   ],
   "source": [
    "fill_missing_column(sample, 'y2')"
   ]
  },
  {
   "cell_type": "code",
   "execution_count": 72,
   "metadata": {},
   "outputs": [
    {
     "name": "stdout",
     "output_type": "stream",
     "text": [
      "0 62244\n"
     ]
    }
   ],
   "source": [
    "fill_missing_column(sample, 'nineties')"
   ]
  },
  {
   "cell_type": "code",
   "execution_count": 73,
   "metadata": {},
   "outputs": [
    {
     "name": "stdout",
     "output_type": "stream",
     "text": [
      "42993 62244\n"
     ]
    }
   ],
   "source": [
    "fill_missing_column(sample, 'threatened')"
   ]
  },
  {
   "cell_type": "code",
   "execution_count": 74,
   "metadata": {},
   "outputs": [
    {
     "name": "stdout",
     "output_type": "stream",
     "text": [
      "24450 62244\n"
     ]
    }
   ],
   "source": [
    "fill_missing_column(sample, 'gunhome')"
   ]
  },
  {
   "cell_type": "code",
   "execution_count": 75,
   "metadata": {},
   "outputs": [
    {
     "name": "stdout",
     "output_type": "stream",
     "text": [
      "0 62244\n"
     ]
    }
   ],
   "source": [
    "fill_missing_column(sample, 'race')"
   ]
  },
  {
   "cell_type": "code",
   "execution_count": 76,
   "metadata": {},
   "outputs": [
    {
     "name": "stdout",
     "output_type": "stream",
     "text": [
      "38011 62244\n"
     ]
    }
   ],
   "source": [
    "fill_missing_column(sample, 'ishisp')"
   ]
  },
  {
   "cell_type": "code",
   "execution_count": 77,
   "metadata": {},
   "outputs": [
    {
     "name": "stdout",
     "output_type": "stream",
     "text": [
      "0 62244\n"
     ]
    }
   ],
   "source": [
    "fill_missing_column(sample, 'srcbelt')"
   ]
  },
  {
   "cell_type": "code",
   "execution_count": 78,
   "metadata": {},
   "outputs": [
    {
     "name": "stdout",
     "output_type": "stream",
     "text": [
      "9097 62244\n"
     ]
    }
   ],
   "source": [
    "fill_missing_column(sample, 'polviews')"
   ]
  },
  {
   "cell_type": "code",
   "execution_count": 79,
   "metadata": {
    "collapsed": true
   },
   "outputs": [],
   "source": [
    "make_polviews(sample)"
   ]
  },
  {
   "cell_type": "code",
   "execution_count": 80,
   "metadata": {},
   "outputs": [
    {
     "name": "stdout",
     "output_type": "stream",
     "text": [
      "27980 62244\n"
     ]
    }
   ],
   "source": [
    "fill_missing_column(sample, 'spendcrime')"
   ]
  },
  {
   "cell_type": "code",
   "execution_count": 81,
   "metadata": {},
   "outputs": [
    {
     "name": "stdout",
     "output_type": "stream",
     "text": [
      "167 62244\n"
     ]
    }
   ],
   "source": [
    "fill_missing_column(sample, 'college')"
   ]
  },
  {
   "cell_type": "markdown",
   "metadata": {},
   "source": [
    "### Run logistic models\n",
    "\n"
   ]
  },
  {
   "cell_type": "code",
   "execution_count": 82,
   "metadata": {},
   "outputs": [
    {
     "data": {
      "text/plain": [
       "Index(['year', 'conrinc', 'cohort', 'ballot', 'wtssall', 'income', 'finrela',\n",
       "       'realinc', 'sex', 'homosex', 'hispanic', 'rowngun', 'owngun', 'id_',\n",
       "       'age', 'race', 'srcbelt', 'polviews', 'natcrime', 'gunlaw', 'gun',\n",
       "       'gunage', 'gunnum', 'educ', 'favor', 'gunhome', 'threatened',\n",
       "       'spendcrime', 'topincome', 'lowincome', 'college', 'lowinc', 'highinc',\n",
       "       'liberal', 'moderate', 'conservative', 'female', 'ishisp', 'black',\n",
       "       'otherrace', 'urban', 'suburban', 'rural', 'age_group', 'cohort5',\n",
       "       'cohort10', 'year4', 'age3', 'ones', 'c', 'a', 'y', 'c2', 'a2', 'y2',\n",
       "       'ac', 'twenties', 'thirties', 'forties', 'fifties', 'sixties',\n",
       "       'seventies', 'eighties', 'nineties'],\n",
       "      dtype='object')"
      ]
     },
     "execution_count": 82,
     "metadata": {},
     "output_type": "execute_result"
    }
   ],
   "source": [
    "sample.columns"
   ]
  },
  {
   "cell_type": "code",
   "execution_count": null,
   "metadata": {
    "collapsed": true
   },
   "outputs": [],
   "source": [
    "utils.values(sample, 'female')"
   ]
  },
  {
   "cell_type": "code",
   "execution_count": 84,
   "metadata": {},
   "outputs": [
    {
     "name": "stdout",
     "output_type": "stream",
     "text": [
      "Optimization terminated successfully.\n",
      "         Current function value: 0.496564\n",
      "         Iterations 6\n"
     ]
    },
    {
     "data": {
      "text/html": [
       "<table class=\"simpletable\">\n",
       "<caption>Logit Regression Results</caption>\n",
       "<tr>\n",
       "  <th>Dep. Variable:</th>       <td>favor</td>      <th>  No. Observations:  </th>  <td> 32606</td> \n",
       "</tr>\n",
       "<tr>\n",
       "  <th>Model:</th>               <td>Logit</td>      <th>  Df Residuals:      </th>  <td> 32586</td> \n",
       "</tr>\n",
       "<tr>\n",
       "  <th>Method:</th>               <td>MLE</td>       <th>  Df Model:          </th>  <td>    19</td> \n",
       "</tr>\n",
       "<tr>\n",
       "  <th>Date:</th>          <td>Fri, 09 Mar 2018</td> <th>  Pseudo R-squ.:     </th>  <td>0.08683</td>\n",
       "</tr>\n",
       "<tr>\n",
       "  <th>Time:</th>              <td>08:45:16</td>     <th>  Log-Likelihood:    </th> <td> -16191.</td>\n",
       "</tr>\n",
       "<tr>\n",
       "  <th>converged:</th>           <td>True</td>       <th>  LL-Null:           </th> <td> -17731.</td>\n",
       "</tr>\n",
       "<tr>\n",
       "  <th> </th>                      <td> </td>        <th>  LLR p-value:       </th>  <td> 0.000</td> \n",
       "</tr>\n",
       "</table>\n",
       "<table class=\"simpletable\">\n",
       "<tr>\n",
       "        <td></td>          <th>coef</th>     <th>std err</th>      <th>z</th>      <th>P>|z|</th>  <th>[0.025</th>    <th>0.975]</th>  \n",
       "</tr>\n",
       "<tr>\n",
       "  <th>Intercept</th>    <td>    1.7611</td> <td>    0.049</td> <td>   36.151</td> <td> 0.000</td> <td>    1.666</td> <td>    1.857</td>\n",
       "</tr>\n",
       "<tr>\n",
       "  <th>y</th>            <td>    0.0135</td> <td>    0.002</td> <td>    8.832</td> <td> 0.000</td> <td>    0.011</td> <td>    0.017</td>\n",
       "</tr>\n",
       "<tr>\n",
       "  <th>y2</th>           <td>   -0.0011</td> <td> 9.35e-05</td> <td>  -11.665</td> <td> 0.000</td> <td>   -0.001</td> <td>   -0.001</td>\n",
       "</tr>\n",
       "<tr>\n",
       "  <th>nineties</th>     <td>   -0.6677</td> <td>    0.115</td> <td>   -5.785</td> <td> 0.000</td> <td>   -0.894</td> <td>   -0.441</td>\n",
       "</tr>\n",
       "<tr>\n",
       "  <th>eighties</th>     <td>   -0.4367</td> <td>    0.071</td> <td>   -6.138</td> <td> 0.000</td> <td>   -0.576</td> <td>   -0.297</td>\n",
       "</tr>\n",
       "<tr>\n",
       "  <th>seventies</th>    <td>   -0.2099</td> <td>    0.055</td> <td>   -3.783</td> <td> 0.000</td> <td>   -0.319</td> <td>   -0.101</td>\n",
       "</tr>\n",
       "<tr>\n",
       "  <th>sixties</th>      <td>   -0.0965</td> <td>    0.044</td> <td>   -2.205</td> <td> 0.027</td> <td>   -0.182</td> <td>   -0.011</td>\n",
       "</tr>\n",
       "<tr>\n",
       "  <th>fifties</th>      <td>   -0.0334</td> <td>    0.037</td> <td>   -0.902</td> <td> 0.367</td> <td>   -0.106</td> <td>    0.039</td>\n",
       "</tr>\n",
       "<tr>\n",
       "  <th>female</th>       <td>    0.6671</td> <td>    0.028</td> <td>   23.788</td> <td> 0.000</td> <td>    0.612</td> <td>    0.722</td>\n",
       "</tr>\n",
       "<tr>\n",
       "  <th>black</th>        <td>    0.2749</td> <td>    0.045</td> <td>    6.087</td> <td> 0.000</td> <td>    0.186</td> <td>    0.363</td>\n",
       "</tr>\n",
       "<tr>\n",
       "  <th>otherrace</th>    <td>    0.5783</td> <td>    0.076</td> <td>    7.632</td> <td> 0.000</td> <td>    0.430</td> <td>    0.727</td>\n",
       "</tr>\n",
       "<tr>\n",
       "  <th>conservative</th> <td>   -0.3973</td> <td>    0.035</td> <td>  -11.332</td> <td> 0.000</td> <td>   -0.466</td> <td>   -0.329</td>\n",
       "</tr>\n",
       "<tr>\n",
       "  <th>liberal</th>      <td>    0.2903</td> <td>    0.035</td> <td>    8.412</td> <td> 0.000</td> <td>    0.223</td> <td>    0.358</td>\n",
       "</tr>\n",
       "<tr>\n",
       "  <th>lowinc</th>       <td>   -0.2079</td> <td>    0.038</td> <td>   -5.525</td> <td> 0.000</td> <td>   -0.282</td> <td>   -0.134</td>\n",
       "</tr>\n",
       "<tr>\n",
       "  <th>highinc</th>      <td>    0.0671</td> <td>    0.033</td> <td>    2.029</td> <td> 0.043</td> <td>    0.002</td> <td>    0.132</td>\n",
       "</tr>\n",
       "<tr>\n",
       "  <th>college</th>      <td>    0.0765</td> <td>    0.030</td> <td>    2.562</td> <td> 0.010</td> <td>    0.018</td> <td>    0.135</td>\n",
       "</tr>\n",
       "<tr>\n",
       "  <th>urban</th>        <td>   -0.2157</td> <td>    0.034</td> <td>   -6.320</td> <td> 0.000</td> <td>   -0.283</td> <td>   -0.149</td>\n",
       "</tr>\n",
       "<tr>\n",
       "  <th>rural</th>        <td>   -0.5265</td> <td>    0.046</td> <td>  -11.421</td> <td> 0.000</td> <td>   -0.617</td> <td>   -0.436</td>\n",
       "</tr>\n",
       "<tr>\n",
       "  <th>threatened</th>   <td>   -0.1685</td> <td>    0.034</td> <td>   -4.976</td> <td> 0.000</td> <td>   -0.235</td> <td>   -0.102</td>\n",
       "</tr>\n",
       "<tr>\n",
       "  <th>gunhome</th>      <td>   -0.9699</td> <td>    0.030</td> <td>  -32.863</td> <td> 0.000</td> <td>   -1.028</td> <td>   -0.912</td>\n",
       "</tr>\n",
       "</table>"
      ],
      "text/plain": [
       "<class 'statsmodels.iolib.summary.Summary'>\n",
       "\"\"\"\n",
       "                           Logit Regression Results                           \n",
       "==============================================================================\n",
       "Dep. Variable:                  favor   No. Observations:                32606\n",
       "Model:                          Logit   Df Residuals:                    32586\n",
       "Method:                           MLE   Df Model:                           19\n",
       "Date:                Fri, 09 Mar 2018   Pseudo R-squ.:                 0.08683\n",
       "Time:                        08:45:16   Log-Likelihood:                -16191.\n",
       "converged:                       True   LL-Null:                       -17731.\n",
       "                                        LLR p-value:                     0.000\n",
       "================================================================================\n",
       "                   coef    std err          z      P>|z|      [0.025      0.975]\n",
       "--------------------------------------------------------------------------------\n",
       "Intercept        1.7611      0.049     36.151      0.000       1.666       1.857\n",
       "y                0.0135      0.002      8.832      0.000       0.011       0.017\n",
       "y2              -0.0011   9.35e-05    -11.665      0.000      -0.001      -0.001\n",
       "nineties        -0.6677      0.115     -5.785      0.000      -0.894      -0.441\n",
       "eighties        -0.4367      0.071     -6.138      0.000      -0.576      -0.297\n",
       "seventies       -0.2099      0.055     -3.783      0.000      -0.319      -0.101\n",
       "sixties         -0.0965      0.044     -2.205      0.027      -0.182      -0.011\n",
       "fifties         -0.0334      0.037     -0.902      0.367      -0.106       0.039\n",
       "female           0.6671      0.028     23.788      0.000       0.612       0.722\n",
       "black            0.2749      0.045      6.087      0.000       0.186       0.363\n",
       "otherrace        0.5783      0.076      7.632      0.000       0.430       0.727\n",
       "conservative    -0.3973      0.035    -11.332      0.000      -0.466      -0.329\n",
       "liberal          0.2903      0.035      8.412      0.000       0.223       0.358\n",
       "lowinc          -0.2079      0.038     -5.525      0.000      -0.282      -0.134\n",
       "highinc          0.0671      0.033      2.029      0.043       0.002       0.132\n",
       "college          0.0765      0.030      2.562      0.010       0.018       0.135\n",
       "urban           -0.2157      0.034     -6.320      0.000      -0.283      -0.149\n",
       "rural           -0.5265      0.046    -11.421      0.000      -0.617      -0.436\n",
       "threatened      -0.1685      0.034     -4.976      0.000      -0.235      -0.102\n",
       "gunhome         -0.9699      0.030    -32.863      0.000      -1.028      -0.912\n",
       "================================================================================\n",
       "\"\"\""
      ]
     },
     "execution_count": 84,
     "metadata": {},
     "output_type": "execute_result"
    }
   ],
   "source": [
    "formula = ('favor ~ y + y2 + nineties + eighties + seventies + sixties + fifties + '\n",
    "           'female + black + otherrace + conservative + liberal + lowinc + highinc + ' \n",
    "           'college + urban + rural + threatened + gunhome ')\n",
    "model = smf.logit(formula, data=sample).fit()\n",
    "model.summary()"
   ]
  },
  {
   "cell_type": "code",
   "execution_count": 85,
   "metadata": {
    "collapsed": true
   },
   "outputs": [],
   "source": [
    "varnames = ('nineties', 'eighties', 'seventies', 'sixties', 'fifties', \n",
    "            'female', 'black', 'otherrace', 'conservative', 'liberal', 'lowinc', 'highinc',\n",
    "            'college', 'urban', 'rural', 'threatened', 'gunhome', )"
   ]
  },
  {
   "cell_type": "code",
   "execution_count": 86,
   "metadata": {},
   "outputs": [
    {
     "data": {
      "text/plain": [
       "black             0\n",
       "college           0\n",
       "conservative      0\n",
       "eighties          0\n",
       "female            0\n",
       "fifties           0\n",
       "gunhome           0\n",
       "highinc           0\n",
       "liberal           0\n",
       "lowinc            0\n",
       "nineties          0\n",
       "otherrace         0\n",
       "rural             0\n",
       "seventies         0\n",
       "sixties           0\n",
       "threatened        0\n",
       "urban             0\n",
       "y                26\n",
       "y2              676\n",
       "dtype: int64"
      ]
     },
     "execution_count": 86,
     "metadata": {},
     "output_type": "execute_result"
    }
   ],
   "source": [
    "y = 2016 - 1990\n",
    "y2 = y**2\n",
    "\n",
    "d = dict(y=y, y2=y2)\n",
    "for varname in varnames:\n",
    "    d[varname] = 0\n",
    "\n",
    "s = pd.Series(d)\n",
    "s"
   ]
  },
  {
   "cell_type": "code",
   "execution_count": 87,
   "metadata": {},
   "outputs": [
    {
     "data": {
      "text/html": [
       "<div>\n",
       "<style>\n",
       "    .dataframe thead tr:only-child th {\n",
       "        text-align: right;\n",
       "    }\n",
       "\n",
       "    .dataframe thead th {\n",
       "        text-align: left;\n",
       "    }\n",
       "\n",
       "    .dataframe tbody tr th {\n",
       "        vertical-align: top;\n",
       "    }\n",
       "</style>\n",
       "<table border=\"1\" class=\"dataframe\">\n",
       "  <thead>\n",
       "    <tr style=\"text-align: right;\">\n",
       "      <th></th>\n",
       "      <th>year</th>\n",
       "      <th>conrinc</th>\n",
       "      <th>cohort</th>\n",
       "      <th>ballot</th>\n",
       "      <th>wtssall</th>\n",
       "      <th>income</th>\n",
       "      <th>finrela</th>\n",
       "      <th>realinc</th>\n",
       "      <th>sex</th>\n",
       "      <th>homosex</th>\n",
       "      <th>...</th>\n",
       "      <th>y2</th>\n",
       "      <th>ac</th>\n",
       "      <th>twenties</th>\n",
       "      <th>thirties</th>\n",
       "      <th>forties</th>\n",
       "      <th>fifties</th>\n",
       "      <th>sixties</th>\n",
       "      <th>seventies</th>\n",
       "      <th>eighties</th>\n",
       "      <th>nineties</th>\n",
       "    </tr>\n",
       "  </thead>\n",
       "  <tbody>\n",
       "  </tbody>\n",
       "</table>\n",
       "<p>0 rows × 64 columns</p>\n",
       "</div>"
      ],
      "text/plain": [
       "Empty DataFrame\n",
       "Columns: [year, conrinc, cohort, ballot, wtssall, income, finrela, realinc, sex, homosex, hispanic, rowngun, owngun, id_, age, race, srcbelt, polviews, natcrime, gunlaw, gun, gunage, gunnum, educ, favor, gunhome, threatened, spendcrime, topincome, lowincome, college, lowinc, highinc, liberal, moderate, conservative, female, ishisp, black, otherrace, urban, suburban, rural, age_group, cohort5, cohort10, year4, age3, ones, c, a, y, c2, a2, y2, ac, twenties, thirties, forties, fifties, sixties, seventies, eighties, nineties]\n",
       "Index: []\n",
       "\n",
       "[0 rows x 64 columns]"
      ]
     },
     "execution_count": 87,
     "metadata": {},
     "output_type": "execute_result"
    }
   ],
   "source": [
    "df_pred = pd.DataFrame(columns=sample.columns)\n",
    "df_pred"
   ]
  },
  {
   "cell_type": "code",
   "execution_count": 88,
   "metadata": {},
   "outputs": [
    {
     "data": {
      "text/html": [
       "<div>\n",
       "<style>\n",
       "    .dataframe thead tr:only-child th {\n",
       "        text-align: right;\n",
       "    }\n",
       "\n",
       "    .dataframe thead th {\n",
       "        text-align: left;\n",
       "    }\n",
       "\n",
       "    .dataframe tbody tr th {\n",
       "        vertical-align: top;\n",
       "    }\n",
       "</style>\n",
       "<table border=\"1\" class=\"dataframe\">\n",
       "  <thead>\n",
       "    <tr style=\"text-align: right;\">\n",
       "      <th></th>\n",
       "      <th>nineties</th>\n",
       "      <th>eighties</th>\n",
       "      <th>seventies</th>\n",
       "      <th>sixties</th>\n",
       "      <th>fifties</th>\n",
       "      <th>female</th>\n",
       "      <th>black</th>\n",
       "      <th>otherrace</th>\n",
       "      <th>conservative</th>\n",
       "      <th>liberal</th>\n",
       "      <th>lowinc</th>\n",
       "      <th>highinc</th>\n",
       "      <th>college</th>\n",
       "      <th>urban</th>\n",
       "      <th>rural</th>\n",
       "      <th>threatened</th>\n",
       "      <th>gunhome</th>\n",
       "    </tr>\n",
       "  </thead>\n",
       "  <tbody>\n",
       "    <tr>\n",
       "      <th>base</th>\n",
       "      <td>0.0</td>\n",
       "      <td>0.0</td>\n",
       "      <td>0.0</td>\n",
       "      <td>0.0</td>\n",
       "      <td>0.0</td>\n",
       "      <td>0.0</td>\n",
       "      <td>0.0</td>\n",
       "      <td>0.0</td>\n",
       "      <td>0.0</td>\n",
       "      <td>0.0</td>\n",
       "      <td>0.0</td>\n",
       "      <td>0.0</td>\n",
       "      <td>0.0</td>\n",
       "      <td>0.0</td>\n",
       "      <td>0.0</td>\n",
       "      <td>0.0</td>\n",
       "      <td>0.0</td>\n",
       "    </tr>\n",
       "    <tr>\n",
       "      <th>nineties</th>\n",
       "      <td>1.0</td>\n",
       "      <td>0.0</td>\n",
       "      <td>0.0</td>\n",
       "      <td>0.0</td>\n",
       "      <td>0.0</td>\n",
       "      <td>0.0</td>\n",
       "      <td>0.0</td>\n",
       "      <td>0.0</td>\n",
       "      <td>0.0</td>\n",
       "      <td>0.0</td>\n",
       "      <td>0.0</td>\n",
       "      <td>0.0</td>\n",
       "      <td>0.0</td>\n",
       "      <td>0.0</td>\n",
       "      <td>0.0</td>\n",
       "      <td>0.0</td>\n",
       "      <td>0.0</td>\n",
       "    </tr>\n",
       "    <tr>\n",
       "      <th>eighties</th>\n",
       "      <td>0.0</td>\n",
       "      <td>1.0</td>\n",
       "      <td>0.0</td>\n",
       "      <td>0.0</td>\n",
       "      <td>0.0</td>\n",
       "      <td>0.0</td>\n",
       "      <td>0.0</td>\n",
       "      <td>0.0</td>\n",
       "      <td>0.0</td>\n",
       "      <td>0.0</td>\n",
       "      <td>0.0</td>\n",
       "      <td>0.0</td>\n",
       "      <td>0.0</td>\n",
       "      <td>0.0</td>\n",
       "      <td>0.0</td>\n",
       "      <td>0.0</td>\n",
       "      <td>0.0</td>\n",
       "    </tr>\n",
       "    <tr>\n",
       "      <th>seventies</th>\n",
       "      <td>0.0</td>\n",
       "      <td>0.0</td>\n",
       "      <td>1.0</td>\n",
       "      <td>0.0</td>\n",
       "      <td>0.0</td>\n",
       "      <td>0.0</td>\n",
       "      <td>0.0</td>\n",
       "      <td>0.0</td>\n",
       "      <td>0.0</td>\n",
       "      <td>0.0</td>\n",
       "      <td>0.0</td>\n",
       "      <td>0.0</td>\n",
       "      <td>0.0</td>\n",
       "      <td>0.0</td>\n",
       "      <td>0.0</td>\n",
       "      <td>0.0</td>\n",
       "      <td>0.0</td>\n",
       "    </tr>\n",
       "    <tr>\n",
       "      <th>sixties</th>\n",
       "      <td>0.0</td>\n",
       "      <td>0.0</td>\n",
       "      <td>0.0</td>\n",
       "      <td>1.0</td>\n",
       "      <td>0.0</td>\n",
       "      <td>0.0</td>\n",
       "      <td>0.0</td>\n",
       "      <td>0.0</td>\n",
       "      <td>0.0</td>\n",
       "      <td>0.0</td>\n",
       "      <td>0.0</td>\n",
       "      <td>0.0</td>\n",
       "      <td>0.0</td>\n",
       "      <td>0.0</td>\n",
       "      <td>0.0</td>\n",
       "      <td>0.0</td>\n",
       "      <td>0.0</td>\n",
       "    </tr>\n",
       "    <tr>\n",
       "      <th>fifties</th>\n",
       "      <td>0.0</td>\n",
       "      <td>0.0</td>\n",
       "      <td>0.0</td>\n",
       "      <td>0.0</td>\n",
       "      <td>1.0</td>\n",
       "      <td>0.0</td>\n",
       "      <td>0.0</td>\n",
       "      <td>0.0</td>\n",
       "      <td>0.0</td>\n",
       "      <td>0.0</td>\n",
       "      <td>0.0</td>\n",
       "      <td>0.0</td>\n",
       "      <td>0.0</td>\n",
       "      <td>0.0</td>\n",
       "      <td>0.0</td>\n",
       "      <td>0.0</td>\n",
       "      <td>0.0</td>\n",
       "    </tr>\n",
       "    <tr>\n",
       "      <th>female</th>\n",
       "      <td>0.0</td>\n",
       "      <td>0.0</td>\n",
       "      <td>0.0</td>\n",
       "      <td>0.0</td>\n",
       "      <td>0.0</td>\n",
       "      <td>1.0</td>\n",
       "      <td>0.0</td>\n",
       "      <td>0.0</td>\n",
       "      <td>0.0</td>\n",
       "      <td>0.0</td>\n",
       "      <td>0.0</td>\n",
       "      <td>0.0</td>\n",
       "      <td>0.0</td>\n",
       "      <td>0.0</td>\n",
       "      <td>0.0</td>\n",
       "      <td>0.0</td>\n",
       "      <td>0.0</td>\n",
       "    </tr>\n",
       "    <tr>\n",
       "      <th>black</th>\n",
       "      <td>0.0</td>\n",
       "      <td>0.0</td>\n",
       "      <td>0.0</td>\n",
       "      <td>0.0</td>\n",
       "      <td>0.0</td>\n",
       "      <td>0.0</td>\n",
       "      <td>1.0</td>\n",
       "      <td>0.0</td>\n",
       "      <td>0.0</td>\n",
       "      <td>0.0</td>\n",
       "      <td>0.0</td>\n",
       "      <td>0.0</td>\n",
       "      <td>0.0</td>\n",
       "      <td>0.0</td>\n",
       "      <td>0.0</td>\n",
       "      <td>0.0</td>\n",
       "      <td>0.0</td>\n",
       "    </tr>\n",
       "    <tr>\n",
       "      <th>otherrace</th>\n",
       "      <td>0.0</td>\n",
       "      <td>0.0</td>\n",
       "      <td>0.0</td>\n",
       "      <td>0.0</td>\n",
       "      <td>0.0</td>\n",
       "      <td>0.0</td>\n",
       "      <td>0.0</td>\n",
       "      <td>1.0</td>\n",
       "      <td>0.0</td>\n",
       "      <td>0.0</td>\n",
       "      <td>0.0</td>\n",
       "      <td>0.0</td>\n",
       "      <td>0.0</td>\n",
       "      <td>0.0</td>\n",
       "      <td>0.0</td>\n",
       "      <td>0.0</td>\n",
       "      <td>0.0</td>\n",
       "    </tr>\n",
       "    <tr>\n",
       "      <th>conservative</th>\n",
       "      <td>0.0</td>\n",
       "      <td>0.0</td>\n",
       "      <td>0.0</td>\n",
       "      <td>0.0</td>\n",
       "      <td>0.0</td>\n",
       "      <td>0.0</td>\n",
       "      <td>0.0</td>\n",
       "      <td>0.0</td>\n",
       "      <td>1.0</td>\n",
       "      <td>0.0</td>\n",
       "      <td>0.0</td>\n",
       "      <td>0.0</td>\n",
       "      <td>0.0</td>\n",
       "      <td>0.0</td>\n",
       "      <td>0.0</td>\n",
       "      <td>0.0</td>\n",
       "      <td>0.0</td>\n",
       "    </tr>\n",
       "    <tr>\n",
       "      <th>liberal</th>\n",
       "      <td>0.0</td>\n",
       "      <td>0.0</td>\n",
       "      <td>0.0</td>\n",
       "      <td>0.0</td>\n",
       "      <td>0.0</td>\n",
       "      <td>0.0</td>\n",
       "      <td>0.0</td>\n",
       "      <td>0.0</td>\n",
       "      <td>0.0</td>\n",
       "      <td>1.0</td>\n",
       "      <td>0.0</td>\n",
       "      <td>0.0</td>\n",
       "      <td>0.0</td>\n",
       "      <td>0.0</td>\n",
       "      <td>0.0</td>\n",
       "      <td>0.0</td>\n",
       "      <td>0.0</td>\n",
       "    </tr>\n",
       "    <tr>\n",
       "      <th>lowinc</th>\n",
       "      <td>0.0</td>\n",
       "      <td>0.0</td>\n",
       "      <td>0.0</td>\n",
       "      <td>0.0</td>\n",
       "      <td>0.0</td>\n",
       "      <td>0.0</td>\n",
       "      <td>0.0</td>\n",
       "      <td>0.0</td>\n",
       "      <td>0.0</td>\n",
       "      <td>0.0</td>\n",
       "      <td>1.0</td>\n",
       "      <td>0.0</td>\n",
       "      <td>0.0</td>\n",
       "      <td>0.0</td>\n",
       "      <td>0.0</td>\n",
       "      <td>0.0</td>\n",
       "      <td>0.0</td>\n",
       "    </tr>\n",
       "    <tr>\n",
       "      <th>highinc</th>\n",
       "      <td>0.0</td>\n",
       "      <td>0.0</td>\n",
       "      <td>0.0</td>\n",
       "      <td>0.0</td>\n",
       "      <td>0.0</td>\n",
       "      <td>0.0</td>\n",
       "      <td>0.0</td>\n",
       "      <td>0.0</td>\n",
       "      <td>0.0</td>\n",
       "      <td>0.0</td>\n",
       "      <td>0.0</td>\n",
       "      <td>1.0</td>\n",
       "      <td>0.0</td>\n",
       "      <td>0.0</td>\n",
       "      <td>0.0</td>\n",
       "      <td>0.0</td>\n",
       "      <td>0.0</td>\n",
       "    </tr>\n",
       "    <tr>\n",
       "      <th>college</th>\n",
       "      <td>0.0</td>\n",
       "      <td>0.0</td>\n",
       "      <td>0.0</td>\n",
       "      <td>0.0</td>\n",
       "      <td>0.0</td>\n",
       "      <td>0.0</td>\n",
       "      <td>0.0</td>\n",
       "      <td>0.0</td>\n",
       "      <td>0.0</td>\n",
       "      <td>0.0</td>\n",
       "      <td>0.0</td>\n",
       "      <td>0.0</td>\n",
       "      <td>1.0</td>\n",
       "      <td>0.0</td>\n",
       "      <td>0.0</td>\n",
       "      <td>0.0</td>\n",
       "      <td>0.0</td>\n",
       "    </tr>\n",
       "    <tr>\n",
       "      <th>urban</th>\n",
       "      <td>0.0</td>\n",
       "      <td>0.0</td>\n",
       "      <td>0.0</td>\n",
       "      <td>0.0</td>\n",
       "      <td>0.0</td>\n",
       "      <td>0.0</td>\n",
       "      <td>0.0</td>\n",
       "      <td>0.0</td>\n",
       "      <td>0.0</td>\n",
       "      <td>0.0</td>\n",
       "      <td>0.0</td>\n",
       "      <td>0.0</td>\n",
       "      <td>0.0</td>\n",
       "      <td>1.0</td>\n",
       "      <td>0.0</td>\n",
       "      <td>0.0</td>\n",
       "      <td>0.0</td>\n",
       "    </tr>\n",
       "    <tr>\n",
       "      <th>rural</th>\n",
       "      <td>0.0</td>\n",
       "      <td>0.0</td>\n",
       "      <td>0.0</td>\n",
       "      <td>0.0</td>\n",
       "      <td>0.0</td>\n",
       "      <td>0.0</td>\n",
       "      <td>0.0</td>\n",
       "      <td>0.0</td>\n",
       "      <td>0.0</td>\n",
       "      <td>0.0</td>\n",
       "      <td>0.0</td>\n",
       "      <td>0.0</td>\n",
       "      <td>0.0</td>\n",
       "      <td>0.0</td>\n",
       "      <td>1.0</td>\n",
       "      <td>0.0</td>\n",
       "      <td>0.0</td>\n",
       "    </tr>\n",
       "    <tr>\n",
       "      <th>threatened</th>\n",
       "      <td>0.0</td>\n",
       "      <td>0.0</td>\n",
       "      <td>0.0</td>\n",
       "      <td>0.0</td>\n",
       "      <td>0.0</td>\n",
       "      <td>0.0</td>\n",
       "      <td>0.0</td>\n",
       "      <td>0.0</td>\n",
       "      <td>0.0</td>\n",
       "      <td>0.0</td>\n",
       "      <td>0.0</td>\n",
       "      <td>0.0</td>\n",
       "      <td>0.0</td>\n",
       "      <td>0.0</td>\n",
       "      <td>0.0</td>\n",
       "      <td>1.0</td>\n",
       "      <td>0.0</td>\n",
       "    </tr>\n",
       "    <tr>\n",
       "      <th>gunhome</th>\n",
       "      <td>0.0</td>\n",
       "      <td>0.0</td>\n",
       "      <td>0.0</td>\n",
       "      <td>0.0</td>\n",
       "      <td>0.0</td>\n",
       "      <td>0.0</td>\n",
       "      <td>0.0</td>\n",
       "      <td>0.0</td>\n",
       "      <td>0.0</td>\n",
       "      <td>0.0</td>\n",
       "      <td>0.0</td>\n",
       "      <td>0.0</td>\n",
       "      <td>0.0</td>\n",
       "      <td>0.0</td>\n",
       "      <td>0.0</td>\n",
       "      <td>0.0</td>\n",
       "      <td>1.0</td>\n",
       "    </tr>\n",
       "  </tbody>\n",
       "</table>\n",
       "</div>"
      ],
      "text/plain": [
       "              nineties  eighties  seventies  sixties  fifties  female  black  \\\n",
       "base               0.0       0.0        0.0      0.0      0.0     0.0    0.0   \n",
       "nineties           1.0       0.0        0.0      0.0      0.0     0.0    0.0   \n",
       "eighties           0.0       1.0        0.0      0.0      0.0     0.0    0.0   \n",
       "seventies          0.0       0.0        1.0      0.0      0.0     0.0    0.0   \n",
       "sixties            0.0       0.0        0.0      1.0      0.0     0.0    0.0   \n",
       "fifties            0.0       0.0        0.0      0.0      1.0     0.0    0.0   \n",
       "female             0.0       0.0        0.0      0.0      0.0     1.0    0.0   \n",
       "black              0.0       0.0        0.0      0.0      0.0     0.0    1.0   \n",
       "otherrace          0.0       0.0        0.0      0.0      0.0     0.0    0.0   \n",
       "conservative       0.0       0.0        0.0      0.0      0.0     0.0    0.0   \n",
       "liberal            0.0       0.0        0.0      0.0      0.0     0.0    0.0   \n",
       "lowinc             0.0       0.0        0.0      0.0      0.0     0.0    0.0   \n",
       "highinc            0.0       0.0        0.0      0.0      0.0     0.0    0.0   \n",
       "college            0.0       0.0        0.0      0.0      0.0     0.0    0.0   \n",
       "urban              0.0       0.0        0.0      0.0      0.0     0.0    0.0   \n",
       "rural              0.0       0.0        0.0      0.0      0.0     0.0    0.0   \n",
       "threatened         0.0       0.0        0.0      0.0      0.0     0.0    0.0   \n",
       "gunhome            0.0       0.0        0.0      0.0      0.0     0.0    0.0   \n",
       "\n",
       "              otherrace  conservative  liberal  lowinc  highinc  college  \\\n",
       "base                0.0           0.0      0.0     0.0      0.0      0.0   \n",
       "nineties            0.0           0.0      0.0     0.0      0.0      0.0   \n",
       "eighties            0.0           0.0      0.0     0.0      0.0      0.0   \n",
       "seventies           0.0           0.0      0.0     0.0      0.0      0.0   \n",
       "sixties             0.0           0.0      0.0     0.0      0.0      0.0   \n",
       "fifties             0.0           0.0      0.0     0.0      0.0      0.0   \n",
       "female              0.0           0.0      0.0     0.0      0.0      0.0   \n",
       "black               0.0           0.0      0.0     0.0      0.0      0.0   \n",
       "otherrace           1.0           0.0      0.0     0.0      0.0      0.0   \n",
       "conservative        0.0           1.0      0.0     0.0      0.0      0.0   \n",
       "liberal             0.0           0.0      1.0     0.0      0.0      0.0   \n",
       "lowinc              0.0           0.0      0.0     1.0      0.0      0.0   \n",
       "highinc             0.0           0.0      0.0     0.0      1.0      0.0   \n",
       "college             0.0           0.0      0.0     0.0      0.0      1.0   \n",
       "urban               0.0           0.0      0.0     0.0      0.0      0.0   \n",
       "rural               0.0           0.0      0.0     0.0      0.0      0.0   \n",
       "threatened          0.0           0.0      0.0     0.0      0.0      0.0   \n",
       "gunhome             0.0           0.0      0.0     0.0      0.0      0.0   \n",
       "\n",
       "              urban  rural  threatened  gunhome  \n",
       "base            0.0    0.0         0.0      0.0  \n",
       "nineties        0.0    0.0         0.0      0.0  \n",
       "eighties        0.0    0.0         0.0      0.0  \n",
       "seventies       0.0    0.0         0.0      0.0  \n",
       "sixties         0.0    0.0         0.0      0.0  \n",
       "fifties         0.0    0.0         0.0      0.0  \n",
       "female          0.0    0.0         0.0      0.0  \n",
       "black           0.0    0.0         0.0      0.0  \n",
       "otherrace       0.0    0.0         0.0      0.0  \n",
       "conservative    0.0    0.0         0.0      0.0  \n",
       "liberal         0.0    0.0         0.0      0.0  \n",
       "lowinc          0.0    0.0         0.0      0.0  \n",
       "highinc         0.0    0.0         0.0      0.0  \n",
       "college         0.0    0.0         0.0      0.0  \n",
       "urban           1.0    0.0         0.0      0.0  \n",
       "rural           0.0    1.0         0.0      0.0  \n",
       "threatened      0.0    0.0         1.0      0.0  \n",
       "gunhome         0.0    0.0         0.0      1.0  "
      ]
     },
     "execution_count": 88,
     "metadata": {},
     "output_type": "execute_result"
    }
   ],
   "source": [
    "df_pred.loc['base'] = s\n",
    "\n",
    "for varname in varnames:\n",
    "    df_pred.loc[varname] = s\n",
    "    df_pred.loc[varname, varname] = 1\n",
    "    \n",
    "df_pred.loc[:, varnames]"
   ]
  },
  {
   "cell_type": "code",
   "execution_count": 89,
   "metadata": {},
   "outputs": [
    {
     "data": {
      "text/plain": [
       "base            79.829277\n",
       "nineties        66.994765\n",
       "eighties        71.889240\n",
       "seventies       76.237376\n",
       "sixties         78.230866\n",
       "fifties         79.286142\n",
       "female          88.521647\n",
       "black           83.896845\n",
       "otherrace       87.587589\n",
       "conservative    72.677302\n",
       "liberal         84.103346\n",
       "lowinc          76.273893\n",
       "highinc         80.888049\n",
       "college         81.032558\n",
       "urban           76.132048\n",
       "rural           70.038005\n",
       "threatened      76.980295\n",
       "gunhome         60.006564\n",
       "dtype: float64"
      ]
     },
     "execution_count": 89,
     "metadata": {},
     "output_type": "execute_result"
    }
   ],
   "source": [
    "pred = model.predict(df_pred) * 100\n",
    "pred"
   ]
  },
  {
   "cell_type": "code",
   "execution_count": 90,
   "metadata": {},
   "outputs": [
    {
     "data": {
      "text/plain": [
       "base             0.000000\n",
       "nineties       -12.834511\n",
       "eighties        -7.940037\n",
       "seventies       -3.591901\n",
       "sixties         -1.598411\n",
       "fifties         -0.543134\n",
       "female           8.692370\n",
       "black            4.067568\n",
       "otherrace        7.758313\n",
       "conservative    -7.151974\n",
       "liberal          4.274070\n",
       "lowinc          -3.555384\n",
       "highinc          1.058772\n",
       "college          1.203282\n",
       "urban           -3.697229\n",
       "rural           -9.791272\n",
       "threatened      -2.848982\n",
       "gunhome        -19.822713\n",
       "dtype: float64"
      ]
     },
     "execution_count": 90,
     "metadata": {},
     "output_type": "execute_result"
    }
   ],
   "source": [
    "pred - pred['base']"
   ]
  },
  {
   "cell_type": "code",
   "execution_count": 91,
   "metadata": {},
   "outputs": [
    {
     "ename": "NameError",
     "evalue": "name 'stop' is not defined",
     "output_type": "error",
     "traceback": [
      "\u001b[0;31m---------------------------------------------------------------------------\u001b[0m",
      "\u001b[0;31mNameError\u001b[0m                                 Traceback (most recent call last)",
      "\u001b[0;32m<ipython-input-91-30d9529ff51c>\u001b[0m in \u001b[0;36m<module>\u001b[0;34m()\u001b[0m\n\u001b[0;32m----> 1\u001b[0;31m \u001b[0mstop\u001b[0m\u001b[0;34m\u001b[0m\u001b[0m\n\u001b[0m",
      "\u001b[0;31mNameError\u001b[0m: name 'stop' is not defined"
     ]
    }
   ],
   "source": [
    "stop"
   ]
  },
  {
   "cell_type": "code",
   "execution_count": 92,
   "metadata": {
    "collapsed": true
   },
   "outputs": [],
   "source": [
    "def plot_series(grouped, varname, **options):\n",
    "    series = grouped[varname].mean() * 100\n",
    "    thinkplot.plot(series.dropna(), **options, label=varname)\n",
    "    thinkplot.config(xlabel='Year of survey', \n",
    "                     ylabel='Percent',\n",
    "                     xlim=[1971, 2017])"
   ]
  },
  {
   "cell_type": "code",
   "execution_count": 93,
   "metadata": {
    "collapsed": true
   },
   "outputs": [],
   "source": [
    "grouped_year4 = sample.groupby('year4')"
   ]
  },
  {
   "cell_type": "code",
   "execution_count": 94,
   "metadata": {},
   "outputs": [
    {
     "data": {
      "image/png": "[encoded data removed]",
      "text/plain": [
       "<matplotlib.figure.Figure at 0x7fefa35d6240>"
      ]
     },
     "metadata": {},
     "output_type": "display_data"
    }
   ],
   "source": [
    "plot_series(grouped_year4, 'nineties')\n",
    "plot_series(grouped_year4, 'eighties')\n",
    "plot_series(grouped_year4, 'seventies')\n",
    "plot_series(grouped_year4, 'sixties')\n",
    "plot_series(grouped_year4, 'fifties')"
   ]
  },
  {
   "cell_type": "code",
   "execution_count": 95,
   "metadata": {},
   "outputs": [
    {
     "data": {
      "image/png": "[encoded data removed]",
      "text/plain": [
       "<matplotlib.figure.Figure at 0x7fefa354fcf8>"
      ]
     },
     "metadata": {},
     "output_type": "display_data"
    }
   ],
   "source": [
    "plot_series(grouped_year4, 'female')\n",
    "plot_series(grouped_year4, 'black')\n",
    "plot_series(grouped_year4, 'otherrace')"
   ]
  },
  {
   "cell_type": "code",
   "execution_count": 96,
   "metadata": {},
   "outputs": [
    {
     "data": {
      "image/png": "[encoded data removed]",
      "text/plain": [
       "<matplotlib.figure.Figure at 0x7fefa2462e10>"
      ]
     },
     "metadata": {},
     "output_type": "display_data"
    }
   ],
   "source": [
    "plot_series(grouped_year4, 'liberal')\n",
    "plot_series(grouped_year4, 'conservative')"
   ]
  },
  {
   "cell_type": "code",
   "execution_count": 97,
   "metadata": {},
   "outputs": [
    {
     "data": {
      "image/png": "[encoded data removed]",
      "text/plain": [
       "<matplotlib.figure.Figure at 0x7fefa3506a58>"
      ]
     },
     "metadata": {},
     "output_type": "display_data"
    }
   ],
   "source": [
    "plot_series(grouped_year4, 'highinc')\n",
    "plot_series(grouped_year4, 'lowinc')"
   ]
  },
  {
   "cell_type": "code",
   "execution_count": 98,
   "metadata": {},
   "outputs": [
    {
     "data": {
      "image/png": "[encoded data removed]",
      "text/plain": [
       "<matplotlib.figure.Figure at 0x7fefa245ba20>"
      ]
     },
     "metadata": {},
     "output_type": "display_data"
    }
   ],
   "source": [
    "plot_series(grouped_year4, 'urban')\n",
    "plot_series(grouped_year4, 'rural')"
   ]
  },
  {
   "cell_type": "code",
   "execution_count": 100,
   "metadata": {},
   "outputs": [
    {
     "data": {
      "image/png": "[encoded data removed]",
      "text/plain": [
       "<matplotlib.figure.Figure at 0x7fefa2412588>"
      ]
     },
     "metadata": {},
     "output_type": "display_data"
    }
   ],
   "source": [
    "plot_series(grouped_year4, 'college')\n",
    "plot_series(grouped_year4, 'threatened')\n",
    "plot_series(grouped_year4, 'gunhome')"
   ]
  },
  {
   "cell_type": "code",
   "execution_count": null,
   "metadata": {
    "collapsed": true
   },
   "outputs": [],
   "source": [
    "#TODO: countefactuals"
   ]
  },
  {
   "cell_type": "code",
   "execution_count": null,
   "metadata": {
    "collapsed": true
   },
   "outputs": [],
   "source": [
    "def model_predict(model, new):\n",
    "    res = new.copy()\n",
    "    res['pred'] = model.predict(new) * 100\n",
    "    res['diff'] = res.pred - res.pred[0]\n",
    "    return res[['cohort', 'age',  'pred', 'diff']]"
   ]
  },
  {
   "cell_type": "code",
   "execution_count": null,
   "metadata": {
    "collapsed": true
   },
   "outputs": [],
   "source": [
    "age = [46, 18, 46]\n",
    "cohort = [1971, 2000, 2000]\n",
    "new = pd.DataFrame(dict(age=age, cohort=cohort))\n",
    "center_factors(new)"
   ]
  },
  {
   "cell_type": "code",
   "execution_count": null,
   "metadata": {
    "collapsed": true,
    "scrolled": true
   },
   "outputs": [],
   "source": [
    "model_predict(model, new)"
   ]
  },
  {
   "cell_type": "code",
   "execution_count": null,
   "metadata": {
    "collapsed": true
   },
   "outputs": [],
   "source": [
    "formula = 'favor ~ c + a + c2 + a2 + ac'\n",
    "model = smf.logit(formula, data=sample).fit()\n",
    "model.summary()"
   ]
  },
  {
   "cell_type": "code",
   "execution_count": null,
   "metadata": {
    "collapsed": true
   },
   "outputs": [],
   "source": [
    "age = [46, 18, 46]\n",
    "cohort = [1971, 2000, 2000]\n",
    "new = pd.DataFrame(dict(age=age, cohort=cohort))\n",
    "center_factors(new)"
   ]
  },
  {
   "cell_type": "code",
   "execution_count": null,
   "metadata": {
    "collapsed": true
   },
   "outputs": [],
   "source": [
    "formula = 'favor ~ a + a2 + nineties + eighties + seventies + sixties + fifties + forties + thirties + twenties'\n",
    "model = smf.logit(formula, data=sample).fit()\n",
    "model.summary()"
   ]
  },
  {
   "cell_type": "code",
   "execution_count": null,
   "metadata": {
    "collapsed": true,
    "scrolled": true
   },
   "outputs": [],
   "source": [
    "model_predict(model, new)"
   ]
  },
  {
   "cell_type": "code",
   "execution_count": null,
   "metadata": {
    "collapsed": true
   },
   "outputs": [],
   "source": [
    "formula = 'gunhome ~ c + a'\n",
    "model = smf.logit(formula, data=sample).fit()\n",
    "model.summary()"
   ]
  },
  {
   "cell_type": "code",
   "execution_count": null,
   "metadata": {
    "collapsed": true
   },
   "outputs": [],
   "source": [
    "formula = 'gunhome ~ c + a + a2 + c2'\n",
    "model = smf.logit(formula, data=sample).fit()\n",
    "model.summary()"
   ]
  },
  {
   "cell_type": "code",
   "execution_count": null,
   "metadata": {
    "collapsed": true
   },
   "outputs": [],
   "source": []
  },
  {
   "cell_type": "markdown",
   "metadata": {},
   "source": [
    "## Favor gunlaw"
   ]
  },
  {
   "cell_type": "code",
   "execution_count": null,
   "metadata": {
    "collapsed": true
   },
   "outputs": [],
   "source": [
    "def make_series(grouped, varname):\n",
    "    \"\"\"Compute the percentage in each category.\n",
    "    \n",
    "    grouped: GroupBy object\n",
    "    varname: string column name\n",
    "    \n",
    "    returns:  Series\n",
    "    \"\"\"\n",
    "    return grouped[varname].mean() * 100"
   ]
  },
  {
   "cell_type": "code",
   "execution_count": null,
   "metadata": {
    "collapsed": true
   },
   "outputs": [],
   "source": [
    "def plot_series(series, **options):\n",
    "    \"\"\"Plots Series objects.\n",
    "    \n",
    "    series: Series\n",
    "    \"\"\"\n",
    "    thinkplot.plot(series.dropna(), **options)"
   ]
  },
  {
   "cell_type": "code",
   "execution_count": null,
   "metadata": {
    "collapsed": true
   },
   "outputs": [],
   "source": [
    "def plot_gunlaw(grouped):\n",
    "    \"\"\".\n",
    "    \n",
    "    grouped:\n",
    "    \"\"\"\n",
    "    varnames = ['favor']\n",
    "    colors = [BLUE]\n",
    "    labels = ['Favor']\n",
    "    series_seq = make_series_seq(grouped, varnames)\n",
    "    plot_series_seq(series_seq, colors, labels)"
   ]
  },
  {
   "cell_type": "markdown",
   "metadata": {},
   "source": [
    "Plot the percentage in each religious group as a function of survey year."
   ]
  },
  {
   "cell_type": "code",
   "execution_count": null,
   "metadata": {
    "collapsed": true
   },
   "outputs": [],
   "source": [
    "grouped_year = sample.groupby('year')\n",
    "favor = make_series(grouped_year, 'favor')\n",
    "favor"
   ]
  },
  {
   "cell_type": "code",
   "execution_count": null,
   "metadata": {
    "collapsed": true
   },
   "outputs": [],
   "source": [
    "plot_series(favor, color=BLUE, label='favor')\n",
    "thinkplot.config(xlabel='Year of survey', \n",
    "                 ylabel='Percent',\n",
    "                 xlim=[1971, 2017])"
   ]
  },
  {
   "cell_type": "code",
   "execution_count": null,
   "metadata": {
    "collapsed": true
   },
   "outputs": [],
   "source": [
    "crime = make_series(grouped_year, 'crime')\n",
    "crime"
   ]
  },
  {
   "cell_type": "code",
   "execution_count": null,
   "metadata": {
    "collapsed": true
   },
   "outputs": [],
   "source": [
    "plot_series(crime.loc[1984:], color=RED, label='crime')\n",
    "thinkplot.config(xlabel='Year of survey', \n",
    "                 ylabel='Percent',\n",
    "                 xlim=[1971, 2017])"
   ]
  },
  {
   "cell_type": "code",
   "execution_count": null,
   "metadata": {
    "collapsed": true
   },
   "outputs": [],
   "source": [
    "plot_series(favor, color=BLUE, label='favor')\n",
    "plot_series(crime.loc[1984:], color=RED, label='crime')\n",
    "thinkplot.config(title='Support for gun control and concern about crime',\n",
    "                 xlabel='Year of survey', \n",
    "                 ylabel='Percent',\n",
    "                 xlim=[1971, 2017])"
   ]
  },
  {
   "cell_type": "code",
   "execution_count": null,
   "metadata": {
    "collapsed": true
   },
   "outputs": [],
   "source": [
    "grouped_age = sample.groupby(['age_group'])"
   ]
  },
  {
   "cell_type": "code",
   "execution_count": null,
   "metadata": {
    "collapsed": true
   },
   "outputs": [],
   "source": [
    "plot_gunlaw(grouped_age)\n",
    "thinkplot.config(xlabel='Age', ylabel='Percent')"
   ]
  },
  {
   "cell_type": "markdown",
   "metadata": {},
   "source": [
    "Plot the percentage in favor of gun permits as a function of birth cohort."
   ]
  },
  {
   "cell_type": "code",
   "execution_count": null,
   "metadata": {
    "collapsed": true
   },
   "outputs": [],
   "source": [
    "grouped_cohort = sample.groupby(['cohort5'])"
   ]
  },
  {
   "cell_type": "code",
   "execution_count": null,
   "metadata": {
    "collapsed": true
   },
   "outputs": [],
   "source": [
    "heri = pd.read_csv('heri_gun_control.csv')"
   ]
  },
  {
   "cell_type": "code",
   "execution_count": null,
   "metadata": {
    "collapsed": true
   },
   "outputs": [],
   "source": [
    "heri.year"
   ]
  },
  {
   "cell_type": "code",
   "execution_count": null,
   "metadata": {
    "collapsed": true
   },
   "outputs": [],
   "source": [
    "heri = pd.read_csv('heri_gun_control.csv')\n",
    "thinkplot.plot(heri.year, heri.agree, color=ORANGE)"
   ]
  },
  {
   "cell_type": "code",
   "execution_count": null,
   "metadata": {
    "collapsed": true
   },
   "outputs": [],
   "source": [
    "plot_gunlaw(grouped_cohort)\n",
    "thinkplot.plot(heri.yearm18, heri.agree, color=ORANGE, label='CIRP')\n",
    "thinkplot.config(xlabel='Year of birth', ylabel='Percent')"
   ]
  },
  {
   "cell_type": "markdown",
   "metadata": {},
   "source": [
    "## Logistic models"
   ]
  },
  {
   "cell_type": "code",
   "execution_count": null,
   "metadata": {
    "collapsed": true
   },
   "outputs": [],
   "source": [
    "def make_logit_model(df, var, factors):\n",
    "    \"\"\"Fit a logistic regression model.\n",
    "    \n",
    "    df: DataFrame\n",
    "    var: string name of dependent variable\n",
    "    factors: list of string names for factorscen\n",
    "    \n",
    "    returns: Logit model\n",
    "    \"\"\"\n",
    "    # TODO: investigate the missing=drop option\n",
    "    nonull = df.dropna(subset=factors+[var])\n",
    "    y = nonull[var].values\n",
    "    X = nonull[factors].values\n",
    "    return Logit(y, X).fit(disp=False, full_output=False)"
   ]
  },
  {
   "cell_type": "code",
   "execution_count": null,
   "metadata": {
    "collapsed": true
   },
   "outputs": [],
   "source": [
    "factors = ['ones', 'a', 'c', 'a2', 'c2', 'ac']\n",
    "factors = ['a', 'a2', 'nineties', 'eighties', 'seventies',\n",
    "           'sixties', 'fifties', 'forties', 'thirties', 'twenties']\n",
    "model = make_logit_model(sample, 'favor', factors)"
   ]
  },
  {
   "cell_type": "code",
   "execution_count": null,
   "metadata": {
    "collapsed": true
   },
   "outputs": [],
   "source": [
    "def predict_logit_model(age, model, year, factors):\n",
    "    \"\"\"Make a single-year prediction.\n",
    "    \n",
    "    age: Series of ages to simulate\n",
    "    model: Logit model\n",
    "    year: year to make a prediction for\n",
    "    factors: list of string names for factors\n",
    "    \n",
    "    returns: Series that maps index to percentage\n",
    "    \"\"\"\n",
    "    # resample the ages\n",
    "    n = len(age)\n",
    "    age = np.random.choice(age, n, replace=True)\n",
    "    \n",
    "    # compute cohort\n",
    "    cohort = year - age\n",
    "    df = pd.DataFrame(dict(cohort=cohort, age=age))\n",
    "    center_factors(df)\n",
    "    \n",
    "    # compute probabilities in each category for each respondent\n",
    "    X = df[factors].values\n",
    "    pred = model.predict(X)\n",
    "    \n",
    "    # toss a weighted coin for each respondent\n",
    "    choices = np.random.random(n) <= pred\n",
    "\n",
    "    # return the percentage in favor\n",
    "    return choices.mean() * 100"
   ]
  },
  {
   "cell_type": "code",
   "execution_count": null,
   "metadata": {
    "collapsed": true
   },
   "outputs": [],
   "source": [
    "age = sample.loc[sample.year==2016, 'age']"
   ]
  },
  {
   "cell_type": "code",
   "execution_count": null,
   "metadata": {
    "collapsed": true
   },
   "outputs": [],
   "source": [
    "predict_logit_model(age, model, 1976, factors)"
   ]
  },
  {
   "cell_type": "code",
   "execution_count": null,
   "metadata": {
    "collapsed": true
   },
   "outputs": [],
   "source": [
    "predict_logit_model(age, model, 2016, factors)"
   ]
  },
  {
   "cell_type": "code",
   "execution_count": null,
   "metadata": {
    "collapsed": true
   },
   "outputs": [],
   "source": [
    "predict_logit_model(age, model, 2026, factors)"
   ]
  },
  {
   "cell_type": "code",
   "execution_count": null,
   "metadata": {
    "collapsed": true
   },
   "outputs": [],
   "source": [
    "predict_logit_model(age, model, 2036, factors)"
   ]
  },
  {
   "cell_type": "code",
   "execution_count": null,
   "metadata": {
    "collapsed": true
   },
   "outputs": [],
   "source": [
    "def make_pred(df, var, varnames, years, factors):\n",
    "    \"\"\"Generate predictions from multinomial model.\n",
    "    \n",
    "    df: DataFrame of respondents\n",
    "    var: dependent variable\n",
    "    varnames: list of string variable names\n",
    "    years: sequence of years to generate predictions for\n",
    "    factors: list of string factor names for the model\n",
    "    \n",
    "    returns: DataFrame that maps from index to predicted values\n",
    "    \"\"\" \n",
    "    model = make_logit_model(df, var, factors)\n",
    "    age = df.loc[df.year==2016, 'age']\n",
    "\n",
    "    pred = pd.DataFrame(columns=varnames)\n",
    "    for year in years:\n",
    "        pred.loc[year] = predict_logit_model(age, model, year, factors)\n",
    "    return pred"
   ]
  },
  {
   "cell_type": "code",
   "execution_count": null,
   "metadata": {
    "collapsed": true
   },
   "outputs": [],
   "source": [
    "def plot_pred(df, pred, varnames, colors, alpha=0.2):\n",
    "    \"\"\"Plots predictions from multinomial model.\n",
    "    \n",
    "    pred: DataFrame with one column per variable\n",
    "    varnames: list of string variable names\n",
    "    colors: list of string colors\n",
    "    alpha: numerical transparency\n",
    "    \"\"\"\n",
    "    series_seq = [pred[var] for var in varnames]\n",
    "    for series, color in zip(series_seq, colors):\n",
    "        thinkplot.plot(series, color=color, alpha=alpha)\n",
    "    thinkplot.config(xlabel='Year of survey', loc='upper right')"
   ]
  },
  {
   "cell_type": "code",
   "execution_count": null,
   "metadata": {
    "collapsed": true
   },
   "outputs": [],
   "source": [
    "var = 'favor'\n",
    "varnames = ['favor']\n",
    "years = np.arange(1970, 2038)\n",
    "factors = ['ones', 'a', 'c']\n",
    "colors = [BLUE]\n",
    "\n",
    "pred = make_pred(sample, var, varnames, years, factors)\n",
    "plot_pred(sample, pred, varnames, colors)\n",
    "plot_gunlaw(grouped_year)\n",
    "thinkplot.config(xlim=[1971, 2038])"
   ]
  },
  {
   "cell_type": "code",
   "execution_count": null,
   "metadata": {
    "collapsed": true
   },
   "outputs": [],
   "source": [
    "var = 'favor'\n",
    "varnames = ['favor']\n",
    "years = np.arange(1970, 2038)\n",
    "factors = ['ones', 'a', 'c', 'a2', 'c2', 'ac']\n",
    "index = ['favor']\n",
    "colors = [BLUE]\n",
    "\n",
    "pred = make_pred(sample, var, varnames, years, factors)\n",
    "plot_pred(sample, pred, varnames, colors)\n",
    "plot_gunlaw(grouped_year)\n",
    "thinkplot.config(xlim=[1971, 2038])"
   ]
  },
  {
   "cell_type": "code",
   "execution_count": null,
   "metadata": {
    "collapsed": true
   },
   "outputs": [],
   "source": [
    "var = 'favor'\n",
    "varnames = ['favor']\n",
    "years = np.arange(1970, 2038)\n",
    "factors = ['a', 'a2', 'nineties', 'eighties', 'seventies',\n",
    "           'sixties', 'fifties', 'forties', 'thirties', 'twenties']\n",
    "index = ['favor']\n",
    "colors = [BLUE]\n",
    "\n",
    "pred = make_pred(sample, var, varnames, years, factors)\n",
    "plot_pred(sample, pred, varnames, colors)\n",
    "plot_gunlaw(grouped_year)\n",
    "thinkplot.config(xlim=[1971, 2038])"
   ]
  },
  {
   "cell_type": "markdown",
   "metadata": {},
   "source": [
    "## Resampling"
   ]
  },
  {
   "cell_type": "code",
   "execution_count": null,
   "metadata": {
    "collapsed": true
   },
   "outputs": [],
   "source": [
    "def make_series_df(grouped, varnames):\n",
    "    \"\"\"Compute the percentage in each category.\n",
    "    \n",
    "    grouped: GroupBy object with one-hots for each category\n",
    "    varnames: list of string column names\n",
    "    \n",
    "    returns: DataFrame\n",
    "    \"\"\"\n",
    "    df = pd.DataFrame(columns=varnames)\n",
    "    for var in varnames:\n",
    "        df[var] = grouped[var].mean() * 100\n",
    "    return df"
   ]
  },
  {
   "cell_type": "code",
   "execution_count": null,
   "metadata": {
    "collapsed": true
   },
   "outputs": [],
   "source": [
    "def percentile_rows(series_seq, ps):\n",
    "    \"\"\"Computes percentiles from aligned series.\n",
    "    \n",
    "    series_seq: list of sequences\n",
    "    ps: cumulative probabilities\n",
    "    \n",
    "    returns: Series of x-values, NumPy array with selected rows\n",
    "    \"\"\"\n",
    "    df = pd.concat(series_seq, axis=1).dropna()\n",
    "    xs = df.index\n",
    "    array = df.values.transpose()\n",
    "    array = np.sort(array, axis=0)\n",
    "    nrows, ncols = array.shape\n",
    "    indices = (ps * nrows).astype(int)\n",
    "    rows = array[indices]\n",
    "    return xs, rows"
   ]
  },
  {
   "cell_type": "code",
   "execution_count": null,
   "metadata": {
    "collapsed": true
   },
   "outputs": [],
   "source": [
    "def plot_percentiles(dfs, varnames, colors, labels, plot=True, fill=True, alpha=0.2):\n",
    "    \"\"\"Plots 90% CI and median.\n",
    "    \n",
    "    dfs: list of DataFrames\n",
    "    varnames: list of string variable names\n",
    "    colors: list of string colors\n",
    "    labels: list of string labels\n",
    "    plot: boolean, whether to plot the median\n",
    "    fill: boolean, whether to plot the CI\n",
    "    \"\"\"\n",
    "    ps = np.array([0.05, 0.5, 0.95])\n",
    "\n",
    "    for var, color, label in zip(varnames, colors, labels):\n",
    "        series_seq = [df[var] for df in dfs]\n",
    "        xs, rows = percentile_rows(series_seq, ps)\n",
    "        if fill:\n",
    "            thinkplot.fill_between(xs, rows[0], rows[2], color=color, alpha=alpha)\n",
    "        if plot:\n",
    "            thinkplot.plot(xs, rows[1], color=color, label=label)"
   ]
  },
  {
   "cell_type": "code",
   "execution_count": null,
   "metadata": {
    "collapsed": true
   },
   "outputs": [],
   "source": [
    "def run_data(df, groupvar, varnames, iters=11):\n",
    "    \"\"\"Resample and extract data.\n",
    "    \n",
    "    df: DataFrame\n",
    "    groupvar: string variable to group by\n",
    "    varnames: list of string variable names\n",
    "    iters: number of resamples\n",
    "    \"\"\"\n",
    "    def run():\n",
    "        sample = utils.ResampleByYear(df)\n",
    "        grouped_year = sample.groupby([groupvar])\n",
    "        return make_series_df(grouped_year, varnames)\n",
    "\n",
    "    dfs = [run() for _ in range(iters)]\n",
    "    return dfs"
   ]
  },
  {
   "cell_type": "code",
   "execution_count": null,
   "metadata": {
    "collapsed": true
   },
   "outputs": [],
   "source": [
    "def run_model(df, var, varnames, years, iters=11):\n",
    "    \"\"\"Resample and make predictions.\n",
    "    \n",
    "    df: DataFrame\n",
    "    var: string variable name to model\n",
    "    varnames: list of string variable names\n",
    "    years: list of years to predict\n",
    "    iters: number of resamples\n",
    "    \n",
    "    returns: list of DataFrames\n",
    "    \"\"\"\n",
    "    factors = ['ones', 'a', 'c', 'a2', 'c2', 'ac']\n",
    "    factors = ['a', 'a2', 'nineties', 'eighties', 'seventies',\n",
    "               'sixties', 'fifties', 'forties', 'thirties', 'twenties']\n",
    "\n",
    "    def run():\n",
    "        sample = utils.ResampleByYear(df)\n",
    "        return make_pred(sample, var, varnames, years, factors)\n",
    "\n",
    "    dfs = [run() for _ in range(iters)]\n",
    "    return dfs"
   ]
  },
  {
   "cell_type": "markdown",
   "metadata": {},
   "source": [
    "## Favor gun permits"
   ]
  },
  {
   "cell_type": "code",
   "execution_count": null,
   "metadata": {
    "collapsed": true
   },
   "outputs": [],
   "source": [
    "iters = 31"
   ]
  },
  {
   "cell_type": "code",
   "execution_count": null,
   "metadata": {
    "collapsed": true
   },
   "outputs": [],
   "source": [
    "groupvar = 'year'\n",
    "varnames = ['favor']"
   ]
  },
  {
   "cell_type": "code",
   "execution_count": null,
   "metadata": {
    "collapsed": true
   },
   "outputs": [],
   "source": [
    "dfs1 = run_data(gss, groupvar, varnames, iters=iters)"
   ]
  },
  {
   "cell_type": "code",
   "execution_count": null,
   "metadata": {
    "collapsed": true
   },
   "outputs": [],
   "source": [
    "colors = [BLUE]\n",
    "labels = [None]\n",
    "plot_percentiles(dfs1, varnames, colors, labels)\n",
    "thinkplot.config(title='Favor gun control', \n",
    "                 xlabel='Year of survey', ylabel='Percent',\n",
    "                 xlim=[1971, 2017], ylim=[50, 90])\n",
    "\n",
    "save_options = dict(fmt='png', dpi=50)\n",
    "thinkplot.SaveFormat('favor_year', **save_options)"
   ]
  },
  {
   "cell_type": "code",
   "execution_count": null,
   "metadata": {
    "collapsed": true
   },
   "outputs": [],
   "source": [
    "groupvar = 'cohort5'\n",
    "dfs2 = run_data(gss, groupvar, varnames, iters=iters)"
   ]
  },
  {
   "cell_type": "code",
   "execution_count": null,
   "metadata": {
    "collapsed": true
   },
   "outputs": [],
   "source": [
    "plot_percentiles(dfs2, varnames, colors, labels=['GSS'])\n",
    "thinkplot.config(title='Favor gun control, by year of birth', \n",
    "                 xlabel='Year of birth', ylabel='Percent',\n",
    "                 xlim=[1892, 2000], ylim=[50, 90], loc='lower right')\n",
    "\n",
    "thinkplot.SaveFormat('favor_age', **save_options)"
   ]
  },
  {
   "cell_type": "code",
   "execution_count": null,
   "metadata": {
    "collapsed": true
   },
   "outputs": [],
   "source": [
    "plot_percentiles(dfs2, varnames, colors, labels=['GSS'])\n",
    "\n",
    "# dropping the last data point because its a different question\n",
    "old = heri[heri.year<2016]\n",
    "thinkplot.plot(old.yearm18, old.agree, color=ORANGE, label='CIRP')\n",
    "\n",
    "thinkplot.config(title='Favor gun control, by year of birth', \n",
    "                 xlabel='Year of birth', ylabel='Percent',\n",
    "                 xlim=[1892, 2000], ylim=[50, 90], loc='lower right')\n",
    "\n",
    "thinkplot.SaveFormat('favor_age_cirp', **save_options)"
   ]
  },
  {
   "cell_type": "code",
   "execution_count": null,
   "metadata": {
    "collapsed": true
   },
   "outputs": [],
   "source": [
    "var = 'favor'\n",
    "years = np.arange(1972, 2030)\n",
    "\n",
    "dfs3 = run_model(gss, var, varnames, years, iters=iters)"
   ]
  },
  {
   "cell_type": "code",
   "execution_count": null,
   "metadata": {
    "collapsed": true,
    "scrolled": false
   },
   "outputs": [],
   "source": [
    "nolabels= [None]\n",
    "plot_percentiles(dfs3, varnames, colors, nolabels, plot=False)\n",
    "plot_percentiles(dfs1, varnames, colors, labels, fill=False)\n",
    "thinkplot.config(title='Favor gun control, predicted', \n",
    "                 xlabel='Year of survey', ylabel='Percent',\n",
    "                 xlim=[1971, 2030], ylim=[50, 90])\n",
    "\n",
    "thinkplot.SaveFormat('favor_year_pred', **save_options)"
   ]
  },
  {
   "cell_type": "markdown",
   "metadata": {
    "collapsed": true
   },
   "source": [
    "## Breakdown by political view"
   ]
  },
  {
   "cell_type": "code",
   "execution_count": null,
   "metadata": {
    "collapsed": true,
    "scrolled": true
   },
   "outputs": [],
   "source": [
    "gss.polviews.value_counts()"
   ]
  },
  {
   "cell_type": "code",
   "execution_count": null,
   "metadata": {
    "collapsed": true
   },
   "outputs": [],
   "source": [
    "liberal = gss[gss.liberal]\n",
    "liberal.shape"
   ]
  },
  {
   "cell_type": "code",
   "execution_count": null,
   "metadata": {
    "collapsed": true
   },
   "outputs": [],
   "source": [
    "conservative = gss[gss.conservative]\n",
    "conservative.shape"
   ]
  },
  {
   "cell_type": "code",
   "execution_count": null,
   "metadata": {
    "collapsed": true
   },
   "outputs": [],
   "source": [
    "moderate = gss[gss.moderate]\n",
    "moderate.shape"
   ]
  },
  {
   "cell_type": "code",
   "execution_count": null,
   "metadata": {
    "collapsed": true
   },
   "outputs": [],
   "source": [
    "groupvar = 'cohort5'\n",
    "dfs_lib = run_data(liberal, groupvar, varnames, iters=iters)\n",
    "dfs_mod = run_data(moderate, groupvar, varnames, iters=iters)\n",
    "dfs_con = run_data(conservative, groupvar, varnames, iters=iters)"
   ]
  },
  {
   "cell_type": "code",
   "execution_count": null,
   "metadata": {
    "collapsed": true,
    "scrolled": false
   },
   "outputs": [],
   "source": [
    "plot_percentiles(dfs_lib, varnames, [BLUE], labels=['liberal'], alpha=0.1)\n",
    "plot_percentiles(dfs_mod, varnames, [PURPLE], labels=['moderate'], alpha=0.1)\n",
    "plot_percentiles(dfs_con, varnames, [RED], labels=['conservative'], alpha=0.1)\n",
    "thinkplot.config(title='Favor gun control, grouped by political view', \n",
    "                 xlabel='Year of birth', ylabel='Percent',\n",
    "                 xlim=[1892, 2000], ylim=[40, 100], loc='lower left')\n",
    "\n",
    "thinkplot.SaveFormat('favor_polview_year', **save_options)"
   ]
  },
  {
   "cell_type": "code",
   "execution_count": null,
   "metadata": {
    "collapsed": true
   },
   "outputs": [],
   "source": [
    "groupvar = 'year'\n",
    "dfs_lib = run_data(liberal, groupvar, varnames, iters=iters)\n",
    "dfs_mod = run_data(moderate, groupvar, varnames, iters=iters)\n",
    "dfs_con = run_data(conservative, groupvar, varnames, iters=iters)"
   ]
  },
  {
   "cell_type": "code",
   "execution_count": null,
   "metadata": {
    "collapsed": true,
    "scrolled": false
   },
   "outputs": [],
   "source": [
    "plot_percentiles(dfs_lib, varnames, [BLUE], labels=['liberal'], alpha=0.1)\n",
    "plot_percentiles(dfs_mod, varnames, [PURPLE], labels=['moderate'], alpha=0.1)\n",
    "plot_percentiles(dfs_con, varnames, [RED], labels=['conservative'], alpha=0.1)\n",
    "thinkplot.config(title='Favor gun control, grouped by political view', \n",
    "                 xlabel='Year of survey', ylabel='Percent',\n",
    "                 xlim=[1972, 2017], ylim=[40, 100], loc='lower left')\n",
    "\n",
    "thinkplot.SaveFormat('favor_polview_year', **save_options)"
   ]
  },
  {
   "cell_type": "markdown",
   "metadata": {
    "collapsed": true
   },
   "source": [
    "## Breakdown by race"
   ]
  },
  {
   "cell_type": "code",
   "execution_count": null,
   "metadata": {
    "collapsed": true,
    "scrolled": true
   },
   "outputs": [],
   "source": [
    "gss.race.value_counts()"
   ]
  },
  {
   "cell_type": "code",
   "execution_count": null,
   "metadata": {
    "collapsed": true
   },
   "outputs": [],
   "source": [
    "white = gss[gss.race == 1]\n",
    "white.shape"
   ]
  },
  {
   "cell_type": "code",
   "execution_count": null,
   "metadata": {
    "collapsed": true
   },
   "outputs": [],
   "source": [
    "black = gss[gss.race == 2]\n",
    "black.shape"
   ]
  },
  {
   "cell_type": "code",
   "execution_count": null,
   "metadata": {
    "collapsed": true,
    "scrolled": true
   },
   "outputs": [],
   "source": [
    "nonwhite = gss[gss.race.isin([2,3])]\n",
    "nonwhite.shape"
   ]
  },
  {
   "cell_type": "code",
   "execution_count": null,
   "metadata": {
    "collapsed": true
   },
   "outputs": [],
   "source": [
    "white.favor.mean(), black.favor.mean(), nonwhite.favor.mean()"
   ]
  },
  {
   "cell_type": "code",
   "execution_count": null,
   "metadata": {
    "collapsed": true
   },
   "outputs": [],
   "source": [
    "liberal.favor.mean(), moderate.favor.mean(), conservative.favor.mean()"
   ]
  },
  {
   "cell_type": "code",
   "execution_count": null,
   "metadata": {
    "collapsed": true
   },
   "outputs": [],
   "source": [
    "white.liberal.mean(), black.liberal.mean(), nonwhite.liberal.mean()"
   ]
  },
  {
   "cell_type": "code",
   "execution_count": null,
   "metadata": {
    "collapsed": true
   },
   "outputs": [],
   "source": [
    "white.threatened.mean(), black.threatened.mean(), nonwhite.threatened.mean()"
   ]
  },
  {
   "cell_type": "code",
   "execution_count": null,
   "metadata": {
    "collapsed": true
   },
   "outputs": [],
   "source": [
    "gss.groupby('threatened').favor.mean()"
   ]
  },
  {
   "cell_type": "code",
   "execution_count": null,
   "metadata": {
    "collapsed": true
   },
   "outputs": [],
   "source": [
    "groupvar = 'year'\n",
    "varnames = ['favor']"
   ]
  },
  {
   "cell_type": "code",
   "execution_count": null,
   "metadata": {
    "collapsed": true
   },
   "outputs": [],
   "source": [
    "dfs_white = run_data(white, groupvar, varnames, iters=iters)\n",
    "dfs_nonwhite = run_data(nonwhite, groupvar, varnames, iters=iters)"
   ]
  },
  {
   "cell_type": "code",
   "execution_count": null,
   "metadata": {
    "collapsed": true
   },
   "outputs": [],
   "source": [
    "plot_percentiles(dfs_white, varnames, [BLUE], labels=['white'], alpha=0.1)\n",
    "plot_percentiles(dfs_nonwhite, varnames, [ORANGE], labels=['nonwhite'], alpha=0.1)\n",
    "thinkplot.config(title='Favor gun control, grouped by race', \n",
    "                 xlabel='Year of survey', ylabel='Percent',\n",
    "                 xlim=[1971, 2017], ylim=[40, 100], loc='lower left')\n",
    "\n",
    "thinkplot.SaveFormat('favor_race_year', **save_options)"
   ]
  },
  {
   "cell_type": "code",
   "execution_count": null,
   "metadata": {
    "collapsed": true
   },
   "outputs": [],
   "source": [
    "young = gss[gss.age<30]\n",
    "young_white = young[young.race == 1]\n",
    "young_nonwhite = young[young.race.isin([2,3])]\n",
    "\n",
    "groupvar = 'year4'"
   ]
  },
  {
   "cell_type": "code",
   "execution_count": null,
   "metadata": {
    "collapsed": true
   },
   "outputs": [],
   "source": [
    "dfs_white = run_data(young_white, groupvar, varnames, iters=iters)\n",
    "dfs_nonwhite = run_data(young_nonwhite, groupvar, varnames, iters=iters)"
   ]
  },
  {
   "cell_type": "code",
   "execution_count": null,
   "metadata": {
    "collapsed": true
   },
   "outputs": [],
   "source": [
    "plot_percentiles(dfs_white, varnames, [BLUE], labels=['white'], alpha=0.1)\n",
    "plot_percentiles(dfs_nonwhite, varnames, [ORANGE], labels=['nonwhite'], alpha=0.1)\n",
    "thinkplot.config(title='Favor gun control, by year of survey', \n",
    "                 xlabel='Year of survey', ylabel='Percent',\n",
    "                 xlim=[1970, 2017], ylim=[40, 100], loc='lower left')\n",
    "\n",
    "#thinkplot.SaveFormat('permit_cohort_race', **save_options)"
   ]
  },
  {
   "cell_type": "code",
   "execution_count": null,
   "metadata": {
    "collapsed": true
   },
   "outputs": [],
   "source": [
    "groupvar = 'cohort5'\n",
    "dfs_white = run_data(white, groupvar, varnames, iters=iters)\n",
    "dfs_nonwhite = run_data(nonwhite, groupvar, varnames, iters=iters)"
   ]
  },
  {
   "cell_type": "code",
   "execution_count": null,
   "metadata": {
    "collapsed": true,
    "scrolled": false
   },
   "outputs": [],
   "source": [
    "plot_percentiles(dfs_white, varnames, [BLUE], labels=['white'], alpha=0.1)\n",
    "plot_percentiles(dfs_nonwhite, varnames, [ORANGE], labels=['nonwhite'], alpha=0.1)\n",
    "thinkplot.config(title='Favor gun control, by year of birth', \n",
    "                 xlabel='Year of birth', ylabel='Percent',\n",
    "                 xlim=[1892, 2000], ylim=[40, 100], loc='lower left')\n",
    "\n",
    "thinkplot.SaveFormat('permit_cohort_race', **save_options)"
   ]
  },
  {
   "cell_type": "markdown",
   "metadata": {},
   "source": [
    "## Gun in home"
   ]
  },
  {
   "cell_type": "code",
   "execution_count": null,
   "metadata": {
    "collapsed": true
   },
   "outputs": [],
   "source": [
    "groupvar = 'year'\n",
    "varnames = ['gunhome']"
   ]
  },
  {
   "cell_type": "code",
   "execution_count": null,
   "metadata": {
    "collapsed": true
   },
   "outputs": [],
   "source": [
    "dfs4 = run_data(gss, groupvar, varnames, iters=iters)"
   ]
  },
  {
   "cell_type": "code",
   "execution_count": null,
   "metadata": {
    "collapsed": true
   },
   "outputs": [],
   "source": [
    "colors = [RED]\n",
    "labels = [None]\n",
    "plot_percentiles(dfs4, varnames, colors, labels)\n",
    "thinkplot.config(title='Have gun in home, by year of survey', \n",
    "                 xlabel='Year of survey', ylabel='Percent',\n",
    "                 xlim=[1970, 2017], ylim=[0, 70])\n",
    "\n",
    "thinkplot.SaveFormat('gunhome_year', **save_options)"
   ]
  },
  {
   "cell_type": "code",
   "execution_count": null,
   "metadata": {
    "collapsed": true
   },
   "outputs": [],
   "source": [
    "groupvar = 'cohort5'\n",
    "dfs5 = run_data(gss, groupvar, varnames, iters=iters)"
   ]
  },
  {
   "cell_type": "code",
   "execution_count": null,
   "metadata": {
    "collapsed": true
   },
   "outputs": [],
   "source": [
    "plot_percentiles(dfs5, varnames, colors, labels)\n",
    "thinkplot.config(title='Have gun in home, by year of birth', \n",
    "                 xlabel='Year of birth', ylabel='Percent',\n",
    "                 xlim=[1884, 2000], ylim=[0, 70])\n",
    "\n",
    "thinkplot.SaveFormat('gunhome_cohort', **save_options)"
   ]
  },
  {
   "cell_type": "code",
   "execution_count": null,
   "metadata": {
    "collapsed": true
   },
   "outputs": [],
   "source": [
    "var = 'gunhome'\n",
    "years = np.arange(1972, 2030)\n",
    "\n",
    "dfs6 = run_model(gss, var, varnames, years, iters=iters)"
   ]
  },
  {
   "cell_type": "code",
   "execution_count": null,
   "metadata": {
    "collapsed": true,
    "scrolled": false
   },
   "outputs": [],
   "source": [
    "nolabels= [None]\n",
    "plot_percentiles(dfs6, varnames, colors, nolabels, plot=False)\n",
    "plot_percentiles(dfs4, varnames, colors, labels, fill=False)\n",
    "thinkplot.config(title='Have gun in home, predicted', \n",
    "                 xlabel='Year of survey', ylabel='Percent',\n",
    "                 xlim=[1970, 2032], ylim=[0, 70])\n",
    "\n",
    "thinkplot.SaveFormat('gunhome_pred', **save_options)"
   ]
  },
  {
   "cell_type": "code",
   "execution_count": null,
   "metadata": {
    "collapsed": true
   },
   "outputs": [],
   "source": [
    "heri = pd.read_csv('heri_gun_control.csv')"
   ]
  },
  {
   "cell_type": "code",
   "execution_count": null,
   "metadata": {
    "collapsed": true
   },
   "outputs": [],
   "source": [
    "heri"
   ]
  },
  {
   "cell_type": "code",
   "execution_count": null,
   "metadata": {
    "collapsed": true
   },
   "outputs": [],
   "source": [
    "old = heri[heri.year<2016]\n",
    "new = heri[heri.year>=2016]"
   ]
  },
  {
   "cell_type": "code",
   "execution_count": null,
   "metadata": {
    "collapsed": true
   },
   "outputs": [],
   "source": [
    "thinkplot.plot(old.year, old.agree, color=ORANGE, label='\"Do more to control sale of handguns\"')\n",
    "thinkplot.plot(new.year, new.agree, 's', color=RED, label='\"Should have stricter gun control laws\"')\n",
    "\n",
    "thinkplot.config(title='Favor gun control, CIRP Freshman Survey', \n",
    "                 xlabel='Year of survey', ylabel='Percent',\n",
    "                 xlim=[1987, 2018], ylim=[60, 90], loc='lower left')\n",
    "\n",
    "thinkplot.SaveFormat('control_year_cirp', **save_options)"
   ]
  },
  {
   "cell_type": "markdown",
   "metadata": {},
   "source": [
    "## Age effect"
   ]
  },
  {
   "cell_type": "code",
   "execution_count": null,
   "metadata": {
    "collapsed": true
   },
   "outputs": [],
   "source": [
    "sample.head()"
   ]
  },
  {
   "cell_type": "code",
   "execution_count": null,
   "metadata": {
    "collapsed": true
   },
   "outputs": [],
   "source": [
    "grouped = sample.groupby('cohort10')\n",
    "for name, group in grouped:\n",
    "    print(name, len(group))"
   ]
  },
  {
   "cell_type": "code",
   "execution_count": null,
   "metadata": {
    "collapsed": true
   },
   "outputs": [],
   "source": [
    "cohort = grouped.get_group(1950.0)"
   ]
  },
  {
   "cell_type": "code",
   "execution_count": null,
   "metadata": {
    "collapsed": true
   },
   "outputs": [],
   "source": [
    "def plot_favor_by_age(cohort, **options):\n",
    "    age_groups = cohort.groupby('age3')\n",
    "    series = age_groups.favor.mean() * 100\n",
    "    thinkplot.plot(series.index, series.values, **options)"
   ]
  },
  {
   "cell_type": "code",
   "execution_count": null,
   "metadata": {
    "collapsed": true
   },
   "outputs": [],
   "source": [
    "names = [1940.0, 1950.0, 1960.0, 1970.0, 1980.0, 1990.0]\n",
    "labels = ['40s', '50s', '60s', '70s', '80s', '90s']\n",
    "colors = [RED, ORANGE, YELLOW, GREEN, BLUE, PURPLE]\n",
    "\n",
    "for i, name in enumerate(names):\n",
    "    cohort = grouped.get_group(name)\n",
    "    plot_favor_by_age(cohort, label=labels[i], color=colors[i])\n",
    "    \n",
    "thinkplot.config(title='Favor gun control, grouped by decade of birth', \n",
    "                 xlabel='Age', ylabel='Percent',\n",
    "                 xlim=[15, 80], ylim=[40, 95], loc='lower right')\n",
    "\n",
    "thinkplot.SaveFormat('favor_birth_age', **save_options)"
   ]
  },
  {
   "cell_type": "code",
   "execution_count": null,
   "metadata": {
    "collapsed": true
   },
   "outputs": [],
   "source": [
    "def plot_favor_by_year(cohort, **options):\n",
    "    age_groups = cohort.groupby('year4')\n",
    "    series = age_groups.favor.mean() * 100\n",
    "    thinkplot.plot(series.index, series.values, **options)"
   ]
  },
  {
   "cell_type": "code",
   "execution_count": null,
   "metadata": {
    "collapsed": true
   },
   "outputs": [],
   "source": [
    "for i, name in enumerate(names):\n",
    "    cohort = grouped.get_group(name)\n",
    "    plot_favor_by_year(cohort, label=labels[i], color=colors[i])\n",
    "    \n",
    "thinkplot.config(title='Favor gun control, grouped by decade of birth', \n",
    "                 xlabel='Year of survey', ylabel='Percent',\n",
    "                 xlim=[1970, 2019], ylim=[40, 95], loc='lower left')\n",
    "\n",
    "thinkplot.SaveFormat('favor_birth_year', **save_options)"
   ]
  },
  {
   "cell_type": "code",
   "execution_count": null,
   "metadata": {
    "collapsed": true
   },
   "outputs": [],
   "source": [
    "formula = 'favor ~ a + a2 + c + c2 + C(cohort10)'\n",
    "formula = 'favor ~ a + a2 + c + c2'\n",
    "formula = 'favor ~ a + nineties + eighties + seventies + sixties + fifties + forties + thirties + twenties'\n",
    "\n",
    "model = smf.logit(formula, data=sample).fit()\n",
    "model.summary()"
   ]
  },
  {
   "cell_type": "code",
   "execution_count": null,
   "metadata": {
    "collapsed": true
   },
   "outputs": [],
   "source": [
    "def predict_favor_by_age(model, birth_year):\n",
    "    age = np.linspace(20, 65)\n",
    "    cohort = np.ones_like(age) * birth_year\n",
    "    new = pd.DataFrame(dict(age=age, cohort=cohort))\n",
    "    center_factors(new)\n",
    "    predicted = model_predict(model, new)\n",
    "    return predicted"
   ]
  },
  {
   "cell_type": "code",
   "execution_count": null,
   "metadata": {
    "collapsed": true
   },
   "outputs": [],
   "source": [
    "def plot_predicted_by_age(predicted, **options):\n",
    "    thinkplot.plot(predicted.age, predicted.pred, **options)"
   ]
  },
  {
   "cell_type": "code",
   "execution_count": null,
   "metadata": {
    "collapsed": true
   },
   "outputs": [],
   "source": [
    "name = 1950.0\n",
    "predicted = predict_favor_by_age(model, name)\n",
    "plot_predicted_by_age(predicted, color=RED, linewidth=20, alpha=0.1)\n",
    "\n",
    "cohort = grouped.get_group(name)\n",
    "plot_favor_by_age(cohort, label='50s', color=RED)"
   ]
  },
  {
   "cell_type": "code",
   "execution_count": null,
   "metadata": {
    "collapsed": true
   },
   "outputs": [],
   "source": [
    "for i, name in enumerate(names):\n",
    "    predicted = predict_favor_by_age(model, name)\n",
    "    plot_predicted_by_age(predicted, color=colors[i], linewidth=5, alpha=0.2)\n",
    "    cohort = grouped.get_group(name)\n",
    "    plot_favor_by_age(cohort, label=labels[i], color=colors[i])\n",
    "    \n",
    "thinkplot.config(title='Favor gun control, by age', \n",
    "                 xlabel='Age', ylabel='Percent',\n",
    "                 xlim=[15, 70], ylim=[40, 95], loc='lower right')"
   ]
  },
  {
   "cell_type": "code",
   "execution_count": null,
   "metadata": {
    "collapsed": true
   },
   "outputs": [],
   "source": []
  },
  {
   "cell_type": "code",
   "execution_count": null,
   "metadata": {
    "collapsed": true
   },
   "outputs": [],
   "source": [
    "var = 'favor'\n",
    "years = np.arange(1972, 2030)\n",
    "\n",
    "dfs3 = run_model(gss, var, varnames, years, iters=iters)"
   ]
  },
  {
   "cell_type": "code",
   "execution_count": null,
   "metadata": {
    "collapsed": true,
    "scrolled": false
   },
   "outputs": [],
   "source": [
    "nolabels= [None]\n",
    "plot_percentiles(dfs3, varnames, colors, nolabels, plot=False)\n",
    "plot_percentiles(dfs1, varnames, colors, labels, fill=False)\n",
    "thinkplot.config(title='Favor gun control, predicted', \n",
    "                 xlabel='Year of survey', ylabel='Percent',\n",
    "                 xlim=[1971, 2030], ylim=[50, 90])\n",
    "\n",
    "thinkplot.SaveFormat('permit_pred', **save_options)"
   ]
  },
  {
   "cell_type": "code",
   "execution_count": null,
   "metadata": {
    "collapsed": true
   },
   "outputs": [],
   "source": []
  }
 ],
 "metadata": {
  "kernelspec": {
   "display_name": "Python 3",
   "language": "python",
   "name": "python3"
  },
  "language_info": {
   "codemirror_mode": {
    "name": "ipython",
    "version": 3
   },
   "file_extension": ".py",
   "mimetype": "text/x-python",
   "name": "python",
   "nbconvert_exporter": "python",
   "pygments_lexer": "ipython3",
   "version": "3.6.1"
  }
 },
 "nbformat": 4,
 "nbformat_minor": 1
}
