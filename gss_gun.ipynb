{
 "cells": [
  {
   "cell_type": "markdown",
   "metadata": {},
   "source": [
    "# A generational model of gun ownership and gun control\n",
    "\n",
    "Allen Downey\n",
    "\n",
    "[MIT License](https://en.wikipedia.org/wiki/MIT_License)"
   ]
  },
  {
   "cell_type": "code",
   "execution_count": 1,
   "metadata": {
    "collapsed": true
   },
   "outputs": [],
   "source": [
    "from __future__ import print_function, division\n",
    "\n",
    "%matplotlib inline\n",
    "\n",
    "import pandas as pd\n",
    "import numpy as np\n",
    "\n",
    "import thinkstats2\n",
    "import thinkplot\n",
    "import utils\n",
    "\n",
    "import statsmodels.formula.api as smf\n",
    "import matplotlib.pyplot as plt\n",
    "\n",
    "import matplotlib\n",
    "matplotlib.rc('figure', figsize=(4, 3))\n",
    "\n",
    "import seaborn as sns\n",
    "sns.set(style='white', font_scale=1.5, context='talk')\n",
    "RED, BLUE, GREEN, PURPLE, ORANGE, YELLOW = sns.color_palette('Set1')\n",
    "\n",
    "from collections import Counter\n",
    "from statsmodels.discrete.discrete_model import MNLogit\n",
    "from statsmodels.discrete.discrete_model import Logit"
   ]
  },
  {
   "cell_type": "markdown",
   "metadata": {},
   "source": [
    "## Loading and validation\n",
    "\n",
    "Reading data from the [General Social Survey](https://gssdataexplorer.norc.org/projects/29853)\n",
    "\n",
    "You can get my selected subset of variables from https://gssdataexplorer.norc.org/projects/41723#"
   ]
  },
  {
   "cell_type": "code",
   "execution_count": 2,
   "metadata": {},
   "outputs": [
    {
     "name": "stdout",
     "output_type": "stream",
     "text": [
      "(62466, 24)\n"
     ]
    },
    {
     "data": {
      "text/html": [
       "<div>\n",
       "<style>\n",
       "    .dataframe thead tr:only-child th {\n",
       "        text-align: right;\n",
       "    }\n",
       "\n",
       "    .dataframe thead th {\n",
       "        text-align: left;\n",
       "    }\n",
       "\n",
       "    .dataframe tbody tr th {\n",
       "        vertical-align: top;\n",
       "    }\n",
       "</style>\n",
       "<table border=\"1\" class=\"dataframe\">\n",
       "  <thead>\n",
       "    <tr style=\"text-align: right;\">\n",
       "      <th></th>\n",
       "      <th>year</th>\n",
       "      <th>conrinc</th>\n",
       "      <th>cohort</th>\n",
       "      <th>ballot</th>\n",
       "      <th>wtssall</th>\n",
       "      <th>income</th>\n",
       "      <th>finrela</th>\n",
       "      <th>realinc</th>\n",
       "      <th>sex</th>\n",
       "      <th>homosex</th>\n",
       "      <th>...</th>\n",
       "      <th>age</th>\n",
       "      <th>race</th>\n",
       "      <th>srcbelt</th>\n",
       "      <th>polviews</th>\n",
       "      <th>natcrime</th>\n",
       "      <th>gunlaw</th>\n",
       "      <th>gun</th>\n",
       "      <th>gunage</th>\n",
       "      <th>gunnum</th>\n",
       "      <th>educ</th>\n",
       "    </tr>\n",
       "  </thead>\n",
       "  <tbody>\n",
       "    <tr>\n",
       "      <th>0</th>\n",
       "      <td>1972</td>\n",
       "      <td>0.0</td>\n",
       "      <td>1949</td>\n",
       "      <td>0</td>\n",
       "      <td>0.4446</td>\n",
       "      <td>0</td>\n",
       "      <td>3</td>\n",
       "      <td>18951.0</td>\n",
       "      <td>2</td>\n",
       "      <td>0</td>\n",
       "      <td>...</td>\n",
       "      <td>23</td>\n",
       "      <td>1</td>\n",
       "      <td>3</td>\n",
       "      <td>0</td>\n",
       "      <td>0</td>\n",
       "      <td>1</td>\n",
       "      <td>0</td>\n",
       "      <td>0</td>\n",
       "      <td>0</td>\n",
       "      <td>16</td>\n",
       "    </tr>\n",
       "    <tr>\n",
       "      <th>1</th>\n",
       "      <td>1972</td>\n",
       "      <td>0.0</td>\n",
       "      <td>1902</td>\n",
       "      <td>0</td>\n",
       "      <td>0.8893</td>\n",
       "      <td>0</td>\n",
       "      <td>4</td>\n",
       "      <td>24366.0</td>\n",
       "      <td>1</td>\n",
       "      <td>0</td>\n",
       "      <td>...</td>\n",
       "      <td>70</td>\n",
       "      <td>1</td>\n",
       "      <td>3</td>\n",
       "      <td>0</td>\n",
       "      <td>0</td>\n",
       "      <td>1</td>\n",
       "      <td>0</td>\n",
       "      <td>0</td>\n",
       "      <td>0</td>\n",
       "      <td>10</td>\n",
       "    </tr>\n",
       "    <tr>\n",
       "      <th>2</th>\n",
       "      <td>1972</td>\n",
       "      <td>0.0</td>\n",
       "      <td>1924</td>\n",
       "      <td>0</td>\n",
       "      <td>0.8893</td>\n",
       "      <td>0</td>\n",
       "      <td>3</td>\n",
       "      <td>24366.0</td>\n",
       "      <td>2</td>\n",
       "      <td>0</td>\n",
       "      <td>...</td>\n",
       "      <td>48</td>\n",
       "      <td>1</td>\n",
       "      <td>3</td>\n",
       "      <td>0</td>\n",
       "      <td>0</td>\n",
       "      <td>1</td>\n",
       "      <td>0</td>\n",
       "      <td>0</td>\n",
       "      <td>0</td>\n",
       "      <td>12</td>\n",
       "    </tr>\n",
       "    <tr>\n",
       "      <th>3</th>\n",
       "      <td>1972</td>\n",
       "      <td>0.0</td>\n",
       "      <td>1945</td>\n",
       "      <td>0</td>\n",
       "      <td>0.8893</td>\n",
       "      <td>0</td>\n",
       "      <td>3</td>\n",
       "      <td>30458.0</td>\n",
       "      <td>2</td>\n",
       "      <td>0</td>\n",
       "      <td>...</td>\n",
       "      <td>27</td>\n",
       "      <td>1</td>\n",
       "      <td>3</td>\n",
       "      <td>0</td>\n",
       "      <td>0</td>\n",
       "      <td>1</td>\n",
       "      <td>0</td>\n",
       "      <td>0</td>\n",
       "      <td>0</td>\n",
       "      <td>17</td>\n",
       "    </tr>\n",
       "    <tr>\n",
       "      <th>4</th>\n",
       "      <td>1972</td>\n",
       "      <td>0.0</td>\n",
       "      <td>1911</td>\n",
       "      <td>0</td>\n",
       "      <td>0.8893</td>\n",
       "      <td>0</td>\n",
       "      <td>4</td>\n",
       "      <td>50763.0</td>\n",
       "      <td>2</td>\n",
       "      <td>0</td>\n",
       "      <td>...</td>\n",
       "      <td>61</td>\n",
       "      <td>1</td>\n",
       "      <td>3</td>\n",
       "      <td>0</td>\n",
       "      <td>0</td>\n",
       "      <td>1</td>\n",
       "      <td>0</td>\n",
       "      <td>0</td>\n",
       "      <td>0</td>\n",
       "      <td>12</td>\n",
       "    </tr>\n",
       "  </tbody>\n",
       "</table>\n",
       "<p>5 rows × 24 columns</p>\n",
       "</div>"
      ],
      "text/plain": [
       "   year  conrinc  cohort  ballot  wtssall  income  finrela  realinc  sex  \\\n",
       "0  1972      0.0    1949       0   0.4446       0        3  18951.0    2   \n",
       "1  1972      0.0    1902       0   0.8893       0        4  24366.0    1   \n",
       "2  1972      0.0    1924       0   0.8893       0        3  24366.0    2   \n",
       "3  1972      0.0    1945       0   0.8893       0        3  30458.0    2   \n",
       "4  1972      0.0    1911       0   0.8893       0        4  50763.0    2   \n",
       "\n",
       "   homosex  ...   age  race  srcbelt  polviews  natcrime  gunlaw  gun  gunage  \\\n",
       "0        0  ...    23     1        3         0         0       1    0       0   \n",
       "1        0  ...    70     1        3         0         0       1    0       0   \n",
       "2        0  ...    48     1        3         0         0       1    0       0   \n",
       "3        0  ...    27     1        3         0         0       1    0       0   \n",
       "4        0  ...    61     1        3         0         0       1    0       0   \n",
       "\n",
       "   gunnum  educ  \n",
       "0       0    16  \n",
       "1       0    10  \n",
       "2       0    12  \n",
       "3       0    17  \n",
       "4       0    12  \n",
       "\n",
       "[5 rows x 24 columns]"
      ]
     },
     "execution_count": 2,
     "metadata": {},
     "output_type": "execute_result"
    }
   ],
   "source": [
    "gss = utils.ReadGss('gss_gun')\n",
    "print(gss.shape)\n",
    "gss.head()"
   ]
  },
  {
   "cell_type": "code",
   "execution_count": 3,
   "metadata": {
    "collapsed": true
   },
   "outputs": [],
   "source": [
    "def replace_invalid(df):\n",
    "    df.gunlaw.replace([8, 9, 0], np.nan, inplace=True)\n",
    "    df.owngun.replace([3, 8, 9, 0], np.nan, inplace=True)\n",
    "    df.gun.replace([8, 9, 0], np.nan, inplace=True)\n",
    "    df.natcrime.replace([8, 9, 0], np.nan, inplace=True)\n",
    "    df.income.replace([0, 13, 98, 99], np.nan, inplace=True)\n",
    "    df.realinc.replace([0], np.nan, inplace=True)                  # TODO: check this\n",
    "    df.educ.replace([98,99], np.nan, inplace=True)\n",
    "    df.polviews.replace([8, 9, 0], np.nan, inplace=True)\n",
    "    df.age.replace([98, 99], np.nan, inplace=True)               # 89 means 89 or older\n",
    "    df.hispanic.replace([98, 99, 0], np.nan, inplace=True)\n",
    "    df.cohort.replace([9999], np.nan, inplace=True)"
   ]
  },
  {
   "cell_type": "code",
   "execution_count": 4,
   "metadata": {
    "collapsed": true
   },
   "outputs": [],
   "source": [
    "def numnull(series):\n",
    "    return sum(series.isnull())"
   ]
  },
  {
   "cell_type": "code",
   "execution_count": 5,
   "metadata": {
    "collapsed": true
   },
   "outputs": [],
   "source": [
    "replace_invalid(gss)"
   ]
  },
  {
   "cell_type": "markdown",
   "metadata": {},
   "source": [
    "### Variable `gunlaw`\n",
    "\n",
    "Would you favor or oppose a law which would require a person to obtain a police permit before he or she could buy a gun?\n",
    "\n",
    "https://gssdataexplorer.norc.org/projects/41723/variables/272/vshow"
   ]
  },
  {
   "cell_type": "code",
   "execution_count": 6,
   "metadata": {},
   "outputs": [
    {
     "data": {
      "text/plain": [
       "21994"
      ]
     },
     "execution_count": 6,
     "metadata": {},
     "output_type": "execute_result"
    }
   ],
   "source": [
    "numnull(gss.gunlaw)"
   ]
  },
  {
   "cell_type": "code",
   "execution_count": 7,
   "metadata": {},
   "outputs": [
    {
     "data": {
      "text/plain": [
       "1.0    30936\n",
       "2.0     9536\n",
       "Name: gunlaw, dtype: int64"
      ]
     },
     "execution_count": 7,
     "metadata": {},
     "output_type": "execute_result"
    }
   ],
   "source": [
    "utils.values(gss, 'gunlaw')"
   ]
  },
  {
   "cell_type": "markdown",
   "metadata": {},
   "source": [
    "### Variable `owngun`\n",
    "\n",
    "Do you happen to have in your home (IF HOUSE: or garage) any guns or revolvers?\n",
    "\n",
    "https://gssdataexplorer.norc.org/projects/41723/variables/679/vshow"
   ]
  },
  {
   "cell_type": "code",
   "execution_count": 8,
   "metadata": {},
   "outputs": [
    {
     "data": {
      "text/plain": [
       "24826"
      ]
     },
     "execution_count": 8,
     "metadata": {},
     "output_type": "execute_result"
    }
   ],
   "source": [
    "numnull(gss.owngun)"
   ]
  },
  {
   "cell_type": "code",
   "execution_count": 9,
   "metadata": {
    "scrolled": false
   },
   "outputs": [
    {
     "data": {
      "text/plain": [
       "1.0    15122\n",
       "2.0    22518\n",
       "Name: owngun, dtype: int64"
      ]
     },
     "execution_count": 9,
     "metadata": {},
     "output_type": "execute_result"
    }
   ],
   "source": [
    "utils.values(gss, 'owngun')"
   ]
  },
  {
   "cell_type": "markdown",
   "metadata": {},
   "source": [
    "### Variable `gun`\n",
    "\n",
    "Have you ever been threatened with a gun, or shot at? \n",
    "\n",
    "https://gssdataexplorer.norc.org/projects/41723/variables/661/vshow"
   ]
  },
  {
   "cell_type": "code",
   "execution_count": 10,
   "metadata": {},
   "outputs": [
    {
     "data": {
      "text/plain": [
       "43138"
      ]
     },
     "execution_count": 10,
     "metadata": {},
     "output_type": "execute_result"
    }
   ],
   "source": [
    "numnull(gss.gun)"
   ]
  },
  {
   "cell_type": "code",
   "execution_count": 11,
   "metadata": {
    "scrolled": false
   },
   "outputs": [
    {
     "data": {
      "text/plain": [
       "1.0     3775\n",
       "2.0    15553\n",
       "Name: gun, dtype: int64"
      ]
     },
     "execution_count": 11,
     "metadata": {},
     "output_type": "execute_result"
    }
   ],
   "source": [
    "utils.values(gss, 'gun')"
   ]
  },
  {
   "cell_type": "markdown",
   "metadata": {},
   "source": [
    "### Variable `natcrime`\n",
    "\n",
    "We are faced with many problems in this country, none of which can be solved easily or inexpensively. I'm going to name some of these problems, and for each one I'd like you to name some of these problems, and for each one I'd like you to tell me whether you think we're spending too much money on it, too little money, or about the right amount. First (READ ITEM A) . . . are we spending too much, too little, or about the right amount on (ITEM)? \n",
    "E. Halting the rising crime rate\n",
    "\n",
    "[Note: the wording of this question assumes that crime rates are rising!]\n",
    "\n",
    "https://gssdataexplorer.norc.org/projects/41723/variables/185/vshow"
   ]
  },
  {
   "cell_type": "code",
   "execution_count": 12,
   "metadata": {},
   "outputs": [
    {
     "data": {
      "text/plain": [
       "28064"
      ]
     },
     "execution_count": 12,
     "metadata": {},
     "output_type": "execute_result"
    }
   ],
   "source": [
    "numnull(gss.natcrime)"
   ]
  },
  {
   "cell_type": "code",
   "execution_count": 13,
   "metadata": {
    "scrolled": false
   },
   "outputs": [
    {
     "data": {
      "text/plain": [
       "1.0    23200\n",
       "2.0     9099\n",
       "3.0     2103\n",
       "Name: natcrime, dtype: int64"
      ]
     },
     "execution_count": 13,
     "metadata": {},
     "output_type": "execute_result"
    }
   ],
   "source": [
    "utils.values(gss, 'natcrime')"
   ]
  },
  {
   "cell_type": "markdown",
   "metadata": {},
   "source": [
    "### Variable `income`\n",
    "\n",
    "In which of these groups did your total family income, from all sources, fall last year before taxes, that is?\n",
    "\n"
   ]
  },
  {
   "cell_type": "code",
   "execution_count": 14,
   "metadata": {},
   "outputs": [
    {
     "data": {
      "text/plain": [
       "7961"
      ]
     },
     "execution_count": 14,
     "metadata": {},
     "output_type": "execute_result"
    }
   ],
   "source": [
    "varname = 'income'\n",
    "numnull(gss[varname])"
   ]
  },
  {
   "cell_type": "code",
   "execution_count": 15,
   "metadata": {},
   "outputs": [
    {
     "data": {
      "text/plain": [
       "1.0       762\n",
       "2.0      1301\n",
       "3.0      1253\n",
       "4.0      1153\n",
       "5.0      1267\n",
       "6.0      1214\n",
       "7.0      1268\n",
       "8.0      2149\n",
       "9.0      6354\n",
       "10.0     4965\n",
       "11.0     5047\n",
       "12.0    27772\n",
       "Name: income, dtype: int64"
      ]
     },
     "execution_count": 15,
     "metadata": {},
     "output_type": "execute_result"
    }
   ],
   "source": [
    "utils.values(gss, varname)"
   ]
  },
  {
   "cell_type": "code",
   "execution_count": 16,
   "metadata": {
    "scrolled": false
   },
   "outputs": [
    {
     "data": {
      "text/plain": [
       "count    54505.000000\n",
       "mean        10.036492\n",
       "std          2.845831\n",
       "min          1.000000\n",
       "25%          9.000000\n",
       "50%         12.000000\n",
       "75%         12.000000\n",
       "max         12.000000\n",
       "Name: income, dtype: float64"
      ]
     },
     "execution_count": 16,
     "metadata": {},
     "output_type": "execute_result"
    }
   ],
   "source": [
    "gss[varname].describe()"
   ]
  },
  {
   "cell_type": "markdown",
   "metadata": {},
   "source": [
    "### Variable `realinc`\n",
    "\n",
    "Family income on 1972-2006 surveys in constant dollars (base = 1986)\n",
    "\n",
    "https://gssdataexplorer.norc.org/variables/5198/vshow\n"
   ]
  },
  {
   "cell_type": "code",
   "execution_count": 17,
   "metadata": {},
   "outputs": [
    {
     "data": {
      "text/plain": [
       "6325"
      ]
     },
     "execution_count": 17,
     "metadata": {},
     "output_type": "execute_result"
    }
   ],
   "source": [
    "varname = 'realinc'\n",
    "numnull(gss[varname])"
   ]
  },
  {
   "cell_type": "code",
   "execution_count": 18,
   "metadata": {
    "scrolled": false
   },
   "outputs": [
    {
     "data": {
      "text/plain": [
       "count     56141.000000\n",
       "mean      31636.199666\n",
       "std       29402.370825\n",
       "min         234.000000\n",
       "25%       12080.625000\n",
       "50%       24097.500000\n",
       "75%       39022.500000\n",
       "max      162607.000000\n",
       "Name: realinc, dtype: float64"
      ]
     },
     "execution_count": 18,
     "metadata": {},
     "output_type": "execute_result"
    }
   ],
   "source": [
    "gss[varname].describe()"
   ]
  },
  {
   "cell_type": "markdown",
   "metadata": {},
   "source": [
    "### Variable `educ`\n",
    "\n",
    "A. What is the highest grade in elementary school or high school that (you/your father/ your mother/your [husband/wife]) finished and got credit for? CODE EXACT GRADE. \n",
    "B. IF FINISHED 9th-12th GRADE OR DK*: Did (you/he/she) ever get a high school diploma or a GED certificate? [SEE D BELOW.] [See REMARKS] \n",
    "C. Did (you/he/she) complete one or more years of college for credit--not including schooling such as business college, technical or vocational school? IF YES: How many years did (you/he/she) complete? \n",
    "Do you (Does [he/she]) have any college degrees? (IF YES: What degree or degrees?) CODE HIGHEST DEGREE EARNED.\n",
    "\n",
    "https://gssdataexplorer.norc.org/projects/41723/variables/55/vshow\n"
   ]
  },
  {
   "cell_type": "code",
   "execution_count": 19,
   "metadata": {},
   "outputs": [
    {
     "data": {
      "text/plain": [
       "174"
      ]
     },
     "execution_count": 19,
     "metadata": {},
     "output_type": "execute_result"
    }
   ],
   "source": [
    "varname = 'educ'\n",
    "numnull(gss[varname])"
   ]
  },
  {
   "cell_type": "code",
   "execution_count": 20,
   "metadata": {
    "scrolled": false
   },
   "outputs": [
    {
     "data": {
      "text/plain": [
       "0.0       161\n",
       "1.0        45\n",
       "2.0       148\n",
       "3.0       247\n",
       "4.0       314\n",
       "5.0       399\n",
       "6.0       808\n",
       "7.0       871\n",
       "8.0      2689\n",
       "9.0      2032\n",
       "10.0     2815\n",
       "11.0     3648\n",
       "12.0    19006\n",
       "13.0     5177\n",
       "14.0     6847\n",
       "15.0     2783\n",
       "16.0     7925\n",
       "17.0     1870\n",
       "18.0     2265\n",
       "19.0      875\n",
       "20.0     1367\n",
       "Name: educ, dtype: int64"
      ]
     },
     "execution_count": 20,
     "metadata": {},
     "output_type": "execute_result"
    }
   ],
   "source": [
    "utils.values(gss, varname)"
   ]
  },
  {
   "cell_type": "markdown",
   "metadata": {},
   "source": [
    "### Variable `polviews`\n",
    "\n",
    "\n",
    "A. We hear a lot of talk these days about liberals and conservatives. \n",
    "I'm going to show you a seven-point scale on which the political views that people might hold are arranged from extremely liberal--point 1--to extremely conservative--point 7. Where would you place yourself on this scale?\n",
    "\n",
    "https://gssdataexplorer.norc.org/projects/41723/variables/178/vshow"
   ]
  },
  {
   "cell_type": "code",
   "execution_count": 21,
   "metadata": {},
   "outputs": [
    {
     "data": {
      "text/plain": [
       "9385"
      ]
     },
     "execution_count": 21,
     "metadata": {},
     "output_type": "execute_result"
    }
   ],
   "source": [
    "varname = 'polviews'\n",
    "numnull(gss[varname])"
   ]
  },
  {
   "cell_type": "code",
   "execution_count": 22,
   "metadata": {},
   "outputs": [
    {
     "data": {
      "text/plain": [
       "1.0     1560\n",
       "2.0     6236\n",
       "3.0     6754\n",
       "4.0    20515\n",
       "5.0     8407\n",
       "6.0     7876\n",
       "7.0     1733\n",
       "Name: polviews, dtype: int64"
      ]
     },
     "execution_count": 22,
     "metadata": {},
     "output_type": "execute_result"
    }
   ],
   "source": [
    "utils.values(gss, varname)"
   ]
  },
  {
   "cell_type": "markdown",
   "metadata": {},
   "source": [
    "### Age \n",
    "\n",
    "https://gssdataexplorer.norc.org/projects/29853/variables/53/vshow"
   ]
  },
  {
   "cell_type": "code",
   "execution_count": 23,
   "metadata": {},
   "outputs": [
    {
     "data": {
      "text/plain": [
       "221"
      ]
     },
     "execution_count": 23,
     "metadata": {},
     "output_type": "execute_result"
    }
   ],
   "source": [
    "numnull(gss.age)"
   ]
  },
  {
   "cell_type": "code",
   "execution_count": 24,
   "metadata": {},
   "outputs": [
    {
     "data": {
      "image/png": "[encoded data removed]",
      "text/plain": [
       "<matplotlib.figure.Figure at 0x7efd12434518>"
      ]
     },
     "metadata": {},
     "output_type": "display_data"
    }
   ],
   "source": [
    "thinkplot.Cdf(thinkstats2.Cdf(gss.age))\n",
    "thinkplot.Config(xlabel='Age', ylabel='CDF')"
   ]
  },
  {
   "cell_type": "markdown",
   "metadata": {},
   "source": [
    "### Year of birth \n",
    "\n",
    "https://gssdataexplorer.norc.org/projects/29853/variables/5507/vshow"
   ]
  },
  {
   "cell_type": "code",
   "execution_count": 25,
   "metadata": {},
   "outputs": [
    {
     "data": {
      "text/plain": [
       "221"
      ]
     },
     "execution_count": 25,
     "metadata": {},
     "output_type": "execute_result"
    }
   ],
   "source": [
    "numnull(gss.cohort)"
   ]
  },
  {
   "cell_type": "code",
   "execution_count": 26,
   "metadata": {
    "scrolled": true
   },
   "outputs": [
    {
     "data": {
      "image/png": "[encoded data removed]",
      "text/plain": [
       "<matplotlib.figure.Figure at 0x7efd15125048>"
      ]
     },
     "metadata": {},
     "output_type": "display_data"
    }
   ],
   "source": [
    "thinkplot.Cdf(thinkstats2.Cdf(gss.cohort))\n",
    "thinkplot.Config(xlabel='Year of birth', ylabel='CDF')"
   ]
  },
  {
   "cell_type": "markdown",
   "metadata": {},
   "source": [
    "### Sex \n",
    "\n",
    "https://gssdataexplorer.norc.org/projects/41723/variables/81/vshow"
   ]
  },
  {
   "cell_type": "code",
   "execution_count": 27,
   "metadata": {},
   "outputs": [
    {
     "data": {
      "text/plain": [
       "0"
      ]
     },
     "execution_count": 27,
     "metadata": {},
     "output_type": "execute_result"
    }
   ],
   "source": [
    "numnull(gss.sex)"
   ]
  },
  {
   "cell_type": "code",
   "execution_count": 28,
   "metadata": {
    "scrolled": true
   },
   "outputs": [
    {
     "data": {
      "text/plain": [
       "1    27562\n",
       "2    34904\n",
       "Name: sex, dtype: int64"
      ]
     },
     "execution_count": 28,
     "metadata": {},
     "output_type": "execute_result"
    }
   ],
   "source": [
    "utils.values(gss, 'sex')"
   ]
  },
  {
   "cell_type": "markdown",
   "metadata": {},
   "source": [
    "### Race\n",
    "\n",
    "https://gssdataexplorer.norc.org/projects/41723/variables/82/vshow\n",
    "\n",
    "CODE WITHOUT ASKING ONLY IF THERE IS NO DOUBT IN YOUR MIND. \n",
    "What race do you consider yourself? RECORD VERBATIM AND CODE."
   ]
  },
  {
   "cell_type": "code",
   "execution_count": 29,
   "metadata": {},
   "outputs": [
    {
     "data": {
      "text/plain": [
       "0"
      ]
     },
     "execution_count": 29,
     "metadata": {},
     "output_type": "execute_result"
    }
   ],
   "source": [
    "numnull(gss.race)"
   ]
  },
  {
   "cell_type": "code",
   "execution_count": 30,
   "metadata": {
    "scrolled": false
   },
   "outputs": [
    {
     "data": {
      "text/plain": [
       "1    50340\n",
       "2     8802\n",
       "3     3324\n",
       "Name: race, dtype: int64"
      ]
     },
     "execution_count": 30,
     "metadata": {},
     "output_type": "execute_result"
    }
   ],
   "source": [
    "utils.values(gss, 'race')"
   ]
  },
  {
   "cell_type": "markdown",
   "metadata": {},
   "source": [
    "### Hispanic \n",
    "\n"
   ]
  },
  {
   "cell_type": "code",
   "execution_count": 31,
   "metadata": {
    "scrolled": true
   },
   "outputs": [
    {
     "data": {
      "text/plain": [
       "38149"
      ]
     },
     "execution_count": 31,
     "metadata": {},
     "output_type": "execute_result"
    }
   ],
   "source": [
    "numnull(gss.hispanic)"
   ]
  },
  {
   "cell_type": "code",
   "execution_count": 32,
   "metadata": {},
   "outputs": [
    {
     "data": {
      "text/plain": [
       "1.0     21571\n",
       "2.0      1661\n",
       "3.0       346\n",
       "4.0       115\n",
       "5.0        91\n",
       "6.0        52\n",
       "7.0        14\n",
       "8.0        18\n",
       "9.0         3\n",
       "10.0       25\n",
       "11.0       38\n",
       "15.0       63\n",
       "16.0        1\n",
       "20.0       27\n",
       "21.0       32\n",
       "22.0       37\n",
       "23.0       13\n",
       "24.0       12\n",
       "25.0        3\n",
       "30.0      121\n",
       "31.0        2\n",
       "35.0        7\n",
       "40.0        5\n",
       "41.0       21\n",
       "42.0        1\n",
       "45.0        3\n",
       "46.0       12\n",
       "47.0       13\n",
       "50.0       10\n",
       "Name: hispanic, dtype: int64"
      ]
     },
     "execution_count": 32,
     "metadata": {},
     "output_type": "execute_result"
    }
   ],
   "source": [
    "utils.values(gss, 'hispanic')"
   ]
  },
  {
   "cell_type": "markdown",
   "metadata": {},
   "source": [
    "### srcbelt\n",
    "\n",
    "C. SRC (SURVEY RESEARCH CENTER, UNIVERSITY OF MICHIGAN) NEW BELT CODE\n",
    "\n",
    "https://gssdataexplorer.norc.org/projects/41723/variables/121/vshow"
   ]
  },
  {
   "cell_type": "code",
   "execution_count": 33,
   "metadata": {},
   "outputs": [
    {
     "data": {
      "text/plain": [
       "0"
      ]
     },
     "execution_count": 33,
     "metadata": {},
     "output_type": "execute_result"
    }
   ],
   "source": [
    "numnull(gss.srcbelt)"
   ]
  },
  {
   "cell_type": "code",
   "execution_count": 34,
   "metadata": {
    "scrolled": true
   },
   "outputs": [
    {
     "data": {
      "text/plain": [
       "1     5572\n",
       "2     8670\n",
       "3     7113\n",
       "4     9348\n",
       "5    23583\n",
       "6     8180\n",
       "Name: srcbelt, dtype: int64"
      ]
     },
     "execution_count": 34,
     "metadata": {},
     "output_type": "execute_result"
    }
   ],
   "source": [
    "utils.values(gss, 'srcbelt')"
   ]
  },
  {
   "cell_type": "markdown",
   "metadata": {},
   "source": [
    "### Make age and cohort groups"
   ]
  },
  {
   "cell_type": "markdown",
   "metadata": {},
   "source": [
    "Group people into 5- and 10-year bins by birth year."
   ]
  },
  {
   "cell_type": "code",
   "execution_count": 35,
   "metadata": {
    "collapsed": true
   },
   "outputs": [],
   "source": [
    "gss['cohort5'] = utils.RoundIntoBins(gss, 'cohort', 5, low=2) + 2.5"
   ]
  },
  {
   "cell_type": "code",
   "execution_count": 36,
   "metadata": {},
   "outputs": [
    {
     "data": {
      "text/plain": [
       "cohort5\n",
       "1884.5      15\n",
       "1889.5      85\n",
       "1894.5     216\n",
       "1899.5     443\n",
       "1904.5     722\n",
       "1909.5    1089\n",
       "1914.5    1500\n",
       "1919.5    1837\n",
       "1924.5    2145\n",
       "1929.5    2146\n",
       "1934.5    2328\n",
       "1939.5    2616\n",
       "1944.5    3336\n",
       "1949.5    4254\n",
       "1954.5    4150\n",
       "1959.5    3717\n",
       "1964.5    2935\n",
       "1969.5    2230\n",
       "1974.5    1644\n",
       "1979.5    1266\n",
       "1984.5     879\n",
       "1989.5     560\n",
       "1994.5     213\n",
       "1999.5      14\n",
       "2004.5     132\n",
       "Name: gunlaw, dtype: int64"
      ]
     },
     "execution_count": 36,
     "metadata": {},
     "output_type": "execute_result"
    }
   ],
   "source": [
    "grouped_cohort = gss.groupby(['cohort5'])\n",
    "counts = grouped_cohort.gunlaw.count()           # count cases where we have the dependent var\n",
    "counts"
   ]
  },
  {
   "cell_type": "markdown",
   "metadata": {},
   "source": [
    "To avoid a final data point with a small sample size, I chose `low` to minimize the number of people in the last group, and I've lumped them in with the previous group."
   ]
  },
  {
   "cell_type": "code",
   "execution_count": 37,
   "metadata": {
    "collapsed": true
   },
   "outputs": [],
   "source": [
    "gss.loc[gss.cohort5==1999.5, 'cohort5'] = 1994.5\n",
    "gss.loc[gss.cohort5<1894, 'cohort5'] = 1894.5"
   ]
  },
  {
   "cell_type": "code",
   "execution_count": 38,
   "metadata": {},
   "outputs": [
    {
     "data": {
      "text/plain": [
       "cohort5\n",
       "1894.5     316\n",
       "1899.5     443\n",
       "1904.5     722\n",
       "1909.5    1089\n",
       "1914.5    1500\n",
       "1919.5    1837\n",
       "1924.5    2145\n",
       "1929.5    2146\n",
       "1934.5    2328\n",
       "1939.5    2616\n",
       "1944.5    3336\n",
       "1949.5    4254\n",
       "1954.5    4150\n",
       "1959.5    3717\n",
       "1964.5    2935\n",
       "1969.5    2230\n",
       "1974.5    1644\n",
       "1979.5    1266\n",
       "1984.5     879\n",
       "1989.5     560\n",
       "1994.5     227\n",
       "2004.5     132\n",
       "Name: gunlaw, dtype: int64"
      ]
     },
     "execution_count": 38,
     "metadata": {},
     "output_type": "execute_result"
    }
   ],
   "source": [
    "grouped_cohort = gss.groupby(['cohort5'])\n",
    "counts = grouped_cohort.gunlaw.count()\n",
    "counts"
   ]
  },
  {
   "cell_type": "code",
   "execution_count": 39,
   "metadata": {
    "collapsed": true
   },
   "outputs": [],
   "source": [
    "gss['cohort10'] = utils.RoundIntoBins(gss, 'cohort', 10)"
   ]
  },
  {
   "cell_type": "code",
   "execution_count": 40,
   "metadata": {},
   "outputs": [
    {
     "data": {
      "text/plain": [
       "cohort10\n",
       "1880.0      53\n",
       "1890.0     502\n",
       "1900.0    1563\n",
       "1910.0    3024\n",
       "1920.0    4212\n",
       "1930.0    4703\n",
       "1940.0    6929\n",
       "1950.0    8212\n",
       "1960.0    5721\n",
       "1970.0    3278\n",
       "1980.0    1750\n",
       "1990.0     393\n",
       "2000.0     132\n",
       "Name: gunlaw, dtype: int64"
      ]
     },
     "execution_count": 40,
     "metadata": {},
     "output_type": "execute_result"
    }
   ],
   "source": [
    "grouped_cohort = gss.groupby(['cohort10'])\n",
    "counts = grouped_cohort.gunlaw.count()\n",
    "counts"
   ]
  },
  {
   "cell_type": "markdown",
   "metadata": {},
   "source": [
    "Here's the number of respondents in each year."
   ]
  },
  {
   "cell_type": "code",
   "execution_count": 41,
   "metadata": {},
   "outputs": [
    {
     "data": {
      "text/plain": [
       "1972    1613\n",
       "1973    1504\n",
       "1974    1484\n",
       "1975    1490\n",
       "1976    1499\n",
       "1977    1530\n",
       "1978    1532\n",
       "1980    1468\n",
       "1982    1860\n",
       "1983    1599\n",
       "1984    1473\n",
       "1985    1534\n",
       "1986    1470\n",
       "1987    1819\n",
       "1988    1481\n",
       "1989    1537\n",
       "1990    1372\n",
       "1991    1517\n",
       "1993    1606\n",
       "1994    2992\n",
       "1996    2904\n",
       "1998    2832\n",
       "2000    2817\n",
       "2002    2765\n",
       "2004    2812\n",
       "2006    4510\n",
       "2008    2023\n",
       "2010    2044\n",
       "2012    1974\n",
       "2014    2538\n",
       "2016    2867\n",
       "Name: year, dtype: int64"
      ]
     },
     "execution_count": 41,
     "metadata": {},
     "output_type": "execute_result"
    }
   ],
   "source": [
    "utils.values(gss, 'year')"
   ]
  },
  {
   "cell_type": "markdown",
   "metadata": {},
   "source": [
    "Group into 4 year intervals, chosen to get 2014 and 2016 into the last bin."
   ]
  },
  {
   "cell_type": "code",
   "execution_count": 42,
   "metadata": {},
   "outputs": [
    {
     "data": {
      "text/plain": [
       "1971    3117\n",
       "1975    6003\n",
       "1979    3000\n",
       "1983    6466\n",
       "1987    6307\n",
       "1991    4495\n",
       "1995    5896\n",
       "1999    5649\n",
       "2003    5577\n",
       "2007    6533\n",
       "2011    4018\n",
       "2015    5405\n",
       "Name: year4, dtype: int64"
      ]
     },
     "execution_count": 42,
     "metadata": {},
     "output_type": "execute_result"
    }
   ],
   "source": [
    "gss['year4'] = utils.RoundIntoBins(gss, 'year', 4, low=1970) + 1\n",
    "utils.values(gss, 'year4')"
   ]
  },
  {
   "cell_type": "markdown",
   "metadata": {},
   "source": [
    "Group people into 5 and 3-year age groups."
   ]
  },
  {
   "cell_type": "code",
   "execution_count": 43,
   "metadata": {},
   "outputs": [
    {
     "data": {
      "text/plain": [
       "17.5    1054\n",
       "22.5    5283\n",
       "27.5    6663\n",
       "32.5    6784\n",
       "37.5    6475\n",
       "42.5    5924\n",
       "47.5    5375\n",
       "52.5    5007\n",
       "57.5    4530\n",
       "62.5    4047\n",
       "67.5    3612\n",
       "72.5    2955\n",
       "77.5    2207\n",
       "82.5    1381\n",
       "87.5     948\n",
       "92.5     221\n",
       "Name: age5, dtype: int64"
      ]
     },
     "execution_count": 43,
     "metadata": {},
     "output_type": "execute_result"
    }
   ],
   "source": [
    "gss['age5'] = utils.RoundIntoBins(gss, 'age', 5) + 2.5\n",
    "utils.values(gss, 'age5')"
   ]
  },
  {
   "cell_type": "code",
   "execution_count": 44,
   "metadata": {},
   "outputs": [
    {
     "data": {
      "text/plain": [
       "19.5    1924\n",
       "22.5    3238\n",
       "25.5    3815\n",
       "28.5    4023\n",
       "31.5    4094\n",
       "34.5    4033\n",
       "37.5    3951\n",
       "40.5    3609\n",
       "43.5    3496\n",
       "46.5    3217\n",
       "49.5    3178\n",
       "52.5    3019\n",
       "55.5    2817\n",
       "58.5    2681\n",
       "61.5    2538\n",
       "64.5    2289\n",
       "67.5    2184\n",
       "70.5    1913\n",
       "73.5    1690\n",
       "76.5    1418\n",
       "79.5    1114\n",
       "82.5     840\n",
       "85.5     573\n",
       "88.5     591\n",
       "91.5     221\n",
       "Name: age3, dtype: int64"
      ]
     },
     "execution_count": 44,
     "metadata": {},
     "output_type": "execute_result"
    }
   ],
   "source": [
    "gss['age3'] = utils.RoundIntoBins(gss, 'age', 3, low=0) + 1.5\n",
    "utils.values(gss, 'age3')"
   ]
  },
  {
   "cell_type": "markdown",
   "metadata": {},
   "source": [
    "### Make booleans"
   ]
  },
  {
   "cell_type": "code",
   "execution_count": 45,
   "metadata": {
    "collapsed": true
   },
   "outputs": [],
   "source": [
    "def copy_nan(df, varname, newvar):\n",
    "    df.loc[df[varname].isnull(), newvar] = np.nan"
   ]
  },
  {
   "cell_type": "code",
   "execution_count": 46,
   "metadata": {
    "collapsed": true
   },
   "outputs": [],
   "source": [
    "def make_boolean(df, varname, values, newvar):\n",
    "    \"\"\"Make a boolean variable.\n",
    "    \n",
    "    df: DataFrame\n",
    "    varname: name of base variable\n",
    "    values: sequence of values for varname\n",
    "    newvar: name of new variable (recode)\n",
    "    \"\"\"\n",
    "    #assert numnull(df[varname]) == 0\n",
    "    df[newvar] = df[varname].isin(values)\n",
    "    copy_nan(df, varname, newvar)"
   ]
  },
  {
   "cell_type": "code",
   "execution_count": 47,
   "metadata": {
    "collapsed": true
   },
   "outputs": [],
   "source": [
    "def make_booleans(df):\n",
    "    df['cohort10'] = utils.RoundIntoBins(df, 'cohort', 10)\n",
    "    make_boolean(df, 'cohort10', [1920], 'twenties')\n",
    "    make_boolean(df, 'cohort10', [1930], 'thirties')\n",
    "    make_boolean(df, 'cohort10', [1940], 'forties')\n",
    "    make_boolean(df, 'cohort10', [1950], 'fifties')\n",
    "    make_boolean(df, 'cohort10', [1960], 'sixties')\n",
    "    make_boolean(df, 'cohort10', [1970], 'seventies')\n",
    "    make_boolean(df, 'cohort10', [1980], 'eighties')\n",
    "    make_boolean(df, 'cohort10', [1990], 'nineties')\n",
    "    make_boolean(df, 'gunlaw', [1.0], 'favor')\n",
    "    make_boolean(df, 'owngun', [1.0], 'gunhome')\n",
    "    make_boolean(df, 'gun', [1.0], 'threatened')\n",
    "    make_boolean(df, 'natcrime', [1.0], 'spendcrime')\n",
    "    make_boolean(df, 'income', [12], 'topincome')\n",
    "    make_boolean(df, 'income', [1,2,3,4,5,6,7,8], 'lowincome')\n",
    "    make_boolean(df, 'polviews', [1,2,3], 'liberal')\n",
    "    make_boolean(df, 'polviews', [4], 'moderate')\n",
    "    make_boolean(df, 'polviews', [6,7,8], 'conservative')\n",
    "    make_boolean(df, 'sex', [2], 'female')\n",
    "    make_boolean(df, 'hispanic', [2], 'ishisp')\n",
    "    make_boolean(df, 'race', [2], 'black')\n",
    "    make_boolean(df, 'race', [3], 'otherrace')\n",
    "    make_boolean(df, 'srcbelt', [1,2,5], 'urban')\n",
    "    make_boolean(df, 'srcbelt', [3,4], 'suburban')\n",
    "    make_boolean(df, 'srcbelt', [6], 'rural')\n",
    "\n",
    "    df['college'] = df['educ'] >= 13 \n",
    "    copy_nan(df, 'educ', 'college')\n",
    "    \n",
    "    per25 = df['realinc'].quantile(0.25)\n",
    "    df['lowrealinc'] = df['realinc'] <= per25 \n",
    "    copy_nan(df, 'realinc', 'lowrealinc')\n",
    "\n",
    "    per75 = df['realinc'].quantile(0.75)\n",
    "    df['highrealinc'] = df['realinc'] >= per75 \n",
    "    copy_nan(df, 'realinc', 'highrealinc')\n",
    "\n",
    "make_booleans(gss)"
   ]
  },
  {
   "cell_type": "markdown",
   "metadata": {},
   "source": [
    "### Resample"
   ]
  },
  {
   "cell_type": "code",
   "execution_count": 48,
   "metadata": {},
   "outputs": [
    {
     "data": {
      "text/plain": [
       "(62466, 56)"
      ]
     },
     "execution_count": 48,
     "metadata": {},
     "output_type": "execute_result"
    }
   ],
   "source": [
    "sample = utils.ResampleByYear(gss).copy()\n",
    "sample.shape"
   ]
  },
  {
   "cell_type": "code",
   "execution_count": 49,
   "metadata": {},
   "outputs": [
    {
     "data": {
      "text/plain": [
       "0.0    56638\n",
       "1.0     5828\n",
       "Name: twenties, dtype: int64"
      ]
     },
     "execution_count": 49,
     "metadata": {},
     "output_type": "execute_result"
    }
   ],
   "source": [
    "utils.values(sample, 'twenties')"
   ]
  },
  {
   "cell_type": "code",
   "execution_count": 50,
   "metadata": {},
   "outputs": [
    {
     "data": {
      "text/plain": [
       "0.0    55559\n",
       "1.0     6907\n",
       "Name: thirties, dtype: int64"
      ]
     },
     "execution_count": 50,
     "metadata": {},
     "output_type": "execute_result"
    }
   ],
   "source": [
    "utils.values(sample, 'thirties')"
   ]
  },
  {
   "cell_type": "code",
   "execution_count": 51,
   "metadata": {},
   "outputs": [
    {
     "data": {
      "text/plain": [
       "0.0    52366\n",
       "1.0    10100\n",
       "Name: forties, dtype: int64"
      ]
     },
     "execution_count": 51,
     "metadata": {},
     "output_type": "execute_result"
    }
   ],
   "source": [
    "utils.values(sample, 'forties')"
   ]
  },
  {
   "cell_type": "code",
   "execution_count": 52,
   "metadata": {},
   "outputs": [
    {
     "data": {
      "text/plain": [
       "0.0    49536\n",
       "1.0    12930\n",
       "Name: fifties, dtype: int64"
      ]
     },
     "execution_count": 52,
     "metadata": {},
     "output_type": "execute_result"
    }
   ],
   "source": [
    "utils.values(sample, 'fifties')"
   ]
  },
  {
   "cell_type": "code",
   "execution_count": 53,
   "metadata": {},
   "outputs": [
    {
     "data": {
      "text/plain": [
       "0.0    52391\n",
       "1.0    10075\n",
       "Name: sixties, dtype: int64"
      ]
     },
     "execution_count": 53,
     "metadata": {},
     "output_type": "execute_result"
    }
   ],
   "source": [
    "utils.values(sample, 'sixties')"
   ]
  },
  {
   "cell_type": "code",
   "execution_count": 54,
   "metadata": {},
   "outputs": [
    {
     "data": {
      "text/plain": [
       "0.0    56195\n",
       "1.0     6271\n",
       "Name: seventies, dtype: int64"
      ]
     },
     "execution_count": 54,
     "metadata": {},
     "output_type": "execute_result"
    }
   ],
   "source": [
    "utils.values(sample, 'seventies')"
   ]
  },
  {
   "cell_type": "code",
   "execution_count": 55,
   "metadata": {},
   "outputs": [
    {
     "data": {
      "text/plain": [
       "0.0    59112\n",
       "1.0     3354\n",
       "Name: eighties, dtype: int64"
      ]
     },
     "execution_count": 55,
     "metadata": {},
     "output_type": "execute_result"
    }
   ],
   "source": [
    "utils.values(sample, 'eighties')"
   ]
  },
  {
   "cell_type": "code",
   "execution_count": 56,
   "metadata": {},
   "outputs": [
    {
     "data": {
      "text/plain": [
       "0.0    61576\n",
       "1.0      890\n",
       "Name: nineties, dtype: int64"
      ]
     },
     "execution_count": 56,
     "metadata": {},
     "output_type": "execute_result"
    }
   ],
   "source": [
    "utils.values(sample, 'nineties')"
   ]
  },
  {
   "cell_type": "code",
   "execution_count": 57,
   "metadata": {},
   "outputs": [
    {
     "data": {
      "text/plain": [
       "0.0     9566\n",
       "1.0    30858\n",
       "Name: favor, dtype: int64"
      ]
     },
     "execution_count": 57,
     "metadata": {},
     "output_type": "execute_result"
    }
   ],
   "source": [
    "utils.values(sample, 'favor')"
   ]
  },
  {
   "cell_type": "code",
   "execution_count": 58,
   "metadata": {},
   "outputs": [
    {
     "data": {
      "text/plain": [
       "0.0    21586\n",
       "1.0    15925\n",
       "Name: gunhome, dtype: int64"
      ]
     },
     "execution_count": 58,
     "metadata": {},
     "output_type": "execute_result"
    }
   ],
   "source": [
    "utils.values(sample, 'gunhome')"
   ]
  },
  {
   "cell_type": "code",
   "execution_count": 59,
   "metadata": {},
   "outputs": [
    {
     "data": {
      "text/plain": [
       "0.0    15557\n",
       "1.0     3785\n",
       "Name: threatened, dtype: int64"
      ]
     },
     "execution_count": 59,
     "metadata": {},
     "output_type": "execute_result"
    }
   ],
   "source": [
    "utils.values(sample, 'threatened')"
   ]
  },
  {
   "cell_type": "code",
   "execution_count": 60,
   "metadata": {},
   "outputs": [
    {
     "data": {
      "text/plain": [
       "0.0    11154\n",
       "1.0    23235\n",
       "Name: spendcrime, dtype: int64"
      ]
     },
     "execution_count": 60,
     "metadata": {},
     "output_type": "execute_result"
    }
   ],
   "source": [
    "utils.values(sample, 'spendcrime')"
   ]
  },
  {
   "cell_type": "code",
   "execution_count": 61,
   "metadata": {},
   "outputs": [
    {
     "data": {
      "text/plain": [
       "0.0    23941\n",
       "1.0    29953\n",
       "Name: topincome, dtype: int64"
      ]
     },
     "execution_count": 61,
     "metadata": {},
     "output_type": "execute_result"
    }
   ],
   "source": [
    "utils.values(sample, 'topincome')"
   ]
  },
  {
   "cell_type": "code",
   "execution_count": 62,
   "metadata": {
    "scrolled": false
   },
   "outputs": [
    {
     "data": {
      "text/plain": [
       "0.0    45399\n",
       "1.0     8495\n",
       "Name: lowincome, dtype: int64"
      ]
     },
     "execution_count": 62,
     "metadata": {},
     "output_type": "execute_result"
    }
   ],
   "source": [
    "utils.values(sample, 'lowincome')"
   ]
  },
  {
   "cell_type": "code",
   "execution_count": 63,
   "metadata": {},
   "outputs": [
    {
     "data": {
      "text/plain": [
       "0.0    44106\n",
       "1.0    11446\n",
       "Name: lowrealinc, dtype: int64"
      ]
     },
     "execution_count": 63,
     "metadata": {},
     "output_type": "execute_result"
    }
   ],
   "source": [
    "utils.values(sample, 'lowrealinc')"
   ]
  },
  {
   "cell_type": "code",
   "execution_count": 64,
   "metadata": {
    "scrolled": false
   },
   "outputs": [
    {
     "data": {
      "text/plain": [
       "0.0    39111\n",
       "1.0    16441\n",
       "Name: highrealinc, dtype: int64"
      ]
     },
     "execution_count": 64,
     "metadata": {},
     "output_type": "execute_result"
    }
   ],
   "source": [
    "utils.values(sample, 'highrealinc')"
   ]
  },
  {
   "cell_type": "code",
   "execution_count": 65,
   "metadata": {},
   "outputs": [
    {
     "data": {
      "text/plain": [
       "0.0    38798\n",
       "1.0    14420\n",
       "Name: liberal, dtype: int64"
      ]
     },
     "execution_count": 65,
     "metadata": {},
     "output_type": "execute_result"
    }
   ],
   "source": [
    "utils.values(sample, 'liberal')"
   ]
  },
  {
   "cell_type": "code",
   "execution_count": 66,
   "metadata": {},
   "outputs": [
    {
     "data": {
      "text/plain": [
       "0.0    32421\n",
       "1.0    20797\n",
       "Name: moderate, dtype: int64"
      ]
     },
     "execution_count": 66,
     "metadata": {},
     "output_type": "execute_result"
    }
   ],
   "source": [
    "utils.values(sample, 'moderate')"
   ]
  },
  {
   "cell_type": "code",
   "execution_count": 67,
   "metadata": {},
   "outputs": [
    {
     "data": {
      "text/plain": [
       "0.0    43681\n",
       "1.0     9537\n",
       "Name: conservative, dtype: int64"
      ]
     },
     "execution_count": 67,
     "metadata": {},
     "output_type": "execute_result"
    }
   ],
   "source": [
    "utils.values(sample, 'conservative')"
   ]
  },
  {
   "cell_type": "code",
   "execution_count": 68,
   "metadata": {},
   "outputs": [
    {
     "data": {
      "text/plain": [
       "0.0    28486\n",
       "1.0    33980\n",
       "Name: female, dtype: int64"
      ]
     },
     "execution_count": 68,
     "metadata": {},
     "output_type": "execute_result"
    }
   ],
   "source": [
    "utils.values(sample, 'female')"
   ]
  },
  {
   "cell_type": "code",
   "execution_count": 69,
   "metadata": {},
   "outputs": [
    {
     "data": {
      "text/plain": [
       "0.0    22488\n",
       "1.0     1817\n",
       "Name: ishisp, dtype: int64"
      ]
     },
     "execution_count": 69,
     "metadata": {},
     "output_type": "execute_result"
    }
   ],
   "source": [
    "utils.values(sample, 'ishisp')"
   ]
  },
  {
   "cell_type": "code",
   "execution_count": 70,
   "metadata": {},
   "outputs": [
    {
     "data": {
      "text/plain": [
       "0.0    54066\n",
       "1.0     8400\n",
       "Name: black, dtype: int64"
      ]
     },
     "execution_count": 70,
     "metadata": {},
     "output_type": "execute_result"
    }
   ],
   "source": [
    "utils.values(sample, 'black')"
   ]
  },
  {
   "cell_type": "code",
   "execution_count": 71,
   "metadata": {},
   "outputs": [
    {
     "data": {
      "text/plain": [
       "0.0    58707\n",
       "1.0     3759\n",
       "Name: otherrace, dtype: int64"
      ]
     },
     "execution_count": 71,
     "metadata": {},
     "output_type": "execute_result"
    }
   ],
   "source": [
    "utils.values(sample, 'otherrace')"
   ]
  },
  {
   "cell_type": "code",
   "execution_count": 72,
   "metadata": {},
   "outputs": [
    {
     "data": {
      "text/plain": [
       "0.0    25263\n",
       "1.0    37203\n",
       "Name: urban, dtype: int64"
      ]
     },
     "execution_count": 72,
     "metadata": {},
     "output_type": "execute_result"
    }
   ],
   "source": [
    "utils.values(sample, 'urban')"
   ]
  },
  {
   "cell_type": "code",
   "execution_count": 73,
   "metadata": {},
   "outputs": [
    {
     "data": {
      "text/plain": [
       "0.0    45311\n",
       "1.0    17155\n",
       "Name: suburban, dtype: int64"
      ]
     },
     "execution_count": 73,
     "metadata": {},
     "output_type": "execute_result"
    }
   ],
   "source": [
    "utils.values(sample, 'suburban')"
   ]
  },
  {
   "cell_type": "code",
   "execution_count": 74,
   "metadata": {},
   "outputs": [
    {
     "data": {
      "text/plain": [
       "0.0    54358\n",
       "1.0     8108\n",
       "Name: rural, dtype: int64"
      ]
     },
     "execution_count": 74,
     "metadata": {},
     "output_type": "execute_result"
    }
   ],
   "source": [
    "utils.values(sample, 'rural')"
   ]
  },
  {
   "cell_type": "code",
   "execution_count": 75,
   "metadata": {
    "scrolled": true
   },
   "outputs": [
    {
     "data": {
      "text/plain": [
       "0.0    33356\n",
       "1.0    28940\n",
       "Name: college, dtype: int64"
      ]
     },
     "execution_count": 75,
     "metadata": {},
     "output_type": "execute_result"
    }
   ],
   "source": [
    "utils.values(sample, 'college')"
   ]
  },
  {
   "cell_type": "markdown",
   "metadata": {},
   "source": [
    "### Look at trends"
   ]
  },
  {
   "cell_type": "code",
   "execution_count": 76,
   "metadata": {
    "collapsed": true
   },
   "outputs": [],
   "source": [
    "def plot_series(grouped, varname, **options):\n",
    "    series = grouped[varname].mean() * 100\n",
    "    thinkplot.plot(series.dropna(), **options, label=varname)\n",
    "    thinkplot.config(xlabel='Year of survey', \n",
    "                     ylabel='Percent',\n",
    "                     xlim=[1971, 2017])"
   ]
  },
  {
   "cell_type": "code",
   "execution_count": 77,
   "metadata": {
    "collapsed": true
   },
   "outputs": [],
   "source": [
    "grouped_year4 = sample.groupby('year4')"
   ]
  },
  {
   "cell_type": "code",
   "execution_count": 78,
   "metadata": {},
   "outputs": [
    {
     "data": {
      "image/png": "[encoded data removed]",
      "text/plain": [
       "<matplotlib.figure.Figure at 0x7efd150a49b0>"
      ]
     },
     "metadata": {},
     "output_type": "display_data"
    }
   ],
   "source": [
    "plot_series(grouped_year4, 'nineties')\n",
    "plot_series(grouped_year4, 'eighties')\n",
    "plot_series(grouped_year4, 'seventies')\n",
    "plot_series(grouped_year4, 'sixties')\n",
    "plot_series(grouped_year4, 'fifties')"
   ]
  },
  {
   "cell_type": "code",
   "execution_count": 79,
   "metadata": {},
   "outputs": [
    {
     "data": {
      "image/png": "[encoded data removed]",
      "text/plain": [
       "<matplotlib.figure.Figure at 0x7efd14ff1048>"
      ]
     },
     "metadata": {},
     "output_type": "display_data"
    }
   ],
   "source": [
    "plot_series(grouped_year4, 'female')\n",
    "plot_series(grouped_year4, 'black')\n",
    "plot_series(grouped_year4, 'otherrace')\n",
    "plot_series(grouped_year4, 'ishisp')"
   ]
  },
  {
   "cell_type": "code",
   "execution_count": 80,
   "metadata": {},
   "outputs": [
    {
     "data": {
      "image/png": "[encoded data removed]",
      "text/plain": [
       "<matplotlib.figure.Figure at 0x7efd14e59cc0>"
      ]
     },
     "metadata": {},
     "output_type": "display_data"
    }
   ],
   "source": [
    "plot_series(grouped_year4, 'liberal')\n",
    "plot_series(grouped_year4, 'conservative')"
   ]
  },
  {
   "cell_type": "code",
   "execution_count": 81,
   "metadata": {},
   "outputs": [
    {
     "data": {
      "image/png": "[encoded data removed]",
      "text/plain": [
       "<matplotlib.figure.Figure at 0x7efd150776a0>"
      ]
     },
     "metadata": {},
     "output_type": "display_data"
    }
   ],
   "source": [
    "plot_series(grouped_year4, 'highrealinc')\n",
    "plot_series(grouped_year4, 'lowrealinc')"
   ]
  },
  {
   "cell_type": "code",
   "execution_count": 82,
   "metadata": {},
   "outputs": [
    {
     "data": {
      "image/png": "[encoded data removed]",
      "text/plain": [
       "<matplotlib.figure.Figure at 0x7efd14e96b38>"
      ]
     },
     "metadata": {},
     "output_type": "display_data"
    }
   ],
   "source": [
    "plot_series(grouped_year4, 'urban')\n",
    "plot_series(grouped_year4, 'rural')"
   ]
  },
  {
   "cell_type": "code",
   "execution_count": 83,
   "metadata": {},
   "outputs": [
    {
     "data": {
      "image/png": "[encoded data removed]",
      "text/plain": [
       "<matplotlib.figure.Figure at 0x7efd14f22588>"
      ]
     },
     "metadata": {},
     "output_type": "display_data"
    }
   ],
   "source": [
    "plot_series(grouped_year4, 'college')\n",
    "plot_series(grouped_year4, 'threatened')\n",
    "plot_series(grouped_year4, 'gunhome')"
   ]
  },
  {
   "cell_type": "markdown",
   "metadata": {},
   "source": [
    "### Fill missing values"
   ]
  },
  {
   "cell_type": "code",
   "execution_count": 84,
   "metadata": {
    "collapsed": true
   },
   "outputs": [],
   "source": [
    "def fill_missing_column(df, colname):\n",
    "    \"\"\"Fills missing values of the given column.\n",
    "\n",
    "    df: DataFrame\n",
    "    colname: string\n",
    "    \"\"\"\n",
    "    null = df[df[colname].isnull()]\n",
    "\n",
    "    print(colname, len(null))\n",
    "\n",
    "    valid = df[colname].dropna()\n",
    "    fill = valid.sample(len(null), replace=True)\n",
    "    fill.index = null.index\n",
    "\n",
    "    df[colname].fillna(fill, inplace=True)"
   ]
  },
  {
   "cell_type": "code",
   "execution_count": 85,
   "metadata": {
    "collapsed": true
   },
   "outputs": [],
   "source": [
    "def fill_age(df):\n",
    "    \"\"\"Fills age based on year and cohort.\n",
    "    \n",
    "    df: DataFrame\n",
    "    \"\"\"\n",
    "    colname = 'age'\n",
    "    null = df[df[colname].isnull()]\n",
    "\n",
    "    print('age', len(null))\n",
    "    \n",
    "    fill = df.year - df.cohort\n",
    "\n",
    "    df[colname].fillna(fill, inplace=True)"
   ]
  },
  {
   "cell_type": "code",
   "execution_count": 86,
   "metadata": {
    "collapsed": true
   },
   "outputs": [],
   "source": [
    "def fill_all_missing(df):\n",
    "    varnames = ['year', 'cohort', 'owngun', 'gun', 'natcrime', 'income', 'realinc', 'educ',\n",
    "                'polviews', 'sex', 'race', 'hispanic', 'srcbelt']\n",
    "    for varname in varnames:\n",
    "        fill_missing_column(df, varname)\n",
    "    fill_age(df)"
   ]
  },
  {
   "cell_type": "code",
   "execution_count": 87,
   "metadata": {},
   "outputs": [
    {
     "name": "stdout",
     "output_type": "stream",
     "text": [
      "year 0\n",
      "cohort 180\n",
      "owngun 24955\n",
      "gun 43124\n",
      "natcrime 28077\n",
      "income 8572\n",
      "realinc 6914\n",
      "educ 170\n",
      "polviews 9248\n",
      "sex 0\n",
      "race 0\n",
      "hispanic 38161\n",
      "srcbelt 0\n",
      "age 181\n"
     ]
    }
   ],
   "source": [
    "fill_all_missing(sample)"
   ]
  },
  {
   "cell_type": "markdown",
   "metadata": {},
   "source": [
    "After filling, we have to make booleans again."
   ]
  },
  {
   "cell_type": "code",
   "execution_count": 88,
   "metadata": {
    "collapsed": true
   },
   "outputs": [],
   "source": [
    "make_booleans(sample)"
   ]
  },
  {
   "cell_type": "markdown",
   "metadata": {},
   "source": [
    "### Center cohort, age, and year."
   ]
  },
  {
   "cell_type": "code",
   "execution_count": 89,
   "metadata": {
    "collapsed": true
   },
   "outputs": [],
   "source": [
    "def center_factors(df):\n",
    "    \"\"\"Center factors around their means.\n",
    "    \n",
    "    Add centered factors to make the coeffients\n",
    "    of the model easier to interpret.\n",
    "    \n",
    "    df: DataFrame\n",
    "    \"\"\"\n",
    "    df['ones'] = np.ones_like(df.cohort)\n",
    "    df['c'] = df.cohort - 1966\n",
    "    df['a'] = df.age - 47\n",
    "    df['y'] = df.year - 1990\n",
    "    \n",
    "    # also add quadratic factors and interaction term\n",
    "    df['c2'] = df.c**2\n",
    "    df['a2'] = df.a**2\n",
    "    df['y2'] = df.y**2\n",
    "    df['y3'] = df.y**3\n",
    "    df['ac'] = df.a * df.c"
   ]
  },
  {
   "cell_type": "code",
   "execution_count": 90,
   "metadata": {
    "collapsed": true
   },
   "outputs": [],
   "source": [
    "center_factors(sample)"
   ]
  },
  {
   "cell_type": "code",
   "execution_count": null,
   "metadata": {
    "collapsed": true
   },
   "outputs": [],
   "source": []
  },
  {
   "cell_type": "markdown",
   "metadata": {},
   "source": [
    "### Run logistic models\n",
    "\n"
   ]
  },
  {
   "cell_type": "markdown",
   "metadata": {},
   "source": [
    "Drop records if we don't have the dependent variable."
   ]
  },
  {
   "cell_type": "code",
   "execution_count": 91,
   "metadata": {},
   "outputs": [
    {
     "data": {
      "text/plain": [
       "(40424, 65)"
      ]
     },
     "execution_count": 91,
     "metadata": {},
     "output_type": "execute_result"
    }
   ],
   "source": [
    "subset = sample.dropna(subset=['gunlaw'])\n",
    "subset.shape"
   ]
  },
  {
   "cell_type": "markdown",
   "metadata": {},
   "source": [
    "How many records did we lose?"
   ]
  },
  {
   "cell_type": "code",
   "execution_count": 92,
   "metadata": {},
   "outputs": [
    {
     "data": {
      "text/plain": [
       "22042"
      ]
     },
     "execution_count": 92,
     "metadata": {},
     "output_type": "execute_result"
    }
   ],
   "source": [
    "sample.shape[0] - subset.shape[0]"
   ]
  },
  {
   "cell_type": "code",
   "execution_count": 93,
   "metadata": {
    "scrolled": true
   },
   "outputs": [
    {
     "data": {
      "text/html": [
       "<div>\n",
       "<style>\n",
       "    .dataframe thead tr:only-child th {\n",
       "        text-align: right;\n",
       "    }\n",
       "\n",
       "    .dataframe thead th {\n",
       "        text-align: left;\n",
       "    }\n",
       "\n",
       "    .dataframe tbody tr th {\n",
       "        vertical-align: top;\n",
       "    }\n",
       "</style>\n",
       "<table border=\"1\" class=\"dataframe\">\n",
       "  <thead>\n",
       "    <tr style=\"text-align: right;\">\n",
       "      <th></th>\n",
       "      <th>year</th>\n",
       "      <th>conrinc</th>\n",
       "      <th>cohort</th>\n",
       "      <th>ballot</th>\n",
       "      <th>wtssall</th>\n",
       "      <th>income</th>\n",
       "      <th>finrela</th>\n",
       "      <th>realinc</th>\n",
       "      <th>sex</th>\n",
       "      <th>homosex</th>\n",
       "      <th>...</th>\n",
       "      <th>highrealinc</th>\n",
       "      <th>ones</th>\n",
       "      <th>c</th>\n",
       "      <th>a</th>\n",
       "      <th>y</th>\n",
       "      <th>c2</th>\n",
       "      <th>a2</th>\n",
       "      <th>y2</th>\n",
       "      <th>y3</th>\n",
       "      <th>ac</th>\n",
       "    </tr>\n",
       "  </thead>\n",
       "  <tbody>\n",
       "    <tr>\n",
       "      <th>0</th>\n",
       "      <td>1972</td>\n",
       "      <td>0.0</td>\n",
       "      <td>1906.0</td>\n",
       "      <td>0</td>\n",
       "      <td>0.8893</td>\n",
       "      <td>12.0</td>\n",
       "      <td>2</td>\n",
       "      <td>18951.0</td>\n",
       "      <td>2</td>\n",
       "      <td>0</td>\n",
       "      <td>...</td>\n",
       "      <td>0.0</td>\n",
       "      <td>1.0</td>\n",
       "      <td>-60.0</td>\n",
       "      <td>19.0</td>\n",
       "      <td>-18</td>\n",
       "      <td>3600.0</td>\n",
       "      <td>361.0</td>\n",
       "      <td>324</td>\n",
       "      <td>-5832</td>\n",
       "      <td>-1140.0</td>\n",
       "    </tr>\n",
       "    <tr>\n",
       "      <th>1</th>\n",
       "      <td>1972</td>\n",
       "      <td>0.0</td>\n",
       "      <td>1909.0</td>\n",
       "      <td>0</td>\n",
       "      <td>1.3339</td>\n",
       "      <td>12.0</td>\n",
       "      <td>2</td>\n",
       "      <td>8122.0</td>\n",
       "      <td>1</td>\n",
       "      <td>0</td>\n",
       "      <td>...</td>\n",
       "      <td>0.0</td>\n",
       "      <td>1.0</td>\n",
       "      <td>-57.0</td>\n",
       "      <td>16.0</td>\n",
       "      <td>-18</td>\n",
       "      <td>3249.0</td>\n",
       "      <td>256.0</td>\n",
       "      <td>324</td>\n",
       "      <td>-5832</td>\n",
       "      <td>-912.0</td>\n",
       "    </tr>\n",
       "    <tr>\n",
       "      <th>2</th>\n",
       "      <td>1972</td>\n",
       "      <td>0.0</td>\n",
       "      <td>1938.0</td>\n",
       "      <td>0</td>\n",
       "      <td>0.8893</td>\n",
       "      <td>6.0</td>\n",
       "      <td>3</td>\n",
       "      <td>37226.0</td>\n",
       "      <td>1</td>\n",
       "      <td>0</td>\n",
       "      <td>...</td>\n",
       "      <td>0.0</td>\n",
       "      <td>1.0</td>\n",
       "      <td>-28.0</td>\n",
       "      <td>-13.0</td>\n",
       "      <td>-18</td>\n",
       "      <td>784.0</td>\n",
       "      <td>169.0</td>\n",
       "      <td>324</td>\n",
       "      <td>-5832</td>\n",
       "      <td>364.0</td>\n",
       "    </tr>\n",
       "    <tr>\n",
       "      <th>3</th>\n",
       "      <td>1972</td>\n",
       "      <td>0.0</td>\n",
       "      <td>1927.0</td>\n",
       "      <td>0</td>\n",
       "      <td>0.8893</td>\n",
       "      <td>12.0</td>\n",
       "      <td>2</td>\n",
       "      <td>24366.0</td>\n",
       "      <td>2</td>\n",
       "      <td>0</td>\n",
       "      <td>...</td>\n",
       "      <td>0.0</td>\n",
       "      <td>1.0</td>\n",
       "      <td>-39.0</td>\n",
       "      <td>-2.0</td>\n",
       "      <td>-18</td>\n",
       "      <td>1521.0</td>\n",
       "      <td>4.0</td>\n",
       "      <td>324</td>\n",
       "      <td>-5832</td>\n",
       "      <td>78.0</td>\n",
       "    </tr>\n",
       "    <tr>\n",
       "      <th>4</th>\n",
       "      <td>1972</td>\n",
       "      <td>0.0</td>\n",
       "      <td>1912.0</td>\n",
       "      <td>0</td>\n",
       "      <td>0.8893</td>\n",
       "      <td>11.0</td>\n",
       "      <td>3</td>\n",
       "      <td>13537.0</td>\n",
       "      <td>2</td>\n",
       "      <td>0</td>\n",
       "      <td>...</td>\n",
       "      <td>0.0</td>\n",
       "      <td>1.0</td>\n",
       "      <td>-54.0</td>\n",
       "      <td>13.0</td>\n",
       "      <td>-18</td>\n",
       "      <td>2916.0</td>\n",
       "      <td>169.0</td>\n",
       "      <td>324</td>\n",
       "      <td>-5832</td>\n",
       "      <td>-702.0</td>\n",
       "    </tr>\n",
       "  </tbody>\n",
       "</table>\n",
       "<p>5 rows × 65 columns</p>\n",
       "</div>"
      ],
      "text/plain": [
       "   year  conrinc  cohort  ballot  wtssall  income  finrela  realinc  sex  \\\n",
       "0  1972      0.0  1906.0       0   0.8893    12.0        2  18951.0    2   \n",
       "1  1972      0.0  1909.0       0   1.3339    12.0        2   8122.0    1   \n",
       "2  1972      0.0  1938.0       0   0.8893     6.0        3  37226.0    1   \n",
       "3  1972      0.0  1927.0       0   0.8893    12.0        2  24366.0    2   \n",
       "4  1972      0.0  1912.0       0   0.8893    11.0        3  13537.0    2   \n",
       "\n",
       "   homosex   ...    highrealinc  ones     c     a   y      c2     a2   y2  \\\n",
       "0        0   ...            0.0   1.0 -60.0  19.0 -18  3600.0  361.0  324   \n",
       "1        0   ...            0.0   1.0 -57.0  16.0 -18  3249.0  256.0  324   \n",
       "2        0   ...            0.0   1.0 -28.0 -13.0 -18   784.0  169.0  324   \n",
       "3        0   ...            0.0   1.0 -39.0  -2.0 -18  1521.0    4.0  324   \n",
       "4        0   ...            0.0   1.0 -54.0  13.0 -18  2916.0  169.0  324   \n",
       "\n",
       "     y3      ac  \n",
       "0 -5832 -1140.0  \n",
       "1 -5832  -912.0  \n",
       "2 -5832   364.0  \n",
       "3 -5832    78.0  \n",
       "4 -5832  -702.0  \n",
       "\n",
       "[5 rows x 65 columns]"
      ]
     },
     "execution_count": 93,
     "metadata": {},
     "output_type": "execute_result"
    }
   ],
   "source": [
    "subset.head()"
   ]
  },
  {
   "cell_type": "code",
   "execution_count": 94,
   "metadata": {},
   "outputs": [
    {
     "data": {
      "text/plain": [
       "Index(['year', 'conrinc', 'cohort', 'ballot', 'wtssall', 'income', 'finrela',\n",
       "       'realinc', 'sex', 'homosex', 'hispanic', 'rowngun', 'owngun', 'id_',\n",
       "       'age', 'race', 'srcbelt', 'polviews', 'natcrime', 'gunlaw', 'gun',\n",
       "       'gunage', 'gunnum', 'educ', 'cohort5', 'cohort10', 'year4', 'age5',\n",
       "       'age3', 'twenties', 'thirties', 'forties', 'fifties', 'sixties',\n",
       "       'seventies', 'eighties', 'nineties', 'favor', 'gunhome', 'threatened',\n",
       "       'spendcrime', 'topincome', 'lowincome', 'liberal', 'moderate',\n",
       "       'conservative', 'female', 'ishisp', 'black', 'otherrace', 'urban',\n",
       "       'suburban', 'rural', 'college', 'lowrealinc', 'highrealinc', 'ones',\n",
       "       'c', 'a', 'y', 'c2', 'a2', 'y2', 'y3', 'ac'],\n",
       "      dtype='object')"
      ]
     },
     "execution_count": 94,
     "metadata": {},
     "output_type": "execute_result"
    }
   ],
   "source": [
    "sample.columns"
   ]
  },
  {
   "cell_type": "code",
   "execution_count": 95,
   "metadata": {
    "collapsed": true
   },
   "outputs": [],
   "source": [
    "varnames = ['nineties', 'eighties', 'seventies', 'fifties', 'forties', 'thirties', 'twenties',\n",
    "            'female', 'black', 'otherrace', 'ishisp', 'conservative', 'liberal', 'lowrealinc', 'highrealinc',\n",
    "            'college', 'urban', 'rural', 'threatened', 'gunhome']\n",
    "\n",
    "all_varnames = varnames + ['y', 'y2', 'y3', 'favor']"
   ]
  },
  {
   "cell_type": "code",
   "execution_count": 96,
   "metadata": {},
   "outputs": [
    {
     "name": "stdout",
     "output_type": "stream",
     "text": [
      "nineties 0\n",
      "eighties 0\n",
      "seventies 0\n",
      "fifties 0\n",
      "forties 0\n",
      "thirties 0\n",
      "twenties 0\n",
      "female 0\n",
      "black 0\n",
      "otherrace 0\n",
      "ishisp 0\n",
      "conservative 0\n",
      "liberal 0\n",
      "lowrealinc 0\n",
      "highrealinc 0\n",
      "college 0\n",
      "urban 0\n",
      "rural 0\n",
      "threatened 0\n",
      "gunhome 0\n"
     ]
    }
   ],
   "source": [
    "for varname in varnames:\n",
    "    print(varname, sum(sample[varname].isnull()))"
   ]
  },
  {
   "cell_type": "markdown",
   "metadata": {},
   "source": [
    "Select just the columns we need"
   ]
  },
  {
   "cell_type": "code",
   "execution_count": 97,
   "metadata": {},
   "outputs": [
    {
     "data": {
      "text/plain": [
       "(40424, 24)"
      ]
     },
     "execution_count": 97,
     "metadata": {},
     "output_type": "execute_result"
    }
   ],
   "source": [
    "data = subset[all_varnames]\n",
    "data.shape"
   ]
  },
  {
   "cell_type": "code",
   "execution_count": 98,
   "metadata": {},
   "outputs": [
    {
     "name": "stdout",
     "output_type": "stream",
     "text": [
      "Optimization terminated successfully.\n",
      "         Current function value: 0.504355\n",
      "         Iterations 6\n"
     ]
    },
    {
     "data": {
      "text/html": [
       "<table class=\"simpletable\">\n",
       "<caption>Logit Regression Results</caption>\n",
       "<tr>\n",
       "  <th>Dep. Variable:</th>       <td>favor</td>      <th>  No. Observations:  </th>  <td> 40424</td> \n",
       "</tr>\n",
       "<tr>\n",
       "  <th>Model:</th>               <td>Logit</td>      <th>  Df Residuals:      </th>  <td> 40400</td> \n",
       "</tr>\n",
       "<tr>\n",
       "  <th>Method:</th>               <td>MLE</td>       <th>  Df Model:          </th>  <td>    23</td> \n",
       "</tr>\n",
       "<tr>\n",
       "  <th>Date:</th>          <td>Fri, 16 Mar 2018</td> <th>  Pseudo R-squ.:     </th>  <td>0.07826</td>\n",
       "</tr>\n",
       "<tr>\n",
       "  <th>Time:</th>              <td>16:50:59</td>     <th>  Log-Likelihood:    </th> <td> -20388.</td>\n",
       "</tr>\n",
       "<tr>\n",
       "  <th>converged:</th>           <td>True</td>       <th>  LL-Null:           </th> <td> -22119.</td>\n",
       "</tr>\n",
       "<tr>\n",
       "  <th> </th>                      <td> </td>        <th>  LLR p-value:       </th>  <td> 0.000</td> \n",
       "</tr>\n",
       "</table>\n",
       "<table class=\"simpletable\">\n",
       "<tr>\n",
       "        <td></td>          <th>coef</th>     <th>std err</th>      <th>z</th>      <th>P>|z|</th>  <th>[0.025</th>    <th>0.975]</th>  \n",
       "</tr>\n",
       "<tr>\n",
       "  <th>Intercept</th>    <td>    1.5162</td> <td>    0.046</td> <td>   32.866</td> <td> 0.000</td> <td>    1.426</td> <td>    1.607</td>\n",
       "</tr>\n",
       "<tr>\n",
       "  <th>y</th>            <td>    0.0308</td> <td>    0.002</td> <td>   12.819</td> <td> 0.000</td> <td>    0.026</td> <td>    0.035</td>\n",
       "</tr>\n",
       "<tr>\n",
       "  <th>y2</th>           <td>    0.0001</td> <td>    0.000</td> <td>    1.210</td> <td> 0.226</td> <td>-7.96e-05</td> <td>    0.000</td>\n",
       "</tr>\n",
       "<tr>\n",
       "  <th>y3</th>           <td>-8.447e-05</td> <td> 6.86e-06</td> <td>  -12.315</td> <td> 0.000</td> <td>-9.79e-05</td> <td> -7.1e-05</td>\n",
       "</tr>\n",
       "<tr>\n",
       "  <th>nineties</th>     <td>   -0.6029</td> <td>    0.104</td> <td>   -5.819</td> <td> 0.000</td> <td>   -0.806</td> <td>   -0.400</td>\n",
       "</tr>\n",
       "<tr>\n",
       "  <th>eighties</th>     <td>   -0.3321</td> <td>    0.065</td> <td>   -5.087</td> <td> 0.000</td> <td>   -0.460</td> <td>   -0.204</td>\n",
       "</tr>\n",
       "<tr>\n",
       "  <th>seventies</th>    <td>   -0.0974</td> <td>    0.052</td> <td>   -1.864</td> <td> 0.062</td> <td>   -0.200</td> <td>    0.005</td>\n",
       "</tr>\n",
       "<tr>\n",
       "  <th>fifties</th>      <td>    0.0016</td> <td>    0.037</td> <td>    0.044</td> <td> 0.965</td> <td>   -0.071</td> <td>    0.074</td>\n",
       "</tr>\n",
       "<tr>\n",
       "  <th>forties</th>      <td>    0.0141</td> <td>    0.039</td> <td>    0.360</td> <td> 0.719</td> <td>   -0.063</td> <td>    0.091</td>\n",
       "</tr>\n",
       "<tr>\n",
       "  <th>thirties</th>     <td>   -0.0471</td> <td>    0.043</td> <td>   -1.098</td> <td> 0.272</td> <td>   -0.131</td> <td>    0.037</td>\n",
       "</tr>\n",
       "<tr>\n",
       "  <th>twenties</th>     <td>   -0.0855</td> <td>    0.045</td> <td>   -1.920</td> <td> 0.055</td> <td>   -0.173</td> <td>    0.002</td>\n",
       "</tr>\n",
       "<tr>\n",
       "  <th>female</th>       <td>    0.7026</td> <td>    0.025</td> <td>   28.220</td> <td> 0.000</td> <td>    0.654</td> <td>    0.751</td>\n",
       "</tr>\n",
       "<tr>\n",
       "  <th>black</th>        <td>    0.2489</td> <td>    0.039</td> <td>    6.397</td> <td> 0.000</td> <td>    0.173</td> <td>    0.325</td>\n",
       "</tr>\n",
       "<tr>\n",
       "  <th>otherrace</th>    <td>    0.4284</td> <td>    0.064</td> <td>    6.644</td> <td> 0.000</td> <td>    0.302</td> <td>    0.555</td>\n",
       "</tr>\n",
       "<tr>\n",
       "  <th>ishisp</th>       <td>   -0.0272</td> <td>    0.047</td> <td>   -0.575</td> <td> 0.565</td> <td>   -0.120</td> <td>    0.065</td>\n",
       "</tr>\n",
       "<tr>\n",
       "  <th>conservative</th> <td>   -0.2733</td> <td>    0.032</td> <td>   -8.618</td> <td> 0.000</td> <td>   -0.335</td> <td>   -0.211</td>\n",
       "</tr>\n",
       "<tr>\n",
       "  <th>liberal</th>      <td>    0.2612</td> <td>    0.030</td> <td>    8.585</td> <td> 0.000</td> <td>    0.202</td> <td>    0.321</td>\n",
       "</tr>\n",
       "<tr>\n",
       "  <th>lowrealinc</th>   <td>   -0.1086</td> <td>    0.031</td> <td>   -3.480</td> <td> 0.001</td> <td>   -0.170</td> <td>   -0.047</td>\n",
       "</tr>\n",
       "<tr>\n",
       "  <th>highrealinc</th>  <td>    0.0826</td> <td>    0.031</td> <td>    2.691</td> <td> 0.007</td> <td>    0.022</td> <td>    0.143</td>\n",
       "</tr>\n",
       "<tr>\n",
       "  <th>college</th>      <td>    0.0601</td> <td>    0.027</td> <td>    2.254</td> <td> 0.024</td> <td>    0.008</td> <td>    0.112</td>\n",
       "</tr>\n",
       "<tr>\n",
       "  <th>urban</th>        <td>   -0.2424</td> <td>    0.030</td> <td>   -7.949</td> <td> 0.000</td> <td>   -0.302</td> <td>   -0.183</td>\n",
       "</tr>\n",
       "<tr>\n",
       "  <th>rural</th>        <td>   -0.4717</td> <td>    0.041</td> <td>  -11.465</td> <td> 0.000</td> <td>   -0.552</td> <td>   -0.391</td>\n",
       "</tr>\n",
       "<tr>\n",
       "  <th>threatened</th>   <td>   -0.1324</td> <td>    0.030</td> <td>   -4.390</td> <td> 0.000</td> <td>   -0.191</td> <td>   -0.073</td>\n",
       "</tr>\n",
       "<tr>\n",
       "  <th>gunhome</th>      <td>   -0.8701</td> <td>    0.026</td> <td>  -33.555</td> <td> 0.000</td> <td>   -0.921</td> <td>   -0.819</td>\n",
       "</tr>\n",
       "</table>"
      ],
      "text/plain": [
       "<class 'statsmodels.iolib.summary.Summary'>\n",
       "\"\"\"\n",
       "                           Logit Regression Results                           \n",
       "==============================================================================\n",
       "Dep. Variable:                  favor   No. Observations:                40424\n",
       "Model:                          Logit   Df Residuals:                    40400\n",
       "Method:                           MLE   Df Model:                           23\n",
       "Date:                Fri, 16 Mar 2018   Pseudo R-squ.:                 0.07826\n",
       "Time:                        16:50:59   Log-Likelihood:                -20388.\n",
       "converged:                       True   LL-Null:                       -22119.\n",
       "                                        LLR p-value:                     0.000\n",
       "================================================================================\n",
       "                   coef    std err          z      P>|z|      [0.025      0.975]\n",
       "--------------------------------------------------------------------------------\n",
       "Intercept        1.5162      0.046     32.866      0.000       1.426       1.607\n",
       "y                0.0308      0.002     12.819      0.000       0.026       0.035\n",
       "y2               0.0001      0.000      1.210      0.226   -7.96e-05       0.000\n",
       "y3           -8.447e-05   6.86e-06    -12.315      0.000   -9.79e-05    -7.1e-05\n",
       "nineties        -0.6029      0.104     -5.819      0.000      -0.806      -0.400\n",
       "eighties        -0.3321      0.065     -5.087      0.000      -0.460      -0.204\n",
       "seventies       -0.0974      0.052     -1.864      0.062      -0.200       0.005\n",
       "fifties          0.0016      0.037      0.044      0.965      -0.071       0.074\n",
       "forties          0.0141      0.039      0.360      0.719      -0.063       0.091\n",
       "thirties        -0.0471      0.043     -1.098      0.272      -0.131       0.037\n",
       "twenties        -0.0855      0.045     -1.920      0.055      -0.173       0.002\n",
       "female           0.7026      0.025     28.220      0.000       0.654       0.751\n",
       "black            0.2489      0.039      6.397      0.000       0.173       0.325\n",
       "otherrace        0.4284      0.064      6.644      0.000       0.302       0.555\n",
       "ishisp          -0.0272      0.047     -0.575      0.565      -0.120       0.065\n",
       "conservative    -0.2733      0.032     -8.618      0.000      -0.335      -0.211\n",
       "liberal          0.2612      0.030      8.585      0.000       0.202       0.321\n",
       "lowrealinc      -0.1086      0.031     -3.480      0.001      -0.170      -0.047\n",
       "highrealinc      0.0826      0.031      2.691      0.007       0.022       0.143\n",
       "college          0.0601      0.027      2.254      0.024       0.008       0.112\n",
       "urban           -0.2424      0.030     -7.949      0.000      -0.302      -0.183\n",
       "rural           -0.4717      0.041    -11.465      0.000      -0.552      -0.391\n",
       "threatened      -0.1324      0.030     -4.390      0.000      -0.191      -0.073\n",
       "gunhome         -0.8701      0.026    -33.555      0.000      -0.921      -0.819\n",
       "================================================================================\n",
       "\"\"\""
      ]
     },
     "execution_count": 98,
     "metadata": {},
     "output_type": "execute_result"
    }
   ],
   "source": [
    "formula = ('favor ~ y + y2 + y3 + nineties + eighties + seventies + fifties + forties + thirties + twenties + '\n",
    "           'female + black + otherrace + ishisp + conservative + liberal + lowrealinc + highrealinc + ' \n",
    "           'college + urban + rural + threatened + gunhome')\n",
    "model = smf.logit(formula, data=data).fit()\n",
    "model.summary()"
   ]
  },
  {
   "cell_type": "markdown",
   "metadata": {},
   "source": [
    "Make a row for someone in 2016 with all booleans false."
   ]
  },
  {
   "cell_type": "code",
   "execution_count": 99,
   "metadata": {
    "scrolled": false
   },
   "outputs": [
    {
     "data": {
      "text/plain": [
       "black               0\n",
       "college             0\n",
       "conservative        0\n",
       "eighties            0\n",
       "female              0\n",
       "fifties             0\n",
       "forties             0\n",
       "gunhome             0\n",
       "highrealinc         0\n",
       "ishisp              0\n",
       "liberal             0\n",
       "lowrealinc          0\n",
       "nineties            0\n",
       "otherrace           0\n",
       "rural               0\n",
       "seventies           0\n",
       "thirties            0\n",
       "threatened          0\n",
       "twenties            0\n",
       "urban               0\n",
       "y                  26\n",
       "y2                676\n",
       "y3              17576\n",
       "dtype: int64"
      ]
     },
     "execution_count": 99,
     "metadata": {},
     "output_type": "execute_result"
    }
   ],
   "source": [
    "def make_base():\n",
    "    y = 2016 - 1990\n",
    "    y2 = y**2\n",
    "    y3 = y**3\n",
    "\n",
    "    d = dict(y=y, y2=y2, y3=y3)\n",
    "    for varname in varnames:\n",
    "        d[varname] = 0\n",
    "\n",
    "    return pd.Series(d)\n",
    "\n",
    "base = make_base()\n",
    "base"
   ]
  },
  {
   "cell_type": "markdown",
   "metadata": {},
   "source": [
    "Make a DataFrame that contains one row for each case we want to consider."
   ]
  },
  {
   "cell_type": "code",
   "execution_count": null,
   "metadata": {
    "collapsed": true
   },
   "outputs": [],
   "source": []
  },
  {
   "cell_type": "code",
   "execution_count": 100,
   "metadata": {},
   "outputs": [
    {
     "data": {
      "text/html": [
       "<div>\n",
       "<style>\n",
       "    .dataframe thead tr:only-child th {\n",
       "        text-align: right;\n",
       "    }\n",
       "\n",
       "    .dataframe thead th {\n",
       "        text-align: left;\n",
       "    }\n",
       "\n",
       "    .dataframe tbody tr th {\n",
       "        vertical-align: top;\n",
       "    }\n",
       "</style>\n",
       "<table border=\"1\" class=\"dataframe\">\n",
       "  <thead>\n",
       "    <tr style=\"text-align: right;\">\n",
       "      <th></th>\n",
       "      <th>black</th>\n",
       "      <th>college</th>\n",
       "      <th>conservative</th>\n",
       "      <th>eighties</th>\n",
       "      <th>female</th>\n",
       "      <th>fifties</th>\n",
       "      <th>forties</th>\n",
       "      <th>gunhome</th>\n",
       "      <th>highrealinc</th>\n",
       "      <th>ishisp</th>\n",
       "      <th>...</th>\n",
       "      <th>otherrace</th>\n",
       "      <th>rural</th>\n",
       "      <th>seventies</th>\n",
       "      <th>thirties</th>\n",
       "      <th>threatened</th>\n",
       "      <th>twenties</th>\n",
       "      <th>urban</th>\n",
       "      <th>y</th>\n",
       "      <th>y2</th>\n",
       "      <th>y3</th>\n",
       "    </tr>\n",
       "  </thead>\n",
       "  <tbody>\n",
       "    <tr>\n",
       "      <th>base</th>\n",
       "      <td>0.0</td>\n",
       "      <td>0.0</td>\n",
       "      <td>0.0</td>\n",
       "      <td>0.0</td>\n",
       "      <td>0.0</td>\n",
       "      <td>0.0</td>\n",
       "      <td>0.0</td>\n",
       "      <td>0.0</td>\n",
       "      <td>0.0</td>\n",
       "      <td>0.0</td>\n",
       "      <td>...</td>\n",
       "      <td>0.0</td>\n",
       "      <td>0.0</td>\n",
       "      <td>0.0</td>\n",
       "      <td>0.0</td>\n",
       "      <td>0.0</td>\n",
       "      <td>0.0</td>\n",
       "      <td>0.0</td>\n",
       "      <td>26.0</td>\n",
       "      <td>676.0</td>\n",
       "      <td>17576.0</td>\n",
       "    </tr>\n",
       "    <tr>\n",
       "      <th>nineties</th>\n",
       "      <td>0.0</td>\n",
       "      <td>0.0</td>\n",
       "      <td>0.0</td>\n",
       "      <td>0.0</td>\n",
       "      <td>0.0</td>\n",
       "      <td>0.0</td>\n",
       "      <td>0.0</td>\n",
       "      <td>0.0</td>\n",
       "      <td>0.0</td>\n",
       "      <td>0.0</td>\n",
       "      <td>...</td>\n",
       "      <td>0.0</td>\n",
       "      <td>0.0</td>\n",
       "      <td>0.0</td>\n",
       "      <td>0.0</td>\n",
       "      <td>0.0</td>\n",
       "      <td>0.0</td>\n",
       "      <td>0.0</td>\n",
       "      <td>26.0</td>\n",
       "      <td>676.0</td>\n",
       "      <td>17576.0</td>\n",
       "    </tr>\n",
       "    <tr>\n",
       "      <th>eighties</th>\n",
       "      <td>0.0</td>\n",
       "      <td>0.0</td>\n",
       "      <td>0.0</td>\n",
       "      <td>1.0</td>\n",
       "      <td>0.0</td>\n",
       "      <td>0.0</td>\n",
       "      <td>0.0</td>\n",
       "      <td>0.0</td>\n",
       "      <td>0.0</td>\n",
       "      <td>0.0</td>\n",
       "      <td>...</td>\n",
       "      <td>0.0</td>\n",
       "      <td>0.0</td>\n",
       "      <td>0.0</td>\n",
       "      <td>0.0</td>\n",
       "      <td>0.0</td>\n",
       "      <td>0.0</td>\n",
       "      <td>0.0</td>\n",
       "      <td>26.0</td>\n",
       "      <td>676.0</td>\n",
       "      <td>17576.0</td>\n",
       "    </tr>\n",
       "    <tr>\n",
       "      <th>seventies</th>\n",
       "      <td>0.0</td>\n",
       "      <td>0.0</td>\n",
       "      <td>0.0</td>\n",
       "      <td>0.0</td>\n",
       "      <td>0.0</td>\n",
       "      <td>0.0</td>\n",
       "      <td>0.0</td>\n",
       "      <td>0.0</td>\n",
       "      <td>0.0</td>\n",
       "      <td>0.0</td>\n",
       "      <td>...</td>\n",
       "      <td>0.0</td>\n",
       "      <td>0.0</td>\n",
       "      <td>1.0</td>\n",
       "      <td>0.0</td>\n",
       "      <td>0.0</td>\n",
       "      <td>0.0</td>\n",
       "      <td>0.0</td>\n",
       "      <td>26.0</td>\n",
       "      <td>676.0</td>\n",
       "      <td>17576.0</td>\n",
       "    </tr>\n",
       "    <tr>\n",
       "      <th>fifties</th>\n",
       "      <td>0.0</td>\n",
       "      <td>0.0</td>\n",
       "      <td>0.0</td>\n",
       "      <td>0.0</td>\n",
       "      <td>0.0</td>\n",
       "      <td>1.0</td>\n",
       "      <td>0.0</td>\n",
       "      <td>0.0</td>\n",
       "      <td>0.0</td>\n",
       "      <td>0.0</td>\n",
       "      <td>...</td>\n",
       "      <td>0.0</td>\n",
       "      <td>0.0</td>\n",
       "      <td>0.0</td>\n",
       "      <td>0.0</td>\n",
       "      <td>0.0</td>\n",
       "      <td>0.0</td>\n",
       "      <td>0.0</td>\n",
       "      <td>26.0</td>\n",
       "      <td>676.0</td>\n",
       "      <td>17576.0</td>\n",
       "    </tr>\n",
       "    <tr>\n",
       "      <th>forties</th>\n",
       "      <td>0.0</td>\n",
       "      <td>0.0</td>\n",
       "      <td>0.0</td>\n",
       "      <td>0.0</td>\n",
       "      <td>0.0</td>\n",
       "      <td>0.0</td>\n",
       "      <td>1.0</td>\n",
       "      <td>0.0</td>\n",
       "      <td>0.0</td>\n",
       "      <td>0.0</td>\n",
       "      <td>...</td>\n",
       "      <td>0.0</td>\n",
       "      <td>0.0</td>\n",
       "      <td>0.0</td>\n",
       "      <td>0.0</td>\n",
       "      <td>0.0</td>\n",
       "      <td>0.0</td>\n",
       "      <td>0.0</td>\n",
       "      <td>26.0</td>\n",
       "      <td>676.0</td>\n",
       "      <td>17576.0</td>\n",
       "    </tr>\n",
       "    <tr>\n",
       "      <th>thirties</th>\n",
       "      <td>0.0</td>\n",
       "      <td>0.0</td>\n",
       "      <td>0.0</td>\n",
       "      <td>0.0</td>\n",
       "      <td>0.0</td>\n",
       "      <td>0.0</td>\n",
       "      <td>0.0</td>\n",
       "      <td>0.0</td>\n",
       "      <td>0.0</td>\n",
       "      <td>0.0</td>\n",
       "      <td>...</td>\n",
       "      <td>0.0</td>\n",
       "      <td>0.0</td>\n",
       "      <td>0.0</td>\n",
       "      <td>1.0</td>\n",
       "      <td>0.0</td>\n",
       "      <td>0.0</td>\n",
       "      <td>0.0</td>\n",
       "      <td>26.0</td>\n",
       "      <td>676.0</td>\n",
       "      <td>17576.0</td>\n",
       "    </tr>\n",
       "    <tr>\n",
       "      <th>twenties</th>\n",
       "      <td>0.0</td>\n",
       "      <td>0.0</td>\n",
       "      <td>0.0</td>\n",
       "      <td>0.0</td>\n",
       "      <td>0.0</td>\n",
       "      <td>0.0</td>\n",
       "      <td>0.0</td>\n",
       "      <td>0.0</td>\n",
       "      <td>0.0</td>\n",
       "      <td>0.0</td>\n",
       "      <td>...</td>\n",
       "      <td>0.0</td>\n",
       "      <td>0.0</td>\n",
       "      <td>0.0</td>\n",
       "      <td>0.0</td>\n",
       "      <td>0.0</td>\n",
       "      <td>1.0</td>\n",
       "      <td>0.0</td>\n",
       "      <td>26.0</td>\n",
       "      <td>676.0</td>\n",
       "      <td>17576.0</td>\n",
       "    </tr>\n",
       "    <tr>\n",
       "      <th>female</th>\n",
       "      <td>0.0</td>\n",
       "      <td>0.0</td>\n",
       "      <td>0.0</td>\n",
       "      <td>0.0</td>\n",
       "      <td>1.0</td>\n",
       "      <td>0.0</td>\n",
       "      <td>0.0</td>\n",
       "      <td>0.0</td>\n",
       "      <td>0.0</td>\n",
       "      <td>0.0</td>\n",
       "      <td>...</td>\n",
       "      <td>0.0</td>\n",
       "      <td>0.0</td>\n",
       "      <td>0.0</td>\n",
       "      <td>0.0</td>\n",
       "      <td>0.0</td>\n",
       "      <td>0.0</td>\n",
       "      <td>0.0</td>\n",
       "      <td>26.0</td>\n",
       "      <td>676.0</td>\n",
       "      <td>17576.0</td>\n",
       "    </tr>\n",
       "    <tr>\n",
       "      <th>black</th>\n",
       "      <td>1.0</td>\n",
       "      <td>0.0</td>\n",
       "      <td>0.0</td>\n",
       "      <td>0.0</td>\n",
       "      <td>0.0</td>\n",
       "      <td>0.0</td>\n",
       "      <td>0.0</td>\n",
       "      <td>0.0</td>\n",
       "      <td>0.0</td>\n",
       "      <td>0.0</td>\n",
       "      <td>...</td>\n",
       "      <td>0.0</td>\n",
       "      <td>0.0</td>\n",
       "      <td>0.0</td>\n",
       "      <td>0.0</td>\n",
       "      <td>0.0</td>\n",
       "      <td>0.0</td>\n",
       "      <td>0.0</td>\n",
       "      <td>26.0</td>\n",
       "      <td>676.0</td>\n",
       "      <td>17576.0</td>\n",
       "    </tr>\n",
       "    <tr>\n",
       "      <th>otherrace</th>\n",
       "      <td>0.0</td>\n",
       "      <td>0.0</td>\n",
       "      <td>0.0</td>\n",
       "      <td>0.0</td>\n",
       "      <td>0.0</td>\n",
       "      <td>0.0</td>\n",
       "      <td>0.0</td>\n",
       "      <td>0.0</td>\n",
       "      <td>0.0</td>\n",
       "      <td>0.0</td>\n",
       "      <td>...</td>\n",
       "      <td>1.0</td>\n",
       "      <td>0.0</td>\n",
       "      <td>0.0</td>\n",
       "      <td>0.0</td>\n",
       "      <td>0.0</td>\n",
       "      <td>0.0</td>\n",
       "      <td>0.0</td>\n",
       "      <td>26.0</td>\n",
       "      <td>676.0</td>\n",
       "      <td>17576.0</td>\n",
       "    </tr>\n",
       "    <tr>\n",
       "      <th>ishisp</th>\n",
       "      <td>0.0</td>\n",
       "      <td>0.0</td>\n",
       "      <td>0.0</td>\n",
       "      <td>0.0</td>\n",
       "      <td>0.0</td>\n",
       "      <td>0.0</td>\n",
       "      <td>0.0</td>\n",
       "      <td>0.0</td>\n",
       "      <td>0.0</td>\n",
       "      <td>1.0</td>\n",
       "      <td>...</td>\n",
       "      <td>0.0</td>\n",
       "      <td>0.0</td>\n",
       "      <td>0.0</td>\n",
       "      <td>0.0</td>\n",
       "      <td>0.0</td>\n",
       "      <td>0.0</td>\n",
       "      <td>0.0</td>\n",
       "      <td>26.0</td>\n",
       "      <td>676.0</td>\n",
       "      <td>17576.0</td>\n",
       "    </tr>\n",
       "    <tr>\n",
       "      <th>conservative</th>\n",
       "      <td>0.0</td>\n",
       "      <td>0.0</td>\n",
       "      <td>1.0</td>\n",
       "      <td>0.0</td>\n",
       "      <td>0.0</td>\n",
       "      <td>0.0</td>\n",
       "      <td>0.0</td>\n",
       "      <td>0.0</td>\n",
       "      <td>0.0</td>\n",
       "      <td>0.0</td>\n",
       "      <td>...</td>\n",
       "      <td>0.0</td>\n",
       "      <td>0.0</td>\n",
       "      <td>0.0</td>\n",
       "      <td>0.0</td>\n",
       "      <td>0.0</td>\n",
       "      <td>0.0</td>\n",
       "      <td>0.0</td>\n",
       "      <td>26.0</td>\n",
       "      <td>676.0</td>\n",
       "      <td>17576.0</td>\n",
       "    </tr>\n",
       "    <tr>\n",
       "      <th>liberal</th>\n",
       "      <td>0.0</td>\n",
       "      <td>0.0</td>\n",
       "      <td>0.0</td>\n",
       "      <td>0.0</td>\n",
       "      <td>0.0</td>\n",
       "      <td>0.0</td>\n",
       "      <td>0.0</td>\n",
       "      <td>0.0</td>\n",
       "      <td>0.0</td>\n",
       "      <td>0.0</td>\n",
       "      <td>...</td>\n",
       "      <td>0.0</td>\n",
       "      <td>0.0</td>\n",
       "      <td>0.0</td>\n",
       "      <td>0.0</td>\n",
       "      <td>0.0</td>\n",
       "      <td>0.0</td>\n",
       "      <td>0.0</td>\n",
       "      <td>26.0</td>\n",
       "      <td>676.0</td>\n",
       "      <td>17576.0</td>\n",
       "    </tr>\n",
       "    <tr>\n",
       "      <th>lowrealinc</th>\n",
       "      <td>0.0</td>\n",
       "      <td>0.0</td>\n",
       "      <td>0.0</td>\n",
       "      <td>0.0</td>\n",
       "      <td>0.0</td>\n",
       "      <td>0.0</td>\n",
       "      <td>0.0</td>\n",
       "      <td>0.0</td>\n",
       "      <td>0.0</td>\n",
       "      <td>0.0</td>\n",
       "      <td>...</td>\n",
       "      <td>0.0</td>\n",
       "      <td>0.0</td>\n",
       "      <td>0.0</td>\n",
       "      <td>0.0</td>\n",
       "      <td>0.0</td>\n",
       "      <td>0.0</td>\n",
       "      <td>0.0</td>\n",
       "      <td>26.0</td>\n",
       "      <td>676.0</td>\n",
       "      <td>17576.0</td>\n",
       "    </tr>\n",
       "    <tr>\n",
       "      <th>highrealinc</th>\n",
       "      <td>0.0</td>\n",
       "      <td>0.0</td>\n",
       "      <td>0.0</td>\n",
       "      <td>0.0</td>\n",
       "      <td>0.0</td>\n",
       "      <td>0.0</td>\n",
       "      <td>0.0</td>\n",
       "      <td>0.0</td>\n",
       "      <td>1.0</td>\n",
       "      <td>0.0</td>\n",
       "      <td>...</td>\n",
       "      <td>0.0</td>\n",
       "      <td>0.0</td>\n",
       "      <td>0.0</td>\n",
       "      <td>0.0</td>\n",
       "      <td>0.0</td>\n",
       "      <td>0.0</td>\n",
       "      <td>0.0</td>\n",
       "      <td>26.0</td>\n",
       "      <td>676.0</td>\n",
       "      <td>17576.0</td>\n",
       "    </tr>\n",
       "    <tr>\n",
       "      <th>college</th>\n",
       "      <td>0.0</td>\n",
       "      <td>1.0</td>\n",
       "      <td>0.0</td>\n",
       "      <td>0.0</td>\n",
       "      <td>0.0</td>\n",
       "      <td>0.0</td>\n",
       "      <td>0.0</td>\n",
       "      <td>0.0</td>\n",
       "      <td>0.0</td>\n",
       "      <td>0.0</td>\n",
       "      <td>...</td>\n",
       "      <td>0.0</td>\n",
       "      <td>0.0</td>\n",
       "      <td>0.0</td>\n",
       "      <td>0.0</td>\n",
       "      <td>0.0</td>\n",
       "      <td>0.0</td>\n",
       "      <td>0.0</td>\n",
       "      <td>26.0</td>\n",
       "      <td>676.0</td>\n",
       "      <td>17576.0</td>\n",
       "    </tr>\n",
       "    <tr>\n",
       "      <th>urban</th>\n",
       "      <td>0.0</td>\n",
       "      <td>0.0</td>\n",
       "      <td>0.0</td>\n",
       "      <td>0.0</td>\n",
       "      <td>0.0</td>\n",
       "      <td>0.0</td>\n",
       "      <td>0.0</td>\n",
       "      <td>0.0</td>\n",
       "      <td>0.0</td>\n",
       "      <td>0.0</td>\n",
       "      <td>...</td>\n",
       "      <td>0.0</td>\n",
       "      <td>0.0</td>\n",
       "      <td>0.0</td>\n",
       "      <td>0.0</td>\n",
       "      <td>0.0</td>\n",
       "      <td>0.0</td>\n",
       "      <td>1.0</td>\n",
       "      <td>26.0</td>\n",
       "      <td>676.0</td>\n",
       "      <td>17576.0</td>\n",
       "    </tr>\n",
       "    <tr>\n",
       "      <th>rural</th>\n",
       "      <td>0.0</td>\n",
       "      <td>0.0</td>\n",
       "      <td>0.0</td>\n",
       "      <td>0.0</td>\n",
       "      <td>0.0</td>\n",
       "      <td>0.0</td>\n",
       "      <td>0.0</td>\n",
       "      <td>0.0</td>\n",
       "      <td>0.0</td>\n",
       "      <td>0.0</td>\n",
       "      <td>...</td>\n",
       "      <td>0.0</td>\n",
       "      <td>1.0</td>\n",
       "      <td>0.0</td>\n",
       "      <td>0.0</td>\n",
       "      <td>0.0</td>\n",
       "      <td>0.0</td>\n",
       "      <td>0.0</td>\n",
       "      <td>26.0</td>\n",
       "      <td>676.0</td>\n",
       "      <td>17576.0</td>\n",
       "    </tr>\n",
       "    <tr>\n",
       "      <th>threatened</th>\n",
       "      <td>0.0</td>\n",
       "      <td>0.0</td>\n",
       "      <td>0.0</td>\n",
       "      <td>0.0</td>\n",
       "      <td>0.0</td>\n",
       "      <td>0.0</td>\n",
       "      <td>0.0</td>\n",
       "      <td>0.0</td>\n",
       "      <td>0.0</td>\n",
       "      <td>0.0</td>\n",
       "      <td>...</td>\n",
       "      <td>0.0</td>\n",
       "      <td>0.0</td>\n",
       "      <td>0.0</td>\n",
       "      <td>0.0</td>\n",
       "      <td>1.0</td>\n",
       "      <td>0.0</td>\n",
       "      <td>0.0</td>\n",
       "      <td>26.0</td>\n",
       "      <td>676.0</td>\n",
       "      <td>17576.0</td>\n",
       "    </tr>\n",
       "    <tr>\n",
       "      <th>gunhome</th>\n",
       "      <td>0.0</td>\n",
       "      <td>0.0</td>\n",
       "      <td>0.0</td>\n",
       "      <td>0.0</td>\n",
       "      <td>0.0</td>\n",
       "      <td>0.0</td>\n",
       "      <td>0.0</td>\n",
       "      <td>1.0</td>\n",
       "      <td>0.0</td>\n",
       "      <td>0.0</td>\n",
       "      <td>...</td>\n",
       "      <td>0.0</td>\n",
       "      <td>0.0</td>\n",
       "      <td>0.0</td>\n",
       "      <td>0.0</td>\n",
       "      <td>0.0</td>\n",
       "      <td>0.0</td>\n",
       "      <td>0.0</td>\n",
       "      <td>26.0</td>\n",
       "      <td>676.0</td>\n",
       "      <td>17576.0</td>\n",
       "    </tr>\n",
       "    <tr>\n",
       "      <th>yminus10</th>\n",
       "      <td>0.0</td>\n",
       "      <td>0.0</td>\n",
       "      <td>0.0</td>\n",
       "      <td>0.0</td>\n",
       "      <td>0.0</td>\n",
       "      <td>0.0</td>\n",
       "      <td>0.0</td>\n",
       "      <td>0.0</td>\n",
       "      <td>0.0</td>\n",
       "      <td>0.0</td>\n",
       "      <td>...</td>\n",
       "      <td>0.0</td>\n",
       "      <td>0.0</td>\n",
       "      <td>0.0</td>\n",
       "      <td>0.0</td>\n",
       "      <td>0.0</td>\n",
       "      <td>0.0</td>\n",
       "      <td>0.0</td>\n",
       "      <td>16.0</td>\n",
       "      <td>256.0</td>\n",
       "      <td>4096.0</td>\n",
       "    </tr>\n",
       "    <tr>\n",
       "      <th>yminus20</th>\n",
       "      <td>0.0</td>\n",
       "      <td>0.0</td>\n",
       "      <td>0.0</td>\n",
       "      <td>0.0</td>\n",
       "      <td>0.0</td>\n",
       "      <td>0.0</td>\n",
       "      <td>0.0</td>\n",
       "      <td>0.0</td>\n",
       "      <td>0.0</td>\n",
       "      <td>0.0</td>\n",
       "      <td>...</td>\n",
       "      <td>0.0</td>\n",
       "      <td>0.0</td>\n",
       "      <td>0.0</td>\n",
       "      <td>0.0</td>\n",
       "      <td>0.0</td>\n",
       "      <td>0.0</td>\n",
       "      <td>0.0</td>\n",
       "      <td>6.0</td>\n",
       "      <td>36.0</td>\n",
       "      <td>216.0</td>\n",
       "    </tr>\n",
       "    <tr>\n",
       "      <th>yminus30</th>\n",
       "      <td>0.0</td>\n",
       "      <td>0.0</td>\n",
       "      <td>0.0</td>\n",
       "      <td>0.0</td>\n",
       "      <td>0.0</td>\n",
       "      <td>0.0</td>\n",
       "      <td>0.0</td>\n",
       "      <td>0.0</td>\n",
       "      <td>0.0</td>\n",
       "      <td>0.0</td>\n",
       "      <td>...</td>\n",
       "      <td>0.0</td>\n",
       "      <td>0.0</td>\n",
       "      <td>0.0</td>\n",
       "      <td>0.0</td>\n",
       "      <td>0.0</td>\n",
       "      <td>0.0</td>\n",
       "      <td>0.0</td>\n",
       "      <td>-4.0</td>\n",
       "      <td>16.0</td>\n",
       "      <td>-64.0</td>\n",
       "    </tr>\n",
       "    <tr>\n",
       "      <th>yminus40</th>\n",
       "      <td>0.0</td>\n",
       "      <td>0.0</td>\n",
       "      <td>0.0</td>\n",
       "      <td>0.0</td>\n",
       "      <td>0.0</td>\n",
       "      <td>0.0</td>\n",
       "      <td>0.0</td>\n",
       "      <td>0.0</td>\n",
       "      <td>0.0</td>\n",
       "      <td>0.0</td>\n",
       "      <td>...</td>\n",
       "      <td>0.0</td>\n",
       "      <td>0.0</td>\n",
       "      <td>0.0</td>\n",
       "      <td>0.0</td>\n",
       "      <td>0.0</td>\n",
       "      <td>0.0</td>\n",
       "      <td>0.0</td>\n",
       "      <td>-14.0</td>\n",
       "      <td>196.0</td>\n",
       "      <td>-2744.0</td>\n",
       "    </tr>\n",
       "    <tr>\n",
       "      <th>lowest combo</th>\n",
       "      <td>0.0</td>\n",
       "      <td>0.0</td>\n",
       "      <td>1.0</td>\n",
       "      <td>0.0</td>\n",
       "      <td>0.0</td>\n",
       "      <td>0.0</td>\n",
       "      <td>0.0</td>\n",
       "      <td>1.0</td>\n",
       "      <td>0.0</td>\n",
       "      <td>0.0</td>\n",
       "      <td>...</td>\n",
       "      <td>0.0</td>\n",
       "      <td>1.0</td>\n",
       "      <td>0.0</td>\n",
       "      <td>0.0</td>\n",
       "      <td>1.0</td>\n",
       "      <td>0.0</td>\n",
       "      <td>0.0</td>\n",
       "      <td>26.0</td>\n",
       "      <td>676.0</td>\n",
       "      <td>17576.0</td>\n",
       "    </tr>\n",
       "    <tr>\n",
       "      <th>highest combo</th>\n",
       "      <td>0.0</td>\n",
       "      <td>1.0</td>\n",
       "      <td>0.0</td>\n",
       "      <td>0.0</td>\n",
       "      <td>1.0</td>\n",
       "      <td>0.0</td>\n",
       "      <td>0.0</td>\n",
       "      <td>0.0</td>\n",
       "      <td>1.0</td>\n",
       "      <td>0.0</td>\n",
       "      <td>...</td>\n",
       "      <td>1.0</td>\n",
       "      <td>0.0</td>\n",
       "      <td>0.0</td>\n",
       "      <td>0.0</td>\n",
       "      <td>0.0</td>\n",
       "      <td>0.0</td>\n",
       "      <td>0.0</td>\n",
       "      <td>26.0</td>\n",
       "      <td>676.0</td>\n",
       "      <td>17576.0</td>\n",
       "    </tr>\n",
       "  </tbody>\n",
       "</table>\n",
       "<p>27 rows × 23 columns</p>\n",
       "</div>"
      ],
      "text/plain": [
       "               black  college  conservative  eighties  female  fifties  \\\n",
       "base             0.0      0.0           0.0       0.0     0.0      0.0   \n",
       "nineties         0.0      0.0           0.0       0.0     0.0      0.0   \n",
       "eighties         0.0      0.0           0.0       1.0     0.0      0.0   \n",
       "seventies        0.0      0.0           0.0       0.0     0.0      0.0   \n",
       "fifties          0.0      0.0           0.0       0.0     0.0      1.0   \n",
       "forties          0.0      0.0           0.0       0.0     0.0      0.0   \n",
       "thirties         0.0      0.0           0.0       0.0     0.0      0.0   \n",
       "twenties         0.0      0.0           0.0       0.0     0.0      0.0   \n",
       "female           0.0      0.0           0.0       0.0     1.0      0.0   \n",
       "black            1.0      0.0           0.0       0.0     0.0      0.0   \n",
       "otherrace        0.0      0.0           0.0       0.0     0.0      0.0   \n",
       "ishisp           0.0      0.0           0.0       0.0     0.0      0.0   \n",
       "conservative     0.0      0.0           1.0       0.0     0.0      0.0   \n",
       "liberal          0.0      0.0           0.0       0.0     0.0      0.0   \n",
       "lowrealinc       0.0      0.0           0.0       0.0     0.0      0.0   \n",
       "highrealinc      0.0      0.0           0.0       0.0     0.0      0.0   \n",
       "college          0.0      1.0           0.0       0.0     0.0      0.0   \n",
       "urban            0.0      0.0           0.0       0.0     0.0      0.0   \n",
       "rural            0.0      0.0           0.0       0.0     0.0      0.0   \n",
       "threatened       0.0      0.0           0.0       0.0     0.0      0.0   \n",
       "gunhome          0.0      0.0           0.0       0.0     0.0      0.0   \n",
       "yminus10         0.0      0.0           0.0       0.0     0.0      0.0   \n",
       "yminus20         0.0      0.0           0.0       0.0     0.0      0.0   \n",
       "yminus30         0.0      0.0           0.0       0.0     0.0      0.0   \n",
       "yminus40         0.0      0.0           0.0       0.0     0.0      0.0   \n",
       "lowest combo     0.0      0.0           1.0       0.0     0.0      0.0   \n",
       "highest combo    0.0      1.0           0.0       0.0     1.0      0.0   \n",
       "\n",
       "               forties  gunhome  highrealinc  ishisp   ...     otherrace  \\\n",
       "base               0.0      0.0          0.0     0.0   ...           0.0   \n",
       "nineties           0.0      0.0          0.0     0.0   ...           0.0   \n",
       "eighties           0.0      0.0          0.0     0.0   ...           0.0   \n",
       "seventies          0.0      0.0          0.0     0.0   ...           0.0   \n",
       "fifties            0.0      0.0          0.0     0.0   ...           0.0   \n",
       "forties            1.0      0.0          0.0     0.0   ...           0.0   \n",
       "thirties           0.0      0.0          0.0     0.0   ...           0.0   \n",
       "twenties           0.0      0.0          0.0     0.0   ...           0.0   \n",
       "female             0.0      0.0          0.0     0.0   ...           0.0   \n",
       "black              0.0      0.0          0.0     0.0   ...           0.0   \n",
       "otherrace          0.0      0.0          0.0     0.0   ...           1.0   \n",
       "ishisp             0.0      0.0          0.0     1.0   ...           0.0   \n",
       "conservative       0.0      0.0          0.0     0.0   ...           0.0   \n",
       "liberal            0.0      0.0          0.0     0.0   ...           0.0   \n",
       "lowrealinc         0.0      0.0          0.0     0.0   ...           0.0   \n",
       "highrealinc        0.0      0.0          1.0     0.0   ...           0.0   \n",
       "college            0.0      0.0          0.0     0.0   ...           0.0   \n",
       "urban              0.0      0.0          0.0     0.0   ...           0.0   \n",
       "rural              0.0      0.0          0.0     0.0   ...           0.0   \n",
       "threatened         0.0      0.0          0.0     0.0   ...           0.0   \n",
       "gunhome            0.0      1.0          0.0     0.0   ...           0.0   \n",
       "yminus10           0.0      0.0          0.0     0.0   ...           0.0   \n",
       "yminus20           0.0      0.0          0.0     0.0   ...           0.0   \n",
       "yminus30           0.0      0.0          0.0     0.0   ...           0.0   \n",
       "yminus40           0.0      0.0          0.0     0.0   ...           0.0   \n",
       "lowest combo       0.0      1.0          0.0     0.0   ...           0.0   \n",
       "highest combo      0.0      0.0          1.0     0.0   ...           1.0   \n",
       "\n",
       "               rural  seventies  thirties  threatened  twenties  urban     y  \\\n",
       "base             0.0        0.0       0.0         0.0       0.0    0.0  26.0   \n",
       "nineties         0.0        0.0       0.0         0.0       0.0    0.0  26.0   \n",
       "eighties         0.0        0.0       0.0         0.0       0.0    0.0  26.0   \n",
       "seventies        0.0        1.0       0.0         0.0       0.0    0.0  26.0   \n",
       "fifties          0.0        0.0       0.0         0.0       0.0    0.0  26.0   \n",
       "forties          0.0        0.0       0.0         0.0       0.0    0.0  26.0   \n",
       "thirties         0.0        0.0       1.0         0.0       0.0    0.0  26.0   \n",
       "twenties         0.0        0.0       0.0         0.0       1.0    0.0  26.0   \n",
       "female           0.0        0.0       0.0         0.0       0.0    0.0  26.0   \n",
       "black            0.0        0.0       0.0         0.0       0.0    0.0  26.0   \n",
       "otherrace        0.0        0.0       0.0         0.0       0.0    0.0  26.0   \n",
       "ishisp           0.0        0.0       0.0         0.0       0.0    0.0  26.0   \n",
       "conservative     0.0        0.0       0.0         0.0       0.0    0.0  26.0   \n",
       "liberal          0.0        0.0       0.0         0.0       0.0    0.0  26.0   \n",
       "lowrealinc       0.0        0.0       0.0         0.0       0.0    0.0  26.0   \n",
       "highrealinc      0.0        0.0       0.0         0.0       0.0    0.0  26.0   \n",
       "college          0.0        0.0       0.0         0.0       0.0    0.0  26.0   \n",
       "urban            0.0        0.0       0.0         0.0       0.0    1.0  26.0   \n",
       "rural            1.0        0.0       0.0         0.0       0.0    0.0  26.0   \n",
       "threatened       0.0        0.0       0.0         1.0       0.0    0.0  26.0   \n",
       "gunhome          0.0        0.0       0.0         0.0       0.0    0.0  26.0   \n",
       "yminus10         0.0        0.0       0.0         0.0       0.0    0.0  16.0   \n",
       "yminus20         0.0        0.0       0.0         0.0       0.0    0.0   6.0   \n",
       "yminus30         0.0        0.0       0.0         0.0       0.0    0.0  -4.0   \n",
       "yminus40         0.0        0.0       0.0         0.0       0.0    0.0 -14.0   \n",
       "lowest combo     1.0        0.0       0.0         1.0       0.0    0.0  26.0   \n",
       "highest combo    0.0        0.0       0.0         0.0       0.0    0.0  26.0   \n",
       "\n",
       "                  y2       y3  \n",
       "base           676.0  17576.0  \n",
       "nineties       676.0  17576.0  \n",
       "eighties       676.0  17576.0  \n",
       "seventies      676.0  17576.0  \n",
       "fifties        676.0  17576.0  \n",
       "forties        676.0  17576.0  \n",
       "thirties       676.0  17576.0  \n",
       "twenties       676.0  17576.0  \n",
       "female         676.0  17576.0  \n",
       "black          676.0  17576.0  \n",
       "otherrace      676.0  17576.0  \n",
       "ishisp         676.0  17576.0  \n",
       "conservative   676.0  17576.0  \n",
       "liberal        676.0  17576.0  \n",
       "lowrealinc     676.0  17576.0  \n",
       "highrealinc    676.0  17576.0  \n",
       "college        676.0  17576.0  \n",
       "urban          676.0  17576.0  \n",
       "rural          676.0  17576.0  \n",
       "threatened     676.0  17576.0  \n",
       "gunhome        676.0  17576.0  \n",
       "yminus10       256.0   4096.0  \n",
       "yminus20        36.0    216.0  \n",
       "yminus30        16.0    -64.0  \n",
       "yminus40       196.0  -2744.0  \n",
       "lowest combo   676.0  17576.0  \n",
       "highest combo  676.0  17576.0  \n",
       "\n",
       "[27 rows x 23 columns]"
      ]
     },
     "execution_count": 100,
     "metadata": {},
     "output_type": "execute_result"
    }
   ],
   "source": [
    "def make_df_pred():\n",
    "    def add_yminus(df, varname, offset):\n",
    "        \"\"\"\n",
    "    \n",
    "        \"\"\"\n",
    "        df.loc[varname] = base\n",
    "        df.loc[varname, 'y'] += offset\n",
    "        df.loc[varname, 'y2'] = df.loc[varname, 'y']**2\n",
    "        df.loc[varname, 'y3'] = df.loc[varname, 'y']**3\n",
    "    \n",
    "    base = make_base()\n",
    "    df_pred = pd.DataFrame(columns=base.index, dtype=float)\n",
    "    #df_pred = pd.DataFrame(columns=sample.columns)\n",
    "    \n",
    "    df_pred.loc['base'] = base\n",
    "\n",
    "    for varname in varnames:\n",
    "        df_pred.loc[varname] = base\n",
    "        df_pred.loc[varname, varname] = 1\n",
    "    \n",
    "    add_yminus(df_pred, 'yminus10', -10)\n",
    "    add_yminus(df_pred, 'yminus20', -20)\n",
    "    add_yminus(df_pred, 'yminus30', -30)\n",
    "    add_yminus(df_pred, 'yminus40', -40)\n",
    "    \n",
    "    df_pred.loc['lowest combo'] = base\n",
    "    low_vars = ['gunhome', 'nineties', 'rural', \n",
    "                'conservative', 'lowrealinc', 'threatened']\n",
    "    df_pred.loc['lowest combo', low_vars] = 1\n",
    "    \n",
    "    df_pred.loc['highest combo'] = base\n",
    "    high_vars = ['female', 'otherrace', 'liberal', \n",
    "                'college', 'highrealinc']\n",
    "    df_pred.loc['highest combo', high_vars] = 1\n",
    "    \n",
    "    return df_pred\n",
    "    \n",
    "df_pred = make_df_pred()\n",
    "df_pred"
   ]
  },
  {
   "cell_type": "code",
   "execution_count": 101,
   "metadata": {},
   "outputs": [
    {
     "data": {
      "text/plain": [
       "base             71.473539\n",
       "nineties         57.824306\n",
       "eighties         64.254847\n",
       "seventies        69.447268\n",
       "fifties          71.506540\n",
       "forties          71.761003\n",
       "thirties         70.503780\n",
       "twenties         69.699580\n",
       "female           83.494767\n",
       "black            76.266609\n",
       "otherrace        79.362165\n",
       "ishisp           70.916076\n",
       "conservative     65.592233\n",
       "liberal          76.489862\n",
       "lowrealinc       69.208189\n",
       "highrealinc      73.126893\n",
       "college          72.683542\n",
       "urban            66.286120\n",
       "rural            60.987636\n",
       "threatened       68.700232\n",
       "gunhome          51.209961\n",
       "yminus10         84.493884\n",
       "yminus20         84.385407\n",
       "yminus30         80.227125\n",
       "yminus40         79.287687\n",
       "lowest combo     17.645923\n",
       "highest combo    92.081291\n",
       "dtype: float64"
      ]
     },
     "execution_count": 101,
     "metadata": {},
     "output_type": "execute_result"
    }
   ],
   "source": [
    "pred = model.predict(df_pred) * 100\n",
    "pred"
   ]
  },
  {
   "cell_type": "code",
   "execution_count": 102,
   "metadata": {},
   "outputs": [
    {
     "data": {
      "text/plain": [
       "base              0.000000\n",
       "nineties        -13.649233\n",
       "eighties         -7.218692\n",
       "seventies        -2.026272\n",
       "fifties           0.033001\n",
       "forties           0.287463\n",
       "thirties         -0.969760\n",
       "twenties         -1.773959\n",
       "female           12.021228\n",
       "black             4.793069\n",
       "otherrace         7.888626\n",
       "ishisp           -0.557463\n",
       "conservative     -5.881307\n",
       "liberal           5.016322\n",
       "lowrealinc       -2.265351\n",
       "highrealinc       1.653354\n",
       "college           1.210002\n",
       "urban            -5.187419\n",
       "rural           -10.485903\n",
       "threatened       -2.773307\n",
       "gunhome         -20.263578\n",
       "yminus10         13.020345\n",
       "yminus20         12.911868\n",
       "yminus30          8.753586\n",
       "yminus40          7.814147\n",
       "lowest combo    -53.827616\n",
       "highest combo    20.607752\n",
       "dtype: float64"
      ]
     },
     "execution_count": 102,
     "metadata": {},
     "output_type": "execute_result"
    }
   ],
   "source": [
    "pred - pred['base']"
   ]
  },
  {
   "cell_type": "code",
   "execution_count": 103,
   "metadata": {},
   "outputs": [
    {
     "data": {
      "text/html": [
       "<div>\n",
       "<style>\n",
       "    .dataframe thead tr:only-child th {\n",
       "        text-align: right;\n",
       "    }\n",
       "\n",
       "    .dataframe thead th {\n",
       "        text-align: left;\n",
       "    }\n",
       "\n",
       "    .dataframe tbody tr th {\n",
       "        vertical-align: top;\n",
       "    }\n",
       "</style>\n",
       "<table border=\"1\" class=\"dataframe\">\n",
       "  <thead>\n",
       "    <tr style=\"text-align: right;\">\n",
       "      <th></th>\n",
       "      <th>pred</th>\n",
       "      <th>offset</th>\n",
       "    </tr>\n",
       "  </thead>\n",
       "  <tbody>\n",
       "    <tr>\n",
       "      <th>base</th>\n",
       "      <td>71.473539</td>\n",
       "      <td>0.000000</td>\n",
       "    </tr>\n",
       "    <tr>\n",
       "      <th>nineties</th>\n",
       "      <td>57.824306</td>\n",
       "      <td>-13.649233</td>\n",
       "    </tr>\n",
       "    <tr>\n",
       "      <th>eighties</th>\n",
       "      <td>64.254847</td>\n",
       "      <td>-7.218692</td>\n",
       "    </tr>\n",
       "    <tr>\n",
       "      <th>seventies</th>\n",
       "      <td>69.447268</td>\n",
       "      <td>-2.026272</td>\n",
       "    </tr>\n",
       "    <tr>\n",
       "      <th>fifties</th>\n",
       "      <td>71.506540</td>\n",
       "      <td>0.033001</td>\n",
       "    </tr>\n",
       "    <tr>\n",
       "      <th>forties</th>\n",
       "      <td>71.761003</td>\n",
       "      <td>0.287463</td>\n",
       "    </tr>\n",
       "    <tr>\n",
       "      <th>thirties</th>\n",
       "      <td>70.503780</td>\n",
       "      <td>-0.969760</td>\n",
       "    </tr>\n",
       "    <tr>\n",
       "      <th>twenties</th>\n",
       "      <td>69.699580</td>\n",
       "      <td>-1.773959</td>\n",
       "    </tr>\n",
       "    <tr>\n",
       "      <th>female</th>\n",
       "      <td>83.494767</td>\n",
       "      <td>12.021228</td>\n",
       "    </tr>\n",
       "    <tr>\n",
       "      <th>black</th>\n",
       "      <td>76.266609</td>\n",
       "      <td>4.793069</td>\n",
       "    </tr>\n",
       "    <tr>\n",
       "      <th>otherrace</th>\n",
       "      <td>79.362165</td>\n",
       "      <td>7.888626</td>\n",
       "    </tr>\n",
       "    <tr>\n",
       "      <th>ishisp</th>\n",
       "      <td>70.916076</td>\n",
       "      <td>-0.557463</td>\n",
       "    </tr>\n",
       "    <tr>\n",
       "      <th>conservative</th>\n",
       "      <td>65.592233</td>\n",
       "      <td>-5.881307</td>\n",
       "    </tr>\n",
       "    <tr>\n",
       "      <th>liberal</th>\n",
       "      <td>76.489862</td>\n",
       "      <td>5.016322</td>\n",
       "    </tr>\n",
       "    <tr>\n",
       "      <th>lowrealinc</th>\n",
       "      <td>69.208189</td>\n",
       "      <td>-2.265351</td>\n",
       "    </tr>\n",
       "    <tr>\n",
       "      <th>highrealinc</th>\n",
       "      <td>73.126893</td>\n",
       "      <td>1.653354</td>\n",
       "    </tr>\n",
       "    <tr>\n",
       "      <th>college</th>\n",
       "      <td>72.683542</td>\n",
       "      <td>1.210002</td>\n",
       "    </tr>\n",
       "    <tr>\n",
       "      <th>urban</th>\n",
       "      <td>66.286120</td>\n",
       "      <td>-5.187419</td>\n",
       "    </tr>\n",
       "    <tr>\n",
       "      <th>rural</th>\n",
       "      <td>60.987636</td>\n",
       "      <td>-10.485903</td>\n",
       "    </tr>\n",
       "    <tr>\n",
       "      <th>threatened</th>\n",
       "      <td>68.700232</td>\n",
       "      <td>-2.773307</td>\n",
       "    </tr>\n",
       "    <tr>\n",
       "      <th>gunhome</th>\n",
       "      <td>51.209961</td>\n",
       "      <td>-20.263578</td>\n",
       "    </tr>\n",
       "    <tr>\n",
       "      <th>yminus10</th>\n",
       "      <td>84.493884</td>\n",
       "      <td>13.020345</td>\n",
       "    </tr>\n",
       "    <tr>\n",
       "      <th>yminus20</th>\n",
       "      <td>84.385407</td>\n",
       "      <td>12.911868</td>\n",
       "    </tr>\n",
       "    <tr>\n",
       "      <th>yminus30</th>\n",
       "      <td>80.227125</td>\n",
       "      <td>8.753586</td>\n",
       "    </tr>\n",
       "    <tr>\n",
       "      <th>yminus40</th>\n",
       "      <td>79.287687</td>\n",
       "      <td>7.814147</td>\n",
       "    </tr>\n",
       "    <tr>\n",
       "      <th>lowest combo</th>\n",
       "      <td>17.645923</td>\n",
       "      <td>-53.827616</td>\n",
       "    </tr>\n",
       "    <tr>\n",
       "      <th>highest combo</th>\n",
       "      <td>92.081291</td>\n",
       "      <td>20.607752</td>\n",
       "    </tr>\n",
       "  </tbody>\n",
       "</table>\n",
       "</div>"
      ],
      "text/plain": [
       "                    pred     offset\n",
       "base           71.473539   0.000000\n",
       "nineties       57.824306 -13.649233\n",
       "eighties       64.254847  -7.218692\n",
       "seventies      69.447268  -2.026272\n",
       "fifties        71.506540   0.033001\n",
       "forties        71.761003   0.287463\n",
       "thirties       70.503780  -0.969760\n",
       "twenties       69.699580  -1.773959\n",
       "female         83.494767  12.021228\n",
       "black          76.266609   4.793069\n",
       "otherrace      79.362165   7.888626\n",
       "ishisp         70.916076  -0.557463\n",
       "conservative   65.592233  -5.881307\n",
       "liberal        76.489862   5.016322\n",
       "lowrealinc     69.208189  -2.265351\n",
       "highrealinc    73.126893   1.653354\n",
       "college        72.683542   1.210002\n",
       "urban          66.286120  -5.187419\n",
       "rural          60.987636 -10.485903\n",
       "threatened     68.700232  -2.773307\n",
       "gunhome        51.209961 -20.263578\n",
       "yminus10       84.493884  13.020345\n",
       "yminus20       84.385407  12.911868\n",
       "yminus30       80.227125   8.753586\n",
       "yminus40       79.287687   7.814147\n",
       "lowest combo   17.645923 -53.827616\n",
       "highest combo  92.081291  20.607752"
      ]
     },
     "execution_count": 103,
     "metadata": {},
     "output_type": "execute_result"
    }
   ],
   "source": [
    "def make_result(pred):\n",
    "    result = pd.DataFrame()\n",
    "    result['pred'] = pred\n",
    "    result['offset'] = pred - pred['base']\n",
    "    return result\n",
    "\n",
    "result = make_result(pred)\n",
    "result"
   ]
  },
  {
   "cell_type": "markdown",
   "metadata": {},
   "source": [
    "### Iterate"
   ]
  },
  {
   "cell_type": "code",
   "execution_count": 104,
   "metadata": {
    "collapsed": true
   },
   "outputs": [],
   "source": [
    "def run(iters=101):\n",
    "    gss = utils.ReadGss('gss_gun')\n",
    "    replace_invalid(gss)\n",
    "    \n",
    "    results = []\n",
    "    for i in range(iters):\n",
    "        sample = utils.ResampleByYear(gss).copy()\n",
    "        fill_all_missing(sample)\n",
    "        make_booleans(sample)\n",
    "        center_factors(sample)\n",
    "        data = sample.dropna(subset=['gunlaw'])\n",
    "    \n",
    "        model = smf.logit(formula, data=data).fit()\n",
    "\n",
    "        df_pred = make_df_pred()\n",
    "        pred = model.predict(df_pred) * 100\n",
    "        result = make_result(pred)\n",
    "        \n",
    "        results.append(result)\n",
    "    return results"
   ]
  },
  {
   "cell_type": "code",
   "execution_count": 105,
   "metadata": {},
   "outputs": [
    {
     "name": "stdout",
     "output_type": "stream",
     "text": [
      "year 0\n",
      "cohort 175\n",
      "owngun 24877\n",
      "gun 43113\n",
      "natcrime 28106\n",
      "income 8383\n",
      "realinc 6706\n",
      "educ 149\n",
      "polviews 9234\n",
      "sex 0\n",
      "race 0\n",
      "hispanic 38145\n",
      "srcbelt 0\n",
      "age 175\n",
      "Optimization terminated successfully.\n",
      "         Current function value: 0.501334\n",
      "         Iterations 6\n",
      "year 0\n",
      "cohort 183\n",
      "owngun 24803\n",
      "gun 43270\n",
      "natcrime 28001\n",
      "income 8470\n",
      "realinc 6823\n",
      "educ 158\n",
      "polviews 9270\n",
      "sex 0\n",
      "race 0\n",
      "hispanic 38143\n",
      "srcbelt 0\n",
      "age 183\n",
      "Optimization terminated successfully.\n",
      "         Current function value: 0.502016\n",
      "         Iterations 6\n",
      "year 0\n",
      "cohort 197\n",
      "owngun 24939\n",
      "gun 43175\n",
      "natcrime 27920\n",
      "income 8493\n",
      "realinc 6834\n",
      "educ 153\n",
      "polviews 9210\n",
      "sex 0\n",
      "race 0\n",
      "hispanic 38146\n",
      "srcbelt 0\n",
      "age 199\n",
      "Optimization terminated successfully.\n",
      "         Current function value: 0.499976\n",
      "         Iterations 6\n",
      "year 0\n",
      "cohort 221\n",
      "owngun 24886\n",
      "gun 43076\n",
      "natcrime 28018\n",
      "income 8242\n",
      "realinc 6616\n",
      "educ 175\n",
      "polviews 9289\n",
      "sex 0\n",
      "race 0\n",
      "hispanic 38148\n",
      "srcbelt 0\n",
      "age 221\n",
      "Optimization terminated successfully.\n",
      "         Current function value: 0.500461\n",
      "         Iterations 6\n",
      "year 0\n",
      "cohort 194\n",
      "owngun 24699\n",
      "gun 43199\n",
      "natcrime 28008\n",
      "income 8545\n",
      "realinc 6935\n",
      "educ 187\n",
      "polviews 9371\n",
      "sex 0\n",
      "race 0\n",
      "hispanic 38152\n",
      "srcbelt 0\n",
      "age 194\n",
      "Optimization terminated successfully.\n",
      "         Current function value: 0.506086\n",
      "         Iterations 6\n",
      "year 0\n",
      "cohort 188\n",
      "owngun 25121\n",
      "gun 43166\n",
      "natcrime 27819\n",
      "income 8424\n",
      "realinc 6805\n",
      "educ 162\n",
      "polviews 9279\n",
      "sex 0\n",
      "race 0\n",
      "hispanic 38152\n",
      "srcbelt 0\n",
      "age 188\n",
      "Optimization terminated successfully.\n",
      "         Current function value: 0.505869\n",
      "         Iterations 6\n",
      "year 0\n",
      "cohort 175\n",
      "owngun 24889\n",
      "gun 43146\n",
      "natcrime 28005\n",
      "income 8476\n",
      "realinc 6809\n",
      "educ 173\n",
      "polviews 9464\n",
      "sex 0\n",
      "race 0\n",
      "hispanic 38150\n",
      "srcbelt 0\n",
      "age 175\n",
      "Optimization terminated successfully.\n",
      "         Current function value: 0.508363\n",
      "         Iterations 6\n",
      "year 0\n",
      "cohort 191\n",
      "owngun 24658\n",
      "gun 43151\n",
      "natcrime 27891\n",
      "income 8565\n",
      "realinc 6925\n",
      "educ 157\n",
      "polviews 9272\n",
      "sex 0\n",
      "race 0\n",
      "hispanic 38147\n",
      "srcbelt 0\n",
      "age 190\n",
      "Optimization terminated successfully.\n",
      "         Current function value: 0.502686\n",
      "         Iterations 6\n",
      "year 0\n",
      "cohort 215\n",
      "owngun 24734\n",
      "gun 43154\n",
      "natcrime 28164\n",
      "income 8497\n",
      "realinc 6853\n",
      "educ 167\n",
      "polviews 9310\n",
      "sex 0\n",
      "race 0\n",
      "hispanic 38151\n",
      "srcbelt 0\n",
      "age 218\n",
      "Optimization terminated successfully.\n",
      "         Current function value: 0.503867\n",
      "         Iterations 6\n",
      "year 0\n",
      "cohort 181\n",
      "owngun 24939\n",
      "gun 43115\n",
      "natcrime 27857\n",
      "income 8422\n",
      "realinc 6802\n",
      "educ 138\n",
      "polviews 9350\n",
      "sex 0\n",
      "race 0\n",
      "hispanic 38159\n",
      "srcbelt 0\n",
      "age 183\n",
      "Optimization terminated successfully.\n",
      "         Current function value: 0.506189\n",
      "         Iterations 6\n",
      "year 0\n",
      "cohort 190\n",
      "owngun 24784\n",
      "gun 43235\n",
      "natcrime 28095\n",
      "income 8525\n",
      "realinc 6915\n",
      "educ 139\n",
      "polviews 9317\n",
      "sex 0\n",
      "race 0\n",
      "hispanic 38162\n",
      "srcbelt 0\n",
      "age 190\n",
      "Optimization terminated successfully.\n",
      "         Current function value: 0.502257\n",
      "         Iterations 6\n",
      "year 0\n",
      "cohort 191\n",
      "owngun 24765\n",
      "gun 43088\n",
      "natcrime 27931\n",
      "income 8455\n",
      "realinc 6822\n",
      "educ 158\n",
      "polviews 9309\n",
      "sex 0\n",
      "race 0\n",
      "hispanic 38150\n",
      "srcbelt 0\n",
      "age 189\n",
      "Optimization terminated successfully.\n",
      "         Current function value: 0.507637\n",
      "         Iterations 6\n",
      "year 0\n",
      "cohort 192\n",
      "owngun 24945\n",
      "gun 43153\n",
      "natcrime 27889\n",
      "income 8438\n",
      "realinc 6808\n",
      "educ 163\n",
      "polviews 9398\n",
      "sex 0\n",
      "race 0\n",
      "hispanic 38149\n",
      "srcbelt 0\n",
      "age 194\n",
      "Optimization terminated successfully.\n",
      "         Current function value: 0.506002\n",
      "         Iterations 6\n",
      "year 0\n",
      "cohort 192\n",
      "owngun 24759\n",
      "gun 43164\n",
      "natcrime 27936\n",
      "income 8422\n",
      "realinc 6794\n",
      "educ 177\n",
      "polviews 9302\n",
      "sex 0\n",
      "race 0\n",
      "hispanic 38157\n",
      "srcbelt 0\n",
      "age 191\n",
      "Optimization terminated successfully.\n",
      "         Current function value: 0.504631\n",
      "         Iterations 6\n",
      "year 0\n",
      "cohort 204\n",
      "owngun 24972\n",
      "gun 43105\n",
      "natcrime 27941\n",
      "income 8571\n",
      "realinc 6933\n",
      "educ 177\n",
      "polviews 9350\n",
      "sex 0\n",
      "race 0\n",
      "hispanic 38151\n",
      "srcbelt 0\n",
      "age 204\n",
      "Optimization terminated successfully.\n",
      "         Current function value: 0.503796\n",
      "         Iterations 6\n",
      "year 0\n",
      "cohort 199\n",
      "owngun 24936\n",
      "gun 43181\n",
      "natcrime 28200\n",
      "income 8457\n",
      "realinc 6809\n",
      "educ 184\n",
      "polviews 9387\n",
      "sex 0\n",
      "race 0\n",
      "hispanic 38149\n",
      "srcbelt 0\n",
      "age 199\n",
      "Optimization terminated successfully.\n",
      "         Current function value: 0.495983\n",
      "         Iterations 6\n",
      "year 0\n",
      "cohort 179\n",
      "owngun 24656\n",
      "gun 43129\n",
      "natcrime 27947\n",
      "income 8466\n",
      "realinc 6827\n",
      "educ 139\n",
      "polviews 9359\n",
      "sex 0\n",
      "race 0\n",
      "hispanic 38155\n",
      "srcbelt 0\n",
      "age 178\n",
      "Optimization terminated successfully.\n",
      "         Current function value: 0.504628\n",
      "         Iterations 6\n",
      "year 0\n",
      "cohort 194\n",
      "owngun 24691\n",
      "gun 43183\n",
      "natcrime 28160\n",
      "income 8403\n",
      "realinc 6757\n",
      "educ 164\n",
      "polviews 9323\n",
      "sex 0\n",
      "race 0\n",
      "hispanic 38156\n",
      "srcbelt 0\n",
      "age 194\n",
      "Optimization terminated successfully.\n",
      "         Current function value: 0.501086\n",
      "         Iterations 6\n",
      "year 0\n",
      "cohort 180\n",
      "owngun 24934\n",
      "gun 43136\n",
      "natcrime 27994\n",
      "income 8501\n",
      "realinc 6849\n",
      "educ 152\n",
      "polviews 9410\n",
      "sex 0\n",
      "race 0\n",
      "hispanic 38143\n",
      "srcbelt 0\n",
      "age 180\n",
      "Optimization terminated successfully.\n",
      "         Current function value: 0.503859\n",
      "         Iterations 6\n",
      "year 0\n",
      "cohort 176\n",
      "owngun 24863\n",
      "gun 43199\n",
      "natcrime 28035\n",
      "income 8459\n",
      "realinc 6826\n",
      "educ 151\n",
      "polviews 9340\n",
      "sex 0\n",
      "race 0\n",
      "hispanic 38165\n",
      "srcbelt 0\n",
      "age 176\n",
      "Optimization terminated successfully.\n",
      "         Current function value: 0.500455\n",
      "         Iterations 6\n",
      "year 0\n",
      "cohort 187\n",
      "owngun 24890\n",
      "gun 43210\n",
      "natcrime 27847\n",
      "income 8473\n",
      "realinc 6830\n",
      "educ 147\n",
      "polviews 9359\n",
      "sex 0\n",
      "race 0\n",
      "hispanic 38144\n",
      "srcbelt 0\n",
      "age 188\n",
      "Optimization terminated successfully.\n",
      "         Current function value: 0.507415\n",
      "         Iterations 6\n",
      "year 0\n",
      "cohort 216\n",
      "owngun 25093\n",
      "gun 43120\n",
      "natcrime 27865\n",
      "income 8513\n",
      "realinc 6897\n",
      "educ 179\n",
      "polviews 9244\n",
      "sex 0\n",
      "race 0\n",
      "hispanic 38149\n",
      "srcbelt 0\n",
      "age 216\n",
      "Optimization terminated successfully.\n",
      "         Current function value: 0.498294\n",
      "         Iterations 6\n",
      "year 0\n",
      "cohort 207\n",
      "owngun 24882\n",
      "gun 43109\n",
      "natcrime 27964\n",
      "income 8377\n",
      "realinc 6752\n",
      "educ 167\n",
      "polviews 9216\n",
      "sex 0\n",
      "race 0\n",
      "hispanic 38146\n",
      "srcbelt 0\n",
      "age 206\n",
      "Optimization terminated successfully.\n",
      "         Current function value: 0.509459\n",
      "         Iterations 6\n",
      "year 0\n",
      "cohort 219\n",
      "owngun 24856\n",
      "gun 43109\n",
      "natcrime 28037\n",
      "income 8438\n",
      "realinc 6777\n",
      "educ 173\n",
      "polviews 9347\n",
      "sex 0\n",
      "race 0\n",
      "hispanic 38148\n",
      "srcbelt 0\n",
      "age 219\n",
      "Optimization terminated successfully.\n",
      "         Current function value: 0.503158\n",
      "         Iterations 6\n",
      "year 0\n",
      "cohort 196\n",
      "owngun 24713\n",
      "gun 43185\n",
      "natcrime 27891\n",
      "income 8402\n",
      "realinc 6737\n",
      "educ 154\n",
      "polviews 9373\n",
      "sex 0\n",
      "race 0\n",
      "hispanic 38158\n",
      "srcbelt 0\n",
      "age 196\n",
      "Optimization terminated successfully.\n",
      "         Current function value: 0.500607\n",
      "         Iterations 6\n",
      "year 0\n",
      "cohort 160\n",
      "owngun 24664\n",
      "gun 43187\n",
      "natcrime 28108\n",
      "income 8396\n",
      "realinc 6747\n",
      "educ 159\n",
      "polviews 9302\n",
      "sex 0\n",
      "race 0\n",
      "hispanic 38169\n",
      "srcbelt 0\n",
      "age 162\n",
      "Optimization terminated successfully.\n",
      "         Current function value: 0.505838\n",
      "         Iterations 6\n",
      "year 0\n",
      "cohort 194\n",
      "owngun 24838\n",
      "gun 43125\n",
      "natcrime 28091\n",
      "income 8465\n",
      "realinc 6842\n",
      "educ 149\n",
      "polviews 9335\n",
      "sex 0\n",
      "race 0\n",
      "hispanic 38158\n",
      "srcbelt 0\n",
      "age 195\n",
      "Optimization terminated successfully.\n",
      "         Current function value: 0.504149\n",
      "         Iterations 6\n",
      "year 0\n",
      "cohort 197\n",
      "owngun 24685\n",
      "gun 43201\n",
      "natcrime 27678\n",
      "income 8544\n",
      "realinc 6908\n",
      "educ 155\n",
      "polviews 9214\n",
      "sex 0\n",
      "race 0\n",
      "hispanic 38156\n",
      "srcbelt 0\n",
      "age 197\n",
      "Optimization terminated successfully.\n",
      "         Current function value: 0.505053\n",
      "         Iterations 6\n",
      "year 0\n",
      "cohort 197\n",
      "owngun 24735\n",
      "gun 43223\n",
      "natcrime 27972\n",
      "income 8593\n",
      "realinc 6939\n",
      "educ 164\n",
      "polviews 9244\n",
      "sex 0\n",
      "race 0\n",
      "hispanic 38151\n",
      "srcbelt 0\n",
      "age 196\n",
      "Optimization terminated successfully.\n",
      "         Current function value: 0.502818\n",
      "         Iterations 6\n",
      "year 0\n",
      "cohort 199\n",
      "owngun 24899\n",
      "gun 43136\n",
      "natcrime 28002\n",
      "income 8539\n",
      "realinc 6885\n",
      "educ 174\n",
      "polviews 9243\n",
      "sex 0\n",
      "race 0\n",
      "hispanic 38152\n",
      "srcbelt 0\n",
      "age 200\n",
      "Optimization terminated successfully.\n",
      "         Current function value: 0.500543\n",
      "         Iterations 6\n",
      "year 0\n",
      "cohort 205\n",
      "owngun 24753\n",
      "gun 43150\n",
      "natcrime 28165\n",
      "income 8569\n",
      "realinc 6915\n",
      "educ 167\n",
      "polviews 9301\n",
      "sex 0\n",
      "race 0\n",
      "hispanic 38140\n",
      "srcbelt 0\n",
      "age 204\n",
      "Optimization terminated successfully.\n",
      "         Current function value: 0.501028\n",
      "         Iterations 6\n",
      "year 0\n",
      "cohort 178\n",
      "owngun 24845\n",
      "gun 43175\n",
      "natcrime 28237\n",
      "income 8456\n",
      "realinc 6797\n",
      "educ 151\n",
      "polviews 9246\n",
      "sex 0\n",
      "race 0\n",
      "hispanic 38150\n",
      "srcbelt 0\n",
      "age 178\n",
      "Optimization terminated successfully.\n",
      "         Current function value: 0.500310\n",
      "         Iterations 6\n",
      "year 0\n",
      "cohort 168\n",
      "owngun 24721\n",
      "gun 43146\n",
      "natcrime 27789\n",
      "income 8485\n",
      "realinc 6838\n",
      "educ 141\n",
      "polviews 9174\n",
      "sex 0\n",
      "race 0\n",
      "hispanic 38153\n",
      "srcbelt 0\n",
      "age 167\n"
     ]
    },
    {
     "name": "stdout",
     "output_type": "stream",
     "text": [
      "Optimization terminated successfully.\n",
      "         Current function value: 0.505416\n",
      "         Iterations 6\n",
      "year 0\n",
      "cohort 175\n",
      "owngun 24783\n",
      "gun 43124\n",
      "natcrime 27942\n",
      "income 8430\n",
      "realinc 6781\n",
      "educ 191\n",
      "polviews 9303\n",
      "sex 0\n",
      "race 0\n",
      "hispanic 38160\n",
      "srcbelt 0\n",
      "age 175\n",
      "Optimization terminated successfully.\n",
      "         Current function value: 0.503349\n",
      "         Iterations 6\n",
      "year 0\n",
      "cohort 162\n",
      "owngun 25000\n",
      "gun 43121\n",
      "natcrime 28074\n",
      "income 8375\n",
      "realinc 6735\n",
      "educ 168\n",
      "polviews 9327\n",
      "sex 0\n",
      "race 0\n",
      "hispanic 38153\n",
      "srcbelt 0\n",
      "age 162\n",
      "Optimization terminated successfully.\n",
      "         Current function value: 0.499437\n",
      "         Iterations 6\n",
      "year 0\n",
      "cohort 195\n",
      "owngun 24800\n",
      "gun 43158\n",
      "natcrime 28018\n",
      "income 8493\n",
      "realinc 6858\n",
      "educ 161\n",
      "polviews 9324\n",
      "sex 0\n",
      "race 0\n",
      "hispanic 38149\n",
      "srcbelt 0\n",
      "age 196\n",
      "Optimization terminated successfully.\n",
      "         Current function value: 0.504680\n",
      "         Iterations 6\n",
      "year 0\n",
      "cohort 194\n",
      "owngun 24772\n",
      "gun 43193\n",
      "natcrime 28026\n",
      "income 8534\n",
      "realinc 6901\n",
      "educ 168\n",
      "polviews 9436\n",
      "sex 0\n",
      "race 0\n",
      "hispanic 38158\n",
      "srcbelt 0\n",
      "age 196\n",
      "Optimization terminated successfully.\n",
      "         Current function value: 0.504824\n",
      "         Iterations 6\n",
      "year 0\n",
      "cohort 186\n",
      "owngun 24680\n",
      "gun 43100\n",
      "natcrime 27971\n",
      "income 8376\n",
      "realinc 6732\n",
      "educ 154\n",
      "polviews 9185\n",
      "sex 0\n",
      "race 0\n",
      "hispanic 38147\n",
      "srcbelt 0\n",
      "age 185\n",
      "Optimization terminated successfully.\n",
      "         Current function value: 0.504561\n",
      "         Iterations 6\n",
      "year 0\n",
      "cohort 176\n",
      "owngun 24630\n",
      "gun 43224\n",
      "natcrime 28034\n",
      "income 8495\n",
      "realinc 6834\n",
      "educ 142\n",
      "polviews 9264\n",
      "sex 0\n",
      "race 0\n",
      "hispanic 38150\n",
      "srcbelt 0\n",
      "age 175\n",
      "Optimization terminated successfully.\n",
      "         Current function value: 0.502888\n",
      "         Iterations 6\n",
      "year 0\n",
      "cohort 177\n",
      "owngun 24834\n",
      "gun 43096\n",
      "natcrime 27880\n",
      "income 8443\n",
      "realinc 6806\n",
      "educ 144\n",
      "polviews 9232\n",
      "sex 0\n",
      "race 0\n",
      "hispanic 38144\n",
      "srcbelt 0\n",
      "age 177\n",
      "Optimization terminated successfully.\n",
      "         Current function value: 0.498737\n",
      "         Iterations 6\n",
      "year 0\n",
      "cohort 175\n",
      "owngun 24858\n",
      "gun 43184\n",
      "natcrime 27942\n",
      "income 8449\n",
      "realinc 6813\n",
      "educ 164\n",
      "polviews 9299\n",
      "sex 0\n",
      "race 0\n",
      "hispanic 38152\n",
      "srcbelt 0\n",
      "age 174\n",
      "Optimization terminated successfully.\n",
      "         Current function value: 0.501696\n",
      "         Iterations 6\n",
      "year 0\n",
      "cohort 196\n",
      "owngun 24862\n",
      "gun 43239\n",
      "natcrime 28067\n",
      "income 8569\n",
      "realinc 6898\n",
      "educ 159\n",
      "polviews 9353\n",
      "sex 0\n",
      "race 0\n",
      "hispanic 38143\n",
      "srcbelt 0\n",
      "age 196\n",
      "Optimization terminated successfully.\n",
      "         Current function value: 0.498675\n",
      "         Iterations 6\n",
      "year 0\n",
      "cohort 191\n",
      "owngun 24982\n",
      "gun 43195\n",
      "natcrime 28041\n",
      "income 8436\n",
      "realinc 6768\n",
      "educ 171\n",
      "polviews 9363\n",
      "sex 0\n",
      "race 0\n",
      "hispanic 38143\n",
      "srcbelt 0\n",
      "age 190\n",
      "Optimization terminated successfully.\n",
      "         Current function value: 0.504137\n",
      "         Iterations 6\n",
      "year 0\n",
      "cohort 216\n",
      "owngun 24729\n",
      "gun 43113\n",
      "natcrime 27930\n",
      "income 8570\n",
      "realinc 6893\n",
      "educ 163\n",
      "polviews 9269\n",
      "sex 0\n",
      "race 0\n",
      "hispanic 38139\n",
      "srcbelt 0\n",
      "age 214\n",
      "Optimization terminated successfully.\n",
      "         Current function value: 0.503591\n",
      "         Iterations 6\n",
      "year 0\n",
      "cohort 181\n",
      "owngun 24931\n",
      "gun 43080\n",
      "natcrime 27958\n",
      "income 8469\n",
      "realinc 6835\n",
      "educ 165\n",
      "polviews 9236\n",
      "sex 0\n",
      "race 0\n",
      "hispanic 38149\n",
      "srcbelt 0\n",
      "age 182\n",
      "Optimization terminated successfully.\n",
      "         Current function value: 0.501475\n",
      "         Iterations 6\n",
      "year 0\n",
      "cohort 199\n",
      "owngun 24600\n",
      "gun 43189\n",
      "natcrime 28139\n",
      "income 8336\n",
      "realinc 6749\n",
      "educ 150\n",
      "polviews 9262\n",
      "sex 0\n",
      "race 0\n",
      "hispanic 38142\n",
      "srcbelt 0\n",
      "age 199\n",
      "Optimization terminated successfully.\n",
      "         Current function value: 0.505964\n",
      "         Iterations 6\n",
      "year 0\n",
      "cohort 175\n",
      "owngun 24976\n",
      "gun 43137\n",
      "natcrime 27862\n",
      "income 8541\n",
      "realinc 6904\n",
      "educ 164\n",
      "polviews 9209\n",
      "sex 0\n",
      "race 0\n",
      "hispanic 38155\n",
      "srcbelt 0\n",
      "age 176\n",
      "Optimization terminated successfully.\n",
      "         Current function value: 0.501145\n",
      "         Iterations 6\n",
      "year 0\n",
      "cohort 193\n",
      "owngun 24748\n",
      "gun 43123\n",
      "natcrime 28028\n",
      "income 8487\n",
      "realinc 6837\n",
      "educ 138\n",
      "polviews 9198\n",
      "sex 0\n",
      "race 0\n",
      "hispanic 38152\n",
      "srcbelt 0\n",
      "age 192\n",
      "Optimization terminated successfully.\n",
      "         Current function value: 0.506882\n",
      "         Iterations 6\n",
      "year 0\n",
      "cohort 192\n",
      "owngun 24888\n",
      "gun 43104\n",
      "natcrime 27852\n",
      "income 8411\n",
      "realinc 6769\n",
      "educ 145\n",
      "polviews 9239\n",
      "sex 0\n",
      "race 0\n",
      "hispanic 38154\n",
      "srcbelt 0\n",
      "age 192\n",
      "Optimization terminated successfully.\n",
      "         Current function value: 0.504649\n",
      "         Iterations 6\n",
      "year 0\n",
      "cohort 185\n",
      "owngun 25014\n",
      "gun 43153\n",
      "natcrime 27877\n",
      "income 8574\n",
      "realinc 6957\n",
      "educ 163\n",
      "polviews 9356\n",
      "sex 0\n",
      "race 0\n",
      "hispanic 38154\n",
      "srcbelt 0\n",
      "age 184\n",
      "Optimization terminated successfully.\n",
      "         Current function value: 0.503712\n",
      "         Iterations 6\n",
      "year 0\n",
      "cohort 171\n",
      "owngun 24707\n",
      "gun 43132\n",
      "natcrime 28136\n",
      "income 8460\n",
      "realinc 6829\n",
      "educ 160\n",
      "polviews 9298\n",
      "sex 0\n",
      "race 0\n",
      "hispanic 38156\n",
      "srcbelt 0\n",
      "age 171\n",
      "Optimization terminated successfully.\n",
      "         Current function value: 0.499816\n",
      "         Iterations 6\n",
      "year 0\n",
      "cohort 203\n",
      "owngun 24811\n",
      "gun 43122\n",
      "natcrime 28015\n",
      "income 8585\n",
      "realinc 6955\n",
      "educ 140\n",
      "polviews 9378\n",
      "sex 0\n",
      "race 0\n",
      "hispanic 38149\n",
      "srcbelt 0\n",
      "age 205\n",
      "Optimization terminated successfully.\n",
      "         Current function value: 0.500140\n",
      "         Iterations 6\n",
      "year 0\n",
      "cohort 168\n",
      "owngun 24745\n",
      "gun 43115\n",
      "natcrime 28070\n",
      "income 8575\n",
      "realinc 6961\n",
      "educ 152\n",
      "polviews 9311\n",
      "sex 0\n",
      "race 0\n",
      "hispanic 38157\n",
      "srcbelt 0\n",
      "age 168\n",
      "Optimization terminated successfully.\n",
      "         Current function value: 0.502378\n",
      "         Iterations 6\n",
      "year 0\n",
      "cohort 198\n",
      "owngun 24767\n",
      "gun 43151\n",
      "natcrime 27834\n",
      "income 8452\n",
      "realinc 6785\n",
      "educ 167\n",
      "polviews 9393\n",
      "sex 0\n",
      "race 0\n",
      "hispanic 38152\n",
      "srcbelt 0\n",
      "age 198\n",
      "Optimization terminated successfully.\n",
      "         Current function value: 0.502375\n",
      "         Iterations 6\n",
      "year 0\n",
      "cohort 188\n",
      "owngun 24863\n",
      "gun 43128\n",
      "natcrime 27815\n",
      "income 8520\n",
      "realinc 6876\n",
      "educ 150\n",
      "polviews 9300\n",
      "sex 0\n",
      "race 0\n",
      "hispanic 38145\n",
      "srcbelt 0\n",
      "age 188\n",
      "Optimization terminated successfully.\n",
      "         Current function value: 0.505740\n",
      "         Iterations 6\n",
      "year 0\n",
      "cohort 193\n",
      "owngun 24931\n",
      "gun 43151\n",
      "natcrime 27903\n",
      "income 8533\n",
      "realinc 6867\n",
      "educ 156\n",
      "polviews 9322\n",
      "sex 0\n",
      "race 0\n",
      "hispanic 38153\n",
      "srcbelt 0\n",
      "age 192\n",
      "Optimization terminated successfully.\n",
      "         Current function value: 0.502064\n",
      "         Iterations 6\n",
      "year 0\n",
      "cohort 189\n",
      "owngun 24747\n",
      "gun 43171\n",
      "natcrime 28081\n",
      "income 8404\n",
      "realinc 6784\n",
      "educ 165\n",
      "polviews 9285\n",
      "sex 0\n",
      "race 0\n",
      "hispanic 38154\n",
      "srcbelt 0\n",
      "age 189\n",
      "Optimization terminated successfully.\n",
      "         Current function value: 0.497467\n",
      "         Iterations 6\n",
      "year 0\n",
      "cohort 178\n",
      "owngun 24892\n",
      "gun 43169\n",
      "natcrime 27927\n",
      "income 8446\n",
      "realinc 6833\n",
      "educ 171\n",
      "polviews 9339\n",
      "sex 0\n",
      "race 0\n",
      "hispanic 38154\n",
      "srcbelt 0\n",
      "age 177\n",
      "Optimization terminated successfully.\n",
      "         Current function value: 0.497689\n",
      "         Iterations 6\n",
      "year 0\n",
      "cohort 210\n",
      "owngun 24799\n",
      "gun 43205\n",
      "natcrime 27916\n",
      "income 8406\n",
      "realinc 6734\n",
      "educ 180\n",
      "polviews 9231\n",
      "sex 0\n",
      "race 0\n",
      "hispanic 38152\n",
      "srcbelt 0\n",
      "age 210\n",
      "Optimization terminated successfully.\n",
      "         Current function value: 0.503736\n",
      "         Iterations 6\n",
      "year 0\n",
      "cohort 191\n",
      "owngun 24752\n",
      "gun 43231\n",
      "natcrime 27729\n",
      "income 8569\n",
      "realinc 6921\n",
      "educ 171\n",
      "polviews 9306\n",
      "sex 0\n",
      "race 0\n",
      "hispanic 38151\n",
      "srcbelt 0\n",
      "age 192\n",
      "Optimization terminated successfully.\n",
      "         Current function value: 0.502341\n",
      "         Iterations 6\n",
      "year 0\n",
      "cohort 172\n",
      "owngun 24798\n",
      "gun 43077\n",
      "natcrime 27942\n",
      "income 8440\n",
      "realinc 6815\n",
      "educ 151\n",
      "polviews 9266\n",
      "sex 0\n",
      "race 0\n",
      "hispanic 38141\n",
      "srcbelt 0\n",
      "age 173\n",
      "Optimization terminated successfully.\n",
      "         Current function value: 0.501528\n",
      "         Iterations 6\n",
      "year 0\n",
      "cohort 162\n",
      "owngun 24818\n",
      "gun 43115\n",
      "natcrime 27845\n",
      "income 8515\n",
      "realinc 6870\n",
      "educ 178\n",
      "polviews 9336\n",
      "sex 0\n",
      "race 0\n",
      "hispanic 38146\n",
      "srcbelt 0\n",
      "age 160\n",
      "Optimization terminated successfully.\n",
      "         Current function value: 0.498625\n",
      "         Iterations 6\n",
      "year 0\n",
      "cohort 185\n",
      "owngun 24696\n",
      "gun 43121\n",
      "natcrime 28282\n",
      "income 8549\n",
      "realinc 6886\n",
      "educ 131\n",
      "polviews 9312\n",
      "sex 0\n",
      "race 0\n",
      "hispanic 38149\n",
      "srcbelt 0\n",
      "age 185\n",
      "Optimization terminated successfully.\n",
      "         Current function value: 0.502661\n",
      "         Iterations 6\n",
      "year 0\n",
      "cohort 184\n",
      "owngun 24655\n",
      "gun 43171\n",
      "natcrime 27981\n",
      "income 8638\n",
      "realinc 6984\n",
      "educ 181\n",
      "polviews 9398\n",
      "sex 0\n",
      "race 0\n",
      "hispanic 38163\n",
      "srcbelt 0\n",
      "age 185\n",
      "Optimization terminated successfully.\n",
      "         Current function value: 0.508108\n",
      "         Iterations 6\n",
      "year 0\n",
      "cohort 189\n",
      "owngun 24757\n",
      "gun 43177\n",
      "natcrime 27740\n",
      "income 8440\n",
      "realinc 6807\n",
      "educ 173\n",
      "polviews 9253\n",
      "sex 0\n",
      "race 0\n",
      "hispanic 38153\n",
      "srcbelt 0\n",
      "age 189\n",
      "Optimization terminated successfully.\n",
      "         Current function value: 0.507934\n",
      "         Iterations 6\n",
      "year 0\n",
      "cohort 188\n",
      "owngun 24912\n",
      "gun 43117\n",
      "natcrime 27939\n",
      "income 8506\n",
      "realinc 6891\n",
      "educ 160\n",
      "polviews 9246\n",
      "sex 0\n",
      "race 0\n",
      "hispanic 38155\n",
      "srcbelt 0\n",
      "age 188\n"
     ]
    },
    {
     "name": "stdout",
     "output_type": "stream",
     "text": [
      "Optimization terminated successfully.\n",
      "         Current function value: 0.501081\n",
      "         Iterations 6\n",
      "year 0\n",
      "cohort 198\n",
      "owngun 24706\n",
      "gun 43174\n",
      "natcrime 27929\n",
      "income 8441\n",
      "realinc 6765\n",
      "educ 179\n",
      "polviews 9328\n",
      "sex 0\n",
      "race 0\n",
      "hispanic 38154\n",
      "srcbelt 0\n",
      "age 199\n",
      "Optimization terminated successfully.\n",
      "         Current function value: 0.507792\n",
      "         Iterations 6\n",
      "year 0\n",
      "cohort 193\n",
      "owngun 24740\n",
      "gun 43146\n",
      "natcrime 27979\n",
      "income 8447\n",
      "realinc 6789\n",
      "educ 174\n",
      "polviews 9288\n",
      "sex 0\n",
      "race 0\n",
      "hispanic 38153\n",
      "srcbelt 0\n",
      "age 192\n",
      "Optimization terminated successfully.\n",
      "         Current function value: 0.503498\n",
      "         Iterations 6\n",
      "year 0\n",
      "cohort 176\n",
      "owngun 24823\n",
      "gun 43197\n",
      "natcrime 27815\n",
      "income 8433\n",
      "realinc 6787\n",
      "educ 140\n",
      "polviews 9410\n",
      "sex 0\n",
      "race 0\n",
      "hispanic 38155\n",
      "srcbelt 0\n",
      "age 176\n",
      "Optimization terminated successfully.\n",
      "         Current function value: 0.502582\n",
      "         Iterations 6\n",
      "year 0\n",
      "cohort 192\n",
      "owngun 24732\n",
      "gun 43192\n",
      "natcrime 27945\n",
      "income 8371\n",
      "realinc 6719\n",
      "educ 176\n",
      "polviews 9235\n",
      "sex 0\n",
      "race 0\n",
      "hispanic 38161\n",
      "srcbelt 0\n",
      "age 191\n",
      "Optimization terminated successfully.\n",
      "         Current function value: 0.504796\n",
      "         Iterations 6\n",
      "year 0\n",
      "cohort 198\n",
      "owngun 24843\n",
      "gun 43162\n",
      "natcrime 28044\n",
      "income 8452\n",
      "realinc 6805\n",
      "educ 175\n",
      "polviews 9355\n",
      "sex 0\n",
      "race 0\n",
      "hispanic 38143\n",
      "srcbelt 0\n",
      "age 199\n",
      "Optimization terminated successfully.\n",
      "         Current function value: 0.502112\n",
      "         Iterations 6\n",
      "year 0\n",
      "cohort 176\n",
      "owngun 24801\n",
      "gun 43137\n",
      "natcrime 27937\n",
      "income 8630\n",
      "realinc 7007\n",
      "educ 170\n",
      "polviews 9204\n",
      "sex 0\n",
      "race 0\n",
      "hispanic 38147\n",
      "srcbelt 0\n",
      "age 177\n",
      "Optimization terminated successfully.\n",
      "         Current function value: 0.505208\n",
      "         Iterations 6\n",
      "year 0\n",
      "cohort 211\n",
      "owngun 24632\n",
      "gun 43127\n",
      "natcrime 27838\n",
      "income 8575\n",
      "realinc 6965\n",
      "educ 151\n",
      "polviews 9350\n",
      "sex 0\n",
      "race 0\n",
      "hispanic 38154\n",
      "srcbelt 0\n",
      "age 210\n",
      "Optimization terminated successfully.\n",
      "         Current function value: 0.502689\n",
      "         Iterations 6\n",
      "year 0\n",
      "cohort 214\n",
      "owngun 24633\n",
      "gun 43118\n",
      "natcrime 28076\n",
      "income 8454\n",
      "realinc 6827\n",
      "educ 173\n",
      "polviews 9304\n",
      "sex 0\n",
      "race 0\n",
      "hispanic 38158\n",
      "srcbelt 0\n",
      "age 214\n",
      "Optimization terminated successfully.\n",
      "         Current function value: 0.506333\n",
      "         Iterations 6\n",
      "year 0\n",
      "cohort 194\n",
      "owngun 24865\n",
      "gun 43075\n",
      "natcrime 28085\n",
      "income 8536\n",
      "realinc 6879\n",
      "educ 178\n",
      "polviews 9315\n",
      "sex 0\n",
      "race 0\n",
      "hispanic 38155\n",
      "srcbelt 0\n",
      "age 193\n",
      "Optimization terminated successfully.\n",
      "         Current function value: 0.505378\n",
      "         Iterations 6\n",
      "year 0\n",
      "cohort 202\n",
      "owngun 24822\n",
      "gun 43180\n",
      "natcrime 28013\n",
      "income 8445\n",
      "realinc 6782\n",
      "educ 165\n",
      "polviews 9395\n",
      "sex 0\n",
      "race 0\n",
      "hispanic 38159\n",
      "srcbelt 0\n",
      "age 202\n",
      "Optimization terminated successfully.\n",
      "         Current function value: 0.505130\n",
      "         Iterations 6\n",
      "year 0\n",
      "cohort 217\n",
      "owngun 24802\n",
      "gun 43207\n",
      "natcrime 28217\n",
      "income 8297\n",
      "realinc 6653\n",
      "educ 165\n",
      "polviews 9316\n",
      "sex 0\n",
      "race 0\n",
      "hispanic 38141\n",
      "srcbelt 0\n",
      "age 216\n",
      "Optimization terminated successfully.\n",
      "         Current function value: 0.503131\n",
      "         Iterations 6\n",
      "year 0\n",
      "cohort 178\n",
      "owngun 24857\n",
      "gun 43231\n",
      "natcrime 27957\n",
      "income 8373\n",
      "realinc 6713\n",
      "educ 151\n",
      "polviews 9516\n",
      "sex 0\n",
      "race 0\n",
      "hispanic 38145\n",
      "srcbelt 0\n",
      "age 178\n",
      "Optimization terminated successfully.\n",
      "         Current function value: 0.500410\n",
      "         Iterations 6\n",
      "year 0\n",
      "cohort 192\n",
      "owngun 24990\n",
      "gun 43050\n",
      "natcrime 27858\n",
      "income 8479\n",
      "realinc 6848\n",
      "educ 159\n",
      "polviews 9404\n",
      "sex 0\n",
      "race 0\n",
      "hispanic 38151\n",
      "srcbelt 0\n",
      "age 191\n",
      "Optimization terminated successfully.\n",
      "         Current function value: 0.500626\n",
      "         Iterations 6\n",
      "year 0\n",
      "cohort 189\n",
      "owngun 24792\n",
      "gun 43196\n",
      "natcrime 27890\n",
      "income 8370\n",
      "realinc 6730\n",
      "educ 168\n",
      "polviews 9346\n",
      "sex 0\n",
      "race 0\n",
      "hispanic 38135\n",
      "srcbelt 0\n",
      "age 189\n",
      "Optimization terminated successfully.\n",
      "         Current function value: 0.498666\n",
      "         Iterations 6\n",
      "year 0\n",
      "cohort 169\n",
      "owngun 24801\n",
      "gun 43134\n",
      "natcrime 27962\n",
      "income 8564\n",
      "realinc 6904\n",
      "educ 144\n",
      "polviews 9381\n",
      "sex 0\n",
      "race 0\n",
      "hispanic 38161\n",
      "srcbelt 0\n",
      "age 169\n",
      "Optimization terminated successfully.\n",
      "         Current function value: 0.501463\n",
      "         Iterations 6\n",
      "year 0\n",
      "cohort 186\n",
      "owngun 24734\n",
      "gun 43107\n",
      "natcrime 27772\n",
      "income 8580\n",
      "realinc 6953\n",
      "educ 172\n",
      "polviews 9251\n",
      "sex 0\n",
      "race 0\n",
      "hispanic 38148\n",
      "srcbelt 0\n",
      "age 186\n",
      "Optimization terminated successfully.\n",
      "         Current function value: 0.503418\n",
      "         Iterations 6\n",
      "year 0\n",
      "cohort 203\n",
      "owngun 24755\n",
      "gun 43154\n",
      "natcrime 27988\n",
      "income 8552\n",
      "realinc 6887\n",
      "educ 165\n",
      "polviews 9364\n",
      "sex 0\n",
      "race 0\n",
      "hispanic 38147\n",
      "srcbelt 0\n",
      "age 199\n",
      "Optimization terminated successfully.\n",
      "         Current function value: 0.501511\n",
      "         Iterations 6\n",
      "year 0\n",
      "cohort 178\n",
      "owngun 24814\n",
      "gun 43157\n",
      "natcrime 27917\n",
      "income 8584\n",
      "realinc 6929\n",
      "educ 138\n",
      "polviews 9307\n",
      "sex 0\n",
      "race 0\n",
      "hispanic 38157\n",
      "srcbelt 0\n",
      "age 178\n",
      "Optimization terminated successfully.\n",
      "         Current function value: 0.508076\n",
      "         Iterations 6\n",
      "year 0\n",
      "cohort 198\n",
      "owngun 24841\n",
      "gun 43131\n",
      "natcrime 28026\n",
      "income 8606\n",
      "realinc 6976\n",
      "educ 171\n",
      "polviews 9401\n",
      "sex 0\n",
      "race 0\n",
      "hispanic 38146\n",
      "srcbelt 0\n",
      "age 194\n",
      "Optimization terminated successfully.\n",
      "         Current function value: 0.503677\n",
      "         Iterations 6\n",
      "year 0\n",
      "cohort 178\n",
      "owngun 24874\n",
      "gun 43153\n",
      "natcrime 28155\n",
      "income 8617\n",
      "realinc 6982\n",
      "educ 168\n",
      "polviews 9365\n",
      "sex 0\n",
      "race 0\n",
      "hispanic 38136\n",
      "srcbelt 0\n",
      "age 179\n",
      "Optimization terminated successfully.\n",
      "         Current function value: 0.503194\n",
      "         Iterations 6\n",
      "year 0\n",
      "cohort 184\n",
      "owngun 24812\n",
      "gun 43100\n",
      "natcrime 27900\n",
      "income 8563\n",
      "realinc 6932\n",
      "educ 138\n",
      "polviews 9222\n",
      "sex 0\n",
      "race 0\n",
      "hispanic 38145\n",
      "srcbelt 0\n",
      "age 183\n",
      "Optimization terminated successfully.\n",
      "         Current function value: 0.506786\n",
      "         Iterations 6\n",
      "year 0\n",
      "cohort 196\n",
      "owngun 24638\n",
      "gun 43170\n",
      "natcrime 27781\n",
      "income 8494\n",
      "realinc 6867\n",
      "educ 170\n",
      "polviews 9257\n",
      "sex 0\n",
      "race 0\n",
      "hispanic 38163\n",
      "srcbelt 0\n",
      "age 197\n",
      "Optimization terminated successfully.\n",
      "         Current function value: 0.501954\n",
      "         Iterations 6\n",
      "year 0\n",
      "cohort 179\n",
      "owngun 24959\n",
      "gun 43144\n",
      "natcrime 27888\n",
      "income 8423\n",
      "realinc 6826\n",
      "educ 165\n",
      "polviews 9173\n",
      "sex 0\n",
      "race 0\n",
      "hispanic 38148\n",
      "srcbelt 0\n",
      "age 179\n",
      "Optimization terminated successfully.\n",
      "         Current function value: 0.508157\n",
      "         Iterations 6\n",
      "year 0\n",
      "cohort 196\n",
      "owngun 24726\n",
      "gun 43113\n",
      "natcrime 27853\n",
      "income 8492\n",
      "realinc 6863\n",
      "educ 203\n",
      "polviews 9358\n",
      "sex 0\n",
      "race 0\n",
      "hispanic 38154\n",
      "srcbelt 0\n",
      "age 197\n",
      "Optimization terminated successfully.\n",
      "         Current function value: 0.503713\n",
      "         Iterations 6\n",
      "year 0\n",
      "cohort 199\n",
      "owngun 24887\n",
      "gun 43097\n",
      "natcrime 28022\n",
      "income 8629\n",
      "realinc 6985\n",
      "educ 185\n",
      "polviews 9264\n",
      "sex 0\n",
      "race 0\n",
      "hispanic 38151\n",
      "srcbelt 0\n",
      "age 199\n",
      "Optimization terminated successfully.\n",
      "         Current function value: 0.502495\n",
      "         Iterations 6\n",
      "year 0\n",
      "cohort 193\n",
      "owngun 24717\n",
      "gun 43186\n",
      "natcrime 28011\n",
      "income 8538\n",
      "realinc 6917\n",
      "educ 161\n",
      "polviews 9341\n",
      "sex 0\n",
      "race 0\n",
      "hispanic 38140\n",
      "srcbelt 0\n",
      "age 193\n",
      "Optimization terminated successfully.\n",
      "         Current function value: 0.501600\n",
      "         Iterations 6\n",
      "year 0\n",
      "cohort 173\n",
      "owngun 24674\n",
      "gun 43096\n",
      "natcrime 27937\n",
      "income 8425\n",
      "realinc 6783\n",
      "educ 163\n",
      "polviews 9158\n",
      "sex 0\n",
      "race 0\n",
      "hispanic 38145\n",
      "srcbelt 0\n",
      "age 174\n",
      "Optimization terminated successfully.\n",
      "         Current function value: 0.503098\n",
      "         Iterations 6\n",
      "year 0\n",
      "cohort 202\n",
      "owngun 24689\n",
      "gun 43128\n",
      "natcrime 28020\n",
      "income 8482\n",
      "realinc 6855\n",
      "educ 162\n",
      "polviews 9205\n",
      "sex 0\n",
      "race 0\n",
      "hispanic 38151\n",
      "srcbelt 0\n",
      "age 202\n",
      "Optimization terminated successfully.\n",
      "         Current function value: 0.505272\n",
      "         Iterations 6\n",
      "year 0\n",
      "cohort 203\n",
      "owngun 24776\n",
      "gun 43074\n",
      "natcrime 27944\n",
      "income 8415\n",
      "realinc 6775\n",
      "educ 168\n",
      "polviews 9254\n",
      "sex 0\n",
      "race 0\n",
      "hispanic 38154\n",
      "srcbelt 0\n",
      "age 204\n",
      "Optimization terminated successfully.\n",
      "         Current function value: 0.503835\n",
      "         Iterations 6\n",
      "year 0\n",
      "cohort 179\n",
      "owngun 24902\n",
      "gun 43069\n",
      "natcrime 28270\n",
      "income 8444\n",
      "realinc 6807\n",
      "educ 150\n",
      "polviews 9390\n",
      "sex 0\n",
      "race 0\n",
      "hispanic 38150\n",
      "srcbelt 0\n",
      "age 177\n",
      "Optimization terminated successfully.\n",
      "         Current function value: 0.502852\n",
      "         Iterations 6\n",
      "year 0\n",
      "cohort 214\n",
      "owngun 24871\n",
      "gun 43151\n",
      "natcrime 28063\n",
      "income 8552\n",
      "realinc 6942\n",
      "educ 175\n",
      "polviews 9344\n",
      "sex 0\n",
      "race 0\n",
      "hispanic 38140\n",
      "srcbelt 0\n",
      "age 214\n",
      "Optimization terminated successfully.\n",
      "         Current function value: 0.506730\n",
      "         Iterations 6\n",
      "year 0\n",
      "cohort 187\n",
      "owngun 24709\n",
      "gun 43155\n",
      "natcrime 27852\n",
      "income 8614\n",
      "realinc 6951\n",
      "educ 158\n",
      "polviews 9239\n",
      "sex 0\n",
      "race 0\n",
      "hispanic 38154\n",
      "srcbelt 0\n",
      "age 187\n",
      "Optimization terminated successfully.\n",
      "         Current function value: 0.505059\n",
      "         Iterations 6\n",
      "year 0\n",
      "cohort 182\n",
      "owngun 24750\n",
      "gun 43162\n",
      "natcrime 27848\n",
      "income 8502\n",
      "realinc 6849\n",
      "educ 164\n",
      "polviews 9224\n",
      "sex 0\n",
      "race 0\n",
      "hispanic 38146\n",
      "srcbelt 0\n",
      "age 180\n"
     ]
    },
    {
     "name": "stdout",
     "output_type": "stream",
     "text": [
      "Optimization terminated successfully.\n",
      "         Current function value: 0.502497\n",
      "         Iterations 6\n",
      "year 0\n",
      "cohort 184\n",
      "owngun 24885\n",
      "gun 43092\n",
      "natcrime 28041\n",
      "income 8531\n",
      "realinc 6897\n",
      "educ 143\n",
      "polviews 9256\n",
      "sex 0\n",
      "race 0\n",
      "hispanic 38152\n",
      "srcbelt 0\n",
      "age 185\n",
      "Optimization terminated successfully.\n",
      "         Current function value: 0.501165\n",
      "         Iterations 6\n",
      "year 0\n",
      "cohort 211\n",
      "owngun 24731\n",
      "gun 43135\n",
      "natcrime 27994\n",
      "income 8473\n",
      "realinc 6812\n",
      "educ 163\n",
      "polviews 9270\n",
      "sex 0\n",
      "race 0\n",
      "hispanic 38145\n",
      "srcbelt 0\n",
      "age 209\n",
      "Optimization terminated successfully.\n",
      "         Current function value: 0.506366\n",
      "         Iterations 6\n"
     ]
    }
   ],
   "source": [
    "results = run()"
   ]
  },
  {
   "cell_type": "code",
   "execution_count": null,
   "metadata": {
    "collapsed": true
   },
   "outputs": [],
   "source": []
  },
  {
   "cell_type": "code",
   "execution_count": 106,
   "metadata": {},
   "outputs": [
    {
     "data": {
      "text/html": [
       "<div>\n",
       "<style>\n",
       "    .dataframe thead tr:only-child th {\n",
       "        text-align: right;\n",
       "    }\n",
       "\n",
       "    .dataframe thead th {\n",
       "        text-align: left;\n",
       "    }\n",
       "\n",
       "    .dataframe tbody tr th {\n",
       "        vertical-align: top;\n",
       "    }\n",
       "</style>\n",
       "<table border=\"1\" class=\"dataframe\">\n",
       "  <thead>\n",
       "    <tr style=\"text-align: right;\">\n",
       "      <th></th>\n",
       "      <th>low2.5</th>\n",
       "      <th>median</th>\n",
       "      <th>high97.5</th>\n",
       "    </tr>\n",
       "  </thead>\n",
       "  <tbody>\n",
       "    <tr>\n",
       "      <th>base</th>\n",
       "      <td>71.8</td>\n",
       "      <td>73.1</td>\n",
       "      <td>75.3</td>\n",
       "    </tr>\n",
       "    <tr>\n",
       "      <th>nineties</th>\n",
       "      <td>60.4</td>\n",
       "      <td>63.7</td>\n",
       "      <td>67.9</td>\n",
       "    </tr>\n",
       "    <tr>\n",
       "      <th>eighties</th>\n",
       "      <td>65.0</td>\n",
       "      <td>67.6</td>\n",
       "      <td>69.8</td>\n",
       "    </tr>\n",
       "    <tr>\n",
       "      <th>seventies</th>\n",
       "      <td>67.8</td>\n",
       "      <td>69.5</td>\n",
       "      <td>71.8</td>\n",
       "    </tr>\n",
       "    <tr>\n",
       "      <th>fifties</th>\n",
       "      <td>71.0</td>\n",
       "      <td>72.7</td>\n",
       "      <td>74.6</td>\n",
       "    </tr>\n",
       "    <tr>\n",
       "      <th>forties</th>\n",
       "      <td>71.4</td>\n",
       "      <td>73.2</td>\n",
       "      <td>75.2</td>\n",
       "    </tr>\n",
       "    <tr>\n",
       "      <th>thirties</th>\n",
       "      <td>70.3</td>\n",
       "      <td>71.8</td>\n",
       "      <td>73.7</td>\n",
       "    </tr>\n",
       "    <tr>\n",
       "      <th>twenties</th>\n",
       "      <td>70.8</td>\n",
       "      <td>73.0</td>\n",
       "      <td>75.1</td>\n",
       "    </tr>\n",
       "    <tr>\n",
       "      <th>female</th>\n",
       "      <td>83.3</td>\n",
       "      <td>84.5</td>\n",
       "      <td>86.1</td>\n",
       "    </tr>\n",
       "    <tr>\n",
       "      <th>black</th>\n",
       "      <td>76.2</td>\n",
       "      <td>77.7</td>\n",
       "      <td>80.0</td>\n",
       "    </tr>\n",
       "    <tr>\n",
       "      <th>otherrace</th>\n",
       "      <td>78.4</td>\n",
       "      <td>80.2</td>\n",
       "      <td>82.4</td>\n",
       "    </tr>\n",
       "    <tr>\n",
       "      <th>ishisp</th>\n",
       "      <td>71.3</td>\n",
       "      <td>73.1</td>\n",
       "      <td>76.0</td>\n",
       "    </tr>\n",
       "    <tr>\n",
       "      <th>conservative</th>\n",
       "      <td>63.7</td>\n",
       "      <td>65.6</td>\n",
       "      <td>68.4</td>\n",
       "    </tr>\n",
       "    <tr>\n",
       "      <th>liberal</th>\n",
       "      <td>75.9</td>\n",
       "      <td>77.6</td>\n",
       "      <td>79.5</td>\n",
       "    </tr>\n",
       "    <tr>\n",
       "      <th>lowrealinc</th>\n",
       "      <td>69.0</td>\n",
       "      <td>70.7</td>\n",
       "      <td>73.0</td>\n",
       "    </tr>\n",
       "    <tr>\n",
       "      <th>highrealinc</th>\n",
       "      <td>73.3</td>\n",
       "      <td>74.9</td>\n",
       "      <td>76.9</td>\n",
       "    </tr>\n",
       "    <tr>\n",
       "      <th>college</th>\n",
       "      <td>73.2</td>\n",
       "      <td>75.0</td>\n",
       "      <td>77.0</td>\n",
       "    </tr>\n",
       "    <tr>\n",
       "      <th>urban</th>\n",
       "      <td>66.2</td>\n",
       "      <td>67.8</td>\n",
       "      <td>69.8</td>\n",
       "    </tr>\n",
       "    <tr>\n",
       "      <th>rural</th>\n",
       "      <td>59.5</td>\n",
       "      <td>61.6</td>\n",
       "      <td>64.2</td>\n",
       "    </tr>\n",
       "    <tr>\n",
       "      <th>threatened</th>\n",
       "      <td>69.1</td>\n",
       "      <td>71.0</td>\n",
       "      <td>73.7</td>\n",
       "    </tr>\n",
       "    <tr>\n",
       "      <th>gunhome</th>\n",
       "      <td>51.1</td>\n",
       "      <td>53.1</td>\n",
       "      <td>55.8</td>\n",
       "    </tr>\n",
       "    <tr>\n",
       "      <th>yminus10</th>\n",
       "      <td>84.3</td>\n",
       "      <td>85.2</td>\n",
       "      <td>86.0</td>\n",
       "    </tr>\n",
       "    <tr>\n",
       "      <th>yminus20</th>\n",
       "      <td>84.4</td>\n",
       "      <td>85.2</td>\n",
       "      <td>86.1</td>\n",
       "    </tr>\n",
       "    <tr>\n",
       "      <th>yminus30</th>\n",
       "      <td>80.5</td>\n",
       "      <td>81.5</td>\n",
       "      <td>82.7</td>\n",
       "    </tr>\n",
       "    <tr>\n",
       "      <th>yminus40</th>\n",
       "      <td>78.7</td>\n",
       "      <td>79.8</td>\n",
       "      <td>81.0</td>\n",
       "    </tr>\n",
       "    <tr>\n",
       "      <th>lowest combo</th>\n",
       "      <td>16.3</td>\n",
       "      <td>18.8</td>\n",
       "      <td>21.7</td>\n",
       "    </tr>\n",
       "    <tr>\n",
       "      <th>highest combo</th>\n",
       "      <td>91.5</td>\n",
       "      <td>92.4</td>\n",
       "      <td>93.3</td>\n",
       "    </tr>\n",
       "  </tbody>\n",
       "</table>\n",
       "</div>"
      ],
      "text/plain": [
       "               low2.5  median  high97.5\n",
       "base             71.8    73.1      75.3\n",
       "nineties         60.4    63.7      67.9\n",
       "eighties         65.0    67.6      69.8\n",
       "seventies        67.8    69.5      71.8\n",
       "fifties          71.0    72.7      74.6\n",
       "forties          71.4    73.2      75.2\n",
       "thirties         70.3    71.8      73.7\n",
       "twenties         70.8    73.0      75.1\n",
       "female           83.3    84.5      86.1\n",
       "black            76.2    77.7      80.0\n",
       "otherrace        78.4    80.2      82.4\n",
       "ishisp           71.3    73.1      76.0\n",
       "conservative     63.7    65.6      68.4\n",
       "liberal          75.9    77.6      79.5\n",
       "lowrealinc       69.0    70.7      73.0\n",
       "highrealinc      73.3    74.9      76.9\n",
       "college          73.2    75.0      77.0\n",
       "urban            66.2    67.8      69.8\n",
       "rural            59.5    61.6      64.2\n",
       "threatened       69.1    71.0      73.7\n",
       "gunhome          51.1    53.1      55.8\n",
       "yminus10         84.3    85.2      86.0\n",
       "yminus20         84.4    85.2      86.1\n",
       "yminus30         80.5    81.5      82.7\n",
       "yminus40         78.7    79.8      81.0\n",
       "lowest combo     16.3    18.8      21.7\n",
       "highest combo    91.5    92.4      93.3"
      ]
     },
     "execution_count": 106,
     "metadata": {},
     "output_type": "execute_result"
    }
   ],
   "source": [
    "preds = [result.pred for result in results]\n",
    "median, low, high = thinkstats2.PercentileRows(preds, [50, 5, 95])\n",
    "\n",
    "estimates = pd.DataFrame(index=result.index)\n",
    "estimates['low2.5'] = low\n",
    "estimates['median'] = median\n",
    "estimates['high97.5'] = high\n",
    "estimates.round(1)"
   ]
  },
  {
   "cell_type": "code",
   "execution_count": 107,
   "metadata": {},
   "outputs": [
    {
     "name": "stdout",
     "output_type": "stream",
     "text": [
      "<table border=\"1\" class=\"dataframe\">\n",
      "  <thead>\n",
      "    <tr style=\"text-align: right;\">\n",
      "      <th></th>\n",
      "      <th>low2.5</th>\n",
      "      <th>median</th>\n",
      "      <th>high97.5</th>\n",
      "    </tr>\n",
      "  </thead>\n",
      "  <tbody>\n",
      "    <tr>\n",
      "      <th>base</th>\n",
      "      <td>71.8</td>\n",
      "      <td>73.1</td>\n",
      "      <td>75.3</td>\n",
      "    </tr>\n",
      "    <tr>\n",
      "      <th>nineties</th>\n",
      "      <td>60.4</td>\n",
      "      <td>63.7</td>\n",
      "      <td>67.9</td>\n",
      "    </tr>\n",
      "    <tr>\n",
      "      <th>eighties</th>\n",
      "      <td>65.0</td>\n",
      "      <td>67.6</td>\n",
      "      <td>69.8</td>\n",
      "    </tr>\n",
      "    <tr>\n",
      "      <th>seventies</th>\n",
      "      <td>67.8</td>\n",
      "      <td>69.5</td>\n",
      "      <td>71.8</td>\n",
      "    </tr>\n",
      "    <tr>\n",
      "      <th>fifties</th>\n",
      "      <td>71.0</td>\n",
      "      <td>72.7</td>\n",
      "      <td>74.6</td>\n",
      "    </tr>\n",
      "    <tr>\n",
      "      <th>forties</th>\n",
      "      <td>71.4</td>\n",
      "      <td>73.2</td>\n",
      "      <td>75.2</td>\n",
      "    </tr>\n",
      "    <tr>\n",
      "      <th>thirties</th>\n",
      "      <td>70.3</td>\n",
      "      <td>71.8</td>\n",
      "      <td>73.7</td>\n",
      "    </tr>\n",
      "    <tr>\n",
      "      <th>twenties</th>\n",
      "      <td>70.8</td>\n",
      "      <td>73.0</td>\n",
      "      <td>75.1</td>\n",
      "    </tr>\n",
      "    <tr>\n",
      "      <th>female</th>\n",
      "      <td>83.3</td>\n",
      "      <td>84.5</td>\n",
      "      <td>86.1</td>\n",
      "    </tr>\n",
      "    <tr>\n",
      "      <th>black</th>\n",
      "      <td>76.2</td>\n",
      "      <td>77.7</td>\n",
      "      <td>80.0</td>\n",
      "    </tr>\n",
      "    <tr>\n",
      "      <th>otherrace</th>\n",
      "      <td>78.4</td>\n",
      "      <td>80.2</td>\n",
      "      <td>82.4</td>\n",
      "    </tr>\n",
      "    <tr>\n",
      "      <th>ishisp</th>\n",
      "      <td>71.3</td>\n",
      "      <td>73.1</td>\n",
      "      <td>76.0</td>\n",
      "    </tr>\n",
      "    <tr>\n",
      "      <th>conservative</th>\n",
      "      <td>63.7</td>\n",
      "      <td>65.6</td>\n",
      "      <td>68.4</td>\n",
      "    </tr>\n",
      "    <tr>\n",
      "      <th>liberal</th>\n",
      "      <td>75.9</td>\n",
      "      <td>77.6</td>\n",
      "      <td>79.5</td>\n",
      "    </tr>\n",
      "    <tr>\n",
      "      <th>lowrealinc</th>\n",
      "      <td>69.0</td>\n",
      "      <td>70.7</td>\n",
      "      <td>73.0</td>\n",
      "    </tr>\n",
      "    <tr>\n",
      "      <th>highrealinc</th>\n",
      "      <td>73.3</td>\n",
      "      <td>74.9</td>\n",
      "      <td>76.9</td>\n",
      "    </tr>\n",
      "    <tr>\n",
      "      <th>college</th>\n",
      "      <td>73.2</td>\n",
      "      <td>75.0</td>\n",
      "      <td>77.0</td>\n",
      "    </tr>\n",
      "    <tr>\n",
      "      <th>urban</th>\n",
      "      <td>66.2</td>\n",
      "      <td>67.8</td>\n",
      "      <td>69.8</td>\n",
      "    </tr>\n",
      "    <tr>\n",
      "      <th>rural</th>\n",
      "      <td>59.5</td>\n",
      "      <td>61.6</td>\n",
      "      <td>64.2</td>\n",
      "    </tr>\n",
      "    <tr>\n",
      "      <th>threatened</th>\n",
      "      <td>69.1</td>\n",
      "      <td>71.0</td>\n",
      "      <td>73.7</td>\n",
      "    </tr>\n",
      "    <tr>\n",
      "      <th>gunhome</th>\n",
      "      <td>51.1</td>\n",
      "      <td>53.1</td>\n",
      "      <td>55.8</td>\n",
      "    </tr>\n",
      "    <tr>\n",
      "      <th>yminus10</th>\n",
      "      <td>84.3</td>\n",
      "      <td>85.2</td>\n",
      "      <td>86.0</td>\n",
      "    </tr>\n",
      "    <tr>\n",
      "      <th>yminus20</th>\n",
      "      <td>84.4</td>\n",
      "      <td>85.2</td>\n",
      "      <td>86.1</td>\n",
      "    </tr>\n",
      "    <tr>\n",
      "      <th>yminus30</th>\n",
      "      <td>80.5</td>\n",
      "      <td>81.5</td>\n",
      "      <td>82.7</td>\n",
      "    </tr>\n",
      "    <tr>\n",
      "      <th>yminus40</th>\n",
      "      <td>78.7</td>\n",
      "      <td>79.8</td>\n",
      "      <td>81.0</td>\n",
      "    </tr>\n",
      "    <tr>\n",
      "      <th>lowest combo</th>\n",
      "      <td>16.3</td>\n",
      "      <td>18.8</td>\n",
      "      <td>21.7</td>\n",
      "    </tr>\n",
      "    <tr>\n",
      "      <th>highest combo</th>\n",
      "      <td>91.5</td>\n",
      "      <td>92.4</td>\n",
      "      <td>93.3</td>\n",
      "    </tr>\n",
      "  </tbody>\n",
      "</table>\n"
     ]
    }
   ],
   "source": [
    "lines = estimates.round(1).to_html().split('\\n')\n",
    "for line in lines:\n",
    "    print(line)"
   ]
  },
  {
   "cell_type": "code",
   "execution_count": 108,
   "metadata": {},
   "outputs": [
    {
     "data": {
      "text/html": [
       "<div>\n",
       "<style>\n",
       "    .dataframe thead tr:only-child th {\n",
       "        text-align: right;\n",
       "    }\n",
       "\n",
       "    .dataframe thead th {\n",
       "        text-align: left;\n",
       "    }\n",
       "\n",
       "    .dataframe tbody tr th {\n",
       "        vertical-align: top;\n",
       "    }\n",
       "</style>\n",
       "<table border=\"1\" class=\"dataframe\">\n",
       "  <thead>\n",
       "    <tr style=\"text-align: right;\">\n",
       "      <th></th>\n",
       "      <th>low2.5</th>\n",
       "      <th>median</th>\n",
       "      <th>high97.5</th>\n",
       "    </tr>\n",
       "  </thead>\n",
       "  <tbody>\n",
       "    <tr>\n",
       "      <th>lowest combo</th>\n",
       "      <td>-58.3</td>\n",
       "      <td>-54.1</td>\n",
       "      <td>-50.3</td>\n",
       "    </tr>\n",
       "    <tr>\n",
       "      <th>gunhome</th>\n",
       "      <td>-21.5</td>\n",
       "      <td>-20.1</td>\n",
       "      <td>-18.8</td>\n",
       "    </tr>\n",
       "    <tr>\n",
       "      <th>rural</th>\n",
       "      <td>-13.3</td>\n",
       "      <td>-11.8</td>\n",
       "      <td>-9.9</td>\n",
       "    </tr>\n",
       "    <tr>\n",
       "      <th>nineties</th>\n",
       "      <td>-14.4</td>\n",
       "      <td>-9.7</td>\n",
       "      <td>-5.6</td>\n",
       "    </tr>\n",
       "    <tr>\n",
       "      <th>conservative</th>\n",
       "      <td>-9.1</td>\n",
       "      <td>-7.5</td>\n",
       "      <td>-6.5</td>\n",
       "    </tr>\n",
       "    <tr>\n",
       "      <th>eighties</th>\n",
       "      <td>-8.6</td>\n",
       "      <td>-5.9</td>\n",
       "      <td>-3.3</td>\n",
       "    </tr>\n",
       "    <tr>\n",
       "      <th>urban</th>\n",
       "      <td>-6.7</td>\n",
       "      <td>-5.4</td>\n",
       "      <td>-4.2</td>\n",
       "    </tr>\n",
       "    <tr>\n",
       "      <th>seventies</th>\n",
       "      <td>-5.6</td>\n",
       "      <td>-3.7</td>\n",
       "      <td>-1.7</td>\n",
       "    </tr>\n",
       "    <tr>\n",
       "      <th>lowrealinc</th>\n",
       "      <td>-3.8</td>\n",
       "      <td>-2.4</td>\n",
       "      <td>-1.3</td>\n",
       "    </tr>\n",
       "    <tr>\n",
       "      <th>threatened</th>\n",
       "      <td>-3.1</td>\n",
       "      <td>-2.3</td>\n",
       "      <td>-0.8</td>\n",
       "    </tr>\n",
       "    <tr>\n",
       "      <th>thirties</th>\n",
       "      <td>-2.9</td>\n",
       "      <td>-1.6</td>\n",
       "      <td>0.2</td>\n",
       "    </tr>\n",
       "    <tr>\n",
       "      <th>fifties</th>\n",
       "      <td>-2.0</td>\n",
       "      <td>-0.5</td>\n",
       "      <td>0.9</td>\n",
       "    </tr>\n",
       "    <tr>\n",
       "      <th>twenties</th>\n",
       "      <td>-2.3</td>\n",
       "      <td>-0.5</td>\n",
       "      <td>1.5</td>\n",
       "    </tr>\n",
       "    <tr>\n",
       "      <th>forties</th>\n",
       "      <td>-1.2</td>\n",
       "      <td>-0.1</td>\n",
       "      <td>1.4</td>\n",
       "    </tr>\n",
       "    <tr>\n",
       "      <th>ishisp</th>\n",
       "      <td>-1.7</td>\n",
       "      <td>-0.0</td>\n",
       "      <td>2.0</td>\n",
       "    </tr>\n",
       "    <tr>\n",
       "      <th>base</th>\n",
       "      <td>0.0</td>\n",
       "      <td>0.0</td>\n",
       "      <td>0.0</td>\n",
       "    </tr>\n",
       "    <tr>\n",
       "      <th>college</th>\n",
       "      <td>0.5</td>\n",
       "      <td>1.6</td>\n",
       "      <td>2.8</td>\n",
       "    </tr>\n",
       "    <tr>\n",
       "      <th>highrealinc</th>\n",
       "      <td>0.5</td>\n",
       "      <td>1.7</td>\n",
       "      <td>2.7</td>\n",
       "    </tr>\n",
       "    <tr>\n",
       "      <th>liberal</th>\n",
       "      <td>3.2</td>\n",
       "      <td>4.3</td>\n",
       "      <td>5.3</td>\n",
       "    </tr>\n",
       "    <tr>\n",
       "      <th>black</th>\n",
       "      <td>3.0</td>\n",
       "      <td>4.5</td>\n",
       "      <td>5.9</td>\n",
       "    </tr>\n",
       "    <tr>\n",
       "      <th>yminus40</th>\n",
       "      <td>4.5</td>\n",
       "      <td>6.5</td>\n",
       "      <td>8.1</td>\n",
       "    </tr>\n",
       "    <tr>\n",
       "      <th>otherrace</th>\n",
       "      <td>5.1</td>\n",
       "      <td>6.9</td>\n",
       "      <td>8.9</td>\n",
       "    </tr>\n",
       "    <tr>\n",
       "      <th>yminus30</th>\n",
       "      <td>6.0</td>\n",
       "      <td>8.3</td>\n",
       "      <td>9.9</td>\n",
       "    </tr>\n",
       "    <tr>\n",
       "      <th>female</th>\n",
       "      <td>10.1</td>\n",
       "      <td>11.2</td>\n",
       "      <td>12.3</td>\n",
       "    </tr>\n",
       "    <tr>\n",
       "      <th>yminus10</th>\n",
       "      <td>9.7</td>\n",
       "      <td>11.9</td>\n",
       "      <td>13.3</td>\n",
       "    </tr>\n",
       "    <tr>\n",
       "      <th>yminus20</th>\n",
       "      <td>9.7</td>\n",
       "      <td>12.0</td>\n",
       "      <td>13.6</td>\n",
       "    </tr>\n",
       "    <tr>\n",
       "      <th>highest combo</th>\n",
       "      <td>17.1</td>\n",
       "      <td>19.2</td>\n",
       "      <td>21.0</td>\n",
       "    </tr>\n",
       "  </tbody>\n",
       "</table>\n",
       "</div>"
      ],
      "text/plain": [
       "               low2.5  median  high97.5\n",
       "lowest combo    -58.3   -54.1     -50.3\n",
       "gunhome         -21.5   -20.1     -18.8\n",
       "rural           -13.3   -11.8      -9.9\n",
       "nineties        -14.4    -9.7      -5.6\n",
       "conservative     -9.1    -7.5      -6.5\n",
       "eighties         -8.6    -5.9      -3.3\n",
       "urban            -6.7    -5.4      -4.2\n",
       "seventies        -5.6    -3.7      -1.7\n",
       "lowrealinc       -3.8    -2.4      -1.3\n",
       "threatened       -3.1    -2.3      -0.8\n",
       "thirties         -2.9    -1.6       0.2\n",
       "fifties          -2.0    -0.5       0.9\n",
       "twenties         -2.3    -0.5       1.5\n",
       "forties          -1.2    -0.1       1.4\n",
       "ishisp           -1.7    -0.0       2.0\n",
       "base              0.0     0.0       0.0\n",
       "college           0.5     1.6       2.8\n",
       "highrealinc       0.5     1.7       2.7\n",
       "liberal           3.2     4.3       5.3\n",
       "black             3.0     4.5       5.9\n",
       "yminus40          4.5     6.5       8.1\n",
       "otherrace         5.1     6.9       8.9\n",
       "yminus30          6.0     8.3       9.9\n",
       "female           10.1    11.2      12.3\n",
       "yminus10          9.7    11.9      13.3\n",
       "yminus20          9.7    12.0      13.6\n",
       "highest combo    17.1    19.2      21.0"
      ]
     },
     "execution_count": 108,
     "metadata": {},
     "output_type": "execute_result"
    }
   ],
   "source": [
    "preds = [result.offset for result in results]\n",
    "median, low, high = thinkstats2.PercentileRows(preds, [50, 2.5, 97.5])\n",
    "\n",
    "offsets = pd.DataFrame(index=result.index)\n",
    "offsets['low2.5'] = low\n",
    "offsets['median'] = median\n",
    "offsets['high97.5'] = high\n",
    "offsets.sort_values('median').round(1)"
   ]
  },
  {
   "cell_type": "code",
   "execution_count": 109,
   "metadata": {
    "scrolled": true
   },
   "outputs": [
    {
     "name": "stdout",
     "output_type": "stream",
     "text": [
      "<table border=\"1\" class=\"dataframe\">\n",
      "  <thead>\n",
      "    <tr style=\"text-align: right;\">\n",
      "      <th></th>\n",
      "      <th>low2.5</th>\n",
      "      <th>median</th>\n",
      "      <th>high97.5</th>\n",
      "    </tr>\n",
      "  </thead>\n",
      "  <tbody>\n",
      "    <tr>\n",
      "      <th>lowest combo</th>\n",
      "      <td>-58.3</td>\n",
      "      <td>-54.1</td>\n",
      "      <td>-50.3</td>\n",
      "    </tr>\n",
      "    <tr>\n",
      "      <th>gunhome</th>\n",
      "      <td>-21.5</td>\n",
      "      <td>-20.1</td>\n",
      "      <td>-18.8</td>\n",
      "    </tr>\n",
      "    <tr>\n",
      "      <th>rural</th>\n",
      "      <td>-13.3</td>\n",
      "      <td>-11.8</td>\n",
      "      <td>-9.9</td>\n",
      "    </tr>\n",
      "    <tr>\n",
      "      <th>nineties</th>\n",
      "      <td>-14.4</td>\n",
      "      <td>-9.7</td>\n",
      "      <td>-5.6</td>\n",
      "    </tr>\n",
      "    <tr>\n",
      "      <th>conservative</th>\n",
      "      <td>-9.1</td>\n",
      "      <td>-7.5</td>\n",
      "      <td>-6.5</td>\n",
      "    </tr>\n",
      "    <tr>\n",
      "      <th>eighties</th>\n",
      "      <td>-8.6</td>\n",
      "      <td>-5.9</td>\n",
      "      <td>-3.3</td>\n",
      "    </tr>\n",
      "    <tr>\n",
      "      <th>urban</th>\n",
      "      <td>-6.7</td>\n",
      "      <td>-5.4</td>\n",
      "      <td>-4.2</td>\n",
      "    </tr>\n",
      "    <tr>\n",
      "      <th>seventies</th>\n",
      "      <td>-5.6</td>\n",
      "      <td>-3.7</td>\n",
      "      <td>-1.7</td>\n",
      "    </tr>\n",
      "    <tr>\n",
      "      <th>lowrealinc</th>\n",
      "      <td>-3.8</td>\n",
      "      <td>-2.4</td>\n",
      "      <td>-1.3</td>\n",
      "    </tr>\n",
      "    <tr>\n",
      "      <th>threatened</th>\n",
      "      <td>-3.1</td>\n",
      "      <td>-2.3</td>\n",
      "      <td>-0.8</td>\n",
      "    </tr>\n",
      "    <tr>\n",
      "      <th>thirties</th>\n",
      "      <td>-2.9</td>\n",
      "      <td>-1.6</td>\n",
      "      <td>0.2</td>\n",
      "    </tr>\n",
      "    <tr>\n",
      "      <th>fifties</th>\n",
      "      <td>-2.0</td>\n",
      "      <td>-0.5</td>\n",
      "      <td>0.9</td>\n",
      "    </tr>\n",
      "    <tr>\n",
      "      <th>twenties</th>\n",
      "      <td>-2.3</td>\n",
      "      <td>-0.5</td>\n",
      "      <td>1.5</td>\n",
      "    </tr>\n",
      "    <tr>\n",
      "      <th>forties</th>\n",
      "      <td>-1.2</td>\n",
      "      <td>-0.1</td>\n",
      "      <td>1.4</td>\n",
      "    </tr>\n",
      "    <tr>\n",
      "      <th>ishisp</th>\n",
      "      <td>-1.7</td>\n",
      "      <td>-0.0</td>\n",
      "      <td>2.0</td>\n",
      "    </tr>\n",
      "    <tr>\n",
      "      <th>base</th>\n",
      "      <td>0.0</td>\n",
      "      <td>0.0</td>\n",
      "      <td>0.0</td>\n",
      "    </tr>\n",
      "    <tr>\n",
      "      <th>college</th>\n",
      "      <td>0.5</td>\n",
      "      <td>1.6</td>\n",
      "      <td>2.8</td>\n",
      "    </tr>\n",
      "    <tr>\n",
      "      <th>highrealinc</th>\n",
      "      <td>0.5</td>\n",
      "      <td>1.7</td>\n",
      "      <td>2.7</td>\n",
      "    </tr>\n",
      "    <tr>\n",
      "      <th>liberal</th>\n",
      "      <td>3.2</td>\n",
      "      <td>4.3</td>\n",
      "      <td>5.3</td>\n",
      "    </tr>\n",
      "    <tr>\n",
      "      <th>black</th>\n",
      "      <td>3.0</td>\n",
      "      <td>4.5</td>\n",
      "      <td>5.9</td>\n",
      "    </tr>\n",
      "    <tr>\n",
      "      <th>yminus40</th>\n",
      "      <td>4.5</td>\n",
      "      <td>6.5</td>\n",
      "      <td>8.1</td>\n",
      "    </tr>\n",
      "    <tr>\n",
      "      <th>otherrace</th>\n",
      "      <td>5.1</td>\n",
      "      <td>6.9</td>\n",
      "      <td>8.9</td>\n",
      "    </tr>\n",
      "    <tr>\n",
      "      <th>yminus30</th>\n",
      "      <td>6.0</td>\n",
      "      <td>8.3</td>\n",
      "      <td>9.9</td>\n",
      "    </tr>\n",
      "    <tr>\n",
      "      <th>female</th>\n",
      "      <td>10.1</td>\n",
      "      <td>11.2</td>\n",
      "      <td>12.3</td>\n",
      "    </tr>\n",
      "    <tr>\n",
      "      <th>yminus10</th>\n",
      "      <td>9.7</td>\n",
      "      <td>11.9</td>\n",
      "      <td>13.3</td>\n",
      "    </tr>\n",
      "    <tr>\n",
      "      <th>yminus20</th>\n",
      "      <td>9.7</td>\n",
      "      <td>12.0</td>\n",
      "      <td>13.6</td>\n",
      "    </tr>\n",
      "    <tr>\n",
      "      <th>highest combo</th>\n",
      "      <td>17.1</td>\n",
      "      <td>19.2</td>\n",
      "      <td>21.0</td>\n",
      "    </tr>\n",
      "  </tbody>\n",
      "</table>\n"
     ]
    }
   ],
   "source": [
    "lines = offsets.sort_values('median').round(1).to_html().split('\\n')\n",
    "for line in lines:\n",
    "    print(line)"
   ]
  },
  {
   "cell_type": "code",
   "execution_count": null,
   "metadata": {
    "collapsed": true
   },
   "outputs": [],
   "source": []
  },
  {
   "cell_type": "code",
   "execution_count": null,
   "metadata": {
    "collapsed": true
   },
   "outputs": [],
   "source": []
  },
  {
   "cell_type": "markdown",
   "metadata": {},
   "source": [
    "### Retrodict trends"
   ]
  },
  {
   "cell_type": "code",
   "execution_count": 110,
   "metadata": {
    "collapsed": true
   },
   "outputs": [],
   "source": [
    "def predict_favor(df, model):\n",
    "    \"\"\"Predict the percentage of people who would favor struct gun laws.\n",
    "    \n",
    "    df: DataFrame\n",
    "    model: model\n",
    "    \n",
    "    return: percentage\n",
    "    \"\"\"\n",
    "    probs = model.predict(df)\n",
    "    bools = np.random.random(len(probs)) < probs\n",
    "    assert numnull(bools) == 0\n",
    "    return bools.dropna().mean() * 100"
   ]
  },
  {
   "cell_type": "markdown",
   "metadata": {},
   "source": []
  },
  {
   "cell_type": "code",
   "execution_count": 111,
   "metadata": {},
   "outputs": [
    {
     "data": {
      "text/plain": [
       "(0.7633584009499307, 76.068672075994456)"
      ]
     },
     "execution_count": 111,
     "metadata": {},
     "output_type": "execute_result"
    }
   ],
   "source": [
    "subset.favor.mean(), predict_favor(data, model)"
   ]
  },
  {
   "cell_type": "markdown",
   "metadata": {},
   "source": []
  },
  {
   "cell_type": "code",
   "execution_count": 112,
   "metadata": {},
   "outputs": [
    {
     "data": {
      "text/plain": [
       "(0.7633584009499307, 77.104344763551367)"
      ]
     },
     "execution_count": 112,
     "metadata": {},
     "output_type": "execute_result"
    }
   ],
   "source": [
    "sample.favor.mean(), predict_favor(sample, model)"
   ]
  },
  {
   "cell_type": "markdown",
   "metadata": {},
   "source": []
  },
  {
   "cell_type": "code",
   "execution_count": 113,
   "metadata": {
    "collapsed": true
   },
   "outputs": [],
   "source": [
    "grouped_year4 = sample.groupby('year')"
   ]
  },
  {
   "cell_type": "markdown",
   "metadata": {},
   "source": []
  },
  {
   "cell_type": "code",
   "execution_count": 114,
   "metadata": {},
   "outputs": [
    {
     "name": "stdout",
     "output_type": "stream",
     "text": [
      "1972 1613 74.3475493316359 76.6274023559\n",
      "1973 1504 76.78692988427501 75.0664893617\n",
      "1974 1484 75.9780370624571 72.102425876\n",
      "1975 1490 75.12093987560469 74.2281879195\n",
      "1976 1499 72.22972972972973 73.0486991328\n",
      "1977 1530 72.10072895957587 72.2222222222\n",
      "1978 1532 nan 74.5430809399\n",
      "1980 1468 70.50209205020921 73.3651226158\n",
      "1982 1860 73.7741046831956 73.6559139785\n",
      "1983 1599 nan 73.2332707942\n",
      "1984 1473 73.35664335664336 72.3693143245\n",
      "1985 1534 71.17414248021107 74.185136897\n",
      "1986 1470 nan 75.4421768707\n",
      "1987 1819 73.23232323232324 75.8108851017\n",
      "1988 1481 74.86855941114617 77.5151924375\n",
      "1989 1537 78.3567134268537 77.4886141835\n",
      "1990 1372 81.08747044917257 77.8425655977\n",
      "1991 1517 80.82051282051282 77.587343441\n",
      "1993 1606 83.05555555555556 79.4520547945\n",
      "1994 2992 79.17515274949083 79.9799465241\n",
      "1996 2904 81.17962466487936 78.8223140496\n",
      "1998 2832 83.63930885529157 80.6850282486\n",
      "2000 2817 82.26351351351352 82.7831025914\n",
      "2002 2765 82.42677824267783 82.2784810127\n",
      "2004 2812 80.11834319526628 80.6187766714\n",
      "2006 4510 79.05544147843942 81.7294900222\n",
      "2008 2023 78.42543527630583 78.2995551162\n",
      "2010 2044 74.8625294579733 77.6418786693\n",
      "2012 1974 75.0 73.8095238095\n",
      "2014 2538 72.3629935179729 71.9464144996\n",
      "2016 2867 69.02374670184696 66.1667247994\n"
     ]
    }
   ],
   "source": [
    "for name, group in grouped_year4:\n",
    "    retro = predict_favor(group, model)\n",
    "    actual = group.favor.mean() * 100\n",
    "    print(name, len(group), actual, retro)"
   ]
  },
  {
   "cell_type": "markdown",
   "metadata": {},
   "source": []
  },
  {
   "cell_type": "code",
   "execution_count": 115,
   "metadata": {},
   "outputs": [
    {
     "data": {
      "image/png": "[encoded data removed]",
      "text/plain": [
       "<matplotlib.figure.Figure at 0x7efd14e40860>"
      ]
     },
     "metadata": {},
     "output_type": "display_data"
    }
   ],
   "source": [
    "actual = pd.Series([])\n",
    "retro = pd.Series([])\n",
    "for name, group in grouped_year4:\n",
    "    retro[name] = predict_favor(group, model)\n",
    "    actual[name] = group.favor.mean() * 100\n",
    "\n",
    "thinkplot.plot(actual.index, actual)\n",
    "thinkplot.plot(retro.index, retro)"
   ]
  },
  {
   "cell_type": "code",
   "execution_count": 116,
   "metadata": {},
   "outputs": [
    {
     "ename": "NameError",
     "evalue": "name 'stop' is not defined",
     "output_type": "error",
     "traceback": [
      "\u001b[0;31m---------------------------------------------------------------------------\u001b[0m",
      "\u001b[0;31mNameError\u001b[0m                                 Traceback (most recent call last)",
      "\u001b[0;32m<ipython-input-116-30d9529ff51c>\u001b[0m in \u001b[0;36m<module>\u001b[0;34m()\u001b[0m\n\u001b[0;32m----> 1\u001b[0;31m \u001b[0mstop\u001b[0m\u001b[0;34m\u001b[0m\u001b[0m\n\u001b[0m",
      "\u001b[0;31mNameError\u001b[0m: name 'stop' is not defined"
     ]
    }
   ],
   "source": [
    "stop"
   ]
  },
  {
   "cell_type": "markdown",
   "metadata": {},
   "source": [
    "### Test counterfactual code"
   ]
  },
  {
   "cell_type": "code",
   "execution_count": null,
   "metadata": {
    "collapsed": true
   },
   "outputs": [],
   "source": [
    "# may not need this any more, since sample is a copy\n",
    "counterfact = sample.copy()"
   ]
  },
  {
   "cell_type": "code",
   "execution_count": null,
   "metadata": {
    "collapsed": true
   },
   "outputs": [],
   "source": [
    "def flip(df, varname, val, new_val, prob):\n",
    "    \"\"\"Changes the value of a variable for a random sample of rows.\n",
    "    \n",
    "    Selects each row where varname==val with probability prob, and\n",
    "    replaces val with new_val.\n",
    "    \n",
    "    df: DataFrame\n",
    "    varname: string\n",
    "    val: old value\n",
    "    new_val: new value\n",
    "    prob: probability of flipping\n",
    "    \"\"\"\n",
    "    assert(0 < prob < 1)\n",
    "    #print('flip', val, new_val, prob)\n",
    "    \n",
    "    # get indices of the rows that match val\n",
    "    indices = np.flatnonzero(df[varname] == val)\n",
    "    #print(len(indices) * prob)\n",
    "    \n",
    "    # flip a coin for each selected row\n",
    "    cond = np.random.random(len(indices)) < prob\n",
    "\n",
    "    # get indices of the rows that will flip\n",
    "    flippers = indices[cond]\n",
    "    #print(len(flippers))\n",
    "    #print((df.loc[flippers, varname] == val).mean())\n",
    "    \n",
    "    # assign the new val to the selected rows\n",
    "    labels = df.index[flippers]\n",
    "    df.loc[labels, varname] = new_val"
   ]
  },
  {
   "cell_type": "code",
   "execution_count": null,
   "metadata": {},
   "outputs": [],
   "source": [
    "counterfact.college.value_counts()"
   ]
  },
  {
   "cell_type": "code",
   "execution_count": null,
   "metadata": {
    "collapsed": true
   },
   "outputs": [],
   "source": [
    "flip(counterfact, 'college', 1, 0, 0.1)"
   ]
  },
  {
   "cell_type": "code",
   "execution_count": null,
   "metadata": {},
   "outputs": [],
   "source": [
    "counterfact.college.value_counts()"
   ]
  },
  {
   "cell_type": "code",
   "execution_count": null,
   "metadata": {
    "collapsed": true
   },
   "outputs": [],
   "source": [
    "def adjust_prob(df, varname, desired):\n",
    "    \"\"\"Flip enough people to make the mean of varname equal desired.\n",
    "\n",
    "    varname must be a 0,1 boolean\n",
    "\n",
    "    Can only reliably make small changes.\n",
    "\n",
    "    df: DataFrame\n",
    "    varname: string column name\n",
    "    desired: value between 0 and 1\n",
    "    \"\"\"\n",
    "    actual = df[varname].mean()\n",
    "    diff = desired - actual\n",
    "    #print(actual, diff)\n",
    "    if diff > 0:\n",
    "        prob = diff / (1-actual)\n",
    "        flip(df, varname, 0, 1, prob)\n",
    "    elif diff < 0:\n",
    "        prob = -diff / actual\n",
    "        flip(df, varname, 1, 0, prob)"
   ]
  },
  {
   "cell_type": "code",
   "execution_count": null,
   "metadata": {},
   "outputs": [],
   "source": [
    "counterfact.college.value_counts()"
   ]
  },
  {
   "cell_type": "code",
   "execution_count": null,
   "metadata": {
    "collapsed": true
   },
   "outputs": [],
   "source": [
    "adjust_prob(counterfact, 'college', 0.9)"
   ]
  },
  {
   "cell_type": "code",
   "execution_count": null,
   "metadata": {},
   "outputs": [],
   "source": [
    "counterfact.college.value_counts()"
   ]
  },
  {
   "cell_type": "code",
   "execution_count": null,
   "metadata": {},
   "outputs": [],
   "source": [
    "counterfact.college.mean()"
   ]
  },
  {
   "cell_type": "code",
   "execution_count": null,
   "metadata": {
    "collapsed": true
   },
   "outputs": [],
   "source": [
    "def make_counterfactual(grouped, varname, desired):\n",
    "    \"\"\"Modifies a groupby so the proportion of varname is constant.\n",
    "    \n",
    "    grouped: groupby object\n",
    "    varname: string column name\n",
    "    desired: value to level out at\n",
    "    \"\"\"\n",
    "    for name, group in grouped:\n",
    "        before = group[varname].mean() * 100\n",
    "        adjust_prob(group, varname, desired)\n",
    "        after = group[varname].mean() * 100\n",
    "\n",
    "        print(name, before, after)"
   ]
  },
  {
   "cell_type": "code",
   "execution_count": null,
   "metadata": {
    "collapsed": true
   },
   "outputs": [],
   "source": [
    "counterfact = sample.copy()"
   ]
  },
  {
   "cell_type": "code",
   "execution_count": null,
   "metadata": {},
   "outputs": [],
   "source": [
    "grouped_year4 = counterfact.groupby('year')\n",
    "grouped_year4.black.mean()"
   ]
  },
  {
   "cell_type": "code",
   "execution_count": null,
   "metadata": {},
   "outputs": [],
   "source": [
    "prob = grouped_year4.black.mean()[1973]\n",
    "prob"
   ]
  },
  {
   "cell_type": "code",
   "execution_count": null,
   "metadata": {},
   "outputs": [],
   "source": [
    "make_counterfactual(grouped_year4, 'black', prob)"
   ]
  },
  {
   "cell_type": "code",
   "execution_count": null,
   "metadata": {},
   "outputs": [],
   "source": [
    "predict_favor(counterfact, model)"
   ]
  },
  {
   "cell_type": "code",
   "execution_count": null,
   "metadata": {},
   "outputs": [],
   "source": [
    "actual = pd.Series([])\n",
    "counter = pd.Series([])\n",
    "for name, group in grouped_year4:\n",
    "    counter[name] = predict_favor(group, model)\n",
    "    actual[name] = group.favor.mean() * 100\n",
    "\n",
    "thinkplot.plot(actual.index, actual)\n",
    "thinkplot.plot(retro.index, retro)\n",
    "thinkplot.plot(counter.index, counter)"
   ]
  },
  {
   "cell_type": "markdown",
   "metadata": {},
   "source": [
    "### Run counterfactuals"
   ]
  },
  {
   "cell_type": "code",
   "execution_count": null,
   "metadata": {},
   "outputs": [],
   "source": []
  },
  {
   "cell_type": "code",
   "execution_count": null,
   "metadata": {
    "collapsed": true
   },
   "outputs": [],
   "source": []
  },
  {
   "cell_type": "code",
   "execution_count": null,
   "metadata": {
    "collapsed": true
   },
   "outputs": [],
   "source": []
  },
  {
   "cell_type": "code",
   "execution_count": null,
   "metadata": {
    "collapsed": true
   },
   "outputs": [],
   "source": []
  },
  {
   "cell_type": "code",
   "execution_count": null,
   "metadata": {
    "collapsed": true
   },
   "outputs": [],
   "source": []
  },
  {
   "cell_type": "code",
   "execution_count": null,
   "metadata": {
    "collapsed": true
   },
   "outputs": [],
   "source": []
  },
  {
   "cell_type": "code",
   "execution_count": null,
   "metadata": {
    "collapsed": true
   },
   "outputs": [],
   "source": []
  },
  {
   "cell_type": "markdown",
   "metadata": {},
   "source": [
    "## Favor gunlaw"
   ]
  },
  {
   "cell_type": "code",
   "execution_count": null,
   "metadata": {
    "collapsed": true
   },
   "outputs": [],
   "source": [
    "def make_series(grouped, varname):\n",
    "    \"\"\"Compute the percentage in each category.\n",
    "    \n",
    "    grouped: GroupBy object\n",
    "    varname: string column name\n",
    "    \n",
    "    returns:  Series\n",
    "    \"\"\"\n",
    "    return grouped[varname].mean() * 100"
   ]
  },
  {
   "cell_type": "code",
   "execution_count": null,
   "metadata": {
    "collapsed": true
   },
   "outputs": [],
   "source": [
    "def plot_series(series, **options):\n",
    "    \"\"\"Plots Series objects.\n",
    "    \n",
    "    series: Series\n",
    "    \"\"\"\n",
    "    thinkplot.plot(series.dropna(), **options)"
   ]
  },
  {
   "cell_type": "code",
   "execution_count": null,
   "metadata": {
    "collapsed": true
   },
   "outputs": [],
   "source": [
    "def plot_gunlaw(grouped):\n",
    "    \"\"\".\n",
    "    \n",
    "    grouped:\n",
    "    \"\"\"\n",
    "    varnames = ['favor']\n",
    "    colors = [BLUE]\n",
    "    labels = ['Favor']\n",
    "    series_seq = make_series_seq(grouped, varnames)\n",
    "    plot_series_seq(series_seq, colors, labels)"
   ]
  },
  {
   "cell_type": "markdown",
   "metadata": {},
   "source": [
    "Plot the percentage in each religious group as a function of survey year."
   ]
  },
  {
   "cell_type": "code",
   "execution_count": null,
   "metadata": {},
   "outputs": [],
   "source": [
    "grouped_year = sample.groupby('year')\n",
    "favor = make_series(grouped_year, 'favor')\n",
    "favor"
   ]
  },
  {
   "cell_type": "code",
   "execution_count": null,
   "metadata": {},
   "outputs": [],
   "source": [
    "plot_series(favor, color=BLUE, label='favor')\n",
    "thinkplot.config(xlabel='Year of survey', \n",
    "                 ylabel='Percent',\n",
    "                 xlim=[1971, 2017])"
   ]
  },
  {
   "cell_type": "code",
   "execution_count": null,
   "metadata": {},
   "outputs": [],
   "source": [
    "crime = make_series(grouped_year, 'crime')\n",
    "crime"
   ]
  },
  {
   "cell_type": "code",
   "execution_count": null,
   "metadata": {
    "collapsed": true
   },
   "outputs": [],
   "source": [
    "plot_series(crime.loc[1984:], color=RED, label='crime')\n",
    "thinkplot.config(xlabel='Year of survey', \n",
    "                 ylabel='Percent',\n",
    "                 xlim=[1971, 2017])"
   ]
  },
  {
   "cell_type": "code",
   "execution_count": null,
   "metadata": {
    "collapsed": true
   },
   "outputs": [],
   "source": [
    "plot_series(favor, color=BLUE, label='favor')\n",
    "plot_series(crime.loc[1984:], color=RED, label='crime')\n",
    "thinkplot.config(title='Support for gun control and concern about crime',\n",
    "                 xlabel='Year of survey', \n",
    "                 ylabel='Percent',\n",
    "                 xlim=[1971, 2017])"
   ]
  },
  {
   "cell_type": "code",
   "execution_count": null,
   "metadata": {
    "collapsed": true
   },
   "outputs": [],
   "source": [
    "grouped_age = sample.groupby(['age_group'])"
   ]
  },
  {
   "cell_type": "code",
   "execution_count": null,
   "metadata": {
    "collapsed": true
   },
   "outputs": [],
   "source": [
    "plot_gunlaw(grouped_age)\n",
    "thinkplot.config(xlabel='Age', ylabel='Percent')"
   ]
  },
  {
   "cell_type": "markdown",
   "metadata": {},
   "source": [
    "Plot the percentage in favor of gun permits as a function of birth cohort."
   ]
  },
  {
   "cell_type": "code",
   "execution_count": null,
   "metadata": {
    "collapsed": true
   },
   "outputs": [],
   "source": [
    "grouped_cohort = sample.groupby(['cohort5'])"
   ]
  },
  {
   "cell_type": "code",
   "execution_count": null,
   "metadata": {
    "collapsed": true
   },
   "outputs": [],
   "source": [
    "heri = pd.read_csv('heri_gun_control.csv')"
   ]
  },
  {
   "cell_type": "code",
   "execution_count": null,
   "metadata": {
    "collapsed": true
   },
   "outputs": [],
   "source": [
    "heri.year"
   ]
  },
  {
   "cell_type": "code",
   "execution_count": null,
   "metadata": {
    "collapsed": true
   },
   "outputs": [],
   "source": [
    "heri = pd.read_csv('heri_gun_control.csv')\n",
    "thinkplot.plot(heri.year, heri.agree, color=ORANGE)"
   ]
  },
  {
   "cell_type": "code",
   "execution_count": null,
   "metadata": {
    "collapsed": true
   },
   "outputs": [],
   "source": [
    "plot_gunlaw(grouped_cohort)\n",
    "thinkplot.plot(heri.yearm18, heri.agree, color=ORANGE, label='CIRP')\n",
    "thinkplot.config(xlabel='Year of birth', ylabel='Percent')"
   ]
  },
  {
   "cell_type": "markdown",
   "metadata": {},
   "source": [
    "## Logistic models"
   ]
  },
  {
   "cell_type": "code",
   "execution_count": null,
   "metadata": {
    "collapsed": true
   },
   "outputs": [],
   "source": [
    "def make_logit_model(df, var, factors):\n",
    "    \"\"\"Fit a logistic regression model.\n",
    "    \n",
    "    df: DataFrame\n",
    "    var: string name of dependent variable\n",
    "    factors: list of string names for factorscen\n",
    "    \n",
    "    returns: Logit model\n",
    "    \"\"\"\n",
    "    # TODO: investigate the missing=drop option\n",
    "    nonull = df.dropna(subset=factors+[var])\n",
    "    y = nonull[var].values\n",
    "    X = nonull[factors].values\n",
    "    return Logit(y, X).fit(disp=False, full_output=False)"
   ]
  },
  {
   "cell_type": "code",
   "execution_count": null,
   "metadata": {
    "collapsed": true
   },
   "outputs": [],
   "source": [
    "factors = ['ones', 'a', 'c', 'a2', 'c2', 'ac']\n",
    "factors = ['a', 'a2', 'nineties', 'eighties', 'seventies',\n",
    "           'sixties', 'fifties', 'forties', 'thirties', 'twenties']\n",
    "model = make_logit_model(sample, 'favor', factors)"
   ]
  },
  {
   "cell_type": "code",
   "execution_count": null,
   "metadata": {
    "collapsed": true
   },
   "outputs": [],
   "source": [
    "def predict_logit_model(age, model, year, factors):\n",
    "    \"\"\"Make a single-year prediction.\n",
    "    \n",
    "    age: Series of ages to simulate\n",
    "    model: Logit model\n",
    "    year: year to make a prediction for\n",
    "    factors: list of string names for factors\n",
    "    \n",
    "    returns: Series that maps index to percentage\n",
    "    \"\"\"\n",
    "    # resample the ages\n",
    "    n = len(age)\n",
    "    age = np.random.choice(age, n, replace=True)\n",
    "    \n",
    "    # compute cohort\n",
    "    cohort = year - age\n",
    "    df = pd.DataFrame(dict(cohort=cohort, age=age))\n",
    "    center_factors(df)\n",
    "    \n",
    "    # compute probabilities in each category for each respondent\n",
    "    X = df[factors].values\n",
    "    pred = model.predict(X)\n",
    "    \n",
    "    # toss a weighted coin for each respondent\n",
    "    choices = np.random.random(n) <= pred\n",
    "\n",
    "    # return the percentage in favor\n",
    "    return choices.mean() * 100"
   ]
  },
  {
   "cell_type": "code",
   "execution_count": null,
   "metadata": {
    "collapsed": true
   },
   "outputs": [],
   "source": [
    "age = sample.loc[sample.year==2016, 'age']"
   ]
  },
  {
   "cell_type": "code",
   "execution_count": null,
   "metadata": {
    "collapsed": true
   },
   "outputs": [],
   "source": [
    "predict_logit_model(age, model, 1976, factors)"
   ]
  },
  {
   "cell_type": "code",
   "execution_count": null,
   "metadata": {
    "collapsed": true
   },
   "outputs": [],
   "source": [
    "predict_logit_model(age, model, 2016, factors)"
   ]
  },
  {
   "cell_type": "code",
   "execution_count": null,
   "metadata": {
    "collapsed": true
   },
   "outputs": [],
   "source": [
    "predict_logit_model(age, model, 2026, factors)"
   ]
  },
  {
   "cell_type": "code",
   "execution_count": null,
   "metadata": {
    "collapsed": true
   },
   "outputs": [],
   "source": [
    "predict_logit_model(age, model, 2036, factors)"
   ]
  },
  {
   "cell_type": "code",
   "execution_count": null,
   "metadata": {
    "collapsed": true
   },
   "outputs": [],
   "source": [
    "def make_pred(df, var, varnames, years, factors):\n",
    "    \"\"\"Generate predictions from multinomial model.\n",
    "    \n",
    "    df: DataFrame of respondents\n",
    "    var: dependent variable\n",
    "    varnames: list of string variable names\n",
    "    years: sequence of years to generate predictions for\n",
    "    factors: list of string factor names for the model\n",
    "    \n",
    "    returns: DataFrame that maps from index to predicted values\n",
    "    \"\"\" \n",
    "    model = make_logit_model(df, var, factors)\n",
    "    age = df.loc[df.year==2016, 'age']\n",
    "\n",
    "    pred = pd.DataFrame(columns=varnames)\n",
    "    for year in years:\n",
    "        pred.loc[year] = predict_logit_model(age, model, year, factors)\n",
    "    return pred"
   ]
  },
  {
   "cell_type": "code",
   "execution_count": null,
   "metadata": {
    "collapsed": true
   },
   "outputs": [],
   "source": [
    "def plot_pred(df, pred, varnames, colors, alpha=0.2):\n",
    "    \"\"\"Plots predictions from multinomial model.\n",
    "    \n",
    "    pred: DataFrame with one column per variable\n",
    "    varnames: list of string variable names\n",
    "    colors: list of string colors\n",
    "    alpha: numerical transparency\n",
    "    \"\"\"\n",
    "    series_seq = [pred[var] for var in varnames]\n",
    "    for series, color in zip(series_seq, colors):\n",
    "        thinkplot.plot(series, color=color, alpha=alpha)\n",
    "    thinkplot.config(xlabel='Year of survey', loc='upper right')"
   ]
  },
  {
   "cell_type": "code",
   "execution_count": null,
   "metadata": {
    "collapsed": true
   },
   "outputs": [],
   "source": [
    "var = 'favor'\n",
    "varnames = ['favor']\n",
    "years = np.arange(1970, 2038)\n",
    "factors = ['ones', 'a', 'c']\n",
    "colors = [BLUE]\n",
    "\n",
    "pred = make_pred(sample, var, varnames, years, factors)\n",
    "plot_pred(sample, pred, varnames, colors)\n",
    "plot_gunlaw(grouped_year)\n",
    "thinkplot.config(xlim=[1971, 2038])"
   ]
  },
  {
   "cell_type": "code",
   "execution_count": null,
   "metadata": {
    "collapsed": true
   },
   "outputs": [],
   "source": [
    "var = 'favor'\n",
    "varnames = ['favor']\n",
    "years = np.arange(1970, 2038)\n",
    "factors = ['ones', 'a', 'c', 'a2', 'c2', 'ac']\n",
    "index = ['favor']\n",
    "colors = [BLUE]\n",
    "\n",
    "pred = make_pred(sample, var, varnames, years, factors)\n",
    "plot_pred(sample, pred, varnames, colors)\n",
    "plot_gunlaw(grouped_year)\n",
    "thinkplot.config(xlim=[1971, 2038])"
   ]
  },
  {
   "cell_type": "code",
   "execution_count": null,
   "metadata": {
    "collapsed": true
   },
   "outputs": [],
   "source": [
    "var = 'favor'\n",
    "varnames = ['favor']\n",
    "years = np.arange(1970, 2038)\n",
    "factors = ['a', 'a2', 'nineties', 'eighties', 'seventies',\n",
    "           'sixties', 'fifties', 'forties', 'thirties', 'twenties']\n",
    "index = ['favor']\n",
    "colors = [BLUE]\n",
    "\n",
    "pred = make_pred(sample, var, varnames, years, factors)\n",
    "plot_pred(sample, pred, varnames, colors)\n",
    "plot_gunlaw(grouped_year)\n",
    "thinkplot.config(xlim=[1971, 2038])"
   ]
  },
  {
   "cell_type": "markdown",
   "metadata": {},
   "source": [
    "## Resampling"
   ]
  },
  {
   "cell_type": "code",
   "execution_count": null,
   "metadata": {
    "collapsed": true
   },
   "outputs": [],
   "source": [
    "def make_series_df(grouped, varnames):\n",
    "    \"\"\"Compute the percentage in each category.\n",
    "    \n",
    "    grouped: GroupBy object with one-hots for each category\n",
    "    varnames: list of string column names\n",
    "    \n",
    "    returns: DataFrame\n",
    "    \"\"\"\n",
    "    df = pd.DataFrame(columns=varnames)\n",
    "    for var in varnames:\n",
    "        df[var] = grouped[var].mean() * 100\n",
    "    return df"
   ]
  },
  {
   "cell_type": "code",
   "execution_count": null,
   "metadata": {
    "collapsed": true
   },
   "outputs": [],
   "source": [
    "def percentile_rows(series_seq, ps):\n",
    "    \"\"\"Computes percentiles from aligned series.\n",
    "    \n",
    "    series_seq: list of sequences\n",
    "    ps: cumulative probabilities\n",
    "    \n",
    "    returns: Series of x-values, NumPy array with selected rows\n",
    "    \"\"\"\n",
    "    df = pd.concat(series_seq, axis=1).dropna()\n",
    "    xs = df.index\n",
    "    array = df.values.transpose()\n",
    "    array = np.sort(array, axis=0)\n",
    "    nrows, ncols = array.shape\n",
    "    indices = (ps * nrows).astype(int)\n",
    "    rows = array[indices]\n",
    "    return xs, rows"
   ]
  },
  {
   "cell_type": "code",
   "execution_count": null,
   "metadata": {
    "collapsed": true
   },
   "outputs": [],
   "source": [
    "def plot_percentiles(dfs, varnames, colors, labels, plot=True, fill=True, alpha=0.2):\n",
    "    \"\"\"Plots 90% CI and median.\n",
    "    \n",
    "    dfs: list of DataFrames\n",
    "    varnames: list of string variable names\n",
    "    colors: list of string colors\n",
    "    labels: list of string labels\n",
    "    plot: boolean, whether to plot the median\n",
    "    fill: boolean, whether to plot the CI\n",
    "    \"\"\"\n",
    "    ps = np.array([0.05, 0.5, 0.95])\n",
    "\n",
    "    for var, color, label in zip(varnames, colors, labels):\n",
    "        series_seq = [df[var] for df in dfs]\n",
    "        xs, rows = percentile_rows(series_seq, ps)\n",
    "        if fill:\n",
    "            thinkplot.fill_between(xs, rows[0], rows[2], color=color, alpha=alpha)\n",
    "        if plot:\n",
    "            thinkplot.plot(xs, rows[1], color=color, label=label)"
   ]
  },
  {
   "cell_type": "code",
   "execution_count": null,
   "metadata": {
    "collapsed": true
   },
   "outputs": [],
   "source": [
    "def run_data(df, groupvar, varnames, iters=11):\n",
    "    \"\"\"Resample and extract data.\n",
    "    \n",
    "    df: DataFrame\n",
    "    groupvar: string variable to group by\n",
    "    varnames: list of string variable names\n",
    "    iters: number of resamples\n",
    "    \"\"\"\n",
    "    def run():\n",
    "        sample = utils.ResampleByYear(df)\n",
    "        grouped_year = sample.groupby([groupvar])\n",
    "        return make_series_df(grouped_year, varnames)\n",
    "\n",
    "    dfs = [run() for _ in range(iters)]\n",
    "    return dfs"
   ]
  },
  {
   "cell_type": "code",
   "execution_count": null,
   "metadata": {
    "collapsed": true
   },
   "outputs": [],
   "source": [
    "def run_model(df, var, varnames, years, iters=11):\n",
    "    \"\"\"Resample and make predictions.\n",
    "    \n",
    "    df: DataFrame\n",
    "    var: string variable name to model\n",
    "    varnames: list of string variable names\n",
    "    years: list of years to predict\n",
    "    iters: number of resamples\n",
    "    \n",
    "    returns: list of DataFrames\n",
    "    \"\"\"\n",
    "    factors = ['ones', 'a', 'c', 'a2', 'c2', 'ac']\n",
    "    factors = ['a', 'a2', 'nineties', 'eighties', 'seventies',\n",
    "               'sixties', 'fifties', 'forties', 'thirties', 'twenties']\n",
    "\n",
    "    def run():\n",
    "        sample = utils.ResampleByYear(df)\n",
    "        return make_pred(sample, var, varnames, years, factors)\n",
    "\n",
    "    dfs = [run() for _ in range(iters)]\n",
    "    return dfs"
   ]
  },
  {
   "cell_type": "markdown",
   "metadata": {},
   "source": [
    "## Favor gun permits"
   ]
  },
  {
   "cell_type": "code",
   "execution_count": null,
   "metadata": {
    "collapsed": true
   },
   "outputs": [],
   "source": [
    "iters = 31"
   ]
  },
  {
   "cell_type": "code",
   "execution_count": null,
   "metadata": {
    "collapsed": true
   },
   "outputs": [],
   "source": [
    "groupvar = 'year'\n",
    "varnames = ['favor']"
   ]
  },
  {
   "cell_type": "code",
   "execution_count": null,
   "metadata": {
    "collapsed": true
   },
   "outputs": [],
   "source": [
    "dfs1 = run_data(gss, groupvar, varnames, iters=iters)"
   ]
  },
  {
   "cell_type": "code",
   "execution_count": null,
   "metadata": {
    "collapsed": true
   },
   "outputs": [],
   "source": [
    "colors = [BLUE]\n",
    "labels = [None]\n",
    "plot_percentiles(dfs1, varnames, colors, labels)\n",
    "thinkplot.config(title='Favor gun control', \n",
    "                 xlabel='Year of survey', ylabel='Percent',\n",
    "                 xlim=[1971, 2017], ylim=[50, 90])\n",
    "\n",
    "save_options = dict(fmt='png', dpi=50)\n",
    "thinkplot.SaveFormat('favor_year', **save_options)"
   ]
  },
  {
   "cell_type": "code",
   "execution_count": null,
   "metadata": {
    "collapsed": true
   },
   "outputs": [],
   "source": [
    "groupvar = 'cohort5'\n",
    "dfs2 = run_data(gss, groupvar, varnames, iters=iters)"
   ]
  },
  {
   "cell_type": "code",
   "execution_count": null,
   "metadata": {
    "collapsed": true
   },
   "outputs": [],
   "source": [
    "plot_percentiles(dfs2, varnames, colors, labels=['GSS'])\n",
    "thinkplot.config(title='Favor gun control, by year of birth', \n",
    "                 xlabel='Year of birth', ylabel='Percent',\n",
    "                 xlim=[1892, 2000], ylim=[50, 90], loc='lower right')\n",
    "\n",
    "thinkplot.SaveFormat('favor_age', **save_options)"
   ]
  },
  {
   "cell_type": "code",
   "execution_count": null,
   "metadata": {
    "collapsed": true
   },
   "outputs": [],
   "source": [
    "plot_percentiles(dfs2, varnames, colors, labels=['GSS'])\n",
    "\n",
    "# dropping the last data point because its a different question\n",
    "old = heri[heri.year<2016]\n",
    "thinkplot.plot(old.yearm18, old.agree, color=ORANGE, label='CIRP')\n",
    "\n",
    "thinkplot.config(title='Favor gun control, by year of birth', \n",
    "                 xlabel='Year of birth', ylabel='Percent',\n",
    "                 xlim=[1892, 2000], ylim=[50, 90], loc='lower right')\n",
    "\n",
    "thinkplot.SaveFormat('favor_age_cirp', **save_options)"
   ]
  },
  {
   "cell_type": "code",
   "execution_count": null,
   "metadata": {
    "collapsed": true
   },
   "outputs": [],
   "source": [
    "var = 'favor'\n",
    "years = np.arange(1972, 2030)\n",
    "\n",
    "dfs3 = run_model(gss, var, varnames, years, iters=iters)"
   ]
  },
  {
   "cell_type": "code",
   "execution_count": null,
   "metadata": {
    "collapsed": true,
    "scrolled": false
   },
   "outputs": [],
   "source": [
    "nolabels= [None]\n",
    "plot_percentiles(dfs3, varnames, colors, nolabels, plot=False)\n",
    "plot_percentiles(dfs1, varnames, colors, labels, fill=False)\n",
    "thinkplot.config(title='Favor gun control, predicted', \n",
    "                 xlabel='Year of survey', ylabel='Percent',\n",
    "                 xlim=[1971, 2030], ylim=[50, 90])\n",
    "\n",
    "thinkplot.SaveFormat('favor_year_pred', **save_options)"
   ]
  },
  {
   "cell_type": "markdown",
   "metadata": {
    "collapsed": true
   },
   "source": [
    "## Breakdown by political view"
   ]
  },
  {
   "cell_type": "code",
   "execution_count": null,
   "metadata": {
    "collapsed": true,
    "scrolled": true
   },
   "outputs": [],
   "source": [
    "gss.polviews.value_counts()"
   ]
  },
  {
   "cell_type": "code",
   "execution_count": null,
   "metadata": {
    "collapsed": true
   },
   "outputs": [],
   "source": [
    "liberal = gss[gss.liberal]\n",
    "liberal.shape"
   ]
  },
  {
   "cell_type": "code",
   "execution_count": null,
   "metadata": {
    "collapsed": true
   },
   "outputs": [],
   "source": [
    "conservative = gss[gss.conservative]\n",
    "conservative.shape"
   ]
  },
  {
   "cell_type": "code",
   "execution_count": null,
   "metadata": {
    "collapsed": true
   },
   "outputs": [],
   "source": [
    "moderate = gss[gss.moderate]\n",
    "moderate.shape"
   ]
  },
  {
   "cell_type": "code",
   "execution_count": null,
   "metadata": {
    "collapsed": true
   },
   "outputs": [],
   "source": [
    "groupvar = 'cohort5'\n",
    "dfs_lib = run_data(liberal, groupvar, varnames, iters=iters)\n",
    "dfs_mod = run_data(moderate, groupvar, varnames, iters=iters)\n",
    "dfs_con = run_data(conservative, groupvar, varnames, iters=iters)"
   ]
  },
  {
   "cell_type": "code",
   "execution_count": null,
   "metadata": {
    "collapsed": true,
    "scrolled": false
   },
   "outputs": [],
   "source": [
    "plot_percentiles(dfs_lib, varnames, [BLUE], labels=['liberal'], alpha=0.1)\n",
    "plot_percentiles(dfs_mod, varnames, [PURPLE], labels=['moderate'], alpha=0.1)\n",
    "plot_percentiles(dfs_con, varnames, [RED], labels=['conservative'], alpha=0.1)\n",
    "thinkplot.config(title='Favor gun control, grouped by political view', \n",
    "                 xlabel='Year of birth', ylabel='Percent',\n",
    "                 xlim=[1892, 2000], ylim=[40, 100], loc='lower left')\n",
    "\n",
    "thinkplot.SaveFormat('favor_polview_year', **save_options)"
   ]
  },
  {
   "cell_type": "code",
   "execution_count": null,
   "metadata": {
    "collapsed": true
   },
   "outputs": [],
   "source": [
    "groupvar = 'year'\n",
    "dfs_lib = run_data(liberal, groupvar, varnames, iters=iters)\n",
    "dfs_mod = run_data(moderate, groupvar, varnames, iters=iters)\n",
    "dfs_con = run_data(conservative, groupvar, varnames, iters=iters)"
   ]
  },
  {
   "cell_type": "code",
   "execution_count": null,
   "metadata": {
    "collapsed": true,
    "scrolled": false
   },
   "outputs": [],
   "source": [
    "plot_percentiles(dfs_lib, varnames, [BLUE], labels=['liberal'], alpha=0.1)\n",
    "plot_percentiles(dfs_mod, varnames, [PURPLE], labels=['moderate'], alpha=0.1)\n",
    "plot_percentiles(dfs_con, varnames, [RED], labels=['conservative'], alpha=0.1)\n",
    "thinkplot.config(title='Favor gun control, grouped by political view', \n",
    "                 xlabel='Year of survey', ylabel='Percent',\n",
    "                 xlim=[1972, 2017], ylim=[40, 100], loc='lower left')\n",
    "\n",
    "thinkplot.SaveFormat('favor_polview_year', **save_options)"
   ]
  },
  {
   "cell_type": "markdown",
   "metadata": {
    "collapsed": true
   },
   "source": [
    "## Breakdown by race"
   ]
  },
  {
   "cell_type": "code",
   "execution_count": null,
   "metadata": {
    "collapsed": true,
    "scrolled": true
   },
   "outputs": [],
   "source": [
    "gss.race.value_counts()"
   ]
  },
  {
   "cell_type": "code",
   "execution_count": null,
   "metadata": {
    "collapsed": true
   },
   "outputs": [],
   "source": [
    "white = gss[gss.race == 1]\n",
    "white.shape"
   ]
  },
  {
   "cell_type": "code",
   "execution_count": null,
   "metadata": {
    "collapsed": true
   },
   "outputs": [],
   "source": [
    "black = gss[gss.race == 2]\n",
    "black.shape"
   ]
  },
  {
   "cell_type": "code",
   "execution_count": null,
   "metadata": {
    "collapsed": true,
    "scrolled": true
   },
   "outputs": [],
   "source": [
    "nonwhite = gss[gss.race.isin([2,3])]\n",
    "nonwhite.shape"
   ]
  },
  {
   "cell_type": "code",
   "execution_count": null,
   "metadata": {
    "collapsed": true
   },
   "outputs": [],
   "source": [
    "white.favor.mean(), black.favor.mean(), nonwhite.favor.mean()"
   ]
  },
  {
   "cell_type": "code",
   "execution_count": null,
   "metadata": {
    "collapsed": true
   },
   "outputs": [],
   "source": [
    "liberal.favor.mean(), moderate.favor.mean(), conservative.favor.mean()"
   ]
  },
  {
   "cell_type": "code",
   "execution_count": null,
   "metadata": {
    "collapsed": true
   },
   "outputs": [],
   "source": [
    "white.liberal.mean(), black.liberal.mean(), nonwhite.liberal.mean()"
   ]
  },
  {
   "cell_type": "code",
   "execution_count": null,
   "metadata": {
    "collapsed": true
   },
   "outputs": [],
   "source": [
    "white.threatened.mean(), black.threatened.mean(), nonwhite.threatened.mean()"
   ]
  },
  {
   "cell_type": "code",
   "execution_count": null,
   "metadata": {
    "collapsed": true
   },
   "outputs": [],
   "source": [
    "gss.groupby('threatened').favor.mean()"
   ]
  },
  {
   "cell_type": "code",
   "execution_count": null,
   "metadata": {
    "collapsed": true
   },
   "outputs": [],
   "source": [
    "groupvar = 'year'\n",
    "varnames = ['favor']"
   ]
  },
  {
   "cell_type": "code",
   "execution_count": null,
   "metadata": {
    "collapsed": true
   },
   "outputs": [],
   "source": [
    "dfs_white = run_data(white, groupvar, varnames, iters=iters)\n",
    "dfs_nonwhite = run_data(nonwhite, groupvar, varnames, iters=iters)"
   ]
  },
  {
   "cell_type": "code",
   "execution_count": null,
   "metadata": {
    "collapsed": true
   },
   "outputs": [],
   "source": [
    "plot_percentiles(dfs_white, varnames, [BLUE], labels=['white'], alpha=0.1)\n",
    "plot_percentiles(dfs_nonwhite, varnames, [ORANGE], labels=['nonwhite'], alpha=0.1)\n",
    "thinkplot.config(title='Favor gun control, grouped by race', \n",
    "                 xlabel='Year of survey', ylabel='Percent',\n",
    "                 xlim=[1971, 2017], ylim=[40, 100], loc='lower left')\n",
    "\n",
    "thinkplot.SaveFormat('favor_race_year', **save_options)"
   ]
  },
  {
   "cell_type": "code",
   "execution_count": null,
   "metadata": {
    "collapsed": true
   },
   "outputs": [],
   "source": [
    "young = gss[gss.age<30]\n",
    "young_white = young[young.race == 1]\n",
    "young_nonwhite = young[young.race.isin([2,3])]\n",
    "\n",
    "groupvar = 'year4'"
   ]
  },
  {
   "cell_type": "code",
   "execution_count": null,
   "metadata": {
    "collapsed": true
   },
   "outputs": [],
   "source": [
    "dfs_white = run_data(young_white, groupvar, varnames, iters=iters)\n",
    "dfs_nonwhite = run_data(young_nonwhite, groupvar, varnames, iters=iters)"
   ]
  },
  {
   "cell_type": "code",
   "execution_count": null,
   "metadata": {
    "collapsed": true
   },
   "outputs": [],
   "source": [
    "plot_percentiles(dfs_white, varnames, [BLUE], labels=['white'], alpha=0.1)\n",
    "plot_percentiles(dfs_nonwhite, varnames, [ORANGE], labels=['nonwhite'], alpha=0.1)\n",
    "thinkplot.config(title='Favor gun control, by year of survey', \n",
    "                 xlabel='Year of survey', ylabel='Percent',\n",
    "                 xlim=[1970, 2017], ylim=[40, 100], loc='lower left')\n",
    "\n",
    "#thinkplot.SaveFormat('permit_cohort_race', **save_options)"
   ]
  },
  {
   "cell_type": "code",
   "execution_count": null,
   "metadata": {
    "collapsed": true
   },
   "outputs": [],
   "source": [
    "groupvar = 'cohort5'\n",
    "dfs_white = run_data(white, groupvar, varnames, iters=iters)\n",
    "dfs_nonwhite = run_data(nonwhite, groupvar, varnames, iters=iters)"
   ]
  },
  {
   "cell_type": "code",
   "execution_count": null,
   "metadata": {
    "collapsed": true,
    "scrolled": false
   },
   "outputs": [],
   "source": [
    "plot_percentiles(dfs_white, varnames, [BLUE], labels=['white'], alpha=0.1)\n",
    "plot_percentiles(dfs_nonwhite, varnames, [ORANGE], labels=['nonwhite'], alpha=0.1)\n",
    "thinkplot.config(title='Favor gun control, by year of birth', \n",
    "                 xlabel='Year of birth', ylabel='Percent',\n",
    "                 xlim=[1892, 2000], ylim=[40, 100], loc='lower left')\n",
    "\n",
    "thinkplot.SaveFormat('permit_cohort_race', **save_options)"
   ]
  },
  {
   "cell_type": "markdown",
   "metadata": {},
   "source": [
    "## Gun in home"
   ]
  },
  {
   "cell_type": "code",
   "execution_count": null,
   "metadata": {
    "collapsed": true
   },
   "outputs": [],
   "source": [
    "groupvar = 'year'\n",
    "varnames = ['gunhome']"
   ]
  },
  {
   "cell_type": "code",
   "execution_count": null,
   "metadata": {
    "collapsed": true
   },
   "outputs": [],
   "source": [
    "dfs4 = run_data(gss, groupvar, varnames, iters=iters)"
   ]
  },
  {
   "cell_type": "code",
   "execution_count": null,
   "metadata": {
    "collapsed": true
   },
   "outputs": [],
   "source": [
    "colors = [RED]\n",
    "labels = [None]\n",
    "plot_percentiles(dfs4, varnames, colors, labels)\n",
    "thinkplot.config(title='Have gun in home, by year of survey', \n",
    "                 xlabel='Year of survey', ylabel='Percent',\n",
    "                 xlim=[1970, 2017], ylim=[0, 70])\n",
    "\n",
    "thinkplot.SaveFormat('gunhome_year', **save_options)"
   ]
  },
  {
   "cell_type": "code",
   "execution_count": null,
   "metadata": {
    "collapsed": true
   },
   "outputs": [],
   "source": [
    "groupvar = 'cohort5'\n",
    "dfs5 = run_data(gss, groupvar, varnames, iters=iters)"
   ]
  },
  {
   "cell_type": "code",
   "execution_count": null,
   "metadata": {
    "collapsed": true
   },
   "outputs": [],
   "source": [
    "plot_percentiles(dfs5, varnames, colors, labels)\n",
    "thinkplot.config(title='Have gun in home, by year of birth', \n",
    "                 xlabel='Year of birth', ylabel='Percent',\n",
    "                 xlim=[1884, 2000], ylim=[0, 70])\n",
    "\n",
    "thinkplot.SaveFormat('gunhome_cohort', **save_options)"
   ]
  },
  {
   "cell_type": "code",
   "execution_count": null,
   "metadata": {
    "collapsed": true
   },
   "outputs": [],
   "source": [
    "var = 'gunhome'\n",
    "years = np.arange(1972, 2030)\n",
    "\n",
    "dfs6 = run_model(gss, var, varnames, years, iters=iters)"
   ]
  },
  {
   "cell_type": "code",
   "execution_count": null,
   "metadata": {
    "collapsed": true,
    "scrolled": false
   },
   "outputs": [],
   "source": [
    "nolabels= [None]\n",
    "plot_percentiles(dfs6, varnames, colors, nolabels, plot=False)\n",
    "plot_percentiles(dfs4, varnames, colors, labels, fill=False)\n",
    "thinkplot.config(title='Have gun in home, predicted', \n",
    "                 xlabel='Year of survey', ylabel='Percent',\n",
    "                 xlim=[1970, 2032], ylim=[0, 70])\n",
    "\n",
    "thinkplot.SaveFormat('gunhome_pred', **save_options)"
   ]
  },
  {
   "cell_type": "code",
   "execution_count": null,
   "metadata": {
    "collapsed": true
   },
   "outputs": [],
   "source": [
    "heri = pd.read_csv('heri_gun_control.csv')"
   ]
  },
  {
   "cell_type": "code",
   "execution_count": null,
   "metadata": {
    "collapsed": true
   },
   "outputs": [],
   "source": [
    "heri"
   ]
  },
  {
   "cell_type": "code",
   "execution_count": null,
   "metadata": {
    "collapsed": true
   },
   "outputs": [],
   "source": [
    "old = heri[heri.year<2016]\n",
    "new = heri[heri.year>=2016]"
   ]
  },
  {
   "cell_type": "code",
   "execution_count": null,
   "metadata": {
    "collapsed": true
   },
   "outputs": [],
   "source": [
    "thinkplot.plot(old.year, old.agree, color=ORANGE, label='\"Do more to control sale of handguns\"')\n",
    "thinkplot.plot(new.year, new.agree, 's', color=RED, label='\"Should have stricter gun control laws\"')\n",
    "\n",
    "thinkplot.config(title='Favor gun control, CIRP Freshman Survey', \n",
    "                 xlabel='Year of survey', ylabel='Percent',\n",
    "                 xlim=[1987, 2018], ylim=[60, 90], loc='lower left')\n",
    "\n",
    "thinkplot.SaveFormat('control_year_cirp', **save_options)"
   ]
  },
  {
   "cell_type": "markdown",
   "metadata": {},
   "source": [
    "## Age effect"
   ]
  },
  {
   "cell_type": "code",
   "execution_count": null,
   "metadata": {
    "collapsed": true
   },
   "outputs": [],
   "source": [
    "sample.head()"
   ]
  },
  {
   "cell_type": "code",
   "execution_count": null,
   "metadata": {
    "collapsed": true
   },
   "outputs": [],
   "source": [
    "grouped = sample.groupby('cohort10')\n",
    "for name, group in grouped:\n",
    "    print(name, len(group))"
   ]
  },
  {
   "cell_type": "code",
   "execution_count": null,
   "metadata": {
    "collapsed": true
   },
   "outputs": [],
   "source": [
    "cohort = grouped.get_group(1950.0)"
   ]
  },
  {
   "cell_type": "code",
   "execution_count": null,
   "metadata": {
    "collapsed": true
   },
   "outputs": [],
   "source": [
    "def plot_favor_by_age(cohort, **options):\n",
    "    age_groups = cohort.groupby('age3')\n",
    "    series = age_groups.favor.mean() * 100\n",
    "    thinkplot.plot(series.index, series.values, **options)"
   ]
  },
  {
   "cell_type": "code",
   "execution_count": null,
   "metadata": {
    "collapsed": true
   },
   "outputs": [],
   "source": [
    "names = [1940.0, 1950.0, 1960.0, 1970.0, 1980.0, 1990.0]\n",
    "labels = ['40s', '50s', '60s', '70s', '80s', '90s']\n",
    "colors = [RED, ORANGE, YELLOW, GREEN, BLUE, PURPLE]\n",
    "\n",
    "for i, name in enumerate(names):\n",
    "    cohort = grouped.get_group(name)\n",
    "    plot_favor_by_age(cohort, label=labels[i], color=colors[i])\n",
    "    \n",
    "thinkplot.config(title='Favor gun control, grouped by decade of birth', \n",
    "                 xlabel='Age', ylabel='Percent',\n",
    "                 xlim=[15, 80], ylim=[40, 95], loc='lower right')\n",
    "\n",
    "thinkplot.SaveFormat('favor_birth_age', **save_options)"
   ]
  },
  {
   "cell_type": "code",
   "execution_count": null,
   "metadata": {
    "collapsed": true
   },
   "outputs": [],
   "source": [
    "def plot_favor_by_year(cohort, **options):\n",
    "    age_groups = cohort.groupby('year4')\n",
    "    series = age_groups.favor.mean() * 100\n",
    "    thinkplot.plot(series.index, series.values, **options)"
   ]
  },
  {
   "cell_type": "code",
   "execution_count": null,
   "metadata": {
    "collapsed": true
   },
   "outputs": [],
   "source": [
    "for i, name in enumerate(names):\n",
    "    cohort = grouped.get_group(name)\n",
    "    plot_favor_by_year(cohort, label=labels[i], color=colors[i])\n",
    "    \n",
    "thinkplot.config(title='Favor gun control, grouped by decade of birth', \n",
    "                 xlabel='Year of survey', ylabel='Percent',\n",
    "                 xlim=[1970, 2019], ylim=[40, 95], loc='lower left')\n",
    "\n",
    "thinkplot.SaveFormat('favor_birth_year', **save_options)"
   ]
  },
  {
   "cell_type": "code",
   "execution_count": null,
   "metadata": {
    "collapsed": true
   },
   "outputs": [],
   "source": [
    "formula = 'favor ~ a + a2 + c + c2 + C(cohort10)'\n",
    "formula = 'favor ~ a + a2 + c + c2'\n",
    "formula = 'favor ~ a + nineties + eighties + seventies + sixties + fifties + forties + thirties + twenties'\n",
    "\n",
    "model = smf.logit(formula, data=sample).fit()\n",
    "model.summary()"
   ]
  },
  {
   "cell_type": "code",
   "execution_count": null,
   "metadata": {
    "collapsed": true
   },
   "outputs": [],
   "source": [
    "def predict_favor_by_age(model, birth_year):\n",
    "    age = np.linspace(20, 65)\n",
    "    cohort = np.ones_like(age) * birth_year\n",
    "    new = pd.DataFrame(dict(age=age, cohort=cohort))\n",
    "    center_factors(new)\n",
    "    predicted = model_predict(model, new)\n",
    "    return predicted"
   ]
  },
  {
   "cell_type": "code",
   "execution_count": null,
   "metadata": {
    "collapsed": true
   },
   "outputs": [],
   "source": [
    "def plot_predicted_by_age(predicted, **options):\n",
    "    thinkplot.plot(predicted.age, predicted.pred, **options)"
   ]
  },
  {
   "cell_type": "code",
   "execution_count": null,
   "metadata": {
    "collapsed": true
   },
   "outputs": [],
   "source": [
    "name = 1950.0\n",
    "predicted = predict_favor_by_age(model, name)\n",
    "plot_predicted_by_age(predicted, color=RED, linewidth=20, alpha=0.1)\n",
    "\n",
    "cohort = grouped.get_group(name)\n",
    "plot_favor_by_age(cohort, label='50s', color=RED)"
   ]
  },
  {
   "cell_type": "code",
   "execution_count": null,
   "metadata": {
    "collapsed": true
   },
   "outputs": [],
   "source": [
    "for i, name in enumerate(names):\n",
    "    predicted = predict_favor_by_age(model, name)\n",
    "    plot_predicted_by_age(predicted, color=colors[i], linewidth=5, alpha=0.2)\n",
    "    cohort = grouped.get_group(name)\n",
    "    plot_favor_by_age(cohort, label=labels[i], color=colors[i])\n",
    "    \n",
    "thinkplot.config(title='Favor gun control, by age', \n",
    "                 xlabel='Age', ylabel='Percent',\n",
    "                 xlim=[15, 70], ylim=[40, 95], loc='lower right')"
   ]
  },
  {
   "cell_type": "code",
   "execution_count": null,
   "metadata": {
    "collapsed": true
   },
   "outputs": [],
   "source": []
  },
  {
   "cell_type": "code",
   "execution_count": null,
   "metadata": {
    "collapsed": true
   },
   "outputs": [],
   "source": [
    "var = 'favor'\n",
    "years = np.arange(1972, 2030)\n",
    "\n",
    "dfs3 = run_model(gss, var, varnames, years, iters=iters)"
   ]
  },
  {
   "cell_type": "code",
   "execution_count": null,
   "metadata": {
    "collapsed": true,
    "scrolled": false
   },
   "outputs": [],
   "source": [
    "nolabels= [None]\n",
    "plot_percentiles(dfs3, varnames, colors, nolabels, plot=False)\n",
    "plot_percentiles(dfs1, varnames, colors, labels, fill=False)\n",
    "thinkplot.config(title='Favor gun control, predicted', \n",
    "                 xlabel='Year of survey', ylabel='Percent',\n",
    "                 xlim=[1971, 2030], ylim=[50, 90])\n",
    "\n",
    "thinkplot.SaveFormat('permit_pred', **save_options)"
   ]
  },
  {
   "cell_type": "code",
   "execution_count": null,
   "metadata": {
    "collapsed": true
   },
   "outputs": [],
   "source": []
  },
  {
   "cell_type": "code",
   "execution_count": null,
   "metadata": {
    "collapsed": true
   },
   "outputs": [],
   "source": []
  }
 ],
 "metadata": {
  "kernelspec": {
   "display_name": "Python 3",
   "language": "python",
   "name": "python3"
  },
  "language_info": {
   "codemirror_mode": {
    "name": "ipython",
    "version": 3
   },
   "file_extension": ".py",
   "mimetype": "text/x-python",
   "name": "python",
   "nbconvert_exporter": "python",
   "pygments_lexer": "ipython3",
   "version": "3.6.1"
  }
 },
 "nbformat": 4,
 "nbformat_minor": 1
}
