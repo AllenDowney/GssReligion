{
 "cells": [
  {
   "cell_type": "markdown",
   "metadata": {},
   "source": [
    "# A generational model of gun ownership and gun control\n",
    "\n",
    "Allen Downey\n",
    "\n",
    "[MIT License](https://en.wikipedia.org/wiki/MIT_License)"
   ]
  },
  {
   "cell_type": "code",
   "execution_count": 106,
   "metadata": {
    "collapsed": true
   },
   "outputs": [],
   "source": [
    "from __future__ import print_function, division\n",
    "\n",
    "%matplotlib inline\n",
    "\n",
    "import pandas as pd\n",
    "import numpy as np\n",
    "\n",
    "import thinkstats2\n",
    "import thinkplot\n",
    "import utils\n",
    "\n",
    "import statsmodels.formula.api as smf\n",
    "import matplotlib.pyplot as plt\n",
    "\n",
    "import matplotlib\n",
    "matplotlib.rc('figure', figsize=(4, 3))\n",
    "\n",
    "import seaborn as sns\n",
    "sns.set(style='white', font_scale=1.5, context='talk')\n",
    "RED, BLUE, GREEN, PURPLE, ORANGE, YELLOW = sns.color_palette('Set1')\n",
    "\n",
    "from collections import Counter\n",
    "from statsmodels.discrete.discrete_model import MNLogit\n",
    "from statsmodels.discrete.discrete_model import Logit"
   ]
  },
  {
   "cell_type": "markdown",
   "metadata": {},
   "source": [
    "## Loading and validation\n",
    "\n",
    "Reading data from the [General Social Survey](https://gssdataexplorer.norc.org/projects/29853)\n",
    "\n",
    "You can get my selected subset of variables from https://gssdataexplorer.norc.org/projects/41723#"
   ]
  },
  {
   "cell_type": "code",
   "execution_count": 107,
   "metadata": {},
   "outputs": [
    {
     "name": "stdout",
     "output_type": "stream",
     "text": [
      "(62466, 24)\n"
     ]
    },
    {
     "data": {
      "text/html": [
       "<div>\n",
       "<style>\n",
       "    .dataframe thead tr:only-child th {\n",
       "        text-align: right;\n",
       "    }\n",
       "\n",
       "    .dataframe thead th {\n",
       "        text-align: left;\n",
       "    }\n",
       "\n",
       "    .dataframe tbody tr th {\n",
       "        vertical-align: top;\n",
       "    }\n",
       "</style>\n",
       "<table border=\"1\" class=\"dataframe\">\n",
       "  <thead>\n",
       "    <tr style=\"text-align: right;\">\n",
       "      <th></th>\n",
       "      <th>year</th>\n",
       "      <th>conrinc</th>\n",
       "      <th>cohort</th>\n",
       "      <th>ballot</th>\n",
       "      <th>wtssall</th>\n",
       "      <th>income</th>\n",
       "      <th>finrela</th>\n",
       "      <th>realinc</th>\n",
       "      <th>sex</th>\n",
       "      <th>homosex</th>\n",
       "      <th>...</th>\n",
       "      <th>age</th>\n",
       "      <th>race</th>\n",
       "      <th>srcbelt</th>\n",
       "      <th>polviews</th>\n",
       "      <th>natcrime</th>\n",
       "      <th>gunlaw</th>\n",
       "      <th>gun</th>\n",
       "      <th>gunage</th>\n",
       "      <th>gunnum</th>\n",
       "      <th>educ</th>\n",
       "    </tr>\n",
       "  </thead>\n",
       "  <tbody>\n",
       "    <tr>\n",
       "      <th>0</th>\n",
       "      <td>1972</td>\n",
       "      <td>0.0</td>\n",
       "      <td>1949</td>\n",
       "      <td>0</td>\n",
       "      <td>0.4446</td>\n",
       "      <td>0</td>\n",
       "      <td>3</td>\n",
       "      <td>18951.0</td>\n",
       "      <td>2</td>\n",
       "      <td>0</td>\n",
       "      <td>...</td>\n",
       "      <td>23</td>\n",
       "      <td>1</td>\n",
       "      <td>3</td>\n",
       "      <td>0</td>\n",
       "      <td>0</td>\n",
       "      <td>1</td>\n",
       "      <td>0</td>\n",
       "      <td>0</td>\n",
       "      <td>0</td>\n",
       "      <td>16</td>\n",
       "    </tr>\n",
       "    <tr>\n",
       "      <th>1</th>\n",
       "      <td>1972</td>\n",
       "      <td>0.0</td>\n",
       "      <td>1902</td>\n",
       "      <td>0</td>\n",
       "      <td>0.8893</td>\n",
       "      <td>0</td>\n",
       "      <td>4</td>\n",
       "      <td>24366.0</td>\n",
       "      <td>1</td>\n",
       "      <td>0</td>\n",
       "      <td>...</td>\n",
       "      <td>70</td>\n",
       "      <td>1</td>\n",
       "      <td>3</td>\n",
       "      <td>0</td>\n",
       "      <td>0</td>\n",
       "      <td>1</td>\n",
       "      <td>0</td>\n",
       "      <td>0</td>\n",
       "      <td>0</td>\n",
       "      <td>10</td>\n",
       "    </tr>\n",
       "    <tr>\n",
       "      <th>2</th>\n",
       "      <td>1972</td>\n",
       "      <td>0.0</td>\n",
       "      <td>1924</td>\n",
       "      <td>0</td>\n",
       "      <td>0.8893</td>\n",
       "      <td>0</td>\n",
       "      <td>3</td>\n",
       "      <td>24366.0</td>\n",
       "      <td>2</td>\n",
       "      <td>0</td>\n",
       "      <td>...</td>\n",
       "      <td>48</td>\n",
       "      <td>1</td>\n",
       "      <td>3</td>\n",
       "      <td>0</td>\n",
       "      <td>0</td>\n",
       "      <td>1</td>\n",
       "      <td>0</td>\n",
       "      <td>0</td>\n",
       "      <td>0</td>\n",
       "      <td>12</td>\n",
       "    </tr>\n",
       "    <tr>\n",
       "      <th>3</th>\n",
       "      <td>1972</td>\n",
       "      <td>0.0</td>\n",
       "      <td>1945</td>\n",
       "      <td>0</td>\n",
       "      <td>0.8893</td>\n",
       "      <td>0</td>\n",
       "      <td>3</td>\n",
       "      <td>30458.0</td>\n",
       "      <td>2</td>\n",
       "      <td>0</td>\n",
       "      <td>...</td>\n",
       "      <td>27</td>\n",
       "      <td>1</td>\n",
       "      <td>3</td>\n",
       "      <td>0</td>\n",
       "      <td>0</td>\n",
       "      <td>1</td>\n",
       "      <td>0</td>\n",
       "      <td>0</td>\n",
       "      <td>0</td>\n",
       "      <td>17</td>\n",
       "    </tr>\n",
       "    <tr>\n",
       "      <th>4</th>\n",
       "      <td>1972</td>\n",
       "      <td>0.0</td>\n",
       "      <td>1911</td>\n",
       "      <td>0</td>\n",
       "      <td>0.8893</td>\n",
       "      <td>0</td>\n",
       "      <td>4</td>\n",
       "      <td>50763.0</td>\n",
       "      <td>2</td>\n",
       "      <td>0</td>\n",
       "      <td>...</td>\n",
       "      <td>61</td>\n",
       "      <td>1</td>\n",
       "      <td>3</td>\n",
       "      <td>0</td>\n",
       "      <td>0</td>\n",
       "      <td>1</td>\n",
       "      <td>0</td>\n",
       "      <td>0</td>\n",
       "      <td>0</td>\n",
       "      <td>12</td>\n",
       "    </tr>\n",
       "  </tbody>\n",
       "</table>\n",
       "<p>5 rows × 24 columns</p>\n",
       "</div>"
      ],
      "text/plain": [
       "   year  conrinc  cohort  ballot  wtssall  income  finrela  realinc  sex  \\\n",
       "0  1972      0.0    1949       0   0.4446       0        3  18951.0    2   \n",
       "1  1972      0.0    1902       0   0.8893       0        4  24366.0    1   \n",
       "2  1972      0.0    1924       0   0.8893       0        3  24366.0    2   \n",
       "3  1972      0.0    1945       0   0.8893       0        3  30458.0    2   \n",
       "4  1972      0.0    1911       0   0.8893       0        4  50763.0    2   \n",
       "\n",
       "   homosex  ...   age  race  srcbelt  polviews  natcrime  gunlaw  gun  gunage  \\\n",
       "0        0  ...    23     1        3         0         0       1    0       0   \n",
       "1        0  ...    70     1        3         0         0       1    0       0   \n",
       "2        0  ...    48     1        3         0         0       1    0       0   \n",
       "3        0  ...    27     1        3         0         0       1    0       0   \n",
       "4        0  ...    61     1        3         0         0       1    0       0   \n",
       "\n",
       "   gunnum  educ  \n",
       "0       0    16  \n",
       "1       0    10  \n",
       "2       0    12  \n",
       "3       0    17  \n",
       "4       0    12  \n",
       "\n",
       "[5 rows x 24 columns]"
      ]
     },
     "execution_count": 107,
     "metadata": {},
     "output_type": "execute_result"
    }
   ],
   "source": [
    "gss = utils.ReadGss('gss_gun')\n",
    "print(gss.shape)\n",
    "gss.head()"
   ]
  },
  {
   "cell_type": "code",
   "execution_count": 108,
   "metadata": {
    "collapsed": true
   },
   "outputs": [],
   "source": [
    "def replace_invalid(df):\n",
    "    df.gunlaw.replace([8, 9, 0], np.nan, inplace=True)\n",
    "    df.owngun.replace([3, 8, 9, 0], np.nan, inplace=True)\n",
    "    df.gun.replace([8, 9, 0], np.nan, inplace=True)\n",
    "    df.natcrime.replace([8, 9, 0], np.nan, inplace=True)\n",
    "    df.income.replace([0, 13, 98, 99], np.nan, inplace=True)\n",
    "    df.realinc.replace([0], np.nan, inplace=True)                  # TODO: check this\n",
    "    df.educ.replace([98,99], np.nan, inplace=True)\n",
    "    df.polviews.replace([8, 9, 0], np.nan, inplace=True)\n",
    "    df.age.replace([98, 99], np.nan, inplace=True)               # 89 means 89 or older\n",
    "    df.hispanic.replace([98, 99, 0], np.nan, inplace=True)\n",
    "    df.cohort.replace([9999], np.nan, inplace=True)"
   ]
  },
  {
   "cell_type": "code",
   "execution_count": 109,
   "metadata": {
    "collapsed": true
   },
   "outputs": [],
   "source": [
    "def numnull(series):\n",
    "    return sum(series.isnull())"
   ]
  },
  {
   "cell_type": "code",
   "execution_count": 110,
   "metadata": {
    "collapsed": true
   },
   "outputs": [],
   "source": [
    "replace_invalid(gss)"
   ]
  },
  {
   "cell_type": "markdown",
   "metadata": {},
   "source": [
    "### Variable `gunlaw`\n",
    "\n",
    "Would you favor or oppose a law which would require a person to obtain a police permit before he or she could buy a gun?\n",
    "\n",
    "https://gssdataexplorer.norc.org/projects/41723/variables/272/vshow"
   ]
  },
  {
   "cell_type": "code",
   "execution_count": 111,
   "metadata": {},
   "outputs": [
    {
     "data": {
      "text/plain": [
       "21994"
      ]
     },
     "execution_count": 111,
     "metadata": {},
     "output_type": "execute_result"
    }
   ],
   "source": [
    "numnull(gss.gunlaw)"
   ]
  },
  {
   "cell_type": "code",
   "execution_count": 112,
   "metadata": {},
   "outputs": [
    {
     "data": {
      "text/plain": [
       "1.0    30936\n",
       "2.0     9536\n",
       "Name: gunlaw, dtype: int64"
      ]
     },
     "execution_count": 112,
     "metadata": {},
     "output_type": "execute_result"
    }
   ],
   "source": [
    "utils.values(gss, 'gunlaw')"
   ]
  },
  {
   "cell_type": "markdown",
   "metadata": {},
   "source": [
    "### Variable `owngun`\n",
    "\n",
    "Do you happen to have in your home (IF HOUSE: or garage) any guns or revolvers?\n",
    "\n",
    "https://gssdataexplorer.norc.org/projects/41723/variables/679/vshow"
   ]
  },
  {
   "cell_type": "code",
   "execution_count": 113,
   "metadata": {},
   "outputs": [
    {
     "data": {
      "text/plain": [
       "24826"
      ]
     },
     "execution_count": 113,
     "metadata": {},
     "output_type": "execute_result"
    }
   ],
   "source": [
    "numnull(gss.owngun)"
   ]
  },
  {
   "cell_type": "code",
   "execution_count": 114,
   "metadata": {
    "scrolled": false
   },
   "outputs": [
    {
     "data": {
      "text/plain": [
       "1.0    15122\n",
       "2.0    22518\n",
       "Name: owngun, dtype: int64"
      ]
     },
     "execution_count": 114,
     "metadata": {},
     "output_type": "execute_result"
    }
   ],
   "source": [
    "utils.values(gss, 'owngun')"
   ]
  },
  {
   "cell_type": "markdown",
   "metadata": {},
   "source": [
    "### Variable `gun`\n",
    "\n",
    "Have you ever been threatened with a gun, or shot at? \n",
    "\n",
    "https://gssdataexplorer.norc.org/projects/41723/variables/661/vshow"
   ]
  },
  {
   "cell_type": "code",
   "execution_count": 115,
   "metadata": {},
   "outputs": [
    {
     "data": {
      "text/plain": [
       "43138"
      ]
     },
     "execution_count": 115,
     "metadata": {},
     "output_type": "execute_result"
    }
   ],
   "source": [
    "numnull(gss.gun)"
   ]
  },
  {
   "cell_type": "code",
   "execution_count": 116,
   "metadata": {
    "scrolled": false
   },
   "outputs": [
    {
     "data": {
      "text/plain": [
       "1.0     3775\n",
       "2.0    15553\n",
       "Name: gun, dtype: int64"
      ]
     },
     "execution_count": 116,
     "metadata": {},
     "output_type": "execute_result"
    }
   ],
   "source": [
    "utils.values(gss, 'gun')"
   ]
  },
  {
   "cell_type": "markdown",
   "metadata": {},
   "source": [
    "### Variable `natcrime`\n",
    "\n",
    "We are faced with many problems in this country, none of which can be solved easily or inexpensively. I'm going to name some of these problems, and for each one I'd like you to name some of these problems, and for each one I'd like you to tell me whether you think we're spending too much money on it, too little money, or about the right amount. First (READ ITEM A) . . . are we spending too much, too little, or about the right amount on (ITEM)? \n",
    "E. Halting the rising crime rate\n",
    "\n",
    "[Note: the wording of this question assumes that crime rates are rising!]\n",
    "\n",
    "https://gssdataexplorer.norc.org/projects/41723/variables/185/vshow"
   ]
  },
  {
   "cell_type": "code",
   "execution_count": 117,
   "metadata": {},
   "outputs": [
    {
     "data": {
      "text/plain": [
       "28064"
      ]
     },
     "execution_count": 117,
     "metadata": {},
     "output_type": "execute_result"
    }
   ],
   "source": [
    "numnull(gss.natcrime)"
   ]
  },
  {
   "cell_type": "code",
   "execution_count": 118,
   "metadata": {
    "scrolled": false
   },
   "outputs": [
    {
     "data": {
      "text/plain": [
       "1.0    23200\n",
       "2.0     9099\n",
       "3.0     2103\n",
       "Name: natcrime, dtype: int64"
      ]
     },
     "execution_count": 118,
     "metadata": {},
     "output_type": "execute_result"
    }
   ],
   "source": [
    "utils.values(gss, 'natcrime')"
   ]
  },
  {
   "cell_type": "markdown",
   "metadata": {},
   "source": [
    "### Variable `income`\n",
    "\n",
    "In which of these groups did your total family income, from all sources, fall last year before taxes, that is?\n",
    "\n"
   ]
  },
  {
   "cell_type": "code",
   "execution_count": 119,
   "metadata": {},
   "outputs": [
    {
     "data": {
      "text/plain": [
       "7961"
      ]
     },
     "execution_count": 119,
     "metadata": {},
     "output_type": "execute_result"
    }
   ],
   "source": [
    "varname = 'income'\n",
    "numnull(gss[varname])"
   ]
  },
  {
   "cell_type": "code",
   "execution_count": 120,
   "metadata": {},
   "outputs": [
    {
     "data": {
      "text/plain": [
       "1.0       762\n",
       "2.0      1301\n",
       "3.0      1253\n",
       "4.0      1153\n",
       "5.0      1267\n",
       "6.0      1214\n",
       "7.0      1268\n",
       "8.0      2149\n",
       "9.0      6354\n",
       "10.0     4965\n",
       "11.0     5047\n",
       "12.0    27772\n",
       "Name: income, dtype: int64"
      ]
     },
     "execution_count": 120,
     "metadata": {},
     "output_type": "execute_result"
    }
   ],
   "source": [
    "utils.values(gss, varname)"
   ]
  },
  {
   "cell_type": "code",
   "execution_count": 121,
   "metadata": {
    "scrolled": false
   },
   "outputs": [
    {
     "data": {
      "text/plain": [
       "count    54505.000000\n",
       "mean        10.036492\n",
       "std          2.845831\n",
       "min          1.000000\n",
       "25%          9.000000\n",
       "50%         12.000000\n",
       "75%         12.000000\n",
       "max         12.000000\n",
       "Name: income, dtype: float64"
      ]
     },
     "execution_count": 121,
     "metadata": {},
     "output_type": "execute_result"
    }
   ],
   "source": [
    "gss[varname].describe()"
   ]
  },
  {
   "cell_type": "markdown",
   "metadata": {},
   "source": [
    "### Variable `realinc`\n",
    "\n",
    "Family income on 1972-2006 surveys in constant dollars (base = 1986)\n",
    "\n",
    "https://gssdataexplorer.norc.org/variables/5198/vshow\n"
   ]
  },
  {
   "cell_type": "code",
   "execution_count": 122,
   "metadata": {},
   "outputs": [
    {
     "data": {
      "text/plain": [
       "6325"
      ]
     },
     "execution_count": 122,
     "metadata": {},
     "output_type": "execute_result"
    }
   ],
   "source": [
    "varname = 'realinc'\n",
    "numnull(gss[varname])"
   ]
  },
  {
   "cell_type": "code",
   "execution_count": 123,
   "metadata": {
    "scrolled": false
   },
   "outputs": [
    {
     "data": {
      "text/plain": [
       "count     56141.000000\n",
       "mean      31636.199666\n",
       "std       29402.370825\n",
       "min         234.000000\n",
       "25%       12080.625000\n",
       "50%       24097.500000\n",
       "75%       39022.500000\n",
       "max      162607.000000\n",
       "Name: realinc, dtype: float64"
      ]
     },
     "execution_count": 123,
     "metadata": {},
     "output_type": "execute_result"
    }
   ],
   "source": [
    "gss[varname].describe()"
   ]
  },
  {
   "cell_type": "markdown",
   "metadata": {},
   "source": [
    "### Variable `educ`\n",
    "\n",
    "A. What is the highest grade in elementary school or high school that (you/your father/ your mother/your [husband/wife]) finished and got credit for? CODE EXACT GRADE. \n",
    "B. IF FINISHED 9th-12th GRADE OR DK*: Did (you/he/she) ever get a high school diploma or a GED certificate? [SEE D BELOW.] [See REMARKS] \n",
    "C. Did (you/he/she) complete one or more years of college for credit--not including schooling such as business college, technical or vocational school? IF YES: How many years did (you/he/she) complete? \n",
    "Do you (Does [he/she]) have any college degrees? (IF YES: What degree or degrees?) CODE HIGHEST DEGREE EARNED.\n",
    "\n",
    "https://gssdataexplorer.norc.org/projects/41723/variables/55/vshow\n"
   ]
  },
  {
   "cell_type": "code",
   "execution_count": 124,
   "metadata": {},
   "outputs": [
    {
     "data": {
      "text/plain": [
       "174"
      ]
     },
     "execution_count": 124,
     "metadata": {},
     "output_type": "execute_result"
    }
   ],
   "source": [
    "varname = 'educ'\n",
    "numnull(gss[varname])"
   ]
  },
  {
   "cell_type": "code",
   "execution_count": 125,
   "metadata": {
    "scrolled": false
   },
   "outputs": [
    {
     "data": {
      "text/plain": [
       "0.0       161\n",
       "1.0        45\n",
       "2.0       148\n",
       "3.0       247\n",
       "4.0       314\n",
       "5.0       399\n",
       "6.0       808\n",
       "7.0       871\n",
       "8.0      2689\n",
       "9.0      2032\n",
       "10.0     2815\n",
       "11.0     3648\n",
       "12.0    19006\n",
       "13.0     5177\n",
       "14.0     6847\n",
       "15.0     2783\n",
       "16.0     7925\n",
       "17.0     1870\n",
       "18.0     2265\n",
       "19.0      875\n",
       "20.0     1367\n",
       "Name: educ, dtype: int64"
      ]
     },
     "execution_count": 125,
     "metadata": {},
     "output_type": "execute_result"
    }
   ],
   "source": [
    "utils.values(gss, varname)"
   ]
  },
  {
   "cell_type": "markdown",
   "metadata": {},
   "source": [
    "### Variable `polviews`\n",
    "\n",
    "\n",
    "A. We hear a lot of talk these days about liberals and conservatives. \n",
    "I'm going to show you a seven-point scale on which the political views that people might hold are arranged from extremely liberal--point 1--to extremely conservative--point 7. Where would you place yourself on this scale?\n",
    "\n",
    "https://gssdataexplorer.norc.org/projects/41723/variables/178/vshow"
   ]
  },
  {
   "cell_type": "code",
   "execution_count": 126,
   "metadata": {},
   "outputs": [
    {
     "data": {
      "text/plain": [
       "9385"
      ]
     },
     "execution_count": 126,
     "metadata": {},
     "output_type": "execute_result"
    }
   ],
   "source": [
    "varname = 'polviews'\n",
    "numnull(gss[varname])"
   ]
  },
  {
   "cell_type": "code",
   "execution_count": 127,
   "metadata": {},
   "outputs": [
    {
     "data": {
      "text/plain": [
       "1.0     1560\n",
       "2.0     6236\n",
       "3.0     6754\n",
       "4.0    20515\n",
       "5.0     8407\n",
       "6.0     7876\n",
       "7.0     1733\n",
       "Name: polviews, dtype: int64"
      ]
     },
     "execution_count": 127,
     "metadata": {},
     "output_type": "execute_result"
    }
   ],
   "source": [
    "utils.values(gss, varname)"
   ]
  },
  {
   "cell_type": "markdown",
   "metadata": {},
   "source": [
    "### Age \n",
    "\n",
    "https://gssdataexplorer.norc.org/projects/29853/variables/53/vshow"
   ]
  },
  {
   "cell_type": "code",
   "execution_count": 128,
   "metadata": {},
   "outputs": [
    {
     "data": {
      "text/plain": [
       "221"
      ]
     },
     "execution_count": 128,
     "metadata": {},
     "output_type": "execute_result"
    }
   ],
   "source": [
    "numnull(gss.age)"
   ]
  },
  {
   "cell_type": "code",
   "execution_count": 129,
   "metadata": {},
   "outputs": [
    {
     "data": {
      "image/png": "[encoded data removed]",
      "text/plain": [
       "<matplotlib.figure.Figure at 0x7fefa7ee1ba8>"
      ]
     },
     "metadata": {},
     "output_type": "display_data"
    }
   ],
   "source": [
    "thinkplot.Cdf(thinkstats2.Cdf(gss.age))\n",
    "thinkplot.Config(xlabel='Age', ylabel='CDF')"
   ]
  },
  {
   "cell_type": "markdown",
   "metadata": {},
   "source": [
    "### Year of birth \n",
    "\n",
    "https://gssdataexplorer.norc.org/projects/29853/variables/5507/vshow"
   ]
  },
  {
   "cell_type": "code",
   "execution_count": 130,
   "metadata": {},
   "outputs": [
    {
     "data": {
      "text/plain": [
       "221"
      ]
     },
     "execution_count": 130,
     "metadata": {},
     "output_type": "execute_result"
    }
   ],
   "source": [
    "numnull(gss.cohort)"
   ]
  },
  {
   "cell_type": "code",
   "execution_count": 131,
   "metadata": {
    "scrolled": true
   },
   "outputs": [
    {
     "data": {
      "image/png": "[encoded data removed]",
      "text/plain": [
       "<matplotlib.figure.Figure at 0x7fefa351f9b0>"
      ]
     },
     "metadata": {},
     "output_type": "display_data"
    }
   ],
   "source": [
    "thinkplot.Cdf(thinkstats2.Cdf(gss.cohort))\n",
    "thinkplot.Config(xlabel='Year of birth', ylabel='CDF')"
   ]
  },
  {
   "cell_type": "markdown",
   "metadata": {},
   "source": [
    "### Sex \n",
    "\n",
    "https://gssdataexplorer.norc.org/projects/41723/variables/81/vshow"
   ]
  },
  {
   "cell_type": "code",
   "execution_count": 132,
   "metadata": {},
   "outputs": [
    {
     "data": {
      "text/plain": [
       "0"
      ]
     },
     "execution_count": 132,
     "metadata": {},
     "output_type": "execute_result"
    }
   ],
   "source": [
    "numnull(gss.sex)"
   ]
  },
  {
   "cell_type": "code",
   "execution_count": 133,
   "metadata": {
    "scrolled": true
   },
   "outputs": [
    {
     "data": {
      "text/plain": [
       "1    27562\n",
       "2    34904\n",
       "Name: sex, dtype: int64"
      ]
     },
     "execution_count": 133,
     "metadata": {},
     "output_type": "execute_result"
    }
   ],
   "source": [
    "utils.values(gss, 'sex')"
   ]
  },
  {
   "cell_type": "markdown",
   "metadata": {},
   "source": [
    "### Race\n",
    "\n",
    "https://gssdataexplorer.norc.org/projects/41723/variables/82/vshow\n",
    "\n",
    "CODE WITHOUT ASKING ONLY IF THERE IS NO DOUBT IN YOUR MIND. \n",
    "What race do you consider yourself? RECORD VERBATIM AND CODE."
   ]
  },
  {
   "cell_type": "code",
   "execution_count": 134,
   "metadata": {},
   "outputs": [
    {
     "data": {
      "text/plain": [
       "0"
      ]
     },
     "execution_count": 134,
     "metadata": {},
     "output_type": "execute_result"
    }
   ],
   "source": [
    "numnull(gss.race)"
   ]
  },
  {
   "cell_type": "code",
   "execution_count": 135,
   "metadata": {
    "scrolled": false
   },
   "outputs": [
    {
     "data": {
      "text/plain": [
       "1    50340\n",
       "2     8802\n",
       "3     3324\n",
       "Name: race, dtype: int64"
      ]
     },
     "execution_count": 135,
     "metadata": {},
     "output_type": "execute_result"
    }
   ],
   "source": [
    "utils.values(gss, 'race')"
   ]
  },
  {
   "cell_type": "markdown",
   "metadata": {},
   "source": [
    "### Hispanic \n",
    "\n"
   ]
  },
  {
   "cell_type": "code",
   "execution_count": 136,
   "metadata": {
    "scrolled": true
   },
   "outputs": [
    {
     "data": {
      "text/plain": [
       "38149"
      ]
     },
     "execution_count": 136,
     "metadata": {},
     "output_type": "execute_result"
    }
   ],
   "source": [
    "numnull(gss.hispanic)"
   ]
  },
  {
   "cell_type": "code",
   "execution_count": 137,
   "metadata": {},
   "outputs": [
    {
     "data": {
      "text/plain": [
       "1.0     21571\n",
       "2.0      1661\n",
       "3.0       346\n",
       "4.0       115\n",
       "5.0        91\n",
       "6.0        52\n",
       "7.0        14\n",
       "8.0        18\n",
       "9.0         3\n",
       "10.0       25\n",
       "11.0       38\n",
       "15.0       63\n",
       "16.0        1\n",
       "20.0       27\n",
       "21.0       32\n",
       "22.0       37\n",
       "23.0       13\n",
       "24.0       12\n",
       "25.0        3\n",
       "30.0      121\n",
       "31.0        2\n",
       "35.0        7\n",
       "40.0        5\n",
       "41.0       21\n",
       "42.0        1\n",
       "45.0        3\n",
       "46.0       12\n",
       "47.0       13\n",
       "50.0       10\n",
       "Name: hispanic, dtype: int64"
      ]
     },
     "execution_count": 137,
     "metadata": {},
     "output_type": "execute_result"
    }
   ],
   "source": [
    "utils.values(gss, 'hispanic')"
   ]
  },
  {
   "cell_type": "markdown",
   "metadata": {},
   "source": [
    "### srcbelt\n",
    "\n",
    "C. SRC (SURVEY RESEARCH CENTER, UNIVERSITY OF MICHIGAN) NEW BELT CODE\n",
    "\n",
    "https://gssdataexplorer.norc.org/projects/41723/variables/121/vshow"
   ]
  },
  {
   "cell_type": "code",
   "execution_count": 138,
   "metadata": {},
   "outputs": [
    {
     "data": {
      "text/plain": [
       "0"
      ]
     },
     "execution_count": 138,
     "metadata": {},
     "output_type": "execute_result"
    }
   ],
   "source": [
    "numnull(gss.srcbelt)"
   ]
  },
  {
   "cell_type": "code",
   "execution_count": 139,
   "metadata": {
    "scrolled": true
   },
   "outputs": [
    {
     "data": {
      "text/plain": [
       "1     5572\n",
       "2     8670\n",
       "3     7113\n",
       "4     9348\n",
       "5    23583\n",
       "6     8180\n",
       "Name: srcbelt, dtype: int64"
      ]
     },
     "execution_count": 139,
     "metadata": {},
     "output_type": "execute_result"
    }
   ],
   "source": [
    "utils.values(gss, 'srcbelt')"
   ]
  },
  {
   "cell_type": "markdown",
   "metadata": {},
   "source": [
    "### Make age and cohort groups"
   ]
  },
  {
   "cell_type": "markdown",
   "metadata": {},
   "source": [
    "Group people into 5- and 10-year bins by birth year."
   ]
  },
  {
   "cell_type": "code",
   "execution_count": 140,
   "metadata": {
    "collapsed": true
   },
   "outputs": [],
   "source": [
    "gss['cohort5'] = utils.RoundIntoBins(gss, 'cohort', 5, low=2) + 2.5"
   ]
  },
  {
   "cell_type": "code",
   "execution_count": 141,
   "metadata": {},
   "outputs": [
    {
     "data": {
      "text/plain": [
       "cohort5\n",
       "1884.5      15\n",
       "1889.5      85\n",
       "1894.5     216\n",
       "1899.5     443\n",
       "1904.5     722\n",
       "1909.5    1089\n",
       "1914.5    1500\n",
       "1919.5    1837\n",
       "1924.5    2145\n",
       "1929.5    2146\n",
       "1934.5    2328\n",
       "1939.5    2616\n",
       "1944.5    3336\n",
       "1949.5    4254\n",
       "1954.5    4150\n",
       "1959.5    3717\n",
       "1964.5    2935\n",
       "1969.5    2230\n",
       "1974.5    1644\n",
       "1979.5    1266\n",
       "1984.5     879\n",
       "1989.5     560\n",
       "1994.5     213\n",
       "1999.5      14\n",
       "2004.5     132\n",
       "Name: gunlaw, dtype: int64"
      ]
     },
     "execution_count": 141,
     "metadata": {},
     "output_type": "execute_result"
    }
   ],
   "source": [
    "grouped_cohort = gss.groupby(['cohort5'])\n",
    "counts = grouped_cohort.gunlaw.count()           # count cases where we have the dependent var\n",
    "counts"
   ]
  },
  {
   "cell_type": "markdown",
   "metadata": {},
   "source": [
    "To avoid a final data point with a small sample size, I chose `low` to minimize the number of people in the last group, and I've lumped them in with the previous group."
   ]
  },
  {
   "cell_type": "code",
   "execution_count": 142,
   "metadata": {
    "collapsed": true
   },
   "outputs": [],
   "source": [
    "gss.loc[gss.cohort5==1999.5, 'cohort5'] = 1994.5\n",
    "gss.loc[gss.cohort5<1894, 'cohort5'] = 1894.5"
   ]
  },
  {
   "cell_type": "code",
   "execution_count": 143,
   "metadata": {},
   "outputs": [
    {
     "data": {
      "text/plain": [
       "cohort5\n",
       "1894.5     316\n",
       "1899.5     443\n",
       "1904.5     722\n",
       "1909.5    1089\n",
       "1914.5    1500\n",
       "1919.5    1837\n",
       "1924.5    2145\n",
       "1929.5    2146\n",
       "1934.5    2328\n",
       "1939.5    2616\n",
       "1944.5    3336\n",
       "1949.5    4254\n",
       "1954.5    4150\n",
       "1959.5    3717\n",
       "1964.5    2935\n",
       "1969.5    2230\n",
       "1974.5    1644\n",
       "1979.5    1266\n",
       "1984.5     879\n",
       "1989.5     560\n",
       "1994.5     227\n",
       "2004.5     132\n",
       "Name: gunlaw, dtype: int64"
      ]
     },
     "execution_count": 143,
     "metadata": {},
     "output_type": "execute_result"
    }
   ],
   "source": [
    "grouped_cohort = gss.groupby(['cohort5'])\n",
    "counts = grouped_cohort.gunlaw.count()\n",
    "counts"
   ]
  },
  {
   "cell_type": "code",
   "execution_count": 144,
   "metadata": {
    "collapsed": true
   },
   "outputs": [],
   "source": [
    "gss['cohort10'] = utils.RoundIntoBins(gss, 'cohort', 10)"
   ]
  },
  {
   "cell_type": "code",
   "execution_count": 145,
   "metadata": {},
   "outputs": [
    {
     "data": {
      "text/plain": [
       "cohort10\n",
       "1880.0      53\n",
       "1890.0     502\n",
       "1900.0    1563\n",
       "1910.0    3024\n",
       "1920.0    4212\n",
       "1930.0    4703\n",
       "1940.0    6929\n",
       "1950.0    8212\n",
       "1960.0    5721\n",
       "1970.0    3278\n",
       "1980.0    1750\n",
       "1990.0     393\n",
       "2000.0     132\n",
       "Name: gunlaw, dtype: int64"
      ]
     },
     "execution_count": 145,
     "metadata": {},
     "output_type": "execute_result"
    }
   ],
   "source": [
    "grouped_cohort = gss.groupby(['cohort10'])\n",
    "counts = grouped_cohort.gunlaw.count()\n",
    "counts"
   ]
  },
  {
   "cell_type": "markdown",
   "metadata": {},
   "source": [
    "Here's the number of respondents in each year."
   ]
  },
  {
   "cell_type": "code",
   "execution_count": 146,
   "metadata": {},
   "outputs": [
    {
     "data": {
      "text/plain": [
       "1972    1613\n",
       "1973    1504\n",
       "1974    1484\n",
       "1975    1490\n",
       "1976    1499\n",
       "1977    1530\n",
       "1978    1532\n",
       "1980    1468\n",
       "1982    1860\n",
       "1983    1599\n",
       "1984    1473\n",
       "1985    1534\n",
       "1986    1470\n",
       "1987    1819\n",
       "1988    1481\n",
       "1989    1537\n",
       "1990    1372\n",
       "1991    1517\n",
       "1993    1606\n",
       "1994    2992\n",
       "1996    2904\n",
       "1998    2832\n",
       "2000    2817\n",
       "2002    2765\n",
       "2004    2812\n",
       "2006    4510\n",
       "2008    2023\n",
       "2010    2044\n",
       "2012    1974\n",
       "2014    2538\n",
       "2016    2867\n",
       "Name: year, dtype: int64"
      ]
     },
     "execution_count": 146,
     "metadata": {},
     "output_type": "execute_result"
    }
   ],
   "source": [
    "utils.values(gss, 'year')"
   ]
  },
  {
   "cell_type": "markdown",
   "metadata": {},
   "source": [
    "Group into 4 year intervals, chosen to get 2014 and 2016 into the last bin."
   ]
  },
  {
   "cell_type": "code",
   "execution_count": 147,
   "metadata": {},
   "outputs": [
    {
     "data": {
      "text/plain": [
       "1971    3117\n",
       "1975    6003\n",
       "1979    3000\n",
       "1983    6466\n",
       "1987    6307\n",
       "1991    4495\n",
       "1995    5896\n",
       "1999    5649\n",
       "2003    5577\n",
       "2007    6533\n",
       "2011    4018\n",
       "2015    5405\n",
       "Name: year4, dtype: int64"
      ]
     },
     "execution_count": 147,
     "metadata": {},
     "output_type": "execute_result"
    }
   ],
   "source": [
    "gss['year4'] = utils.RoundIntoBins(gss, 'year', 4, low=1970) + 1\n",
    "utils.values(gss, 'year4')"
   ]
  },
  {
   "cell_type": "markdown",
   "metadata": {},
   "source": [
    "Group people into 5 and 3-year age groups."
   ]
  },
  {
   "cell_type": "code",
   "execution_count": 148,
   "metadata": {},
   "outputs": [
    {
     "data": {
      "text/plain": [
       "17.5    1054\n",
       "22.5    5283\n",
       "27.5    6663\n",
       "32.5    6784\n",
       "37.5    6475\n",
       "42.5    5924\n",
       "47.5    5375\n",
       "52.5    5007\n",
       "57.5    4530\n",
       "62.5    4047\n",
       "67.5    3612\n",
       "72.5    2955\n",
       "77.5    2207\n",
       "82.5    1381\n",
       "87.5     948\n",
       "92.5     221\n",
       "Name: age5, dtype: int64"
      ]
     },
     "execution_count": 148,
     "metadata": {},
     "output_type": "execute_result"
    }
   ],
   "source": [
    "gss['age5'] = utils.RoundIntoBins(gss, 'age', 5) + 2.5\n",
    "utils.values(gss, 'age5')"
   ]
  },
  {
   "cell_type": "code",
   "execution_count": 149,
   "metadata": {},
   "outputs": [
    {
     "data": {
      "text/plain": [
       "19.5    1924\n",
       "22.5    3238\n",
       "25.5    3815\n",
       "28.5    4023\n",
       "31.5    4094\n",
       "34.5    4033\n",
       "37.5    3951\n",
       "40.5    3609\n",
       "43.5    3496\n",
       "46.5    3217\n",
       "49.5    3178\n",
       "52.5    3019\n",
       "55.5    2817\n",
       "58.5    2681\n",
       "61.5    2538\n",
       "64.5    2289\n",
       "67.5    2184\n",
       "70.5    1913\n",
       "73.5    1690\n",
       "76.5    1418\n",
       "79.5    1114\n",
       "82.5     840\n",
       "85.5     573\n",
       "88.5     591\n",
       "91.5     221\n",
       "Name: age3, dtype: int64"
      ]
     },
     "execution_count": 149,
     "metadata": {},
     "output_type": "execute_result"
    }
   ],
   "source": [
    "gss['age3'] = utils.RoundIntoBins(gss, 'age', 3, low=0) + 1.5\n",
    "utils.values(gss, 'age3')"
   ]
  },
  {
   "cell_type": "code",
   "execution_count": null,
   "metadata": {
    "collapsed": true
   },
   "outputs": [],
   "source": []
  },
  {
   "cell_type": "markdown",
   "metadata": {},
   "source": [
    "### Make booleans"
   ]
  },
  {
   "cell_type": "code",
   "execution_count": 150,
   "metadata": {
    "collapsed": true
   },
   "outputs": [],
   "source": [
    "def copy_nan(df, varname, newvar):\n",
    "    df.loc[df[varname].isnull(), newvar] = np.nan"
   ]
  },
  {
   "cell_type": "code",
   "execution_count": 151,
   "metadata": {
    "collapsed": true
   },
   "outputs": [],
   "source": [
    "def make_boolean(df, varname, values, newvar):\n",
    "    \"\"\"Make a boolean variable.\n",
    "    \n",
    "    df: DataFrame\n",
    "    varname: name of base variable\n",
    "    values: sequence of values for varname\n",
    "    newvar: name of new variable (recode)\n",
    "    \"\"\"\n",
    "    #assert numnull(df[varname]) == 0\n",
    "    df[newvar] = df[varname].isin(values)\n",
    "    copy_nan(df, varname, newvar)"
   ]
  },
  {
   "cell_type": "code",
   "execution_count": 152,
   "metadata": {
    "collapsed": true
   },
   "outputs": [],
   "source": [
    "def make_booleans(df):\n",
    "    df['cohort10'] = utils.RoundIntoBins(df, 'cohort', 10)\n",
    "    make_boolean(df, 'cohort10', [1920], 'twenties')\n",
    "    make_boolean(df, 'cohort10', [1930], 'thirties')\n",
    "    make_boolean(df, 'cohort10', [1940], 'forties')\n",
    "    make_boolean(df, 'cohort10', [1950], 'fifties')\n",
    "    make_boolean(df, 'cohort10', [1960], 'sixties')\n",
    "    make_boolean(df, 'cohort10', [1970], 'seventies')\n",
    "    make_boolean(df, 'cohort10', [1980], 'eighties')\n",
    "    make_boolean(df, 'cohort10', [1990], 'nineties')\n",
    "    make_boolean(df, 'gunlaw', [1.0], 'favor')\n",
    "    make_boolean(df, 'owngun', [1.0], 'gunhome')\n",
    "    make_boolean(df, 'gun', [1.0], 'threatened')\n",
    "    make_boolean(df, 'natcrime', [1.0], 'spendcrime')\n",
    "    make_boolean(df, 'income', [12], 'topincome')\n",
    "    make_boolean(df, 'income', [1,2,3,4,5,6,7,8], 'lowincome')\n",
    "    make_boolean(df, 'polviews', [1,2,3], 'liberal')\n",
    "    make_boolean(df, 'polviews', [4], 'moderate')\n",
    "    make_boolean(df, 'polviews', [6,7,8], 'conservative')\n",
    "    make_boolean(df, 'sex', [2], 'female')\n",
    "    make_boolean(df, 'hispanic', [2], 'ishisp')\n",
    "    make_boolean(df, 'race', [2], 'black')\n",
    "    make_boolean(df, 'race', [3], 'otherrace')\n",
    "    make_boolean(df, 'srcbelt', [1,2,5], 'urban')\n",
    "    make_boolean(df, 'srcbelt', [3,4], 'suburban')\n",
    "    make_boolean(df, 'srcbelt', [6], 'rural')\n",
    "\n",
    "    df['college'] = df['educ'] >= 13 \n",
    "    copy_nan(df, 'educ', 'college')\n",
    "    \n",
    "    per25 = df['realinc'].quantile(0.25)\n",
    "    df['lowrealinc'] = df['realinc'] <= per25 \n",
    "    copy_nan(df, 'realinc', 'lowrealinc')\n",
    "\n",
    "    per75 = df['realinc'].quantile(0.75)\n",
    "    df['highrealinc'] = df['realinc'] >= per75 \n",
    "    copy_nan(df, 'realinc', 'highrealinc')\n",
    "\n",
    "make_booleans(gss)"
   ]
  },
  {
   "cell_type": "markdown",
   "metadata": {},
   "source": [
    "### Resample"
   ]
  },
  {
   "cell_type": "code",
   "execution_count": 153,
   "metadata": {},
   "outputs": [
    {
     "data": {
      "text/plain": [
       "(62466, 56)"
      ]
     },
     "execution_count": 153,
     "metadata": {},
     "output_type": "execute_result"
    }
   ],
   "source": [
    "sample = utils.ResampleByYear(gss).copy()\n",
    "sample.shape"
   ]
  },
  {
   "cell_type": "code",
   "execution_count": 154,
   "metadata": {},
   "outputs": [
    {
     "data": {
      "text/plain": [
       "0.0    56599\n",
       "1.0     5867\n",
       "Name: twenties, dtype: int64"
      ]
     },
     "execution_count": 154,
     "metadata": {},
     "output_type": "execute_result"
    }
   ],
   "source": [
    "utils.values(sample, 'twenties')"
   ]
  },
  {
   "cell_type": "code",
   "execution_count": 155,
   "metadata": {},
   "outputs": [
    {
     "data": {
      "text/plain": [
       "0.0    55629\n",
       "1.0     6837\n",
       "Name: thirties, dtype: int64"
      ]
     },
     "execution_count": 155,
     "metadata": {},
     "output_type": "execute_result"
    }
   ],
   "source": [
    "utils.values(sample, 'thirties')"
   ]
  },
  {
   "cell_type": "code",
   "execution_count": 156,
   "metadata": {},
   "outputs": [
    {
     "data": {
      "text/plain": [
       "0.0    52342\n",
       "1.0    10124\n",
       "Name: forties, dtype: int64"
      ]
     },
     "execution_count": 156,
     "metadata": {},
     "output_type": "execute_result"
    }
   ],
   "source": [
    "utils.values(sample, 'forties')"
   ]
  },
  {
   "cell_type": "code",
   "execution_count": 157,
   "metadata": {},
   "outputs": [
    {
     "data": {
      "text/plain": [
       "0.0    49406\n",
       "1.0    13060\n",
       "Name: fifties, dtype: int64"
      ]
     },
     "execution_count": 157,
     "metadata": {},
     "output_type": "execute_result"
    }
   ],
   "source": [
    "utils.values(sample, 'fifties')"
   ]
  },
  {
   "cell_type": "code",
   "execution_count": 158,
   "metadata": {},
   "outputs": [
    {
     "data": {
      "text/plain": [
       "0.0    52616\n",
       "1.0     9850\n",
       "Name: sixties, dtype: int64"
      ]
     },
     "execution_count": 158,
     "metadata": {},
     "output_type": "execute_result"
    }
   ],
   "source": [
    "utils.values(sample, 'sixties')"
   ]
  },
  {
   "cell_type": "code",
   "execution_count": 159,
   "metadata": {},
   "outputs": [
    {
     "data": {
      "text/plain": [
       "0.0    56215\n",
       "1.0     6251\n",
       "Name: seventies, dtype: int64"
      ]
     },
     "execution_count": 159,
     "metadata": {},
     "output_type": "execute_result"
    }
   ],
   "source": [
    "utils.values(sample, 'seventies')"
   ]
  },
  {
   "cell_type": "code",
   "execution_count": 160,
   "metadata": {},
   "outputs": [
    {
     "data": {
      "text/plain": [
       "0.0    58967\n",
       "1.0     3499\n",
       "Name: eighties, dtype: int64"
      ]
     },
     "execution_count": 160,
     "metadata": {},
     "output_type": "execute_result"
    }
   ],
   "source": [
    "utils.values(sample, 'eighties')"
   ]
  },
  {
   "cell_type": "code",
   "execution_count": 161,
   "metadata": {},
   "outputs": [
    {
     "data": {
      "text/plain": [
       "0.0    61550\n",
       "1.0      916\n",
       "Name: nineties, dtype: int64"
      ]
     },
     "execution_count": 161,
     "metadata": {},
     "output_type": "execute_result"
    }
   ],
   "source": [
    "utils.values(sample, 'nineties')"
   ]
  },
  {
   "cell_type": "code",
   "execution_count": 162,
   "metadata": {},
   "outputs": [
    {
     "data": {
      "text/plain": [
       "0.0     9618\n",
       "1.0    30707\n",
       "Name: favor, dtype: int64"
      ]
     },
     "execution_count": 162,
     "metadata": {},
     "output_type": "execute_result"
    }
   ],
   "source": [
    "utils.values(sample, 'favor')"
   ]
  },
  {
   "cell_type": "code",
   "execution_count": 163,
   "metadata": {},
   "outputs": [
    {
     "data": {
      "text/plain": [
       "0.0    21504\n",
       "1.0    15941\n",
       "Name: gunhome, dtype: int64"
      ]
     },
     "execution_count": 163,
     "metadata": {},
     "output_type": "execute_result"
    }
   ],
   "source": [
    "utils.values(sample, 'gunhome')"
   ]
  },
  {
   "cell_type": "code",
   "execution_count": 164,
   "metadata": {},
   "outputs": [
    {
     "data": {
      "text/plain": [
       "0.0    15458\n",
       "1.0     3832\n",
       "Name: threatened, dtype: int64"
      ]
     },
     "execution_count": 164,
     "metadata": {},
     "output_type": "execute_result"
    }
   ],
   "source": [
    "utils.values(sample, 'threatened')"
   ]
  },
  {
   "cell_type": "code",
   "execution_count": 165,
   "metadata": {},
   "outputs": [
    {
     "data": {
      "text/plain": [
       "0.0    11238\n",
       "1.0    23259\n",
       "Name: spendcrime, dtype: int64"
      ]
     },
     "execution_count": 165,
     "metadata": {},
     "output_type": "execute_result"
    }
   ],
   "source": [
    "utils.values(sample, 'spendcrime')"
   ]
  },
  {
   "cell_type": "code",
   "execution_count": 166,
   "metadata": {},
   "outputs": [
    {
     "data": {
      "text/plain": [
       "0.0    24170\n",
       "1.0    29892\n",
       "Name: topincome, dtype: int64"
      ]
     },
     "execution_count": 166,
     "metadata": {},
     "output_type": "execute_result"
    }
   ],
   "source": [
    "utils.values(sample, 'topincome')"
   ]
  },
  {
   "cell_type": "code",
   "execution_count": 167,
   "metadata": {
    "scrolled": false
   },
   "outputs": [
    {
     "data": {
      "text/plain": [
       "0.0    45539\n",
       "1.0     8523\n",
       "Name: lowincome, dtype: int64"
      ]
     },
     "execution_count": 167,
     "metadata": {},
     "output_type": "execute_result"
    }
   ],
   "source": [
    "utils.values(sample, 'lowincome')"
   ]
  },
  {
   "cell_type": "code",
   "execution_count": 168,
   "metadata": {},
   "outputs": [
    {
     "data": {
      "text/plain": [
       "0.0    44033\n",
       "1.0    11688\n",
       "Name: lowrealinc, dtype: int64"
      ]
     },
     "execution_count": 168,
     "metadata": {},
     "output_type": "execute_result"
    }
   ],
   "source": [
    "utils.values(sample, 'lowrealinc')"
   ]
  },
  {
   "cell_type": "code",
   "execution_count": 169,
   "metadata": {
    "scrolled": false
   },
   "outputs": [
    {
     "data": {
      "text/plain": [
       "0.0    39256\n",
       "1.0    16465\n",
       "Name: highrealinc, dtype: int64"
      ]
     },
     "execution_count": 169,
     "metadata": {},
     "output_type": "execute_result"
    }
   ],
   "source": [
    "utils.values(sample, 'highrealinc')"
   ]
  },
  {
   "cell_type": "code",
   "execution_count": 170,
   "metadata": {},
   "outputs": [
    {
     "data": {
      "text/plain": [
       "0.0    38888\n",
       "1.0    14346\n",
       "Name: liberal, dtype: int64"
      ]
     },
     "execution_count": 170,
     "metadata": {},
     "output_type": "execute_result"
    }
   ],
   "source": [
    "utils.values(sample, 'liberal')"
   ]
  },
  {
   "cell_type": "code",
   "execution_count": 171,
   "metadata": {},
   "outputs": [
    {
     "data": {
      "text/plain": [
       "0.0    32711\n",
       "1.0    20523\n",
       "Name: moderate, dtype: int64"
      ]
     },
     "execution_count": 171,
     "metadata": {},
     "output_type": "execute_result"
    }
   ],
   "source": [
    "utils.values(sample, 'moderate')"
   ]
  },
  {
   "cell_type": "code",
   "execution_count": 172,
   "metadata": {},
   "outputs": [
    {
     "data": {
      "text/plain": [
       "0.0    43521\n",
       "1.0     9713\n",
       "Name: conservative, dtype: int64"
      ]
     },
     "execution_count": 172,
     "metadata": {},
     "output_type": "execute_result"
    }
   ],
   "source": [
    "utils.values(sample, 'conservative')"
   ]
  },
  {
   "cell_type": "code",
   "execution_count": 173,
   "metadata": {},
   "outputs": [
    {
     "data": {
      "text/plain": [
       "0.0    28558\n",
       "1.0    33908\n",
       "Name: female, dtype: int64"
      ]
     },
     "execution_count": 173,
     "metadata": {},
     "output_type": "execute_result"
    }
   ],
   "source": [
    "utils.values(sample, 'female')"
   ]
  },
  {
   "cell_type": "code",
   "execution_count": 174,
   "metadata": {},
   "outputs": [
    {
     "data": {
      "text/plain": [
       "0.0    22471\n",
       "1.0     1845\n",
       "Name: ishisp, dtype: int64"
      ]
     },
     "execution_count": 174,
     "metadata": {},
     "output_type": "execute_result"
    }
   ],
   "source": [
    "utils.values(sample, 'ishisp')"
   ]
  },
  {
   "cell_type": "code",
   "execution_count": 175,
   "metadata": {},
   "outputs": [
    {
     "data": {
      "text/plain": [
       "0.0    53955\n",
       "1.0     8511\n",
       "Name: black, dtype: int64"
      ]
     },
     "execution_count": 175,
     "metadata": {},
     "output_type": "execute_result"
    }
   ],
   "source": [
    "utils.values(sample, 'black')"
   ]
  },
  {
   "cell_type": "code",
   "execution_count": 176,
   "metadata": {},
   "outputs": [
    {
     "data": {
      "text/plain": [
       "0.0    58747\n",
       "1.0     3719\n",
       "Name: otherrace, dtype: int64"
      ]
     },
     "execution_count": 176,
     "metadata": {},
     "output_type": "execute_result"
    }
   ],
   "source": [
    "utils.values(sample, 'otherrace')"
   ]
  },
  {
   "cell_type": "code",
   "execution_count": 177,
   "metadata": {},
   "outputs": [
    {
     "data": {
      "text/plain": [
       "0.0    25287\n",
       "1.0    37179\n",
       "Name: urban, dtype: int64"
      ]
     },
     "execution_count": 177,
     "metadata": {},
     "output_type": "execute_result"
    }
   ],
   "source": [
    "utils.values(sample, 'urban')"
   ]
  },
  {
   "cell_type": "code",
   "execution_count": 178,
   "metadata": {},
   "outputs": [
    {
     "data": {
      "text/plain": [
       "0.0    45282\n",
       "1.0    17184\n",
       "Name: suburban, dtype: int64"
      ]
     },
     "execution_count": 178,
     "metadata": {},
     "output_type": "execute_result"
    }
   ],
   "source": [
    "utils.values(sample, 'suburban')"
   ]
  },
  {
   "cell_type": "code",
   "execution_count": 179,
   "metadata": {},
   "outputs": [
    {
     "data": {
      "text/plain": [
       "0.0    54363\n",
       "1.0     8103\n",
       "Name: rural, dtype: int64"
      ]
     },
     "execution_count": 179,
     "metadata": {},
     "output_type": "execute_result"
    }
   ],
   "source": [
    "utils.values(sample, 'rural')"
   ]
  },
  {
   "cell_type": "code",
   "execution_count": 180,
   "metadata": {
    "scrolled": true
   },
   "outputs": [
    {
     "data": {
      "text/plain": [
       "0.0    33151\n",
       "1.0    29156\n",
       "Name: college, dtype: int64"
      ]
     },
     "execution_count": 180,
     "metadata": {},
     "output_type": "execute_result"
    }
   ],
   "source": [
    "utils.values(sample, 'college')"
   ]
  },
  {
   "cell_type": "markdown",
   "metadata": {},
   "source": [
    "### Look at trends"
   ]
  },
  {
   "cell_type": "code",
   "execution_count": 181,
   "metadata": {
    "collapsed": true
   },
   "outputs": [],
   "source": [
    "def plot_series(grouped, varname, **options):\n",
    "    series = grouped[varname].mean() * 100\n",
    "    thinkplot.plot(series.dropna(), **options, label=varname)\n",
    "    thinkplot.config(xlabel='Year of survey', \n",
    "                     ylabel='Percent',\n",
    "                     xlim=[1971, 2017])"
   ]
  },
  {
   "cell_type": "code",
   "execution_count": 182,
   "metadata": {
    "collapsed": true
   },
   "outputs": [],
   "source": [
    "grouped_year4 = sample.groupby('year4')"
   ]
  },
  {
   "cell_type": "code",
   "execution_count": 183,
   "metadata": {},
   "outputs": [
    {
     "data": {
      "image/png": "[encoded data removed]",
      "text/plain": [
       "<matplotlib.figure.Figure at 0x7fefa7ddbda0>"
      ]
     },
     "metadata": {},
     "output_type": "display_data"
    }
   ],
   "source": [
    "plot_series(grouped_year4, 'nineties')\n",
    "plot_series(grouped_year4, 'eighties')\n",
    "plot_series(grouped_year4, 'seventies')\n",
    "plot_series(grouped_year4, 'sixties')\n",
    "plot_series(grouped_year4, 'fifties')"
   ]
  },
  {
   "cell_type": "code",
   "execution_count": 184,
   "metadata": {},
   "outputs": [
    {
     "data": {
      "image/png": "[encoded data removed]",
      "text/plain": [
       "<matplotlib.figure.Figure at 0x7fefa7da2588>"
      ]
     },
     "metadata": {},
     "output_type": "display_data"
    }
   ],
   "source": [
    "plot_series(grouped_year4, 'female')\n",
    "plot_series(grouped_year4, 'black')\n",
    "plot_series(grouped_year4, 'otherrace')\n",
    "plot_series(grouped_year4, 'ishisp')"
   ]
  },
  {
   "cell_type": "code",
   "execution_count": 185,
   "metadata": {},
   "outputs": [
    {
     "data": {
      "image/png": "[encoded data removed]",
      "text/plain": [
       "<matplotlib.figure.Figure at 0x7fefa239a5f8>"
      ]
     },
     "metadata": {},
     "output_type": "display_data"
    }
   ],
   "source": [
    "plot_series(grouped_year4, 'liberal')\n",
    "plot_series(grouped_year4, 'conservative')"
   ]
  },
  {
   "cell_type": "code",
   "execution_count": 186,
   "metadata": {},
   "outputs": [
    {
     "data": {
      "image/png": "[encoded data removed]",
      "text/plain": [
       "<matplotlib.figure.Figure at 0x7fefa35d6358>"
      ]
     },
     "metadata": {},
     "output_type": "display_data"
    }
   ],
   "source": [
    "plot_series(grouped_year4, 'highrealinc')\n",
    "plot_series(grouped_year4, 'lowrealinc')"
   ]
  },
  {
   "cell_type": "code",
   "execution_count": 187,
   "metadata": {},
   "outputs": [
    {
     "data": {
      "image/png": "[encoded data removed]",
      "text/plain": [
       "<matplotlib.figure.Figure at 0x7fefa359ef60>"
      ]
     },
     "metadata": {},
     "output_type": "display_data"
    }
   ],
   "source": [
    "plot_series(grouped_year4, 'urban')\n",
    "plot_series(grouped_year4, 'rural')"
   ]
  },
  {
   "cell_type": "code",
   "execution_count": 188,
   "metadata": {},
   "outputs": [
    {
     "data": {
      "image/png": "[encoded data removed]",
      "text/plain": [
       "<matplotlib.figure.Figure at 0x7fefa2412be0>"
      ]
     },
     "metadata": {},
     "output_type": "display_data"
    }
   ],
   "source": [
    "plot_series(grouped_year4, 'college')\n",
    "plot_series(grouped_year4, 'threatened')\n",
    "plot_series(grouped_year4, 'gunhome')"
   ]
  },
  {
   "cell_type": "markdown",
   "metadata": {},
   "source": [
    "### Fill missing values"
   ]
  },
  {
   "cell_type": "code",
   "execution_count": 189,
   "metadata": {
    "collapsed": true
   },
   "outputs": [],
   "source": [
    "def fill_missing_column(df, colname):\n",
    "    \"\"\"Fills missing values of the given column.\n",
    "\n",
    "    df: DataFrame\n",
    "    colname: string\n",
    "    \"\"\"\n",
    "    null = df[df[colname].isnull()]\n",
    "\n",
    "    print(colname, len(null))\n",
    "\n",
    "    valid = df[colname].dropna()\n",
    "    fill = valid.sample(len(null), replace=True)\n",
    "    fill.index = null.index\n",
    "\n",
    "    df[colname].fillna(fill, inplace=True)"
   ]
  },
  {
   "cell_type": "code",
   "execution_count": 190,
   "metadata": {
    "collapsed": true
   },
   "outputs": [],
   "source": [
    "def fill_age(df):\n",
    "    \"\"\"Fills age based on year and cohort.\n",
    "    \n",
    "    df: DataFrame\n",
    "    \"\"\"\n",
    "    colname = 'age'\n",
    "    null = df[df[colname].isnull()]\n",
    "\n",
    "    print('age', len(null))\n",
    "    \n",
    "    fill = df.year - df.cohort\n",
    "\n",
    "    df[colname].fillna(fill, inplace=True)"
   ]
  },
  {
   "cell_type": "code",
   "execution_count": 191,
   "metadata": {
    "collapsed": true
   },
   "outputs": [],
   "source": [
    "def fill_all_missing(df):\n",
    "    varnames = ['year', 'cohort', 'owngun', 'gun', 'natcrime', 'income', 'realinc', 'educ',\n",
    "                'polviews', 'sex', 'race', 'hispanic', 'srcbelt']\n",
    "    for varname in varnames:\n",
    "        fill_missing_column(df, varname)\n",
    "    fill_age(df)"
   ]
  },
  {
   "cell_type": "code",
   "execution_count": 192,
   "metadata": {},
   "outputs": [
    {
     "name": "stdout",
     "output_type": "stream",
     "text": [
      "year 0\n",
      "cohort 200\n",
      "owngun 25021\n",
      "gun 43176\n",
      "natcrime 27969\n",
      "income 8404\n",
      "realinc 6745\n",
      "educ 159\n",
      "polviews 9232\n",
      "sex 0\n",
      "race 0\n",
      "hispanic 38150\n",
      "srcbelt 0\n",
      "age 201\n"
     ]
    }
   ],
   "source": [
    "fill_all_missing(sample)"
   ]
  },
  {
   "cell_type": "markdown",
   "metadata": {},
   "source": [
    "After filling, we have to make booleans again."
   ]
  },
  {
   "cell_type": "code",
   "execution_count": 193,
   "metadata": {
    "collapsed": true
   },
   "outputs": [],
   "source": [
    "make_booleans(sample)"
   ]
  },
  {
   "cell_type": "markdown",
   "metadata": {},
   "source": [
    "### Center cohort, age, and year."
   ]
  },
  {
   "cell_type": "code",
   "execution_count": 194,
   "metadata": {
    "collapsed": true
   },
   "outputs": [],
   "source": [
    "def center_factors(df):\n",
    "    \"\"\"Center factors around their means.\n",
    "    \n",
    "    Add centered factors to make the coeffients\n",
    "    of the model easier to interpret.\n",
    "    \n",
    "    df: DataFrame\n",
    "    \"\"\"\n",
    "    df['ones'] = np.ones_like(df.cohort)\n",
    "    df['c'] = df.cohort - 1966\n",
    "    df['a'] = df.age - 47\n",
    "    df['y'] = df.year - 1990\n",
    "    \n",
    "    # also add quadratic factors and interaction term\n",
    "    df['c2'] = df.c**2\n",
    "    df['a2'] = df.a**2\n",
    "    df['y2'] = df.y**2\n",
    "    df['ac'] = df.a * df.c"
   ]
  },
  {
   "cell_type": "code",
   "execution_count": 195,
   "metadata": {
    "collapsed": true
   },
   "outputs": [],
   "source": [
    "center_factors(sample)"
   ]
  },
  {
   "cell_type": "code",
   "execution_count": null,
   "metadata": {
    "collapsed": true
   },
   "outputs": [],
   "source": []
  },
  {
   "cell_type": "markdown",
   "metadata": {},
   "source": [
    "### Run logistic models\n",
    "\n"
   ]
  },
  {
   "cell_type": "markdown",
   "metadata": {},
   "source": [
    "Drop records if we don't have the dependent variable."
   ]
  },
  {
   "cell_type": "code",
   "execution_count": 196,
   "metadata": {},
   "outputs": [
    {
     "data": {
      "text/plain": [
       "(40325, 64)"
      ]
     },
     "execution_count": 196,
     "metadata": {},
     "output_type": "execute_result"
    }
   ],
   "source": [
    "subset = sample.dropna(subset=['gunlaw'])\n",
    "subset.shape"
   ]
  },
  {
   "cell_type": "markdown",
   "metadata": {},
   "source": [
    "How many records did we lose?"
   ]
  },
  {
   "cell_type": "code",
   "execution_count": 197,
   "metadata": {},
   "outputs": [
    {
     "data": {
      "text/plain": [
       "22141"
      ]
     },
     "execution_count": 197,
     "metadata": {},
     "output_type": "execute_result"
    }
   ],
   "source": [
    "sample.shape[0] - subset.shape[0]"
   ]
  },
  {
   "cell_type": "code",
   "execution_count": 198,
   "metadata": {
    "scrolled": true
   },
   "outputs": [
    {
     "data": {
      "text/html": [
       "<div>\n",
       "<style>\n",
       "    .dataframe thead tr:only-child th {\n",
       "        text-align: right;\n",
       "    }\n",
       "\n",
       "    .dataframe thead th {\n",
       "        text-align: left;\n",
       "    }\n",
       "\n",
       "    .dataframe tbody tr th {\n",
       "        vertical-align: top;\n",
       "    }\n",
       "</style>\n",
       "<table border=\"1\" class=\"dataframe\">\n",
       "  <thead>\n",
       "    <tr style=\"text-align: right;\">\n",
       "      <th></th>\n",
       "      <th>year</th>\n",
       "      <th>conrinc</th>\n",
       "      <th>cohort</th>\n",
       "      <th>ballot</th>\n",
       "      <th>wtssall</th>\n",
       "      <th>income</th>\n",
       "      <th>finrela</th>\n",
       "      <th>realinc</th>\n",
       "      <th>sex</th>\n",
       "      <th>homosex</th>\n",
       "      <th>...</th>\n",
       "      <th>lowrealinc</th>\n",
       "      <th>highrealinc</th>\n",
       "      <th>ones</th>\n",
       "      <th>c</th>\n",
       "      <th>a</th>\n",
       "      <th>y</th>\n",
       "      <th>c2</th>\n",
       "      <th>a2</th>\n",
       "      <th>y2</th>\n",
       "      <th>ac</th>\n",
       "    </tr>\n",
       "  </thead>\n",
       "  <tbody>\n",
       "    <tr>\n",
       "      <th>0</th>\n",
       "      <td>1972</td>\n",
       "      <td>0.0</td>\n",
       "      <td>1919.0</td>\n",
       "      <td>0</td>\n",
       "      <td>1.3339</td>\n",
       "      <td>12.0</td>\n",
       "      <td>3</td>\n",
       "      <td>24366.0</td>\n",
       "      <td>1</td>\n",
       "      <td>0</td>\n",
       "      <td>...</td>\n",
       "      <td>0.0</td>\n",
       "      <td>0.0</td>\n",
       "      <td>1.0</td>\n",
       "      <td>-47.0</td>\n",
       "      <td>6.0</td>\n",
       "      <td>-18</td>\n",
       "      <td>2209.0</td>\n",
       "      <td>36.0</td>\n",
       "      <td>324</td>\n",
       "      <td>-282.0</td>\n",
       "    </tr>\n",
       "    <tr>\n",
       "      <th>1</th>\n",
       "      <td>1972</td>\n",
       "      <td>0.0</td>\n",
       "      <td>1940.0</td>\n",
       "      <td>0</td>\n",
       "      <td>1.3339</td>\n",
       "      <td>12.0</td>\n",
       "      <td>4</td>\n",
       "      <td>60915.0</td>\n",
       "      <td>1</td>\n",
       "      <td>0</td>\n",
       "      <td>...</td>\n",
       "      <td>0.0</td>\n",
       "      <td>1.0</td>\n",
       "      <td>1.0</td>\n",
       "      <td>-26.0</td>\n",
       "      <td>-15.0</td>\n",
       "      <td>-18</td>\n",
       "      <td>676.0</td>\n",
       "      <td>225.0</td>\n",
       "      <td>324</td>\n",
       "      <td>390.0</td>\n",
       "    </tr>\n",
       "    <tr>\n",
       "      <th>2</th>\n",
       "      <td>1972</td>\n",
       "      <td>0.0</td>\n",
       "      <td>1942.0</td>\n",
       "      <td>0</td>\n",
       "      <td>0.8893</td>\n",
       "      <td>12.0</td>\n",
       "      <td>4</td>\n",
       "      <td>43994.0</td>\n",
       "      <td>1</td>\n",
       "      <td>0</td>\n",
       "      <td>...</td>\n",
       "      <td>0.0</td>\n",
       "      <td>1.0</td>\n",
       "      <td>1.0</td>\n",
       "      <td>-24.0</td>\n",
       "      <td>-17.0</td>\n",
       "      <td>-18</td>\n",
       "      <td>576.0</td>\n",
       "      <td>289.0</td>\n",
       "      <td>324</td>\n",
       "      <td>408.0</td>\n",
       "    </tr>\n",
       "    <tr>\n",
       "      <th>3</th>\n",
       "      <td>1972</td>\n",
       "      <td>0.0</td>\n",
       "      <td>1934.0</td>\n",
       "      <td>0</td>\n",
       "      <td>0.8893</td>\n",
       "      <td>10.0</td>\n",
       "      <td>2</td>\n",
       "      <td>30458.0</td>\n",
       "      <td>2</td>\n",
       "      <td>0</td>\n",
       "      <td>...</td>\n",
       "      <td>0.0</td>\n",
       "      <td>0.0</td>\n",
       "      <td>1.0</td>\n",
       "      <td>-32.0</td>\n",
       "      <td>-9.0</td>\n",
       "      <td>-18</td>\n",
       "      <td>1024.0</td>\n",
       "      <td>81.0</td>\n",
       "      <td>324</td>\n",
       "      <td>288.0</td>\n",
       "    </tr>\n",
       "    <tr>\n",
       "      <th>4</th>\n",
       "      <td>1972</td>\n",
       "      <td>0.0</td>\n",
       "      <td>1914.0</td>\n",
       "      <td>0</td>\n",
       "      <td>0.8893</td>\n",
       "      <td>12.0</td>\n",
       "      <td>3</td>\n",
       "      <td>18951.0</td>\n",
       "      <td>2</td>\n",
       "      <td>0</td>\n",
       "      <td>...</td>\n",
       "      <td>0.0</td>\n",
       "      <td>0.0</td>\n",
       "      <td>1.0</td>\n",
       "      <td>-52.0</td>\n",
       "      <td>11.0</td>\n",
       "      <td>-18</td>\n",
       "      <td>2704.0</td>\n",
       "      <td>121.0</td>\n",
       "      <td>324</td>\n",
       "      <td>-572.0</td>\n",
       "    </tr>\n",
       "  </tbody>\n",
       "</table>\n",
       "<p>5 rows × 64 columns</p>\n",
       "</div>"
      ],
      "text/plain": [
       "   year  conrinc  cohort  ballot  wtssall  income  finrela  realinc  sex  \\\n",
       "0  1972      0.0  1919.0       0   1.3339    12.0        3  24366.0    1   \n",
       "1  1972      0.0  1940.0       0   1.3339    12.0        4  60915.0    1   \n",
       "2  1972      0.0  1942.0       0   0.8893    12.0        4  43994.0    1   \n",
       "3  1972      0.0  1934.0       0   0.8893    10.0        2  30458.0    2   \n",
       "4  1972      0.0  1914.0       0   0.8893    12.0        3  18951.0    2   \n",
       "\n",
       "   homosex  ...    lowrealinc  highrealinc  ones     c     a   y      c2  \\\n",
       "0        0  ...           0.0          0.0   1.0 -47.0   6.0 -18  2209.0   \n",
       "1        0  ...           0.0          1.0   1.0 -26.0 -15.0 -18   676.0   \n",
       "2        0  ...           0.0          1.0   1.0 -24.0 -17.0 -18   576.0   \n",
       "3        0  ...           0.0          0.0   1.0 -32.0  -9.0 -18  1024.0   \n",
       "4        0  ...           0.0          0.0   1.0 -52.0  11.0 -18  2704.0   \n",
       "\n",
       "      a2   y2     ac  \n",
       "0   36.0  324 -282.0  \n",
       "1  225.0  324  390.0  \n",
       "2  289.0  324  408.0  \n",
       "3   81.0  324  288.0  \n",
       "4  121.0  324 -572.0  \n",
       "\n",
       "[5 rows x 64 columns]"
      ]
     },
     "execution_count": 198,
     "metadata": {},
     "output_type": "execute_result"
    }
   ],
   "source": [
    "subset.head()"
   ]
  },
  {
   "cell_type": "code",
   "execution_count": 199,
   "metadata": {},
   "outputs": [
    {
     "data": {
      "text/plain": [
       "Index(['year', 'conrinc', 'cohort', 'ballot', 'wtssall', 'income', 'finrela',\n",
       "       'realinc', 'sex', 'homosex', 'hispanic', 'rowngun', 'owngun', 'id_',\n",
       "       'age', 'race', 'srcbelt', 'polviews', 'natcrime', 'gunlaw', 'gun',\n",
       "       'gunage', 'gunnum', 'educ', 'cohort5', 'cohort10', 'year4', 'age5',\n",
       "       'age3', 'twenties', 'thirties', 'forties', 'fifties', 'sixties',\n",
       "       'seventies', 'eighties', 'nineties', 'favor', 'gunhome', 'threatened',\n",
       "       'spendcrime', 'topincome', 'lowincome', 'liberal', 'moderate',\n",
       "       'conservative', 'female', 'ishisp', 'black', 'otherrace', 'urban',\n",
       "       'suburban', 'rural', 'college', 'lowrealinc', 'highrealinc', 'ones',\n",
       "       'c', 'a', 'y', 'c2', 'a2', 'y2', 'ac'],\n",
       "      dtype='object')"
      ]
     },
     "execution_count": 199,
     "metadata": {},
     "output_type": "execute_result"
    }
   ],
   "source": [
    "sample.columns"
   ]
  },
  {
   "cell_type": "code",
   "execution_count": 200,
   "metadata": {
    "collapsed": true
   },
   "outputs": [],
   "source": [
    "varnames = ['nineties', 'eighties', 'seventies', 'fifties', 'forties', 'thirties', 'twenties',\n",
    "            'female', 'black', 'otherrace', 'ishisp', 'conservative', 'liberal', 'lowrealinc', 'highrealinc',\n",
    "            'college', 'urban', 'rural', 'threatened', 'gunhome']\n",
    "\n",
    "all_varnames = varnames + ['y', 'y2', 'favor']"
   ]
  },
  {
   "cell_type": "code",
   "execution_count": 201,
   "metadata": {},
   "outputs": [
    {
     "name": "stdout",
     "output_type": "stream",
     "text": [
      "nineties 0\n",
      "eighties 0\n",
      "seventies 0\n",
      "fifties 0\n",
      "forties 0\n",
      "thirties 0\n",
      "twenties 0\n",
      "female 0\n",
      "black 0\n",
      "otherrace 0\n",
      "ishisp 0\n",
      "conservative 0\n",
      "liberal 0\n",
      "lowrealinc 0\n",
      "highrealinc 0\n",
      "college 0\n",
      "urban 0\n",
      "rural 0\n",
      "threatened 0\n",
      "gunhome 0\n"
     ]
    }
   ],
   "source": [
    "for varname in varnames:\n",
    "    print(varname, sum(sample[varname].isnull()))"
   ]
  },
  {
   "cell_type": "markdown",
   "metadata": {},
   "source": [
    "Select just the columns we need"
   ]
  },
  {
   "cell_type": "code",
   "execution_count": 202,
   "metadata": {},
   "outputs": [
    {
     "data": {
      "text/plain": [
       "(40325, 23)"
      ]
     },
     "execution_count": 202,
     "metadata": {},
     "output_type": "execute_result"
    }
   ],
   "source": [
    "data = subset[all_varnames]\n",
    "data.shape"
   ]
  },
  {
   "cell_type": "code",
   "execution_count": 264,
   "metadata": {},
   "outputs": [
    {
     "name": "stdout",
     "output_type": "stream",
     "text": [
      "Optimization terminated successfully.\n",
      "         Current function value: 0.503954\n",
      "         Iterations 6\n"
     ]
    },
    {
     "data": {
      "text/html": [
       "<table class=\"simpletable\">\n",
       "<caption>Logit Regression Results</caption>\n",
       "<tr>\n",
       "  <th>Dep. Variable:</th>       <td>favor</td>      <th>  No. Observations:  </th>  <td> 40325</td> \n",
       "</tr>\n",
       "<tr>\n",
       "  <th>Model:</th>               <td>Logit</td>      <th>  Df Residuals:      </th>  <td> 40302</td> \n",
       "</tr>\n",
       "<tr>\n",
       "  <th>Method:</th>               <td>MLE</td>       <th>  Df Model:          </th>  <td>    22</td> \n",
       "</tr>\n",
       "<tr>\n",
       "  <th>Date:</th>          <td>Thu, 15 Mar 2018</td> <th>  Pseudo R-squ.:     </th>  <td>0.08265</td>\n",
       "</tr>\n",
       "<tr>\n",
       "  <th>Time:</th>              <td>15:07:13</td>     <th>  Log-Likelihood:    </th> <td> -20322.</td>\n",
       "</tr>\n",
       "<tr>\n",
       "  <th>converged:</th>           <td>True</td>       <th>  LL-Null:           </th> <td> -22153.</td>\n",
       "</tr>\n",
       "<tr>\n",
       "  <th> </th>                      <td> </td>        <th>  LLR p-value:       </th>  <td> 0.000</td> \n",
       "</tr>\n",
       "</table>\n",
       "<table class=\"simpletable\">\n",
       "<tr>\n",
       "        <td></td>          <th>coef</th>     <th>std err</th>      <th>z</th>      <th>P>|z|</th>  <th>[0.025</th>    <th>0.975]</th>  \n",
       "</tr>\n",
       "<tr>\n",
       "  <th>Intercept</th>    <td>    1.7243</td> <td>    0.046</td> <td>   37.242</td> <td> 0.000</td> <td>    1.634</td> <td>    1.815</td>\n",
       "</tr>\n",
       "<tr>\n",
       "  <th>y</th>            <td>    0.0070</td> <td>    0.001</td> <td>    6.225</td> <td> 0.000</td> <td>    0.005</td> <td>    0.009</td>\n",
       "</tr>\n",
       "<tr>\n",
       "  <th>y2</th>           <td>   -0.0009</td> <td> 7.61e-05</td> <td>  -11.910</td> <td> 0.000</td> <td>   -0.001</td> <td>   -0.001</td>\n",
       "</tr>\n",
       "<tr>\n",
       "  <th>nineties</th>     <td>   -0.6031</td> <td>    0.106</td> <td>   -5.691</td> <td> 0.000</td> <td>   -0.811</td> <td>   -0.395</td>\n",
       "</tr>\n",
       "<tr>\n",
       "  <th>eighties</th>     <td>   -0.3888</td> <td>    0.065</td> <td>   -6.006</td> <td> 0.000</td> <td>   -0.516</td> <td>   -0.262</td>\n",
       "</tr>\n",
       "<tr>\n",
       "  <th>seventies</th>    <td>   -0.2178</td> <td>    0.051</td> <td>   -4.255</td> <td> 0.000</td> <td>   -0.318</td> <td>   -0.117</td>\n",
       "</tr>\n",
       "<tr>\n",
       "  <th>fifties</th>      <td>   -0.0958</td> <td>    0.037</td> <td>   -2.579</td> <td> 0.010</td> <td>   -0.169</td> <td>   -0.023</td>\n",
       "</tr>\n",
       "<tr>\n",
       "  <th>forties</th>      <td>   -0.0083</td> <td>    0.039</td> <td>   -0.209</td> <td> 0.834</td> <td>   -0.086</td> <td>    0.069</td>\n",
       "</tr>\n",
       "<tr>\n",
       "  <th>thirties</th>     <td>   -0.1520</td> <td>    0.043</td> <td>   -3.532</td> <td> 0.000</td> <td>   -0.236</td> <td>   -0.068</td>\n",
       "</tr>\n",
       "<tr>\n",
       "  <th>twenties</th>     <td>   -0.0238</td> <td>    0.045</td> <td>   -0.526</td> <td> 0.599</td> <td>   -0.113</td> <td>    0.065</td>\n",
       "</tr>\n",
       "<tr>\n",
       "  <th>female</th>       <td>    0.6948</td> <td>    0.025</td> <td>   27.842</td> <td> 0.000</td> <td>    0.646</td> <td>    0.744</td>\n",
       "</tr>\n",
       "<tr>\n",
       "  <th>black</th>        <td>    0.2991</td> <td>    0.040</td> <td>    7.559</td> <td> 0.000</td> <td>    0.222</td> <td>    0.377</td>\n",
       "</tr>\n",
       "<tr>\n",
       "  <th>otherrace</th>    <td>    0.3905</td> <td>    0.065</td> <td>    6.024</td> <td> 0.000</td> <td>    0.263</td> <td>    0.518</td>\n",
       "</tr>\n",
       "<tr>\n",
       "  <th>ishisp</th>       <td>   -0.0302</td> <td>    0.047</td> <td>   -0.642</td> <td> 0.521</td> <td>   -0.122</td> <td>    0.062</td>\n",
       "</tr>\n",
       "<tr>\n",
       "  <th>conservative</th> <td>   -0.3754</td> <td>    0.031</td> <td>  -12.004</td> <td> 0.000</td> <td>   -0.437</td> <td>   -0.314</td>\n",
       "</tr>\n",
       "<tr>\n",
       "  <th>liberal</th>      <td>    0.2627</td> <td>    0.031</td> <td>    8.552</td> <td> 0.000</td> <td>    0.203</td> <td>    0.323</td>\n",
       "</tr>\n",
       "<tr>\n",
       "  <th>lowrealinc</th>   <td>   -0.1527</td> <td>    0.031</td> <td>   -4.900</td> <td> 0.000</td> <td>   -0.214</td> <td>   -0.092</td>\n",
       "</tr>\n",
       "<tr>\n",
       "  <th>highrealinc</th>  <td>    0.0584</td> <td>    0.031</td> <td>    1.891</td> <td> 0.059</td> <td>   -0.002</td> <td>    0.119</td>\n",
       "</tr>\n",
       "<tr>\n",
       "  <th>college</th>      <td>    0.1248</td> <td>    0.027</td> <td>    4.669</td> <td> 0.000</td> <td>    0.072</td> <td>    0.177</td>\n",
       "</tr>\n",
       "<tr>\n",
       "  <th>urban</th>        <td>   -0.2870</td> <td>    0.031</td> <td>   -9.326</td> <td> 0.000</td> <td>   -0.347</td> <td>   -0.227</td>\n",
       "</tr>\n",
       "<tr>\n",
       "  <th>rural</th>        <td>   -0.5677</td> <td>    0.041</td> <td>  -13.741</td> <td> 0.000</td> <td>   -0.649</td> <td>   -0.487</td>\n",
       "</tr>\n",
       "<tr>\n",
       "  <th>threatened</th>   <td>   -0.1604</td> <td>    0.030</td> <td>   -5.316</td> <td> 0.000</td> <td>   -0.220</td> <td>   -0.101</td>\n",
       "</tr>\n",
       "<tr>\n",
       "  <th>gunhome</th>      <td>   -0.8890</td> <td>    0.026</td> <td>  -34.192</td> <td> 0.000</td> <td>   -0.940</td> <td>   -0.838</td>\n",
       "</tr>\n",
       "</table>"
      ],
      "text/plain": [
       "<class 'statsmodels.iolib.summary.Summary'>\n",
       "\"\"\"\n",
       "                           Logit Regression Results                           \n",
       "==============================================================================\n",
       "Dep. Variable:                  favor   No. Observations:                40325\n",
       "Model:                          Logit   Df Residuals:                    40302\n",
       "Method:                           MLE   Df Model:                           22\n",
       "Date:                Thu, 15 Mar 2018   Pseudo R-squ.:                 0.08265\n",
       "Time:                        15:07:13   Log-Likelihood:                -20322.\n",
       "converged:                       True   LL-Null:                       -22153.\n",
       "                                        LLR p-value:                     0.000\n",
       "================================================================================\n",
       "                   coef    std err          z      P>|z|      [0.025      0.975]\n",
       "--------------------------------------------------------------------------------\n",
       "Intercept        1.7243      0.046     37.242      0.000       1.634       1.815\n",
       "y                0.0070      0.001      6.225      0.000       0.005       0.009\n",
       "y2              -0.0009   7.61e-05    -11.910      0.000      -0.001      -0.001\n",
       "nineties        -0.6031      0.106     -5.691      0.000      -0.811      -0.395\n",
       "eighties        -0.3888      0.065     -6.006      0.000      -0.516      -0.262\n",
       "seventies       -0.2178      0.051     -4.255      0.000      -0.318      -0.117\n",
       "fifties         -0.0958      0.037     -2.579      0.010      -0.169      -0.023\n",
       "forties         -0.0083      0.039     -0.209      0.834      -0.086       0.069\n",
       "thirties        -0.1520      0.043     -3.532      0.000      -0.236      -0.068\n",
       "twenties        -0.0238      0.045     -0.526      0.599      -0.113       0.065\n",
       "female           0.6948      0.025     27.842      0.000       0.646       0.744\n",
       "black            0.2991      0.040      7.559      0.000       0.222       0.377\n",
       "otherrace        0.3905      0.065      6.024      0.000       0.263       0.518\n",
       "ishisp          -0.0302      0.047     -0.642      0.521      -0.122       0.062\n",
       "conservative    -0.3754      0.031    -12.004      0.000      -0.437      -0.314\n",
       "liberal          0.2627      0.031      8.552      0.000       0.203       0.323\n",
       "lowrealinc      -0.1527      0.031     -4.900      0.000      -0.214      -0.092\n",
       "highrealinc      0.0584      0.031      1.891      0.059      -0.002       0.119\n",
       "college          0.1248      0.027      4.669      0.000       0.072       0.177\n",
       "urban           -0.2870      0.031     -9.326      0.000      -0.347      -0.227\n",
       "rural           -0.5677      0.041    -13.741      0.000      -0.649      -0.487\n",
       "threatened      -0.1604      0.030     -5.316      0.000      -0.220      -0.101\n",
       "gunhome         -0.8890      0.026    -34.192      0.000      -0.940      -0.838\n",
       "================================================================================\n",
       "\"\"\""
      ]
     },
     "execution_count": 264,
     "metadata": {},
     "output_type": "execute_result"
    }
   ],
   "source": [
    "formula = ('favor ~ y + y2 + nineties + eighties + seventies + fifties + forties + thirties + twenties + '\n",
    "           'female + black + otherrace + ishisp + conservative + liberal + lowrealinc + highrealinc + ' \n",
    "           'college + urban + rural + threatened + gunhome')\n",
    "model = smf.logit(formula, data=data).fit()\n",
    "model.summary()"
   ]
  },
  {
   "cell_type": "markdown",
   "metadata": {},
   "source": [
    "Make a row for someone in 2016 with all booleans false."
   ]
  },
  {
   "cell_type": "code",
   "execution_count": 265,
   "metadata": {
    "scrolled": false
   },
   "outputs": [
    {
     "data": {
      "text/plain": [
       "black             0\n",
       "college           0\n",
       "conservative      0\n",
       "eighties          0\n",
       "female            0\n",
       "fifties           0\n",
       "forties           0\n",
       "gunhome           0\n",
       "highrealinc       0\n",
       "ishisp            0\n",
       "liberal           0\n",
       "lowrealinc        0\n",
       "nineties          0\n",
       "otherrace         0\n",
       "rural             0\n",
       "seventies         0\n",
       "thirties          0\n",
       "threatened        0\n",
       "twenties          0\n",
       "urban             0\n",
       "y                26\n",
       "y2              676\n",
       "dtype: int64"
      ]
     },
     "execution_count": 265,
     "metadata": {},
     "output_type": "execute_result"
    }
   ],
   "source": [
    "def make_base():\n",
    "    y = 2016 - 1990\n",
    "    y2 = y**2\n",
    "\n",
    "    d = dict(y=y, y2=y2)\n",
    "    for varname in varnames:\n",
    "        d[varname] = 0\n",
    "\n",
    "    return pd.Series(d)\n",
    "\n",
    "base = make_row()\n",
    "base"
   ]
  },
  {
   "cell_type": "markdown",
   "metadata": {},
   "source": [
    "Make a DataFrame that contains one row for each case we want to consider."
   ]
  },
  {
   "cell_type": "code",
   "execution_count": 266,
   "metadata": {
    "collapsed": true
   },
   "outputs": [],
   "source": [
    "def add_yminus(df, varname, offset):\n",
    "    \"\"\"\n",
    "    \n",
    "    \"\"\"\n",
    "    df.loc[varname] = s\n",
    "    df.loc[varname, 'y'] += offset\n",
    "    df.loc[varname, 'y2'] = df.loc[varname, 'y']**2"
   ]
  },
  {
   "cell_type": "code",
   "execution_count": 318,
   "metadata": {},
   "outputs": [
    {
     "data": {
      "text/html": [
       "<div>\n",
       "<style>\n",
       "    .dataframe thead tr:only-child th {\n",
       "        text-align: right;\n",
       "    }\n",
       "\n",
       "    .dataframe thead th {\n",
       "        text-align: left;\n",
       "    }\n",
       "\n",
       "    .dataframe tbody tr th {\n",
       "        vertical-align: top;\n",
       "    }\n",
       "</style>\n",
       "<table border=\"1\" class=\"dataframe\">\n",
       "  <thead>\n",
       "    <tr style=\"text-align: right;\">\n",
       "      <th></th>\n",
       "      <th>black</th>\n",
       "      <th>college</th>\n",
       "      <th>conservative</th>\n",
       "      <th>eighties</th>\n",
       "      <th>female</th>\n",
       "      <th>fifties</th>\n",
       "      <th>forties</th>\n",
       "      <th>gunhome</th>\n",
       "      <th>highrealinc</th>\n",
       "      <th>ishisp</th>\n",
       "      <th>...</th>\n",
       "      <th>nineties</th>\n",
       "      <th>otherrace</th>\n",
       "      <th>rural</th>\n",
       "      <th>seventies</th>\n",
       "      <th>thirties</th>\n",
       "      <th>threatened</th>\n",
       "      <th>twenties</th>\n",
       "      <th>urban</th>\n",
       "      <th>y</th>\n",
       "      <th>y2</th>\n",
       "    </tr>\n",
       "  </thead>\n",
       "  <tbody>\n",
       "    <tr>\n",
       "      <th>base</th>\n",
       "      <td>0.0</td>\n",
       "      <td>0.0</td>\n",
       "      <td>0.0</td>\n",
       "      <td>0.0</td>\n",
       "      <td>0.0</td>\n",
       "      <td>0.0</td>\n",
       "      <td>0.0</td>\n",
       "      <td>0.0</td>\n",
       "      <td>0.0</td>\n",
       "      <td>0.0</td>\n",
       "      <td>...</td>\n",
       "      <td>0.0</td>\n",
       "      <td>0.0</td>\n",
       "      <td>0.0</td>\n",
       "      <td>0.0</td>\n",
       "      <td>0.0</td>\n",
       "      <td>0.0</td>\n",
       "      <td>0.0</td>\n",
       "      <td>0.0</td>\n",
       "      <td>26.0</td>\n",
       "      <td>676.0</td>\n",
       "    </tr>\n",
       "    <tr>\n",
       "      <th>nineties</th>\n",
       "      <td>0.0</td>\n",
       "      <td>0.0</td>\n",
       "      <td>0.0</td>\n",
       "      <td>0.0</td>\n",
       "      <td>0.0</td>\n",
       "      <td>0.0</td>\n",
       "      <td>0.0</td>\n",
       "      <td>0.0</td>\n",
       "      <td>0.0</td>\n",
       "      <td>0.0</td>\n",
       "      <td>...</td>\n",
       "      <td>1.0</td>\n",
       "      <td>0.0</td>\n",
       "      <td>0.0</td>\n",
       "      <td>0.0</td>\n",
       "      <td>0.0</td>\n",
       "      <td>0.0</td>\n",
       "      <td>0.0</td>\n",
       "      <td>0.0</td>\n",
       "      <td>26.0</td>\n",
       "      <td>676.0</td>\n",
       "    </tr>\n",
       "    <tr>\n",
       "      <th>eighties</th>\n",
       "      <td>0.0</td>\n",
       "      <td>0.0</td>\n",
       "      <td>0.0</td>\n",
       "      <td>1.0</td>\n",
       "      <td>0.0</td>\n",
       "      <td>0.0</td>\n",
       "      <td>0.0</td>\n",
       "      <td>0.0</td>\n",
       "      <td>0.0</td>\n",
       "      <td>0.0</td>\n",
       "      <td>...</td>\n",
       "      <td>0.0</td>\n",
       "      <td>0.0</td>\n",
       "      <td>0.0</td>\n",
       "      <td>0.0</td>\n",
       "      <td>0.0</td>\n",
       "      <td>0.0</td>\n",
       "      <td>0.0</td>\n",
       "      <td>0.0</td>\n",
       "      <td>26.0</td>\n",
       "      <td>676.0</td>\n",
       "    </tr>\n",
       "    <tr>\n",
       "      <th>seventies</th>\n",
       "      <td>0.0</td>\n",
       "      <td>0.0</td>\n",
       "      <td>0.0</td>\n",
       "      <td>0.0</td>\n",
       "      <td>0.0</td>\n",
       "      <td>0.0</td>\n",
       "      <td>0.0</td>\n",
       "      <td>0.0</td>\n",
       "      <td>0.0</td>\n",
       "      <td>0.0</td>\n",
       "      <td>...</td>\n",
       "      <td>0.0</td>\n",
       "      <td>0.0</td>\n",
       "      <td>0.0</td>\n",
       "      <td>1.0</td>\n",
       "      <td>0.0</td>\n",
       "      <td>0.0</td>\n",
       "      <td>0.0</td>\n",
       "      <td>0.0</td>\n",
       "      <td>26.0</td>\n",
       "      <td>676.0</td>\n",
       "    </tr>\n",
       "    <tr>\n",
       "      <th>fifties</th>\n",
       "      <td>0.0</td>\n",
       "      <td>0.0</td>\n",
       "      <td>0.0</td>\n",
       "      <td>0.0</td>\n",
       "      <td>0.0</td>\n",
       "      <td>1.0</td>\n",
       "      <td>0.0</td>\n",
       "      <td>0.0</td>\n",
       "      <td>0.0</td>\n",
       "      <td>0.0</td>\n",
       "      <td>...</td>\n",
       "      <td>0.0</td>\n",
       "      <td>0.0</td>\n",
       "      <td>0.0</td>\n",
       "      <td>0.0</td>\n",
       "      <td>0.0</td>\n",
       "      <td>0.0</td>\n",
       "      <td>0.0</td>\n",
       "      <td>0.0</td>\n",
       "      <td>26.0</td>\n",
       "      <td>676.0</td>\n",
       "    </tr>\n",
       "    <tr>\n",
       "      <th>forties</th>\n",
       "      <td>0.0</td>\n",
       "      <td>0.0</td>\n",
       "      <td>0.0</td>\n",
       "      <td>0.0</td>\n",
       "      <td>0.0</td>\n",
       "      <td>0.0</td>\n",
       "      <td>1.0</td>\n",
       "      <td>0.0</td>\n",
       "      <td>0.0</td>\n",
       "      <td>0.0</td>\n",
       "      <td>...</td>\n",
       "      <td>0.0</td>\n",
       "      <td>0.0</td>\n",
       "      <td>0.0</td>\n",
       "      <td>0.0</td>\n",
       "      <td>0.0</td>\n",
       "      <td>0.0</td>\n",
       "      <td>0.0</td>\n",
       "      <td>0.0</td>\n",
       "      <td>26.0</td>\n",
       "      <td>676.0</td>\n",
       "    </tr>\n",
       "    <tr>\n",
       "      <th>thirties</th>\n",
       "      <td>0.0</td>\n",
       "      <td>0.0</td>\n",
       "      <td>0.0</td>\n",
       "      <td>0.0</td>\n",
       "      <td>0.0</td>\n",
       "      <td>0.0</td>\n",
       "      <td>0.0</td>\n",
       "      <td>0.0</td>\n",
       "      <td>0.0</td>\n",
       "      <td>0.0</td>\n",
       "      <td>...</td>\n",
       "      <td>0.0</td>\n",
       "      <td>0.0</td>\n",
       "      <td>0.0</td>\n",
       "      <td>0.0</td>\n",
       "      <td>1.0</td>\n",
       "      <td>0.0</td>\n",
       "      <td>0.0</td>\n",
       "      <td>0.0</td>\n",
       "      <td>26.0</td>\n",
       "      <td>676.0</td>\n",
       "    </tr>\n",
       "    <tr>\n",
       "      <th>twenties</th>\n",
       "      <td>0.0</td>\n",
       "      <td>0.0</td>\n",
       "      <td>0.0</td>\n",
       "      <td>0.0</td>\n",
       "      <td>0.0</td>\n",
       "      <td>0.0</td>\n",
       "      <td>0.0</td>\n",
       "      <td>0.0</td>\n",
       "      <td>0.0</td>\n",
       "      <td>0.0</td>\n",
       "      <td>...</td>\n",
       "      <td>0.0</td>\n",
       "      <td>0.0</td>\n",
       "      <td>0.0</td>\n",
       "      <td>0.0</td>\n",
       "      <td>0.0</td>\n",
       "      <td>0.0</td>\n",
       "      <td>1.0</td>\n",
       "      <td>0.0</td>\n",
       "      <td>26.0</td>\n",
       "      <td>676.0</td>\n",
       "    </tr>\n",
       "    <tr>\n",
       "      <th>female</th>\n",
       "      <td>0.0</td>\n",
       "      <td>0.0</td>\n",
       "      <td>0.0</td>\n",
       "      <td>0.0</td>\n",
       "      <td>1.0</td>\n",
       "      <td>0.0</td>\n",
       "      <td>0.0</td>\n",
       "      <td>0.0</td>\n",
       "      <td>0.0</td>\n",
       "      <td>0.0</td>\n",
       "      <td>...</td>\n",
       "      <td>0.0</td>\n",
       "      <td>0.0</td>\n",
       "      <td>0.0</td>\n",
       "      <td>0.0</td>\n",
       "      <td>0.0</td>\n",
       "      <td>0.0</td>\n",
       "      <td>0.0</td>\n",
       "      <td>0.0</td>\n",
       "      <td>26.0</td>\n",
       "      <td>676.0</td>\n",
       "    </tr>\n",
       "    <tr>\n",
       "      <th>black</th>\n",
       "      <td>1.0</td>\n",
       "      <td>0.0</td>\n",
       "      <td>0.0</td>\n",
       "      <td>0.0</td>\n",
       "      <td>0.0</td>\n",
       "      <td>0.0</td>\n",
       "      <td>0.0</td>\n",
       "      <td>0.0</td>\n",
       "      <td>0.0</td>\n",
       "      <td>0.0</td>\n",
       "      <td>...</td>\n",
       "      <td>0.0</td>\n",
       "      <td>0.0</td>\n",
       "      <td>0.0</td>\n",
       "      <td>0.0</td>\n",
       "      <td>0.0</td>\n",
       "      <td>0.0</td>\n",
       "      <td>0.0</td>\n",
       "      <td>0.0</td>\n",
       "      <td>26.0</td>\n",
       "      <td>676.0</td>\n",
       "    </tr>\n",
       "    <tr>\n",
       "      <th>otherrace</th>\n",
       "      <td>0.0</td>\n",
       "      <td>0.0</td>\n",
       "      <td>0.0</td>\n",
       "      <td>0.0</td>\n",
       "      <td>0.0</td>\n",
       "      <td>0.0</td>\n",
       "      <td>0.0</td>\n",
       "      <td>0.0</td>\n",
       "      <td>0.0</td>\n",
       "      <td>0.0</td>\n",
       "      <td>...</td>\n",
       "      <td>0.0</td>\n",
       "      <td>1.0</td>\n",
       "      <td>0.0</td>\n",
       "      <td>0.0</td>\n",
       "      <td>0.0</td>\n",
       "      <td>0.0</td>\n",
       "      <td>0.0</td>\n",
       "      <td>0.0</td>\n",
       "      <td>26.0</td>\n",
       "      <td>676.0</td>\n",
       "    </tr>\n",
       "    <tr>\n",
       "      <th>ishisp</th>\n",
       "      <td>0.0</td>\n",
       "      <td>0.0</td>\n",
       "      <td>0.0</td>\n",
       "      <td>0.0</td>\n",
       "      <td>0.0</td>\n",
       "      <td>0.0</td>\n",
       "      <td>0.0</td>\n",
       "      <td>0.0</td>\n",
       "      <td>0.0</td>\n",
       "      <td>1.0</td>\n",
       "      <td>...</td>\n",
       "      <td>0.0</td>\n",
       "      <td>0.0</td>\n",
       "      <td>0.0</td>\n",
       "      <td>0.0</td>\n",
       "      <td>0.0</td>\n",
       "      <td>0.0</td>\n",
       "      <td>0.0</td>\n",
       "      <td>0.0</td>\n",
       "      <td>26.0</td>\n",
       "      <td>676.0</td>\n",
       "    </tr>\n",
       "    <tr>\n",
       "      <th>conservative</th>\n",
       "      <td>0.0</td>\n",
       "      <td>0.0</td>\n",
       "      <td>1.0</td>\n",
       "      <td>0.0</td>\n",
       "      <td>0.0</td>\n",
       "      <td>0.0</td>\n",
       "      <td>0.0</td>\n",
       "      <td>0.0</td>\n",
       "      <td>0.0</td>\n",
       "      <td>0.0</td>\n",
       "      <td>...</td>\n",
       "      <td>0.0</td>\n",
       "      <td>0.0</td>\n",
       "      <td>0.0</td>\n",
       "      <td>0.0</td>\n",
       "      <td>0.0</td>\n",
       "      <td>0.0</td>\n",
       "      <td>0.0</td>\n",
       "      <td>0.0</td>\n",
       "      <td>26.0</td>\n",
       "      <td>676.0</td>\n",
       "    </tr>\n",
       "    <tr>\n",
       "      <th>liberal</th>\n",
       "      <td>0.0</td>\n",
       "      <td>0.0</td>\n",
       "      <td>0.0</td>\n",
       "      <td>0.0</td>\n",
       "      <td>0.0</td>\n",
       "      <td>0.0</td>\n",
       "      <td>0.0</td>\n",
       "      <td>0.0</td>\n",
       "      <td>0.0</td>\n",
       "      <td>0.0</td>\n",
       "      <td>...</td>\n",
       "      <td>0.0</td>\n",
       "      <td>0.0</td>\n",
       "      <td>0.0</td>\n",
       "      <td>0.0</td>\n",
       "      <td>0.0</td>\n",
       "      <td>0.0</td>\n",
       "      <td>0.0</td>\n",
       "      <td>0.0</td>\n",
       "      <td>26.0</td>\n",
       "      <td>676.0</td>\n",
       "    </tr>\n",
       "    <tr>\n",
       "      <th>lowrealinc</th>\n",
       "      <td>0.0</td>\n",
       "      <td>0.0</td>\n",
       "      <td>0.0</td>\n",
       "      <td>0.0</td>\n",
       "      <td>0.0</td>\n",
       "      <td>0.0</td>\n",
       "      <td>0.0</td>\n",
       "      <td>0.0</td>\n",
       "      <td>0.0</td>\n",
       "      <td>0.0</td>\n",
       "      <td>...</td>\n",
       "      <td>0.0</td>\n",
       "      <td>0.0</td>\n",
       "      <td>0.0</td>\n",
       "      <td>0.0</td>\n",
       "      <td>0.0</td>\n",
       "      <td>0.0</td>\n",
       "      <td>0.0</td>\n",
       "      <td>0.0</td>\n",
       "      <td>26.0</td>\n",
       "      <td>676.0</td>\n",
       "    </tr>\n",
       "    <tr>\n",
       "      <th>highrealinc</th>\n",
       "      <td>0.0</td>\n",
       "      <td>0.0</td>\n",
       "      <td>0.0</td>\n",
       "      <td>0.0</td>\n",
       "      <td>0.0</td>\n",
       "      <td>0.0</td>\n",
       "      <td>0.0</td>\n",
       "      <td>0.0</td>\n",
       "      <td>1.0</td>\n",
       "      <td>0.0</td>\n",
       "      <td>...</td>\n",
       "      <td>0.0</td>\n",
       "      <td>0.0</td>\n",
       "      <td>0.0</td>\n",
       "      <td>0.0</td>\n",
       "      <td>0.0</td>\n",
       "      <td>0.0</td>\n",
       "      <td>0.0</td>\n",
       "      <td>0.0</td>\n",
       "      <td>26.0</td>\n",
       "      <td>676.0</td>\n",
       "    </tr>\n",
       "    <tr>\n",
       "      <th>college</th>\n",
       "      <td>0.0</td>\n",
       "      <td>1.0</td>\n",
       "      <td>0.0</td>\n",
       "      <td>0.0</td>\n",
       "      <td>0.0</td>\n",
       "      <td>0.0</td>\n",
       "      <td>0.0</td>\n",
       "      <td>0.0</td>\n",
       "      <td>0.0</td>\n",
       "      <td>0.0</td>\n",
       "      <td>...</td>\n",
       "      <td>0.0</td>\n",
       "      <td>0.0</td>\n",
       "      <td>0.0</td>\n",
       "      <td>0.0</td>\n",
       "      <td>0.0</td>\n",
       "      <td>0.0</td>\n",
       "      <td>0.0</td>\n",
       "      <td>0.0</td>\n",
       "      <td>26.0</td>\n",
       "      <td>676.0</td>\n",
       "    </tr>\n",
       "    <tr>\n",
       "      <th>urban</th>\n",
       "      <td>0.0</td>\n",
       "      <td>0.0</td>\n",
       "      <td>0.0</td>\n",
       "      <td>0.0</td>\n",
       "      <td>0.0</td>\n",
       "      <td>0.0</td>\n",
       "      <td>0.0</td>\n",
       "      <td>0.0</td>\n",
       "      <td>0.0</td>\n",
       "      <td>0.0</td>\n",
       "      <td>...</td>\n",
       "      <td>0.0</td>\n",
       "      <td>0.0</td>\n",
       "      <td>0.0</td>\n",
       "      <td>0.0</td>\n",
       "      <td>0.0</td>\n",
       "      <td>0.0</td>\n",
       "      <td>0.0</td>\n",
       "      <td>1.0</td>\n",
       "      <td>26.0</td>\n",
       "      <td>676.0</td>\n",
       "    </tr>\n",
       "    <tr>\n",
       "      <th>rural</th>\n",
       "      <td>0.0</td>\n",
       "      <td>0.0</td>\n",
       "      <td>0.0</td>\n",
       "      <td>0.0</td>\n",
       "      <td>0.0</td>\n",
       "      <td>0.0</td>\n",
       "      <td>0.0</td>\n",
       "      <td>0.0</td>\n",
       "      <td>0.0</td>\n",
       "      <td>0.0</td>\n",
       "      <td>...</td>\n",
       "      <td>0.0</td>\n",
       "      <td>0.0</td>\n",
       "      <td>1.0</td>\n",
       "      <td>0.0</td>\n",
       "      <td>0.0</td>\n",
       "      <td>0.0</td>\n",
       "      <td>0.0</td>\n",
       "      <td>0.0</td>\n",
       "      <td>26.0</td>\n",
       "      <td>676.0</td>\n",
       "    </tr>\n",
       "    <tr>\n",
       "      <th>threatened</th>\n",
       "      <td>0.0</td>\n",
       "      <td>0.0</td>\n",
       "      <td>0.0</td>\n",
       "      <td>0.0</td>\n",
       "      <td>0.0</td>\n",
       "      <td>0.0</td>\n",
       "      <td>0.0</td>\n",
       "      <td>0.0</td>\n",
       "      <td>0.0</td>\n",
       "      <td>0.0</td>\n",
       "      <td>...</td>\n",
       "      <td>0.0</td>\n",
       "      <td>0.0</td>\n",
       "      <td>0.0</td>\n",
       "      <td>0.0</td>\n",
       "      <td>0.0</td>\n",
       "      <td>1.0</td>\n",
       "      <td>0.0</td>\n",
       "      <td>0.0</td>\n",
       "      <td>26.0</td>\n",
       "      <td>676.0</td>\n",
       "    </tr>\n",
       "    <tr>\n",
       "      <th>gunhome</th>\n",
       "      <td>0.0</td>\n",
       "      <td>0.0</td>\n",
       "      <td>0.0</td>\n",
       "      <td>0.0</td>\n",
       "      <td>0.0</td>\n",
       "      <td>0.0</td>\n",
       "      <td>0.0</td>\n",
       "      <td>1.0</td>\n",
       "      <td>0.0</td>\n",
       "      <td>0.0</td>\n",
       "      <td>...</td>\n",
       "      <td>0.0</td>\n",
       "      <td>0.0</td>\n",
       "      <td>0.0</td>\n",
       "      <td>0.0</td>\n",
       "      <td>0.0</td>\n",
       "      <td>0.0</td>\n",
       "      <td>0.0</td>\n",
       "      <td>0.0</td>\n",
       "      <td>26.0</td>\n",
       "      <td>676.0</td>\n",
       "    </tr>\n",
       "    <tr>\n",
       "      <th>yminus10</th>\n",
       "      <td>0.0</td>\n",
       "      <td>0.0</td>\n",
       "      <td>0.0</td>\n",
       "      <td>0.0</td>\n",
       "      <td>0.0</td>\n",
       "      <td>0.0</td>\n",
       "      <td>0.0</td>\n",
       "      <td>0.0</td>\n",
       "      <td>0.0</td>\n",
       "      <td>0.0</td>\n",
       "      <td>...</td>\n",
       "      <td>0.0</td>\n",
       "      <td>0.0</td>\n",
       "      <td>0.0</td>\n",
       "      <td>0.0</td>\n",
       "      <td>0.0</td>\n",
       "      <td>0.0</td>\n",
       "      <td>0.0</td>\n",
       "      <td>0.0</td>\n",
       "      <td>16.0</td>\n",
       "      <td>256.0</td>\n",
       "    </tr>\n",
       "    <tr>\n",
       "      <th>yminus20</th>\n",
       "      <td>0.0</td>\n",
       "      <td>0.0</td>\n",
       "      <td>0.0</td>\n",
       "      <td>0.0</td>\n",
       "      <td>0.0</td>\n",
       "      <td>0.0</td>\n",
       "      <td>0.0</td>\n",
       "      <td>0.0</td>\n",
       "      <td>0.0</td>\n",
       "      <td>0.0</td>\n",
       "      <td>...</td>\n",
       "      <td>0.0</td>\n",
       "      <td>0.0</td>\n",
       "      <td>0.0</td>\n",
       "      <td>0.0</td>\n",
       "      <td>0.0</td>\n",
       "      <td>0.0</td>\n",
       "      <td>0.0</td>\n",
       "      <td>0.0</td>\n",
       "      <td>6.0</td>\n",
       "      <td>36.0</td>\n",
       "    </tr>\n",
       "    <tr>\n",
       "      <th>yminus30</th>\n",
       "      <td>0.0</td>\n",
       "      <td>0.0</td>\n",
       "      <td>0.0</td>\n",
       "      <td>0.0</td>\n",
       "      <td>0.0</td>\n",
       "      <td>0.0</td>\n",
       "      <td>0.0</td>\n",
       "      <td>0.0</td>\n",
       "      <td>0.0</td>\n",
       "      <td>0.0</td>\n",
       "      <td>...</td>\n",
       "      <td>0.0</td>\n",
       "      <td>0.0</td>\n",
       "      <td>0.0</td>\n",
       "      <td>0.0</td>\n",
       "      <td>0.0</td>\n",
       "      <td>0.0</td>\n",
       "      <td>0.0</td>\n",
       "      <td>0.0</td>\n",
       "      <td>-4.0</td>\n",
       "      <td>16.0</td>\n",
       "    </tr>\n",
       "    <tr>\n",
       "      <th>yminus40</th>\n",
       "      <td>0.0</td>\n",
       "      <td>0.0</td>\n",
       "      <td>0.0</td>\n",
       "      <td>0.0</td>\n",
       "      <td>0.0</td>\n",
       "      <td>0.0</td>\n",
       "      <td>0.0</td>\n",
       "      <td>0.0</td>\n",
       "      <td>0.0</td>\n",
       "      <td>0.0</td>\n",
       "      <td>...</td>\n",
       "      <td>0.0</td>\n",
       "      <td>0.0</td>\n",
       "      <td>0.0</td>\n",
       "      <td>0.0</td>\n",
       "      <td>0.0</td>\n",
       "      <td>0.0</td>\n",
       "      <td>0.0</td>\n",
       "      <td>0.0</td>\n",
       "      <td>-14.0</td>\n",
       "      <td>196.0</td>\n",
       "    </tr>\n",
       "    <tr>\n",
       "      <th>lowest combo</th>\n",
       "      <td>0.0</td>\n",
       "      <td>0.0</td>\n",
       "      <td>1.0</td>\n",
       "      <td>0.0</td>\n",
       "      <td>0.0</td>\n",
       "      <td>0.0</td>\n",
       "      <td>0.0</td>\n",
       "      <td>1.0</td>\n",
       "      <td>0.0</td>\n",
       "      <td>0.0</td>\n",
       "      <td>...</td>\n",
       "      <td>1.0</td>\n",
       "      <td>0.0</td>\n",
       "      <td>1.0</td>\n",
       "      <td>0.0</td>\n",
       "      <td>0.0</td>\n",
       "      <td>1.0</td>\n",
       "      <td>0.0</td>\n",
       "      <td>0.0</td>\n",
       "      <td>26.0</td>\n",
       "      <td>676.0</td>\n",
       "    </tr>\n",
       "    <tr>\n",
       "      <th>highest combo</th>\n",
       "      <td>0.0</td>\n",
       "      <td>1.0</td>\n",
       "      <td>0.0</td>\n",
       "      <td>0.0</td>\n",
       "      <td>1.0</td>\n",
       "      <td>0.0</td>\n",
       "      <td>0.0</td>\n",
       "      <td>0.0</td>\n",
       "      <td>1.0</td>\n",
       "      <td>0.0</td>\n",
       "      <td>...</td>\n",
       "      <td>0.0</td>\n",
       "      <td>1.0</td>\n",
       "      <td>0.0</td>\n",
       "      <td>0.0</td>\n",
       "      <td>0.0</td>\n",
       "      <td>0.0</td>\n",
       "      <td>0.0</td>\n",
       "      <td>0.0</td>\n",
       "      <td>26.0</td>\n",
       "      <td>676.0</td>\n",
       "    </tr>\n",
       "  </tbody>\n",
       "</table>\n",
       "<p>27 rows × 22 columns</p>\n",
       "</div>"
      ],
      "text/plain": [
       "               black  college  conservative  eighties  female  fifties  \\\n",
       "base             0.0      0.0           0.0       0.0     0.0      0.0   \n",
       "nineties         0.0      0.0           0.0       0.0     0.0      0.0   \n",
       "eighties         0.0      0.0           0.0       1.0     0.0      0.0   \n",
       "seventies        0.0      0.0           0.0       0.0     0.0      0.0   \n",
       "fifties          0.0      0.0           0.0       0.0     0.0      1.0   \n",
       "forties          0.0      0.0           0.0       0.0     0.0      0.0   \n",
       "thirties         0.0      0.0           0.0       0.0     0.0      0.0   \n",
       "twenties         0.0      0.0           0.0       0.0     0.0      0.0   \n",
       "female           0.0      0.0           0.0       0.0     1.0      0.0   \n",
       "black            1.0      0.0           0.0       0.0     0.0      0.0   \n",
       "otherrace        0.0      0.0           0.0       0.0     0.0      0.0   \n",
       "ishisp           0.0      0.0           0.0       0.0     0.0      0.0   \n",
       "conservative     0.0      0.0           1.0       0.0     0.0      0.0   \n",
       "liberal          0.0      0.0           0.0       0.0     0.0      0.0   \n",
       "lowrealinc       0.0      0.0           0.0       0.0     0.0      0.0   \n",
       "highrealinc      0.0      0.0           0.0       0.0     0.0      0.0   \n",
       "college          0.0      1.0           0.0       0.0     0.0      0.0   \n",
       "urban            0.0      0.0           0.0       0.0     0.0      0.0   \n",
       "rural            0.0      0.0           0.0       0.0     0.0      0.0   \n",
       "threatened       0.0      0.0           0.0       0.0     0.0      0.0   \n",
       "gunhome          0.0      0.0           0.0       0.0     0.0      0.0   \n",
       "yminus10         0.0      0.0           0.0       0.0     0.0      0.0   \n",
       "yminus20         0.0      0.0           0.0       0.0     0.0      0.0   \n",
       "yminus30         0.0      0.0           0.0       0.0     0.0      0.0   \n",
       "yminus40         0.0      0.0           0.0       0.0     0.0      0.0   \n",
       "lowest combo     0.0      0.0           1.0       0.0     0.0      0.0   \n",
       "highest combo    0.0      1.0           0.0       0.0     1.0      0.0   \n",
       "\n",
       "               forties  gunhome  highrealinc  ishisp  ...    nineties  \\\n",
       "base               0.0      0.0          0.0     0.0  ...         0.0   \n",
       "nineties           0.0      0.0          0.0     0.0  ...         1.0   \n",
       "eighties           0.0      0.0          0.0     0.0  ...         0.0   \n",
       "seventies          0.0      0.0          0.0     0.0  ...         0.0   \n",
       "fifties            0.0      0.0          0.0     0.0  ...         0.0   \n",
       "forties            1.0      0.0          0.0     0.0  ...         0.0   \n",
       "thirties           0.0      0.0          0.0     0.0  ...         0.0   \n",
       "twenties           0.0      0.0          0.0     0.0  ...         0.0   \n",
       "female             0.0      0.0          0.0     0.0  ...         0.0   \n",
       "black              0.0      0.0          0.0     0.0  ...         0.0   \n",
       "otherrace          0.0      0.0          0.0     0.0  ...         0.0   \n",
       "ishisp             0.0      0.0          0.0     1.0  ...         0.0   \n",
       "conservative       0.0      0.0          0.0     0.0  ...         0.0   \n",
       "liberal            0.0      0.0          0.0     0.0  ...         0.0   \n",
       "lowrealinc         0.0      0.0          0.0     0.0  ...         0.0   \n",
       "highrealinc        0.0      0.0          1.0     0.0  ...         0.0   \n",
       "college            0.0      0.0          0.0     0.0  ...         0.0   \n",
       "urban              0.0      0.0          0.0     0.0  ...         0.0   \n",
       "rural              0.0      0.0          0.0     0.0  ...         0.0   \n",
       "threatened         0.0      0.0          0.0     0.0  ...         0.0   \n",
       "gunhome            0.0      1.0          0.0     0.0  ...         0.0   \n",
       "yminus10           0.0      0.0          0.0     0.0  ...         0.0   \n",
       "yminus20           0.0      0.0          0.0     0.0  ...         0.0   \n",
       "yminus30           0.0      0.0          0.0     0.0  ...         0.0   \n",
       "yminus40           0.0      0.0          0.0     0.0  ...         0.0   \n",
       "lowest combo       0.0      1.0          0.0     0.0  ...         1.0   \n",
       "highest combo      0.0      0.0          1.0     0.0  ...         0.0   \n",
       "\n",
       "               otherrace  rural  seventies  thirties  threatened  twenties  \\\n",
       "base                 0.0    0.0        0.0       0.0         0.0       0.0   \n",
       "nineties             0.0    0.0        0.0       0.0         0.0       0.0   \n",
       "eighties             0.0    0.0        0.0       0.0         0.0       0.0   \n",
       "seventies            0.0    0.0        1.0       0.0         0.0       0.0   \n",
       "fifties              0.0    0.0        0.0       0.0         0.0       0.0   \n",
       "forties              0.0    0.0        0.0       0.0         0.0       0.0   \n",
       "thirties             0.0    0.0        0.0       1.0         0.0       0.0   \n",
       "twenties             0.0    0.0        0.0       0.0         0.0       1.0   \n",
       "female               0.0    0.0        0.0       0.0         0.0       0.0   \n",
       "black                0.0    0.0        0.0       0.0         0.0       0.0   \n",
       "otherrace            1.0    0.0        0.0       0.0         0.0       0.0   \n",
       "ishisp               0.0    0.0        0.0       0.0         0.0       0.0   \n",
       "conservative         0.0    0.0        0.0       0.0         0.0       0.0   \n",
       "liberal              0.0    0.0        0.0       0.0         0.0       0.0   \n",
       "lowrealinc           0.0    0.0        0.0       0.0         0.0       0.0   \n",
       "highrealinc          0.0    0.0        0.0       0.0         0.0       0.0   \n",
       "college              0.0    0.0        0.0       0.0         0.0       0.0   \n",
       "urban                0.0    0.0        0.0       0.0         0.0       0.0   \n",
       "rural                0.0    1.0        0.0       0.0         0.0       0.0   \n",
       "threatened           0.0    0.0        0.0       0.0         1.0       0.0   \n",
       "gunhome              0.0    0.0        0.0       0.0         0.0       0.0   \n",
       "yminus10             0.0    0.0        0.0       0.0         0.0       0.0   \n",
       "yminus20             0.0    0.0        0.0       0.0         0.0       0.0   \n",
       "yminus30             0.0    0.0        0.0       0.0         0.0       0.0   \n",
       "yminus40             0.0    0.0        0.0       0.0         0.0       0.0   \n",
       "lowest combo         0.0    1.0        0.0       0.0         1.0       0.0   \n",
       "highest combo        1.0    0.0        0.0       0.0         0.0       0.0   \n",
       "\n",
       "               urban     y     y2  \n",
       "base             0.0  26.0  676.0  \n",
       "nineties         0.0  26.0  676.0  \n",
       "eighties         0.0  26.0  676.0  \n",
       "seventies        0.0  26.0  676.0  \n",
       "fifties          0.0  26.0  676.0  \n",
       "forties          0.0  26.0  676.0  \n",
       "thirties         0.0  26.0  676.0  \n",
       "twenties         0.0  26.0  676.0  \n",
       "female           0.0  26.0  676.0  \n",
       "black            0.0  26.0  676.0  \n",
       "otherrace        0.0  26.0  676.0  \n",
       "ishisp           0.0  26.0  676.0  \n",
       "conservative     0.0  26.0  676.0  \n",
       "liberal          0.0  26.0  676.0  \n",
       "lowrealinc       0.0  26.0  676.0  \n",
       "highrealinc      0.0  26.0  676.0  \n",
       "college          0.0  26.0  676.0  \n",
       "urban            1.0  26.0  676.0  \n",
       "rural            0.0  26.0  676.0  \n",
       "threatened       0.0  26.0  676.0  \n",
       "gunhome          0.0  26.0  676.0  \n",
       "yminus10         0.0  16.0  256.0  \n",
       "yminus20         0.0   6.0   36.0  \n",
       "yminus30         0.0  -4.0   16.0  \n",
       "yminus40         0.0 -14.0  196.0  \n",
       "lowest combo     0.0  26.0  676.0  \n",
       "highest combo    0.0  26.0  676.0  \n",
       "\n",
       "[27 rows x 22 columns]"
      ]
     },
     "execution_count": 318,
     "metadata": {},
     "output_type": "execute_result"
    }
   ],
   "source": [
    "def make_df_pred():\n",
    "    base = make_base()\n",
    "    df_pred = pd.DataFrame(columns=base.index, dtype=float)\n",
    "    #df_pred = pd.DataFrame(columns=sample.columns)\n",
    "    \n",
    "    df_pred.loc['base'] = s\n",
    "\n",
    "    for varname in varnames:\n",
    "        df_pred.loc[varname] = s\n",
    "        df_pred.loc[varname, varname] = 1\n",
    "    \n",
    "    add_yminus(df_pred, 'yminus10', -10)\n",
    "    add_yminus(df_pred, 'yminus20', -20)\n",
    "    add_yminus(df_pred, 'yminus30', -30)\n",
    "    add_yminus(df_pred, 'yminus40', -40)\n",
    "    \n",
    "    df_pred.loc['lowest combo'] = s\n",
    "    low_vars = ['gunhome', 'nineties', 'rural', \n",
    "                'conservative', 'lowrealinc', 'threatened']\n",
    "    df_pred.loc['lowest combo', low_vars] = 1\n",
    "    \n",
    "    df_pred.loc['highest combo'] = s\n",
    "    high_vars = ['female', 'otherrace', 'liberal', \n",
    "                'college', 'highrealinc']\n",
    "    df_pred.loc['highest combo', high_vars] = 1\n",
    "    \n",
    "    return df_pred\n",
    "    \n",
    "df_pred = make_df_pred()\n",
    "df_pred"
   ]
  },
  {
   "cell_type": "code",
   "execution_count": 319,
   "metadata": {},
   "outputs": [
    {
     "data": {
      "text/plain": [
       "base             78.485429\n",
       "nineties         66.621696\n",
       "eighties         71.205662\n",
       "seventies        74.580045\n",
       "fifties          76.822925\n",
       "forties          78.345758\n",
       "thirties         75.807540\n",
       "twenties         78.080717\n",
       "female           87.964039\n",
       "black            83.108290\n",
       "otherrace        84.353016\n",
       "ishisp           77.971727\n",
       "conservative     71.479353\n",
       "liberal          82.591260\n",
       "lowrealinc       75.795184\n",
       "highrealinc      79.455948\n",
       "college          80.517546\n",
       "urban            73.247706\n",
       "rural            67.403498\n",
       "threatened       75.653796\n",
       "gunhome          59.992119\n",
       "yminus10         83.266429\n",
       "yminus20         84.989607\n",
       "yminus30         84.312362\n",
       "yminus40         80.972689\n",
       "lowest combo     18.937065\n",
       "highest combo    94.404125\n",
       "dtype: float64"
      ]
     },
     "execution_count": 319,
     "metadata": {},
     "output_type": "execute_result"
    }
   ],
   "source": [
    "pred = model.predict(df_pred) * 100\n",
    "pred"
   ]
  },
  {
   "cell_type": "code",
   "execution_count": 320,
   "metadata": {},
   "outputs": [
    {
     "data": {
      "text/plain": [
       "base              0.000000\n",
       "nineties        -11.863732\n",
       "eighties         -7.279767\n",
       "seventies        -3.905383\n",
       "fifties          -1.662504\n",
       "forties          -0.139670\n",
       "thirties         -2.677888\n",
       "twenties         -0.404711\n",
       "female            9.478610\n",
       "black             4.622861\n",
       "otherrace         5.867587\n",
       "ishisp           -0.513701\n",
       "conservative     -7.006076\n",
       "liberal           4.105831\n",
       "lowrealinc       -2.690245\n",
       "highrealinc       0.970520\n",
       "college           2.032117\n",
       "urban            -5.237723\n",
       "rural           -11.081931\n",
       "threatened       -2.831633\n",
       "gunhome         -18.493310\n",
       "yminus10          4.781000\n",
       "yminus20          6.504178\n",
       "yminus30          5.826934\n",
       "yminus40          2.487260\n",
       "lowest combo    -59.548364\n",
       "highest combo    15.918696\n",
       "dtype: float64"
      ]
     },
     "execution_count": 320,
     "metadata": {},
     "output_type": "execute_result"
    }
   ],
   "source": [
    "pred - pred['base']"
   ]
  },
  {
   "cell_type": "code",
   "execution_count": 321,
   "metadata": {},
   "outputs": [
    {
     "data": {
      "text/html": [
       "<div>\n",
       "<style>\n",
       "    .dataframe thead tr:only-child th {\n",
       "        text-align: right;\n",
       "    }\n",
       "\n",
       "    .dataframe thead th {\n",
       "        text-align: left;\n",
       "    }\n",
       "\n",
       "    .dataframe tbody tr th {\n",
       "        vertical-align: top;\n",
       "    }\n",
       "</style>\n",
       "<table border=\"1\" class=\"dataframe\">\n",
       "  <thead>\n",
       "    <tr style=\"text-align: right;\">\n",
       "      <th></th>\n",
       "      <th>pred</th>\n",
       "      <th>offset</th>\n",
       "    </tr>\n",
       "  </thead>\n",
       "  <tbody>\n",
       "    <tr>\n",
       "      <th>base</th>\n",
       "      <td>78.485429</td>\n",
       "      <td>0.000000</td>\n",
       "    </tr>\n",
       "    <tr>\n",
       "      <th>nineties</th>\n",
       "      <td>66.621696</td>\n",
       "      <td>-11.863732</td>\n",
       "    </tr>\n",
       "    <tr>\n",
       "      <th>eighties</th>\n",
       "      <td>71.205662</td>\n",
       "      <td>-7.279767</td>\n",
       "    </tr>\n",
       "    <tr>\n",
       "      <th>seventies</th>\n",
       "      <td>74.580045</td>\n",
       "      <td>-3.905383</td>\n",
       "    </tr>\n",
       "    <tr>\n",
       "      <th>fifties</th>\n",
       "      <td>76.822925</td>\n",
       "      <td>-1.662504</td>\n",
       "    </tr>\n",
       "    <tr>\n",
       "      <th>forties</th>\n",
       "      <td>78.345758</td>\n",
       "      <td>-0.139670</td>\n",
       "    </tr>\n",
       "    <tr>\n",
       "      <th>thirties</th>\n",
       "      <td>75.807540</td>\n",
       "      <td>-2.677888</td>\n",
       "    </tr>\n",
       "    <tr>\n",
       "      <th>twenties</th>\n",
       "      <td>78.080717</td>\n",
       "      <td>-0.404711</td>\n",
       "    </tr>\n",
       "    <tr>\n",
       "      <th>female</th>\n",
       "      <td>87.964039</td>\n",
       "      <td>9.478610</td>\n",
       "    </tr>\n",
       "    <tr>\n",
       "      <th>black</th>\n",
       "      <td>83.108290</td>\n",
       "      <td>4.622861</td>\n",
       "    </tr>\n",
       "    <tr>\n",
       "      <th>otherrace</th>\n",
       "      <td>84.353016</td>\n",
       "      <td>5.867587</td>\n",
       "    </tr>\n",
       "    <tr>\n",
       "      <th>ishisp</th>\n",
       "      <td>77.971727</td>\n",
       "      <td>-0.513701</td>\n",
       "    </tr>\n",
       "    <tr>\n",
       "      <th>conservative</th>\n",
       "      <td>71.479353</td>\n",
       "      <td>-7.006076</td>\n",
       "    </tr>\n",
       "    <tr>\n",
       "      <th>liberal</th>\n",
       "      <td>82.591260</td>\n",
       "      <td>4.105831</td>\n",
       "    </tr>\n",
       "    <tr>\n",
       "      <th>lowrealinc</th>\n",
       "      <td>75.795184</td>\n",
       "      <td>-2.690245</td>\n",
       "    </tr>\n",
       "    <tr>\n",
       "      <th>highrealinc</th>\n",
       "      <td>79.455948</td>\n",
       "      <td>0.970520</td>\n",
       "    </tr>\n",
       "    <tr>\n",
       "      <th>college</th>\n",
       "      <td>80.517546</td>\n",
       "      <td>2.032117</td>\n",
       "    </tr>\n",
       "    <tr>\n",
       "      <th>urban</th>\n",
       "      <td>73.247706</td>\n",
       "      <td>-5.237723</td>\n",
       "    </tr>\n",
       "    <tr>\n",
       "      <th>rural</th>\n",
       "      <td>67.403498</td>\n",
       "      <td>-11.081931</td>\n",
       "    </tr>\n",
       "    <tr>\n",
       "      <th>threatened</th>\n",
       "      <td>75.653796</td>\n",
       "      <td>-2.831633</td>\n",
       "    </tr>\n",
       "    <tr>\n",
       "      <th>gunhome</th>\n",
       "      <td>59.992119</td>\n",
       "      <td>-18.493310</td>\n",
       "    </tr>\n",
       "    <tr>\n",
       "      <th>yminus10</th>\n",
       "      <td>83.266429</td>\n",
       "      <td>4.781000</td>\n",
       "    </tr>\n",
       "    <tr>\n",
       "      <th>yminus20</th>\n",
       "      <td>84.989607</td>\n",
       "      <td>6.504178</td>\n",
       "    </tr>\n",
       "    <tr>\n",
       "      <th>yminus30</th>\n",
       "      <td>84.312362</td>\n",
       "      <td>5.826934</td>\n",
       "    </tr>\n",
       "    <tr>\n",
       "      <th>yminus40</th>\n",
       "      <td>80.972689</td>\n",
       "      <td>2.487260</td>\n",
       "    </tr>\n",
       "    <tr>\n",
       "      <th>lowest combo</th>\n",
       "      <td>18.937065</td>\n",
       "      <td>-59.548364</td>\n",
       "    </tr>\n",
       "    <tr>\n",
       "      <th>highest combo</th>\n",
       "      <td>94.404125</td>\n",
       "      <td>15.918696</td>\n",
       "    </tr>\n",
       "  </tbody>\n",
       "</table>\n",
       "</div>"
      ],
      "text/plain": [
       "                    pred     offset\n",
       "base           78.485429   0.000000\n",
       "nineties       66.621696 -11.863732\n",
       "eighties       71.205662  -7.279767\n",
       "seventies      74.580045  -3.905383\n",
       "fifties        76.822925  -1.662504\n",
       "forties        78.345758  -0.139670\n",
       "thirties       75.807540  -2.677888\n",
       "twenties       78.080717  -0.404711\n",
       "female         87.964039   9.478610\n",
       "black          83.108290   4.622861\n",
       "otherrace      84.353016   5.867587\n",
       "ishisp         77.971727  -0.513701\n",
       "conservative   71.479353  -7.006076\n",
       "liberal        82.591260   4.105831\n",
       "lowrealinc     75.795184  -2.690245\n",
       "highrealinc    79.455948   0.970520\n",
       "college        80.517546   2.032117\n",
       "urban          73.247706  -5.237723\n",
       "rural          67.403498 -11.081931\n",
       "threatened     75.653796  -2.831633\n",
       "gunhome        59.992119 -18.493310\n",
       "yminus10       83.266429   4.781000\n",
       "yminus20       84.989607   6.504178\n",
       "yminus30       84.312362   5.826934\n",
       "yminus40       80.972689   2.487260\n",
       "lowest combo   18.937065 -59.548364\n",
       "highest combo  94.404125  15.918696"
      ]
     },
     "execution_count": 321,
     "metadata": {},
     "output_type": "execute_result"
    }
   ],
   "source": [
    "def make_result(pred):\n",
    "    result = pd.DataFrame()\n",
    "    result['pred'] = pred\n",
    "    result['offset'] = pred - pred['base']\n",
    "    return result\n",
    "\n",
    "result = make_result(pred)\n",
    "result"
   ]
  },
  {
   "cell_type": "markdown",
   "metadata": {},
   "source": [
    "### Iterate"
   ]
  },
  {
   "cell_type": "code",
   "execution_count": 322,
   "metadata": {
    "collapsed": true
   },
   "outputs": [],
   "source": [
    "def run(iters=101):\n",
    "    gss = utils.ReadGss('gss_gun')\n",
    "    replace_invalid(gss)\n",
    "    formula = ('favor ~ y + y2 + nineties + eighties + seventies + fifties + forties + thirties + twenties + '\n",
    "           'female + black + otherrace + ishisp + conservative + liberal + lowrealinc + highrealinc + '\n",
    "           'college + urban + rural + threatened + gunhome')\n",
    "    \n",
    "    results = []\n",
    "    for i in range(iters):\n",
    "        sample = utils.ResampleByYear(gss).copy()\n",
    "        fill_all_missing(sample)\n",
    "        make_booleans(sample)\n",
    "        center_factors(sample)\n",
    "        data = sample.dropna(subset=['gunlaw'])\n",
    "    \n",
    "        model = smf.logit(formula, data=data).fit()\n",
    "\n",
    "        df_pred = make_df_pred()\n",
    "        pred = model.predict(df_pred) * 100\n",
    "        result = make_result(pred)\n",
    "        \n",
    "        results.append(result)\n",
    "    return results"
   ]
  },
  {
   "cell_type": "code",
   "execution_count": 323,
   "metadata": {},
   "outputs": [
    {
     "name": "stdout",
     "output_type": "stream",
     "text": [
      "year 0\n",
      "cohort 186\n",
      "owngun 24761\n",
      "gun 43165\n",
      "natcrime 28093\n",
      "income 8539\n",
      "realinc 6898\n",
      "educ 164\n",
      "polviews 9302\n",
      "sex 0\n",
      "race 0\n",
      "hispanic 38154\n",
      "srcbelt 0\n",
      "age 184\n",
      "Optimization terminated successfully.\n",
      "         Current function value: 0.501896\n",
      "         Iterations 6\n",
      "year 0\n",
      "cohort 193\n",
      "owngun 24793\n",
      "gun 43194\n",
      "natcrime 28013\n",
      "income 8499\n",
      "realinc 6877\n",
      "educ 184\n",
      "polviews 9322\n",
      "sex 0\n",
      "race 0\n",
      "hispanic 38154\n",
      "srcbelt 0\n",
      "age 193\n",
      "Optimization terminated successfully.\n",
      "         Current function value: 0.499718\n",
      "         Iterations 6\n",
      "year 0\n",
      "cohort 165\n",
      "owngun 24880\n",
      "gun 43154\n",
      "natcrime 27921\n",
      "income 8589\n",
      "realinc 6940\n",
      "educ 175\n",
      "polviews 9305\n",
      "sex 0\n",
      "race 0\n",
      "hispanic 38147\n",
      "srcbelt 0\n",
      "age 166\n",
      "Optimization terminated successfully.\n",
      "         Current function value: 0.505204\n",
      "         Iterations 6\n",
      "year 0\n",
      "cohort 176\n",
      "owngun 24796\n",
      "gun 43186\n",
      "natcrime 27858\n",
      "income 8391\n",
      "realinc 6773\n",
      "educ 135\n",
      "polviews 9322\n",
      "sex 0\n",
      "race 0\n",
      "hispanic 38147\n",
      "srcbelt 0\n",
      "age 176\n",
      "Optimization terminated successfully.\n",
      "         Current function value: 0.508381\n",
      "         Iterations 6\n",
      "year 0\n",
      "cohort 185\n",
      "owngun 24729\n",
      "gun 43136\n",
      "natcrime 27933\n",
      "income 8477\n",
      "realinc 6826\n",
      "educ 159\n",
      "polviews 9219\n",
      "sex 0\n",
      "race 0\n",
      "hispanic 38150\n",
      "srcbelt 0\n",
      "age 185\n",
      "Optimization terminated successfully.\n",
      "         Current function value: 0.505074\n",
      "         Iterations 6\n",
      "year 0\n",
      "cohort 195\n",
      "owngun 24916\n",
      "gun 43193\n",
      "natcrime 27962\n",
      "income 8464\n",
      "realinc 6835\n",
      "educ 157\n",
      "polviews 9458\n",
      "sex 0\n",
      "race 0\n",
      "hispanic 38155\n",
      "srcbelt 0\n",
      "age 194\n",
      "Optimization terminated successfully.\n",
      "         Current function value: 0.504069\n",
      "         Iterations 6\n",
      "year 0\n",
      "cohort 205\n",
      "owngun 24809\n",
      "gun 43224\n",
      "natcrime 28112\n",
      "income 8461\n",
      "realinc 6815\n",
      "educ 173\n",
      "polviews 9265\n",
      "sex 0\n",
      "race 0\n",
      "hispanic 38150\n",
      "srcbelt 0\n",
      "age 207\n",
      "Optimization terminated successfully.\n",
      "         Current function value: 0.506061\n",
      "         Iterations 6\n",
      "year 0\n",
      "cohort 178\n",
      "owngun 25066\n",
      "gun 43171\n",
      "natcrime 28101\n",
      "income 8477\n",
      "realinc 6840\n",
      "educ 163\n",
      "polviews 9301\n",
      "sex 0\n",
      "race 0\n",
      "hispanic 38157\n",
      "srcbelt 0\n",
      "age 177\n",
      "Optimization terminated successfully.\n",
      "         Current function value: 0.506357\n",
      "         Iterations 6\n",
      "year 0\n",
      "cohort 197\n",
      "owngun 24929\n",
      "gun 43112\n",
      "natcrime 27914\n",
      "income 8441\n",
      "realinc 6782\n",
      "educ 136\n",
      "polviews 9263\n",
      "sex 0\n",
      "race 0\n",
      "hispanic 38150\n",
      "srcbelt 0\n",
      "age 198\n",
      "Optimization terminated successfully.\n",
      "         Current function value: 0.507301\n",
      "         Iterations 6\n",
      "year 0\n",
      "cohort 181\n",
      "owngun 24599\n",
      "gun 43053\n",
      "natcrime 28051\n",
      "income 8463\n",
      "realinc 6855\n",
      "educ 159\n",
      "polviews 9259\n",
      "sex 0\n",
      "race 0\n",
      "hispanic 38155\n",
      "srcbelt 0\n",
      "age 182\n",
      "Optimization terminated successfully.\n",
      "         Current function value: 0.505227\n",
      "         Iterations 6\n",
      "year 0\n",
      "cohort 189\n",
      "owngun 24713\n",
      "gun 43264\n",
      "natcrime 28142\n",
      "income 8557\n",
      "realinc 6923\n",
      "educ 150\n",
      "polviews 9251\n",
      "sex 0\n",
      "race 0\n",
      "hispanic 38149\n",
      "srcbelt 0\n",
      "age 189\n",
      "Optimization terminated successfully.\n",
      "         Current function value: 0.499632\n",
      "         Iterations 6\n",
      "year 0\n",
      "cohort 187\n",
      "owngun 24753\n",
      "gun 43159\n",
      "natcrime 27945\n",
      "income 8503\n",
      "realinc 6870\n",
      "educ 164\n",
      "polviews 9193\n",
      "sex 0\n",
      "race 0\n",
      "hispanic 38155\n",
      "srcbelt 0\n",
      "age 187\n",
      "Optimization terminated successfully.\n",
      "         Current function value: 0.502312\n",
      "         Iterations 6\n",
      "year 0\n",
      "cohort 181\n",
      "owngun 24850\n",
      "gun 43213\n",
      "natcrime 28066\n",
      "income 8566\n",
      "realinc 6915\n",
      "educ 170\n",
      "polviews 9304\n",
      "sex 0\n",
      "race 0\n",
      "hispanic 38156\n",
      "srcbelt 0\n",
      "age 181\n",
      "Optimization terminated successfully.\n",
      "         Current function value: 0.502912\n",
      "         Iterations 6\n",
      "year 0\n",
      "cohort 165\n",
      "owngun 24760\n",
      "gun 43196\n",
      "natcrime 28143\n",
      "income 8512\n",
      "realinc 6851\n",
      "educ 165\n",
      "polviews 9248\n",
      "sex 0\n",
      "race 0\n",
      "hispanic 38156\n",
      "srcbelt 0\n",
      "age 166\n",
      "Optimization terminated successfully.\n",
      "         Current function value: 0.502318\n",
      "         Iterations 6\n",
      "year 0\n",
      "cohort 194\n",
      "owngun 24910\n",
      "gun 43205\n",
      "natcrime 28040\n",
      "income 8572\n",
      "realinc 6926\n",
      "educ 135\n",
      "polviews 9226\n",
      "sex 0\n",
      "race 0\n",
      "hispanic 38152\n",
      "srcbelt 0\n",
      "age 194\n",
      "Optimization terminated successfully.\n",
      "         Current function value: 0.505096\n",
      "         Iterations 6\n",
      "year 0\n",
      "cohort 165\n",
      "owngun 24794\n",
      "gun 43153\n",
      "natcrime 28036\n",
      "income 8395\n",
      "realinc 6753\n",
      "educ 168\n",
      "polviews 9312\n",
      "sex 0\n",
      "race 0\n",
      "hispanic 38153\n",
      "srcbelt 0\n",
      "age 166\n",
      "Optimization terminated successfully.\n",
      "         Current function value: 0.506313\n",
      "         Iterations 6\n",
      "year 0\n",
      "cohort 203\n",
      "owngun 24962\n",
      "gun 43155\n",
      "natcrime 28171\n",
      "income 8531\n",
      "realinc 6876\n",
      "educ 158\n",
      "polviews 9265\n",
      "sex 0\n",
      "race 0\n",
      "hispanic 38149\n",
      "srcbelt 0\n",
      "age 204\n",
      "Optimization terminated successfully.\n",
      "         Current function value: 0.509069\n",
      "         Iterations 6\n",
      "year 0\n",
      "cohort 194\n",
      "owngun 24870\n",
      "gun 43072\n",
      "natcrime 28095\n",
      "income 8497\n",
      "realinc 6866\n",
      "educ 186\n",
      "polviews 9304\n",
      "sex 0\n",
      "race 0\n",
      "hispanic 38146\n",
      "srcbelt 0\n",
      "age 194\n",
      "Optimization terminated successfully.\n",
      "         Current function value: 0.500124\n",
      "         Iterations 6\n",
      "year 0\n",
      "cohort 186\n",
      "owngun 24839\n",
      "gun 43183\n",
      "natcrime 28114\n",
      "income 8454\n",
      "realinc 6784\n",
      "educ 163\n",
      "polviews 9289\n",
      "sex 0\n",
      "race 0\n",
      "hispanic 38154\n",
      "srcbelt 0\n",
      "age 186\n",
      "Optimization terminated successfully.\n",
      "         Current function value: 0.504971\n",
      "         Iterations 6\n",
      "year 0\n",
      "cohort 168\n",
      "owngun 24799\n",
      "gun 43163\n",
      "natcrime 27905\n",
      "income 8551\n",
      "realinc 6876\n",
      "educ 152\n",
      "polviews 9385\n",
      "sex 0\n",
      "race 0\n",
      "hispanic 38143\n",
      "srcbelt 0\n",
      "age 168\n",
      "Optimization terminated successfully.\n",
      "         Current function value: 0.501662\n",
      "         Iterations 6\n",
      "year 0\n",
      "cohort 186\n",
      "owngun 24789\n",
      "gun 43207\n",
      "natcrime 27970\n",
      "income 8355\n",
      "realinc 6712\n",
      "educ 165\n",
      "polviews 9266\n",
      "sex 0\n",
      "race 0\n",
      "hispanic 38142\n",
      "srcbelt 0\n",
      "age 186\n",
      "Optimization terminated successfully.\n",
      "         Current function value: 0.500129\n",
      "         Iterations 6\n",
      "year 0\n",
      "cohort 173\n",
      "owngun 24846\n",
      "gun 43194\n",
      "natcrime 28219\n",
      "income 8394\n",
      "realinc 6742\n",
      "educ 158\n",
      "polviews 9318\n",
      "sex 0\n",
      "race 0\n",
      "hispanic 38152\n",
      "srcbelt 0\n",
      "age 173\n",
      "Optimization terminated successfully.\n",
      "         Current function value: 0.508908\n",
      "         Iterations 6\n",
      "year 0\n",
      "cohort 154\n",
      "owngun 24729\n",
      "gun 43095\n",
      "natcrime 27923\n",
      "income 8535\n",
      "realinc 6869\n",
      "educ 164\n",
      "polviews 9419\n",
      "sex 0\n",
      "race 0\n",
      "hispanic 38147\n",
      "srcbelt 0\n",
      "age 156\n",
      "Optimization terminated successfully.\n",
      "         Current function value: 0.503489\n",
      "         Iterations 6\n",
      "year 0\n",
      "cohort 164\n",
      "owngun 24943\n",
      "gun 43074\n",
      "natcrime 27954\n",
      "income 8488\n",
      "realinc 6816\n",
      "educ 163\n",
      "polviews 9437\n",
      "sex 0\n",
      "race 0\n",
      "hispanic 38150\n",
      "srcbelt 0\n",
      "age 164\n",
      "Optimization terminated successfully.\n",
      "         Current function value: 0.504631\n",
      "         Iterations 6\n",
      "year 0\n",
      "cohort 177\n",
      "owngun 24770\n",
      "gun 43185\n",
      "natcrime 28075\n",
      "income 8519\n",
      "realinc 6875\n",
      "educ 168\n",
      "polviews 9343\n",
      "sex 0\n",
      "race 0\n",
      "hispanic 38150\n",
      "srcbelt 0\n",
      "age 177\n",
      "Optimization terminated successfully.\n",
      "         Current function value: 0.500784\n",
      "         Iterations 6\n",
      "year 0\n",
      "cohort 187\n",
      "owngun 24567\n",
      "gun 43110\n",
      "natcrime 27907\n",
      "income 8490\n",
      "realinc 6845\n",
      "educ 173\n",
      "polviews 9413\n",
      "sex 0\n",
      "race 0\n",
      "hispanic 38140\n",
      "srcbelt 0\n",
      "age 188\n",
      "Optimization terminated successfully.\n",
      "         Current function value: 0.499990\n",
      "         Iterations 6\n",
      "year 0\n",
      "cohort 178\n",
      "owngun 24915\n",
      "gun 43145\n",
      "natcrime 28008\n",
      "income 8571\n",
      "realinc 6947\n",
      "educ 168\n",
      "polviews 9306\n",
      "sex 0\n",
      "race 0\n",
      "hispanic 38153\n",
      "srcbelt 0\n",
      "age 179\n",
      "Optimization terminated successfully.\n",
      "         Current function value: 0.502130\n",
      "         Iterations 6\n",
      "year 0\n",
      "cohort 180\n",
      "owngun 24765\n",
      "gun 43170\n",
      "natcrime 28036\n",
      "income 8403\n",
      "realinc 6729\n",
      "educ 144\n",
      "polviews 9357\n",
      "sex 0\n",
      "race 0\n",
      "hispanic 38148\n",
      "srcbelt 0\n",
      "age 180\n",
      "Optimization terminated successfully.\n",
      "         Current function value: 0.505968\n",
      "         Iterations 6\n",
      "year 0\n",
      "cohort 196\n",
      "owngun 24868\n",
      "gun 43184\n",
      "natcrime 28004\n",
      "income 8712\n",
      "realinc 7074\n",
      "educ 170\n",
      "polviews 9430\n",
      "sex 0\n",
      "race 0\n",
      "hispanic 38155\n",
      "srcbelt 0\n",
      "age 195\n",
      "Optimization terminated successfully.\n",
      "         Current function value: 0.504431\n",
      "         Iterations 6\n",
      "year 0\n",
      "cohort 197\n",
      "owngun 24743\n",
      "gun 43236\n",
      "natcrime 27988\n",
      "income 8476\n",
      "realinc 6816\n",
      "educ 157\n",
      "polviews 9318\n",
      "sex 0\n",
      "race 0\n",
      "hispanic 38150\n",
      "srcbelt 0\n",
      "age 199\n",
      "Optimization terminated successfully.\n",
      "         Current function value: 0.505614\n",
      "         Iterations 6\n",
      "year 0\n",
      "cohort 173\n",
      "owngun 24778\n",
      "gun 43192\n",
      "natcrime 27776\n",
      "income 8477\n",
      "realinc 6848\n",
      "educ 167\n",
      "polviews 9289\n",
      "sex 0\n",
      "race 0\n",
      "hispanic 38147\n",
      "srcbelt 0\n",
      "age 174\n",
      "Optimization terminated successfully.\n",
      "         Current function value: 0.504202\n",
      "         Iterations 6\n",
      "year 0\n",
      "cohort 160\n",
      "owngun 24610\n",
      "gun 43081\n",
      "natcrime 28014\n",
      "income 8578\n",
      "realinc 6917\n",
      "educ 168\n",
      "polviews 9227\n",
      "sex 0\n",
      "race 0\n",
      "hispanic 38145\n",
      "srcbelt 0\n",
      "age 162\n",
      "Optimization terminated successfully.\n",
      "         Current function value: 0.506614\n",
      "         Iterations 6\n",
      "year 0\n",
      "cohort 185\n",
      "owngun 24898\n",
      "gun 43083\n",
      "natcrime 27795\n",
      "income 8470\n",
      "realinc 6816\n",
      "educ 169\n",
      "polviews 9377\n",
      "sex 0\n",
      "race 0\n",
      "hispanic 38143\n",
      "srcbelt 0\n",
      "age 184\n"
     ]
    },
    {
     "name": "stdout",
     "output_type": "stream",
     "text": [
      "Optimization terminated successfully.\n",
      "         Current function value: 0.503740\n",
      "         Iterations 6\n",
      "year 0\n",
      "cohort 181\n",
      "owngun 24949\n",
      "gun 43139\n",
      "natcrime 28234\n",
      "income 8561\n",
      "realinc 6935\n",
      "educ 173\n",
      "polviews 9444\n",
      "sex 0\n",
      "race 0\n",
      "hispanic 38150\n",
      "srcbelt 0\n",
      "age 183\n",
      "Optimization terminated successfully.\n",
      "         Current function value: 0.500117\n",
      "         Iterations 6\n",
      "year 0\n",
      "cohort 189\n",
      "owngun 24892\n",
      "gun 43158\n",
      "natcrime 27731\n",
      "income 8594\n",
      "realinc 6913\n",
      "educ 155\n",
      "polviews 9351\n",
      "sex 0\n",
      "race 0\n",
      "hispanic 38159\n",
      "srcbelt 0\n",
      "age 189\n",
      "Optimization terminated successfully.\n",
      "         Current function value: 0.507933\n",
      "         Iterations 6\n",
      "year 0\n",
      "cohort 186\n",
      "owngun 24776\n",
      "gun 43144\n",
      "natcrime 27910\n",
      "income 8454\n",
      "realinc 6817\n",
      "educ 169\n",
      "polviews 9292\n",
      "sex 0\n",
      "race 0\n",
      "hispanic 38153\n",
      "srcbelt 0\n",
      "age 185\n",
      "Optimization terminated successfully.\n",
      "         Current function value: 0.503465\n",
      "         Iterations 6\n",
      "year 0\n",
      "cohort 172\n",
      "owngun 24753\n",
      "gun 43171\n",
      "natcrime 27907\n",
      "income 8585\n",
      "realinc 6961\n",
      "educ 173\n",
      "polviews 9278\n",
      "sex 0\n",
      "race 0\n",
      "hispanic 38157\n",
      "srcbelt 0\n",
      "age 171\n",
      "Optimization terminated successfully.\n",
      "         Current function value: 0.501313\n",
      "         Iterations 6\n",
      "year 0\n",
      "cohort 169\n",
      "owngun 24814\n",
      "gun 43162\n",
      "natcrime 27981\n",
      "income 8456\n",
      "realinc 6817\n",
      "educ 164\n",
      "polviews 9268\n",
      "sex 0\n",
      "race 0\n",
      "hispanic 38160\n",
      "srcbelt 0\n",
      "age 171\n",
      "Optimization terminated successfully.\n",
      "         Current function value: 0.510815\n",
      "         Iterations 6\n",
      "year 0\n",
      "cohort 177\n",
      "owngun 24822\n",
      "gun 43241\n",
      "natcrime 27974\n",
      "income 8477\n",
      "realinc 6888\n",
      "educ 171\n",
      "polviews 9402\n",
      "sex 0\n",
      "race 0\n",
      "hispanic 38154\n",
      "srcbelt 0\n",
      "age 177\n",
      "Optimization terminated successfully.\n",
      "         Current function value: 0.509934\n",
      "         Iterations 6\n",
      "year 0\n",
      "cohort 198\n",
      "owngun 24673\n",
      "gun 43146\n",
      "natcrime 27909\n",
      "income 8521\n",
      "realinc 6877\n",
      "educ 155\n",
      "polviews 9201\n",
      "sex 0\n",
      "race 0\n",
      "hispanic 38161\n",
      "srcbelt 0\n",
      "age 199\n",
      "Optimization terminated successfully.\n",
      "         Current function value: 0.507341\n",
      "         Iterations 6\n",
      "year 0\n",
      "cohort 187\n",
      "owngun 24665\n",
      "gun 43215\n",
      "natcrime 28279\n",
      "income 8461\n",
      "realinc 6817\n",
      "educ 171\n",
      "polviews 9163\n",
      "sex 0\n",
      "race 0\n",
      "hispanic 38154\n",
      "srcbelt 0\n",
      "age 186\n",
      "Optimization terminated successfully.\n",
      "         Current function value: 0.508492\n",
      "         Iterations 6\n",
      "year 0\n",
      "cohort 187\n",
      "owngun 24785\n",
      "gun 43144\n",
      "natcrime 27919\n",
      "income 8446\n",
      "realinc 6820\n",
      "educ 165\n",
      "polviews 9180\n",
      "sex 0\n",
      "race 0\n",
      "hispanic 38144\n",
      "srcbelt 0\n",
      "age 186\n",
      "Optimization terminated successfully.\n",
      "         Current function value: 0.504512\n",
      "         Iterations 6\n",
      "year 0\n",
      "cohort 202\n",
      "owngun 24843\n",
      "gun 43095\n",
      "natcrime 28048\n",
      "income 8549\n",
      "realinc 6919\n",
      "educ 158\n",
      "polviews 9345\n",
      "sex 0\n",
      "race 0\n",
      "hispanic 38152\n",
      "srcbelt 0\n",
      "age 202\n",
      "Optimization terminated successfully.\n",
      "         Current function value: 0.507209\n",
      "         Iterations 6\n",
      "year 0\n",
      "cohort 194\n",
      "owngun 24853\n",
      "gun 43162\n",
      "natcrime 27844\n",
      "income 8586\n",
      "realinc 6963\n",
      "educ 182\n",
      "polviews 9358\n",
      "sex 0\n",
      "race 0\n",
      "hispanic 38156\n",
      "srcbelt 0\n",
      "age 194\n",
      "Optimization terminated successfully.\n",
      "         Current function value: 0.503715\n",
      "         Iterations 6\n",
      "year 0\n",
      "cohort 203\n",
      "owngun 24990\n",
      "gun 43130\n",
      "natcrime 28066\n",
      "income 8420\n",
      "realinc 6770\n",
      "educ 152\n",
      "polviews 9285\n",
      "sex 0\n",
      "race 0\n",
      "hispanic 38145\n",
      "srcbelt 0\n",
      "age 204\n",
      "Optimization terminated successfully.\n",
      "         Current function value: 0.506668\n",
      "         Iterations 6\n",
      "year 0\n",
      "cohort 168\n",
      "owngun 24749\n",
      "gun 43226\n",
      "natcrime 27800\n",
      "income 8541\n",
      "realinc 6907\n",
      "educ 152\n",
      "polviews 9419\n",
      "sex 0\n",
      "race 0\n",
      "hispanic 38159\n",
      "srcbelt 0\n",
      "age 168\n",
      "Optimization terminated successfully.\n",
      "         Current function value: 0.505594\n",
      "         Iterations 6\n",
      "year 0\n",
      "cohort 178\n",
      "owngun 24826\n",
      "gun 43243\n",
      "natcrime 27936\n",
      "income 8501\n",
      "realinc 6818\n",
      "educ 158\n",
      "polviews 9229\n",
      "sex 0\n",
      "race 0\n",
      "hispanic 38146\n",
      "srcbelt 0\n",
      "age 179\n",
      "Optimization terminated successfully.\n",
      "         Current function value: 0.510096\n",
      "         Iterations 6\n",
      "year 0\n",
      "cohort 175\n",
      "owngun 24964\n",
      "gun 43193\n",
      "natcrime 28149\n",
      "income 8481\n",
      "realinc 6834\n",
      "educ 166\n",
      "polviews 9284\n",
      "sex 0\n",
      "race 0\n",
      "hispanic 38170\n",
      "srcbelt 0\n",
      "age 174\n",
      "Optimization terminated successfully.\n",
      "         Current function value: 0.503817\n",
      "         Iterations 6\n",
      "year 0\n",
      "cohort 186\n",
      "owngun 24764\n",
      "gun 43137\n",
      "natcrime 27831\n",
      "income 8699\n",
      "realinc 7041\n",
      "educ 174\n",
      "polviews 9398\n",
      "sex 0\n",
      "race 0\n",
      "hispanic 38149\n",
      "srcbelt 0\n",
      "age 186\n",
      "Optimization terminated successfully.\n",
      "         Current function value: 0.508037\n",
      "         Iterations 6\n",
      "year 0\n",
      "cohort 168\n",
      "owngun 24928\n",
      "gun 43155\n",
      "natcrime 27755\n",
      "income 8447\n",
      "realinc 6825\n",
      "educ 164\n",
      "polviews 9286\n",
      "sex 0\n",
      "race 0\n",
      "hispanic 38151\n",
      "srcbelt 0\n",
      "age 169\n",
      "Optimization terminated successfully.\n",
      "         Current function value: 0.504451\n",
      "         Iterations 6\n",
      "year 0\n",
      "cohort 186\n",
      "owngun 24777\n",
      "gun 43143\n",
      "natcrime 27952\n",
      "income 8284\n",
      "realinc 6647\n",
      "educ 153\n",
      "polviews 9259\n",
      "sex 0\n",
      "race 0\n",
      "hispanic 38145\n",
      "srcbelt 0\n",
      "age 186\n",
      "Optimization terminated successfully.\n",
      "         Current function value: 0.506326\n",
      "         Iterations 6\n",
      "year 0\n",
      "cohort 198\n",
      "owngun 24744\n",
      "gun 43171\n",
      "natcrime 27953\n",
      "income 8493\n",
      "realinc 6878\n",
      "educ 153\n",
      "polviews 9310\n",
      "sex 0\n",
      "race 0\n",
      "hispanic 38147\n",
      "srcbelt 0\n",
      "age 196\n",
      "Optimization terminated successfully.\n",
      "         Current function value: 0.503362\n",
      "         Iterations 6\n",
      "year 0\n",
      "cohort 193\n",
      "owngun 24839\n",
      "gun 43180\n",
      "natcrime 27890\n",
      "income 8523\n",
      "realinc 6877\n",
      "educ 149\n",
      "polviews 9262\n",
      "sex 0\n",
      "race 0\n",
      "hispanic 38145\n",
      "srcbelt 0\n",
      "age 190\n",
      "Optimization terminated successfully.\n",
      "         Current function value: 0.504869\n",
      "         Iterations 6\n",
      "year 0\n",
      "cohort 206\n",
      "owngun 24799\n",
      "gun 43170\n",
      "natcrime 28209\n",
      "income 8413\n",
      "realinc 6760\n",
      "educ 141\n",
      "polviews 9265\n",
      "sex 0\n",
      "race 0\n",
      "hispanic 38146\n",
      "srcbelt 0\n",
      "age 205\n",
      "Optimization terminated successfully.\n",
      "         Current function value: 0.504173\n",
      "         Iterations 6\n",
      "year 0\n",
      "cohort 185\n",
      "owngun 24795\n",
      "gun 43103\n",
      "natcrime 27844\n",
      "income 8434\n",
      "realinc 6760\n",
      "educ 170\n",
      "polviews 9269\n",
      "sex 0\n",
      "race 0\n",
      "hispanic 38158\n",
      "srcbelt 0\n",
      "age 186\n",
      "Optimization terminated successfully.\n",
      "         Current function value: 0.506777\n",
      "         Iterations 6\n",
      "year 0\n",
      "cohort 211\n",
      "owngun 24767\n",
      "gun 43188\n",
      "natcrime 27751\n",
      "income 8371\n",
      "realinc 6753\n",
      "educ 146\n",
      "polviews 9393\n",
      "sex 0\n",
      "race 0\n",
      "hispanic 38148\n",
      "srcbelt 0\n",
      "age 209\n",
      "Optimization terminated successfully.\n",
      "         Current function value: 0.506933\n",
      "         Iterations 6\n",
      "year 0\n",
      "cohort 186\n",
      "owngun 24771\n",
      "gun 43184\n",
      "natcrime 28046\n",
      "income 8419\n",
      "realinc 6781\n",
      "educ 151\n",
      "polviews 9257\n",
      "sex 0\n",
      "race 0\n",
      "hispanic 38138\n",
      "srcbelt 0\n",
      "age 187\n",
      "Optimization terminated successfully.\n",
      "         Current function value: 0.507387\n",
      "         Iterations 6\n",
      "year 0\n",
      "cohort 193\n",
      "owngun 24925\n",
      "gun 43208\n",
      "natcrime 27826\n",
      "income 8571\n",
      "realinc 6915\n",
      "educ 167\n",
      "polviews 9295\n",
      "sex 0\n",
      "race 0\n",
      "hispanic 38153\n",
      "srcbelt 0\n",
      "age 193\n",
      "Optimization terminated successfully.\n",
      "         Current function value: 0.509970\n",
      "         Iterations 6\n",
      "year 0\n",
      "cohort 161\n",
      "owngun 24928\n",
      "gun 43172\n",
      "natcrime 27782\n",
      "income 8427\n",
      "realinc 6801\n",
      "educ 176\n",
      "polviews 9364\n",
      "sex 0\n",
      "race 0\n",
      "hispanic 38149\n",
      "srcbelt 0\n",
      "age 163\n",
      "Optimization terminated successfully.\n",
      "         Current function value: 0.506299\n",
      "         Iterations 6\n",
      "year 0\n",
      "cohort 227\n",
      "owngun 24809\n",
      "gun 43084\n",
      "natcrime 28074\n",
      "income 8486\n",
      "realinc 6850\n",
      "educ 179\n",
      "polviews 9397\n",
      "sex 0\n",
      "race 0\n",
      "hispanic 38143\n",
      "srcbelt 0\n",
      "age 227\n",
      "Optimization terminated successfully.\n",
      "         Current function value: 0.502502\n",
      "         Iterations 6\n",
      "year 0\n",
      "cohort 181\n",
      "owngun 24798\n",
      "gun 43105\n",
      "natcrime 27894\n",
      "income 8389\n",
      "realinc 6764\n",
      "educ 176\n",
      "polviews 9339\n",
      "sex 0\n",
      "race 0\n",
      "hispanic 38144\n",
      "srcbelt 0\n",
      "age 182\n",
      "Optimization terminated successfully.\n",
      "         Current function value: 0.506563\n",
      "         Iterations 6\n",
      "year 0\n",
      "cohort 167\n",
      "owngun 24800\n",
      "gun 43165\n",
      "natcrime 27901\n",
      "income 8483\n",
      "realinc 6856\n",
      "educ 150\n",
      "polviews 9374\n",
      "sex 0\n",
      "race 0\n",
      "hispanic 38149\n",
      "srcbelt 0\n",
      "age 166\n",
      "Optimization terminated successfully.\n",
      "         Current function value: 0.503155\n",
      "         Iterations 6\n",
      "year 0\n",
      "cohort 197\n",
      "owngun 24893\n",
      "gun 43246\n",
      "natcrime 27927\n",
      "income 8425\n",
      "realinc 6777\n",
      "educ 149\n",
      "polviews 9304\n",
      "sex 0\n",
      "race 0\n",
      "hispanic 38154\n",
      "srcbelt 0\n",
      "age 197\n",
      "Optimization terminated successfully.\n",
      "         Current function value: 0.510662\n",
      "         Iterations 6\n",
      "year 0\n",
      "cohort 198\n",
      "owngun 24693\n",
      "gun 43183\n",
      "natcrime 28095\n",
      "income 8545\n",
      "realinc 6888\n",
      "educ 154\n",
      "polviews 9176\n",
      "sex 0\n",
      "race 0\n",
      "hispanic 38152\n",
      "srcbelt 0\n",
      "age 197\n",
      "Optimization terminated successfully.\n",
      "         Current function value: 0.502795\n",
      "         Iterations 6\n",
      "year 0\n",
      "cohort 187\n",
      "owngun 24789\n",
      "gun 43176\n",
      "natcrime 28105\n",
      "income 8452\n",
      "realinc 6810\n",
      "educ 149\n",
      "polviews 9297\n",
      "sex 0\n",
      "race 0\n",
      "hispanic 38153\n",
      "srcbelt 0\n",
      "age 188\n",
      "Optimization terminated successfully.\n",
      "         Current function value: 0.504002\n",
      "         Iterations 6\n",
      "year 0\n",
      "cohort 181\n",
      "owngun 24715\n",
      "gun 43140\n",
      "natcrime 27780\n",
      "income 8515\n",
      "realinc 6866\n",
      "educ 165\n",
      "polviews 9268\n",
      "sex 0\n",
      "race 0\n",
      "hispanic 38153\n",
      "srcbelt 0\n",
      "age 181\n"
     ]
    },
    {
     "name": "stdout",
     "output_type": "stream",
     "text": [
      "Optimization terminated successfully.\n",
      "         Current function value: 0.504043\n",
      "         Iterations 6\n",
      "year 0\n",
      "cohort 196\n",
      "owngun 24806\n",
      "gun 43112\n",
      "natcrime 27989\n",
      "income 8466\n",
      "realinc 6810\n",
      "educ 156\n",
      "polviews 9456\n",
      "sex 0\n",
      "race 0\n",
      "hispanic 38156\n",
      "srcbelt 0\n",
      "age 197\n",
      "Optimization terminated successfully.\n",
      "         Current function value: 0.504063\n",
      "         Iterations 6\n",
      "year 0\n",
      "cohort 180\n",
      "owngun 24933\n",
      "gun 43218\n",
      "natcrime 28102\n",
      "income 8525\n",
      "realinc 6890\n",
      "educ 151\n",
      "polviews 9294\n",
      "sex 0\n",
      "race 0\n",
      "hispanic 38151\n",
      "srcbelt 0\n",
      "age 180\n",
      "Optimization terminated successfully.\n",
      "         Current function value: 0.504146\n",
      "         Iterations 6\n",
      "year 0\n",
      "cohort 191\n",
      "owngun 24776\n",
      "gun 43114\n",
      "natcrime 27905\n",
      "income 8417\n",
      "realinc 6750\n",
      "educ 152\n",
      "polviews 9299\n",
      "sex 0\n",
      "race 0\n",
      "hispanic 38151\n",
      "srcbelt 0\n",
      "age 191\n",
      "Optimization terminated successfully.\n",
      "         Current function value: 0.502415\n",
      "         Iterations 6\n",
      "year 0\n",
      "cohort 185\n",
      "owngun 24796\n",
      "gun 43207\n",
      "natcrime 28069\n",
      "income 8417\n",
      "realinc 6756\n",
      "educ 177\n",
      "polviews 9277\n",
      "sex 0\n",
      "race 0\n",
      "hispanic 38145\n",
      "srcbelt 0\n",
      "age 186\n",
      "Optimization terminated successfully.\n",
      "         Current function value: 0.507717\n",
      "         Iterations 6\n",
      "year 0\n",
      "cohort 188\n",
      "owngun 24818\n",
      "gun 43131\n",
      "natcrime 27901\n",
      "income 8422\n",
      "realinc 6811\n",
      "educ 134\n",
      "polviews 9388\n",
      "sex 0\n",
      "race 0\n",
      "hispanic 38149\n",
      "srcbelt 0\n",
      "age 188\n",
      "Optimization terminated successfully.\n",
      "         Current function value: 0.501384\n",
      "         Iterations 6\n",
      "year 0\n",
      "cohort 186\n",
      "owngun 24773\n",
      "gun 43147\n",
      "natcrime 27965\n",
      "income 8409\n",
      "realinc 6730\n",
      "educ 158\n",
      "polviews 9278\n",
      "sex 0\n",
      "race 0\n",
      "hispanic 38149\n",
      "srcbelt 0\n",
      "age 187\n",
      "Optimization terminated successfully.\n",
      "         Current function value: 0.506237\n",
      "         Iterations 6\n",
      "year 0\n",
      "cohort 174\n",
      "owngun 24881\n",
      "gun 43124\n",
      "natcrime 28134\n",
      "income 8474\n",
      "realinc 6847\n",
      "educ 163\n",
      "polviews 9279\n",
      "sex 0\n",
      "race 0\n",
      "hispanic 38146\n",
      "srcbelt 0\n",
      "age 175\n",
      "Optimization terminated successfully.\n",
      "         Current function value: 0.504861\n",
      "         Iterations 6\n",
      "year 0\n",
      "cohort 196\n",
      "owngun 24819\n",
      "gun 43120\n",
      "natcrime 27884\n",
      "income 8355\n",
      "realinc 6733\n",
      "educ 177\n",
      "polviews 9297\n",
      "sex 0\n",
      "race 0\n",
      "hispanic 38151\n",
      "srcbelt 0\n",
      "age 197\n",
      "Optimization terminated successfully.\n",
      "         Current function value: 0.502945\n",
      "         Iterations 6\n",
      "year 0\n",
      "cohort 200\n",
      "owngun 24724\n",
      "gun 43141\n",
      "natcrime 27960\n",
      "income 8489\n",
      "realinc 6857\n",
      "educ 172\n",
      "polviews 9309\n",
      "sex 0\n",
      "race 0\n",
      "hispanic 38145\n",
      "srcbelt 0\n",
      "age 198\n",
      "Optimization terminated successfully.\n",
      "         Current function value: 0.504964\n",
      "         Iterations 6\n",
      "year 0\n",
      "cohort 187\n",
      "owngun 24747\n",
      "gun 43199\n",
      "natcrime 27801\n",
      "income 8534\n",
      "realinc 6900\n",
      "educ 155\n",
      "polviews 9407\n",
      "sex 0\n",
      "race 0\n",
      "hispanic 38140\n",
      "srcbelt 0\n",
      "age 190\n",
      "Optimization terminated successfully.\n",
      "         Current function value: 0.505282\n",
      "         Iterations 6\n",
      "year 0\n",
      "cohort 166\n",
      "owngun 24681\n",
      "gun 43129\n",
      "natcrime 27952\n",
      "income 8584\n",
      "realinc 6964\n",
      "educ 147\n",
      "polviews 9311\n",
      "sex 0\n",
      "race 0\n",
      "hispanic 38138\n",
      "srcbelt 0\n",
      "age 168\n",
      "Optimization terminated successfully.\n",
      "         Current function value: 0.505752\n",
      "         Iterations 6\n",
      "year 0\n",
      "cohort 205\n",
      "owngun 24969\n",
      "gun 43111\n",
      "natcrime 27955\n",
      "income 8340\n",
      "realinc 6719\n",
      "educ 158\n",
      "polviews 9303\n",
      "sex 0\n",
      "race 0\n",
      "hispanic 38154\n",
      "srcbelt 0\n",
      "age 205\n",
      "Optimization terminated successfully.\n",
      "         Current function value: 0.501806\n",
      "         Iterations 6\n",
      "year 0\n",
      "cohort 210\n",
      "owngun 24816\n",
      "gun 43117\n",
      "natcrime 28052\n",
      "income 8444\n",
      "realinc 6801\n",
      "educ 169\n",
      "polviews 9299\n",
      "sex 0\n",
      "race 0\n",
      "hispanic 38150\n",
      "srcbelt 0\n",
      "age 211\n",
      "Optimization terminated successfully.\n",
      "         Current function value: 0.505030\n",
      "         Iterations 6\n",
      "year 0\n",
      "cohort 212\n",
      "owngun 24970\n",
      "gun 43099\n",
      "natcrime 27832\n",
      "income 8486\n",
      "realinc 6851\n",
      "educ 163\n",
      "polviews 9452\n",
      "sex 0\n",
      "race 0\n",
      "hispanic 38153\n",
      "srcbelt 0\n",
      "age 211\n",
      "Optimization terminated successfully.\n",
      "         Current function value: 0.503079\n",
      "         Iterations 6\n",
      "year 0\n",
      "cohort 214\n",
      "owngun 24954\n",
      "gun 43132\n",
      "natcrime 27699\n",
      "income 8669\n",
      "realinc 7013\n",
      "educ 180\n",
      "polviews 9273\n",
      "sex 0\n",
      "race 0\n",
      "hispanic 38160\n",
      "srcbelt 0\n",
      "age 216\n",
      "Optimization terminated successfully.\n",
      "         Current function value: 0.512126\n",
      "         Iterations 6\n",
      "year 0\n",
      "cohort 186\n",
      "owngun 24677\n",
      "gun 43196\n",
      "natcrime 27877\n",
      "income 8443\n",
      "realinc 6807\n",
      "educ 163\n",
      "polviews 9157\n",
      "sex 0\n",
      "race 0\n",
      "hispanic 38151\n",
      "srcbelt 0\n",
      "age 184\n",
      "Optimization terminated successfully.\n",
      "         Current function value: 0.505035\n",
      "         Iterations 6\n",
      "year 0\n",
      "cohort 191\n",
      "owngun 24851\n",
      "gun 43187\n",
      "natcrime 27648\n",
      "income 8560\n",
      "realinc 6908\n",
      "educ 146\n",
      "polviews 9197\n",
      "sex 0\n",
      "race 0\n",
      "hispanic 38151\n",
      "srcbelt 0\n",
      "age 192\n",
      "Optimization terminated successfully.\n",
      "         Current function value: 0.497376\n",
      "         Iterations 6\n",
      "year 0\n",
      "cohort 181\n",
      "owngun 24832\n",
      "gun 43134\n",
      "natcrime 27924\n",
      "income 8498\n",
      "realinc 6867\n",
      "educ 182\n",
      "polviews 9318\n",
      "sex 0\n",
      "race 0\n",
      "hispanic 38150\n",
      "srcbelt 0\n",
      "age 177\n",
      "Optimization terminated successfully.\n",
      "         Current function value: 0.503127\n",
      "         Iterations 6\n",
      "year 0\n",
      "cohort 200\n",
      "owngun 24632\n",
      "gun 43099\n",
      "natcrime 28049\n",
      "income 8405\n",
      "realinc 6752\n",
      "educ 194\n",
      "polviews 9317\n",
      "sex 0\n",
      "race 0\n",
      "hispanic 38152\n",
      "srcbelt 0\n",
      "age 200\n",
      "Optimization terminated successfully.\n",
      "         Current function value: 0.502030\n",
      "         Iterations 6\n",
      "year 0\n",
      "cohort 186\n",
      "owngun 24667\n",
      "gun 43112\n",
      "natcrime 27956\n",
      "income 8631\n",
      "realinc 6986\n",
      "educ 172\n",
      "polviews 9250\n",
      "sex 0\n",
      "race 0\n",
      "hispanic 38146\n",
      "srcbelt 0\n",
      "age 187\n",
      "Optimization terminated successfully.\n",
      "         Current function value: 0.502384\n",
      "         Iterations 6\n",
      "year 0\n",
      "cohort 214\n",
      "owngun 24810\n",
      "gun 43119\n",
      "natcrime 27862\n",
      "income 8401\n",
      "realinc 6729\n",
      "educ 168\n",
      "polviews 9254\n",
      "sex 0\n",
      "race 0\n",
      "hispanic 38149\n",
      "srcbelt 0\n",
      "age 213\n",
      "Optimization terminated successfully.\n",
      "         Current function value: 0.501151\n",
      "         Iterations 6\n",
      "year 0\n",
      "cohort 185\n",
      "owngun 24773\n",
      "gun 43199\n",
      "natcrime 28033\n",
      "income 8399\n",
      "realinc 6768\n",
      "educ 163\n",
      "polviews 9276\n",
      "sex 0\n",
      "race 0\n",
      "hispanic 38151\n",
      "srcbelt 0\n",
      "age 185\n",
      "Optimization terminated successfully.\n",
      "         Current function value: 0.512951\n",
      "         Iterations 6\n",
      "year 0\n",
      "cohort 183\n",
      "owngun 24892\n",
      "gun 43176\n",
      "natcrime 27999\n",
      "income 8395\n",
      "realinc 6737\n",
      "educ 139\n",
      "polviews 9274\n",
      "sex 0\n",
      "race 0\n",
      "hispanic 38147\n",
      "srcbelt 0\n",
      "age 183\n",
      "Optimization terminated successfully.\n",
      "         Current function value: 0.504147\n",
      "         Iterations 6\n",
      "year 0\n",
      "cohort 184\n",
      "owngun 24756\n",
      "gun 43186\n",
      "natcrime 27965\n",
      "income 8431\n",
      "realinc 6792\n",
      "educ 164\n",
      "polviews 9255\n",
      "sex 0\n",
      "race 0\n",
      "hispanic 38167\n",
      "srcbelt 0\n",
      "age 186\n",
      "Optimization terminated successfully.\n",
      "         Current function value: 0.504845\n",
      "         Iterations 6\n",
      "year 0\n",
      "cohort 199\n",
      "owngun 24850\n",
      "gun 43135\n",
      "natcrime 27943\n",
      "income 8475\n",
      "realinc 6827\n",
      "educ 158\n",
      "polviews 9348\n",
      "sex 0\n",
      "race 0\n",
      "hispanic 38151\n",
      "srcbelt 0\n",
      "age 199\n",
      "Optimization terminated successfully.\n",
      "         Current function value: 0.507969\n",
      "         Iterations 6\n",
      "year 0\n",
      "cohort 206\n",
      "owngun 24806\n",
      "gun 43075\n",
      "natcrime 27968\n",
      "income 8593\n",
      "realinc 6960\n",
      "educ 170\n",
      "polviews 9235\n",
      "sex 0\n",
      "race 0\n",
      "hispanic 38146\n",
      "srcbelt 0\n",
      "age 205\n",
      "Optimization terminated successfully.\n",
      "         Current function value: 0.507512\n",
      "         Iterations 6\n",
      "year 0\n",
      "cohort 202\n",
      "owngun 24725\n",
      "gun 43124\n",
      "natcrime 28027\n",
      "income 8399\n",
      "realinc 6800\n",
      "educ 158\n",
      "polviews 9325\n",
      "sex 0\n",
      "race 0\n",
      "hispanic 38155\n",
      "srcbelt 0\n",
      "age 202\n",
      "Optimization terminated successfully.\n",
      "         Current function value: 0.504151\n",
      "         Iterations 6\n",
      "year 0\n",
      "cohort 183\n",
      "owngun 24833\n",
      "gun 43154\n",
      "natcrime 27942\n",
      "income 8365\n",
      "realinc 6741\n",
      "educ 175\n",
      "polviews 9280\n",
      "sex 0\n",
      "race 0\n",
      "hispanic 38153\n",
      "srcbelt 0\n",
      "age 184\n",
      "Optimization terminated successfully.\n",
      "         Current function value: 0.502974\n",
      "         Iterations 6\n",
      "year 0\n",
      "cohort 198\n",
      "owngun 24748\n",
      "gun 43101\n",
      "natcrime 28021\n",
      "income 8601\n",
      "realinc 6982\n",
      "educ 148\n",
      "polviews 9330\n",
      "sex 0\n",
      "race 0\n",
      "hispanic 38155\n",
      "srcbelt 0\n",
      "age 198\n",
      "Optimization terminated successfully.\n",
      "         Current function value: 0.504151\n",
      "         Iterations 6\n",
      "year 0\n",
      "cohort 182\n",
      "owngun 24666\n",
      "gun 43145\n",
      "natcrime 27891\n",
      "income 8542\n",
      "realinc 6915\n",
      "educ 168\n",
      "polviews 9274\n",
      "sex 0\n",
      "race 0\n",
      "hispanic 38148\n",
      "srcbelt 0\n",
      "age 181\n",
      "Optimization terminated successfully.\n",
      "         Current function value: 0.507488\n",
      "         Iterations 6\n",
      "year 0\n",
      "cohort 194\n",
      "owngun 24925\n",
      "gun 43145\n",
      "natcrime 27913\n",
      "income 8577\n",
      "realinc 6915\n",
      "educ 184\n",
      "polviews 9283\n",
      "sex 0\n",
      "race 0\n",
      "hispanic 38158\n",
      "srcbelt 0\n",
      "age 194\n",
      "Optimization terminated successfully.\n",
      "         Current function value: 0.508016\n",
      "         Iterations 6\n",
      "year 0\n",
      "cohort 182\n",
      "owngun 24752\n",
      "gun 43185\n",
      "natcrime 28061\n",
      "income 8413\n",
      "realinc 6790\n",
      "educ 184\n",
      "polviews 9399\n",
      "sex 0\n",
      "race 0\n",
      "hispanic 38146\n",
      "srcbelt 0\n",
      "age 183\n",
      "Optimization terminated successfully.\n",
      "         Current function value: 0.504658\n",
      "         Iterations 6\n",
      "year 0\n",
      "cohort 162\n",
      "owngun 24948\n",
      "gun 43138\n",
      "natcrime 27991\n",
      "income 8511\n",
      "realinc 6848\n",
      "educ 173\n",
      "polviews 9415\n",
      "sex 0\n",
      "race 0\n",
      "hispanic 38166\n",
      "srcbelt 0\n",
      "age 163\n"
     ]
    },
    {
     "name": "stdout",
     "output_type": "stream",
     "text": [
      "Optimization terminated successfully.\n",
      "         Current function value: 0.501846\n",
      "         Iterations 6\n",
      "year 0\n",
      "cohort 213\n",
      "owngun 24851\n",
      "gun 43077\n",
      "natcrime 28009\n",
      "income 8355\n",
      "realinc 6730\n",
      "educ 165\n",
      "polviews 9306\n",
      "sex 0\n",
      "race 0\n",
      "hispanic 38154\n",
      "srcbelt 0\n",
      "age 214\n",
      "Optimization terminated successfully.\n",
      "         Current function value: 0.506711\n",
      "         Iterations 6\n",
      "year 0\n",
      "cohort 178\n",
      "owngun 24882\n",
      "gun 43188\n",
      "natcrime 27920\n",
      "income 8400\n",
      "realinc 6777\n",
      "educ 173\n",
      "polviews 9427\n",
      "sex 0\n",
      "race 0\n",
      "hispanic 38143\n",
      "srcbelt 0\n",
      "age 178\n",
      "Optimization terminated successfully.\n",
      "         Current function value: 0.505608\n",
      "         Iterations 6\n"
     ]
    }
   ],
   "source": [
    "results = run()"
   ]
  },
  {
   "cell_type": "code",
   "execution_count": null,
   "metadata": {
    "collapsed": true
   },
   "outputs": [],
   "source": []
  },
  {
   "cell_type": "code",
   "execution_count": 324,
   "metadata": {},
   "outputs": [
    {
     "data": {
      "text/html": [
       "<div>\n",
       "<style>\n",
       "    .dataframe thead tr:only-child th {\n",
       "        text-align: right;\n",
       "    }\n",
       "\n",
       "    .dataframe thead th {\n",
       "        text-align: left;\n",
       "    }\n",
       "\n",
       "    .dataframe tbody tr th {\n",
       "        vertical-align: top;\n",
       "    }\n",
       "</style>\n",
       "<table border=\"1\" class=\"dataframe\">\n",
       "  <thead>\n",
       "    <tr style=\"text-align: right;\">\n",
       "      <th></th>\n",
       "      <th>low2.5</th>\n",
       "      <th>median</th>\n",
       "      <th>high97.5</th>\n",
       "    </tr>\n",
       "  </thead>\n",
       "  <tbody>\n",
       "    <tr>\n",
       "      <th>base</th>\n",
       "      <td>76.3</td>\n",
       "      <td>78.0</td>\n",
       "      <td>79.2</td>\n",
       "    </tr>\n",
       "    <tr>\n",
       "      <th>nineties</th>\n",
       "      <td>63.3</td>\n",
       "      <td>66.2</td>\n",
       "      <td>70.0</td>\n",
       "    </tr>\n",
       "    <tr>\n",
       "      <th>eighties</th>\n",
       "      <td>70.9</td>\n",
       "      <td>72.9</td>\n",
       "      <td>75.1</td>\n",
       "    </tr>\n",
       "    <tr>\n",
       "      <th>seventies</th>\n",
       "      <td>74.3</td>\n",
       "      <td>75.9</td>\n",
       "      <td>77.9</td>\n",
       "    </tr>\n",
       "    <tr>\n",
       "      <th>fifties</th>\n",
       "      <td>75.9</td>\n",
       "      <td>77.3</td>\n",
       "      <td>78.7</td>\n",
       "    </tr>\n",
       "    <tr>\n",
       "      <th>forties</th>\n",
       "      <td>76.3</td>\n",
       "      <td>78.0</td>\n",
       "      <td>79.4</td>\n",
       "    </tr>\n",
       "    <tr>\n",
       "      <th>thirties</th>\n",
       "      <td>75.0</td>\n",
       "      <td>76.5</td>\n",
       "      <td>78.3</td>\n",
       "    </tr>\n",
       "    <tr>\n",
       "      <th>twenties</th>\n",
       "      <td>75.5</td>\n",
       "      <td>77.3</td>\n",
       "      <td>78.7</td>\n",
       "    </tr>\n",
       "    <tr>\n",
       "      <th>female</th>\n",
       "      <td>86.3</td>\n",
       "      <td>87.4</td>\n",
       "      <td>88.4</td>\n",
       "    </tr>\n",
       "    <tr>\n",
       "      <th>black</th>\n",
       "      <td>79.9</td>\n",
       "      <td>81.7</td>\n",
       "      <td>83.2</td>\n",
       "    </tr>\n",
       "    <tr>\n",
       "      <th>otherrace</th>\n",
       "      <td>82.3</td>\n",
       "      <td>83.9</td>\n",
       "      <td>85.9</td>\n",
       "    </tr>\n",
       "    <tr>\n",
       "      <th>ishisp</th>\n",
       "      <td>75.4</td>\n",
       "      <td>77.8</td>\n",
       "      <td>79.6</td>\n",
       "    </tr>\n",
       "    <tr>\n",
       "      <th>conservative</th>\n",
       "      <td>69.4</td>\n",
       "      <td>71.2</td>\n",
       "      <td>73.0</td>\n",
       "    </tr>\n",
       "    <tr>\n",
       "      <th>liberal</th>\n",
       "      <td>80.0</td>\n",
       "      <td>81.6</td>\n",
       "      <td>82.9</td>\n",
       "    </tr>\n",
       "    <tr>\n",
       "      <th>lowrealinc</th>\n",
       "      <td>74.2</td>\n",
       "      <td>75.8</td>\n",
       "      <td>77.1</td>\n",
       "    </tr>\n",
       "    <tr>\n",
       "      <th>highrealinc</th>\n",
       "      <td>77.8</td>\n",
       "      <td>79.4</td>\n",
       "      <td>80.8</td>\n",
       "    </tr>\n",
       "    <tr>\n",
       "      <th>college</th>\n",
       "      <td>78.1</td>\n",
       "      <td>79.5</td>\n",
       "      <td>80.8</td>\n",
       "    </tr>\n",
       "    <tr>\n",
       "      <th>urban</th>\n",
       "      <td>71.7</td>\n",
       "      <td>73.4</td>\n",
       "      <td>74.9</td>\n",
       "    </tr>\n",
       "    <tr>\n",
       "      <th>rural</th>\n",
       "      <td>65.4</td>\n",
       "      <td>67.8</td>\n",
       "      <td>69.6</td>\n",
       "    </tr>\n",
       "    <tr>\n",
       "      <th>threatened</th>\n",
       "      <td>74.2</td>\n",
       "      <td>76.1</td>\n",
       "      <td>77.5</td>\n",
       "    </tr>\n",
       "    <tr>\n",
       "      <th>gunhome</th>\n",
       "      <td>57.0</td>\n",
       "      <td>59.1</td>\n",
       "      <td>61.2</td>\n",
       "    </tr>\n",
       "    <tr>\n",
       "      <th>yminus10</th>\n",
       "      <td>81.5</td>\n",
       "      <td>82.7</td>\n",
       "      <td>83.6</td>\n",
       "    </tr>\n",
       "    <tr>\n",
       "      <th>yminus20</th>\n",
       "      <td>83.3</td>\n",
       "      <td>84.3</td>\n",
       "      <td>85.2</td>\n",
       "    </tr>\n",
       "    <tr>\n",
       "      <th>yminus30</th>\n",
       "      <td>82.7</td>\n",
       "      <td>83.6</td>\n",
       "      <td>84.6</td>\n",
       "    </tr>\n",
       "    <tr>\n",
       "      <th>yminus40</th>\n",
       "      <td>79.3</td>\n",
       "      <td>80.3</td>\n",
       "      <td>81.4</td>\n",
       "    </tr>\n",
       "    <tr>\n",
       "      <th>lowest combo</th>\n",
       "      <td>18.4</td>\n",
       "      <td>20.9</td>\n",
       "      <td>23.9</td>\n",
       "    </tr>\n",
       "    <tr>\n",
       "      <th>highest combo</th>\n",
       "      <td>93.1</td>\n",
       "      <td>94.0</td>\n",
       "      <td>94.8</td>\n",
       "    </tr>\n",
       "  </tbody>\n",
       "</table>\n",
       "</div>"
      ],
      "text/plain": [
       "               low2.5  median  high97.5\n",
       "base             76.3    78.0      79.2\n",
       "nineties         63.3    66.2      70.0\n",
       "eighties         70.9    72.9      75.1\n",
       "seventies        74.3    75.9      77.9\n",
       "fifties          75.9    77.3      78.7\n",
       "forties          76.3    78.0      79.4\n",
       "thirties         75.0    76.5      78.3\n",
       "twenties         75.5    77.3      78.7\n",
       "female           86.3    87.4      88.4\n",
       "black            79.9    81.7      83.2\n",
       "otherrace        82.3    83.9      85.9\n",
       "ishisp           75.4    77.8      79.6\n",
       "conservative     69.4    71.2      73.0\n",
       "liberal          80.0    81.6      82.9\n",
       "lowrealinc       74.2    75.8      77.1\n",
       "highrealinc      77.8    79.4      80.8\n",
       "college          78.1    79.5      80.8\n",
       "urban            71.7    73.4      74.9\n",
       "rural            65.4    67.8      69.6\n",
       "threatened       74.2    76.1      77.5\n",
       "gunhome          57.0    59.1      61.2\n",
       "yminus10         81.5    82.7      83.6\n",
       "yminus20         83.3    84.3      85.2\n",
       "yminus30         82.7    83.6      84.6\n",
       "yminus40         79.3    80.3      81.4\n",
       "lowest combo     18.4    20.9      23.9\n",
       "highest combo    93.1    94.0      94.8"
      ]
     },
     "execution_count": 324,
     "metadata": {},
     "output_type": "execute_result"
    }
   ],
   "source": [
    "preds = [result.pred for result in results]\n",
    "median, low, high = thinkstats2.PercentileRows(preds, [50, 5, 95])\n",
    "\n",
    "estimates = pd.DataFrame(index=result.index)\n",
    "estimates['low2.5'] = low\n",
    "estimates['median'] = median\n",
    "estimates['high97.5'] = high\n",
    "estimates.round(1)"
   ]
  },
  {
   "cell_type": "code",
   "execution_count": 328,
   "metadata": {},
   "outputs": [
    {
     "name": "stdout",
     "output_type": "stream",
     "text": [
      "<table border=\"1\" class=\"dataframe\">\n",
      "  <thead>\n",
      "    <tr style=\"text-align: right;\">\n",
      "      <th></th>\n",
      "      <th>low2.5</th>\n",
      "      <th>median</th>\n",
      "      <th>high97.5</th>\n",
      "    </tr>\n",
      "  </thead>\n",
      "  <tbody>\n",
      "    <tr>\n",
      "      <th>base</th>\n",
      "      <td>76.3</td>\n",
      "      <td>78.0</td>\n",
      "      <td>79.2</td>\n",
      "    </tr>\n",
      "    <tr>\n",
      "      <th>nineties</th>\n",
      "      <td>63.3</td>\n",
      "      <td>66.2</td>\n",
      "      <td>70.0</td>\n",
      "    </tr>\n",
      "    <tr>\n",
      "      <th>eighties</th>\n",
      "      <td>70.9</td>\n",
      "      <td>72.9</td>\n",
      "      <td>75.1</td>\n",
      "    </tr>\n",
      "    <tr>\n",
      "      <th>seventies</th>\n",
      "      <td>74.3</td>\n",
      "      <td>75.9</td>\n",
      "      <td>77.9</td>\n",
      "    </tr>\n",
      "    <tr>\n",
      "      <th>fifties</th>\n",
      "      <td>75.9</td>\n",
      "      <td>77.3</td>\n",
      "      <td>78.7</td>\n",
      "    </tr>\n",
      "    <tr>\n",
      "      <th>forties</th>\n",
      "      <td>76.3</td>\n",
      "      <td>78.0</td>\n",
      "      <td>79.4</td>\n",
      "    </tr>\n",
      "    <tr>\n",
      "      <th>thirties</th>\n",
      "      <td>75.0</td>\n",
      "      <td>76.5</td>\n",
      "      <td>78.3</td>\n",
      "    </tr>\n",
      "    <tr>\n",
      "      <th>twenties</th>\n",
      "      <td>75.5</td>\n",
      "      <td>77.3</td>\n",
      "      <td>78.7</td>\n",
      "    </tr>\n",
      "    <tr>\n",
      "      <th>female</th>\n",
      "      <td>86.3</td>\n",
      "      <td>87.4</td>\n",
      "      <td>88.4</td>\n",
      "    </tr>\n",
      "    <tr>\n",
      "      <th>black</th>\n",
      "      <td>79.9</td>\n",
      "      <td>81.7</td>\n",
      "      <td>83.2</td>\n",
      "    </tr>\n",
      "    <tr>\n",
      "      <th>otherrace</th>\n",
      "      <td>82.3</td>\n",
      "      <td>83.9</td>\n",
      "      <td>85.9</td>\n",
      "    </tr>\n",
      "    <tr>\n",
      "      <th>ishisp</th>\n",
      "      <td>75.4</td>\n",
      "      <td>77.8</td>\n",
      "      <td>79.6</td>\n",
      "    </tr>\n",
      "    <tr>\n",
      "      <th>conservative</th>\n",
      "      <td>69.4</td>\n",
      "      <td>71.2</td>\n",
      "      <td>73.0</td>\n",
      "    </tr>\n",
      "    <tr>\n",
      "      <th>liberal</th>\n",
      "      <td>80.0</td>\n",
      "      <td>81.6</td>\n",
      "      <td>82.9</td>\n",
      "    </tr>\n",
      "    <tr>\n",
      "      <th>lowrealinc</th>\n",
      "      <td>74.2</td>\n",
      "      <td>75.8</td>\n",
      "      <td>77.1</td>\n",
      "    </tr>\n",
      "    <tr>\n",
      "      <th>highrealinc</th>\n",
      "      <td>77.8</td>\n",
      "      <td>79.4</td>\n",
      "      <td>80.8</td>\n",
      "    </tr>\n",
      "    <tr>\n",
      "      <th>college</th>\n",
      "      <td>78.1</td>\n",
      "      <td>79.5</td>\n",
      "      <td>80.8</td>\n",
      "    </tr>\n",
      "    <tr>\n",
      "      <th>urban</th>\n",
      "      <td>71.7</td>\n",
      "      <td>73.4</td>\n",
      "      <td>74.9</td>\n",
      "    </tr>\n",
      "    <tr>\n",
      "      <th>rural</th>\n",
      "      <td>65.4</td>\n",
      "      <td>67.8</td>\n",
      "      <td>69.6</td>\n",
      "    </tr>\n",
      "    <tr>\n",
      "      <th>threatened</th>\n",
      "      <td>74.2</td>\n",
      "      <td>76.1</td>\n",
      "      <td>77.5</td>\n",
      "    </tr>\n",
      "    <tr>\n",
      "      <th>gunhome</th>\n",
      "      <td>57.0</td>\n",
      "      <td>59.1</td>\n",
      "      <td>61.2</td>\n",
      "    </tr>\n",
      "    <tr>\n",
      "      <th>yminus10</th>\n",
      "      <td>81.5</td>\n",
      "      <td>82.7</td>\n",
      "      <td>83.6</td>\n",
      "    </tr>\n",
      "    <tr>\n",
      "      <th>yminus20</th>\n",
      "      <td>83.3</td>\n",
      "      <td>84.3</td>\n",
      "      <td>85.2</td>\n",
      "    </tr>\n",
      "    <tr>\n",
      "      <th>yminus30</th>\n",
      "      <td>82.7</td>\n",
      "      <td>83.6</td>\n",
      "      <td>84.6</td>\n",
      "    </tr>\n",
      "    <tr>\n",
      "      <th>yminus40</th>\n",
      "      <td>79.3</td>\n",
      "      <td>80.3</td>\n",
      "      <td>81.4</td>\n",
      "    </tr>\n",
      "    <tr>\n",
      "      <th>lowest combo</th>\n",
      "      <td>18.4</td>\n",
      "      <td>20.9</td>\n",
      "      <td>23.9</td>\n",
      "    </tr>\n",
      "    <tr>\n",
      "      <th>highest combo</th>\n",
      "      <td>93.1</td>\n",
      "      <td>94.0</td>\n",
      "      <td>94.8</td>\n",
      "    </tr>\n",
      "  </tbody>\n",
      "</table>\n"
     ]
    }
   ],
   "source": [
    "lines = estimates.round(1).to_html().split('\\n')\n",
    "for line in lines:\n",
    "    print(line)"
   ]
  },
  {
   "cell_type": "code",
   "execution_count": 326,
   "metadata": {},
   "outputs": [
    {
     "data": {
      "text/html": [
       "<div>\n",
       "<style>\n",
       "    .dataframe thead tr:only-child th {\n",
       "        text-align: right;\n",
       "    }\n",
       "\n",
       "    .dataframe thead th {\n",
       "        text-align: left;\n",
       "    }\n",
       "\n",
       "    .dataframe tbody tr th {\n",
       "        vertical-align: top;\n",
       "    }\n",
       "</style>\n",
       "<table border=\"1\" class=\"dataframe\">\n",
       "  <thead>\n",
       "    <tr style=\"text-align: right;\">\n",
       "      <th></th>\n",
       "      <th>low2.5</th>\n",
       "      <th>median</th>\n",
       "      <th>high97.5</th>\n",
       "    </tr>\n",
       "  </thead>\n",
       "  <tbody>\n",
       "    <tr>\n",
       "      <th>lowest combo</th>\n",
       "      <td>-61.1</td>\n",
       "      <td>-57.0</td>\n",
       "      <td>-52.0</td>\n",
       "    </tr>\n",
       "    <tr>\n",
       "      <th>gunhome</th>\n",
       "      <td>-20.1</td>\n",
       "      <td>-18.7</td>\n",
       "      <td>-17.6</td>\n",
       "    </tr>\n",
       "    <tr>\n",
       "      <th>nineties</th>\n",
       "      <td>-15.3</td>\n",
       "      <td>-11.7</td>\n",
       "      <td>-7.2</td>\n",
       "    </tr>\n",
       "    <tr>\n",
       "      <th>rural</th>\n",
       "      <td>-12.1</td>\n",
       "      <td>-10.4</td>\n",
       "      <td>-8.7</td>\n",
       "    </tr>\n",
       "    <tr>\n",
       "      <th>conservative</th>\n",
       "      <td>-8.1</td>\n",
       "      <td>-6.7</td>\n",
       "      <td>-5.7</td>\n",
       "    </tr>\n",
       "    <tr>\n",
       "      <th>eighties</th>\n",
       "      <td>-7.5</td>\n",
       "      <td>-4.9</td>\n",
       "      <td>-2.4</td>\n",
       "    </tr>\n",
       "    <tr>\n",
       "      <th>urban</th>\n",
       "      <td>-5.6</td>\n",
       "      <td>-4.6</td>\n",
       "      <td>-3.5</td>\n",
       "    </tr>\n",
       "    <tr>\n",
       "      <th>lowrealinc</th>\n",
       "      <td>-3.3</td>\n",
       "      <td>-2.2</td>\n",
       "      <td>-1.1</td>\n",
       "    </tr>\n",
       "    <tr>\n",
       "      <th>seventies</th>\n",
       "      <td>-3.6</td>\n",
       "      <td>-2.0</td>\n",
       "      <td>0.0</td>\n",
       "    </tr>\n",
       "    <tr>\n",
       "      <th>threatened</th>\n",
       "      <td>-2.8</td>\n",
       "      <td>-2.0</td>\n",
       "      <td>-1.0</td>\n",
       "    </tr>\n",
       "    <tr>\n",
       "      <th>thirties</th>\n",
       "      <td>-2.6</td>\n",
       "      <td>-1.3</td>\n",
       "      <td>0.0</td>\n",
       "    </tr>\n",
       "    <tr>\n",
       "      <th>fifties</th>\n",
       "      <td>-1.9</td>\n",
       "      <td>-0.7</td>\n",
       "      <td>0.6</td>\n",
       "    </tr>\n",
       "    <tr>\n",
       "      <th>twenties</th>\n",
       "      <td>-2.4</td>\n",
       "      <td>-0.7</td>\n",
       "      <td>0.9</td>\n",
       "    </tr>\n",
       "    <tr>\n",
       "      <th>ishisp</th>\n",
       "      <td>-1.7</td>\n",
       "      <td>-0.2</td>\n",
       "      <td>1.5</td>\n",
       "    </tr>\n",
       "    <tr>\n",
       "      <th>base</th>\n",
       "      <td>0.0</td>\n",
       "      <td>0.0</td>\n",
       "      <td>0.0</td>\n",
       "    </tr>\n",
       "    <tr>\n",
       "      <th>forties</th>\n",
       "      <td>-1.5</td>\n",
       "      <td>0.0</td>\n",
       "      <td>1.2</td>\n",
       "    </tr>\n",
       "    <tr>\n",
       "      <th>highrealinc</th>\n",
       "      <td>0.6</td>\n",
       "      <td>1.5</td>\n",
       "      <td>2.4</td>\n",
       "    </tr>\n",
       "    <tr>\n",
       "      <th>college</th>\n",
       "      <td>0.6</td>\n",
       "      <td>1.6</td>\n",
       "      <td>2.4</td>\n",
       "    </tr>\n",
       "    <tr>\n",
       "      <th>yminus40</th>\n",
       "      <td>1.1</td>\n",
       "      <td>2.4</td>\n",
       "      <td>4.0</td>\n",
       "    </tr>\n",
       "    <tr>\n",
       "      <th>liberal</th>\n",
       "      <td>2.4</td>\n",
       "      <td>3.7</td>\n",
       "      <td>4.5</td>\n",
       "    </tr>\n",
       "    <tr>\n",
       "      <th>black</th>\n",
       "      <td>2.5</td>\n",
       "      <td>3.7</td>\n",
       "      <td>5.1</td>\n",
       "    </tr>\n",
       "    <tr>\n",
       "      <th>yminus10</th>\n",
       "      <td>3.7</td>\n",
       "      <td>4.7</td>\n",
       "      <td>5.5</td>\n",
       "    </tr>\n",
       "    <tr>\n",
       "      <th>yminus30</th>\n",
       "      <td>4.3</td>\n",
       "      <td>5.6</td>\n",
       "      <td>7.0</td>\n",
       "    </tr>\n",
       "    <tr>\n",
       "      <th>otherrace</th>\n",
       "      <td>4.3</td>\n",
       "      <td>6.1</td>\n",
       "      <td>7.7</td>\n",
       "    </tr>\n",
       "    <tr>\n",
       "      <th>yminus20</th>\n",
       "      <td>5.1</td>\n",
       "      <td>6.4</td>\n",
       "      <td>7.7</td>\n",
       "    </tr>\n",
       "    <tr>\n",
       "      <th>female</th>\n",
       "      <td>8.8</td>\n",
       "      <td>9.4</td>\n",
       "      <td>10.2</td>\n",
       "    </tr>\n",
       "    <tr>\n",
       "      <th>highest combo</th>\n",
       "      <td>14.8</td>\n",
       "      <td>16.0</td>\n",
       "      <td>17.8</td>\n",
       "    </tr>\n",
       "  </tbody>\n",
       "</table>\n",
       "</div>"
      ],
      "text/plain": [
       "               low2.5  median  high97.5\n",
       "lowest combo    -61.1   -57.0     -52.0\n",
       "gunhome         -20.1   -18.7     -17.6\n",
       "nineties        -15.3   -11.7      -7.2\n",
       "rural           -12.1   -10.4      -8.7\n",
       "conservative     -8.1    -6.7      -5.7\n",
       "eighties         -7.5    -4.9      -2.4\n",
       "urban            -5.6    -4.6      -3.5\n",
       "lowrealinc       -3.3    -2.2      -1.1\n",
       "seventies        -3.6    -2.0       0.0\n",
       "threatened       -2.8    -2.0      -1.0\n",
       "thirties         -2.6    -1.3       0.0\n",
       "fifties          -1.9    -0.7       0.6\n",
       "twenties         -2.4    -0.7       0.9\n",
       "ishisp           -1.7    -0.2       1.5\n",
       "base              0.0     0.0       0.0\n",
       "forties          -1.5     0.0       1.2\n",
       "highrealinc       0.6     1.5       2.4\n",
       "college           0.6     1.6       2.4\n",
       "yminus40          1.1     2.4       4.0\n",
       "liberal           2.4     3.7       4.5\n",
       "black             2.5     3.7       5.1\n",
       "yminus10          3.7     4.7       5.5\n",
       "yminus30          4.3     5.6       7.0\n",
       "otherrace         4.3     6.1       7.7\n",
       "yminus20          5.1     6.4       7.7\n",
       "female            8.8     9.4      10.2\n",
       "highest combo    14.8    16.0      17.8"
      ]
     },
     "execution_count": 326,
     "metadata": {},
     "output_type": "execute_result"
    }
   ],
   "source": [
    "preds = [result.offset for result in results]\n",
    "median, low, high = thinkstats2.PercentileRows(preds, [50, 2.5, 97.5])\n",
    "\n",
    "offsets = pd.DataFrame(index=result.index)\n",
    "offsets['low2.5'] = low\n",
    "offsets['median'] = median\n",
    "offsets['high97.5'] = high\n",
    "offsets.sort_values('median').round(1)"
   ]
  },
  {
   "cell_type": "code",
   "execution_count": 329,
   "metadata": {
    "scrolled": true
   },
   "outputs": [
    {
     "name": "stdout",
     "output_type": "stream",
     "text": [
      "<table border=\"1\" class=\"dataframe\">\n",
      "  <thead>\n",
      "    <tr style=\"text-align: right;\">\n",
      "      <th></th>\n",
      "      <th>low2.5</th>\n",
      "      <th>median</th>\n",
      "      <th>high97.5</th>\n",
      "    </tr>\n",
      "  </thead>\n",
      "  <tbody>\n",
      "    <tr>\n",
      "      <th>lowest combo</th>\n",
      "      <td>-61.1</td>\n",
      "      <td>-57.0</td>\n",
      "      <td>-52.0</td>\n",
      "    </tr>\n",
      "    <tr>\n",
      "      <th>gunhome</th>\n",
      "      <td>-20.1</td>\n",
      "      <td>-18.7</td>\n",
      "      <td>-17.6</td>\n",
      "    </tr>\n",
      "    <tr>\n",
      "      <th>nineties</th>\n",
      "      <td>-15.3</td>\n",
      "      <td>-11.7</td>\n",
      "      <td>-7.2</td>\n",
      "    </tr>\n",
      "    <tr>\n",
      "      <th>rural</th>\n",
      "      <td>-12.1</td>\n",
      "      <td>-10.4</td>\n",
      "      <td>-8.7</td>\n",
      "    </tr>\n",
      "    <tr>\n",
      "      <th>conservative</th>\n",
      "      <td>-8.1</td>\n",
      "      <td>-6.7</td>\n",
      "      <td>-5.7</td>\n",
      "    </tr>\n",
      "    <tr>\n",
      "      <th>eighties</th>\n",
      "      <td>-7.5</td>\n",
      "      <td>-4.9</td>\n",
      "      <td>-2.4</td>\n",
      "    </tr>\n",
      "    <tr>\n",
      "      <th>urban</th>\n",
      "      <td>-5.6</td>\n",
      "      <td>-4.6</td>\n",
      "      <td>-3.5</td>\n",
      "    </tr>\n",
      "    <tr>\n",
      "      <th>lowrealinc</th>\n",
      "      <td>-3.3</td>\n",
      "      <td>-2.2</td>\n",
      "      <td>-1.1</td>\n",
      "    </tr>\n",
      "    <tr>\n",
      "      <th>seventies</th>\n",
      "      <td>-3.6</td>\n",
      "      <td>-2.0</td>\n",
      "      <td>0.0</td>\n",
      "    </tr>\n",
      "    <tr>\n",
      "      <th>threatened</th>\n",
      "      <td>-2.8</td>\n",
      "      <td>-2.0</td>\n",
      "      <td>-1.0</td>\n",
      "    </tr>\n",
      "    <tr>\n",
      "      <th>thirties</th>\n",
      "      <td>-2.6</td>\n",
      "      <td>-1.3</td>\n",
      "      <td>0.0</td>\n",
      "    </tr>\n",
      "    <tr>\n",
      "      <th>fifties</th>\n",
      "      <td>-1.9</td>\n",
      "      <td>-0.7</td>\n",
      "      <td>0.6</td>\n",
      "    </tr>\n",
      "    <tr>\n",
      "      <th>twenties</th>\n",
      "      <td>-2.4</td>\n",
      "      <td>-0.7</td>\n",
      "      <td>0.9</td>\n",
      "    </tr>\n",
      "    <tr>\n",
      "      <th>ishisp</th>\n",
      "      <td>-1.7</td>\n",
      "      <td>-0.2</td>\n",
      "      <td>1.5</td>\n",
      "    </tr>\n",
      "    <tr>\n",
      "      <th>base</th>\n",
      "      <td>0.0</td>\n",
      "      <td>0.0</td>\n",
      "      <td>0.0</td>\n",
      "    </tr>\n",
      "    <tr>\n",
      "      <th>forties</th>\n",
      "      <td>-1.5</td>\n",
      "      <td>0.0</td>\n",
      "      <td>1.2</td>\n",
      "    </tr>\n",
      "    <tr>\n",
      "      <th>highrealinc</th>\n",
      "      <td>0.6</td>\n",
      "      <td>1.5</td>\n",
      "      <td>2.4</td>\n",
      "    </tr>\n",
      "    <tr>\n",
      "      <th>college</th>\n",
      "      <td>0.6</td>\n",
      "      <td>1.6</td>\n",
      "      <td>2.4</td>\n",
      "    </tr>\n",
      "    <tr>\n",
      "      <th>yminus40</th>\n",
      "      <td>1.1</td>\n",
      "      <td>2.4</td>\n",
      "      <td>4.0</td>\n",
      "    </tr>\n",
      "    <tr>\n",
      "      <th>liberal</th>\n",
      "      <td>2.4</td>\n",
      "      <td>3.7</td>\n",
      "      <td>4.5</td>\n",
      "    </tr>\n",
      "    <tr>\n",
      "      <th>black</th>\n",
      "      <td>2.5</td>\n",
      "      <td>3.7</td>\n",
      "      <td>5.1</td>\n",
      "    </tr>\n",
      "    <tr>\n",
      "      <th>yminus10</th>\n",
      "      <td>3.7</td>\n",
      "      <td>4.7</td>\n",
      "      <td>5.5</td>\n",
      "    </tr>\n",
      "    <tr>\n",
      "      <th>yminus30</th>\n",
      "      <td>4.3</td>\n",
      "      <td>5.6</td>\n",
      "      <td>7.0</td>\n",
      "    </tr>\n",
      "    <tr>\n",
      "      <th>otherrace</th>\n",
      "      <td>4.3</td>\n",
      "      <td>6.1</td>\n",
      "      <td>7.7</td>\n",
      "    </tr>\n",
      "    <tr>\n",
      "      <th>yminus20</th>\n",
      "      <td>5.1</td>\n",
      "      <td>6.4</td>\n",
      "      <td>7.7</td>\n",
      "    </tr>\n",
      "    <tr>\n",
      "      <th>female</th>\n",
      "      <td>8.8</td>\n",
      "      <td>9.4</td>\n",
      "      <td>10.2</td>\n",
      "    </tr>\n",
      "    <tr>\n",
      "      <th>highest combo</th>\n",
      "      <td>14.8</td>\n",
      "      <td>16.0</td>\n",
      "      <td>17.8</td>\n",
      "    </tr>\n",
      "  </tbody>\n",
      "</table>\n"
     ]
    }
   ],
   "source": [
    "lines = offsets.sort_values('median').round(1).to_html().split('\\n')\n",
    "for line in lines:\n",
    "    print(line)"
   ]
  },
  {
   "cell_type": "code",
   "execution_count": null,
   "metadata": {
    "collapsed": true
   },
   "outputs": [],
   "source": []
  },
  {
   "cell_type": "code",
   "execution_count": null,
   "metadata": {
    "collapsed": true
   },
   "outputs": [],
   "source": []
  },
  {
   "cell_type": "markdown",
   "metadata": {},
   "source": [
    "### Retrodict trends"
   ]
  },
  {
   "cell_type": "code",
   "execution_count": 232,
   "metadata": {
    "collapsed": true
   },
   "outputs": [],
   "source": [
    "def predict_favor(df, model):\n",
    "    \"\"\"Predict the percentage of people who would favor struct gun laws.\n",
    "    \n",
    "    df: DataFrame\n",
    "    model: model\n",
    "    \n",
    "    return: percentage\n",
    "    \"\"\"\n",
    "    probs = model.predict(df)\n",
    "    bools = np.random.random(len(probs)) < probs\n",
    "    assert numnull(bools) == 0\n",
    "    return bools.dropna().mean() * 100"
   ]
  },
  {
   "cell_type": "markdown",
   "metadata": {},
   "source": []
  },
  {
   "cell_type": "code",
   "execution_count": 233,
   "metadata": {},
   "outputs": [
    {
     "data": {
      "text/plain": [
       "(0.7614879107253565, 75.858648481091137)"
      ]
     },
     "execution_count": 233,
     "metadata": {},
     "output_type": "execute_result"
    }
   ],
   "source": [
    "subset.favor.mean(), predict_favor(data, model)"
   ]
  },
  {
   "cell_type": "markdown",
   "metadata": {},
   "source": []
  },
  {
   "cell_type": "code",
   "execution_count": 234,
   "metadata": {},
   "outputs": [
    {
     "data": {
      "text/plain": [
       "(0.7614879107253565, 76.710530528607563)"
      ]
     },
     "execution_count": 234,
     "metadata": {},
     "output_type": "execute_result"
    }
   ],
   "source": [
    "sample.favor.mean(), predict_favor(sample, model)"
   ]
  },
  {
   "cell_type": "markdown",
   "metadata": {},
   "source": []
  },
  {
   "cell_type": "code",
   "execution_count": 235,
   "metadata": {
    "collapsed": true
   },
   "outputs": [],
   "source": [
    "grouped_year4 = sample.groupby('year')"
   ]
  },
  {
   "cell_type": "markdown",
   "metadata": {},
   "source": []
  },
  {
   "cell_type": "code",
   "execution_count": 236,
   "metadata": {},
   "outputs": [
    {
     "name": "stdout",
     "output_type": "stream",
     "text": [
      "1972 1613 74.43946188340807 69.9318040918\n",
      "1973 1504 74.45799457994579 71.4760638298\n",
      "1974 1484 74.29938482570063 73.7870619946\n",
      "1975 1490 75.68870523415978 73.6241610738\n",
      "1976 1499 71.69939065673663 71.1807871915\n",
      "1977 1530 72.8 71.8300653595\n",
      "1978 1532 nan 76.044386423\n",
      "1980 1468 70.0895933838732 74.0463215259\n",
      "1982 1860 74.2998352553542 76.2365591398\n",
      "1983 1599 nan 76.3602251407\n",
      "1984 1473 71.25 76.0353021045\n",
      "1985 1534 71.67438782263402 76.5319426336\n",
      "1986 1470 nan 77.5510204082\n",
      "1987 1819 72.6457399103139 80.2089059923\n",
      "1988 1481 74.70651013874067 78.7981093856\n",
      "1989 1537 80.03857280617164 77.2934287573\n",
      "1990 1372 81.22827346465817 80.029154519\n",
      "1991 1517 81.10552763819095 78.9716545814\n",
      "1993 1606 80.97928436911488 79.0161892902\n",
      "1994 2992 80.4989816700611 80.9826203209\n",
      "1996 2904 82.60179799048123 78.9256198347\n",
      "1998 2832 81.70731707317073 80.0141242938\n",
      "2000 2817 81.47531891292292 79.6947106851\n",
      "2002 2765 80.80697928026173 79.1681735986\n",
      "2004 2812 82.33890214797135 77.880512091\n",
      "2006 4510 81.40517696777601 77.7605321508\n",
      "2008 2023 78.95545314900153 76.5694513099\n",
      "2010 2044 73.7717908082409 76.6634050881\n",
      "2012 1974 73.65506329113924 73.8601823708\n",
      "2014 2538 71.30484988452656 72.7344365642\n",
      "2016 2867 68.65753424657535 70.4918032787\n"
     ]
    }
   ],
   "source": [
    "for name, group in grouped_year4:\n",
    "    retro = predict_favor(group, model)\n",
    "    actual = group.favor.mean() * 100\n",
    "    print(name, len(group), actual, retro)"
   ]
  },
  {
   "cell_type": "markdown",
   "metadata": {},
   "source": []
  },
  {
   "cell_type": "code",
   "execution_count": 237,
   "metadata": {},
   "outputs": [
    {
     "data": {
      "image/png": "[encoded data removed]",
      "text/plain": [
       "<matplotlib.figure.Figure at 0x7fefa220f048>"
      ]
     },
     "metadata": {},
     "output_type": "display_data"
    }
   ],
   "source": [
    "actual = pd.Series([])\n",
    "retro = pd.Series([])\n",
    "for name, group in grouped_year4:\n",
    "    retro[name] = predict_favor(group, model)\n",
    "    actual[name] = group.favor.mean() * 100\n",
    "\n",
    "thinkplot.plot(actual.index, actual)\n",
    "thinkplot.plot(retro.index, retro)"
   ]
  },
  {
   "cell_type": "code",
   "execution_count": null,
   "metadata": {
    "collapsed": true
   },
   "outputs": [],
   "source": []
  },
  {
   "cell_type": "markdown",
   "metadata": {},
   "source": [
    "### Test counterfactual code"
   ]
  },
  {
   "cell_type": "code",
   "execution_count": 238,
   "metadata": {
    "collapsed": true
   },
   "outputs": [],
   "source": [
    "# may not need this any more, since sample is a copy\n",
    "counterfact = sample.copy()"
   ]
  },
  {
   "cell_type": "code",
   "execution_count": 239,
   "metadata": {
    "collapsed": true
   },
   "outputs": [],
   "source": [
    "def flip(df, varname, val, new_val, prob):\n",
    "    \"\"\"Changes the value of a variable for a random sample of rows.\n",
    "    \n",
    "    Selects each row where varname==val with probability prob, and\n",
    "    replaces val with new_val.\n",
    "    \n",
    "    df: DataFrame\n",
    "    varname: string\n",
    "    val: old value\n",
    "    new_val: new value\n",
    "    prob: probability of flipping\n",
    "    \"\"\"\n",
    "    assert(0 < prob < 1)\n",
    "    #print('flip', val, new_val, prob)\n",
    "    \n",
    "    # get indices of the rows that match val\n",
    "    indices = np.flatnonzero(df[varname] == val)\n",
    "    #print(len(indices) * prob)\n",
    "    \n",
    "    # flip a coin for each selected row\n",
    "    cond = np.random.random(len(indices)) < prob\n",
    "\n",
    "    # get indices of the rows that will flip\n",
    "    flippers = indices[cond]\n",
    "    #print(len(flippers))\n",
    "    #print((df.loc[flippers, varname] == val).mean())\n",
    "    \n",
    "    # assign the new val to the selected rows\n",
    "    labels = df.index[flippers]\n",
    "    df.loc[labels, varname] = new_val"
   ]
  },
  {
   "cell_type": "code",
   "execution_count": 240,
   "metadata": {},
   "outputs": [
    {
     "data": {
      "text/plain": [
       "0.0    33234\n",
       "1.0    29232\n",
       "Name: college, dtype: int64"
      ]
     },
     "execution_count": 240,
     "metadata": {},
     "output_type": "execute_result"
    }
   ],
   "source": [
    "counterfact.college.value_counts()"
   ]
  },
  {
   "cell_type": "code",
   "execution_count": 241,
   "metadata": {
    "collapsed": true
   },
   "outputs": [],
   "source": [
    "flip(counterfact, 'college', 1, 0, 0.1)"
   ]
  },
  {
   "cell_type": "code",
   "execution_count": 242,
   "metadata": {},
   "outputs": [
    {
     "data": {
      "text/plain": [
       "0.0    36069\n",
       "1.0    26397\n",
       "Name: college, dtype: int64"
      ]
     },
     "execution_count": 242,
     "metadata": {},
     "output_type": "execute_result"
    }
   ],
   "source": [
    "counterfact.college.value_counts()"
   ]
  },
  {
   "cell_type": "code",
   "execution_count": 243,
   "metadata": {
    "collapsed": true
   },
   "outputs": [],
   "source": [
    "def adjust_prob(df, varname, desired):\n",
    "    \"\"\"Flip enough people to make the mean of varname equal desired.\n",
    "\n",
    "    varname must be a 0,1 boolean\n",
    "\n",
    "    Can only reliably make small changes.\n",
    "\n",
    "    df: DataFrame\n",
    "    varname: string column name\n",
    "    desired: value between 0 and 1\n",
    "    \"\"\"\n",
    "    actual = df[varname].mean()\n",
    "    diff = desired - actual\n",
    "    #print(actual, diff)\n",
    "    if diff > 0:\n",
    "        prob = diff / (1-actual)\n",
    "        flip(df, varname, 0, 1, prob)\n",
    "    elif diff < 0:\n",
    "        prob = -diff / actual\n",
    "        flip(df, varname, 1, 0, prob)"
   ]
  },
  {
   "cell_type": "code",
   "execution_count": 244,
   "metadata": {},
   "outputs": [
    {
     "data": {
      "text/plain": [
       "0.0    36069\n",
       "1.0    26397\n",
       "Name: college, dtype: int64"
      ]
     },
     "execution_count": 244,
     "metadata": {},
     "output_type": "execute_result"
    }
   ],
   "source": [
    "counterfact.college.value_counts()"
   ]
  },
  {
   "cell_type": "code",
   "execution_count": 245,
   "metadata": {
    "collapsed": true
   },
   "outputs": [],
   "source": [
    "adjust_prob(counterfact, 'college', 0.9)"
   ]
  },
  {
   "cell_type": "code",
   "execution_count": 246,
   "metadata": {},
   "outputs": [
    {
     "data": {
      "text/plain": [
       "1.0    56359\n",
       "0.0     6107\n",
       "Name: college, dtype: int64"
      ]
     },
     "execution_count": 246,
     "metadata": {},
     "output_type": "execute_result"
    }
   ],
   "source": [
    "counterfact.college.value_counts()"
   ]
  },
  {
   "cell_type": "code",
   "execution_count": 247,
   "metadata": {},
   "outputs": [
    {
     "data": {
      "text/plain": [
       "0.9022348157397624"
      ]
     },
     "execution_count": 247,
     "metadata": {},
     "output_type": "execute_result"
    }
   ],
   "source": [
    "counterfact.college.mean()"
   ]
  },
  {
   "cell_type": "code",
   "execution_count": 249,
   "metadata": {
    "collapsed": true
   },
   "outputs": [],
   "source": [
    "def make_counterfactual(grouped, varname, desired):\n",
    "    \"\"\"Modifies a groupby so the proportion of varname is constant.\n",
    "    \n",
    "    grouped: groupby object\n",
    "    varname: string column name\n",
    "    desired: value to level out at\n",
    "    \"\"\"\n",
    "    for name, group in grouped:\n",
    "        before = group[varname].mean() * 100\n",
    "        adjust_prob(group, varname, desired)\n",
    "        after = group[varname].mean() * 100\n",
    "\n",
    "        print(name, before, after)"
   ]
  },
  {
   "cell_type": "code",
   "execution_count": 250,
   "metadata": {
    "collapsed": true
   },
   "outputs": [],
   "source": [
    "counterfact = sample.copy()"
   ]
  },
  {
   "cell_type": "code",
   "execution_count": 251,
   "metadata": {},
   "outputs": [
    {
     "data": {
      "text/plain": [
       "year\n",
       "1972    0.162430\n",
       "1973    0.117021\n",
       "1974    0.107143\n",
       "1975    0.116107\n",
       "1976    0.090060\n",
       "1977    0.115686\n",
       "1978    0.103786\n",
       "1980    0.091281\n",
       "1982    0.261290\n",
       "1983    0.099437\n",
       "1984    0.106585\n",
       "1985    0.098435\n",
       "1986    0.127211\n",
       "1987    0.298516\n",
       "1988    0.119514\n",
       "1989    0.098243\n",
       "1990    0.113703\n",
       "1991    0.143705\n",
       "1993    0.115193\n",
       "1994    0.134024\n",
       "1996    0.126033\n",
       "1998    0.127119\n",
       "2000    0.140220\n",
       "2002    0.130922\n",
       "2004    0.128734\n",
       "2006    0.132594\n",
       "2008    0.143846\n",
       "2010    0.141879\n",
       "2012    0.147923\n",
       "2014    0.141056\n",
       "2016    0.171259\n",
       "Name: black, dtype: float64"
      ]
     },
     "execution_count": 251,
     "metadata": {},
     "output_type": "execute_result"
    }
   ],
   "source": [
    "grouped_year4 = counterfact.groupby('year')\n",
    "grouped_year4.black.mean()"
   ]
  },
  {
   "cell_type": "code",
   "execution_count": 252,
   "metadata": {},
   "outputs": [
    {
     "data": {
      "text/plain": [
       "0.11702127659574468"
      ]
     },
     "execution_count": 252,
     "metadata": {},
     "output_type": "execute_result"
    }
   ],
   "source": [
    "prob = grouped_year4.black.mean()[1973]\n",
    "prob"
   ]
  },
  {
   "cell_type": "code",
   "execution_count": 253,
   "metadata": {},
   "outputs": [
    {
     "name": "stderr",
     "output_type": "stream",
     "text": [
      "/home/downey/anaconda3/lib/python3.6/site-packages/pandas/core/indexing.py:517: SettingWithCopyWarning: \n",
      "A value is trying to be set on a copy of a slice from a DataFrame.\n",
      "Try using .loc[row_indexer,col_indexer] = value instead\n",
      "\n",
      "See the caveats in the documentation: http://pandas.pydata.org/pandas-docs/stable/indexing.html#indexing-view-versus-copy\n",
      "  self.obj[item] = s\n"
     ]
    },
    {
     "name": "stdout",
     "output_type": "stream",
     "text": [
      "1972 16.24302541847489 11.15933044017359\n",
      "1973 11.702127659574469 11.702127659574469\n",
      "1974 10.714285714285714 11.79245283018868\n",
      "1975 11.610738255033556 11.610738255033556\n",
      "1976 9.006004002668446 11.074049366244163\n",
      "1977 11.568627450980392 11.699346405228757\n",
      "1978 10.378590078328982 11.74934725848564\n",
      "1980 9.128065395095367 12.125340599455042\n",
      "1982 26.129032258064516 11.129032258064516\n",
      "1983 9.943714821763603 11.44465290806754\n",
      "1984 10.658520027155465 11.67684996605567\n",
      "1985 9.84354628422425 11.342894393741851\n",
      "1986 12.721088435374151 11.564625850340136\n",
      "1987 29.851566794942276 12.094557449147883\n",
      "1988 11.951384199864956 11.951384199864956\n",
      "1989 9.824333116460638 11.320754716981133\n",
      "1990 11.370262390670554 11.51603498542274\n",
      "1991 14.370468029004616 10.81081081081081\n",
      "1993 11.519302615193027 11.70610211706102\n",
      "1994 13.4024064171123 11.530748663101605\n",
      "1996 12.603305785123966 11.53581267217631\n",
      "1998 12.711864406779661 11.899717514124294\n",
      "2000 14.02200922967696 11.714589989350372\n",
      "2002 13.092224231464739 11.645569620253164\n",
      "2004 12.873399715504979 11.699857752489331\n",
      "2006 13.259423503325943 11.796008869179602\n",
      "2008 14.384577360355907 11.863568956994563\n",
      "2010 14.187866927592955 12.181996086105675\n",
      "2012 14.792299898682879 11.651469098277609\n",
      "2014 14.105594956658788 11.583924349881796\n",
      "2016 17.125915591210326 12.173003139169863\n"
     ]
    }
   ],
   "source": [
    "make_counterfactual(grouped_year4, 'black', prob)"
   ]
  },
  {
   "cell_type": "code",
   "execution_count": 254,
   "metadata": {},
   "outputs": [
    {
     "data": {
      "text/plain": [
       "76.572855633464613"
      ]
     },
     "execution_count": 254,
     "metadata": {},
     "output_type": "execute_result"
    }
   ],
   "source": [
    "predict_favor(counterfact, model)"
   ]
  },
  {
   "cell_type": "code",
   "execution_count": 255,
   "metadata": {},
   "outputs": [
    {
     "data": {
      "image/png": "[encoded data removed]",
      "text/plain": [
       "<matplotlib.figure.Figure at 0x7fefa2409390>"
      ]
     },
     "metadata": {},
     "output_type": "display_data"
    }
   ],
   "source": [
    "actual = pd.Series([])\n",
    "counter = pd.Series([])\n",
    "for name, group in grouped_year4:\n",
    "    counter[name] = predict_favor(group, model)\n",
    "    actual[name] = group.favor.mean() * 100\n",
    "\n",
    "thinkplot.plot(actual.index, actual)\n",
    "thinkplot.plot(retro.index, retro)\n",
    "thinkplot.plot(counter.index, counter)"
   ]
  },
  {
   "cell_type": "markdown",
   "metadata": {},
   "source": [
    "### Run counterfactuals"
   ]
  },
  {
   "cell_type": "code",
   "execution_count": null,
   "metadata": {},
   "outputs": [],
   "source": []
  },
  {
   "cell_type": "code",
   "execution_count": null,
   "metadata": {
    "collapsed": true
   },
   "outputs": [],
   "source": []
  },
  {
   "cell_type": "code",
   "execution_count": null,
   "metadata": {
    "collapsed": true
   },
   "outputs": [],
   "source": []
  },
  {
   "cell_type": "code",
   "execution_count": null,
   "metadata": {
    "collapsed": true
   },
   "outputs": [],
   "source": []
  },
  {
   "cell_type": "code",
   "execution_count": null,
   "metadata": {
    "collapsed": true
   },
   "outputs": [],
   "source": []
  },
  {
   "cell_type": "code",
   "execution_count": null,
   "metadata": {
    "collapsed": true
   },
   "outputs": [],
   "source": []
  },
  {
   "cell_type": "code",
   "execution_count": null,
   "metadata": {
    "collapsed": true
   },
   "outputs": [],
   "source": []
  },
  {
   "cell_type": "markdown",
   "metadata": {},
   "source": [
    "## Favor gunlaw"
   ]
  },
  {
   "cell_type": "code",
   "execution_count": null,
   "metadata": {
    "collapsed": true
   },
   "outputs": [],
   "source": [
    "def make_series(grouped, varname):\n",
    "    \"\"\"Compute the percentage in each category.\n",
    "    \n",
    "    grouped: GroupBy object\n",
    "    varname: string column name\n",
    "    \n",
    "    returns:  Series\n",
    "    \"\"\"\n",
    "    return grouped[varname].mean() * 100"
   ]
  },
  {
   "cell_type": "code",
   "execution_count": null,
   "metadata": {
    "collapsed": true
   },
   "outputs": [],
   "source": [
    "def plot_series(series, **options):\n",
    "    \"\"\"Plots Series objects.\n",
    "    \n",
    "    series: Series\n",
    "    \"\"\"\n",
    "    thinkplot.plot(series.dropna(), **options)"
   ]
  },
  {
   "cell_type": "code",
   "execution_count": null,
   "metadata": {
    "collapsed": true
   },
   "outputs": [],
   "source": [
    "def plot_gunlaw(grouped):\n",
    "    \"\"\".\n",
    "    \n",
    "    grouped:\n",
    "    \"\"\"\n",
    "    varnames = ['favor']\n",
    "    colors = [BLUE]\n",
    "    labels = ['Favor']\n",
    "    series_seq = make_series_seq(grouped, varnames)\n",
    "    plot_series_seq(series_seq, colors, labels)"
   ]
  },
  {
   "cell_type": "markdown",
   "metadata": {},
   "source": [
    "Plot the percentage in each religious group as a function of survey year."
   ]
  },
  {
   "cell_type": "code",
   "execution_count": null,
   "metadata": {},
   "outputs": [],
   "source": [
    "grouped_year = sample.groupby('year')\n",
    "favor = make_series(grouped_year, 'favor')\n",
    "favor"
   ]
  },
  {
   "cell_type": "code",
   "execution_count": null,
   "metadata": {},
   "outputs": [],
   "source": [
    "plot_series(favor, color=BLUE, label='favor')\n",
    "thinkplot.config(xlabel='Year of survey', \n",
    "                 ylabel='Percent',\n",
    "                 xlim=[1971, 2017])"
   ]
  },
  {
   "cell_type": "code",
   "execution_count": null,
   "metadata": {},
   "outputs": [],
   "source": [
    "crime = make_series(grouped_year, 'crime')\n",
    "crime"
   ]
  },
  {
   "cell_type": "code",
   "execution_count": null,
   "metadata": {
    "collapsed": true
   },
   "outputs": [],
   "source": [
    "plot_series(crime.loc[1984:], color=RED, label='crime')\n",
    "thinkplot.config(xlabel='Year of survey', \n",
    "                 ylabel='Percent',\n",
    "                 xlim=[1971, 2017])"
   ]
  },
  {
   "cell_type": "code",
   "execution_count": null,
   "metadata": {
    "collapsed": true
   },
   "outputs": [],
   "source": [
    "plot_series(favor, color=BLUE, label='favor')\n",
    "plot_series(crime.loc[1984:], color=RED, label='crime')\n",
    "thinkplot.config(title='Support for gun control and concern about crime',\n",
    "                 xlabel='Year of survey', \n",
    "                 ylabel='Percent',\n",
    "                 xlim=[1971, 2017])"
   ]
  },
  {
   "cell_type": "code",
   "execution_count": null,
   "metadata": {
    "collapsed": true
   },
   "outputs": [],
   "source": [
    "grouped_age = sample.groupby(['age_group'])"
   ]
  },
  {
   "cell_type": "code",
   "execution_count": null,
   "metadata": {
    "collapsed": true
   },
   "outputs": [],
   "source": [
    "plot_gunlaw(grouped_age)\n",
    "thinkplot.config(xlabel='Age', ylabel='Percent')"
   ]
  },
  {
   "cell_type": "markdown",
   "metadata": {},
   "source": [
    "Plot the percentage in favor of gun permits as a function of birth cohort."
   ]
  },
  {
   "cell_type": "code",
   "execution_count": null,
   "metadata": {
    "collapsed": true
   },
   "outputs": [],
   "source": [
    "grouped_cohort = sample.groupby(['cohort5'])"
   ]
  },
  {
   "cell_type": "code",
   "execution_count": null,
   "metadata": {
    "collapsed": true
   },
   "outputs": [],
   "source": [
    "heri = pd.read_csv('heri_gun_control.csv')"
   ]
  },
  {
   "cell_type": "code",
   "execution_count": null,
   "metadata": {
    "collapsed": true
   },
   "outputs": [],
   "source": [
    "heri.year"
   ]
  },
  {
   "cell_type": "code",
   "execution_count": null,
   "metadata": {
    "collapsed": true
   },
   "outputs": [],
   "source": [
    "heri = pd.read_csv('heri_gun_control.csv')\n",
    "thinkplot.plot(heri.year, heri.agree, color=ORANGE)"
   ]
  },
  {
   "cell_type": "code",
   "execution_count": null,
   "metadata": {
    "collapsed": true
   },
   "outputs": [],
   "source": [
    "plot_gunlaw(grouped_cohort)\n",
    "thinkplot.plot(heri.yearm18, heri.agree, color=ORANGE, label='CIRP')\n",
    "thinkplot.config(xlabel='Year of birth', ylabel='Percent')"
   ]
  },
  {
   "cell_type": "markdown",
   "metadata": {},
   "source": [
    "## Logistic models"
   ]
  },
  {
   "cell_type": "code",
   "execution_count": null,
   "metadata": {
    "collapsed": true
   },
   "outputs": [],
   "source": [
    "def make_logit_model(df, var, factors):\n",
    "    \"\"\"Fit a logistic regression model.\n",
    "    \n",
    "    df: DataFrame\n",
    "    var: string name of dependent variable\n",
    "    factors: list of string names for factorscen\n",
    "    \n",
    "    returns: Logit model\n",
    "    \"\"\"\n",
    "    # TODO: investigate the missing=drop option\n",
    "    nonull = df.dropna(subset=factors+[var])\n",
    "    y = nonull[var].values\n",
    "    X = nonull[factors].values\n",
    "    return Logit(y, X).fit(disp=False, full_output=False)"
   ]
  },
  {
   "cell_type": "code",
   "execution_count": null,
   "metadata": {
    "collapsed": true
   },
   "outputs": [],
   "source": [
    "factors = ['ones', 'a', 'c', 'a2', 'c2', 'ac']\n",
    "factors = ['a', 'a2', 'nineties', 'eighties', 'seventies',\n",
    "           'sixties', 'fifties', 'forties', 'thirties', 'twenties']\n",
    "model = make_logit_model(sample, 'favor', factors)"
   ]
  },
  {
   "cell_type": "code",
   "execution_count": null,
   "metadata": {
    "collapsed": true
   },
   "outputs": [],
   "source": [
    "def predict_logit_model(age, model, year, factors):\n",
    "    \"\"\"Make a single-year prediction.\n",
    "    \n",
    "    age: Series of ages to simulate\n",
    "    model: Logit model\n",
    "    year: year to make a prediction for\n",
    "    factors: list of string names for factors\n",
    "    \n",
    "    returns: Series that maps index to percentage\n",
    "    \"\"\"\n",
    "    # resample the ages\n",
    "    n = len(age)\n",
    "    age = np.random.choice(age, n, replace=True)\n",
    "    \n",
    "    # compute cohort\n",
    "    cohort = year - age\n",
    "    df = pd.DataFrame(dict(cohort=cohort, age=age))\n",
    "    center_factors(df)\n",
    "    \n",
    "    # compute probabilities in each category for each respondent\n",
    "    X = df[factors].values\n",
    "    pred = model.predict(X)\n",
    "    \n",
    "    # toss a weighted coin for each respondent\n",
    "    choices = np.random.random(n) <= pred\n",
    "\n",
    "    # return the percentage in favor\n",
    "    return choices.mean() * 100"
   ]
  },
  {
   "cell_type": "code",
   "execution_count": null,
   "metadata": {
    "collapsed": true
   },
   "outputs": [],
   "source": [
    "age = sample.loc[sample.year==2016, 'age']"
   ]
  },
  {
   "cell_type": "code",
   "execution_count": null,
   "metadata": {
    "collapsed": true
   },
   "outputs": [],
   "source": [
    "predict_logit_model(age, model, 1976, factors)"
   ]
  },
  {
   "cell_type": "code",
   "execution_count": null,
   "metadata": {
    "collapsed": true
   },
   "outputs": [],
   "source": [
    "predict_logit_model(age, model, 2016, factors)"
   ]
  },
  {
   "cell_type": "code",
   "execution_count": null,
   "metadata": {
    "collapsed": true
   },
   "outputs": [],
   "source": [
    "predict_logit_model(age, model, 2026, factors)"
   ]
  },
  {
   "cell_type": "code",
   "execution_count": null,
   "metadata": {
    "collapsed": true
   },
   "outputs": [],
   "source": [
    "predict_logit_model(age, model, 2036, factors)"
   ]
  },
  {
   "cell_type": "code",
   "execution_count": null,
   "metadata": {
    "collapsed": true
   },
   "outputs": [],
   "source": [
    "def make_pred(df, var, varnames, years, factors):\n",
    "    \"\"\"Generate predictions from multinomial model.\n",
    "    \n",
    "    df: DataFrame of respondents\n",
    "    var: dependent variable\n",
    "    varnames: list of string variable names\n",
    "    years: sequence of years to generate predictions for\n",
    "    factors: list of string factor names for the model\n",
    "    \n",
    "    returns: DataFrame that maps from index to predicted values\n",
    "    \"\"\" \n",
    "    model = make_logit_model(df, var, factors)\n",
    "    age = df.loc[df.year==2016, 'age']\n",
    "\n",
    "    pred = pd.DataFrame(columns=varnames)\n",
    "    for year in years:\n",
    "        pred.loc[year] = predict_logit_model(age, model, year, factors)\n",
    "    return pred"
   ]
  },
  {
   "cell_type": "code",
   "execution_count": null,
   "metadata": {
    "collapsed": true
   },
   "outputs": [],
   "source": [
    "def plot_pred(df, pred, varnames, colors, alpha=0.2):\n",
    "    \"\"\"Plots predictions from multinomial model.\n",
    "    \n",
    "    pred: DataFrame with one column per variable\n",
    "    varnames: list of string variable names\n",
    "    colors: list of string colors\n",
    "    alpha: numerical transparency\n",
    "    \"\"\"\n",
    "    series_seq = [pred[var] for var in varnames]\n",
    "    for series, color in zip(series_seq, colors):\n",
    "        thinkplot.plot(series, color=color, alpha=alpha)\n",
    "    thinkplot.config(xlabel='Year of survey', loc='upper right')"
   ]
  },
  {
   "cell_type": "code",
   "execution_count": null,
   "metadata": {
    "collapsed": true
   },
   "outputs": [],
   "source": [
    "var = 'favor'\n",
    "varnames = ['favor']\n",
    "years = np.arange(1970, 2038)\n",
    "factors = ['ones', 'a', 'c']\n",
    "colors = [BLUE]\n",
    "\n",
    "pred = make_pred(sample, var, varnames, years, factors)\n",
    "plot_pred(sample, pred, varnames, colors)\n",
    "plot_gunlaw(grouped_year)\n",
    "thinkplot.config(xlim=[1971, 2038])"
   ]
  },
  {
   "cell_type": "code",
   "execution_count": null,
   "metadata": {
    "collapsed": true
   },
   "outputs": [],
   "source": [
    "var = 'favor'\n",
    "varnames = ['favor']\n",
    "years = np.arange(1970, 2038)\n",
    "factors = ['ones', 'a', 'c', 'a2', 'c2', 'ac']\n",
    "index = ['favor']\n",
    "colors = [BLUE]\n",
    "\n",
    "pred = make_pred(sample, var, varnames, years, factors)\n",
    "plot_pred(sample, pred, varnames, colors)\n",
    "plot_gunlaw(grouped_year)\n",
    "thinkplot.config(xlim=[1971, 2038])"
   ]
  },
  {
   "cell_type": "code",
   "execution_count": null,
   "metadata": {
    "collapsed": true
   },
   "outputs": [],
   "source": [
    "var = 'favor'\n",
    "varnames = ['favor']\n",
    "years = np.arange(1970, 2038)\n",
    "factors = ['a', 'a2', 'nineties', 'eighties', 'seventies',\n",
    "           'sixties', 'fifties', 'forties', 'thirties', 'twenties']\n",
    "index = ['favor']\n",
    "colors = [BLUE]\n",
    "\n",
    "pred = make_pred(sample, var, varnames, years, factors)\n",
    "plot_pred(sample, pred, varnames, colors)\n",
    "plot_gunlaw(grouped_year)\n",
    "thinkplot.config(xlim=[1971, 2038])"
   ]
  },
  {
   "cell_type": "markdown",
   "metadata": {},
   "source": [
    "## Resampling"
   ]
  },
  {
   "cell_type": "code",
   "execution_count": null,
   "metadata": {
    "collapsed": true
   },
   "outputs": [],
   "source": [
    "def make_series_df(grouped, varnames):\n",
    "    \"\"\"Compute the percentage in each category.\n",
    "    \n",
    "    grouped: GroupBy object with one-hots for each category\n",
    "    varnames: list of string column names\n",
    "    \n",
    "    returns: DataFrame\n",
    "    \"\"\"\n",
    "    df = pd.DataFrame(columns=varnames)\n",
    "    for var in varnames:\n",
    "        df[var] = grouped[var].mean() * 100\n",
    "    return df"
   ]
  },
  {
   "cell_type": "code",
   "execution_count": null,
   "metadata": {
    "collapsed": true
   },
   "outputs": [],
   "source": [
    "def percentile_rows(series_seq, ps):\n",
    "    \"\"\"Computes percentiles from aligned series.\n",
    "    \n",
    "    series_seq: list of sequences\n",
    "    ps: cumulative probabilities\n",
    "    \n",
    "    returns: Series of x-values, NumPy array with selected rows\n",
    "    \"\"\"\n",
    "    df = pd.concat(series_seq, axis=1).dropna()\n",
    "    xs = df.index\n",
    "    array = df.values.transpose()\n",
    "    array = np.sort(array, axis=0)\n",
    "    nrows, ncols = array.shape\n",
    "    indices = (ps * nrows).astype(int)\n",
    "    rows = array[indices]\n",
    "    return xs, rows"
   ]
  },
  {
   "cell_type": "code",
   "execution_count": null,
   "metadata": {
    "collapsed": true
   },
   "outputs": [],
   "source": [
    "def plot_percentiles(dfs, varnames, colors, labels, plot=True, fill=True, alpha=0.2):\n",
    "    \"\"\"Plots 90% CI and median.\n",
    "    \n",
    "    dfs: list of DataFrames\n",
    "    varnames: list of string variable names\n",
    "    colors: list of string colors\n",
    "    labels: list of string labels\n",
    "    plot: boolean, whether to plot the median\n",
    "    fill: boolean, whether to plot the CI\n",
    "    \"\"\"\n",
    "    ps = np.array([0.05, 0.5, 0.95])\n",
    "\n",
    "    for var, color, label in zip(varnames, colors, labels):\n",
    "        series_seq = [df[var] for df in dfs]\n",
    "        xs, rows = percentile_rows(series_seq, ps)\n",
    "        if fill:\n",
    "            thinkplot.fill_between(xs, rows[0], rows[2], color=color, alpha=alpha)\n",
    "        if plot:\n",
    "            thinkplot.plot(xs, rows[1], color=color, label=label)"
   ]
  },
  {
   "cell_type": "code",
   "execution_count": null,
   "metadata": {
    "collapsed": true
   },
   "outputs": [],
   "source": [
    "def run_data(df, groupvar, varnames, iters=11):\n",
    "    \"\"\"Resample and extract data.\n",
    "    \n",
    "    df: DataFrame\n",
    "    groupvar: string variable to group by\n",
    "    varnames: list of string variable names\n",
    "    iters: number of resamples\n",
    "    \"\"\"\n",
    "    def run():\n",
    "        sample = utils.ResampleByYear(df)\n",
    "        grouped_year = sample.groupby([groupvar])\n",
    "        return make_series_df(grouped_year, varnames)\n",
    "\n",
    "    dfs = [run() for _ in range(iters)]\n",
    "    return dfs"
   ]
  },
  {
   "cell_type": "code",
   "execution_count": null,
   "metadata": {
    "collapsed": true
   },
   "outputs": [],
   "source": [
    "def run_model(df, var, varnames, years, iters=11):\n",
    "    \"\"\"Resample and make predictions.\n",
    "    \n",
    "    df: DataFrame\n",
    "    var: string variable name to model\n",
    "    varnames: list of string variable names\n",
    "    years: list of years to predict\n",
    "    iters: number of resamples\n",
    "    \n",
    "    returns: list of DataFrames\n",
    "    \"\"\"\n",
    "    factors = ['ones', 'a', 'c', 'a2', 'c2', 'ac']\n",
    "    factors = ['a', 'a2', 'nineties', 'eighties', 'seventies',\n",
    "               'sixties', 'fifties', 'forties', 'thirties', 'twenties']\n",
    "\n",
    "    def run():\n",
    "        sample = utils.ResampleByYear(df)\n",
    "        return make_pred(sample, var, varnames, years, factors)\n",
    "\n",
    "    dfs = [run() for _ in range(iters)]\n",
    "    return dfs"
   ]
  },
  {
   "cell_type": "markdown",
   "metadata": {},
   "source": [
    "## Favor gun permits"
   ]
  },
  {
   "cell_type": "code",
   "execution_count": null,
   "metadata": {
    "collapsed": true
   },
   "outputs": [],
   "source": [
    "iters = 31"
   ]
  },
  {
   "cell_type": "code",
   "execution_count": null,
   "metadata": {
    "collapsed": true
   },
   "outputs": [],
   "source": [
    "groupvar = 'year'\n",
    "varnames = ['favor']"
   ]
  },
  {
   "cell_type": "code",
   "execution_count": null,
   "metadata": {
    "collapsed": true
   },
   "outputs": [],
   "source": [
    "dfs1 = run_data(gss, groupvar, varnames, iters=iters)"
   ]
  },
  {
   "cell_type": "code",
   "execution_count": null,
   "metadata": {
    "collapsed": true
   },
   "outputs": [],
   "source": [
    "colors = [BLUE]\n",
    "labels = [None]\n",
    "plot_percentiles(dfs1, varnames, colors, labels)\n",
    "thinkplot.config(title='Favor gun control', \n",
    "                 xlabel='Year of survey', ylabel='Percent',\n",
    "                 xlim=[1971, 2017], ylim=[50, 90])\n",
    "\n",
    "save_options = dict(fmt='png', dpi=50)\n",
    "thinkplot.SaveFormat('favor_year', **save_options)"
   ]
  },
  {
   "cell_type": "code",
   "execution_count": null,
   "metadata": {
    "collapsed": true
   },
   "outputs": [],
   "source": [
    "groupvar = 'cohort5'\n",
    "dfs2 = run_data(gss, groupvar, varnames, iters=iters)"
   ]
  },
  {
   "cell_type": "code",
   "execution_count": null,
   "metadata": {
    "collapsed": true
   },
   "outputs": [],
   "source": [
    "plot_percentiles(dfs2, varnames, colors, labels=['GSS'])\n",
    "thinkplot.config(title='Favor gun control, by year of birth', \n",
    "                 xlabel='Year of birth', ylabel='Percent',\n",
    "                 xlim=[1892, 2000], ylim=[50, 90], loc='lower right')\n",
    "\n",
    "thinkplot.SaveFormat('favor_age', **save_options)"
   ]
  },
  {
   "cell_type": "code",
   "execution_count": null,
   "metadata": {
    "collapsed": true
   },
   "outputs": [],
   "source": [
    "plot_percentiles(dfs2, varnames, colors, labels=['GSS'])\n",
    "\n",
    "# dropping the last data point because its a different question\n",
    "old = heri[heri.year<2016]\n",
    "thinkplot.plot(old.yearm18, old.agree, color=ORANGE, label='CIRP')\n",
    "\n",
    "thinkplot.config(title='Favor gun control, by year of birth', \n",
    "                 xlabel='Year of birth', ylabel='Percent',\n",
    "                 xlim=[1892, 2000], ylim=[50, 90], loc='lower right')\n",
    "\n",
    "thinkplot.SaveFormat('favor_age_cirp', **save_options)"
   ]
  },
  {
   "cell_type": "code",
   "execution_count": null,
   "metadata": {
    "collapsed": true
   },
   "outputs": [],
   "source": [
    "var = 'favor'\n",
    "years = np.arange(1972, 2030)\n",
    "\n",
    "dfs3 = run_model(gss, var, varnames, years, iters=iters)"
   ]
  },
  {
   "cell_type": "code",
   "execution_count": null,
   "metadata": {
    "collapsed": true,
    "scrolled": false
   },
   "outputs": [],
   "source": [
    "nolabels= [None]\n",
    "plot_percentiles(dfs3, varnames, colors, nolabels, plot=False)\n",
    "plot_percentiles(dfs1, varnames, colors, labels, fill=False)\n",
    "thinkplot.config(title='Favor gun control, predicted', \n",
    "                 xlabel='Year of survey', ylabel='Percent',\n",
    "                 xlim=[1971, 2030], ylim=[50, 90])\n",
    "\n",
    "thinkplot.SaveFormat('favor_year_pred', **save_options)"
   ]
  },
  {
   "cell_type": "markdown",
   "metadata": {
    "collapsed": true
   },
   "source": [
    "## Breakdown by political view"
   ]
  },
  {
   "cell_type": "code",
   "execution_count": null,
   "metadata": {
    "collapsed": true,
    "scrolled": true
   },
   "outputs": [],
   "source": [
    "gss.polviews.value_counts()"
   ]
  },
  {
   "cell_type": "code",
   "execution_count": null,
   "metadata": {
    "collapsed": true
   },
   "outputs": [],
   "source": [
    "liberal = gss[gss.liberal]\n",
    "liberal.shape"
   ]
  },
  {
   "cell_type": "code",
   "execution_count": null,
   "metadata": {
    "collapsed": true
   },
   "outputs": [],
   "source": [
    "conservative = gss[gss.conservative]\n",
    "conservative.shape"
   ]
  },
  {
   "cell_type": "code",
   "execution_count": null,
   "metadata": {
    "collapsed": true
   },
   "outputs": [],
   "source": [
    "moderate = gss[gss.moderate]\n",
    "moderate.shape"
   ]
  },
  {
   "cell_type": "code",
   "execution_count": null,
   "metadata": {
    "collapsed": true
   },
   "outputs": [],
   "source": [
    "groupvar = 'cohort5'\n",
    "dfs_lib = run_data(liberal, groupvar, varnames, iters=iters)\n",
    "dfs_mod = run_data(moderate, groupvar, varnames, iters=iters)\n",
    "dfs_con = run_data(conservative, groupvar, varnames, iters=iters)"
   ]
  },
  {
   "cell_type": "code",
   "execution_count": null,
   "metadata": {
    "collapsed": true,
    "scrolled": false
   },
   "outputs": [],
   "source": [
    "plot_percentiles(dfs_lib, varnames, [BLUE], labels=['liberal'], alpha=0.1)\n",
    "plot_percentiles(dfs_mod, varnames, [PURPLE], labels=['moderate'], alpha=0.1)\n",
    "plot_percentiles(dfs_con, varnames, [RED], labels=['conservative'], alpha=0.1)\n",
    "thinkplot.config(title='Favor gun control, grouped by political view', \n",
    "                 xlabel='Year of birth', ylabel='Percent',\n",
    "                 xlim=[1892, 2000], ylim=[40, 100], loc='lower left')\n",
    "\n",
    "thinkplot.SaveFormat('favor_polview_year', **save_options)"
   ]
  },
  {
   "cell_type": "code",
   "execution_count": null,
   "metadata": {
    "collapsed": true
   },
   "outputs": [],
   "source": [
    "groupvar = 'year'\n",
    "dfs_lib = run_data(liberal, groupvar, varnames, iters=iters)\n",
    "dfs_mod = run_data(moderate, groupvar, varnames, iters=iters)\n",
    "dfs_con = run_data(conservative, groupvar, varnames, iters=iters)"
   ]
  },
  {
   "cell_type": "code",
   "execution_count": null,
   "metadata": {
    "collapsed": true,
    "scrolled": false
   },
   "outputs": [],
   "source": [
    "plot_percentiles(dfs_lib, varnames, [BLUE], labels=['liberal'], alpha=0.1)\n",
    "plot_percentiles(dfs_mod, varnames, [PURPLE], labels=['moderate'], alpha=0.1)\n",
    "plot_percentiles(dfs_con, varnames, [RED], labels=['conservative'], alpha=0.1)\n",
    "thinkplot.config(title='Favor gun control, grouped by political view', \n",
    "                 xlabel='Year of survey', ylabel='Percent',\n",
    "                 xlim=[1972, 2017], ylim=[40, 100], loc='lower left')\n",
    "\n",
    "thinkplot.SaveFormat('favor_polview_year', **save_options)"
   ]
  },
  {
   "cell_type": "markdown",
   "metadata": {
    "collapsed": true
   },
   "source": [
    "## Breakdown by race"
   ]
  },
  {
   "cell_type": "code",
   "execution_count": null,
   "metadata": {
    "collapsed": true,
    "scrolled": true
   },
   "outputs": [],
   "source": [
    "gss.race.value_counts()"
   ]
  },
  {
   "cell_type": "code",
   "execution_count": null,
   "metadata": {
    "collapsed": true
   },
   "outputs": [],
   "source": [
    "white = gss[gss.race == 1]\n",
    "white.shape"
   ]
  },
  {
   "cell_type": "code",
   "execution_count": null,
   "metadata": {
    "collapsed": true
   },
   "outputs": [],
   "source": [
    "black = gss[gss.race == 2]\n",
    "black.shape"
   ]
  },
  {
   "cell_type": "code",
   "execution_count": null,
   "metadata": {
    "collapsed": true,
    "scrolled": true
   },
   "outputs": [],
   "source": [
    "nonwhite = gss[gss.race.isin([2,3])]\n",
    "nonwhite.shape"
   ]
  },
  {
   "cell_type": "code",
   "execution_count": null,
   "metadata": {
    "collapsed": true
   },
   "outputs": [],
   "source": [
    "white.favor.mean(), black.favor.mean(), nonwhite.favor.mean()"
   ]
  },
  {
   "cell_type": "code",
   "execution_count": null,
   "metadata": {
    "collapsed": true
   },
   "outputs": [],
   "source": [
    "liberal.favor.mean(), moderate.favor.mean(), conservative.favor.mean()"
   ]
  },
  {
   "cell_type": "code",
   "execution_count": null,
   "metadata": {
    "collapsed": true
   },
   "outputs": [],
   "source": [
    "white.liberal.mean(), black.liberal.mean(), nonwhite.liberal.mean()"
   ]
  },
  {
   "cell_type": "code",
   "execution_count": null,
   "metadata": {
    "collapsed": true
   },
   "outputs": [],
   "source": [
    "white.threatened.mean(), black.threatened.mean(), nonwhite.threatened.mean()"
   ]
  },
  {
   "cell_type": "code",
   "execution_count": null,
   "metadata": {
    "collapsed": true
   },
   "outputs": [],
   "source": [
    "gss.groupby('threatened').favor.mean()"
   ]
  },
  {
   "cell_type": "code",
   "execution_count": null,
   "metadata": {
    "collapsed": true
   },
   "outputs": [],
   "source": [
    "groupvar = 'year'\n",
    "varnames = ['favor']"
   ]
  },
  {
   "cell_type": "code",
   "execution_count": null,
   "metadata": {
    "collapsed": true
   },
   "outputs": [],
   "source": [
    "dfs_white = run_data(white, groupvar, varnames, iters=iters)\n",
    "dfs_nonwhite = run_data(nonwhite, groupvar, varnames, iters=iters)"
   ]
  },
  {
   "cell_type": "code",
   "execution_count": null,
   "metadata": {
    "collapsed": true
   },
   "outputs": [],
   "source": [
    "plot_percentiles(dfs_white, varnames, [BLUE], labels=['white'], alpha=0.1)\n",
    "plot_percentiles(dfs_nonwhite, varnames, [ORANGE], labels=['nonwhite'], alpha=0.1)\n",
    "thinkplot.config(title='Favor gun control, grouped by race', \n",
    "                 xlabel='Year of survey', ylabel='Percent',\n",
    "                 xlim=[1971, 2017], ylim=[40, 100], loc='lower left')\n",
    "\n",
    "thinkplot.SaveFormat('favor_race_year', **save_options)"
   ]
  },
  {
   "cell_type": "code",
   "execution_count": null,
   "metadata": {
    "collapsed": true
   },
   "outputs": [],
   "source": [
    "young = gss[gss.age<30]\n",
    "young_white = young[young.race == 1]\n",
    "young_nonwhite = young[young.race.isin([2,3])]\n",
    "\n",
    "groupvar = 'year4'"
   ]
  },
  {
   "cell_type": "code",
   "execution_count": null,
   "metadata": {
    "collapsed": true
   },
   "outputs": [],
   "source": [
    "dfs_white = run_data(young_white, groupvar, varnames, iters=iters)\n",
    "dfs_nonwhite = run_data(young_nonwhite, groupvar, varnames, iters=iters)"
   ]
  },
  {
   "cell_type": "code",
   "execution_count": null,
   "metadata": {
    "collapsed": true
   },
   "outputs": [],
   "source": [
    "plot_percentiles(dfs_white, varnames, [BLUE], labels=['white'], alpha=0.1)\n",
    "plot_percentiles(dfs_nonwhite, varnames, [ORANGE], labels=['nonwhite'], alpha=0.1)\n",
    "thinkplot.config(title='Favor gun control, by year of survey', \n",
    "                 xlabel='Year of survey', ylabel='Percent',\n",
    "                 xlim=[1970, 2017], ylim=[40, 100], loc='lower left')\n",
    "\n",
    "#thinkplot.SaveFormat('permit_cohort_race', **save_options)"
   ]
  },
  {
   "cell_type": "code",
   "execution_count": null,
   "metadata": {
    "collapsed": true
   },
   "outputs": [],
   "source": [
    "groupvar = 'cohort5'\n",
    "dfs_white = run_data(white, groupvar, varnames, iters=iters)\n",
    "dfs_nonwhite = run_data(nonwhite, groupvar, varnames, iters=iters)"
   ]
  },
  {
   "cell_type": "code",
   "execution_count": null,
   "metadata": {
    "collapsed": true,
    "scrolled": false
   },
   "outputs": [],
   "source": [
    "plot_percentiles(dfs_white, varnames, [BLUE], labels=['white'], alpha=0.1)\n",
    "plot_percentiles(dfs_nonwhite, varnames, [ORANGE], labels=['nonwhite'], alpha=0.1)\n",
    "thinkplot.config(title='Favor gun control, by year of birth', \n",
    "                 xlabel='Year of birth', ylabel='Percent',\n",
    "                 xlim=[1892, 2000], ylim=[40, 100], loc='lower left')\n",
    "\n",
    "thinkplot.SaveFormat('permit_cohort_race', **save_options)"
   ]
  },
  {
   "cell_type": "markdown",
   "metadata": {},
   "source": [
    "## Gun in home"
   ]
  },
  {
   "cell_type": "code",
   "execution_count": null,
   "metadata": {
    "collapsed": true
   },
   "outputs": [],
   "source": [
    "groupvar = 'year'\n",
    "varnames = ['gunhome']"
   ]
  },
  {
   "cell_type": "code",
   "execution_count": null,
   "metadata": {
    "collapsed": true
   },
   "outputs": [],
   "source": [
    "dfs4 = run_data(gss, groupvar, varnames, iters=iters)"
   ]
  },
  {
   "cell_type": "code",
   "execution_count": null,
   "metadata": {
    "collapsed": true
   },
   "outputs": [],
   "source": [
    "colors = [RED]\n",
    "labels = [None]\n",
    "plot_percentiles(dfs4, varnames, colors, labels)\n",
    "thinkplot.config(title='Have gun in home, by year of survey', \n",
    "                 xlabel='Year of survey', ylabel='Percent',\n",
    "                 xlim=[1970, 2017], ylim=[0, 70])\n",
    "\n",
    "thinkplot.SaveFormat('gunhome_year', **save_options)"
   ]
  },
  {
   "cell_type": "code",
   "execution_count": null,
   "metadata": {
    "collapsed": true
   },
   "outputs": [],
   "source": [
    "groupvar = 'cohort5'\n",
    "dfs5 = run_data(gss, groupvar, varnames, iters=iters)"
   ]
  },
  {
   "cell_type": "code",
   "execution_count": null,
   "metadata": {
    "collapsed": true
   },
   "outputs": [],
   "source": [
    "plot_percentiles(dfs5, varnames, colors, labels)\n",
    "thinkplot.config(title='Have gun in home, by year of birth', \n",
    "                 xlabel='Year of birth', ylabel='Percent',\n",
    "                 xlim=[1884, 2000], ylim=[0, 70])\n",
    "\n",
    "thinkplot.SaveFormat('gunhome_cohort', **save_options)"
   ]
  },
  {
   "cell_type": "code",
   "execution_count": null,
   "metadata": {
    "collapsed": true
   },
   "outputs": [],
   "source": [
    "var = 'gunhome'\n",
    "years = np.arange(1972, 2030)\n",
    "\n",
    "dfs6 = run_model(gss, var, varnames, years, iters=iters)"
   ]
  },
  {
   "cell_type": "code",
   "execution_count": null,
   "metadata": {
    "collapsed": true,
    "scrolled": false
   },
   "outputs": [],
   "source": [
    "nolabels= [None]\n",
    "plot_percentiles(dfs6, varnames, colors, nolabels, plot=False)\n",
    "plot_percentiles(dfs4, varnames, colors, labels, fill=False)\n",
    "thinkplot.config(title='Have gun in home, predicted', \n",
    "                 xlabel='Year of survey', ylabel='Percent',\n",
    "                 xlim=[1970, 2032], ylim=[0, 70])\n",
    "\n",
    "thinkplot.SaveFormat('gunhome_pred', **save_options)"
   ]
  },
  {
   "cell_type": "code",
   "execution_count": null,
   "metadata": {
    "collapsed": true
   },
   "outputs": [],
   "source": [
    "heri = pd.read_csv('heri_gun_control.csv')"
   ]
  },
  {
   "cell_type": "code",
   "execution_count": null,
   "metadata": {
    "collapsed": true
   },
   "outputs": [],
   "source": [
    "heri"
   ]
  },
  {
   "cell_type": "code",
   "execution_count": null,
   "metadata": {
    "collapsed": true
   },
   "outputs": [],
   "source": [
    "old = heri[heri.year<2016]\n",
    "new = heri[heri.year>=2016]"
   ]
  },
  {
   "cell_type": "code",
   "execution_count": null,
   "metadata": {
    "collapsed": true
   },
   "outputs": [],
   "source": [
    "thinkplot.plot(old.year, old.agree, color=ORANGE, label='\"Do more to control sale of handguns\"')\n",
    "thinkplot.plot(new.year, new.agree, 's', color=RED, label='\"Should have stricter gun control laws\"')\n",
    "\n",
    "thinkplot.config(title='Favor gun control, CIRP Freshman Survey', \n",
    "                 xlabel='Year of survey', ylabel='Percent',\n",
    "                 xlim=[1987, 2018], ylim=[60, 90], loc='lower left')\n",
    "\n",
    "thinkplot.SaveFormat('control_year_cirp', **save_options)"
   ]
  },
  {
   "cell_type": "markdown",
   "metadata": {},
   "source": [
    "## Age effect"
   ]
  },
  {
   "cell_type": "code",
   "execution_count": null,
   "metadata": {
    "collapsed": true
   },
   "outputs": [],
   "source": [
    "sample.head()"
   ]
  },
  {
   "cell_type": "code",
   "execution_count": null,
   "metadata": {
    "collapsed": true
   },
   "outputs": [],
   "source": [
    "grouped = sample.groupby('cohort10')\n",
    "for name, group in grouped:\n",
    "    print(name, len(group))"
   ]
  },
  {
   "cell_type": "code",
   "execution_count": null,
   "metadata": {
    "collapsed": true
   },
   "outputs": [],
   "source": [
    "cohort = grouped.get_group(1950.0)"
   ]
  },
  {
   "cell_type": "code",
   "execution_count": null,
   "metadata": {
    "collapsed": true
   },
   "outputs": [],
   "source": [
    "def plot_favor_by_age(cohort, **options):\n",
    "    age_groups = cohort.groupby('age3')\n",
    "    series = age_groups.favor.mean() * 100\n",
    "    thinkplot.plot(series.index, series.values, **options)"
   ]
  },
  {
   "cell_type": "code",
   "execution_count": null,
   "metadata": {
    "collapsed": true
   },
   "outputs": [],
   "source": [
    "names = [1940.0, 1950.0, 1960.0, 1970.0, 1980.0, 1990.0]\n",
    "labels = ['40s', '50s', '60s', '70s', '80s', '90s']\n",
    "colors = [RED, ORANGE, YELLOW, GREEN, BLUE, PURPLE]\n",
    "\n",
    "for i, name in enumerate(names):\n",
    "    cohort = grouped.get_group(name)\n",
    "    plot_favor_by_age(cohort, label=labels[i], color=colors[i])\n",
    "    \n",
    "thinkplot.config(title='Favor gun control, grouped by decade of birth', \n",
    "                 xlabel='Age', ylabel='Percent',\n",
    "                 xlim=[15, 80], ylim=[40, 95], loc='lower right')\n",
    "\n",
    "thinkplot.SaveFormat('favor_birth_age', **save_options)"
   ]
  },
  {
   "cell_type": "code",
   "execution_count": null,
   "metadata": {
    "collapsed": true
   },
   "outputs": [],
   "source": [
    "def plot_favor_by_year(cohort, **options):\n",
    "    age_groups = cohort.groupby('year4')\n",
    "    series = age_groups.favor.mean() * 100\n",
    "    thinkplot.plot(series.index, series.values, **options)"
   ]
  },
  {
   "cell_type": "code",
   "execution_count": null,
   "metadata": {
    "collapsed": true
   },
   "outputs": [],
   "source": [
    "for i, name in enumerate(names):\n",
    "    cohort = grouped.get_group(name)\n",
    "    plot_favor_by_year(cohort, label=labels[i], color=colors[i])\n",
    "    \n",
    "thinkplot.config(title='Favor gun control, grouped by decade of birth', \n",
    "                 xlabel='Year of survey', ylabel='Percent',\n",
    "                 xlim=[1970, 2019], ylim=[40, 95], loc='lower left')\n",
    "\n",
    "thinkplot.SaveFormat('favor_birth_year', **save_options)"
   ]
  },
  {
   "cell_type": "code",
   "execution_count": null,
   "metadata": {
    "collapsed": true
   },
   "outputs": [],
   "source": [
    "formula = 'favor ~ a + a2 + c + c2 + C(cohort10)'\n",
    "formula = 'favor ~ a + a2 + c + c2'\n",
    "formula = 'favor ~ a + nineties + eighties + seventies + sixties + fifties + forties + thirties + twenties'\n",
    "\n",
    "model = smf.logit(formula, data=sample).fit()\n",
    "model.summary()"
   ]
  },
  {
   "cell_type": "code",
   "execution_count": null,
   "metadata": {
    "collapsed": true
   },
   "outputs": [],
   "source": [
    "def predict_favor_by_age(model, birth_year):\n",
    "    age = np.linspace(20, 65)\n",
    "    cohort = np.ones_like(age) * birth_year\n",
    "    new = pd.DataFrame(dict(age=age, cohort=cohort))\n",
    "    center_factors(new)\n",
    "    predicted = model_predict(model, new)\n",
    "    return predicted"
   ]
  },
  {
   "cell_type": "code",
   "execution_count": null,
   "metadata": {
    "collapsed": true
   },
   "outputs": [],
   "source": [
    "def plot_predicted_by_age(predicted, **options):\n",
    "    thinkplot.plot(predicted.age, predicted.pred, **options)"
   ]
  },
  {
   "cell_type": "code",
   "execution_count": null,
   "metadata": {
    "collapsed": true
   },
   "outputs": [],
   "source": [
    "name = 1950.0\n",
    "predicted = predict_favor_by_age(model, name)\n",
    "plot_predicted_by_age(predicted, color=RED, linewidth=20, alpha=0.1)\n",
    "\n",
    "cohort = grouped.get_group(name)\n",
    "plot_favor_by_age(cohort, label='50s', color=RED)"
   ]
  },
  {
   "cell_type": "code",
   "execution_count": null,
   "metadata": {
    "collapsed": true
   },
   "outputs": [],
   "source": [
    "for i, name in enumerate(names):\n",
    "    predicted = predict_favor_by_age(model, name)\n",
    "    plot_predicted_by_age(predicted, color=colors[i], linewidth=5, alpha=0.2)\n",
    "    cohort = grouped.get_group(name)\n",
    "    plot_favor_by_age(cohort, label=labels[i], color=colors[i])\n",
    "    \n",
    "thinkplot.config(title='Favor gun control, by age', \n",
    "                 xlabel='Age', ylabel='Percent',\n",
    "                 xlim=[15, 70], ylim=[40, 95], loc='lower right')"
   ]
  },
  {
   "cell_type": "code",
   "execution_count": null,
   "metadata": {
    "collapsed": true
   },
   "outputs": [],
   "source": []
  },
  {
   "cell_type": "code",
   "execution_count": null,
   "metadata": {
    "collapsed": true
   },
   "outputs": [],
   "source": [
    "var = 'favor'\n",
    "years = np.arange(1972, 2030)\n",
    "\n",
    "dfs3 = run_model(gss, var, varnames, years, iters=iters)"
   ]
  },
  {
   "cell_type": "code",
   "execution_count": null,
   "metadata": {
    "collapsed": true,
    "scrolled": false
   },
   "outputs": [],
   "source": [
    "nolabels= [None]\n",
    "plot_percentiles(dfs3, varnames, colors, nolabels, plot=False)\n",
    "plot_percentiles(dfs1, varnames, colors, labels, fill=False)\n",
    "thinkplot.config(title='Favor gun control, predicted', \n",
    "                 xlabel='Year of survey', ylabel='Percent',\n",
    "                 xlim=[1971, 2030], ylim=[50, 90])\n",
    "\n",
    "thinkplot.SaveFormat('permit_pred', **save_options)"
   ]
  },
  {
   "cell_type": "code",
   "execution_count": null,
   "metadata": {
    "collapsed": true
   },
   "outputs": [],
   "source": []
  },
  {
   "cell_type": "code",
   "execution_count": null,
   "metadata": {
    "collapsed": true
   },
   "outputs": [],
   "source": []
  }
 ],
 "metadata": {
  "kernelspec": {
   "display_name": "Python 3",
   "language": "python",
   "name": "python3"
  },
  "language_info": {
   "codemirror_mode": {
    "name": "ipython",
    "version": 3
   },
   "file_extension": ".py",
   "mimetype": "text/x-python",
   "name": "python",
   "nbconvert_exporter": "python",
   "pygments_lexer": "ipython3",
   "version": "3.6.1"
  }
 },
 "nbformat": 4,
 "nbformat_minor": 1
}
