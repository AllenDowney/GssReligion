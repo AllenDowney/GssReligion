{
 "cells": [
  {
   "cell_type": "markdown",
   "metadata": {},
   "source": [
    "# A generational model of gun ownership and gun control\n",
    "\n",
    "Allen Downey\n",
    "\n",
    "[MIT License](https://en.wikipedia.org/wiki/MIT_License)"
   ]
  },
  {
   "cell_type": "code",
   "execution_count": 1,
   "metadata": {
    "collapsed": true
   },
   "outputs": [],
   "source": [
    "from __future__ import print_function, division\n",
    "\n",
    "%matplotlib inline\n",
    "\n",
    "import pandas as pd\n",
    "import numpy as np\n",
    "\n",
    "import thinkstats2\n",
    "import thinkplot\n",
    "import utils\n",
    "\n",
    "import statsmodels.formula.api as smf\n",
    "import matplotlib.pyplot as plt\n",
    "\n",
    "import matplotlib\n",
    "matplotlib.rc('figure', figsize=(4, 3))\n",
    "\n",
    "import seaborn as sns\n",
    "sns.set(style='white', font_scale=1.5, context='talk')\n",
    "RED, BLUE, GREEN, PURPLE, ORANGE, YELLOW = sns.color_palette('Set1')\n",
    "\n",
    "from collections import Counter\n",
    "from statsmodels.discrete.discrete_model import MNLogit\n",
    "from statsmodels.discrete.discrete_model import Logit"
   ]
  },
  {
   "cell_type": "markdown",
   "metadata": {},
   "source": [
    "## Loading and validation\n",
    "\n",
    "Reading data from the [General Social Survey](https://gssdataexplorer.norc.org/projects/29853)\n",
    "\n",
    "You can get my selected subset of variables from https://gssdataexplorer.norc.org/projects/41723#"
   ]
  },
  {
   "cell_type": "code",
   "execution_count": 2,
   "metadata": {},
   "outputs": [
    {
     "name": "stdout",
     "output_type": "stream",
     "text": [
      "(62466, 24)\n"
     ]
    },
    {
     "data": {
      "text/html": [
       "<div>\n",
       "<style>\n",
       "    .dataframe thead tr:only-child th {\n",
       "        text-align: right;\n",
       "    }\n",
       "\n",
       "    .dataframe thead th {\n",
       "        text-align: left;\n",
       "    }\n",
       "\n",
       "    .dataframe tbody tr th {\n",
       "        vertical-align: top;\n",
       "    }\n",
       "</style>\n",
       "<table border=\"1\" class=\"dataframe\">\n",
       "  <thead>\n",
       "    <tr style=\"text-align: right;\">\n",
       "      <th></th>\n",
       "      <th>year</th>\n",
       "      <th>conrinc</th>\n",
       "      <th>cohort</th>\n",
       "      <th>ballot</th>\n",
       "      <th>wtssall</th>\n",
       "      <th>income</th>\n",
       "      <th>finrela</th>\n",
       "      <th>realinc</th>\n",
       "      <th>sex</th>\n",
       "      <th>homosex</th>\n",
       "      <th>...</th>\n",
       "      <th>age</th>\n",
       "      <th>race</th>\n",
       "      <th>srcbelt</th>\n",
       "      <th>polviews</th>\n",
       "      <th>natcrime</th>\n",
       "      <th>gunlaw</th>\n",
       "      <th>gun</th>\n",
       "      <th>gunage</th>\n",
       "      <th>gunnum</th>\n",
       "      <th>educ</th>\n",
       "    </tr>\n",
       "  </thead>\n",
       "  <tbody>\n",
       "    <tr>\n",
       "      <th>0</th>\n",
       "      <td>1972</td>\n",
       "      <td>0.0</td>\n",
       "      <td>1949</td>\n",
       "      <td>0</td>\n",
       "      <td>0.4446</td>\n",
       "      <td>0</td>\n",
       "      <td>3</td>\n",
       "      <td>18951.0</td>\n",
       "      <td>2</td>\n",
       "      <td>0</td>\n",
       "      <td>...</td>\n",
       "      <td>23</td>\n",
       "      <td>1</td>\n",
       "      <td>3</td>\n",
       "      <td>0</td>\n",
       "      <td>0</td>\n",
       "      <td>1</td>\n",
       "      <td>0</td>\n",
       "      <td>0</td>\n",
       "      <td>0</td>\n",
       "      <td>16</td>\n",
       "    </tr>\n",
       "    <tr>\n",
       "      <th>1</th>\n",
       "      <td>1972</td>\n",
       "      <td>0.0</td>\n",
       "      <td>1902</td>\n",
       "      <td>0</td>\n",
       "      <td>0.8893</td>\n",
       "      <td>0</td>\n",
       "      <td>4</td>\n",
       "      <td>24366.0</td>\n",
       "      <td>1</td>\n",
       "      <td>0</td>\n",
       "      <td>...</td>\n",
       "      <td>70</td>\n",
       "      <td>1</td>\n",
       "      <td>3</td>\n",
       "      <td>0</td>\n",
       "      <td>0</td>\n",
       "      <td>1</td>\n",
       "      <td>0</td>\n",
       "      <td>0</td>\n",
       "      <td>0</td>\n",
       "      <td>10</td>\n",
       "    </tr>\n",
       "    <tr>\n",
       "      <th>2</th>\n",
       "      <td>1972</td>\n",
       "      <td>0.0</td>\n",
       "      <td>1924</td>\n",
       "      <td>0</td>\n",
       "      <td>0.8893</td>\n",
       "      <td>0</td>\n",
       "      <td>3</td>\n",
       "      <td>24366.0</td>\n",
       "      <td>2</td>\n",
       "      <td>0</td>\n",
       "      <td>...</td>\n",
       "      <td>48</td>\n",
       "      <td>1</td>\n",
       "      <td>3</td>\n",
       "      <td>0</td>\n",
       "      <td>0</td>\n",
       "      <td>1</td>\n",
       "      <td>0</td>\n",
       "      <td>0</td>\n",
       "      <td>0</td>\n",
       "      <td>12</td>\n",
       "    </tr>\n",
       "    <tr>\n",
       "      <th>3</th>\n",
       "      <td>1972</td>\n",
       "      <td>0.0</td>\n",
       "      <td>1945</td>\n",
       "      <td>0</td>\n",
       "      <td>0.8893</td>\n",
       "      <td>0</td>\n",
       "      <td>3</td>\n",
       "      <td>30458.0</td>\n",
       "      <td>2</td>\n",
       "      <td>0</td>\n",
       "      <td>...</td>\n",
       "      <td>27</td>\n",
       "      <td>1</td>\n",
       "      <td>3</td>\n",
       "      <td>0</td>\n",
       "      <td>0</td>\n",
       "      <td>1</td>\n",
       "      <td>0</td>\n",
       "      <td>0</td>\n",
       "      <td>0</td>\n",
       "      <td>17</td>\n",
       "    </tr>\n",
       "    <tr>\n",
       "      <th>4</th>\n",
       "      <td>1972</td>\n",
       "      <td>0.0</td>\n",
       "      <td>1911</td>\n",
       "      <td>0</td>\n",
       "      <td>0.8893</td>\n",
       "      <td>0</td>\n",
       "      <td>4</td>\n",
       "      <td>50763.0</td>\n",
       "      <td>2</td>\n",
       "      <td>0</td>\n",
       "      <td>...</td>\n",
       "      <td>61</td>\n",
       "      <td>1</td>\n",
       "      <td>3</td>\n",
       "      <td>0</td>\n",
       "      <td>0</td>\n",
       "      <td>1</td>\n",
       "      <td>0</td>\n",
       "      <td>0</td>\n",
       "      <td>0</td>\n",
       "      <td>12</td>\n",
       "    </tr>\n",
       "  </tbody>\n",
       "</table>\n",
       "<p>5 rows × 24 columns</p>\n",
       "</div>"
      ],
      "text/plain": [
       "   year  conrinc  cohort  ballot  wtssall  income  finrela  realinc  sex  \\\n",
       "0  1972      0.0    1949       0   0.4446       0        3  18951.0    2   \n",
       "1  1972      0.0    1902       0   0.8893       0        4  24366.0    1   \n",
       "2  1972      0.0    1924       0   0.8893       0        3  24366.0    2   \n",
       "3  1972      0.0    1945       0   0.8893       0        3  30458.0    2   \n",
       "4  1972      0.0    1911       0   0.8893       0        4  50763.0    2   \n",
       "\n",
       "   homosex  ...   age  race  srcbelt  polviews  natcrime  gunlaw  gun  gunage  \\\n",
       "0        0  ...    23     1        3         0         0       1    0       0   \n",
       "1        0  ...    70     1        3         0         0       1    0       0   \n",
       "2        0  ...    48     1        3         0         0       1    0       0   \n",
       "3        0  ...    27     1        3         0         0       1    0       0   \n",
       "4        0  ...    61     1        3         0         0       1    0       0   \n",
       "\n",
       "   gunnum  educ  \n",
       "0       0    16  \n",
       "1       0    10  \n",
       "2       0    12  \n",
       "3       0    17  \n",
       "4       0    12  \n",
       "\n",
       "[5 rows x 24 columns]"
      ]
     },
     "execution_count": 2,
     "metadata": {},
     "output_type": "execute_result"
    }
   ],
   "source": [
    "gss = utils.ReadGss('gss_gun')\n",
    "print(gss.shape)\n",
    "gss.head()"
   ]
  },
  {
   "cell_type": "code",
   "execution_count": 3,
   "metadata": {
    "collapsed": true
   },
   "outputs": [],
   "source": [
    "def replace_invalid(df):\n",
    "    df.gunlaw.replace([8, 9, 0], np.nan, inplace=True)\n",
    "    df.owngun.replace([3, 8, 9, 0], np.nan, inplace=True)\n",
    "    df.gun.replace([8, 9, 0], np.nan, inplace=True)\n",
    "    df.natcrime.replace([8, 9, 0], np.nan, inplace=True)\n",
    "    df.income.replace([0, 13, 98, 99], np.nan, inplace=True)\n",
    "    df.realinc.replace([0], np.nan, inplace=True)                  # TODO: check this\n",
    "    df.educ.replace([98,99], np.nan, inplace=True)\n",
    "    df.polviews.replace([8, 9, 0], np.nan, inplace=True)\n",
    "    df.age.replace([98, 99], np.nan, inplace=True)               # 89 means 89 or older\n",
    "    df.hispanic.replace([98, 99, 0], np.nan, inplace=True)\n",
    "    df.cohort.replace([9999], np.nan, inplace=True)"
   ]
  },
  {
   "cell_type": "code",
   "execution_count": 4,
   "metadata": {
    "collapsed": true
   },
   "outputs": [],
   "source": [
    "def numnull(series):\n",
    "    return sum(series.isnull())"
   ]
  },
  {
   "cell_type": "code",
   "execution_count": 5,
   "metadata": {
    "collapsed": true
   },
   "outputs": [],
   "source": [
    "replace_invalid(gss)"
   ]
  },
  {
   "cell_type": "markdown",
   "metadata": {},
   "source": [
    "### Variable `gunlaw`\n",
    "\n",
    "Would you favor or oppose a law which would require a person to obtain a police permit before he or she could buy a gun?\n",
    "\n",
    "https://gssdataexplorer.norc.org/projects/41723/variables/272/vshow"
   ]
  },
  {
   "cell_type": "code",
   "execution_count": 6,
   "metadata": {},
   "outputs": [
    {
     "data": {
      "text/plain": [
       "21994"
      ]
     },
     "execution_count": 6,
     "metadata": {},
     "output_type": "execute_result"
    }
   ],
   "source": [
    "numnull(gss.gunlaw)"
   ]
  },
  {
   "cell_type": "code",
   "execution_count": 7,
   "metadata": {},
   "outputs": [
    {
     "data": {
      "text/plain": [
       "1.0    30936\n",
       "2.0     9536\n",
       "Name: gunlaw, dtype: int64"
      ]
     },
     "execution_count": 7,
     "metadata": {},
     "output_type": "execute_result"
    }
   ],
   "source": [
    "utils.values(gss, 'gunlaw')"
   ]
  },
  {
   "cell_type": "markdown",
   "metadata": {},
   "source": [
    "### Variable `owngun`\n",
    "\n",
    "Do you happen to have in your home (IF HOUSE: or garage) any guns or revolvers?\n",
    "\n",
    "https://gssdataexplorer.norc.org/projects/41723/variables/679/vshow"
   ]
  },
  {
   "cell_type": "code",
   "execution_count": 8,
   "metadata": {},
   "outputs": [
    {
     "data": {
      "text/plain": [
       "24826"
      ]
     },
     "execution_count": 8,
     "metadata": {},
     "output_type": "execute_result"
    }
   ],
   "source": [
    "numnull(gss.owngun)"
   ]
  },
  {
   "cell_type": "code",
   "execution_count": 9,
   "metadata": {
    "scrolled": false
   },
   "outputs": [
    {
     "data": {
      "text/plain": [
       "1.0    15122\n",
       "2.0    22518\n",
       "Name: owngun, dtype: int64"
      ]
     },
     "execution_count": 9,
     "metadata": {},
     "output_type": "execute_result"
    }
   ],
   "source": [
    "utils.values(gss, 'owngun')"
   ]
  },
  {
   "cell_type": "markdown",
   "metadata": {},
   "source": [
    "### Variable `gun`\n",
    "\n",
    "Have you ever been threatened with a gun, or shot at? \n",
    "\n",
    "https://gssdataexplorer.norc.org/projects/41723/variables/661/vshow"
   ]
  },
  {
   "cell_type": "code",
   "execution_count": 10,
   "metadata": {},
   "outputs": [
    {
     "data": {
      "text/plain": [
       "43138"
      ]
     },
     "execution_count": 10,
     "metadata": {},
     "output_type": "execute_result"
    }
   ],
   "source": [
    "numnull(gss.gun)"
   ]
  },
  {
   "cell_type": "code",
   "execution_count": 11,
   "metadata": {
    "scrolled": false
   },
   "outputs": [
    {
     "data": {
      "text/plain": [
       "1.0     3775\n",
       "2.0    15553\n",
       "Name: gun, dtype: int64"
      ]
     },
     "execution_count": 11,
     "metadata": {},
     "output_type": "execute_result"
    }
   ],
   "source": [
    "utils.values(gss, 'gun')"
   ]
  },
  {
   "cell_type": "markdown",
   "metadata": {},
   "source": [
    "### Variable `natcrime`\n",
    "\n",
    "We are faced with many problems in this country, none of which can be solved easily or inexpensively. I'm going to name some of these problems, and for each one I'd like you to name some of these problems, and for each one I'd like you to tell me whether you think we're spending too much money on it, too little money, or about the right amount. First (READ ITEM A) . . . are we spending too much, too little, or about the right amount on (ITEM)? \n",
    "E. Halting the rising crime rate\n",
    "\n",
    "[Note: the wording of this question assumes that crime rates are rising!]\n",
    "\n",
    "https://gssdataexplorer.norc.org/projects/41723/variables/185/vshow"
   ]
  },
  {
   "cell_type": "code",
   "execution_count": 12,
   "metadata": {},
   "outputs": [
    {
     "data": {
      "text/plain": [
       "28064"
      ]
     },
     "execution_count": 12,
     "metadata": {},
     "output_type": "execute_result"
    }
   ],
   "source": [
    "numnull(gss.natcrime)"
   ]
  },
  {
   "cell_type": "code",
   "execution_count": 13,
   "metadata": {
    "scrolled": false
   },
   "outputs": [
    {
     "data": {
      "text/plain": [
       "1.0    23200\n",
       "2.0     9099\n",
       "3.0     2103\n",
       "Name: natcrime, dtype: int64"
      ]
     },
     "execution_count": 13,
     "metadata": {},
     "output_type": "execute_result"
    }
   ],
   "source": [
    "utils.values(gss, 'natcrime')"
   ]
  },
  {
   "cell_type": "markdown",
   "metadata": {},
   "source": [
    "### Variable `income`\n",
    "\n",
    "In which of these groups did your total family income, from all sources, fall last year before taxes, that is?\n",
    "\n"
   ]
  },
  {
   "cell_type": "code",
   "execution_count": 14,
   "metadata": {},
   "outputs": [
    {
     "data": {
      "text/plain": [
       "7961"
      ]
     },
     "execution_count": 14,
     "metadata": {},
     "output_type": "execute_result"
    }
   ],
   "source": [
    "varname = 'income'\n",
    "numnull(gss[varname])"
   ]
  },
  {
   "cell_type": "code",
   "execution_count": 15,
   "metadata": {},
   "outputs": [
    {
     "data": {
      "text/plain": [
       "1.0       762\n",
       "2.0      1301\n",
       "3.0      1253\n",
       "4.0      1153\n",
       "5.0      1267\n",
       "6.0      1214\n",
       "7.0      1268\n",
       "8.0      2149\n",
       "9.0      6354\n",
       "10.0     4965\n",
       "11.0     5047\n",
       "12.0    27772\n",
       "Name: income, dtype: int64"
      ]
     },
     "execution_count": 15,
     "metadata": {},
     "output_type": "execute_result"
    }
   ],
   "source": [
    "utils.values(gss, varname)"
   ]
  },
  {
   "cell_type": "code",
   "execution_count": 16,
   "metadata": {
    "scrolled": false
   },
   "outputs": [
    {
     "data": {
      "text/plain": [
       "count    54505.000000\n",
       "mean        10.036492\n",
       "std          2.845831\n",
       "min          1.000000\n",
       "25%          9.000000\n",
       "50%         12.000000\n",
       "75%         12.000000\n",
       "max         12.000000\n",
       "Name: income, dtype: float64"
      ]
     },
     "execution_count": 16,
     "metadata": {},
     "output_type": "execute_result"
    }
   ],
   "source": [
    "gss[varname].describe()"
   ]
  },
  {
   "cell_type": "markdown",
   "metadata": {},
   "source": [
    "### Variable `realinc`\n",
    "\n",
    "Family income on 1972-2006 surveys in constant dollars (base = 1986)\n",
    "\n",
    "https://gssdataexplorer.norc.org/variables/5198/vshow\n"
   ]
  },
  {
   "cell_type": "code",
   "execution_count": 17,
   "metadata": {},
   "outputs": [
    {
     "data": {
      "text/plain": [
       "6325"
      ]
     },
     "execution_count": 17,
     "metadata": {},
     "output_type": "execute_result"
    }
   ],
   "source": [
    "varname = 'realinc'\n",
    "numnull(gss[varname])"
   ]
  },
  {
   "cell_type": "code",
   "execution_count": 18,
   "metadata": {
    "scrolled": false
   },
   "outputs": [
    {
     "data": {
      "text/plain": [
       "count     56141.000000\n",
       "mean      31636.199666\n",
       "std       29402.370825\n",
       "min         234.000000\n",
       "25%       12080.625000\n",
       "50%       24097.500000\n",
       "75%       39022.500000\n",
       "max      162607.000000\n",
       "Name: realinc, dtype: float64"
      ]
     },
     "execution_count": 18,
     "metadata": {},
     "output_type": "execute_result"
    }
   ],
   "source": [
    "gss[varname].describe()"
   ]
  },
  {
   "cell_type": "markdown",
   "metadata": {},
   "source": [
    "### Variable `educ`\n",
    "\n",
    "A. What is the highest grade in elementary school or high school that (you/your father/ your mother/your [husband/wife]) finished and got credit for? CODE EXACT GRADE. \n",
    "B. IF FINISHED 9th-12th GRADE OR DK*: Did (you/he/she) ever get a high school diploma or a GED certificate? [SEE D BELOW.] [See REMARKS] \n",
    "C. Did (you/he/she) complete one or more years of college for credit--not including schooling such as business college, technical or vocational school? IF YES: How many years did (you/he/she) complete? \n",
    "Do you (Does [he/she]) have any college degrees? (IF YES: What degree or degrees?) CODE HIGHEST DEGREE EARNED.\n",
    "\n",
    "https://gssdataexplorer.norc.org/projects/41723/variables/55/vshow\n"
   ]
  },
  {
   "cell_type": "code",
   "execution_count": 19,
   "metadata": {},
   "outputs": [
    {
     "data": {
      "text/plain": [
       "174"
      ]
     },
     "execution_count": 19,
     "metadata": {},
     "output_type": "execute_result"
    }
   ],
   "source": [
    "varname = 'educ'\n",
    "numnull(gss[varname])"
   ]
  },
  {
   "cell_type": "code",
   "execution_count": 20,
   "metadata": {
    "scrolled": false
   },
   "outputs": [
    {
     "data": {
      "text/plain": [
       "0.0       161\n",
       "1.0        45\n",
       "2.0       148\n",
       "3.0       247\n",
       "4.0       314\n",
       "5.0       399\n",
       "6.0       808\n",
       "7.0       871\n",
       "8.0      2689\n",
       "9.0      2032\n",
       "10.0     2815\n",
       "11.0     3648\n",
       "12.0    19006\n",
       "13.0     5177\n",
       "14.0     6847\n",
       "15.0     2783\n",
       "16.0     7925\n",
       "17.0     1870\n",
       "18.0     2265\n",
       "19.0      875\n",
       "20.0     1367\n",
       "Name: educ, dtype: int64"
      ]
     },
     "execution_count": 20,
     "metadata": {},
     "output_type": "execute_result"
    }
   ],
   "source": [
    "utils.values(gss, varname)"
   ]
  },
  {
   "cell_type": "markdown",
   "metadata": {},
   "source": [
    "### Variable `polviews`\n",
    "\n",
    "\n",
    "A. We hear a lot of talk these days about liberals and conservatives. \n",
    "I'm going to show you a seven-point scale on which the political views that people might hold are arranged from extremely liberal--point 1--to extremely conservative--point 7. Where would you place yourself on this scale?\n",
    "\n",
    "https://gssdataexplorer.norc.org/projects/41723/variables/178/vshow"
   ]
  },
  {
   "cell_type": "code",
   "execution_count": 21,
   "metadata": {},
   "outputs": [
    {
     "data": {
      "text/plain": [
       "9385"
      ]
     },
     "execution_count": 21,
     "metadata": {},
     "output_type": "execute_result"
    }
   ],
   "source": [
    "varname = 'polviews'\n",
    "numnull(gss[varname])"
   ]
  },
  {
   "cell_type": "code",
   "execution_count": 22,
   "metadata": {},
   "outputs": [
    {
     "data": {
      "text/plain": [
       "1.0     1560\n",
       "2.0     6236\n",
       "3.0     6754\n",
       "4.0    20515\n",
       "5.0     8407\n",
       "6.0     7876\n",
       "7.0     1733\n",
       "Name: polviews, dtype: int64"
      ]
     },
     "execution_count": 22,
     "metadata": {},
     "output_type": "execute_result"
    }
   ],
   "source": [
    "utils.values(gss, varname)"
   ]
  },
  {
   "cell_type": "markdown",
   "metadata": {},
   "source": [
    "### Age \n",
    "\n",
    "https://gssdataexplorer.norc.org/projects/29853/variables/53/vshow"
   ]
  },
  {
   "cell_type": "code",
   "execution_count": 23,
   "metadata": {},
   "outputs": [
    {
     "data": {
      "text/plain": [
       "221"
      ]
     },
     "execution_count": 23,
     "metadata": {},
     "output_type": "execute_result"
    }
   ],
   "source": [
    "numnull(gss.age)"
   ]
  },
  {
   "cell_type": "code",
   "execution_count": 24,
   "metadata": {},
   "outputs": [
    {
     "data": {
      "image/png": "[encoded data removed]",
      "text/plain": [
       "<matplotlib.figure.Figure at 0x7f560cb77828>"
      ]
     },
     "metadata": {},
     "output_type": "display_data"
    }
   ],
   "source": [
    "thinkplot.Cdf(thinkstats2.Cdf(gss.age))\n",
    "thinkplot.Config(xlabel='Age', ylabel='CDF')"
   ]
  },
  {
   "cell_type": "markdown",
   "metadata": {},
   "source": [
    "### Year of birth \n",
    "\n",
    "https://gssdataexplorer.norc.org/projects/29853/variables/5507/vshow"
   ]
  },
  {
   "cell_type": "code",
   "execution_count": 25,
   "metadata": {},
   "outputs": [
    {
     "data": {
      "text/plain": [
       "221"
      ]
     },
     "execution_count": 25,
     "metadata": {},
     "output_type": "execute_result"
    }
   ],
   "source": [
    "numnull(gss.cohort)"
   ]
  },
  {
   "cell_type": "code",
   "execution_count": 26,
   "metadata": {
    "scrolled": true
   },
   "outputs": [
    {
     "data": {
      "image/png": "[encoded data removed]",
      "text/plain": [
       "<matplotlib.figure.Figure at 0x7f560f3dbd68>"
      ]
     },
     "metadata": {},
     "output_type": "display_data"
    }
   ],
   "source": [
    "thinkplot.Cdf(thinkstats2.Cdf(gss.cohort))\n",
    "thinkplot.Config(xlabel='Year of birth', ylabel='CDF')"
   ]
  },
  {
   "cell_type": "markdown",
   "metadata": {},
   "source": [
    "### Sex \n",
    "\n",
    "https://gssdataexplorer.norc.org/projects/41723/variables/81/vshow"
   ]
  },
  {
   "cell_type": "code",
   "execution_count": 27,
   "metadata": {},
   "outputs": [
    {
     "data": {
      "text/plain": [
       "0"
      ]
     },
     "execution_count": 27,
     "metadata": {},
     "output_type": "execute_result"
    }
   ],
   "source": [
    "numnull(gss.sex)"
   ]
  },
  {
   "cell_type": "code",
   "execution_count": 28,
   "metadata": {
    "scrolled": true
   },
   "outputs": [
    {
     "data": {
      "text/plain": [
       "1    27562\n",
       "2    34904\n",
       "Name: sex, dtype: int64"
      ]
     },
     "execution_count": 28,
     "metadata": {},
     "output_type": "execute_result"
    }
   ],
   "source": [
    "utils.values(gss, 'sex')"
   ]
  },
  {
   "cell_type": "markdown",
   "metadata": {},
   "source": [
    "### Race\n",
    "\n",
    "https://gssdataexplorer.norc.org/projects/41723/variables/82/vshow\n",
    "\n",
    "CODE WITHOUT ASKING ONLY IF THERE IS NO DOUBT IN YOUR MIND. \n",
    "What race do you consider yourself? RECORD VERBATIM AND CODE."
   ]
  },
  {
   "cell_type": "code",
   "execution_count": 29,
   "metadata": {},
   "outputs": [
    {
     "data": {
      "text/plain": [
       "0"
      ]
     },
     "execution_count": 29,
     "metadata": {},
     "output_type": "execute_result"
    }
   ],
   "source": [
    "numnull(gss.race)"
   ]
  },
  {
   "cell_type": "code",
   "execution_count": 30,
   "metadata": {
    "scrolled": false
   },
   "outputs": [
    {
     "data": {
      "text/plain": [
       "1    50340\n",
       "2     8802\n",
       "3     3324\n",
       "Name: race, dtype: int64"
      ]
     },
     "execution_count": 30,
     "metadata": {},
     "output_type": "execute_result"
    }
   ],
   "source": [
    "utils.values(gss, 'race')"
   ]
  },
  {
   "cell_type": "markdown",
   "metadata": {},
   "source": [
    "### Hispanic \n",
    "\n"
   ]
  },
  {
   "cell_type": "code",
   "execution_count": 31,
   "metadata": {
    "scrolled": true
   },
   "outputs": [
    {
     "data": {
      "text/plain": [
       "38149"
      ]
     },
     "execution_count": 31,
     "metadata": {},
     "output_type": "execute_result"
    }
   ],
   "source": [
    "numnull(gss.hispanic)"
   ]
  },
  {
   "cell_type": "code",
   "execution_count": 32,
   "metadata": {},
   "outputs": [
    {
     "data": {
      "text/plain": [
       "1.0     21571\n",
       "2.0      1661\n",
       "3.0       346\n",
       "4.0       115\n",
       "5.0        91\n",
       "6.0        52\n",
       "7.0        14\n",
       "8.0        18\n",
       "9.0         3\n",
       "10.0       25\n",
       "11.0       38\n",
       "15.0       63\n",
       "16.0        1\n",
       "20.0       27\n",
       "21.0       32\n",
       "22.0       37\n",
       "23.0       13\n",
       "24.0       12\n",
       "25.0        3\n",
       "30.0      121\n",
       "31.0        2\n",
       "35.0        7\n",
       "40.0        5\n",
       "41.0       21\n",
       "42.0        1\n",
       "45.0        3\n",
       "46.0       12\n",
       "47.0       13\n",
       "50.0       10\n",
       "Name: hispanic, dtype: int64"
      ]
     },
     "execution_count": 32,
     "metadata": {},
     "output_type": "execute_result"
    }
   ],
   "source": [
    "utils.values(gss, 'hispanic')"
   ]
  },
  {
   "cell_type": "markdown",
   "metadata": {},
   "source": [
    "### srcbelt\n",
    "\n",
    "C. SRC (SURVEY RESEARCH CENTER, UNIVERSITY OF MICHIGAN) NEW BELT CODE\n",
    "\n",
    "https://gssdataexplorer.norc.org/projects/41723/variables/121/vshow"
   ]
  },
  {
   "cell_type": "code",
   "execution_count": 33,
   "metadata": {},
   "outputs": [
    {
     "data": {
      "text/plain": [
       "0"
      ]
     },
     "execution_count": 33,
     "metadata": {},
     "output_type": "execute_result"
    }
   ],
   "source": [
    "numnull(gss.srcbelt)"
   ]
  },
  {
   "cell_type": "code",
   "execution_count": 34,
   "metadata": {
    "scrolled": true
   },
   "outputs": [
    {
     "data": {
      "text/plain": [
       "1     5572\n",
       "2     8670\n",
       "3     7113\n",
       "4     9348\n",
       "5    23583\n",
       "6     8180\n",
       "Name: srcbelt, dtype: int64"
      ]
     },
     "execution_count": 34,
     "metadata": {},
     "output_type": "execute_result"
    }
   ],
   "source": [
    "utils.values(gss, 'srcbelt')"
   ]
  },
  {
   "cell_type": "markdown",
   "metadata": {},
   "source": [
    "### Make age and cohort groups"
   ]
  },
  {
   "cell_type": "markdown",
   "metadata": {},
   "source": [
    "Group people into 5- and 10-year bins by birth year."
   ]
  },
  {
   "cell_type": "code",
   "execution_count": 35,
   "metadata": {
    "collapsed": true
   },
   "outputs": [],
   "source": [
    "gss['cohort5'] = utils.RoundIntoBins(gss, 'cohort', 5, low=2) + 2.5"
   ]
  },
  {
   "cell_type": "code",
   "execution_count": 36,
   "metadata": {},
   "outputs": [
    {
     "data": {
      "text/plain": [
       "cohort5\n",
       "1884.5      15\n",
       "1889.5      85\n",
       "1894.5     216\n",
       "1899.5     443\n",
       "1904.5     722\n",
       "1909.5    1089\n",
       "1914.5    1500\n",
       "1919.5    1837\n",
       "1924.5    2145\n",
       "1929.5    2146\n",
       "1934.5    2328\n",
       "1939.5    2616\n",
       "1944.5    3336\n",
       "1949.5    4254\n",
       "1954.5    4150\n",
       "1959.5    3717\n",
       "1964.5    2935\n",
       "1969.5    2230\n",
       "1974.5    1644\n",
       "1979.5    1266\n",
       "1984.5     879\n",
       "1989.5     560\n",
       "1994.5     213\n",
       "1999.5      14\n",
       "2004.5     132\n",
       "Name: gunlaw, dtype: int64"
      ]
     },
     "execution_count": 36,
     "metadata": {},
     "output_type": "execute_result"
    }
   ],
   "source": [
    "grouped_cohort = gss.groupby(['cohort5'])\n",
    "counts = grouped_cohort.gunlaw.count()           # count cases where we have the dependent var\n",
    "counts"
   ]
  },
  {
   "cell_type": "markdown",
   "metadata": {},
   "source": [
    "To avoid a final data point with a small sample size, I chose `low` to minimize the number of people in the last group, and I've lumped them in with the previous group."
   ]
  },
  {
   "cell_type": "code",
   "execution_count": 37,
   "metadata": {
    "collapsed": true
   },
   "outputs": [],
   "source": [
    "gss.loc[gss.cohort5==1999.5, 'cohort5'] = 1994.5\n",
    "gss.loc[gss.cohort5<1894, 'cohort5'] = 1894.5"
   ]
  },
  {
   "cell_type": "code",
   "execution_count": 38,
   "metadata": {},
   "outputs": [
    {
     "data": {
      "text/plain": [
       "cohort5\n",
       "1894.5     316\n",
       "1899.5     443\n",
       "1904.5     722\n",
       "1909.5    1089\n",
       "1914.5    1500\n",
       "1919.5    1837\n",
       "1924.5    2145\n",
       "1929.5    2146\n",
       "1934.5    2328\n",
       "1939.5    2616\n",
       "1944.5    3336\n",
       "1949.5    4254\n",
       "1954.5    4150\n",
       "1959.5    3717\n",
       "1964.5    2935\n",
       "1969.5    2230\n",
       "1974.5    1644\n",
       "1979.5    1266\n",
       "1984.5     879\n",
       "1989.5     560\n",
       "1994.5     227\n",
       "2004.5     132\n",
       "Name: gunlaw, dtype: int64"
      ]
     },
     "execution_count": 38,
     "metadata": {},
     "output_type": "execute_result"
    }
   ],
   "source": [
    "grouped_cohort = gss.groupby(['cohort5'])\n",
    "counts = grouped_cohort.gunlaw.count()\n",
    "counts"
   ]
  },
  {
   "cell_type": "code",
   "execution_count": 39,
   "metadata": {
    "collapsed": true
   },
   "outputs": [],
   "source": [
    "gss['cohort10'] = utils.RoundIntoBins(gss, 'cohort', 10)"
   ]
  },
  {
   "cell_type": "code",
   "execution_count": 40,
   "metadata": {},
   "outputs": [
    {
     "data": {
      "text/plain": [
       "cohort10\n",
       "1880.0      53\n",
       "1890.0     502\n",
       "1900.0    1563\n",
       "1910.0    3024\n",
       "1920.0    4212\n",
       "1930.0    4703\n",
       "1940.0    6929\n",
       "1950.0    8212\n",
       "1960.0    5721\n",
       "1970.0    3278\n",
       "1980.0    1750\n",
       "1990.0     393\n",
       "2000.0     132\n",
       "Name: gunlaw, dtype: int64"
      ]
     },
     "execution_count": 40,
     "metadata": {},
     "output_type": "execute_result"
    }
   ],
   "source": [
    "grouped_cohort = gss.groupby(['cohort10'])\n",
    "counts = grouped_cohort.gunlaw.count()\n",
    "counts"
   ]
  },
  {
   "cell_type": "markdown",
   "metadata": {},
   "source": [
    "Here's the number of respondents in each year."
   ]
  },
  {
   "cell_type": "code",
   "execution_count": 41,
   "metadata": {},
   "outputs": [
    {
     "data": {
      "text/plain": [
       "1972    1613\n",
       "1973    1504\n",
       "1974    1484\n",
       "1975    1490\n",
       "1976    1499\n",
       "1977    1530\n",
       "1978    1532\n",
       "1980    1468\n",
       "1982    1860\n",
       "1983    1599\n",
       "1984    1473\n",
       "1985    1534\n",
       "1986    1470\n",
       "1987    1819\n",
       "1988    1481\n",
       "1989    1537\n",
       "1990    1372\n",
       "1991    1517\n",
       "1993    1606\n",
       "1994    2992\n",
       "1996    2904\n",
       "1998    2832\n",
       "2000    2817\n",
       "2002    2765\n",
       "2004    2812\n",
       "2006    4510\n",
       "2008    2023\n",
       "2010    2044\n",
       "2012    1974\n",
       "2014    2538\n",
       "2016    2867\n",
       "Name: year, dtype: int64"
      ]
     },
     "execution_count": 41,
     "metadata": {},
     "output_type": "execute_result"
    }
   ],
   "source": [
    "utils.values(gss, 'year')"
   ]
  },
  {
   "cell_type": "markdown",
   "metadata": {},
   "source": [
    "Group into 4 year intervals, chosen to get 2014 and 2016 into the last bin."
   ]
  },
  {
   "cell_type": "code",
   "execution_count": 42,
   "metadata": {},
   "outputs": [
    {
     "data": {
      "text/plain": [
       "1971    3117\n",
       "1975    6003\n",
       "1979    3000\n",
       "1983    6466\n",
       "1987    6307\n",
       "1991    4495\n",
       "1995    5896\n",
       "1999    5649\n",
       "2003    5577\n",
       "2007    6533\n",
       "2011    4018\n",
       "2015    5405\n",
       "Name: year4, dtype: int64"
      ]
     },
     "execution_count": 42,
     "metadata": {},
     "output_type": "execute_result"
    }
   ],
   "source": [
    "gss['year4'] = utils.RoundIntoBins(gss, 'year', 4, low=1970) + 1\n",
    "utils.values(gss, 'year4')"
   ]
  },
  {
   "cell_type": "markdown",
   "metadata": {},
   "source": [
    "Group people into 5 and 3-year age groups."
   ]
  },
  {
   "cell_type": "code",
   "execution_count": 43,
   "metadata": {},
   "outputs": [
    {
     "data": {
      "text/plain": [
       "17.5    1054\n",
       "22.5    5283\n",
       "27.5    6663\n",
       "32.5    6784\n",
       "37.5    6475\n",
       "42.5    5924\n",
       "47.5    5375\n",
       "52.5    5007\n",
       "57.5    4530\n",
       "62.5    4047\n",
       "67.5    3612\n",
       "72.5    2955\n",
       "77.5    2207\n",
       "82.5    1381\n",
       "87.5     948\n",
       "92.5     221\n",
       "Name: age5, dtype: int64"
      ]
     },
     "execution_count": 43,
     "metadata": {},
     "output_type": "execute_result"
    }
   ],
   "source": [
    "gss['age5'] = utils.RoundIntoBins(gss, 'age', 5) + 2.5\n",
    "utils.values(gss, 'age5')"
   ]
  },
  {
   "cell_type": "code",
   "execution_count": 44,
   "metadata": {},
   "outputs": [
    {
     "data": {
      "text/plain": [
       "19.5    1924\n",
       "22.5    3238\n",
       "25.5    3815\n",
       "28.5    4023\n",
       "31.5    4094\n",
       "34.5    4033\n",
       "37.5    3951\n",
       "40.5    3609\n",
       "43.5    3496\n",
       "46.5    3217\n",
       "49.5    3178\n",
       "52.5    3019\n",
       "55.5    2817\n",
       "58.5    2681\n",
       "61.5    2538\n",
       "64.5    2289\n",
       "67.5    2184\n",
       "70.5    1913\n",
       "73.5    1690\n",
       "76.5    1418\n",
       "79.5    1114\n",
       "82.5     840\n",
       "85.5     573\n",
       "88.5     591\n",
       "91.5     221\n",
       "Name: age3, dtype: int64"
      ]
     },
     "execution_count": 44,
     "metadata": {},
     "output_type": "execute_result"
    }
   ],
   "source": [
    "gss['age3'] = utils.RoundIntoBins(gss, 'age', 3, low=0) + 1.5\n",
    "utils.values(gss, 'age3')"
   ]
  },
  {
   "cell_type": "code",
   "execution_count": null,
   "metadata": {
    "collapsed": true
   },
   "outputs": [],
   "source": []
  },
  {
   "cell_type": "markdown",
   "metadata": {},
   "source": [
    "### Make booleans"
   ]
  },
  {
   "cell_type": "code",
   "execution_count": 45,
   "metadata": {
    "collapsed": true
   },
   "outputs": [],
   "source": [
    "def copy_nan(df, varname, newvar):\n",
    "    df.loc[df[varname].isnull(), newvar] = np.nan"
   ]
  },
  {
   "cell_type": "code",
   "execution_count": 46,
   "metadata": {
    "collapsed": true
   },
   "outputs": [],
   "source": [
    "def make_boolean(df, varname, values, newvar):\n",
    "    \"\"\"Make a boolean variable.\n",
    "    \n",
    "    df: DataFrame\n",
    "    varname: name of base variable\n",
    "    values: sequence of values for varname\n",
    "    newvar: name of new variable (recode)\n",
    "    \"\"\"\n",
    "    #assert numnull(df[varname]) == 0\n",
    "    df[newvar] = df[varname].isin(values)\n",
    "    copy_nan(df, varname, newvar)"
   ]
  },
  {
   "cell_type": "code",
   "execution_count": 47,
   "metadata": {},
   "outputs": [],
   "source": [
    "def make_booleans(df):\n",
    "    df['cohort10'] = utils.RoundIntoBins(df, 'cohort', 10)\n",
    "    make_boolean(df, 'cohort10', [1920], 'twenties')\n",
    "    make_boolean(df, 'cohort10', [1930], 'thirties')\n",
    "    make_boolean(df, 'cohort10', [1940], 'forties')\n",
    "    make_boolean(df, 'cohort10', [1950], 'fifties')\n",
    "    make_boolean(df, 'cohort10', [1960], 'sixties')\n",
    "    make_boolean(df, 'cohort10', [1970], 'seventies')\n",
    "    make_boolean(df, 'cohort10', [1980], 'eighties')\n",
    "    make_boolean(df, 'cohort10', [1990], 'nineties')\n",
    "    make_boolean(df, 'gunlaw', [1.0], 'favor')\n",
    "    make_boolean(df, 'owngun', [1.0], 'gunhome')\n",
    "    make_boolean(df, 'gun', [1.0], 'threatened')\n",
    "    make_boolean(df, 'natcrime', [1.0], 'spendcrime')\n",
    "    make_boolean(df, 'income', [12], 'topincome')\n",
    "    make_boolean(df, 'income', [1,2,3,4,5,6,7,8], 'lowincome')\n",
    "    make_boolean(df, 'polviews', [1,2,3], 'liberal')\n",
    "    make_boolean(df, 'polviews', [4], 'moderate')\n",
    "    make_boolean(df, 'polviews', [6,7,8], 'conservative')\n",
    "    make_boolean(df, 'sex', [2], 'female')\n",
    "    make_boolean(df, 'hispanic', [2], 'ishisp')\n",
    "    make_boolean(df, 'race', [2], 'black')\n",
    "    make_boolean(df, 'race', [3], 'otherrace')\n",
    "    make_boolean(df, 'srcbelt', [1,2,5], 'urban')\n",
    "    make_boolean(df, 'srcbelt', [3,4], 'suburban')\n",
    "    make_boolean(df, 'srcbelt', [6], 'rural')\n",
    "\n",
    "    df['college'] = df['educ'] >= 13 \n",
    "    copy_nan(df, 'educ', 'college')\n",
    "    \n",
    "    per25 = df['realinc'].quantile(0.25)\n",
    "    df['lowrealinc'] = df['realinc'] <= per25 \n",
    "    copy_nan(df, 'realinc', 'lowrealinc')\n",
    "\n",
    "    per75 = df['realinc'].quantile(0.75)\n",
    "    df['highrealinc'] = df['realinc'] >= per75 \n",
    "    copy_nan(df, 'realinc', 'highrealinc')\n",
    "\n",
    "make_booleans(gss)"
   ]
  },
  {
   "cell_type": "markdown",
   "metadata": {},
   "source": [
    "### Resample"
   ]
  },
  {
   "cell_type": "code",
   "execution_count": 48,
   "metadata": {},
   "outputs": [
    {
     "data": {
      "text/plain": [
       "(62466, 56)"
      ]
     },
     "execution_count": 48,
     "metadata": {},
     "output_type": "execute_result"
    }
   ],
   "source": [
    "sample = utils.ResampleByYear(gss).copy()\n",
    "sample.shape"
   ]
  },
  {
   "cell_type": "code",
   "execution_count": 49,
   "metadata": {},
   "outputs": [
    {
     "data": {
      "text/plain": [
       "0.0    56493\n",
       "1.0     5973\n",
       "Name: twenties, dtype: int64"
      ]
     },
     "execution_count": 49,
     "metadata": {},
     "output_type": "execute_result"
    }
   ],
   "source": [
    "utils.values(sample, 'twenties')"
   ]
  },
  {
   "cell_type": "code",
   "execution_count": 50,
   "metadata": {},
   "outputs": [
    {
     "data": {
      "text/plain": [
       "0.0    55554\n",
       "1.0     6912\n",
       "Name: thirties, dtype: int64"
      ]
     },
     "execution_count": 50,
     "metadata": {},
     "output_type": "execute_result"
    }
   ],
   "source": [
    "utils.values(sample, 'thirties')"
   ]
  },
  {
   "cell_type": "code",
   "execution_count": 51,
   "metadata": {},
   "outputs": [
    {
     "data": {
      "text/plain": [
       "0.0    52264\n",
       "1.0    10202\n",
       "Name: forties, dtype: int64"
      ]
     },
     "execution_count": 51,
     "metadata": {},
     "output_type": "execute_result"
    }
   ],
   "source": [
    "utils.values(sample, 'forties')"
   ]
  },
  {
   "cell_type": "code",
   "execution_count": 52,
   "metadata": {},
   "outputs": [
    {
     "data": {
      "text/plain": [
       "0.0    49483\n",
       "1.0    12983\n",
       "Name: fifties, dtype: int64"
      ]
     },
     "execution_count": 52,
     "metadata": {},
     "output_type": "execute_result"
    }
   ],
   "source": [
    "utils.values(sample, 'fifties')"
   ]
  },
  {
   "cell_type": "code",
   "execution_count": 53,
   "metadata": {},
   "outputs": [
    {
     "data": {
      "text/plain": [
       "0.0    52560\n",
       "1.0     9906\n",
       "Name: sixties, dtype: int64"
      ]
     },
     "execution_count": 53,
     "metadata": {},
     "output_type": "execute_result"
    }
   ],
   "source": [
    "utils.values(sample, 'sixties')"
   ]
  },
  {
   "cell_type": "code",
   "execution_count": 54,
   "metadata": {},
   "outputs": [
    {
     "data": {
      "text/plain": [
       "0.0    56336\n",
       "1.0     6130\n",
       "Name: seventies, dtype: int64"
      ]
     },
     "execution_count": 54,
     "metadata": {},
     "output_type": "execute_result"
    }
   ],
   "source": [
    "utils.values(sample, 'seventies')"
   ]
  },
  {
   "cell_type": "code",
   "execution_count": 55,
   "metadata": {},
   "outputs": [
    {
     "data": {
      "text/plain": [
       "0.0    59054\n",
       "1.0     3412\n",
       "Name: eighties, dtype: int64"
      ]
     },
     "execution_count": 55,
     "metadata": {},
     "output_type": "execute_result"
    }
   ],
   "source": [
    "utils.values(sample, 'eighties')"
   ]
  },
  {
   "cell_type": "code",
   "execution_count": 56,
   "metadata": {},
   "outputs": [
    {
     "data": {
      "text/plain": [
       "0.0    61567\n",
       "1.0      899\n",
       "Name: nineties, dtype: int64"
      ]
     },
     "execution_count": 56,
     "metadata": {},
     "output_type": "execute_result"
    }
   ],
   "source": [
    "utils.values(sample, 'nineties')"
   ]
  },
  {
   "cell_type": "code",
   "execution_count": 57,
   "metadata": {},
   "outputs": [
    {
     "data": {
      "text/plain": [
       "0.0     9770\n",
       "1.0    30847\n",
       "Name: favor, dtype: int64"
      ]
     },
     "execution_count": 57,
     "metadata": {},
     "output_type": "execute_result"
    }
   ],
   "source": [
    "utils.values(sample, 'favor')"
   ]
  },
  {
   "cell_type": "code",
   "execution_count": 58,
   "metadata": {},
   "outputs": [
    {
     "data": {
      "text/plain": [
       "0.0    21465\n",
       "1.0    16243\n",
       "Name: gunhome, dtype: int64"
      ]
     },
     "execution_count": 58,
     "metadata": {},
     "output_type": "execute_result"
    }
   ],
   "source": [
    "utils.values(sample, 'gunhome')"
   ]
  },
  {
   "cell_type": "code",
   "execution_count": 59,
   "metadata": {},
   "outputs": [
    {
     "data": {
      "text/plain": [
       "0.0    15539\n",
       "1.0     3737\n",
       "Name: threatened, dtype: int64"
      ]
     },
     "execution_count": 59,
     "metadata": {},
     "output_type": "execute_result"
    }
   ],
   "source": [
    "utils.values(sample, 'threatened')"
   ]
  },
  {
   "cell_type": "code",
   "execution_count": 60,
   "metadata": {},
   "outputs": [
    {
     "data": {
      "text/plain": [
       "0.0    11145\n",
       "1.0    23434\n",
       "Name: spendcrime, dtype: int64"
      ]
     },
     "execution_count": 60,
     "metadata": {},
     "output_type": "execute_result"
    }
   ],
   "source": [
    "utils.values(sample, 'spendcrime')"
   ]
  },
  {
   "cell_type": "code",
   "execution_count": 61,
   "metadata": {},
   "outputs": [
    {
     "data": {
      "text/plain": [
       "0.0    24112\n",
       "1.0    29862\n",
       "Name: topincome, dtype: int64"
      ]
     },
     "execution_count": 61,
     "metadata": {},
     "output_type": "execute_result"
    }
   ],
   "source": [
    "utils.values(sample, 'topincome')"
   ]
  },
  {
   "cell_type": "code",
   "execution_count": 62,
   "metadata": {
    "scrolled": false
   },
   "outputs": [
    {
     "data": {
      "text/plain": [
       "0.0    45400\n",
       "1.0     8574\n",
       "Name: lowincome, dtype: int64"
      ]
     },
     "execution_count": 62,
     "metadata": {},
     "output_type": "execute_result"
    }
   ],
   "source": [
    "utils.values(sample, 'lowincome')"
   ]
  },
  {
   "cell_type": "code",
   "execution_count": 63,
   "metadata": {},
   "outputs": [
    {
     "data": {
      "text/plain": [
       "0.0    44023\n",
       "1.0    11609\n",
       "Name: lowrealinc, dtype: int64"
      ]
     },
     "execution_count": 63,
     "metadata": {},
     "output_type": "execute_result"
    }
   ],
   "source": [
    "utils.values(sample, 'lowrealinc')"
   ]
  },
  {
   "cell_type": "code",
   "execution_count": 64,
   "metadata": {
    "scrolled": false
   },
   "outputs": [
    {
     "data": {
      "text/plain": [
       "0.0    39102\n",
       "1.0    16530\n",
       "Name: highrealinc, dtype: int64"
      ]
     },
     "execution_count": 64,
     "metadata": {},
     "output_type": "execute_result"
    }
   ],
   "source": [
    "utils.values(sample, 'highrealinc')"
   ]
  },
  {
   "cell_type": "code",
   "execution_count": 65,
   "metadata": {},
   "outputs": [
    {
     "data": {
      "text/plain": [
       "0.0    39009\n",
       "1.0    14165\n",
       "Name: liberal, dtype: int64"
      ]
     },
     "execution_count": 65,
     "metadata": {},
     "output_type": "execute_result"
    }
   ],
   "source": [
    "utils.values(sample, 'liberal')"
   ]
  },
  {
   "cell_type": "code",
   "execution_count": 66,
   "metadata": {},
   "outputs": [
    {
     "data": {
      "text/plain": [
       "0.0    32720\n",
       "1.0    20454\n",
       "Name: moderate, dtype: int64"
      ]
     },
     "execution_count": 66,
     "metadata": {},
     "output_type": "execute_result"
    }
   ],
   "source": [
    "utils.values(sample, 'moderate')"
   ]
  },
  {
   "cell_type": "code",
   "execution_count": 67,
   "metadata": {},
   "outputs": [
    {
     "data": {
      "text/plain": [
       "0.0    43338\n",
       "1.0     9836\n",
       "Name: conservative, dtype: int64"
      ]
     },
     "execution_count": 67,
     "metadata": {},
     "output_type": "execute_result"
    }
   ],
   "source": [
    "utils.values(sample, 'conservative')"
   ]
  },
  {
   "cell_type": "code",
   "execution_count": 68,
   "metadata": {},
   "outputs": [
    {
     "data": {
      "text/plain": [
       "0.0    28437\n",
       "1.0    34029\n",
       "Name: female, dtype: int64"
      ]
     },
     "execution_count": 68,
     "metadata": {},
     "output_type": "execute_result"
    }
   ],
   "source": [
    "utils.values(sample, 'female')"
   ]
  },
  {
   "cell_type": "code",
   "execution_count": 69,
   "metadata": {},
   "outputs": [
    {
     "data": {
      "text/plain": [
       "0.0    22493\n",
       "1.0     1822\n",
       "Name: ishisp, dtype: int64"
      ]
     },
     "execution_count": 69,
     "metadata": {},
     "output_type": "execute_result"
    }
   ],
   "source": [
    "utils.values(sample, 'ishisp')"
   ]
  },
  {
   "cell_type": "code",
   "execution_count": 70,
   "metadata": {},
   "outputs": [
    {
     "data": {
      "text/plain": [
       "0.0    54077\n",
       "1.0     8389\n",
       "Name: black, dtype: int64"
      ]
     },
     "execution_count": 70,
     "metadata": {},
     "output_type": "execute_result"
    }
   ],
   "source": [
    "utils.values(sample, 'black')"
   ]
  },
  {
   "cell_type": "code",
   "execution_count": 71,
   "metadata": {},
   "outputs": [
    {
     "data": {
      "text/plain": [
       "0.0    58756\n",
       "1.0     3710\n",
       "Name: otherrace, dtype: int64"
      ]
     },
     "execution_count": 71,
     "metadata": {},
     "output_type": "execute_result"
    }
   ],
   "source": [
    "utils.values(sample, 'otherrace')"
   ]
  },
  {
   "cell_type": "code",
   "execution_count": 72,
   "metadata": {},
   "outputs": [
    {
     "data": {
      "text/plain": [
       "0.0    25375\n",
       "1.0    37091\n",
       "Name: urban, dtype: int64"
      ]
     },
     "execution_count": 72,
     "metadata": {},
     "output_type": "execute_result"
    }
   ],
   "source": [
    "utils.values(sample, 'urban')"
   ]
  },
  {
   "cell_type": "code",
   "execution_count": 73,
   "metadata": {},
   "outputs": [
    {
     "data": {
      "text/plain": [
       "0.0    45261\n",
       "1.0    17205\n",
       "Name: suburban, dtype: int64"
      ]
     },
     "execution_count": 73,
     "metadata": {},
     "output_type": "execute_result"
    }
   ],
   "source": [
    "utils.values(sample, 'suburban')"
   ]
  },
  {
   "cell_type": "code",
   "execution_count": 74,
   "metadata": {},
   "outputs": [
    {
     "data": {
      "text/plain": [
       "0.0    54296\n",
       "1.0     8170\n",
       "Name: rural, dtype: int64"
      ]
     },
     "execution_count": 74,
     "metadata": {},
     "output_type": "execute_result"
    }
   ],
   "source": [
    "utils.values(sample, 'rural')"
   ]
  },
  {
   "cell_type": "code",
   "execution_count": 75,
   "metadata": {
    "scrolled": true
   },
   "outputs": [
    {
     "data": {
      "text/plain": [
       "0.0    33432\n",
       "1.0    28867\n",
       "Name: college, dtype: int64"
      ]
     },
     "execution_count": 75,
     "metadata": {},
     "output_type": "execute_result"
    }
   ],
   "source": [
    "utils.values(sample, 'college')"
   ]
  },
  {
   "cell_type": "markdown",
   "metadata": {},
   "source": [
    "### Look at trends"
   ]
  },
  {
   "cell_type": "code",
   "execution_count": 76,
   "metadata": {
    "collapsed": true
   },
   "outputs": [],
   "source": [
    "def plot_series(grouped, varname, **options):\n",
    "    series = grouped[varname].mean() * 100\n",
    "    thinkplot.plot(series.dropna(), **options, label=varname)\n",
    "    thinkplot.config(xlabel='Year of survey', \n",
    "                     ylabel='Percent',\n",
    "                     xlim=[1971, 2017])"
   ]
  },
  {
   "cell_type": "code",
   "execution_count": 77,
   "metadata": {
    "collapsed": true
   },
   "outputs": [],
   "source": [
    "grouped_year4 = sample.groupby('year4')"
   ]
  },
  {
   "cell_type": "code",
   "execution_count": 78,
   "metadata": {},
   "outputs": [
    {
     "data": {
      "image/png": "[encoded data removed]",
      "text/plain": [
       "<matplotlib.figure.Figure at 0x7f560f3f8f98>"
      ]
     },
     "metadata": {},
     "output_type": "display_data"
    }
   ],
   "source": [
    "plot_series(grouped_year4, 'nineties')\n",
    "plot_series(grouped_year4, 'eighties')\n",
    "plot_series(grouped_year4, 'seventies')\n",
    "plot_series(grouped_year4, 'sixties')\n",
    "plot_series(grouped_year4, 'fifties')"
   ]
  },
  {
   "cell_type": "code",
   "execution_count": 79,
   "metadata": {},
   "outputs": [
    {
     "data": {
      "image/png": "[encoded data removed]",
      "text/plain": [
       "<matplotlib.figure.Figure at 0x7f5607923d30>"
      ]
     },
     "metadata": {},
     "output_type": "display_data"
    }
   ],
   "source": [
    "plot_series(grouped_year4, 'female')\n",
    "plot_series(grouped_year4, 'black')\n",
    "plot_series(grouped_year4, 'otherrace')\n",
    "plot_series(grouped_year4, 'ishisp')"
   ]
  },
  {
   "cell_type": "code",
   "execution_count": 80,
   "metadata": {},
   "outputs": [
    {
     "data": {
      "image/png": "[encoded data removed]",
      "text/plain": [
       "<matplotlib.figure.Figure at 0x7f56079292e8>"
      ]
     },
     "metadata": {},
     "output_type": "display_data"
    }
   ],
   "source": [
    "plot_series(grouped_year4, 'liberal')\n",
    "plot_series(grouped_year4, 'conservative')"
   ]
  },
  {
   "cell_type": "code",
   "execution_count": 81,
   "metadata": {},
   "outputs": [
    {
     "data": {
      "image/png": "[encoded data removed]",
      "text/plain": [
       "<matplotlib.figure.Figure at 0x7f5607878828>"
      ]
     },
     "metadata": {},
     "output_type": "display_data"
    }
   ],
   "source": [
    "plot_series(grouped_year4, 'highrealinc')\n",
    "plot_series(grouped_year4, 'lowrealinc')"
   ]
  },
  {
   "cell_type": "code",
   "execution_count": 82,
   "metadata": {},
   "outputs": [
    {
     "data": {
      "image/png": "[encoded data removed]",
      "text/plain": [
       "<matplotlib.figure.Figure at 0x7f560781fb38>"
      ]
     },
     "metadata": {},
     "output_type": "display_data"
    }
   ],
   "source": [
    "plot_series(grouped_year4, 'urban')\n",
    "plot_series(grouped_year4, 'rural')"
   ]
  },
  {
   "cell_type": "code",
   "execution_count": 83,
   "metadata": {},
   "outputs": [
    {
     "data": {
      "image/png": "[encoded data removed]",
      "text/plain": [
       "<matplotlib.figure.Figure at 0x7f560778f208>"
      ]
     },
     "metadata": {},
     "output_type": "display_data"
    }
   ],
   "source": [
    "plot_series(grouped_year4, 'college')\n",
    "plot_series(grouped_year4, 'threatened')\n",
    "plot_series(grouped_year4, 'gunhome')"
   ]
  },
  {
   "cell_type": "markdown",
   "metadata": {},
   "source": [
    "### Fill missing values"
   ]
  },
  {
   "cell_type": "code",
   "execution_count": 84,
   "metadata": {
    "collapsed": true
   },
   "outputs": [],
   "source": [
    "def fill_missing_column(df, colname):\n",
    "    \"\"\"Fills missing values of the given column.\n",
    "\n",
    "    df: DataFrame\n",
    "    colname: string\n",
    "    \"\"\"\n",
    "    null = df[df[colname].isnull()]\n",
    "\n",
    "    print(colname, len(null))\n",
    "\n",
    "    valid = df[colname].dropna()\n",
    "    fill = valid.sample(len(null), replace=True)\n",
    "    fill.index = null.index\n",
    "\n",
    "    df[colname].fillna(fill, inplace=True)"
   ]
  },
  {
   "cell_type": "code",
   "execution_count": 85,
   "metadata": {
    "collapsed": true
   },
   "outputs": [],
   "source": [
    "def fill_age(df):\n",
    "    \"\"\"Fills age based on year and cohort.\n",
    "    \n",
    "    df: DataFrame\n",
    "    \"\"\"\n",
    "    colname = 'age'\n",
    "    null = df[df[colname].isnull()]\n",
    "\n",
    "    print('age', len(null))\n",
    "    \n",
    "    fill = df.year - df.cohort\n",
    "\n",
    "    df[colname].fillna(fill, inplace=True)"
   ]
  },
  {
   "cell_type": "code",
   "execution_count": 86,
   "metadata": {
    "collapsed": true
   },
   "outputs": [],
   "source": [
    "def fill_all_missing(df):\n",
    "    varnames = ['year', 'cohort', 'owngun', 'gun', 'natcrime', 'income', 'realinc', 'educ',\n",
    "                'polviews', 'sex', 'race', 'hispanic', 'srcbelt']\n",
    "    for varname in varnames:\n",
    "        fill_missing_column(df, varname)\n",
    "    fill_age(df)"
   ]
  },
  {
   "cell_type": "code",
   "execution_count": 87,
   "metadata": {},
   "outputs": [
    {
     "name": "stdout",
     "output_type": "stream",
     "text": [
      "year 0\n",
      "cohort 188\n",
      "owngun 24758\n",
      "gun 43190\n",
      "natcrime 27887\n",
      "income 8492\n",
      "realinc 6834\n",
      "educ 167\n",
      "polviews 9292\n",
      "sex 0\n",
      "race 0\n",
      "hispanic 38151\n",
      "srcbelt 0\n",
      "age 188\n"
     ]
    }
   ],
   "source": [
    "fill_all_missing(sample)"
   ]
  },
  {
   "cell_type": "markdown",
   "metadata": {},
   "source": [
    "After filling, we have to make booleans again."
   ]
  },
  {
   "cell_type": "code",
   "execution_count": 88,
   "metadata": {
    "collapsed": true
   },
   "outputs": [],
   "source": [
    "make_booleans(sample)"
   ]
  },
  {
   "cell_type": "markdown",
   "metadata": {},
   "source": [
    "### Center cohort, age, and year."
   ]
  },
  {
   "cell_type": "code",
   "execution_count": 89,
   "metadata": {
    "collapsed": true
   },
   "outputs": [],
   "source": [
    "def center_factors(df):\n",
    "    \"\"\"Center factors around their means.\n",
    "    \n",
    "    Add centered factors to make the coeffients\n",
    "    of the model easier to interpret.\n",
    "    \n",
    "    df: DataFrame\n",
    "    \"\"\"\n",
    "    df['ones'] = np.ones_like(df.cohort)\n",
    "    df['c'] = df.cohort - 1966\n",
    "    df['a'] = df.age - 47\n",
    "    df['y'] = df.year - 1990\n",
    "    \n",
    "    # also add quadratic factors and interaction term\n",
    "    df['c2'] = df.c**2\n",
    "    df['a2'] = df.a**2\n",
    "    df['y2'] = df.y**2\n",
    "    df['ac'] = df.a * df.c"
   ]
  },
  {
   "cell_type": "code",
   "execution_count": 90,
   "metadata": {},
   "outputs": [],
   "source": [
    "center_factors(sample)"
   ]
  },
  {
   "cell_type": "code",
   "execution_count": null,
   "metadata": {},
   "outputs": [],
   "source": []
  },
  {
   "cell_type": "markdown",
   "metadata": {},
   "source": [
    "### Run logistic models\n",
    "\n"
   ]
  },
  {
   "cell_type": "markdown",
   "metadata": {},
   "source": [
    "Drop records if we don't have the dependent variable."
   ]
  },
  {
   "cell_type": "code",
   "execution_count": 91,
   "metadata": {},
   "outputs": [
    {
     "data": {
      "text/plain": [
       "(40617, 64)"
      ]
     },
     "execution_count": 91,
     "metadata": {},
     "output_type": "execute_result"
    }
   ],
   "source": [
    "subset = sample.dropna(subset=['gunlaw'])\n",
    "subset.shape"
   ]
  },
  {
   "cell_type": "markdown",
   "metadata": {},
   "source": [
    "How many records did we lose?"
   ]
  },
  {
   "cell_type": "code",
   "execution_count": 92,
   "metadata": {},
   "outputs": [
    {
     "data": {
      "text/plain": [
       "21849"
      ]
     },
     "execution_count": 92,
     "metadata": {},
     "output_type": "execute_result"
    }
   ],
   "source": [
    "sample.shape[0] - subset.shape[0]"
   ]
  },
  {
   "cell_type": "code",
   "execution_count": 93,
   "metadata": {
    "scrolled": true
   },
   "outputs": [
    {
     "data": {
      "text/html": [
       "<div>\n",
       "<style>\n",
       "    .dataframe thead tr:only-child th {\n",
       "        text-align: right;\n",
       "    }\n",
       "\n",
       "    .dataframe thead th {\n",
       "        text-align: left;\n",
       "    }\n",
       "\n",
       "    .dataframe tbody tr th {\n",
       "        vertical-align: top;\n",
       "    }\n",
       "</style>\n",
       "<table border=\"1\" class=\"dataframe\">\n",
       "  <thead>\n",
       "    <tr style=\"text-align: right;\">\n",
       "      <th></th>\n",
       "      <th>year</th>\n",
       "      <th>conrinc</th>\n",
       "      <th>cohort</th>\n",
       "      <th>ballot</th>\n",
       "      <th>wtssall</th>\n",
       "      <th>income</th>\n",
       "      <th>finrela</th>\n",
       "      <th>realinc</th>\n",
       "      <th>sex</th>\n",
       "      <th>homosex</th>\n",
       "      <th>...</th>\n",
       "      <th>lowrealinc</th>\n",
       "      <th>highrealinc</th>\n",
       "      <th>ones</th>\n",
       "      <th>c</th>\n",
       "      <th>a</th>\n",
       "      <th>y</th>\n",
       "      <th>c2</th>\n",
       "      <th>a2</th>\n",
       "      <th>y2</th>\n",
       "      <th>ac</th>\n",
       "    </tr>\n",
       "  </thead>\n",
       "  <tbody>\n",
       "    <tr>\n",
       "      <th>0</th>\n",
       "      <td>1972</td>\n",
       "      <td>0.0</td>\n",
       "      <td>1918.0</td>\n",
       "      <td>0</td>\n",
       "      <td>0.8893</td>\n",
       "      <td>12.0</td>\n",
       "      <td>3</td>\n",
       "      <td>8122.00</td>\n",
       "      <td>2</td>\n",
       "      <td>0</td>\n",
       "      <td>...</td>\n",
       "      <td>1.0</td>\n",
       "      <td>0.0</td>\n",
       "      <td>1.0</td>\n",
       "      <td>-48.0</td>\n",
       "      <td>7.0</td>\n",
       "      <td>-18</td>\n",
       "      <td>2304.0</td>\n",
       "      <td>49.0</td>\n",
       "      <td>324</td>\n",
       "      <td>-336.0</td>\n",
       "    </tr>\n",
       "    <tr>\n",
       "      <th>1</th>\n",
       "      <td>1972</td>\n",
       "      <td>0.0</td>\n",
       "      <td>1912.0</td>\n",
       "      <td>0</td>\n",
       "      <td>0.8893</td>\n",
       "      <td>12.0</td>\n",
       "      <td>3</td>\n",
       "      <td>13537.00</td>\n",
       "      <td>1</td>\n",
       "      <td>0</td>\n",
       "      <td>...</td>\n",
       "      <td>1.0</td>\n",
       "      <td>0.0</td>\n",
       "      <td>1.0</td>\n",
       "      <td>-54.0</td>\n",
       "      <td>13.0</td>\n",
       "      <td>-18</td>\n",
       "      <td>2916.0</td>\n",
       "      <td>169.0</td>\n",
       "      <td>324</td>\n",
       "      <td>-702.0</td>\n",
       "    </tr>\n",
       "    <tr>\n",
       "      <th>2</th>\n",
       "      <td>1972</td>\n",
       "      <td>0.0</td>\n",
       "      <td>1953.0</td>\n",
       "      <td>0</td>\n",
       "      <td>1.3339</td>\n",
       "      <td>12.0</td>\n",
       "      <td>3</td>\n",
       "      <td>46901.25</td>\n",
       "      <td>2</td>\n",
       "      <td>0</td>\n",
       "      <td>...</td>\n",
       "      <td>0.0</td>\n",
       "      <td>1.0</td>\n",
       "      <td>1.0</td>\n",
       "      <td>-13.0</td>\n",
       "      <td>-28.0</td>\n",
       "      <td>-18</td>\n",
       "      <td>169.0</td>\n",
       "      <td>784.0</td>\n",
       "      <td>324</td>\n",
       "      <td>364.0</td>\n",
       "    </tr>\n",
       "    <tr>\n",
       "      <th>3</th>\n",
       "      <td>1972</td>\n",
       "      <td>0.0</td>\n",
       "      <td>1931.0</td>\n",
       "      <td>0</td>\n",
       "      <td>0.8893</td>\n",
       "      <td>11.0</td>\n",
       "      <td>4</td>\n",
       "      <td>50763.00</td>\n",
       "      <td>2</td>\n",
       "      <td>0</td>\n",
       "      <td>...</td>\n",
       "      <td>0.0</td>\n",
       "      <td>1.0</td>\n",
       "      <td>1.0</td>\n",
       "      <td>-35.0</td>\n",
       "      <td>-6.0</td>\n",
       "      <td>-18</td>\n",
       "      <td>1225.0</td>\n",
       "      <td>36.0</td>\n",
       "      <td>324</td>\n",
       "      <td>210.0</td>\n",
       "    </tr>\n",
       "    <tr>\n",
       "      <th>4</th>\n",
       "      <td>1972</td>\n",
       "      <td>0.0</td>\n",
       "      <td>1906.0</td>\n",
       "      <td>0</td>\n",
       "      <td>0.8893</td>\n",
       "      <td>10.0</td>\n",
       "      <td>3</td>\n",
       "      <td>13537.00</td>\n",
       "      <td>1</td>\n",
       "      <td>0</td>\n",
       "      <td>...</td>\n",
       "      <td>1.0</td>\n",
       "      <td>0.0</td>\n",
       "      <td>1.0</td>\n",
       "      <td>-60.0</td>\n",
       "      <td>19.0</td>\n",
       "      <td>-18</td>\n",
       "      <td>3600.0</td>\n",
       "      <td>361.0</td>\n",
       "      <td>324</td>\n",
       "      <td>-1140.0</td>\n",
       "    </tr>\n",
       "  </tbody>\n",
       "</table>\n",
       "<p>5 rows × 64 columns</p>\n",
       "</div>"
      ],
      "text/plain": [
       "   year  conrinc  cohort  ballot  wtssall  income  finrela   realinc  sex  \\\n",
       "0  1972      0.0  1918.0       0   0.8893    12.0        3   8122.00    2   \n",
       "1  1972      0.0  1912.0       0   0.8893    12.0        3  13537.00    1   \n",
       "2  1972      0.0  1953.0       0   1.3339    12.0        3  46901.25    2   \n",
       "3  1972      0.0  1931.0       0   0.8893    11.0        4  50763.00    2   \n",
       "4  1972      0.0  1906.0       0   0.8893    10.0        3  13537.00    1   \n",
       "\n",
       "   homosex   ...    lowrealinc  highrealinc  ones     c     a   y      c2  \\\n",
       "0        0   ...           1.0          0.0   1.0 -48.0   7.0 -18  2304.0   \n",
       "1        0   ...           1.0          0.0   1.0 -54.0  13.0 -18  2916.0   \n",
       "2        0   ...           0.0          1.0   1.0 -13.0 -28.0 -18   169.0   \n",
       "3        0   ...           0.0          1.0   1.0 -35.0  -6.0 -18  1225.0   \n",
       "4        0   ...           1.0          0.0   1.0 -60.0  19.0 -18  3600.0   \n",
       "\n",
       "      a2   y2      ac  \n",
       "0   49.0  324  -336.0  \n",
       "1  169.0  324  -702.0  \n",
       "2  784.0  324   364.0  \n",
       "3   36.0  324   210.0  \n",
       "4  361.0  324 -1140.0  \n",
       "\n",
       "[5 rows x 64 columns]"
      ]
     },
     "execution_count": 93,
     "metadata": {},
     "output_type": "execute_result"
    }
   ],
   "source": [
    "subset.head()"
   ]
  },
  {
   "cell_type": "code",
   "execution_count": 94,
   "metadata": {},
   "outputs": [
    {
     "data": {
      "text/plain": [
       "Index(['year', 'conrinc', 'cohort', 'ballot', 'wtssall', 'income', 'finrela',\n",
       "       'realinc', 'sex', 'homosex', 'hispanic', 'rowngun', 'owngun', 'id_',\n",
       "       'age', 'race', 'srcbelt', 'polviews', 'natcrime', 'gunlaw', 'gun',\n",
       "       'gunage', 'gunnum', 'educ', 'cohort5', 'cohort10', 'year4', 'age5',\n",
       "       'age3', 'twenties', 'thirties', 'forties', 'fifties', 'sixties',\n",
       "       'seventies', 'eighties', 'nineties', 'favor', 'gunhome', 'threatened',\n",
       "       'spendcrime', 'topincome', 'lowincome', 'liberal', 'moderate',\n",
       "       'conservative', 'female', 'ishisp', 'black', 'otherrace', 'urban',\n",
       "       'suburban', 'rural', 'college', 'lowrealinc', 'highrealinc', 'ones',\n",
       "       'c', 'a', 'y', 'c2', 'a2', 'y2', 'ac'],\n",
       "      dtype='object')"
      ]
     },
     "execution_count": 94,
     "metadata": {},
     "output_type": "execute_result"
    }
   ],
   "source": [
    "sample.columns"
   ]
  },
  {
   "cell_type": "code",
   "execution_count": 95,
   "metadata": {
    "collapsed": true
   },
   "outputs": [],
   "source": [
    "varnames = ['nineties', 'eighties', 'seventies', 'fifties', 'forties', 'thirties', 'twenties',\n",
    "            'female', 'black', 'otherrace', 'ishisp', 'conservative', 'liberal', 'lowrealinc', 'highrealinc',\n",
    "            'college', 'urban', 'rural', 'threatened', 'gunhome']\n",
    "\n",
    "all_varnames = varnames + ['y', 'y2', 'favor']"
   ]
  },
  {
   "cell_type": "code",
   "execution_count": 96,
   "metadata": {},
   "outputs": [
    {
     "name": "stdout",
     "output_type": "stream",
     "text": [
      "nineties 0\n",
      "eighties 0\n",
      "seventies 0\n",
      "fifties 0\n",
      "forties 0\n",
      "thirties 0\n",
      "twenties 0\n",
      "female 0\n",
      "black 0\n",
      "otherrace 0\n",
      "ishisp 0\n",
      "conservative 0\n",
      "liberal 0\n",
      "lowrealinc 0\n",
      "highrealinc 0\n",
      "college 0\n",
      "urban 0\n",
      "rural 0\n",
      "threatened 0\n",
      "gunhome 0\n"
     ]
    }
   ],
   "source": [
    "for varname in varnames:\n",
    "    print(varname, sum(sample[varname].isnull()))"
   ]
  },
  {
   "cell_type": "markdown",
   "metadata": {},
   "source": [
    "Select just the columns we need"
   ]
  },
  {
   "cell_type": "code",
   "execution_count": 97,
   "metadata": {},
   "outputs": [
    {
     "data": {
      "text/plain": [
       "(62466, 23)"
      ]
     },
     "execution_count": 97,
     "metadata": {},
     "output_type": "execute_result"
    }
   ],
   "source": [
    "data = sample[all_varnames]\n",
    "data.shape"
   ]
  },
  {
   "cell_type": "code",
   "execution_count": 98,
   "metadata": {},
   "outputs": [
    {
     "name": "stdout",
     "output_type": "stream",
     "text": [
      "Optimization terminated successfully.\n",
      "         Current function value: 0.510309\n",
      "         Iterations 6\n"
     ]
    },
    {
     "data": {
      "text/html": [
       "<table class=\"simpletable\">\n",
       "<caption>Logit Regression Results</caption>\n",
       "<tr>\n",
       "  <th>Dep. Variable:</th>       <td>favor</td>      <th>  No. Observations:  </th>  <td> 40617</td> \n",
       "</tr>\n",
       "<tr>\n",
       "  <th>Model:</th>               <td>Logit</td>      <th>  Df Residuals:      </th>  <td> 40594</td> \n",
       "</tr>\n",
       "<tr>\n",
       "  <th>Method:</th>               <td>MLE</td>       <th>  Df Model:          </th>  <td>    22</td> \n",
       "</tr>\n",
       "<tr>\n",
       "  <th>Date:</th>          <td>Tue, 13 Mar 2018</td> <th>  Pseudo R-squ.:     </th>  <td>0.07503</td>\n",
       "</tr>\n",
       "<tr>\n",
       "  <th>Time:</th>              <td>17:31:29</td>     <th>  Log-Likelihood:    </th> <td> -20727.</td>\n",
       "</tr>\n",
       "<tr>\n",
       "  <th>converged:</th>           <td>True</td>       <th>  LL-Null:           </th> <td> -22408.</td>\n",
       "</tr>\n",
       "<tr>\n",
       "  <th> </th>                      <td> </td>        <th>  LLR p-value:       </th>  <td> 0.000</td> \n",
       "</tr>\n",
       "</table>\n",
       "<table class=\"simpletable\">\n",
       "<tr>\n",
       "        <td></td>          <th>coef</th>     <th>std err</th>      <th>z</th>      <th>P>|z|</th>  <th>[0.025</th>    <th>0.975]</th>  \n",
       "</tr>\n",
       "<tr>\n",
       "  <th>Intercept</th>    <td>    1.5963</td> <td>    0.045</td> <td>   35.211</td> <td> 0.000</td> <td>    1.507</td> <td>    1.685</td>\n",
       "</tr>\n",
       "<tr>\n",
       "  <th>y</th>            <td>    0.0068</td> <td>    0.001</td> <td>    6.105</td> <td> 0.000</td> <td>    0.005</td> <td>    0.009</td>\n",
       "</tr>\n",
       "<tr>\n",
       "  <th>y2</th>           <td>   -0.0008</td> <td> 7.53e-05</td> <td>  -10.510</td> <td> 0.000</td> <td>   -0.001</td> <td>   -0.001</td>\n",
       "</tr>\n",
       "<tr>\n",
       "  <th>nineties</th>     <td>   -0.5923</td> <td>    0.105</td> <td>   -5.623</td> <td> 0.000</td> <td>   -0.799</td> <td>   -0.386</td>\n",
       "</tr>\n",
       "<tr>\n",
       "  <th>eighties</th>     <td>   -0.2826</td> <td>    0.065</td> <td>   -4.356</td> <td> 0.000</td> <td>   -0.410</td> <td>   -0.155</td>\n",
       "</tr>\n",
       "<tr>\n",
       "  <th>seventies</th>    <td>   -0.0762</td> <td>    0.051</td> <td>   -1.487</td> <td> 0.137</td> <td>   -0.177</td> <td>    0.024</td>\n",
       "</tr>\n",
       "<tr>\n",
       "  <th>fifties</th>      <td>   -0.0090</td> <td>    0.037</td> <td>   -0.245</td> <td> 0.806</td> <td>   -0.081</td> <td>    0.063</td>\n",
       "</tr>\n",
       "<tr>\n",
       "  <th>forties</th>      <td>   -0.0082</td> <td>    0.039</td> <td>   -0.212</td> <td> 0.832</td> <td>   -0.084</td> <td>    0.068</td>\n",
       "</tr>\n",
       "<tr>\n",
       "  <th>thirties</th>     <td>   -0.0716</td> <td>    0.042</td> <td>   -1.698</td> <td> 0.090</td> <td>   -0.154</td> <td>    0.011</td>\n",
       "</tr>\n",
       "<tr>\n",
       "  <th>twenties</th>     <td>   -0.0080</td> <td>    0.045</td> <td>   -0.180</td> <td> 0.857</td> <td>   -0.095</td> <td>    0.079</td>\n",
       "</tr>\n",
       "<tr>\n",
       "  <th>female</th>       <td>    0.6844</td> <td>    0.025</td> <td>   27.803</td> <td> 0.000</td> <td>    0.636</td> <td>    0.733</td>\n",
       "</tr>\n",
       "<tr>\n",
       "  <th>black</th>        <td>    0.2824</td> <td>    0.039</td> <td>    7.227</td> <td> 0.000</td> <td>    0.206</td> <td>    0.359</td>\n",
       "</tr>\n",
       "<tr>\n",
       "  <th>otherrace</th>    <td>    0.4431</td> <td>    0.066</td> <td>    6.762</td> <td> 0.000</td> <td>    0.315</td> <td>    0.572</td>\n",
       "</tr>\n",
       "<tr>\n",
       "  <th>ishisp</th>       <td>    0.0013</td> <td>    0.047</td> <td>    0.027</td> <td> 0.978</td> <td>   -0.091</td> <td>    0.093</td>\n",
       "</tr>\n",
       "<tr>\n",
       "  <th>conservative</th> <td>   -0.3207</td> <td>    0.031</td> <td>  -10.362</td> <td> 0.000</td> <td>   -0.381</td> <td>   -0.260</td>\n",
       "</tr>\n",
       "<tr>\n",
       "  <th>liberal</th>      <td>    0.2386</td> <td>    0.030</td> <td>    7.892</td> <td> 0.000</td> <td>    0.179</td> <td>    0.298</td>\n",
       "</tr>\n",
       "<tr>\n",
       "  <th>lowrealinc</th>   <td>   -0.0992</td> <td>    0.031</td> <td>   -3.208</td> <td> 0.001</td> <td>   -0.160</td> <td>   -0.039</td>\n",
       "</tr>\n",
       "<tr>\n",
       "  <th>highrealinc</th>  <td>    0.0763</td> <td>    0.031</td> <td>    2.499</td> <td> 0.012</td> <td>    0.016</td> <td>    0.136</td>\n",
       "</tr>\n",
       "<tr>\n",
       "  <th>college</th>      <td>    0.0842</td> <td>    0.026</td> <td>    3.202</td> <td> 0.001</td> <td>    0.033</td> <td>    0.136</td>\n",
       "</tr>\n",
       "<tr>\n",
       "  <th>urban</th>        <td>   -0.2753</td> <td>    0.030</td> <td>   -9.093</td> <td> 0.000</td> <td>   -0.335</td> <td>   -0.216</td>\n",
       "</tr>\n",
       "<tr>\n",
       "  <th>rural</th>        <td>   -0.4663</td> <td>    0.041</td> <td>  -11.460</td> <td> 0.000</td> <td>   -0.546</td> <td>   -0.387</td>\n",
       "</tr>\n",
       "<tr>\n",
       "  <th>threatened</th>   <td>   -0.0679</td> <td>    0.030</td> <td>   -2.248</td> <td> 0.025</td> <td>   -0.127</td> <td>   -0.009</td>\n",
       "</tr>\n",
       "<tr>\n",
       "  <th>gunhome</th>      <td>   -0.8777</td> <td>    0.026</td> <td>  -34.269</td> <td> 0.000</td> <td>   -0.928</td> <td>   -0.827</td>\n",
       "</tr>\n",
       "</table>"
      ],
      "text/plain": [
       "<class 'statsmodels.iolib.summary.Summary'>\n",
       "\"\"\"\n",
       "                           Logit Regression Results                           \n",
       "==============================================================================\n",
       "Dep. Variable:                  favor   No. Observations:                40617\n",
       "Model:                          Logit   Df Residuals:                    40594\n",
       "Method:                           MLE   Df Model:                           22\n",
       "Date:                Tue, 13 Mar 2018   Pseudo R-squ.:                 0.07503\n",
       "Time:                        17:31:29   Log-Likelihood:                -20727.\n",
       "converged:                       True   LL-Null:                       -22408.\n",
       "                                        LLR p-value:                     0.000\n",
       "================================================================================\n",
       "                   coef    std err          z      P>|z|      [0.025      0.975]\n",
       "--------------------------------------------------------------------------------\n",
       "Intercept        1.5963      0.045     35.211      0.000       1.507       1.685\n",
       "y                0.0068      0.001      6.105      0.000       0.005       0.009\n",
       "y2              -0.0008   7.53e-05    -10.510      0.000      -0.001      -0.001\n",
       "nineties        -0.5923      0.105     -5.623      0.000      -0.799      -0.386\n",
       "eighties        -0.2826      0.065     -4.356      0.000      -0.410      -0.155\n",
       "seventies       -0.0762      0.051     -1.487      0.137      -0.177       0.024\n",
       "fifties         -0.0090      0.037     -0.245      0.806      -0.081       0.063\n",
       "forties         -0.0082      0.039     -0.212      0.832      -0.084       0.068\n",
       "thirties        -0.0716      0.042     -1.698      0.090      -0.154       0.011\n",
       "twenties        -0.0080      0.045     -0.180      0.857      -0.095       0.079\n",
       "female           0.6844      0.025     27.803      0.000       0.636       0.733\n",
       "black            0.2824      0.039      7.227      0.000       0.206       0.359\n",
       "otherrace        0.4431      0.066      6.762      0.000       0.315       0.572\n",
       "ishisp           0.0013      0.047      0.027      0.978      -0.091       0.093\n",
       "conservative    -0.3207      0.031    -10.362      0.000      -0.381      -0.260\n",
       "liberal          0.2386      0.030      7.892      0.000       0.179       0.298\n",
       "lowrealinc      -0.0992      0.031     -3.208      0.001      -0.160      -0.039\n",
       "highrealinc      0.0763      0.031      2.499      0.012       0.016       0.136\n",
       "college          0.0842      0.026      3.202      0.001       0.033       0.136\n",
       "urban           -0.2753      0.030     -9.093      0.000      -0.335      -0.216\n",
       "rural           -0.4663      0.041    -11.460      0.000      -0.546      -0.387\n",
       "threatened      -0.0679      0.030     -2.248      0.025      -0.127      -0.009\n",
       "gunhome         -0.8777      0.026    -34.269      0.000      -0.928      -0.827\n",
       "================================================================================\n",
       "\"\"\""
      ]
     },
     "execution_count": 98,
     "metadata": {},
     "output_type": "execute_result"
    }
   ],
   "source": [
    "formula = ('favor ~ y + y2 + nineties + eighties + seventies + fifties + forties + thirties + twenties + '\n",
    "           'female + black + otherrace + ishisp + conservative + liberal + lowrealinc + highrealinc + ' \n",
    "           'college + urban + rural + threatened + gunhome')\n",
    "model = smf.logit(formula, data=data).fit()\n",
    "model.summary()"
   ]
  },
  {
   "cell_type": "code",
   "execution_count": 99,
   "metadata": {},
   "outputs": [
    {
     "data": {
      "text/plain": [
       "black             0\n",
       "college           0\n",
       "conservative      0\n",
       "eighties          0\n",
       "female            0\n",
       "fifties           0\n",
       "forties           0\n",
       "gunhome           0\n",
       "highrealinc       0\n",
       "ishisp            0\n",
       "liberal           0\n",
       "lowrealinc        0\n",
       "nineties          0\n",
       "otherrace         0\n",
       "rural             0\n",
       "seventies         0\n",
       "thirties          0\n",
       "threatened        0\n",
       "twenties          0\n",
       "urban             0\n",
       "y                26\n",
       "y2              676\n",
       "dtype: int64"
      ]
     },
     "execution_count": 99,
     "metadata": {},
     "output_type": "execute_result"
    }
   ],
   "source": [
    "y = 2016 - 1990\n",
    "y2 = y**2\n",
    "\n",
    "d = dict(y=y, y2=y2)\n",
    "for varname in varnames:\n",
    "    d[varname] = 0\n",
    "\n",
    "s = pd.Series(d)\n",
    "s"
   ]
  },
  {
   "cell_type": "code",
   "execution_count": 100,
   "metadata": {},
   "outputs": [
    {
     "data": {
      "text/html": [
       "<div>\n",
       "<style>\n",
       "    .dataframe thead tr:only-child th {\n",
       "        text-align: right;\n",
       "    }\n",
       "\n",
       "    .dataframe thead th {\n",
       "        text-align: left;\n",
       "    }\n",
       "\n",
       "    .dataframe tbody tr th {\n",
       "        vertical-align: top;\n",
       "    }\n",
       "</style>\n",
       "<table border=\"1\" class=\"dataframe\">\n",
       "  <thead>\n",
       "    <tr style=\"text-align: right;\">\n",
       "      <th></th>\n",
       "      <th>year</th>\n",
       "      <th>conrinc</th>\n",
       "      <th>cohort</th>\n",
       "      <th>ballot</th>\n",
       "      <th>wtssall</th>\n",
       "      <th>income</th>\n",
       "      <th>finrela</th>\n",
       "      <th>realinc</th>\n",
       "      <th>sex</th>\n",
       "      <th>homosex</th>\n",
       "      <th>...</th>\n",
       "      <th>lowrealinc</th>\n",
       "      <th>highrealinc</th>\n",
       "      <th>ones</th>\n",
       "      <th>c</th>\n",
       "      <th>a</th>\n",
       "      <th>y</th>\n",
       "      <th>c2</th>\n",
       "      <th>a2</th>\n",
       "      <th>y2</th>\n",
       "      <th>ac</th>\n",
       "    </tr>\n",
       "  </thead>\n",
       "  <tbody>\n",
       "  </tbody>\n",
       "</table>\n",
       "<p>0 rows × 64 columns</p>\n",
       "</div>"
      ],
      "text/plain": [
       "Empty DataFrame\n",
       "Columns: [year, conrinc, cohort, ballot, wtssall, income, finrela, realinc, sex, homosex, hispanic, rowngun, owngun, id_, age, race, srcbelt, polviews, natcrime, gunlaw, gun, gunage, gunnum, educ, cohort5, cohort10, year4, age5, age3, twenties, thirties, forties, fifties, sixties, seventies, eighties, nineties, favor, gunhome, threatened, spendcrime, topincome, lowincome, liberal, moderate, conservative, female, ishisp, black, otherrace, urban, suburban, rural, college, lowrealinc, highrealinc, ones, c, a, y, c2, a2, y2, ac]\n",
       "Index: []\n",
       "\n",
       "[0 rows x 64 columns]"
      ]
     },
     "execution_count": 100,
     "metadata": {},
     "output_type": "execute_result"
    }
   ],
   "source": [
    "df_pred = pd.DataFrame(columns=sample.columns)\n",
    "df_pred"
   ]
  },
  {
   "cell_type": "code",
   "execution_count": 119,
   "metadata": {},
   "outputs": [
    {
     "data": {
      "text/html": [
       "<div>\n",
       "<style>\n",
       "    .dataframe thead tr:only-child th {\n",
       "        text-align: right;\n",
       "    }\n",
       "\n",
       "    .dataframe thead th {\n",
       "        text-align: left;\n",
       "    }\n",
       "\n",
       "    .dataframe tbody tr th {\n",
       "        vertical-align: top;\n",
       "    }\n",
       "</style>\n",
       "<table border=\"1\" class=\"dataframe\">\n",
       "  <thead>\n",
       "    <tr style=\"text-align: right;\">\n",
       "      <th></th>\n",
       "      <th>nineties</th>\n",
       "      <th>eighties</th>\n",
       "      <th>seventies</th>\n",
       "      <th>fifties</th>\n",
       "      <th>forties</th>\n",
       "      <th>thirties</th>\n",
       "      <th>twenties</th>\n",
       "      <th>female</th>\n",
       "      <th>black</th>\n",
       "      <th>otherrace</th>\n",
       "      <th>...</th>\n",
       "      <th>lowrealinc</th>\n",
       "      <th>highrealinc</th>\n",
       "      <th>college</th>\n",
       "      <th>urban</th>\n",
       "      <th>rural</th>\n",
       "      <th>threatened</th>\n",
       "      <th>gunhome</th>\n",
       "      <th>y</th>\n",
       "      <th>y2</th>\n",
       "      <th>favor</th>\n",
       "    </tr>\n",
       "  </thead>\n",
       "  <tbody>\n",
       "    <tr>\n",
       "      <th>base</th>\n",
       "      <td>0.0</td>\n",
       "      <td>0.0</td>\n",
       "      <td>0.0</td>\n",
       "      <td>0.0</td>\n",
       "      <td>0.0</td>\n",
       "      <td>0.0</td>\n",
       "      <td>0.0</td>\n",
       "      <td>0.0</td>\n",
       "      <td>0.0</td>\n",
       "      <td>0.0</td>\n",
       "      <td>...</td>\n",
       "      <td>0.0</td>\n",
       "      <td>0.0</td>\n",
       "      <td>0.0</td>\n",
       "      <td>0.0</td>\n",
       "      <td>0.0</td>\n",
       "      <td>0.0</td>\n",
       "      <td>0.0</td>\n",
       "      <td>26.0</td>\n",
       "      <td>676.0</td>\n",
       "      <td>NaN</td>\n",
       "    </tr>\n",
       "    <tr>\n",
       "      <th>nineties</th>\n",
       "      <td>1.0</td>\n",
       "      <td>0.0</td>\n",
       "      <td>0.0</td>\n",
       "      <td>0.0</td>\n",
       "      <td>0.0</td>\n",
       "      <td>0.0</td>\n",
       "      <td>0.0</td>\n",
       "      <td>0.0</td>\n",
       "      <td>0.0</td>\n",
       "      <td>0.0</td>\n",
       "      <td>...</td>\n",
       "      <td>0.0</td>\n",
       "      <td>0.0</td>\n",
       "      <td>0.0</td>\n",
       "      <td>0.0</td>\n",
       "      <td>0.0</td>\n",
       "      <td>0.0</td>\n",
       "      <td>0.0</td>\n",
       "      <td>26.0</td>\n",
       "      <td>676.0</td>\n",
       "      <td>NaN</td>\n",
       "    </tr>\n",
       "    <tr>\n",
       "      <th>eighties</th>\n",
       "      <td>0.0</td>\n",
       "      <td>1.0</td>\n",
       "      <td>0.0</td>\n",
       "      <td>0.0</td>\n",
       "      <td>0.0</td>\n",
       "      <td>0.0</td>\n",
       "      <td>0.0</td>\n",
       "      <td>0.0</td>\n",
       "      <td>0.0</td>\n",
       "      <td>0.0</td>\n",
       "      <td>...</td>\n",
       "      <td>0.0</td>\n",
       "      <td>0.0</td>\n",
       "      <td>0.0</td>\n",
       "      <td>0.0</td>\n",
       "      <td>0.0</td>\n",
       "      <td>0.0</td>\n",
       "      <td>0.0</td>\n",
       "      <td>26.0</td>\n",
       "      <td>676.0</td>\n",
       "      <td>NaN</td>\n",
       "    </tr>\n",
       "    <tr>\n",
       "      <th>seventies</th>\n",
       "      <td>0.0</td>\n",
       "      <td>0.0</td>\n",
       "      <td>1.0</td>\n",
       "      <td>0.0</td>\n",
       "      <td>0.0</td>\n",
       "      <td>0.0</td>\n",
       "      <td>0.0</td>\n",
       "      <td>0.0</td>\n",
       "      <td>0.0</td>\n",
       "      <td>0.0</td>\n",
       "      <td>...</td>\n",
       "      <td>0.0</td>\n",
       "      <td>0.0</td>\n",
       "      <td>0.0</td>\n",
       "      <td>0.0</td>\n",
       "      <td>0.0</td>\n",
       "      <td>0.0</td>\n",
       "      <td>0.0</td>\n",
       "      <td>26.0</td>\n",
       "      <td>676.0</td>\n",
       "      <td>NaN</td>\n",
       "    </tr>\n",
       "    <tr>\n",
       "      <th>fifties</th>\n",
       "      <td>0.0</td>\n",
       "      <td>0.0</td>\n",
       "      <td>0.0</td>\n",
       "      <td>1.0</td>\n",
       "      <td>0.0</td>\n",
       "      <td>0.0</td>\n",
       "      <td>0.0</td>\n",
       "      <td>0.0</td>\n",
       "      <td>0.0</td>\n",
       "      <td>0.0</td>\n",
       "      <td>...</td>\n",
       "      <td>0.0</td>\n",
       "      <td>0.0</td>\n",
       "      <td>0.0</td>\n",
       "      <td>0.0</td>\n",
       "      <td>0.0</td>\n",
       "      <td>0.0</td>\n",
       "      <td>0.0</td>\n",
       "      <td>26.0</td>\n",
       "      <td>676.0</td>\n",
       "      <td>NaN</td>\n",
       "    </tr>\n",
       "    <tr>\n",
       "      <th>forties</th>\n",
       "      <td>0.0</td>\n",
       "      <td>0.0</td>\n",
       "      <td>0.0</td>\n",
       "      <td>0.0</td>\n",
       "      <td>1.0</td>\n",
       "      <td>0.0</td>\n",
       "      <td>0.0</td>\n",
       "      <td>0.0</td>\n",
       "      <td>0.0</td>\n",
       "      <td>0.0</td>\n",
       "      <td>...</td>\n",
       "      <td>0.0</td>\n",
       "      <td>0.0</td>\n",
       "      <td>0.0</td>\n",
       "      <td>0.0</td>\n",
       "      <td>0.0</td>\n",
       "      <td>0.0</td>\n",
       "      <td>0.0</td>\n",
       "      <td>26.0</td>\n",
       "      <td>676.0</td>\n",
       "      <td>NaN</td>\n",
       "    </tr>\n",
       "    <tr>\n",
       "      <th>thirties</th>\n",
       "      <td>0.0</td>\n",
       "      <td>0.0</td>\n",
       "      <td>0.0</td>\n",
       "      <td>0.0</td>\n",
       "      <td>0.0</td>\n",
       "      <td>1.0</td>\n",
       "      <td>0.0</td>\n",
       "      <td>0.0</td>\n",
       "      <td>0.0</td>\n",
       "      <td>0.0</td>\n",
       "      <td>...</td>\n",
       "      <td>0.0</td>\n",
       "      <td>0.0</td>\n",
       "      <td>0.0</td>\n",
       "      <td>0.0</td>\n",
       "      <td>0.0</td>\n",
       "      <td>0.0</td>\n",
       "      <td>0.0</td>\n",
       "      <td>26.0</td>\n",
       "      <td>676.0</td>\n",
       "      <td>NaN</td>\n",
       "    </tr>\n",
       "    <tr>\n",
       "      <th>twenties</th>\n",
       "      <td>0.0</td>\n",
       "      <td>0.0</td>\n",
       "      <td>0.0</td>\n",
       "      <td>0.0</td>\n",
       "      <td>0.0</td>\n",
       "      <td>0.0</td>\n",
       "      <td>1.0</td>\n",
       "      <td>0.0</td>\n",
       "      <td>0.0</td>\n",
       "      <td>0.0</td>\n",
       "      <td>...</td>\n",
       "      <td>0.0</td>\n",
       "      <td>0.0</td>\n",
       "      <td>0.0</td>\n",
       "      <td>0.0</td>\n",
       "      <td>0.0</td>\n",
       "      <td>0.0</td>\n",
       "      <td>0.0</td>\n",
       "      <td>26.0</td>\n",
       "      <td>676.0</td>\n",
       "      <td>NaN</td>\n",
       "    </tr>\n",
       "    <tr>\n",
       "      <th>female</th>\n",
       "      <td>0.0</td>\n",
       "      <td>0.0</td>\n",
       "      <td>0.0</td>\n",
       "      <td>0.0</td>\n",
       "      <td>0.0</td>\n",
       "      <td>0.0</td>\n",
       "      <td>0.0</td>\n",
       "      <td>1.0</td>\n",
       "      <td>0.0</td>\n",
       "      <td>0.0</td>\n",
       "      <td>...</td>\n",
       "      <td>0.0</td>\n",
       "      <td>0.0</td>\n",
       "      <td>0.0</td>\n",
       "      <td>0.0</td>\n",
       "      <td>0.0</td>\n",
       "      <td>0.0</td>\n",
       "      <td>0.0</td>\n",
       "      <td>26.0</td>\n",
       "      <td>676.0</td>\n",
       "      <td>NaN</td>\n",
       "    </tr>\n",
       "    <tr>\n",
       "      <th>black</th>\n",
       "      <td>0.0</td>\n",
       "      <td>0.0</td>\n",
       "      <td>0.0</td>\n",
       "      <td>0.0</td>\n",
       "      <td>0.0</td>\n",
       "      <td>0.0</td>\n",
       "      <td>0.0</td>\n",
       "      <td>0.0</td>\n",
       "      <td>1.0</td>\n",
       "      <td>0.0</td>\n",
       "      <td>...</td>\n",
       "      <td>0.0</td>\n",
       "      <td>0.0</td>\n",
       "      <td>0.0</td>\n",
       "      <td>0.0</td>\n",
       "      <td>0.0</td>\n",
       "      <td>0.0</td>\n",
       "      <td>0.0</td>\n",
       "      <td>26.0</td>\n",
       "      <td>676.0</td>\n",
       "      <td>NaN</td>\n",
       "    </tr>\n",
       "    <tr>\n",
       "      <th>otherrace</th>\n",
       "      <td>0.0</td>\n",
       "      <td>0.0</td>\n",
       "      <td>0.0</td>\n",
       "      <td>0.0</td>\n",
       "      <td>0.0</td>\n",
       "      <td>0.0</td>\n",
       "      <td>0.0</td>\n",
       "      <td>0.0</td>\n",
       "      <td>0.0</td>\n",
       "      <td>1.0</td>\n",
       "      <td>...</td>\n",
       "      <td>0.0</td>\n",
       "      <td>0.0</td>\n",
       "      <td>0.0</td>\n",
       "      <td>0.0</td>\n",
       "      <td>0.0</td>\n",
       "      <td>0.0</td>\n",
       "      <td>0.0</td>\n",
       "      <td>26.0</td>\n",
       "      <td>676.0</td>\n",
       "      <td>NaN</td>\n",
       "    </tr>\n",
       "    <tr>\n",
       "      <th>ishisp</th>\n",
       "      <td>0.0</td>\n",
       "      <td>0.0</td>\n",
       "      <td>0.0</td>\n",
       "      <td>0.0</td>\n",
       "      <td>0.0</td>\n",
       "      <td>0.0</td>\n",
       "      <td>0.0</td>\n",
       "      <td>0.0</td>\n",
       "      <td>0.0</td>\n",
       "      <td>0.0</td>\n",
       "      <td>...</td>\n",
       "      <td>0.0</td>\n",
       "      <td>0.0</td>\n",
       "      <td>0.0</td>\n",
       "      <td>0.0</td>\n",
       "      <td>0.0</td>\n",
       "      <td>0.0</td>\n",
       "      <td>0.0</td>\n",
       "      <td>26.0</td>\n",
       "      <td>676.0</td>\n",
       "      <td>NaN</td>\n",
       "    </tr>\n",
       "    <tr>\n",
       "      <th>conservative</th>\n",
       "      <td>0.0</td>\n",
       "      <td>0.0</td>\n",
       "      <td>0.0</td>\n",
       "      <td>0.0</td>\n",
       "      <td>0.0</td>\n",
       "      <td>0.0</td>\n",
       "      <td>0.0</td>\n",
       "      <td>0.0</td>\n",
       "      <td>0.0</td>\n",
       "      <td>0.0</td>\n",
       "      <td>...</td>\n",
       "      <td>0.0</td>\n",
       "      <td>0.0</td>\n",
       "      <td>0.0</td>\n",
       "      <td>0.0</td>\n",
       "      <td>0.0</td>\n",
       "      <td>0.0</td>\n",
       "      <td>0.0</td>\n",
       "      <td>26.0</td>\n",
       "      <td>676.0</td>\n",
       "      <td>NaN</td>\n",
       "    </tr>\n",
       "    <tr>\n",
       "      <th>liberal</th>\n",
       "      <td>0.0</td>\n",
       "      <td>0.0</td>\n",
       "      <td>0.0</td>\n",
       "      <td>0.0</td>\n",
       "      <td>0.0</td>\n",
       "      <td>0.0</td>\n",
       "      <td>0.0</td>\n",
       "      <td>0.0</td>\n",
       "      <td>0.0</td>\n",
       "      <td>0.0</td>\n",
       "      <td>...</td>\n",
       "      <td>0.0</td>\n",
       "      <td>0.0</td>\n",
       "      <td>0.0</td>\n",
       "      <td>0.0</td>\n",
       "      <td>0.0</td>\n",
       "      <td>0.0</td>\n",
       "      <td>0.0</td>\n",
       "      <td>26.0</td>\n",
       "      <td>676.0</td>\n",
       "      <td>NaN</td>\n",
       "    </tr>\n",
       "    <tr>\n",
       "      <th>lowrealinc</th>\n",
       "      <td>0.0</td>\n",
       "      <td>0.0</td>\n",
       "      <td>0.0</td>\n",
       "      <td>0.0</td>\n",
       "      <td>0.0</td>\n",
       "      <td>0.0</td>\n",
       "      <td>0.0</td>\n",
       "      <td>0.0</td>\n",
       "      <td>0.0</td>\n",
       "      <td>0.0</td>\n",
       "      <td>...</td>\n",
       "      <td>1.0</td>\n",
       "      <td>0.0</td>\n",
       "      <td>0.0</td>\n",
       "      <td>0.0</td>\n",
       "      <td>0.0</td>\n",
       "      <td>0.0</td>\n",
       "      <td>0.0</td>\n",
       "      <td>26.0</td>\n",
       "      <td>676.0</td>\n",
       "      <td>NaN</td>\n",
       "    </tr>\n",
       "    <tr>\n",
       "      <th>highrealinc</th>\n",
       "      <td>0.0</td>\n",
       "      <td>0.0</td>\n",
       "      <td>0.0</td>\n",
       "      <td>0.0</td>\n",
       "      <td>0.0</td>\n",
       "      <td>0.0</td>\n",
       "      <td>0.0</td>\n",
       "      <td>0.0</td>\n",
       "      <td>0.0</td>\n",
       "      <td>0.0</td>\n",
       "      <td>...</td>\n",
       "      <td>0.0</td>\n",
       "      <td>1.0</td>\n",
       "      <td>0.0</td>\n",
       "      <td>0.0</td>\n",
       "      <td>0.0</td>\n",
       "      <td>0.0</td>\n",
       "      <td>0.0</td>\n",
       "      <td>26.0</td>\n",
       "      <td>676.0</td>\n",
       "      <td>NaN</td>\n",
       "    </tr>\n",
       "    <tr>\n",
       "      <th>college</th>\n",
       "      <td>0.0</td>\n",
       "      <td>0.0</td>\n",
       "      <td>0.0</td>\n",
       "      <td>0.0</td>\n",
       "      <td>0.0</td>\n",
       "      <td>0.0</td>\n",
       "      <td>0.0</td>\n",
       "      <td>0.0</td>\n",
       "      <td>0.0</td>\n",
       "      <td>0.0</td>\n",
       "      <td>...</td>\n",
       "      <td>0.0</td>\n",
       "      <td>0.0</td>\n",
       "      <td>1.0</td>\n",
       "      <td>0.0</td>\n",
       "      <td>0.0</td>\n",
       "      <td>0.0</td>\n",
       "      <td>0.0</td>\n",
       "      <td>26.0</td>\n",
       "      <td>676.0</td>\n",
       "      <td>NaN</td>\n",
       "    </tr>\n",
       "    <tr>\n",
       "      <th>urban</th>\n",
       "      <td>0.0</td>\n",
       "      <td>0.0</td>\n",
       "      <td>0.0</td>\n",
       "      <td>0.0</td>\n",
       "      <td>0.0</td>\n",
       "      <td>0.0</td>\n",
       "      <td>0.0</td>\n",
       "      <td>0.0</td>\n",
       "      <td>0.0</td>\n",
       "      <td>0.0</td>\n",
       "      <td>...</td>\n",
       "      <td>0.0</td>\n",
       "      <td>0.0</td>\n",
       "      <td>0.0</td>\n",
       "      <td>1.0</td>\n",
       "      <td>0.0</td>\n",
       "      <td>0.0</td>\n",
       "      <td>0.0</td>\n",
       "      <td>26.0</td>\n",
       "      <td>676.0</td>\n",
       "      <td>NaN</td>\n",
       "    </tr>\n",
       "    <tr>\n",
       "      <th>rural</th>\n",
       "      <td>0.0</td>\n",
       "      <td>0.0</td>\n",
       "      <td>0.0</td>\n",
       "      <td>0.0</td>\n",
       "      <td>0.0</td>\n",
       "      <td>0.0</td>\n",
       "      <td>0.0</td>\n",
       "      <td>0.0</td>\n",
       "      <td>0.0</td>\n",
       "      <td>0.0</td>\n",
       "      <td>...</td>\n",
       "      <td>0.0</td>\n",
       "      <td>0.0</td>\n",
       "      <td>0.0</td>\n",
       "      <td>0.0</td>\n",
       "      <td>1.0</td>\n",
       "      <td>0.0</td>\n",
       "      <td>0.0</td>\n",
       "      <td>26.0</td>\n",
       "      <td>676.0</td>\n",
       "      <td>NaN</td>\n",
       "    </tr>\n",
       "    <tr>\n",
       "      <th>threatened</th>\n",
       "      <td>0.0</td>\n",
       "      <td>0.0</td>\n",
       "      <td>0.0</td>\n",
       "      <td>0.0</td>\n",
       "      <td>0.0</td>\n",
       "      <td>0.0</td>\n",
       "      <td>0.0</td>\n",
       "      <td>0.0</td>\n",
       "      <td>0.0</td>\n",
       "      <td>0.0</td>\n",
       "      <td>...</td>\n",
       "      <td>0.0</td>\n",
       "      <td>0.0</td>\n",
       "      <td>0.0</td>\n",
       "      <td>0.0</td>\n",
       "      <td>0.0</td>\n",
       "      <td>1.0</td>\n",
       "      <td>0.0</td>\n",
       "      <td>26.0</td>\n",
       "      <td>676.0</td>\n",
       "      <td>NaN</td>\n",
       "    </tr>\n",
       "    <tr>\n",
       "      <th>gunhome</th>\n",
       "      <td>0.0</td>\n",
       "      <td>0.0</td>\n",
       "      <td>0.0</td>\n",
       "      <td>0.0</td>\n",
       "      <td>0.0</td>\n",
       "      <td>0.0</td>\n",
       "      <td>0.0</td>\n",
       "      <td>0.0</td>\n",
       "      <td>0.0</td>\n",
       "      <td>0.0</td>\n",
       "      <td>...</td>\n",
       "      <td>0.0</td>\n",
       "      <td>0.0</td>\n",
       "      <td>0.0</td>\n",
       "      <td>0.0</td>\n",
       "      <td>0.0</td>\n",
       "      <td>0.0</td>\n",
       "      <td>1.0</td>\n",
       "      <td>26.0</td>\n",
       "      <td>676.0</td>\n",
       "      <td>NaN</td>\n",
       "    </tr>\n",
       "    <tr>\n",
       "      <th>yminus10</th>\n",
       "      <td>0.0</td>\n",
       "      <td>0.0</td>\n",
       "      <td>0.0</td>\n",
       "      <td>0.0</td>\n",
       "      <td>0.0</td>\n",
       "      <td>0.0</td>\n",
       "      <td>0.0</td>\n",
       "      <td>0.0</td>\n",
       "      <td>0.0</td>\n",
       "      <td>0.0</td>\n",
       "      <td>...</td>\n",
       "      <td>0.0</td>\n",
       "      <td>0.0</td>\n",
       "      <td>0.0</td>\n",
       "      <td>0.0</td>\n",
       "      <td>0.0</td>\n",
       "      <td>0.0</td>\n",
       "      <td>0.0</td>\n",
       "      <td>16.0</td>\n",
       "      <td>256.0</td>\n",
       "      <td>NaN</td>\n",
       "    </tr>\n",
       "    <tr>\n",
       "      <th>yminus20</th>\n",
       "      <td>0.0</td>\n",
       "      <td>0.0</td>\n",
       "      <td>0.0</td>\n",
       "      <td>0.0</td>\n",
       "      <td>0.0</td>\n",
       "      <td>0.0</td>\n",
       "      <td>0.0</td>\n",
       "      <td>0.0</td>\n",
       "      <td>0.0</td>\n",
       "      <td>0.0</td>\n",
       "      <td>...</td>\n",
       "      <td>0.0</td>\n",
       "      <td>0.0</td>\n",
       "      <td>0.0</td>\n",
       "      <td>0.0</td>\n",
       "      <td>0.0</td>\n",
       "      <td>0.0</td>\n",
       "      <td>0.0</td>\n",
       "      <td>6.0</td>\n",
       "      <td>36.0</td>\n",
       "      <td>NaN</td>\n",
       "    </tr>\n",
       "    <tr>\n",
       "      <th>yminus30</th>\n",
       "      <td>0.0</td>\n",
       "      <td>0.0</td>\n",
       "      <td>0.0</td>\n",
       "      <td>0.0</td>\n",
       "      <td>0.0</td>\n",
       "      <td>0.0</td>\n",
       "      <td>0.0</td>\n",
       "      <td>0.0</td>\n",
       "      <td>0.0</td>\n",
       "      <td>0.0</td>\n",
       "      <td>...</td>\n",
       "      <td>0.0</td>\n",
       "      <td>0.0</td>\n",
       "      <td>0.0</td>\n",
       "      <td>0.0</td>\n",
       "      <td>0.0</td>\n",
       "      <td>0.0</td>\n",
       "      <td>0.0</td>\n",
       "      <td>-4.0</td>\n",
       "      <td>16.0</td>\n",
       "      <td>NaN</td>\n",
       "    </tr>\n",
       "    <tr>\n",
       "      <th>yminus40</th>\n",
       "      <td>0.0</td>\n",
       "      <td>0.0</td>\n",
       "      <td>0.0</td>\n",
       "      <td>0.0</td>\n",
       "      <td>0.0</td>\n",
       "      <td>0.0</td>\n",
       "      <td>0.0</td>\n",
       "      <td>0.0</td>\n",
       "      <td>0.0</td>\n",
       "      <td>0.0</td>\n",
       "      <td>...</td>\n",
       "      <td>0.0</td>\n",
       "      <td>0.0</td>\n",
       "      <td>0.0</td>\n",
       "      <td>0.0</td>\n",
       "      <td>0.0</td>\n",
       "      <td>0.0</td>\n",
       "      <td>0.0</td>\n",
       "      <td>-14.0</td>\n",
       "      <td>196.0</td>\n",
       "      <td>NaN</td>\n",
       "    </tr>\n",
       "  </tbody>\n",
       "</table>\n",
       "<p>25 rows × 23 columns</p>\n",
       "</div>"
      ],
      "text/plain": [
       "              nineties  eighties  seventies  fifties  forties  thirties  \\\n",
       "base               0.0       0.0        0.0      0.0      0.0       0.0   \n",
       "nineties           1.0       0.0        0.0      0.0      0.0       0.0   \n",
       "eighties           0.0       1.0        0.0      0.0      0.0       0.0   \n",
       "seventies          0.0       0.0        1.0      0.0      0.0       0.0   \n",
       "fifties            0.0       0.0        0.0      1.0      0.0       0.0   \n",
       "forties            0.0       0.0        0.0      0.0      1.0       0.0   \n",
       "thirties           0.0       0.0        0.0      0.0      0.0       1.0   \n",
       "twenties           0.0       0.0        0.0      0.0      0.0       0.0   \n",
       "female             0.0       0.0        0.0      0.0      0.0       0.0   \n",
       "black              0.0       0.0        0.0      0.0      0.0       0.0   \n",
       "otherrace          0.0       0.0        0.0      0.0      0.0       0.0   \n",
       "ishisp             0.0       0.0        0.0      0.0      0.0       0.0   \n",
       "conservative       0.0       0.0        0.0      0.0      0.0       0.0   \n",
       "liberal            0.0       0.0        0.0      0.0      0.0       0.0   \n",
       "lowrealinc         0.0       0.0        0.0      0.0      0.0       0.0   \n",
       "highrealinc        0.0       0.0        0.0      0.0      0.0       0.0   \n",
       "college            0.0       0.0        0.0      0.0      0.0       0.0   \n",
       "urban              0.0       0.0        0.0      0.0      0.0       0.0   \n",
       "rural              0.0       0.0        0.0      0.0      0.0       0.0   \n",
       "threatened         0.0       0.0        0.0      0.0      0.0       0.0   \n",
       "gunhome            0.0       0.0        0.0      0.0      0.0       0.0   \n",
       "yminus10           0.0       0.0        0.0      0.0      0.0       0.0   \n",
       "yminus20           0.0       0.0        0.0      0.0      0.0       0.0   \n",
       "yminus30           0.0       0.0        0.0      0.0      0.0       0.0   \n",
       "yminus40           0.0       0.0        0.0      0.0      0.0       0.0   \n",
       "\n",
       "              twenties  female  black  otherrace  ...    lowrealinc  \\\n",
       "base               0.0     0.0    0.0        0.0  ...           0.0   \n",
       "nineties           0.0     0.0    0.0        0.0  ...           0.0   \n",
       "eighties           0.0     0.0    0.0        0.0  ...           0.0   \n",
       "seventies          0.0     0.0    0.0        0.0  ...           0.0   \n",
       "fifties            0.0     0.0    0.0        0.0  ...           0.0   \n",
       "forties            0.0     0.0    0.0        0.0  ...           0.0   \n",
       "thirties           0.0     0.0    0.0        0.0  ...           0.0   \n",
       "twenties           1.0     0.0    0.0        0.0  ...           0.0   \n",
       "female             0.0     1.0    0.0        0.0  ...           0.0   \n",
       "black              0.0     0.0    1.0        0.0  ...           0.0   \n",
       "otherrace          0.0     0.0    0.0        1.0  ...           0.0   \n",
       "ishisp             0.0     0.0    0.0        0.0  ...           0.0   \n",
       "conservative       0.0     0.0    0.0        0.0  ...           0.0   \n",
       "liberal            0.0     0.0    0.0        0.0  ...           0.0   \n",
       "lowrealinc         0.0     0.0    0.0        0.0  ...           1.0   \n",
       "highrealinc        0.0     0.0    0.0        0.0  ...           0.0   \n",
       "college            0.0     0.0    0.0        0.0  ...           0.0   \n",
       "urban              0.0     0.0    0.0        0.0  ...           0.0   \n",
       "rural              0.0     0.0    0.0        0.0  ...           0.0   \n",
       "threatened         0.0     0.0    0.0        0.0  ...           0.0   \n",
       "gunhome            0.0     0.0    0.0        0.0  ...           0.0   \n",
       "yminus10           0.0     0.0    0.0        0.0  ...           0.0   \n",
       "yminus20           0.0     0.0    0.0        0.0  ...           0.0   \n",
       "yminus30           0.0     0.0    0.0        0.0  ...           0.0   \n",
       "yminus40           0.0     0.0    0.0        0.0  ...           0.0   \n",
       "\n",
       "              highrealinc  college  urban  rural  threatened  gunhome     y  \\\n",
       "base                  0.0      0.0    0.0    0.0         0.0      0.0  26.0   \n",
       "nineties              0.0      0.0    0.0    0.0         0.0      0.0  26.0   \n",
       "eighties              0.0      0.0    0.0    0.0         0.0      0.0  26.0   \n",
       "seventies             0.0      0.0    0.0    0.0         0.0      0.0  26.0   \n",
       "fifties               0.0      0.0    0.0    0.0         0.0      0.0  26.0   \n",
       "forties               0.0      0.0    0.0    0.0         0.0      0.0  26.0   \n",
       "thirties              0.0      0.0    0.0    0.0         0.0      0.0  26.0   \n",
       "twenties              0.0      0.0    0.0    0.0         0.0      0.0  26.0   \n",
       "female                0.0      0.0    0.0    0.0         0.0      0.0  26.0   \n",
       "black                 0.0      0.0    0.0    0.0         0.0      0.0  26.0   \n",
       "otherrace             0.0      0.0    0.0    0.0         0.0      0.0  26.0   \n",
       "ishisp                0.0      0.0    0.0    0.0         0.0      0.0  26.0   \n",
       "conservative          0.0      0.0    0.0    0.0         0.0      0.0  26.0   \n",
       "liberal               0.0      0.0    0.0    0.0         0.0      0.0  26.0   \n",
       "lowrealinc            0.0      0.0    0.0    0.0         0.0      0.0  26.0   \n",
       "highrealinc           1.0      0.0    0.0    0.0         0.0      0.0  26.0   \n",
       "college               0.0      1.0    0.0    0.0         0.0      0.0  26.0   \n",
       "urban                 0.0      0.0    1.0    0.0         0.0      0.0  26.0   \n",
       "rural                 0.0      0.0    0.0    1.0         0.0      0.0  26.0   \n",
       "threatened            0.0      0.0    0.0    0.0         1.0      0.0  26.0   \n",
       "gunhome               0.0      0.0    0.0    0.0         0.0      1.0  26.0   \n",
       "yminus10              0.0      0.0    0.0    0.0         0.0      0.0  16.0   \n",
       "yminus20              0.0      0.0    0.0    0.0         0.0      0.0   6.0   \n",
       "yminus30              0.0      0.0    0.0    0.0         0.0      0.0  -4.0   \n",
       "yminus40              0.0      0.0    0.0    0.0         0.0      0.0 -14.0   \n",
       "\n",
       "                 y2  favor  \n",
       "base          676.0    NaN  \n",
       "nineties      676.0    NaN  \n",
       "eighties      676.0    NaN  \n",
       "seventies     676.0    NaN  \n",
       "fifties       676.0    NaN  \n",
       "forties       676.0    NaN  \n",
       "thirties      676.0    NaN  \n",
       "twenties      676.0    NaN  \n",
       "female        676.0    NaN  \n",
       "black         676.0    NaN  \n",
       "otherrace     676.0    NaN  \n",
       "ishisp        676.0    NaN  \n",
       "conservative  676.0    NaN  \n",
       "liberal       676.0    NaN  \n",
       "lowrealinc    676.0    NaN  \n",
       "highrealinc   676.0    NaN  \n",
       "college       676.0    NaN  \n",
       "urban         676.0    NaN  \n",
       "rural         676.0    NaN  \n",
       "threatened    676.0    NaN  \n",
       "gunhome       676.0    NaN  \n",
       "yminus10      256.0    NaN  \n",
       "yminus20       36.0    NaN  \n",
       "yminus30       16.0    NaN  \n",
       "yminus40      196.0    NaN  \n",
       "\n",
       "[25 rows x 23 columns]"
      ]
     },
     "execution_count": 119,
     "metadata": {},
     "output_type": "execute_result"
    }
   ],
   "source": [
    "df_pred.loc['base'] = s\n",
    "\n",
    "for varname in varnames:\n",
    "    df_pred.loc[varname] = s\n",
    "    df_pred.loc[varname, varname] = 1\n",
    "    \n",
    "df_pred.loc['yminus10'] = s\n",
    "df_pred.loc['yminus10', 'y'] -= 10\n",
    "df_pred.loc['yminus10', 'y2'] = df_pred.loc['yminus10', 'y']**2\n",
    "\n",
    "df_pred.loc['yminus20'] = s\n",
    "df_pred.loc['yminus20', 'y'] -= 20\n",
    "df_pred.loc['yminus20', 'y2'] = df_pred.loc['yminus20', 'y']**2\n",
    "\n",
    "df_pred.loc['yminus30'] = s\n",
    "df_pred.loc['yminus30', 'y'] -= 30\n",
    "df_pred.loc['yminus30', 'y2'] = df_pred.loc['yminus30', 'y']**2\n",
    "    \n",
    "df_pred.loc['yminus40'] = s\n",
    "df_pred.loc['yminus40', 'y'] -= 40\n",
    "df_pred.loc['yminus40', 'y2'] = df_pred.loc['yminus40', 'y']**2\n",
    "    \n",
    "df_pred.loc[:, all_varnames]"
   ]
  },
  {
   "cell_type": "code",
   "execution_count": 120,
   "metadata": {},
   "outputs": [
    {
     "data": {
      "text/plain": [
       "base            77.528642\n",
       "nineties        65.614292\n",
       "eighties        72.227259\n",
       "seventies       76.173836\n",
       "fifties         77.371279\n",
       "forties         77.385489\n",
       "thirties        76.256421\n",
       "twenties        77.388284\n",
       "female          87.244656\n",
       "black           82.066423\n",
       "otherrace       84.310411\n",
       "ishisp          77.550800\n",
       "conservative    71.456653\n",
       "liberal         81.412515\n",
       "lowrealinc      75.753145\n",
       "highrealinc     78.830237\n",
       "college         78.961499\n",
       "urban           72.374001\n",
       "rural           68.396656\n",
       "threatened      76.324172\n",
       "gunhome         58.921952\n",
       "yminus10        81.797042\n",
       "yminus20        83.322671\n",
       "yminus30        82.584284\n",
       "yminus40        79.347240\n",
       "dtype: float64"
      ]
     },
     "execution_count": 120,
     "metadata": {},
     "output_type": "execute_result"
    }
   ],
   "source": [
    "pred = model.predict(df_pred) * 100\n",
    "pred"
   ]
  },
  {
   "cell_type": "code",
   "execution_count": 121,
   "metadata": {},
   "outputs": [
    {
     "data": {
      "text/plain": [
       "base             0.000000\n",
       "nineties       -11.914350\n",
       "eighties        -5.301383\n",
       "seventies       -1.354806\n",
       "fifties         -0.157363\n",
       "forties         -0.143153\n",
       "thirties        -1.272221\n",
       "twenties        -0.140358\n",
       "female           9.716014\n",
       "black            4.537781\n",
       "otherrace        6.781769\n",
       "ishisp           0.022158\n",
       "conservative    -6.071989\n",
       "liberal          3.883873\n",
       "lowrealinc      -1.775497\n",
       "highrealinc      1.301595\n",
       "college          1.432856\n",
       "urban           -5.154641\n",
       "rural           -9.131986\n",
       "threatened      -1.204470\n",
       "gunhome        -18.606690\n",
       "yminus10         4.268400\n",
       "yminus20         5.794029\n",
       "yminus30         5.055642\n",
       "yminus40         1.818598\n",
       "dtype: float64"
      ]
     },
     "execution_count": 121,
     "metadata": {},
     "output_type": "execute_result"
    }
   ],
   "source": [
    "pred - pred['base']"
   ]
  },
  {
   "cell_type": "code",
   "execution_count": null,
   "metadata": {},
   "outputs": [],
   "source": []
  },
  {
   "cell_type": "code",
   "execution_count": 122,
   "metadata": {
    "collapsed": true
   },
   "outputs": [],
   "source": [
    "def predict_favor(df, model):\n",
    "    probs = model.predict(df)\n",
    "    bools = np.random.random(len(probs)) < probs\n",
    "    return bools.dropna().mean() * 100"
   ]
  },
  {
   "cell_type": "code",
   "execution_count": 123,
   "metadata": {},
   "outputs": [
    {
     "data": {
      "text/plain": [
       "76.460794672301731"
      ]
     },
     "execution_count": 123,
     "metadata": {},
     "output_type": "execute_result"
    }
   ],
   "source": [
    "predict_favor(data, model)"
   ]
  },
  {
   "cell_type": "code",
   "execution_count": 124,
   "metadata": {},
   "outputs": [
    {
     "data": {
      "text/plain": [
       "0.7594603244946697"
      ]
     },
     "execution_count": 124,
     "metadata": {},
     "output_type": "execute_result"
    }
   ],
   "source": [
    "data.favor.mean()"
   ]
  },
  {
   "cell_type": "code",
   "execution_count": 125,
   "metadata": {},
   "outputs": [
    {
     "name": "stdout",
     "output_type": "stream",
     "text": [
      "1971 73.88724035608308 71.0940006416\n",
      "1975 72.86900525334688 72.297184741\n",
      "1979 69.3062368605466 74.2666666667\n",
      "1983 72.87066246056783 76.5852149706\n",
      "1987 74.82740308019117 78.1829713017\n",
      "1991 80.30664395229982 78.4872080089\n",
      "1995 80.11233086545826 79.0027137042\n",
      "1999 82.94552422666301 79.1290493893\n",
      "2003 80.02283105022832 77.8913394298\n",
      "2007 79.98798076923077 77.4223174652\n",
      "2011 73.72319688109161 74.8133399701\n",
      "2015 71.2412831241283 73.4320074006\n"
     ]
    }
   ],
   "source": [
    "for name, group in grouped_year4:\n",
    "    retro = predict_favor(group, model)\n",
    "    actual = group.favor.mean() * 100\n",
    "    print(name, actual, retro)"
   ]
  },
  {
   "cell_type": "code",
   "execution_count": 126,
   "metadata": {},
   "outputs": [
    {
     "data": {
      "image/png": "[encoded data removed]",
      "text/plain": [
       "<matplotlib.figure.Figure at 0x7f56051d06d8>"
      ]
     },
     "metadata": {},
     "output_type": "display_data"
    }
   ],
   "source": [
    "actual = pd.Series([])\n",
    "retro = pd.Series([])\n",
    "for name, group in grouped_year4:\n",
    "    retro[name] = predict_favor(group, model)\n",
    "    actual[name] = group.favor.mean() * 100\n",
    "\n",
    "thinkplot.plot(actual.index, actual)\n",
    "thinkplot.plot(retro.index, retro)"
   ]
  },
  {
   "cell_type": "code",
   "execution_count": null,
   "metadata": {
    "collapsed": true
   },
   "outputs": [],
   "source": []
  },
  {
   "cell_type": "code",
   "execution_count": 109,
   "metadata": {},
   "outputs": [
    {
     "ename": "NameError",
     "evalue": "name 'stop' is not defined",
     "output_type": "error",
     "traceback": [
      "\u001b[0;31m---------------------------------------------------------------------------\u001b[0m",
      "\u001b[0;31mNameError\u001b[0m                                 Traceback (most recent call last)",
      "\u001b[0;32m<ipython-input-109-30d9529ff51c>\u001b[0m in \u001b[0;36m<module>\u001b[0;34m()\u001b[0m\n\u001b[0;32m----> 1\u001b[0;31m \u001b[0mstop\u001b[0m\u001b[0;34m\u001b[0m\u001b[0m\n\u001b[0m",
      "\u001b[0;31mNameError\u001b[0m: name 'stop' is not defined"
     ]
    }
   ],
   "source": [
    "stop"
   ]
  },
  {
   "cell_type": "markdown",
   "metadata": {},
   "source": [
    "### Run counterfactuals"
   ]
  },
  {
   "cell_type": "code",
   "execution_count": null,
   "metadata": {
    "collapsed": true
   },
   "outputs": [],
   "source": [
    "# may not need this any more, since sample is a copy\n",
    "counterfact = sample.copy()"
   ]
  },
  {
   "cell_type": "code",
   "execution_count": null,
   "metadata": {
    "collapsed": true
   },
   "outputs": [],
   "source": [
    "def flip(df, varname, val, new_val, prob):\n",
    "    \"\"\"Changes the value of a variable for a random sample of rows.\n",
    "    \n",
    "    Selects each row where varname==val with probability prob, and\n",
    "    replaces val with new_val.\n",
    "    \n",
    "    df: DataFrame\n",
    "    varname: string\n",
    "    val: old value\n",
    "    new_val: new value\n",
    "    prob: probability of flipping\n",
    "    \"\"\"\n",
    "    assert(0 < prob < 1)\n",
    "    print('flip', val, new_val, prob)\n",
    "    \n",
    "    # get indices of the rows that match val\n",
    "    indices = np.flatnonzero(df[varname] == val)\n",
    "    print(len(indices) * prob)\n",
    "    \n",
    "    # flip a coin for each selected row\n",
    "    cond = np.random.random(len(indices)) < prob\n",
    "\n",
    "    # get indices of the rows that will flip\n",
    "    flippers = indices[cond]\n",
    "    print(len(flippers))\n",
    "    #print((df.loc[flippers, varname] == val).mean())\n",
    "    \n",
    "    # assign the new val to the selected rows\n",
    "    labels = df.index[flippers]\n",
    "    df.loc[labels, varname] = new_val"
   ]
  },
  {
   "cell_type": "code",
   "execution_count": null,
   "metadata": {},
   "outputs": [],
   "source": [
    "counterfact.college.value_counts()"
   ]
  },
  {
   "cell_type": "code",
   "execution_count": null,
   "metadata": {},
   "outputs": [],
   "source": [
    "flip(counterfact, 'college', 1, 0, 0.1)"
   ]
  },
  {
   "cell_type": "code",
   "execution_count": null,
   "metadata": {},
   "outputs": [],
   "source": [
    "counterfact.college.value_counts()"
   ]
  },
  {
   "cell_type": "code",
   "execution_count": null,
   "metadata": {
    "collapsed": true
   },
   "outputs": [],
   "source": [
    "def adjust_prob(df, varname, desired):\n",
    "    \"\"\"\n",
    "    \n",
    "    Must be a 0,1 boolean\n",
    "    \"\"\"\n",
    "    actual = df[varname].mean()\n",
    "    diff = desired - actual\n",
    "    print(actual, diff)\n",
    "    if diff > 0:\n",
    "        prob = diff / (1-actual)\n",
    "        flip(df, varname, 0, 1, prob)\n",
    "    elif diff < 0:\n",
    "        prob = -diff / actual\n",
    "        flip(df, varname, 1, 0, prob)"
   ]
  },
  {
   "cell_type": "code",
   "execution_count": null,
   "metadata": {},
   "outputs": [],
   "source": [
    "counterfact.college.value_counts()"
   ]
  },
  {
   "cell_type": "code",
   "execution_count": null,
   "metadata": {
    "collapsed": true
   },
   "outputs": [],
   "source": [
    "adjust_prob(counterfact, 'college', 0.9)"
   ]
  },
  {
   "cell_type": "code",
   "execution_count": null,
   "metadata": {
    "collapsed": true
   },
   "outputs": [],
   "source": [
    "counterfact.college.value_counts()"
   ]
  },
  {
   "cell_type": "code",
   "execution_count": null,
   "metadata": {
    "collapsed": true
   },
   "outputs": [],
   "source": [
    "counterfact.college.mean()"
   ]
  },
  {
   "cell_type": "code",
   "execution_count": null,
   "metadata": {
    "collapsed": true
   },
   "outputs": [],
   "source": [
    "def make_counterfactual(grouped, varname, prob):\n",
    "    for name, group in grouped:\n",
    "        print(name, group[varname].mean())\n",
    "        adjust_prob(group, varname, prob)\n",
    "        print(name, group[varname].mean())"
   ]
  },
  {
   "cell_type": "code",
   "execution_count": null,
   "metadata": {
    "collapsed": true
   },
   "outputs": [],
   "source": [
    "grouped_year4 = counterfact.groupby('year4')\n",
    "grouped_year4.black.mean()"
   ]
  },
  {
   "cell_type": "code",
   "execution_count": null,
   "metadata": {
    "collapsed": true
   },
   "outputs": [],
   "source": [
    "prob = grouped_year4.black.mean()[1975]\n",
    "prob"
   ]
  },
  {
   "cell_type": "code",
   "execution_count": null,
   "metadata": {
    "collapsed": true
   },
   "outputs": [],
   "source": [
    "make_counterfactual(grouped_year4, 'black', prob)\n"
   ]
  },
  {
   "cell_type": "code",
   "execution_count": null,
   "metadata": {
    "collapsed": true
   },
   "outputs": [],
   "source": [
    "predict_favor(counterfact, model)"
   ]
  },
  {
   "cell_type": "code",
   "execution_count": null,
   "metadata": {
    "collapsed": true
   },
   "outputs": [],
   "source": [
    "stop"
   ]
  },
  {
   "cell_type": "code",
   "execution_count": null,
   "metadata": {
    "collapsed": true
   },
   "outputs": [],
   "source": []
  },
  {
   "cell_type": "code",
   "execution_count": null,
   "metadata": {
    "collapsed": true
   },
   "outputs": [],
   "source": []
  },
  {
   "cell_type": "code",
   "execution_count": null,
   "metadata": {
    "collapsed": true
   },
   "outputs": [],
   "source": []
  },
  {
   "cell_type": "code",
   "execution_count": null,
   "metadata": {
    "collapsed": true
   },
   "outputs": [],
   "source": []
  },
  {
   "cell_type": "code",
   "execution_count": null,
   "metadata": {
    "collapsed": true
   },
   "outputs": [],
   "source": []
  },
  {
   "cell_type": "code",
   "execution_count": null,
   "metadata": {
    "collapsed": true
   },
   "outputs": [],
   "source": []
  },
  {
   "cell_type": "code",
   "execution_count": null,
   "metadata": {
    "collapsed": true
   },
   "outputs": [],
   "source": []
  },
  {
   "cell_type": "markdown",
   "metadata": {},
   "source": [
    "## Favor gunlaw"
   ]
  },
  {
   "cell_type": "code",
   "execution_count": null,
   "metadata": {
    "collapsed": true
   },
   "outputs": [],
   "source": [
    "def make_series(grouped, varname):\n",
    "    \"\"\"Compute the percentage in each category.\n",
    "    \n",
    "    grouped: GroupBy object\n",
    "    varname: string column name\n",
    "    \n",
    "    returns:  Series\n",
    "    \"\"\"\n",
    "    return grouped[varname].mean() * 100"
   ]
  },
  {
   "cell_type": "code",
   "execution_count": null,
   "metadata": {
    "collapsed": true
   },
   "outputs": [],
   "source": [
    "def plot_series(series, **options):\n",
    "    \"\"\"Plots Series objects.\n",
    "    \n",
    "    series: Series\n",
    "    \"\"\"\n",
    "    thinkplot.plot(series.dropna(), **options)"
   ]
  },
  {
   "cell_type": "code",
   "execution_count": null,
   "metadata": {
    "collapsed": true
   },
   "outputs": [],
   "source": [
    "def plot_gunlaw(grouped):\n",
    "    \"\"\".\n",
    "    \n",
    "    grouped:\n",
    "    \"\"\"\n",
    "    varnames = ['favor']\n",
    "    colors = [BLUE]\n",
    "    labels = ['Favor']\n",
    "    series_seq = make_series_seq(grouped, varnames)\n",
    "    plot_series_seq(series_seq, colors, labels)"
   ]
  },
  {
   "cell_type": "markdown",
   "metadata": {},
   "source": [
    "Plot the percentage in each religious group as a function of survey year."
   ]
  },
  {
   "cell_type": "code",
   "execution_count": null,
   "metadata": {
    "collapsed": true
   },
   "outputs": [],
   "source": [
    "grouped_year = sample.groupby('year')\n",
    "favor = make_series(grouped_year, 'favor')\n",
    "favor"
   ]
  },
  {
   "cell_type": "code",
   "execution_count": null,
   "metadata": {
    "collapsed": true
   },
   "outputs": [],
   "source": [
    "plot_series(favor, color=BLUE, label='favor')\n",
    "thinkplot.config(xlabel='Year of survey', \n",
    "                 ylabel='Percent',\n",
    "                 xlim=[1971, 2017])"
   ]
  },
  {
   "cell_type": "code",
   "execution_count": null,
   "metadata": {
    "collapsed": true
   },
   "outputs": [],
   "source": [
    "crime = make_series(grouped_year, 'crime')\n",
    "crime"
   ]
  },
  {
   "cell_type": "code",
   "execution_count": null,
   "metadata": {
    "collapsed": true
   },
   "outputs": [],
   "source": [
    "plot_series(crime.loc[1984:], color=RED, label='crime')\n",
    "thinkplot.config(xlabel='Year of survey', \n",
    "                 ylabel='Percent',\n",
    "                 xlim=[1971, 2017])"
   ]
  },
  {
   "cell_type": "code",
   "execution_count": null,
   "metadata": {
    "collapsed": true
   },
   "outputs": [],
   "source": [
    "plot_series(favor, color=BLUE, label='favor')\n",
    "plot_series(crime.loc[1984:], color=RED, label='crime')\n",
    "thinkplot.config(title='Support for gun control and concern about crime',\n",
    "                 xlabel='Year of survey', \n",
    "                 ylabel='Percent',\n",
    "                 xlim=[1971, 2017])"
   ]
  },
  {
   "cell_type": "code",
   "execution_count": null,
   "metadata": {
    "collapsed": true
   },
   "outputs": [],
   "source": [
    "grouped_age = sample.groupby(['age_group'])"
   ]
  },
  {
   "cell_type": "code",
   "execution_count": null,
   "metadata": {
    "collapsed": true
   },
   "outputs": [],
   "source": [
    "plot_gunlaw(grouped_age)\n",
    "thinkplot.config(xlabel='Age', ylabel='Percent')"
   ]
  },
  {
   "cell_type": "markdown",
   "metadata": {},
   "source": [
    "Plot the percentage in favor of gun permits as a function of birth cohort."
   ]
  },
  {
   "cell_type": "code",
   "execution_count": null,
   "metadata": {
    "collapsed": true
   },
   "outputs": [],
   "source": [
    "grouped_cohort = sample.groupby(['cohort5'])"
   ]
  },
  {
   "cell_type": "code",
   "execution_count": null,
   "metadata": {
    "collapsed": true
   },
   "outputs": [],
   "source": [
    "heri = pd.read_csv('heri_gun_control.csv')"
   ]
  },
  {
   "cell_type": "code",
   "execution_count": null,
   "metadata": {
    "collapsed": true
   },
   "outputs": [],
   "source": [
    "heri.year"
   ]
  },
  {
   "cell_type": "code",
   "execution_count": null,
   "metadata": {
    "collapsed": true
   },
   "outputs": [],
   "source": [
    "heri = pd.read_csv('heri_gun_control.csv')\n",
    "thinkplot.plot(heri.year, heri.agree, color=ORANGE)"
   ]
  },
  {
   "cell_type": "code",
   "execution_count": null,
   "metadata": {
    "collapsed": true
   },
   "outputs": [],
   "source": [
    "plot_gunlaw(grouped_cohort)\n",
    "thinkplot.plot(heri.yearm18, heri.agree, color=ORANGE, label='CIRP')\n",
    "thinkplot.config(xlabel='Year of birth', ylabel='Percent')"
   ]
  },
  {
   "cell_type": "markdown",
   "metadata": {},
   "source": [
    "## Logistic models"
   ]
  },
  {
   "cell_type": "code",
   "execution_count": null,
   "metadata": {
    "collapsed": true
   },
   "outputs": [],
   "source": [
    "def make_logit_model(df, var, factors):\n",
    "    \"\"\"Fit a logistic regression model.\n",
    "    \n",
    "    df: DataFrame\n",
    "    var: string name of dependent variable\n",
    "    factors: list of string names for factorscen\n",
    "    \n",
    "    returns: Logit model\n",
    "    \"\"\"\n",
    "    # TODO: investigate the missing=drop option\n",
    "    nonull = df.dropna(subset=factors+[var])\n",
    "    y = nonull[var].values\n",
    "    X = nonull[factors].values\n",
    "    return Logit(y, X).fit(disp=False, full_output=False)"
   ]
  },
  {
   "cell_type": "code",
   "execution_count": null,
   "metadata": {
    "collapsed": true
   },
   "outputs": [],
   "source": [
    "factors = ['ones', 'a', 'c', 'a2', 'c2', 'ac']\n",
    "factors = ['a', 'a2', 'nineties', 'eighties', 'seventies',\n",
    "           'sixties', 'fifties', 'forties', 'thirties', 'twenties']\n",
    "model = make_logit_model(sample, 'favor', factors)"
   ]
  },
  {
   "cell_type": "code",
   "execution_count": null,
   "metadata": {
    "collapsed": true
   },
   "outputs": [],
   "source": [
    "def predict_logit_model(age, model, year, factors):\n",
    "    \"\"\"Make a single-year prediction.\n",
    "    \n",
    "    age: Series of ages to simulate\n",
    "    model: Logit model\n",
    "    year: year to make a prediction for\n",
    "    factors: list of string names for factors\n",
    "    \n",
    "    returns: Series that maps index to percentage\n",
    "    \"\"\"\n",
    "    # resample the ages\n",
    "    n = len(age)\n",
    "    age = np.random.choice(age, n, replace=True)\n",
    "    \n",
    "    # compute cohort\n",
    "    cohort = year - age\n",
    "    df = pd.DataFrame(dict(cohort=cohort, age=age))\n",
    "    center_factors(df)\n",
    "    \n",
    "    # compute probabilities in each category for each respondent\n",
    "    X = df[factors].values\n",
    "    pred = model.predict(X)\n",
    "    \n",
    "    # toss a weighted coin for each respondent\n",
    "    choices = np.random.random(n) <= pred\n",
    "\n",
    "    # return the percentage in favor\n",
    "    return choices.mean() * 100"
   ]
  },
  {
   "cell_type": "code",
   "execution_count": null,
   "metadata": {
    "collapsed": true
   },
   "outputs": [],
   "source": [
    "age = sample.loc[sample.year==2016, 'age']"
   ]
  },
  {
   "cell_type": "code",
   "execution_count": null,
   "metadata": {
    "collapsed": true
   },
   "outputs": [],
   "source": [
    "predict_logit_model(age, model, 1976, factors)"
   ]
  },
  {
   "cell_type": "code",
   "execution_count": null,
   "metadata": {
    "collapsed": true
   },
   "outputs": [],
   "source": [
    "predict_logit_model(age, model, 2016, factors)"
   ]
  },
  {
   "cell_type": "code",
   "execution_count": null,
   "metadata": {
    "collapsed": true
   },
   "outputs": [],
   "source": [
    "predict_logit_model(age, model, 2026, factors)"
   ]
  },
  {
   "cell_type": "code",
   "execution_count": null,
   "metadata": {
    "collapsed": true
   },
   "outputs": [],
   "source": [
    "predict_logit_model(age, model, 2036, factors)"
   ]
  },
  {
   "cell_type": "code",
   "execution_count": null,
   "metadata": {
    "collapsed": true
   },
   "outputs": [],
   "source": [
    "def make_pred(df, var, varnames, years, factors):\n",
    "    \"\"\"Generate predictions from multinomial model.\n",
    "    \n",
    "    df: DataFrame of respondents\n",
    "    var: dependent variable\n",
    "    varnames: list of string variable names\n",
    "    years: sequence of years to generate predictions for\n",
    "    factors: list of string factor names for the model\n",
    "    \n",
    "    returns: DataFrame that maps from index to predicted values\n",
    "    \"\"\" \n",
    "    model = make_logit_model(df, var, factors)\n",
    "    age = df.loc[df.year==2016, 'age']\n",
    "\n",
    "    pred = pd.DataFrame(columns=varnames)\n",
    "    for year in years:\n",
    "        pred.loc[year] = predict_logit_model(age, model, year, factors)\n",
    "    return pred"
   ]
  },
  {
   "cell_type": "code",
   "execution_count": null,
   "metadata": {
    "collapsed": true
   },
   "outputs": [],
   "source": [
    "def plot_pred(df, pred, varnames, colors, alpha=0.2):\n",
    "    \"\"\"Plots predictions from multinomial model.\n",
    "    \n",
    "    pred: DataFrame with one column per variable\n",
    "    varnames: list of string variable names\n",
    "    colors: list of string colors\n",
    "    alpha: numerical transparency\n",
    "    \"\"\"\n",
    "    series_seq = [pred[var] for var in varnames]\n",
    "    for series, color in zip(series_seq, colors):\n",
    "        thinkplot.plot(series, color=color, alpha=alpha)\n",
    "    thinkplot.config(xlabel='Year of survey', loc='upper right')"
   ]
  },
  {
   "cell_type": "code",
   "execution_count": null,
   "metadata": {
    "collapsed": true
   },
   "outputs": [],
   "source": [
    "var = 'favor'\n",
    "varnames = ['favor']\n",
    "years = np.arange(1970, 2038)\n",
    "factors = ['ones', 'a', 'c']\n",
    "colors = [BLUE]\n",
    "\n",
    "pred = make_pred(sample, var, varnames, years, factors)\n",
    "plot_pred(sample, pred, varnames, colors)\n",
    "plot_gunlaw(grouped_year)\n",
    "thinkplot.config(xlim=[1971, 2038])"
   ]
  },
  {
   "cell_type": "code",
   "execution_count": null,
   "metadata": {
    "collapsed": true
   },
   "outputs": [],
   "source": [
    "var = 'favor'\n",
    "varnames = ['favor']\n",
    "years = np.arange(1970, 2038)\n",
    "factors = ['ones', 'a', 'c', 'a2', 'c2', 'ac']\n",
    "index = ['favor']\n",
    "colors = [BLUE]\n",
    "\n",
    "pred = make_pred(sample, var, varnames, years, factors)\n",
    "plot_pred(sample, pred, varnames, colors)\n",
    "plot_gunlaw(grouped_year)\n",
    "thinkplot.config(xlim=[1971, 2038])"
   ]
  },
  {
   "cell_type": "code",
   "execution_count": null,
   "metadata": {
    "collapsed": true
   },
   "outputs": [],
   "source": [
    "var = 'favor'\n",
    "varnames = ['favor']\n",
    "years = np.arange(1970, 2038)\n",
    "factors = ['a', 'a2', 'nineties', 'eighties', 'seventies',\n",
    "           'sixties', 'fifties', 'forties', 'thirties', 'twenties']\n",
    "index = ['favor']\n",
    "colors = [BLUE]\n",
    "\n",
    "pred = make_pred(sample, var, varnames, years, factors)\n",
    "plot_pred(sample, pred, varnames, colors)\n",
    "plot_gunlaw(grouped_year)\n",
    "thinkplot.config(xlim=[1971, 2038])"
   ]
  },
  {
   "cell_type": "markdown",
   "metadata": {},
   "source": [
    "## Resampling"
   ]
  },
  {
   "cell_type": "code",
   "execution_count": null,
   "metadata": {
    "collapsed": true
   },
   "outputs": [],
   "source": [
    "def make_series_df(grouped, varnames):\n",
    "    \"\"\"Compute the percentage in each category.\n",
    "    \n",
    "    grouped: GroupBy object with one-hots for each category\n",
    "    varnames: list of string column names\n",
    "    \n",
    "    returns: DataFrame\n",
    "    \"\"\"\n",
    "    df = pd.DataFrame(columns=varnames)\n",
    "    for var in varnames:\n",
    "        df[var] = grouped[var].mean() * 100\n",
    "    return df"
   ]
  },
  {
   "cell_type": "code",
   "execution_count": null,
   "metadata": {
    "collapsed": true
   },
   "outputs": [],
   "source": [
    "def percentile_rows(series_seq, ps):\n",
    "    \"\"\"Computes percentiles from aligned series.\n",
    "    \n",
    "    series_seq: list of sequences\n",
    "    ps: cumulative probabilities\n",
    "    \n",
    "    returns: Series of x-values, NumPy array with selected rows\n",
    "    \"\"\"\n",
    "    df = pd.concat(series_seq, axis=1).dropna()\n",
    "    xs = df.index\n",
    "    array = df.values.transpose()\n",
    "    array = np.sort(array, axis=0)\n",
    "    nrows, ncols = array.shape\n",
    "    indices = (ps * nrows).astype(int)\n",
    "    rows = array[indices]\n",
    "    return xs, rows"
   ]
  },
  {
   "cell_type": "code",
   "execution_count": null,
   "metadata": {
    "collapsed": true
   },
   "outputs": [],
   "source": [
    "def plot_percentiles(dfs, varnames, colors, labels, plot=True, fill=True, alpha=0.2):\n",
    "    \"\"\"Plots 90% CI and median.\n",
    "    \n",
    "    dfs: list of DataFrames\n",
    "    varnames: list of string variable names\n",
    "    colors: list of string colors\n",
    "    labels: list of string labels\n",
    "    plot: boolean, whether to plot the median\n",
    "    fill: boolean, whether to plot the CI\n",
    "    \"\"\"\n",
    "    ps = np.array([0.05, 0.5, 0.95])\n",
    "\n",
    "    for var, color, label in zip(varnames, colors, labels):\n",
    "        series_seq = [df[var] for df in dfs]\n",
    "        xs, rows = percentile_rows(series_seq, ps)\n",
    "        if fill:\n",
    "            thinkplot.fill_between(xs, rows[0], rows[2], color=color, alpha=alpha)\n",
    "        if plot:\n",
    "            thinkplot.plot(xs, rows[1], color=color, label=label)"
   ]
  },
  {
   "cell_type": "code",
   "execution_count": null,
   "metadata": {
    "collapsed": true
   },
   "outputs": [],
   "source": [
    "def run_data(df, groupvar, varnames, iters=11):\n",
    "    \"\"\"Resample and extract data.\n",
    "    \n",
    "    df: DataFrame\n",
    "    groupvar: string variable to group by\n",
    "    varnames: list of string variable names\n",
    "    iters: number of resamples\n",
    "    \"\"\"\n",
    "    def run():\n",
    "        sample = utils.ResampleByYear(df)\n",
    "        grouped_year = sample.groupby([groupvar])\n",
    "        return make_series_df(grouped_year, varnames)\n",
    "\n",
    "    dfs = [run() for _ in range(iters)]\n",
    "    return dfs"
   ]
  },
  {
   "cell_type": "code",
   "execution_count": null,
   "metadata": {
    "collapsed": true
   },
   "outputs": [],
   "source": [
    "def run_model(df, var, varnames, years, iters=11):\n",
    "    \"\"\"Resample and make predictions.\n",
    "    \n",
    "    df: DataFrame\n",
    "    var: string variable name to model\n",
    "    varnames: list of string variable names\n",
    "    years: list of years to predict\n",
    "    iters: number of resamples\n",
    "    \n",
    "    returns: list of DataFrames\n",
    "    \"\"\"\n",
    "    factors = ['ones', 'a', 'c', 'a2', 'c2', 'ac']\n",
    "    factors = ['a', 'a2', 'nineties', 'eighties', 'seventies',\n",
    "               'sixties', 'fifties', 'forties', 'thirties', 'twenties']\n",
    "\n",
    "    def run():\n",
    "        sample = utils.ResampleByYear(df)\n",
    "        return make_pred(sample, var, varnames, years, factors)\n",
    "\n",
    "    dfs = [run() for _ in range(iters)]\n",
    "    return dfs"
   ]
  },
  {
   "cell_type": "markdown",
   "metadata": {},
   "source": [
    "## Favor gun permits"
   ]
  },
  {
   "cell_type": "code",
   "execution_count": null,
   "metadata": {
    "collapsed": true
   },
   "outputs": [],
   "source": [
    "iters = 31"
   ]
  },
  {
   "cell_type": "code",
   "execution_count": null,
   "metadata": {
    "collapsed": true
   },
   "outputs": [],
   "source": [
    "groupvar = 'year'\n",
    "varnames = ['favor']"
   ]
  },
  {
   "cell_type": "code",
   "execution_count": null,
   "metadata": {
    "collapsed": true
   },
   "outputs": [],
   "source": [
    "dfs1 = run_data(gss, groupvar, varnames, iters=iters)"
   ]
  },
  {
   "cell_type": "code",
   "execution_count": null,
   "metadata": {
    "collapsed": true
   },
   "outputs": [],
   "source": [
    "colors = [BLUE]\n",
    "labels = [None]\n",
    "plot_percentiles(dfs1, varnames, colors, labels)\n",
    "thinkplot.config(title='Favor gun control', \n",
    "                 xlabel='Year of survey', ylabel='Percent',\n",
    "                 xlim=[1971, 2017], ylim=[50, 90])\n",
    "\n",
    "save_options = dict(fmt='png', dpi=50)\n",
    "thinkplot.SaveFormat('favor_year', **save_options)"
   ]
  },
  {
   "cell_type": "code",
   "execution_count": null,
   "metadata": {
    "collapsed": true
   },
   "outputs": [],
   "source": [
    "groupvar = 'cohort5'\n",
    "dfs2 = run_data(gss, groupvar, varnames, iters=iters)"
   ]
  },
  {
   "cell_type": "code",
   "execution_count": null,
   "metadata": {
    "collapsed": true
   },
   "outputs": [],
   "source": [
    "plot_percentiles(dfs2, varnames, colors, labels=['GSS'])\n",
    "thinkplot.config(title='Favor gun control, by year of birth', \n",
    "                 xlabel='Year of birth', ylabel='Percent',\n",
    "                 xlim=[1892, 2000], ylim=[50, 90], loc='lower right')\n",
    "\n",
    "thinkplot.SaveFormat('favor_age', **save_options)"
   ]
  },
  {
   "cell_type": "code",
   "execution_count": null,
   "metadata": {
    "collapsed": true
   },
   "outputs": [],
   "source": [
    "plot_percentiles(dfs2, varnames, colors, labels=['GSS'])\n",
    "\n",
    "# dropping the last data point because its a different question\n",
    "old = heri[heri.year<2016]\n",
    "thinkplot.plot(old.yearm18, old.agree, color=ORANGE, label='CIRP')\n",
    "\n",
    "thinkplot.config(title='Favor gun control, by year of birth', \n",
    "                 xlabel='Year of birth', ylabel='Percent',\n",
    "                 xlim=[1892, 2000], ylim=[50, 90], loc='lower right')\n",
    "\n",
    "thinkplot.SaveFormat('favor_age_cirp', **save_options)"
   ]
  },
  {
   "cell_type": "code",
   "execution_count": null,
   "metadata": {
    "collapsed": true
   },
   "outputs": [],
   "source": [
    "var = 'favor'\n",
    "years = np.arange(1972, 2030)\n",
    "\n",
    "dfs3 = run_model(gss, var, varnames, years, iters=iters)"
   ]
  },
  {
   "cell_type": "code",
   "execution_count": null,
   "metadata": {
    "collapsed": true,
    "scrolled": false
   },
   "outputs": [],
   "source": [
    "nolabels= [None]\n",
    "plot_percentiles(dfs3, varnames, colors, nolabels, plot=False)\n",
    "plot_percentiles(dfs1, varnames, colors, labels, fill=False)\n",
    "thinkplot.config(title='Favor gun control, predicted', \n",
    "                 xlabel='Year of survey', ylabel='Percent',\n",
    "                 xlim=[1971, 2030], ylim=[50, 90])\n",
    "\n",
    "thinkplot.SaveFormat('favor_year_pred', **save_options)"
   ]
  },
  {
   "cell_type": "markdown",
   "metadata": {
    "collapsed": true
   },
   "source": [
    "## Breakdown by political view"
   ]
  },
  {
   "cell_type": "code",
   "execution_count": null,
   "metadata": {
    "collapsed": true,
    "scrolled": true
   },
   "outputs": [],
   "source": [
    "gss.polviews.value_counts()"
   ]
  },
  {
   "cell_type": "code",
   "execution_count": null,
   "metadata": {
    "collapsed": true
   },
   "outputs": [],
   "source": [
    "liberal = gss[gss.liberal]\n",
    "liberal.shape"
   ]
  },
  {
   "cell_type": "code",
   "execution_count": null,
   "metadata": {
    "collapsed": true
   },
   "outputs": [],
   "source": [
    "conservative = gss[gss.conservative]\n",
    "conservative.shape"
   ]
  },
  {
   "cell_type": "code",
   "execution_count": null,
   "metadata": {
    "collapsed": true
   },
   "outputs": [],
   "source": [
    "moderate = gss[gss.moderate]\n",
    "moderate.shape"
   ]
  },
  {
   "cell_type": "code",
   "execution_count": null,
   "metadata": {
    "collapsed": true
   },
   "outputs": [],
   "source": [
    "groupvar = 'cohort5'\n",
    "dfs_lib = run_data(liberal, groupvar, varnames, iters=iters)\n",
    "dfs_mod = run_data(moderate, groupvar, varnames, iters=iters)\n",
    "dfs_con = run_data(conservative, groupvar, varnames, iters=iters)"
   ]
  },
  {
   "cell_type": "code",
   "execution_count": null,
   "metadata": {
    "collapsed": true,
    "scrolled": false
   },
   "outputs": [],
   "source": [
    "plot_percentiles(dfs_lib, varnames, [BLUE], labels=['liberal'], alpha=0.1)\n",
    "plot_percentiles(dfs_mod, varnames, [PURPLE], labels=['moderate'], alpha=0.1)\n",
    "plot_percentiles(dfs_con, varnames, [RED], labels=['conservative'], alpha=0.1)\n",
    "thinkplot.config(title='Favor gun control, grouped by political view', \n",
    "                 xlabel='Year of birth', ylabel='Percent',\n",
    "                 xlim=[1892, 2000], ylim=[40, 100], loc='lower left')\n",
    "\n",
    "thinkplot.SaveFormat('favor_polview_year', **save_options)"
   ]
  },
  {
   "cell_type": "code",
   "execution_count": null,
   "metadata": {
    "collapsed": true
   },
   "outputs": [],
   "source": [
    "groupvar = 'year'\n",
    "dfs_lib = run_data(liberal, groupvar, varnames, iters=iters)\n",
    "dfs_mod = run_data(moderate, groupvar, varnames, iters=iters)\n",
    "dfs_con = run_data(conservative, groupvar, varnames, iters=iters)"
   ]
  },
  {
   "cell_type": "code",
   "execution_count": null,
   "metadata": {
    "collapsed": true,
    "scrolled": false
   },
   "outputs": [],
   "source": [
    "plot_percentiles(dfs_lib, varnames, [BLUE], labels=['liberal'], alpha=0.1)\n",
    "plot_percentiles(dfs_mod, varnames, [PURPLE], labels=['moderate'], alpha=0.1)\n",
    "plot_percentiles(dfs_con, varnames, [RED], labels=['conservative'], alpha=0.1)\n",
    "thinkplot.config(title='Favor gun control, grouped by political view', \n",
    "                 xlabel='Year of survey', ylabel='Percent',\n",
    "                 xlim=[1972, 2017], ylim=[40, 100], loc='lower left')\n",
    "\n",
    "thinkplot.SaveFormat('favor_polview_year', **save_options)"
   ]
  },
  {
   "cell_type": "markdown",
   "metadata": {
    "collapsed": true
   },
   "source": [
    "## Breakdown by race"
   ]
  },
  {
   "cell_type": "code",
   "execution_count": null,
   "metadata": {
    "collapsed": true,
    "scrolled": true
   },
   "outputs": [],
   "source": [
    "gss.race.value_counts()"
   ]
  },
  {
   "cell_type": "code",
   "execution_count": null,
   "metadata": {
    "collapsed": true
   },
   "outputs": [],
   "source": [
    "white = gss[gss.race == 1]\n",
    "white.shape"
   ]
  },
  {
   "cell_type": "code",
   "execution_count": null,
   "metadata": {
    "collapsed": true
   },
   "outputs": [],
   "source": [
    "black = gss[gss.race == 2]\n",
    "black.shape"
   ]
  },
  {
   "cell_type": "code",
   "execution_count": null,
   "metadata": {
    "collapsed": true,
    "scrolled": true
   },
   "outputs": [],
   "source": [
    "nonwhite = gss[gss.race.isin([2,3])]\n",
    "nonwhite.shape"
   ]
  },
  {
   "cell_type": "code",
   "execution_count": null,
   "metadata": {
    "collapsed": true
   },
   "outputs": [],
   "source": [
    "white.favor.mean(), black.favor.mean(), nonwhite.favor.mean()"
   ]
  },
  {
   "cell_type": "code",
   "execution_count": null,
   "metadata": {
    "collapsed": true
   },
   "outputs": [],
   "source": [
    "liberal.favor.mean(), moderate.favor.mean(), conservative.favor.mean()"
   ]
  },
  {
   "cell_type": "code",
   "execution_count": null,
   "metadata": {
    "collapsed": true
   },
   "outputs": [],
   "source": [
    "white.liberal.mean(), black.liberal.mean(), nonwhite.liberal.mean()"
   ]
  },
  {
   "cell_type": "code",
   "execution_count": null,
   "metadata": {
    "collapsed": true
   },
   "outputs": [],
   "source": [
    "white.threatened.mean(), black.threatened.mean(), nonwhite.threatened.mean()"
   ]
  },
  {
   "cell_type": "code",
   "execution_count": null,
   "metadata": {
    "collapsed": true
   },
   "outputs": [],
   "source": [
    "gss.groupby('threatened').favor.mean()"
   ]
  },
  {
   "cell_type": "code",
   "execution_count": null,
   "metadata": {
    "collapsed": true
   },
   "outputs": [],
   "source": [
    "groupvar = 'year'\n",
    "varnames = ['favor']"
   ]
  },
  {
   "cell_type": "code",
   "execution_count": null,
   "metadata": {
    "collapsed": true
   },
   "outputs": [],
   "source": [
    "dfs_white = run_data(white, groupvar, varnames, iters=iters)\n",
    "dfs_nonwhite = run_data(nonwhite, groupvar, varnames, iters=iters)"
   ]
  },
  {
   "cell_type": "code",
   "execution_count": null,
   "metadata": {
    "collapsed": true
   },
   "outputs": [],
   "source": [
    "plot_percentiles(dfs_white, varnames, [BLUE], labels=['white'], alpha=0.1)\n",
    "plot_percentiles(dfs_nonwhite, varnames, [ORANGE], labels=['nonwhite'], alpha=0.1)\n",
    "thinkplot.config(title='Favor gun control, grouped by race', \n",
    "                 xlabel='Year of survey', ylabel='Percent',\n",
    "                 xlim=[1971, 2017], ylim=[40, 100], loc='lower left')\n",
    "\n",
    "thinkplot.SaveFormat('favor_race_year', **save_options)"
   ]
  },
  {
   "cell_type": "code",
   "execution_count": null,
   "metadata": {
    "collapsed": true
   },
   "outputs": [],
   "source": [
    "young = gss[gss.age<30]\n",
    "young_white = young[young.race == 1]\n",
    "young_nonwhite = young[young.race.isin([2,3])]\n",
    "\n",
    "groupvar = 'year4'"
   ]
  },
  {
   "cell_type": "code",
   "execution_count": null,
   "metadata": {
    "collapsed": true
   },
   "outputs": [],
   "source": [
    "dfs_white = run_data(young_white, groupvar, varnames, iters=iters)\n",
    "dfs_nonwhite = run_data(young_nonwhite, groupvar, varnames, iters=iters)"
   ]
  },
  {
   "cell_type": "code",
   "execution_count": null,
   "metadata": {
    "collapsed": true
   },
   "outputs": [],
   "source": [
    "plot_percentiles(dfs_white, varnames, [BLUE], labels=['white'], alpha=0.1)\n",
    "plot_percentiles(dfs_nonwhite, varnames, [ORANGE], labels=['nonwhite'], alpha=0.1)\n",
    "thinkplot.config(title='Favor gun control, by year of survey', \n",
    "                 xlabel='Year of survey', ylabel='Percent',\n",
    "                 xlim=[1970, 2017], ylim=[40, 100], loc='lower left')\n",
    "\n",
    "#thinkplot.SaveFormat('permit_cohort_race', **save_options)"
   ]
  },
  {
   "cell_type": "code",
   "execution_count": null,
   "metadata": {
    "collapsed": true
   },
   "outputs": [],
   "source": [
    "groupvar = 'cohort5'\n",
    "dfs_white = run_data(white, groupvar, varnames, iters=iters)\n",
    "dfs_nonwhite = run_data(nonwhite, groupvar, varnames, iters=iters)"
   ]
  },
  {
   "cell_type": "code",
   "execution_count": null,
   "metadata": {
    "collapsed": true,
    "scrolled": false
   },
   "outputs": [],
   "source": [
    "plot_percentiles(dfs_white, varnames, [BLUE], labels=['white'], alpha=0.1)\n",
    "plot_percentiles(dfs_nonwhite, varnames, [ORANGE], labels=['nonwhite'], alpha=0.1)\n",
    "thinkplot.config(title='Favor gun control, by year of birth', \n",
    "                 xlabel='Year of birth', ylabel='Percent',\n",
    "                 xlim=[1892, 2000], ylim=[40, 100], loc='lower left')\n",
    "\n",
    "thinkplot.SaveFormat('permit_cohort_race', **save_options)"
   ]
  },
  {
   "cell_type": "markdown",
   "metadata": {},
   "source": [
    "## Gun in home"
   ]
  },
  {
   "cell_type": "code",
   "execution_count": null,
   "metadata": {
    "collapsed": true
   },
   "outputs": [],
   "source": [
    "groupvar = 'year'\n",
    "varnames = ['gunhome']"
   ]
  },
  {
   "cell_type": "code",
   "execution_count": null,
   "metadata": {
    "collapsed": true
   },
   "outputs": [],
   "source": [
    "dfs4 = run_data(gss, groupvar, varnames, iters=iters)"
   ]
  },
  {
   "cell_type": "code",
   "execution_count": null,
   "metadata": {
    "collapsed": true
   },
   "outputs": [],
   "source": [
    "colors = [RED]\n",
    "labels = [None]\n",
    "plot_percentiles(dfs4, varnames, colors, labels)\n",
    "thinkplot.config(title='Have gun in home, by year of survey', \n",
    "                 xlabel='Year of survey', ylabel='Percent',\n",
    "                 xlim=[1970, 2017], ylim=[0, 70])\n",
    "\n",
    "thinkplot.SaveFormat('gunhome_year', **save_options)"
   ]
  },
  {
   "cell_type": "code",
   "execution_count": null,
   "metadata": {
    "collapsed": true
   },
   "outputs": [],
   "source": [
    "groupvar = 'cohort5'\n",
    "dfs5 = run_data(gss, groupvar, varnames, iters=iters)"
   ]
  },
  {
   "cell_type": "code",
   "execution_count": null,
   "metadata": {
    "collapsed": true
   },
   "outputs": [],
   "source": [
    "plot_percentiles(dfs5, varnames, colors, labels)\n",
    "thinkplot.config(title='Have gun in home, by year of birth', \n",
    "                 xlabel='Year of birth', ylabel='Percent',\n",
    "                 xlim=[1884, 2000], ylim=[0, 70])\n",
    "\n",
    "thinkplot.SaveFormat('gunhome_cohort', **save_options)"
   ]
  },
  {
   "cell_type": "code",
   "execution_count": null,
   "metadata": {
    "collapsed": true
   },
   "outputs": [],
   "source": [
    "var = 'gunhome'\n",
    "years = np.arange(1972, 2030)\n",
    "\n",
    "dfs6 = run_model(gss, var, varnames, years, iters=iters)"
   ]
  },
  {
   "cell_type": "code",
   "execution_count": null,
   "metadata": {
    "collapsed": true,
    "scrolled": false
   },
   "outputs": [],
   "source": [
    "nolabels= [None]\n",
    "plot_percentiles(dfs6, varnames, colors, nolabels, plot=False)\n",
    "plot_percentiles(dfs4, varnames, colors, labels, fill=False)\n",
    "thinkplot.config(title='Have gun in home, predicted', \n",
    "                 xlabel='Year of survey', ylabel='Percent',\n",
    "                 xlim=[1970, 2032], ylim=[0, 70])\n",
    "\n",
    "thinkplot.SaveFormat('gunhome_pred', **save_options)"
   ]
  },
  {
   "cell_type": "code",
   "execution_count": null,
   "metadata": {
    "collapsed": true
   },
   "outputs": [],
   "source": [
    "heri = pd.read_csv('heri_gun_control.csv')"
   ]
  },
  {
   "cell_type": "code",
   "execution_count": null,
   "metadata": {
    "collapsed": true
   },
   "outputs": [],
   "source": [
    "heri"
   ]
  },
  {
   "cell_type": "code",
   "execution_count": null,
   "metadata": {
    "collapsed": true
   },
   "outputs": [],
   "source": [
    "old = heri[heri.year<2016]\n",
    "new = heri[heri.year>=2016]"
   ]
  },
  {
   "cell_type": "code",
   "execution_count": null,
   "metadata": {
    "collapsed": true
   },
   "outputs": [],
   "source": [
    "thinkplot.plot(old.year, old.agree, color=ORANGE, label='\"Do more to control sale of handguns\"')\n",
    "thinkplot.plot(new.year, new.agree, 's', color=RED, label='\"Should have stricter gun control laws\"')\n",
    "\n",
    "thinkplot.config(title='Favor gun control, CIRP Freshman Survey', \n",
    "                 xlabel='Year of survey', ylabel='Percent',\n",
    "                 xlim=[1987, 2018], ylim=[60, 90], loc='lower left')\n",
    "\n",
    "thinkplot.SaveFormat('control_year_cirp', **save_options)"
   ]
  },
  {
   "cell_type": "markdown",
   "metadata": {},
   "source": [
    "## Age effect"
   ]
  },
  {
   "cell_type": "code",
   "execution_count": null,
   "metadata": {
    "collapsed": true
   },
   "outputs": [],
   "source": [
    "sample.head()"
   ]
  },
  {
   "cell_type": "code",
   "execution_count": null,
   "metadata": {
    "collapsed": true
   },
   "outputs": [],
   "source": [
    "grouped = sample.groupby('cohort10')\n",
    "for name, group in grouped:\n",
    "    print(name, len(group))"
   ]
  },
  {
   "cell_type": "code",
   "execution_count": null,
   "metadata": {
    "collapsed": true
   },
   "outputs": [],
   "source": [
    "cohort = grouped.get_group(1950.0)"
   ]
  },
  {
   "cell_type": "code",
   "execution_count": null,
   "metadata": {
    "collapsed": true
   },
   "outputs": [],
   "source": [
    "def plot_favor_by_age(cohort, **options):\n",
    "    age_groups = cohort.groupby('age3')\n",
    "    series = age_groups.favor.mean() * 100\n",
    "    thinkplot.plot(series.index, series.values, **options)"
   ]
  },
  {
   "cell_type": "code",
   "execution_count": null,
   "metadata": {
    "collapsed": true
   },
   "outputs": [],
   "source": [
    "names = [1940.0, 1950.0, 1960.0, 1970.0, 1980.0, 1990.0]\n",
    "labels = ['40s', '50s', '60s', '70s', '80s', '90s']\n",
    "colors = [RED, ORANGE, YELLOW, GREEN, BLUE, PURPLE]\n",
    "\n",
    "for i, name in enumerate(names):\n",
    "    cohort = grouped.get_group(name)\n",
    "    plot_favor_by_age(cohort, label=labels[i], color=colors[i])\n",
    "    \n",
    "thinkplot.config(title='Favor gun control, grouped by decade of birth', \n",
    "                 xlabel='Age', ylabel='Percent',\n",
    "                 xlim=[15, 80], ylim=[40, 95], loc='lower right')\n",
    "\n",
    "thinkplot.SaveFormat('favor_birth_age', **save_options)"
   ]
  },
  {
   "cell_type": "code",
   "execution_count": null,
   "metadata": {
    "collapsed": true
   },
   "outputs": [],
   "source": [
    "def plot_favor_by_year(cohort, **options):\n",
    "    age_groups = cohort.groupby('year4')\n",
    "    series = age_groups.favor.mean() * 100\n",
    "    thinkplot.plot(series.index, series.values, **options)"
   ]
  },
  {
   "cell_type": "code",
   "execution_count": null,
   "metadata": {
    "collapsed": true
   },
   "outputs": [],
   "source": [
    "for i, name in enumerate(names):\n",
    "    cohort = grouped.get_group(name)\n",
    "    plot_favor_by_year(cohort, label=labels[i], color=colors[i])\n",
    "    \n",
    "thinkplot.config(title='Favor gun control, grouped by decade of birth', \n",
    "                 xlabel='Year of survey', ylabel='Percent',\n",
    "                 xlim=[1970, 2019], ylim=[40, 95], loc='lower left')\n",
    "\n",
    "thinkplot.SaveFormat('favor_birth_year', **save_options)"
   ]
  },
  {
   "cell_type": "code",
   "execution_count": null,
   "metadata": {
    "collapsed": true
   },
   "outputs": [],
   "source": [
    "formula = 'favor ~ a + a2 + c + c2 + C(cohort10)'\n",
    "formula = 'favor ~ a + a2 + c + c2'\n",
    "formula = 'favor ~ a + nineties + eighties + seventies + sixties + fifties + forties + thirties + twenties'\n",
    "\n",
    "model = smf.logit(formula, data=sample).fit()\n",
    "model.summary()"
   ]
  },
  {
   "cell_type": "code",
   "execution_count": null,
   "metadata": {
    "collapsed": true
   },
   "outputs": [],
   "source": [
    "def predict_favor_by_age(model, birth_year):\n",
    "    age = np.linspace(20, 65)\n",
    "    cohort = np.ones_like(age) * birth_year\n",
    "    new = pd.DataFrame(dict(age=age, cohort=cohort))\n",
    "    center_factors(new)\n",
    "    predicted = model_predict(model, new)\n",
    "    return predicted"
   ]
  },
  {
   "cell_type": "code",
   "execution_count": null,
   "metadata": {
    "collapsed": true
   },
   "outputs": [],
   "source": [
    "def plot_predicted_by_age(predicted, **options):\n",
    "    thinkplot.plot(predicted.age, predicted.pred, **options)"
   ]
  },
  {
   "cell_type": "code",
   "execution_count": null,
   "metadata": {
    "collapsed": true
   },
   "outputs": [],
   "source": [
    "name = 1950.0\n",
    "predicted = predict_favor_by_age(model, name)\n",
    "plot_predicted_by_age(predicted, color=RED, linewidth=20, alpha=0.1)\n",
    "\n",
    "cohort = grouped.get_group(name)\n",
    "plot_favor_by_age(cohort, label='50s', color=RED)"
   ]
  },
  {
   "cell_type": "code",
   "execution_count": null,
   "metadata": {
    "collapsed": true
   },
   "outputs": [],
   "source": [
    "for i, name in enumerate(names):\n",
    "    predicted = predict_favor_by_age(model, name)\n",
    "    plot_predicted_by_age(predicted, color=colors[i], linewidth=5, alpha=0.2)\n",
    "    cohort = grouped.get_group(name)\n",
    "    plot_favor_by_age(cohort, label=labels[i], color=colors[i])\n",
    "    \n",
    "thinkplot.config(title='Favor gun control, by age', \n",
    "                 xlabel='Age', ylabel='Percent',\n",
    "                 xlim=[15, 70], ylim=[40, 95], loc='lower right')"
   ]
  },
  {
   "cell_type": "code",
   "execution_count": null,
   "metadata": {
    "collapsed": true
   },
   "outputs": [],
   "source": []
  },
  {
   "cell_type": "code",
   "execution_count": null,
   "metadata": {
    "collapsed": true
   },
   "outputs": [],
   "source": [
    "var = 'favor'\n",
    "years = np.arange(1972, 2030)\n",
    "\n",
    "dfs3 = run_model(gss, var, varnames, years, iters=iters)"
   ]
  },
  {
   "cell_type": "code",
   "execution_count": null,
   "metadata": {
    "collapsed": true,
    "scrolled": false
   },
   "outputs": [],
   "source": [
    "nolabels= [None]\n",
    "plot_percentiles(dfs3, varnames, colors, nolabels, plot=False)\n",
    "plot_percentiles(dfs1, varnames, colors, labels, fill=False)\n",
    "thinkplot.config(title='Favor gun control, predicted', \n",
    "                 xlabel='Year of survey', ylabel='Percent',\n",
    "                 xlim=[1971, 2030], ylim=[50, 90])\n",
    "\n",
    "thinkplot.SaveFormat('permit_pred', **save_options)"
   ]
  },
  {
   "cell_type": "code",
   "execution_count": null,
   "metadata": {
    "collapsed": true
   },
   "outputs": [],
   "source": []
  },
  {
   "cell_type": "code",
   "execution_count": null,
   "metadata": {
    "collapsed": true
   },
   "outputs": [],
   "source": []
  }
 ],
 "metadata": {
  "kernelspec": {
   "display_name": "Python 3",
   "language": "python",
   "name": "python3"
  },
  "language_info": {
   "codemirror_mode": {
    "name": "ipython",
    "version": 3
   },
   "file_extension": ".py",
   "mimetype": "text/x-python",
   "name": "python",
   "nbconvert_exporter": "python",
   "pygments_lexer": "ipython3",
   "version": "3.6.3"
  }
 },
 "nbformat": 4,
 "nbformat_minor": 1
}
